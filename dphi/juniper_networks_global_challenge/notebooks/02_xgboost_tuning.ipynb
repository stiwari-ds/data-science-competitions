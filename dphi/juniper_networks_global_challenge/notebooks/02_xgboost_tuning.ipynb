{
  "nbformat": 4,
  "nbformat_minor": 0,
  "metadata": {
    "colab": {
      "provenance": [],
      "mount_file_id": "1U6GoUUhboeyH9KtI6j5JLQ_kdn2uw7zt",
      "authorship_tag": "ABX9TyPQ7DbwmEP8Lb1Z15w/O7SC",
      "include_colab_link": true
    },
    "kernelspec": {
      "name": "python3",
      "display_name": "Python 3"
    },
    "language_info": {
      "name": "python"
    },
    "accelerator": "GPU"
  },
  "cells": [
    {
      "cell_type": "markdown",
      "metadata": {
        "id": "view-in-github",
        "colab_type": "text"
      },
      "source": [
        "<a href=\"https://colab.research.google.com/github/stiwari-ds/data-science-competitions/blob/main/dphi/juniper_networks_global_challenge/notebooks/02_xgboost_tuning.ipynb\" target=\"_parent\"><img src=\"https://colab.research.google.com/assets/colab-badge.svg\" alt=\"Open In Colab\"/></a>"
      ]
    },
    {
      "cell_type": "markdown",
      "metadata": {
        "id": "_-fu79eWDUie"
      },
      "source": [
        "# Setup"
      ]
    },
    {
      "cell_type": "code",
      "execution_count": 1,
      "metadata": {
        "id": "mSFEu5pbOG8H"
      },
      "outputs": [],
      "source": [
        "%%capture\n",
        "!pip install --upgrade xgboost\n",
        "!pip install --upgrade optuna"
      ]
    },
    {
      "cell_type": "code",
      "execution_count": 49,
      "metadata": {
        "id": "KoJ_nNa9Dixe"
      },
      "outputs": [],
      "source": [
        "import os\n",
        "import gc\n",
        "import time\n",
        "import warnings\n",
        "import subprocess\n",
        "\n",
        "gc.enable()\n",
        "warnings.filterwarnings('ignore')\n",
        "\n",
        "import pandas as pd\n",
        "import numpy as np\n",
        "pd.set_option('precision', 4)\n",
        "np.set_printoptions(precision=4)\n",
        "\n",
        "import xgboost\n",
        "import optuna\n",
        "optuna.logging.set_verbosity(optuna.logging.ERROR)\n",
        "\n",
        "from optuna.samplers import TPESampler\n",
        "from optuna.pruners import HyperbandPruner\n",
        "from optuna.integration import XGBoostPruningCallback\n",
        "from xgboost import XGBRegressor\n",
        "\n",
        "from sklearn.model_selection import KFold\n",
        "from sklearn.metrics import mean_absolute_error\n",
        "\n",
        "SEED = 23\n",
        "os.environ['PYTHONHASHSEED'] = str(SEED)\n",
        "np.random.seed(SEED)"
      ]
    },
    {
      "cell_type": "code",
      "execution_count": 5,
      "metadata": {
        "id": "a22d8gPAi-z3"
      },
      "outputs": [],
      "source": [
        "#remove cell to run future versions\n",
        "assert optuna.__version__ == '3.0.2', f'Change in Optuna version from 2.10.1 to {optuna.__version__}'\n",
        "assert xgboost.__version__ == '1.6.2', f'Change in XGBoost version from 1.6.2 to {xgboost.__version__}'"
      ]
    },
    {
      "cell_type": "code",
      "execution_count": 6,
      "metadata": {
        "colab": {
          "base_uri": "https://localhost:8080/"
        },
        "id": "o52-Sk8fglaM",
        "outputId": "9969183a-f181-4141-8e37-c8ae587d0f16"
      },
      "outputs": [
        {
          "output_type": "stream",
          "name": "stdout",
          "text": [
            "GPU available: True\n"
          ]
        }
      ],
      "source": [
        "#Check GPU availability\n",
        "try:\n",
        "    subprocess.check_output('nvidia-smi')\n",
        "    GPU = True\n",
        "except Exception:\n",
        "    GPU = False\n",
        "\n",
        "print(f'GPU available: {GPU}')"
      ]
    },
    {
      "cell_type": "markdown",
      "source": [
        "# Data"
      ],
      "metadata": {
        "id": "iBy01HjbMqic"
      }
    },
    {
      "cell_type": "code",
      "source": [
        "data_url = 'https://raw.githubusercontent.com/stiwari-ds/data-science-competitions/main/dphi/juniper_networks_global_challenge/data/'\n",
        "\n",
        "train = pd.read_csv(data_url + 'raw/train.csv')\n",
        "test = pd.read_csv(data_url + 'raw/test.csv')"
      ],
      "metadata": {
        "id": "lwn40Cv4MtQo"
      },
      "execution_count": 7,
      "outputs": []
    },
    {
      "cell_type": "code",
      "source": [
        "train['observation_timestamp'] = pd.to_datetime(train['observation_timestamp'])\n",
        "test['observation_timestamp'] = pd.to_datetime(test['observation_timestamp'])\n",
        "\n",
        "train['month'] = train.observation_timestamp.dt.month.astype('int')\n",
        "test['month'] = test.observation_timestamp.dt.month.astype('int')\n",
        "\n",
        "train['day'] = train.observation_timestamp.dt.day.astype('int')\n",
        "test['day'] = test.observation_timestamp.dt.day.astype('int')\n",
        "\n",
        "train['day_of_week'] = train.observation_timestamp.dt.day_of_week.astype('int')\n",
        "test['day_of_week'] = test.observation_timestamp.dt.day_of_week.astype('int')"
      ],
      "metadata": {
        "id": "be08TLNZ1R5A"
      },
      "execution_count": 9,
      "outputs": []
    },
    {
      "cell_type": "code",
      "source": [
        "train['register__payment_types_accepted'] = train['register__payment_types_accepted'].astype('category')\n",
        "test['register__payment_types_accepted'] = test['register__payment_types_accepted'].astype('category')\n",
        "\n",
        "train['store__type_code'] = train['store__type_code'].astype('category')\n",
        "test['store__type_code'] = test['store__type_code'].astype('category')"
      ],
      "metadata": {
        "id": "apZ6CXJhNEfr"
      },
      "execution_count": 10,
      "outputs": []
    },
    {
      "cell_type": "code",
      "source": [
        "train = train.drop(\n",
        "    labels=[\n",
        "        'Unnamed: 0', \n",
        "        'observation_id',\n",
        "        'observation_timestamp',\n",
        "        'region__peak_sales_dollar_amt_per_hour_v2', \n",
        "        'region__peak_returns_dollar_amt_per_hour_v2'\n",
        "    ], \n",
        "    axis=1\n",
        ")\n",
        "\n",
        "test = test.drop(\n",
        "    labels=[\n",
        "        'observation_id',\n",
        "        'observation_timestamp',\n",
        "        'region__peak_sales_dollar_amt_per_hour_v2', \n",
        "        'region__peak_returns_dollar_amt_per_hour_v2'\n",
        "    ], \n",
        "    axis=1\n",
        ")"
      ],
      "metadata": {
        "id": "-d_FOICvMycL"
      },
      "execution_count": 11,
      "outputs": []
    },
    {
      "cell_type": "code",
      "source": [
        "features = list(test.columns)\n",
        "TARGET = 'register__sales_dollar_amt_this_hour'"
      ],
      "metadata": {
        "id": "-V4TQ5taNWy3"
      },
      "execution_count": 21,
      "outputs": []
    },
    {
      "cell_type": "markdown",
      "source": [
        "# Custom metric"
      ],
      "metadata": {
        "id": "gGHqBeoTNZyR"
      }
    },
    {
      "cell_type": "code",
      "source": [
        "def regression_accuracy(y_meas, y_pred, max_error=20, error_type='relative'):\n",
        "    '''Compares predicted & measured values, returning the percentage of predictions\n",
        "       that are within a set error limit. This error limit can be an absolute value\n",
        "       or a relative percentage'''\n",
        "    # OPTION 1: Relative percentage\n",
        "    if ( error_type == 'relative' ):\n",
        "        mask = 100.0 * abs((y_pred - y_meas) / y_meas) < max_error\n",
        "    # OPTION 2: Absolute value\n",
        "    elif ( error_type == 'absolute' ):\n",
        "        mask = abs(y_pred - y_meas) < max_error\n",
        "\n",
        "    accuracy = sum(mask) / len(mask)\n",
        "    return -accuracy # '-' for xgboost eval-metric usage "
      ],
      "metadata": {
        "id": "5qihzQyHNb_r"
      },
      "execution_count": 22,
      "outputs": []
    },
    {
      "cell_type": "markdown",
      "metadata": {
        "id": "oVZEqwhQ2oi2"
      },
      "source": [
        "# Hyperparameter tuning"
      ]
    },
    {
      "cell_type": "code",
      "execution_count": 50,
      "metadata": {
        "id": "i3VeEFRe2oBe"
      },
      "outputs": [],
      "source": [
        "def objective(trial, data, base_params):\n",
        "\n",
        "    scores = []\n",
        "    X, y = data\n",
        "\n",
        "    param_grid = {\n",
        "        'learning_rate': trial.suggest_float('learning_rate', 0.01, 0.1, step=0.005),\n",
        "        'max_depth': trial.suggest_int('max_depth', 3, 15),\n",
        "        'subsample': trial.suggest_float('subsample', 0.5, 1.0, step=0.005),\n",
        "        'colsample_bytree': trial.suggest_float('colsample_bytree', 0.5, 1.0, step=0.005),\n",
        "        'colsample_bylevel': trial.suggest_float('colsample_bylevel', 0.5, 1.0, step=0.005),\n",
        "        'colsample_bynode': trial.suggest_float('colsample_bynode', 0.5, 1.0, step=0.005),\n",
        "        'min_child_weight': trial.suggest_int('min_child_weight', 2, 15),\n",
        "        'gamma': trial.suggest_float('gamma', 0, 20, step=0.005),\n",
        "        'alpha': trial.suggest_float('alpha', 1e-5, 1e3, log=True),\n",
        "        'lambda': trial.suggest_float('lambda', 1e-5, 1e3, log=True)\n",
        "    }\n",
        "\n",
        "    cv = KFold(n_splits=5, shuffle=True, random_state=SEED)\n",
        "    for fold, (train_idx, val_idx) in enumerate(cv.split(X, y)):\n",
        "        X_train, y_train = X.loc[train_idx], y.iloc[train_idx]\n",
        "        X_val, y_val = X.loc[val_idx], y.iloc[val_idx]\n",
        "        model = XGBRegressor(\n",
        "            **base_params, \n",
        "            **param_grid,\n",
        "            callbacks=[XGBoostPruningCallback(\n",
        "                trial=trial, \n",
        "                observation_key='validation_0-regression_accuracy')]\n",
        "        )\n",
        "        model.fit(\n",
        "            X_train, y_train,\n",
        "            eval_set=[(X_val, y_val)],\n",
        "            verbose=0\n",
        "        )\n",
        "        preds = model.predict(X_val)\n",
        "        scores.append(regression_accuracy(y_val, preds))\n",
        "    \n",
        "    return np.mean(scores)"
      ]
    },
    {
      "cell_type": "code",
      "execution_count": 51,
      "metadata": {
        "id": "7JCjxMSuT3Ep"
      },
      "outputs": [],
      "source": [
        "def tune_params(data, base_params, n_trials=10, direction='maximize'):\n",
        "    study = optuna.create_study(\n",
        "        sampler=TPESampler(seed=SEED),\n",
        "        pruner=HyperbandPruner(),\n",
        "        direction=direction\n",
        "    )\n",
        "    \n",
        "    study.optimize(\n",
        "        func=lambda trial: objective(trial, data, base_params),\n",
        "        n_trials=n_trials,\n",
        "        gc_after_trial=True\n",
        "    )\n",
        "    \n",
        "    return study"
      ]
    },
    {
      "cell_type": "markdown",
      "metadata": {
        "id": "0-89LWIEHeTr"
      },
      "source": [
        "# Cross-validation and experiment setup"
      ]
    },
    {
      "cell_type": "code",
      "execution_count": 52,
      "metadata": {
        "id": "OsTtaJBBYryk"
      },
      "outputs": [],
      "source": [
        "def evaluate_model(data, model_params):\n",
        "    \n",
        "    scores_racc = []\n",
        "    scores_mae = []\n",
        "    test_preds = []\n",
        "    \n",
        "    X, X_test, y = data\n",
        "    \n",
        "    cv_start = time.time()\n",
        "    cv = KFold(n_splits=5, shuffle=True, random_state=SEED)\n",
        "    for fold, (train_idx, val_idx) in enumerate(cv.split(X, y)):\n",
        "        X_train, y_train = X.loc[train_idx], y.iloc[train_idx]\n",
        "        X_val, y_val = X.loc[val_idx], y.iloc[val_idx]\n",
        "        \n",
        "        fold_start = time.time()\n",
        "        model = XGBRegressor(**model_params)\n",
        "        model.fit(\n",
        "            X_train, y_train,\n",
        "            eval_set=[(X_val, y_val)],\n",
        "            verbose=0\n",
        "        )\n",
        "        \n",
        "        preds_val = model.predict(X_val)\n",
        "        racc = regression_accuracy(y_val, preds_val)\n",
        "        scores_racc.append(racc)\n",
        "        mae = mean_absolute_error(y_val, preds_val)\n",
        "        scores_mae.append(mae)\n",
        "        test_preds.append(model.predict(test))\n",
        "\n",
        "        fold_end = time.time()\n",
        "        print(f'Fold #{fold}: {model.best_iteration} rounds, ' \\\n",
        "              f'R-Acc = {-racc:.5f}, MAE = {mae:.5f} [Time: {fold_end - fold_start:.2f}s]')\n",
        "        _ = gc.collect()\n",
        "    \n",
        "    cv_end = time.time()\n",
        "    print(f'Average R-Acc = {-np.mean(scores_racc):.5f} +/- {np.std(scores_racc):.5f})')\n",
        "    print(f'Average MAE = {np.mean(scores_mae):.5f} +/- {np.std(scores_mae):.5f})')\n",
        "    print(f'[Total time: {cv_end - cv_start:.2f}s]\\n')\n",
        "    \n",
        "    return test_preds"
      ]
    },
    {
      "cell_type": "code",
      "execution_count": 53,
      "metadata": {
        "id": "I0TOKMzxhRt-"
      },
      "outputs": [],
      "source": [
        "def run_experiment(data, n_trials=5):\n",
        "        \n",
        "    X, X_test, y = data\n",
        "    \n",
        "    base_params = {\n",
        "        'objective': 'reg:squarederror',\n",
        "        'n_estimators': 5000,\n",
        "        'booster': 'gbtree',\n",
        "        'eval_metric': regression_accuracy,\n",
        "        'early_stopping_rounds': 100,\n",
        "        'tree_method': 'gpu_hist' if GPU else 'hist',\n",
        "        'single_precision_histogram': True,\n",
        "        'enable_categorical': GPU,\n",
        "        'predictor': 'gpu_predictor' if GPU else 'cpu_predictor',\n",
        "        'max_cat_to_onehot': 6,\n",
        "        'verbosity': 1,\n",
        "        'seed': SEED\n",
        "    }\n",
        "    \n",
        "    print(f'---------------Hyperparameter tuning---------------')\n",
        "    study = tune_params(\n",
        "        data=(X, y), \n",
        "        base_params=base_params,\n",
        "        n_trials=n_trials,\n",
        "        direction='minimize'\n",
        "    )\n",
        "    print(f'Best trial: {study.best_trial.number} -> Best value(R-Acc): {-study.best_value:.5f}')\n",
        "    print(f'Best hyperparameters:')\n",
        "    for k, v in study.best_params.items():\n",
        "        print(f'{k:20} - {v}')\n",
        "    \n",
        "    model_params = {**base_params, **study.best_params}\n",
        "    print(f'-----------------Cross-validation------------------')\n",
        "    test_preds = evaluate_model(\n",
        "        data=(X, X_test, y), \n",
        "        model_params=model_params\n",
        "    )\n",
        "    return test_preds"
      ]
    },
    {
      "cell_type": "code",
      "source": [
        "%%time\n",
        "test_preds = run_experiment(\n",
        "    data=(train[features], test[features], train[TARGET]),\n",
        "    n_trials=100\n",
        ")"
      ],
      "metadata": {
        "colab": {
          "base_uri": "https://localhost:8080/"
        },
        "id": "uXNU-JPxPy8M",
        "outputId": "e3a31131-714c-42b3-900f-adf828748624"
      },
      "execution_count": 56,
      "outputs": [
        {
          "output_type": "stream",
          "name": "stdout",
          "text": [
            "---------------Hyperparameter tuning---------------\n",
            "Best trial: 32 -> Best value(R-Acc): 0.86933\n",
            "Best hyperparameters:\n",
            "learning_rate        - 0.060000000000000005\n",
            "max_depth            - 13\n",
            "subsample            - 0.675\n",
            "colsample_bytree     - 0.895\n",
            "colsample_bylevel    - 0.825\n",
            "colsample_bynode     - 0.94\n",
            "min_child_weight     - 7\n",
            "gamma                - 3.68\n",
            "alpha                - 5.564504561147535e-05\n",
            "lambda               - 0.28765583798549577\n",
            "-----------------Cross-validation------------------\n",
            "Fold #0: 53 rounds, R-Acc = -0.86957, MAE = 113.20236 [Time: 13.50s]\n",
            "Fold #1: 57 rounds, R-Acc = -0.87578, MAE = 107.85046 [Time: 13.59s]\n",
            "Fold #2: 55 rounds, R-Acc = -0.87007, MAE = 107.91826 [Time: 12.45s]\n",
            "Fold #3: 60 rounds, R-Acc = -0.86386, MAE = 100.09152 [Time: 16.50s]\n",
            "Fold #4: 55 rounds, R-Acc = -0.86737, MAE = 113.52410 [Time: 13.85s]\n",
            "Average R-Acc = -0.86933 +/- 0.00390)\n",
            "Average MAE = 108.51734 +/- 4.87473)\n",
            "[Total time: 70.32s]\n",
            "\n",
            "CPU times: user 21min 48s, sys: 2.91 s, total: 21min 51s\n",
            "Wall time: 21min 38s\n"
          ]
        }
      ]
    },
    {
      "cell_type": "code",
      "source": [
        "preds_df = pd.DataFrame(np.column_stack(test_preds), columns=[f'Fold_{i}' for i in range(5)])\n",
        "preds_df"
      ],
      "metadata": {
        "colab": {
          "base_uri": "https://localhost:8080/",
          "height": 424
        },
        "id": "m5Gc3-dvQKJb",
        "outputId": "e8882ee6-6b03-4d7d-b0da-1cf0d14683d7"
      },
      "execution_count": 57,
      "outputs": [
        {
          "output_type": "execute_result",
          "data": {
            "text/plain": [
              "         Fold_0     Fold_1     Fold_2     Fold_3     Fold_4\n",
              "0     1736.8906  1676.6162  1774.8201  1900.4858  1901.8218\n",
              "1      352.7858   352.6450   354.3098   359.2663   350.5804\n",
              "2     1363.9362  1379.5603  1372.1263  1387.1006  1374.2811\n",
              "3      264.2657   252.8107   265.6532   322.8358   248.8179\n",
              "4      351.0677   348.2773   349.5119   357.1149   352.2020\n",
              "...         ...        ...        ...        ...        ...\n",
              "5174  1128.5756  1107.4653  1108.8182  1197.4265  1237.0811\n",
              "5175  1156.4762  1218.5205  1300.7046  1254.5220  1207.7023\n",
              "5176   791.9690   799.4627   849.9474   992.3860   846.3983\n",
              "5177   935.3799   977.1608   942.6738  1077.2567  1089.2401\n",
              "5178   985.5201   971.9915   962.9670  1128.6670  1026.2770\n",
              "\n",
              "[5179 rows x 5 columns]"
            ],
            "text/html": [
              "\n",
              "  <div id=\"df-79ae7f37-f21a-4dd3-ad3d-be43a7312087\">\n",
              "    <div class=\"colab-df-container\">\n",
              "      <div>\n",
              "<style scoped>\n",
              "    .dataframe tbody tr th:only-of-type {\n",
              "        vertical-align: middle;\n",
              "    }\n",
              "\n",
              "    .dataframe tbody tr th {\n",
              "        vertical-align: top;\n",
              "    }\n",
              "\n",
              "    .dataframe thead th {\n",
              "        text-align: right;\n",
              "    }\n",
              "</style>\n",
              "<table border=\"1\" class=\"dataframe\">\n",
              "  <thead>\n",
              "    <tr style=\"text-align: right;\">\n",
              "      <th></th>\n",
              "      <th>Fold_0</th>\n",
              "      <th>Fold_1</th>\n",
              "      <th>Fold_2</th>\n",
              "      <th>Fold_3</th>\n",
              "      <th>Fold_4</th>\n",
              "    </tr>\n",
              "  </thead>\n",
              "  <tbody>\n",
              "    <tr>\n",
              "      <th>0</th>\n",
              "      <td>1736.8906</td>\n",
              "      <td>1676.6162</td>\n",
              "      <td>1774.8201</td>\n",
              "      <td>1900.4858</td>\n",
              "      <td>1901.8218</td>\n",
              "    </tr>\n",
              "    <tr>\n",
              "      <th>1</th>\n",
              "      <td>352.7858</td>\n",
              "      <td>352.6450</td>\n",
              "      <td>354.3098</td>\n",
              "      <td>359.2663</td>\n",
              "      <td>350.5804</td>\n",
              "    </tr>\n",
              "    <tr>\n",
              "      <th>2</th>\n",
              "      <td>1363.9362</td>\n",
              "      <td>1379.5603</td>\n",
              "      <td>1372.1263</td>\n",
              "      <td>1387.1006</td>\n",
              "      <td>1374.2811</td>\n",
              "    </tr>\n",
              "    <tr>\n",
              "      <th>3</th>\n",
              "      <td>264.2657</td>\n",
              "      <td>252.8107</td>\n",
              "      <td>265.6532</td>\n",
              "      <td>322.8358</td>\n",
              "      <td>248.8179</td>\n",
              "    </tr>\n",
              "    <tr>\n",
              "      <th>4</th>\n",
              "      <td>351.0677</td>\n",
              "      <td>348.2773</td>\n",
              "      <td>349.5119</td>\n",
              "      <td>357.1149</td>\n",
              "      <td>352.2020</td>\n",
              "    </tr>\n",
              "    <tr>\n",
              "      <th>...</th>\n",
              "      <td>...</td>\n",
              "      <td>...</td>\n",
              "      <td>...</td>\n",
              "      <td>...</td>\n",
              "      <td>...</td>\n",
              "    </tr>\n",
              "    <tr>\n",
              "      <th>5174</th>\n",
              "      <td>1128.5756</td>\n",
              "      <td>1107.4653</td>\n",
              "      <td>1108.8182</td>\n",
              "      <td>1197.4265</td>\n",
              "      <td>1237.0811</td>\n",
              "    </tr>\n",
              "    <tr>\n",
              "      <th>5175</th>\n",
              "      <td>1156.4762</td>\n",
              "      <td>1218.5205</td>\n",
              "      <td>1300.7046</td>\n",
              "      <td>1254.5220</td>\n",
              "      <td>1207.7023</td>\n",
              "    </tr>\n",
              "    <tr>\n",
              "      <th>5176</th>\n",
              "      <td>791.9690</td>\n",
              "      <td>799.4627</td>\n",
              "      <td>849.9474</td>\n",
              "      <td>992.3860</td>\n",
              "      <td>846.3983</td>\n",
              "    </tr>\n",
              "    <tr>\n",
              "      <th>5177</th>\n",
              "      <td>935.3799</td>\n",
              "      <td>977.1608</td>\n",
              "      <td>942.6738</td>\n",
              "      <td>1077.2567</td>\n",
              "      <td>1089.2401</td>\n",
              "    </tr>\n",
              "    <tr>\n",
              "      <th>5178</th>\n",
              "      <td>985.5201</td>\n",
              "      <td>971.9915</td>\n",
              "      <td>962.9670</td>\n",
              "      <td>1128.6670</td>\n",
              "      <td>1026.2770</td>\n",
              "    </tr>\n",
              "  </tbody>\n",
              "</table>\n",
              "<p>5179 rows × 5 columns</p>\n",
              "</div>\n",
              "      <button class=\"colab-df-convert\" onclick=\"convertToInteractive('df-79ae7f37-f21a-4dd3-ad3d-be43a7312087')\"\n",
              "              title=\"Convert this dataframe to an interactive table.\"\n",
              "              style=\"display:none;\">\n",
              "        \n",
              "  <svg xmlns=\"http://www.w3.org/2000/svg\" height=\"24px\"viewBox=\"0 0 24 24\"\n",
              "       width=\"24px\">\n",
              "    <path d=\"M0 0h24v24H0V0z\" fill=\"none\"/>\n",
              "    <path d=\"M18.56 5.44l.94 2.06.94-2.06 2.06-.94-2.06-.94-.94-2.06-.94 2.06-2.06.94zm-11 1L8.5 8.5l.94-2.06 2.06-.94-2.06-.94L8.5 2.5l-.94 2.06-2.06.94zm10 10l.94 2.06.94-2.06 2.06-.94-2.06-.94-.94-2.06-.94 2.06-2.06.94z\"/><path d=\"M17.41 7.96l-1.37-1.37c-.4-.4-.92-.59-1.43-.59-.52 0-1.04.2-1.43.59L10.3 9.45l-7.72 7.72c-.78.78-.78 2.05 0 2.83L4 21.41c.39.39.9.59 1.41.59.51 0 1.02-.2 1.41-.59l7.78-7.78 2.81-2.81c.8-.78.8-2.07 0-2.86zM5.41 20L4 18.59l7.72-7.72 1.47 1.35L5.41 20z\"/>\n",
              "  </svg>\n",
              "      </button>\n",
              "      \n",
              "  <style>\n",
              "    .colab-df-container {\n",
              "      display:flex;\n",
              "      flex-wrap:wrap;\n",
              "      gap: 12px;\n",
              "    }\n",
              "\n",
              "    .colab-df-convert {\n",
              "      background-color: #E8F0FE;\n",
              "      border: none;\n",
              "      border-radius: 50%;\n",
              "      cursor: pointer;\n",
              "      display: none;\n",
              "      fill: #1967D2;\n",
              "      height: 32px;\n",
              "      padding: 0 0 0 0;\n",
              "      width: 32px;\n",
              "    }\n",
              "\n",
              "    .colab-df-convert:hover {\n",
              "      background-color: #E2EBFA;\n",
              "      box-shadow: 0px 1px 2px rgba(60, 64, 67, 0.3), 0px 1px 3px 1px rgba(60, 64, 67, 0.15);\n",
              "      fill: #174EA6;\n",
              "    }\n",
              "\n",
              "    [theme=dark] .colab-df-convert {\n",
              "      background-color: #3B4455;\n",
              "      fill: #D2E3FC;\n",
              "    }\n",
              "\n",
              "    [theme=dark] .colab-df-convert:hover {\n",
              "      background-color: #434B5C;\n",
              "      box-shadow: 0px 1px 3px 1px rgba(0, 0, 0, 0.15);\n",
              "      filter: drop-shadow(0px 1px 2px rgba(0, 0, 0, 0.3));\n",
              "      fill: #FFFFFF;\n",
              "    }\n",
              "  </style>\n",
              "\n",
              "      <script>\n",
              "        const buttonEl =\n",
              "          document.querySelector('#df-79ae7f37-f21a-4dd3-ad3d-be43a7312087 button.colab-df-convert');\n",
              "        buttonEl.style.display =\n",
              "          google.colab.kernel.accessAllowed ? 'block' : 'none';\n",
              "\n",
              "        async function convertToInteractive(key) {\n",
              "          const element = document.querySelector('#df-79ae7f37-f21a-4dd3-ad3d-be43a7312087');\n",
              "          const dataTable =\n",
              "            await google.colab.kernel.invokeFunction('convertToInteractive',\n",
              "                                                     [key], {});\n",
              "          if (!dataTable) return;\n",
              "\n",
              "          const docLinkHtml = 'Like what you see? Visit the ' +\n",
              "            '<a target=\"_blank\" href=https://colab.research.google.com/notebooks/data_table.ipynb>data table notebook</a>'\n",
              "            + ' to learn more about interactive tables.';\n",
              "          element.innerHTML = '';\n",
              "          dataTable['output_type'] = 'display_data';\n",
              "          await google.colab.output.renderOutput(dataTable, element);\n",
              "          const docLink = document.createElement('div');\n",
              "          docLink.innerHTML = docLinkHtml;\n",
              "          element.appendChild(docLink);\n",
              "        }\n",
              "      </script>\n",
              "    </div>\n",
              "  </div>\n",
              "  "
            ]
          },
          "metadata": {},
          "execution_count": 57
        }
      ]
    },
    {
      "cell_type": "code",
      "source": [
        "sub_1 = pd.DataFrame({'prediction': preds_df['Fold_1']})\n",
        "sub_1.to_csv('02_sub_1.csv', index=False)"
      ],
      "metadata": {
        "id": "YI2QkdIolyKT"
      },
      "execution_count": 58,
      "outputs": []
    },
    {
      "cell_type": "code",
      "source": [
        "avg_preds = np.mean(np.column_stack(test_preds), axis=1)\n",
        "sub_avg = pd.DataFrame({'prediction': avg_preds})\n",
        "sub_avg.to_csv('02_sub_avg.csv', index=False)"
      ],
      "metadata": {
        "id": "Rjwn3U4OkbkK"
      },
      "execution_count": 59,
      "outputs": []
    }
  ]
}