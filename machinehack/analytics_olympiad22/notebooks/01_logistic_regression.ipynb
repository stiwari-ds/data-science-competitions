{
  "nbformat": 4,
  "nbformat_minor": 0,
  "metadata": {
    "colab": {
      "provenance": [],
      "authorship_tag": "ABX9TyMQdpwyysWOh4r6EtaUG2O2",
      "include_colab_link": true
    },
    "kernelspec": {
      "name": "python3",
      "display_name": "Python 3"
    },
    "language_info": {
      "name": "python"
    }
  },
  "cells": [
    {
      "cell_type": "markdown",
      "metadata": {
        "id": "view-in-github",
        "colab_type": "text"
      },
      "source": [
        "<a href=\"https://colab.research.google.com/github/stiwari-ds/data-science-competitions/blob/main/machinehack/analytics_olympiad22/notebooks/01_logistic_regression.ipynb\" target=\"_parent\"><img src=\"https://colab.research.google.com/assets/colab-badge.svg\" alt=\"Open In Colab\"/></a>"
      ]
    },
    {
      "cell_type": "markdown",
      "source": [
        "# Setup"
      ],
      "metadata": {
        "id": "vhi-98vAABKW"
      }
    },
    {
      "cell_type": "markdown",
      "source": [
        "**Utils**"
      ],
      "metadata": {
        "id": "t-cwqBltOeTi"
      }
    },
    {
      "cell_type": "code",
      "execution_count": 1,
      "metadata": {
        "id": "dVtBwGbhNZUq"
      },
      "outputs": [],
      "source": [
        "import gc\n",
        "import os\n",
        "import time\n",
        "import warnings\n",
        "\n",
        "gc.enable()\n",
        "warnings.filterwarnings(action='ignore')"
      ]
    },
    {
      "cell_type": "markdown",
      "source": [
        "**Data analysis**"
      ],
      "metadata": {
        "id": "nP-boDFnPj3N"
      }
    },
    {
      "cell_type": "code",
      "source": [
        "import numpy as np\n",
        "import pandas as pd\n",
        "\n",
        "pd.set_option('display.max_columns', None)\n",
        "pd.set_option('display.precision', 4)"
      ],
      "metadata": {
        "id": "1iutsLxoNus-"
      },
      "execution_count": 2,
      "outputs": []
    },
    {
      "cell_type": "markdown",
      "source": [
        "**Modeling**"
      ],
      "metadata": {
        "id": "t0tFRRoDQcwM"
      }
    },
    {
      "cell_type": "code",
      "source": [
        "%%capture\n",
        "!pip install -U optuna"
      ],
      "metadata": {
        "id": "owX6mTdCkI0B"
      },
      "execution_count": 3,
      "outputs": []
    },
    {
      "cell_type": "code",
      "source": [
        "import optuna\n",
        "from optuna.samplers import TPESampler\n",
        "from optuna.pruners import HyperbandPruner\n",
        "\n",
        "optuna.__version__"
      ],
      "metadata": {
        "colab": {
          "base_uri": "https://localhost:8080/",
          "height": 35
        },
        "id": "-rzibEtEkPpV",
        "outputId": "209d24c3-ba34-47bd-bf3b-f0dfa20e7e81"
      },
      "execution_count": 4,
      "outputs": [
        {
          "output_type": "execute_result",
          "data": {
            "text/plain": [
              "'3.0.3'"
            ],
            "application/vnd.google.colaboratory.intrinsic+json": {
              "type": "string"
            }
          },
          "metadata": {},
          "execution_count": 4
        }
      ]
    },
    {
      "cell_type": "code",
      "source": [
        "from sklearn.model_selection import StratifiedKFold\n",
        "from sklearn.preprocessing import OneHotEncoder, MinMaxScaler\n",
        "from sklearn.compose import ColumnTransformer, make_column_selector\n",
        "from sklearn.linear_model import LogisticRegression\n",
        "from sklearn.pipeline import Pipeline\n",
        "from sklearn.calibration import CalibratedClassifierCV\n",
        "from sklearn.metrics import log_loss, brier_score_loss"
      ],
      "metadata": {
        "id": "3QpkZk5jQez1"
      },
      "execution_count": 5,
      "outputs": []
    },
    {
      "cell_type": "markdown",
      "source": [
        "**Reproducibility**"
      ],
      "metadata": {
        "id": "xrO0ym1naPp1"
      }
    },
    {
      "cell_type": "code",
      "source": [
        "SEED = 2311\n",
        "os.environ['PYTHONHASHSEED'] = str(SEED)\n",
        "np.random.seed(SEED)"
      ],
      "metadata": {
        "id": "woXntOnxaSh-"
      },
      "execution_count": 6,
      "outputs": []
    },
    {
      "cell_type": "markdown",
      "source": [
        "**Data**"
      ],
      "metadata": {
        "id": "IdrkOj8waIdx"
      }
    },
    {
      "cell_type": "code",
      "source": [
        "DATA_URL = 'https://raw.githubusercontent.com/stiwari-ds/data-science-competitions/main/machinehack/analytics_olympiad22/data'\n",
        "\n",
        "train_full = pd.read_csv(f'{DATA_URL}/processed/train_proc.csv')\n",
        "train_clip = pd.read_csv(f'{DATA_URL}/processed/train_clip.csv')\n",
        "test = pd.read_csv(f'{DATA_URL}/processed/test_proc.csv')\n",
        "sample_sub = pd.read_csv(f'{DATA_URL}/raw/submission.csv')"
      ],
      "metadata": {
        "id": "ZHFqgGFSaMM5"
      },
      "execution_count": 7,
      "outputs": []
    },
    {
      "cell_type": "code",
      "source": [
        "TARGET = 'OUTCOME'"
      ],
      "metadata": {
        "id": "DgmNSET-IB49"
      },
      "execution_count": 8,
      "outputs": []
    },
    {
      "cell_type": "code",
      "source": [
        "features = [f for f in test.columns \n",
        "            if f not in ('ID', 'POSTAL_CODE', 'ANNUAL_MILEAGE')]\n",
        "\n",
        "num_features = ['ID_COUNT', 'CREDIT_SCORE', 'ANNUAL_MILEAGE_K', 'DUIS', \n",
        "                'SPEEDING_VIOLATIONS', 'PAST_ACCIDENTS', 'TOTAL_PAST_INCIDENTS']\n",
        "\n",
        "cat_features = [f for f in features if f not in num_features]\n",
        "\n",
        "#all other nominal cat features are binary, hence no need for one-hot encoding\n",
        "one_hot_features = ['TYPE_OF_VEHICLE', 'POSTAL_CODE_REGION']"
      ],
      "metadata": {
        "id": "yKL2IhrA2VnM"
      },
      "execution_count": 9,
      "outputs": []
    },
    {
      "cell_type": "code",
      "source": [
        "train_full[cat_features] = train_full[cat_features].astype('int8')\n",
        "train_clip[cat_features] = train_clip[cat_features].astype('int8')\n",
        "test[cat_features] = test[cat_features].astype('int8')\n",
        "#separate datatypes for make_column_selector\n",
        "train_full[one_hot_features] = train_full[one_hot_features].astype('category')\n",
        "train_clip[one_hot_features] = train_clip[one_hot_features].astype('category')\n",
        "test[one_hot_features] = test[one_hot_features].astype('category')"
      ],
      "metadata": {
        "id": "ijTShF4Q2wKN"
      },
      "execution_count": 10,
      "outputs": []
    },
    {
      "cell_type": "code",
      "source": [
        "original_features = ['AGE', 'GENDER', 'DRIVING_EXPERIENCE', 'EDUCATION', 'INCOME', \n",
        "                     'CREDIT_SCORE', 'VEHICLE_OWNERSHIP', 'VEHICLE_YEAR', 'MARRIED', \n",
        "                     'CHILDREN', 'POSTAL_CODE_SUBREGION', 'ANNUAL_MILEAGE_K', \n",
        "                     'SPEEDING_VIOLATIONS', 'DUIS', 'PAST_ACCIDENTS', 'TYPE_OF_VEHICLE']\n",
        "\n",
        "cat_only_features = ['AGE', 'GENDER', 'DRIVING_EXPERIENCE', 'EDUCATION', 'INCOME', \n",
        "                     'VEHICLE_OWNERSHIP', 'VEHICLE_YEAR', 'MARRIED', 'CHILDREN', \n",
        "                     'TYPE_OF_VEHICLE', 'IS_ID_REPEATED', 'CREDIT_SCORE_BINS', \n",
        "                     'POSTAL_CODE_REGION', 'ANNUAL_MILEAGE_RANGE', 'HAS_PRIOR_DUIS', \n",
        "                     'HAS_PRIOR_SPEEDING_VIOLATIONS', 'HAS_PAST_ACCIDENTS',\n",
        "                     'HAS_PAST_INCIDENTS']\n",
        "\n",
        "#based on F-test and Chi2-test\n",
        "reduced_features = ['GENDER', 'DRIVING_EXPERIENCE', 'POSTAL_CODE_SUBREGION']\n",
        "\n",
        "#based on mutual information score\n",
        "mi_features = ['AGE', 'GENDER', 'DRIVING_EXPERIENCE', 'EDUCATION', 'INCOME', \n",
        "               'VEHICLE_OWNERSHIP', 'VEHICLE_YEAR', 'MARRIED', 'CHILDREN', \n",
        "               'TYPE_OF_VEHICLE', 'ID_COUNT', 'CREDIT_SCORE_BINS', 'POSTAL_CODE_REGION', \n",
        "               'POSTAL_CODE_SUBREGION', 'ANNUAL_MILEAGE_RANGE', 'TOTAL_PAST_INCIDENTS', \n",
        "               'HAS_PAST_INCIDENTS']"
      ],
      "metadata": {
        "id": "gTmm9UDA5qPb"
      },
      "execution_count": 19,
      "outputs": []
    },
    {
      "cell_type": "markdown",
      "source": [
        "# Modeling"
      ],
      "metadata": {
        "id": "rldqCe-S5s-H"
      }
    },
    {
      "cell_type": "code",
      "source": [
        "NUM_FOLDS = 5"
      ],
      "metadata": {
        "id": "iZx4QdPFKYy1"
      },
      "execution_count": 20,
      "outputs": []
    },
    {
      "cell_type": "code",
      "source": [
        "def objective(trial, data, preprocessor, base_params):\n",
        "    scores = []\n",
        "    X, y = data\n",
        "    \n",
        "    param_grid = {\n",
        "        'penalty': trial.suggest_categorical(\n",
        "            'penalty', ['l1', 'l2', 'elasticnet', 'none']\n",
        "        ),\n",
        "        'C': trial.suggest_float('C', 1e-4, 1e4, log=True),\n",
        "        'intercept_scaling': trial.suggest_float(\n",
        "            'intercept_scaling', 0.1, 10, step=0.1\n",
        "        ),\n",
        "        'class_weight': trial.suggest_categorical(\n",
        "            'class_weight', ['balanced', None]\n",
        "        )\n",
        "    }\n",
        "    if param_grid['penalty'] == 'elasticnet':\n",
        "        param_grid['l1_ratio'] = trial.suggest_float(\n",
        "            'l1_ratio', 0.05, 0.95, step=0.05\n",
        "        )\n",
        "\n",
        "    model = Pipeline([\n",
        "        ('preprocessor', preprocessor),\n",
        "        ('classifier', LogisticRegression(**base_params, **param_grid))\n",
        "    ])\n",
        "\n",
        "    cv = StratifiedKFold(n_splits=NUM_FOLDS, shuffle=True, random_state=SEED)\n",
        "    for fold, (train_idx, val_idx) in enumerate(cv.split(X, y)):\n",
        "        X_train, y_train = X.loc[train_idx], y.iloc[train_idx]\n",
        "        X_val, y_val = X.loc[val_idx], y.iloc[val_idx]    \n",
        "        model.fit(X_train, y_train)\n",
        "        val_probs = model.predict_proba(X_val)[:, 1]\n",
        "        scores.append(log_loss(y_val, val_probs))\n",
        "    \n",
        "    return np.mean(scores)"
      ],
      "metadata": {
        "id": "oxG6uZ-_D2-K"
      },
      "execution_count": 21,
      "outputs": []
    },
    {
      "cell_type": "code",
      "source": [
        "def tune_params(data, preprocessor, base_params, n_trials, direction):\n",
        "    study = optuna.create_study(\n",
        "        sampler=TPESampler(seed=SEED),\n",
        "        pruner=HyperbandPruner(),\n",
        "        direction=direction\n",
        "    )\n",
        "    study.optimize(\n",
        "        func=lambda trial: objective(trial, data, preprocessor, base_params),\n",
        "        n_trials=n_trials,\n",
        "        gc_after_trial=True\n",
        "    )\n",
        "    return study"
      ],
      "metadata": {
        "id": "kq37W6ZVzrIz"
      },
      "execution_count": 22,
      "outputs": []
    },
    {
      "cell_type": "code",
      "source": [
        "def cross_validate_predict(model, data):\n",
        "    oof_probs = {}  #out-of-fold predicted probabilities on train set\n",
        "    test_probs = {} #predicted probabilities on test set for each fold\n",
        "    scores = [] #scores on validation set\n",
        "    \n",
        "    X, y, X_test = data\n",
        "    \n",
        "    cv = StratifiedKFold(n_splits=NUM_FOLDS, shuffle=True, random_state=SEED)\n",
        "    for fold, (train_idx, val_idx) in enumerate(cv.split(X, y)):\n",
        "        X_train, y_train = X.loc[train_idx], y.iloc[train_idx]\n",
        "        X_val, y_val = X.loc[val_idx], y.iloc[val_idx]\n",
        "        \n",
        "        model.fit(X_train, y_train)\n",
        "        val_probs = model.predict_proba(X_val)[:, 1]\n",
        "        oof_probs.update(dict(zip(val_idx, val_probs)))\n",
        "        test_probs[f'fold{fold}'] = model.predict_proba(X_test)[:, 1]\n",
        "\n",
        "        score = log_loss(y_val, val_probs)\n",
        "        scores.append(score)\n",
        "        print(f'Fold #{fold}: {score:.6f}')\n",
        "        _ = gc.collect()\n",
        "    print(f'Avg = {np.mean(scores):.6f} +/- {np.std(scores):.6f}\\n')\n",
        "    \n",
        "    oof_probs = pd.Series(oof_probs).sort_index()\n",
        "    test_probs = pd.DataFrame.from_dict(test_probs)\n",
        "    test_probs['mean'] = test_probs.mean(axis=1)\n",
        "\n",
        "    return oof_probs, test_probs"
      ],
      "metadata": {
        "id": "lS2_fg2nEEWZ"
      },
      "execution_count": 28,
      "outputs": []
    },
    {
      "cell_type": "code",
      "source": [
        "def run_experiment(data, n_trials=5):\n",
        "    \n",
        "    X, y, X_test = data\n",
        "\n",
        "    base_params = {\n",
        "        'max_iter': 10000,\n",
        "        'solver': 'saga',\n",
        "        'dual': False,\n",
        "        'tol': 2e-4,\n",
        "        'fit_intercept': True,\n",
        "        'n_jobs': -1,\n",
        "        'random_state': SEED\n",
        "    }\n",
        "\n",
        "    ohe = OneHotEncoder(drop='if_binary', handle_unknown='ignore')\n",
        "    minmax = MinMaxScaler(feature_range=(0, 1))\n",
        "    preprocessor = ColumnTransformer(\n",
        "        transformers=[\n",
        "            ('nominal_cat', ohe, make_column_selector(dtype_include='category')),\n",
        "            ('numerical', minmax, make_column_selector(dtype_exclude='category'))\n",
        "        ], \n",
        "        remainder='passthrough', \n",
        "        n_jobs=-1\n",
        "    )\n",
        "\n",
        "    print(f'----------Hyperparameter tuning----------')\n",
        "    start = time.time()\n",
        "    study = tune_params(\n",
        "        data=(X, y), \n",
        "        preprocessor=preprocessor, \n",
        "        base_params=base_params, \n",
        "        n_trials=n_trials, \n",
        "        direction='minimize', #metric is logloss -> lower is better\n",
        "    )\n",
        "    end = time.time()\n",
        "    print(f'Best trial: {study.best_trial.number} -> ' \\\n",
        "          f'Best value: {study.best_value:.6f}')\n",
        "    print(f'Best hyperparameters:')\n",
        "    for k, v in study.best_params.items():\n",
        "        print(f'{k:15} - {v}')\n",
        "    print(f'[Time taken: {end - start:.2f}s]')\n",
        "\n",
        "    print(f'-----Cross-validation and prediction-----')\n",
        "    start = time.time()\n",
        "    model = Pipeline([\n",
        "        ('preprocessor', preprocessor),\n",
        "        ('classifier', LogisticRegression(**base_params, **study.best_params))\n",
        "    ])\n",
        "    oof_preds, test_preds = cross_validate_predict(model, data)\n",
        "    end = time.time()\n",
        "    print(f'[Time taken: {end - start:.2f}s]\\n')\n",
        "\n",
        "    return oof_preds, test_preds"
      ],
      "metadata": {
        "id": "dMBJXdGCz0uM"
      },
      "execution_count": 29,
      "outputs": []
    },
    {
      "cell_type": "markdown",
      "source": [
        "### Trial run"
      ],
      "metadata": {
        "id": "mYCj8JFXHgoD"
      }
    },
    {
      "cell_type": "code",
      "source": [
        "%%time\n",
        "optuna.logging.set_verbosity(optuna.logging.INFO)\n",
        "op, tp = run_experiment(\n",
        "    data=(train_full[original_features], train_full[TARGET], test[original_features]),\n",
        "    n_trials=3\n",
        ")"
      ],
      "metadata": {
        "colab": {
          "base_uri": "https://localhost:8080/"
        },
        "id": "XMBeUzM5HkAW",
        "outputId": "64a34d79-ce38-4aad-f535-1c8c9b5c0c7f"
      },
      "execution_count": 30,
      "outputs": [
        {
          "output_type": "stream",
          "name": "stderr",
          "text": [
            "\u001b[32m[I 2022-11-04 05:59:02,052]\u001b[0m A new study created in memory with name: no-name-2ae69b84-978e-4dbd-bac5-46c0406a0df7\u001b[0m\n"
          ]
        },
        {
          "output_type": "stream",
          "name": "stdout",
          "text": [
            "----------Hyperparameter tuning----------\n"
          ]
        },
        {
          "output_type": "stream",
          "name": "stderr",
          "text": [
            "\u001b[32m[I 2022-11-04 05:59:10,584]\u001b[0m Trial 0 finished with value: 0.681043691278779 and parameters: {'penalty': 'l2', 'C': 0.00025643698116528354, 'intercept_scaling': 7.1, 'class_weight': None}. Best is trial 0 with value: 0.681043691278779.\u001b[0m\n",
            "\u001b[32m[I 2022-11-04 05:59:15,903]\u001b[0m Trial 1 finished with value: 0.693095141072452 and parameters: {'penalty': 'l1', 'C': 0.0015649840907716501, 'intercept_scaling': 8.3, 'class_weight': 'balanced'}. Best is trial 0 with value: 0.681043691278779.\u001b[0m\n",
            "\u001b[32m[I 2022-11-04 05:59:39,869]\u001b[0m Trial 2 finished with value: 0.6931120958690793 and parameters: {'penalty': 'l2', 'C': 2.403161227248477, 'intercept_scaling': 7.7, 'class_weight': 'balanced'}. Best is trial 0 with value: 0.681043691278779.\u001b[0m\n"
          ]
        },
        {
          "output_type": "stream",
          "name": "stdout",
          "text": [
            "Best trial: 0 -> Best value: 0.681044\n",
            "Best hyperparameters:\n",
            "penalty         - l2\n",
            "C               - 0.00025643698116528354\n",
            "intercept_scaling - 7.1\n",
            "class_weight    - None\n",
            "[Time taken: 37.94s]\n",
            "-----Cross-validation and prediction-----\n",
            "Fold #0: 0.681017\n",
            "Fold #1: 0.681012\n",
            "Fold #2: 0.681094\n",
            "Fold #3: 0.681043\n",
            "Fold #4: 0.681052\n",
            "Avg = 0.681044 +/- 0.000030\n",
            "\n",
            "[Time taken: 9.92s]\n",
            "\n",
            "CPU times: user 42.2 s, sys: 3.03 s, total: 45.2 s\n",
            "Wall time: 47.9 s\n"
          ]
        }
      ]
    },
    {
      "cell_type": "code",
      "source": [
        "optuna.logging.set_verbosity(optuna.logging.ERROR)"
      ],
      "metadata": {
        "id": "FaWBqUuHK6QN"
      },
      "execution_count": 31,
      "outputs": []
    },
    {
      "cell_type": "code",
      "source": [
        "%%time\n",
        "op1, tp1 = run_experiment(\n",
        "    data=(train_full[original_features], train_full[TARGET], test[original_features]),\n",
        "    n_trials=100\n",
        ")"
      ],
      "metadata": {
        "colab": {
          "base_uri": "https://localhost:8080/"
        },
        "id": "tVXmcQmfMFws",
        "outputId": "b4470c86-8cf7-41ae-aa98-8001c2ce5fe3"
      },
      "execution_count": 32,
      "outputs": [
        {
          "output_type": "stream",
          "name": "stdout",
          "text": [
            "----------Hyperparameter tuning----------\n",
            "Best trial: 51 -> Best value: 0.681040\n",
            "Best hyperparameters:\n",
            "penalty         - l2\n",
            "C               - 0.0004364976239962741\n",
            "intercept_scaling - 9.1\n",
            "class_weight    - None\n",
            "[Time taken: 1729.18s]\n",
            "-----Cross-validation and prediction-----\n",
            "Fold #0: 0.681005\n",
            "Fold #1: 0.681001\n",
            "Fold #2: 0.681102\n",
            "Fold #3: 0.681038\n",
            "Fold #4: 0.681053\n",
            "Avg = 0.681040 +/- 0.000037\n",
            "\n",
            "[Time taken: 9.82s]\n",
            "\n",
            "CPU times: user 26min 51s, sys: 1min 3s, total: 27min 54s\n",
            "Wall time: 28min 59s\n"
          ]
        }
      ]
    },
    {
      "cell_type": "code",
      "source": [
        "%%time\n",
        "op2, tp2 = run_experiment(\n",
        "    data=(train_clip[original_features], train_clip[TARGET], test[original_features]),\n",
        "    n_trials=100\n",
        ")"
      ],
      "metadata": {
        "colab": {
          "base_uri": "https://localhost:8080/"
        },
        "id": "UnyM2deiMuFU",
        "outputId": "e9a54b0a-dfdf-4543-f854-6f36a976d67a"
      },
      "execution_count": 33,
      "outputs": [
        {
          "output_type": "stream",
          "name": "stdout",
          "text": [
            "----------Hyperparameter tuning----------\n",
            "Best trial: 41 -> Best value: 0.681025\n",
            "Best hyperparameters:\n",
            "penalty         - l2\n",
            "C               - 0.00040039930745587354\n",
            "intercept_scaling - 8.3\n",
            "class_weight    - None\n",
            "[Time taken: 1742.28s]\n",
            "-----Cross-validation and prediction-----\n",
            "Fold #0: 0.680971\n",
            "Fold #1: 0.681060\n",
            "Fold #2: 0.681082\n",
            "Fold #3: 0.681091\n",
            "Fold #4: 0.680923\n",
            "Avg = 0.681025 +/- 0.000067\n",
            "\n",
            "[Time taken: 8.81s]\n",
            "\n",
            "CPU times: user 27min 1s, sys: 1min 3s, total: 28min 5s\n",
            "Wall time: 29min 11s\n"
          ]
        }
      ]
    },
    {
      "cell_type": "code",
      "source": [
        "%%time\n",
        "op3, tp3 = run_experiment(\n",
        "    data=(train_full[cat_only_features], train_full[TARGET], test[cat_only_features]),\n",
        "    n_trials=100\n",
        ")"
      ],
      "metadata": {
        "colab": {
          "base_uri": "https://localhost:8080/"
        },
        "id": "9gy6vhfVM1va",
        "outputId": "2273d683-2200-4805-addc-358bc7479b44"
      },
      "execution_count": 34,
      "outputs": [
        {
          "output_type": "stream",
          "name": "stdout",
          "text": [
            "----------Hyperparameter tuning----------\n",
            "Best trial: 82 -> Best value: 0.681046\n",
            "Best hyperparameters:\n",
            "penalty         - l2\n",
            "C               - 0.0003028779297664595\n",
            "intercept_scaling - 8.9\n",
            "class_weight    - None\n",
            "[Time taken: 1024.11s]\n",
            "-----Cross-validation and prediction-----\n",
            "Fold #0: 0.681145\n",
            "Fold #1: 0.680978\n",
            "Fold #2: 0.681068\n",
            "Fold #3: 0.681022\n",
            "Fold #4: 0.681017\n",
            "Avg = 0.681046 +/- 0.000057\n",
            "\n",
            "[Time taken: 10.67s]\n",
            "\n",
            "CPU times: user 14min 59s, sys: 1min 2s, total: 16min 1s\n",
            "Wall time: 17min 14s\n"
          ]
        }
      ]
    },
    {
      "cell_type": "code",
      "source": [
        "%%time\n",
        "op4, tp4 = run_experiment(\n",
        "    data=(train_clip[cat_only_features], train_clip[TARGET], test[cat_only_features]),\n",
        "    n_trials=100\n",
        ")"
      ],
      "metadata": {
        "colab": {
          "base_uri": "https://localhost:8080/"
        },
        "id": "tDX6qWpiM1vb",
        "outputId": "33a50006-86eb-4f4b-a8f6-3f33fc68aebe"
      },
      "execution_count": 35,
      "outputs": [
        {
          "output_type": "stream",
          "name": "stdout",
          "text": [
            "----------Hyperparameter tuning----------\n",
            "Best trial: 72 -> Best value: 0.681020\n",
            "Best hyperparameters:\n",
            "penalty         - l2\n",
            "C               - 0.00031915269748580236\n",
            "intercept_scaling - 8.9\n",
            "class_weight    - None\n",
            "[Time taken: 981.62s]\n",
            "-----Cross-validation and prediction-----\n",
            "Fold #0: 0.680969\n",
            "Fold #1: 0.681055\n",
            "Fold #2: 0.681088\n",
            "Fold #3: 0.681086\n",
            "Fold #4: 0.680905\n",
            "Avg = 0.681020 +/- 0.000072\n",
            "\n",
            "[Time taken: 9.85s]\n",
            "\n",
            "CPU times: user 14min 19s, sys: 1min 1s, total: 15min 21s\n",
            "Wall time: 16min 31s\n"
          ]
        }
      ]
    },
    {
      "cell_type": "code",
      "source": [
        "%%time\n",
        "op5, tp5 = run_experiment(\n",
        "    data=(train_full[mi_features], train_full[TARGET], test[mi_features]),\n",
        "    n_trials=100\n",
        ")"
      ],
      "metadata": {
        "colab": {
          "base_uri": "https://localhost:8080/"
        },
        "id": "IuPyrO84Nfwc",
        "outputId": "b547ebed-5163-4659-cea1-d5a33d15201a"
      },
      "execution_count": 36,
      "outputs": [
        {
          "output_type": "stream",
          "name": "stdout",
          "text": [
            "----------Hyperparameter tuning----------\n",
            "Best trial: 77 -> Best value: 0.681053\n",
            "Best hyperparameters:\n",
            "penalty         - l2\n",
            "C               - 0.000320494516419467\n",
            "intercept_scaling - 7.8\n",
            "class_weight    - None\n",
            "[Time taken: 999.18s]\n",
            "-----Cross-validation and prediction-----\n",
            "Fold #0: 0.681034\n",
            "Fold #1: 0.681019\n",
            "Fold #2: 0.681097\n",
            "Fold #3: 0.681062\n",
            "Fold #4: 0.681054\n",
            "Avg = 0.681053 +/- 0.000027\n",
            "\n",
            "[Time taken: 11.06s]\n",
            "\n",
            "CPU times: user 14min 13s, sys: 1min 1s, total: 15min 15s\n",
            "Wall time: 16min 50s\n"
          ]
        }
      ]
    },
    {
      "cell_type": "code",
      "source": [
        "%%time\n",
        "op6, tp6 = run_experiment(\n",
        "    data=(train_clip[mi_features], train_clip[TARGET], test[mi_features]),\n",
        "    n_trials=100\n",
        ")"
      ],
      "metadata": {
        "colab": {
          "base_uri": "https://localhost:8080/"
        },
        "id": "iPc-FJw9Nfwd",
        "outputId": "e90cfb21-292c-479f-bfcb-ecb8fc1dc76c"
      },
      "execution_count": 37,
      "outputs": [
        {
          "output_type": "stream",
          "name": "stdout",
          "text": [
            "----------Hyperparameter tuning----------\n",
            "Best trial: 91 -> Best value: 0.681045\n",
            "Best hyperparameters:\n",
            "penalty         - l2\n",
            "C               - 0.00026170426707950605\n",
            "intercept_scaling - 7.7\n",
            "class_weight    - None\n",
            "[Time taken: 1261.60s]\n",
            "-----Cross-validation and prediction-----\n",
            "Fold #0: 0.681005\n",
            "Fold #1: 0.681077\n",
            "Fold #2: 0.681076\n",
            "Fold #3: 0.681109\n",
            "Fold #4: 0.680955\n",
            "Avg = 0.681045 +/- 0.000056\n",
            "\n",
            "[Time taken: 9.46s]\n",
            "\n",
            "CPU times: user 18min 53s, sys: 1min, total: 19min 53s\n",
            "Wall time: 21min 11s\n"
          ]
        }
      ]
    },
    {
      "cell_type": "code",
      "source": [
        "%%time\n",
        "op7, tp7 = run_experiment(\n",
        "    data=(train_full[reduced_features], train_full[TARGET], test[reduced_features]),\n",
        "    n_trials=100\n",
        ")"
      ],
      "metadata": {
        "colab": {
          "base_uri": "https://localhost:8080/"
        },
        "id": "4bzkBKJDNoAN",
        "outputId": "7c5c5198-2a5a-41f7-b560-63ce58141871"
      },
      "execution_count": 38,
      "outputs": [
        {
          "output_type": "stream",
          "name": "stdout",
          "text": [
            "----------Hyperparameter tuning----------\n",
            "Best trial: 81 -> Best value: 0.681038\n",
            "Best hyperparameters:\n",
            "penalty         - l2\n",
            "C               - 0.0016659478765338111\n",
            "intercept_scaling - 1.7000000000000002\n",
            "class_weight    - None\n",
            "[Time taken: 321.28s]\n",
            "-----Cross-validation and prediction-----\n",
            "Fold #0: 0.681018\n",
            "Fold #1: 0.680919\n",
            "Fold #2: 0.681108\n",
            "Fold #3: 0.681087\n",
            "Fold #4: 0.681061\n",
            "Avg = 0.681038 +/- 0.000067\n",
            "\n",
            "[Time taken: 4.42s]\n",
            "\n",
            "CPU times: user 4min 44s, sys: 54.7 s, total: 5min 39s\n",
            "Wall time: 5min 25s\n"
          ]
        }
      ]
    },
    {
      "cell_type": "code",
      "source": [
        "%%time\n",
        "op8, tp8 = run_experiment(\n",
        "    data=(train_clip[reduced_features], train_clip[TARGET], test[reduced_features]),\n",
        "    n_trials=100\n",
        ")"
      ],
      "metadata": {
        "colab": {
          "base_uri": "https://localhost:8080/"
        },
        "id": "CDaq7QVANoAO",
        "outputId": "5f8a2cc1-971f-4d62-8ede-28c21a815f45"
      },
      "execution_count": 39,
      "outputs": [
        {
          "output_type": "stream",
          "name": "stdout",
          "text": [
            "----------Hyperparameter tuning----------\n",
            "Best trial: 30 -> Best value: 0.681015\n",
            "Best hyperparameters:\n",
            "penalty         - l2\n",
            "C               - 0.0031313614951399126\n",
            "intercept_scaling - 10.0\n",
            "class_weight    - None\n",
            "[Time taken: 289.56s]\n",
            "-----Cross-validation and prediction-----\n",
            "Fold #0: 0.680985\n",
            "Fold #1: 0.681057\n",
            "Fold #2: 0.681066\n",
            "Fold #3: 0.681031\n",
            "Fold #4: 0.680936\n",
            "Avg = 0.681015 +/- 0.000049\n",
            "\n",
            "[Time taken: 3.98s]\n",
            "\n",
            "CPU times: user 4min 18s, sys: 54.4 s, total: 5min 12s\n",
            "Wall time: 4min 53s\n"
          ]
        }
      ]
    },
    {
      "cell_type": "markdown",
      "source": [
        "# Generating submission files"
      ],
      "metadata": {
        "id": "77yayiraLXYy"
      }
    },
    {
      "cell_type": "code",
      "source": [
        "from google.colab import drive\n",
        "drive.mount('/content/drive')"
      ],
      "metadata": {
        "colab": {
          "base_uri": "https://localhost:8080/"
        },
        "id": "XkOCNlfRky1l",
        "outputId": "46c3a9c3-146b-4257-b1e0-6652e2b1316c"
      },
      "execution_count": 41,
      "outputs": [
        {
          "output_type": "stream",
          "name": "stdout",
          "text": [
            "Mounted at /content/drive\n"
          ]
        }
      ]
    },
    {
      "cell_type": "code",
      "source": [
        "NOTEBOOK = '01'\n",
        "SUBMISSION_PATH = f'/content/drive/MyDrive/data_science_competitions/machinehack/analytics_olympiad22/submissions/nb_{NOTEBOOK}'\n",
        "if not os.path.isdir(SUBMISSION_PATH):\n",
        "    os.makedirs(SUBMISSION_PATH)"
      ],
      "metadata": {
        "id": "NO44h9WwLaf4"
      },
      "execution_count": 42,
      "outputs": []
    },
    {
      "cell_type": "code",
      "source": [
        "def create_submission_files(test_preds: pd.DataFrame, expt_num: int):\n",
        "    for col in (test_preds.columns):\n",
        "        sub = sample_sub.copy()\n",
        "        sub[TARGET] = test_preds[col]\n",
        "        sub.to_csv(f'{SUBMISSION_PATH}/{expt_num}_{col}.csv', index=False)"
      ],
      "metadata": {
        "id": "SjlGeP1bLuw5"
      },
      "execution_count": 43,
      "outputs": []
    },
    {
      "cell_type": "code",
      "source": [
        "create_submission_files(tp1, '01')\n",
        "create_submission_files(tp2, '02')\n",
        "create_submission_files(tp3, '03')\n",
        "create_submission_files(tp4, '04')\n",
        "create_submission_files(tp5, '05')\n",
        "create_submission_files(tp6, '06')\n",
        "create_submission_files(tp7, '07')\n",
        "create_submission_files(tp8, '08')"
      ],
      "metadata": {
        "id": "XTXTQ62tkSL1"
      },
      "execution_count": 44,
      "outputs": []
    }
  ]
}