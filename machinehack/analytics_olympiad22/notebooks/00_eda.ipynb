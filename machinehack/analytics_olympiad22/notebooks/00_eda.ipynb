{
  "nbformat": 4,
  "nbformat_minor": 0,
  "metadata": {
    "colab": {
      "provenance": [],
      "mount_file_id": "1pb8qf5cC0hpVWgo7tYZa3KNdrH1Yuwvd",
      "authorship_tag": "ABX9TyNUqTh01m4m2I4To9g6SlqI",
      "include_colab_link": true
    },
    "kernelspec": {
      "name": "python3",
      "display_name": "Python 3"
    },
    "language_info": {
      "name": "python"
    }
  },
  "cells": [
    {
      "cell_type": "markdown",
      "metadata": {
        "id": "view-in-github",
        "colab_type": "text"
      },
      "source": [
        "<a href=\"https://colab.research.google.com/github/stiwari-ds/data-science-competitions/blob/main/machinehack/analytics_olympiad22/notebooks/00_eda.ipynb\" target=\"_parent\"><img src=\"https://colab.research.google.com/assets/colab-badge.svg\" alt=\"Open In Colab\"/></a>"
      ]
    },
    {
      "cell_type": "markdown",
      "source": [
        "# Setup"
      ],
      "metadata": {
        "id": "vhi-98vAABKW"
      }
    },
    {
      "cell_type": "markdown",
      "source": [
        "**Utils**"
      ],
      "metadata": {
        "id": "t-cwqBltOeTi"
      }
    },
    {
      "cell_type": "code",
      "execution_count": 1,
      "metadata": {
        "id": "dVtBwGbhNZUq"
      },
      "outputs": [],
      "source": [
        "import gc\n",
        "import os\n",
        "import time\n",
        "import warnings\n",
        "\n",
        "gc.enable()\n",
        "warnings.filterwarnings(action='ignore')"
      ]
    },
    {
      "cell_type": "markdown",
      "source": [
        "**Data analysis**"
      ],
      "metadata": {
        "id": "nP-boDFnPj3N"
      }
    },
    {
      "cell_type": "code",
      "source": [
        "import numpy as np\n",
        "import pandas as pd\n",
        "\n",
        "pd.set_option('display.max_columns', None)\n",
        "pd.set_option('display.precision', 4)"
      ],
      "metadata": {
        "id": "1iutsLxoNus-"
      },
      "execution_count": 2,
      "outputs": []
    },
    {
      "cell_type": "markdown",
      "source": [
        "**Visualization**"
      ],
      "metadata": {
        "id": "WyYgCqDjOgXQ"
      }
    },
    {
      "cell_type": "code",
      "source": [
        "import matplotlib as mpl\n",
        "import matplotlib.pyplot as plt\n",
        "import seaborn as sns\n",
        "\n",
        "mpl.rcParams[\"axes.spines.right\"] = False\n",
        "mpl.rcParams[\"axes.spines.top\"] = False\n",
        "\n",
        "%matplotlib inline\n",
        "%config InlineBackend.figure_format = 'retina'"
      ],
      "metadata": {
        "id": "o6bGlnKpOAOc"
      },
      "execution_count": 3,
      "outputs": []
    },
    {
      "cell_type": "markdown",
      "source": [
        "**Modeling**"
      ],
      "metadata": {
        "id": "t0tFRRoDQcwM"
      }
    },
    {
      "cell_type": "code",
      "source": [
        "from sklearn.feature_selection import chi2, f_classif, mutual_info_classif\n",
        "from sklearn.model_selection import StratifiedKFold\n",
        "from sklearn.linear_model import LogisticRegression\n",
        "from sklearn.ensemble import RandomForestClassifier\n",
        "from sklearn.metrics import log_loss"
      ],
      "metadata": {
        "id": "3QpkZk5jQez1"
      },
      "execution_count": 4,
      "outputs": []
    },
    {
      "cell_type": "markdown",
      "source": [
        "**Reproducibility**"
      ],
      "metadata": {
        "id": "xrO0ym1naPp1"
      }
    },
    {
      "cell_type": "code",
      "source": [
        "SEED = 2311\n",
        "os.environ['PYTHONHASHSEED'] = str(SEED)\n",
        "np.random.seed(SEED)"
      ],
      "metadata": {
        "id": "woXntOnxaSh-"
      },
      "execution_count": 5,
      "outputs": []
    },
    {
      "cell_type": "markdown",
      "source": [
        "**Data**"
      ],
      "metadata": {
        "id": "IdrkOj8waIdx"
      }
    },
    {
      "cell_type": "code",
      "source": [
        "DATA_URL = 'https://raw.githubusercontent.com/stiwari-ds/data-science-competitions/main/machinehack/analytics_olympiad22/data'\n",
        "\n",
        "train = pd.read_csv(f'{DATA_URL}/raw/train.csv')\n",
        "test = pd.read_csv(f'{DATA_URL}/raw/test.csv')\n",
        "sample_sub = pd.read_csv(f'{DATA_URL}/raw/submission.csv')"
      ],
      "metadata": {
        "id": "ZHFqgGFSaMM5"
      },
      "execution_count": 6,
      "outputs": []
    },
    {
      "cell_type": "markdown",
      "source": [
        "# Data Overview"
      ],
      "metadata": {
        "id": "YAjjFd_i4N5J"
      }
    },
    {
      "cell_type": "code",
      "source": [
        "train.head()"
      ],
      "metadata": {
        "colab": {
          "base_uri": "https://localhost:8080/",
          "height": 0
        },
        "outputId": "aaade1d3-c470-4d71-8e80-2f01538fe4ed",
        "id": "68w3HegN4N5J"
      },
      "execution_count": 7,
      "outputs": [
        {
          "output_type": "execute_result",
          "data": {
            "text/plain": [
              "       ID    AGE  GENDER DRIVING_EXPERIENCE    EDUCATION         INCOME  \\\n",
              "0  816393  40-64  female             20-29y   university   middle class   \n",
              "1  251762  26-39    male             20-29y  high school   middle class   \n",
              "2  481952  40-64    male             20-29y         none   middle class   \n",
              "3    3506  40-64    male             20-29y  high school    upper class   \n",
              "4  498013  40-64  female             20-29y         none  working class   \n",
              "\n",
              "   CREDIT_SCORE  VEHICLE_OWNERSHIP VEHICLE_YEAR  MARRIED  CHILDREN  \\\n",
              "0        0.6380                0.0   after 2015      0.0       0.0   \n",
              "1        0.4757                1.0  before 2015      1.0       0.0   \n",
              "2        0.8398                1.0  before 2015      1.0       1.0   \n",
              "3        0.6825                1.0  before 2015      0.0       1.0   \n",
              "4        0.5722                1.0   after 2015      1.0       1.0   \n",
              "\n",
              "   POSTAL_CODE  ANNUAL_MILEAGE  SPEEDING_VIOLATIONS  DUIS  PAST_ACCIDENTS  \\\n",
              "0        37379         11000.0                    0     0               0   \n",
              "1        10238          9000.0                    0     0               0   \n",
              "2        10238         12000.0                    0     0               0   \n",
              "3        92099          6000.0                    1     0               0   \n",
              "4        32122         15000.0                    0     0               1   \n",
              "\n",
              "   OUTCOME TYPE_OF_VEHICLE  \n",
              "0      0.0      Sports Car  \n",
              "1      1.0       HatchBack  \n",
              "2      1.0           Sedan  \n",
              "3      1.0           Sedan  \n",
              "4      0.0           Sedan  "
            ],
            "text/html": [
              "\n",
              "  <div id=\"df-7bc0900d-7a8b-4bde-a4fb-080fda516344\">\n",
              "    <div class=\"colab-df-container\">\n",
              "      <div>\n",
              "<style scoped>\n",
              "    .dataframe tbody tr th:only-of-type {\n",
              "        vertical-align: middle;\n",
              "    }\n",
              "\n",
              "    .dataframe tbody tr th {\n",
              "        vertical-align: top;\n",
              "    }\n",
              "\n",
              "    .dataframe thead th {\n",
              "        text-align: right;\n",
              "    }\n",
              "</style>\n",
              "<table border=\"1\" class=\"dataframe\">\n",
              "  <thead>\n",
              "    <tr style=\"text-align: right;\">\n",
              "      <th></th>\n",
              "      <th>ID</th>\n",
              "      <th>AGE</th>\n",
              "      <th>GENDER</th>\n",
              "      <th>DRIVING_EXPERIENCE</th>\n",
              "      <th>EDUCATION</th>\n",
              "      <th>INCOME</th>\n",
              "      <th>CREDIT_SCORE</th>\n",
              "      <th>VEHICLE_OWNERSHIP</th>\n",
              "      <th>VEHICLE_YEAR</th>\n",
              "      <th>MARRIED</th>\n",
              "      <th>CHILDREN</th>\n",
              "      <th>POSTAL_CODE</th>\n",
              "      <th>ANNUAL_MILEAGE</th>\n",
              "      <th>SPEEDING_VIOLATIONS</th>\n",
              "      <th>DUIS</th>\n",
              "      <th>PAST_ACCIDENTS</th>\n",
              "      <th>OUTCOME</th>\n",
              "      <th>TYPE_OF_VEHICLE</th>\n",
              "    </tr>\n",
              "  </thead>\n",
              "  <tbody>\n",
              "    <tr>\n",
              "      <th>0</th>\n",
              "      <td>816393</td>\n",
              "      <td>40-64</td>\n",
              "      <td>female</td>\n",
              "      <td>20-29y</td>\n",
              "      <td>university</td>\n",
              "      <td>middle class</td>\n",
              "      <td>0.6380</td>\n",
              "      <td>0.0</td>\n",
              "      <td>after 2015</td>\n",
              "      <td>0.0</td>\n",
              "      <td>0.0</td>\n",
              "      <td>37379</td>\n",
              "      <td>11000.0</td>\n",
              "      <td>0</td>\n",
              "      <td>0</td>\n",
              "      <td>0</td>\n",
              "      <td>0.0</td>\n",
              "      <td>Sports Car</td>\n",
              "    </tr>\n",
              "    <tr>\n",
              "      <th>1</th>\n",
              "      <td>251762</td>\n",
              "      <td>26-39</td>\n",
              "      <td>male</td>\n",
              "      <td>20-29y</td>\n",
              "      <td>high school</td>\n",
              "      <td>middle class</td>\n",
              "      <td>0.4757</td>\n",
              "      <td>1.0</td>\n",
              "      <td>before 2015</td>\n",
              "      <td>1.0</td>\n",
              "      <td>0.0</td>\n",
              "      <td>10238</td>\n",
              "      <td>9000.0</td>\n",
              "      <td>0</td>\n",
              "      <td>0</td>\n",
              "      <td>0</td>\n",
              "      <td>1.0</td>\n",
              "      <td>HatchBack</td>\n",
              "    </tr>\n",
              "    <tr>\n",
              "      <th>2</th>\n",
              "      <td>481952</td>\n",
              "      <td>40-64</td>\n",
              "      <td>male</td>\n",
              "      <td>20-29y</td>\n",
              "      <td>none</td>\n",
              "      <td>middle class</td>\n",
              "      <td>0.8398</td>\n",
              "      <td>1.0</td>\n",
              "      <td>before 2015</td>\n",
              "      <td>1.0</td>\n",
              "      <td>1.0</td>\n",
              "      <td>10238</td>\n",
              "      <td>12000.0</td>\n",
              "      <td>0</td>\n",
              "      <td>0</td>\n",
              "      <td>0</td>\n",
              "      <td>1.0</td>\n",
              "      <td>Sedan</td>\n",
              "    </tr>\n",
              "    <tr>\n",
              "      <th>3</th>\n",
              "      <td>3506</td>\n",
              "      <td>40-64</td>\n",
              "      <td>male</td>\n",
              "      <td>20-29y</td>\n",
              "      <td>high school</td>\n",
              "      <td>upper class</td>\n",
              "      <td>0.6825</td>\n",
              "      <td>1.0</td>\n",
              "      <td>before 2015</td>\n",
              "      <td>0.0</td>\n",
              "      <td>1.0</td>\n",
              "      <td>92099</td>\n",
              "      <td>6000.0</td>\n",
              "      <td>1</td>\n",
              "      <td>0</td>\n",
              "      <td>0</td>\n",
              "      <td>1.0</td>\n",
              "      <td>Sedan</td>\n",
              "    </tr>\n",
              "    <tr>\n",
              "      <th>4</th>\n",
              "      <td>498013</td>\n",
              "      <td>40-64</td>\n",
              "      <td>female</td>\n",
              "      <td>20-29y</td>\n",
              "      <td>none</td>\n",
              "      <td>working class</td>\n",
              "      <td>0.5722</td>\n",
              "      <td>1.0</td>\n",
              "      <td>after 2015</td>\n",
              "      <td>1.0</td>\n",
              "      <td>1.0</td>\n",
              "      <td>32122</td>\n",
              "      <td>15000.0</td>\n",
              "      <td>0</td>\n",
              "      <td>0</td>\n",
              "      <td>1</td>\n",
              "      <td>0.0</td>\n",
              "      <td>Sedan</td>\n",
              "    </tr>\n",
              "  </tbody>\n",
              "</table>\n",
              "</div>\n",
              "      <button class=\"colab-df-convert\" onclick=\"convertToInteractive('df-7bc0900d-7a8b-4bde-a4fb-080fda516344')\"\n",
              "              title=\"Convert this dataframe to an interactive table.\"\n",
              "              style=\"display:none;\">\n",
              "        \n",
              "  <svg xmlns=\"http://www.w3.org/2000/svg\" height=\"24px\"viewBox=\"0 0 24 24\"\n",
              "       width=\"24px\">\n",
              "    <path d=\"M0 0h24v24H0V0z\" fill=\"none\"/>\n",
              "    <path d=\"M18.56 5.44l.94 2.06.94-2.06 2.06-.94-2.06-.94-.94-2.06-.94 2.06-2.06.94zm-11 1L8.5 8.5l.94-2.06 2.06-.94-2.06-.94L8.5 2.5l-.94 2.06-2.06.94zm10 10l.94 2.06.94-2.06 2.06-.94-2.06-.94-.94-2.06-.94 2.06-2.06.94z\"/><path d=\"M17.41 7.96l-1.37-1.37c-.4-.4-.92-.59-1.43-.59-.52 0-1.04.2-1.43.59L10.3 9.45l-7.72 7.72c-.78.78-.78 2.05 0 2.83L4 21.41c.39.39.9.59 1.41.59.51 0 1.02-.2 1.41-.59l7.78-7.78 2.81-2.81c.8-.78.8-2.07 0-2.86zM5.41 20L4 18.59l7.72-7.72 1.47 1.35L5.41 20z\"/>\n",
              "  </svg>\n",
              "      </button>\n",
              "      \n",
              "  <style>\n",
              "    .colab-df-container {\n",
              "      display:flex;\n",
              "      flex-wrap:wrap;\n",
              "      gap: 12px;\n",
              "    }\n",
              "\n",
              "    .colab-df-convert {\n",
              "      background-color: #E8F0FE;\n",
              "      border: none;\n",
              "      border-radius: 50%;\n",
              "      cursor: pointer;\n",
              "      display: none;\n",
              "      fill: #1967D2;\n",
              "      height: 32px;\n",
              "      padding: 0 0 0 0;\n",
              "      width: 32px;\n",
              "    }\n",
              "\n",
              "    .colab-df-convert:hover {\n",
              "      background-color: #E2EBFA;\n",
              "      box-shadow: 0px 1px 2px rgba(60, 64, 67, 0.3), 0px 1px 3px 1px rgba(60, 64, 67, 0.15);\n",
              "      fill: #174EA6;\n",
              "    }\n",
              "\n",
              "    [theme=dark] .colab-df-convert {\n",
              "      background-color: #3B4455;\n",
              "      fill: #D2E3FC;\n",
              "    }\n",
              "\n",
              "    [theme=dark] .colab-df-convert:hover {\n",
              "      background-color: #434B5C;\n",
              "      box-shadow: 0px 1px 3px 1px rgba(0, 0, 0, 0.15);\n",
              "      filter: drop-shadow(0px 1px 2px rgba(0, 0, 0, 0.3));\n",
              "      fill: #FFFFFF;\n",
              "    }\n",
              "  </style>\n",
              "\n",
              "      <script>\n",
              "        const buttonEl =\n",
              "          document.querySelector('#df-7bc0900d-7a8b-4bde-a4fb-080fda516344 button.colab-df-convert');\n",
              "        buttonEl.style.display =\n",
              "          google.colab.kernel.accessAllowed ? 'block' : 'none';\n",
              "\n",
              "        async function convertToInteractive(key) {\n",
              "          const element = document.querySelector('#df-7bc0900d-7a8b-4bde-a4fb-080fda516344');\n",
              "          const dataTable =\n",
              "            await google.colab.kernel.invokeFunction('convertToInteractive',\n",
              "                                                     [key], {});\n",
              "          if (!dataTable) return;\n",
              "\n",
              "          const docLinkHtml = 'Like what you see? Visit the ' +\n",
              "            '<a target=\"_blank\" href=https://colab.research.google.com/notebooks/data_table.ipynb>data table notebook</a>'\n",
              "            + ' to learn more about interactive tables.';\n",
              "          element.innerHTML = '';\n",
              "          dataTable['output_type'] = 'display_data';\n",
              "          await google.colab.output.renderOutput(dataTable, element);\n",
              "          const docLink = document.createElement('div');\n",
              "          docLink.innerHTML = docLinkHtml;\n",
              "          element.appendChild(docLink);\n",
              "        }\n",
              "      </script>\n",
              "    </div>\n",
              "  </div>\n",
              "  "
            ]
          },
          "metadata": {},
          "execution_count": 7
        }
      ]
    },
    {
      "cell_type": "code",
      "source": [
        "sample_sub.head()"
      ],
      "metadata": {
        "colab": {
          "base_uri": "https://localhost:8080/",
          "height": 0
        },
        "outputId": "c7faf5ca-6849-4832-c1e5-f6991cac0743",
        "id": "VQPcNE1C4N5K"
      },
      "execution_count": 8,
      "outputs": [
        {
          "output_type": "execute_result",
          "data": {
            "text/plain": [
              "   OUTCOME\n",
              "0      0.0\n",
              "1      0.0\n",
              "2      0.0\n",
              "3      0.0\n",
              "4      0.0"
            ],
            "text/html": [
              "\n",
              "  <div id=\"df-4cc95be1-d132-4d3f-b37b-88d9a5cdbe3c\">\n",
              "    <div class=\"colab-df-container\">\n",
              "      <div>\n",
              "<style scoped>\n",
              "    .dataframe tbody tr th:only-of-type {\n",
              "        vertical-align: middle;\n",
              "    }\n",
              "\n",
              "    .dataframe tbody tr th {\n",
              "        vertical-align: top;\n",
              "    }\n",
              "\n",
              "    .dataframe thead th {\n",
              "        text-align: right;\n",
              "    }\n",
              "</style>\n",
              "<table border=\"1\" class=\"dataframe\">\n",
              "  <thead>\n",
              "    <tr style=\"text-align: right;\">\n",
              "      <th></th>\n",
              "      <th>OUTCOME</th>\n",
              "    </tr>\n",
              "  </thead>\n",
              "  <tbody>\n",
              "    <tr>\n",
              "      <th>0</th>\n",
              "      <td>0.0</td>\n",
              "    </tr>\n",
              "    <tr>\n",
              "      <th>1</th>\n",
              "      <td>0.0</td>\n",
              "    </tr>\n",
              "    <tr>\n",
              "      <th>2</th>\n",
              "      <td>0.0</td>\n",
              "    </tr>\n",
              "    <tr>\n",
              "      <th>3</th>\n",
              "      <td>0.0</td>\n",
              "    </tr>\n",
              "    <tr>\n",
              "      <th>4</th>\n",
              "      <td>0.0</td>\n",
              "    </tr>\n",
              "  </tbody>\n",
              "</table>\n",
              "</div>\n",
              "      <button class=\"colab-df-convert\" onclick=\"convertToInteractive('df-4cc95be1-d132-4d3f-b37b-88d9a5cdbe3c')\"\n",
              "              title=\"Convert this dataframe to an interactive table.\"\n",
              "              style=\"display:none;\">\n",
              "        \n",
              "  <svg xmlns=\"http://www.w3.org/2000/svg\" height=\"24px\"viewBox=\"0 0 24 24\"\n",
              "       width=\"24px\">\n",
              "    <path d=\"M0 0h24v24H0V0z\" fill=\"none\"/>\n",
              "    <path d=\"M18.56 5.44l.94 2.06.94-2.06 2.06-.94-2.06-.94-.94-2.06-.94 2.06-2.06.94zm-11 1L8.5 8.5l.94-2.06 2.06-.94-2.06-.94L8.5 2.5l-.94 2.06-2.06.94zm10 10l.94 2.06.94-2.06 2.06-.94-2.06-.94-.94-2.06-.94 2.06-2.06.94z\"/><path d=\"M17.41 7.96l-1.37-1.37c-.4-.4-.92-.59-1.43-.59-.52 0-1.04.2-1.43.59L10.3 9.45l-7.72 7.72c-.78.78-.78 2.05 0 2.83L4 21.41c.39.39.9.59 1.41.59.51 0 1.02-.2 1.41-.59l7.78-7.78 2.81-2.81c.8-.78.8-2.07 0-2.86zM5.41 20L4 18.59l7.72-7.72 1.47 1.35L5.41 20z\"/>\n",
              "  </svg>\n",
              "      </button>\n",
              "      \n",
              "  <style>\n",
              "    .colab-df-container {\n",
              "      display:flex;\n",
              "      flex-wrap:wrap;\n",
              "      gap: 12px;\n",
              "    }\n",
              "\n",
              "    .colab-df-convert {\n",
              "      background-color: #E8F0FE;\n",
              "      border: none;\n",
              "      border-radius: 50%;\n",
              "      cursor: pointer;\n",
              "      display: none;\n",
              "      fill: #1967D2;\n",
              "      height: 32px;\n",
              "      padding: 0 0 0 0;\n",
              "      width: 32px;\n",
              "    }\n",
              "\n",
              "    .colab-df-convert:hover {\n",
              "      background-color: #E2EBFA;\n",
              "      box-shadow: 0px 1px 2px rgba(60, 64, 67, 0.3), 0px 1px 3px 1px rgba(60, 64, 67, 0.15);\n",
              "      fill: #174EA6;\n",
              "    }\n",
              "\n",
              "    [theme=dark] .colab-df-convert {\n",
              "      background-color: #3B4455;\n",
              "      fill: #D2E3FC;\n",
              "    }\n",
              "\n",
              "    [theme=dark] .colab-df-convert:hover {\n",
              "      background-color: #434B5C;\n",
              "      box-shadow: 0px 1px 3px 1px rgba(0, 0, 0, 0.15);\n",
              "      filter: drop-shadow(0px 1px 2px rgba(0, 0, 0, 0.3));\n",
              "      fill: #FFFFFF;\n",
              "    }\n",
              "  </style>\n",
              "\n",
              "      <script>\n",
              "        const buttonEl =\n",
              "          document.querySelector('#df-4cc95be1-d132-4d3f-b37b-88d9a5cdbe3c button.colab-df-convert');\n",
              "        buttonEl.style.display =\n",
              "          google.colab.kernel.accessAllowed ? 'block' : 'none';\n",
              "\n",
              "        async function convertToInteractive(key) {\n",
              "          const element = document.querySelector('#df-4cc95be1-d132-4d3f-b37b-88d9a5cdbe3c');\n",
              "          const dataTable =\n",
              "            await google.colab.kernel.invokeFunction('convertToInteractive',\n",
              "                                                     [key], {});\n",
              "          if (!dataTable) return;\n",
              "\n",
              "          const docLinkHtml = 'Like what you see? Visit the ' +\n",
              "            '<a target=\"_blank\" href=https://colab.research.google.com/notebooks/data_table.ipynb>data table notebook</a>'\n",
              "            + ' to learn more about interactive tables.';\n",
              "          element.innerHTML = '';\n",
              "          dataTable['output_type'] = 'display_data';\n",
              "          await google.colab.output.renderOutput(dataTable, element);\n",
              "          const docLink = document.createElement('div');\n",
              "          docLink.innerHTML = docLinkHtml;\n",
              "          element.appendChild(docLink);\n",
              "        }\n",
              "      </script>\n",
              "    </div>\n",
              "  </div>\n",
              "  "
            ]
          },
          "metadata": {},
          "execution_count": 8
        }
      ]
    },
    {
      "cell_type": "markdown",
      "source": [
        "**Datatypes and dimensions**"
      ],
      "metadata": {
        "id": "rB8FBxxudvE0"
      }
    },
    {
      "cell_type": "code",
      "source": [
        "train.info()"
      ],
      "metadata": {
        "colab": {
          "base_uri": "https://localhost:8080/"
        },
        "outputId": "9c3f3c4b-5bca-4004-ff49-472e1ba2d38b",
        "id": "7lQgyevi4N5L"
      },
      "execution_count": 9,
      "outputs": [
        {
          "output_type": "stream",
          "name": "stdout",
          "text": [
            "<class 'pandas.core.frame.DataFrame'>\n",
            "RangeIndex: 105000 entries, 0 to 104999\n",
            "Data columns (total 18 columns):\n",
            " #   Column               Non-Null Count   Dtype  \n",
            "---  ------               --------------   -----  \n",
            " 0   ID                   105000 non-null  int64  \n",
            " 1   AGE                  105000 non-null  object \n",
            " 2   GENDER               105000 non-null  object \n",
            " 3   DRIVING_EXPERIENCE   105000 non-null  object \n",
            " 4   EDUCATION            105000 non-null  object \n",
            " 5   INCOME               105000 non-null  object \n",
            " 6   CREDIT_SCORE         105000 non-null  float64\n",
            " 7   VEHICLE_OWNERSHIP    105000 non-null  float64\n",
            " 8   VEHICLE_YEAR         105000 non-null  object \n",
            " 9   MARRIED              105000 non-null  float64\n",
            " 10  CHILDREN             105000 non-null  float64\n",
            " 11  POSTAL_CODE          105000 non-null  int64  \n",
            " 12  ANNUAL_MILEAGE       105000 non-null  float64\n",
            " 13  SPEEDING_VIOLATIONS  105000 non-null  int64  \n",
            " 14  DUIS                 105000 non-null  int64  \n",
            " 15  PAST_ACCIDENTS       105000 non-null  int64  \n",
            " 16  OUTCOME              105000 non-null  float64\n",
            " 17  TYPE_OF_VEHICLE      105000 non-null  object \n",
            "dtypes: float64(6), int64(5), object(7)\n",
            "memory usage: 14.4+ MB\n"
          ]
        }
      ]
    },
    {
      "cell_type": "code",
      "source": [
        "train.shape, test.shape, sample_sub.shape"
      ],
      "metadata": {
        "colab": {
          "base_uri": "https://localhost:8080/"
        },
        "outputId": "461438de-78b7-455e-da57-64c8f7a58bd5",
        "id": "vBSWj4804N5M"
      },
      "execution_count": 10,
      "outputs": [
        {
          "output_type": "execute_result",
          "data": {
            "text/plain": [
              "((105000, 18), (45000, 17), (45000, 1))"
            ]
          },
          "metadata": {},
          "execution_count": 10
        }
      ]
    },
    {
      "cell_type": "markdown",
      "source": [
        "**Missing values**"
      ],
      "metadata": {
        "id": "FOZfaIJQdryo"
      }
    },
    {
      "cell_type": "code",
      "source": [
        "train.isna().sum().sum(), test.isna().sum().sum()"
      ],
      "metadata": {
        "colab": {
          "base_uri": "https://localhost:8080/"
        },
        "outputId": "7566fe8b-81c7-4bc2-d5e2-d67cc79fc374",
        "id": "qCiap-4y4N5N"
      },
      "execution_count": 11,
      "outputs": [
        {
          "output_type": "execute_result",
          "data": {
            "text/plain": [
              "(0, 0)"
            ]
          },
          "metadata": {},
          "execution_count": 11
        }
      ]
    },
    {
      "cell_type": "markdown",
      "source": [
        "No missing values."
      ],
      "metadata": {
        "id": "uPrmVyIi4N5N"
      }
    },
    {
      "cell_type": "markdown",
      "source": [
        "**TARGET**"
      ],
      "metadata": {
        "id": "on2kMRGP4N5O"
      }
    },
    {
      "cell_type": "code",
      "source": [
        "TARGET = 'OUTCOME'"
      ],
      "metadata": {
        "id": "DThZ8cZJ4N5O"
      },
      "execution_count": 12,
      "outputs": []
    },
    {
      "cell_type": "code",
      "source": [
        "train[TARGET].value_counts()"
      ],
      "metadata": {
        "colab": {
          "base_uri": "https://localhost:8080/"
        },
        "id": "eF5jFsztdnoH",
        "outputId": "d4783d22-8389-48fb-e5c0-50e30257c6f0"
      },
      "execution_count": 13,
      "outputs": [
        {
          "output_type": "execute_result",
          "data": {
            "text/plain": [
              "0.0    60622\n",
              "1.0    44378\n",
              "Name: OUTCOME, dtype: int64"
            ]
          },
          "metadata": {},
          "execution_count": 13
        }
      ]
    },
    {
      "cell_type": "code",
      "source": [
        "train[TARGET].value_counts(normalize=True)"
      ],
      "metadata": {
        "colab": {
          "base_uri": "https://localhost:8080/"
        },
        "outputId": "c6be369b-f9f6-465c-fd29-b7fb63957734",
        "id": "_eLr3y714N5P"
      },
      "execution_count": 14,
      "outputs": [
        {
          "output_type": "execute_result",
          "data": {
            "text/plain": [
              "0.0    0.5774\n",
              "1.0    0.4226\n",
              "Name: OUTCOME, dtype: float64"
            ]
          },
          "metadata": {},
          "execution_count": 14
        }
      ]
    },
    {
      "cell_type": "markdown",
      "source": [
        "Fairly balanced."
      ],
      "metadata": {
        "id": "esAyzn8N4N5Q"
      }
    },
    {
      "cell_type": "markdown",
      "source": [
        "# Feature Exploration"
      ],
      "metadata": {
        "id": "sQVBaIXBsfLY"
      }
    },
    {
      "cell_type": "code",
      "source": [
        "def plot_cont(feature):\n",
        "    \"\"\"Plot side-by-side kdeplots for train and test\n",
        "    data distribution of continuous feature.\n",
        "    \"\"\"\n",
        "    fig, ax = plt.subplots(nrows=1, ncols=2, sharex=True, sharey=True, figsize=(20, 4))\n",
        "    plt.suptitle(f'Feature: {feature}', fontweight='bold')\n",
        "    sns.kdeplot(x=feature, data=train, ax=ax[0], cut=0)\n",
        "    ax[0].set_title('Train data')\n",
        "    sns.kdeplot(x=feature, data=test, ax=ax[1], cut=0)\n",
        "    ax[1].set_title('Test data')\n",
        "    fig.tight_layout()\n",
        "    plt.show()"
      ],
      "metadata": {
        "id": "U2NusghQjgyW"
      },
      "execution_count": 15,
      "outputs": []
    },
    {
      "cell_type": "code",
      "source": [
        "def plot_cont_vs_target(feature):\n",
        "    \"\"\"Plot kdeplot for distribution of continuous feature\n",
        "    split by categories of Target variable.\n",
        "    \"\"\"\n",
        "    fig, ax = plt.subplots(nrows=1, ncols=1, figsize=(9, 4))\n",
        "    plt.suptitle(f'{feature} vs. {TARGET}', fontweight='bold')\n",
        "    sns.kdeplot(x=feature, data=train, hue=TARGET, ax=ax, cut=0)\n",
        "    fig.tight_layout()\n",
        "    plt.show()"
      ],
      "metadata": {
        "id": "MwA0r-zzjp5e"
      },
      "execution_count": 16,
      "outputs": []
    },
    {
      "cell_type": "markdown",
      "source": [
        "### ID"
      ],
      "metadata": {
        "id": "ytFQLVCJ4N5R"
      }
    },
    {
      "cell_type": "code",
      "source": [
        "train.ID.nunique(), train.shape[0]"
      ],
      "metadata": {
        "colab": {
          "base_uri": "https://localhost:8080/"
        },
        "outputId": "20aafd04-a676-4a37-d935-eaf32414fc64",
        "id": "evKZjMav4N5R"
      },
      "execution_count": 17,
      "outputs": [
        {
          "output_type": "execute_result",
          "data": {
            "text/plain": [
              "(98485, 105000)"
            ]
          },
          "metadata": {},
          "execution_count": 17
        }
      ]
    },
    {
      "cell_type": "code",
      "source": [
        "test.ID.nunique(), test.shape[0]"
      ],
      "metadata": {
        "colab": {
          "base_uri": "https://localhost:8080/"
        },
        "outputId": "7bcbf632-cccd-4058-c6f0-5807f883f5b6",
        "id": "DvQDb1w_4N5S"
      },
      "execution_count": 18,
      "outputs": [
        {
          "output_type": "execute_result",
          "data": {
            "text/plain": [
              "(43692, 45000)"
            ]
          },
          "metadata": {},
          "execution_count": 18
        }
      ]
    },
    {
      "cell_type": "markdown",
      "source": [
        "Repeated IDs in train and test sets. Might be due to multiple incidents for same person."
      ],
      "metadata": {
        "id": "ufoSyfpH4N5T"
      }
    },
    {
      "cell_type": "code",
      "source": [
        "len(set(train.ID.unique()) - set(test.ID.unique())), len(set(test.ID.unique()) - set(train.ID.unique()))"
      ],
      "metadata": {
        "colab": {
          "base_uri": "https://localhost:8080/"
        },
        "outputId": "330ea3cf-0fc2-42a6-fa76-6a09e082113f",
        "id": "yKV59UCC4N5T"
      },
      "execution_count": 19,
      "outputs": [
        {
          "output_type": "execute_result",
          "data": {
            "text/plain": [
              "(93268, 38475)"
            ]
          },
          "metadata": {},
          "execution_count": 19
        }
      ]
    },
    {
      "cell_type": "code",
      "source": [
        "98485 - 93268"
      ],
      "metadata": {
        "colab": {
          "base_uri": "https://localhost:8080/"
        },
        "outputId": "a9311bfa-ca7b-4f07-8944-6936d34a0f77",
        "id": "o7bzIjLo4N5U"
      },
      "execution_count": 20,
      "outputs": [
        {
          "output_type": "execute_result",
          "data": {
            "text/plain": [
              "5217"
            ]
          },
          "metadata": {},
          "execution_count": 20
        }
      ]
    },
    {
      "cell_type": "markdown",
      "source": [
        "Overlapping IDs between train and test set. Some people with multiple incidents may have them divided between train and test set."
      ],
      "metadata": {
        "id": "P2JP8IP-4N5U"
      }
    },
    {
      "cell_type": "code",
      "source": [
        "composite  = pd.concat(\n",
        "    [train.drop(TARGET, axis=1), test], \n",
        "    axis=0, \n",
        "    ignore_index=True\n",
        ")"
      ],
      "metadata": {
        "id": "vKX4rcHK4N5V"
      },
      "execution_count": 21,
      "outputs": []
    },
    {
      "cell_type": "code",
      "source": [
        "composite.ID.nunique(), composite.shape[0]"
      ],
      "metadata": {
        "colab": {
          "base_uri": "https://localhost:8080/"
        },
        "outputId": "d815de50-47a8-4698-df5d-62c932083a63",
        "id": "wRV7KvW94N5V"
      },
      "execution_count": 22,
      "outputs": [
        {
          "output_type": "execute_result",
          "data": {
            "text/plain": [
              "(136960, 150000)"
            ]
          },
          "metadata": {},
          "execution_count": 22
        }
      ]
    },
    {
      "cell_type": "code",
      "source": [
        "98485 + 43692"
      ],
      "metadata": {
        "colab": {
          "base_uri": "https://localhost:8080/"
        },
        "outputId": "fbe4fea5-935e-4d42-aa39-080605748c12",
        "id": "t-XSTokh4N5W"
      },
      "execution_count": 23,
      "outputs": [
        {
          "output_type": "execute_result",
          "data": {
            "text/plain": [
              "142177"
            ]
          },
          "metadata": {},
          "execution_count": 23
        }
      ]
    },
    {
      "cell_type": "markdown",
      "source": [
        "As expected, actual number of unique IDs is less than sum of unique IDs in separate datasets.  \n",
        "Some people are present once in the train set and once in the test set."
      ],
      "metadata": {
        "id": "A8_Ah7yI4N5W"
      }
    },
    {
      "cell_type": "code",
      "source": [
        "train.ID.value_counts()[:10]"
      ],
      "metadata": {
        "colab": {
          "base_uri": "https://localhost:8080/"
        },
        "id": "ddKMfTY_yGsZ",
        "outputId": "cf473267-2fb6-471a-9544-bf3860d148b3"
      },
      "execution_count": 24,
      "outputs": [
        {
          "output_type": "execute_result",
          "data": {
            "text/plain": [
              "101    127\n",
              "102     39\n",
              "103     14\n",
              "104     12\n",
              "106     11\n",
              "105      8\n",
              "107      8\n",
              "112      6\n",
              "108      6\n",
              "176      6\n",
              "Name: ID, dtype: int64"
            ]
          },
          "metadata": {},
          "execution_count": 24
        }
      ]
    },
    {
      "cell_type": "code",
      "source": [
        "composite.ID.value_counts()[:10]"
      ],
      "metadata": {
        "colab": {
          "base_uri": "https://localhost:8080/"
        },
        "outputId": "135a456f-f03e-4868-f7a0-1da27694f0c2",
        "id": "sAa-5KA94N5X"
      },
      "execution_count": 25,
      "outputs": [
        {
          "output_type": "execute_result",
          "data": {
            "text/plain": [
              "101    178\n",
              "102     47\n",
              "103     22\n",
              "104     16\n",
              "106     14\n",
              "105     10\n",
              "107      9\n",
              "109      8\n",
              "108      8\n",
              "326      7\n",
              "Name: ID, dtype: int64"
            ]
          },
          "metadata": {},
          "execution_count": 25
        }
      ]
    },
    {
      "cell_type": "code",
      "source": [
        "composite.duplicated().sum()"
      ],
      "metadata": {
        "colab": {
          "base_uri": "https://localhost:8080/"
        },
        "outputId": "1d6769d4-f1c5-487d-ad24-1b6fec1de1d9",
        "id": "mC83W9hh4N5Y"
      },
      "execution_count": 26,
      "outputs": [
        {
          "output_type": "execute_result",
          "data": {
            "text/plain": [
              "0"
            ]
          },
          "metadata": {},
          "execution_count": 26
        }
      ]
    },
    {
      "cell_type": "code",
      "source": [
        "train.loc[train.ID == 108]"
      ],
      "metadata": {
        "colab": {
          "base_uri": "https://localhost:8080/",
          "height": 0
        },
        "outputId": "8982d2dd-cf87-4a3b-a457-57454065df24",
        "id": "OxbJDg8-4N5Z"
      },
      "execution_count": 27,
      "outputs": [
        {
          "output_type": "execute_result",
          "data": {
            "text/plain": [
              "        ID    AGE  GENDER DRIVING_EXPERIENCE    EDUCATION         INCOME  \\\n",
              "16053  108    65+    male             20-29y         none    upper class   \n",
              "18546  108  26-39    male             10-19y  high school        poverty   \n",
              "25935  108    65+    male             10-19y   university  working class   \n",
              "26982  108  26-39  female             20-29y   university    upper class   \n",
              "34688  108  26-39    male             10-19y         none        poverty   \n",
              "87525  108  40-64  female               0-9y  high school    upper class   \n",
              "\n",
              "       CREDIT_SCORE  VEHICLE_OWNERSHIP VEHICLE_YEAR  MARRIED  CHILDREN  \\\n",
              "16053        0.5973                1.0   after 2015      1.0       1.0   \n",
              "18546        0.6211                1.0  before 2015      1.0       0.0   \n",
              "25935        0.5544                1.0   after 2015      1.0       1.0   \n",
              "26982        0.8240                0.0   after 2015      0.0       0.0   \n",
              "34688        0.8090                1.0   after 2015      0.0       0.0   \n",
              "87525        0.7332                1.0  before 2015      1.0       0.0   \n",
              "\n",
              "       POSTAL_CODE  ANNUAL_MILEAGE  SPEEDING_VIOLATIONS  DUIS  PAST_ACCIDENTS  \\\n",
              "16053        10238          8000.0                    0     0               2   \n",
              "18546        10238         13000.0                    0     0               0   \n",
              "25935        33654         14000.0                    0     0               1   \n",
              "26982        10238         12000.0                    0     1               0   \n",
              "34688        10238         12000.0                    1     0               0   \n",
              "87525        10238         13000.0                    0     0               5   \n",
              "\n",
              "       OUTCOME TYPE_OF_VEHICLE  \n",
              "16053      1.0      Sports Car  \n",
              "18546      1.0       HatchBack  \n",
              "25935      1.0      Sports Car  \n",
              "26982      0.0             SUV  \n",
              "34688      1.0      Sports Car  \n",
              "87525      1.0       HatchBack  "
            ],
            "text/html": [
              "\n",
              "  <div id=\"df-fe8a8415-814a-4765-bb15-e5f248a1e60e\">\n",
              "    <div class=\"colab-df-container\">\n",
              "      <div>\n",
              "<style scoped>\n",
              "    .dataframe tbody tr th:only-of-type {\n",
              "        vertical-align: middle;\n",
              "    }\n",
              "\n",
              "    .dataframe tbody tr th {\n",
              "        vertical-align: top;\n",
              "    }\n",
              "\n",
              "    .dataframe thead th {\n",
              "        text-align: right;\n",
              "    }\n",
              "</style>\n",
              "<table border=\"1\" class=\"dataframe\">\n",
              "  <thead>\n",
              "    <tr style=\"text-align: right;\">\n",
              "      <th></th>\n",
              "      <th>ID</th>\n",
              "      <th>AGE</th>\n",
              "      <th>GENDER</th>\n",
              "      <th>DRIVING_EXPERIENCE</th>\n",
              "      <th>EDUCATION</th>\n",
              "      <th>INCOME</th>\n",
              "      <th>CREDIT_SCORE</th>\n",
              "      <th>VEHICLE_OWNERSHIP</th>\n",
              "      <th>VEHICLE_YEAR</th>\n",
              "      <th>MARRIED</th>\n",
              "      <th>CHILDREN</th>\n",
              "      <th>POSTAL_CODE</th>\n",
              "      <th>ANNUAL_MILEAGE</th>\n",
              "      <th>SPEEDING_VIOLATIONS</th>\n",
              "      <th>DUIS</th>\n",
              "      <th>PAST_ACCIDENTS</th>\n",
              "      <th>OUTCOME</th>\n",
              "      <th>TYPE_OF_VEHICLE</th>\n",
              "    </tr>\n",
              "  </thead>\n",
              "  <tbody>\n",
              "    <tr>\n",
              "      <th>16053</th>\n",
              "      <td>108</td>\n",
              "      <td>65+</td>\n",
              "      <td>male</td>\n",
              "      <td>20-29y</td>\n",
              "      <td>none</td>\n",
              "      <td>upper class</td>\n",
              "      <td>0.5973</td>\n",
              "      <td>1.0</td>\n",
              "      <td>after 2015</td>\n",
              "      <td>1.0</td>\n",
              "      <td>1.0</td>\n",
              "      <td>10238</td>\n",
              "      <td>8000.0</td>\n",
              "      <td>0</td>\n",
              "      <td>0</td>\n",
              "      <td>2</td>\n",
              "      <td>1.0</td>\n",
              "      <td>Sports Car</td>\n",
              "    </tr>\n",
              "    <tr>\n",
              "      <th>18546</th>\n",
              "      <td>108</td>\n",
              "      <td>26-39</td>\n",
              "      <td>male</td>\n",
              "      <td>10-19y</td>\n",
              "      <td>high school</td>\n",
              "      <td>poverty</td>\n",
              "      <td>0.6211</td>\n",
              "      <td>1.0</td>\n",
              "      <td>before 2015</td>\n",
              "      <td>1.0</td>\n",
              "      <td>0.0</td>\n",
              "      <td>10238</td>\n",
              "      <td>13000.0</td>\n",
              "      <td>0</td>\n",
              "      <td>0</td>\n",
              "      <td>0</td>\n",
              "      <td>1.0</td>\n",
              "      <td>HatchBack</td>\n",
              "    </tr>\n",
              "    <tr>\n",
              "      <th>25935</th>\n",
              "      <td>108</td>\n",
              "      <td>65+</td>\n",
              "      <td>male</td>\n",
              "      <td>10-19y</td>\n",
              "      <td>university</td>\n",
              "      <td>working class</td>\n",
              "      <td>0.5544</td>\n",
              "      <td>1.0</td>\n",
              "      <td>after 2015</td>\n",
              "      <td>1.0</td>\n",
              "      <td>1.0</td>\n",
              "      <td>33654</td>\n",
              "      <td>14000.0</td>\n",
              "      <td>0</td>\n",
              "      <td>0</td>\n",
              "      <td>1</td>\n",
              "      <td>1.0</td>\n",
              "      <td>Sports Car</td>\n",
              "    </tr>\n",
              "    <tr>\n",
              "      <th>26982</th>\n",
              "      <td>108</td>\n",
              "      <td>26-39</td>\n",
              "      <td>female</td>\n",
              "      <td>20-29y</td>\n",
              "      <td>university</td>\n",
              "      <td>upper class</td>\n",
              "      <td>0.8240</td>\n",
              "      <td>0.0</td>\n",
              "      <td>after 2015</td>\n",
              "      <td>0.0</td>\n",
              "      <td>0.0</td>\n",
              "      <td>10238</td>\n",
              "      <td>12000.0</td>\n",
              "      <td>0</td>\n",
              "      <td>1</td>\n",
              "      <td>0</td>\n",
              "      <td>0.0</td>\n",
              "      <td>SUV</td>\n",
              "    </tr>\n",
              "    <tr>\n",
              "      <th>34688</th>\n",
              "      <td>108</td>\n",
              "      <td>26-39</td>\n",
              "      <td>male</td>\n",
              "      <td>10-19y</td>\n",
              "      <td>none</td>\n",
              "      <td>poverty</td>\n",
              "      <td>0.8090</td>\n",
              "      <td>1.0</td>\n",
              "      <td>after 2015</td>\n",
              "      <td>0.0</td>\n",
              "      <td>0.0</td>\n",
              "      <td>10238</td>\n",
              "      <td>12000.0</td>\n",
              "      <td>1</td>\n",
              "      <td>0</td>\n",
              "      <td>0</td>\n",
              "      <td>1.0</td>\n",
              "      <td>Sports Car</td>\n",
              "    </tr>\n",
              "    <tr>\n",
              "      <th>87525</th>\n",
              "      <td>108</td>\n",
              "      <td>40-64</td>\n",
              "      <td>female</td>\n",
              "      <td>0-9y</td>\n",
              "      <td>high school</td>\n",
              "      <td>upper class</td>\n",
              "      <td>0.7332</td>\n",
              "      <td>1.0</td>\n",
              "      <td>before 2015</td>\n",
              "      <td>1.0</td>\n",
              "      <td>0.0</td>\n",
              "      <td>10238</td>\n",
              "      <td>13000.0</td>\n",
              "      <td>0</td>\n",
              "      <td>0</td>\n",
              "      <td>5</td>\n",
              "      <td>1.0</td>\n",
              "      <td>HatchBack</td>\n",
              "    </tr>\n",
              "  </tbody>\n",
              "</table>\n",
              "</div>\n",
              "      <button class=\"colab-df-convert\" onclick=\"convertToInteractive('df-fe8a8415-814a-4765-bb15-e5f248a1e60e')\"\n",
              "              title=\"Convert this dataframe to an interactive table.\"\n",
              "              style=\"display:none;\">\n",
              "        \n",
              "  <svg xmlns=\"http://www.w3.org/2000/svg\" height=\"24px\"viewBox=\"0 0 24 24\"\n",
              "       width=\"24px\">\n",
              "    <path d=\"M0 0h24v24H0V0z\" fill=\"none\"/>\n",
              "    <path d=\"M18.56 5.44l.94 2.06.94-2.06 2.06-.94-2.06-.94-.94-2.06-.94 2.06-2.06.94zm-11 1L8.5 8.5l.94-2.06 2.06-.94-2.06-.94L8.5 2.5l-.94 2.06-2.06.94zm10 10l.94 2.06.94-2.06 2.06-.94-2.06-.94-.94-2.06-.94 2.06-2.06.94z\"/><path d=\"M17.41 7.96l-1.37-1.37c-.4-.4-.92-.59-1.43-.59-.52 0-1.04.2-1.43.59L10.3 9.45l-7.72 7.72c-.78.78-.78 2.05 0 2.83L4 21.41c.39.39.9.59 1.41.59.51 0 1.02-.2 1.41-.59l7.78-7.78 2.81-2.81c.8-.78.8-2.07 0-2.86zM5.41 20L4 18.59l7.72-7.72 1.47 1.35L5.41 20z\"/>\n",
              "  </svg>\n",
              "      </button>\n",
              "      \n",
              "  <style>\n",
              "    .colab-df-container {\n",
              "      display:flex;\n",
              "      flex-wrap:wrap;\n",
              "      gap: 12px;\n",
              "    }\n",
              "\n",
              "    .colab-df-convert {\n",
              "      background-color: #E8F0FE;\n",
              "      border: none;\n",
              "      border-radius: 50%;\n",
              "      cursor: pointer;\n",
              "      display: none;\n",
              "      fill: #1967D2;\n",
              "      height: 32px;\n",
              "      padding: 0 0 0 0;\n",
              "      width: 32px;\n",
              "    }\n",
              "\n",
              "    .colab-df-convert:hover {\n",
              "      background-color: #E2EBFA;\n",
              "      box-shadow: 0px 1px 2px rgba(60, 64, 67, 0.3), 0px 1px 3px 1px rgba(60, 64, 67, 0.15);\n",
              "      fill: #174EA6;\n",
              "    }\n",
              "\n",
              "    [theme=dark] .colab-df-convert {\n",
              "      background-color: #3B4455;\n",
              "      fill: #D2E3FC;\n",
              "    }\n",
              "\n",
              "    [theme=dark] .colab-df-convert:hover {\n",
              "      background-color: #434B5C;\n",
              "      box-shadow: 0px 1px 3px 1px rgba(0, 0, 0, 0.15);\n",
              "      filter: drop-shadow(0px 1px 2px rgba(0, 0, 0, 0.3));\n",
              "      fill: #FFFFFF;\n",
              "    }\n",
              "  </style>\n",
              "\n",
              "      <script>\n",
              "        const buttonEl =\n",
              "          document.querySelector('#df-fe8a8415-814a-4765-bb15-e5f248a1e60e button.colab-df-convert');\n",
              "        buttonEl.style.display =\n",
              "          google.colab.kernel.accessAllowed ? 'block' : 'none';\n",
              "\n",
              "        async function convertToInteractive(key) {\n",
              "          const element = document.querySelector('#df-fe8a8415-814a-4765-bb15-e5f248a1e60e');\n",
              "          const dataTable =\n",
              "            await google.colab.kernel.invokeFunction('convertToInteractive',\n",
              "                                                     [key], {});\n",
              "          if (!dataTable) return;\n",
              "\n",
              "          const docLinkHtml = 'Like what you see? Visit the ' +\n",
              "            '<a target=\"_blank\" href=https://colab.research.google.com/notebooks/data_table.ipynb>data table notebook</a>'\n",
              "            + ' to learn more about interactive tables.';\n",
              "          element.innerHTML = '';\n",
              "          dataTable['output_type'] = 'display_data';\n",
              "          await google.colab.output.renderOutput(dataTable, element);\n",
              "          const docLink = document.createElement('div');\n",
              "          docLink.innerHTML = docLinkHtml;\n",
              "          element.appendChild(docLink);\n",
              "        }\n",
              "      </script>\n",
              "    </div>\n",
              "  </div>\n",
              "  "
            ]
          },
          "metadata": {},
          "execution_count": 27
        }
      ]
    },
    {
      "cell_type": "code",
      "source": [
        "composite.loc[composite.ID == 108]"
      ],
      "metadata": {
        "colab": {
          "base_uri": "https://localhost:8080/",
          "height": 0
        },
        "outputId": "e1084e33-8e79-4589-b668-e93143db3fd5",
        "id": "_eUYk7IF4N5a"
      },
      "execution_count": 28,
      "outputs": [
        {
          "output_type": "execute_result",
          "data": {
            "text/plain": [
              "         ID    AGE  GENDER DRIVING_EXPERIENCE    EDUCATION         INCOME  \\\n",
              "16053   108    65+    male             20-29y         none    upper class   \n",
              "18546   108  26-39    male             10-19y  high school        poverty   \n",
              "25935   108    65+    male             10-19y   university  working class   \n",
              "26982   108  26-39  female             20-29y   university    upper class   \n",
              "34688   108  26-39    male             10-19y         none        poverty   \n",
              "87525   108  40-64  female               0-9y  high school    upper class   \n",
              "142897  108    65+    male               0-9y  high school    upper class   \n",
              "147412  108    65+  female             20-29y         none    upper class   \n",
              "\n",
              "        CREDIT_SCORE  VEHICLE_OWNERSHIP VEHICLE_YEAR  MARRIED  CHILDREN  \\\n",
              "16053         0.5973                1.0   after 2015      1.0       1.0   \n",
              "18546         0.6211                1.0  before 2015      1.0       0.0   \n",
              "25935         0.5544                1.0   after 2015      1.0       1.0   \n",
              "26982         0.8240                0.0   after 2015      0.0       0.0   \n",
              "34688         0.8090                1.0   after 2015      0.0       0.0   \n",
              "87525         0.7332                1.0  before 2015      1.0       0.0   \n",
              "142897        0.6141                1.0   after 2015      1.0       0.0   \n",
              "147412        0.4296                1.0   after 2015      1.0       1.0   \n",
              "\n",
              "        POSTAL_CODE  ANNUAL_MILEAGE  SPEEDING_VIOLATIONS  DUIS  \\\n",
              "16053         10238          8000.0                    0     0   \n",
              "18546         10238         13000.0                    0     0   \n",
              "25935         33654         14000.0                    0     0   \n",
              "26982         10238         12000.0                    0     1   \n",
              "34688         10238         12000.0                    1     0   \n",
              "87525         10238         13000.0                    0     0   \n",
              "142897        10238          8000.0                    0     0   \n",
              "147412        30317          9000.0                    0     0   \n",
              "\n",
              "        PAST_ACCIDENTS TYPE_OF_VEHICLE  \n",
              "16053                2      Sports Car  \n",
              "18546                0       HatchBack  \n",
              "25935                1      Sports Car  \n",
              "26982                0             SUV  \n",
              "34688                0      Sports Car  \n",
              "87525                5       HatchBack  \n",
              "142897               0      Sports Car  \n",
              "147412               0      Sports Car  "
            ],
            "text/html": [
              "\n",
              "  <div id=\"df-18ba2237-d8cc-442c-901a-ac101330d8ae\">\n",
              "    <div class=\"colab-df-container\">\n",
              "      <div>\n",
              "<style scoped>\n",
              "    .dataframe tbody tr th:only-of-type {\n",
              "        vertical-align: middle;\n",
              "    }\n",
              "\n",
              "    .dataframe tbody tr th {\n",
              "        vertical-align: top;\n",
              "    }\n",
              "\n",
              "    .dataframe thead th {\n",
              "        text-align: right;\n",
              "    }\n",
              "</style>\n",
              "<table border=\"1\" class=\"dataframe\">\n",
              "  <thead>\n",
              "    <tr style=\"text-align: right;\">\n",
              "      <th></th>\n",
              "      <th>ID</th>\n",
              "      <th>AGE</th>\n",
              "      <th>GENDER</th>\n",
              "      <th>DRIVING_EXPERIENCE</th>\n",
              "      <th>EDUCATION</th>\n",
              "      <th>INCOME</th>\n",
              "      <th>CREDIT_SCORE</th>\n",
              "      <th>VEHICLE_OWNERSHIP</th>\n",
              "      <th>VEHICLE_YEAR</th>\n",
              "      <th>MARRIED</th>\n",
              "      <th>CHILDREN</th>\n",
              "      <th>POSTAL_CODE</th>\n",
              "      <th>ANNUAL_MILEAGE</th>\n",
              "      <th>SPEEDING_VIOLATIONS</th>\n",
              "      <th>DUIS</th>\n",
              "      <th>PAST_ACCIDENTS</th>\n",
              "      <th>TYPE_OF_VEHICLE</th>\n",
              "    </tr>\n",
              "  </thead>\n",
              "  <tbody>\n",
              "    <tr>\n",
              "      <th>16053</th>\n",
              "      <td>108</td>\n",
              "      <td>65+</td>\n",
              "      <td>male</td>\n",
              "      <td>20-29y</td>\n",
              "      <td>none</td>\n",
              "      <td>upper class</td>\n",
              "      <td>0.5973</td>\n",
              "      <td>1.0</td>\n",
              "      <td>after 2015</td>\n",
              "      <td>1.0</td>\n",
              "      <td>1.0</td>\n",
              "      <td>10238</td>\n",
              "      <td>8000.0</td>\n",
              "      <td>0</td>\n",
              "      <td>0</td>\n",
              "      <td>2</td>\n",
              "      <td>Sports Car</td>\n",
              "    </tr>\n",
              "    <tr>\n",
              "      <th>18546</th>\n",
              "      <td>108</td>\n",
              "      <td>26-39</td>\n",
              "      <td>male</td>\n",
              "      <td>10-19y</td>\n",
              "      <td>high school</td>\n",
              "      <td>poverty</td>\n",
              "      <td>0.6211</td>\n",
              "      <td>1.0</td>\n",
              "      <td>before 2015</td>\n",
              "      <td>1.0</td>\n",
              "      <td>0.0</td>\n",
              "      <td>10238</td>\n",
              "      <td>13000.0</td>\n",
              "      <td>0</td>\n",
              "      <td>0</td>\n",
              "      <td>0</td>\n",
              "      <td>HatchBack</td>\n",
              "    </tr>\n",
              "    <tr>\n",
              "      <th>25935</th>\n",
              "      <td>108</td>\n",
              "      <td>65+</td>\n",
              "      <td>male</td>\n",
              "      <td>10-19y</td>\n",
              "      <td>university</td>\n",
              "      <td>working class</td>\n",
              "      <td>0.5544</td>\n",
              "      <td>1.0</td>\n",
              "      <td>after 2015</td>\n",
              "      <td>1.0</td>\n",
              "      <td>1.0</td>\n",
              "      <td>33654</td>\n",
              "      <td>14000.0</td>\n",
              "      <td>0</td>\n",
              "      <td>0</td>\n",
              "      <td>1</td>\n",
              "      <td>Sports Car</td>\n",
              "    </tr>\n",
              "    <tr>\n",
              "      <th>26982</th>\n",
              "      <td>108</td>\n",
              "      <td>26-39</td>\n",
              "      <td>female</td>\n",
              "      <td>20-29y</td>\n",
              "      <td>university</td>\n",
              "      <td>upper class</td>\n",
              "      <td>0.8240</td>\n",
              "      <td>0.0</td>\n",
              "      <td>after 2015</td>\n",
              "      <td>0.0</td>\n",
              "      <td>0.0</td>\n",
              "      <td>10238</td>\n",
              "      <td>12000.0</td>\n",
              "      <td>0</td>\n",
              "      <td>1</td>\n",
              "      <td>0</td>\n",
              "      <td>SUV</td>\n",
              "    </tr>\n",
              "    <tr>\n",
              "      <th>34688</th>\n",
              "      <td>108</td>\n",
              "      <td>26-39</td>\n",
              "      <td>male</td>\n",
              "      <td>10-19y</td>\n",
              "      <td>none</td>\n",
              "      <td>poverty</td>\n",
              "      <td>0.8090</td>\n",
              "      <td>1.0</td>\n",
              "      <td>after 2015</td>\n",
              "      <td>0.0</td>\n",
              "      <td>0.0</td>\n",
              "      <td>10238</td>\n",
              "      <td>12000.0</td>\n",
              "      <td>1</td>\n",
              "      <td>0</td>\n",
              "      <td>0</td>\n",
              "      <td>Sports Car</td>\n",
              "    </tr>\n",
              "    <tr>\n",
              "      <th>87525</th>\n",
              "      <td>108</td>\n",
              "      <td>40-64</td>\n",
              "      <td>female</td>\n",
              "      <td>0-9y</td>\n",
              "      <td>high school</td>\n",
              "      <td>upper class</td>\n",
              "      <td>0.7332</td>\n",
              "      <td>1.0</td>\n",
              "      <td>before 2015</td>\n",
              "      <td>1.0</td>\n",
              "      <td>0.0</td>\n",
              "      <td>10238</td>\n",
              "      <td>13000.0</td>\n",
              "      <td>0</td>\n",
              "      <td>0</td>\n",
              "      <td>5</td>\n",
              "      <td>HatchBack</td>\n",
              "    </tr>\n",
              "    <tr>\n",
              "      <th>142897</th>\n",
              "      <td>108</td>\n",
              "      <td>65+</td>\n",
              "      <td>male</td>\n",
              "      <td>0-9y</td>\n",
              "      <td>high school</td>\n",
              "      <td>upper class</td>\n",
              "      <td>0.6141</td>\n",
              "      <td>1.0</td>\n",
              "      <td>after 2015</td>\n",
              "      <td>1.0</td>\n",
              "      <td>0.0</td>\n",
              "      <td>10238</td>\n",
              "      <td>8000.0</td>\n",
              "      <td>0</td>\n",
              "      <td>0</td>\n",
              "      <td>0</td>\n",
              "      <td>Sports Car</td>\n",
              "    </tr>\n",
              "    <tr>\n",
              "      <th>147412</th>\n",
              "      <td>108</td>\n",
              "      <td>65+</td>\n",
              "      <td>female</td>\n",
              "      <td>20-29y</td>\n",
              "      <td>none</td>\n",
              "      <td>upper class</td>\n",
              "      <td>0.4296</td>\n",
              "      <td>1.0</td>\n",
              "      <td>after 2015</td>\n",
              "      <td>1.0</td>\n",
              "      <td>1.0</td>\n",
              "      <td>30317</td>\n",
              "      <td>9000.0</td>\n",
              "      <td>0</td>\n",
              "      <td>0</td>\n",
              "      <td>0</td>\n",
              "      <td>Sports Car</td>\n",
              "    </tr>\n",
              "  </tbody>\n",
              "</table>\n",
              "</div>\n",
              "      <button class=\"colab-df-convert\" onclick=\"convertToInteractive('df-18ba2237-d8cc-442c-901a-ac101330d8ae')\"\n",
              "              title=\"Convert this dataframe to an interactive table.\"\n",
              "              style=\"display:none;\">\n",
              "        \n",
              "  <svg xmlns=\"http://www.w3.org/2000/svg\" height=\"24px\"viewBox=\"0 0 24 24\"\n",
              "       width=\"24px\">\n",
              "    <path d=\"M0 0h24v24H0V0z\" fill=\"none\"/>\n",
              "    <path d=\"M18.56 5.44l.94 2.06.94-2.06 2.06-.94-2.06-.94-.94-2.06-.94 2.06-2.06.94zm-11 1L8.5 8.5l.94-2.06 2.06-.94-2.06-.94L8.5 2.5l-.94 2.06-2.06.94zm10 10l.94 2.06.94-2.06 2.06-.94-2.06-.94-.94-2.06-.94 2.06-2.06.94z\"/><path d=\"M17.41 7.96l-1.37-1.37c-.4-.4-.92-.59-1.43-.59-.52 0-1.04.2-1.43.59L10.3 9.45l-7.72 7.72c-.78.78-.78 2.05 0 2.83L4 21.41c.39.39.9.59 1.41.59.51 0 1.02-.2 1.41-.59l7.78-7.78 2.81-2.81c.8-.78.8-2.07 0-2.86zM5.41 20L4 18.59l7.72-7.72 1.47 1.35L5.41 20z\"/>\n",
              "  </svg>\n",
              "      </button>\n",
              "      \n",
              "  <style>\n",
              "    .colab-df-container {\n",
              "      display:flex;\n",
              "      flex-wrap:wrap;\n",
              "      gap: 12px;\n",
              "    }\n",
              "\n",
              "    .colab-df-convert {\n",
              "      background-color: #E8F0FE;\n",
              "      border: none;\n",
              "      border-radius: 50%;\n",
              "      cursor: pointer;\n",
              "      display: none;\n",
              "      fill: #1967D2;\n",
              "      height: 32px;\n",
              "      padding: 0 0 0 0;\n",
              "      width: 32px;\n",
              "    }\n",
              "\n",
              "    .colab-df-convert:hover {\n",
              "      background-color: #E2EBFA;\n",
              "      box-shadow: 0px 1px 2px rgba(60, 64, 67, 0.3), 0px 1px 3px 1px rgba(60, 64, 67, 0.15);\n",
              "      fill: #174EA6;\n",
              "    }\n",
              "\n",
              "    [theme=dark] .colab-df-convert {\n",
              "      background-color: #3B4455;\n",
              "      fill: #D2E3FC;\n",
              "    }\n",
              "\n",
              "    [theme=dark] .colab-df-convert:hover {\n",
              "      background-color: #434B5C;\n",
              "      box-shadow: 0px 1px 3px 1px rgba(0, 0, 0, 0.15);\n",
              "      filter: drop-shadow(0px 1px 2px rgba(0, 0, 0, 0.3));\n",
              "      fill: #FFFFFF;\n",
              "    }\n",
              "  </style>\n",
              "\n",
              "      <script>\n",
              "        const buttonEl =\n",
              "          document.querySelector('#df-18ba2237-d8cc-442c-901a-ac101330d8ae button.colab-df-convert');\n",
              "        buttonEl.style.display =\n",
              "          google.colab.kernel.accessAllowed ? 'block' : 'none';\n",
              "\n",
              "        async function convertToInteractive(key) {\n",
              "          const element = document.querySelector('#df-18ba2237-d8cc-442c-901a-ac101330d8ae');\n",
              "          const dataTable =\n",
              "            await google.colab.kernel.invokeFunction('convertToInteractive',\n",
              "                                                     [key], {});\n",
              "          if (!dataTable) return;\n",
              "\n",
              "          const docLinkHtml = 'Like what you see? Visit the ' +\n",
              "            '<a target=\"_blank\" href=https://colab.research.google.com/notebooks/data_table.ipynb>data table notebook</a>'\n",
              "            + ' to learn more about interactive tables.';\n",
              "          element.innerHTML = '';\n",
              "          dataTable['output_type'] = 'display_data';\n",
              "          await google.colab.output.renderOutput(dataTable, element);\n",
              "          const docLink = document.createElement('div');\n",
              "          docLink.innerHTML = docLinkHtml;\n",
              "          element.appendChild(docLink);\n",
              "        }\n",
              "      </script>\n",
              "    </div>\n",
              "  </div>\n",
              "  "
            ]
          },
          "metadata": {},
          "execution_count": 28
        }
      ]
    },
    {
      "cell_type": "markdown",
      "source": [
        "Same ID is attached to obviously different people. This why there were no duplicate rows even though IDs were same.  \n",
        "\n",
        "Previous theory about same person being in repeated incidents can be discarded."
      ],
      "metadata": {
        "id": "7bgqpVsJ4N5a"
      }
    },
    {
      "cell_type": "markdown",
      "source": [
        "We can create column(s) based on whether a particular ID is present multiple times or not, and check if it is statistically significant. It may be significant due to some case we haven't considered or cannot confirm. E.g. multiple parties involved in same incident.\n",
        "\n",
        "After creating new columns we can drop ID as a feature."
      ],
      "metadata": {
        "id": "Lak6lvUM4N5b"
      }
    },
    {
      "cell_type": "markdown",
      "source": [
        "### New columns: IS_ID_REPEATED, ID_COUNT"
      ],
      "metadata": {
        "id": "_4pNEptV4N5c"
      }
    },
    {
      "cell_type": "code",
      "source": [
        "ID_counts = composite.ID.value_counts()\n",
        "composite['IS_ID_REPEATED'] = composite.ID.apply(lambda x: ID_counts[x] > 1).astype('int8')\n",
        "composite['ID_COUNT'] = composite.ID.apply(lambda x: ID_counts[x])"
      ],
      "metadata": {
        "id": "9Mu58DWO4N5c"
      },
      "execution_count": 29,
      "outputs": []
    },
    {
      "cell_type": "code",
      "source": [
        "train['IS_ID_REPEATED'] = composite.IS_ID_REPEATED[:105000].values\n",
        "test['IS_ID_REPEATED'] = composite.IS_ID_REPEATED[105000:].values\n",
        "\n",
        "train['ID_COUNT'] = composite.ID_COUNT[:105000].values\n",
        "test['ID_COUNT'] = composite.ID_COUNT[105000:].values"
      ],
      "metadata": {
        "id": "3XIE7BSk4N5d"
      },
      "execution_count": 30,
      "outputs": []
    },
    {
      "cell_type": "code",
      "source": [
        "train.IS_ID_REPEATED.value_counts(normalize=True)"
      ],
      "metadata": {
        "colab": {
          "base_uri": "https://localhost:8080/"
        },
        "outputId": "75328c30-f6b2-49b4-bda3-c4cbf04ca476",
        "id": "aDVqTq4g4N5d"
      },
      "execution_count": 31,
      "outputs": [
        {
          "output_type": "execute_result",
          "data": {
            "text/plain": [
              "0    0.8368\n",
              "1    0.1632\n",
              "Name: IS_ID_REPEATED, dtype: float64"
            ]
          },
          "metadata": {},
          "execution_count": 31
        }
      ]
    },
    {
      "cell_type": "code",
      "source": [
        "test.IS_ID_REPEATED.value_counts(normalize=True)"
      ],
      "metadata": {
        "colab": {
          "base_uri": "https://localhost:8080/"
        },
        "outputId": "d0b7b10b-e597-48ed-a0ab-b01d6ce4ac0b",
        "id": "RuWydoA14N5e"
      },
      "execution_count": 32,
      "outputs": [
        {
          "output_type": "execute_result",
          "data": {
            "text/plain": [
              "0    0.8325\n",
              "1    0.1675\n",
              "Name: IS_ID_REPEATED, dtype: float64"
            ]
          },
          "metadata": {},
          "execution_count": 32
        }
      ]
    },
    {
      "cell_type": "code",
      "source": [
        "train.groupby('IS_ID_REPEATED')[TARGET].value_counts(normalize=True)"
      ],
      "metadata": {
        "colab": {
          "base_uri": "https://localhost:8080/"
        },
        "outputId": "5dcaecc7-10e2-4a65-e369-9aac3896f892",
        "id": "-0WEPINm4N5e"
      },
      "execution_count": 33,
      "outputs": [
        {
          "output_type": "execute_result",
          "data": {
            "text/plain": [
              "IS_ID_REPEATED  OUTCOME\n",
              "0               0.0        0.5777\n",
              "                1.0        0.4223\n",
              "1               0.0        0.5753\n",
              "                1.0        0.4247\n",
              "Name: OUTCOME, dtype: float64"
            ]
          },
          "metadata": {},
          "execution_count": 33
        }
      ]
    },
    {
      "cell_type": "code",
      "source": [
        "train.loc[train.ID_COUNT == 1][TARGET].value_counts(normalize=True)"
      ],
      "metadata": {
        "colab": {
          "base_uri": "https://localhost:8080/"
        },
        "outputId": "8bdaa4ce-3a28-4f24-94d5-bd34fab7fc9d",
        "id": "nD1Vsz9m4N5f"
      },
      "execution_count": 34,
      "outputs": [
        {
          "output_type": "execute_result",
          "data": {
            "text/plain": [
              "0.0    0.5777\n",
              "1.0    0.4223\n",
              "Name: OUTCOME, dtype: float64"
            ]
          },
          "metadata": {},
          "execution_count": 34
        }
      ]
    },
    {
      "cell_type": "code",
      "source": [
        "train.loc[train.ID_COUNT > 1][TARGET].value_counts(normalize=True)"
      ],
      "metadata": {
        "colab": {
          "base_uri": "https://localhost:8080/"
        },
        "outputId": "4f758486-98ac-4718-b0ce-acd3ba485b50",
        "id": "jos6GVEe4N5g"
      },
      "execution_count": 35,
      "outputs": [
        {
          "output_type": "execute_result",
          "data": {
            "text/plain": [
              "0.0    0.5753\n",
              "1.0    0.4247\n",
              "Name: OUTCOME, dtype: float64"
            ]
          },
          "metadata": {},
          "execution_count": 35
        }
      ]
    },
    {
      "cell_type": "markdown",
      "source": [
        "### AGE"
      ],
      "metadata": {
        "id": "zTMsHNzNQnUn"
      }
    },
    {
      "cell_type": "code",
      "source": [
        "train.AGE.value_counts(normalize=True)"
      ],
      "metadata": {
        "colab": {
          "base_uri": "https://localhost:8080/"
        },
        "id": "lHtDBXIoQpPE",
        "outputId": "263e4f8f-0948-4fdd-8695-cf5530d6045d"
      },
      "execution_count": 36,
      "outputs": [
        {
          "output_type": "execute_result",
          "data": {
            "text/plain": [
              "40-64    0.3211\n",
              "65+      0.3139\n",
              "26-39    0.1906\n",
              "16-25    0.1743\n",
              "Name: AGE, dtype: float64"
            ]
          },
          "metadata": {},
          "execution_count": 36
        }
      ]
    },
    {
      "cell_type": "code",
      "source": [
        "test.AGE.value_counts(normalize=True)"
      ],
      "metadata": {
        "colab": {
          "base_uri": "https://localhost:8080/"
        },
        "id": "JC4MB_8HQv6O",
        "outputId": "fc7d7aa8-cb48-4f8f-ff76-a3d00995afd4"
      },
      "execution_count": 37,
      "outputs": [
        {
          "output_type": "execute_result",
          "data": {
            "text/plain": [
              "40-64    0.3204\n",
              "65+      0.3173\n",
              "26-39    0.1863\n",
              "16-25    0.1761\n",
              "Name: AGE, dtype: float64"
            ]
          },
          "metadata": {},
          "execution_count": 37
        }
      ]
    },
    {
      "cell_type": "code",
      "source": [
        "train.groupby('AGE')[TARGET].value_counts(normalize=True)"
      ],
      "metadata": {
        "colab": {
          "base_uri": "https://localhost:8080/"
        },
        "id": "hzMuEgAoTS93",
        "outputId": "e6a6da2b-e565-4997-e91d-3741294b5aca"
      },
      "execution_count": 38,
      "outputs": [
        {
          "output_type": "execute_result",
          "data": {
            "text/plain": [
              "AGE    OUTCOME\n",
              "16-25  0.0        0.5817\n",
              "       1.0        0.4183\n",
              "26-39  0.0        0.5770\n",
              "       1.0        0.4230\n",
              "40-64  0.0        0.5748\n",
              "       1.0        0.4252\n",
              "65+    0.0        0.5778\n",
              "       1.0        0.4222\n",
              "Name: OUTCOME, dtype: float64"
            ]
          },
          "metadata": {},
          "execution_count": 38
        }
      ]
    },
    {
      "cell_type": "code",
      "source": [
        "category_mappings = {}\n",
        "category_mappings['AGE'] = {'16-25': 0, '26-39': 1, '40-64': 2, '65+': 3}"
      ],
      "metadata": {
        "id": "3tMy1sR3Q4dA"
      },
      "execution_count": 39,
      "outputs": []
    },
    {
      "cell_type": "markdown",
      "source": [
        "### GENDER"
      ],
      "metadata": {
        "id": "wJy_RiDiRqaL"
      }
    },
    {
      "cell_type": "code",
      "source": [
        "train.GENDER.value_counts(normalize=True)"
      ],
      "metadata": {
        "colab": {
          "base_uri": "https://localhost:8080/"
        },
        "id": "DDxMYW3OSieS",
        "outputId": "ec435250-a809-4d2b-eb5d-f544c99976c5"
      },
      "execution_count": 40,
      "outputs": [
        {
          "output_type": "execute_result",
          "data": {
            "text/plain": [
              "male      0.6221\n",
              "female    0.3779\n",
              "Name: GENDER, dtype: float64"
            ]
          },
          "metadata": {},
          "execution_count": 40
        }
      ]
    },
    {
      "cell_type": "code",
      "source": [
        "test.GENDER.value_counts(normalize=True)"
      ],
      "metadata": {
        "colab": {
          "base_uri": "https://localhost:8080/"
        },
        "id": "yN1WfpyjSu2i",
        "outputId": "2299af9c-ebf9-4702-f7e1-875659617ba9"
      },
      "execution_count": 41,
      "outputs": [
        {
          "output_type": "execute_result",
          "data": {
            "text/plain": [
              "male      0.6213\n",
              "female    0.3787\n",
              "Name: GENDER, dtype: float64"
            ]
          },
          "metadata": {},
          "execution_count": 41
        }
      ]
    },
    {
      "cell_type": "code",
      "source": [
        "train.groupby('GENDER')[TARGET].value_counts(normalize=True)"
      ],
      "metadata": {
        "colab": {
          "base_uri": "https://localhost:8080/"
        },
        "id": "Gdicwj5jThUf",
        "outputId": "da1df768-09b2-4622-c035-aa262b240c60"
      },
      "execution_count": 42,
      "outputs": [
        {
          "output_type": "execute_result",
          "data": {
            "text/plain": [
              "GENDER  OUTCOME\n",
              "female  0.0        0.5699\n",
              "        1.0        0.4301\n",
              "male    0.0        0.5819\n",
              "        1.0        0.4181\n",
              "Name: OUTCOME, dtype: float64"
            ]
          },
          "metadata": {},
          "execution_count": 42
        }
      ]
    },
    {
      "cell_type": "code",
      "source": [
        "category_mappings['GENDER'] = {'female': 0, 'male': 1}"
      ],
      "metadata": {
        "id": "1yABSqgES0c2"
      },
      "execution_count": 43,
      "outputs": []
    },
    {
      "cell_type": "markdown",
      "source": [
        "### DRIVING EXPERIENCE"
      ],
      "metadata": {
        "id": "6Fksd1xPTlVn"
      }
    },
    {
      "cell_type": "code",
      "source": [
        "train.DRIVING_EXPERIENCE.value_counts(normalize=True)"
      ],
      "metadata": {
        "colab": {
          "base_uri": "https://localhost:8080/"
        },
        "outputId": "989dd384-4cbe-452a-cfd4-2db7aa81fcd0",
        "id": "-RVNihcMTvco"
      },
      "execution_count": 44,
      "outputs": [
        {
          "output_type": "execute_result",
          "data": {
            "text/plain": [
              "20-29y    0.3571\n",
              "0-9y      0.3153\n",
              "10-19y    0.2391\n",
              "30y+      0.0885\n",
              "Name: DRIVING_EXPERIENCE, dtype: float64"
            ]
          },
          "metadata": {},
          "execution_count": 44
        }
      ]
    },
    {
      "cell_type": "code",
      "source": [
        "test.DRIVING_EXPERIENCE.value_counts(normalize=True)"
      ],
      "metadata": {
        "colab": {
          "base_uri": "https://localhost:8080/"
        },
        "outputId": "2628d6b4-f7dd-41f9-c463-d9d44654bb36",
        "id": "YNtpB-2TTvcr"
      },
      "execution_count": 45,
      "outputs": [
        {
          "output_type": "execute_result",
          "data": {
            "text/plain": [
              "20-29y    0.3609\n",
              "0-9y      0.3168\n",
              "10-19y    0.2368\n",
              "30y+      0.0855\n",
              "Name: DRIVING_EXPERIENCE, dtype: float64"
            ]
          },
          "metadata": {},
          "execution_count": 45
        }
      ]
    },
    {
      "cell_type": "code",
      "source": [
        "train.groupby('DRIVING_EXPERIENCE')[TARGET].value_counts(normalize=True)"
      ],
      "metadata": {
        "colab": {
          "base_uri": "https://localhost:8080/"
        },
        "outputId": "3ba21b8f-e732-4028-f8c2-0d3ee133e114",
        "id": "Tijz-HRXTvct"
      },
      "execution_count": 46,
      "outputs": [
        {
          "output_type": "execute_result",
          "data": {
            "text/plain": [
              "DRIVING_EXPERIENCE  OUTCOME\n",
              "0-9y                0.0        0.5808\n",
              "                    1.0        0.4192\n",
              "10-19y              0.0        0.5869\n",
              "                    1.0        0.4131\n",
              "20-29y              0.0        0.5687\n",
              "                    1.0        0.4313\n",
              "30y+                0.0        0.5741\n",
              "                    1.0        0.4259\n",
              "Name: OUTCOME, dtype: float64"
            ]
          },
          "metadata": {},
          "execution_count": 46
        }
      ]
    },
    {
      "cell_type": "code",
      "source": [
        "category_mappings['DRIVING_EXPERIENCE'] = {'0-9y': 0, '10-19y': 1, '20-29y': 2, '30y+': 3}"
      ],
      "metadata": {
        "id": "uSPcGzGETvcs"
      },
      "execution_count": 47,
      "outputs": []
    },
    {
      "cell_type": "markdown",
      "source": [
        "### EDUCATION"
      ],
      "metadata": {
        "id": "FK3nTd8oUYE4"
      }
    },
    {
      "cell_type": "code",
      "source": [
        "train.EDUCATION.value_counts(normalize=True)"
      ],
      "metadata": {
        "colab": {
          "base_uri": "https://localhost:8080/"
        },
        "outputId": "9c70b269-9edb-48a0-ed39-24344b437ad2",
        "id": "iZhUZX9LUfgc"
      },
      "execution_count": 48,
      "outputs": [
        {
          "output_type": "execute_result",
          "data": {
            "text/plain": [
              "high school    0.4437\n",
              "university     0.2973\n",
              "none           0.2590\n",
              "Name: EDUCATION, dtype: float64"
            ]
          },
          "metadata": {},
          "execution_count": 48
        }
      ]
    },
    {
      "cell_type": "code",
      "source": [
        "test.EDUCATION.value_counts(normalize=True)"
      ],
      "metadata": {
        "colab": {
          "base_uri": "https://localhost:8080/"
        },
        "outputId": "83ed9a5b-4e3b-4194-c899-82cde16acc6b",
        "id": "sgivokZfUfge"
      },
      "execution_count": 49,
      "outputs": [
        {
          "output_type": "execute_result",
          "data": {
            "text/plain": [
              "high school    0.4439\n",
              "university     0.2964\n",
              "none           0.2597\n",
              "Name: EDUCATION, dtype: float64"
            ]
          },
          "metadata": {},
          "execution_count": 49
        }
      ]
    },
    {
      "cell_type": "code",
      "source": [
        "train.groupby('EDUCATION')[TARGET].value_counts(normalize=True)"
      ],
      "metadata": {
        "colab": {
          "base_uri": "https://localhost:8080/"
        },
        "outputId": "01b8fea8-6899-415e-fffd-f916f0920c39",
        "id": "C6ytc_UwUfgf"
      },
      "execution_count": 50,
      "outputs": [
        {
          "output_type": "execute_result",
          "data": {
            "text/plain": [
              "EDUCATION    OUTCOME\n",
              "high school  0.0        0.5765\n",
              "             1.0        0.4235\n",
              "none         0.0        0.5759\n",
              "             1.0        0.4241\n",
              "university   0.0        0.5799\n",
              "             1.0        0.4201\n",
              "Name: OUTCOME, dtype: float64"
            ]
          },
          "metadata": {},
          "execution_count": 50
        }
      ]
    },
    {
      "cell_type": "code",
      "source": [
        "category_mappings['EDUCATION'] = {'none': 0, 'high school': 1, 'university': 2}"
      ],
      "metadata": {
        "id": "HDIu_62JUfgf"
      },
      "execution_count": 51,
      "outputs": []
    },
    {
      "cell_type": "markdown",
      "source": [
        "### INCOME"
      ],
      "metadata": {
        "id": "IFGmdq0WU6l2"
      }
    },
    {
      "cell_type": "code",
      "source": [
        "train.INCOME.value_counts(normalize=True)"
      ],
      "metadata": {
        "colab": {
          "base_uri": "https://localhost:8080/"
        },
        "outputId": "1efc02f2-47b6-4333-c97c-7fa38cc7d1d3",
        "id": "jwoPPxc5U_mw"
      },
      "execution_count": 52,
      "outputs": [
        {
          "output_type": "execute_result",
          "data": {
            "text/plain": [
              "upper class      0.4883\n",
              "working class    0.2329\n",
              "middle class     0.1404\n",
              "poverty          0.1384\n",
              "Name: INCOME, dtype: float64"
            ]
          },
          "metadata": {},
          "execution_count": 52
        }
      ]
    },
    {
      "cell_type": "code",
      "source": [
        "test.INCOME.value_counts(normalize=True)"
      ],
      "metadata": {
        "colab": {
          "base_uri": "https://localhost:8080/"
        },
        "outputId": "e2de022e-cf10-4f2a-e3ef-2a68f83e63cf",
        "id": "oULSdnB2U_my"
      },
      "execution_count": 53,
      "outputs": [
        {
          "output_type": "execute_result",
          "data": {
            "text/plain": [
              "upper class      0.4866\n",
              "working class    0.2333\n",
              "middle class     0.1409\n",
              "poverty          0.1393\n",
              "Name: INCOME, dtype: float64"
            ]
          },
          "metadata": {},
          "execution_count": 53
        }
      ]
    },
    {
      "cell_type": "code",
      "source": [
        "train.groupby('INCOME')[TARGET].value_counts(normalize=True)"
      ],
      "metadata": {
        "colab": {
          "base_uri": "https://localhost:8080/"
        },
        "outputId": "2c8eb94b-d8f3-4277-f72e-57e1373d55f6",
        "id": "uFbIJNV5U_mz"
      },
      "execution_count": 54,
      "outputs": [
        {
          "output_type": "execute_result",
          "data": {
            "text/plain": [
              "INCOME         OUTCOME\n",
              "middle class   0.0        0.5795\n",
              "               1.0        0.4205\n",
              "poverty        0.0        0.5735\n",
              "               1.0        0.4265\n",
              "upper class    0.0        0.5767\n",
              "               1.0        0.4233\n",
              "working class  0.0        0.5798\n",
              "               1.0        0.4202\n",
              "Name: OUTCOME, dtype: float64"
            ]
          },
          "metadata": {},
          "execution_count": 54
        }
      ]
    },
    {
      "cell_type": "code",
      "source": [
        "category_mappings['INCOME'] = {'poverty': 0, 'working class': 1, 'middle class': 2, 'upper class': 3}"
      ],
      "metadata": {
        "id": "mxlWG82wU_mz"
      },
      "execution_count": 55,
      "outputs": []
    },
    {
      "cell_type": "markdown",
      "source": [
        "### CREDIT_SCORE"
      ],
      "metadata": {
        "id": "R2_yAW4PVW-o"
      }
    },
    {
      "cell_type": "code",
      "source": [
        "train.CREDIT_SCORE.describe()"
      ],
      "metadata": {
        "colab": {
          "base_uri": "https://localhost:8080/"
        },
        "id": "R4t4TjtdVbBg",
        "outputId": "11fbb085-fcc0-4338-bae4-78656e166798"
      },
      "execution_count": 56,
      "outputs": [
        {
          "output_type": "execute_result",
          "data": {
            "text/plain": [
              "count    105000.0000\n",
              "mean          0.6022\n",
              "std           0.1380\n",
              "min           0.0669\n",
              "25%           0.5149\n",
              "50%           0.6011\n",
              "75%           0.7032\n",
              "max           0.9541\n",
              "Name: CREDIT_SCORE, dtype: float64"
            ]
          },
          "metadata": {},
          "execution_count": 56
        }
      ]
    },
    {
      "cell_type": "code",
      "source": [
        "test.CREDIT_SCORE.describe()"
      ],
      "metadata": {
        "colab": {
          "base_uri": "https://localhost:8080/"
        },
        "id": "BkRcIIl0Veni",
        "outputId": "a09d935b-b98f-4d1b-a106-caf67b4a1b8b"
      },
      "execution_count": 57,
      "outputs": [
        {
          "output_type": "execute_result",
          "data": {
            "text/plain": [
              "count    45000.0000\n",
              "mean         0.6020\n",
              "std          0.1374\n",
              "min          0.0638\n",
              "25%          0.5146\n",
              "50%          0.5999\n",
              "75%          0.7026\n",
              "max          0.9518\n",
              "Name: CREDIT_SCORE, dtype: float64"
            ]
          },
          "metadata": {},
          "execution_count": 57
        }
      ]
    },
    {
      "cell_type": "code",
      "source": [
        "plot_cont('CREDIT_SCORE')"
      ],
      "metadata": {
        "colab": {
          "base_uri": "https://localhost:8080/",
          "height": 0
        },
        "id": "zxumdVflViSI",
        "outputId": "d107603f-ddcf-4da9-fdc9-a0e76dd352c6"
      },
      "execution_count": 58,
      "outputs": [
        {
          "output_type": "display_data",
          "data": {
            "text/plain": [
              "<Figure size 1440x288 with 2 Axes>"
            ],
            "image/png": "[encoded data removed]"
          },
          "metadata": {
            "image/png": {
              "width": 1432,
              "height": 283
            },
            "needs_background": "light"
          }
        }
      ]
    },
    {
      "cell_type": "code",
      "source": [
        "train.groupby(TARGET)['CREDIT_SCORE'].describe()"
      ],
      "metadata": {
        "colab": {
          "base_uri": "https://localhost:8080/",
          "height": 0
        },
        "id": "K6i14w-uWUjM",
        "outputId": "61b4b1e4-a8cf-41cf-e845-21b55640a694"
      },
      "execution_count": 59,
      "outputs": [
        {
          "output_type": "execute_result",
          "data": {
            "text/plain": [
              "           count    mean     std     min     25%     50%     75%     max\n",
              "OUTCOME                                                                 \n",
              "0.0      60622.0  0.6025  0.1376  0.0669  0.5154  0.6013  0.7033  0.9538\n",
              "1.0      44378.0  0.6017  0.1386  0.0798  0.5141  0.6007  0.7031  0.9541"
            ],
            "text/html": [
              "\n",
              "  <div id=\"df-d7741ada-2cc9-42dc-9ad3-403cf0a3d1f9\">\n",
              "    <div class=\"colab-df-container\">\n",
              "      <div>\n",
              "<style scoped>\n",
              "    .dataframe tbody tr th:only-of-type {\n",
              "        vertical-align: middle;\n",
              "    }\n",
              "\n",
              "    .dataframe tbody tr th {\n",
              "        vertical-align: top;\n",
              "    }\n",
              "\n",
              "    .dataframe thead th {\n",
              "        text-align: right;\n",
              "    }\n",
              "</style>\n",
              "<table border=\"1\" class=\"dataframe\">\n",
              "  <thead>\n",
              "    <tr style=\"text-align: right;\">\n",
              "      <th></th>\n",
              "      <th>count</th>\n",
              "      <th>mean</th>\n",
              "      <th>std</th>\n",
              "      <th>min</th>\n",
              "      <th>25%</th>\n",
              "      <th>50%</th>\n",
              "      <th>75%</th>\n",
              "      <th>max</th>\n",
              "    </tr>\n",
              "    <tr>\n",
              "      <th>OUTCOME</th>\n",
              "      <th></th>\n",
              "      <th></th>\n",
              "      <th></th>\n",
              "      <th></th>\n",
              "      <th></th>\n",
              "      <th></th>\n",
              "      <th></th>\n",
              "      <th></th>\n",
              "    </tr>\n",
              "  </thead>\n",
              "  <tbody>\n",
              "    <tr>\n",
              "      <th>0.0</th>\n",
              "      <td>60622.0</td>\n",
              "      <td>0.6025</td>\n",
              "      <td>0.1376</td>\n",
              "      <td>0.0669</td>\n",
              "      <td>0.5154</td>\n",
              "      <td>0.6013</td>\n",
              "      <td>0.7033</td>\n",
              "      <td>0.9538</td>\n",
              "    </tr>\n",
              "    <tr>\n",
              "      <th>1.0</th>\n",
              "      <td>44378.0</td>\n",
              "      <td>0.6017</td>\n",
              "      <td>0.1386</td>\n",
              "      <td>0.0798</td>\n",
              "      <td>0.5141</td>\n",
              "      <td>0.6007</td>\n",
              "      <td>0.7031</td>\n",
              "      <td>0.9541</td>\n",
              "    </tr>\n",
              "  </tbody>\n",
              "</table>\n",
              "</div>\n",
              "      <button class=\"colab-df-convert\" onclick=\"convertToInteractive('df-d7741ada-2cc9-42dc-9ad3-403cf0a3d1f9')\"\n",
              "              title=\"Convert this dataframe to an interactive table.\"\n",
              "              style=\"display:none;\">\n",
              "        \n",
              "  <svg xmlns=\"http://www.w3.org/2000/svg\" height=\"24px\"viewBox=\"0 0 24 24\"\n",
              "       width=\"24px\">\n",
              "    <path d=\"M0 0h24v24H0V0z\" fill=\"none\"/>\n",
              "    <path d=\"M18.56 5.44l.94 2.06.94-2.06 2.06-.94-2.06-.94-.94-2.06-.94 2.06-2.06.94zm-11 1L8.5 8.5l.94-2.06 2.06-.94-2.06-.94L8.5 2.5l-.94 2.06-2.06.94zm10 10l.94 2.06.94-2.06 2.06-.94-2.06-.94-.94-2.06-.94 2.06-2.06.94z\"/><path d=\"M17.41 7.96l-1.37-1.37c-.4-.4-.92-.59-1.43-.59-.52 0-1.04.2-1.43.59L10.3 9.45l-7.72 7.72c-.78.78-.78 2.05 0 2.83L4 21.41c.39.39.9.59 1.41.59.51 0 1.02-.2 1.41-.59l7.78-7.78 2.81-2.81c.8-.78.8-2.07 0-2.86zM5.41 20L4 18.59l7.72-7.72 1.47 1.35L5.41 20z\"/>\n",
              "  </svg>\n",
              "      </button>\n",
              "      \n",
              "  <style>\n",
              "    .colab-df-container {\n",
              "      display:flex;\n",
              "      flex-wrap:wrap;\n",
              "      gap: 12px;\n",
              "    }\n",
              "\n",
              "    .colab-df-convert {\n",
              "      background-color: #E8F0FE;\n",
              "      border: none;\n",
              "      border-radius: 50%;\n",
              "      cursor: pointer;\n",
              "      display: none;\n",
              "      fill: #1967D2;\n",
              "      height: 32px;\n",
              "      padding: 0 0 0 0;\n",
              "      width: 32px;\n",
              "    }\n",
              "\n",
              "    .colab-df-convert:hover {\n",
              "      background-color: #E2EBFA;\n",
              "      box-shadow: 0px 1px 2px rgba(60, 64, 67, 0.3), 0px 1px 3px 1px rgba(60, 64, 67, 0.15);\n",
              "      fill: #174EA6;\n",
              "    }\n",
              "\n",
              "    [theme=dark] .colab-df-convert {\n",
              "      background-color: #3B4455;\n",
              "      fill: #D2E3FC;\n",
              "    }\n",
              "\n",
              "    [theme=dark] .colab-df-convert:hover {\n",
              "      background-color: #434B5C;\n",
              "      box-shadow: 0px 1px 3px 1px rgba(0, 0, 0, 0.15);\n",
              "      filter: drop-shadow(0px 1px 2px rgba(0, 0, 0, 0.3));\n",
              "      fill: #FFFFFF;\n",
              "    }\n",
              "  </style>\n",
              "\n",
              "      <script>\n",
              "        const buttonEl =\n",
              "          document.querySelector('#df-d7741ada-2cc9-42dc-9ad3-403cf0a3d1f9 button.colab-df-convert');\n",
              "        buttonEl.style.display =\n",
              "          google.colab.kernel.accessAllowed ? 'block' : 'none';\n",
              "\n",
              "        async function convertToInteractive(key) {\n",
              "          const element = document.querySelector('#df-d7741ada-2cc9-42dc-9ad3-403cf0a3d1f9');\n",
              "          const dataTable =\n",
              "            await google.colab.kernel.invokeFunction('convertToInteractive',\n",
              "                                                     [key], {});\n",
              "          if (!dataTable) return;\n",
              "\n",
              "          const docLinkHtml = 'Like what you see? Visit the ' +\n",
              "            '<a target=\"_blank\" href=https://colab.research.google.com/notebooks/data_table.ipynb>data table notebook</a>'\n",
              "            + ' to learn more about interactive tables.';\n",
              "          element.innerHTML = '';\n",
              "          dataTable['output_type'] = 'display_data';\n",
              "          await google.colab.output.renderOutput(dataTable, element);\n",
              "          const docLink = document.createElement('div');\n",
              "          docLink.innerHTML = docLinkHtml;\n",
              "          element.appendChild(docLink);\n",
              "        }\n",
              "      </script>\n",
              "    </div>\n",
              "  </div>\n",
              "  "
            ]
          },
          "metadata": {},
          "execution_count": 59
        }
      ]
    },
    {
      "cell_type": "code",
      "source": [
        "plot_cont_vs_target('CREDIT_SCORE')"
      ],
      "metadata": {
        "colab": {
          "base_uri": "https://localhost:8080/",
          "height": 0
        },
        "id": "XZTvfql5jq__",
        "outputId": "9e151cf8-f745-4f90-e37d-6e864258e0db"
      },
      "execution_count": 60,
      "outputs": [
        {
          "output_type": "display_data",
          "data": {
            "text/plain": [
              "<Figure size 648x288 with 1 Axes>"
            ],
            "image/png": "[encoded data removed]"
          },
          "metadata": {
            "image/png": {
              "width": 640,
              "height": 283
            },
            "needs_background": "light"
          }
        }
      ]
    },
    {
      "cell_type": "markdown",
      "source": [
        "### VEHICLE_OWNERSHIP"
      ],
      "metadata": {
        "id": "X_0SGgKHWSZ2"
      }
    },
    {
      "cell_type": "code",
      "source": [
        "train.VEHICLE_OWNERSHIP.value_counts(normalize=True)"
      ],
      "metadata": {
        "colab": {
          "base_uri": "https://localhost:8080/"
        },
        "outputId": "a487155a-5347-4b24-b167-9eeebad90fef",
        "id": "P4I-JADuWvAI"
      },
      "execution_count": 61,
      "outputs": [
        {
          "output_type": "execute_result",
          "data": {
            "text/plain": [
              "1.0    0.827\n",
              "0.0    0.173\n",
              "Name: VEHICLE_OWNERSHIP, dtype: float64"
            ]
          },
          "metadata": {},
          "execution_count": 61
        }
      ]
    },
    {
      "cell_type": "code",
      "source": [
        "test.VEHICLE_OWNERSHIP.value_counts(normalize=True)"
      ],
      "metadata": {
        "colab": {
          "base_uri": "https://localhost:8080/"
        },
        "outputId": "a8276cd0-e538-4d2b-873d-8edd21cdd89c",
        "id": "CNpvQ-lVWvAJ"
      },
      "execution_count": 62,
      "outputs": [
        {
          "output_type": "execute_result",
          "data": {
            "text/plain": [
              "1.0    0.8268\n",
              "0.0    0.1732\n",
              "Name: VEHICLE_OWNERSHIP, dtype: float64"
            ]
          },
          "metadata": {},
          "execution_count": 62
        }
      ]
    },
    {
      "cell_type": "code",
      "source": [
        "train.groupby('VEHICLE_OWNERSHIP')[TARGET].value_counts(normalize=True)"
      ],
      "metadata": {
        "colab": {
          "base_uri": "https://localhost:8080/"
        },
        "outputId": "85616e77-1583-487e-de8e-956371f17123",
        "id": "-5LXSuj8WvAL"
      },
      "execution_count": 63,
      "outputs": [
        {
          "output_type": "execute_result",
          "data": {
            "text/plain": [
              "VEHICLE_OWNERSHIP  OUTCOME\n",
              "0.0                0.0        0.574\n",
              "                   1.0        0.426\n",
              "1.0                0.0        0.578\n",
              "                   1.0        0.422\n",
              "Name: OUTCOME, dtype: float64"
            ]
          },
          "metadata": {},
          "execution_count": 63
        }
      ]
    },
    {
      "cell_type": "markdown",
      "source": [
        "### VEHICLE_YEAR"
      ],
      "metadata": {
        "id": "5zjTAGw-XLHh"
      }
    },
    {
      "cell_type": "code",
      "source": [
        "train.VEHICLE_YEAR.value_counts(normalize=True)"
      ],
      "metadata": {
        "colab": {
          "base_uri": "https://localhost:8080/"
        },
        "outputId": "187279b3-7c6a-4d94-b405-f86521475e7e",
        "id": "y2NzNIFDXO-z"
      },
      "execution_count": 64,
      "outputs": [
        {
          "output_type": "execute_result",
          "data": {
            "text/plain": [
              "before 2015    0.5477\n",
              "after 2015     0.4523\n",
              "Name: VEHICLE_YEAR, dtype: float64"
            ]
          },
          "metadata": {},
          "execution_count": 64
        }
      ]
    },
    {
      "cell_type": "code",
      "source": [
        "test.VEHICLE_YEAR.value_counts(normalize=True)"
      ],
      "metadata": {
        "colab": {
          "base_uri": "https://localhost:8080/"
        },
        "outputId": "b7343242-de63-456d-a4c6-d07858b91fc8",
        "id": "3lAzVrLNXO-1"
      },
      "execution_count": 65,
      "outputs": [
        {
          "output_type": "execute_result",
          "data": {
            "text/plain": [
              "before 2015    0.5476\n",
              "after 2015     0.4524\n",
              "Name: VEHICLE_YEAR, dtype: float64"
            ]
          },
          "metadata": {},
          "execution_count": 65
        }
      ]
    },
    {
      "cell_type": "code",
      "source": [
        "train.groupby('VEHICLE_YEAR')[TARGET].value_counts(normalize=True)"
      ],
      "metadata": {
        "colab": {
          "base_uri": "https://localhost:8080/"
        },
        "outputId": "a88274b6-08be-4960-b8a0-5cacd9ad217a",
        "id": "oRTxsopmXO-1"
      },
      "execution_count": 66,
      "outputs": [
        {
          "output_type": "execute_result",
          "data": {
            "text/plain": [
              "VEHICLE_YEAR  OUTCOME\n",
              "after 2015    0.0        0.5778\n",
              "              1.0        0.4222\n",
              "before 2015   0.0        0.5770\n",
              "              1.0        0.4230\n",
              "Name: OUTCOME, dtype: float64"
            ]
          },
          "metadata": {},
          "execution_count": 66
        }
      ]
    },
    {
      "cell_type": "code",
      "source": [
        "category_mappings['VEHICLE_YEAR'] = {'before 2015': 0, 'after 2015': 1}"
      ],
      "metadata": {
        "id": "MZ5g4w2JXO-1"
      },
      "execution_count": 67,
      "outputs": []
    },
    {
      "cell_type": "markdown",
      "source": [
        "### MARRIED"
      ],
      "metadata": {
        "id": "GnrQqScwYA-w"
      }
    },
    {
      "cell_type": "code",
      "source": [
        "train.MARRIED.value_counts(normalize=True)"
      ],
      "metadata": {
        "colab": {
          "base_uri": "https://localhost:8080/"
        },
        "outputId": "d2b5e63c-a2de-4f71-97bf-369bb24bde77",
        "id": "qeNmQkmgYOOd"
      },
      "execution_count": 68,
      "outputs": [
        {
          "output_type": "execute_result",
          "data": {
            "text/plain": [
              "1.0    0.5841\n",
              "0.0    0.4159\n",
              "Name: MARRIED, dtype: float64"
            ]
          },
          "metadata": {},
          "execution_count": 68
        }
      ]
    },
    {
      "cell_type": "code",
      "source": [
        "test.MARRIED.value_counts(normalize=True)"
      ],
      "metadata": {
        "colab": {
          "base_uri": "https://localhost:8080/"
        },
        "outputId": "ef909dd5-a576-48f0-c7fb-4bca84cfe77e",
        "id": "SGCEVUXSYOOf"
      },
      "execution_count": 69,
      "outputs": [
        {
          "output_type": "execute_result",
          "data": {
            "text/plain": [
              "1.0    0.5826\n",
              "0.0    0.4174\n",
              "Name: MARRIED, dtype: float64"
            ]
          },
          "metadata": {},
          "execution_count": 69
        }
      ]
    },
    {
      "cell_type": "code",
      "source": [
        "train.groupby('MARRIED')[TARGET].value_counts(normalize=True)"
      ],
      "metadata": {
        "colab": {
          "base_uri": "https://localhost:8080/"
        },
        "outputId": "3e4e661a-414d-4317-810b-43663659f4a6",
        "id": "OoF77n49YOOg"
      },
      "execution_count": 70,
      "outputs": [
        {
          "output_type": "execute_result",
          "data": {
            "text/plain": [
              "MARRIED  OUTCOME\n",
              "0.0      0.0        0.5738\n",
              "         1.0        0.4262\n",
              "1.0      0.0        0.5799\n",
              "         1.0        0.4201\n",
              "Name: OUTCOME, dtype: float64"
            ]
          },
          "metadata": {},
          "execution_count": 70
        }
      ]
    },
    {
      "cell_type": "markdown",
      "source": [
        "### CHILDREN"
      ],
      "metadata": {
        "id": "Hc86tFsQYd2Q"
      }
    },
    {
      "cell_type": "code",
      "source": [
        "train.CHILDREN.value_counts(normalize=True)"
      ],
      "metadata": {
        "colab": {
          "base_uri": "https://localhost:8080/"
        },
        "outputId": "72019eed-6a27-4edd-898e-52530913b70a",
        "id": "2CBE6o-BdfCw"
      },
      "execution_count": 71,
      "outputs": [
        {
          "output_type": "execute_result",
          "data": {
            "text/plain": [
              "1.0    0.52\n",
              "0.0    0.48\n",
              "Name: CHILDREN, dtype: float64"
            ]
          },
          "metadata": {},
          "execution_count": 71
        }
      ]
    },
    {
      "cell_type": "code",
      "source": [
        "test.CHILDREN.value_counts(normalize=True)"
      ],
      "metadata": {
        "colab": {
          "base_uri": "https://localhost:8080/"
        },
        "outputId": "b33573df-bd5e-4f1a-a231-b2bc245a1b9e",
        "id": "traawR88dfCy"
      },
      "execution_count": 72,
      "outputs": [
        {
          "output_type": "execute_result",
          "data": {
            "text/plain": [
              "1.0    0.524\n",
              "0.0    0.476\n",
              "Name: CHILDREN, dtype: float64"
            ]
          },
          "metadata": {},
          "execution_count": 72
        }
      ]
    },
    {
      "cell_type": "code",
      "source": [
        "train.groupby('CHILDREN')[TARGET].value_counts(normalize=True)"
      ],
      "metadata": {
        "colab": {
          "base_uri": "https://localhost:8080/"
        },
        "outputId": "86e7296a-27f6-4dc9-ca40-f21c8aff37c6",
        "id": "cyoBCrYxdfCz"
      },
      "execution_count": 73,
      "outputs": [
        {
          "output_type": "execute_result",
          "data": {
            "text/plain": [
              "CHILDREN  OUTCOME\n",
              "0.0       0.0        0.5783\n",
              "          1.0        0.4217\n",
              "1.0       0.0        0.5765\n",
              "          1.0        0.4235\n",
              "Name: OUTCOME, dtype: float64"
            ]
          },
          "metadata": {},
          "execution_count": 73
        }
      ]
    },
    {
      "cell_type": "markdown",
      "source": [
        "### POSTAL_CODE"
      ],
      "metadata": {
        "id": "NRNC5oyQdmDU"
      }
    },
    {
      "cell_type": "code",
      "source": [
        "train.POSTAL_CODE.nunique(), test.POSTAL_CODE.nunique()"
      ],
      "metadata": {
        "colab": {
          "base_uri": "https://localhost:8080/"
        },
        "outputId": "86daaf59-094f-4e72-ab5e-34534119a196",
        "id": "7qZMW4j3dszc"
      },
      "execution_count": 74,
      "outputs": [
        {
          "output_type": "execute_result",
          "data": {
            "text/plain": [
              "(10937, 7003)"
            ]
          },
          "metadata": {},
          "execution_count": 74
        }
      ]
    },
    {
      "cell_type": "code",
      "source": [
        "train.POSTAL_CODE.apply(str).apply(len).value_counts()"
      ],
      "metadata": {
        "colab": {
          "base_uri": "https://localhost:8080/"
        },
        "id": "YIBDCFU2d3ZM",
        "outputId": "4806d517-515e-4d0c-da61-5704b536766f"
      },
      "execution_count": 75,
      "outputs": [
        {
          "output_type": "execute_result",
          "data": {
            "text/plain": [
              "5    105000\n",
              "Name: POSTAL_CODE, dtype: int64"
            ]
          },
          "metadata": {},
          "execution_count": 75
        }
      ]
    },
    {
      "cell_type": "code",
      "source": [
        "test.POSTAL_CODE.apply(str).apply(len).value_counts()"
      ],
      "metadata": {
        "colab": {
          "base_uri": "https://localhost:8080/"
        },
        "outputId": "bbe19422-fbca-42e1-d928-224e2663f3f0",
        "id": "Xdgwvr5Odszd"
      },
      "execution_count": 76,
      "outputs": [
        {
          "output_type": "execute_result",
          "data": {
            "text/plain": [
              "5    45000\n",
              "Name: POSTAL_CODE, dtype: int64"
            ]
          },
          "metadata": {},
          "execution_count": 76
        }
      ]
    },
    {
      "cell_type": "markdown",
      "source": [
        "All postal codes are 5-digit integers."
      ],
      "metadata": {
        "id": "KJPfE1UQeVNN"
      }
    },
    {
      "cell_type": "markdown",
      "source": [
        "Assuming that these postal codes follow the arrangement of actual postal codes, the first digit corresponds to region, first two digits to sub-region, and so on."
      ],
      "metadata": {
        "id": "Al6vu3hfkLNz"
      }
    },
    {
      "cell_type": "code",
      "source": [
        "train.POSTAL_CODE.apply(lambda x: str(x)[:1]).value_counts()"
      ],
      "metadata": {
        "colab": {
          "base_uri": "https://localhost:8080/"
        },
        "outputId": "45fc225a-cae2-44bc-d561-68a1a4b40737",
        "id": "K1wEmfNXdsze"
      },
      "execution_count": 77,
      "outputs": [
        {
          "output_type": "execute_result",
          "data": {
            "text/plain": [
              "1    78410\n",
              "3    20204\n",
              "9     3462\n",
              "2     2825\n",
              "4       77\n",
              "8       22\n",
              "Name: POSTAL_CODE, dtype: int64"
            ]
          },
          "metadata": {},
          "execution_count": 77
        }
      ]
    },
    {
      "cell_type": "code",
      "source": [
        "train.POSTAL_CODE.apply(lambda x: str(x)[:2]).value_counts().to_frame().T"
      ],
      "metadata": {
        "colab": {
          "base_uri": "https://localhost:8080/",
          "height": 0
        },
        "id": "Mr3CWSRsfjbv",
        "outputId": "f3eae868-3e7d-4ea9-832c-860ea52d2314"
      },
      "execution_count": 78,
      "outputs": [
        {
          "output_type": "execute_result",
          "data": {
            "text/plain": [
              "                10    33    34    92    32    35    31    36    30    37  \\\n",
              "POSTAL_CODE  77608  3191  3082  3058  2937  2668  2474  2131  1926  1249   \n",
              "\n",
              "               29   28   38   91   27   18   23   20   16   24   17   25   26  \\\n",
              "POSTAL_CODE  1239  597  466  362  179  130  128  125  122  118  117  112  110   \n",
              "\n",
              "              21   22   19  15  14  39  13  90  12  11  41  40  89  42  43  \\\n",
              "POSTAL_CODE  109  108  105  98  96  80  70  42  41  23  20  20  18  18  10   \n",
              "\n",
              "             44  87  45  88  46  \n",
              "POSTAL_CODE   5   3   3   1   1  "
            ],
            "text/html": [
              "\n",
              "  <div id=\"df-71c4c9bb-e100-4ef1-8939-a547ba5c3428\">\n",
              "    <div class=\"colab-df-container\">\n",
              "      <div>\n",
              "<style scoped>\n",
              "    .dataframe tbody tr th:only-of-type {\n",
              "        vertical-align: middle;\n",
              "    }\n",
              "\n",
              "    .dataframe tbody tr th {\n",
              "        vertical-align: top;\n",
              "    }\n",
              "\n",
              "    .dataframe thead th {\n",
              "        text-align: right;\n",
              "    }\n",
              "</style>\n",
              "<table border=\"1\" class=\"dataframe\">\n",
              "  <thead>\n",
              "    <tr style=\"text-align: right;\">\n",
              "      <th></th>\n",
              "      <th>10</th>\n",
              "      <th>33</th>\n",
              "      <th>34</th>\n",
              "      <th>92</th>\n",
              "      <th>32</th>\n",
              "      <th>35</th>\n",
              "      <th>31</th>\n",
              "      <th>36</th>\n",
              "      <th>30</th>\n",
              "      <th>37</th>\n",
              "      <th>29</th>\n",
              "      <th>28</th>\n",
              "      <th>38</th>\n",
              "      <th>91</th>\n",
              "      <th>27</th>\n",
              "      <th>18</th>\n",
              "      <th>23</th>\n",
              "      <th>20</th>\n",
              "      <th>16</th>\n",
              "      <th>24</th>\n",
              "      <th>17</th>\n",
              "      <th>25</th>\n",
              "      <th>26</th>\n",
              "      <th>21</th>\n",
              "      <th>22</th>\n",
              "      <th>19</th>\n",
              "      <th>15</th>\n",
              "      <th>14</th>\n",
              "      <th>39</th>\n",
              "      <th>13</th>\n",
              "      <th>90</th>\n",
              "      <th>12</th>\n",
              "      <th>11</th>\n",
              "      <th>41</th>\n",
              "      <th>40</th>\n",
              "      <th>89</th>\n",
              "      <th>42</th>\n",
              "      <th>43</th>\n",
              "      <th>44</th>\n",
              "      <th>87</th>\n",
              "      <th>45</th>\n",
              "      <th>88</th>\n",
              "      <th>46</th>\n",
              "    </tr>\n",
              "  </thead>\n",
              "  <tbody>\n",
              "    <tr>\n",
              "      <th>POSTAL_CODE</th>\n",
              "      <td>77608</td>\n",
              "      <td>3191</td>\n",
              "      <td>3082</td>\n",
              "      <td>3058</td>\n",
              "      <td>2937</td>\n",
              "      <td>2668</td>\n",
              "      <td>2474</td>\n",
              "      <td>2131</td>\n",
              "      <td>1926</td>\n",
              "      <td>1249</td>\n",
              "      <td>1239</td>\n",
              "      <td>597</td>\n",
              "      <td>466</td>\n",
              "      <td>362</td>\n",
              "      <td>179</td>\n",
              "      <td>130</td>\n",
              "      <td>128</td>\n",
              "      <td>125</td>\n",
              "      <td>122</td>\n",
              "      <td>118</td>\n",
              "      <td>117</td>\n",
              "      <td>112</td>\n",
              "      <td>110</td>\n",
              "      <td>109</td>\n",
              "      <td>108</td>\n",
              "      <td>105</td>\n",
              "      <td>98</td>\n",
              "      <td>96</td>\n",
              "      <td>80</td>\n",
              "      <td>70</td>\n",
              "      <td>42</td>\n",
              "      <td>41</td>\n",
              "      <td>23</td>\n",
              "      <td>20</td>\n",
              "      <td>20</td>\n",
              "      <td>18</td>\n",
              "      <td>18</td>\n",
              "      <td>10</td>\n",
              "      <td>5</td>\n",
              "      <td>3</td>\n",
              "      <td>3</td>\n",
              "      <td>1</td>\n",
              "      <td>1</td>\n",
              "    </tr>\n",
              "  </tbody>\n",
              "</table>\n",
              "</div>\n",
              "      <button class=\"colab-df-convert\" onclick=\"convertToInteractive('df-71c4c9bb-e100-4ef1-8939-a547ba5c3428')\"\n",
              "              title=\"Convert this dataframe to an interactive table.\"\n",
              "              style=\"display:none;\">\n",
              "        \n",
              "  <svg xmlns=\"http://www.w3.org/2000/svg\" height=\"24px\"viewBox=\"0 0 24 24\"\n",
              "       width=\"24px\">\n",
              "    <path d=\"M0 0h24v24H0V0z\" fill=\"none\"/>\n",
              "    <path d=\"M18.56 5.44l.94 2.06.94-2.06 2.06-.94-2.06-.94-.94-2.06-.94 2.06-2.06.94zm-11 1L8.5 8.5l.94-2.06 2.06-.94-2.06-.94L8.5 2.5l-.94 2.06-2.06.94zm10 10l.94 2.06.94-2.06 2.06-.94-2.06-.94-.94-2.06-.94 2.06-2.06.94z\"/><path d=\"M17.41 7.96l-1.37-1.37c-.4-.4-.92-.59-1.43-.59-.52 0-1.04.2-1.43.59L10.3 9.45l-7.72 7.72c-.78.78-.78 2.05 0 2.83L4 21.41c.39.39.9.59 1.41.59.51 0 1.02-.2 1.41-.59l7.78-7.78 2.81-2.81c.8-.78.8-2.07 0-2.86zM5.41 20L4 18.59l7.72-7.72 1.47 1.35L5.41 20z\"/>\n",
              "  </svg>\n",
              "      </button>\n",
              "      \n",
              "  <style>\n",
              "    .colab-df-container {\n",
              "      display:flex;\n",
              "      flex-wrap:wrap;\n",
              "      gap: 12px;\n",
              "    }\n",
              "\n",
              "    .colab-df-convert {\n",
              "      background-color: #E8F0FE;\n",
              "      border: none;\n",
              "      border-radius: 50%;\n",
              "      cursor: pointer;\n",
              "      display: none;\n",
              "      fill: #1967D2;\n",
              "      height: 32px;\n",
              "      padding: 0 0 0 0;\n",
              "      width: 32px;\n",
              "    }\n",
              "\n",
              "    .colab-df-convert:hover {\n",
              "      background-color: #E2EBFA;\n",
              "      box-shadow: 0px 1px 2px rgba(60, 64, 67, 0.3), 0px 1px 3px 1px rgba(60, 64, 67, 0.15);\n",
              "      fill: #174EA6;\n",
              "    }\n",
              "\n",
              "    [theme=dark] .colab-df-convert {\n",
              "      background-color: #3B4455;\n",
              "      fill: #D2E3FC;\n",
              "    }\n",
              "\n",
              "    [theme=dark] .colab-df-convert:hover {\n",
              "      background-color: #434B5C;\n",
              "      box-shadow: 0px 1px 3px 1px rgba(0, 0, 0, 0.15);\n",
              "      filter: drop-shadow(0px 1px 2px rgba(0, 0, 0, 0.3));\n",
              "      fill: #FFFFFF;\n",
              "    }\n",
              "  </style>\n",
              "\n",
              "      <script>\n",
              "        const buttonEl =\n",
              "          document.querySelector('#df-71c4c9bb-e100-4ef1-8939-a547ba5c3428 button.colab-df-convert');\n",
              "        buttonEl.style.display =\n",
              "          google.colab.kernel.accessAllowed ? 'block' : 'none';\n",
              "\n",
              "        async function convertToInteractive(key) {\n",
              "          const element = document.querySelector('#df-71c4c9bb-e100-4ef1-8939-a547ba5c3428');\n",
              "          const dataTable =\n",
              "            await google.colab.kernel.invokeFunction('convertToInteractive',\n",
              "                                                     [key], {});\n",
              "          if (!dataTable) return;\n",
              "\n",
              "          const docLinkHtml = 'Like what you see? Visit the ' +\n",
              "            '<a target=\"_blank\" href=https://colab.research.google.com/notebooks/data_table.ipynb>data table notebook</a>'\n",
              "            + ' to learn more about interactive tables.';\n",
              "          element.innerHTML = '';\n",
              "          dataTable['output_type'] = 'display_data';\n",
              "          await google.colab.output.renderOutput(dataTable, element);\n",
              "          const docLink = document.createElement('div');\n",
              "          docLink.innerHTML = docLinkHtml;\n",
              "          element.appendChild(docLink);\n",
              "        }\n",
              "      </script>\n",
              "    </div>\n",
              "  </div>\n",
              "  "
            ]
          },
          "metadata": {},
          "execution_count": 78
        }
      ]
    },
    {
      "cell_type": "code",
      "source": [
        "train.POSTAL_CODE.apply(lambda x: str(x)[:2]).nunique(), test.POSTAL_CODE.apply(lambda x: str(x)[:2]).nunique()"
      ],
      "metadata": {
        "colab": {
          "base_uri": "https://localhost:8080/"
        },
        "id": "hqIMO0vpfxfW",
        "outputId": "f4e43430-a798-4b22-c723-dbf59c64254e"
      },
      "execution_count": 79,
      "outputs": [
        {
          "output_type": "execute_result",
          "data": {
            "text/plain": [
              "(43, 40)"
            ]
          },
          "metadata": {},
          "execution_count": 79
        }
      ]
    },
    {
      "cell_type": "code",
      "source": [
        "train.POSTAL_CODE.apply(lambda x: str(x)[:3]).nunique(), test.POSTAL_CODE.apply(lambda x: str(x)[:3]).nunique()"
      ],
      "metadata": {
        "colab": {
          "base_uri": "https://localhost:8080/"
        },
        "id": "t9fXDUicdofa",
        "outputId": "56b75ab7-08bf-4790-bf90-d6e9e4d65265"
      },
      "execution_count": 80,
      "outputs": [
        {
          "output_type": "execute_result",
          "data": {
            "text/plain": [
              "(361, 325)"
            ]
          },
          "metadata": {},
          "execution_count": 80
        }
      ]
    },
    {
      "cell_type": "code",
      "source": [
        "train.POSTAL_CODE.apply(lambda x: str(x)[:4]).nunique(), test.POSTAL_CODE.apply(lambda x: str(x)[:4]).nunique()"
      ],
      "metadata": {
        "colab": {
          "base_uri": "https://localhost:8080/"
        },
        "id": "2pX4lowxh7CK",
        "outputId": "031d880a-a63c-4b07-c223-51ee53abb30e"
      },
      "execution_count": 81,
      "outputs": [
        {
          "output_type": "execute_result",
          "data": {
            "text/plain": [
              "(2436, 1832)"
            ]
          },
          "metadata": {},
          "execution_count": 81
        }
      ]
    },
    {
      "cell_type": "code",
      "source": [
        "train.POSTAL_CODE.value_counts(normalize=True)[:5]"
      ],
      "metadata": {
        "colab": {
          "base_uri": "https://localhost:8080/"
        },
        "id": "Lg2DzJPaiCA1",
        "outputId": "2b480f25-63d2-4de3-8fa0-7171c849c061"
      },
      "execution_count": 82,
      "outputs": [
        {
          "output_type": "execute_result",
          "data": {
            "text/plain": [
              "10238    0.7391\n",
              "92101    0.0126\n",
              "92100    0.0038\n",
              "92099    0.0015\n",
              "92098    0.0012\n",
              "Name: POSTAL_CODE, dtype: float64"
            ]
          },
          "metadata": {},
          "execution_count": 82
        }
      ]
    },
    {
      "cell_type": "code",
      "source": [
        "test.POSTAL_CODE.value_counts(normalize=True)[:5]"
      ],
      "metadata": {
        "colab": {
          "base_uri": "https://localhost:8080/"
        },
        "id": "a_yegwb9ixeR",
        "outputId": "2f105ad6-0233-49e1-e5b6-dd33573f07ea"
      },
      "execution_count": 83,
      "outputs": [
        {
          "output_type": "execute_result",
          "data": {
            "text/plain": [
              "10238    0.7410\n",
              "92101    0.0129\n",
              "92100    0.0036\n",
              "92099    0.0017\n",
              "92098    0.0011\n",
              "Name: POSTAL_CODE, dtype: float64"
            ]
          },
          "metadata": {},
          "execution_count": 83
        }
      ]
    },
    {
      "cell_type": "markdown",
      "source": [
        "Majority of the records are from a single postal code i.e., 10238."
      ],
      "metadata": {
        "id": "0lTndrdqiXLW"
      }
    },
    {
      "cell_type": "code",
      "source": [
        "train['POSTAL_CODE_REGION'] = train['POSTAL_CODE'].apply(lambda x: x // 10000).astype('int8') #only 1st digit\n",
        "test['POSTAL_CODE_REGION'] = test['POSTAL_CODE'].apply(lambda x: x // 10000).astype('int8')"
      ],
      "metadata": {
        "id": "MBXS9YzUE7Hq"
      },
      "execution_count": 84,
      "outputs": []
    },
    {
      "cell_type": "code",
      "source": [
        "train['POSTAL_CODE_SUBREGION'] = train['POSTAL_CODE'].apply(lambda x: x // 1000).astype('int8') #first 2 digits\n",
        "test['POSTAL_CODE_SUBREGION'] = test['POSTAL_CODE'].apply(lambda x: x // 1000).astype('int8')"
      ],
      "metadata": {
        "id": "suP_k-Fj9I0w"
      },
      "execution_count": 85,
      "outputs": []
    },
    {
      "cell_type": "code",
      "source": [
        "train.groupby('POSTAL_CODE_REGION')[TARGET].value_counts(normalize=True)"
      ],
      "metadata": {
        "colab": {
          "base_uri": "https://localhost:8080/"
        },
        "id": "yT-mAMoKFfHo",
        "outputId": "5a241b64-61b7-4cc5-c33a-097a32799239"
      },
      "execution_count": 86,
      "outputs": [
        {
          "output_type": "execute_result",
          "data": {
            "text/plain": [
              "POSTAL_CODE_REGION  OUTCOME\n",
              "1                   0.0        0.5763\n",
              "                    1.0        0.4237\n",
              "2                   0.0        0.5876\n",
              "                    1.0        0.4124\n",
              "3                   0.0        0.5795\n",
              "                    1.0        0.4205\n",
              "4                   0.0        0.5714\n",
              "                    1.0        0.4286\n",
              "8                   0.0        0.7727\n",
              "                    1.0        0.2273\n",
              "9                   0.0        0.5786\n",
              "                    1.0        0.4214\n",
              "Name: OUTCOME, dtype: float64"
            ]
          },
          "metadata": {},
          "execution_count": 86
        }
      ]
    },
    {
      "cell_type": "markdown",
      "source": [
        "Distribution for region 8 is different but it is insignificant due to the small number of samples (only 22)."
      ],
      "metadata": {
        "id": "vjZPzblwGAOQ"
      }
    },
    {
      "cell_type": "markdown",
      "source": [
        "### ANNUAL_MILEAGE"
      ],
      "metadata": {
        "id": "YFkN0zVIGU-1"
      }
    },
    {
      "cell_type": "code",
      "source": [
        "train.ANNUAL_MILEAGE.describe()"
      ],
      "metadata": {
        "colab": {
          "base_uri": "https://localhost:8080/"
        },
        "outputId": "e0685e1c-e257-4508-9be5-3ea9424e026a",
        "id": "oAohwB-JGdlZ"
      },
      "execution_count": 87,
      "outputs": [
        {
          "output_type": "execute_result",
          "data": {
            "text/plain": [
              "count    105000.0000\n",
              "mean      11061.2286\n",
              "std        2972.3555\n",
              "min        2000.0000\n",
              "25%        9000.0000\n",
              "50%       11000.0000\n",
              "75%       13000.0000\n",
              "max       21000.0000\n",
              "Name: ANNUAL_MILEAGE, dtype: float64"
            ]
          },
          "metadata": {},
          "execution_count": 87
        }
      ]
    },
    {
      "cell_type": "code",
      "source": [
        "test.ANNUAL_MILEAGE.describe()"
      ],
      "metadata": {
        "colab": {
          "base_uri": "https://localhost:8080/"
        },
        "outputId": "63029671-afb1-4a7c-d900-3c30c224e30d",
        "id": "2zDYOpykGdlb"
      },
      "execution_count": 88,
      "outputs": [
        {
          "output_type": "execute_result",
          "data": {
            "text/plain": [
              "count    45000.0000\n",
              "mean     11084.1778\n",
              "std       2966.5840\n",
              "min       2000.0000\n",
              "25%       9000.0000\n",
              "50%      11000.0000\n",
              "75%      13000.0000\n",
              "max      21000.0000\n",
              "Name: ANNUAL_MILEAGE, dtype: float64"
            ]
          },
          "metadata": {},
          "execution_count": 88
        }
      ]
    },
    {
      "cell_type": "code",
      "source": [
        "plot_cont('ANNUAL_MILEAGE')"
      ],
      "metadata": {
        "colab": {
          "base_uri": "https://localhost:8080/",
          "height": 0
        },
        "outputId": "caccdc9d-7d00-4036-f983-847743f5a495",
        "id": "17Ysj6jdGdlc"
      },
      "execution_count": 89,
      "outputs": [
        {
          "output_type": "display_data",
          "data": {
            "text/plain": [
              "<Figure size 1440x288 with 2 Axes>"
            ],
            "image/png": "[encoded data removed]"
          },
          "metadata": {
            "image/png": {
              "width": 1433,
              "height": 283
            },
            "needs_background": "light"
          }
        }
      ]
    },
    {
      "cell_type": "code",
      "source": [
        "plot_cont_vs_target('ANNUAL_MILEAGE')"
      ],
      "metadata": {
        "colab": {
          "base_uri": "https://localhost:8080/",
          "height": 0
        },
        "outputId": "36c09bb8-2fea-4705-e3ef-d312091686fd",
        "id": "-pMiIcc5Gdle"
      },
      "execution_count": 90,
      "outputs": [
        {
          "output_type": "display_data",
          "data": {
            "text/plain": [
              "<Figure size 648x288 with 1 Axes>"
            ],
            "image/png": "[encoded data removed]"
          },
          "metadata": {
            "image/png": {
              "width": 641,
              "height": 283
            },
            "needs_background": "light"
          }
        }
      ]
    },
    {
      "cell_type": "code",
      "source": [
        "train.groupby(TARGET)['ANNUAL_MILEAGE'].describe()"
      ],
      "metadata": {
        "colab": {
          "base_uri": "https://localhost:8080/",
          "height": 0
        },
        "outputId": "335df414-c5cc-4b7e-9f57-6ffdc34e0bef",
        "id": "YkLPY3aBGdlf"
      },
      "execution_count": 91,
      "outputs": [
        {
          "output_type": "execute_result",
          "data": {
            "text/plain": [
              "           count        mean        std     min     25%      50%      75%  \\\n",
              "OUTCOME                                                                     \n",
              "0.0      60622.0  11064.0362  2970.6821  2000.0  9000.0  11000.0  13000.0   \n",
              "1.0      44378.0  11057.3933  2974.6691  2000.0  9000.0  11000.0  13000.0   \n",
              "\n",
              "             max  \n",
              "OUTCOME           \n",
              "0.0      21000.0  \n",
              "1.0      21000.0  "
            ],
            "text/html": [
              "\n",
              "  <div id=\"df-2ef43d6e-98b5-4bf1-9dbf-ae78683ee3e5\">\n",
              "    <div class=\"colab-df-container\">\n",
              "      <div>\n",
              "<style scoped>\n",
              "    .dataframe tbody tr th:only-of-type {\n",
              "        vertical-align: middle;\n",
              "    }\n",
              "\n",
              "    .dataframe tbody tr th {\n",
              "        vertical-align: top;\n",
              "    }\n",
              "\n",
              "    .dataframe thead th {\n",
              "        text-align: right;\n",
              "    }\n",
              "</style>\n",
              "<table border=\"1\" class=\"dataframe\">\n",
              "  <thead>\n",
              "    <tr style=\"text-align: right;\">\n",
              "      <th></th>\n",
              "      <th>count</th>\n",
              "      <th>mean</th>\n",
              "      <th>std</th>\n",
              "      <th>min</th>\n",
              "      <th>25%</th>\n",
              "      <th>50%</th>\n",
              "      <th>75%</th>\n",
              "      <th>max</th>\n",
              "    </tr>\n",
              "    <tr>\n",
              "      <th>OUTCOME</th>\n",
              "      <th></th>\n",
              "      <th></th>\n",
              "      <th></th>\n",
              "      <th></th>\n",
              "      <th></th>\n",
              "      <th></th>\n",
              "      <th></th>\n",
              "      <th></th>\n",
              "    </tr>\n",
              "  </thead>\n",
              "  <tbody>\n",
              "    <tr>\n",
              "      <th>0.0</th>\n",
              "      <td>60622.0</td>\n",
              "      <td>11064.0362</td>\n",
              "      <td>2970.6821</td>\n",
              "      <td>2000.0</td>\n",
              "      <td>9000.0</td>\n",
              "      <td>11000.0</td>\n",
              "      <td>13000.0</td>\n",
              "      <td>21000.0</td>\n",
              "    </tr>\n",
              "    <tr>\n",
              "      <th>1.0</th>\n",
              "      <td>44378.0</td>\n",
              "      <td>11057.3933</td>\n",
              "      <td>2974.6691</td>\n",
              "      <td>2000.0</td>\n",
              "      <td>9000.0</td>\n",
              "      <td>11000.0</td>\n",
              "      <td>13000.0</td>\n",
              "      <td>21000.0</td>\n",
              "    </tr>\n",
              "  </tbody>\n",
              "</table>\n",
              "</div>\n",
              "      <button class=\"colab-df-convert\" onclick=\"convertToInteractive('df-2ef43d6e-98b5-4bf1-9dbf-ae78683ee3e5')\"\n",
              "              title=\"Convert this dataframe to an interactive table.\"\n",
              "              style=\"display:none;\">\n",
              "        \n",
              "  <svg xmlns=\"http://www.w3.org/2000/svg\" height=\"24px\"viewBox=\"0 0 24 24\"\n",
              "       width=\"24px\">\n",
              "    <path d=\"M0 0h24v24H0V0z\" fill=\"none\"/>\n",
              "    <path d=\"M18.56 5.44l.94 2.06.94-2.06 2.06-.94-2.06-.94-.94-2.06-.94 2.06-2.06.94zm-11 1L8.5 8.5l.94-2.06 2.06-.94-2.06-.94L8.5 2.5l-.94 2.06-2.06.94zm10 10l.94 2.06.94-2.06 2.06-.94-2.06-.94-.94-2.06-.94 2.06-2.06.94z\"/><path d=\"M17.41 7.96l-1.37-1.37c-.4-.4-.92-.59-1.43-.59-.52 0-1.04.2-1.43.59L10.3 9.45l-7.72 7.72c-.78.78-.78 2.05 0 2.83L4 21.41c.39.39.9.59 1.41.59.51 0 1.02-.2 1.41-.59l7.78-7.78 2.81-2.81c.8-.78.8-2.07 0-2.86zM5.41 20L4 18.59l7.72-7.72 1.47 1.35L5.41 20z\"/>\n",
              "  </svg>\n",
              "      </button>\n",
              "      \n",
              "  <style>\n",
              "    .colab-df-container {\n",
              "      display:flex;\n",
              "      flex-wrap:wrap;\n",
              "      gap: 12px;\n",
              "    }\n",
              "\n",
              "    .colab-df-convert {\n",
              "      background-color: #E8F0FE;\n",
              "      border: none;\n",
              "      border-radius: 50%;\n",
              "      cursor: pointer;\n",
              "      display: none;\n",
              "      fill: #1967D2;\n",
              "      height: 32px;\n",
              "      padding: 0 0 0 0;\n",
              "      width: 32px;\n",
              "    }\n",
              "\n",
              "    .colab-df-convert:hover {\n",
              "      background-color: #E2EBFA;\n",
              "      box-shadow: 0px 1px 2px rgba(60, 64, 67, 0.3), 0px 1px 3px 1px rgba(60, 64, 67, 0.15);\n",
              "      fill: #174EA6;\n",
              "    }\n",
              "\n",
              "    [theme=dark] .colab-df-convert {\n",
              "      background-color: #3B4455;\n",
              "      fill: #D2E3FC;\n",
              "    }\n",
              "\n",
              "    [theme=dark] .colab-df-convert:hover {\n",
              "      background-color: #434B5C;\n",
              "      box-shadow: 0px 1px 3px 1px rgba(0, 0, 0, 0.15);\n",
              "      filter: drop-shadow(0px 1px 2px rgba(0, 0, 0, 0.3));\n",
              "      fill: #FFFFFF;\n",
              "    }\n",
              "  </style>\n",
              "\n",
              "      <script>\n",
              "        const buttonEl =\n",
              "          document.querySelector('#df-2ef43d6e-98b5-4bf1-9dbf-ae78683ee3e5 button.colab-df-convert');\n",
              "        buttonEl.style.display =\n",
              "          google.colab.kernel.accessAllowed ? 'block' : 'none';\n",
              "\n",
              "        async function convertToInteractive(key) {\n",
              "          const element = document.querySelector('#df-2ef43d6e-98b5-4bf1-9dbf-ae78683ee3e5');\n",
              "          const dataTable =\n",
              "            await google.colab.kernel.invokeFunction('convertToInteractive',\n",
              "                                                     [key], {});\n",
              "          if (!dataTable) return;\n",
              "\n",
              "          const docLinkHtml = 'Like what you see? Visit the ' +\n",
              "            '<a target=\"_blank\" href=https://colab.research.google.com/notebooks/data_table.ipynb>data table notebook</a>'\n",
              "            + ' to learn more about interactive tables.';\n",
              "          element.innerHTML = '';\n",
              "          dataTable['output_type'] = 'display_data';\n",
              "          await google.colab.output.renderOutput(dataTable, element);\n",
              "          const docLink = document.createElement('div');\n",
              "          docLink.innerHTML = docLinkHtml;\n",
              "          element.appendChild(docLink);\n",
              "        }\n",
              "      </script>\n",
              "    </div>\n",
              "  </div>\n",
              "  "
            ]
          },
          "metadata": {},
          "execution_count": 91
        }
      ]
    },
    {
      "cell_type": "code",
      "source": [
        "train.ANNUAL_MILEAGE.nunique(), test.ANNUAL_MILEAGE.nunique()"
      ],
      "metadata": {
        "colab": {
          "base_uri": "https://localhost:8080/"
        },
        "id": "VYuJcmb5OLil",
        "outputId": "fce12e47-77b0-48a6-e284-e3f27a3b7aaf"
      },
      "execution_count": 92,
      "outputs": [
        {
          "output_type": "execute_result",
          "data": {
            "text/plain": [
              "(20, 20)"
            ]
          },
          "metadata": {},
          "execution_count": 92
        }
      ]
    },
    {
      "cell_type": "code",
      "source": [
        "np.asarray(sorted(train.ANNUAL_MILEAGE.unique()))"
      ],
      "metadata": {
        "colab": {
          "base_uri": "https://localhost:8080/"
        },
        "id": "aGBr9FqOOUee",
        "outputId": "15af6c99-0d3f-4e2e-f163-69d5817c2ac8"
      },
      "execution_count": 93,
      "outputs": [
        {
          "output_type": "execute_result",
          "data": {
            "text/plain": [
              "array([ 2000.,  3000.,  4000.,  5000.,  6000.,  7000.,  8000.,  9000.,\n",
              "       10000., 11000., 12000., 13000., 14000., 15000., 16000., 17000.,\n",
              "       18000., 19000., 20000., 21000.])"
            ]
          },
          "metadata": {},
          "execution_count": 93
        }
      ]
    },
    {
      "cell_type": "code",
      "source": [
        "np.asarray(sorted(test.ANNUAL_MILEAGE.unique()))"
      ],
      "metadata": {
        "colab": {
          "base_uri": "https://localhost:8080/"
        },
        "id": "fSvF6NllOnWv",
        "outputId": "7e56ea47-2a50-4ce9-ea48-29250a08749f"
      },
      "execution_count": 94,
      "outputs": [
        {
          "output_type": "execute_result",
          "data": {
            "text/plain": [
              "array([ 2000.,  3000.,  4000.,  5000.,  6000.,  7000.,  8000.,  9000.,\n",
              "       10000., 11000., 12000., 13000., 14000., 15000., 16000., 17000.,\n",
              "       18000., 19000., 20000., 21000.])"
            ]
          },
          "metadata": {},
          "execution_count": 94
        }
      ]
    },
    {
      "cell_type": "code",
      "source": [
        "train['ANNUAL_MILEAGE_K'] = train.ANNUAL_MILEAGE.apply(lambda x: x // 1000).astype('int')\n",
        "test['ANNUAL_MILEAGE_K'] = test.ANNUAL_MILEAGE.apply(lambda x: x // 1000).astype('int')"
      ],
      "metadata": {
        "id": "3trihhKaOq-N"
      },
      "execution_count": 95,
      "outputs": []
    },
    {
      "cell_type": "code",
      "source": [
        "plt.figure(figsize=(12, 5))\n",
        "sns.countplot(x='ANNUAL_MILEAGE_K', data=train)\n",
        "plt.show()"
      ],
      "metadata": {
        "colab": {
          "base_uri": "https://localhost:8080/",
          "height": 0
        },
        "id": "9kv68CseP83q",
        "outputId": "ab84947e-069f-4da4-e09f-ef22fabf6a44"
      },
      "execution_count": 96,
      "outputs": [
        {
          "output_type": "display_data",
          "data": {
            "text/plain": [
              "<Figure size 864x360 with 1 Axes>"
            ],
            "image/png": "[encoded data removed]"
          },
          "metadata": {
            "image/png": {
              "width": 736,
              "height": 316
            },
            "needs_background": "light"
          }
        }
      ]
    },
    {
      "cell_type": "code",
      "source": [
        "def get_mileage_range(x):\n",
        "    if x < 6: return 0\n",
        "    elif x < 9: return 1\n",
        "    elif x < 12: return 2\n",
        "    elif x < 15: return 3\n",
        "    else: return 4\n",
        "\n",
        "train['ANNUAL_MILEAGE_RANGE'] = train.ANNUAL_MILEAGE_K.apply(get_mileage_range).astype('int8')\n",
        "test['ANNUAL_MILEAGE_RANGE'] = test.ANNUAL_MILEAGE_K.apply(get_mileage_range).astype('int8')"
      ],
      "metadata": {
        "id": "KqXdeZ0lSN9q"
      },
      "execution_count": 97,
      "outputs": []
    },
    {
      "cell_type": "code",
      "source": [
        "train.groupby('ANNUAL_MILEAGE_RANGE')[TARGET].value_counts(normalize=True)"
      ],
      "metadata": {
        "colab": {
          "base_uri": "https://localhost:8080/"
        },
        "id": "1bGhvEiPSqnY",
        "outputId": "320e17be-a6b9-48b8-fdd0-46092cdded87"
      },
      "execution_count": 98,
      "outputs": [
        {
          "output_type": "execute_result",
          "data": {
            "text/plain": [
              "ANNUAL_MILEAGE_RANGE  OUTCOME\n",
              "0                     0.0        0.5751\n",
              "                      1.0        0.4249\n",
              "1                     0.0        0.5774\n",
              "                      1.0        0.4226\n",
              "2                     0.0        0.5801\n",
              "                      1.0        0.4199\n",
              "3                     0.0        0.5726\n",
              "                      1.0        0.4274\n",
              "4                     0.0        0.5880\n",
              "                      1.0        0.4120\n",
              "Name: OUTCOME, dtype: float64"
            ]
          },
          "metadata": {},
          "execution_count": 98
        }
      ]
    },
    {
      "cell_type": "markdown",
      "source": [
        "### SPEEDING_VIOLATIONS"
      ],
      "metadata": {
        "id": "o2fG5emQG-oL"
      }
    },
    {
      "cell_type": "code",
      "source": [
        "train.SPEEDING_VIOLATIONS.describe()"
      ],
      "metadata": {
        "colab": {
          "base_uri": "https://localhost:8080/"
        },
        "id": "dzmJV0HgHGn4",
        "outputId": "84e6fbcb-bf3a-4e45-e914-a0a18d2cb640"
      },
      "execution_count": 99,
      "outputs": [
        {
          "output_type": "execute_result",
          "data": {
            "text/plain": [
              "count    105000.0000\n",
              "mean          0.6757\n",
              "std           1.3837\n",
              "min           0.0000\n",
              "25%           0.0000\n",
              "50%           0.0000\n",
              "75%           1.0000\n",
              "max          20.0000\n",
              "Name: SPEEDING_VIOLATIONS, dtype: float64"
            ]
          },
          "metadata": {},
          "execution_count": 99
        }
      ]
    },
    {
      "cell_type": "code",
      "source": [
        "test.SPEEDING_VIOLATIONS.describe()"
      ],
      "metadata": {
        "colab": {
          "base_uri": "https://localhost:8080/"
        },
        "id": "dX455QBzHPXc",
        "outputId": "b06f164c-0dca-423c-f702-2de78b782b2c"
      },
      "execution_count": 100,
      "outputs": [
        {
          "output_type": "execute_result",
          "data": {
            "text/plain": [
              "count    45000.0000\n",
              "mean         0.6888\n",
              "std          1.4226\n",
              "min          0.0000\n",
              "25%          0.0000\n",
              "50%          0.0000\n",
              "75%          1.0000\n",
              "max         17.0000\n",
              "Name: SPEEDING_VIOLATIONS, dtype: float64"
            ]
          },
          "metadata": {},
          "execution_count": 100
        }
      ]
    },
    {
      "cell_type": "markdown",
      "source": [
        "Most of the records have 0 speeding violations so we can create a boolean column from this data. "
      ],
      "metadata": {
        "id": "GmWdqjs_IOXg"
      }
    },
    {
      "cell_type": "code",
      "source": [
        "train['HAS_PRIOR_SPEEDING_VIOLATIONS'] = (train['SPEEDING_VIOLATIONS'] > 0).astype('int8')\n",
        "test['HAS_PRIOR_SPEEDING_VIOLATIONS'] = (test['SPEEDING_VIOLATIONS'] > 0).astype('int8')"
      ],
      "metadata": {
        "id": "_sRaJMyLHrQO"
      },
      "execution_count": 101,
      "outputs": []
    },
    {
      "cell_type": "markdown",
      "source": [
        "### DUIS"
      ],
      "metadata": {
        "id": "vaYNlbmAIfKr"
      }
    },
    {
      "cell_type": "code",
      "source": [
        "train.DUIS.describe()"
      ],
      "metadata": {
        "colab": {
          "base_uri": "https://localhost:8080/"
        },
        "id": "9fL2hXYbIiMo",
        "outputId": "e88afdc6-1d4f-4f0f-c197-9c67a21df54f"
      },
      "execution_count": 102,
      "outputs": [
        {
          "output_type": "execute_result",
          "data": {
            "text/plain": [
              "count    105000.0000\n",
              "mean          0.1297\n",
              "std           0.5897\n",
              "min           0.0000\n",
              "25%           0.0000\n",
              "50%           0.0000\n",
              "75%           0.0000\n",
              "max           6.0000\n",
              "Name: DUIS, dtype: float64"
            ]
          },
          "metadata": {},
          "execution_count": 102
        }
      ]
    },
    {
      "cell_type": "code",
      "source": [
        "test.DUIS.describe()"
      ],
      "metadata": {
        "colab": {
          "base_uri": "https://localhost:8080/"
        },
        "id": "7G3eQKQ9InUE",
        "outputId": "ca195564-8645-4191-b644-06628db25922"
      },
      "execution_count": 103,
      "outputs": [
        {
          "output_type": "execute_result",
          "data": {
            "text/plain": [
              "count    45000.0000\n",
              "mean         0.1302\n",
              "std          0.5930\n",
              "min          0.0000\n",
              "25%          0.0000\n",
              "50%          0.0000\n",
              "75%          0.0000\n",
              "max          6.0000\n",
              "Name: DUIS, dtype: float64"
            ]
          },
          "metadata": {},
          "execution_count": 103
        }
      ]
    },
    {
      "cell_type": "code",
      "source": [
        "train['HAS_PRIOR_DUIS'] = (train['DUIS'] > 0).astype('int8')\n",
        "test['HAS_PRIOR_DUIS'] = (test['DUIS'] > 0).astype('int8')"
      ],
      "metadata": {
        "id": "IQKiYbq_Iq2w"
      },
      "execution_count": 104,
      "outputs": []
    },
    {
      "cell_type": "code",
      "source": [
        "train['DUIS'].value_counts(normalize=True)"
      ],
      "metadata": {
        "colab": {
          "base_uri": "https://localhost:8080/"
        },
        "id": "HqdVUgdd-2WS",
        "outputId": "786997f9-7632-463c-e5b4-3d0e59a08107"
      },
      "execution_count": 105,
      "outputs": [
        {
          "output_type": "execute_result",
          "data": {
            "text/plain": [
              "0    0.9357\n",
              "1    0.0327\n",
              "2    0.0116\n",
              "3    0.0102\n",
              "4    0.0068\n",
              "5    0.0024\n",
              "6    0.0007\n",
              "Name: DUIS, dtype: float64"
            ]
          },
          "metadata": {},
          "execution_count": 105
        }
      ]
    },
    {
      "cell_type": "code",
      "source": [
        "train.groupby('DUIS')[TARGET].value_counts(normalize=True)"
      ],
      "metadata": {
        "colab": {
          "base_uri": "https://localhost:8080/"
        },
        "id": "7Tiok9JaKv4L",
        "outputId": "2d659ad6-e49c-43f8-fa75-d68bd9ac7f51"
      },
      "execution_count": 106,
      "outputs": [
        {
          "output_type": "execute_result",
          "data": {
            "text/plain": [
              "DUIS  OUTCOME\n",
              "0     0.0        0.5776\n",
              "      1.0        0.4224\n",
              "1     0.0        0.5679\n",
              "      1.0        0.4321\n",
              "2     0.0        0.5882\n",
              "      1.0        0.4118\n",
              "3     0.0        0.5725\n",
              "      1.0        0.4275\n",
              "4     0.0        0.5740\n",
              "      1.0        0.4260\n",
              "5     0.0        0.5777\n",
              "      1.0        0.4223\n",
              "6     0.0        0.6184\n",
              "      1.0        0.3816\n",
              "Name: OUTCOME, dtype: float64"
            ]
          },
          "metadata": {},
          "execution_count": 106
        }
      ]
    },
    {
      "cell_type": "code",
      "source": [
        "train.groupby('HAS_PRIOR_DUIS')[TARGET].value_counts(normalize=True)"
      ],
      "metadata": {
        "colab": {
          "base_uri": "https://localhost:8080/"
        },
        "id": "CbbDkEvuK4Ys",
        "outputId": "fa66848e-7e97-4e8f-afc1-17e93b0734be"
      },
      "execution_count": 107,
      "outputs": [
        {
          "output_type": "execute_result",
          "data": {
            "text/plain": [
              "HAS_PRIOR_DUIS  OUTCOME\n",
              "0               0.0        0.5776\n",
              "                1.0        0.4224\n",
              "1               0.0        0.5739\n",
              "                1.0        0.4261\n",
              "Name: OUTCOME, dtype: float64"
            ]
          },
          "metadata": {},
          "execution_count": 107
        }
      ]
    },
    {
      "cell_type": "markdown",
      "source": [
        "### PAST_ACCIDENTS"
      ],
      "metadata": {
        "id": "1ZSuiKt_JEJi"
      }
    },
    {
      "cell_type": "code",
      "source": [
        "train.PAST_ACCIDENTS.describe()"
      ],
      "metadata": {
        "colab": {
          "base_uri": "https://localhost:8080/"
        },
        "id": "v3LS4fY5JAtU",
        "outputId": "2733c7e5-9e9d-4c35-b3f5-d4c7351e4f82"
      },
      "execution_count": 108,
      "outputs": [
        {
          "output_type": "execute_result",
          "data": {
            "text/plain": [
              "count    105000.0000\n",
              "mean          0.5493\n",
              "std           1.4028\n",
              "min           0.0000\n",
              "25%           0.0000\n",
              "50%           0.0000\n",
              "75%           0.0000\n",
              "max          15.0000\n",
              "Name: PAST_ACCIDENTS, dtype: float64"
            ]
          },
          "metadata": {},
          "execution_count": 108
        }
      ]
    },
    {
      "cell_type": "code",
      "source": [
        "test.PAST_ACCIDENTS.describe()"
      ],
      "metadata": {
        "colab": {
          "base_uri": "https://localhost:8080/"
        },
        "id": "k2X9nLvgJLZN",
        "outputId": "d3168c08-113a-4772-d3d4-c0f28d141082"
      },
      "execution_count": 109,
      "outputs": [
        {
          "output_type": "execute_result",
          "data": {
            "text/plain": [
              "count    45000.0000\n",
              "mean         0.5489\n",
              "std          1.3816\n",
              "min          0.0000\n",
              "25%          0.0000\n",
              "50%          0.0000\n",
              "75%          1.0000\n",
              "max         15.0000\n",
              "Name: PAST_ACCIDENTS, dtype: float64"
            ]
          },
          "metadata": {},
          "execution_count": 109
        }
      ]
    },
    {
      "cell_type": "code",
      "source": [
        "train['PAST_ACCIDENTS'].value_counts(normalize=True)"
      ],
      "metadata": {
        "colab": {
          "base_uri": "https://localhost:8080/"
        },
        "id": "uJL3l1nu_HAj",
        "outputId": "3201170c-8303-47ae-a5bb-b0da6684c1fd"
      },
      "execution_count": 110,
      "outputs": [
        {
          "output_type": "execute_result",
          "data": {
            "text/plain": [
              "0     0.7510\n",
              "1     0.1311\n",
              "2     0.0615\n",
              "3     0.0167\n",
              "4     0.0125\n",
              "5     0.0086\n",
              "6     0.0051\n",
              "7     0.0039\n",
              "8     0.0032\n",
              "9     0.0022\n",
              "10    0.0015\n",
              "11    0.0009\n",
              "12    0.0007\n",
              "13    0.0005\n",
              "14    0.0004\n",
              "15    0.0002\n",
              "Name: PAST_ACCIDENTS, dtype: float64"
            ]
          },
          "metadata": {},
          "execution_count": 110
        }
      ]
    },
    {
      "cell_type": "code",
      "source": [
        "train['HAS_PAST_ACCIDENTS'] = (train['PAST_ACCIDENTS'] > 0).astype('int8')\n",
        "test['HAS_PAST_ACCIDENTS'] = (test['PAST_ACCIDENTS'] > 0).astype('int8')"
      ],
      "metadata": {
        "id": "G_MT7AFjJTa8"
      },
      "execution_count": 111,
      "outputs": []
    },
    {
      "cell_type": "code",
      "source": [
        "train.groupby('HAS_PAST_ACCIDENTS')[TARGET].value_counts(normalize=True)"
      ],
      "metadata": {
        "colab": {
          "base_uri": "https://localhost:8080/"
        },
        "id": "OXvq--fVLNQ_",
        "outputId": "8007b2c3-1d64-4aba-bc00-0744c3a3abc3"
      },
      "execution_count": 112,
      "outputs": [
        {
          "output_type": "execute_result",
          "data": {
            "text/plain": [
              "HAS_PAST_ACCIDENTS  OUTCOME\n",
              "0                   0.0        0.5789\n",
              "                    1.0        0.4211\n",
              "1                   0.0        0.5728\n",
              "                    1.0        0.4272\n",
              "Name: OUTCOME, dtype: float64"
            ]
          },
          "metadata": {},
          "execution_count": 112
        }
      ]
    },
    {
      "cell_type": "markdown",
      "source": [
        "### New columns: HAS_PAST_INCIDENTS, TOTAL_PAST_INCIDENTS"
      ],
      "metadata": {
        "id": "CfXKI4LcMmlD"
      }
    },
    {
      "cell_type": "code",
      "source": [
        "train['TOTAL_PAST_INCIDENTS'] = train['SPEEDING_VIOLATIONS'] + train['DUIS'] + train['PAST_ACCIDENTS']\n",
        "train['HAS_PAST_INCIDENTS'] = (train['TOTAL_PAST_INCIDENTS'] > 0).astype('int8')\n",
        "\n",
        "test['TOTAL_PAST_INCIDENTS'] = test['SPEEDING_VIOLATIONS'] + test['DUIS'] + test['PAST_ACCIDENTS']\n",
        "test['HAS_PAST_INCIDENTS'] = (test['TOTAL_PAST_INCIDENTS'] > 0).astype('int8')"
      ],
      "metadata": {
        "id": "gB9giCNhMuel"
      },
      "execution_count": 113,
      "outputs": []
    },
    {
      "cell_type": "code",
      "source": [
        "train['TOTAL_PAST_INCIDENTS'].describe()"
      ],
      "metadata": {
        "colab": {
          "base_uri": "https://localhost:8080/"
        },
        "id": "jG3uNBqHNVqY",
        "outputId": "0cecc6d1-73ba-4f36-b7ad-cb1f831da867"
      },
      "execution_count": 114,
      "outputs": [
        {
          "output_type": "execute_result",
          "data": {
            "text/plain": [
              "count    105000.0000\n",
              "mean          1.3547\n",
              "std           2.0657\n",
              "min           0.0000\n",
              "25%           0.0000\n",
              "50%           1.0000\n",
              "75%           2.0000\n",
              "max          27.0000\n",
              "Name: TOTAL_PAST_INCIDENTS, dtype: float64"
            ]
          },
          "metadata": {},
          "execution_count": 114
        }
      ]
    },
    {
      "cell_type": "code",
      "source": [
        "train['HAS_PAST_INCIDENTS'].value_counts(normalize=True)"
      ],
      "metadata": {
        "colab": {
          "base_uri": "https://localhost:8080/"
        },
        "id": "4dgxwfClNZ3d",
        "outputId": "9911f73d-02ce-41b8-b7de-b8cfd981b4e2"
      },
      "execution_count": 115,
      "outputs": [
        {
          "output_type": "execute_result",
          "data": {
            "text/plain": [
              "1    0.5344\n",
              "0    0.4656\n",
              "Name: HAS_PAST_INCIDENTS, dtype: float64"
            ]
          },
          "metadata": {},
          "execution_count": 115
        }
      ]
    },
    {
      "cell_type": "code",
      "source": [
        "train.groupby('HAS_PAST_INCIDENTS')[TARGET].value_counts(normalize=True)"
      ],
      "metadata": {
        "colab": {
          "base_uri": "https://localhost:8080/"
        },
        "id": "a0fIHvR9NgEl",
        "outputId": "5a092642-136f-44fd-cfc0-8413161cea80"
      },
      "execution_count": 116,
      "outputs": [
        {
          "output_type": "execute_result",
          "data": {
            "text/plain": [
              "HAS_PAST_INCIDENTS  OUTCOME\n",
              "0                   0.0        0.5778\n",
              "                    1.0        0.4222\n",
              "1                   0.0        0.5769\n",
              "                    1.0        0.4231\n",
              "Name: OUTCOME, dtype: float64"
            ]
          },
          "metadata": {},
          "execution_count": 116
        }
      ]
    },
    {
      "cell_type": "markdown",
      "source": [
        "### TYPE_OF_VEHICLE"
      ],
      "metadata": {
        "id": "9XL0nU2qS9Wo"
      }
    },
    {
      "cell_type": "code",
      "source": [
        "train.TYPE_OF_VEHICLE.value_counts(normalize=True)"
      ],
      "metadata": {
        "colab": {
          "base_uri": "https://localhost:8080/"
        },
        "id": "cI13U0rzTBtZ",
        "outputId": "6bd69ba5-e46c-4f36-80d4-85fe5f53e9b7"
      },
      "execution_count": 117,
      "outputs": [
        {
          "output_type": "execute_result",
          "data": {
            "text/plain": [
              "Sports Car    0.3294\n",
              "Sedan         0.2678\n",
              "HatchBack     0.2371\n",
              "SUV           0.1656\n",
              "Name: TYPE_OF_VEHICLE, dtype: float64"
            ]
          },
          "metadata": {},
          "execution_count": 117
        }
      ]
    },
    {
      "cell_type": "code",
      "source": [
        "train.TYPE_OF_VEHICLE.value_counts(normalize=True)"
      ],
      "metadata": {
        "colab": {
          "base_uri": "https://localhost:8080/"
        },
        "id": "sPGO4bP1THx7",
        "outputId": "110645bf-a9b0-49c1-8a46-1ceac5a9982b"
      },
      "execution_count": 118,
      "outputs": [
        {
          "output_type": "execute_result",
          "data": {
            "text/plain": [
              "Sports Car    0.3294\n",
              "Sedan         0.2678\n",
              "HatchBack     0.2371\n",
              "SUV           0.1656\n",
              "Name: TYPE_OF_VEHICLE, dtype: float64"
            ]
          },
          "metadata": {},
          "execution_count": 118
        }
      ]
    },
    {
      "cell_type": "code",
      "source": [
        "train.groupby('TYPE_OF_VEHICLE')[TARGET].value_counts(normalize=True)"
      ],
      "metadata": {
        "colab": {
          "base_uri": "https://localhost:8080/"
        },
        "id": "ALvtDwTYTLbs",
        "outputId": "9dfb4024-04c7-4637-b98c-dd5d7a7a7541"
      },
      "execution_count": 119,
      "outputs": [
        {
          "output_type": "execute_result",
          "data": {
            "text/plain": [
              "TYPE_OF_VEHICLE  OUTCOME\n",
              "HatchBack        0.0        0.5743\n",
              "                 1.0        0.4257\n",
              "SUV              0.0        0.5849\n",
              "                 1.0        0.4151\n",
              "Sedan            0.0        0.5820\n",
              "                 1.0        0.4180\n",
              "Sports Car       0.0        0.5720\n",
              "                 1.0        0.4280\n",
              "Name: OUTCOME, dtype: float64"
            ]
          },
          "metadata": {},
          "execution_count": 119
        }
      ]
    },
    {
      "cell_type": "code",
      "source": [
        "category_mappings['TYPE_OF_VEHICLE'] = {'HatchBack': 0, 'Sedan': 1, 'SUV': 2, 'Sports Car': 3}"
      ],
      "metadata": {
        "id": "-8n0plETTWbc"
      },
      "execution_count": 120,
      "outputs": []
    },
    {
      "cell_type": "markdown",
      "source": [
        "# Preprocessing"
      ],
      "metadata": {
        "id": "OlrF25Y9CsZw"
      }
    },
    {
      "cell_type": "code",
      "source": [
        "features = [f for f in test.columns \n",
        "            if f not in ('ID', 'POSTAL_CODE', 'ANNUAL_MILEAGE')]\n",
        "\n",
        "num_features = ['ID_COUNT', 'CREDIT_SCORE', 'ANNUAL_MILEAGE_K', 'DUIS', \n",
        "                'SPEEDING_VIOLATIONS', 'PAST_ACCIDENTS', 'TOTAL_PAST_INCIDENTS']\n",
        "\n",
        "cat_features = [f for f in features if f not in num_features]"
      ],
      "metadata": {
        "id": "TVp02y6PCurV"
      },
      "execution_count": 121,
      "outputs": []
    },
    {
      "cell_type": "code",
      "source": [
        "category_mappings"
      ],
      "metadata": {
        "colab": {
          "base_uri": "https://localhost:8080/"
        },
        "id": "lmV3eTN3DFJP",
        "outputId": "3daac722-8464-4fab-827b-ed51bd79b048"
      },
      "execution_count": 122,
      "outputs": [
        {
          "output_type": "execute_result",
          "data": {
            "text/plain": [
              "{'AGE': {'16-25': 0, '26-39': 1, '40-64': 2, '65+': 3},\n",
              " 'GENDER': {'female': 0, 'male': 1},\n",
              " 'DRIVING_EXPERIENCE': {'0-9y': 0, '10-19y': 1, '20-29y': 2, '30y+': 3},\n",
              " 'EDUCATION': {'none': 0, 'high school': 1, 'university': 2},\n",
              " 'INCOME': {'poverty': 0,\n",
              "  'working class': 1,\n",
              "  'middle class': 2,\n",
              "  'upper class': 3},\n",
              " 'VEHICLE_YEAR': {'before 2015': 0, 'after 2015': 1},\n",
              " 'TYPE_OF_VEHICLE': {'HatchBack': 0, 'Sedan': 1, 'SUV': 2, 'Sports Car': 3}}"
            ]
          },
          "metadata": {},
          "execution_count": 122
        }
      ]
    },
    {
      "cell_type": "code",
      "source": [
        "def encode_cat(df):\n",
        "    for col in cat_features:\n",
        "        mapping = category_mappings.get(col)\n",
        "        if mapping:\n",
        "            df[col] = df[col].replace(mapping).astype('int8')\n",
        "        else:\n",
        "            df[col] = df[col].astype('int8')\n",
        "    \n",
        "    return df"
      ],
      "metadata": {
        "id": "ufvp7GK5DfTK"
      },
      "execution_count": 123,
      "outputs": []
    },
    {
      "cell_type": "code",
      "source": [
        "train = encode_cat(train)\n",
        "test = encode_cat(test)"
      ],
      "metadata": {
        "id": "5aKHjH2BE_rL"
      },
      "execution_count": 124,
      "outputs": []
    },
    {
      "cell_type": "code",
      "source": [
        "train.info()"
      ],
      "metadata": {
        "colab": {
          "base_uri": "https://localhost:8080/"
        },
        "id": "97p-YmXaFKBQ",
        "outputId": "3a4e7e0b-1ace-467f-f8e6-7c9e04a858ee"
      },
      "execution_count": 125,
      "outputs": [
        {
          "output_type": "stream",
          "name": "stdout",
          "text": [
            "<class 'pandas.core.frame.DataFrame'>\n",
            "RangeIndex: 105000 entries, 0 to 104999\n",
            "Data columns (total 29 columns):\n",
            " #   Column                         Non-Null Count   Dtype  \n",
            "---  ------                         --------------   -----  \n",
            " 0   ID                             105000 non-null  int64  \n",
            " 1   AGE                            105000 non-null  int8   \n",
            " 2   GENDER                         105000 non-null  int8   \n",
            " 3   DRIVING_EXPERIENCE             105000 non-null  int8   \n",
            " 4   EDUCATION                      105000 non-null  int8   \n",
            " 5   INCOME                         105000 non-null  int8   \n",
            " 6   CREDIT_SCORE                   105000 non-null  float64\n",
            " 7   VEHICLE_OWNERSHIP              105000 non-null  int8   \n",
            " 8   VEHICLE_YEAR                   105000 non-null  int8   \n",
            " 9   MARRIED                        105000 non-null  int8   \n",
            " 10  CHILDREN                       105000 non-null  int8   \n",
            " 11  POSTAL_CODE                    105000 non-null  int64  \n",
            " 12  ANNUAL_MILEAGE                 105000 non-null  float64\n",
            " 13  SPEEDING_VIOLATIONS            105000 non-null  int64  \n",
            " 14  DUIS                           105000 non-null  int64  \n",
            " 15  PAST_ACCIDENTS                 105000 non-null  int64  \n",
            " 16  OUTCOME                        105000 non-null  float64\n",
            " 17  TYPE_OF_VEHICLE                105000 non-null  int8   \n",
            " 18  IS_ID_REPEATED                 105000 non-null  int8   \n",
            " 19  ID_COUNT                       105000 non-null  int64  \n",
            " 20  POSTAL_CODE_REGION             105000 non-null  int8   \n",
            " 21  POSTAL_CODE_SUBREGION          105000 non-null  int8   \n",
            " 22  ANNUAL_MILEAGE_K               105000 non-null  int64  \n",
            " 23  ANNUAL_MILEAGE_RANGE           105000 non-null  int8   \n",
            " 24  HAS_PRIOR_SPEEDING_VIOLATIONS  105000 non-null  int8   \n",
            " 25  HAS_PRIOR_DUIS                 105000 non-null  int8   \n",
            " 26  HAS_PAST_ACCIDENTS             105000 non-null  int8   \n",
            " 27  TOTAL_PAST_INCIDENTS           105000 non-null  int64  \n",
            " 28  HAS_PAST_INCIDENTS             105000 non-null  int8   \n",
            "dtypes: float64(3), int64(8), int8(18)\n",
            "memory usage: 10.6 MB\n"
          ]
        }
      ]
    },
    {
      "cell_type": "markdown",
      "source": [
        "# Feature Selection"
      ],
      "metadata": {
        "id": "gFLiP2O0Ykk5"
      }
    },
    {
      "cell_type": "markdown",
      "source": [
        "### Pearson correlation"
      ],
      "metadata": {
        "id": "GaxFo054mit2"
      }
    },
    {
      "cell_type": "code",
      "source": [
        "def plot_corr_matrix(corr_df, size=15):\n",
        "    plt.figure(figsize=(size, size))\n",
        "    sns.heatmap(corr_df,\n",
        "                mask=np.triu(np.ones_like(corr_df)),\n",
        "                vmin=-1, vmax=1, center=0, \n",
        "                annot=True, fmt='.2f',\n",
        "                linewidths=0.1)\n",
        "    plt.show()"
      ],
      "metadata": {
        "id": "rtUP912UiW0R"
      },
      "execution_count": 126,
      "outputs": []
    },
    {
      "cell_type": "code",
      "source": [
        "corr_df = train[features + [TARGET]].corr()"
      ],
      "metadata": {
        "id": "X2Atscu_m1WU"
      },
      "execution_count": 127,
      "outputs": []
    },
    {
      "cell_type": "code",
      "source": [
        "plot_corr_matrix(corr_df)"
      ],
      "metadata": {
        "colab": {
          "base_uri": "https://localhost:8080/",
          "height": 0
        },
        "id": "QQR8QVhGm15L",
        "outputId": "7194f5e2-3b32-445e-b93b-0ee83689bbad"
      },
      "execution_count": 128,
      "outputs": [
        {
          "output_type": "display_data",
          "data": {
            "text/plain": [
              "<Figure size 1080x1080 with 2 Axes>"
            ],
            "image/png": "[encoded data removed]"
          },
          "metadata": {
            "image/png": {
              "width": 989,
              "height": 1018
            },
            "needs_background": "light"
          }
        }
      ]
    },
    {
      "cell_type": "markdown",
      "source": [
        "Apart from the derived features, there is no correlation between features.  \n",
        "The target variable also has no correlation with any feature, whether original or derived."
      ],
      "metadata": {
        "id": "Du_vXLMFn9uJ"
      }
    },
    {
      "cell_type": "markdown",
      "source": [
        "### ANOVA F-test"
      ],
      "metadata": {
        "id": "SPzuu2BVyx-7"
      }
    },
    {
      "cell_type": "code",
      "source": [
        "anova_test = f_classif(train[num_features], train[TARGET])\n",
        "\n",
        "pd.DataFrame(\n",
        "    data={\n",
        "        'f-statistic': anova_test[0], \n",
        "        'p-value': anova_test[1],\n",
        "        'accepted?': anova_test[1] < 0.05\n",
        "    },\n",
        "    index=num_features\n",
        ")"
      ],
      "metadata": {
        "colab": {
          "base_uri": "https://localhost:8080/",
          "height": 0
        },
        "id": "Ee7Py1d7yKuK",
        "outputId": "b3a5f489-a65d-43d0-8210-c4814d0f95c5"
      },
      "execution_count": 129,
      "outputs": [
        {
          "output_type": "execute_result",
          "data": {
            "text/plain": [
              "                      f-statistic  p-value  accepted?\n",
              "ID_COUNT                   0.0140   0.9058      False\n",
              "CREDIT_SCORE               0.9884   0.3201      False\n",
              "ANNUAL_MILEAGE_K           0.1280   0.7205      False\n",
              "DUIS                       0.0153   0.9014      False\n",
              "SPEEDING_VIOLATIONS        0.0024   0.9610      False\n",
              "PAST_ACCIDENTS             0.5763   0.4477      False\n",
              "TOTAL_PAST_INCIDENTS       0.2002   0.6546      False"
            ],
            "text/html": [
              "\n",
              "  <div id=\"df-6886f1ab-8ef2-41c3-bfa4-8e95623f3913\">\n",
              "    <div class=\"colab-df-container\">\n",
              "      <div>\n",
              "<style scoped>\n",
              "    .dataframe tbody tr th:only-of-type {\n",
              "        vertical-align: middle;\n",
              "    }\n",
              "\n",
              "    .dataframe tbody tr th {\n",
              "        vertical-align: top;\n",
              "    }\n",
              "\n",
              "    .dataframe thead th {\n",
              "        text-align: right;\n",
              "    }\n",
              "</style>\n",
              "<table border=\"1\" class=\"dataframe\">\n",
              "  <thead>\n",
              "    <tr style=\"text-align: right;\">\n",
              "      <th></th>\n",
              "      <th>f-statistic</th>\n",
              "      <th>p-value</th>\n",
              "      <th>accepted?</th>\n",
              "    </tr>\n",
              "  </thead>\n",
              "  <tbody>\n",
              "    <tr>\n",
              "      <th>ID_COUNT</th>\n",
              "      <td>0.0140</td>\n",
              "      <td>0.9058</td>\n",
              "      <td>False</td>\n",
              "    </tr>\n",
              "    <tr>\n",
              "      <th>CREDIT_SCORE</th>\n",
              "      <td>0.9884</td>\n",
              "      <td>0.3201</td>\n",
              "      <td>False</td>\n",
              "    </tr>\n",
              "    <tr>\n",
              "      <th>ANNUAL_MILEAGE_K</th>\n",
              "      <td>0.1280</td>\n",
              "      <td>0.7205</td>\n",
              "      <td>False</td>\n",
              "    </tr>\n",
              "    <tr>\n",
              "      <th>DUIS</th>\n",
              "      <td>0.0153</td>\n",
              "      <td>0.9014</td>\n",
              "      <td>False</td>\n",
              "    </tr>\n",
              "    <tr>\n",
              "      <th>SPEEDING_VIOLATIONS</th>\n",
              "      <td>0.0024</td>\n",
              "      <td>0.9610</td>\n",
              "      <td>False</td>\n",
              "    </tr>\n",
              "    <tr>\n",
              "      <th>PAST_ACCIDENTS</th>\n",
              "      <td>0.5763</td>\n",
              "      <td>0.4477</td>\n",
              "      <td>False</td>\n",
              "    </tr>\n",
              "    <tr>\n",
              "      <th>TOTAL_PAST_INCIDENTS</th>\n",
              "      <td>0.2002</td>\n",
              "      <td>0.6546</td>\n",
              "      <td>False</td>\n",
              "    </tr>\n",
              "  </tbody>\n",
              "</table>\n",
              "</div>\n",
              "      <button class=\"colab-df-convert\" onclick=\"convertToInteractive('df-6886f1ab-8ef2-41c3-bfa4-8e95623f3913')\"\n",
              "              title=\"Convert this dataframe to an interactive table.\"\n",
              "              style=\"display:none;\">\n",
              "        \n",
              "  <svg xmlns=\"http://www.w3.org/2000/svg\" height=\"24px\"viewBox=\"0 0 24 24\"\n",
              "       width=\"24px\">\n",
              "    <path d=\"M0 0h24v24H0V0z\" fill=\"none\"/>\n",
              "    <path d=\"M18.56 5.44l.94 2.06.94-2.06 2.06-.94-2.06-.94-.94-2.06-.94 2.06-2.06.94zm-11 1L8.5 8.5l.94-2.06 2.06-.94-2.06-.94L8.5 2.5l-.94 2.06-2.06.94zm10 10l.94 2.06.94-2.06 2.06-.94-2.06-.94-.94-2.06-.94 2.06-2.06.94z\"/><path d=\"M17.41 7.96l-1.37-1.37c-.4-.4-.92-.59-1.43-.59-.52 0-1.04.2-1.43.59L10.3 9.45l-7.72 7.72c-.78.78-.78 2.05 0 2.83L4 21.41c.39.39.9.59 1.41.59.51 0 1.02-.2 1.41-.59l7.78-7.78 2.81-2.81c.8-.78.8-2.07 0-2.86zM5.41 20L4 18.59l7.72-7.72 1.47 1.35L5.41 20z\"/>\n",
              "  </svg>\n",
              "      </button>\n",
              "      \n",
              "  <style>\n",
              "    .colab-df-container {\n",
              "      display:flex;\n",
              "      flex-wrap:wrap;\n",
              "      gap: 12px;\n",
              "    }\n",
              "\n",
              "    .colab-df-convert {\n",
              "      background-color: #E8F0FE;\n",
              "      border: none;\n",
              "      border-radius: 50%;\n",
              "      cursor: pointer;\n",
              "      display: none;\n",
              "      fill: #1967D2;\n",
              "      height: 32px;\n",
              "      padding: 0 0 0 0;\n",
              "      width: 32px;\n",
              "    }\n",
              "\n",
              "    .colab-df-convert:hover {\n",
              "      background-color: #E2EBFA;\n",
              "      box-shadow: 0px 1px 2px rgba(60, 64, 67, 0.3), 0px 1px 3px 1px rgba(60, 64, 67, 0.15);\n",
              "      fill: #174EA6;\n",
              "    }\n",
              "\n",
              "    [theme=dark] .colab-df-convert {\n",
              "      background-color: #3B4455;\n",
              "      fill: #D2E3FC;\n",
              "    }\n",
              "\n",
              "    [theme=dark] .colab-df-convert:hover {\n",
              "      background-color: #434B5C;\n",
              "      box-shadow: 0px 1px 3px 1px rgba(0, 0, 0, 0.15);\n",
              "      filter: drop-shadow(0px 1px 2px rgba(0, 0, 0, 0.3));\n",
              "      fill: #FFFFFF;\n",
              "    }\n",
              "  </style>\n",
              "\n",
              "      <script>\n",
              "        const buttonEl =\n",
              "          document.querySelector('#df-6886f1ab-8ef2-41c3-bfa4-8e95623f3913 button.colab-df-convert');\n",
              "        buttonEl.style.display =\n",
              "          google.colab.kernel.accessAllowed ? 'block' : 'none';\n",
              "\n",
              "        async function convertToInteractive(key) {\n",
              "          const element = document.querySelector('#df-6886f1ab-8ef2-41c3-bfa4-8e95623f3913');\n",
              "          const dataTable =\n",
              "            await google.colab.kernel.invokeFunction('convertToInteractive',\n",
              "                                                     [key], {});\n",
              "          if (!dataTable) return;\n",
              "\n",
              "          const docLinkHtml = 'Like what you see? Visit the ' +\n",
              "            '<a target=\"_blank\" href=https://colab.research.google.com/notebooks/data_table.ipynb>data table notebook</a>'\n",
              "            + ' to learn more about interactive tables.';\n",
              "          element.innerHTML = '';\n",
              "          dataTable['output_type'] = 'display_data';\n",
              "          await google.colab.output.renderOutput(dataTable, element);\n",
              "          const docLink = document.createElement('div');\n",
              "          docLink.innerHTML = docLinkHtml;\n",
              "          element.appendChild(docLink);\n",
              "        }\n",
              "      </script>\n",
              "    </div>\n",
              "  </div>\n",
              "  "
            ]
          },
          "metadata": {},
          "execution_count": 129
        }
      ]
    },
    {
      "cell_type": "markdown",
      "source": [
        "### Chi-squared test of independence"
      ],
      "metadata": {
        "id": "deuHzHHApHe8"
      }
    },
    {
      "cell_type": "code",
      "source": [
        "chi2_test = chi2(train[cat_features], train[TARGET])\n",
        "\n",
        "pd.DataFrame(\n",
        "    data={\n",
        "        'f-statistic': chi2_test[0], \n",
        "        'p-value': chi2_test[1],\n",
        "        'accepted?': chi2_test[1] < 0.05\n",
        "    },\n",
        "    index=cat_features\n",
        ")"
      ],
      "metadata": {
        "colab": {
          "base_uri": "https://localhost:8080/",
          "height": 0
        },
        "id": "-EgLfwVQpG1O",
        "outputId": "c5d3298c-82b7-47ed-ed03-df4d1615adda"
      },
      "execution_count": 130,
      "outputs": [
        {
          "output_type": "execute_result",
          "data": {
            "text/plain": [
              "                               f-statistic  p-value  accepted?\n",
              "AGE                                 0.4221   0.5159      False\n",
              "GENDER                              5.4259   0.0198       True\n",
              "DRIVING_EXPERIENCE                  7.9399   0.0048       True\n",
              "EDUCATION                           0.5437   0.4609      False\n",
              "INCOME                              0.0065   0.9360      False\n",
              "VEHICLE_OWNERSHIP                   0.1716   0.6787      False\n",
              "VEHICLE_YEAR                        0.0422   0.8372      False\n",
              "MARRIED                             1.5865   0.2078      False\n",
              "CHILDREN                            0.1761   0.6747      False\n",
              "TYPE_OF_VEHICLE                     0.6814   0.4091      False\n",
              "IS_ID_REPEATED                      0.2873   0.5919      False\n",
              "POSTAL_CODE_REGION                  0.7339   0.3916      False\n",
              "POSTAL_CODE_SUBREGION              12.4130   0.0004       True\n",
              "ANNUAL_MILEAGE_RANGE                0.0023   0.9615      False\n",
              "HAS_PRIOR_SPEEDING_VIOLATIONS       1.6037   0.2054      False\n",
              "HAS_PRIOR_DUIS                      0.3333   0.5637      False\n",
              "HAS_PAST_ACCIDENTS                  2.2207   0.1362      False\n",
              "HAS_PAST_INCIDENTS                  0.0425   0.8366      False"
            ],
            "text/html": [
              "\n",
              "  <div id=\"df-fdc6737b-d832-44d6-85d3-32d3b64edc00\">\n",
              "    <div class=\"colab-df-container\">\n",
              "      <div>\n",
              "<style scoped>\n",
              "    .dataframe tbody tr th:only-of-type {\n",
              "        vertical-align: middle;\n",
              "    }\n",
              "\n",
              "    .dataframe tbody tr th {\n",
              "        vertical-align: top;\n",
              "    }\n",
              "\n",
              "    .dataframe thead th {\n",
              "        text-align: right;\n",
              "    }\n",
              "</style>\n",
              "<table border=\"1\" class=\"dataframe\">\n",
              "  <thead>\n",
              "    <tr style=\"text-align: right;\">\n",
              "      <th></th>\n",
              "      <th>f-statistic</th>\n",
              "      <th>p-value</th>\n",
              "      <th>accepted?</th>\n",
              "    </tr>\n",
              "  </thead>\n",
              "  <tbody>\n",
              "    <tr>\n",
              "      <th>AGE</th>\n",
              "      <td>0.4221</td>\n",
              "      <td>0.5159</td>\n",
              "      <td>False</td>\n",
              "    </tr>\n",
              "    <tr>\n",
              "      <th>GENDER</th>\n",
              "      <td>5.4259</td>\n",
              "      <td>0.0198</td>\n",
              "      <td>True</td>\n",
              "    </tr>\n",
              "    <tr>\n",
              "      <th>DRIVING_EXPERIENCE</th>\n",
              "      <td>7.9399</td>\n",
              "      <td>0.0048</td>\n",
              "      <td>True</td>\n",
              "    </tr>\n",
              "    <tr>\n",
              "      <th>EDUCATION</th>\n",
              "      <td>0.5437</td>\n",
              "      <td>0.4609</td>\n",
              "      <td>False</td>\n",
              "    </tr>\n",
              "    <tr>\n",
              "      <th>INCOME</th>\n",
              "      <td>0.0065</td>\n",
              "      <td>0.9360</td>\n",
              "      <td>False</td>\n",
              "    </tr>\n",
              "    <tr>\n",
              "      <th>VEHICLE_OWNERSHIP</th>\n",
              "      <td>0.1716</td>\n",
              "      <td>0.6787</td>\n",
              "      <td>False</td>\n",
              "    </tr>\n",
              "    <tr>\n",
              "      <th>VEHICLE_YEAR</th>\n",
              "      <td>0.0422</td>\n",
              "      <td>0.8372</td>\n",
              "      <td>False</td>\n",
              "    </tr>\n",
              "    <tr>\n",
              "      <th>MARRIED</th>\n",
              "      <td>1.5865</td>\n",
              "      <td>0.2078</td>\n",
              "      <td>False</td>\n",
              "    </tr>\n",
              "    <tr>\n",
              "      <th>CHILDREN</th>\n",
              "      <td>0.1761</td>\n",
              "      <td>0.6747</td>\n",
              "      <td>False</td>\n",
              "    </tr>\n",
              "    <tr>\n",
              "      <th>TYPE_OF_VEHICLE</th>\n",
              "      <td>0.6814</td>\n",
              "      <td>0.4091</td>\n",
              "      <td>False</td>\n",
              "    </tr>\n",
              "    <tr>\n",
              "      <th>IS_ID_REPEATED</th>\n",
              "      <td>0.2873</td>\n",
              "      <td>0.5919</td>\n",
              "      <td>False</td>\n",
              "    </tr>\n",
              "    <tr>\n",
              "      <th>POSTAL_CODE_REGION</th>\n",
              "      <td>0.7339</td>\n",
              "      <td>0.3916</td>\n",
              "      <td>False</td>\n",
              "    </tr>\n",
              "    <tr>\n",
              "      <th>POSTAL_CODE_SUBREGION</th>\n",
              "      <td>12.4130</td>\n",
              "      <td>0.0004</td>\n",
              "      <td>True</td>\n",
              "    </tr>\n",
              "    <tr>\n",
              "      <th>ANNUAL_MILEAGE_RANGE</th>\n",
              "      <td>0.0023</td>\n",
              "      <td>0.9615</td>\n",
              "      <td>False</td>\n",
              "    </tr>\n",
              "    <tr>\n",
              "      <th>HAS_PRIOR_SPEEDING_VIOLATIONS</th>\n",
              "      <td>1.6037</td>\n",
              "      <td>0.2054</td>\n",
              "      <td>False</td>\n",
              "    </tr>\n",
              "    <tr>\n",
              "      <th>HAS_PRIOR_DUIS</th>\n",
              "      <td>0.3333</td>\n",
              "      <td>0.5637</td>\n",
              "      <td>False</td>\n",
              "    </tr>\n",
              "    <tr>\n",
              "      <th>HAS_PAST_ACCIDENTS</th>\n",
              "      <td>2.2207</td>\n",
              "      <td>0.1362</td>\n",
              "      <td>False</td>\n",
              "    </tr>\n",
              "    <tr>\n",
              "      <th>HAS_PAST_INCIDENTS</th>\n",
              "      <td>0.0425</td>\n",
              "      <td>0.8366</td>\n",
              "      <td>False</td>\n",
              "    </tr>\n",
              "  </tbody>\n",
              "</table>\n",
              "</div>\n",
              "      <button class=\"colab-df-convert\" onclick=\"convertToInteractive('df-fdc6737b-d832-44d6-85d3-32d3b64edc00')\"\n",
              "              title=\"Convert this dataframe to an interactive table.\"\n",
              "              style=\"display:none;\">\n",
              "        \n",
              "  <svg xmlns=\"http://www.w3.org/2000/svg\" height=\"24px\"viewBox=\"0 0 24 24\"\n",
              "       width=\"24px\">\n",
              "    <path d=\"M0 0h24v24H0V0z\" fill=\"none\"/>\n",
              "    <path d=\"M18.56 5.44l.94 2.06.94-2.06 2.06-.94-2.06-.94-.94-2.06-.94 2.06-2.06.94zm-11 1L8.5 8.5l.94-2.06 2.06-.94-2.06-.94L8.5 2.5l-.94 2.06-2.06.94zm10 10l.94 2.06.94-2.06 2.06-.94-2.06-.94-.94-2.06-.94 2.06-2.06.94z\"/><path d=\"M17.41 7.96l-1.37-1.37c-.4-.4-.92-.59-1.43-.59-.52 0-1.04.2-1.43.59L10.3 9.45l-7.72 7.72c-.78.78-.78 2.05 0 2.83L4 21.41c.39.39.9.59 1.41.59.51 0 1.02-.2 1.41-.59l7.78-7.78 2.81-2.81c.8-.78.8-2.07 0-2.86zM5.41 20L4 18.59l7.72-7.72 1.47 1.35L5.41 20z\"/>\n",
              "  </svg>\n",
              "      </button>\n",
              "      \n",
              "  <style>\n",
              "    .colab-df-container {\n",
              "      display:flex;\n",
              "      flex-wrap:wrap;\n",
              "      gap: 12px;\n",
              "    }\n",
              "\n",
              "    .colab-df-convert {\n",
              "      background-color: #E8F0FE;\n",
              "      border: none;\n",
              "      border-radius: 50%;\n",
              "      cursor: pointer;\n",
              "      display: none;\n",
              "      fill: #1967D2;\n",
              "      height: 32px;\n",
              "      padding: 0 0 0 0;\n",
              "      width: 32px;\n",
              "    }\n",
              "\n",
              "    .colab-df-convert:hover {\n",
              "      background-color: #E2EBFA;\n",
              "      box-shadow: 0px 1px 2px rgba(60, 64, 67, 0.3), 0px 1px 3px 1px rgba(60, 64, 67, 0.15);\n",
              "      fill: #174EA6;\n",
              "    }\n",
              "\n",
              "    [theme=dark] .colab-df-convert {\n",
              "      background-color: #3B4455;\n",
              "      fill: #D2E3FC;\n",
              "    }\n",
              "\n",
              "    [theme=dark] .colab-df-convert:hover {\n",
              "      background-color: #434B5C;\n",
              "      box-shadow: 0px 1px 3px 1px rgba(0, 0, 0, 0.15);\n",
              "      filter: drop-shadow(0px 1px 2px rgba(0, 0, 0, 0.3));\n",
              "      fill: #FFFFFF;\n",
              "    }\n",
              "  </style>\n",
              "\n",
              "      <script>\n",
              "        const buttonEl =\n",
              "          document.querySelector('#df-fdc6737b-d832-44d6-85d3-32d3b64edc00 button.colab-df-convert');\n",
              "        buttonEl.style.display =\n",
              "          google.colab.kernel.accessAllowed ? 'block' : 'none';\n",
              "\n",
              "        async function convertToInteractive(key) {\n",
              "          const element = document.querySelector('#df-fdc6737b-d832-44d6-85d3-32d3b64edc00');\n",
              "          const dataTable =\n",
              "            await google.colab.kernel.invokeFunction('convertToInteractive',\n",
              "                                                     [key], {});\n",
              "          if (!dataTable) return;\n",
              "\n",
              "          const docLinkHtml = 'Like what you see? Visit the ' +\n",
              "            '<a target=\"_blank\" href=https://colab.research.google.com/notebooks/data_table.ipynb>data table notebook</a>'\n",
              "            + ' to learn more about interactive tables.';\n",
              "          element.innerHTML = '';\n",
              "          dataTable['output_type'] = 'display_data';\n",
              "          await google.colab.output.renderOutput(dataTable, element);\n",
              "          const docLink = document.createElement('div');\n",
              "          docLink.innerHTML = docLinkHtml;\n",
              "          element.appendChild(docLink);\n",
              "        }\n",
              "      </script>\n",
              "    </div>\n",
              "  </div>\n",
              "  "
            ]
          },
          "metadata": {},
          "execution_count": 130
        }
      ]
    },
    {
      "cell_type": "markdown",
      "source": [
        "### Mutual Information score"
      ],
      "metadata": {
        "id": "cRjTcKDgy9TW"
      }
    },
    {
      "cell_type": "code",
      "source": [
        "mi_scores = mutual_info_classif(train[features], train[TARGET], random_state=SEED)\n",
        "\n",
        "pd.DataFrame(\n",
        "    data={'mi_score': mi_scores}, \n",
        "    index=features\n",
        ").T"
      ],
      "metadata": {
        "colab": {
          "base_uri": "https://localhost:8080/",
          "height": 145
        },
        "id": "Nq_4M5P9y6bG",
        "outputId": "c2b980e1-0027-477d-a652-32ee450abfb5"
      },
      "execution_count": 131,
      "outputs": [
        {
          "output_type": "execute_result",
          "data": {
            "text/plain": [
              "             AGE  GENDER  DRIVING_EXPERIENCE  EDUCATION  INCOME  CREDIT_SCORE  \\\n",
              "mi_score  0.0009  0.0054              0.0061     0.0021  0.0054           0.0   \n",
              "\n",
              "          VEHICLE_OWNERSHIP  VEHICLE_YEAR  MARRIED  CHILDREN  \\\n",
              "mi_score             0.0088         0.004   0.0042    0.0032   \n",
              "\n",
              "          SPEEDING_VIOLATIONS    DUIS  PAST_ACCIDENTS  TYPE_OF_VEHICLE  \\\n",
              "mi_score               0.0002  0.0006          0.0018           0.0055   \n",
              "\n",
              "          IS_ID_REPEATED  ID_COUNT  POSTAL_CODE_REGION  POSTAL_CODE_SUBREGION  \\\n",
              "mi_score          0.0011    0.0092               0.006                 0.0036   \n",
              "\n",
              "          ANNUAL_MILEAGE_K  ANNUAL_MILEAGE_RANGE  \\\n",
              "mi_score               0.0                0.0046   \n",
              "\n",
              "          HAS_PRIOR_SPEEDING_VIOLATIONS  HAS_PRIOR_DUIS  HAS_PAST_ACCIDENTS  \\\n",
              "mi_score                            0.0             0.0                 0.0   \n",
              "\n",
              "          TOTAL_PAST_INCIDENTS  HAS_PAST_INCIDENTS  \n",
              "mi_score                   0.0              0.0014  "
            ],
            "text/html": [
              "\n",
              "  <div id=\"df-0d4d9e2e-e283-460d-8956-98e3d64b24d6\">\n",
              "    <div class=\"colab-df-container\">\n",
              "      <div>\n",
              "<style scoped>\n",
              "    .dataframe tbody tr th:only-of-type {\n",
              "        vertical-align: middle;\n",
              "    }\n",
              "\n",
              "    .dataframe tbody tr th {\n",
              "        vertical-align: top;\n",
              "    }\n",
              "\n",
              "    .dataframe thead th {\n",
              "        text-align: right;\n",
              "    }\n",
              "</style>\n",
              "<table border=\"1\" class=\"dataframe\">\n",
              "  <thead>\n",
              "    <tr style=\"text-align: right;\">\n",
              "      <th></th>\n",
              "      <th>AGE</th>\n",
              "      <th>GENDER</th>\n",
              "      <th>DRIVING_EXPERIENCE</th>\n",
              "      <th>EDUCATION</th>\n",
              "      <th>INCOME</th>\n",
              "      <th>CREDIT_SCORE</th>\n",
              "      <th>VEHICLE_OWNERSHIP</th>\n",
              "      <th>VEHICLE_YEAR</th>\n",
              "      <th>MARRIED</th>\n",
              "      <th>CHILDREN</th>\n",
              "      <th>SPEEDING_VIOLATIONS</th>\n",
              "      <th>DUIS</th>\n",
              "      <th>PAST_ACCIDENTS</th>\n",
              "      <th>TYPE_OF_VEHICLE</th>\n",
              "      <th>IS_ID_REPEATED</th>\n",
              "      <th>ID_COUNT</th>\n",
              "      <th>POSTAL_CODE_REGION</th>\n",
              "      <th>POSTAL_CODE_SUBREGION</th>\n",
              "      <th>ANNUAL_MILEAGE_K</th>\n",
              "      <th>ANNUAL_MILEAGE_RANGE</th>\n",
              "      <th>HAS_PRIOR_SPEEDING_VIOLATIONS</th>\n",
              "      <th>HAS_PRIOR_DUIS</th>\n",
              "      <th>HAS_PAST_ACCIDENTS</th>\n",
              "      <th>TOTAL_PAST_INCIDENTS</th>\n",
              "      <th>HAS_PAST_INCIDENTS</th>\n",
              "    </tr>\n",
              "  </thead>\n",
              "  <tbody>\n",
              "    <tr>\n",
              "      <th>mi_score</th>\n",
              "      <td>0.0009</td>\n",
              "      <td>0.0054</td>\n",
              "      <td>0.0061</td>\n",
              "      <td>0.0021</td>\n",
              "      <td>0.0054</td>\n",
              "      <td>0.0</td>\n",
              "      <td>0.0088</td>\n",
              "      <td>0.004</td>\n",
              "      <td>0.0042</td>\n",
              "      <td>0.0032</td>\n",
              "      <td>0.0002</td>\n",
              "      <td>0.0006</td>\n",
              "      <td>0.0018</td>\n",
              "      <td>0.0055</td>\n",
              "      <td>0.0011</td>\n",
              "      <td>0.0092</td>\n",
              "      <td>0.006</td>\n",
              "      <td>0.0036</td>\n",
              "      <td>0.0</td>\n",
              "      <td>0.0046</td>\n",
              "      <td>0.0</td>\n",
              "      <td>0.0</td>\n",
              "      <td>0.0</td>\n",
              "      <td>0.0</td>\n",
              "      <td>0.0014</td>\n",
              "    </tr>\n",
              "  </tbody>\n",
              "</table>\n",
              "</div>\n",
              "      <button class=\"colab-df-convert\" onclick=\"convertToInteractive('df-0d4d9e2e-e283-460d-8956-98e3d64b24d6')\"\n",
              "              title=\"Convert this dataframe to an interactive table.\"\n",
              "              style=\"display:none;\">\n",
              "        \n",
              "  <svg xmlns=\"http://www.w3.org/2000/svg\" height=\"24px\"viewBox=\"0 0 24 24\"\n",
              "       width=\"24px\">\n",
              "    <path d=\"M0 0h24v24H0V0z\" fill=\"none\"/>\n",
              "    <path d=\"M18.56 5.44l.94 2.06.94-2.06 2.06-.94-2.06-.94-.94-2.06-.94 2.06-2.06.94zm-11 1L8.5 8.5l.94-2.06 2.06-.94-2.06-.94L8.5 2.5l-.94 2.06-2.06.94zm10 10l.94 2.06.94-2.06 2.06-.94-2.06-.94-.94-2.06-.94 2.06-2.06.94z\"/><path d=\"M17.41 7.96l-1.37-1.37c-.4-.4-.92-.59-1.43-.59-.52 0-1.04.2-1.43.59L10.3 9.45l-7.72 7.72c-.78.78-.78 2.05 0 2.83L4 21.41c.39.39.9.59 1.41.59.51 0 1.02-.2 1.41-.59l7.78-7.78 2.81-2.81c.8-.78.8-2.07 0-2.86zM5.41 20L4 18.59l7.72-7.72 1.47 1.35L5.41 20z\"/>\n",
              "  </svg>\n",
              "      </button>\n",
              "      \n",
              "  <style>\n",
              "    .colab-df-container {\n",
              "      display:flex;\n",
              "      flex-wrap:wrap;\n",
              "      gap: 12px;\n",
              "    }\n",
              "\n",
              "    .colab-df-convert {\n",
              "      background-color: #E8F0FE;\n",
              "      border: none;\n",
              "      border-radius: 50%;\n",
              "      cursor: pointer;\n",
              "      display: none;\n",
              "      fill: #1967D2;\n",
              "      height: 32px;\n",
              "      padding: 0 0 0 0;\n",
              "      width: 32px;\n",
              "    }\n",
              "\n",
              "    .colab-df-convert:hover {\n",
              "      background-color: #E2EBFA;\n",
              "      box-shadow: 0px 1px 2px rgba(60, 64, 67, 0.3), 0px 1px 3px 1px rgba(60, 64, 67, 0.15);\n",
              "      fill: #174EA6;\n",
              "    }\n",
              "\n",
              "    [theme=dark] .colab-df-convert {\n",
              "      background-color: #3B4455;\n",
              "      fill: #D2E3FC;\n",
              "    }\n",
              "\n",
              "    [theme=dark] .colab-df-convert:hover {\n",
              "      background-color: #434B5C;\n",
              "      box-shadow: 0px 1px 3px 1px rgba(0, 0, 0, 0.15);\n",
              "      filter: drop-shadow(0px 1px 2px rgba(0, 0, 0, 0.3));\n",
              "      fill: #FFFFFF;\n",
              "    }\n",
              "  </style>\n",
              "\n",
              "      <script>\n",
              "        const buttonEl =\n",
              "          document.querySelector('#df-0d4d9e2e-e283-460d-8956-98e3d64b24d6 button.colab-df-convert');\n",
              "        buttonEl.style.display =\n",
              "          google.colab.kernel.accessAllowed ? 'block' : 'none';\n",
              "\n",
              "        async function convertToInteractive(key) {\n",
              "          const element = document.querySelector('#df-0d4d9e2e-e283-460d-8956-98e3d64b24d6');\n",
              "          const dataTable =\n",
              "            await google.colab.kernel.invokeFunction('convertToInteractive',\n",
              "                                                     [key], {});\n",
              "          if (!dataTable) return;\n",
              "\n",
              "          const docLinkHtml = 'Like what you see? Visit the ' +\n",
              "            '<a target=\"_blank\" href=https://colab.research.google.com/notebooks/data_table.ipynb>data table notebook</a>'\n",
              "            + ' to learn more about interactive tables.';\n",
              "          element.innerHTML = '';\n",
              "          dataTable['output_type'] = 'display_data';\n",
              "          await google.colab.output.renderOutput(dataTable, element);\n",
              "          const docLink = document.createElement('div');\n",
              "          docLink.innerHTML = docLinkHtml;\n",
              "          element.appendChild(docLink);\n",
              "        }\n",
              "      </script>\n",
              "    </div>\n",
              "  </div>\n",
              "  "
            ]
          },
          "metadata": {},
          "execution_count": 131
        }
      ]
    },
    {
      "cell_type": "markdown",
      "source": [
        "### Feature sets"
      ],
      "metadata": {
        "id": "d8bqMzc5qcLc"
      }
    },
    {
      "cell_type": "code",
      "source": [
        "#based on F-test and Chi2-test\n",
        "reduced_features = ['GENDER', 'DRIVING_EXPERIENCE', 'POSTAL_CODE_SUBREGION']\n",
        "\n",
        "#based on mutual information score\n",
        "mi_features = ['ID_COUNT', 'AGE', 'GENDER', 'DRIVING_EXPERIENCE', 'EDUCATION', \n",
        "               'INCOME', 'VEHICLE_OWNERSHIP', 'MARRIED', 'CHILDREN', \n",
        "               'TYPE_OF_VEHICLE', 'POSTAL_CODE_REGION', 'POSTAL_CODE_SUBREGION',\n",
        "               'ANNUAL_MILEAGE_RANGE']"
      ],
      "metadata": {
        "id": "CfnKu_jWnXtK"
      },
      "execution_count": 132,
      "outputs": []
    },
    {
      "cell_type": "markdown",
      "source": [
        "# Baseline"
      ],
      "metadata": {
        "id": "KzL9pV9yr2MX"
      }
    },
    {
      "cell_type": "code",
      "source": [
        "X, y = train[features], train[TARGET]\n",
        "X_test = test[features]"
      ],
      "metadata": {
        "id": "nAZFY6YRxEVZ"
      },
      "execution_count": 133,
      "outputs": []
    },
    {
      "cell_type": "markdown",
      "source": [
        "### RandomForest"
      ],
      "metadata": {
        "id": "LDnLMBdyuLmj"
      }
    },
    {
      "cell_type": "code",
      "source": [
        "%%time\n",
        "scores = []\n",
        "test_preds_rf = {}\n",
        "\n",
        "cv = StratifiedKFold(n_splits=5, shuffle=True, random_state=SEED)\n",
        "for fold, (train_idx, val_idx) in enumerate(cv.split(X, y)):\n",
        "    X_train, y_train = X.loc[train_idx], y.iloc[train_idx]\n",
        "    X_val, y_val = X.loc[val_idx], y.iloc[val_idx]\n",
        "\n",
        "    model = RandomForestClassifier(\n",
        "        n_estimators=500, \n",
        "        criterion='entropy', \n",
        "        max_depth=7,\n",
        "        # class_weight='balanced',\n",
        "        n_jobs=-1, \n",
        "        random_state=SEED\n",
        "    )\n",
        "\n",
        "    model.fit(X_train, y_train)\n",
        "    val_probs = model.predict_proba(X_val)[:, 1]\n",
        "    test_preds_rf[f'fold{fold}'] = model.predict_proba(X_test)[:, 1]\n",
        "\n",
        "    score = log_loss(y_val, val_probs)\n",
        "    scores.append(score)\n",
        "    print(f'Fold #{fold}: Logloss = {score:.5f}')\n",
        "    _ = gc.collect()\n",
        "\n",
        "print(f'\\nAvg Logloss = {np.mean(scores):.5f} +/- {np.std(scores):.5f}\\n')\n",
        "\n",
        "test_preds_rf = pd.DataFrame.from_dict(test_preds_rf)\n",
        "test_preds_rf['mean'] = test_preds_rf.mean(axis=1)"
      ],
      "metadata": {
        "colab": {
          "base_uri": "https://localhost:8080/"
        },
        "id": "OL8koSKJsj_C",
        "outputId": "d269b0aa-d6a7-4d19-a7db-6253a10469e9"
      },
      "execution_count": 136,
      "outputs": [
        {
          "output_type": "stream",
          "name": "stdout",
          "text": [
            "Fold #0: Logloss = 0.68128\n",
            "Fold #1: Logloss = 0.68102\n",
            "Fold #2: Logloss = 0.68109\n",
            "Fold #3: Logloss = 0.68107\n",
            "Fold #4: Logloss = 0.68100\n",
            "\n",
            "Avg Logloss = 0.68109 +/- 0.00010\n",
            "\n",
            "CPU times: user 3min 9s, sys: 1.8 s, total: 3min 10s\n",
            "Wall time: 1min 50s\n"
          ]
        }
      ]
    },
    {
      "cell_type": "markdown",
      "source": [
        "### LogisticRegression"
      ],
      "metadata": {
        "id": "0n7iOkl6uOxh"
      }
    },
    {
      "cell_type": "code",
      "source": [
        "%%time\n",
        "scores = []\n",
        "test_preds_lr = {}\n",
        "\n",
        "cv = StratifiedKFold(n_splits=5, shuffle=True, random_state=SEED)\n",
        "for fold, (train_idx, val_idx) in enumerate(cv.split(X, y)):\n",
        "    X_train, y_train = X.loc[train_idx], y.iloc[train_idx]\n",
        "    X_val, y_val = X.loc[val_idx], y.iloc[val_idx]\n",
        "\n",
        "    model = LogisticRegression(\n",
        "        C=10,\n",
        "        max_iter=5000, \n",
        "        # class_weight='balanced',\n",
        "        n_jobs=-1,\n",
        "        random_state=SEED\n",
        "    )\n",
        "\n",
        "    model.fit(X_train, y_train)\n",
        "    val_probs = model.predict_proba(X_val)[:, 1]\n",
        "    test_preds_lr[f'fold{fold}'] = model.predict_proba(X_test)[:, 1]\n",
        "\n",
        "    score = log_loss(y_val, val_probs)\n",
        "    scores.append(score)\n",
        "    print(f'Fold #{fold}: Logloss = {score:.5f}')\n",
        "    _ = gc.collect()\n",
        "\n",
        "print(f'\\nAvg Logloss = {np.mean(scores):.5f} +/- {np.std(scores):.5f}\\n')\n",
        "\n",
        "test_preds_lr = pd.DataFrame.from_dict(test_preds_lr)\n",
        "test_preds_lr['mean'] = test_preds_lr.mean(axis=1)"
      ],
      "metadata": {
        "colab": {
          "base_uri": "https://localhost:8080/"
        },
        "id": "4P9Kf3jst0vK",
        "outputId": "b7e0c8dd-d195-4b77-8bae-173f9b344427"
      },
      "execution_count": 137,
      "outputs": [
        {
          "output_type": "stream",
          "name": "stdout",
          "text": [
            "Fold #0: Logloss = 0.68143\n",
            "Fold #1: Logloss = 0.68093\n",
            "Fold #2: Logloss = 0.68109\n",
            "Fold #3: Logloss = 0.68100\n",
            "Fold #4: Logloss = 0.68116\n",
            "\n",
            "Avg Logloss = 0.68112 +/- 0.00017\n",
            "\n",
            "CPU times: user 775 ms, sys: 543 ms, total: 1.32 s\n",
            "Wall time: 15.2 s\n"
          ]
        }
      ]
    },
    {
      "cell_type": "markdown",
      "source": [
        "# Submission files"
      ],
      "metadata": {
        "id": "vYTHZUQeztzz"
      }
    },
    {
      "cell_type": "code",
      "source": [
        "from google.colab import drive\n",
        "drive.mount('/content/drive', force_remount=True)"
      ],
      "metadata": {
        "colab": {
          "base_uri": "https://localhost:8080/"
        },
        "id": "wS6PiSND5ujx",
        "outputId": "371d38a0-0b8f-4cf8-ea0e-8f379a601a33"
      },
      "execution_count": 138,
      "outputs": [
        {
          "output_type": "stream",
          "name": "stdout",
          "text": [
            "Mounted at /content/drive\n"
          ]
        }
      ]
    },
    {
      "cell_type": "code",
      "source": [
        "NOTEBOOK = '00'\n",
        "SUBMISSION_PATH = f'/content/drive/MyDrive/data_science_competitions/machinehack/analytics_olympiad22/submissions/nb_{NOTEBOOK}'\n",
        "if not os.path.isdir(SUBMISSION_PATH):\n",
        "    os.makedirs(SUBMISSION_PATH)"
      ],
      "metadata": {
        "id": "---AQuIY02_v"
      },
      "execution_count": 139,
      "outputs": []
    },
    {
      "cell_type": "code",
      "source": [
        "def create_submission_files(test_preds, model_name):\n",
        "    for col in test_preds.columns:\n",
        "        sub = sample_sub.copy()\n",
        "        sub['OUTCOME'] = test_preds[col]\n",
        "        sub.to_csv(f'{SUBMISSION_PATH}/{model_name}_{col}.csv', index=False)"
      ],
      "metadata": {
        "id": "Bmp7KqErzs-G"
      },
      "execution_count": 140,
      "outputs": []
    },
    {
      "cell_type": "code",
      "source": [
        "create_submission_files(test_preds_rf, 'rf')"
      ],
      "metadata": {
        "id": "P20XXLh_1klj"
      },
      "execution_count": 141,
      "outputs": []
    },
    {
      "cell_type": "code",
      "source": [
        "create_submission_files(test_preds_lr, 'lr')"
      ],
      "metadata": {
        "id": "ScQf8om41tUW"
      },
      "execution_count": 142,
      "outputs": []
    },
    {
      "cell_type": "markdown",
      "source": [
        "**All zeros**"
      ],
      "metadata": {
        "id": "nlqfjGwC2MB7"
      }
    },
    {
      "cell_type": "code",
      "source": [
        "sub = sample_sub.copy()\n",
        "sub['OUTCOME'] = 0\n",
        "sub.to_csv(f'{SUBMISSION_PATH}/all_zeros.csv', index=False)"
      ],
      "metadata": {
        "id": "Qeguuedx11ol"
      },
      "execution_count": 143,
      "outputs": []
    },
    {
      "cell_type": "markdown",
      "source": [
        "**All ones**"
      ],
      "metadata": {
        "id": "YSMW-7x92fp3"
      }
    },
    {
      "cell_type": "code",
      "source": [
        "sub = sample_sub.copy()\n",
        "sub['OUTCOME'] = 1\n",
        "sub.to_csv(f'{SUBMISSION_PATH}/all_ones.csv', index=False)"
      ],
      "metadata": {
        "id": "-xZoQ4712ikC"
      },
      "execution_count": 144,
      "outputs": []
    },
    {
      "cell_type": "markdown",
      "source": [
        "**Randomized replacement with inverse probabilites**"
      ],
      "metadata": {
        "id": "0AB6Se8E2sPt"
      }
    },
    {
      "cell_type": "code",
      "source": [
        "sub = sample_sub.copy()\n",
        "sub['OUTCOME'] = 0.42\n",
        "\n",
        "indices_to_replace = sub['OUTCOME'].sample(frac=0.42, random_state=SEED).index\n",
        "sub.loc[indices_to_replace, 'OUTCOME'] = 0.58\n",
        "\n",
        "sub.to_csv(f'{SUBMISSION_PATH}/random_replacement.csv', index=False)"
      ],
      "metadata": {
        "id": "2FQQjGHl2mII"
      },
      "execution_count": 145,
      "outputs": []
    }
  ]
}