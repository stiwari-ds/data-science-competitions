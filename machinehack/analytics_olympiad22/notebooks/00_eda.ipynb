{
  "nbformat": 4,
  "nbformat_minor": 0,
  "metadata": {
    "colab": {
      "provenance": [],
      "authorship_tag": "ABX9TyNWvLOvNiFxKsG8uzOTHu3+",
      "include_colab_link": true
    },
    "kernelspec": {
      "name": "python3",
      "display_name": "Python 3"
    },
    "language_info": {
      "name": "python"
    }
  },
  "cells": [
    {
      "cell_type": "markdown",
      "metadata": {
        "id": "view-in-github",
        "colab_type": "text"
      },
      "source": [
        "<a href=\"https://colab.research.google.com/github/stiwari-ds/data-science-competitions/blob/main/machinehack/analytics_olympiad22/notebooks/00_eda.ipynb\" target=\"_parent\"><img src=\"https://colab.research.google.com/assets/colab-badge.svg\" alt=\"Open In Colab\"/></a>"
      ]
    },
    {
      "cell_type": "markdown",
      "source": [
        "# Setup"
      ],
      "metadata": {
        "id": "vhi-98vAABKW"
      }
    },
    {
      "cell_type": "code",
      "execution_count": 675,
      "metadata": {
        "id": "1m5lLEdG-5BX"
      },
      "outputs": [],
      "source": [
        "import gc\n",
        "import os\n",
        "import warnings\n",
        "\n",
        "gc.enable()\n",
        "warnings.filterwarnings('ignore')\n",
        "\n",
        "import numpy as np\n",
        "import pandas as pd\n",
        "\n",
        "np.set_printoptions(precision=3)\n",
        "pd.set_option('display.max_columns', None)\n",
        "pd.set_option('display.precision', 4)\n",
        "\n",
        "import matplotlib as mpl\n",
        "import matplotlib.pyplot as plt\n",
        "import seaborn as sns\n",
        "\n",
        "mpl.rcParams[\"axes.spines.right\"] = False\n",
        "mpl.rcParams[\"axes.spines.top\"] = False\n",
        "%matplotlib inline\n",
        "%config InlineBackend.figure_format = 'retina'\n",
        "\n",
        "from sklearn.feature_selection import chi2, f_classif, mutual_info_classif\n",
        "from sklearn.model_selection import StratifiedKFold\n",
        "from sklearn.metrics import log_loss\n",
        "from sklearn.linear_model import LogisticRegression\n",
        "from sklearn.ensemble import RandomForestClassifier"
      ]
    },
    {
      "cell_type": "code",
      "source": [
        "SEED = 23\n",
        "os.environ['PYTHONHASHSEED'] = str(SEED)\n",
        "np.random.seed(SEED)"
      ],
      "metadata": {
        "id": "ODmLlHhL_CpE"
      },
      "execution_count": 539,
      "outputs": []
    },
    {
      "cell_type": "code",
      "source": [
        "DATA_URL = 'https://raw.githubusercontent.com/stiwari-ds/data-science-competitions/main/machinehack/analytics_olympiad22/data'\n",
        "\n",
        "train = pd.read_csv(f'{DATA_URL}/raw/train.csv')\n",
        "test = pd.read_csv(f'{DATA_URL}/raw/test.csv')\n",
        "sample_sub = pd.read_csv(f'{DATA_URL}/raw/submission.csv')"
      ],
      "metadata": {
        "id": "7N2jjkzb_FXX"
      },
      "execution_count": 540,
      "outputs": []
    },
    {
      "cell_type": "markdown",
      "source": [
        "# Data Overview"
      ],
      "metadata": {
        "id": "ultPJ8o3__J2"
      }
    },
    {
      "cell_type": "code",
      "source": [
        "train.head()"
      ],
      "metadata": {
        "colab": {
          "base_uri": "https://localhost:8080/",
          "height": 357
        },
        "id": "SZqlSptk_-dm",
        "outputId": "4761bdbf-ab75-494d-d272-eaa3147da7ab"
      },
      "execution_count": 541,
      "outputs": [
        {
          "output_type": "execute_result",
          "data": {
            "text/plain": [
              "       ID    AGE  GENDER DRIVING_EXPERIENCE    EDUCATION         INCOME  \\\n",
              "0  816393  40-64  female             20-29y   university   middle class   \n",
              "1  251762  26-39    male             20-29y  high school   middle class   \n",
              "2  481952  40-64    male             20-29y         none   middle class   \n",
              "3    3506  40-64    male             20-29y  high school    upper class   \n",
              "4  498013  40-64  female             20-29y         none  working class   \n",
              "\n",
              "   CREDIT_SCORE  VEHICLE_OWNERSHIP VEHICLE_YEAR  MARRIED  CHILDREN  \\\n",
              "0        0.6380                0.0   after 2015      0.0       0.0   \n",
              "1        0.4757                1.0  before 2015      1.0       0.0   \n",
              "2        0.8398                1.0  before 2015      1.0       1.0   \n",
              "3        0.6825                1.0  before 2015      0.0       1.0   \n",
              "4        0.5722                1.0   after 2015      1.0       1.0   \n",
              "\n",
              "   POSTAL_CODE  ANNUAL_MILEAGE  SPEEDING_VIOLATIONS  DUIS  PAST_ACCIDENTS  \\\n",
              "0        37379         11000.0                    0     0               0   \n",
              "1        10238          9000.0                    0     0               0   \n",
              "2        10238         12000.0                    0     0               0   \n",
              "3        92099          6000.0                    1     0               0   \n",
              "4        32122         15000.0                    0     0               1   \n",
              "\n",
              "   OUTCOME TYPE_OF_VEHICLE  \n",
              "0      0.0      Sports Car  \n",
              "1      1.0       HatchBack  \n",
              "2      1.0           Sedan  \n",
              "3      1.0           Sedan  \n",
              "4      0.0           Sedan  "
            ],
            "text/html": [
              "\n",
              "  <div id=\"df-3c6d0ced-d47f-460d-9cc1-b7ba5e53b74b\">\n",
              "    <div class=\"colab-df-container\">\n",
              "      <div>\n",
              "<style scoped>\n",
              "    .dataframe tbody tr th:only-of-type {\n",
              "        vertical-align: middle;\n",
              "    }\n",
              "\n",
              "    .dataframe tbody tr th {\n",
              "        vertical-align: top;\n",
              "    }\n",
              "\n",
              "    .dataframe thead th {\n",
              "        text-align: right;\n",
              "    }\n",
              "</style>\n",
              "<table border=\"1\" class=\"dataframe\">\n",
              "  <thead>\n",
              "    <tr style=\"text-align: right;\">\n",
              "      <th></th>\n",
              "      <th>ID</th>\n",
              "      <th>AGE</th>\n",
              "      <th>GENDER</th>\n",
              "      <th>DRIVING_EXPERIENCE</th>\n",
              "      <th>EDUCATION</th>\n",
              "      <th>INCOME</th>\n",
              "      <th>CREDIT_SCORE</th>\n",
              "      <th>VEHICLE_OWNERSHIP</th>\n",
              "      <th>VEHICLE_YEAR</th>\n",
              "      <th>MARRIED</th>\n",
              "      <th>CHILDREN</th>\n",
              "      <th>POSTAL_CODE</th>\n",
              "      <th>ANNUAL_MILEAGE</th>\n",
              "      <th>SPEEDING_VIOLATIONS</th>\n",
              "      <th>DUIS</th>\n",
              "      <th>PAST_ACCIDENTS</th>\n",
              "      <th>OUTCOME</th>\n",
              "      <th>TYPE_OF_VEHICLE</th>\n",
              "    </tr>\n",
              "  </thead>\n",
              "  <tbody>\n",
              "    <tr>\n",
              "      <th>0</th>\n",
              "      <td>816393</td>\n",
              "      <td>40-64</td>\n",
              "      <td>female</td>\n",
              "      <td>20-29y</td>\n",
              "      <td>university</td>\n",
              "      <td>middle class</td>\n",
              "      <td>0.6380</td>\n",
              "      <td>0.0</td>\n",
              "      <td>after 2015</td>\n",
              "      <td>0.0</td>\n",
              "      <td>0.0</td>\n",
              "      <td>37379</td>\n",
              "      <td>11000.0</td>\n",
              "      <td>0</td>\n",
              "      <td>0</td>\n",
              "      <td>0</td>\n",
              "      <td>0.0</td>\n",
              "      <td>Sports Car</td>\n",
              "    </tr>\n",
              "    <tr>\n",
              "      <th>1</th>\n",
              "      <td>251762</td>\n",
              "      <td>26-39</td>\n",
              "      <td>male</td>\n",
              "      <td>20-29y</td>\n",
              "      <td>high school</td>\n",
              "      <td>middle class</td>\n",
              "      <td>0.4757</td>\n",
              "      <td>1.0</td>\n",
              "      <td>before 2015</td>\n",
              "      <td>1.0</td>\n",
              "      <td>0.0</td>\n",
              "      <td>10238</td>\n",
              "      <td>9000.0</td>\n",
              "      <td>0</td>\n",
              "      <td>0</td>\n",
              "      <td>0</td>\n",
              "      <td>1.0</td>\n",
              "      <td>HatchBack</td>\n",
              "    </tr>\n",
              "    <tr>\n",
              "      <th>2</th>\n",
              "      <td>481952</td>\n",
              "      <td>40-64</td>\n",
              "      <td>male</td>\n",
              "      <td>20-29y</td>\n",
              "      <td>none</td>\n",
              "      <td>middle class</td>\n",
              "      <td>0.8398</td>\n",
              "      <td>1.0</td>\n",
              "      <td>before 2015</td>\n",
              "      <td>1.0</td>\n",
              "      <td>1.0</td>\n",
              "      <td>10238</td>\n",
              "      <td>12000.0</td>\n",
              "      <td>0</td>\n",
              "      <td>0</td>\n",
              "      <td>0</td>\n",
              "      <td>1.0</td>\n",
              "      <td>Sedan</td>\n",
              "    </tr>\n",
              "    <tr>\n",
              "      <th>3</th>\n",
              "      <td>3506</td>\n",
              "      <td>40-64</td>\n",
              "      <td>male</td>\n",
              "      <td>20-29y</td>\n",
              "      <td>high school</td>\n",
              "      <td>upper class</td>\n",
              "      <td>0.6825</td>\n",
              "      <td>1.0</td>\n",
              "      <td>before 2015</td>\n",
              "      <td>0.0</td>\n",
              "      <td>1.0</td>\n",
              "      <td>92099</td>\n",
              "      <td>6000.0</td>\n",
              "      <td>1</td>\n",
              "      <td>0</td>\n",
              "      <td>0</td>\n",
              "      <td>1.0</td>\n",
              "      <td>Sedan</td>\n",
              "    </tr>\n",
              "    <tr>\n",
              "      <th>4</th>\n",
              "      <td>498013</td>\n",
              "      <td>40-64</td>\n",
              "      <td>female</td>\n",
              "      <td>20-29y</td>\n",
              "      <td>none</td>\n",
              "      <td>working class</td>\n",
              "      <td>0.5722</td>\n",
              "      <td>1.0</td>\n",
              "      <td>after 2015</td>\n",
              "      <td>1.0</td>\n",
              "      <td>1.0</td>\n",
              "      <td>32122</td>\n",
              "      <td>15000.0</td>\n",
              "      <td>0</td>\n",
              "      <td>0</td>\n",
              "      <td>1</td>\n",
              "      <td>0.0</td>\n",
              "      <td>Sedan</td>\n",
              "    </tr>\n",
              "  </tbody>\n",
              "</table>\n",
              "</div>\n",
              "      <button class=\"colab-df-convert\" onclick=\"convertToInteractive('df-3c6d0ced-d47f-460d-9cc1-b7ba5e53b74b')\"\n",
              "              title=\"Convert this dataframe to an interactive table.\"\n",
              "              style=\"display:none;\">\n",
              "        \n",
              "  <svg xmlns=\"http://www.w3.org/2000/svg\" height=\"24px\"viewBox=\"0 0 24 24\"\n",
              "       width=\"24px\">\n",
              "    <path d=\"M0 0h24v24H0V0z\" fill=\"none\"/>\n",
              "    <path d=\"M18.56 5.44l.94 2.06.94-2.06 2.06-.94-2.06-.94-.94-2.06-.94 2.06-2.06.94zm-11 1L8.5 8.5l.94-2.06 2.06-.94-2.06-.94L8.5 2.5l-.94 2.06-2.06.94zm10 10l.94 2.06.94-2.06 2.06-.94-2.06-.94-.94-2.06-.94 2.06-2.06.94z\"/><path d=\"M17.41 7.96l-1.37-1.37c-.4-.4-.92-.59-1.43-.59-.52 0-1.04.2-1.43.59L10.3 9.45l-7.72 7.72c-.78.78-.78 2.05 0 2.83L4 21.41c.39.39.9.59 1.41.59.51 0 1.02-.2 1.41-.59l7.78-7.78 2.81-2.81c.8-.78.8-2.07 0-2.86zM5.41 20L4 18.59l7.72-7.72 1.47 1.35L5.41 20z\"/>\n",
              "  </svg>\n",
              "      </button>\n",
              "      \n",
              "  <style>\n",
              "    .colab-df-container {\n",
              "      display:flex;\n",
              "      flex-wrap:wrap;\n",
              "      gap: 12px;\n",
              "    }\n",
              "\n",
              "    .colab-df-convert {\n",
              "      background-color: #E8F0FE;\n",
              "      border: none;\n",
              "      border-radius: 50%;\n",
              "      cursor: pointer;\n",
              "      display: none;\n",
              "      fill: #1967D2;\n",
              "      height: 32px;\n",
              "      padding: 0 0 0 0;\n",
              "      width: 32px;\n",
              "    }\n",
              "\n",
              "    .colab-df-convert:hover {\n",
              "      background-color: #E2EBFA;\n",
              "      box-shadow: 0px 1px 2px rgba(60, 64, 67, 0.3), 0px 1px 3px 1px rgba(60, 64, 67, 0.15);\n",
              "      fill: #174EA6;\n",
              "    }\n",
              "\n",
              "    [theme=dark] .colab-df-convert {\n",
              "      background-color: #3B4455;\n",
              "      fill: #D2E3FC;\n",
              "    }\n",
              "\n",
              "    [theme=dark] .colab-df-convert:hover {\n",
              "      background-color: #434B5C;\n",
              "      box-shadow: 0px 1px 3px 1px rgba(0, 0, 0, 0.15);\n",
              "      filter: drop-shadow(0px 1px 2px rgba(0, 0, 0, 0.3));\n",
              "      fill: #FFFFFF;\n",
              "    }\n",
              "  </style>\n",
              "\n",
              "      <script>\n",
              "        const buttonEl =\n",
              "          document.querySelector('#df-3c6d0ced-d47f-460d-9cc1-b7ba5e53b74b button.colab-df-convert');\n",
              "        buttonEl.style.display =\n",
              "          google.colab.kernel.accessAllowed ? 'block' : 'none';\n",
              "\n",
              "        async function convertToInteractive(key) {\n",
              "          const element = document.querySelector('#df-3c6d0ced-d47f-460d-9cc1-b7ba5e53b74b');\n",
              "          const dataTable =\n",
              "            await google.colab.kernel.invokeFunction('convertToInteractive',\n",
              "                                                     [key], {});\n",
              "          if (!dataTable) return;\n",
              "\n",
              "          const docLinkHtml = 'Like what you see? Visit the ' +\n",
              "            '<a target=\"_blank\" href=https://colab.research.google.com/notebooks/data_table.ipynb>data table notebook</a>'\n",
              "            + ' to learn more about interactive tables.';\n",
              "          element.innerHTML = '';\n",
              "          dataTable['output_type'] = 'display_data';\n",
              "          await google.colab.output.renderOutput(dataTable, element);\n",
              "          const docLink = document.createElement('div');\n",
              "          docLink.innerHTML = docLinkHtml;\n",
              "          element.appendChild(docLink);\n",
              "        }\n",
              "      </script>\n",
              "    </div>\n",
              "  </div>\n",
              "  "
            ]
          },
          "metadata": {},
          "execution_count": 541
        }
      ]
    },
    {
      "cell_type": "code",
      "source": [
        "sample_sub.head()"
      ],
      "metadata": {
        "colab": {
          "base_uri": "https://localhost:8080/",
          "height": 206
        },
        "id": "QjembkXjATLz",
        "outputId": "77adf3eb-aad6-49cf-ad40-9021990ee560"
      },
      "execution_count": 542,
      "outputs": [
        {
          "output_type": "execute_result",
          "data": {
            "text/plain": [
              "   OUTCOME\n",
              "0      0.0\n",
              "1      0.0\n",
              "2      0.0\n",
              "3      0.0\n",
              "4      0.0"
            ],
            "text/html": [
              "\n",
              "  <div id=\"df-f1acb0a6-df4a-40d7-9f1b-a9b1b72d9daf\">\n",
              "    <div class=\"colab-df-container\">\n",
              "      <div>\n",
              "<style scoped>\n",
              "    .dataframe tbody tr th:only-of-type {\n",
              "        vertical-align: middle;\n",
              "    }\n",
              "\n",
              "    .dataframe tbody tr th {\n",
              "        vertical-align: top;\n",
              "    }\n",
              "\n",
              "    .dataframe thead th {\n",
              "        text-align: right;\n",
              "    }\n",
              "</style>\n",
              "<table border=\"1\" class=\"dataframe\">\n",
              "  <thead>\n",
              "    <tr style=\"text-align: right;\">\n",
              "      <th></th>\n",
              "      <th>OUTCOME</th>\n",
              "    </tr>\n",
              "  </thead>\n",
              "  <tbody>\n",
              "    <tr>\n",
              "      <th>0</th>\n",
              "      <td>0.0</td>\n",
              "    </tr>\n",
              "    <tr>\n",
              "      <th>1</th>\n",
              "      <td>0.0</td>\n",
              "    </tr>\n",
              "    <tr>\n",
              "      <th>2</th>\n",
              "      <td>0.0</td>\n",
              "    </tr>\n",
              "    <tr>\n",
              "      <th>3</th>\n",
              "      <td>0.0</td>\n",
              "    </tr>\n",
              "    <tr>\n",
              "      <th>4</th>\n",
              "      <td>0.0</td>\n",
              "    </tr>\n",
              "  </tbody>\n",
              "</table>\n",
              "</div>\n",
              "      <button class=\"colab-df-convert\" onclick=\"convertToInteractive('df-f1acb0a6-df4a-40d7-9f1b-a9b1b72d9daf')\"\n",
              "              title=\"Convert this dataframe to an interactive table.\"\n",
              "              style=\"display:none;\">\n",
              "        \n",
              "  <svg xmlns=\"http://www.w3.org/2000/svg\" height=\"24px\"viewBox=\"0 0 24 24\"\n",
              "       width=\"24px\">\n",
              "    <path d=\"M0 0h24v24H0V0z\" fill=\"none\"/>\n",
              "    <path d=\"M18.56 5.44l.94 2.06.94-2.06 2.06-.94-2.06-.94-.94-2.06-.94 2.06-2.06.94zm-11 1L8.5 8.5l.94-2.06 2.06-.94-2.06-.94L8.5 2.5l-.94 2.06-2.06.94zm10 10l.94 2.06.94-2.06 2.06-.94-2.06-.94-.94-2.06-.94 2.06-2.06.94z\"/><path d=\"M17.41 7.96l-1.37-1.37c-.4-.4-.92-.59-1.43-.59-.52 0-1.04.2-1.43.59L10.3 9.45l-7.72 7.72c-.78.78-.78 2.05 0 2.83L4 21.41c.39.39.9.59 1.41.59.51 0 1.02-.2 1.41-.59l7.78-7.78 2.81-2.81c.8-.78.8-2.07 0-2.86zM5.41 20L4 18.59l7.72-7.72 1.47 1.35L5.41 20z\"/>\n",
              "  </svg>\n",
              "      </button>\n",
              "      \n",
              "  <style>\n",
              "    .colab-df-container {\n",
              "      display:flex;\n",
              "      flex-wrap:wrap;\n",
              "      gap: 12px;\n",
              "    }\n",
              "\n",
              "    .colab-df-convert {\n",
              "      background-color: #E8F0FE;\n",
              "      border: none;\n",
              "      border-radius: 50%;\n",
              "      cursor: pointer;\n",
              "      display: none;\n",
              "      fill: #1967D2;\n",
              "      height: 32px;\n",
              "      padding: 0 0 0 0;\n",
              "      width: 32px;\n",
              "    }\n",
              "\n",
              "    .colab-df-convert:hover {\n",
              "      background-color: #E2EBFA;\n",
              "      box-shadow: 0px 1px 2px rgba(60, 64, 67, 0.3), 0px 1px 3px 1px rgba(60, 64, 67, 0.15);\n",
              "      fill: #174EA6;\n",
              "    }\n",
              "\n",
              "    [theme=dark] .colab-df-convert {\n",
              "      background-color: #3B4455;\n",
              "      fill: #D2E3FC;\n",
              "    }\n",
              "\n",
              "    [theme=dark] .colab-df-convert:hover {\n",
              "      background-color: #434B5C;\n",
              "      box-shadow: 0px 1px 3px 1px rgba(0, 0, 0, 0.15);\n",
              "      filter: drop-shadow(0px 1px 2px rgba(0, 0, 0, 0.3));\n",
              "      fill: #FFFFFF;\n",
              "    }\n",
              "  </style>\n",
              "\n",
              "      <script>\n",
              "        const buttonEl =\n",
              "          document.querySelector('#df-f1acb0a6-df4a-40d7-9f1b-a9b1b72d9daf button.colab-df-convert');\n",
              "        buttonEl.style.display =\n",
              "          google.colab.kernel.accessAllowed ? 'block' : 'none';\n",
              "\n",
              "        async function convertToInteractive(key) {\n",
              "          const element = document.querySelector('#df-f1acb0a6-df4a-40d7-9f1b-a9b1b72d9daf');\n",
              "          const dataTable =\n",
              "            await google.colab.kernel.invokeFunction('convertToInteractive',\n",
              "                                                     [key], {});\n",
              "          if (!dataTable) return;\n",
              "\n",
              "          const docLinkHtml = 'Like what you see? Visit the ' +\n",
              "            '<a target=\"_blank\" href=https://colab.research.google.com/notebooks/data_table.ipynb>data table notebook</a>'\n",
              "            + ' to learn more about interactive tables.';\n",
              "          element.innerHTML = '';\n",
              "          dataTable['output_type'] = 'display_data';\n",
              "          await google.colab.output.renderOutput(dataTable, element);\n",
              "          const docLink = document.createElement('div');\n",
              "          docLink.innerHTML = docLinkHtml;\n",
              "          element.appendChild(docLink);\n",
              "        }\n",
              "      </script>\n",
              "    </div>\n",
              "  </div>\n",
              "  "
            ]
          },
          "metadata": {},
          "execution_count": 542
        }
      ]
    },
    {
      "cell_type": "code",
      "source": [
        "train.info()"
      ],
      "metadata": {
        "colab": {
          "base_uri": "https://localhost:8080/"
        },
        "id": "tRkoZZlEAGFi",
        "outputId": "eb294dbe-9260-4732-f9bd-c3ce2d7efa5a"
      },
      "execution_count": 543,
      "outputs": [
        {
          "output_type": "stream",
          "name": "stdout",
          "text": [
            "<class 'pandas.core.frame.DataFrame'>\n",
            "RangeIndex: 105000 entries, 0 to 104999\n",
            "Data columns (total 18 columns):\n",
            " #   Column               Non-Null Count   Dtype  \n",
            "---  ------               --------------   -----  \n",
            " 0   ID                   105000 non-null  int64  \n",
            " 1   AGE                  105000 non-null  object \n",
            " 2   GENDER               105000 non-null  object \n",
            " 3   DRIVING_EXPERIENCE   105000 non-null  object \n",
            " 4   EDUCATION            105000 non-null  object \n",
            " 5   INCOME               105000 non-null  object \n",
            " 6   CREDIT_SCORE         105000 non-null  float64\n",
            " 7   VEHICLE_OWNERSHIP    105000 non-null  float64\n",
            " 8   VEHICLE_YEAR         105000 non-null  object \n",
            " 9   MARRIED              105000 non-null  float64\n",
            " 10  CHILDREN             105000 non-null  float64\n",
            " 11  POSTAL_CODE          105000 non-null  int64  \n",
            " 12  ANNUAL_MILEAGE       105000 non-null  float64\n",
            " 13  SPEEDING_VIOLATIONS  105000 non-null  int64  \n",
            " 14  DUIS                 105000 non-null  int64  \n",
            " 15  PAST_ACCIDENTS       105000 non-null  int64  \n",
            " 16  OUTCOME              105000 non-null  float64\n",
            " 17  TYPE_OF_VEHICLE      105000 non-null  object \n",
            "dtypes: float64(6), int64(5), object(7)\n",
            "memory usage: 14.4+ MB\n"
          ]
        }
      ]
    },
    {
      "cell_type": "code",
      "source": [
        "train.shape, test.shape, sample_sub.shape"
      ],
      "metadata": {
        "colab": {
          "base_uri": "https://localhost:8080/"
        },
        "id": "-VNq1Ip0AHZg",
        "outputId": "573b510d-5f43-4263-960f-80c16d77ba2b"
      },
      "execution_count": 544,
      "outputs": [
        {
          "output_type": "execute_result",
          "data": {
            "text/plain": [
              "((105000, 18), (45000, 17), (45000, 1))"
            ]
          },
          "metadata": {},
          "execution_count": 544
        }
      ]
    },
    {
      "cell_type": "code",
      "source": [
        "train.isna().sum().sum(), test.isna().sum().sum()"
      ],
      "metadata": {
        "colab": {
          "base_uri": "https://localhost:8080/"
        },
        "id": "o6arbg6oBUkO",
        "outputId": "b4b48b4e-4340-4b09-ef3c-0c0d4eca3d01"
      },
      "execution_count": 545,
      "outputs": [
        {
          "output_type": "execute_result",
          "data": {
            "text/plain": [
              "(0, 0)"
            ]
          },
          "metadata": {},
          "execution_count": 545
        }
      ]
    },
    {
      "cell_type": "markdown",
      "source": [
        "No missing values."
      ],
      "metadata": {
        "id": "t9oBZUByBbbF"
      }
    },
    {
      "cell_type": "markdown",
      "source": [
        "### Target"
      ],
      "metadata": {
        "id": "ji7vo3n4BBsy"
      }
    },
    {
      "cell_type": "code",
      "source": [
        "TARGET = 'OUTCOME'"
      ],
      "metadata": {
        "id": "uq2bq4MnBC2S"
      },
      "execution_count": 546,
      "outputs": []
    },
    {
      "cell_type": "code",
      "source": [
        "train[TARGET].value_counts(normalize=True, dropna=False)"
      ],
      "metadata": {
        "colab": {
          "base_uri": "https://localhost:8080/"
        },
        "id": "l7oE5qciBFS4",
        "outputId": "b2224371-e8e4-4b74-cc9f-8d20f487e161"
      },
      "execution_count": 547,
      "outputs": [
        {
          "output_type": "execute_result",
          "data": {
            "text/plain": [
              "0.0    0.5774\n",
              "1.0    0.4226\n",
              "Name: OUTCOME, dtype: float64"
            ]
          },
          "metadata": {},
          "execution_count": 547
        }
      ]
    },
    {
      "cell_type": "markdown",
      "source": [
        "Fairly balanced."
      ],
      "metadata": {
        "id": "z_3P_DRKBPvp"
      }
    },
    {
      "cell_type": "markdown",
      "source": [
        "# Feature exploration"
      ],
      "metadata": {
        "id": "sEO1s0JYBkML"
      }
    },
    {
      "cell_type": "code",
      "source": [
        "def plot_cont(feature):\n",
        "    \"\"\"Plot side-by-side kdeplots for train and test\n",
        "    data distribution of continuous feature.\n",
        "    \"\"\"\n",
        "    fig, ax = plt.subplots(nrows=1, ncols=2, sharex=True, sharey=True, figsize=(20, 4))\n",
        "    plt.suptitle(f'Feature: {feature}', fontweight='bold')\n",
        "    sns.kdeplot(x=feature, data=train, ax=ax[0], cut=0)\n",
        "    ax[0].set_title('Train data')\n",
        "    sns.kdeplot(x=feature, data=test, ax=ax[1], cut=0)\n",
        "    ax[1].set_title('Test data')\n",
        "    fig.tight_layout()\n",
        "    plt.show()"
      ],
      "metadata": {
        "id": "U2NusghQjgyW"
      },
      "execution_count": 548,
      "outputs": []
    },
    {
      "cell_type": "code",
      "source": [
        "def plot_cont_vs_target(feature):\n",
        "    \"\"\"Plot kdeplot for distribution of continuous feature\n",
        "    split by categories of Target variable.\n",
        "    \"\"\"\n",
        "    fig, ax = plt.subplots(nrows=1, ncols=1, figsize=(9, 4))\n",
        "    plt.suptitle(f'{feature} vs. {TARGET}', fontweight='bold')\n",
        "    sns.kdeplot(x=feature, data=train, hue=TARGET, ax=ax, cut=0)\n",
        "    fig.tight_layout()\n",
        "    plt.show()"
      ],
      "metadata": {
        "id": "MwA0r-zzjp5e"
      },
      "execution_count": 549,
      "outputs": []
    },
    {
      "cell_type": "markdown",
      "source": [
        "### ID"
      ],
      "metadata": {
        "id": "WGSYHW8cBqCq"
      }
    },
    {
      "cell_type": "code",
      "source": [
        "train.ID.nunique(), train.shape[0]"
      ],
      "metadata": {
        "colab": {
          "base_uri": "https://localhost:8080/"
        },
        "id": "yCW7jEk9BLng",
        "outputId": "87a66f67-3ee8-40fa-a847-26a50ac574dd"
      },
      "execution_count": 550,
      "outputs": [
        {
          "output_type": "execute_result",
          "data": {
            "text/plain": [
              "(98485, 105000)"
            ]
          },
          "metadata": {},
          "execution_count": 550
        }
      ]
    },
    {
      "cell_type": "code",
      "source": [
        "test.ID.nunique(), test.shape[0]"
      ],
      "metadata": {
        "colab": {
          "base_uri": "https://localhost:8080/"
        },
        "id": "4imwehErBvUU",
        "outputId": "778657b2-1222-47e0-b3de-205343bd02b5"
      },
      "execution_count": 551,
      "outputs": [
        {
          "output_type": "execute_result",
          "data": {
            "text/plain": [
              "(43692, 45000)"
            ]
          },
          "metadata": {},
          "execution_count": 551
        }
      ]
    },
    {
      "cell_type": "markdown",
      "source": [
        "Repeated IDs in train and test sets. Might be due to multiple incidents for same person."
      ],
      "metadata": {
        "id": "kSKi7qYmB2Cv"
      }
    },
    {
      "cell_type": "code",
      "source": [
        "len(set(train.ID.unique()) - set(test.ID.unique())), len(set(test.ID.unique()) - set(train.ID.unique()))"
      ],
      "metadata": {
        "colab": {
          "base_uri": "https://localhost:8080/"
        },
        "id": "j_IgaSOzB1G4",
        "outputId": "b85598dd-c24b-443f-adf8-a4416e1ae377"
      },
      "execution_count": 552,
      "outputs": [
        {
          "output_type": "execute_result",
          "data": {
            "text/plain": [
              "(93268, 38475)"
            ]
          },
          "metadata": {},
          "execution_count": 552
        }
      ]
    },
    {
      "cell_type": "code",
      "source": [
        "98485 - 93268"
      ],
      "metadata": {
        "colab": {
          "base_uri": "https://localhost:8080/"
        },
        "id": "qdYk2n5WCXhk",
        "outputId": "7db1426f-a442-44cb-e661-ac6861a13ff9"
      },
      "execution_count": 553,
      "outputs": [
        {
          "output_type": "execute_result",
          "data": {
            "text/plain": [
              "5217"
            ]
          },
          "metadata": {},
          "execution_count": 553
        }
      ]
    },
    {
      "cell_type": "markdown",
      "source": [
        "Overlapping IDs between train and test set. Some people with multiple incidents may have them divided between train and test set."
      ],
      "metadata": {
        "id": "PY1NpgDcClRB"
      }
    },
    {
      "cell_type": "code",
      "source": [
        "composite  = pd.concat(\n",
        "    [train.drop(TARGET, axis=1), test], \n",
        "    axis=0,\n",
        "    ignore_index=True\n",
        ")"
      ],
      "metadata": {
        "id": "1r9Au917CiIM"
      },
      "execution_count": 554,
      "outputs": []
    },
    {
      "cell_type": "code",
      "source": [
        "composite.ID.nunique(), composite.shape[0]"
      ],
      "metadata": {
        "colab": {
          "base_uri": "https://localhost:8080/"
        },
        "id": "Zu4iNjDfDbrG",
        "outputId": "fbd5d4f5-9479-4a1d-d498-d2eef51ac68a"
      },
      "execution_count": 555,
      "outputs": [
        {
          "output_type": "execute_result",
          "data": {
            "text/plain": [
              "(136960, 150000)"
            ]
          },
          "metadata": {},
          "execution_count": 555
        }
      ]
    },
    {
      "cell_type": "code",
      "source": [
        "98485 + 43692"
      ],
      "metadata": {
        "colab": {
          "base_uri": "https://localhost:8080/"
        },
        "id": "Zz4td1WvD8KQ",
        "outputId": "82627bcb-a672-495c-c700-2fcc14c5678e"
      },
      "execution_count": 556,
      "outputs": [
        {
          "output_type": "execute_result",
          "data": {
            "text/plain": [
              "142177"
            ]
          },
          "metadata": {},
          "execution_count": 556
        }
      ]
    },
    {
      "cell_type": "markdown",
      "source": [
        "As expected, actual number of unique IDs is less than sum of unique IDs in separate datasets.  \n",
        "Some people are present once in the train set and once in the test set."
      ],
      "metadata": {
        "id": "It9Pdr0YEDfd"
      }
    },
    {
      "cell_type": "code",
      "source": [
        "composite.ID.value_counts()[:10]"
      ],
      "metadata": {
        "colab": {
          "base_uri": "https://localhost:8080/"
        },
        "id": "6T7hVVCSEjcZ",
        "outputId": "8323ee57-a51d-498a-db82-626c0a025a8e"
      },
      "execution_count": 557,
      "outputs": [
        {
          "output_type": "execute_result",
          "data": {
            "text/plain": [
              "101    178\n",
              "102     47\n",
              "103     22\n",
              "104     16\n",
              "106     14\n",
              "105     10\n",
              "107      9\n",
              "109      8\n",
              "108      8\n",
              "326      7\n",
              "Name: ID, dtype: int64"
            ]
          },
          "metadata": {},
          "execution_count": 557
        }
      ]
    },
    {
      "cell_type": "code",
      "source": [
        "composite.duplicated().sum()"
      ],
      "metadata": {
        "colab": {
          "base_uri": "https://localhost:8080/"
        },
        "id": "sk_b7VEPLwPq",
        "outputId": "b08fd4e1-b111-4ca2-ba58-dc0e7e872d89"
      },
      "execution_count": 558,
      "outputs": [
        {
          "output_type": "execute_result",
          "data": {
            "text/plain": [
              "0"
            ]
          },
          "metadata": {},
          "execution_count": 558
        }
      ]
    },
    {
      "cell_type": "code",
      "source": [
        "composite.loc[composite.ID == 108]"
      ],
      "metadata": {
        "colab": {
          "base_uri": "https://localhost:8080/",
          "height": 0
        },
        "id": "Q8wFUKNMGbfh",
        "outputId": "2c97b197-2d0d-43c5-dbd1-4266bcf64a47"
      },
      "execution_count": 559,
      "outputs": [
        {
          "output_type": "execute_result",
          "data": {
            "text/plain": [
              "         ID    AGE  GENDER DRIVING_EXPERIENCE    EDUCATION         INCOME  \\\n",
              "16053   108    65+    male             20-29y         none    upper class   \n",
              "18546   108  26-39    male             10-19y  high school        poverty   \n",
              "25935   108    65+    male             10-19y   university  working class   \n",
              "26982   108  26-39  female             20-29y   university    upper class   \n",
              "34688   108  26-39    male             10-19y         none        poverty   \n",
              "87525   108  40-64  female               0-9y  high school    upper class   \n",
              "142897  108    65+    male               0-9y  high school    upper class   \n",
              "147412  108    65+  female             20-29y         none    upper class   \n",
              "\n",
              "        CREDIT_SCORE  VEHICLE_OWNERSHIP VEHICLE_YEAR  MARRIED  CHILDREN  \\\n",
              "16053         0.5973                1.0   after 2015      1.0       1.0   \n",
              "18546         0.6211                1.0  before 2015      1.0       0.0   \n",
              "25935         0.5544                1.0   after 2015      1.0       1.0   \n",
              "26982         0.8240                0.0   after 2015      0.0       0.0   \n",
              "34688         0.8090                1.0   after 2015      0.0       0.0   \n",
              "87525         0.7332                1.0  before 2015      1.0       0.0   \n",
              "142897        0.6141                1.0   after 2015      1.0       0.0   \n",
              "147412        0.4296                1.0   after 2015      1.0       1.0   \n",
              "\n",
              "        POSTAL_CODE  ANNUAL_MILEAGE  SPEEDING_VIOLATIONS  DUIS  \\\n",
              "16053         10238          8000.0                    0     0   \n",
              "18546         10238         13000.0                    0     0   \n",
              "25935         33654         14000.0                    0     0   \n",
              "26982         10238         12000.0                    0     1   \n",
              "34688         10238         12000.0                    1     0   \n",
              "87525         10238         13000.0                    0     0   \n",
              "142897        10238          8000.0                    0     0   \n",
              "147412        30317          9000.0                    0     0   \n",
              "\n",
              "        PAST_ACCIDENTS TYPE_OF_VEHICLE  \n",
              "16053                2      Sports Car  \n",
              "18546                0       HatchBack  \n",
              "25935                1      Sports Car  \n",
              "26982                0             SUV  \n",
              "34688                0      Sports Car  \n",
              "87525                5       HatchBack  \n",
              "142897               0      Sports Car  \n",
              "147412               0      Sports Car  "
            ],
            "text/html": [
              "\n",
              "  <div id=\"df-b6c5868e-ca1b-4268-8a2e-00bb0727754d\">\n",
              "    <div class=\"colab-df-container\">\n",
              "      <div>\n",
              "<style scoped>\n",
              "    .dataframe tbody tr th:only-of-type {\n",
              "        vertical-align: middle;\n",
              "    }\n",
              "\n",
              "    .dataframe tbody tr th {\n",
              "        vertical-align: top;\n",
              "    }\n",
              "\n",
              "    .dataframe thead th {\n",
              "        text-align: right;\n",
              "    }\n",
              "</style>\n",
              "<table border=\"1\" class=\"dataframe\">\n",
              "  <thead>\n",
              "    <tr style=\"text-align: right;\">\n",
              "      <th></th>\n",
              "      <th>ID</th>\n",
              "      <th>AGE</th>\n",
              "      <th>GENDER</th>\n",
              "      <th>DRIVING_EXPERIENCE</th>\n",
              "      <th>EDUCATION</th>\n",
              "      <th>INCOME</th>\n",
              "      <th>CREDIT_SCORE</th>\n",
              "      <th>VEHICLE_OWNERSHIP</th>\n",
              "      <th>VEHICLE_YEAR</th>\n",
              "      <th>MARRIED</th>\n",
              "      <th>CHILDREN</th>\n",
              "      <th>POSTAL_CODE</th>\n",
              "      <th>ANNUAL_MILEAGE</th>\n",
              "      <th>SPEEDING_VIOLATIONS</th>\n",
              "      <th>DUIS</th>\n",
              "      <th>PAST_ACCIDENTS</th>\n",
              "      <th>TYPE_OF_VEHICLE</th>\n",
              "    </tr>\n",
              "  </thead>\n",
              "  <tbody>\n",
              "    <tr>\n",
              "      <th>16053</th>\n",
              "      <td>108</td>\n",
              "      <td>65+</td>\n",
              "      <td>male</td>\n",
              "      <td>20-29y</td>\n",
              "      <td>none</td>\n",
              "      <td>upper class</td>\n",
              "      <td>0.5973</td>\n",
              "      <td>1.0</td>\n",
              "      <td>after 2015</td>\n",
              "      <td>1.0</td>\n",
              "      <td>1.0</td>\n",
              "      <td>10238</td>\n",
              "      <td>8000.0</td>\n",
              "      <td>0</td>\n",
              "      <td>0</td>\n",
              "      <td>2</td>\n",
              "      <td>Sports Car</td>\n",
              "    </tr>\n",
              "    <tr>\n",
              "      <th>18546</th>\n",
              "      <td>108</td>\n",
              "      <td>26-39</td>\n",
              "      <td>male</td>\n",
              "      <td>10-19y</td>\n",
              "      <td>high school</td>\n",
              "      <td>poverty</td>\n",
              "      <td>0.6211</td>\n",
              "      <td>1.0</td>\n",
              "      <td>before 2015</td>\n",
              "      <td>1.0</td>\n",
              "      <td>0.0</td>\n",
              "      <td>10238</td>\n",
              "      <td>13000.0</td>\n",
              "      <td>0</td>\n",
              "      <td>0</td>\n",
              "      <td>0</td>\n",
              "      <td>HatchBack</td>\n",
              "    </tr>\n",
              "    <tr>\n",
              "      <th>25935</th>\n",
              "      <td>108</td>\n",
              "      <td>65+</td>\n",
              "      <td>male</td>\n",
              "      <td>10-19y</td>\n",
              "      <td>university</td>\n",
              "      <td>working class</td>\n",
              "      <td>0.5544</td>\n",
              "      <td>1.0</td>\n",
              "      <td>after 2015</td>\n",
              "      <td>1.0</td>\n",
              "      <td>1.0</td>\n",
              "      <td>33654</td>\n",
              "      <td>14000.0</td>\n",
              "      <td>0</td>\n",
              "      <td>0</td>\n",
              "      <td>1</td>\n",
              "      <td>Sports Car</td>\n",
              "    </tr>\n",
              "    <tr>\n",
              "      <th>26982</th>\n",
              "      <td>108</td>\n",
              "      <td>26-39</td>\n",
              "      <td>female</td>\n",
              "      <td>20-29y</td>\n",
              "      <td>university</td>\n",
              "      <td>upper class</td>\n",
              "      <td>0.8240</td>\n",
              "      <td>0.0</td>\n",
              "      <td>after 2015</td>\n",
              "      <td>0.0</td>\n",
              "      <td>0.0</td>\n",
              "      <td>10238</td>\n",
              "      <td>12000.0</td>\n",
              "      <td>0</td>\n",
              "      <td>1</td>\n",
              "      <td>0</td>\n",
              "      <td>SUV</td>\n",
              "    </tr>\n",
              "    <tr>\n",
              "      <th>34688</th>\n",
              "      <td>108</td>\n",
              "      <td>26-39</td>\n",
              "      <td>male</td>\n",
              "      <td>10-19y</td>\n",
              "      <td>none</td>\n",
              "      <td>poverty</td>\n",
              "      <td>0.8090</td>\n",
              "      <td>1.0</td>\n",
              "      <td>after 2015</td>\n",
              "      <td>0.0</td>\n",
              "      <td>0.0</td>\n",
              "      <td>10238</td>\n",
              "      <td>12000.0</td>\n",
              "      <td>1</td>\n",
              "      <td>0</td>\n",
              "      <td>0</td>\n",
              "      <td>Sports Car</td>\n",
              "    </tr>\n",
              "    <tr>\n",
              "      <th>87525</th>\n",
              "      <td>108</td>\n",
              "      <td>40-64</td>\n",
              "      <td>female</td>\n",
              "      <td>0-9y</td>\n",
              "      <td>high school</td>\n",
              "      <td>upper class</td>\n",
              "      <td>0.7332</td>\n",
              "      <td>1.0</td>\n",
              "      <td>before 2015</td>\n",
              "      <td>1.0</td>\n",
              "      <td>0.0</td>\n",
              "      <td>10238</td>\n",
              "      <td>13000.0</td>\n",
              "      <td>0</td>\n",
              "      <td>0</td>\n",
              "      <td>5</td>\n",
              "      <td>HatchBack</td>\n",
              "    </tr>\n",
              "    <tr>\n",
              "      <th>142897</th>\n",
              "      <td>108</td>\n",
              "      <td>65+</td>\n",
              "      <td>male</td>\n",
              "      <td>0-9y</td>\n",
              "      <td>high school</td>\n",
              "      <td>upper class</td>\n",
              "      <td>0.6141</td>\n",
              "      <td>1.0</td>\n",
              "      <td>after 2015</td>\n",
              "      <td>1.0</td>\n",
              "      <td>0.0</td>\n",
              "      <td>10238</td>\n",
              "      <td>8000.0</td>\n",
              "      <td>0</td>\n",
              "      <td>0</td>\n",
              "      <td>0</td>\n",
              "      <td>Sports Car</td>\n",
              "    </tr>\n",
              "    <tr>\n",
              "      <th>147412</th>\n",
              "      <td>108</td>\n",
              "      <td>65+</td>\n",
              "      <td>female</td>\n",
              "      <td>20-29y</td>\n",
              "      <td>none</td>\n",
              "      <td>upper class</td>\n",
              "      <td>0.4296</td>\n",
              "      <td>1.0</td>\n",
              "      <td>after 2015</td>\n",
              "      <td>1.0</td>\n",
              "      <td>1.0</td>\n",
              "      <td>30317</td>\n",
              "      <td>9000.0</td>\n",
              "      <td>0</td>\n",
              "      <td>0</td>\n",
              "      <td>0</td>\n",
              "      <td>Sports Car</td>\n",
              "    </tr>\n",
              "  </tbody>\n",
              "</table>\n",
              "</div>\n",
              "      <button class=\"colab-df-convert\" onclick=\"convertToInteractive('df-b6c5868e-ca1b-4268-8a2e-00bb0727754d')\"\n",
              "              title=\"Convert this dataframe to an interactive table.\"\n",
              "              style=\"display:none;\">\n",
              "        \n",
              "  <svg xmlns=\"http://www.w3.org/2000/svg\" height=\"24px\"viewBox=\"0 0 24 24\"\n",
              "       width=\"24px\">\n",
              "    <path d=\"M0 0h24v24H0V0z\" fill=\"none\"/>\n",
              "    <path d=\"M18.56 5.44l.94 2.06.94-2.06 2.06-.94-2.06-.94-.94-2.06-.94 2.06-2.06.94zm-11 1L8.5 8.5l.94-2.06 2.06-.94-2.06-.94L8.5 2.5l-.94 2.06-2.06.94zm10 10l.94 2.06.94-2.06 2.06-.94-2.06-.94-.94-2.06-.94 2.06-2.06.94z\"/><path d=\"M17.41 7.96l-1.37-1.37c-.4-.4-.92-.59-1.43-.59-.52 0-1.04.2-1.43.59L10.3 9.45l-7.72 7.72c-.78.78-.78 2.05 0 2.83L4 21.41c.39.39.9.59 1.41.59.51 0 1.02-.2 1.41-.59l7.78-7.78 2.81-2.81c.8-.78.8-2.07 0-2.86zM5.41 20L4 18.59l7.72-7.72 1.47 1.35L5.41 20z\"/>\n",
              "  </svg>\n",
              "      </button>\n",
              "      \n",
              "  <style>\n",
              "    .colab-df-container {\n",
              "      display:flex;\n",
              "      flex-wrap:wrap;\n",
              "      gap: 12px;\n",
              "    }\n",
              "\n",
              "    .colab-df-convert {\n",
              "      background-color: #E8F0FE;\n",
              "      border: none;\n",
              "      border-radius: 50%;\n",
              "      cursor: pointer;\n",
              "      display: none;\n",
              "      fill: #1967D2;\n",
              "      height: 32px;\n",
              "      padding: 0 0 0 0;\n",
              "      width: 32px;\n",
              "    }\n",
              "\n",
              "    .colab-df-convert:hover {\n",
              "      background-color: #E2EBFA;\n",
              "      box-shadow: 0px 1px 2px rgba(60, 64, 67, 0.3), 0px 1px 3px 1px rgba(60, 64, 67, 0.15);\n",
              "      fill: #174EA6;\n",
              "    }\n",
              "\n",
              "    [theme=dark] .colab-df-convert {\n",
              "      background-color: #3B4455;\n",
              "      fill: #D2E3FC;\n",
              "    }\n",
              "\n",
              "    [theme=dark] .colab-df-convert:hover {\n",
              "      background-color: #434B5C;\n",
              "      box-shadow: 0px 1px 3px 1px rgba(0, 0, 0, 0.15);\n",
              "      filter: drop-shadow(0px 1px 2px rgba(0, 0, 0, 0.3));\n",
              "      fill: #FFFFFF;\n",
              "    }\n",
              "  </style>\n",
              "\n",
              "      <script>\n",
              "        const buttonEl =\n",
              "          document.querySelector('#df-b6c5868e-ca1b-4268-8a2e-00bb0727754d button.colab-df-convert');\n",
              "        buttonEl.style.display =\n",
              "          google.colab.kernel.accessAllowed ? 'block' : 'none';\n",
              "\n",
              "        async function convertToInteractive(key) {\n",
              "          const element = document.querySelector('#df-b6c5868e-ca1b-4268-8a2e-00bb0727754d');\n",
              "          const dataTable =\n",
              "            await google.colab.kernel.invokeFunction('convertToInteractive',\n",
              "                                                     [key], {});\n",
              "          if (!dataTable) return;\n",
              "\n",
              "          const docLinkHtml = 'Like what you see? Visit the ' +\n",
              "            '<a target=\"_blank\" href=https://colab.research.google.com/notebooks/data_table.ipynb>data table notebook</a>'\n",
              "            + ' to learn more about interactive tables.';\n",
              "          element.innerHTML = '';\n",
              "          dataTable['output_type'] = 'display_data';\n",
              "          await google.colab.output.renderOutput(dataTable, element);\n",
              "          const docLink = document.createElement('div');\n",
              "          docLink.innerHTML = docLinkHtml;\n",
              "          element.appendChild(docLink);\n",
              "        }\n",
              "      </script>\n",
              "    </div>\n",
              "  </div>\n",
              "  "
            ]
          },
          "metadata": {},
          "execution_count": 559
        }
      ]
    },
    {
      "cell_type": "code",
      "source": [
        "composite.loc[composite.ID == 326]"
      ],
      "metadata": {
        "colab": {
          "base_uri": "https://localhost:8080/",
          "height": 0
        },
        "id": "bQTHxTWOEB3D",
        "outputId": "f20635ac-8403-4efc-913d-e8d97d65705d"
      },
      "execution_count": 560,
      "outputs": [
        {
          "output_type": "execute_result",
          "data": {
            "text/plain": [
              "         ID    AGE  GENDER DRIVING_EXPERIENCE    EDUCATION         INCOME  \\\n",
              "16209   326    65+    male               30y+   university  working class   \n",
              "37513   326  40-64    male             10-19y   university    upper class   \n",
              "69686   326    65+    male             20-29y         none    upper class   \n",
              "72876   326  40-64    male               0-9y  high school    upper class   \n",
              "82759   326    65+    male             10-19y  high school  working class   \n",
              "137933  326    65+  female             20-29y   university  working class   \n",
              "143383  326    65+    male             20-29y   university  working class   \n",
              "\n",
              "        CREDIT_SCORE  VEHICLE_OWNERSHIP VEHICLE_YEAR  MARRIED  CHILDREN  \\\n",
              "16209         0.5443                1.0  before 2015      0.0       0.0   \n",
              "37513         0.7796                1.0   after 2015      0.0       0.0   \n",
              "69686         0.5639                1.0   after 2015      1.0       1.0   \n",
              "72876         0.8382                1.0   after 2015      1.0       1.0   \n",
              "82759         0.5078                1.0   after 2015      1.0       1.0   \n",
              "137933        0.5136                1.0  before 2015      1.0       0.0   \n",
              "143383        0.7572                1.0  before 2015      0.0       1.0   \n",
              "\n",
              "        POSTAL_CODE  ANNUAL_MILEAGE  SPEEDING_VIOLATIONS  DUIS  \\\n",
              "16209         10238         10000.0                    0     0   \n",
              "37513         33722         13000.0                    1     0   \n",
              "69686         10238         11000.0                    1     0   \n",
              "72876         10238         15000.0                    0     0   \n",
              "82759         20426         11000.0                    0     0   \n",
              "137933        10238          9000.0                    0     0   \n",
              "143383        10238         14000.0                    0     0   \n",
              "\n",
              "        PAST_ACCIDENTS TYPE_OF_VEHICLE  \n",
              "16209                0             SUV  \n",
              "37513                0      Sports Car  \n",
              "69686                1             SUV  \n",
              "72876                0      Sports Car  \n",
              "82759                6       HatchBack  \n",
              "137933               0           Sedan  \n",
              "143383               0      Sports Car  "
            ],
            "text/html": [
              "\n",
              "  <div id=\"df-a68cf111-fdc4-40ad-be47-fee6ef50579e\">\n",
              "    <div class=\"colab-df-container\">\n",
              "      <div>\n",
              "<style scoped>\n",
              "    .dataframe tbody tr th:only-of-type {\n",
              "        vertical-align: middle;\n",
              "    }\n",
              "\n",
              "    .dataframe tbody tr th {\n",
              "        vertical-align: top;\n",
              "    }\n",
              "\n",
              "    .dataframe thead th {\n",
              "        text-align: right;\n",
              "    }\n",
              "</style>\n",
              "<table border=\"1\" class=\"dataframe\">\n",
              "  <thead>\n",
              "    <tr style=\"text-align: right;\">\n",
              "      <th></th>\n",
              "      <th>ID</th>\n",
              "      <th>AGE</th>\n",
              "      <th>GENDER</th>\n",
              "      <th>DRIVING_EXPERIENCE</th>\n",
              "      <th>EDUCATION</th>\n",
              "      <th>INCOME</th>\n",
              "      <th>CREDIT_SCORE</th>\n",
              "      <th>VEHICLE_OWNERSHIP</th>\n",
              "      <th>VEHICLE_YEAR</th>\n",
              "      <th>MARRIED</th>\n",
              "      <th>CHILDREN</th>\n",
              "      <th>POSTAL_CODE</th>\n",
              "      <th>ANNUAL_MILEAGE</th>\n",
              "      <th>SPEEDING_VIOLATIONS</th>\n",
              "      <th>DUIS</th>\n",
              "      <th>PAST_ACCIDENTS</th>\n",
              "      <th>TYPE_OF_VEHICLE</th>\n",
              "    </tr>\n",
              "  </thead>\n",
              "  <tbody>\n",
              "    <tr>\n",
              "      <th>16209</th>\n",
              "      <td>326</td>\n",
              "      <td>65+</td>\n",
              "      <td>male</td>\n",
              "      <td>30y+</td>\n",
              "      <td>university</td>\n",
              "      <td>working class</td>\n",
              "      <td>0.5443</td>\n",
              "      <td>1.0</td>\n",
              "      <td>before 2015</td>\n",
              "      <td>0.0</td>\n",
              "      <td>0.0</td>\n",
              "      <td>10238</td>\n",
              "      <td>10000.0</td>\n",
              "      <td>0</td>\n",
              "      <td>0</td>\n",
              "      <td>0</td>\n",
              "      <td>SUV</td>\n",
              "    </tr>\n",
              "    <tr>\n",
              "      <th>37513</th>\n",
              "      <td>326</td>\n",
              "      <td>40-64</td>\n",
              "      <td>male</td>\n",
              "      <td>10-19y</td>\n",
              "      <td>university</td>\n",
              "      <td>upper class</td>\n",
              "      <td>0.7796</td>\n",
              "      <td>1.0</td>\n",
              "      <td>after 2015</td>\n",
              "      <td>0.0</td>\n",
              "      <td>0.0</td>\n",
              "      <td>33722</td>\n",
              "      <td>13000.0</td>\n",
              "      <td>1</td>\n",
              "      <td>0</td>\n",
              "      <td>0</td>\n",
              "      <td>Sports Car</td>\n",
              "    </tr>\n",
              "    <tr>\n",
              "      <th>69686</th>\n",
              "      <td>326</td>\n",
              "      <td>65+</td>\n",
              "      <td>male</td>\n",
              "      <td>20-29y</td>\n",
              "      <td>none</td>\n",
              "      <td>upper class</td>\n",
              "      <td>0.5639</td>\n",
              "      <td>1.0</td>\n",
              "      <td>after 2015</td>\n",
              "      <td>1.0</td>\n",
              "      <td>1.0</td>\n",
              "      <td>10238</td>\n",
              "      <td>11000.0</td>\n",
              "      <td>1</td>\n",
              "      <td>0</td>\n",
              "      <td>1</td>\n",
              "      <td>SUV</td>\n",
              "    </tr>\n",
              "    <tr>\n",
              "      <th>72876</th>\n",
              "      <td>326</td>\n",
              "      <td>40-64</td>\n",
              "      <td>male</td>\n",
              "      <td>0-9y</td>\n",
              "      <td>high school</td>\n",
              "      <td>upper class</td>\n",
              "      <td>0.8382</td>\n",
              "      <td>1.0</td>\n",
              "      <td>after 2015</td>\n",
              "      <td>1.0</td>\n",
              "      <td>1.0</td>\n",
              "      <td>10238</td>\n",
              "      <td>15000.0</td>\n",
              "      <td>0</td>\n",
              "      <td>0</td>\n",
              "      <td>0</td>\n",
              "      <td>Sports Car</td>\n",
              "    </tr>\n",
              "    <tr>\n",
              "      <th>82759</th>\n",
              "      <td>326</td>\n",
              "      <td>65+</td>\n",
              "      <td>male</td>\n",
              "      <td>10-19y</td>\n",
              "      <td>high school</td>\n",
              "      <td>working class</td>\n",
              "      <td>0.5078</td>\n",
              "      <td>1.0</td>\n",
              "      <td>after 2015</td>\n",
              "      <td>1.0</td>\n",
              "      <td>1.0</td>\n",
              "      <td>20426</td>\n",
              "      <td>11000.0</td>\n",
              "      <td>0</td>\n",
              "      <td>0</td>\n",
              "      <td>6</td>\n",
              "      <td>HatchBack</td>\n",
              "    </tr>\n",
              "    <tr>\n",
              "      <th>137933</th>\n",
              "      <td>326</td>\n",
              "      <td>65+</td>\n",
              "      <td>female</td>\n",
              "      <td>20-29y</td>\n",
              "      <td>university</td>\n",
              "      <td>working class</td>\n",
              "      <td>0.5136</td>\n",
              "      <td>1.0</td>\n",
              "      <td>before 2015</td>\n",
              "      <td>1.0</td>\n",
              "      <td>0.0</td>\n",
              "      <td>10238</td>\n",
              "      <td>9000.0</td>\n",
              "      <td>0</td>\n",
              "      <td>0</td>\n",
              "      <td>0</td>\n",
              "      <td>Sedan</td>\n",
              "    </tr>\n",
              "    <tr>\n",
              "      <th>143383</th>\n",
              "      <td>326</td>\n",
              "      <td>65+</td>\n",
              "      <td>male</td>\n",
              "      <td>20-29y</td>\n",
              "      <td>university</td>\n",
              "      <td>working class</td>\n",
              "      <td>0.7572</td>\n",
              "      <td>1.0</td>\n",
              "      <td>before 2015</td>\n",
              "      <td>0.0</td>\n",
              "      <td>1.0</td>\n",
              "      <td>10238</td>\n",
              "      <td>14000.0</td>\n",
              "      <td>0</td>\n",
              "      <td>0</td>\n",
              "      <td>0</td>\n",
              "      <td>Sports Car</td>\n",
              "    </tr>\n",
              "  </tbody>\n",
              "</table>\n",
              "</div>\n",
              "      <button class=\"colab-df-convert\" onclick=\"convertToInteractive('df-a68cf111-fdc4-40ad-be47-fee6ef50579e')\"\n",
              "              title=\"Convert this dataframe to an interactive table.\"\n",
              "              style=\"display:none;\">\n",
              "        \n",
              "  <svg xmlns=\"http://www.w3.org/2000/svg\" height=\"24px\"viewBox=\"0 0 24 24\"\n",
              "       width=\"24px\">\n",
              "    <path d=\"M0 0h24v24H0V0z\" fill=\"none\"/>\n",
              "    <path d=\"M18.56 5.44l.94 2.06.94-2.06 2.06-.94-2.06-.94-.94-2.06-.94 2.06-2.06.94zm-11 1L8.5 8.5l.94-2.06 2.06-.94-2.06-.94L8.5 2.5l-.94 2.06-2.06.94zm10 10l.94 2.06.94-2.06 2.06-.94-2.06-.94-.94-2.06-.94 2.06-2.06.94z\"/><path d=\"M17.41 7.96l-1.37-1.37c-.4-.4-.92-.59-1.43-.59-.52 0-1.04.2-1.43.59L10.3 9.45l-7.72 7.72c-.78.78-.78 2.05 0 2.83L4 21.41c.39.39.9.59 1.41.59.51 0 1.02-.2 1.41-.59l7.78-7.78 2.81-2.81c.8-.78.8-2.07 0-2.86zM5.41 20L4 18.59l7.72-7.72 1.47 1.35L5.41 20z\"/>\n",
              "  </svg>\n",
              "      </button>\n",
              "      \n",
              "  <style>\n",
              "    .colab-df-container {\n",
              "      display:flex;\n",
              "      flex-wrap:wrap;\n",
              "      gap: 12px;\n",
              "    }\n",
              "\n",
              "    .colab-df-convert {\n",
              "      background-color: #E8F0FE;\n",
              "      border: none;\n",
              "      border-radius: 50%;\n",
              "      cursor: pointer;\n",
              "      display: none;\n",
              "      fill: #1967D2;\n",
              "      height: 32px;\n",
              "      padding: 0 0 0 0;\n",
              "      width: 32px;\n",
              "    }\n",
              "\n",
              "    .colab-df-convert:hover {\n",
              "      background-color: #E2EBFA;\n",
              "      box-shadow: 0px 1px 2px rgba(60, 64, 67, 0.3), 0px 1px 3px 1px rgba(60, 64, 67, 0.15);\n",
              "      fill: #174EA6;\n",
              "    }\n",
              "\n",
              "    [theme=dark] .colab-df-convert {\n",
              "      background-color: #3B4455;\n",
              "      fill: #D2E3FC;\n",
              "    }\n",
              "\n",
              "    [theme=dark] .colab-df-convert:hover {\n",
              "      background-color: #434B5C;\n",
              "      box-shadow: 0px 1px 3px 1px rgba(0, 0, 0, 0.15);\n",
              "      filter: drop-shadow(0px 1px 2px rgba(0, 0, 0, 0.3));\n",
              "      fill: #FFFFFF;\n",
              "    }\n",
              "  </style>\n",
              "\n",
              "      <script>\n",
              "        const buttonEl =\n",
              "          document.querySelector('#df-a68cf111-fdc4-40ad-be47-fee6ef50579e button.colab-df-convert');\n",
              "        buttonEl.style.display =\n",
              "          google.colab.kernel.accessAllowed ? 'block' : 'none';\n",
              "\n",
              "        async function convertToInteractive(key) {\n",
              "          const element = document.querySelector('#df-a68cf111-fdc4-40ad-be47-fee6ef50579e');\n",
              "          const dataTable =\n",
              "            await google.colab.kernel.invokeFunction('convertToInteractive',\n",
              "                                                     [key], {});\n",
              "          if (!dataTable) return;\n",
              "\n",
              "          const docLinkHtml = 'Like what you see? Visit the ' +\n",
              "            '<a target=\"_blank\" href=https://colab.research.google.com/notebooks/data_table.ipynb>data table notebook</a>'\n",
              "            + ' to learn more about interactive tables.';\n",
              "          element.innerHTML = '';\n",
              "          dataTable['output_type'] = 'display_data';\n",
              "          await google.colab.output.renderOutput(dataTable, element);\n",
              "          const docLink = document.createElement('div');\n",
              "          docLink.innerHTML = docLinkHtml;\n",
              "          element.appendChild(docLink);\n",
              "        }\n",
              "      </script>\n",
              "    </div>\n",
              "  </div>\n",
              "  "
            ]
          },
          "metadata": {},
          "execution_count": 560
        }
      ]
    },
    {
      "cell_type": "markdown",
      "source": [
        "Same ID is attached to obviously different people. This why there were no duplicate rows even though IDs were same.  \n",
        "\n",
        "Previous theory about same person being in repeated incidents can be discarded."
      ],
      "metadata": {
        "id": "9TJMyAjLFl_D"
      }
    },
    {
      "cell_type": "markdown",
      "source": [
        "We can create column(s) based on whether a particular ID is present multiple times or not, and check if it is statistically significant. It may be significant due to some case we haven't considered or cannot confirm. E.g. multiple parties involved in same incident.\n",
        "\n",
        "After creating new columns we can drop ID as a feature."
      ],
      "metadata": {
        "id": "s54y3ctGKfoe"
      }
    },
    {
      "cell_type": "markdown",
      "source": [
        "### New columns: IS_ID_REPEATED, ID_COUNT"
      ],
      "metadata": {
        "id": "0nQHo6AJYq0b"
      }
    },
    {
      "cell_type": "code",
      "source": [
        "ID_counts = composite.ID.value_counts()"
      ],
      "metadata": {
        "id": "P5tF1lD5PDhX"
      },
      "execution_count": 561,
      "outputs": []
    },
    {
      "cell_type": "code",
      "source": [
        "composite['IS_ID_REPEATED'] = composite.ID.apply(lambda x: ID_counts[x] > 1).astype('int8')\n",
        "composite['ID_COUNT'] = composite.ID.apply(lambda x: ID_counts[x])"
      ],
      "metadata": {
        "id": "Hygd3xtsKSru"
      },
      "execution_count": 562,
      "outputs": []
    },
    {
      "cell_type": "code",
      "source": [
        "train['IS_ID_REPEATED'] = composite.IS_ID_REPEATED[:105000].values\n",
        "test['IS_ID_REPEATED'] = composite.IS_ID_REPEATED[105000:].values\n",
        "\n",
        "train['ID_COUNT'] = composite.ID_COUNT[:105000].values\n",
        "test['ID_COUNT'] = composite.ID_COUNT[105000:].values"
      ],
      "metadata": {
        "id": "7T2ttDiDOY-O"
      },
      "execution_count": 563,
      "outputs": []
    },
    {
      "cell_type": "code",
      "source": [
        "composite = composite.drop('ID', axis=1)\n",
        "train = train.drop('ID', axis=1)\n",
        "test = test.drop('ID', axis=1)"
      ],
      "metadata": {
        "id": "3O-a-II_PfmL"
      },
      "execution_count": 564,
      "outputs": []
    },
    {
      "cell_type": "code",
      "source": [
        "train.IS_ID_REPEATED.value_counts(normalize=True)"
      ],
      "metadata": {
        "colab": {
          "base_uri": "https://localhost:8080/"
        },
        "id": "psQphXdqY7n4",
        "outputId": "602209f8-4a98-4e83-9b56-22208cd3b3b0"
      },
      "execution_count": 565,
      "outputs": [
        {
          "output_type": "execute_result",
          "data": {
            "text/plain": [
              "0    0.8368\n",
              "1    0.1632\n",
              "Name: IS_ID_REPEATED, dtype: float64"
            ]
          },
          "metadata": {},
          "execution_count": 565
        }
      ]
    },
    {
      "cell_type": "code",
      "source": [
        "test.IS_ID_REPEATED.value_counts(normalize=True)"
      ],
      "metadata": {
        "colab": {
          "base_uri": "https://localhost:8080/"
        },
        "id": "kV0m920wbmHi",
        "outputId": "67a00c48-6e9d-4071-fc32-5e4bc596b0a4"
      },
      "execution_count": 566,
      "outputs": [
        {
          "output_type": "execute_result",
          "data": {
            "text/plain": [
              "0    0.8325\n",
              "1    0.1675\n",
              "Name: IS_ID_REPEATED, dtype: float64"
            ]
          },
          "metadata": {},
          "execution_count": 566
        }
      ]
    },
    {
      "cell_type": "code",
      "source": [
        "train.groupby('IS_ID_REPEATED')[TARGET].value_counts(normalize=True)"
      ],
      "metadata": {
        "colab": {
          "base_uri": "https://localhost:8080/"
        },
        "id": "6hFh_VLXZZhL",
        "outputId": "2d173e3b-f163-4092-d274-01256d5e168b"
      },
      "execution_count": 567,
      "outputs": [
        {
          "output_type": "execute_result",
          "data": {
            "text/plain": [
              "IS_ID_REPEATED  OUTCOME\n",
              "0               0.0        0.5777\n",
              "                1.0        0.4223\n",
              "1               0.0        0.5753\n",
              "                1.0        0.4247\n",
              "Name: OUTCOME, dtype: float64"
            ]
          },
          "metadata": {},
          "execution_count": 567
        }
      ]
    },
    {
      "cell_type": "code",
      "source": [
        "train.ID_COUNT.describe()"
      ],
      "metadata": {
        "colab": {
          "base_uri": "https://localhost:8080/"
        },
        "id": "W-xvAedOb2Sb",
        "outputId": "43268b68-d3d8-47f9-f343-07fd79edd2ba"
      },
      "execution_count": 568,
      "outputs": [
        {
          "output_type": "execute_result",
          "data": {
            "text/plain": [
              "count    105000.0000\n",
              "mean          1.4257\n",
              "std           6.2345\n",
              "min           1.0000\n",
              "25%           1.0000\n",
              "50%           1.0000\n",
              "75%           1.0000\n",
              "max         178.0000\n",
              "Name: ID_COUNT, dtype: float64"
            ]
          },
          "metadata": {},
          "execution_count": 568
        }
      ]
    },
    {
      "cell_type": "code",
      "source": [
        "train.loc[train.ID_COUNT == 1][TARGET].value_counts(normalize=True)"
      ],
      "metadata": {
        "colab": {
          "base_uri": "https://localhost:8080/"
        },
        "id": "dP-Ofo9Dcp90",
        "outputId": "ddf969f4-c553-43d9-8b24-a4a2eab66312"
      },
      "execution_count": 569,
      "outputs": [
        {
          "output_type": "execute_result",
          "data": {
            "text/plain": [
              "0.0    0.5777\n",
              "1.0    0.4223\n",
              "Name: OUTCOME, dtype: float64"
            ]
          },
          "metadata": {},
          "execution_count": 569
        }
      ]
    },
    {
      "cell_type": "code",
      "source": [
        "train.loc[train.ID_COUNT > 1].groupby(TARGET)['ID_COUNT'].describe()"
      ],
      "metadata": {
        "colab": {
          "base_uri": "https://localhost:8080/",
          "height": 0
        },
        "id": "uwRwu_73b8Um",
        "outputId": "cd20fea6-f9eb-406f-dfd1-7fa69042966c"
      },
      "execution_count": 570,
      "outputs": [
        {
          "output_type": "execute_result",
          "data": {
            "text/plain": [
              "          count    mean      std  min  25%  50%  75%    max\n",
              "OUTCOME                                                    \n",
              "0.0      9860.0  3.6292  15.3475  2.0  2.0  2.0  2.0  178.0\n",
              "1.0      7278.0  3.5794  15.1102  2.0  2.0  2.0  2.0  178.0"
            ],
            "text/html": [
              "\n",
              "  <div id=\"df-4f3f648a-a6a2-4973-b27c-e531281f1afe\">\n",
              "    <div class=\"colab-df-container\">\n",
              "      <div>\n",
              "<style scoped>\n",
              "    .dataframe tbody tr th:only-of-type {\n",
              "        vertical-align: middle;\n",
              "    }\n",
              "\n",
              "    .dataframe tbody tr th {\n",
              "        vertical-align: top;\n",
              "    }\n",
              "\n",
              "    .dataframe thead th {\n",
              "        text-align: right;\n",
              "    }\n",
              "</style>\n",
              "<table border=\"1\" class=\"dataframe\">\n",
              "  <thead>\n",
              "    <tr style=\"text-align: right;\">\n",
              "      <th></th>\n",
              "      <th>count</th>\n",
              "      <th>mean</th>\n",
              "      <th>std</th>\n",
              "      <th>min</th>\n",
              "      <th>25%</th>\n",
              "      <th>50%</th>\n",
              "      <th>75%</th>\n",
              "      <th>max</th>\n",
              "    </tr>\n",
              "    <tr>\n",
              "      <th>OUTCOME</th>\n",
              "      <th></th>\n",
              "      <th></th>\n",
              "      <th></th>\n",
              "      <th></th>\n",
              "      <th></th>\n",
              "      <th></th>\n",
              "      <th></th>\n",
              "      <th></th>\n",
              "    </tr>\n",
              "  </thead>\n",
              "  <tbody>\n",
              "    <tr>\n",
              "      <th>0.0</th>\n",
              "      <td>9860.0</td>\n",
              "      <td>3.6292</td>\n",
              "      <td>15.3475</td>\n",
              "      <td>2.0</td>\n",
              "      <td>2.0</td>\n",
              "      <td>2.0</td>\n",
              "      <td>2.0</td>\n",
              "      <td>178.0</td>\n",
              "    </tr>\n",
              "    <tr>\n",
              "      <th>1.0</th>\n",
              "      <td>7278.0</td>\n",
              "      <td>3.5794</td>\n",
              "      <td>15.1102</td>\n",
              "      <td>2.0</td>\n",
              "      <td>2.0</td>\n",
              "      <td>2.0</td>\n",
              "      <td>2.0</td>\n",
              "      <td>178.0</td>\n",
              "    </tr>\n",
              "  </tbody>\n",
              "</table>\n",
              "</div>\n",
              "      <button class=\"colab-df-convert\" onclick=\"convertToInteractive('df-4f3f648a-a6a2-4973-b27c-e531281f1afe')\"\n",
              "              title=\"Convert this dataframe to an interactive table.\"\n",
              "              style=\"display:none;\">\n",
              "        \n",
              "  <svg xmlns=\"http://www.w3.org/2000/svg\" height=\"24px\"viewBox=\"0 0 24 24\"\n",
              "       width=\"24px\">\n",
              "    <path d=\"M0 0h24v24H0V0z\" fill=\"none\"/>\n",
              "    <path d=\"M18.56 5.44l.94 2.06.94-2.06 2.06-.94-2.06-.94-.94-2.06-.94 2.06-2.06.94zm-11 1L8.5 8.5l.94-2.06 2.06-.94-2.06-.94L8.5 2.5l-.94 2.06-2.06.94zm10 10l.94 2.06.94-2.06 2.06-.94-2.06-.94-.94-2.06-.94 2.06-2.06.94z\"/><path d=\"M17.41 7.96l-1.37-1.37c-.4-.4-.92-.59-1.43-.59-.52 0-1.04.2-1.43.59L10.3 9.45l-7.72 7.72c-.78.78-.78 2.05 0 2.83L4 21.41c.39.39.9.59 1.41.59.51 0 1.02-.2 1.41-.59l7.78-7.78 2.81-2.81c.8-.78.8-2.07 0-2.86zM5.41 20L4 18.59l7.72-7.72 1.47 1.35L5.41 20z\"/>\n",
              "  </svg>\n",
              "      </button>\n",
              "      \n",
              "  <style>\n",
              "    .colab-df-container {\n",
              "      display:flex;\n",
              "      flex-wrap:wrap;\n",
              "      gap: 12px;\n",
              "    }\n",
              "\n",
              "    .colab-df-convert {\n",
              "      background-color: #E8F0FE;\n",
              "      border: none;\n",
              "      border-radius: 50%;\n",
              "      cursor: pointer;\n",
              "      display: none;\n",
              "      fill: #1967D2;\n",
              "      height: 32px;\n",
              "      padding: 0 0 0 0;\n",
              "      width: 32px;\n",
              "    }\n",
              "\n",
              "    .colab-df-convert:hover {\n",
              "      background-color: #E2EBFA;\n",
              "      box-shadow: 0px 1px 2px rgba(60, 64, 67, 0.3), 0px 1px 3px 1px rgba(60, 64, 67, 0.15);\n",
              "      fill: #174EA6;\n",
              "    }\n",
              "\n",
              "    [theme=dark] .colab-df-convert {\n",
              "      background-color: #3B4455;\n",
              "      fill: #D2E3FC;\n",
              "    }\n",
              "\n",
              "    [theme=dark] .colab-df-convert:hover {\n",
              "      background-color: #434B5C;\n",
              "      box-shadow: 0px 1px 3px 1px rgba(0, 0, 0, 0.15);\n",
              "      filter: drop-shadow(0px 1px 2px rgba(0, 0, 0, 0.3));\n",
              "      fill: #FFFFFF;\n",
              "    }\n",
              "  </style>\n",
              "\n",
              "      <script>\n",
              "        const buttonEl =\n",
              "          document.querySelector('#df-4f3f648a-a6a2-4973-b27c-e531281f1afe button.colab-df-convert');\n",
              "        buttonEl.style.display =\n",
              "          google.colab.kernel.accessAllowed ? 'block' : 'none';\n",
              "\n",
              "        async function convertToInteractive(key) {\n",
              "          const element = document.querySelector('#df-4f3f648a-a6a2-4973-b27c-e531281f1afe');\n",
              "          const dataTable =\n",
              "            await google.colab.kernel.invokeFunction('convertToInteractive',\n",
              "                                                     [key], {});\n",
              "          if (!dataTable) return;\n",
              "\n",
              "          const docLinkHtml = 'Like what you see? Visit the ' +\n",
              "            '<a target=\"_blank\" href=https://colab.research.google.com/notebooks/data_table.ipynb>data table notebook</a>'\n",
              "            + ' to learn more about interactive tables.';\n",
              "          element.innerHTML = '';\n",
              "          dataTable['output_type'] = 'display_data';\n",
              "          await google.colab.output.renderOutput(dataTable, element);\n",
              "          const docLink = document.createElement('div');\n",
              "          docLink.innerHTML = docLinkHtml;\n",
              "          element.appendChild(docLink);\n",
              "        }\n",
              "      </script>\n",
              "    </div>\n",
              "  </div>\n",
              "  "
            ]
          },
          "metadata": {},
          "execution_count": 570
        }
      ]
    },
    {
      "cell_type": "code",
      "source": [
        "9860 / (9860 + 7278)"
      ],
      "metadata": {
        "colab": {
          "base_uri": "https://localhost:8080/"
        },
        "id": "rHz7fXLNc1uC",
        "outputId": "b45dab2a-6c33-4bb9-b8f0-6ba5f0db33f3"
      },
      "execution_count": 571,
      "outputs": [
        {
          "output_type": "execute_result",
          "data": {
            "text/plain": [
              "0.5753296767417435"
            ]
          },
          "metadata": {},
          "execution_count": 571
        }
      ]
    },
    {
      "cell_type": "markdown",
      "source": [
        "### AGE"
      ],
      "metadata": {
        "id": "zTMsHNzNQnUn"
      }
    },
    {
      "cell_type": "code",
      "source": [
        "train.AGE.value_counts(normalize=True)"
      ],
      "metadata": {
        "colab": {
          "base_uri": "https://localhost:8080/"
        },
        "id": "lHtDBXIoQpPE",
        "outputId": "6a5784fd-3d1d-42d3-fb79-7a104bb1c0e9"
      },
      "execution_count": 572,
      "outputs": [
        {
          "output_type": "execute_result",
          "data": {
            "text/plain": [
              "40-64    0.3211\n",
              "65+      0.3139\n",
              "26-39    0.1906\n",
              "16-25    0.1743\n",
              "Name: AGE, dtype: float64"
            ]
          },
          "metadata": {},
          "execution_count": 572
        }
      ]
    },
    {
      "cell_type": "code",
      "source": [
        "test.AGE.value_counts(normalize=True)"
      ],
      "metadata": {
        "colab": {
          "base_uri": "https://localhost:8080/"
        },
        "id": "JC4MB_8HQv6O",
        "outputId": "78657f0f-a1f7-479b-ed2d-5dea944dc802"
      },
      "execution_count": 573,
      "outputs": [
        {
          "output_type": "execute_result",
          "data": {
            "text/plain": [
              "40-64    0.3204\n",
              "65+      0.3173\n",
              "26-39    0.1863\n",
              "16-25    0.1761\n",
              "Name: AGE, dtype: float64"
            ]
          },
          "metadata": {},
          "execution_count": 573
        }
      ]
    },
    {
      "cell_type": "code",
      "source": [
        "age_mapping = {'16-25': 0, '26-39': 1, '40-64': 2, '65+': 3}\n",
        "\n",
        "train['AGE'] = train.AGE.replace(age_mapping).astype('int8')\n",
        "test['AGE'] = test.AGE.replace(age_mapping).astype('int8')"
      ],
      "metadata": {
        "id": "3tMy1sR3Q4dA"
      },
      "execution_count": 574,
      "outputs": []
    },
    {
      "cell_type": "code",
      "source": [
        "train.groupby('AGE')[TARGET].value_counts(normalize=True)"
      ],
      "metadata": {
        "colab": {
          "base_uri": "https://localhost:8080/"
        },
        "id": "hzMuEgAoTS93",
        "outputId": "e42441f2-3151-4d1e-c4fa-4d432c27974a"
      },
      "execution_count": 575,
      "outputs": [
        {
          "output_type": "execute_result",
          "data": {
            "text/plain": [
              "AGE  OUTCOME\n",
              "0    0.0        0.5817\n",
              "     1.0        0.4183\n",
              "1    0.0        0.5770\n",
              "     1.0        0.4230\n",
              "2    0.0        0.5748\n",
              "     1.0        0.4252\n",
              "3    0.0        0.5778\n",
              "     1.0        0.4222\n",
              "Name: OUTCOME, dtype: float64"
            ]
          },
          "metadata": {},
          "execution_count": 575
        }
      ]
    },
    {
      "cell_type": "markdown",
      "source": [
        "### GENDER"
      ],
      "metadata": {
        "id": "wJy_RiDiRqaL"
      }
    },
    {
      "cell_type": "code",
      "source": [
        "train.GENDER.value_counts(normalize=True)"
      ],
      "metadata": {
        "colab": {
          "base_uri": "https://localhost:8080/"
        },
        "id": "DDxMYW3OSieS",
        "outputId": "e6904ca5-e94f-44cb-8144-df4611f6c609"
      },
      "execution_count": 576,
      "outputs": [
        {
          "output_type": "execute_result",
          "data": {
            "text/plain": [
              "male      0.6221\n",
              "female    0.3779\n",
              "Name: GENDER, dtype: float64"
            ]
          },
          "metadata": {},
          "execution_count": 576
        }
      ]
    },
    {
      "cell_type": "code",
      "source": [
        "test.GENDER.value_counts(normalize=True)"
      ],
      "metadata": {
        "colab": {
          "base_uri": "https://localhost:8080/"
        },
        "id": "yN1WfpyjSu2i",
        "outputId": "709f2d11-e269-4c90-a643-4297ac0ce4f4"
      },
      "execution_count": 577,
      "outputs": [
        {
          "output_type": "execute_result",
          "data": {
            "text/plain": [
              "male      0.6213\n",
              "female    0.3787\n",
              "Name: GENDER, dtype: float64"
            ]
          },
          "metadata": {},
          "execution_count": 577
        }
      ]
    },
    {
      "cell_type": "code",
      "source": [
        "gender_mapping = {'female': 0, 'male': 1}\n",
        "\n",
        "train['GENDER'] = train.GENDER.replace(gender_mapping).astype('int8')\n",
        "test['GENDER'] = test.GENDER.replace(gender_mapping).astype('int8')"
      ],
      "metadata": {
        "id": "1yABSqgES0c2"
      },
      "execution_count": 578,
      "outputs": []
    },
    {
      "cell_type": "code",
      "source": [
        "train.groupby('GENDER')[TARGET].value_counts(normalize=True)"
      ],
      "metadata": {
        "colab": {
          "base_uri": "https://localhost:8080/"
        },
        "id": "Gdicwj5jThUf",
        "outputId": "cf1e2485-54ad-4693-80fb-3238121c06b1"
      },
      "execution_count": 579,
      "outputs": [
        {
          "output_type": "execute_result",
          "data": {
            "text/plain": [
              "GENDER  OUTCOME\n",
              "0       0.0        0.5699\n",
              "        1.0        0.4301\n",
              "1       0.0        0.5819\n",
              "        1.0        0.4181\n",
              "Name: OUTCOME, dtype: float64"
            ]
          },
          "metadata": {},
          "execution_count": 579
        }
      ]
    },
    {
      "cell_type": "markdown",
      "source": [
        "### DRIVING EXPERIENCE"
      ],
      "metadata": {
        "id": "6Fksd1xPTlVn"
      }
    },
    {
      "cell_type": "code",
      "source": [
        "train.DRIVING_EXPERIENCE.value_counts(normalize=True)"
      ],
      "metadata": {
        "colab": {
          "base_uri": "https://localhost:8080/"
        },
        "outputId": "0df498d5-047b-4e30-cc8e-062f66daafde",
        "id": "-RVNihcMTvco"
      },
      "execution_count": 580,
      "outputs": [
        {
          "output_type": "execute_result",
          "data": {
            "text/plain": [
              "20-29y    0.3571\n",
              "0-9y      0.3153\n",
              "10-19y    0.2391\n",
              "30y+      0.0885\n",
              "Name: DRIVING_EXPERIENCE, dtype: float64"
            ]
          },
          "metadata": {},
          "execution_count": 580
        }
      ]
    },
    {
      "cell_type": "code",
      "source": [
        "test.DRIVING_EXPERIENCE.value_counts(normalize=True)"
      ],
      "metadata": {
        "colab": {
          "base_uri": "https://localhost:8080/"
        },
        "outputId": "a93318fd-5113-4bcf-e495-76715cff54c4",
        "id": "YNtpB-2TTvcr"
      },
      "execution_count": 581,
      "outputs": [
        {
          "output_type": "execute_result",
          "data": {
            "text/plain": [
              "20-29y    0.3609\n",
              "0-9y      0.3168\n",
              "10-19y    0.2368\n",
              "30y+      0.0855\n",
              "Name: DRIVING_EXPERIENCE, dtype: float64"
            ]
          },
          "metadata": {},
          "execution_count": 581
        }
      ]
    },
    {
      "cell_type": "code",
      "source": [
        "driver_mapping = {'0-9y': 0, '10-19y': 1, '20-29y': 2, '30y+': 3}\n",
        "\n",
        "train['DRIVING_EXPERIENCE'] = train.DRIVING_EXPERIENCE.replace(driver_mapping).astype('int8')\n",
        "test['DRIVING_EXPERIENCE'] = test.DRIVING_EXPERIENCE.replace(driver_mapping).astype('int8')"
      ],
      "metadata": {
        "id": "uSPcGzGETvcs"
      },
      "execution_count": 582,
      "outputs": []
    },
    {
      "cell_type": "code",
      "source": [
        "train.groupby('DRIVING_EXPERIENCE')[TARGET].value_counts(normalize=True)"
      ],
      "metadata": {
        "colab": {
          "base_uri": "https://localhost:8080/"
        },
        "outputId": "e204ecff-3a21-4fe5-e52f-d2b2a2b45c5c",
        "id": "Tijz-HRXTvct"
      },
      "execution_count": 583,
      "outputs": [
        {
          "output_type": "execute_result",
          "data": {
            "text/plain": [
              "DRIVING_EXPERIENCE  OUTCOME\n",
              "0                   0.0        0.5808\n",
              "                    1.0        0.4192\n",
              "1                   0.0        0.5869\n",
              "                    1.0        0.4131\n",
              "2                   0.0        0.5687\n",
              "                    1.0        0.4313\n",
              "3                   0.0        0.5741\n",
              "                    1.0        0.4259\n",
              "Name: OUTCOME, dtype: float64"
            ]
          },
          "metadata": {},
          "execution_count": 583
        }
      ]
    },
    {
      "cell_type": "markdown",
      "source": [
        "### EDUCATION"
      ],
      "metadata": {
        "id": "FK3nTd8oUYE4"
      }
    },
    {
      "cell_type": "code",
      "source": [
        "train.EDUCATION.value_counts(normalize=True)"
      ],
      "metadata": {
        "colab": {
          "base_uri": "https://localhost:8080/"
        },
        "outputId": "d1bbfb3f-85c1-4ba3-b7d3-32326db52e52",
        "id": "iZhUZX9LUfgc"
      },
      "execution_count": 584,
      "outputs": [
        {
          "output_type": "execute_result",
          "data": {
            "text/plain": [
              "high school    0.4437\n",
              "university     0.2973\n",
              "none           0.2590\n",
              "Name: EDUCATION, dtype: float64"
            ]
          },
          "metadata": {},
          "execution_count": 584
        }
      ]
    },
    {
      "cell_type": "code",
      "source": [
        "test.EDUCATION.value_counts(normalize=True)"
      ],
      "metadata": {
        "colab": {
          "base_uri": "https://localhost:8080/"
        },
        "outputId": "543eb549-9896-4e03-d6ce-7bf2b1512545",
        "id": "sgivokZfUfge"
      },
      "execution_count": 585,
      "outputs": [
        {
          "output_type": "execute_result",
          "data": {
            "text/plain": [
              "high school    0.4439\n",
              "university     0.2964\n",
              "none           0.2597\n",
              "Name: EDUCATION, dtype: float64"
            ]
          },
          "metadata": {},
          "execution_count": 585
        }
      ]
    },
    {
      "cell_type": "code",
      "source": [
        "education_mapping = {'none': 0, 'high school': 1, 'university': 2}\n",
        "\n",
        "train['EDUCATION'] = train.EDUCATION.replace(education_mapping).astype('int8')\n",
        "test['EDUCATION'] = test.EDUCATION.replace(education_mapping).astype('int8')"
      ],
      "metadata": {
        "id": "HDIu_62JUfgf"
      },
      "execution_count": 586,
      "outputs": []
    },
    {
      "cell_type": "code",
      "source": [
        "train.groupby('EDUCATION')[TARGET].value_counts(normalize=True)"
      ],
      "metadata": {
        "colab": {
          "base_uri": "https://localhost:8080/"
        },
        "outputId": "2a2bddac-e33c-42e0-feb1-19d1eec51c74",
        "id": "C6ytc_UwUfgf"
      },
      "execution_count": 587,
      "outputs": [
        {
          "output_type": "execute_result",
          "data": {
            "text/plain": [
              "EDUCATION  OUTCOME\n",
              "0          0.0        0.5759\n",
              "           1.0        0.4241\n",
              "1          0.0        0.5765\n",
              "           1.0        0.4235\n",
              "2          0.0        0.5799\n",
              "           1.0        0.4201\n",
              "Name: OUTCOME, dtype: float64"
            ]
          },
          "metadata": {},
          "execution_count": 587
        }
      ]
    },
    {
      "cell_type": "markdown",
      "source": [
        "### INCOME"
      ],
      "metadata": {
        "id": "IFGmdq0WU6l2"
      }
    },
    {
      "cell_type": "code",
      "source": [
        "train.INCOME.value_counts(normalize=True)"
      ],
      "metadata": {
        "colab": {
          "base_uri": "https://localhost:8080/"
        },
        "outputId": "3f77a232-bb7f-45ab-eae0-9c350fbca41e",
        "id": "jwoPPxc5U_mw"
      },
      "execution_count": 588,
      "outputs": [
        {
          "output_type": "execute_result",
          "data": {
            "text/plain": [
              "upper class      0.4883\n",
              "working class    0.2329\n",
              "middle class     0.1404\n",
              "poverty          0.1384\n",
              "Name: INCOME, dtype: float64"
            ]
          },
          "metadata": {},
          "execution_count": 588
        }
      ]
    },
    {
      "cell_type": "code",
      "source": [
        "test.INCOME.value_counts(normalize=True)"
      ],
      "metadata": {
        "colab": {
          "base_uri": "https://localhost:8080/"
        },
        "outputId": "4c40bf23-b37b-4959-da69-16f7d41ec903",
        "id": "oULSdnB2U_my"
      },
      "execution_count": 589,
      "outputs": [
        {
          "output_type": "execute_result",
          "data": {
            "text/plain": [
              "upper class      0.4866\n",
              "working class    0.2333\n",
              "middle class     0.1409\n",
              "poverty          0.1393\n",
              "Name: INCOME, dtype: float64"
            ]
          },
          "metadata": {},
          "execution_count": 589
        }
      ]
    },
    {
      "cell_type": "code",
      "source": [
        "education_mapping = {'poverty': 0, 'working class': 1, 'middle class': 2, 'upper class': 3}\n",
        "\n",
        "train['INCOME'] = train.INCOME.replace(education_mapping).astype('int8')\n",
        "test['INCOME'] = test.INCOME.replace(education_mapping).astype('int8')"
      ],
      "metadata": {
        "id": "mxlWG82wU_mz"
      },
      "execution_count": 590,
      "outputs": []
    },
    {
      "cell_type": "code",
      "source": [
        "train.groupby('INCOME')[TARGET].value_counts(normalize=True)"
      ],
      "metadata": {
        "colab": {
          "base_uri": "https://localhost:8080/"
        },
        "outputId": "45ece4a6-6081-4152-890b-ebe364977ccd",
        "id": "uFbIJNV5U_mz"
      },
      "execution_count": 591,
      "outputs": [
        {
          "output_type": "execute_result",
          "data": {
            "text/plain": [
              "INCOME  OUTCOME\n",
              "0       0.0        0.5735\n",
              "        1.0        0.4265\n",
              "1       0.0        0.5798\n",
              "        1.0        0.4202\n",
              "2       0.0        0.5795\n",
              "        1.0        0.4205\n",
              "3       0.0        0.5767\n",
              "        1.0        0.4233\n",
              "Name: OUTCOME, dtype: float64"
            ]
          },
          "metadata": {},
          "execution_count": 591
        }
      ]
    },
    {
      "cell_type": "markdown",
      "source": [
        "### CREDIT_SCORE"
      ],
      "metadata": {
        "id": "R2_yAW4PVW-o"
      }
    },
    {
      "cell_type": "code",
      "source": [
        "train.CREDIT_SCORE.describe()"
      ],
      "metadata": {
        "colab": {
          "base_uri": "https://localhost:8080/"
        },
        "id": "R4t4TjtdVbBg",
        "outputId": "addea526-3d4a-46a4-dcee-b845a321d633"
      },
      "execution_count": 592,
      "outputs": [
        {
          "output_type": "execute_result",
          "data": {
            "text/plain": [
              "count    105000.0000\n",
              "mean          0.6022\n",
              "std           0.1380\n",
              "min           0.0669\n",
              "25%           0.5149\n",
              "50%           0.6011\n",
              "75%           0.7032\n",
              "max           0.9541\n",
              "Name: CREDIT_SCORE, dtype: float64"
            ]
          },
          "metadata": {},
          "execution_count": 592
        }
      ]
    },
    {
      "cell_type": "code",
      "source": [
        "test.CREDIT_SCORE.describe()"
      ],
      "metadata": {
        "colab": {
          "base_uri": "https://localhost:8080/"
        },
        "id": "BkRcIIl0Veni",
        "outputId": "8d566b6b-e88c-4233-aaf7-eea64414fb97"
      },
      "execution_count": 593,
      "outputs": [
        {
          "output_type": "execute_result",
          "data": {
            "text/plain": [
              "count    45000.0000\n",
              "mean         0.6020\n",
              "std          0.1374\n",
              "min          0.0638\n",
              "25%          0.5146\n",
              "50%          0.5999\n",
              "75%          0.7026\n",
              "max          0.9518\n",
              "Name: CREDIT_SCORE, dtype: float64"
            ]
          },
          "metadata": {},
          "execution_count": 593
        }
      ]
    },
    {
      "cell_type": "code",
      "source": [
        "plot_cont('CREDIT_SCORE')"
      ],
      "metadata": {
        "colab": {
          "base_uri": "https://localhost:8080/",
          "height": 0
        },
        "id": "zxumdVflViSI",
        "outputId": "b14f8094-b171-48b0-9771-394fb1bfc0d7"
      },
      "execution_count": 594,
      "outputs": [
        {
          "output_type": "display_data",
          "data": {
            "text/plain": [
              "<Figure size 1440x288 with 2 Axes>"
            ],
            "image/png": "[encoded data removed]"
          },
          "metadata": {
            "image/png": {
              "width": 1432,
              "height": 283
            },
            "needs_background": "light"
          }
        }
      ]
    },
    {
      "cell_type": "code",
      "source": [
        "plot_cont_vs_target('CREDIT_SCORE')"
      ],
      "metadata": {
        "colab": {
          "base_uri": "https://localhost:8080/",
          "height": 0
        },
        "id": "XZTvfql5jq__",
        "outputId": "99f2159b-c822-44b9-fe3a-80ea5f7ba494"
      },
      "execution_count": 595,
      "outputs": [
        {
          "output_type": "display_data",
          "data": {
            "text/plain": [
              "<Figure size 648x288 with 1 Axes>"
            ],
            "image/png": "[encoded data removed]"
          },
          "metadata": {
            "image/png": {
              "width": 640,
              "height": 283
            },
            "needs_background": "light"
          }
        }
      ]
    },
    {
      "cell_type": "code",
      "source": [
        "train.groupby(TARGET)['CREDIT_SCORE'].describe()"
      ],
      "metadata": {
        "colab": {
          "base_uri": "https://localhost:8080/",
          "height": 0
        },
        "id": "K6i14w-uWUjM",
        "outputId": "d9596ee9-e5bb-4ebd-b7fc-0a32d44e4d55"
      },
      "execution_count": 596,
      "outputs": [
        {
          "output_type": "execute_result",
          "data": {
            "text/plain": [
              "           count    mean     std     min     25%     50%     75%     max\n",
              "OUTCOME                                                                 \n",
              "0.0      60622.0  0.6025  0.1376  0.0669  0.5154  0.6013  0.7033  0.9538\n",
              "1.0      44378.0  0.6017  0.1386  0.0798  0.5141  0.6007  0.7031  0.9541"
            ],
            "text/html": [
              "\n",
              "  <div id=\"df-394d4afd-31ab-4c6e-a495-7ccb5f1d11b0\">\n",
              "    <div class=\"colab-df-container\">\n",
              "      <div>\n",
              "<style scoped>\n",
              "    .dataframe tbody tr th:only-of-type {\n",
              "        vertical-align: middle;\n",
              "    }\n",
              "\n",
              "    .dataframe tbody tr th {\n",
              "        vertical-align: top;\n",
              "    }\n",
              "\n",
              "    .dataframe thead th {\n",
              "        text-align: right;\n",
              "    }\n",
              "</style>\n",
              "<table border=\"1\" class=\"dataframe\">\n",
              "  <thead>\n",
              "    <tr style=\"text-align: right;\">\n",
              "      <th></th>\n",
              "      <th>count</th>\n",
              "      <th>mean</th>\n",
              "      <th>std</th>\n",
              "      <th>min</th>\n",
              "      <th>25%</th>\n",
              "      <th>50%</th>\n",
              "      <th>75%</th>\n",
              "      <th>max</th>\n",
              "    </tr>\n",
              "    <tr>\n",
              "      <th>OUTCOME</th>\n",
              "      <th></th>\n",
              "      <th></th>\n",
              "      <th></th>\n",
              "      <th></th>\n",
              "      <th></th>\n",
              "      <th></th>\n",
              "      <th></th>\n",
              "      <th></th>\n",
              "    </tr>\n",
              "  </thead>\n",
              "  <tbody>\n",
              "    <tr>\n",
              "      <th>0.0</th>\n",
              "      <td>60622.0</td>\n",
              "      <td>0.6025</td>\n",
              "      <td>0.1376</td>\n",
              "      <td>0.0669</td>\n",
              "      <td>0.5154</td>\n",
              "      <td>0.6013</td>\n",
              "      <td>0.7033</td>\n",
              "      <td>0.9538</td>\n",
              "    </tr>\n",
              "    <tr>\n",
              "      <th>1.0</th>\n",
              "      <td>44378.0</td>\n",
              "      <td>0.6017</td>\n",
              "      <td>0.1386</td>\n",
              "      <td>0.0798</td>\n",
              "      <td>0.5141</td>\n",
              "      <td>0.6007</td>\n",
              "      <td>0.7031</td>\n",
              "      <td>0.9541</td>\n",
              "    </tr>\n",
              "  </tbody>\n",
              "</table>\n",
              "</div>\n",
              "      <button class=\"colab-df-convert\" onclick=\"convertToInteractive('df-394d4afd-31ab-4c6e-a495-7ccb5f1d11b0')\"\n",
              "              title=\"Convert this dataframe to an interactive table.\"\n",
              "              style=\"display:none;\">\n",
              "        \n",
              "  <svg xmlns=\"http://www.w3.org/2000/svg\" height=\"24px\"viewBox=\"0 0 24 24\"\n",
              "       width=\"24px\">\n",
              "    <path d=\"M0 0h24v24H0V0z\" fill=\"none\"/>\n",
              "    <path d=\"M18.56 5.44l.94 2.06.94-2.06 2.06-.94-2.06-.94-.94-2.06-.94 2.06-2.06.94zm-11 1L8.5 8.5l.94-2.06 2.06-.94-2.06-.94L8.5 2.5l-.94 2.06-2.06.94zm10 10l.94 2.06.94-2.06 2.06-.94-2.06-.94-.94-2.06-.94 2.06-2.06.94z\"/><path d=\"M17.41 7.96l-1.37-1.37c-.4-.4-.92-.59-1.43-.59-.52 0-1.04.2-1.43.59L10.3 9.45l-7.72 7.72c-.78.78-.78 2.05 0 2.83L4 21.41c.39.39.9.59 1.41.59.51 0 1.02-.2 1.41-.59l7.78-7.78 2.81-2.81c.8-.78.8-2.07 0-2.86zM5.41 20L4 18.59l7.72-7.72 1.47 1.35L5.41 20z\"/>\n",
              "  </svg>\n",
              "      </button>\n",
              "      \n",
              "  <style>\n",
              "    .colab-df-container {\n",
              "      display:flex;\n",
              "      flex-wrap:wrap;\n",
              "      gap: 12px;\n",
              "    }\n",
              "\n",
              "    .colab-df-convert {\n",
              "      background-color: #E8F0FE;\n",
              "      border: none;\n",
              "      border-radius: 50%;\n",
              "      cursor: pointer;\n",
              "      display: none;\n",
              "      fill: #1967D2;\n",
              "      height: 32px;\n",
              "      padding: 0 0 0 0;\n",
              "      width: 32px;\n",
              "    }\n",
              "\n",
              "    .colab-df-convert:hover {\n",
              "      background-color: #E2EBFA;\n",
              "      box-shadow: 0px 1px 2px rgba(60, 64, 67, 0.3), 0px 1px 3px 1px rgba(60, 64, 67, 0.15);\n",
              "      fill: #174EA6;\n",
              "    }\n",
              "\n",
              "    [theme=dark] .colab-df-convert {\n",
              "      background-color: #3B4455;\n",
              "      fill: #D2E3FC;\n",
              "    }\n",
              "\n",
              "    [theme=dark] .colab-df-convert:hover {\n",
              "      background-color: #434B5C;\n",
              "      box-shadow: 0px 1px 3px 1px rgba(0, 0, 0, 0.15);\n",
              "      filter: drop-shadow(0px 1px 2px rgba(0, 0, 0, 0.3));\n",
              "      fill: #FFFFFF;\n",
              "    }\n",
              "  </style>\n",
              "\n",
              "      <script>\n",
              "        const buttonEl =\n",
              "          document.querySelector('#df-394d4afd-31ab-4c6e-a495-7ccb5f1d11b0 button.colab-df-convert');\n",
              "        buttonEl.style.display =\n",
              "          google.colab.kernel.accessAllowed ? 'block' : 'none';\n",
              "\n",
              "        async function convertToInteractive(key) {\n",
              "          const element = document.querySelector('#df-394d4afd-31ab-4c6e-a495-7ccb5f1d11b0');\n",
              "          const dataTable =\n",
              "            await google.colab.kernel.invokeFunction('convertToInteractive',\n",
              "                                                     [key], {});\n",
              "          if (!dataTable) return;\n",
              "\n",
              "          const docLinkHtml = 'Like what you see? Visit the ' +\n",
              "            '<a target=\"_blank\" href=https://colab.research.google.com/notebooks/data_table.ipynb>data table notebook</a>'\n",
              "            + ' to learn more about interactive tables.';\n",
              "          element.innerHTML = '';\n",
              "          dataTable['output_type'] = 'display_data';\n",
              "          await google.colab.output.renderOutput(dataTable, element);\n",
              "          const docLink = document.createElement('div');\n",
              "          docLink.innerHTML = docLinkHtml;\n",
              "          element.appendChild(docLink);\n",
              "        }\n",
              "      </script>\n",
              "    </div>\n",
              "  </div>\n",
              "  "
            ]
          },
          "metadata": {},
          "execution_count": 596
        }
      ]
    },
    {
      "cell_type": "markdown",
      "source": [
        "### VEHICLE_OWNERSHIP"
      ],
      "metadata": {
        "id": "X_0SGgKHWSZ2"
      }
    },
    {
      "cell_type": "code",
      "source": [
        "train.VEHICLE_OWNERSHIP.value_counts(normalize=True)"
      ],
      "metadata": {
        "colab": {
          "base_uri": "https://localhost:8080/"
        },
        "outputId": "17bfbc7e-d72b-4eb4-f147-2bd1787d9567",
        "id": "P4I-JADuWvAI"
      },
      "execution_count": 597,
      "outputs": [
        {
          "output_type": "execute_result",
          "data": {
            "text/plain": [
              "1.0    0.827\n",
              "0.0    0.173\n",
              "Name: VEHICLE_OWNERSHIP, dtype: float64"
            ]
          },
          "metadata": {},
          "execution_count": 597
        }
      ]
    },
    {
      "cell_type": "code",
      "source": [
        "test.VEHICLE_OWNERSHIP.value_counts(normalize=True)"
      ],
      "metadata": {
        "colab": {
          "base_uri": "https://localhost:8080/"
        },
        "outputId": "72fc4feb-fb85-4e8c-f918-1800b3c27317",
        "id": "CNpvQ-lVWvAJ"
      },
      "execution_count": 598,
      "outputs": [
        {
          "output_type": "execute_result",
          "data": {
            "text/plain": [
              "1.0    0.8268\n",
              "0.0    0.1732\n",
              "Name: VEHICLE_OWNERSHIP, dtype: float64"
            ]
          },
          "metadata": {},
          "execution_count": 598
        }
      ]
    },
    {
      "cell_type": "code",
      "source": [
        "train.groupby('VEHICLE_OWNERSHIP')[TARGET].value_counts(normalize=True)"
      ],
      "metadata": {
        "colab": {
          "base_uri": "https://localhost:8080/"
        },
        "outputId": "f8d634f2-a19a-428a-c8c0-c19f7c296a2f",
        "id": "-5LXSuj8WvAL"
      },
      "execution_count": 599,
      "outputs": [
        {
          "output_type": "execute_result",
          "data": {
            "text/plain": [
              "VEHICLE_OWNERSHIP  OUTCOME\n",
              "0.0                0.0        0.574\n",
              "                   1.0        0.426\n",
              "1.0                0.0        0.578\n",
              "                   1.0        0.422\n",
              "Name: OUTCOME, dtype: float64"
            ]
          },
          "metadata": {},
          "execution_count": 599
        }
      ]
    },
    {
      "cell_type": "code",
      "source": [
        "train['VEHICLE_OWNERSHIP'] = train.VEHICLE_OWNERSHIP.astype('int8')\n",
        "test['VEHICLE_OWNERSHIP'] = test.VEHICLE_OWNERSHIP.astype('int8')"
      ],
      "metadata": {
        "id": "l1EfVgjKeRzi"
      },
      "execution_count": 600,
      "outputs": []
    },
    {
      "cell_type": "markdown",
      "source": [
        "### VEHICLE_YEAR"
      ],
      "metadata": {
        "id": "5zjTAGw-XLHh"
      }
    },
    {
      "cell_type": "code",
      "source": [
        "train.VEHICLE_YEAR.value_counts(normalize=True)"
      ],
      "metadata": {
        "colab": {
          "base_uri": "https://localhost:8080/"
        },
        "outputId": "d30cd6e3-6c50-4957-923d-740d0e43b6c1",
        "id": "y2NzNIFDXO-z"
      },
      "execution_count": 601,
      "outputs": [
        {
          "output_type": "execute_result",
          "data": {
            "text/plain": [
              "before 2015    0.5477\n",
              "after 2015     0.4523\n",
              "Name: VEHICLE_YEAR, dtype: float64"
            ]
          },
          "metadata": {},
          "execution_count": 601
        }
      ]
    },
    {
      "cell_type": "code",
      "source": [
        "test.VEHICLE_YEAR.value_counts(normalize=True)"
      ],
      "metadata": {
        "colab": {
          "base_uri": "https://localhost:8080/"
        },
        "outputId": "387ba0d5-46c9-4953-8504-afd9b4c96853",
        "id": "3lAzVrLNXO-1"
      },
      "execution_count": 602,
      "outputs": [
        {
          "output_type": "execute_result",
          "data": {
            "text/plain": [
              "before 2015    0.5476\n",
              "after 2015     0.4524\n",
              "Name: VEHICLE_YEAR, dtype: float64"
            ]
          },
          "metadata": {},
          "execution_count": 602
        }
      ]
    },
    {
      "cell_type": "code",
      "source": [
        "vehicleyear_mapping = {'before 2015': 0, 'after 2015': 1}\n",
        "\n",
        "train['VEHICLE_YEAR'] = train.VEHICLE_YEAR.replace(vehicleyear_mapping).astype('int8')\n",
        "test['VEHICLE_YEAR'] = test.VEHICLE_YEAR.replace(vehicleyear_mapping).astype('int8')"
      ],
      "metadata": {
        "id": "MZ5g4w2JXO-1"
      },
      "execution_count": 603,
      "outputs": []
    },
    {
      "cell_type": "code",
      "source": [
        "train.groupby('VEHICLE_YEAR')[TARGET].value_counts(normalize=True)"
      ],
      "metadata": {
        "colab": {
          "base_uri": "https://localhost:8080/"
        },
        "outputId": "f8c56713-0b9d-4d29-b466-a62eacc4e789",
        "id": "oRTxsopmXO-1"
      },
      "execution_count": 604,
      "outputs": [
        {
          "output_type": "execute_result",
          "data": {
            "text/plain": [
              "VEHICLE_YEAR  OUTCOME\n",
              "0             0.0        0.5770\n",
              "              1.0        0.4230\n",
              "1             0.0        0.5778\n",
              "              1.0        0.4222\n",
              "Name: OUTCOME, dtype: float64"
            ]
          },
          "metadata": {},
          "execution_count": 604
        }
      ]
    },
    {
      "cell_type": "markdown",
      "source": [
        "### MARRIED"
      ],
      "metadata": {
        "id": "GnrQqScwYA-w"
      }
    },
    {
      "cell_type": "code",
      "source": [
        "train.MARRIED.value_counts(normalize=True)"
      ],
      "metadata": {
        "colab": {
          "base_uri": "https://localhost:8080/"
        },
        "outputId": "7c142082-6ccc-4e61-fd6f-53353c3618cf",
        "id": "qeNmQkmgYOOd"
      },
      "execution_count": 605,
      "outputs": [
        {
          "output_type": "execute_result",
          "data": {
            "text/plain": [
              "1.0    0.5841\n",
              "0.0    0.4159\n",
              "Name: MARRIED, dtype: float64"
            ]
          },
          "metadata": {},
          "execution_count": 605
        }
      ]
    },
    {
      "cell_type": "code",
      "source": [
        "test.MARRIED.value_counts(normalize=True)"
      ],
      "metadata": {
        "colab": {
          "base_uri": "https://localhost:8080/"
        },
        "outputId": "08103a7d-180a-4624-bdca-16490e750c96",
        "id": "SGCEVUXSYOOf"
      },
      "execution_count": 606,
      "outputs": [
        {
          "output_type": "execute_result",
          "data": {
            "text/plain": [
              "1.0    0.5826\n",
              "0.0    0.4174\n",
              "Name: MARRIED, dtype: float64"
            ]
          },
          "metadata": {},
          "execution_count": 606
        }
      ]
    },
    {
      "cell_type": "code",
      "source": [
        "train.groupby('MARRIED')[TARGET].value_counts(normalize=True)"
      ],
      "metadata": {
        "colab": {
          "base_uri": "https://localhost:8080/"
        },
        "outputId": "47d038f1-6ef9-4b2f-c7ef-aba23ec62356",
        "id": "OoF77n49YOOg"
      },
      "execution_count": 607,
      "outputs": [
        {
          "output_type": "execute_result",
          "data": {
            "text/plain": [
              "MARRIED  OUTCOME\n",
              "0.0      0.0        0.5738\n",
              "         1.0        0.4262\n",
              "1.0      0.0        0.5799\n",
              "         1.0        0.4201\n",
              "Name: OUTCOME, dtype: float64"
            ]
          },
          "metadata": {},
          "execution_count": 607
        }
      ]
    },
    {
      "cell_type": "code",
      "source": [
        "train['MARRIED'] = train.MARRIED.astype('int8')\n",
        "test['MARRIED'] = test.MARRIED.astype('int8')"
      ],
      "metadata": {
        "id": "RGDmPue5YOOg"
      },
      "execution_count": 608,
      "outputs": []
    },
    {
      "cell_type": "markdown",
      "source": [
        "### CHILDREN"
      ],
      "metadata": {
        "id": "Hc86tFsQYd2Q"
      }
    },
    {
      "cell_type": "code",
      "source": [
        "train.CHILDREN.value_counts(normalize=True)"
      ],
      "metadata": {
        "colab": {
          "base_uri": "https://localhost:8080/"
        },
        "outputId": "e933e5d3-d1e6-40cd-acb2-ba8a398d7bdc",
        "id": "2CBE6o-BdfCw"
      },
      "execution_count": 609,
      "outputs": [
        {
          "output_type": "execute_result",
          "data": {
            "text/plain": [
              "1.0    0.52\n",
              "0.0    0.48\n",
              "Name: CHILDREN, dtype: float64"
            ]
          },
          "metadata": {},
          "execution_count": 609
        }
      ]
    },
    {
      "cell_type": "code",
      "source": [
        "test.CHILDREN.value_counts(normalize=True)"
      ],
      "metadata": {
        "colab": {
          "base_uri": "https://localhost:8080/"
        },
        "outputId": "8b5ff0f0-6b25-4b9e-ac17-f4f12cf9398c",
        "id": "traawR88dfCy"
      },
      "execution_count": 610,
      "outputs": [
        {
          "output_type": "execute_result",
          "data": {
            "text/plain": [
              "1.0    0.524\n",
              "0.0    0.476\n",
              "Name: CHILDREN, dtype: float64"
            ]
          },
          "metadata": {},
          "execution_count": 610
        }
      ]
    },
    {
      "cell_type": "code",
      "source": [
        "train.groupby('CHILDREN')[TARGET].value_counts(normalize=True)"
      ],
      "metadata": {
        "colab": {
          "base_uri": "https://localhost:8080/"
        },
        "outputId": "d57657c8-d991-459f-958d-c7e6f2791c24",
        "id": "cyoBCrYxdfCz"
      },
      "execution_count": 611,
      "outputs": [
        {
          "output_type": "execute_result",
          "data": {
            "text/plain": [
              "CHILDREN  OUTCOME\n",
              "0.0       0.0        0.5783\n",
              "          1.0        0.4217\n",
              "1.0       0.0        0.5765\n",
              "          1.0        0.4235\n",
              "Name: OUTCOME, dtype: float64"
            ]
          },
          "metadata": {},
          "execution_count": 611
        }
      ]
    },
    {
      "cell_type": "code",
      "source": [
        "train['CHILDREN'] = train.CHILDREN.astype('int8')\n",
        "test['CHILDREN'] = test.CHILDREN.astype('int8')"
      ],
      "metadata": {
        "id": "ogHwuy0SdfCz"
      },
      "execution_count": 612,
      "outputs": []
    },
    {
      "cell_type": "markdown",
      "source": [
        "### POSTAL_CODE"
      ],
      "metadata": {
        "id": "NRNC5oyQdmDU"
      }
    },
    {
      "cell_type": "code",
      "source": [
        "train.POSTAL_CODE.nunique(), test.POSTAL_CODE.nunique()"
      ],
      "metadata": {
        "colab": {
          "base_uri": "https://localhost:8080/"
        },
        "outputId": "f8bcc99c-7e9e-46f0-be0d-70bce25aec5c",
        "id": "7qZMW4j3dszc"
      },
      "execution_count": 613,
      "outputs": [
        {
          "output_type": "execute_result",
          "data": {
            "text/plain": [
              "(10937, 7003)"
            ]
          },
          "metadata": {},
          "execution_count": 613
        }
      ]
    },
    {
      "cell_type": "code",
      "source": [
        "train.POSTAL_CODE.apply(str).apply(len).value_counts()"
      ],
      "metadata": {
        "colab": {
          "base_uri": "https://localhost:8080/"
        },
        "id": "YIBDCFU2d3ZM",
        "outputId": "4f1b24cd-6ff3-4e89-c836-3e8d540542c0"
      },
      "execution_count": 614,
      "outputs": [
        {
          "output_type": "execute_result",
          "data": {
            "text/plain": [
              "5    105000\n",
              "Name: POSTAL_CODE, dtype: int64"
            ]
          },
          "metadata": {},
          "execution_count": 614
        }
      ]
    },
    {
      "cell_type": "code",
      "source": [
        "test.POSTAL_CODE.apply(str).apply(len).value_counts()"
      ],
      "metadata": {
        "colab": {
          "base_uri": "https://localhost:8080/"
        },
        "outputId": "2ecf007e-296c-4542-9df5-eb6d9b4eaea4",
        "id": "Xdgwvr5Odszd"
      },
      "execution_count": 615,
      "outputs": [
        {
          "output_type": "execute_result",
          "data": {
            "text/plain": [
              "5    45000\n",
              "Name: POSTAL_CODE, dtype: int64"
            ]
          },
          "metadata": {},
          "execution_count": 615
        }
      ]
    },
    {
      "cell_type": "markdown",
      "source": [
        "All postal codes are 5-digit integers."
      ],
      "metadata": {
        "id": "KJPfE1UQeVNN"
      }
    },
    {
      "cell_type": "markdown",
      "source": [
        "Assuming that these postal codes follow the arrangement of actual postal codes, the first digit corresponds to region, first two digits to sub-region, and so on."
      ],
      "metadata": {
        "id": "Al6vu3hfkLNz"
      }
    },
    {
      "cell_type": "code",
      "source": [
        "train.POSTAL_CODE.apply(lambda x: str(x)[:1]).value_counts()"
      ],
      "metadata": {
        "colab": {
          "base_uri": "https://localhost:8080/"
        },
        "outputId": "00c6b7db-7755-4e6e-fc82-b6e61af892bd",
        "id": "K1wEmfNXdsze"
      },
      "execution_count": 616,
      "outputs": [
        {
          "output_type": "execute_result",
          "data": {
            "text/plain": [
              "1    78410\n",
              "3    20204\n",
              "9     3462\n",
              "2     2825\n",
              "4       77\n",
              "8       22\n",
              "Name: POSTAL_CODE, dtype: int64"
            ]
          },
          "metadata": {},
          "execution_count": 616
        }
      ]
    },
    {
      "cell_type": "code",
      "source": [
        "train.POSTAL_CODE.apply(lambda x: str(x)[:2]).value_counts()[:5]"
      ],
      "metadata": {
        "colab": {
          "base_uri": "https://localhost:8080/"
        },
        "id": "Mr3CWSRsfjbv",
        "outputId": "23890dc7-680c-4772-fd97-241fc66be06b"
      },
      "execution_count": 617,
      "outputs": [
        {
          "output_type": "execute_result",
          "data": {
            "text/plain": [
              "10    77608\n",
              "33     3191\n",
              "34     3082\n",
              "92     3058\n",
              "32     2937\n",
              "Name: POSTAL_CODE, dtype: int64"
            ]
          },
          "metadata": {},
          "execution_count": 617
        }
      ]
    },
    {
      "cell_type": "code",
      "source": [
        "train.POSTAL_CODE.apply(lambda x: str(x)[:2]).nunique()"
      ],
      "metadata": {
        "colab": {
          "base_uri": "https://localhost:8080/"
        },
        "id": "hqIMO0vpfxfW",
        "outputId": "ae1d3df3-f3cb-4732-a342-7e58b08a6a40"
      },
      "execution_count": 618,
      "outputs": [
        {
          "output_type": "execute_result",
          "data": {
            "text/plain": [
              "43"
            ]
          },
          "metadata": {},
          "execution_count": 618
        }
      ]
    },
    {
      "cell_type": "code",
      "source": [
        "train.POSTAL_CODE.apply(lambda x: str(x)[:3]).nunique()"
      ],
      "metadata": {
        "colab": {
          "base_uri": "https://localhost:8080/"
        },
        "id": "t9fXDUicdofa",
        "outputId": "f3f3e24b-8ae1-4012-cf47-3a94236fc06d"
      },
      "execution_count": 619,
      "outputs": [
        {
          "output_type": "execute_result",
          "data": {
            "text/plain": [
              "361"
            ]
          },
          "metadata": {},
          "execution_count": 619
        }
      ]
    },
    {
      "cell_type": "code",
      "source": [
        "train.POSTAL_CODE.apply(lambda x: str(x)[:4]).nunique()"
      ],
      "metadata": {
        "colab": {
          "base_uri": "https://localhost:8080/"
        },
        "id": "2pX4lowxh7CK",
        "outputId": "5d1a8eaf-12bf-408e-c34e-4d4b6ad98e49"
      },
      "execution_count": 620,
      "outputs": [
        {
          "output_type": "execute_result",
          "data": {
            "text/plain": [
              "2436"
            ]
          },
          "metadata": {},
          "execution_count": 620
        }
      ]
    },
    {
      "cell_type": "code",
      "source": [
        "train.POSTAL_CODE.value_counts(normalize=True)[:5]"
      ],
      "metadata": {
        "colab": {
          "base_uri": "https://localhost:8080/"
        },
        "id": "Lg2DzJPaiCA1",
        "outputId": "35009c19-d403-4995-fdca-fc9b5538165d"
      },
      "execution_count": 621,
      "outputs": [
        {
          "output_type": "execute_result",
          "data": {
            "text/plain": [
              "10238    0.7391\n",
              "92101    0.0126\n",
              "92100    0.0038\n",
              "92099    0.0015\n",
              "92098    0.0012\n",
              "Name: POSTAL_CODE, dtype: float64"
            ]
          },
          "metadata": {},
          "execution_count": 621
        }
      ]
    },
    {
      "cell_type": "code",
      "source": [
        "test.POSTAL_CODE.value_counts(normalize=True)[:5]"
      ],
      "metadata": {
        "colab": {
          "base_uri": "https://localhost:8080/"
        },
        "id": "a_yegwb9ixeR",
        "outputId": "f8d56e69-8cd0-4c29-d5a5-62b3b6dba037"
      },
      "execution_count": 622,
      "outputs": [
        {
          "output_type": "execute_result",
          "data": {
            "text/plain": [
              "10238    0.7410\n",
              "92101    0.0129\n",
              "92100    0.0036\n",
              "92099    0.0017\n",
              "92098    0.0011\n",
              "Name: POSTAL_CODE, dtype: float64"
            ]
          },
          "metadata": {},
          "execution_count": 622
        }
      ]
    },
    {
      "cell_type": "markdown",
      "source": [
        "Majority of the records are from a single postal code i.e., 10238."
      ],
      "metadata": {
        "id": "0lTndrdqiXLW"
      }
    },
    {
      "cell_type": "code",
      "source": [
        "train['POSTAL_CODE_REGION'] = train['POSTAL_CODE'].apply(lambda x: x // 10000).astype('int8')\n",
        "test['POSTAL_CODE_REGION'] = test['POSTAL_CODE'].apply(lambda x: x // 10000).astype('int8')"
      ],
      "metadata": {
        "id": "MBXS9YzUE7Hq"
      },
      "execution_count": 623,
      "outputs": []
    },
    {
      "cell_type": "code",
      "source": [
        "train.groupby('POSTAL_CODE_REGION')[TARGET].value_counts(normalize=True)"
      ],
      "metadata": {
        "colab": {
          "base_uri": "https://localhost:8080/"
        },
        "id": "yT-mAMoKFfHo",
        "outputId": "73ddc6f1-bf24-48e5-9b85-012e04b42b41"
      },
      "execution_count": 624,
      "outputs": [
        {
          "output_type": "execute_result",
          "data": {
            "text/plain": [
              "POSTAL_CODE_REGION  OUTCOME\n",
              "1                   0.0        0.5763\n",
              "                    1.0        0.4237\n",
              "2                   0.0        0.5876\n",
              "                    1.0        0.4124\n",
              "3                   0.0        0.5795\n",
              "                    1.0        0.4205\n",
              "4                   0.0        0.5714\n",
              "                    1.0        0.4286\n",
              "8                   0.0        0.7727\n",
              "                    1.0        0.2273\n",
              "9                   0.0        0.5786\n",
              "                    1.0        0.4214\n",
              "Name: OUTCOME, dtype: float64"
            ]
          },
          "metadata": {},
          "execution_count": 624
        }
      ]
    },
    {
      "cell_type": "markdown",
      "source": [
        "Distribution for region 8 is different but it is insignificant due to the small number of samples (only 22)."
      ],
      "metadata": {
        "id": "vjZPzblwGAOQ"
      }
    },
    {
      "cell_type": "markdown",
      "source": [
        "### ANNUAL_MILEAGE"
      ],
      "metadata": {
        "id": "YFkN0zVIGU-1"
      }
    },
    {
      "cell_type": "code",
      "source": [
        "train.ANNUAL_MILEAGE.describe()"
      ],
      "metadata": {
        "colab": {
          "base_uri": "https://localhost:8080/"
        },
        "outputId": "55c91d2f-c3ee-42b1-813c-e229f025dc87",
        "id": "oAohwB-JGdlZ"
      },
      "execution_count": 625,
      "outputs": [
        {
          "output_type": "execute_result",
          "data": {
            "text/plain": [
              "count    105000.0000\n",
              "mean      11061.2286\n",
              "std        2972.3555\n",
              "min        2000.0000\n",
              "25%        9000.0000\n",
              "50%       11000.0000\n",
              "75%       13000.0000\n",
              "max       21000.0000\n",
              "Name: ANNUAL_MILEAGE, dtype: float64"
            ]
          },
          "metadata": {},
          "execution_count": 625
        }
      ]
    },
    {
      "cell_type": "code",
      "source": [
        "test.ANNUAL_MILEAGE.describe()"
      ],
      "metadata": {
        "colab": {
          "base_uri": "https://localhost:8080/"
        },
        "outputId": "1dabd917-7f0a-45c2-bdbe-c3776644b7eb",
        "id": "2zDYOpykGdlb"
      },
      "execution_count": 626,
      "outputs": [
        {
          "output_type": "execute_result",
          "data": {
            "text/plain": [
              "count    45000.0000\n",
              "mean     11084.1778\n",
              "std       2966.5840\n",
              "min       2000.0000\n",
              "25%       9000.0000\n",
              "50%      11000.0000\n",
              "75%      13000.0000\n",
              "max      21000.0000\n",
              "Name: ANNUAL_MILEAGE, dtype: float64"
            ]
          },
          "metadata": {},
          "execution_count": 626
        }
      ]
    },
    {
      "cell_type": "code",
      "source": [
        "plot_cont('ANNUAL_MILEAGE')"
      ],
      "metadata": {
        "colab": {
          "base_uri": "https://localhost:8080/",
          "height": 0
        },
        "outputId": "10c70b6e-b453-4800-f7e2-69559b237dad",
        "id": "17Ysj6jdGdlc"
      },
      "execution_count": 627,
      "outputs": [
        {
          "output_type": "display_data",
          "data": {
            "text/plain": [
              "<Figure size 1440x288 with 2 Axes>"
            ],
            "image/png": "[encoded data removed]"
          },
          "metadata": {
            "image/png": {
              "width": 1433,
              "height": 283
            },
            "needs_background": "light"
          }
        }
      ]
    },
    {
      "cell_type": "code",
      "source": [
        "plot_cont_vs_target('ANNUAL_MILEAGE')"
      ],
      "metadata": {
        "colab": {
          "base_uri": "https://localhost:8080/",
          "height": 0
        },
        "outputId": "fd23eb04-924a-498d-f876-4d94ff2ee560",
        "id": "-pMiIcc5Gdle"
      },
      "execution_count": 628,
      "outputs": [
        {
          "output_type": "display_data",
          "data": {
            "text/plain": [
              "<Figure size 648x288 with 1 Axes>"
            ],
            "image/png": "[encoded data removed]"
          },
          "metadata": {
            "image/png": {
              "width": 641,
              "height": 283
            },
            "needs_background": "light"
          }
        }
      ]
    },
    {
      "cell_type": "code",
      "source": [
        "train.groupby(TARGET)['ANNUAL_MILEAGE'].describe()"
      ],
      "metadata": {
        "colab": {
          "base_uri": "https://localhost:8080/",
          "height": 0
        },
        "outputId": "697419dc-c74c-4fee-88f6-0582ebc22622",
        "id": "YkLPY3aBGdlf"
      },
      "execution_count": 629,
      "outputs": [
        {
          "output_type": "execute_result",
          "data": {
            "text/plain": [
              "           count        mean        std     min     25%      50%      75%  \\\n",
              "OUTCOME                                                                     \n",
              "0.0      60622.0  11064.0362  2970.6821  2000.0  9000.0  11000.0  13000.0   \n",
              "1.0      44378.0  11057.3933  2974.6691  2000.0  9000.0  11000.0  13000.0   \n",
              "\n",
              "             max  \n",
              "OUTCOME           \n",
              "0.0      21000.0  \n",
              "1.0      21000.0  "
            ],
            "text/html": [
              "\n",
              "  <div id=\"df-a0cae0f0-b944-49cb-8345-9bd0aabe71c6\">\n",
              "    <div class=\"colab-df-container\">\n",
              "      <div>\n",
              "<style scoped>\n",
              "    .dataframe tbody tr th:only-of-type {\n",
              "        vertical-align: middle;\n",
              "    }\n",
              "\n",
              "    .dataframe tbody tr th {\n",
              "        vertical-align: top;\n",
              "    }\n",
              "\n",
              "    .dataframe thead th {\n",
              "        text-align: right;\n",
              "    }\n",
              "</style>\n",
              "<table border=\"1\" class=\"dataframe\">\n",
              "  <thead>\n",
              "    <tr style=\"text-align: right;\">\n",
              "      <th></th>\n",
              "      <th>count</th>\n",
              "      <th>mean</th>\n",
              "      <th>std</th>\n",
              "      <th>min</th>\n",
              "      <th>25%</th>\n",
              "      <th>50%</th>\n",
              "      <th>75%</th>\n",
              "      <th>max</th>\n",
              "    </tr>\n",
              "    <tr>\n",
              "      <th>OUTCOME</th>\n",
              "      <th></th>\n",
              "      <th></th>\n",
              "      <th></th>\n",
              "      <th></th>\n",
              "      <th></th>\n",
              "      <th></th>\n",
              "      <th></th>\n",
              "      <th></th>\n",
              "    </tr>\n",
              "  </thead>\n",
              "  <tbody>\n",
              "    <tr>\n",
              "      <th>0.0</th>\n",
              "      <td>60622.0</td>\n",
              "      <td>11064.0362</td>\n",
              "      <td>2970.6821</td>\n",
              "      <td>2000.0</td>\n",
              "      <td>9000.0</td>\n",
              "      <td>11000.0</td>\n",
              "      <td>13000.0</td>\n",
              "      <td>21000.0</td>\n",
              "    </tr>\n",
              "    <tr>\n",
              "      <th>1.0</th>\n",
              "      <td>44378.0</td>\n",
              "      <td>11057.3933</td>\n",
              "      <td>2974.6691</td>\n",
              "      <td>2000.0</td>\n",
              "      <td>9000.0</td>\n",
              "      <td>11000.0</td>\n",
              "      <td>13000.0</td>\n",
              "      <td>21000.0</td>\n",
              "    </tr>\n",
              "  </tbody>\n",
              "</table>\n",
              "</div>\n",
              "      <button class=\"colab-df-convert\" onclick=\"convertToInteractive('df-a0cae0f0-b944-49cb-8345-9bd0aabe71c6')\"\n",
              "              title=\"Convert this dataframe to an interactive table.\"\n",
              "              style=\"display:none;\">\n",
              "        \n",
              "  <svg xmlns=\"http://www.w3.org/2000/svg\" height=\"24px\"viewBox=\"0 0 24 24\"\n",
              "       width=\"24px\">\n",
              "    <path d=\"M0 0h24v24H0V0z\" fill=\"none\"/>\n",
              "    <path d=\"M18.56 5.44l.94 2.06.94-2.06 2.06-.94-2.06-.94-.94-2.06-.94 2.06-2.06.94zm-11 1L8.5 8.5l.94-2.06 2.06-.94-2.06-.94L8.5 2.5l-.94 2.06-2.06.94zm10 10l.94 2.06.94-2.06 2.06-.94-2.06-.94-.94-2.06-.94 2.06-2.06.94z\"/><path d=\"M17.41 7.96l-1.37-1.37c-.4-.4-.92-.59-1.43-.59-.52 0-1.04.2-1.43.59L10.3 9.45l-7.72 7.72c-.78.78-.78 2.05 0 2.83L4 21.41c.39.39.9.59 1.41.59.51 0 1.02-.2 1.41-.59l7.78-7.78 2.81-2.81c.8-.78.8-2.07 0-2.86zM5.41 20L4 18.59l7.72-7.72 1.47 1.35L5.41 20z\"/>\n",
              "  </svg>\n",
              "      </button>\n",
              "      \n",
              "  <style>\n",
              "    .colab-df-container {\n",
              "      display:flex;\n",
              "      flex-wrap:wrap;\n",
              "      gap: 12px;\n",
              "    }\n",
              "\n",
              "    .colab-df-convert {\n",
              "      background-color: #E8F0FE;\n",
              "      border: none;\n",
              "      border-radius: 50%;\n",
              "      cursor: pointer;\n",
              "      display: none;\n",
              "      fill: #1967D2;\n",
              "      height: 32px;\n",
              "      padding: 0 0 0 0;\n",
              "      width: 32px;\n",
              "    }\n",
              "\n",
              "    .colab-df-convert:hover {\n",
              "      background-color: #E2EBFA;\n",
              "      box-shadow: 0px 1px 2px rgba(60, 64, 67, 0.3), 0px 1px 3px 1px rgba(60, 64, 67, 0.15);\n",
              "      fill: #174EA6;\n",
              "    }\n",
              "\n",
              "    [theme=dark] .colab-df-convert {\n",
              "      background-color: #3B4455;\n",
              "      fill: #D2E3FC;\n",
              "    }\n",
              "\n",
              "    [theme=dark] .colab-df-convert:hover {\n",
              "      background-color: #434B5C;\n",
              "      box-shadow: 0px 1px 3px 1px rgba(0, 0, 0, 0.15);\n",
              "      filter: drop-shadow(0px 1px 2px rgba(0, 0, 0, 0.3));\n",
              "      fill: #FFFFFF;\n",
              "    }\n",
              "  </style>\n",
              "\n",
              "      <script>\n",
              "        const buttonEl =\n",
              "          document.querySelector('#df-a0cae0f0-b944-49cb-8345-9bd0aabe71c6 button.colab-df-convert');\n",
              "        buttonEl.style.display =\n",
              "          google.colab.kernel.accessAllowed ? 'block' : 'none';\n",
              "\n",
              "        async function convertToInteractive(key) {\n",
              "          const element = document.querySelector('#df-a0cae0f0-b944-49cb-8345-9bd0aabe71c6');\n",
              "          const dataTable =\n",
              "            await google.colab.kernel.invokeFunction('convertToInteractive',\n",
              "                                                     [key], {});\n",
              "          if (!dataTable) return;\n",
              "\n",
              "          const docLinkHtml = 'Like what you see? Visit the ' +\n",
              "            '<a target=\"_blank\" href=https://colab.research.google.com/notebooks/data_table.ipynb>data table notebook</a>'\n",
              "            + ' to learn more about interactive tables.';\n",
              "          element.innerHTML = '';\n",
              "          dataTable['output_type'] = 'display_data';\n",
              "          await google.colab.output.renderOutput(dataTable, element);\n",
              "          const docLink = document.createElement('div');\n",
              "          docLink.innerHTML = docLinkHtml;\n",
              "          element.appendChild(docLink);\n",
              "        }\n",
              "      </script>\n",
              "    </div>\n",
              "  </div>\n",
              "  "
            ]
          },
          "metadata": {},
          "execution_count": 629
        }
      ]
    },
    {
      "cell_type": "code",
      "source": [
        "train.ANNUAL_MILEAGE.nunique(), test.ANNUAL_MILEAGE.nunique()"
      ],
      "metadata": {
        "colab": {
          "base_uri": "https://localhost:8080/"
        },
        "id": "VYuJcmb5OLil",
        "outputId": "71da5678-362a-453e-e8ce-87ae607b47d6"
      },
      "execution_count": 630,
      "outputs": [
        {
          "output_type": "execute_result",
          "data": {
            "text/plain": [
              "(20, 20)"
            ]
          },
          "metadata": {},
          "execution_count": 630
        }
      ]
    },
    {
      "cell_type": "code",
      "source": [
        "sorted(train.ANNUAL_MILEAGE.unique())"
      ],
      "metadata": {
        "colab": {
          "base_uri": "https://localhost:8080/"
        },
        "id": "aGBr9FqOOUee",
        "outputId": "b818a579-9d54-4594-d07f-caef93b5c6fb"
      },
      "execution_count": 631,
      "outputs": [
        {
          "output_type": "execute_result",
          "data": {
            "text/plain": [
              "[2000.0, 3000.0, 4000.0, 5000.0, 6000.0, 7000.0, 8000.0, 9000.0, 10000.0, 11000.0, 12000.0, 13000.0, 14000.0, 15000.0, 16000.0, 17000.0, 18000.0, 19000.0, 20000.0, 21000.0]"
            ]
          },
          "metadata": {},
          "execution_count": 631
        }
      ]
    },
    {
      "cell_type": "code",
      "source": [
        "sorted(test.ANNUAL_MILEAGE.unique())"
      ],
      "metadata": {
        "colab": {
          "base_uri": "https://localhost:8080/"
        },
        "id": "fSvF6NllOnWv",
        "outputId": "1ffc6fc7-9f6f-4b37-881e-458fd52edc55"
      },
      "execution_count": 632,
      "outputs": [
        {
          "output_type": "execute_result",
          "data": {
            "text/plain": [
              "[2000.0, 3000.0, 4000.0, 5000.0, 6000.0, 7000.0, 8000.0, 9000.0, 10000.0, 11000.0, 12000.0, 13000.0, 14000.0, 15000.0, 16000.0, 17000.0, 18000.0, 19000.0, 20000.0, 21000.0]"
            ]
          },
          "metadata": {},
          "execution_count": 632
        }
      ]
    },
    {
      "cell_type": "code",
      "source": [
        "train['ANNUAL_MILEAGE_K'] = train.ANNUAL_MILEAGE.apply(lambda x: x // 1000).astype('int')\n",
        "test['ANNUAL_MILEAGE_K'] = test.ANNUAL_MILEAGE.apply(lambda x: x // 1000).astype('int')"
      ],
      "metadata": {
        "id": "3trihhKaOq-N"
      },
      "execution_count": 633,
      "outputs": []
    },
    {
      "cell_type": "code",
      "source": [
        "plt.figure(figsize=(12, 5))\n",
        "sns.countplot(x='ANNUAL_MILEAGE_K', data=train)\n",
        "plt.show()"
      ],
      "metadata": {
        "colab": {
          "base_uri": "https://localhost:8080/",
          "height": 0
        },
        "id": "9kv68CseP83q",
        "outputId": "11719044-3d6a-46b0-972c-28e263ac76e2"
      },
      "execution_count": 634,
      "outputs": [
        {
          "output_type": "display_data",
          "data": {
            "text/plain": [
              "<Figure size 864x360 with 1 Axes>"
            ],
            "image/png": "[encoded data removed]"
          },
          "metadata": {
            "image/png": {
              "width": 736,
              "height": 316
            },
            "needs_background": "light"
          }
        }
      ]
    },
    {
      "cell_type": "code",
      "source": [
        "def get_mileage_range(x):\n",
        "    if x < 9: return 0\n",
        "    elif x < 15: return 1\n",
        "    else: return 2\n",
        "\n",
        "train['ANNUAL_MILEAGE_RANGE'] = train.ANNUAL_MILEAGE_K.apply(get_mileage_range).astype('int8')\n",
        "test['ANNUAL_MILEAGE_RANGE'] = test.ANNUAL_MILEAGE_K.apply(get_mileage_range).astype('int8')"
      ],
      "metadata": {
        "id": "KqXdeZ0lSN9q"
      },
      "execution_count": 635,
      "outputs": []
    },
    {
      "cell_type": "code",
      "source": [
        "train.groupby('ANNUAL_MILEAGE_RANGE')[TARGET].value_counts(normalize=True)"
      ],
      "metadata": {
        "colab": {
          "base_uri": "https://localhost:8080/"
        },
        "id": "1bGhvEiPSqnY",
        "outputId": "c61ceec3-c337-4327-bdf6-53f4d1d3bea7"
      },
      "execution_count": 636,
      "outputs": [
        {
          "output_type": "execute_result",
          "data": {
            "text/plain": [
              "ANNUAL_MILEAGE_RANGE  OUTCOME\n",
              "0                     0.0        0.5769\n",
              "                      1.0        0.4231\n",
              "1                     0.0        0.5763\n",
              "                      1.0        0.4237\n",
              "2                     0.0        0.5880\n",
              "                      1.0        0.4120\n",
              "Name: OUTCOME, dtype: float64"
            ]
          },
          "metadata": {},
          "execution_count": 636
        }
      ]
    },
    {
      "cell_type": "markdown",
      "source": [
        "### SPEEDING_VIOLATIONS"
      ],
      "metadata": {
        "id": "o2fG5emQG-oL"
      }
    },
    {
      "cell_type": "code",
      "source": [
        "train.SPEEDING_VIOLATIONS.describe()"
      ],
      "metadata": {
        "colab": {
          "base_uri": "https://localhost:8080/"
        },
        "id": "dzmJV0HgHGn4",
        "outputId": "e80b0cd3-600d-400f-fd34-e05f153014bf"
      },
      "execution_count": 637,
      "outputs": [
        {
          "output_type": "execute_result",
          "data": {
            "text/plain": [
              "count    105000.0000\n",
              "mean          0.6757\n",
              "std           1.3837\n",
              "min           0.0000\n",
              "25%           0.0000\n",
              "50%           0.0000\n",
              "75%           1.0000\n",
              "max          20.0000\n",
              "Name: SPEEDING_VIOLATIONS, dtype: float64"
            ]
          },
          "metadata": {},
          "execution_count": 637
        }
      ]
    },
    {
      "cell_type": "code",
      "source": [
        "test.SPEEDING_VIOLATIONS.describe()"
      ],
      "metadata": {
        "colab": {
          "base_uri": "https://localhost:8080/"
        },
        "id": "dX455QBzHPXc",
        "outputId": "12bcb457-0a42-4633-fc1e-150ee9766233"
      },
      "execution_count": 638,
      "outputs": [
        {
          "output_type": "execute_result",
          "data": {
            "text/plain": [
              "count    45000.0000\n",
              "mean         0.6888\n",
              "std          1.4226\n",
              "min          0.0000\n",
              "25%          0.0000\n",
              "50%          0.0000\n",
              "75%          1.0000\n",
              "max         17.0000\n",
              "Name: SPEEDING_VIOLATIONS, dtype: float64"
            ]
          },
          "metadata": {},
          "execution_count": 638
        }
      ]
    },
    {
      "cell_type": "markdown",
      "source": [
        "Most of the records have 0 speeding violations so we can create a boolean column from this data. "
      ],
      "metadata": {
        "id": "GmWdqjs_IOXg"
      }
    },
    {
      "cell_type": "code",
      "source": [
        "train['HAS_PRIOR_SPEEDING_VIOLATIONS'] = (train['SPEEDING_VIOLATIONS'] > 0).astype('int8')\n",
        "test['HAS_PRIOR_SPEEDING_VIOLATIONS'] = (test['SPEEDING_VIOLATIONS'] > 0).astype('int8')"
      ],
      "metadata": {
        "id": "_sRaJMyLHrQO"
      },
      "execution_count": 639,
      "outputs": []
    },
    {
      "cell_type": "markdown",
      "source": [
        "### DUIS"
      ],
      "metadata": {
        "id": "vaYNlbmAIfKr"
      }
    },
    {
      "cell_type": "code",
      "source": [
        "train.DUIS.describe()"
      ],
      "metadata": {
        "colab": {
          "base_uri": "https://localhost:8080/"
        },
        "id": "9fL2hXYbIiMo",
        "outputId": "413cffa7-1217-4fff-8fac-4ab655548173"
      },
      "execution_count": 640,
      "outputs": [
        {
          "output_type": "execute_result",
          "data": {
            "text/plain": [
              "count    105000.0000\n",
              "mean          0.1297\n",
              "std           0.5897\n",
              "min           0.0000\n",
              "25%           0.0000\n",
              "50%           0.0000\n",
              "75%           0.0000\n",
              "max           6.0000\n",
              "Name: DUIS, dtype: float64"
            ]
          },
          "metadata": {},
          "execution_count": 640
        }
      ]
    },
    {
      "cell_type": "code",
      "source": [
        "test.DUIS.describe()"
      ],
      "metadata": {
        "colab": {
          "base_uri": "https://localhost:8080/"
        },
        "id": "7G3eQKQ9InUE",
        "outputId": "79cea27e-2fc3-4c28-813f-da5667e289ff"
      },
      "execution_count": 641,
      "outputs": [
        {
          "output_type": "execute_result",
          "data": {
            "text/plain": [
              "count    45000.0000\n",
              "mean         0.1302\n",
              "std          0.5930\n",
              "min          0.0000\n",
              "25%          0.0000\n",
              "50%          0.0000\n",
              "75%          0.0000\n",
              "max          6.0000\n",
              "Name: DUIS, dtype: float64"
            ]
          },
          "metadata": {},
          "execution_count": 641
        }
      ]
    },
    {
      "cell_type": "code",
      "source": [
        "train['HAS_PRIOR_DUIS'] = (train['DUIS'] > 0).astype('int8')\n",
        "test['HAS_PRIOR_DUIS'] = (test['DUIS'] > 0).astype('int8')"
      ],
      "metadata": {
        "id": "IQKiYbq_Iq2w"
      },
      "execution_count": 642,
      "outputs": []
    },
    {
      "cell_type": "code",
      "source": [
        "train.groupby('DUIS')[TARGET].value_counts(normalize=True)"
      ],
      "metadata": {
        "colab": {
          "base_uri": "https://localhost:8080/"
        },
        "id": "7Tiok9JaKv4L",
        "outputId": "7c096a6a-1274-4396-91a1-374ec038d90a"
      },
      "execution_count": 643,
      "outputs": [
        {
          "output_type": "execute_result",
          "data": {
            "text/plain": [
              "DUIS  OUTCOME\n",
              "0     0.0        0.5776\n",
              "      1.0        0.4224\n",
              "1     0.0        0.5679\n",
              "      1.0        0.4321\n",
              "2     0.0        0.5882\n",
              "      1.0        0.4118\n",
              "3     0.0        0.5725\n",
              "      1.0        0.4275\n",
              "4     0.0        0.5740\n",
              "      1.0        0.4260\n",
              "5     0.0        0.5777\n",
              "      1.0        0.4223\n",
              "6     0.0        0.6184\n",
              "      1.0        0.3816\n",
              "Name: OUTCOME, dtype: float64"
            ]
          },
          "metadata": {},
          "execution_count": 643
        }
      ]
    },
    {
      "cell_type": "code",
      "source": [
        "train.groupby('HAS_PRIOR_DUIS')[TARGET].value_counts(normalize=True)"
      ],
      "metadata": {
        "colab": {
          "base_uri": "https://localhost:8080/"
        },
        "id": "CbbDkEvuK4Ys",
        "outputId": "36567ec9-d969-46c6-e303-b8f801edc90c"
      },
      "execution_count": 644,
      "outputs": [
        {
          "output_type": "execute_result",
          "data": {
            "text/plain": [
              "HAS_PRIOR_DUIS  OUTCOME\n",
              "0               0.0        0.5776\n",
              "                1.0        0.4224\n",
              "1               0.0        0.5739\n",
              "                1.0        0.4261\n",
              "Name: OUTCOME, dtype: float64"
            ]
          },
          "metadata": {},
          "execution_count": 644
        }
      ]
    },
    {
      "cell_type": "markdown",
      "source": [
        "### PAST_ACCIDENTS"
      ],
      "metadata": {
        "id": "1ZSuiKt_JEJi"
      }
    },
    {
      "cell_type": "code",
      "source": [
        "train.PAST_ACCIDENTS.describe()"
      ],
      "metadata": {
        "colab": {
          "base_uri": "https://localhost:8080/"
        },
        "id": "v3LS4fY5JAtU",
        "outputId": "434a19c1-b5ea-4a76-b663-5c07c47d9963"
      },
      "execution_count": 645,
      "outputs": [
        {
          "output_type": "execute_result",
          "data": {
            "text/plain": [
              "count    105000.0000\n",
              "mean          0.5493\n",
              "std           1.4028\n",
              "min           0.0000\n",
              "25%           0.0000\n",
              "50%           0.0000\n",
              "75%           0.0000\n",
              "max          15.0000\n",
              "Name: PAST_ACCIDENTS, dtype: float64"
            ]
          },
          "metadata": {},
          "execution_count": 645
        }
      ]
    },
    {
      "cell_type": "code",
      "source": [
        "test.PAST_ACCIDENTS.describe()"
      ],
      "metadata": {
        "colab": {
          "base_uri": "https://localhost:8080/"
        },
        "id": "k2X9nLvgJLZN",
        "outputId": "6c4dee59-986c-4510-be82-0967d1b1a66f"
      },
      "execution_count": 646,
      "outputs": [
        {
          "output_type": "execute_result",
          "data": {
            "text/plain": [
              "count    45000.0000\n",
              "mean         0.5489\n",
              "std          1.3816\n",
              "min          0.0000\n",
              "25%          0.0000\n",
              "50%          0.0000\n",
              "75%          1.0000\n",
              "max         15.0000\n",
              "Name: PAST_ACCIDENTS, dtype: float64"
            ]
          },
          "metadata": {},
          "execution_count": 646
        }
      ]
    },
    {
      "cell_type": "code",
      "source": [
        "train['HAS_PAST_ACCIDENTS'] = (train['PAST_ACCIDENTS'] > 0).astype('int8')\n",
        "test['HAS_PAST_ACCIDENTS'] = (test['PAST_ACCIDENTS'] > 0).astype('int8')"
      ],
      "metadata": {
        "id": "G_MT7AFjJTa8"
      },
      "execution_count": 647,
      "outputs": []
    },
    {
      "cell_type": "code",
      "source": [
        "train.groupby('HAS_PAST_ACCIDENTS')[TARGET].value_counts(normalize=True)"
      ],
      "metadata": {
        "colab": {
          "base_uri": "https://localhost:8080/"
        },
        "id": "OXvq--fVLNQ_",
        "outputId": "9d176367-e4e8-4fec-b1a3-854f34cdc7e1"
      },
      "execution_count": 648,
      "outputs": [
        {
          "output_type": "execute_result",
          "data": {
            "text/plain": [
              "HAS_PAST_ACCIDENTS  OUTCOME\n",
              "0                   0.0        0.5789\n",
              "                    1.0        0.4211\n",
              "1                   0.0        0.5728\n",
              "                    1.0        0.4272\n",
              "Name: OUTCOME, dtype: float64"
            ]
          },
          "metadata": {},
          "execution_count": 648
        }
      ]
    },
    {
      "cell_type": "markdown",
      "source": [
        "### New columns: HAS_PAST_INCIDENTS, TOTAL_PAST_INCIDENTS"
      ],
      "metadata": {
        "id": "CfXKI4LcMmlD"
      }
    },
    {
      "cell_type": "code",
      "source": [
        "train['TOTAL_PAST_INCIDENTS'] = train['SPEEDING_VIOLATIONS'] + train['DUIS'] + train['PAST_ACCIDENTS']\n",
        "train['HAS_PAST_INCIDENTS'] = (train['TOTAL_PAST_INCIDENTS'] > 0).astype('int8')\n",
        "\n",
        "test['TOTAL_PAST_INCIDENTS'] = test['SPEEDING_VIOLATIONS'] + test['DUIS'] + test['PAST_ACCIDENTS']\n",
        "test['HAS_PAST_INCIDENTS'] = (test['TOTAL_PAST_INCIDENTS'] > 0).astype('int8')"
      ],
      "metadata": {
        "id": "gB9giCNhMuel"
      },
      "execution_count": 649,
      "outputs": []
    },
    {
      "cell_type": "code",
      "source": [
        "train['TOTAL_PAST_INCIDENTS'].describe()"
      ],
      "metadata": {
        "colab": {
          "base_uri": "https://localhost:8080/"
        },
        "id": "jG3uNBqHNVqY",
        "outputId": "74ac8b51-cd13-4c50-e2f5-79af554590bd"
      },
      "execution_count": 650,
      "outputs": [
        {
          "output_type": "execute_result",
          "data": {
            "text/plain": [
              "count    105000.0000\n",
              "mean          1.3547\n",
              "std           2.0657\n",
              "min           0.0000\n",
              "25%           0.0000\n",
              "50%           1.0000\n",
              "75%           2.0000\n",
              "max          27.0000\n",
              "Name: TOTAL_PAST_INCIDENTS, dtype: float64"
            ]
          },
          "metadata": {},
          "execution_count": 650
        }
      ]
    },
    {
      "cell_type": "code",
      "source": [
        "train['HAS_PAST_INCIDENTS'].value_counts(normalize=True)"
      ],
      "metadata": {
        "colab": {
          "base_uri": "https://localhost:8080/"
        },
        "id": "4dgxwfClNZ3d",
        "outputId": "4c658fe3-48a6-4689-a637-fcdc6b1fc84e"
      },
      "execution_count": 651,
      "outputs": [
        {
          "output_type": "execute_result",
          "data": {
            "text/plain": [
              "1    0.5344\n",
              "0    0.4656\n",
              "Name: HAS_PAST_INCIDENTS, dtype: float64"
            ]
          },
          "metadata": {},
          "execution_count": 651
        }
      ]
    },
    {
      "cell_type": "code",
      "source": [
        "train.groupby('HAS_PAST_INCIDENTS')[TARGET].value_counts(normalize=True)"
      ],
      "metadata": {
        "colab": {
          "base_uri": "https://localhost:8080/"
        },
        "id": "a0fIHvR9NgEl",
        "outputId": "7b466f1f-db30-4965-ba73-8e9168a045d7"
      },
      "execution_count": 652,
      "outputs": [
        {
          "output_type": "execute_result",
          "data": {
            "text/plain": [
              "HAS_PAST_INCIDENTS  OUTCOME\n",
              "0                   0.0        0.5778\n",
              "                    1.0        0.4222\n",
              "1                   0.0        0.5769\n",
              "                    1.0        0.4231\n",
              "Name: OUTCOME, dtype: float64"
            ]
          },
          "metadata": {},
          "execution_count": 652
        }
      ]
    },
    {
      "cell_type": "markdown",
      "source": [
        "### TYPE_OF_VEHICLE"
      ],
      "metadata": {
        "id": "9XL0nU2qS9Wo"
      }
    },
    {
      "cell_type": "code",
      "source": [
        "train.TYPE_OF_VEHICLE.value_counts(normalize=True)"
      ],
      "metadata": {
        "colab": {
          "base_uri": "https://localhost:8080/"
        },
        "id": "cI13U0rzTBtZ",
        "outputId": "33f85aad-4fe6-440c-fe72-9f6863771b55"
      },
      "execution_count": 653,
      "outputs": [
        {
          "output_type": "execute_result",
          "data": {
            "text/plain": [
              "Sports Car    0.3294\n",
              "Sedan         0.2678\n",
              "HatchBack     0.2371\n",
              "SUV           0.1656\n",
              "Name: TYPE_OF_VEHICLE, dtype: float64"
            ]
          },
          "metadata": {},
          "execution_count": 653
        }
      ]
    },
    {
      "cell_type": "code",
      "source": [
        "train.TYPE_OF_VEHICLE.value_counts(normalize=True)"
      ],
      "metadata": {
        "colab": {
          "base_uri": "https://localhost:8080/"
        },
        "id": "sPGO4bP1THx7",
        "outputId": "57d51d05-5eb2-46e4-aeac-1ccf4094747a"
      },
      "execution_count": 654,
      "outputs": [
        {
          "output_type": "execute_result",
          "data": {
            "text/plain": [
              "Sports Car    0.3294\n",
              "Sedan         0.2678\n",
              "HatchBack     0.2371\n",
              "SUV           0.1656\n",
              "Name: TYPE_OF_VEHICLE, dtype: float64"
            ]
          },
          "metadata": {},
          "execution_count": 654
        }
      ]
    },
    {
      "cell_type": "code",
      "source": [
        "train.groupby('TYPE_OF_VEHICLE')[TARGET].value_counts(normalize=True)"
      ],
      "metadata": {
        "colab": {
          "base_uri": "https://localhost:8080/"
        },
        "id": "ALvtDwTYTLbs",
        "outputId": "19fd4462-2ae4-49d4-cd97-084fb8e63acb"
      },
      "execution_count": 655,
      "outputs": [
        {
          "output_type": "execute_result",
          "data": {
            "text/plain": [
              "TYPE_OF_VEHICLE  OUTCOME\n",
              "HatchBack        0.0        0.5743\n",
              "                 1.0        0.4257\n",
              "SUV              0.0        0.5849\n",
              "                 1.0        0.4151\n",
              "Sedan            0.0        0.5820\n",
              "                 1.0        0.4180\n",
              "Sports Car       0.0        0.5720\n",
              "                 1.0        0.4280\n",
              "Name: OUTCOME, dtype: float64"
            ]
          },
          "metadata": {},
          "execution_count": 655
        }
      ]
    },
    {
      "cell_type": "code",
      "source": [
        "vehicletype_mapping = {'HatchBack': 0, 'Sedan': 1, 'SUV': 2, 'Sports Car': 3}\n",
        "\n",
        "train['TYPE_OF_VEHICLE'] = train.TYPE_OF_VEHICLE.replace(vehicletype_mapping).astype('int8')\n",
        "test['TYPE_OF_VEHICLE'] = test.TYPE_OF_VEHICLE.replace(vehicletype_mapping).astype('int8')"
      ],
      "metadata": {
        "id": "-8n0plETTWbc"
      },
      "execution_count": 656,
      "outputs": []
    },
    {
      "cell_type": "markdown",
      "source": [
        "# Feature Selection"
      ],
      "metadata": {
        "id": "gFLiP2O0Ykk5"
      }
    },
    {
      "cell_type": "code",
      "source": [
        "num_features = ['ID_COUNT', 'CREDIT_SCORE', 'ANNUAL_MILEAGE_K', \n",
        "                'SPEEDING_VIOLATIONS', 'DUIS', 'PAST_ACCIDENTS', \n",
        "                'TOTAL_PAST_INCIDENTS']\n",
        "\n",
        "cat_features = list(test.select_dtypes(include='int8').columns)\n",
        "\n",
        "features = num_features + cat_features"
      ],
      "metadata": {
        "id": "yFRbxtFOkUQt"
      },
      "execution_count": 662,
      "outputs": []
    },
    {
      "cell_type": "markdown",
      "source": [
        "### Pearson correlation"
      ],
      "metadata": {
        "id": "GaxFo054mit2"
      }
    },
    {
      "cell_type": "code",
      "source": [
        "def plot_corr_matrix(corr_df, size=10):\n",
        "    plt.figure(figsize=(size, size))\n",
        "    sns.heatmap(corr_df,\n",
        "                mask=np.triu(np.ones_like(corr_df)),\n",
        "                vmin=-1, vmax=1, center=0, \n",
        "                # annot=True, \n",
        "                linewidths=0.1)\n",
        "    plt.show()"
      ],
      "metadata": {
        "id": "rtUP912UiW0R"
      },
      "execution_count": 671,
      "outputs": []
    },
    {
      "cell_type": "code",
      "source": [
        "corr_df = train[features + [TARGET]].corr()"
      ],
      "metadata": {
        "id": "X2Atscu_m1WU"
      },
      "execution_count": 664,
      "outputs": []
    },
    {
      "cell_type": "code",
      "source": [
        "plot_corr_matrix(corr_df, size=12)"
      ],
      "metadata": {
        "colab": {
          "base_uri": "https://localhost:8080/",
          "height": 872
        },
        "id": "QQR8QVhGm15L",
        "outputId": "8564e497-58a9-42f7-fd8f-4773fc16066c"
      },
      "execution_count": 673,
      "outputs": [
        {
          "output_type": "display_data",
          "data": {
            "text/plain": [
              "<Figure size 864x864 with 2 Axes>"
            ],
            "image/png": "[encoded data removed]"
          },
          "metadata": {
            "image/png": {
              "width": 839,
              "height": 855
            },
            "needs_background": "light"
          }
        }
      ]
    },
    {
      "cell_type": "markdown",
      "source": [
        "Apart from the derived features, there is no correlation between features. The target variable also has no correlation with any feature, whether original or derived."
      ],
      "metadata": {
        "id": "Du_vXLMFn9uJ"
      }
    },
    {
      "cell_type": "markdown",
      "source": [
        "### ANOVA F-test"
      ],
      "metadata": {
        "id": "SPzuu2BVyx-7"
      }
    },
    {
      "cell_type": "code",
      "source": [
        "anova_test = f_classif(train[num_features], train[TARGET])\n",
        "\n",
        "pd.DataFrame(\n",
        "    data={\n",
        "        'f-statistic': anova_test[0], \n",
        "        'p-value': anova_test[1],\n",
        "        'accepted?': anova_test[1] < 0.05\n",
        "    },\n",
        "    index=num_features\n",
        ")"
      ],
      "metadata": {
        "colab": {
          "base_uri": "https://localhost:8080/",
          "height": 269
        },
        "id": "Ee7Py1d7yKuK",
        "outputId": "a59895b0-085c-43cf-af21-5884021c8487"
      },
      "execution_count": 674,
      "outputs": [
        {
          "output_type": "execute_result",
          "data": {
            "text/plain": [
              "                      f-statistic  p-value  accepted?\n",
              "ID_COUNT                   0.0140   0.9058      False\n",
              "CREDIT_SCORE               0.9884   0.3201      False\n",
              "ANNUAL_MILEAGE_K           0.1280   0.7205      False\n",
              "SPEEDING_VIOLATIONS        0.0024   0.9610      False\n",
              "DUIS                       0.0153   0.9014      False\n",
              "PAST_ACCIDENTS             0.5763   0.4477      False\n",
              "TOTAL_PAST_INCIDENTS       0.2002   0.6546      False"
            ],
            "text/html": [
              "\n",
              "  <div id=\"df-ad6fc148-2865-4ecc-a996-34766cb774bc\">\n",
              "    <div class=\"colab-df-container\">\n",
              "      <div>\n",
              "<style scoped>\n",
              "    .dataframe tbody tr th:only-of-type {\n",
              "        vertical-align: middle;\n",
              "    }\n",
              "\n",
              "    .dataframe tbody tr th {\n",
              "        vertical-align: top;\n",
              "    }\n",
              "\n",
              "    .dataframe thead th {\n",
              "        text-align: right;\n",
              "    }\n",
              "</style>\n",
              "<table border=\"1\" class=\"dataframe\">\n",
              "  <thead>\n",
              "    <tr style=\"text-align: right;\">\n",
              "      <th></th>\n",
              "      <th>f-statistic</th>\n",
              "      <th>p-value</th>\n",
              "      <th>accepted?</th>\n",
              "    </tr>\n",
              "  </thead>\n",
              "  <tbody>\n",
              "    <tr>\n",
              "      <th>ID_COUNT</th>\n",
              "      <td>0.0140</td>\n",
              "      <td>0.9058</td>\n",
              "      <td>False</td>\n",
              "    </tr>\n",
              "    <tr>\n",
              "      <th>CREDIT_SCORE</th>\n",
              "      <td>0.9884</td>\n",
              "      <td>0.3201</td>\n",
              "      <td>False</td>\n",
              "    </tr>\n",
              "    <tr>\n",
              "      <th>ANNUAL_MILEAGE_K</th>\n",
              "      <td>0.1280</td>\n",
              "      <td>0.7205</td>\n",
              "      <td>False</td>\n",
              "    </tr>\n",
              "    <tr>\n",
              "      <th>SPEEDING_VIOLATIONS</th>\n",
              "      <td>0.0024</td>\n",
              "      <td>0.9610</td>\n",
              "      <td>False</td>\n",
              "    </tr>\n",
              "    <tr>\n",
              "      <th>DUIS</th>\n",
              "      <td>0.0153</td>\n",
              "      <td>0.9014</td>\n",
              "      <td>False</td>\n",
              "    </tr>\n",
              "    <tr>\n",
              "      <th>PAST_ACCIDENTS</th>\n",
              "      <td>0.5763</td>\n",
              "      <td>0.4477</td>\n",
              "      <td>False</td>\n",
              "    </tr>\n",
              "    <tr>\n",
              "      <th>TOTAL_PAST_INCIDENTS</th>\n",
              "      <td>0.2002</td>\n",
              "      <td>0.6546</td>\n",
              "      <td>False</td>\n",
              "    </tr>\n",
              "  </tbody>\n",
              "</table>\n",
              "</div>\n",
              "      <button class=\"colab-df-convert\" onclick=\"convertToInteractive('df-ad6fc148-2865-4ecc-a996-34766cb774bc')\"\n",
              "              title=\"Convert this dataframe to an interactive table.\"\n",
              "              style=\"display:none;\">\n",
              "        \n",
              "  <svg xmlns=\"http://www.w3.org/2000/svg\" height=\"24px\"viewBox=\"0 0 24 24\"\n",
              "       width=\"24px\">\n",
              "    <path d=\"M0 0h24v24H0V0z\" fill=\"none\"/>\n",
              "    <path d=\"M18.56 5.44l.94 2.06.94-2.06 2.06-.94-2.06-.94-.94-2.06-.94 2.06-2.06.94zm-11 1L8.5 8.5l.94-2.06 2.06-.94-2.06-.94L8.5 2.5l-.94 2.06-2.06.94zm10 10l.94 2.06.94-2.06 2.06-.94-2.06-.94-.94-2.06-.94 2.06-2.06.94z\"/><path d=\"M17.41 7.96l-1.37-1.37c-.4-.4-.92-.59-1.43-.59-.52 0-1.04.2-1.43.59L10.3 9.45l-7.72 7.72c-.78.78-.78 2.05 0 2.83L4 21.41c.39.39.9.59 1.41.59.51 0 1.02-.2 1.41-.59l7.78-7.78 2.81-2.81c.8-.78.8-2.07 0-2.86zM5.41 20L4 18.59l7.72-7.72 1.47 1.35L5.41 20z\"/>\n",
              "  </svg>\n",
              "      </button>\n",
              "      \n",
              "  <style>\n",
              "    .colab-df-container {\n",
              "      display:flex;\n",
              "      flex-wrap:wrap;\n",
              "      gap: 12px;\n",
              "    }\n",
              "\n",
              "    .colab-df-convert {\n",
              "      background-color: #E8F0FE;\n",
              "      border: none;\n",
              "      border-radius: 50%;\n",
              "      cursor: pointer;\n",
              "      display: none;\n",
              "      fill: #1967D2;\n",
              "      height: 32px;\n",
              "      padding: 0 0 0 0;\n",
              "      width: 32px;\n",
              "    }\n",
              "\n",
              "    .colab-df-convert:hover {\n",
              "      background-color: #E2EBFA;\n",
              "      box-shadow: 0px 1px 2px rgba(60, 64, 67, 0.3), 0px 1px 3px 1px rgba(60, 64, 67, 0.15);\n",
              "      fill: #174EA6;\n",
              "    }\n",
              "\n",
              "    [theme=dark] .colab-df-convert {\n",
              "      background-color: #3B4455;\n",
              "      fill: #D2E3FC;\n",
              "    }\n",
              "\n",
              "    [theme=dark] .colab-df-convert:hover {\n",
              "      background-color: #434B5C;\n",
              "      box-shadow: 0px 1px 3px 1px rgba(0, 0, 0, 0.15);\n",
              "      filter: drop-shadow(0px 1px 2px rgba(0, 0, 0, 0.3));\n",
              "      fill: #FFFFFF;\n",
              "    }\n",
              "  </style>\n",
              "\n",
              "      <script>\n",
              "        const buttonEl =\n",
              "          document.querySelector('#df-ad6fc148-2865-4ecc-a996-34766cb774bc button.colab-df-convert');\n",
              "        buttonEl.style.display =\n",
              "          google.colab.kernel.accessAllowed ? 'block' : 'none';\n",
              "\n",
              "        async function convertToInteractive(key) {\n",
              "          const element = document.querySelector('#df-ad6fc148-2865-4ecc-a996-34766cb774bc');\n",
              "          const dataTable =\n",
              "            await google.colab.kernel.invokeFunction('convertToInteractive',\n",
              "                                                     [key], {});\n",
              "          if (!dataTable) return;\n",
              "\n",
              "          const docLinkHtml = 'Like what you see? Visit the ' +\n",
              "            '<a target=\"_blank\" href=https://colab.research.google.com/notebooks/data_table.ipynb>data table notebook</a>'\n",
              "            + ' to learn more about interactive tables.';\n",
              "          element.innerHTML = '';\n",
              "          dataTable['output_type'] = 'display_data';\n",
              "          await google.colab.output.renderOutput(dataTable, element);\n",
              "          const docLink = document.createElement('div');\n",
              "          docLink.innerHTML = docLinkHtml;\n",
              "          element.appendChild(docLink);\n",
              "        }\n",
              "      </script>\n",
              "    </div>\n",
              "  </div>\n",
              "  "
            ]
          },
          "metadata": {},
          "execution_count": 674
        }
      ]
    },
    {
      "cell_type": "markdown",
      "source": [
        "### Chi-squared test of independence"
      ],
      "metadata": {
        "id": "deuHzHHApHe8"
      }
    },
    {
      "cell_type": "code",
      "source": [
        "chi2_test = chi2(train[cat_features], train[TARGET])\n",
        "\n",
        "pd.DataFrame(\n",
        "    data={\n",
        "        'f-statistic': chi2_test[0], \n",
        "        'p-value': chi2_test[1],\n",
        "        'accepted?': chi2_test[1] < 0.05\n",
        "    },\n",
        "    index=cat_features\n",
        ")"
      ],
      "metadata": {
        "colab": {
          "base_uri": "https://localhost:8080/",
          "height": 582
        },
        "id": "-EgLfwVQpG1O",
        "outputId": "52bf2941-62f0-4e60-de14-e6c3df8a4710"
      },
      "execution_count": 677,
      "outputs": [
        {
          "output_type": "execute_result",
          "data": {
            "text/plain": [
              "                               f-statistic  p-value  accepted?\n",
              "AGE                                 0.4221   0.5159      False\n",
              "GENDER                              5.4259   0.0198       True\n",
              "DRIVING_EXPERIENCE                  7.9399   0.0048       True\n",
              "EDUCATION                           0.5437   0.4609      False\n",
              "INCOME                              0.0065   0.9360      False\n",
              "VEHICLE_OWNERSHIP                   0.1716   0.6787      False\n",
              "VEHICLE_YEAR                        0.0422   0.8372      False\n",
              "MARRIED                             1.5865   0.2078      False\n",
              "CHILDREN                            0.1761   0.6747      False\n",
              "TYPE_OF_VEHICLE                     0.6814   0.4091      False\n",
              "IS_ID_REPEATED                      0.2873   0.5919      False\n",
              "POSTAL_CODE_REGION                  0.7339   0.3916      False\n",
              "ANNUAL_MILEAGE_RANGE                0.4308   0.5116      False\n",
              "HAS_PRIOR_SPEEDING_VIOLATIONS       1.6037   0.2054      False\n",
              "HAS_PRIOR_DUIS                      0.3333   0.5637      False\n",
              "HAS_PAST_ACCIDENTS                  2.2207   0.1362      False\n",
              "HAS_PAST_INCIDENTS                  0.0425   0.8366      False"
            ],
            "text/html": [
              "\n",
              "  <div id=\"df-0bf187a0-8195-4fc2-958b-58cceb46dd13\">\n",
              "    <div class=\"colab-df-container\">\n",
              "      <div>\n",
              "<style scoped>\n",
              "    .dataframe tbody tr th:only-of-type {\n",
              "        vertical-align: middle;\n",
              "    }\n",
              "\n",
              "    .dataframe tbody tr th {\n",
              "        vertical-align: top;\n",
              "    }\n",
              "\n",
              "    .dataframe thead th {\n",
              "        text-align: right;\n",
              "    }\n",
              "</style>\n",
              "<table border=\"1\" class=\"dataframe\">\n",
              "  <thead>\n",
              "    <tr style=\"text-align: right;\">\n",
              "      <th></th>\n",
              "      <th>f-statistic</th>\n",
              "      <th>p-value</th>\n",
              "      <th>accepted?</th>\n",
              "    </tr>\n",
              "  </thead>\n",
              "  <tbody>\n",
              "    <tr>\n",
              "      <th>AGE</th>\n",
              "      <td>0.4221</td>\n",
              "      <td>0.5159</td>\n",
              "      <td>False</td>\n",
              "    </tr>\n",
              "    <tr>\n",
              "      <th>GENDER</th>\n",
              "      <td>5.4259</td>\n",
              "      <td>0.0198</td>\n",
              "      <td>True</td>\n",
              "    </tr>\n",
              "    <tr>\n",
              "      <th>DRIVING_EXPERIENCE</th>\n",
              "      <td>7.9399</td>\n",
              "      <td>0.0048</td>\n",
              "      <td>True</td>\n",
              "    </tr>\n",
              "    <tr>\n",
              "      <th>EDUCATION</th>\n",
              "      <td>0.5437</td>\n",
              "      <td>0.4609</td>\n",
              "      <td>False</td>\n",
              "    </tr>\n",
              "    <tr>\n",
              "      <th>INCOME</th>\n",
              "      <td>0.0065</td>\n",
              "      <td>0.9360</td>\n",
              "      <td>False</td>\n",
              "    </tr>\n",
              "    <tr>\n",
              "      <th>VEHICLE_OWNERSHIP</th>\n",
              "      <td>0.1716</td>\n",
              "      <td>0.6787</td>\n",
              "      <td>False</td>\n",
              "    </tr>\n",
              "    <tr>\n",
              "      <th>VEHICLE_YEAR</th>\n",
              "      <td>0.0422</td>\n",
              "      <td>0.8372</td>\n",
              "      <td>False</td>\n",
              "    </tr>\n",
              "    <tr>\n",
              "      <th>MARRIED</th>\n",
              "      <td>1.5865</td>\n",
              "      <td>0.2078</td>\n",
              "      <td>False</td>\n",
              "    </tr>\n",
              "    <tr>\n",
              "      <th>CHILDREN</th>\n",
              "      <td>0.1761</td>\n",
              "      <td>0.6747</td>\n",
              "      <td>False</td>\n",
              "    </tr>\n",
              "    <tr>\n",
              "      <th>TYPE_OF_VEHICLE</th>\n",
              "      <td>0.6814</td>\n",
              "      <td>0.4091</td>\n",
              "      <td>False</td>\n",
              "    </tr>\n",
              "    <tr>\n",
              "      <th>IS_ID_REPEATED</th>\n",
              "      <td>0.2873</td>\n",
              "      <td>0.5919</td>\n",
              "      <td>False</td>\n",
              "    </tr>\n",
              "    <tr>\n",
              "      <th>POSTAL_CODE_REGION</th>\n",
              "      <td>0.7339</td>\n",
              "      <td>0.3916</td>\n",
              "      <td>False</td>\n",
              "    </tr>\n",
              "    <tr>\n",
              "      <th>ANNUAL_MILEAGE_RANGE</th>\n",
              "      <td>0.4308</td>\n",
              "      <td>0.5116</td>\n",
              "      <td>False</td>\n",
              "    </tr>\n",
              "    <tr>\n",
              "      <th>HAS_PRIOR_SPEEDING_VIOLATIONS</th>\n",
              "      <td>1.6037</td>\n",
              "      <td>0.2054</td>\n",
              "      <td>False</td>\n",
              "    </tr>\n",
              "    <tr>\n",
              "      <th>HAS_PRIOR_DUIS</th>\n",
              "      <td>0.3333</td>\n",
              "      <td>0.5637</td>\n",
              "      <td>False</td>\n",
              "    </tr>\n",
              "    <tr>\n",
              "      <th>HAS_PAST_ACCIDENTS</th>\n",
              "      <td>2.2207</td>\n",
              "      <td>0.1362</td>\n",
              "      <td>False</td>\n",
              "    </tr>\n",
              "    <tr>\n",
              "      <th>HAS_PAST_INCIDENTS</th>\n",
              "      <td>0.0425</td>\n",
              "      <td>0.8366</td>\n",
              "      <td>False</td>\n",
              "    </tr>\n",
              "  </tbody>\n",
              "</table>\n",
              "</div>\n",
              "      <button class=\"colab-df-convert\" onclick=\"convertToInteractive('df-0bf187a0-8195-4fc2-958b-58cceb46dd13')\"\n",
              "              title=\"Convert this dataframe to an interactive table.\"\n",
              "              style=\"display:none;\">\n",
              "        \n",
              "  <svg xmlns=\"http://www.w3.org/2000/svg\" height=\"24px\"viewBox=\"0 0 24 24\"\n",
              "       width=\"24px\">\n",
              "    <path d=\"M0 0h24v24H0V0z\" fill=\"none\"/>\n",
              "    <path d=\"M18.56 5.44l.94 2.06.94-2.06 2.06-.94-2.06-.94-.94-2.06-.94 2.06-2.06.94zm-11 1L8.5 8.5l.94-2.06 2.06-.94-2.06-.94L8.5 2.5l-.94 2.06-2.06.94zm10 10l.94 2.06.94-2.06 2.06-.94-2.06-.94-.94-2.06-.94 2.06-2.06.94z\"/><path d=\"M17.41 7.96l-1.37-1.37c-.4-.4-.92-.59-1.43-.59-.52 0-1.04.2-1.43.59L10.3 9.45l-7.72 7.72c-.78.78-.78 2.05 0 2.83L4 21.41c.39.39.9.59 1.41.59.51 0 1.02-.2 1.41-.59l7.78-7.78 2.81-2.81c.8-.78.8-2.07 0-2.86zM5.41 20L4 18.59l7.72-7.72 1.47 1.35L5.41 20z\"/>\n",
              "  </svg>\n",
              "      </button>\n",
              "      \n",
              "  <style>\n",
              "    .colab-df-container {\n",
              "      display:flex;\n",
              "      flex-wrap:wrap;\n",
              "      gap: 12px;\n",
              "    }\n",
              "\n",
              "    .colab-df-convert {\n",
              "      background-color: #E8F0FE;\n",
              "      border: none;\n",
              "      border-radius: 50%;\n",
              "      cursor: pointer;\n",
              "      display: none;\n",
              "      fill: #1967D2;\n",
              "      height: 32px;\n",
              "      padding: 0 0 0 0;\n",
              "      width: 32px;\n",
              "    }\n",
              "\n",
              "    .colab-df-convert:hover {\n",
              "      background-color: #E2EBFA;\n",
              "      box-shadow: 0px 1px 2px rgba(60, 64, 67, 0.3), 0px 1px 3px 1px rgba(60, 64, 67, 0.15);\n",
              "      fill: #174EA6;\n",
              "    }\n",
              "\n",
              "    [theme=dark] .colab-df-convert {\n",
              "      background-color: #3B4455;\n",
              "      fill: #D2E3FC;\n",
              "    }\n",
              "\n",
              "    [theme=dark] .colab-df-convert:hover {\n",
              "      background-color: #434B5C;\n",
              "      box-shadow: 0px 1px 3px 1px rgba(0, 0, 0, 0.15);\n",
              "      filter: drop-shadow(0px 1px 2px rgba(0, 0, 0, 0.3));\n",
              "      fill: #FFFFFF;\n",
              "    }\n",
              "  </style>\n",
              "\n",
              "      <script>\n",
              "        const buttonEl =\n",
              "          document.querySelector('#df-0bf187a0-8195-4fc2-958b-58cceb46dd13 button.colab-df-convert');\n",
              "        buttonEl.style.display =\n",
              "          google.colab.kernel.accessAllowed ? 'block' : 'none';\n",
              "\n",
              "        async function convertToInteractive(key) {\n",
              "          const element = document.querySelector('#df-0bf187a0-8195-4fc2-958b-58cceb46dd13');\n",
              "          const dataTable =\n",
              "            await google.colab.kernel.invokeFunction('convertToInteractive',\n",
              "                                                     [key], {});\n",
              "          if (!dataTable) return;\n",
              "\n",
              "          const docLinkHtml = 'Like what you see? Visit the ' +\n",
              "            '<a target=\"_blank\" href=https://colab.research.google.com/notebooks/data_table.ipynb>data table notebook</a>'\n",
              "            + ' to learn more about interactive tables.';\n",
              "          element.innerHTML = '';\n",
              "          dataTable['output_type'] = 'display_data';\n",
              "          await google.colab.output.renderOutput(dataTable, element);\n",
              "          const docLink = document.createElement('div');\n",
              "          docLink.innerHTML = docLinkHtml;\n",
              "          element.appendChild(docLink);\n",
              "        }\n",
              "      </script>\n",
              "    </div>\n",
              "  </div>\n",
              "  "
            ]
          },
          "metadata": {},
          "execution_count": 677
        }
      ]
    },
    {
      "cell_type": "markdown",
      "source": [
        "### Mutual Information score"
      ],
      "metadata": {
        "id": "cRjTcKDgy9TW"
      }
    },
    {
      "cell_type": "code",
      "source": [
        "mi_scores = mutual_info_classif(train[features], train[TARGET], random_state=SEED)\n",
        "\n",
        "pd.DataFrame(\n",
        "    data={'mi_score': mi_scores}, \n",
        "    index=features\n",
        ").T"
      ],
      "metadata": {
        "colab": {
          "base_uri": "https://localhost:8080/",
          "height": 145
        },
        "id": "Nq_4M5P9y6bG",
        "outputId": "ec43ad54-8cab-4af7-b768-4b44c2cafc18"
      },
      "execution_count": 676,
      "outputs": [
        {
          "output_type": "execute_result",
          "data": {
            "text/plain": [
              "          ID_COUNT  CREDIT_SCORE  ANNUAL_MILEAGE_K  SPEEDING_VIOLATIONS  \\\n",
              "mi_score     0.006           0.0            0.0033                0.002   \n",
              "\n",
              "            DUIS  PAST_ACCIDENTS  TOTAL_PAST_INCIDENTS     AGE  GENDER  \\\n",
              "mi_score  0.0014          0.0017                0.0005  0.0032  0.0065   \n",
              "\n",
              "          DRIVING_EXPERIENCE  EDUCATION  INCOME  VEHICLE_OWNERSHIP  \\\n",
              "mi_score              0.0033     0.0062  0.0065             0.0087   \n",
              "\n",
              "          VEHICLE_YEAR  MARRIED  CHILDREN  TYPE_OF_VEHICLE  IS_ID_REPEATED  \\\n",
              "mi_score        0.0008   0.0056    0.0033           0.0028             0.0   \n",
              "\n",
              "          POSTAL_CODE_REGION  ANNUAL_MILEAGE_RANGE  \\\n",
              "mi_score              0.0063                0.0093   \n",
              "\n",
              "          HAS_PRIOR_SPEEDING_VIOLATIONS  HAS_PRIOR_DUIS  HAS_PAST_ACCIDENTS  \\\n",
              "mi_score                         0.0022          0.0005              0.0018   \n",
              "\n",
              "          HAS_PAST_INCIDENTS  \n",
              "mi_score              0.0012  "
            ],
            "text/html": [
              "\n",
              "  <div id=\"df-47eefe22-d7b5-46e2-9270-c7a852f58e36\">\n",
              "    <div class=\"colab-df-container\">\n",
              "      <div>\n",
              "<style scoped>\n",
              "    .dataframe tbody tr th:only-of-type {\n",
              "        vertical-align: middle;\n",
              "    }\n",
              "\n",
              "    .dataframe tbody tr th {\n",
              "        vertical-align: top;\n",
              "    }\n",
              "\n",
              "    .dataframe thead th {\n",
              "        text-align: right;\n",
              "    }\n",
              "</style>\n",
              "<table border=\"1\" class=\"dataframe\">\n",
              "  <thead>\n",
              "    <tr style=\"text-align: right;\">\n",
              "      <th></th>\n",
              "      <th>ID_COUNT</th>\n",
              "      <th>CREDIT_SCORE</th>\n",
              "      <th>ANNUAL_MILEAGE_K</th>\n",
              "      <th>SPEEDING_VIOLATIONS</th>\n",
              "      <th>DUIS</th>\n",
              "      <th>PAST_ACCIDENTS</th>\n",
              "      <th>TOTAL_PAST_INCIDENTS</th>\n",
              "      <th>AGE</th>\n",
              "      <th>GENDER</th>\n",
              "      <th>DRIVING_EXPERIENCE</th>\n",
              "      <th>EDUCATION</th>\n",
              "      <th>INCOME</th>\n",
              "      <th>VEHICLE_OWNERSHIP</th>\n",
              "      <th>VEHICLE_YEAR</th>\n",
              "      <th>MARRIED</th>\n",
              "      <th>CHILDREN</th>\n",
              "      <th>TYPE_OF_VEHICLE</th>\n",
              "      <th>IS_ID_REPEATED</th>\n",
              "      <th>POSTAL_CODE_REGION</th>\n",
              "      <th>ANNUAL_MILEAGE_RANGE</th>\n",
              "      <th>HAS_PRIOR_SPEEDING_VIOLATIONS</th>\n",
              "      <th>HAS_PRIOR_DUIS</th>\n",
              "      <th>HAS_PAST_ACCIDENTS</th>\n",
              "      <th>HAS_PAST_INCIDENTS</th>\n",
              "    </tr>\n",
              "  </thead>\n",
              "  <tbody>\n",
              "    <tr>\n",
              "      <th>mi_score</th>\n",
              "      <td>0.006</td>\n",
              "      <td>0.0</td>\n",
              "      <td>0.0033</td>\n",
              "      <td>0.002</td>\n",
              "      <td>0.0014</td>\n",
              "      <td>0.0017</td>\n",
              "      <td>0.0005</td>\n",
              "      <td>0.0032</td>\n",
              "      <td>0.0065</td>\n",
              "      <td>0.0033</td>\n",
              "      <td>0.0062</td>\n",
              "      <td>0.0065</td>\n",
              "      <td>0.0087</td>\n",
              "      <td>0.0008</td>\n",
              "      <td>0.0056</td>\n",
              "      <td>0.0033</td>\n",
              "      <td>0.0028</td>\n",
              "      <td>0.0</td>\n",
              "      <td>0.0063</td>\n",
              "      <td>0.0093</td>\n",
              "      <td>0.0022</td>\n",
              "      <td>0.0005</td>\n",
              "      <td>0.0018</td>\n",
              "      <td>0.0012</td>\n",
              "    </tr>\n",
              "  </tbody>\n",
              "</table>\n",
              "</div>\n",
              "      <button class=\"colab-df-convert\" onclick=\"convertToInteractive('df-47eefe22-d7b5-46e2-9270-c7a852f58e36')\"\n",
              "              title=\"Convert this dataframe to an interactive table.\"\n",
              "              style=\"display:none;\">\n",
              "        \n",
              "  <svg xmlns=\"http://www.w3.org/2000/svg\" height=\"24px\"viewBox=\"0 0 24 24\"\n",
              "       width=\"24px\">\n",
              "    <path d=\"M0 0h24v24H0V0z\" fill=\"none\"/>\n",
              "    <path d=\"M18.56 5.44l.94 2.06.94-2.06 2.06-.94-2.06-.94-.94-2.06-.94 2.06-2.06.94zm-11 1L8.5 8.5l.94-2.06 2.06-.94-2.06-.94L8.5 2.5l-.94 2.06-2.06.94zm10 10l.94 2.06.94-2.06 2.06-.94-2.06-.94-.94-2.06-.94 2.06-2.06.94z\"/><path d=\"M17.41 7.96l-1.37-1.37c-.4-.4-.92-.59-1.43-.59-.52 0-1.04.2-1.43.59L10.3 9.45l-7.72 7.72c-.78.78-.78 2.05 0 2.83L4 21.41c.39.39.9.59 1.41.59.51 0 1.02-.2 1.41-.59l7.78-7.78 2.81-2.81c.8-.78.8-2.07 0-2.86zM5.41 20L4 18.59l7.72-7.72 1.47 1.35L5.41 20z\"/>\n",
              "  </svg>\n",
              "      </button>\n",
              "      \n",
              "  <style>\n",
              "    .colab-df-container {\n",
              "      display:flex;\n",
              "      flex-wrap:wrap;\n",
              "      gap: 12px;\n",
              "    }\n",
              "\n",
              "    .colab-df-convert {\n",
              "      background-color: #E8F0FE;\n",
              "      border: none;\n",
              "      border-radius: 50%;\n",
              "      cursor: pointer;\n",
              "      display: none;\n",
              "      fill: #1967D2;\n",
              "      height: 32px;\n",
              "      padding: 0 0 0 0;\n",
              "      width: 32px;\n",
              "    }\n",
              "\n",
              "    .colab-df-convert:hover {\n",
              "      background-color: #E2EBFA;\n",
              "      box-shadow: 0px 1px 2px rgba(60, 64, 67, 0.3), 0px 1px 3px 1px rgba(60, 64, 67, 0.15);\n",
              "      fill: #174EA6;\n",
              "    }\n",
              "\n",
              "    [theme=dark] .colab-df-convert {\n",
              "      background-color: #3B4455;\n",
              "      fill: #D2E3FC;\n",
              "    }\n",
              "\n",
              "    [theme=dark] .colab-df-convert:hover {\n",
              "      background-color: #434B5C;\n",
              "      box-shadow: 0px 1px 3px 1px rgba(0, 0, 0, 0.15);\n",
              "      filter: drop-shadow(0px 1px 2px rgba(0, 0, 0, 0.3));\n",
              "      fill: #FFFFFF;\n",
              "    }\n",
              "  </style>\n",
              "\n",
              "      <script>\n",
              "        const buttonEl =\n",
              "          document.querySelector('#df-47eefe22-d7b5-46e2-9270-c7a852f58e36 button.colab-df-convert');\n",
              "        buttonEl.style.display =\n",
              "          google.colab.kernel.accessAllowed ? 'block' : 'none';\n",
              "\n",
              "        async function convertToInteractive(key) {\n",
              "          const element = document.querySelector('#df-47eefe22-d7b5-46e2-9270-c7a852f58e36');\n",
              "          const dataTable =\n",
              "            await google.colab.kernel.invokeFunction('convertToInteractive',\n",
              "                                                     [key], {});\n",
              "          if (!dataTable) return;\n",
              "\n",
              "          const docLinkHtml = 'Like what you see? Visit the ' +\n",
              "            '<a target=\"_blank\" href=https://colab.research.google.com/notebooks/data_table.ipynb>data table notebook</a>'\n",
              "            + ' to learn more about interactive tables.';\n",
              "          element.innerHTML = '';\n",
              "          dataTable['output_type'] = 'display_data';\n",
              "          await google.colab.output.renderOutput(dataTable, element);\n",
              "          const docLink = document.createElement('div');\n",
              "          docLink.innerHTML = docLinkHtml;\n",
              "          element.appendChild(docLink);\n",
              "        }\n",
              "      </script>\n",
              "    </div>\n",
              "  </div>\n",
              "  "
            ]
          },
          "metadata": {},
          "execution_count": 676
        }
      ]
    },
    {
      "cell_type": "markdown",
      "source": [
        "### Feature sets"
      ],
      "metadata": {
        "id": "d8bqMzc5qcLc"
      }
    },
    {
      "cell_type": "code",
      "source": [
        "#based on F-test and Chi2-test\n",
        "reduced_features = ['GENDER', 'DRIVING_EXPERIENCE']\n",
        "\n",
        "#based on mutual information score\n",
        "mi_features = ['ID_COUNT', 'AGE', 'GENDER', 'DRIVING_EXPERIENCE', 'EDUCATION', \n",
        "               'INCOME', 'VEHICLE_OWNERSHIP', 'MARRIED', 'CHILDREN', \n",
        "               'TYPE_OF_VEHICLE', 'POSTAL_CODE_REGION', 'ANNUAL_MILEAGE_RANGE']"
      ],
      "metadata": {
        "id": "CfnKu_jWnXtK"
      },
      "execution_count": 678,
      "outputs": []
    },
    {
      "cell_type": "markdown",
      "source": [
        "# Baseline"
      ],
      "metadata": {
        "id": "KzL9pV9yr2MX"
      }
    },
    {
      "cell_type": "code",
      "source": [
        "X, y = train[features], train[TARGET]\n",
        "X_test = test[features]"
      ],
      "metadata": {
        "id": "nAZFY6YRxEVZ"
      },
      "execution_count": 690,
      "outputs": []
    },
    {
      "cell_type": "markdown",
      "source": [
        "### RandomForest"
      ],
      "metadata": {
        "id": "LDnLMBdyuLmj"
      }
    },
    {
      "cell_type": "code",
      "source": [
        "%%time\n",
        "scores = []\n",
        "test_preds_rf = {}\n",
        "\n",
        "cv = StratifiedKFold(n_splits=5, shuffle=True, random_state=SEED)\n",
        "for fold, (train_idx, val_idx) in enumerate(cv.split(X, y)):\n",
        "    X_train, y_train = X.loc[train_idx], y.iloc[train_idx]\n",
        "    X_val, y_val = X.loc[val_idx], y.iloc[val_idx]\n",
        "\n",
        "    model = RandomForestClassifier(\n",
        "        n_estimators=250, \n",
        "        criterion='entropy', \n",
        "        max_depth=7,\n",
        "        # class_weight='balanced',\n",
        "        n_jobs=-1, \n",
        "        random_state=SEED\n",
        "    )\n",
        "\n",
        "    model.fit(X_train, y_train)\n",
        "    val_probs = model.predict_proba(X_val)[:, 1]\n",
        "    test_preds_rf[f'fold{fold}'] = model.predict_proba(X_test)[:, 1]\n",
        "\n",
        "    score = log_loss(y_val, val_probs)\n",
        "    scores.append(score)\n",
        "    print(f'Fold #{fold}: Logloss = {score:.5f}')\n",
        "    _ = gc.collect()\n",
        "\n",
        "print(f'\\nAvg Logloss = {np.mean(scores):.5f} +/- {np.std(scores):.5f}\\n')\n",
        "\n",
        "test_preds_rf = pd.DataFrame.from_dict(test_preds_rf)\n",
        "test_preds_rf['mean'] = test_preds_rf.mean(axis=1)"
      ],
      "metadata": {
        "colab": {
          "base_uri": "https://localhost:8080/"
        },
        "id": "OL8koSKJsj_C",
        "outputId": "b3d1e183-3e6c-42f9-87bb-dc503b3da24c"
      },
      "execution_count": 691,
      "outputs": [
        {
          "output_type": "stream",
          "name": "stdout",
          "text": [
            "Fold #0: Logloss = 0.68089\n",
            "Fold #1: Logloss = 0.68120\n",
            "Fold #2: Logloss = 0.68108\n",
            "Fold #3: Logloss = 0.68103\n",
            "Fold #4: Logloss = 0.68102\n",
            "\n",
            "Avg Logloss = 0.68104 +/- 0.00010\n",
            "\n",
            "CPU times: user 2min 3s, sys: 1.06 s, total: 2min 4s\n",
            "Wall time: 1min 28s\n"
          ]
        }
      ]
    },
    {
      "cell_type": "markdown",
      "source": [
        "### LogisticRegression"
      ],
      "metadata": {
        "id": "0n7iOkl6uOxh"
      }
    },
    {
      "cell_type": "code",
      "source": [
        "%%time\n",
        "scores = []\n",
        "test_preds_lr = {}\n",
        "\n",
        "cv = StratifiedKFold(n_splits=5, shuffle=True, random_state=SEED)\n",
        "for fold, (train_idx, val_idx) in enumerate(cv.split(X, y)):\n",
        "    X_train, y_train = X.loc[train_idx], y.iloc[train_idx]\n",
        "    X_val, y_val = X.loc[val_idx], y.iloc[val_idx]\n",
        "\n",
        "    model = LogisticRegression(\n",
        "        C=0.1,\n",
        "        max_iter=1000, \n",
        "        # class_weight='balanced',\n",
        "        n_jobs=-1,\n",
        "        random_state=SEED\n",
        "    )\n",
        "\n",
        "    model.fit(X_train, y_train)\n",
        "    val_probs = model.predict_proba(X_val)[:, 1]\n",
        "    test_preds_lr[f'fold{fold}'] = model.predict_proba(X_test)[:, 1]\n",
        "\n",
        "    score = log_loss(y_val, val_probs)\n",
        "    scores.append(score)\n",
        "    print(f'Fold #{fold}: Logloss = {score:.5f}')\n",
        "    _ = gc.collect()\n",
        "\n",
        "print(f'\\nAvg Logloss = {np.mean(scores):.5f} +/- {np.std(scores):.5f}\\n')\n",
        "\n",
        "test_preds_lr = pd.DataFrame.from_dict(test_preds_lr)\n",
        "test_preds_lr['mean'] = test_preds_lr.mean(axis=1)"
      ],
      "metadata": {
        "colab": {
          "base_uri": "https://localhost:8080/"
        },
        "id": "4P9Kf3jst0vK",
        "outputId": "a8c42467-b50a-4161-dbaa-54efcb8a24f6"
      },
      "execution_count": 696,
      "outputs": [
        {
          "output_type": "stream",
          "name": "stdout",
          "text": [
            "Fold #0: Logloss = 0.68095\n",
            "Fold #1: Logloss = 0.68116\n",
            "Fold #2: Logloss = 0.68111\n",
            "Fold #3: Logloss = 0.68101\n",
            "Fold #4: Logloss = 0.68106\n",
            "\n",
            "Avg Logloss = 0.68106 +/- 0.00007\n",
            "\n",
            "CPU times: user 1.22 s, sys: 618 ms, total: 1.84 s\n",
            "Wall time: 13.1 s\n"
          ]
        }
      ]
    },
    {
      "cell_type": "markdown",
      "source": [
        "# Submission files"
      ],
      "metadata": {
        "id": "vYTHZUQeztzz"
      }
    },
    {
      "cell_type": "code",
      "source": [
        "NOTEBOOK = '00'\n",
        "SUBMISSION_PATH = f'/content/drive/MyDrive/data_science_competitions/machinehack/analytics_olympiad22/submissions/nb_{NOTEBOOK}'\n",
        "if not os.path.isdir(SUBMISSION_PATH):\n",
        "    os.makedirs(SUBMISSION_PATH)"
      ],
      "metadata": {
        "id": "---AQuIY02_v"
      },
      "execution_count": 699,
      "outputs": []
    },
    {
      "cell_type": "code",
      "source": [
        "def create_submission_files(test_preds, model_name):\n",
        "    for col in test_preds.columns:\n",
        "        sub = sample_sub.copy()\n",
        "        sub['OUTCOME'] = test_preds[col]\n",
        "        sub.to_csv(f'{SUBMISSION_PATH}/{model_name}_{col}.csv', index=False)\n",
        "\n",
        "    sub = sample_sub.copy()\n",
        "    sub['OUTCOME'] = test_preds['mean']\n",
        "    sub.to_csv(f'{SUBMISSION_PATH}/{model_name}_mean.csv', index=False)"
      ],
      "metadata": {
        "id": "Bmp7KqErzs-G"
      },
      "execution_count": 700,
      "outputs": []
    },
    {
      "cell_type": "code",
      "source": [
        "create_submission_files(test_preds_rf, 'rf')"
      ],
      "metadata": {
        "id": "P20XXLh_1klj"
      },
      "execution_count": 701,
      "outputs": []
    },
    {
      "cell_type": "code",
      "source": [
        "create_submission_files(test_preds_lr, 'lr')"
      ],
      "metadata": {
        "id": "ScQf8om41tUW"
      },
      "execution_count": 702,
      "outputs": []
    },
    {
      "cell_type": "markdown",
      "source": [
        "**All zeros**"
      ],
      "metadata": {
        "id": "nlqfjGwC2MB7"
      }
    },
    {
      "cell_type": "code",
      "source": [
        "sub = sample_sub.copy()\n",
        "sub['OUTCOME'] = 0\n",
        "sub.to_csv(f'{SUBMISSION_PATH}/all_zeros.csv', index=False)"
      ],
      "metadata": {
        "id": "Qeguuedx11ol"
      },
      "execution_count": 703,
      "outputs": []
    },
    {
      "cell_type": "markdown",
      "source": [
        "**All ones**"
      ],
      "metadata": {
        "id": "YSMW-7x92fp3"
      }
    },
    {
      "cell_type": "code",
      "source": [
        "sub = sample_sub.copy()\n",
        "sub['OUTCOME'] = 1\n",
        "sub.to_csv(f'{SUBMISSION_PATH}/all_ones.csv', index=False)"
      ],
      "metadata": {
        "id": "-xZoQ4712ikC"
      },
      "execution_count": 704,
      "outputs": []
    },
    {
      "cell_type": "markdown",
      "source": [
        "**Randomized replacement with inverse probabilites**"
      ],
      "metadata": {
        "id": "0AB6Se8E2sPt"
      }
    },
    {
      "cell_type": "code",
      "source": [
        "sub = sample_sub.copy()\n",
        "sub['OUTCOME'] = 0.42\n",
        "\n",
        "indices_to_replace = sub['OUTCOME'].sample(frac=0.42, random_state=SEED).index\n",
        "sub.loc[indices_to_replace, 'OUTCOME'] = 0.58\n",
        "\n",
        "sub.to_csv(f'{SUBMISSION_PATH}/random_replacement.csv', index=False)"
      ],
      "metadata": {
        "id": "2FQQjGHl2mII"
      },
      "execution_count": 710,
      "outputs": []
    }
  ]
}