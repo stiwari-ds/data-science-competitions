{
  "nbformat": 4,
  "nbformat_minor": 0,
  "metadata": {
    "colab": {
      "provenance": [],
      "authorship_tag": "ABX9TyOCZlVQ2c3/YX+DjBK/Bbfn",
      "include_colab_link": true
    },
    "kernelspec": {
      "name": "python3",
      "display_name": "Python 3"
    },
    "language_info": {
      "name": "python"
    },
    "accelerator": "GPU",
    "gpuClass": "standard"
  },
  "cells": [
    {
      "cell_type": "markdown",
      "metadata": {
        "id": "view-in-github",
        "colab_type": "text"
      },
      "source": [
        "<a href=\"https://colab.research.google.com/github/stiwari-ds/data-science-competitions/blob/main/machinehack/subscriber_prediction_hackathon/notebooks/06_xgboost_v2.ipynb\" target=\"_parent\"><img src=\"https://colab.research.google.com/assets/colab-badge.svg\" alt=\"Open In Colab\"/></a>"
      ]
    },
    {
      "cell_type": "markdown",
      "source": [
        "# Setup"
      ],
      "metadata": {
        "id": "fMe_ffy2a_ac"
      }
    },
    {
      "cell_type": "code",
      "execution_count": 1,
      "metadata": {
        "id": "wyde65PCala3"
      },
      "outputs": [],
      "source": [
        "%%capture\n",
        "!pip install --upgrade xgboost\n",
        "!pip install --upgrade optuna"
      ]
    },
    {
      "cell_type": "code",
      "source": [
        "import os\n",
        "import gc\n",
        "import time\n",
        "import warnings\n",
        "import subprocess\n",
        "\n",
        "gc.enable()\n",
        "warnings.filterwarnings('ignore')\n",
        "\n",
        "import pandas as pd\n",
        "import numpy as np\n",
        "pd.set_option('display.max_columns', None)\n",
        "pd.set_option('display.precision', 4)\n",
        "np.set_printoptions(precision=4)\n",
        "\n",
        "import optuna\n",
        "from optuna.samplers import TPESampler\n",
        "from optuna.pruners import HyperbandPruner\n",
        "\n",
        "import xgboost\n",
        "from xgboost import XGBClassifier\n",
        "\n",
        "from sklearn.model_selection import StratifiedKFold\n",
        "from sklearn.metrics import log_loss\n",
        "\n",
        "SEED = 2311\n",
        "os.environ['PYTHONHASHSEED'] = str(SEED)\n",
        "np.random.seed(SEED)"
      ],
      "metadata": {
        "id": "eKfBaXpBbBUQ"
      },
      "execution_count": 2,
      "outputs": []
    },
    {
      "cell_type": "code",
      "source": [
        "#remove cell to run future versions\n",
        "assert optuna.__version__ == '3.0.4', f'Change in Optuna version. Original notebook version: 3.0.4'\n",
        "assert xgboost.__version__ == '1.7.2', f'Change in XGBoost version. Original notebook version: 1.7.2'"
      ],
      "metadata": {
        "id": "QU6c1orQbm3A"
      },
      "execution_count": 3,
      "outputs": []
    },
    {
      "cell_type": "code",
      "source": [
        "#Check GPU availability\n",
        "try:\n",
        "    subprocess.check_output('nvidia-smi')\n",
        "    HAVE_GPU = True\n",
        "except Exception:\n",
        "    HAVE_GPU = False\n",
        "\n",
        "print(f'GPU available: {HAVE_GPU}')"
      ],
      "metadata": {
        "colab": {
          "base_uri": "https://localhost:8080/"
        },
        "id": "NBzLRr5pbr7Z",
        "outputId": "7f7a2a0f-f4da-471b-864b-7cbb7460a989"
      },
      "execution_count": 4,
      "outputs": [
        {
          "output_type": "stream",
          "name": "stdout",
          "text": [
            "GPU available: True\n"
          ]
        }
      ]
    },
    {
      "cell_type": "code",
      "source": [
        "DATA_URL = 'https://raw.githubusercontent.com/stiwari-ds/data-science-competitions/main/machinehack/subscriber_prediction_hackathon/data'\n",
        "\n",
        "train = pd.read_csv(f'{DATA_URL}/raw/train.csv')\n",
        "test = pd.read_csv(f'{DATA_URL}/raw/test.csv')\n",
        "sample_sub = pd.read_csv(f'{DATA_URL}/raw/submission.csv')"
      ],
      "metadata": {
        "id": "LOHMVhw1ZZS6"
      },
      "execution_count": 5,
      "outputs": []
    },
    {
      "cell_type": "code",
      "source": [
        "TARGET = 'y_bool'"
      ],
      "metadata": {
        "id": "KEJQopfVZppB"
      },
      "execution_count": 6,
      "outputs": []
    },
    {
      "cell_type": "code",
      "source": [
        "train = pd.get_dummies(train)\n",
        "test = pd.get_dummies(test)"
      ],
      "metadata": {
        "id": "060xSrEdqi1M"
      },
      "execution_count": 7,
      "outputs": []
    },
    {
      "cell_type": "code",
      "source": [
        "features = list(test.columns)\n",
        "num_features = ['age', 'balance', 'day', 'duration', 'campaign', 'pdays', 'previous']\n",
        "cat_features = [f for f in features if f not in num_features]"
      ],
      "metadata": {
        "id": "aA1k5D3ArrjV"
      },
      "execution_count": 8,
      "outputs": []
    },
    {
      "cell_type": "code",
      "source": [
        "train[cat_features] = train[cat_features].astype('category')\n",
        "test[cat_features] = test[cat_features].astype('category')"
      ],
      "metadata": {
        "id": "l9f17gOd08dz"
      },
      "execution_count": 9,
      "outputs": []
    },
    {
      "cell_type": "markdown",
      "source": [
        "# Baseline"
      ],
      "metadata": {
        "id": "uur7dQEjf6CY"
      }
    },
    {
      "cell_type": "code",
      "source": [
        "%%time\n",
        "scores = []\n",
        "cv = StratifiedKFold(n_splits=5, shuffle=True, random_state=SEED)\n",
        "X, y = train[features], train[TARGET]\n",
        "for fold, (train_idx, val_idx) in enumerate(cv.split(X, y)):\n",
        "    X_train, y_train = X.loc[train_idx], y.iloc[train_idx]\n",
        "    X_val, y_val = X.loc[val_idx], y.iloc[val_idx]\n",
        "\n",
        "    model = XGBClassifier(\n",
        "        objective='binary:logistic',\n",
        "        tree_method='gpu_hist' if HAVE_GPU else 'hist',\n",
        "        enable_categorical=HAVE_GPU,\n",
        "        eval_metric='logloss',\n",
        "        early_stopping_rounds=100, \n",
        "        seed=SEED\n",
        "    ) \n",
        "    model.fit(\n",
        "        X_train, y_train,\n",
        "        eval_set=[(X_val, y_val)],\n",
        "        verbose=0\n",
        "    )\n",
        "    val_preds = model.predict_proba(X_val)[:, 1]\n",
        "    score = log_loss(y_val, val_preds)\n",
        "    scores.append(score)\n",
        "    print(f'Fold #{fold}: ({model.best_iteration} rounds) Logloss = {score:.5f}')\n",
        "    _ = gc.collect()\n",
        "\n",
        "print(f'\\nAvg Logloss = {np.mean(scores):.5f} +/- {np.std(scores):.5f}\\n')"
      ],
      "metadata": {
        "colab": {
          "base_uri": "https://localhost:8080/"
        },
        "id": "OkFlWjOhf5Au",
        "outputId": "809491b6-0b24-4fa4-8bff-f641bc495de5"
      },
      "execution_count": 10,
      "outputs": [
        {
          "output_type": "stream",
          "name": "stdout",
          "text": [
            "Fold #0: (5 rounds) Logloss = 0.58282\n",
            "Fold #1: (8 rounds) Logloss = 0.58453\n",
            "Fold #2: (6 rounds) Logloss = 0.58306\n",
            "Fold #3: (8 rounds) Logloss = 0.58492\n",
            "Fold #4: (8 rounds) Logloss = 0.58129\n",
            "\n",
            "Avg Logloss = 0.58333 +/- 0.00130\n",
            "\n",
            "CPU times: user 5.01 s, sys: 724 ms, total: 5.74 s\n",
            "Wall time: 4.75 s\n"
          ]
        }
      ]
    },
    {
      "cell_type": "markdown",
      "metadata": {
        "id": "oVZEqwhQ2oi2"
      },
      "source": [
        "# Hyperparameter tuning"
      ]
    },
    {
      "cell_type": "code",
      "execution_count": 11,
      "metadata": {
        "id": "i3VeEFRe2oBe"
      },
      "outputs": [],
      "source": [
        "def objective(trial, data, model):\n",
        "\n",
        "    scores = []\n",
        "    X, y = data\n",
        "\n",
        "    param_grid = {\n",
        "        'min_child_weight': trial.suggest_int('min_child_weight', 2, 15),\n",
        "        'gamma': trial.suggest_float('gamma', 0, 15, step=0.1), #complexity-control\n",
        "        'alpha': trial.suggest_float('alpha', 0, 5, step=0.05), #L1-reg\n",
        "        'lambda': trial.suggest_float('lambda', 1e-3, 1e4, log=True), #L2-reg\n",
        "        'subsample': trial.suggest_float('subsample', 0.55, 1.0, step=0.05),\n",
        "        'colsample_bytree': trial.suggest_float('colsample_bytree', 0.55, 1.0, step=0.05),\n",
        "        'colsample_bylevel': trial.suggest_float('colsample_bylevel', 0.55, 1.0, step=0.05),\n",
        "        'colsample_bynode': trial.suggest_float('colsample_bynode', 0.55, 1.0, step=0.05),\n",
        "        # 'scale_pos_weight': trial.suggest_float('scale_pos_weight', 1, 5, step=0.05) \n",
        "    }\n",
        "\n",
        "    if model.get_xgb_params()['booster'] == 'dart':\n",
        "        param_grid['learning_rate'] = trial.suggest_float('learning_rate', 0.05, 0.25, step=0.05)\n",
        "        param_grid['max_depth'] = trial.suggest_int('max_depth', 3, 8)\n",
        "        param_grid['sample_type'] = 'weighted'\n",
        "        param_grid['normalize_type'] = 'forest'\n",
        "        param_grid['rate_drop'] = trial.suggest_float('rate_drop', 0.05, 0.2, step=0.05)\n",
        "    else:\n",
        "        param_grid['learning_rate'] = trial.suggest_float('learning_rate', 0.01, 0.1, step=0.01)\n",
        "        param_grid['max_depth'] = trial.suggest_int('max_depth', 3, 12)\n",
        "\n",
        "\n",
        "    cv = StratifiedKFold(n_splits=5, shuffle=True, random_state=SEED)\n",
        "    for fold, (train_idx, val_idx) in enumerate(cv.split(X, y)):\n",
        "        X_train, y_train = X.loc[train_idx], y.iloc[train_idx]\n",
        "        X_val, y_val = X.loc[val_idx], y.iloc[val_idx]\n",
        "        \n",
        "        model.set_params(**param_grid)\n",
        "        model.fit(\n",
        "            X_train, y_train,\n",
        "            eval_set=[(X_val, y_val)],\n",
        "            verbose=0\n",
        "        )\n",
        "        best_iter = model.best_iteration\n",
        "        val_preds = model.predict_proba(X_val, iteration_range=(0, best_iter))[:, 1]\n",
        "        scores.append(log_loss(y_val, val_preds))\n",
        "\n",
        "    return np.mean(scores)"
      ]
    },
    {
      "cell_type": "code",
      "execution_count": 12,
      "metadata": {
        "id": "7JCjxMSuT3Ep"
      },
      "outputs": [],
      "source": [
        "def tune_params(data, model, n_trials, direction):\n",
        "    study = optuna.create_study(\n",
        "        sampler=TPESampler(\n",
        "            consider_endpoints=True,\n",
        "            multivariate=True,\n",
        "            group=True,\n",
        "            seed=SEED),\n",
        "        pruner=HyperbandPruner(),\n",
        "        direction=direction\n",
        "    )\n",
        "    study.optimize(\n",
        "        func=lambda trial: objective(trial, data, model),\n",
        "        n_trials=n_trials,\n",
        "        gc_after_trial=True\n",
        "    )\n",
        "    return study"
      ]
    },
    {
      "cell_type": "markdown",
      "source": [
        "# Cross-validation"
      ],
      "metadata": {
        "id": "_IdnAvEkjxqS"
      }
    },
    {
      "cell_type": "code",
      "source": [
        "def cross_validate_predict(data, model, n_splits=5):\n",
        "    oof_preds = {}  #out-of-fold predictions on train set\n",
        "    test_preds = {} #predictions on test set for each fold\n",
        "    scores = [] #scores on validation set\n",
        "\n",
        "    X, y, X_test = data\n",
        "       \n",
        "    cv = StratifiedKFold(n_splits=n_splits, shuffle=True, random_state=SEED)\n",
        "    for fold, (train_idx, val_idx) in enumerate(cv.split(X, y)):\n",
        "        X_train, y_train = X.loc[train_idx], y.iloc[train_idx]\n",
        "        X_val, y_val = X.loc[val_idx], y.iloc[val_idx]\n",
        "        \n",
        "        model.fit(\n",
        "            X_train, y_train,\n",
        "            eval_set=[(X_val, y_val)],\n",
        "            verbose=0\n",
        "        )\n",
        "        best_iter = model.best_iteration\n",
        "        val_preds = model.predict_proba(X_val, iteration_range=(0, best_iter))[:, 1]\n",
        "        test_preds[f'fold{fold}'] = model.predict_proba(X_test, iteration_range=(0, best_iter))[:, 1]\n",
        "        oof_preds.update(dict(zip(val_idx, val_preds)))\n",
        "\n",
        "        score = log_loss(y_val, val_preds)\n",
        "        scores.append(score)\n",
        "        print(f'Fold #{fold}: ({best_iter:>3} rounds) Logloss = {score:.5f}')\n",
        "        _ = gc.collect()\n",
        "    print(f'Avg. Logloss = {np.mean(scores):.5f} +/- {np.std(scores):.5f}')\n",
        "    \n",
        "    oof_preds = pd.Series(oof_preds).sort_index()\n",
        "    test_preds = pd.DataFrame.from_dict(test_preds)\n",
        "    test_preds['mean'] = test_preds.mean(axis=1)\n",
        "\n",
        "    return oof_preds, test_preds"
      ],
      "metadata": {
        "id": "0UBSsqwvj0I2"
      },
      "execution_count": 13,
      "outputs": []
    },
    {
      "cell_type": "code",
      "source": [
        "def run_experiment(data, booster='gbtree', n_trials=10):\n",
        "    \n",
        "    X, y, X_test = data\n",
        "\n",
        "    base_params = {\n",
        "        'objective': 'binary:logistic',\n",
        "        'n_estimators': 10000,\n",
        "        'booster': booster,\n",
        "        'eval_metric': 'logloss',\n",
        "        'early_stopping_rounds': 50,\n",
        "        'tree_method': 'gpu_hist' if HAVE_GPU else 'hist',\n",
        "        'predictor': 'gpu_predictor' if HAVE_GPU else 'cpu_predictor',\n",
        "        'enable_categorical': HAVE_GPU,\n",
        "        'max_cat_to_onehot': 2,\n",
        "        'verbosity': 0,\n",
        "        'seed': SEED\n",
        "    }\n",
        "    \n",
        "    model = XGBClassifier(**base_params)\n",
        "    \n",
        "    print(f'----------Hyperparameter tuning----------')\n",
        "    start = time.time()\n",
        "    study = tune_params(\n",
        "        data=(X, y),\n",
        "        model=model,\n",
        "        n_trials=n_trials, \n",
        "        direction='minimize' #metric: logloss -> lower is better\n",
        "    )\n",
        "    end = time.time()\n",
        "    print(f'Best trial: {study.best_trial.number} -> Best value: {study.best_value:.5f}')\n",
        "    print(f'Best hyperparameters:')\n",
        "    for k, v in study.best_params.items():\n",
        "        print(f'{k:15} - {v}')\n",
        "    print(f'[Time taken: {end - start:.2f}s]\\n')\n",
        "    \n",
        "    print(f'-----Cross-validation and prediction-----')\n",
        "    start = time.time()\n",
        "    model.set_params(**study.best_params)\n",
        "    oof_preds, test_preds = cross_validate_predict(data, model)\n",
        "    end = time.time()\n",
        "    print(f'[Time taken: {end - start:.2f}s]\\n')\n",
        "\n",
        "    return oof_preds, test_preds"
      ],
      "metadata": {
        "id": "KkMeqc7EkKx-"
      },
      "execution_count": 14,
      "outputs": []
    },
    {
      "cell_type": "markdown",
      "source": [
        "**Trial run**"
      ],
      "metadata": {
        "id": "Ri22_Ef0kzB0"
      }
    },
    {
      "cell_type": "code",
      "source": [
        "optuna.logging.set_verbosity(optuna.logging.INFO)"
      ],
      "metadata": {
        "id": "1lWtr5SYk0yu"
      },
      "execution_count": 15,
      "outputs": []
    },
    {
      "cell_type": "code",
      "source": [
        "%%time\n",
        "op, tp = run_experiment(\n",
        "    data=(train[features], train[TARGET], test[features]),\n",
        "    booster='gbtree',\n",
        "    n_trials=3\n",
        ")"
      ],
      "metadata": {
        "colab": {
          "base_uri": "https://localhost:8080/"
        },
        "id": "QAPuSH6Jk4o8",
        "outputId": "11f74155-dd7e-45ee-fe7f-e0c99d1b4eb1"
      },
      "execution_count": 16,
      "outputs": [
        {
          "output_type": "stream",
          "name": "stderr",
          "text": [
            "\u001b[32m[I 2022-12-12 15:32:15,776]\u001b[0m A new study created in memory with name: no-name-204b2c81-e212-4ef3-8aa7-eebfe6395c9a\u001b[0m\n"
          ]
        },
        {
          "output_type": "stream",
          "name": "stdout",
          "text": [
            "----------Hyperparameter tuning----------\n"
          ]
        },
        {
          "output_type": "stream",
          "name": "stderr",
          "text": [
            "\u001b[32m[I 2022-12-12 15:32:20,174]\u001b[0m Trial 0 finished with value: 0.5809357155533065 and parameters: {'min_child_weight': 6, 'gamma': 12.700000000000001, 'alpha': 1.1, 'lambda': 0.011126643536944284, 'subsample': 0.55, 'colsample_bytree': 0.9000000000000001, 'colsample_bylevel': 0.55, 'colsample_bynode': 0.6000000000000001, 'learning_rate': 0.08, 'max_depth': 8}. Best is trial 0 with value: 0.5809357155533065.\u001b[0m\n",
            "\u001b[32m[I 2022-12-12 15:32:30,745]\u001b[0m Trial 1 finished with value: 0.5810115020693767 and parameters: {'min_child_weight': 2, 'gamma': 1.7000000000000002, 'alpha': 0.75, 'lambda': 620.4004036675543, 'subsample': 1.0, 'colsample_bytree': 0.8, 'colsample_bylevel': 0.6000000000000001, 'colsample_bynode': 0.8500000000000001, 'learning_rate': 0.04, 'max_depth': 9}. Best is trial 0 with value: 0.5809357155533065.\u001b[0m\n",
            "\u001b[32m[I 2022-12-12 15:32:34,880]\u001b[0m Trial 2 finished with value: 0.5808674393934863 and parameters: {'min_child_weight': 9, 'gamma': 11.600000000000001, 'alpha': 2.45, 'lambda': 0.0521731326394548, 'subsample': 0.55, 'colsample_bytree': 0.9000000000000001, 'colsample_bylevel': 0.6000000000000001, 'colsample_bynode': 0.75, 'learning_rate': 0.06999999999999999, 'max_depth': 6}. Best is trial 2 with value: 0.5808674393934863.\u001b[0m\n"
          ]
        },
        {
          "output_type": "stream",
          "name": "stdout",
          "text": [
            "Best trial: 2 -> Best value: 0.58087\n",
            "Best hyperparameters:\n",
            "min_child_weight - 9\n",
            "gamma           - 11.600000000000001\n",
            "alpha           - 2.45\n",
            "lambda          - 0.0521731326394548\n",
            "subsample       - 0.55\n",
            "colsample_bytree - 0.9000000000000001\n",
            "colsample_bylevel - 0.6000000000000001\n",
            "colsample_bynode - 0.75\n",
            "learning_rate   - 0.06999999999999999\n",
            "max_depth       - 6\n",
            "[Time taken: 19.17s]\n",
            "\n",
            "-----Cross-validation and prediction-----\n",
            "Fold #0: (308 rounds) Logloss = 0.58105\n",
            "Fold #1: (177 rounds) Logloss = 0.58075\n",
            "Fold #2: (292 rounds) Logloss = 0.57964\n",
            "Fold #3: ( 62 rounds) Logloss = 0.58140\n",
            "Fold #4: (207 rounds) Logloss = 0.58151\n",
            "Avg. Logloss = 0.58087 +/- 0.00067\n",
            "[Time taken: 4.45s]\n",
            "\n",
            "CPU times: user 24.3 s, sys: 336 ms, total: 24.7 s\n",
            "Wall time: 23.6 s\n"
          ]
        }
      ]
    },
    {
      "cell_type": "code",
      "source": [
        "%%time\n",
        "op, tp = run_experiment(\n",
        "    data=(train[features], train[TARGET], test[features]),\n",
        "    booster='dart',\n",
        "    n_trials=3\n",
        ")"
      ],
      "metadata": {
        "colab": {
          "base_uri": "https://localhost:8080/"
        },
        "id": "9qjzQEaR44ex",
        "outputId": "05f04e97-9863-4cab-b1dc-79a8e059c892"
      },
      "execution_count": 17,
      "outputs": [
        {
          "output_type": "stream",
          "name": "stderr",
          "text": [
            "\u001b[32m[I 2022-12-12 15:32:39,417]\u001b[0m A new study created in memory with name: no-name-b2abc1a8-81d1-4b29-b5ef-5c446f1a634a\u001b[0m\n"
          ]
        },
        {
          "output_type": "stream",
          "name": "stdout",
          "text": [
            "----------Hyperparameter tuning----------\n"
          ]
        },
        {
          "output_type": "stream",
          "name": "stderr",
          "text": [
            "\u001b[32m[I 2022-12-12 15:33:07,192]\u001b[0m Trial 0 finished with value: 0.5906565719559078 and parameters: {'min_child_weight': 6, 'gamma': 12.700000000000001, 'alpha': 1.1, 'lambda': 0.011126643536944284, 'subsample': 0.55, 'colsample_bytree': 0.9000000000000001, 'colsample_bylevel': 0.55, 'colsample_bynode': 0.6000000000000001, 'learning_rate': 0.2, 'max_depth': 6, 'rate_drop': 0.05}. Best is trial 0 with value: 0.5906565719559078.\u001b[0m\n",
            "\u001b[32m[I 2022-12-12 15:33:22,764]\u001b[0m Trial 1 finished with value: 0.639549139272599 and parameters: {'min_child_weight': 3, 'gamma': 2.2, 'alpha': 4.15, 'lambda': 8418.152379595756, 'subsample': 0.8, 'colsample_bytree': 0.6000000000000001, 'colsample_bylevel': 0.8500000000000001, 'colsample_bynode': 0.7000000000000001, 'learning_rate': 0.2, 'max_depth': 6, 'rate_drop': 0.2}. Best is trial 0 with value: 0.5906565719559078.\u001b[0m\n",
            "\u001b[32m[I 2022-12-12 15:33:44,437]\u001b[0m Trial 2 finished with value: 0.6034013161219302 and parameters: {'min_child_weight': 8, 'gamma': 3.7, 'alpha': 0.30000000000000004, 'lambda': 191.14816156040527, 'subsample': 0.6000000000000001, 'colsample_bytree': 0.75, 'colsample_bylevel': 0.8500000000000001, 'colsample_bynode': 0.7000000000000001, 'learning_rate': 0.2, 'max_depth': 8, 'rate_drop': 0.1}. Best is trial 0 with value: 0.5906565719559078.\u001b[0m\n"
          ]
        },
        {
          "output_type": "stream",
          "name": "stdout",
          "text": [
            "Best trial: 0 -> Best value: 0.59066\n",
            "Best hyperparameters:\n",
            "min_child_weight - 6\n",
            "gamma           - 12.700000000000001\n",
            "alpha           - 1.1\n",
            "lambda          - 0.011126643536944284\n",
            "subsample       - 0.55\n",
            "colsample_bytree - 0.9000000000000001\n",
            "colsample_bylevel - 0.55\n",
            "colsample_bynode - 0.6000000000000001\n",
            "learning_rate   - 0.2\n",
            "max_depth       - 6\n",
            "rate_drop       - 0.05\n",
            "[Time taken: 65.09s]\n",
            "\n",
            "-----Cross-validation and prediction-----\n",
            "Fold #0: ( 51 rounds) Logloss = 0.59071\n",
            "Fold #1: (111 rounds) Logloss = 0.59092\n",
            "Fold #2: ( 77 rounds) Logloss = 0.59000\n",
            "Fold #3: (111 rounds) Logloss = 0.59070\n",
            "Fold #4: (124 rounds) Logloss = 0.59096\n",
            "Avg. Logloss = 0.59066 +/- 0.00034\n",
            "[Time taken: 28.79s]\n",
            "\n",
            "CPU times: user 1min 37s, sys: 324 ms, total: 1min 37s\n",
            "Wall time: 1min 33s\n"
          ]
        }
      ]
    },
    {
      "cell_type": "markdown",
      "source": [
        "# gbtree booster"
      ],
      "metadata": {
        "id": "uNNrNAlc112c"
      }
    },
    {
      "cell_type": "code",
      "source": [
        "%%time\n",
        "op_gbtree, tp_gbtree = run_experiment(\n",
        "    data=(train[features], train[TARGET], test[features]),\n",
        "    booster='gbtree',\n",
        "    n_trials=200\n",
        ")"
      ],
      "metadata": {
        "colab": {
          "base_uri": "https://localhost:8080/"
        },
        "id": "2nXyPuU22Xyn",
        "outputId": "53bb23c6-b489-4927-e7f4-ced367bc8390"
      },
      "execution_count": 18,
      "outputs": [
        {
          "output_type": "stream",
          "name": "stderr",
          "text": [
            "\u001b[32m[I 2022-12-12 15:34:13,313]\u001b[0m A new study created in memory with name: no-name-7a9dcd0a-02d1-484a-bc30-969c88008eac\u001b[0m\n"
          ]
        },
        {
          "output_type": "stream",
          "name": "stdout",
          "text": [
            "----------Hyperparameter tuning----------\n"
          ]
        },
        {
          "output_type": "stream",
          "name": "stderr",
          "text": [
            "\u001b[32m[I 2022-12-12 15:34:17,305]\u001b[0m Trial 0 finished with value: 0.5809357155533065 and parameters: {'min_child_weight': 6, 'gamma': 12.700000000000001, 'alpha': 1.1, 'lambda': 0.011126643536944284, 'subsample': 0.55, 'colsample_bytree': 0.9000000000000001, 'colsample_bylevel': 0.55, 'colsample_bynode': 0.6000000000000001, 'learning_rate': 0.08, 'max_depth': 8}. Best is trial 0 with value: 0.5809357155533065.\u001b[0m\n",
            "\u001b[32m[I 2022-12-12 15:34:22,150]\u001b[0m Trial 1 finished with value: 0.5814723002868039 and parameters: {'min_child_weight': 2, 'gamma': 1.7000000000000002, 'alpha': 0.75, 'lambda': 620.4004036675543, 'subsample': 1.0, 'colsample_bytree': 0.8, 'colsample_bylevel': 0.6000000000000001, 'colsample_bynode': 0.8500000000000001, 'learning_rate': 0.04, 'max_depth': 9}. Best is trial 0 with value: 0.5809357155533065.\u001b[0m\n",
            "\u001b[32m[I 2022-12-12 15:34:25,990]\u001b[0m Trial 2 finished with value: 0.5808674393934863 and parameters: {'min_child_weight': 9, 'gamma': 11.600000000000001, 'alpha': 2.45, 'lambda': 0.0521731326394548, 'subsample': 0.55, 'colsample_bytree': 0.9000000000000001, 'colsample_bylevel': 0.6000000000000001, 'colsample_bynode': 0.75, 'learning_rate': 0.06999999999999999, 'max_depth': 6}. Best is trial 2 with value: 0.5808674393934863.\u001b[0m\n",
            "\u001b[32m[I 2022-12-12 15:34:29,990]\u001b[0m Trial 3 finished with value: 0.5815752879310222 and parameters: {'min_child_weight': 11, 'gamma': 13.8, 'alpha': 1.8, 'lambda': 0.9545429777741227, 'subsample': 1.0, 'colsample_bytree': 0.9000000000000001, 'colsample_bylevel': 1.0, 'colsample_bynode': 0.9500000000000001, 'learning_rate': 0.05, 'max_depth': 11}. Best is trial 2 with value: 0.5808674393934863.\u001b[0m\n",
            "\u001b[32m[I 2022-12-12 15:34:36,428]\u001b[0m Trial 4 finished with value: 0.5813172806983902 and parameters: {'min_child_weight': 15, 'gamma': 13.600000000000001, 'alpha': 4.3, 'lambda': 3986.007449682379, 'subsample': 0.9500000000000001, 'colsample_bytree': 0.9500000000000001, 'colsample_bylevel': 0.55, 'colsample_bynode': 0.55, 'learning_rate': 0.02, 'max_depth': 7}. Best is trial 2 with value: 0.5808674393934863.\u001b[0m\n",
            "\u001b[32m[I 2022-12-12 15:34:39,409]\u001b[0m Trial 5 finished with value: 0.5803859298378229 and parameters: {'min_child_weight': 8, 'gamma': 4.1000000000000005, 'alpha': 2.35, 'lambda': 46.28681978587374, 'subsample': 0.6000000000000001, 'colsample_bytree': 0.55, 'colsample_bylevel': 1.0, 'colsample_bynode': 0.55, 'learning_rate': 0.08, 'max_depth': 4}. Best is trial 5 with value: 0.5803859298378229.\u001b[0m\n",
            "\u001b[32m[I 2022-12-12 15:34:42,956]\u001b[0m Trial 6 finished with value: 0.5808027031563576 and parameters: {'min_child_weight': 6, 'gamma': 8.0, 'alpha': 0.55, 'lambda': 5240.4359438506235, 'subsample': 0.9500000000000001, 'colsample_bytree': 0.65, 'colsample_bylevel': 0.9000000000000001, 'colsample_bynode': 0.75, 'learning_rate': 0.06999999999999999, 'max_depth': 3}. Best is trial 5 with value: 0.5803859298378229.\u001b[0m\n",
            "\u001b[32m[I 2022-12-12 15:34:46,096]\u001b[0m Trial 7 finished with value: 0.5809434714884985 and parameters: {'min_child_weight': 8, 'gamma': 13.4, 'alpha': 0.35000000000000003, 'lambda': 0.07375308915192716, 'subsample': 0.6000000000000001, 'colsample_bytree': 0.9500000000000001, 'colsample_bylevel': 0.8500000000000001, 'colsample_bynode': 0.75, 'learning_rate': 0.09999999999999999, 'max_depth': 8}. Best is trial 5 with value: 0.5803859298378229.\u001b[0m\n",
            "\u001b[32m[I 2022-12-12 15:34:55,790]\u001b[0m Trial 8 finished with value: 0.5815161296285334 and parameters: {'min_child_weight': 10, 'gamma': 12.600000000000001, 'alpha': 0.8500000000000001, 'lambda': 9443.605125680133, 'subsample': 1.0, 'colsample_bytree': 0.75, 'colsample_bylevel': 0.55, 'colsample_bynode': 0.9000000000000001, 'learning_rate': 0.01, 'max_depth': 4}. Best is trial 5 with value: 0.5803859298378229.\u001b[0m\n",
            "\u001b[32m[I 2022-12-12 15:35:00,319]\u001b[0m Trial 9 finished with value: 0.580496480040607 and parameters: {'min_child_weight': 9, 'gamma': 3.3000000000000003, 'alpha': 2.9000000000000004, 'lambda': 478.46043876417195, 'subsample': 0.55, 'colsample_bytree': 0.75, 'colsample_bylevel': 0.75, 'colsample_bynode': 0.9000000000000001, 'learning_rate': 0.04, 'max_depth': 11}. Best is trial 5 with value: 0.5803859298378229.\u001b[0m\n",
            "\u001b[32m[I 2022-12-12 15:35:03,555]\u001b[0m Trial 10 finished with value: 0.5807622185214644 and parameters: {'min_child_weight': 12, 'gamma': 2.1, 'alpha': 0.8, 'lambda': 166.48451279797894, 'subsample': 0.6000000000000001, 'colsample_bytree': 0.6000000000000001, 'colsample_bylevel': 0.9000000000000001, 'colsample_bynode': 0.55, 'learning_rate': 0.09999999999999999, 'max_depth': 6}. Best is trial 5 with value: 0.5803859298378229.\u001b[0m\n",
            "\u001b[32m[I 2022-12-12 15:35:06,549]\u001b[0m Trial 11 finished with value: 0.580414704036145 and parameters: {'min_child_weight': 7, 'gamma': 2.7, 'alpha': 3.3000000000000003, 'lambda': 1038.0243198183828, 'subsample': 0.8, 'colsample_bytree': 0.65, 'colsample_bylevel': 0.9500000000000001, 'colsample_bynode': 0.6000000000000001, 'learning_rate': 0.09, 'max_depth': 3}. Best is trial 5 with value: 0.5803859298378229.\u001b[0m\n",
            "\u001b[32m[I 2022-12-12 15:35:09,658]\u001b[0m Trial 12 finished with value: 0.5804519390577362 and parameters: {'min_child_weight': 7, 'gamma': 5.5, 'alpha': 3.35, 'lambda': 4.734523398497588, 'subsample': 0.75, 'colsample_bytree': 0.65, 'colsample_bylevel': 0.8500000000000001, 'colsample_bynode': 0.65, 'learning_rate': 0.08, 'max_depth': 5}. Best is trial 5 with value: 0.5803859298378229.\u001b[0m\n",
            "\u001b[32m[I 2022-12-12 15:35:13,517]\u001b[0m Trial 13 finished with value: 0.5804108222808156 and parameters: {'min_child_weight': 6, 'gamma': 4.4, 'alpha': 3.0, 'lambda': 4657.47230225924, 'subsample': 0.6000000000000001, 'colsample_bytree': 0.55, 'colsample_bylevel': 0.75, 'colsample_bynode': 0.55, 'learning_rate': 0.060000000000000005, 'max_depth': 3}. Best is trial 5 with value: 0.5803859298378229.\u001b[0m\n",
            "\u001b[32m[I 2022-12-12 15:35:17,364]\u001b[0m Trial 14 finished with value: 0.5809256038098108 and parameters: {'min_child_weight': 12, 'gamma': 10.8, 'alpha': 3.5, 'lambda': 360.3881557123967, 'subsample': 0.55, 'colsample_bytree': 0.55, 'colsample_bylevel': 0.9000000000000001, 'colsample_bynode': 0.55, 'learning_rate': 0.060000000000000005, 'max_depth': 3}. Best is trial 5 with value: 0.5803859298378229.\u001b[0m\n",
            "\u001b[32m[I 2022-12-12 15:35:21,821]\u001b[0m Trial 15 finished with value: 0.5805145130178758 and parameters: {'min_child_weight': 2, 'gamma': 6.5, 'alpha': 2.8000000000000003, 'lambda': 5424.319311234598, 'subsample': 0.55, 'colsample_bytree': 0.65, 'colsample_bylevel': 0.9000000000000001, 'colsample_bynode': 0.55, 'learning_rate': 0.04, 'max_depth': 4}. Best is trial 5 with value: 0.5803859298378229.\u001b[0m\n",
            "\u001b[32m[I 2022-12-12 15:35:25,553]\u001b[0m Trial 16 finished with value: 0.5805083858782337 and parameters: {'min_child_weight': 5, 'gamma': 3.1, 'alpha': 4.4, 'lambda': 718.4416337181436, 'subsample': 0.75, 'colsample_bytree': 0.6000000000000001, 'colsample_bylevel': 0.65, 'colsample_bynode': 0.7000000000000001, 'learning_rate': 0.05, 'max_depth': 4}. Best is trial 5 with value: 0.5803859298378229.\u001b[0m\n",
            "\u001b[32m[I 2022-12-12 15:35:29,695]\u001b[0m Trial 17 finished with value: 0.580098444439116 and parameters: {'min_child_weight': 12, 'gamma': 3.3000000000000003, 'alpha': 2.35, 'lambda': 1974.2661128163556, 'subsample': 0.55, 'colsample_bytree': 0.6000000000000001, 'colsample_bylevel': 0.6000000000000001, 'colsample_bynode': 0.65, 'learning_rate': 0.05, 'max_depth': 5}. Best is trial 17 with value: 0.580098444439116.\u001b[0m\n",
            "\u001b[32m[I 2022-12-12 15:35:33,466]\u001b[0m Trial 18 finished with value: 0.5806453917679333 and parameters: {'min_child_weight': 12, 'gamma': 2.8000000000000003, 'alpha': 1.6, 'lambda': 1504.9263699540645, 'subsample': 0.55, 'colsample_bytree': 0.7000000000000001, 'colsample_bylevel': 0.65, 'colsample_bynode': 0.7000000000000001, 'learning_rate': 0.04, 'max_depth': 6}. Best is trial 17 with value: 0.580098444439116.\u001b[0m\n",
            "\u001b[32m[I 2022-12-12 15:35:37,141]\u001b[0m Trial 19 finished with value: 0.580375607400423 and parameters: {'min_child_weight': 6, 'gamma': 1.3, 'alpha': 2.85, 'lambda': 14.638632896980267, 'subsample': 0.65, 'colsample_bytree': 0.55, 'colsample_bylevel': 1.0, 'colsample_bynode': 0.65, 'learning_rate': 0.05, 'max_depth': 3}. Best is trial 17 with value: 0.580098444439116.\u001b[0m\n",
            "\u001b[32m[I 2022-12-12 15:35:40,408]\u001b[0m Trial 20 finished with value: 0.5802782082394475 and parameters: {'min_child_weight': 5, 'gamma': 3.9000000000000004, 'alpha': 1.7000000000000002, 'lambda': 6.446311986644754, 'subsample': 0.65, 'colsample_bytree': 0.8500000000000001, 'colsample_bylevel': 1.0, 'colsample_bynode': 0.6000000000000001, 'learning_rate': 0.060000000000000005, 'max_depth': 3}. Best is trial 17 with value: 0.580098444439116.\u001b[0m\n",
            "\u001b[32m[I 2022-12-12 15:35:43,685]\u001b[0m Trial 21 finished with value: 0.5803668485241277 and parameters: {'min_child_weight': 2, 'gamma': 7.2, 'alpha': 1.1, 'lambda': 4.0486884598249135, 'subsample': 0.75, 'colsample_bytree': 0.9500000000000001, 'colsample_bylevel': 0.9000000000000001, 'colsample_bynode': 0.65, 'learning_rate': 0.060000000000000005, 'max_depth': 5}. Best is trial 17 with value: 0.580098444439116.\u001b[0m\n",
            "\u001b[32m[I 2022-12-12 15:35:47,302]\u001b[0m Trial 22 finished with value: 0.5802050076524417 and parameters: {'min_child_weight': 7, 'gamma': 2.8000000000000003, 'alpha': 1.1, 'lambda': 0.20587119887861002, 'subsample': 0.7000000000000001, 'colsample_bytree': 0.9500000000000001, 'colsample_bylevel': 1.0, 'colsample_bynode': 0.55, 'learning_rate': 0.05, 'max_depth': 3}. Best is trial 17 with value: 0.580098444439116.\u001b[0m\n",
            "\u001b[32m[I 2022-12-12 15:35:50,595]\u001b[0m Trial 23 finished with value: 0.5805487225545305 and parameters: {'min_child_weight': 8, 'gamma': 0.5, 'alpha': 1.3, 'lambda': 5.188846470443186, 'subsample': 0.55, 'colsample_bytree': 0.9000000000000001, 'colsample_bylevel': 1.0, 'colsample_bynode': 0.6000000000000001, 'learning_rate': 0.06999999999999999, 'max_depth': 4}. Best is trial 17 with value: 0.580098444439116.\u001b[0m\n",
            "\u001b[32m[I 2022-12-12 15:35:54,866]\u001b[0m Trial 24 finished with value: 0.5808184253424405 and parameters: {'min_child_weight': 9, 'gamma': 1.6, 'alpha': 0.2, 'lambda': 0.0015467789281477904, 'subsample': 0.7000000000000001, 'colsample_bytree': 0.9000000000000001, 'colsample_bylevel': 1.0, 'colsample_bynode': 0.55, 'learning_rate': 0.04, 'max_depth': 5}. Best is trial 17 with value: 0.580098444439116.\u001b[0m\n",
            "\u001b[32m[I 2022-12-12 15:35:58,677]\u001b[0m Trial 25 finished with value: 0.5804198233818724 and parameters: {'min_child_weight': 6, 'gamma': 3.0, 'alpha': 1.6, 'lambda': 3.363067175676381, 'subsample': 0.8, 'colsample_bytree': 0.9500000000000001, 'colsample_bylevel': 0.9500000000000001, 'colsample_bynode': 0.55, 'learning_rate': 0.04, 'max_depth': 3}. Best is trial 17 with value: 0.580098444439116.\u001b[0m\n",
            "\u001b[32m[I 2022-12-12 15:36:02,029]\u001b[0m Trial 26 finished with value: 0.580733476743102 and parameters: {'min_child_weight': 4, 'gamma': 8.9, 'alpha': 2.4000000000000004, 'lambda': 0.0961635374356771, 'subsample': 0.65, 'colsample_bytree': 0.8, 'colsample_bylevel': 1.0, 'colsample_bynode': 0.55, 'learning_rate': 0.060000000000000005, 'max_depth': 4}. Best is trial 17 with value: 0.580098444439116.\u001b[0m\n",
            "\u001b[32m[I 2022-12-12 15:36:05,719]\u001b[0m Trial 27 finished with value: 0.5808155029444467 and parameters: {'min_child_weight': 15, 'gamma': 2.1, 'alpha': 4.05, 'lambda': 177.35764236692, 'subsample': 0.55, 'colsample_bytree': 0.6000000000000001, 'colsample_bylevel': 0.65, 'colsample_bynode': 0.6000000000000001, 'learning_rate': 0.060000000000000005, 'max_depth': 7}. Best is trial 17 with value: 0.580098444439116.\u001b[0m\n",
            "\u001b[32m[I 2022-12-12 15:36:09,563]\u001b[0m Trial 28 finished with value: 0.5805347941255286 and parameters: {'min_child_weight': 7, 'gamma': 3.6, 'alpha': 4.1000000000000005, 'lambda': 0.262664821472855, 'subsample': 0.7000000000000001, 'colsample_bytree': 0.9500000000000001, 'colsample_bylevel': 1.0, 'colsample_bynode': 0.8, 'learning_rate': 0.060000000000000005, 'max_depth': 4}. Best is trial 17 with value: 0.580098444439116.\u001b[0m\n",
            "\u001b[32m[I 2022-12-12 15:36:13,025]\u001b[0m Trial 29 finished with value: 0.5804137747344517 and parameters: {'min_child_weight': 9, 'gamma': 4.800000000000001, 'alpha': 0.75, 'lambda': 0.6831057869405641, 'subsample': 0.75, 'colsample_bytree': 0.9500000000000001, 'colsample_bylevel': 0.8, 'colsample_bynode': 0.65, 'learning_rate': 0.09, 'max_depth': 5}. Best is trial 17 with value: 0.580098444439116.\u001b[0m\n",
            "\u001b[32m[I 2022-12-12 15:36:16,662]\u001b[0m Trial 30 finished with value: 0.5804677318880955 and parameters: {'min_child_weight': 4, 'gamma': 7.6000000000000005, 'alpha': 0.15000000000000002, 'lambda': 29.056281970603575, 'subsample': 0.55, 'colsample_bytree': 0.8500000000000001, 'colsample_bylevel': 1.0, 'colsample_bynode': 0.6000000000000001, 'learning_rate': 0.060000000000000005, 'max_depth': 3}. Best is trial 17 with value: 0.580098444439116.\u001b[0m\n",
            "\u001b[32m[I 2022-12-12 15:36:20,729]\u001b[0m Trial 31 finished with value: 0.5802715618213018 and parameters: {'min_child_weight': 4, 'gamma': 6.0, 'alpha': 1.6, 'lambda': 22.814662349465337, 'subsample': 0.8, 'colsample_bytree': 0.9000000000000001, 'colsample_bylevel': 0.8, 'colsample_bynode': 0.8, 'learning_rate': 0.08, 'max_depth': 6}. Best is trial 17 with value: 0.580098444439116.\u001b[0m\n",
            "\u001b[32m[I 2022-12-12 15:36:23,781]\u001b[0m Trial 32 finished with value: 0.5805887380185581 and parameters: {'min_child_weight': 4, 'gamma': 3.4000000000000004, 'alpha': 1.7000000000000002, 'lambda': 60.136421477654366, 'subsample': 0.8500000000000001, 'colsample_bytree': 0.9000000000000001, 'colsample_bylevel': 0.8500000000000001, 'colsample_bynode': 0.9500000000000001, 'learning_rate': 0.08, 'max_depth': 6}. Best is trial 17 with value: 0.580098444439116.\u001b[0m\n",
            "\u001b[32m[I 2022-12-12 15:36:26,746]\u001b[0m Trial 33 finished with value: 0.5804807991044862 and parameters: {'min_child_weight': 3, 'gamma': 2.5, 'alpha': 2.2, 'lambda': 0.48932703434585045, 'subsample': 0.65, 'colsample_bytree': 0.8, 'colsample_bylevel': 0.9500000000000001, 'colsample_bynode': 0.7000000000000001, 'learning_rate': 0.08, 'max_depth': 3}. Best is trial 17 with value: 0.580098444439116.\u001b[0m\n",
            "\u001b[32m[I 2022-12-12 15:36:29,893]\u001b[0m Trial 34 finished with value: 0.580677529532285 and parameters: {'min_child_weight': 4, 'gamma': 7.2, 'alpha': 1.75, 'lambda': 106.8011544992341, 'subsample': 0.9500000000000001, 'colsample_bytree': 1.0, 'colsample_bylevel': 0.9500000000000001, 'colsample_bynode': 0.65, 'learning_rate': 0.09999999999999999, 'max_depth': 7}. Best is trial 17 with value: 0.580098444439116.\u001b[0m\n",
            "\u001b[32m[I 2022-12-12 15:36:33,668]\u001b[0m Trial 35 finished with value: 0.5803035469388678 and parameters: {'min_child_weight': 6, 'gamma': 3.1, 'alpha': 1.1, 'lambda': 16.97136550432933, 'subsample': 0.7000000000000001, 'colsample_bytree': 0.75, 'colsample_bylevel': 1.0, 'colsample_bynode': 0.6000000000000001, 'learning_rate': 0.05, 'max_depth': 4}. Best is trial 17 with value: 0.580098444439116.\u001b[0m\n",
            "\u001b[32m[I 2022-12-12 15:36:37,384]\u001b[0m Trial 36 finished with value: 0.580533766786967 and parameters: {'min_child_weight': 6, 'gamma': 7.2, 'alpha': 1.85, 'lambda': 12.259423814479225, 'subsample': 0.7000000000000001, 'colsample_bytree': 0.8500000000000001, 'colsample_bylevel': 0.8, 'colsample_bynode': 0.8500000000000001, 'learning_rate': 0.05, 'max_depth': 6}. Best is trial 17 with value: 0.580098444439116.\u001b[0m\n",
            "\u001b[32m[I 2022-12-12 15:36:41,159]\u001b[0m Trial 37 finished with value: 0.5803451400995254 and parameters: {'min_child_weight': 4, 'gamma': 2.7, 'alpha': 2.8000000000000003, 'lambda': 87.59965546554155, 'subsample': 0.55, 'colsample_bytree': 0.9000000000000001, 'colsample_bylevel': 0.9500000000000001, 'colsample_bynode': 0.7000000000000001, 'learning_rate': 0.04, 'max_depth': 3}. Best is trial 17 with value: 0.580098444439116.\u001b[0m\n",
            "\u001b[32m[I 2022-12-12 15:36:44,175]\u001b[0m Trial 38 finished with value: 0.5804171614043769 and parameters: {'min_child_weight': 5, 'gamma': 4.5, 'alpha': 1.9000000000000001, 'lambda': 4.15070545440558, 'subsample': 0.8500000000000001, 'colsample_bytree': 0.9000000000000001, 'colsample_bylevel': 0.7000000000000001, 'colsample_bynode': 0.75, 'learning_rate': 0.08, 'max_depth': 8}. Best is trial 17 with value: 0.580098444439116.\u001b[0m\n",
            "\u001b[32m[I 2022-12-12 15:36:50,204]\u001b[0m Trial 39 finished with value: 0.5803712352712949 and parameters: {'min_child_weight': 9, 'gamma': 2.5, 'alpha': 3.75, 'lambda': 331.5711348700125, 'subsample': 0.6000000000000001, 'colsample_bytree': 0.65, 'colsample_bylevel': 0.55, 'colsample_bynode': 0.55, 'learning_rate': 0.02, 'max_depth': 6}. Best is trial 17 with value: 0.580098444439116.\u001b[0m\n",
            "\u001b[32m[I 2022-12-12 15:36:53,387]\u001b[0m Trial 40 finished with value: 0.5806912785662072 and parameters: {'min_child_weight': 3, 'gamma': 10.200000000000001, 'alpha': 1.5, 'lambda': 4413.760924244196, 'subsample': 0.65, 'colsample_bytree': 0.9500000000000001, 'colsample_bylevel': 0.8, 'colsample_bynode': 0.8500000000000001, 'learning_rate': 0.09999999999999999, 'max_depth': 7}. Best is trial 17 with value: 0.580098444439116.\u001b[0m\n",
            "\u001b[32m[I 2022-12-12 15:36:57,087]\u001b[0m Trial 41 finished with value: 0.5805203890757901 and parameters: {'min_child_weight': 6, 'gamma': 0.4, 'alpha': 0.7000000000000001, 'lambda': 5.581694684841553, 'subsample': 0.7000000000000001, 'colsample_bytree': 0.75, 'colsample_bylevel': 1.0, 'colsample_bynode': 0.65, 'learning_rate': 0.05, 'max_depth': 3}. Best is trial 17 with value: 0.580098444439116.\u001b[0m\n",
            "\u001b[32m[I 2022-12-12 15:37:00,175]\u001b[0m Trial 42 finished with value: 0.5804207411486478 and parameters: {'min_child_weight': 4, 'gamma': 4.2, 'alpha': 1.25, 'lambda': 67.58388509561676, 'subsample': 0.65, 'colsample_bytree': 0.7000000000000001, 'colsample_bylevel': 1.0, 'colsample_bynode': 0.55, 'learning_rate': 0.060000000000000005, 'max_depth': 6}. Best is trial 17 with value: 0.580098444439116.\u001b[0m\n",
            "\u001b[32m[I 2022-12-12 15:37:04,047]\u001b[0m Trial 43 finished with value: 0.5807063516073283 and parameters: {'min_child_weight': 11, 'gamma': 6.2, 'alpha': 2.95, 'lambda': 9942.10806919607, 'subsample': 0.65, 'colsample_bytree': 0.55, 'colsample_bylevel': 0.6000000000000001, 'colsample_bynode': 0.65, 'learning_rate': 0.05, 'max_depth': 7}. Best is trial 17 with value: 0.580098444439116.\u001b[0m\n",
            "\u001b[32m[I 2022-12-12 15:37:07,423]\u001b[0m Trial 44 finished with value: 0.5807876565016452 and parameters: {'min_child_weight': 10, 'gamma': 0.30000000000000004, 'alpha': 0.25, 'lambda': 2.06585859480587, 'subsample': 0.8, 'colsample_bytree': 0.9500000000000001, 'colsample_bylevel': 1.0, 'colsample_bynode': 0.55, 'learning_rate': 0.06999999999999999, 'max_depth': 4}. Best is trial 17 with value: 0.580098444439116.\u001b[0m\n",
            "\u001b[32m[I 2022-12-12 15:37:10,647]\u001b[0m Trial 45 finished with value: 0.5803849118167446 and parameters: {'min_child_weight': 15, 'gamma': 4.2, 'alpha': 1.55, 'lambda': 4.06996263991557, 'subsample': 0.6000000000000001, 'colsample_bytree': 0.6000000000000001, 'colsample_bylevel': 0.65, 'colsample_bynode': 0.7000000000000001, 'learning_rate': 0.06999999999999999, 'max_depth': 6}. Best is trial 17 with value: 0.580098444439116.\u001b[0m\n",
            "\u001b[32m[I 2022-12-12 15:37:14,125]\u001b[0m Trial 46 finished with value: 0.5802918228201923 and parameters: {'min_child_weight': 5, 'gamma': 2.2, 'alpha': 0.45, 'lambda': 9.854065922493138, 'subsample': 0.8500000000000001, 'colsample_bytree': 0.8, 'colsample_bylevel': 0.7000000000000001, 'colsample_bynode': 0.8500000000000001, 'learning_rate': 0.060000000000000005, 'max_depth': 3}. Best is trial 17 with value: 0.580098444439116.\u001b[0m\n",
            "\u001b[32m[I 2022-12-12 15:37:17,284]\u001b[0m Trial 47 finished with value: 0.5803315019359191 and parameters: {'min_child_weight': 8, 'gamma': 3.7, 'alpha': 0.8500000000000001, 'lambda': 295.08892511749787, 'subsample': 0.8, 'colsample_bytree': 0.7000000000000001, 'colsample_bylevel': 0.65, 'colsample_bynode': 0.9500000000000001, 'learning_rate': 0.08, 'max_depth': 5}. Best is trial 17 with value: 0.580098444439116.\u001b[0m\n",
            "\u001b[32m[I 2022-12-12 15:37:20,663]\u001b[0m Trial 48 finished with value: 0.5806220111705007 and parameters: {'min_child_weight': 3, 'gamma': 6.5, 'alpha': 0.30000000000000004, 'lambda': 2.5968796116336463, 'subsample': 0.8, 'colsample_bytree': 0.8, 'colsample_bylevel': 0.6000000000000001, 'colsample_bynode': 0.9000000000000001, 'learning_rate': 0.060000000000000005, 'max_depth': 3}. Best is trial 17 with value: 0.580098444439116.\u001b[0m\n",
            "\u001b[32m[I 2022-12-12 15:37:23,942]\u001b[0m Trial 49 finished with value: 0.5803541524772133 and parameters: {'min_child_weight': 3, 'gamma': 2.3000000000000003, 'alpha': 1.7000000000000002, 'lambda': 1.4964606451054123, 'subsample': 0.9500000000000001, 'colsample_bytree': 0.8, 'colsample_bylevel': 0.8, 'colsample_bynode': 0.8, 'learning_rate': 0.060000000000000005, 'max_depth': 3}. Best is trial 17 with value: 0.580098444439116.\u001b[0m\n",
            "\u001b[32m[I 2022-12-12 15:37:29,152]\u001b[0m Trial 50 finished with value: 0.580453822913624 and parameters: {'min_child_weight': 8, 'gamma': 1.2000000000000002, 'alpha': 0.05, 'lambda': 0.17666539571107517, 'subsample': 0.8, 'colsample_bytree': 0.8, 'colsample_bylevel': 0.75, 'colsample_bynode': 0.8500000000000001, 'learning_rate': 0.02, 'max_depth': 3}. Best is trial 17 with value: 0.580098444439116.\u001b[0m\n",
            "\u001b[32m[I 2022-12-12 15:37:32,291]\u001b[0m Trial 51 finished with value: 0.5802291697661082 and parameters: {'min_child_weight': 5, 'gamma': 0.6000000000000001, 'alpha': 0.30000000000000004, 'lambda': 83.29486710180059, 'subsample': 0.9000000000000001, 'colsample_bytree': 0.8, 'colsample_bylevel': 0.8, 'colsample_bynode': 0.8500000000000001, 'learning_rate': 0.06999999999999999, 'max_depth': 3}. Best is trial 17 with value: 0.580098444439116.\u001b[0m\n",
            "\u001b[32m[I 2022-12-12 15:37:35,154]\u001b[0m Trial 52 finished with value: 0.580536978608086 and parameters: {'min_child_weight': 2, 'gamma': 5.300000000000001, 'alpha': 2.3000000000000003, 'lambda': 27.34638544890017, 'subsample': 0.75, 'colsample_bytree': 0.8500000000000001, 'colsample_bylevel': 0.75, 'colsample_bynode': 0.75, 'learning_rate': 0.09999999999999999, 'max_depth': 4}. Best is trial 17 with value: 0.580098444439116.\u001b[0m\n",
            "\u001b[32m[I 2022-12-12 15:37:38,596]\u001b[0m Trial 53 finished with value: 0.5806395221558355 and parameters: {'min_child_weight': 4, 'gamma': 0.0, 'alpha': 0.15000000000000002, 'lambda': 9.094114638544802, 'subsample': 0.8500000000000001, 'colsample_bytree': 0.65, 'colsample_bylevel': 0.9500000000000001, 'colsample_bynode': 0.9500000000000001, 'learning_rate': 0.06999999999999999, 'max_depth': 4}. Best is trial 17 with value: 0.580098444439116.\u001b[0m\n",
            "\u001b[32m[I 2022-12-12 15:37:41,628]\u001b[0m Trial 54 finished with value: 0.5803981264999936 and parameters: {'min_child_weight': 5, 'gamma': 0.5, 'alpha': 0.35000000000000003, 'lambda': 115.57201160397612, 'subsample': 0.8500000000000001, 'colsample_bytree': 0.8500000000000001, 'colsample_bylevel': 0.7000000000000001, 'colsample_bynode': 0.9000000000000001, 'learning_rate': 0.06999999999999999, 'max_depth': 3}. Best is trial 17 with value: 0.580098444439116.\u001b[0m\n",
            "\u001b[32m[I 2022-12-12 15:37:45,094]\u001b[0m Trial 55 finished with value: 0.580527458172469 and parameters: {'min_child_weight': 14, 'gamma': 1.8, 'alpha': 1.9500000000000002, 'lambda': 2257.965480643363, 'subsample': 0.65, 'colsample_bytree': 0.6000000000000001, 'colsample_bylevel': 0.55, 'colsample_bynode': 0.75, 'learning_rate': 0.060000000000000005, 'max_depth': 3}. Best is trial 17 with value: 0.580098444439116.\u001b[0m\n",
            "\u001b[32m[I 2022-12-12 15:37:49,439]\u001b[0m Trial 56 finished with value: 0.5802619446856636 and parameters: {'min_child_weight': 7, 'gamma': 2.8000000000000003, 'alpha': 0.75, 'lambda': 77.55588533361272, 'subsample': 0.9000000000000001, 'colsample_bytree': 0.75, 'colsample_bylevel': 0.55, 'colsample_bynode': 0.8, 'learning_rate': 0.04, 'max_depth': 3}. Best is trial 17 with value: 0.580098444439116.\u001b[0m\n",
            "\u001b[32m[I 2022-12-12 15:37:54,866]\u001b[0m Trial 57 finished with value: 0.580383847973886 and parameters: {'min_child_weight': 9, 'gamma': 4.7, 'alpha': 0.9, 'lambda': 330.8542290863829, 'subsample': 0.75, 'colsample_bytree': 0.9000000000000001, 'colsample_bylevel': 0.65, 'colsample_bynode': 0.8, 'learning_rate': 0.02, 'max_depth': 5}. Best is trial 17 with value: 0.580098444439116.\u001b[0m\n",
            "\u001b[32m[I 2022-12-12 15:37:58,869]\u001b[0m Trial 58 finished with value: 0.5806778045495351 and parameters: {'min_child_weight': 5, 'gamma': 1.8, 'alpha': 0.2, 'lambda': 8770.243051826197, 'subsample': 0.9500000000000001, 'colsample_bytree': 0.8500000000000001, 'colsample_bylevel': 0.9000000000000001, 'colsample_bynode': 0.8, 'learning_rate': 0.04, 'max_depth': 5}. Best is trial 17 with value: 0.580098444439116.\u001b[0m\n",
            "\u001b[32m[I 2022-12-12 15:38:02,212]\u001b[0m Trial 59 finished with value: 0.5803564221922841 and parameters: {'min_child_weight': 10, 'gamma': 2.3000000000000003, 'alpha': 1.5, 'lambda': 108.74358055995894, 'subsample': 0.8, 'colsample_bytree': 0.8, 'colsample_bylevel': 0.55, 'colsample_bynode': 0.75, 'learning_rate': 0.05, 'max_depth': 3}. Best is trial 17 with value: 0.580098444439116.\u001b[0m\n",
            "\u001b[32m[I 2022-12-12 15:38:07,222]\u001b[0m Trial 60 finished with value: 0.5807475680701789 and parameters: {'min_child_weight': 9, 'gamma': 5.800000000000001, 'alpha': 0.4, 'lambda': 15.593079911934698, 'subsample': 1.0, 'colsample_bytree': 0.6000000000000001, 'colsample_bylevel': 0.7000000000000001, 'colsample_bynode': 0.7000000000000001, 'learning_rate': 0.03, 'max_depth': 3}. Best is trial 17 with value: 0.580098444439116.\u001b[0m\n",
            "\u001b[32m[I 2022-12-12 15:38:10,672]\u001b[0m Trial 61 finished with value: 0.5805129735540776 and parameters: {'min_child_weight': 6, 'gamma': 1.7000000000000002, 'alpha': 2.1, 'lambda': 25.84812983645404, 'subsample': 1.0, 'colsample_bytree': 0.75, 'colsample_bylevel': 0.55, 'colsample_bynode': 0.9000000000000001, 'learning_rate': 0.060000000000000005, 'max_depth': 4}. Best is trial 17 with value: 0.580098444439116.\u001b[0m\n",
            "\u001b[32m[I 2022-12-12 15:38:15,990]\u001b[0m Trial 62 finished with value: 0.5803718779072875 and parameters: {'min_child_weight': 6, 'gamma': 1.3, 'alpha': 1.55, 'lambda': 5543.481557949757, 'subsample': 0.9500000000000001, 'colsample_bytree': 0.65, 'colsample_bylevel': 0.6000000000000001, 'colsample_bynode': 0.9000000000000001, 'learning_rate': 0.02, 'max_depth': 3}. Best is trial 17 with value: 0.580098444439116.\u001b[0m\n",
            "\u001b[32m[I 2022-12-12 15:38:19,908]\u001b[0m Trial 63 finished with value: 0.580621875247785 and parameters: {'min_child_weight': 5, 'gamma': 6.0, 'alpha': 0.4, 'lambda': 101.21680679054082, 'subsample': 0.8500000000000001, 'colsample_bytree': 0.65, 'colsample_bylevel': 0.6000000000000001, 'colsample_bynode': 0.7000000000000001, 'learning_rate': 0.05, 'max_depth': 3}. Best is trial 17 with value: 0.580098444439116.\u001b[0m\n",
            "\u001b[32m[I 2022-12-12 15:38:24,398]\u001b[0m Trial 64 finished with value: 0.580542241547789 and parameters: {'min_child_weight': 13, 'gamma': 2.4000000000000004, 'alpha': 1.0, 'lambda': 3813.3053380638216, 'subsample': 0.55, 'colsample_bytree': 0.6000000000000001, 'colsample_bylevel': 0.6000000000000001, 'colsample_bynode': 0.6000000000000001, 'learning_rate': 0.03, 'max_depth': 4}. Best is trial 17 with value: 0.580098444439116.\u001b[0m\n",
            "\u001b[32m[I 2022-12-12 15:38:27,679]\u001b[0m Trial 65 finished with value: 0.5809407740639789 and parameters: {'min_child_weight': 6, 'gamma': 2.2, 'alpha': 0.8500000000000001, 'lambda': 6.432011393164766, 'subsample': 1.0, 'colsample_bytree': 0.75, 'colsample_bylevel': 0.8, 'colsample_bynode': 0.8, 'learning_rate': 0.09, 'max_depth': 5}. Best is trial 17 with value: 0.580098444439116.\u001b[0m\n",
            "\u001b[32m[I 2022-12-12 15:38:30,912]\u001b[0m Trial 66 finished with value: 0.5805642451054993 and parameters: {'min_child_weight': 5, 'gamma': 1.1, 'alpha': 0.9, 'lambda': 3857.8164660287766, 'subsample': 0.8500000000000001, 'colsample_bytree': 0.8500000000000001, 'colsample_bylevel': 0.8, 'colsample_bynode': 0.75, 'learning_rate': 0.09, 'max_depth': 4}. Best is trial 17 with value: 0.580098444439116.\u001b[0m\n",
            "\u001b[32m[I 2022-12-12 15:38:33,969]\u001b[0m Trial 67 finished with value: 0.5803508504423357 and parameters: {'min_child_weight': 8, 'gamma': 3.0, 'alpha': 0.25, 'lambda': 9.982405535494205, 'subsample': 0.9500000000000001, 'colsample_bytree': 0.75, 'colsample_bylevel': 0.7000000000000001, 'colsample_bynode': 0.8500000000000001, 'learning_rate': 0.06999999999999999, 'max_depth': 3}. Best is trial 17 with value: 0.580098444439116.\u001b[0m\n",
            "\u001b[32m[I 2022-12-12 15:38:37,211]\u001b[0m Trial 68 finished with value: 0.5805119293388866 and parameters: {'min_child_weight': 6, 'gamma': 0.1, 'alpha': 2.1, 'lambda': 0.014842175762462224, 'subsample': 0.7000000000000001, 'colsample_bytree': 1.0, 'colsample_bylevel': 1.0, 'colsample_bynode': 0.6000000000000001, 'learning_rate': 0.060000000000000005, 'max_depth': 3}. Best is trial 17 with value: 0.580098444439116.\u001b[0m\n",
            "\u001b[32m[I 2022-12-12 15:38:40,431]\u001b[0m Trial 69 finished with value: 0.580236053346878 and parameters: {'min_child_weight': 6, 'gamma': 1.3, 'alpha': 0.25, 'lambda': 0.4235353914384077, 'subsample': 0.9000000000000001, 'colsample_bytree': 0.8500000000000001, 'colsample_bylevel': 0.8500000000000001, 'colsample_bynode': 0.8500000000000001, 'learning_rate': 0.06999999999999999, 'max_depth': 3}. Best is trial 17 with value: 0.580098444439116.\u001b[0m\n",
            "\u001b[32m[I 2022-12-12 15:38:43,692]\u001b[0m Trial 70 finished with value: 0.5812768835652442 and parameters: {'min_child_weight': 7, 'gamma': 1.4000000000000001, 'alpha': 1.4500000000000002, 'lambda': 0.013109529709880456, 'subsample': 0.8500000000000001, 'colsample_bytree': 0.9000000000000001, 'colsample_bylevel': 0.8, 'colsample_bynode': 0.9000000000000001, 'learning_rate': 0.09, 'max_depth': 5}. Best is trial 17 with value: 0.580098444439116.\u001b[0m\n",
            "\u001b[32m[I 2022-12-12 15:38:48,537]\u001b[0m Trial 71 finished with value: 0.5812888051583653 and parameters: {'min_child_weight': 7, 'gamma': 1.1, 'alpha': 0.65, 'lambda': 2.280247319795606, 'subsample': 0.8500000000000001, 'colsample_bytree': 0.9000000000000001, 'colsample_bylevel': 0.9500000000000001, 'colsample_bynode': 0.9000000000000001, 'learning_rate': 0.04, 'max_depth': 6}. Best is trial 17 with value: 0.580098444439116.\u001b[0m\n",
            "\u001b[32m[I 2022-12-12 15:38:51,498]\u001b[0m Trial 72 finished with value: 0.5802043190279178 and parameters: {'min_child_weight': 6, 'gamma': 2.4000000000000004, 'alpha': 0.55, 'lambda': 0.10540986527701264, 'subsample': 0.9500000000000001, 'colsample_bytree': 0.75, 'colsample_bylevel': 0.9500000000000001, 'colsample_bynode': 0.8500000000000001, 'learning_rate': 0.09, 'max_depth': 3}. Best is trial 17 with value: 0.580098444439116.\u001b[0m\n",
            "\u001b[32m[I 2022-12-12 15:38:54,862]\u001b[0m Trial 73 finished with value: 0.5803514732150805 and parameters: {'min_child_weight': 7, 'gamma': 4.5, 'alpha': 0.05, 'lambda': 0.3117366902791879, 'subsample': 0.8500000000000001, 'colsample_bytree': 0.8, 'colsample_bylevel': 0.9500000000000001, 'colsample_bynode': 0.8500000000000001, 'learning_rate': 0.060000000000000005, 'max_depth': 4}. Best is trial 17 with value: 0.580098444439116.\u001b[0m\n",
            "\u001b[32m[I 2022-12-12 15:38:58,171]\u001b[0m Trial 74 finished with value: 0.5802918689641214 and parameters: {'min_child_weight': 2, 'gamma': 4.6000000000000005, 'alpha': 1.7000000000000002, 'lambda': 0.0124520111554493, 'subsample': 0.9000000000000001, 'colsample_bytree': 0.7000000000000001, 'colsample_bylevel': 1.0, 'colsample_bynode': 0.9500000000000001, 'learning_rate': 0.09, 'max_depth': 4}. Best is trial 17 with value: 0.580098444439116.\u001b[0m\n",
            "\u001b[32m[I 2022-12-12 15:39:01,135]\u001b[0m Trial 75 finished with value: 0.5803610897376423 and parameters: {'min_child_weight': 6, 'gamma': 0.8, 'alpha': 1.85, 'lambda': 0.0012042760715718854, 'subsample': 1.0, 'colsample_bytree': 0.8, 'colsample_bylevel': 0.9000000000000001, 'colsample_bynode': 0.8500000000000001, 'learning_rate': 0.09999999999999999, 'max_depth': 3}. Best is trial 17 with value: 0.580098444439116.\u001b[0m\n",
            "\u001b[32m[I 2022-12-12 15:39:04,568]\u001b[0m Trial 76 finished with value: 0.5807361392797459 and parameters: {'min_child_weight': 3, 'gamma': 2.0, 'alpha': 0.2, 'lambda': 4.02492904455382, 'subsample': 0.9500000000000001, 'colsample_bytree': 0.9500000000000001, 'colsample_bylevel': 0.9000000000000001, 'colsample_bynode': 0.8, 'learning_rate': 0.08, 'max_depth': 5}. Best is trial 17 with value: 0.580098444439116.\u001b[0m\n",
            "\u001b[32m[I 2022-12-12 15:39:09,085]\u001b[0m Trial 77 finished with value: 0.5802535359057643 and parameters: {'min_child_weight': 7, 'gamma': 1.2000000000000002, 'alpha': 0.8500000000000001, 'lambda': 291.22247559348256, 'subsample': 0.9500000000000001, 'colsample_bytree': 0.8500000000000001, 'colsample_bylevel': 0.55, 'colsample_bynode': 0.8500000000000001, 'learning_rate': 0.03, 'max_depth': 3}. Best is trial 17 with value: 0.580098444439116.\u001b[0m\n",
            "\u001b[32m[I 2022-12-12 15:39:11,973]\u001b[0m Trial 78 finished with value: 0.5805943409786337 and parameters: {'min_child_weight': 7, 'gamma': 6.0, 'alpha': 1.75, 'lambda': 0.36979979159264925, 'subsample': 0.9500000000000001, 'colsample_bytree': 0.7000000000000001, 'colsample_bylevel': 0.8500000000000001, 'colsample_bynode': 0.9000000000000001, 'learning_rate': 0.09999999999999999, 'max_depth': 3}. Best is trial 17 with value: 0.580098444439116.\u001b[0m\n",
            "\u001b[32m[I 2022-12-12 15:39:16,025]\u001b[0m Trial 79 finished with value: 0.5808319457882927 and parameters: {'min_child_weight': 8, 'gamma': 6.6000000000000005, 'alpha': 1.25, 'lambda': 10.571762767155738, 'subsample': 1.0, 'colsample_bytree': 1.0, 'colsample_bylevel': 0.55, 'colsample_bynode': 0.9500000000000001, 'learning_rate': 0.05, 'max_depth': 5}. Best is trial 17 with value: 0.580098444439116.\u001b[0m\n",
            "\u001b[32m[I 2022-12-12 15:39:36,156]\u001b[0m Trial 80 finished with value: 0.5803227478613456 and parameters: {'min_child_weight': 5, 'gamma': 2.6, 'alpha': 0.6000000000000001, 'lambda': 2.0874645322485517, 'subsample': 1.0, 'colsample_bytree': 0.9500000000000001, 'colsample_bylevel': 0.55, 'colsample_bynode': 0.8, 'learning_rate': 0.03, 'max_depth': 4}. Best is trial 17 with value: 0.580098444439116.\u001b[0m\n",
            "\u001b[32m[I 2022-12-12 15:40:02,183]\u001b[0m Trial 81 finished with value: 0.5805281625453914 and parameters: {'min_child_weight': 5, 'gamma': 3.1, 'alpha': 2.1, 'lambda': 1199.428318018517, 'subsample': 1.0, 'colsample_bytree': 1.0, 'colsample_bylevel': 0.55, 'colsample_bynode': 0.8, 'learning_rate': 0.02, 'max_depth': 3}. Best is trial 17 with value: 0.580098444439116.\u001b[0m\n",
            "\u001b[32m[I 2022-12-12 15:40:08,371]\u001b[0m Trial 82 finished with value: 0.5808726086439121 and parameters: {'min_child_weight': 11, 'gamma': 0.0, 'alpha': 0.65, 'lambda': 8.747182148426333, 'subsample': 0.9500000000000001, 'colsample_bytree': 0.8, 'colsample_bylevel': 0.55, 'colsample_bynode': 0.9500000000000001, 'learning_rate': 0.02, 'max_depth': 5}. Best is trial 17 with value: 0.580098444439116.\u001b[0m\n",
            "\u001b[32m[I 2022-12-12 15:40:12,367]\u001b[0m Trial 83 finished with value: 0.5802841665787356 and parameters: {'min_child_weight': 9, 'gamma': 0.2, 'alpha': 0.6000000000000001, 'lambda': 264.33621366671844, 'subsample': 0.9500000000000001, 'colsample_bytree': 0.9500000000000001, 'colsample_bylevel': 0.6000000000000001, 'colsample_bynode': 0.9000000000000001, 'learning_rate': 0.04, 'max_depth': 3}. Best is trial 17 with value: 0.580098444439116.\u001b[0m\n",
            "\u001b[32m[I 2022-12-12 15:40:17,543]\u001b[0m Trial 84 finished with value: 0.580302290867482 and parameters: {'min_child_weight': 6, 'gamma': 1.4000000000000001, 'alpha': 1.5, 'lambda': 946.5429002964825, 'subsample': 0.9000000000000001, 'colsample_bytree': 0.8500000000000001, 'colsample_bylevel': 0.6000000000000001, 'colsample_bynode': 0.7000000000000001, 'learning_rate': 0.02, 'max_depth': 3}. Best is trial 17 with value: 0.580098444439116.\u001b[0m\n",
            "\u001b[32m[I 2022-12-12 15:40:21,662]\u001b[0m Trial 85 finished with value: 0.5808129583944877 and parameters: {'min_child_weight': 7, 'gamma': 7.9, 'alpha': 0.30000000000000004, 'lambda': 62.902993522243264, 'subsample': 0.9000000000000001, 'colsample_bytree': 0.7000000000000001, 'colsample_bylevel': 0.55, 'colsample_bynode': 0.9500000000000001, 'learning_rate': 0.03, 'max_depth': 6}. Best is trial 17 with value: 0.580098444439116.\u001b[0m\n",
            "\u001b[32m[I 2022-12-12 15:40:24,847]\u001b[0m Trial 86 finished with value: 0.5804616071432829 and parameters: {'min_child_weight': 5, 'gamma': 1.7000000000000002, 'alpha': 0.4, 'lambda': 0.7914664200683311, 'subsample': 0.9500000000000001, 'colsample_bytree': 0.8500000000000001, 'colsample_bylevel': 0.8500000000000001, 'colsample_bynode': 0.9000000000000001, 'learning_rate': 0.06999999999999999, 'max_depth': 3}. Best is trial 17 with value: 0.580098444439116.\u001b[0m\n",
            "\u001b[32m[I 2022-12-12 15:40:28,795]\u001b[0m Trial 87 finished with value: 0.5803945629362548 and parameters: {'min_child_weight': 7, 'gamma': 6.0, 'alpha': 0.2, 'lambda': 0.0353217854342488, 'subsample': 0.75, 'colsample_bytree': 0.9500000000000001, 'colsample_bylevel': 1.0, 'colsample_bynode': 0.6000000000000001, 'learning_rate': 0.04, 'max_depth': 3}. Best is trial 17 with value: 0.580098444439116.\u001b[0m\n",
            "\u001b[32m[I 2022-12-12 15:40:32,701]\u001b[0m Trial 88 finished with value: 0.5805190488412266 and parameters: {'min_child_weight': 7, 'gamma': 2.5, 'alpha': 0.5, 'lambda': 5933.213514036699, 'subsample': 1.0, 'colsample_bytree': 0.75, 'colsample_bylevel': 0.55, 'colsample_bynode': 0.8, 'learning_rate': 0.05, 'max_depth': 4}. Best is trial 17 with value: 0.580098444439116.\u001b[0m\n",
            "\u001b[32m[I 2022-12-12 15:40:36,372]\u001b[0m Trial 89 finished with value: 0.5807985752267497 and parameters: {'min_child_weight': 10, 'gamma': 8.1, 'alpha': 1.85, 'lambda': 19.3533970830047, 'subsample': 0.55, 'colsample_bytree': 0.7000000000000001, 'colsample_bylevel': 0.7000000000000001, 'colsample_bynode': 0.55, 'learning_rate': 0.05, 'max_depth': 5}. Best is trial 17 with value: 0.580098444439116.\u001b[0m\n",
            "\u001b[32m[I 2022-12-12 15:40:39,643]\u001b[0m Trial 90 finished with value: 0.5803431912312905 and parameters: {'min_child_weight': 9, 'gamma': 4.6000000000000005, 'alpha': 1.4000000000000001, 'lambda': 0.8317602860752061, 'subsample': 0.6000000000000001, 'colsample_bytree': 1.0, 'colsample_bylevel': 0.9000000000000001, 'colsample_bynode': 0.6000000000000001, 'learning_rate': 0.060000000000000005, 'max_depth': 3}. Best is trial 17 with value: 0.580098444439116.\u001b[0m\n",
            "\u001b[32m[I 2022-12-12 15:40:43,785]\u001b[0m Trial 91 finished with value: 0.5804557926598048 and parameters: {'min_child_weight': 7, 'gamma': 1.9000000000000001, 'alpha': 0.05, 'lambda': 325.6758902080842, 'subsample': 0.8, 'colsample_bytree': 0.9500000000000001, 'colsample_bylevel': 0.55, 'colsample_bynode': 0.9000000000000001, 'learning_rate': 0.03, 'max_depth': 3}. Best is trial 17 with value: 0.580098444439116.\u001b[0m\n",
            "\u001b[32m[I 2022-12-12 15:40:47,932]\u001b[0m Trial 92 finished with value: 0.5803465731789668 and parameters: {'min_child_weight': 8, 'gamma': 2.6, 'alpha': 0.9500000000000001, 'lambda': 1968.4691049284247, 'subsample': 0.9500000000000001, 'colsample_bytree': 1.0, 'colsample_bylevel': 0.65, 'colsample_bynode': 0.9500000000000001, 'learning_rate': 0.04, 'max_depth': 5}. Best is trial 17 with value: 0.580098444439116.\u001b[0m\n",
            "\u001b[32m[I 2022-12-12 15:40:51,631]\u001b[0m Trial 93 finished with value: 0.580280392278518 and parameters: {'min_child_weight': 2, 'gamma': 3.3000000000000003, 'alpha': 1.4000000000000001, 'lambda': 0.05595956904830485, 'subsample': 0.6000000000000001, 'colsample_bytree': 0.8500000000000001, 'colsample_bylevel': 1.0, 'colsample_bynode': 0.55, 'learning_rate': 0.04, 'max_depth': 4}. Best is trial 17 with value: 0.580098444439116.\u001b[0m\n",
            "\u001b[32m[I 2022-12-12 15:40:55,288]\u001b[0m Trial 94 finished with value: 0.5803056032955646 and parameters: {'min_child_weight': 2, 'gamma': 4.9, 'alpha': 1.1500000000000001, 'lambda': 0.015113196132998925, 'subsample': 0.55, 'colsample_bytree': 0.9000000000000001, 'colsample_bylevel': 0.9500000000000001, 'colsample_bynode': 0.6000000000000001, 'learning_rate': 0.05, 'max_depth': 3}. Best is trial 17 with value: 0.580098444439116.\u001b[0m\n",
            "\u001b[32m[I 2022-12-12 15:41:00,461]\u001b[0m Trial 95 finished with value: 0.58140336849505 and parameters: {'min_child_weight': 3, 'gamma': 1.3, 'alpha': 0.8500000000000001, 'lambda': 0.011454175671494865, 'subsample': 0.7000000000000001, 'colsample_bytree': 0.75, 'colsample_bylevel': 0.8, 'colsample_bynode': 0.65, 'learning_rate': 0.04, 'max_depth': 7}. Best is trial 17 with value: 0.580098444439116.\u001b[0m\n",
            "\u001b[32m[I 2022-12-12 15:41:05,948]\u001b[0m Trial 96 finished with value: 0.5802348287737086 and parameters: {'min_child_weight': 2, 'gamma': 4.1000000000000005, 'alpha': 1.05, 'lambda': 0.0013301415444585696, 'subsample': 0.7000000000000001, 'colsample_bytree': 0.8, 'colsample_bylevel': 1.0, 'colsample_bynode': 0.6000000000000001, 'learning_rate': 0.02, 'max_depth': 3}. Best is trial 17 with value: 0.580098444439116.\u001b[0m\n",
            "\u001b[32m[I 2022-12-12 15:41:11,943]\u001b[0m Trial 97 finished with value: 0.580453998293905 and parameters: {'min_child_weight': 13, 'gamma': 5.5, 'alpha': 3.45, 'lambda': 4839.319233350497, 'subsample': 0.6000000000000001, 'colsample_bytree': 0.65, 'colsample_bylevel': 0.6000000000000001, 'colsample_bynode': 0.75, 'learning_rate': 0.02, 'max_depth': 4}. Best is trial 17 with value: 0.580098444439116.\u001b[0m\n",
            "\u001b[32m[I 2022-12-12 15:41:15,657]\u001b[0m Trial 98 finished with value: 0.5805286127591416 and parameters: {'min_child_weight': 10, 'gamma': 5.2, 'alpha': 2.25, 'lambda': 1022.618053589757, 'subsample': 0.55, 'colsample_bytree': 0.6000000000000001, 'colsample_bylevel': 0.55, 'colsample_bynode': 0.65, 'learning_rate': 0.06999999999999999, 'max_depth': 6}. Best is trial 17 with value: 0.580098444439116.\u001b[0m\n",
            "\u001b[32m[I 2022-12-12 15:41:23,042]\u001b[0m Trial 99 finished with value: 0.5804844610251132 and parameters: {'min_child_weight': 3, 'gamma': 5.2, 'alpha': 1.5, 'lambda': 0.030031826237396277, 'subsample': 0.7000000000000001, 'colsample_bytree': 0.75, 'colsample_bylevel': 1.0, 'colsample_bynode': 0.55, 'learning_rate': 0.01, 'max_depth': 3}. Best is trial 17 with value: 0.580098444439116.\u001b[0m\n",
            "\u001b[32m[I 2022-12-12 15:41:26,578]\u001b[0m Trial 100 finished with value: 0.5811821728902203 and parameters: {'min_child_weight': 2, 'gamma': 9.4, 'alpha': 0.9500000000000001, 'lambda': 9.583434749709303, 'subsample': 1.0, 'colsample_bytree': 0.9000000000000001, 'colsample_bylevel': 0.7000000000000001, 'colsample_bynode': 0.7000000000000001, 'learning_rate': 0.06999999999999999, 'max_depth': 5}. Best is trial 17 with value: 0.580098444439116.\u001b[0m\n",
            "\u001b[32m[I 2022-12-12 15:41:32,828]\u001b[0m Trial 101 finished with value: 0.5805984011569193 and parameters: {'min_child_weight': 6, 'gamma': 1.6, 'alpha': 1.9500000000000002, 'lambda': 0.38894925334182123, 'subsample': 0.65, 'colsample_bytree': 0.9500000000000001, 'colsample_bylevel': 0.9500000000000001, 'colsample_bynode': 0.6000000000000001, 'learning_rate': 0.02, 'max_depth': 5}. Best is trial 17 with value: 0.580098444439116.\u001b[0m\n",
            "\u001b[32m[I 2022-12-12 15:41:35,585]\u001b[0m Trial 102 finished with value: 0.5802051583223399 and parameters: {'min_child_weight': 7, 'gamma': 1.7000000000000002, 'alpha': 0.45, 'lambda': 0.9199253501241855, 'subsample': 1.0, 'colsample_bytree': 0.75, 'colsample_bylevel': 1.0, 'colsample_bynode': 0.9500000000000001, 'learning_rate': 0.09999999999999999, 'max_depth': 3}. Best is trial 17 with value: 0.580098444439116.\u001b[0m\n",
            "\u001b[32m[I 2022-12-12 15:41:39,416]\u001b[0m Trial 103 finished with value: 0.5823578915390231 and parameters: {'min_child_weight': 10, 'gamma': 0.1, 'alpha': 0.1, 'lambda': 24.074597639018236, 'subsample': 0.8, 'colsample_bytree': 0.9000000000000001, 'colsample_bylevel': 1.0, 'colsample_bynode': 0.9000000000000001, 'learning_rate': 0.09999999999999999, 'max_depth': 6}. Best is trial 17 with value: 0.580098444439116.\u001b[0m\n",
            "\u001b[32m[I 2022-12-12 15:41:47,763]\u001b[0m Trial 104 finished with value: 0.5804374524170444 and parameters: {'min_child_weight': 9, 'gamma': 2.5, 'alpha': 1.1500000000000001, 'lambda': 23.013817370966432, 'subsample': 1.0, 'colsample_bytree': 0.8500000000000001, 'colsample_bylevel': 1.0, 'colsample_bynode': 0.9000000000000001, 'learning_rate': 0.09, 'max_depth': 4}. Best is trial 17 with value: 0.580098444439116.\u001b[0m\n",
            "\u001b[32m[I 2022-12-12 15:41:51,737]\u001b[0m Trial 105 finished with value: 0.5804539416638159 and parameters: {'min_child_weight': 2, 'gamma': 2.4000000000000004, 'alpha': 0.8, 'lambda': 0.002467280571695075, 'subsample': 0.8, 'colsample_bytree': 0.8, 'colsample_bylevel': 1.0, 'colsample_bynode': 0.8, 'learning_rate': 0.04, 'max_depth': 4}. Best is trial 17 with value: 0.580098444439116.\u001b[0m\n",
            "\u001b[32m[I 2022-12-12 15:41:54,979]\u001b[0m Trial 106 finished with value: 0.5809825340488127 and parameters: {'min_child_weight': 10, 'gamma': 2.2, 'alpha': 0.0, 'lambda': 0.1301541125313023, 'subsample': 0.9000000000000001, 'colsample_bytree': 0.65, 'colsample_bylevel': 0.9000000000000001, 'colsample_bynode': 0.9500000000000001, 'learning_rate': 0.06999999999999999, 'max_depth': 5}. Best is trial 17 with value: 0.580098444439116.\u001b[0m\n",
            "\u001b[32m[I 2022-12-12 15:41:59,516]\u001b[0m Trial 107 finished with value: 0.580713481385793 and parameters: {'min_child_weight': 2, 'gamma': 7.800000000000001, 'alpha': 1.05, 'lambda': 0.004229391455815512, 'subsample': 0.9000000000000001, 'colsample_bytree': 0.9000000000000001, 'colsample_bylevel': 0.8500000000000001, 'colsample_bynode': 0.65, 'learning_rate': 0.03, 'max_depth': 3}. Best is trial 17 with value: 0.580098444439116.\u001b[0m\n",
            "\u001b[32m[I 2022-12-12 15:42:07,053]\u001b[0m Trial 108 finished with value: 0.5806216018654051 and parameters: {'min_child_weight': 3, 'gamma': 6.9, 'alpha': 1.55, 'lambda': 0.001025881398450244, 'subsample': 0.55, 'colsample_bytree': 0.75, 'colsample_bylevel': 0.9500000000000001, 'colsample_bynode': 0.6000000000000001, 'learning_rate': 0.01, 'max_depth': 7}. Best is trial 17 with value: 0.580098444439116.\u001b[0m\n",
            "\u001b[32m[I 2022-12-12 15:42:26,958]\u001b[0m Trial 109 finished with value: 0.5805382528681131 and parameters: {'min_child_weight': 6, 'gamma': 3.3000000000000003, 'alpha': 1.05, 'lambda': 0.07165667458787667, 'subsample': 1.0, 'colsample_bytree': 0.6000000000000001, 'colsample_bylevel': 1.0, 'colsample_bynode': 0.8500000000000001, 'learning_rate': 0.08, 'max_depth': 3}. Best is trial 17 with value: 0.580098444439116.\u001b[0m\n",
            "\u001b[32m[I 2022-12-12 15:42:30,198]\u001b[0m Trial 110 finished with value: 0.5807988238795883 and parameters: {'min_child_weight': 4, 'gamma': 1.8, 'alpha': 2.5, 'lambda': 146.3594037249307, 'subsample': 0.55, 'colsample_bytree': 0.8, 'colsample_bylevel': 0.9500000000000001, 'colsample_bynode': 0.55, 'learning_rate': 0.09, 'max_depth': 4}. Best is trial 17 with value: 0.580098444439116.\u001b[0m\n",
            "\u001b[32m[I 2022-12-12 15:42:35,057]\u001b[0m Trial 111 finished with value: 0.5808640574628399 and parameters: {'min_child_weight': 2, 'gamma': 0.8, 'alpha': 1.4000000000000001, 'lambda': 0.03516998046991721, 'subsample': 0.55, 'colsample_bytree': 0.8, 'colsample_bylevel': 0.9000000000000001, 'colsample_bynode': 0.55, 'learning_rate': 0.03, 'max_depth': 5}. Best is trial 17 with value: 0.580098444439116.\u001b[0m\n",
            "\u001b[32m[I 2022-12-12 15:42:37,877]\u001b[0m Trial 112 finished with value: 0.5805440140472992 and parameters: {'min_child_weight': 8, 'gamma': 2.1, 'alpha': 0.9500000000000001, 'lambda': 1.251980056610846, 'subsample': 0.8500000000000001, 'colsample_bytree': 0.7000000000000001, 'colsample_bylevel': 1.0, 'colsample_bynode': 0.9500000000000001, 'learning_rate': 0.09999999999999999, 'max_depth': 4}. Best is trial 17 with value: 0.580098444439116.\u001b[0m\n",
            "\u001b[32m[I 2022-12-12 15:42:45,167]\u001b[0m Trial 113 finished with value: 0.5803030277710586 and parameters: {'min_child_weight': 2, 'gamma': 2.0, 'alpha': 1.4500000000000002, 'lambda': 0.0011801592108660137, 'subsample': 0.65, 'colsample_bytree': 0.8, 'colsample_bylevel': 0.9000000000000001, 'colsample_bynode': 0.7000000000000001, 'learning_rate': 0.01, 'max_depth': 3}. Best is trial 17 with value: 0.580098444439116.\u001b[0m\n",
            "\u001b[32m[I 2022-12-12 15:43:06,766]\u001b[0m Trial 114 finished with value: 0.580541592674596 and parameters: {'min_child_weight': 11, 'gamma': 3.1, 'alpha': 0.1, 'lambda': 6.667135723097594, 'subsample': 1.0, 'colsample_bytree': 0.75, 'colsample_bylevel': 0.8500000000000001, 'colsample_bynode': 1.0, 'learning_rate': 0.09999999999999999, 'max_depth': 3}. Best is trial 17 with value: 0.580098444439116.\u001b[0m\n",
            "\u001b[32m[I 2022-12-12 15:43:09,896]\u001b[0m Trial 115 finished with value: 0.5804629939468133 and parameters: {'min_child_weight': 10, 'gamma': 0.30000000000000004, 'alpha': 0.9500000000000001, 'lambda': 0.25791134001648724, 'subsample': 0.9000000000000001, 'colsample_bytree': 0.75, 'colsample_bylevel': 0.8500000000000001, 'colsample_bynode': 0.75, 'learning_rate': 0.08, 'max_depth': 3}. Best is trial 17 with value: 0.580098444439116.\u001b[0m\n",
            "\u001b[32m[I 2022-12-12 15:43:13,301]\u001b[0m Trial 116 finished with value: 0.5812053163605078 and parameters: {'min_child_weight': 8, 'gamma': 0.5, 'alpha': 0.5, 'lambda': 0.12336961921833568, 'subsample': 1.0, 'colsample_bytree': 0.75, 'colsample_bylevel': 1.0, 'colsample_bynode': 0.9000000000000001, 'learning_rate': 0.08, 'max_depth': 5}. Best is trial 17 with value: 0.580098444439116.\u001b[0m\n",
            "\u001b[32m[I 2022-12-12 15:43:16,091]\u001b[0m Trial 117 finished with value: 0.5804451396841378 and parameters: {'min_child_weight': 5, 'gamma': 2.6, 'alpha': 0.45, 'lambda': 0.42327762096449173, 'subsample': 0.9000000000000001, 'colsample_bytree': 0.8, 'colsample_bylevel': 1.0, 'colsample_bynode': 0.7000000000000001, 'learning_rate': 0.09999999999999999, 'max_depth': 3}. Best is trial 17 with value: 0.580098444439116.\u001b[0m\n",
            "\u001b[32m[I 2022-12-12 15:43:18,980]\u001b[0m Trial 118 finished with value: 0.5804038135146811 and parameters: {'min_child_weight': 6, 'gamma': 3.3000000000000003, 'alpha': 0.30000000000000004, 'lambda': 0.06008371180923934, 'subsample': 0.9000000000000001, 'colsample_bytree': 0.75, 'colsample_bylevel': 0.8500000000000001, 'colsample_bynode': 1.0, 'learning_rate': 0.09999999999999999, 'max_depth': 5}. Best is trial 17 with value: 0.580098444439116.\u001b[0m\n",
            "\u001b[32m[I 2022-12-12 15:43:22,324]\u001b[0m Trial 119 finished with value: 0.5810855423964205 and parameters: {'min_child_weight': 7, 'gamma': 0.1, 'alpha': 1.2000000000000002, 'lambda': 31.628314611702084, 'subsample': 1.0, 'colsample_bytree': 0.65, 'colsample_bylevel': 1.0, 'colsample_bynode': 0.9500000000000001, 'learning_rate': 0.09999999999999999, 'max_depth': 5}. Best is trial 17 with value: 0.580098444439116.\u001b[0m\n",
            "\u001b[32m[I 2022-12-12 15:43:25,398]\u001b[0m Trial 120 finished with value: 0.5802890184195268 and parameters: {'min_child_weight': 2, 'gamma': 3.4000000000000004, 'alpha': 0.35000000000000003, 'lambda': 384.98189790165003, 'subsample': 0.9000000000000001, 'colsample_bytree': 0.6000000000000001, 'colsample_bylevel': 0.8, 'colsample_bynode': 0.8, 'learning_rate': 0.06999999999999999, 'max_depth': 3}. Best is trial 17 with value: 0.580098444439116.\u001b[0m\n",
            "\u001b[32m[I 2022-12-12 15:43:28,519]\u001b[0m Trial 121 finished with value: 0.5804041058761733 and parameters: {'min_child_weight': 4, 'gamma': 5.7, 'alpha': 1.1500000000000001, 'lambda': 41.20651907862729, 'subsample': 0.8, 'colsample_bytree': 0.8500000000000001, 'colsample_bylevel': 0.75, 'colsample_bynode': 0.7000000000000001, 'learning_rate': 0.08, 'max_depth': 7}. Best is trial 17 with value: 0.580098444439116.\u001b[0m\n",
            "\u001b[32m[I 2022-12-12 15:43:31,790]\u001b[0m Trial 122 finished with value: 0.5805766392485017 and parameters: {'min_child_weight': 2, 'gamma': 7.300000000000001, 'alpha': 2.9000000000000004, 'lambda': 8917.511964714873, 'subsample': 0.9000000000000001, 'colsample_bytree': 1.0, 'colsample_bylevel': 0.8500000000000001, 'colsample_bynode': 0.75, 'learning_rate': 0.060000000000000005, 'max_depth': 4}. Best is trial 17 with value: 0.580098444439116.\u001b[0m\n",
            "\u001b[32m[I 2022-12-12 15:43:39,660]\u001b[0m Trial 123 finished with value: 0.5803873003671567 and parameters: {'min_child_weight': 5, 'gamma': 3.8000000000000003, 'alpha': 2.5500000000000003, 'lambda': 3.9766883715250256, 'subsample': 0.9000000000000001, 'colsample_bytree': 0.8, 'colsample_bylevel': 0.6000000000000001, 'colsample_bynode': 0.9000000000000001, 'learning_rate': 0.01, 'max_depth': 4}. Best is trial 17 with value: 0.580098444439116.\u001b[0m\n",
            "\u001b[32m[I 2022-12-12 15:43:43,335]\u001b[0m Trial 124 finished with value: 0.580384724973213 and parameters: {'min_child_weight': 13, 'gamma': 0.6000000000000001, 'alpha': 1.2000000000000002, 'lambda': 378.38135311545284, 'subsample': 0.9000000000000001, 'colsample_bytree': 0.9500000000000001, 'colsample_bylevel': 0.65, 'colsample_bynode': 0.8500000000000001, 'learning_rate': 0.05, 'max_depth': 4}. Best is trial 17 with value: 0.580098444439116.\u001b[0m\n",
            "\u001b[32m[I 2022-12-12 15:43:46,850]\u001b[0m Trial 125 finished with value: 0.5802726913073233 and parameters: {'min_child_weight': 3, 'gamma': 4.800000000000001, 'alpha': 0.25, 'lambda': 0.9685265259684269, 'subsample': 0.7000000000000001, 'colsample_bytree': 0.9000000000000001, 'colsample_bylevel': 1.0, 'colsample_bynode': 0.55, 'learning_rate': 0.060000000000000005, 'max_depth': 5}. Best is trial 17 with value: 0.580098444439116.\u001b[0m\n",
            "\u001b[32m[I 2022-12-12 15:43:50,108]\u001b[0m Trial 126 finished with value: 0.5805396749107611 and parameters: {'min_child_weight': 3, 'gamma': 5.2, 'alpha': 0.9500000000000001, 'lambda': 4.9809423428193655, 'subsample': 0.65, 'colsample_bytree': 0.9000000000000001, 'colsample_bylevel': 1.0, 'colsample_bynode': 0.55, 'learning_rate': 0.060000000000000005, 'max_depth': 5}. Best is trial 17 with value: 0.580098444439116.\u001b[0m\n",
            "\u001b[32m[I 2022-12-12 15:43:55,758]\u001b[0m Trial 127 finished with value: 0.5805812907375041 and parameters: {'min_child_weight': 7, 'gamma': 1.2000000000000002, 'alpha': 1.7000000000000002, 'lambda': 319.7020394668143, 'subsample': 1.0, 'colsample_bytree': 0.8500000000000001, 'colsample_bylevel': 0.55, 'colsample_bynode': 0.9000000000000001, 'learning_rate': 0.02, 'max_depth': 5}. Best is trial 17 with value: 0.580098444439116.\u001b[0m\n",
            "\u001b[32m[I 2022-12-12 15:43:59,048]\u001b[0m Trial 128 finished with value: 0.5805185120488916 and parameters: {'min_child_weight': 7, 'gamma': 0.4, 'alpha': 0.55, 'lambda': 0.7173428813567065, 'subsample': 0.75, 'colsample_bytree': 0.9000000000000001, 'colsample_bylevel': 0.8, 'colsample_bynode': 0.9000000000000001, 'learning_rate': 0.06999999999999999, 'max_depth': 3}. Best is trial 17 with value: 0.580098444439116.\u001b[0m\n",
            "\u001b[32m[I 2022-12-12 15:44:02,648]\u001b[0m Trial 129 finished with value: 0.5807419759616965 and parameters: {'min_child_weight': 6, 'gamma': 9.0, 'alpha': 0.55, 'lambda': 0.07263169105288082, 'subsample': 0.8, 'colsample_bytree': 0.8500000000000001, 'colsample_bylevel': 0.9500000000000001, 'colsample_bynode': 0.55, 'learning_rate': 0.06999999999999999, 'max_depth': 7}. Best is trial 17 with value: 0.580098444439116.\u001b[0m\n",
            "\u001b[32m[I 2022-12-12 15:44:06,168]\u001b[0m Trial 130 finished with value: 0.5804532544236808 and parameters: {'min_child_weight': 8, 'gamma': 4.3, 'alpha': 0.65, 'lambda': 0.047229366345306015, 'subsample': 0.7000000000000001, 'colsample_bytree': 0.8, 'colsample_bylevel': 0.9000000000000001, 'colsample_bynode': 0.55, 'learning_rate': 0.06999999999999999, 'max_depth': 3}. Best is trial 17 with value: 0.580098444439116.\u001b[0m\n",
            "\u001b[32m[I 2022-12-12 15:44:10,360]\u001b[0m Trial 131 finished with value: 0.5803211107232741 and parameters: {'min_child_weight': 9, 'gamma': 1.7000000000000002, 'alpha': 2.8000000000000003, 'lambda': 20.11918204282461, 'subsample': 0.65, 'colsample_bytree': 0.6000000000000001, 'colsample_bylevel': 0.65, 'colsample_bynode': 0.6000000000000001, 'learning_rate': 0.04, 'max_depth': 3}. Best is trial 17 with value: 0.580098444439116.\u001b[0m\n",
            "\u001b[32m[I 2022-12-12 15:44:15,751]\u001b[0m Trial 132 finished with value: 0.580605222487024 and parameters: {'min_child_weight': 7, 'gamma': 5.800000000000001, 'alpha': 0.7000000000000001, 'lambda': 0.7255465615892249, 'subsample': 1.0, 'colsample_bytree': 0.75, 'colsample_bylevel': 1.0, 'colsample_bynode': 0.9500000000000001, 'learning_rate': 0.09, 'max_depth': 5}. Best is trial 17 with value: 0.580098444439116.\u001b[0m\n",
            "\u001b[32m[I 2022-12-12 15:44:20,167]\u001b[0m Trial 133 finished with value: 0.5801391291426761 and parameters: {'min_child_weight': 2, 'gamma': 2.7, 'alpha': 2.45, 'lambda': 0.012748843359875748, 'subsample': 0.75, 'colsample_bytree': 0.9000000000000001, 'colsample_bylevel': 1.0, 'colsample_bynode': 0.55, 'learning_rate': 0.03, 'max_depth': 4}. Best is trial 17 with value: 0.580098444439116.\u001b[0m\n",
            "\u001b[32m[I 2022-12-12 15:44:23,958]\u001b[0m Trial 134 finished with value: 0.5805188569618124 and parameters: {'min_child_weight': 7, 'gamma': 3.4000000000000004, 'alpha': 3.0, 'lambda': 8667.724318374787, 'subsample': 0.6000000000000001, 'colsample_bytree': 0.55, 'colsample_bylevel': 0.7000000000000001, 'colsample_bynode': 0.8500000000000001, 'learning_rate': 0.05, 'max_depth': 4}. Best is trial 17 with value: 0.580098444439116.\u001b[0m\n",
            "\u001b[32m[I 2022-12-12 15:44:28,385]\u001b[0m Trial 135 finished with value: 0.5804250412065357 and parameters: {'min_child_weight': 2, 'gamma': 5.9, 'alpha': 1.7000000000000002, 'lambda': 0.03457287826994194, 'subsample': 0.7000000000000001, 'colsample_bytree': 0.9500000000000001, 'colsample_bylevel': 0.9500000000000001, 'colsample_bynode': 0.6000000000000001, 'learning_rate': 0.03, 'max_depth': 4}. Best is trial 17 with value: 0.580098444439116.\u001b[0m\n",
            "\u001b[32m[I 2022-12-12 15:44:33,399]\u001b[0m Trial 136 finished with value: 0.5807617713411649 and parameters: {'min_child_weight': 3, 'gamma': 0.4, 'alpha': 2.95, 'lambda': 0.0010873744954189902, 'subsample': 0.65, 'colsample_bytree': 0.9000000000000001, 'colsample_bylevel': 0.9500000000000001, 'colsample_bynode': 0.65, 'learning_rate': 0.03, 'max_depth': 5}. Best is trial 17 with value: 0.580098444439116.\u001b[0m\n",
            "\u001b[32m[I 2022-12-12 15:44:37,969]\u001b[0m Trial 137 finished with value: 0.5803216021309296 and parameters: {'min_child_weight': 3, 'gamma': 5.2, 'alpha': 1.9500000000000002, 'lambda': 0.0028583488794050346, 'subsample': 0.8500000000000001, 'colsample_bytree': 0.9500000000000001, 'colsample_bylevel': 1.0, 'colsample_bynode': 0.55, 'learning_rate': 0.03, 'max_depth': 6}. Best is trial 17 with value: 0.580098444439116.\u001b[0m\n",
            "\u001b[32m[I 2022-12-12 15:44:41,407]\u001b[0m Trial 138 finished with value: 0.5804735277578945 and parameters: {'min_child_weight': 3, 'gamma': 2.5, 'alpha': 0.45, 'lambda': 2.533303167171199, 'subsample': 0.8500000000000001, 'colsample_bytree': 1.0, 'colsample_bylevel': 1.0, 'colsample_bynode': 0.55, 'learning_rate': 0.05, 'max_depth': 4}. Best is trial 17 with value: 0.580098444439116.\u001b[0m\n",
            "\u001b[32m[I 2022-12-12 15:44:45,499]\u001b[0m Trial 139 finished with value: 0.5804643804764463 and parameters: {'min_child_weight': 6, 'gamma': 1.1, 'alpha': 0.0, 'lambda': 91.3895815360976, 'subsample': 0.8500000000000001, 'colsample_bytree': 0.65, 'colsample_bylevel': 0.55, 'colsample_bynode': 0.8500000000000001, 'learning_rate': 0.04, 'max_depth': 3}. Best is trial 17 with value: 0.580098444439116.\u001b[0m\n",
            "\u001b[32m[I 2022-12-12 15:44:49,623]\u001b[0m Trial 140 finished with value: 0.5803968985776107 and parameters: {'min_child_weight': 2, 'gamma': 3.3000000000000003, 'alpha': 2.7, 'lambda': 0.03929112151502766, 'subsample': 0.65, 'colsample_bytree': 0.9000000000000001, 'colsample_bylevel': 1.0, 'colsample_bynode': 0.55, 'learning_rate': 0.04, 'max_depth': 5}. Best is trial 17 with value: 0.580098444439116.\u001b[0m\n",
            "\u001b[32m[I 2022-12-12 15:44:52,538]\u001b[0m Trial 141 finished with value: 0.5801801878852504 and parameters: {'min_child_weight': 6, 'gamma': 3.2, 'alpha': 0.9, 'lambda': 0.042669718990256005, 'subsample': 0.9500000000000001, 'colsample_bytree': 0.9500000000000001, 'colsample_bylevel': 1.0, 'colsample_bynode': 1.0, 'learning_rate': 0.09, 'max_depth': 3}. Best is trial 17 with value: 0.580098444439116.\u001b[0m\n",
            "\u001b[32m[I 2022-12-12 15:45:00,543]\u001b[0m Trial 142 finished with value: 0.5802488548549868 and parameters: {'min_child_weight': 5, 'gamma': 2.7, 'alpha': 3.0, 'lambda': 0.07853113344116085, 'subsample': 0.9000000000000001, 'colsample_bytree': 0.8500000000000001, 'colsample_bylevel': 0.9500000000000001, 'colsample_bynode': 0.75, 'learning_rate': 0.01, 'max_depth': 3}. Best is trial 17 with value: 0.580098444439116.\u001b[0m\n",
            "\u001b[32m[I 2022-12-12 15:45:08,197]\u001b[0m Trial 143 finished with value: 0.5804407520599308 and parameters: {'min_child_weight': 8, 'gamma': 1.6, 'alpha': 4.3500000000000005, 'lambda': 0.003787674783604311, 'subsample': 1.0, 'colsample_bytree': 0.9000000000000001, 'colsample_bylevel': 0.9000000000000001, 'colsample_bynode': 0.8, 'learning_rate': 0.01, 'max_depth': 3}. Best is trial 17 with value: 0.580098444439116.\u001b[0m\n",
            "\u001b[32m[I 2022-12-12 15:45:16,076]\u001b[0m Trial 144 finished with value: 0.5802777539995455 and parameters: {'min_child_weight': 6, 'gamma': 4.9, 'alpha': 2.75, 'lambda': 0.24581877931757604, 'subsample': 0.8500000000000001, 'colsample_bytree': 1.0, 'colsample_bylevel': 1.0, 'colsample_bynode': 0.7000000000000001, 'learning_rate': 0.01, 'max_depth': 5}. Best is trial 17 with value: 0.580098444439116.\u001b[0m\n",
            "\u001b[32m[I 2022-12-12 15:45:23,792]\u001b[0m Trial 145 finished with value: 0.580559187210032 and parameters: {'min_child_weight': 6, 'gamma': 7.2, 'alpha': 2.85, 'lambda': 0.3194672193583346, 'subsample': 0.8500000000000001, 'colsample_bytree': 1.0, 'colsample_bylevel': 1.0, 'colsample_bynode': 0.8, 'learning_rate': 0.01, 'max_depth': 9}. Best is trial 17 with value: 0.580098444439116.\u001b[0m\n",
            "\u001b[32m[I 2022-12-12 15:45:26,853]\u001b[0m Trial 146 finished with value: 0.5802166618839616 and parameters: {'min_child_weight': 3, 'gamma': 0.30000000000000004, 'alpha': 2.0500000000000003, 'lambda': 0.5573143778127657, 'subsample': 0.9500000000000001, 'colsample_bytree': 0.9000000000000001, 'colsample_bylevel': 1.0, 'colsample_bynode': 0.9500000000000001, 'learning_rate': 0.09999999999999999, 'max_depth': 3}. Best is trial 17 with value: 0.580098444439116.\u001b[0m\n",
            "\u001b[32m[I 2022-12-12 15:45:29,771]\u001b[0m Trial 147 finished with value: 0.5805426458226782 and parameters: {'min_child_weight': 9, 'gamma': 6.5, 'alpha': 0.9500000000000001, 'lambda': 4.657024974567408, 'subsample': 0.8, 'colsample_bytree': 1.0, 'colsample_bylevel': 0.9000000000000001, 'colsample_bynode': 0.8500000000000001, 'learning_rate': 0.08, 'max_depth': 8}. Best is trial 17 with value: 0.580098444439116.\u001b[0m\n",
            "\u001b[32m[I 2022-12-12 15:45:47,323]\u001b[0m Trial 148 finished with value: 0.5805754811458643 and parameters: {'min_child_weight': 6, 'gamma': 1.8, 'alpha': 2.85, 'lambda': 0.0019534329253165293, 'subsample': 1.0, 'colsample_bytree': 1.0, 'colsample_bylevel': 0.9000000000000001, 'colsample_bynode': 0.9500000000000001, 'learning_rate': 0.06999999999999999, 'max_depth': 3}. Best is trial 17 with value: 0.580098444439116.\u001b[0m\n",
            "\u001b[32m[I 2022-12-12 15:46:04,064]\u001b[0m Trial 149 finished with value: 0.5806359851913793 and parameters: {'min_child_weight': 4, 'gamma': 3.1, 'alpha': 2.75, 'lambda': 0.638925648622258, 'subsample': 1.0, 'colsample_bytree': 0.8500000000000001, 'colsample_bylevel': 1.0, 'colsample_bynode': 0.8500000000000001, 'learning_rate': 0.09999999999999999, 'max_depth': 5}. Best is trial 17 with value: 0.580098444439116.\u001b[0m\n",
            "\u001b[32m[I 2022-12-12 15:46:11,687]\u001b[0m Trial 150 finished with value: 0.580385017099125 and parameters: {'min_child_weight': 4, 'gamma': 5.5, 'alpha': 3.0, 'lambda': 0.00899054829910319, 'subsample': 0.8500000000000001, 'colsample_bytree': 0.8, 'colsample_bylevel': 0.9000000000000001, 'colsample_bynode': 0.8, 'learning_rate': 0.01, 'max_depth': 5}. Best is trial 17 with value: 0.580098444439116.\u001b[0m\n",
            "\u001b[32m[I 2022-12-12 15:46:14,750]\u001b[0m Trial 151 finished with value: 0.5803129182422445 and parameters: {'min_child_weight': 5, 'gamma': 0.6000000000000001, 'alpha': 0.25, 'lambda': 0.06343532893949141, 'subsample': 0.9000000000000001, 'colsample_bytree': 1.0, 'colsample_bylevel': 1.0, 'colsample_bynode': 0.9500000000000001, 'learning_rate': 0.08, 'max_depth': 3}. Best is trial 17 with value: 0.580098444439116.\u001b[0m\n",
            "\u001b[32m[I 2022-12-12 15:46:19,881]\u001b[0m Trial 152 finished with value: 0.5819386134495338 and parameters: {'min_child_weight': 6, 'gamma': 0.5, 'alpha': 0.05, 'lambda': 0.0757002685810163, 'subsample': 1.0, 'colsample_bytree': 0.7000000000000001, 'colsample_bylevel': 0.6000000000000001, 'colsample_bynode': 0.75, 'learning_rate': 0.05, 'max_depth': 8}. Best is trial 17 with value: 0.580098444439116.\u001b[0m\n",
            "\u001b[32m[I 2022-12-12 15:46:28,257]\u001b[0m Trial 153 finished with value: 0.5804356137599264 and parameters: {'min_child_weight': 6, 'gamma': 1.6, 'alpha': 3.0500000000000003, 'lambda': 7.993680201975425, 'subsample': 0.8500000000000001, 'colsample_bytree': 0.9000000000000001, 'colsample_bylevel': 0.9000000000000001, 'colsample_bynode': 0.8, 'learning_rate': 0.01, 'max_depth': 4}. Best is trial 17 with value: 0.580098444439116.\u001b[0m\n",
            "\u001b[32m[I 2022-12-12 15:46:34,254]\u001b[0m Trial 154 finished with value: 0.5804524873608635 and parameters: {'min_child_weight': 7, 'gamma': 2.7, 'alpha': 3.1, 'lambda': 0.010167418691434792, 'subsample': 0.9500000000000001, 'colsample_bytree': 0.9500000000000001, 'colsample_bylevel': 1.0, 'colsample_bynode': 0.7000000000000001, 'learning_rate': 0.02, 'max_depth': 6}. Best is trial 17 with value: 0.580098444439116.\u001b[0m\n",
            "\u001b[32m[I 2022-12-12 15:46:38,227]\u001b[0m Trial 155 finished with value: 0.5805508914675032 and parameters: {'min_child_weight': 5, 'gamma': 3.7, 'alpha': 1.6500000000000001, 'lambda': 0.002060206956791935, 'subsample': 1.0, 'colsample_bytree': 0.9500000000000001, 'colsample_bylevel': 1.0, 'colsample_bynode': 1.0, 'learning_rate': 0.09, 'max_depth': 3}. Best is trial 17 with value: 0.580098444439116.\u001b[0m\n",
            "\u001b[32m[I 2022-12-12 15:46:41,198]\u001b[0m Trial 156 finished with value: 0.580321062175291 and parameters: {'min_child_weight': 2, 'gamma': 4.7, 'alpha': 1.6500000000000001, 'lambda': 3.375647081018099, 'subsample': 0.8, 'colsample_bytree': 1.0, 'colsample_bylevel': 1.0, 'colsample_bynode': 0.9500000000000001, 'learning_rate': 0.09999999999999999, 'max_depth': 6}. Best is trial 17 with value: 0.580098444439116.\u001b[0m\n",
            "\u001b[32m[I 2022-12-12 15:46:48,123]\u001b[0m Trial 157 finished with value: 0.5806621018633956 and parameters: {'min_child_weight': 4, 'gamma': 6.6000000000000005, 'alpha': 2.6500000000000004, 'lambda': 11.342303588139856, 'subsample': 0.9500000000000001, 'colsample_bytree': 0.9000000000000001, 'colsample_bylevel': 0.9000000000000001, 'colsample_bynode': 0.65, 'learning_rate': 0.01, 'max_depth': 7}. Best is trial 17 with value: 0.580098444439116.\u001b[0m\n",
            "\u001b[32m[I 2022-12-12 15:46:53,636]\u001b[0m Trial 158 finished with value: 0.5804393878352074 and parameters: {'min_child_weight': 3, 'gamma': 1.3, 'alpha': 1.4500000000000002, 'lambda': 0.006759708057291059, 'subsample': 0.8, 'colsample_bytree': 0.6000000000000001, 'colsample_bylevel': 1.0, 'colsample_bynode': 0.65, 'learning_rate': 0.02, 'max_depth': 4}. Best is trial 17 with value: 0.580098444439116.\u001b[0m\n",
            "\u001b[32m[I 2022-12-12 15:46:56,727]\u001b[0m Trial 159 finished with value: 0.5801612172992456 and parameters: {'min_child_weight': 2, 'gamma': 1.6, 'alpha': 2.6500000000000004, 'lambda': 8.046490139445355, 'subsample': 0.9000000000000001, 'colsample_bytree': 0.9000000000000001, 'colsample_bylevel': 1.0, 'colsample_bynode': 0.9500000000000001, 'learning_rate': 0.09, 'max_depth': 3}. Best is trial 17 with value: 0.580098444439116.\u001b[0m\n",
            "\u001b[32m[I 2022-12-12 15:47:04,532]\u001b[0m Trial 160 finished with value: 0.5803536137746913 and parameters: {'min_child_weight': 3, 'gamma': 0.1, 'alpha': 0.30000000000000004, 'lambda': 0.0026105238251755993, 'subsample': 0.9000000000000001, 'colsample_bytree': 0.8500000000000001, 'colsample_bylevel': 0.9500000000000001, 'colsample_bynode': 0.6000000000000001, 'learning_rate': 0.01, 'max_depth': 3}. Best is trial 17 with value: 0.580098444439116.\u001b[0m\n",
            "\u001b[32m[I 2022-12-12 15:47:07,586]\u001b[0m Trial 161 finished with value: 0.5805570431223936 and parameters: {'min_child_weight': 4, 'gamma': 5.5, 'alpha': 2.35, 'lambda': 2.762172009391483, 'subsample': 0.8, 'colsample_bytree': 0.8500000000000001, 'colsample_bylevel': 0.9000000000000001, 'colsample_bynode': 0.8, 'learning_rate': 0.06999999999999999, 'max_depth': 7}. Best is trial 17 with value: 0.580098444439116.\u001b[0m\n",
            "\u001b[32m[I 2022-12-12 15:47:10,824]\u001b[0m Trial 162 finished with value: 0.5804909187704326 and parameters: {'min_child_weight': 2, 'gamma': 6.2, 'alpha': 3.75, 'lambda': 0.5839552405700673, 'subsample': 0.9000000000000001, 'colsample_bytree': 0.9000000000000001, 'colsample_bylevel': 0.8500000000000001, 'colsample_bynode': 0.9000000000000001, 'learning_rate': 0.08, 'max_depth': 3}. Best is trial 17 with value: 0.580098444439116.\u001b[0m\n",
            "\u001b[32m[I 2022-12-12 15:47:15,007]\u001b[0m Trial 163 finished with value: 0.580351150761048 and parameters: {'min_child_weight': 13, 'gamma': 3.7, 'alpha': 2.5500000000000003, 'lambda': 242.30648856575382, 'subsample': 0.6000000000000001, 'colsample_bytree': 0.55, 'colsample_bylevel': 0.65, 'colsample_bynode': 0.55, 'learning_rate': 0.04, 'max_depth': 6}. Best is trial 17 with value: 0.580098444439116.\u001b[0m\n",
            "\u001b[32m[I 2022-12-12 15:47:19,842]\u001b[0m Trial 164 finished with value: 0.5805700161584786 and parameters: {'min_child_weight': 5, 'gamma': 6.7, 'alpha': 2.2, 'lambda': 0.08032952872895006, 'subsample': 0.9000000000000001, 'colsample_bytree': 1.0, 'colsample_bylevel': 0.9000000000000001, 'colsample_bynode': 0.7000000000000001, 'learning_rate': 0.02, 'max_depth': 4}. Best is trial 17 with value: 0.580098444439116.\u001b[0m\n",
            "\u001b[32m[I 2022-12-12 15:47:22,795]\u001b[0m Trial 165 finished with value: 0.5805102997202248 and parameters: {'min_child_weight': 3, 'gamma': 0.4, 'alpha': 3.45, 'lambda': 2.4759832244617526, 'subsample': 0.9000000000000001, 'colsample_bytree': 0.8500000000000001, 'colsample_bylevel': 1.0, 'colsample_bynode': 0.9500000000000001, 'learning_rate': 0.09999999999999999, 'max_depth': 3}. Best is trial 17 with value: 0.580098444439116.\u001b[0m\n",
            "\u001b[32m[I 2022-12-12 15:47:29,658]\u001b[0m Trial 166 finished with value: 0.5831849355967271 and parameters: {'min_child_weight': 4, 'gamma': 0.6000000000000001, 'alpha': 0.1, 'lambda': 0.33554780196607437, 'subsample': 0.7000000000000001, 'colsample_bytree': 0.9500000000000001, 'colsample_bylevel': 0.9500000000000001, 'colsample_bynode': 0.65, 'learning_rate': 0.04, 'max_depth': 9}. Best is trial 17 with value: 0.580098444439116.\u001b[0m\n",
            "\u001b[32m[I 2022-12-12 15:47:32,525]\u001b[0m Trial 167 finished with value: 0.5805102082533495 and parameters: {'min_child_weight': 2, 'gamma': 1.2000000000000002, 'alpha': 2.6500000000000004, 'lambda': 42.570974149588984, 'subsample': 1.0, 'colsample_bytree': 1.0, 'colsample_bylevel': 0.8500000000000001, 'colsample_bynode': 1.0, 'learning_rate': 0.06999999999999999, 'max_depth': 3}. Best is trial 17 with value: 0.580098444439116.\u001b[0m\n",
            "\u001b[32m[I 2022-12-12 15:47:36,335]\u001b[0m Trial 168 finished with value: 0.5804795558651288 and parameters: {'min_child_weight': 3, 'gamma': 0.6000000000000001, 'alpha': 0.75, 'lambda': 1010.5380268414543, 'subsample': 0.8500000000000001, 'colsample_bytree': 0.75, 'colsample_bylevel': 0.8500000000000001, 'colsample_bynode': 0.9500000000000001, 'learning_rate': 0.05, 'max_depth': 4}. Best is trial 17 with value: 0.580098444439116.\u001b[0m\n",
            "\u001b[32m[I 2022-12-12 15:47:41,641]\u001b[0m Trial 169 finished with value: 0.580304136903513 and parameters: {'min_child_weight': 4, 'gamma': 2.9000000000000004, 'alpha': 3.6, 'lambda': 0.10986709443904924, 'subsample': 0.9000000000000001, 'colsample_bytree': 0.9500000000000001, 'colsample_bylevel': 1.0, 'colsample_bynode': 0.75, 'learning_rate': 0.02, 'max_depth': 3}. Best is trial 17 with value: 0.580098444439116.\u001b[0m\n",
            "\u001b[32m[I 2022-12-12 15:47:44,515]\u001b[0m Trial 170 finished with value: 0.5805965466740586 and parameters: {'min_child_weight': 4, 'gamma': 1.3, 'alpha': 0.9, 'lambda': 0.49572278129116343, 'subsample': 1.0, 'colsample_bytree': 0.8, 'colsample_bylevel': 1.0, 'colsample_bynode': 1.0, 'learning_rate': 0.06999999999999999, 'max_depth': 4}. Best is trial 17 with value: 0.580098444439116.\u001b[0m\n",
            "\u001b[32m[I 2022-12-12 15:47:47,316]\u001b[0m Trial 171 finished with value: 0.580416303052079 and parameters: {'min_child_weight': 10, 'gamma': 2.3000000000000003, 'alpha': 1.75, 'lambda': 2.80107953788213, 'subsample': 0.9000000000000001, 'colsample_bytree': 1.0, 'colsample_bylevel': 0.9000000000000001, 'colsample_bynode': 1.0, 'learning_rate': 0.09999999999999999, 'max_depth': 3}. Best is trial 17 with value: 0.580098444439116.\u001b[0m\n",
            "\u001b[32m[I 2022-12-12 15:47:50,507]\u001b[0m Trial 172 finished with value: 0.580566533405866 and parameters: {'min_child_weight': 2, 'gamma': 2.0, 'alpha': 3.85, 'lambda': 563.0414035831996, 'subsample': 0.8500000000000001, 'colsample_bytree': 0.9000000000000001, 'colsample_bylevel': 0.9500000000000001, 'colsample_bynode': 0.9500000000000001, 'learning_rate': 0.08, 'max_depth': 4}. Best is trial 17 with value: 0.580098444439116.\u001b[0m\n",
            "\u001b[32m[I 2022-12-12 15:47:53,580]\u001b[0m Trial 173 finished with value: 0.5806431285951819 and parameters: {'min_child_weight': 5, 'gamma': 0.4, 'alpha': 0.25, 'lambda': 0.04118755560381172, 'subsample': 0.8500000000000001, 'colsample_bytree': 0.75, 'colsample_bylevel': 0.9000000000000001, 'colsample_bynode': 0.8500000000000001, 'learning_rate': 0.08, 'max_depth': 3}. Best is trial 17 with value: 0.580098444439116.\u001b[0m\n",
            "\u001b[32m[I 2022-12-12 15:47:57,734]\u001b[0m Trial 174 finished with value: 0.5803589113383066 and parameters: {'min_child_weight': 4, 'gamma': 3.5, 'alpha': 2.8000000000000003, 'lambda': 0.06771662813953515, 'subsample': 0.8500000000000001, 'colsample_bytree': 0.8, 'colsample_bylevel': 1.0, 'colsample_bynode': 0.6000000000000001, 'learning_rate': 0.03, 'max_depth': 3}. Best is trial 17 with value: 0.580098444439116.\u001b[0m\n",
            "\u001b[32m[I 2022-12-12 15:48:06,384]\u001b[0m Trial 175 finished with value: 0.5804158358282987 and parameters: {'min_child_weight': 4, 'gamma': 1.2000000000000002, 'alpha': 2.0, 'lambda': 0.2141314067702476, 'subsample': 0.9000000000000001, 'colsample_bytree': 0.8500000000000001, 'colsample_bylevel': 1.0, 'colsample_bynode': 0.8, 'learning_rate': 0.01, 'max_depth': 4}. Best is trial 17 with value: 0.580098444439116.\u001b[0m\n",
            "\u001b[32m[I 2022-12-12 15:48:10,595]\u001b[0m Trial 176 finished with value: 0.5803109715800912 and parameters: {'min_child_weight': 2, 'gamma': 4.1000000000000005, 'alpha': 1.0, 'lambda': 2.523322590054033, 'subsample': 0.9500000000000001, 'colsample_bytree': 0.9000000000000001, 'colsample_bylevel': 0.9500000000000001, 'colsample_bynode': 1.0, 'learning_rate': 0.09, 'max_depth': 3}. Best is trial 17 with value: 0.580098444439116.\u001b[0m\n",
            "\u001b[32m[I 2022-12-12 15:48:14,710]\u001b[0m Trial 177 finished with value: 0.5801136824609268 and parameters: {'min_child_weight': 4, 'gamma': 4.2, 'alpha': 4.4, 'lambda': 0.0017178489682518026, 'subsample': 0.75, 'colsample_bytree': 1.0, 'colsample_bylevel': 1.0, 'colsample_bynode': 0.55, 'learning_rate': 0.04, 'max_depth': 3}. Best is trial 17 with value: 0.580098444439116.\u001b[0m\n",
            "\u001b[32m[I 2022-12-12 15:48:18,844]\u001b[0m Trial 178 finished with value: 0.580247425082184 and parameters: {'min_child_weight': 5, 'gamma': 5.300000000000001, 'alpha': 4.15, 'lambda': 0.018039065209507748, 'subsample': 0.8500000000000001, 'colsample_bytree': 0.9000000000000001, 'colsample_bylevel': 1.0, 'colsample_bynode': 0.6000000000000001, 'learning_rate': 0.05, 'max_depth': 3}. Best is trial 17 with value: 0.580098444439116.\u001b[0m\n",
            "\u001b[32m[I 2022-12-12 15:48:22,622]\u001b[0m Trial 179 finished with value: 0.580565734996682 and parameters: {'min_child_weight': 7, 'gamma': 8.3, 'alpha': 4.45, 'lambda': 0.18503840832234977, 'subsample': 0.75, 'colsample_bytree': 0.9000000000000001, 'colsample_bylevel': 1.0, 'colsample_bynode': 0.6000000000000001, 'learning_rate': 0.05, 'max_depth': 4}. Best is trial 17 with value: 0.580098444439116.\u001b[0m\n",
            "\u001b[32m[I 2022-12-12 15:48:27,105]\u001b[0m Trial 180 finished with value: 0.5806560895591975 and parameters: {'min_child_weight': 3, 'gamma': 8.5, 'alpha': 4.95, 'lambda': 0.0017631724377380718, 'subsample': 0.75, 'colsample_bytree': 0.8, 'colsample_bylevel': 1.0, 'colsample_bynode': 0.55, 'learning_rate': 0.03, 'max_depth': 5}. Best is trial 17 with value: 0.580098444439116.\u001b[0m\n",
            "\u001b[32m[I 2022-12-12 15:48:30,463]\u001b[0m Trial 181 finished with value: 0.5805345450036582 and parameters: {'min_child_weight': 6, 'gamma': 5.6000000000000005, 'alpha': 4.95, 'lambda': 0.0015254285075361426, 'subsample': 0.8500000000000001, 'colsample_bytree': 0.8500000000000001, 'colsample_bylevel': 1.0, 'colsample_bynode': 0.6000000000000001, 'learning_rate': 0.060000000000000005, 'max_depth': 4}. Best is trial 17 with value: 0.580098444439116.\u001b[0m\n",
            "\u001b[32m[I 2022-12-12 15:48:33,892]\u001b[0m Trial 182 finished with value: 0.5803491192559401 and parameters: {'min_child_weight': 9, 'gamma': 2.9000000000000004, 'alpha': 4.5, 'lambda': 0.01855878883631523, 'subsample': 0.8, 'colsample_bytree': 1.0, 'colsample_bylevel': 0.9000000000000001, 'colsample_bynode': 0.6000000000000001, 'learning_rate': 0.05, 'max_depth': 3}. Best is trial 17 with value: 0.580098444439116.\u001b[0m\n",
            "\u001b[32m[I 2022-12-12 15:48:37,573]\u001b[0m Trial 183 finished with value: 0.5804136797040701 and parameters: {'min_child_weight': 6, 'gamma': 7.4, 'alpha': 1.9000000000000001, 'lambda': 458.39436744496817, 'subsample': 0.8, 'colsample_bytree': 0.9500000000000001, 'colsample_bylevel': 0.7000000000000001, 'colsample_bynode': 0.8, 'learning_rate': 0.09, 'max_depth': 6}. Best is trial 17 with value: 0.580098444439116.\u001b[0m\n",
            "\u001b[32m[I 2022-12-12 15:48:41,734]\u001b[0m Trial 184 finished with value: 0.5806069494918698 and parameters: {'min_child_weight': 12, 'gamma': 1.4000000000000001, 'alpha': 2.85, 'lambda': 3680.9894631819643, 'subsample': 0.6000000000000001, 'colsample_bytree': 0.75, 'colsample_bylevel': 0.65, 'colsample_bynode': 0.7000000000000001, 'learning_rate': 0.060000000000000005, 'max_depth': 6}. Best is trial 17 with value: 0.580098444439116.\u001b[0m\n",
            "\u001b[32m[I 2022-12-12 15:48:49,608]\u001b[0m Trial 185 finished with value: 0.5804193184907948 and parameters: {'min_child_weight': 8, 'gamma': 3.2, 'alpha': 0.45, 'lambda': 413.9825371836318, 'subsample': 0.9500000000000001, 'colsample_bytree': 0.75, 'colsample_bylevel': 0.55, 'colsample_bynode': 0.8500000000000001, 'learning_rate': 0.01, 'max_depth': 3}. Best is trial 17 with value: 0.580098444439116.\u001b[0m\n",
            "\u001b[32m[I 2022-12-12 15:48:52,983]\u001b[0m Trial 186 finished with value: 0.5806865590420507 and parameters: {'min_child_weight': 4, 'gamma': 2.3000000000000003, 'alpha': 4.800000000000001, 'lambda': 0.012975666318463842, 'subsample': 0.7000000000000001, 'colsample_bytree': 0.9500000000000001, 'colsample_bylevel': 1.0, 'colsample_bynode': 0.55, 'learning_rate': 0.05, 'max_depth': 4}. Best is trial 17 with value: 0.580098444439116.\u001b[0m\n",
            "\u001b[32m[I 2022-12-12 15:48:57,749]\u001b[0m Trial 187 finished with value: 0.5804523061492615 and parameters: {'min_child_weight': 3, 'gamma': 6.1000000000000005, 'alpha': 4.55, 'lambda': 0.002567979137305193, 'subsample': 0.7000000000000001, 'colsample_bytree': 0.9500000000000001, 'colsample_bylevel': 0.9500000000000001, 'colsample_bynode': 0.75, 'learning_rate': 0.02, 'max_depth': 4}. Best is trial 17 with value: 0.580098444439116.\u001b[0m\n",
            "\u001b[32m[I 2022-12-12 15:49:00,865]\u001b[0m Trial 188 finished with value: 0.5800369407463641 and parameters: {'min_child_weight': 10, 'gamma': 3.3000000000000003, 'alpha': 0.65, 'lambda': 0.005844037592155338, 'subsample': 0.9500000000000001, 'colsample_bytree': 1.0, 'colsample_bylevel': 1.0, 'colsample_bynode': 1.0, 'learning_rate': 0.09999999999999999, 'max_depth': 3}. Best is trial 188 with value: 0.5800369407463641.\u001b[0m\n",
            "\u001b[32m[I 2022-12-12 15:49:04,125]\u001b[0m Trial 189 finished with value: 0.5802589265193258 and parameters: {'min_child_weight': 5, 'gamma': 0.7000000000000001, 'alpha': 0.8, 'lambda': 66.00489992216872, 'subsample': 0.9000000000000001, 'colsample_bytree': 0.8500000000000001, 'colsample_bylevel': 0.8500000000000001, 'colsample_bynode': 0.8, 'learning_rate': 0.06999999999999999, 'max_depth': 3}. Best is trial 188 with value: 0.5800369407463641.\u001b[0m\n",
            "\u001b[32m[I 2022-12-12 15:49:06,963]\u001b[0m Trial 190 finished with value: 0.5805586938645159 and parameters: {'min_child_weight': 10, 'gamma': 6.1000000000000005, 'alpha': 0.9500000000000001, 'lambda': 0.0017297058500950811, 'subsample': 0.9500000000000001, 'colsample_bytree': 1.0, 'colsample_bylevel': 1.0, 'colsample_bynode': 0.9000000000000001, 'learning_rate': 0.09999999999999999, 'max_depth': 6}. Best is trial 188 with value: 0.5800369407463641.\u001b[0m\n",
            "\u001b[32m[I 2022-12-12 15:49:10,991]\u001b[0m Trial 191 finished with value: 0.580343194999865 and parameters: {'min_child_weight': 3, 'gamma': 3.2, 'alpha': 3.8000000000000003, 'lambda': 0.0022725056598784294, 'subsample': 0.7000000000000001, 'colsample_bytree': 1.0, 'colsample_bylevel': 0.8500000000000001, 'colsample_bynode': 0.55, 'learning_rate': 0.04, 'max_depth': 3}. Best is trial 188 with value: 0.5800369407463641.\u001b[0m\n",
            "\u001b[32m[I 2022-12-12 15:49:28,703]\u001b[0m Trial 192 finished with value: 0.580655219460527 and parameters: {'min_child_weight': 10, 'gamma': 2.4000000000000004, 'alpha': 0.5, 'lambda': 0.005771417511111362, 'subsample': 1.0, 'colsample_bytree': 0.9500000000000001, 'colsample_bylevel': 0.9000000000000001, 'colsample_bynode': 1.0, 'learning_rate': 0.09999999999999999, 'max_depth': 4}. Best is trial 188 with value: 0.5800369407463641.\u001b[0m\n",
            "\u001b[32m[I 2022-12-12 15:49:32,298]\u001b[0m Trial 193 finished with value: 0.5808184577964601 and parameters: {'min_child_weight': 7, 'gamma': 2.1, 'alpha': 2.5, 'lambda': 654.4851168790766, 'subsample': 0.8500000000000001, 'colsample_bytree': 0.75, 'colsample_bylevel': 0.8500000000000001, 'colsample_bynode': 0.75, 'learning_rate': 0.060000000000000005, 'max_depth': 5}. Best is trial 188 with value: 0.5800369407463641.\u001b[0m\n",
            "\u001b[32m[I 2022-12-12 15:49:36,526]\u001b[0m Trial 194 finished with value: 0.5806994877684685 and parameters: {'min_child_weight': 2, 'gamma': 8.9, 'alpha': 1.55, 'lambda': 0.002734744058343932, 'subsample': 0.7000000000000001, 'colsample_bytree': 0.75, 'colsample_bylevel': 1.0, 'colsample_bynode': 0.75, 'learning_rate': 0.03, 'max_depth': 3}. Best is trial 188 with value: 0.5800369407463641.\u001b[0m\n",
            "\u001b[32m[I 2022-12-12 15:49:39,978]\u001b[0m Trial 195 finished with value: 0.5804876670532284 and parameters: {'min_child_weight': 4, 'gamma': 7.6000000000000005, 'alpha': 4.6000000000000005, 'lambda': 0.00286485714449217, 'subsample': 0.75, 'colsample_bytree': 1.0, 'colsample_bylevel': 0.9500000000000001, 'colsample_bynode': 0.55, 'learning_rate': 0.060000000000000005, 'max_depth': 4}. Best is trial 188 with value: 0.5800369407463641.\u001b[0m\n",
            "\u001b[32m[I 2022-12-12 15:49:43,154]\u001b[0m Trial 196 finished with value: 0.580630049338653 and parameters: {'min_child_weight': 3, 'gamma': 0.6000000000000001, 'alpha': 1.5, 'lambda': 0.11398493398237917, 'subsample': 0.8, 'colsample_bytree': 0.8500000000000001, 'colsample_bylevel': 1.0, 'colsample_bynode': 0.9500000000000001, 'learning_rate': 0.09999999999999999, 'max_depth': 4}. Best is trial 188 with value: 0.5800369407463641.\u001b[0m\n",
            "\u001b[32m[I 2022-12-12 15:49:45,857]\u001b[0m Trial 197 finished with value: 0.5802834503402312 and parameters: {'min_child_weight': 8, 'gamma': 4.4, 'alpha': 0.0, 'lambda': 0.006553841047249094, 'subsample': 0.8500000000000001, 'colsample_bytree': 0.9500000000000001, 'colsample_bylevel': 1.0, 'colsample_bynode': 1.0, 'learning_rate': 0.09999999999999999, 'max_depth': 3}. Best is trial 188 with value: 0.5800369407463641.\u001b[0m\n",
            "\u001b[32m[I 2022-12-12 15:49:48,905]\u001b[0m Trial 198 finished with value: 0.5804095026957137 and parameters: {'min_child_weight': 5, 'gamma': 0.2, 'alpha': 1.35, 'lambda': 14.832224975919145, 'subsample': 0.8500000000000001, 'colsample_bytree': 0.8500000000000001, 'colsample_bylevel': 0.8, 'colsample_bynode': 0.75, 'learning_rate': 0.08, 'max_depth': 3}. Best is trial 188 with value: 0.5800369407463641.\u001b[0m\n",
            "\u001b[32m[I 2022-12-12 15:49:53,326]\u001b[0m Trial 199 finished with value: 0.580563303569243 and parameters: {'min_child_weight': 2, 'gamma': 1.7000000000000002, 'alpha': 1.5, 'lambda': 0.04457521201536019, 'subsample': 0.8, 'colsample_bytree': 0.8500000000000001, 'colsample_bylevel': 0.8500000000000001, 'colsample_bynode': 0.55, 'learning_rate': 0.03, 'max_depth': 4}. Best is trial 188 with value: 0.5800369407463641.\u001b[0m\n"
          ]
        },
        {
          "output_type": "stream",
          "name": "stdout",
          "text": [
            "Best trial: 188 -> Best value: 0.58004\n",
            "Best hyperparameters:\n",
            "min_child_weight - 10\n",
            "gamma           - 3.3000000000000003\n",
            "alpha           - 0.65\n",
            "lambda          - 0.005844037592155338\n",
            "subsample       - 0.9500000000000001\n",
            "colsample_bytree - 1.0\n",
            "colsample_bylevel - 1.0\n",
            "colsample_bynode - 1.0\n",
            "learning_rate   - 0.09999999999999999\n",
            "max_depth       - 3\n",
            "[Time taken: 940.09s]\n",
            "\n",
            "-----Cross-validation and prediction-----\n",
            "Fold #0: ( 39 rounds) Logloss = 0.57983\n",
            "Fold #1: ( 29 rounds) Logloss = 0.58103\n",
            "Fold #2: (342 rounds) Logloss = 0.57837\n",
            "Fold #3: ( 49 rounds) Logloss = 0.58146\n",
            "Fold #4: ( 80 rounds) Logloss = 0.57949\n",
            "Avg. Logloss = 0.58004 +/- 0.00111\n",
            "[Time taken: 3.67s]\n",
            "\n",
            "CPU times: user 19min 5s, sys: 13.8 s, total: 19min 19s\n",
            "Wall time: 15min 43s\n"
          ]
        }
      ]
    },
    {
      "cell_type": "markdown",
      "source": [
        "# dart booster"
      ],
      "metadata": {
        "id": "-iZ4R7T62hVn"
      }
    },
    {
      "cell_type": "code",
      "source": [
        "%%time\n",
        "op_dart, tp_dart = run_experiment(\n",
        "    data=(train[features], train[TARGET], test[features]),\n",
        "    booster='dart',\n",
        "    n_trials=50\n",
        ")"
      ],
      "metadata": {
        "colab": {
          "base_uri": "https://localhost:8080/"
        },
        "id": "dag6U-A62jJj",
        "outputId": "532973b2-0643-4363-cb52-58be3c278672"
      },
      "execution_count": 19,
      "outputs": [
        {
          "output_type": "stream",
          "name": "stderr",
          "text": [
            "\u001b[32m[I 2022-12-12 15:49:57,083]\u001b[0m A new study created in memory with name: no-name-bc4ebd8c-dbe4-44f3-a152-14862f863570\u001b[0m\n"
          ]
        },
        {
          "output_type": "stream",
          "name": "stdout",
          "text": [
            "----------Hyperparameter tuning----------\n"
          ]
        },
        {
          "output_type": "stream",
          "name": "stderr",
          "text": [
            "\u001b[32m[I 2022-12-12 15:50:24,547]\u001b[0m Trial 0 finished with value: 0.5906565719559078 and parameters: {'min_child_weight': 6, 'gamma': 12.700000000000001, 'alpha': 1.1, 'lambda': 0.011126643536944284, 'subsample': 0.55, 'colsample_bytree': 0.9000000000000001, 'colsample_bylevel': 0.55, 'colsample_bynode': 0.6000000000000001, 'learning_rate': 0.2, 'max_depth': 6, 'rate_drop': 0.05}. Best is trial 0 with value: 0.5906565719559078.\u001b[0m\n",
            "\u001b[32m[I 2022-12-12 15:50:40,467]\u001b[0m Trial 1 finished with value: 0.6389890683889389 and parameters: {'min_child_weight': 3, 'gamma': 2.2, 'alpha': 4.15, 'lambda': 8418.152379595756, 'subsample': 0.8, 'colsample_bytree': 0.6000000000000001, 'colsample_bylevel': 0.8500000000000001, 'colsample_bynode': 0.7000000000000001, 'learning_rate': 0.2, 'max_depth': 6, 'rate_drop': 0.2}. Best is trial 0 with value: 0.5906565719559078.\u001b[0m\n",
            "\u001b[32m[I 2022-12-12 15:50:55,948]\u001b[0m Trial 2 finished with value: 0.6073671107803073 and parameters: {'min_child_weight': 8, 'gamma': 3.7, 'alpha': 0.30000000000000004, 'lambda': 191.14816156040527, 'subsample': 0.6000000000000001, 'colsample_bytree': 0.75, 'colsample_bylevel': 0.8500000000000001, 'colsample_bynode': 0.7000000000000001, 'learning_rate': 0.2, 'max_depth': 8, 'rate_drop': 0.1}. Best is trial 0 with value: 0.5906565719559078.\u001b[0m\n",
            "\u001b[32m[I 2022-12-12 15:51:10,666]\u001b[0m Trial 3 finished with value: 0.6492201401648068 and parameters: {'min_child_weight': 7, 'gamma': 15.0, 'alpha': 3.6500000000000004, 'lambda': 9879.44721380222, 'subsample': 0.9500000000000001, 'colsample_bytree': 0.75, 'colsample_bylevel': 0.9500000000000001, 'colsample_bynode': 1.0, 'learning_rate': 0.25, 'max_depth': 8, 'rate_drop': 0.2}. Best is trial 0 with value: 0.5906565719559078.\u001b[0m\n",
            "\u001b[32m[I 2022-12-12 15:51:40,729]\u001b[0m Trial 4 finished with value: 0.5866889486866339 and parameters: {'min_child_weight': 14, 'gamma': 13.3, 'alpha': 0.45, 'lambda': 0.003301449083289454, 'subsample': 0.6000000000000001, 'colsample_bytree': 0.75, 'colsample_bylevel': 0.75, 'colsample_bynode': 0.65, 'learning_rate': 0.15000000000000002, 'max_depth': 6, 'rate_drop': 0.05}. Best is trial 4 with value: 0.5866889486866339.\u001b[0m\n",
            "\u001b[32m[I 2022-12-12 15:52:00,828]\u001b[0m Trial 5 finished with value: 0.5943490684188547 and parameters: {'min_child_weight': 2, 'gamma': 13.8, 'alpha': 0.1, 'lambda': 282.70958072170487, 'subsample': 0.6000000000000001, 'colsample_bytree': 0.7000000000000001, 'colsample_bylevel': 0.8, 'colsample_bynode': 0.6000000000000001, 'learning_rate': 0.25, 'max_depth': 7, 'rate_drop': 0.05}. Best is trial 4 with value: 0.5866889486866339.\u001b[0m\n",
            "\u001b[32m[I 2022-12-12 15:53:10,082]\u001b[0m Trial 6 finished with value: 0.5896017526402361 and parameters: {'min_child_weight': 11, 'gamma': 7.2, 'alpha': 3.2, 'lambda': 0.001313481886263496, 'subsample': 0.75, 'colsample_bytree': 0.9500000000000001, 'colsample_bylevel': 0.55, 'colsample_bynode': 0.65, 'learning_rate': 0.05, 'max_depth': 8, 'rate_drop': 0.15000000000000002}. Best is trial 4 with value: 0.5866889486866339.\u001b[0m\n",
            "\u001b[32m[I 2022-12-12 15:53:30,618]\u001b[0m Trial 7 finished with value: 0.6268162932197252 and parameters: {'min_child_weight': 8, 'gamma': 14.600000000000001, 'alpha': 2.95, 'lambda': 30.459900396879984, 'subsample': 0.9500000000000001, 'colsample_bytree': 0.6000000000000001, 'colsample_bylevel': 1.0, 'colsample_bynode': 1.0, 'learning_rate': 0.15000000000000002, 'max_depth': 3, 'rate_drop': 0.2}. Best is trial 4 with value: 0.5866889486866339.\u001b[0m\n",
            "\u001b[32m[I 2022-12-12 15:53:49,573]\u001b[0m Trial 8 finished with value: 0.5986925678593772 and parameters: {'min_child_weight': 2, 'gamma': 2.0, 'alpha': 2.75, 'lambda': 0.03662224067098145, 'subsample': 0.8, 'colsample_bytree': 0.9500000000000001, 'colsample_bylevel': 0.55, 'colsample_bynode': 0.75, 'learning_rate': 0.15000000000000002, 'max_depth': 7, 'rate_drop': 0.1}. Best is trial 4 with value: 0.5866889486866339.\u001b[0m\n",
            "\u001b[32m[I 2022-12-12 15:54:30,918]\u001b[0m Trial 9 finished with value: 0.5921554134048168 and parameters: {'min_child_weight': 14, 'gamma': 10.4, 'alpha': 3.6500000000000004, 'lambda': 8861.170268999416, 'subsample': 0.9500000000000001, 'colsample_bytree': 0.6000000000000001, 'colsample_bylevel': 0.55, 'colsample_bynode': 0.6000000000000001, 'learning_rate': 0.1, 'max_depth': 8, 'rate_drop': 0.1}. Best is trial 4 with value: 0.5866889486866339.\u001b[0m\n",
            "\u001b[32m[I 2022-12-12 15:54:55,191]\u001b[0m Trial 10 finished with value: 0.6256550087815239 and parameters: {'min_child_weight': 15, 'gamma': 10.4, 'alpha': 0.15000000000000002, 'lambda': 0.002843202083379302, 'subsample': 0.65, 'colsample_bytree': 0.75, 'colsample_bylevel': 0.6000000000000001, 'colsample_bynode': 0.55, 'learning_rate': 0.2, 'max_depth': 7, 'rate_drop': 0.15000000000000002}. Best is trial 4 with value: 0.5866889486866339.\u001b[0m\n",
            "\u001b[32m[I 2022-12-12 15:55:18,677]\u001b[0m Trial 11 finished with value: 0.5867984671010857 and parameters: {'min_child_weight': 13, 'gamma': 12.4, 'alpha': 0.15000000000000002, 'lambda': 0.001010134895439364, 'subsample': 0.65, 'colsample_bytree': 1.0, 'colsample_bylevel': 0.8500000000000001, 'colsample_bynode': 0.75, 'learning_rate': 0.15000000000000002, 'max_depth': 5, 'rate_drop': 0.05}. Best is trial 4 with value: 0.5866889486866339.\u001b[0m\n",
            "\u001b[32m[I 2022-12-12 15:55:41,088]\u001b[0m Trial 12 finished with value: 0.5991618776633626 and parameters: {'min_child_weight': 10, 'gamma': 11.700000000000001, 'alpha': 0.5, 'lambda': 0.07743523588315737, 'subsample': 0.6000000000000001, 'colsample_bytree': 0.9500000000000001, 'colsample_bylevel': 0.9500000000000001, 'colsample_bynode': 0.65, 'learning_rate': 0.15000000000000002, 'max_depth': 5, 'rate_drop': 0.1}. Best is trial 4 with value: 0.5866889486866339.\u001b[0m\n",
            "\u001b[32m[I 2022-12-12 15:56:04,107]\u001b[0m Trial 13 finished with value: 0.5907996601930685 and parameters: {'min_child_weight': 11, 'gamma': 5.9, 'alpha': 0.25, 'lambda': 0.001421012447885742, 'subsample': 0.75, 'colsample_bytree': 0.9500000000000001, 'colsample_bylevel': 0.9500000000000001, 'colsample_bynode': 0.8500000000000001, 'learning_rate': 0.2, 'max_depth': 7, 'rate_drop': 0.05}. Best is trial 4 with value: 0.5866889486866339.\u001b[0m\n",
            "\u001b[32m[I 2022-12-12 15:56:30,514]\u001b[0m Trial 14 finished with value: 0.5841446640590826 and parameters: {'min_child_weight': 15, 'gamma': 14.200000000000001, 'alpha': 0.5, 'lambda': 0.04409516418320541, 'subsample': 0.75, 'colsample_bytree': 0.8, 'colsample_bylevel': 0.8500000000000001, 'colsample_bynode': 0.8, 'learning_rate': 0.1, 'max_depth': 6, 'rate_drop': 0.05}. Best is trial 14 with value: 0.5841446640590826.\u001b[0m\n",
            "\u001b[32m[I 2022-12-12 15:56:50,450]\u001b[0m Trial 15 finished with value: 0.5867873439888159 and parameters: {'min_child_weight': 15, 'gamma': 11.700000000000001, 'alpha': 0.25, 'lambda': 0.007839706932780478, 'subsample': 0.8500000000000001, 'colsample_bytree': 0.65, 'colsample_bylevel': 0.9000000000000001, 'colsample_bynode': 0.9000000000000001, 'learning_rate': 0.15000000000000002, 'max_depth': 4, 'rate_drop': 0.05}. Best is trial 14 with value: 0.5841446640590826.\u001b[0m\n",
            "\u001b[32m[I 2022-12-12 15:57:25,743]\u001b[0m Trial 16 finished with value: 0.5843024867134434 and parameters: {'min_child_weight': 15, 'gamma': 13.600000000000001, 'alpha': 1.1, 'lambda': 0.036544480489246765, 'subsample': 0.8500000000000001, 'colsample_bytree': 0.7000000000000001, 'colsample_bylevel': 0.75, 'colsample_bynode': 0.75, 'learning_rate': 0.1, 'max_depth': 8, 'rate_drop': 0.05}. Best is trial 14 with value: 0.5841446640590826.\u001b[0m\n",
            "\u001b[32m[I 2022-12-12 15:57:49,192]\u001b[0m Trial 17 finished with value: 0.5840369140718664 and parameters: {'min_child_weight': 14, 'gamma': 10.9, 'alpha': 0.8, 'lambda': 18.77223351000985, 'subsample': 0.8500000000000001, 'colsample_bytree': 0.8, 'colsample_bylevel': 0.8500000000000001, 'colsample_bynode': 0.65, 'learning_rate': 0.1, 'max_depth': 6, 'rate_drop': 0.05}. Best is trial 17 with value: 0.5840369140718664.\u001b[0m\n",
            "\u001b[32m[I 2022-12-12 15:58:13,823]\u001b[0m Trial 18 finished with value: 0.5842910256612868 and parameters: {'min_child_weight': 12, 'gamma': 13.8, 'alpha': 1.75, 'lambda': 5.84269790621079, 'subsample': 0.8, 'colsample_bytree': 0.9000000000000001, 'colsample_bylevel': 0.9000000000000001, 'colsample_bynode': 0.55, 'learning_rate': 0.1, 'max_depth': 7, 'rate_drop': 0.05}. Best is trial 17 with value: 0.5840369140718664.\u001b[0m\n",
            "\u001b[32m[I 2022-12-12 15:58:35,316]\u001b[0m Trial 19 finished with value: 0.6011522536433878 and parameters: {'min_child_weight': 14, 'gamma': 11.0, 'alpha': 1.05, 'lambda': 844.126167898249, 'subsample': 0.9000000000000001, 'colsample_bytree': 0.7000000000000001, 'colsample_bylevel': 0.8500000000000001, 'colsample_bynode': 0.7000000000000001, 'learning_rate': 0.1, 'max_depth': 4, 'rate_drop': 0.15000000000000002}. Best is trial 17 with value: 0.5840369140718664.\u001b[0m\n",
            "\u001b[32m[I 2022-12-12 15:58:55,027]\u001b[0m Trial 20 finished with value: 0.5983313614186787 and parameters: {'min_child_weight': 14, 'gamma': 13.9, 'alpha': 1.4500000000000002, 'lambda': 3.290446476477577, 'subsample': 0.75, 'colsample_bytree': 0.8500000000000001, 'colsample_bylevel': 0.9000000000000001, 'colsample_bynode': 0.8500000000000001, 'learning_rate': 0.15000000000000002, 'max_depth': 5, 'rate_drop': 0.1}. Best is trial 17 with value: 0.5840369140718664.\u001b[0m\n",
            "\u001b[32m[I 2022-12-12 15:59:25,238]\u001b[0m Trial 21 finished with value: 0.6000664310299215 and parameters: {'min_child_weight': 13, 'gamma': 12.3, 'alpha': 2.35, 'lambda': 15.698415856437382, 'subsample': 0.8, 'colsample_bytree': 1.0, 'colsample_bylevel': 0.9500000000000001, 'colsample_bynode': 0.55, 'learning_rate': 0.15000000000000002, 'max_depth': 7, 'rate_drop': 0.1}. Best is trial 17 with value: 0.5840369140718664.\u001b[0m\n",
            "\u001b[32m[I 2022-12-12 15:59:50,915]\u001b[0m Trial 22 finished with value: 0.5876141525606314 and parameters: {'min_child_weight': 13, 'gamma': 14.700000000000001, 'alpha': 0.1, 'lambda': 584.4444750647302, 'subsample': 0.7000000000000001, 'colsample_bytree': 0.75, 'colsample_bylevel': 0.8, 'colsample_bynode': 0.55, 'learning_rate': 0.15000000000000002, 'max_depth': 5, 'rate_drop': 0.05}. Best is trial 17 with value: 0.5840369140718664.\u001b[0m\n",
            "\u001b[32m[I 2022-12-12 16:00:36,144]\u001b[0m Trial 23 finished with value: 0.5823462775136743 and parameters: {'min_child_weight': 10, 'gamma': 12.600000000000001, 'alpha': 2.9000000000000004, 'lambda': 0.5190002978172357, 'subsample': 0.8500000000000001, 'colsample_bytree': 0.9500000000000001, 'colsample_bylevel': 0.9000000000000001, 'colsample_bynode': 0.75, 'learning_rate': 0.05, 'max_depth': 8, 'rate_drop': 0.05}. Best is trial 23 with value: 0.5823462775136743.\u001b[0m\n",
            "\u001b[32m[I 2022-12-12 16:01:29,522]\u001b[0m Trial 24 finished with value: 0.5823988641344366 and parameters: {'min_child_weight': 12, 'gamma': 12.600000000000001, 'alpha': 4.25, 'lambda': 29.37020020756385, 'subsample': 0.9500000000000001, 'colsample_bytree': 0.8, 'colsample_bylevel': 0.9500000000000001, 'colsample_bynode': 0.8500000000000001, 'learning_rate': 0.05, 'max_depth': 8, 'rate_drop': 0.05}. Best is trial 23 with value: 0.5823462775136743.\u001b[0m\n",
            "\u001b[32m[I 2022-12-12 16:02:15,175]\u001b[0m Trial 25 finished with value: 0.5845043331554958 and parameters: {'min_child_weight': 8, 'gamma': 12.600000000000001, 'alpha': 4.95, 'lambda': 1.8016721959745747, 'subsample': 0.9000000000000001, 'colsample_bytree': 0.8500000000000001, 'colsample_bylevel': 1.0, 'colsample_bynode': 0.9000000000000001, 'learning_rate': 0.1, 'max_depth': 8, 'rate_drop': 0.05}. Best is trial 23 with value: 0.5823462775136743.\u001b[0m\n",
            "\u001b[32m[I 2022-12-12 16:02:53,884]\u001b[0m Trial 26 finished with value: 0.5823226749613172 and parameters: {'min_child_weight': 13, 'gamma': 8.200000000000001, 'alpha': 3.45, 'lambda': 39.6553898014317, 'subsample': 1.0, 'colsample_bytree': 0.75, 'colsample_bylevel': 1.0, 'colsample_bynode': 0.8500000000000001, 'learning_rate': 0.05, 'max_depth': 6, 'rate_drop': 0.05}. Best is trial 26 with value: 0.5823226749613172.\u001b[0m\n",
            "\u001b[32m[I 2022-12-12 16:03:29,923]\u001b[0m Trial 27 finished with value: 0.5853731289264701 and parameters: {'min_child_weight': 15, 'gamma': 13.700000000000001, 'alpha': 3.0, 'lambda': 524.776080806608, 'subsample': 0.9500000000000001, 'colsample_bytree': 0.8, 'colsample_bylevel': 0.9500000000000001, 'colsample_bynode': 0.75, 'learning_rate': 0.05, 'max_depth': 7, 'rate_drop': 0.1}. Best is trial 26 with value: 0.5823226749613172.\u001b[0m\n",
            "\u001b[32m[I 2022-12-12 16:03:50,585]\u001b[0m Trial 28 finished with value: 0.5836475956979252 and parameters: {'min_child_weight': 14, 'gamma': 4.3, 'alpha': 2.95, 'lambda': 220.3982270360688, 'subsample': 0.9500000000000001, 'colsample_bytree': 0.65, 'colsample_bylevel': 1.0, 'colsample_bynode': 0.75, 'learning_rate': 0.1, 'max_depth': 5, 'rate_drop': 0.05}. Best is trial 26 with value: 0.5823226749613172.\u001b[0m\n",
            "\u001b[32m[I 2022-12-12 16:04:29,252]\u001b[0m Trial 29 finished with value: 0.5822151491755532 and parameters: {'min_child_weight': 5, 'gamma': 11.100000000000001, 'alpha': 2.5, 'lambda': 9.598653688081729, 'subsample': 0.8500000000000001, 'colsample_bytree': 0.9000000000000001, 'colsample_bylevel': 0.75, 'colsample_bynode': 0.75, 'learning_rate': 0.05, 'max_depth': 8, 'rate_drop': 0.05}. Best is trial 29 with value: 0.5822151491755532.\u001b[0m\n",
            "\u001b[32m[I 2022-12-12 16:05:02,407]\u001b[0m Trial 30 finished with value: 0.58234044137739 and parameters: {'min_child_weight': 3, 'gamma': 10.700000000000001, 'alpha': 2.85, 'lambda': 0.7880207634096607, 'subsample': 0.9500000000000001, 'colsample_bytree': 0.8, 'colsample_bylevel': 0.7000000000000001, 'colsample_bynode': 0.8, 'learning_rate': 0.05, 'max_depth': 6, 'rate_drop': 0.05}. Best is trial 29 with value: 0.5822151491755532.\u001b[0m\n",
            "\u001b[32m[I 2022-12-12 16:05:56,082]\u001b[0m Trial 31 finished with value: 0.5821076831448646 and parameters: {'min_child_weight': 2, 'gamma': 9.600000000000001, 'alpha': 2.15, 'lambda': 0.11806923188095107, 'subsample': 0.9000000000000001, 'colsample_bytree': 0.8500000000000001, 'colsample_bylevel': 0.75, 'colsample_bynode': 0.8, 'learning_rate': 0.05, 'max_depth': 7, 'rate_drop': 0.05}. Best is trial 31 with value: 0.5821076831448646.\u001b[0m\n",
            "\u001b[32m[I 2022-12-12 16:06:58,565]\u001b[0m Trial 32 finished with value: 0.5819090363440059 and parameters: {'min_child_weight': 4, 'gamma': 7.0, 'alpha': 2.35, 'lambda': 1.3637500994075828, 'subsample': 0.9500000000000001, 'colsample_bytree': 0.75, 'colsample_bylevel': 0.8, 'colsample_bynode': 0.8, 'learning_rate': 0.05, 'max_depth': 8, 'rate_drop': 0.05}. Best is trial 32 with value: 0.5819090363440059.\u001b[0m\n",
            "\u001b[32m[I 2022-12-12 16:07:51,708]\u001b[0m Trial 33 finished with value: 0.5815151982108752 and parameters: {'min_child_weight': 2, 'gamma': 5.7, 'alpha': 1.85, 'lambda': 0.8441960876832094, 'subsample': 0.9000000000000001, 'colsample_bytree': 0.75, 'colsample_bylevel': 0.8, 'colsample_bynode': 0.8, 'learning_rate': 0.05, 'max_depth': 8, 'rate_drop': 0.05}. Best is trial 33 with value: 0.5815151982108752.\u001b[0m\n",
            "\u001b[32m[I 2022-12-12 16:08:53,710]\u001b[0m Trial 34 finished with value: 0.5847221385268938 and parameters: {'min_child_weight': 4, 'gamma': 5.2, 'alpha': 1.55, 'lambda': 0.5241019685152181, 'subsample': 1.0, 'colsample_bytree': 0.65, 'colsample_bylevel': 0.9000000000000001, 'colsample_bynode': 0.8500000000000001, 'learning_rate': 0.05, 'max_depth': 8, 'rate_drop': 0.1}. Best is trial 33 with value: 0.5815151982108752.\u001b[0m\n",
            "\u001b[32m[I 2022-12-12 16:09:25,966]\u001b[0m Trial 35 finished with value: 0.5817776206029313 and parameters: {'min_child_weight': 2, 'gamma': 3.0, 'alpha': 2.45, 'lambda': 0.014548362804329345, 'subsample': 0.75, 'colsample_bytree': 0.75, 'colsample_bylevel': 0.8500000000000001, 'colsample_bynode': 0.8500000000000001, 'learning_rate': 0.05, 'max_depth': 7, 'rate_drop': 0.05}. Best is trial 33 with value: 0.5815151982108752.\u001b[0m\n",
            "\u001b[32m[I 2022-12-12 16:09:56,907]\u001b[0m Trial 36 finished with value: 0.5818827465481702 and parameters: {'min_child_weight': 2, 'gamma': 2.9000000000000004, 'alpha': 2.6, 'lambda': 0.3060896259379582, 'subsample': 0.7000000000000001, 'colsample_bytree': 0.7000000000000001, 'colsample_bylevel': 0.9500000000000001, 'colsample_bynode': 0.8500000000000001, 'learning_rate': 0.05, 'max_depth': 7, 'rate_drop': 0.05}. Best is trial 33 with value: 0.5815151982108752.\u001b[0m\n",
            "\u001b[32m[I 2022-12-12 16:10:20,044]\u001b[0m Trial 37 finished with value: 0.5830008870668355 and parameters: {'min_child_weight': 6, 'gamma': 0.9, 'alpha': 3.25, 'lambda': 2.4789838809882414, 'subsample': 0.65, 'colsample_bytree': 0.75, 'colsample_bylevel': 0.9000000000000001, 'colsample_bynode': 0.9000000000000001, 'learning_rate': 0.05, 'max_depth': 7, 'rate_drop': 0.05}. Best is trial 33 with value: 0.5815151982108752.\u001b[0m\n",
            "\u001b[32m[I 2022-12-12 16:11:10,717]\u001b[0m Trial 38 finished with value: 0.5820977861767723 and parameters: {'min_child_weight': 2, 'gamma': 8.700000000000001, 'alpha': 4.5, 'lambda': 0.03605079061492672, 'subsample': 0.7000000000000001, 'colsample_bytree': 0.65, 'colsample_bylevel': 0.9000000000000001, 'colsample_bynode': 0.75, 'learning_rate': 0.05, 'max_depth': 6, 'rate_drop': 0.05}. Best is trial 33 with value: 0.5815151982108752.\u001b[0m\n",
            "\u001b[32m[I 2022-12-12 16:11:26,212]\u001b[0m Trial 39 finished with value: 0.5853201565408991 and parameters: {'min_child_weight': 3, 'gamma': 3.1, 'alpha': 0.2, 'lambda': 0.0019537132985327508, 'subsample': 0.7000000000000001, 'colsample_bytree': 0.75, 'colsample_bylevel': 0.8500000000000001, 'colsample_bynode': 0.8500000000000001, 'learning_rate': 0.1, 'max_depth': 7, 'rate_drop': 0.05}. Best is trial 33 with value: 0.5815151982108752.\u001b[0m\n",
            "\u001b[32m[I 2022-12-12 16:12:10,204]\u001b[0m Trial 40 finished with value: 0.5815691027442614 and parameters: {'min_child_weight': 2, 'gamma': 3.4000000000000004, 'alpha': 3.25, 'lambda': 0.011853549390750154, 'subsample': 0.75, 'colsample_bytree': 0.75, 'colsample_bylevel': 0.8500000000000001, 'colsample_bynode': 0.9000000000000001, 'learning_rate': 0.05, 'max_depth': 8, 'rate_drop': 0.05}. Best is trial 33 with value: 0.5815151982108752.\u001b[0m\n",
            "\u001b[32m[I 2022-12-12 16:12:34,538]\u001b[0m Trial 41 finished with value: 0.5829846331952584 and parameters: {'min_child_weight': 3, 'gamma': 2.2, 'alpha': 2.75, 'lambda': 0.0013925149746942304, 'subsample': 0.8, 'colsample_bytree': 0.75, 'colsample_bylevel': 0.8, 'colsample_bynode': 0.8500000000000001, 'learning_rate': 0.05, 'max_depth': 8, 'rate_drop': 0.05}. Best is trial 33 with value: 0.5815151982108752.\u001b[0m\n",
            "\u001b[32m[I 2022-12-12 16:13:01,790]\u001b[0m Trial 42 finished with value: 0.5834427597068605 and parameters: {'min_child_weight': 4, 'gamma': 5.0, 'alpha': 2.8000000000000003, 'lambda': 8.762483750416186, 'subsample': 0.9500000000000001, 'colsample_bytree': 0.7000000000000001, 'colsample_bylevel': 0.8500000000000001, 'colsample_bynode': 0.6000000000000001, 'learning_rate': 0.1, 'max_depth': 7, 'rate_drop': 0.05}. Best is trial 33 with value: 0.5815151982108752.\u001b[0m\n",
            "\u001b[32m[I 2022-12-12 16:13:22,164]\u001b[0m Trial 43 finished with value: 0.5897033465547221 and parameters: {'min_child_weight': 3, 'gamma': 4.7, 'alpha': 4.1000000000000005, 'lambda': 0.004100004502233136, 'subsample': 0.7000000000000001, 'colsample_bytree': 0.8, 'colsample_bylevel': 0.9500000000000001, 'colsample_bynode': 1.0, 'learning_rate': 0.1, 'max_depth': 7, 'rate_drop': 0.1}. Best is trial 33 with value: 0.5815151982108752.\u001b[0m\n",
            "\u001b[32m[I 2022-12-12 16:13:55,679]\u001b[0m Trial 44 finished with value: 0.5833883562854358 and parameters: {'min_child_weight': 3, 'gamma': 6.4, 'alpha': 2.15, 'lambda': 3.886841270825142, 'subsample': 0.6000000000000001, 'colsample_bytree': 0.75, 'colsample_bylevel': 1.0, 'colsample_bynode': 0.75, 'learning_rate': 0.1, 'max_depth': 8, 'rate_drop': 0.05}. Best is trial 33 with value: 0.5815151982108752.\u001b[0m\n",
            "\u001b[32m[I 2022-12-12 16:14:44,563]\u001b[0m Trial 45 finished with value: 0.5818238063326904 and parameters: {'min_child_weight': 2, 'gamma': 6.9, 'alpha': 1.9000000000000001, 'lambda': 1.2402685595702954, 'subsample': 0.65, 'colsample_bytree': 0.65, 'colsample_bylevel': 0.9000000000000001, 'colsample_bynode': 0.9000000000000001, 'learning_rate': 0.05, 'max_depth': 6, 'rate_drop': 0.05}. Best is trial 33 with value: 0.5815151982108752.\u001b[0m\n",
            "\u001b[32m[I 2022-12-12 16:15:37,220]\u001b[0m Trial 46 finished with value: 0.5815289829792011 and parameters: {'min_child_weight': 2, 'gamma': 4.6000000000000005, 'alpha': 2.85, 'lambda': 17.37595447066382, 'subsample': 0.65, 'colsample_bytree': 0.6000000000000001, 'colsample_bylevel': 0.9500000000000001, 'colsample_bynode': 0.8500000000000001, 'learning_rate': 0.05, 'max_depth': 5, 'rate_drop': 0.05}. Best is trial 33 with value: 0.5815151982108752.\u001b[0m\n",
            "\u001b[32m[I 2022-12-12 16:15:58,451]\u001b[0m Trial 47 finished with value: 0.5833211913548765 and parameters: {'min_child_weight': 3, 'gamma': 5.1000000000000005, 'alpha': 2.25, 'lambda': 3628.646190272368, 'subsample': 0.65, 'colsample_bytree': 0.7000000000000001, 'colsample_bylevel': 0.9000000000000001, 'colsample_bynode': 0.8500000000000001, 'learning_rate': 0.1, 'max_depth': 3, 'rate_drop': 0.05}. Best is trial 33 with value: 0.5815151982108752.\u001b[0m\n",
            "\u001b[32m[I 2022-12-12 16:16:38,035]\u001b[0m Trial 48 finished with value: 0.5818211497636069 and parameters: {'min_child_weight': 4, 'gamma': 7.6000000000000005, 'alpha': 1.8, 'lambda': 0.6179957373105746, 'subsample': 0.7000000000000001, 'colsample_bytree': 0.6000000000000001, 'colsample_bylevel': 1.0, 'colsample_bynode': 0.9500000000000001, 'learning_rate': 0.05, 'max_depth': 5, 'rate_drop': 0.05}. Best is trial 33 with value: 0.5815151982108752.\u001b[0m\n",
            "\u001b[32m[I 2022-12-12 16:17:14,962]\u001b[0m Trial 49 finished with value: 0.5818065389451526 and parameters: {'min_child_weight': 3, 'gamma': 6.7, 'alpha': 0.75, 'lambda': 8.631105792839946, 'subsample': 0.8, 'colsample_bytree': 0.75, 'colsample_bylevel': 0.7000000000000001, 'colsample_bynode': 0.8, 'learning_rate': 0.05, 'max_depth': 7, 'rate_drop': 0.05}. Best is trial 33 with value: 0.5815151982108752.\u001b[0m\n"
          ]
        },
        {
          "output_type": "stream",
          "name": "stdout",
          "text": [
            "Best trial: 33 -> Best value: 0.58152\n",
            "Best hyperparameters:\n",
            "min_child_weight - 2\n",
            "gamma           - 5.7\n",
            "alpha           - 1.85\n",
            "lambda          - 0.8441960876832094\n",
            "subsample       - 0.9000000000000001\n",
            "colsample_bytree - 0.75\n",
            "colsample_bylevel - 0.8\n",
            "colsample_bynode - 0.8\n",
            "learning_rate   - 0.05\n",
            "max_depth       - 8\n",
            "rate_drop       - 0.05\n",
            "[Time taken: 1637.94s]\n",
            "\n",
            "-----Cross-validation and prediction-----\n",
            "Fold #0: (126 rounds) Logloss = 0.58128\n",
            "Fold #1: (168 rounds) Logloss = 0.58177\n",
            "Fold #2: (146 rounds) Logloss = 0.58061\n",
            "Fold #3: ( 98 rounds) Logloss = 0.58262\n",
            "Fold #4: (281 rounds) Logloss = 0.58199\n",
            "Avg. Logloss = 0.58165 +/- 0.00068\n",
            "[Time taken: 63.69s]\n",
            "\n",
            "CPU times: user 29min 16s, sys: 4.44 s, total: 29min 20s\n",
            "Wall time: 28min 21s\n"
          ]
        }
      ]
    },
    {
      "cell_type": "markdown",
      "source": [
        "# Submission files"
      ],
      "metadata": {
        "id": "EahA1dJ47Z1P"
      }
    },
    {
      "cell_type": "code",
      "source": [
        "from google.colab import drive\n",
        "drive.mount('/content/drive')"
      ],
      "metadata": {
        "colab": {
          "base_uri": "https://localhost:8080/"
        },
        "id": "7npzUESt7bGc",
        "outputId": "2dd0622b-06c7-4a83-fa93-b8a580e701ce"
      },
      "execution_count": 20,
      "outputs": [
        {
          "output_type": "stream",
          "name": "stdout",
          "text": [
            "Mounted at /content/drive\n"
          ]
        }
      ]
    },
    {
      "cell_type": "code",
      "source": [
        "NOTEBOOK = '06'\n",
        "SUBMISSION_PATH = f'/content/drive/MyDrive/data_science_competitions/machinehack/subscriber_prediction_hackathon/submissions/nb_{NOTEBOOK}'\n",
        "if not os.path.isdir(SUBMISSION_PATH):\n",
        "    os.makedirs(SUBMISSION_PATH)"
      ],
      "metadata": {
        "id": "Z39yNfKD7b95"
      },
      "execution_count": 21,
      "outputs": []
    },
    {
      "cell_type": "code",
      "source": [
        "def create_submission_files(test_preds, model_type, path=SUBMISSION_PATH):\n",
        "    for col in (test_preds.columns):\n",
        "        sub = sample_sub.copy()\n",
        "        sub[TARGET] = test_preds[col]\n",
        "        sub.to_csv(f'{path}/{model_type}_{col}.csv', index=False)"
      ],
      "metadata": {
        "id": "5y6XhjNx8OJT"
      },
      "execution_count": 22,
      "outputs": []
    },
    {
      "cell_type": "code",
      "source": [
        "create_submission_files(tp_gbtree, 'gbtree')\n",
        "create_submission_files(tp_dart, 'dart')"
      ],
      "metadata": {
        "id": "Ii5dHRpk8Rve"
      },
      "execution_count": 23,
      "outputs": []
    }
  ]
}