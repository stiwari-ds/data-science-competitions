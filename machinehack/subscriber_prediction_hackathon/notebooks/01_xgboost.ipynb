{
  "nbformat": 4,
  "nbformat_minor": 0,
  "metadata": {
    "colab": {
      "provenance": [],
      "authorship_tag": "ABX9TyMKaCkaEgf5f/bJ35E4YyHQ",
      "include_colab_link": true
    },
    "kernelspec": {
      "name": "python3",
      "display_name": "Python 3"
    },
    "language_info": {
      "name": "python"
    },
    "accelerator": "GPU",
    "gpuClass": "standard"
  },
  "cells": [
    {
      "cell_type": "markdown",
      "metadata": {
        "id": "view-in-github",
        "colab_type": "text"
      },
      "source": [
        "<a href=\"https://colab.research.google.com/github/stiwari-ds/data-science-competitions/blob/main/machinehack/subscriber_prediction_hackathon/notebooks/01_xgboost.ipynb\" target=\"_parent\"><img src=\"https://colab.research.google.com/assets/colab-badge.svg\" alt=\"Open In Colab\"/></a>"
      ]
    },
    {
      "cell_type": "markdown",
      "source": [
        "# Setup"
      ],
      "metadata": {
        "id": "fMe_ffy2a_ac"
      }
    },
    {
      "cell_type": "code",
      "execution_count": 1,
      "metadata": {
        "id": "wyde65PCala3"
      },
      "outputs": [],
      "source": [
        "%%capture\n",
        "!pip install --upgrade xgboost\n",
        "!pip install --upgrade optuna"
      ]
    },
    {
      "cell_type": "code",
      "source": [
        "import os\n",
        "import gc\n",
        "import time\n",
        "import warnings\n",
        "import subprocess\n",
        "\n",
        "gc.enable()\n",
        "warnings.filterwarnings('ignore')\n",
        "\n",
        "import pandas as pd\n",
        "import numpy as np\n",
        "pd.set_option('display.max_columns', None)\n",
        "pd.set_option('display.precision', 4)\n",
        "np.set_printoptions(precision=4)\n",
        "\n",
        "import optuna\n",
        "from optuna.samplers import TPESampler\n",
        "from optuna.pruners import HyperbandPruner\n",
        "\n",
        "import xgboost\n",
        "from xgboost import XGBClassifier\n",
        "\n",
        "from sklearn.model_selection import StratifiedKFold\n",
        "from sklearn.metrics import log_loss\n",
        "\n",
        "SEED = 23\n",
        "os.environ['PYTHONHASHSEED'] = str(SEED)\n",
        "np.random.seed(SEED)"
      ],
      "metadata": {
        "id": "eKfBaXpBbBUQ"
      },
      "execution_count": 2,
      "outputs": []
    },
    {
      "cell_type": "code",
      "source": [
        "#remove cell to run future versions\n",
        "assert optuna.__version__ == '3.0.3', f'Change in Optuna version. Original notebook version: 3.0.3'\n",
        "assert xgboost.__version__ == '1.6.2', f'Change in XGBoost version. Original notebook version: 1.6.2'"
      ],
      "metadata": {
        "id": "QU6c1orQbm3A"
      },
      "execution_count": 3,
      "outputs": []
    },
    {
      "cell_type": "code",
      "source": [
        "#Check GPU availability\n",
        "try:\n",
        "    subprocess.check_output('nvidia-smi')\n",
        "    HAVE_GPU = True\n",
        "except Exception:\n",
        "    HAVE_GPU = False\n",
        "\n",
        "print(f'GPU available: {HAVE_GPU}')"
      ],
      "metadata": {
        "colab": {
          "base_uri": "https://localhost:8080/"
        },
        "id": "NBzLRr5pbr7Z",
        "outputId": "6a3f1d3c-ec83-494a-a7bf-df9bf38bdbbe"
      },
      "execution_count": 4,
      "outputs": [
        {
          "output_type": "stream",
          "name": "stdout",
          "text": [
            "GPU available: True\n"
          ]
        }
      ]
    },
    {
      "cell_type": "code",
      "source": [
        "DATA_URL = 'https://raw.githubusercontent.com/stiwari-ds/data-science-competitions/main/machinehack/subscriber_prediction_hackathon/data'\n",
        "\n",
        "train = pd.read_csv(f'{DATA_URL}/processed/train.csv') #processed dataset from notebook 00\n",
        "test = pd.read_csv(f'{DATA_URL}/processed/test.csv')\n",
        "sample_sub = pd.read_csv(f'{DATA_URL}/raw/submission.csv')"
      ],
      "metadata": {
        "id": "LOHMVhw1ZZS6"
      },
      "execution_count": 6,
      "outputs": []
    },
    {
      "cell_type": "code",
      "source": [
        "TARGET = 'y_bool'"
      ],
      "metadata": {
        "id": "KEJQopfVZppB"
      },
      "execution_count": 7,
      "outputs": []
    },
    {
      "cell_type": "code",
      "source": [
        "features = list(test.columns)\n",
        "num_features = ['age', 'balance', 'day', 'duration', 'campaign', 'pdays', 'previous']\n",
        "cat_features = [f for f in features if f not in num_features]"
      ],
      "metadata": {
        "id": "3zTnF1bvZx-o"
      },
      "execution_count": 8,
      "outputs": []
    },
    {
      "cell_type": "code",
      "source": [
        "original_features = ['age', 'job', 'marital', 'education', 'default', 'balance',\n",
        "                     'housing', 'loan', 'contact', 'day', 'month', 'duration', \n",
        "                     'campaign', 'pdays', 'previous', 'poutcome']\n",
        "\n",
        "cat_only_features = ['age_bins', 'job_groups', 'marital', 'education', 'default',\n",
        "                     'balance_bins', 'housing', 'loan', 'contact', 'day_bins', \n",
        "                     'month_bins', 'duration_bins', 'campaign_bins', 'pdays_bins',\n",
        "                     'pdays_bool', 'previous_bins', 'previous_bool', 'poutcome']"
      ],
      "metadata": {
        "id": "-12ZFzcHHLbV"
      },
      "execution_count": 9,
      "outputs": []
    },
    {
      "cell_type": "code",
      "source": [
        "train[cat_features] = train[cat_features].astype('category')\n",
        "test[cat_features] = test[cat_features].astype('category')"
      ],
      "metadata": {
        "id": "h8hY9cGh2W2b"
      },
      "execution_count": 10,
      "outputs": []
    },
    {
      "cell_type": "markdown",
      "source": [
        "# Baseline"
      ],
      "metadata": {
        "id": "uur7dQEjf6CY"
      }
    },
    {
      "cell_type": "code",
      "source": [
        "%%time\n",
        "scores = []\n",
        "cv = StratifiedKFold(n_splits=5, shuffle=True, random_state=SEED)\n",
        "X, y = train[features], train[TARGET]\n",
        "for fold, (train_idx, val_idx) in enumerate(cv.split(X, y)):\n",
        "    X_train, y_train = X.loc[train_idx], y.iloc[train_idx]\n",
        "    X_val, y_val = X.loc[val_idx], y.iloc[val_idx]\n",
        "\n",
        "    model = XGBClassifier(\n",
        "        objective='binary:logistic',\n",
        "        tree_method='gpu_hist' if HAVE_GPU else 'hist',\n",
        "        enable_categorical=HAVE_GPU,\n",
        "        eval_metric='logloss',\n",
        "        early_stopping_rounds=100, \n",
        "        seed=SEED\n",
        "    ) \n",
        "    model.fit(\n",
        "        X_train, y_train,\n",
        "        eval_set=[(X_val, y_val)],\n",
        "        verbose=0\n",
        "    )\n",
        "    val_preds = model.predict_proba(X_val)[:, 1]\n",
        "    score = log_loss(y_val, val_preds)\n",
        "    scores.append(score)\n",
        "    print(f'Fold #{fold}: ({model.best_iteration} rounds) Logloss = {score:.5f}')\n",
        "    _ = gc.collect()\n",
        "\n",
        "print(f'\\nAvg Logloss = {np.mean(scores):.5f} +/- {np.std(scores):.5f}\\n')"
      ],
      "metadata": {
        "colab": {
          "base_uri": "https://localhost:8080/"
        },
        "id": "OkFlWjOhf5Au",
        "outputId": "e7c42413-8bbe-43cd-d277-c162e34ac278"
      },
      "execution_count": 11,
      "outputs": [
        {
          "output_type": "stream",
          "name": "stdout",
          "text": [
            "Fold #0: (6 rounds) Logloss = 0.58350\n",
            "Fold #1: (5 rounds) Logloss = 0.58590\n",
            "Fold #2: (6 rounds) Logloss = 0.58387\n",
            "Fold #3: (7 rounds) Logloss = 0.58712\n",
            "Fold #4: (6 rounds) Logloss = 0.58251\n",
            "\n",
            "Avg Logloss = 0.58458 +/- 0.00168\n",
            "\n",
            "CPU times: user 5.21 s, sys: 277 ms, total: 5.49 s\n",
            "Wall time: 5.06 s\n"
          ]
        }
      ]
    },
    {
      "cell_type": "markdown",
      "metadata": {
        "id": "oVZEqwhQ2oi2"
      },
      "source": [
        "# Hyperparameter tuning"
      ]
    },
    {
      "cell_type": "code",
      "execution_count": 20,
      "metadata": {
        "id": "i3VeEFRe2oBe"
      },
      "outputs": [],
      "source": [
        "def objective(trial, data, model):\n",
        "\n",
        "    scores = []\n",
        "    X, y = data\n",
        "\n",
        "    param_grid = {\n",
        "        'learning_rate': trial.suggest_float('learning_rate', 0.025, 0.3, step=0.025),\n",
        "        'max_depth': trial.suggest_int('max_depth', 3, 13),\n",
        "        'min_child_weight': trial.suggest_int('min_child_weight', 2, 15),\n",
        "        'gamma': trial.suggest_float('gamma', 0, 15, step=0.1), #complexity-control\n",
        "        'alpha': trial.suggest_float('alpha', 0, 5, step=0.05), #L1-reg\n",
        "        'lambda': trial.suggest_float('lambda', 1e-3, 1e5, log=True), #L2-reg\n",
        "        'subsample': trial.suggest_float('subsample', 0.5, 1.0, step=0.05),\n",
        "        'colsample_bytree': trial.suggest_float('colsample_bytree', 0.5, 1.0, step=0.05),\n",
        "        'colsample_bylevel': trial.suggest_float('colsample_bylevel', 0.5, 1.0, step=0.05),\n",
        "        'colsample_bynode': trial.suggest_float('colsample_bynode', 0.5, 1.0, step=0.05),\n",
        "        'scale_pos_weight': trial.suggest_float('scale_pos_weight', 1, 5, step=0.05),\n",
        "        'max_cat_to_onehot': trial.suggest_categorical('max_cat_to_onehot', [2, 5, 12]) \n",
        "    }\n",
        "\n",
        "    cv = StratifiedKFold(n_splits=5, shuffle=True, random_state=SEED)\n",
        "    for fold, (train_idx, val_idx) in enumerate(cv.split(X, y)):\n",
        "        X_train, y_train = X.loc[train_idx], y.iloc[train_idx]\n",
        "        X_val, y_val = X.loc[val_idx], y.iloc[val_idx]\n",
        "        \n",
        "        model.set_params(**param_grid)\n",
        "        model.fit(\n",
        "            X_train, y_train,\n",
        "            eval_set=[(X_val, y_val)],\n",
        "            verbose=0\n",
        "        )\n",
        "        val_preds = model.predict_proba(X_val)[:, 1]\n",
        "        scores.append(log_loss(y_val, val_preds))\n",
        "\n",
        "    return np.mean(scores)"
      ]
    },
    {
      "cell_type": "code",
      "execution_count": 21,
      "metadata": {
        "id": "7JCjxMSuT3Ep"
      },
      "outputs": [],
      "source": [
        "def tune_params(data, model, n_trials, direction):\n",
        "    study = optuna.create_study(\n",
        "        sampler=TPESampler(seed=SEED),\n",
        "        pruner=HyperbandPruner(),\n",
        "        direction=direction\n",
        "    )\n",
        "    study.optimize(\n",
        "        func=lambda trial: objective(trial, data, model),\n",
        "        n_trials=n_trials,\n",
        "        gc_after_trial=True\n",
        "    )\n",
        "    return study"
      ]
    },
    {
      "cell_type": "markdown",
      "source": [
        "# Cross-validation"
      ],
      "metadata": {
        "id": "_IdnAvEkjxqS"
      }
    },
    {
      "cell_type": "code",
      "source": [
        "def cross_validate_predict(data, model, n_splits=5):\n",
        "    oof_preds = {}  #out-of-fold predictions on train set\n",
        "    test_preds = {} #predictions on test set for each fold\n",
        "    scores = [] #scores on validation set\n",
        "\n",
        "    X, y, X_test = data\n",
        "       \n",
        "    cv = StratifiedKFold(n_splits=n_splits, shuffle=True, random_state=SEED)\n",
        "    for fold, (train_idx, val_idx) in enumerate(cv.split(X, y)):\n",
        "        X_train, y_train = X.loc[train_idx], y.iloc[train_idx]\n",
        "        X_val, y_val = X.loc[val_idx], y.iloc[val_idx]\n",
        "        \n",
        "        model.fit(\n",
        "            X_train, y_train,\n",
        "            eval_set=[(X_val, y_val)],\n",
        "            verbose=0\n",
        "        )\n",
        "\n",
        "        val_preds = model.predict_proba(X_val)[:, 1]\n",
        "        test_preds[f'fold{fold}'] = model.predict_proba(X_test)[:, 1]\n",
        "        oof_preds.update(dict(zip(val_idx, val_preds)))\n",
        "\n",
        "        score = log_loss(y_val, val_preds)\n",
        "        scores.append(score)\n",
        "        print(f'Fold #{fold}: Logloss = {score:.5f}')\n",
        "        _ = gc.collect()\n",
        "    print(f'Avg. Logloss = {np.mean(scores):.5f} +/- {np.std(scores):.5f}')\n",
        "    \n",
        "    oof_preds = pd.Series(oof_preds).sort_index()\n",
        "    test_preds = pd.DataFrame.from_dict(test_preds)\n",
        "    test_preds['mean'] = test_preds.mean(axis=1)\n",
        "\n",
        "    return oof_preds, test_preds"
      ],
      "metadata": {
        "id": "0UBSsqwvj0I2"
      },
      "execution_count": 22,
      "outputs": []
    },
    {
      "cell_type": "code",
      "source": [
        "def run_experiment(data, n_trials=10):\n",
        "    \n",
        "    X, y, X_test = data\n",
        "\n",
        "    base_params = {\n",
        "        'objective': 'binary:logistic',\n",
        "        'n_estimators': 10000,\n",
        "        'booster': 'gbtree',\n",
        "        'eval_metric': 'logloss',\n",
        "        'early_stopping_rounds': 100,\n",
        "        'tree_method': 'gpu_hist' if HAVE_GPU else 'hist',\n",
        "        'predictor': 'gpu_predictor' if HAVE_GPU else 'cpu_predictor',\n",
        "        'enable_categorical': HAVE_GPU,\n",
        "        'verbosity': 0,\n",
        "        'seed': SEED\n",
        "    }\n",
        "    \n",
        "    model = XGBClassifier(**base_params)\n",
        "    \n",
        "    print(f'----------Hyperparameter tuning----------')\n",
        "    start = time.time()\n",
        "    study = tune_params(\n",
        "        data=(X, y),\n",
        "        model=model,\n",
        "        n_trials=n_trials, \n",
        "        direction='minimize' #metric: logloss -> lower is better\n",
        "    )\n",
        "    end = time.time()\n",
        "    print(f'Best trial: {study.best_trial.number} -> Best value: {study.best_value:.5f}')\n",
        "    print(f'Best hyperparameters:')\n",
        "    for k, v in study.best_params.items():\n",
        "        print(f'{k:15} - {v}')\n",
        "    print(f'[Time taken: {end - start:.2f}s]\\n')\n",
        "    \n",
        "    print(f'-----Cross-validation and prediction-----')\n",
        "    start = time.time()\n",
        "    model.set_params(**study.best_params)\n",
        "    oof_preds, test_preds = cross_validate_predict(data, model)\n",
        "    end = time.time()\n",
        "    print(f'[Time taken: {end - start:.2f}s]\\n')\n",
        "\n",
        "    return oof_preds, test_preds"
      ],
      "metadata": {
        "id": "KkMeqc7EkKx-"
      },
      "execution_count": 23,
      "outputs": []
    },
    {
      "cell_type": "markdown",
      "source": [
        "**Trial run**"
      ],
      "metadata": {
        "id": "Ri22_Ef0kzB0"
      }
    },
    {
      "cell_type": "code",
      "source": [
        "optuna.logging.set_verbosity(optuna.logging.INFO)"
      ],
      "metadata": {
        "id": "1lWtr5SYk0yu"
      },
      "execution_count": 24,
      "outputs": []
    },
    {
      "cell_type": "code",
      "source": [
        "%%time\n",
        "op, tp = run_experiment(\n",
        "    data=(train[features], train[TARGET], test[features]),\n",
        "    n_trials=3\n",
        ")"
      ],
      "metadata": {
        "colab": {
          "base_uri": "https://localhost:8080/"
        },
        "id": "QAPuSH6Jk4o8",
        "outputId": "81241646-6be6-4485-a6b4-081b0b15bad9"
      },
      "execution_count": 25,
      "outputs": [
        {
          "output_type": "stream",
          "name": "stderr",
          "text": [
            "\u001b[32m[I 2022-11-16 03:12:22,627]\u001b[0m A new study created in memory with name: no-name-158177d4-abdf-4c69-8216-6c9df3534fb1\u001b[0m\n"
          ]
        },
        {
          "output_type": "stream",
          "name": "stdout",
          "text": [
            "----------Hyperparameter tuning----------\n"
          ]
        },
        {
          "output_type": "stream",
          "name": "stderr",
          "text": [
            "\u001b[32m[I 2022-11-16 03:12:25,023]\u001b[0m Trial 0 finished with value: 0.5799144121351697 and parameters: {'learning_rate': 0.17500000000000002, 'max_depth': 13, 'min_child_weight': 12, 'gamma': 4.2, 'alpha': 1.1, 'lambda': 308.87067834937415, 'subsample': 0.55, 'colsample_bytree': 0.7, 'colsample_bylevel': 0.8, 'colsample_bynode': 0.7, 'scale_pos_weight': 1.0, 'max_cat_to_onehot': 5}. Best is trial 0 with value: 0.5799144121351697.\u001b[0m\n",
            "\u001b[32m[I 2022-11-16 03:12:30,398]\u001b[0m Trial 1 finished with value: 0.7188981490277109 and parameters: {'learning_rate': 0.2, 'max_depth': 13, 'min_child_weight': 13, 'gamma': 0.9, 'alpha': 1.4500000000000002, 'lambda': 0.20112938596732194, 'subsample': 0.95, 'colsample_bytree': 0.8, 'colsample_bylevel': 0.55, 'colsample_bynode': 0.5, 'scale_pos_weight': 4.800000000000001, 'max_cat_to_onehot': 5}. Best is trial 0 with value: 0.5799144121351697.\u001b[0m\n",
            "\u001b[32m[I 2022-11-16 03:12:32,087]\u001b[0m Trial 2 finished with value: 0.6055210653600238 and parameters: {'learning_rate': 0.275, 'max_depth': 7, 'min_child_weight': 13, 'gamma': 10.8, 'alpha': 0.6000000000000001, 'lambda': 59.03008134310796, 'subsample': 0.55, 'colsample_bytree': 0.5, 'colsample_bylevel': 0.95, 'colsample_bynode': 0.75, 'scale_pos_weight': 1.65, 'max_cat_to_onehot': 12}. Best is trial 0 with value: 0.5799144121351697.\u001b[0m\n"
          ]
        },
        {
          "output_type": "stream",
          "name": "stdout",
          "text": [
            "Best trial: 0 -> Best value: 0.57991\n",
            "Best hyperparameters:\n",
            "learning_rate   - 0.17500000000000002\n",
            "max_depth       - 13\n",
            "min_child_weight - 12\n",
            "gamma           - 4.2\n",
            "alpha           - 1.1\n",
            "lambda          - 308.87067834937415\n",
            "subsample       - 0.55\n",
            "colsample_bytree - 0.7\n",
            "colsample_bylevel - 0.8\n",
            "colsample_bynode - 0.7\n",
            "scale_pos_weight - 1.0\n",
            "max_cat_to_onehot - 5\n",
            "[Time taken: 9.53s]\n",
            "\n",
            "-----Cross-validation and prediction-----\n",
            "Fold #0: Logloss = 0.58045\n",
            "Fold #1: Logloss = 0.58112\n",
            "Fold #2: Logloss = 0.57838\n",
            "Fold #3: Logloss = 0.58047\n",
            "Fold #4: Logloss = 0.57915\n",
            "Avg. Logloss = 0.57991 +/- 0.00100\n",
            "[Time taken: 2.77s]\n",
            "\n",
            "CPU times: user 13.9 s, sys: 164 ms, total: 14.1 s\n",
            "Wall time: 12.3 s\n"
          ]
        }
      ]
    },
    {
      "cell_type": "code",
      "source": [
        "optuna.logging.set_verbosity(optuna.logging.ERROR)"
      ],
      "metadata": {
        "id": "j6CPkw2AwBfu"
      },
      "execution_count": 26,
      "outputs": []
    },
    {
      "cell_type": "markdown",
      "source": [
        "# Exp 1"
      ],
      "metadata": {
        "id": "XEosvKAmzvvr"
      }
    },
    {
      "cell_type": "code",
      "source": [
        "%%time\n",
        "op1, tp1 = run_experiment(\n",
        "    data=(train[features], train[TARGET], test[features]),\n",
        "    n_trials=200\n",
        ")"
      ],
      "metadata": {
        "colab": {
          "base_uri": "https://localhost:8080/"
        },
        "id": "HSTivemPzzNo",
        "outputId": "d6aa4a0c-a003-4552-8ee6-08a7b26220b8"
      },
      "execution_count": 27,
      "outputs": [
        {
          "output_type": "stream",
          "name": "stdout",
          "text": [
            "----------Hyperparameter tuning----------\n",
            "Best trial: 0 -> Best value: 0.57991\n",
            "Best hyperparameters:\n",
            "learning_rate   - 0.17500000000000002\n",
            "max_depth       - 13\n",
            "min_child_weight - 12\n",
            "gamma           - 4.2\n",
            "alpha           - 1.1\n",
            "lambda          - 308.87067834937415\n",
            "subsample       - 0.55\n",
            "colsample_bytree - 0.7\n",
            "colsample_bylevel - 0.8\n",
            "colsample_bynode - 0.7\n",
            "scale_pos_weight - 1.0\n",
            "max_cat_to_onehot - 5\n",
            "[Time taken: 707.00s]\n",
            "\n",
            "-----Cross-validation and prediction-----\n",
            "Fold #0: Logloss = 0.58045\n",
            "Fold #1: Logloss = 0.58112\n",
            "Fold #2: Logloss = 0.57838\n",
            "Fold #3: Logloss = 0.58047\n",
            "Fold #4: Logloss = 0.57915\n",
            "Avg. Logloss = 0.57991 +/- 0.00100\n",
            "[Time taken: 2.69s]\n",
            "\n",
            "CPU times: user 13min 6s, sys: 9.9 s, total: 13min 15s\n",
            "Wall time: 11min 49s\n"
          ]
        }
      ]
    },
    {
      "cell_type": "markdown",
      "source": [
        "# Exp 2"
      ],
      "metadata": {
        "id": "A3PbmLOsz5eN"
      }
    },
    {
      "cell_type": "code",
      "source": [
        "%%time\n",
        "op2, tp2 = run_experiment(\n",
        "    data=(train[original_features], train[TARGET], test[original_features]),\n",
        "    n_trials=200\n",
        ")"
      ],
      "metadata": {
        "colab": {
          "base_uri": "https://localhost:8080/"
        },
        "id": "ZkMLAYWpz9i6",
        "outputId": "f8f10208-4533-44f8-db10-cb0c4d7a4bcd"
      },
      "execution_count": 28,
      "outputs": [
        {
          "output_type": "stream",
          "name": "stdout",
          "text": [
            "----------Hyperparameter tuning----------\n",
            "Best trial: 160 -> Best value: 0.57976\n",
            "Best hyperparameters:\n",
            "learning_rate   - 0.225\n",
            "max_depth       - 10\n",
            "min_child_weight - 2\n",
            "gamma           - 3.5\n",
            "alpha           - 2.0\n",
            "lambda          - 52.66764021515259\n",
            "subsample       - 0.6\n",
            "colsample_bytree - 0.8500000000000001\n",
            "colsample_bylevel - 1.0\n",
            "colsample_bynode - 0.9\n",
            "scale_pos_weight - 1.0\n",
            "max_cat_to_onehot - 2\n",
            "[Time taken: 425.87s]\n",
            "\n",
            "-----Cross-validation and prediction-----\n",
            "Fold #0: Logloss = 0.58008\n",
            "Fold #1: Logloss = 0.58110\n",
            "Fold #2: Logloss = 0.57842\n",
            "Fold #3: Logloss = 0.58035\n",
            "Fold #4: Logloss = 0.57887\n",
            "Avg. Logloss = 0.57976 +/- 0.00098\n",
            "[Time taken: 2.01s]\n",
            "\n",
            "CPU times: user 8min 15s, sys: 7.54 s, total: 8min 23s\n",
            "Wall time: 7min 7s\n"
          ]
        }
      ]
    },
    {
      "cell_type": "markdown",
      "source": [
        "# Exp 3"
      ],
      "metadata": {
        "id": "gRM7h23vaukK"
      }
    },
    {
      "cell_type": "code",
      "source": [
        "%%time\n",
        "op3, tp3 = run_experiment(\n",
        "    data=(train[cat_only_features], train[TARGET], test[cat_only_features]),\n",
        "    n_trials=200\n",
        ")"
      ],
      "metadata": {
        "colab": {
          "base_uri": "https://localhost:8080/"
        },
        "outputId": "23ef2d68-b8b4-4d2f-ef37-0f480fb9b759",
        "id": "8xp6FNh1aukk"
      },
      "execution_count": 29,
      "outputs": [
        {
          "output_type": "stream",
          "name": "stdout",
          "text": [
            "----------Hyperparameter tuning----------\n",
            "Best trial: 171 -> Best value: 0.57980\n",
            "Best hyperparameters:\n",
            "learning_rate   - 0.17500000000000002\n",
            "max_depth       - 10\n",
            "min_child_weight - 12\n",
            "gamma           - 1.8\n",
            "alpha           - 0.2\n",
            "lambda          - 0.04467671902420825\n",
            "subsample       - 0.5\n",
            "colsample_bytree - 0.55\n",
            "colsample_bylevel - 0.95\n",
            "colsample_bynode - 0.75\n",
            "scale_pos_weight - 1.0\n",
            "max_cat_to_onehot - 2\n",
            "[Time taken: 462.83s]\n",
            "\n",
            "-----Cross-validation and prediction-----\n",
            "Fold #0: Logloss = 0.58043\n",
            "Fold #1: Logloss = 0.58104\n",
            "Fold #2: Logloss = 0.57825\n",
            "Fold #3: Logloss = 0.58030\n",
            "Fold #4: Logloss = 0.57897\n",
            "Avg. Logloss = 0.57980 +/- 0.00103\n",
            "[Time taken: 2.30s]\n",
            "\n",
            "CPU times: user 8min 57s, sys: 7.95 s, total: 9min 5s\n",
            "Wall time: 7min 45s\n"
          ]
        }
      ]
    },
    {
      "cell_type": "markdown",
      "source": [
        "# Submission files"
      ],
      "metadata": {
        "id": "EahA1dJ47Z1P"
      }
    },
    {
      "cell_type": "code",
      "source": [
        "from google.colab import drive\n",
        "drive.mount('/content/drive')"
      ],
      "metadata": {
        "colab": {
          "base_uri": "https://localhost:8080/"
        },
        "id": "7npzUESt7bGc",
        "outputId": "bf3fbe5c-895d-4624-8194-d89dff8412cb"
      },
      "execution_count": 30,
      "outputs": [
        {
          "output_type": "stream",
          "name": "stdout",
          "text": [
            "Mounted at /content/drive\n"
          ]
        }
      ]
    },
    {
      "cell_type": "code",
      "source": [
        "NOTEBOOK = '01'\n",
        "SUBMISSION_PATH = f'/content/drive/MyDrive/data_science_competitions/machinehack/subscriber_prediction_hackathon/submissions/nb_{NOTEBOOK}'\n",
        "if not os.path.isdir(SUBMISSION_PATH):\n",
        "    os.makedirs(SUBMISSION_PATH)"
      ],
      "metadata": {
        "id": "Z39yNfKD7b95"
      },
      "execution_count": 31,
      "outputs": []
    },
    {
      "cell_type": "code",
      "source": [
        "def create_submission_files(test_preds: pd.DataFrame, expt_num: int):\n",
        "    for col in (test_preds.columns):\n",
        "        sub = sample_sub.copy()\n",
        "        sub[TARGET] = test_preds[col]\n",
        "        sub.to_csv(f'{SUBMISSION_PATH}/{expt_num}_{col}.csv', index=False)"
      ],
      "metadata": {
        "id": "5y6XhjNx8OJT"
      },
      "execution_count": 32,
      "outputs": []
    },
    {
      "cell_type": "code",
      "source": [
        "create_submission_files(tp1, '01')\n",
        "create_submission_files(tp2, '02')\n",
        "create_submission_files(tp3, '03')"
      ],
      "metadata": {
        "id": "Ii5dHRpk8Rve"
      },
      "execution_count": 33,
      "outputs": []
    }
  ]
}