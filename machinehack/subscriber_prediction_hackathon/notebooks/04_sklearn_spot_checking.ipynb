{
  "nbformat": 4,
  "nbformat_minor": 0,
  "metadata": {
    "colab": {
      "provenance": [],
      "toc_visible": true,
      "authorship_tag": "ABX9TyOG0tGB6G7Emx82QYU75AZk",
      "include_colab_link": true
    },
    "kernelspec": {
      "name": "python3",
      "display_name": "Python 3"
    },
    "language_info": {
      "name": "python"
    }
  },
  "cells": [
    {
      "cell_type": "markdown",
      "metadata": {
        "id": "view-in-github",
        "colab_type": "text"
      },
      "source": [
        "<a href=\"https://colab.research.google.com/github/stiwari-ds/data-science-competitions/blob/main/machinehack/subscriber_prediction_hackathon/notebooks/04_sklearn_spot_checking.ipynb\" target=\"_parent\"><img src=\"https://colab.research.google.com/assets/colab-badge.svg\" alt=\"Open In Colab\"/></a>"
      ]
    },
    {
      "cell_type": "markdown",
      "source": [
        "# Setup"
      ],
      "metadata": {
        "id": "fMe_ffy2a_ac"
      }
    },
    {
      "cell_type": "code",
      "source": [
        "import os\n",
        "import gc\n",
        "import time\n",
        "import warnings\n",
        "\n",
        "gc.enable()\n",
        "warnings.filterwarnings('ignore')"
      ],
      "metadata": {
        "id": "rDe5mRXFPo2O"
      },
      "execution_count": 93,
      "outputs": []
    },
    {
      "cell_type": "code",
      "source": [
        "import pandas as pd\n",
        "import numpy as np\n",
        "pd.set_option('display.max_columns', None)\n",
        "pd.set_option('display.precision', 4)"
      ],
      "metadata": {
        "id": "eKfBaXpBbBUQ"
      },
      "execution_count": 94,
      "outputs": []
    },
    {
      "cell_type": "code",
      "source": [
        "import sklearn.ensemble as ele\n",
        "from sklearn.model_selection import StratifiedKFold\n",
        "from sklearn.preprocessing import StandardScaler, OrdinalEncoder\n",
        "from sklearn.preprocessing import MaxAbsScaler, MinMaxScaler\n",
        "from sklearn.tree import DecisionTreeClassifier, ExtraTreeClassifier\n",
        "from sklearn.linear_model import SGDClassifier\n",
        "from sklearn.neural_network import MLPClassifier\n",
        "from sklearn.naive_bayes import GaussianNB, CategoricalNB, ComplementNB\n",
        "from sklearn.compose import ColumnTransformer, make_column_selector\n",
        "from sklearn.pipeline import make_pipeline\n",
        "from sklearn.metrics import log_loss"
      ],
      "metadata": {
        "id": "DZO_NkoBPuZw"
      },
      "execution_count": 95,
      "outputs": []
    },
    {
      "cell_type": "code",
      "source": [
        "SEED = 2311\n",
        "os.environ['PYTHONHASHSEED'] = str(SEED)\n",
        "np.random.seed(SEED)"
      ],
      "metadata": {
        "id": "ahAN3IXePw9C"
      },
      "execution_count": 96,
      "outputs": []
    },
    {
      "cell_type": "code",
      "source": [
        "DATA_URL = 'https://raw.githubusercontent.com/stiwari-ds/data-science-competitions/main/machinehack/subscriber_prediction_hackathon/data'\n",
        "\n",
        "train = pd.read_csv(f'{DATA_URL}/processed/train.csv') #processed dataset from notebook 00\n",
        "test = pd.read_csv(f'{DATA_URL}/processed/test.csv')\n",
        "sample_sub = pd.read_csv(f'{DATA_URL}/raw/submission.csv')"
      ],
      "metadata": {
        "id": "LOHMVhw1ZZS6"
      },
      "execution_count": 97,
      "outputs": []
    },
    {
      "cell_type": "code",
      "source": [
        "TARGET = 'y_bool'"
      ],
      "metadata": {
        "id": "KEJQopfVZppB"
      },
      "execution_count": 98,
      "outputs": []
    },
    {
      "cell_type": "code",
      "source": [
        "features = list(test.columns)\n",
        "num_features = ['age', 'balance', 'day', 'duration', 'campaign', 'pdays', 'previous']\n",
        "cat_features = [f for f in features if f not in num_features]"
      ],
      "metadata": {
        "id": "3zTnF1bvZx-o"
      },
      "execution_count": 99,
      "outputs": []
    },
    {
      "cell_type": "code",
      "source": [
        "train[cat_features] = train[cat_features].astype('int8')\n",
        "test[cat_features] = test[cat_features].astype('int8')"
      ],
      "metadata": {
        "id": "4082s684hGKA"
      },
      "execution_count": 100,
      "outputs": []
    },
    {
      "cell_type": "code",
      "source": [
        "#feature sets\n",
        "original_features = ['age', 'job', 'marital', 'education', 'default', 'balance',\n",
        "                     'housing', 'loan', 'contact', 'day', 'month', 'duration', \n",
        "                     'campaign', 'pdays', 'previous', 'poutcome']\n",
        "\n",
        "cat_only_features = ['age_bins', 'job_groups', 'marital', 'education', 'default',\n",
        "                     'balance_bins', 'housing', 'loan', 'contact', 'day_bins', \n",
        "                     'month_bins', 'duration_bins', 'campaign_bins', 'pdays_bins',\n",
        "                     'pdays_bool', 'previous_bins', 'previous_bool', 'poutcome']"
      ],
      "metadata": {
        "id": "-12ZFzcHHLbV"
      },
      "execution_count": 101,
      "outputs": []
    },
    {
      "cell_type": "code",
      "execution_count": 102,
      "metadata": {
        "colab": {
          "base_uri": "https://localhost:8080/"
        },
        "id": "7npzUESt7bGc",
        "outputId": "cfb53402-c2e4-4039-c4a2-32efd57b0c14"
      },
      "outputs": [
        {
          "output_type": "stream",
          "name": "stdout",
          "text": [
            "Drive already mounted at /content/drive; to attempt to forcibly remount, call drive.mount(\"/content/drive\", force_remount=True).\n"
          ]
        }
      ],
      "source": [
        "from google.colab import drive\n",
        "drive.mount('/content/drive')\n",
        "\n",
        "NOTEBOOK = '04'\n",
        "SUBMISSION_PATH = f'/content/drive/MyDrive/data_science_competitions/machinehack/subscriber_prediction_hackathon/submissions/nb_{NOTEBOOK}'\n",
        "if not os.path.isdir(SUBMISSION_PATH):\n",
        "    os.makedirs(SUBMISSION_PATH)"
      ]
    },
    {
      "cell_type": "markdown",
      "source": [
        "# Cross-validation"
      ],
      "metadata": {
        "id": "H3zxLJqIQpXJ"
      }
    },
    {
      "cell_type": "code",
      "source": [
        "def cross_validate_predict(feature_set, model):\n",
        "    oof_preds = {}  #out-of-fold predictions on train set\n",
        "    test_preds = {} #predictions on test set for each fold\n",
        "    scores = [] #scores on validation set\n",
        "\n",
        "    X = train[feature_set]\n",
        "    y = train[TARGET]\n",
        "    X_test = test[feature_set]\n",
        "\n",
        "    cv_start = time.time()\n",
        "    cv = StratifiedKFold(n_splits=5, shuffle=True, random_state=SEED)\n",
        "    for fold, (train_idx, val_idx) in enumerate(cv.split(X, y)):\n",
        "        fold_start = time.time()\n",
        "        X_train, y_train = X.loc[train_idx], y.iloc[train_idx]\n",
        "        X_val, y_val = X.loc[val_idx], y.iloc[val_idx]\n",
        "        \n",
        "        model.fit(X_train, y_train)\n",
        "        val_preds = model.predict_proba(X_val)[:, 1]\n",
        "        fold_end = time.time()\n",
        "\n",
        "        oof_preds.update(dict(zip(val_idx, val_preds)))\n",
        "        test_preds[f'fold{fold}'] = model.predict_proba(X_test)[:, 1]\n",
        "\n",
        "        score = log_loss(y_val, val_preds)\n",
        "        scores.append(score)\n",
        "        print(f'Fold #{fold}: Score = {score:.5f} ' \\\n",
        "              f'[{fold_end - fold_start:.2f} secs]')\n",
        "        _ = gc.collect()\n",
        "        \n",
        "    cv_end = time.time()\n",
        "    print(f'\\nAvg. Score = {np.mean(scores):.5f} +/- {np.std(scores):.5f} ' \\\n",
        "          f'[{cv_end - cv_start:.2f} secs]\\n')\n",
        "    \n",
        "    oof_preds = pd.Series(oof_preds).sort_index()\n",
        "    test_preds = pd.DataFrame.from_dict(test_preds)\n",
        "    test_preds['mean'] = test_preds.mean(axis=1)\n",
        "\n",
        "    return oof_preds, test_preds"
      ],
      "metadata": {
        "id": "yE7VZBzxSV73"
      },
      "execution_count": 103,
      "outputs": []
    },
    {
      "cell_type": "code",
      "source": [
        "def create_submission_files(test_preds, model_name, feature_set):\n",
        "    path = f'{SUBMISSION_PATH}/{model_name}'\n",
        "    if not os.path.isdir(path):\n",
        "        os.makedirs(path)\n",
        "        \n",
        "    for col in (test_preds.columns):\n",
        "        sub = sample_sub.copy()\n",
        "        sub[TARGET] = test_preds[col]\n",
        "        sub.to_csv(f'{path}/{feature_set}_{col}.csv', index=False)"
      ],
      "metadata": {
        "id": "b_pJ5w-hbAKX"
      },
      "execution_count": 104,
      "outputs": []
    },
    {
      "cell_type": "code",
      "source": [
        "oof = pd.DataFrame() #Out-of-fold predictions"
      ],
      "metadata": {
        "id": "tjAz_xkskvz7"
      },
      "execution_count": 105,
      "outputs": []
    },
    {
      "cell_type": "markdown",
      "source": [
        "# Linear"
      ],
      "metadata": {
        "id": "uOuz9QEACuSX"
      }
    },
    {
      "cell_type": "markdown",
      "source": [
        "### log_loss (Logistic Regression)"
      ],
      "metadata": {
        "id": "ZYYnWcZS7URo"
      }
    },
    {
      "cell_type": "code",
      "source": [
        "preprocessor = ColumnTransformer(\n",
        "    transformers=[\n",
        "        ('ordinal_cat', MaxAbsScaler(), make_column_selector(dtype_include='int8')),\n",
        "        ('numerical', StandardScaler(), make_column_selector(dtype_exclude='int8'))\n",
        "    ],\n",
        "    remainder='passthrough'\n",
        ")\n",
        "\n",
        "classifier = SGDClassifier(\n",
        "    loss='log', # 'log' for version 1.0.2, log_loss for >1.1\n",
        "    penalty='elasticnet',\n",
        "    max_iter= 5000,\n",
        "    alpha=0.01,\n",
        "    learning_rate='optimal',\n",
        "    early_stopping=True,\n",
        "    n_iter_no_change=25,\n",
        "    n_jobs=-1,\n",
        "    random_state=SEED\n",
        ")\n",
        "\n",
        "model = make_pipeline(preprocessor, classifier)\n",
        "\n",
        "oof['sgdlog_all'], tp_sgdlog_all = cross_validate_predict(features, model)"
      ],
      "metadata": {
        "colab": {
          "base_uri": "https://localhost:8080/"
        },
        "id": "ow2OEkFyCwu7",
        "outputId": "49114b97-4cab-48a3-9eb6-b57a062f2642"
      },
      "execution_count": 106,
      "outputs": [
        {
          "output_type": "stream",
          "name": "stdout",
          "text": [
            "Fold #0: Score = 0.58180 [0.40 secs]\n",
            "Fold #1: Score = 0.58038 [0.42 secs]\n",
            "Fold #2: Score = 0.57988 [0.41 secs]\n",
            "Fold #3: Score = 0.58161 [0.41 secs]\n",
            "Fold #4: Score = 0.58228 [0.42 secs]\n",
            "\n",
            "Avg. Score = 0.58119 +/- 0.00091 [2.59 secs]\n",
            "\n"
          ]
        }
      ]
    },
    {
      "cell_type": "code",
      "source": [
        "oof['sgdlog_og'], tp_sgdlog_og = cross_validate_predict(original_features, model)"
      ],
      "metadata": {
        "colab": {
          "base_uri": "https://localhost:8080/"
        },
        "id": "yhWtmUPKJFS7",
        "outputId": "84d006c7-6fb4-4868-8495-31659dd35eac"
      },
      "execution_count": 107,
      "outputs": [
        {
          "output_type": "stream",
          "name": "stdout",
          "text": [
            "Fold #0: Score = 0.58192 [0.30 secs]\n",
            "Fold #1: Score = 0.58056 [0.32 secs]\n",
            "Fold #2: Score = 0.57988 [0.32 secs]\n",
            "Fold #3: Score = 0.58189 [0.34 secs]\n",
            "Fold #4: Score = 0.58234 [0.32 secs]\n",
            "\n",
            "Avg. Score = 0.58132 +/- 0.00094 [2.13 secs]\n",
            "\n"
          ]
        }
      ]
    },
    {
      "cell_type": "code",
      "source": [
        "oof['sgdlog_cat'], tp_sgdlog_cat = cross_validate_predict(cat_only_features, model)"
      ],
      "metadata": {
        "colab": {
          "base_uri": "https://localhost:8080/"
        },
        "id": "tfvLJioOmbec",
        "outputId": "65f692ba-db7e-4e3b-cd5c-0b035b46c848"
      },
      "execution_count": 108,
      "outputs": [
        {
          "output_type": "stream",
          "name": "stdout",
          "text": [
            "Fold #0: Score = 0.58176 [0.32 secs]\n",
            "Fold #1: Score = 0.58143 [0.33 secs]\n",
            "Fold #2: Score = 0.58082 [0.33 secs]\n",
            "Fold #3: Score = 0.58146 [0.35 secs]\n",
            "Fold #4: Score = 0.58166 [0.32 secs]\n",
            "\n",
            "Avg. Score = 0.58143 +/- 0.00033 [2.17 secs]\n",
            "\n"
          ]
        }
      ]
    },
    {
      "cell_type": "code",
      "source": [
        "# create_submission_files(tp_sgdlog_all, 'sgdlog', 'all')\n",
        "# create_submission_files(tp_sgdlog_og, 'sgdlog', 'og')\n",
        "# create_submission_files(tp_sgdlog_cat, 'sgdlog', 'cat')"
      ],
      "metadata": {
        "id": "p9pME6DLnriP"
      },
      "execution_count": 109,
      "outputs": []
    },
    {
      "cell_type": "markdown",
      "source": [
        "### modified_huber loss"
      ],
      "metadata": {
        "id": "Yb4vTzds7ZGh"
      }
    },
    {
      "cell_type": "code",
      "source": [
        "classifier = SGDClassifier(\n",
        "    loss='modified_huber',\n",
        "    penalty='elasticnet',\n",
        "    max_iter= 5000,\n",
        "    alpha=0.01,\n",
        "    learning_rate='optimal',\n",
        "    early_stopping=True,\n",
        "    n_iter_no_change=25,\n",
        "    n_jobs=-1,\n",
        "    random_state=SEED\n",
        ")\n",
        "\n",
        "model = make_pipeline(preprocessor, classifier)"
      ],
      "metadata": {
        "id": "PPouv5He52kv"
      },
      "execution_count": 110,
      "outputs": []
    },
    {
      "cell_type": "code",
      "source": [
        "oof['sgdhub_all'], tp_sgdhub_all = cross_validate_predict(features, model)"
      ],
      "metadata": {
        "colab": {
          "base_uri": "https://localhost:8080/"
        },
        "id": "xv-0IWKF54l9",
        "outputId": "e4ab5645-c8df-455c-934a-c897660c24eb"
      },
      "execution_count": 111,
      "outputs": [
        {
          "output_type": "stream",
          "name": "stdout",
          "text": [
            "Fold #0: Score = 0.58137 [0.39 secs]\n",
            "Fold #1: Score = 0.58176 [0.38 secs]\n",
            "Fold #2: Score = 0.58001 [0.41 secs]\n",
            "Fold #3: Score = 0.58395 [0.67 secs]\n",
            "Fold #4: Score = 0.58204 [0.84 secs]\n",
            "\n",
            "Avg. Score = 0.58183 +/- 0.00127 [3.43 secs]\n",
            "\n"
          ]
        }
      ]
    },
    {
      "cell_type": "code",
      "source": [
        "oof['sgdhub_og'], tp_sgdhub_og = cross_validate_predict(original_features, model)"
      ],
      "metadata": {
        "colab": {
          "base_uri": "https://localhost:8080/"
        },
        "id": "WeEI4tl96DLh",
        "outputId": "e553a4b8-d626-4710-ff51-89967c7f675a"
      },
      "execution_count": 112,
      "outputs": [
        {
          "output_type": "stream",
          "name": "stdout",
          "text": [
            "Fold #0: Score = 0.58149 [0.72 secs]\n",
            "Fold #1: Score = 0.58080 [0.57 secs]\n",
            "Fold #2: Score = 0.58051 [0.61 secs]\n",
            "Fold #3: Score = 0.58426 [0.78 secs]\n",
            "Fold #4: Score = 0.58328 [0.79 secs]\n",
            "\n",
            "Avg. Score = 0.58207 +/- 0.00146 [4.37 secs]\n",
            "\n"
          ]
        }
      ]
    },
    {
      "cell_type": "code",
      "source": [
        "oof['sgdhub_cat'], tp_sgdhub_cat = cross_validate_predict(cat_only_features, model)"
      ],
      "metadata": {
        "colab": {
          "base_uri": "https://localhost:8080/"
        },
        "id": "5lsHdLI86Dzh",
        "outputId": "95fdcb24-cf13-4474-8ae0-5e41ac64b82e"
      },
      "execution_count": 113,
      "outputs": [
        {
          "output_type": "stream",
          "name": "stdout",
          "text": [
            "Fold #0: Score = 0.58172 [0.69 secs]\n",
            "Fold #1: Score = 0.58116 [0.60 secs]\n",
            "Fold #2: Score = 0.57999 [0.70 secs]\n",
            "Fold #3: Score = 0.58264 [0.78 secs]\n",
            "Fold #4: Score = 0.58325 [0.75 secs]\n",
            "\n",
            "Avg. Score = 0.58175 +/- 0.00114 [4.50 secs]\n",
            "\n"
          ]
        }
      ]
    },
    {
      "cell_type": "code",
      "source": [
        "# create_submission_files(tp_sgdhub_all, 'sgdhub', 'all')\n",
        "# create_submission_files(tp_sgdhub_og, 'sgdhub', 'og')\n",
        "# create_submission_files(tp_sgdhub_cat, 'sgdhub', 'cat')"
      ],
      "metadata": {
        "id": "7bhEKNTy6Uc0"
      },
      "execution_count": 114,
      "outputs": []
    },
    {
      "cell_type": "markdown",
      "source": [
        "# Tree"
      ],
      "metadata": {
        "id": "jDSm2GP07d7l"
      }
    },
    {
      "cell_type": "markdown",
      "source": [
        "### DecisionTree"
      ],
      "metadata": {
        "id": "7W8epQek71Xj"
      }
    },
    {
      "cell_type": "code",
      "source": [
        "model = make_pipeline(\n",
        "    preprocessor, \n",
        "    DecisionTreeClassifier(random_state=SEED)\n",
        ")"
      ],
      "metadata": {
        "id": "N4kRvqrn74iV"
      },
      "execution_count": 115,
      "outputs": []
    },
    {
      "cell_type": "code",
      "source": [
        "oof['dt_all'], tp_dt_all = cross_validate_predict(features, model)"
      ],
      "metadata": {
        "colab": {
          "base_uri": "https://localhost:8080/"
        },
        "id": "QCy2pZLP8M6H",
        "outputId": "3d1fad36-a111-45b4-b3a6-0f4ad0f45f29"
      },
      "execution_count": 116,
      "outputs": [
        {
          "output_type": "stream",
          "name": "stdout",
          "text": [
            "Fold #0: Score = 13.54430 [0.53 secs]\n",
            "Fold #1: Score = 14.00482 [0.42 secs]\n",
            "Fold #2: Score = 14.00482 [0.46 secs]\n",
            "Fold #3: Score = 13.89791 [0.49 secs]\n",
            "Fold #4: Score = 13.86503 [0.58 secs]\n",
            "\n",
            "Avg. Score = 13.86338 +/- 0.16913 [3.35 secs]\n",
            "\n"
          ]
        }
      ]
    },
    {
      "cell_type": "code",
      "source": [
        "oof['dt_og'], tp_dt_og = cross_validate_predict(original_features, model)"
      ],
      "metadata": {
        "colab": {
          "base_uri": "https://localhost:8080/"
        },
        "id": "XNfJyDKo8SBj",
        "outputId": "dead678d-9435-4e69-b04a-a9d7e67ba8f9"
      },
      "execution_count": 117,
      "outputs": [
        {
          "output_type": "stream",
          "name": "stdout",
          "text": [
            "Fold #0: Score = 13.81568 [0.42 secs]\n",
            "Fold #1: Score = 13.28937 [0.39 secs]\n",
            "Fold #2: Score = 14.13640 [0.34 secs]\n",
            "Fold #3: Score = 13.71699 [0.37 secs]\n",
            "Fold #4: Score = 14.01304 [0.31 secs]\n",
            "\n",
            "Avg. Score = 13.79430 +/- 0.29198 [2.53 secs]\n",
            "\n"
          ]
        }
      ]
    },
    {
      "cell_type": "code",
      "source": [
        "oof['dt_cat'], tp_dt_cat = cross_validate_predict(cat_only_features, model)"
      ],
      "metadata": {
        "colab": {
          "base_uri": "https://localhost:8080/"
        },
        "id": "JcLkH6s88Ska",
        "outputId": "b0296943-ee55-4271-cda4-b7b31be9cf84"
      },
      "execution_count": 118,
      "outputs": [
        {
          "output_type": "stream",
          "name": "stdout",
          "text": [
            "Fold #0: Score = 13.94300 [0.09 secs]\n",
            "Fold #1: Score = 14.48530 [0.09 secs]\n",
            "Fold #2: Score = 13.68873 [0.09 secs]\n",
            "Fold #3: Score = 13.79365 [0.10 secs]\n",
            "Fold #4: Score = 13.82754 [0.09 secs]\n",
            "\n",
            "Avg. Score = 13.94764 +/- 0.28081 [0.87 secs]\n",
            "\n"
          ]
        }
      ]
    },
    {
      "cell_type": "code",
      "source": [
        "# create_submission_files(tp_dt_all, 'dt', 'all')\n",
        "# create_submission_files(tp_dt_og, 'dt', 'og')\n",
        "# create_submission_files(tp_dt_cat, 'dt', 'cat')"
      ],
      "metadata": {
        "id": "rL35J5uQ8hnJ"
      },
      "execution_count": 119,
      "outputs": []
    },
    {
      "cell_type": "markdown",
      "source": [
        "### ExtraTree"
      ],
      "metadata": {
        "id": "Y1GY8ZIj8pSm"
      }
    },
    {
      "cell_type": "code",
      "source": [
        "model = make_pipeline(\n",
        "    preprocessor, \n",
        "    ExtraTreeClassifier(random_state=SEED)\n",
        ")"
      ],
      "metadata": {
        "id": "nmAD_auu86ZX"
      },
      "execution_count": 120,
      "outputs": []
    },
    {
      "cell_type": "code",
      "source": [
        "oof['et_all'], tp_et_all = cross_validate_predict(features, model)"
      ],
      "metadata": {
        "colab": {
          "base_uri": "https://localhost:8080/"
        },
        "id": "OZI8TUO486ZY",
        "outputId": "42d95ebd-38fd-4d56-e1a3-2c6887439522"
      },
      "execution_count": 121,
      "outputs": [
        {
          "output_type": "stream",
          "name": "stdout",
          "text": [
            "Fold #0: Score = 13.47851 [0.06 secs]\n",
            "Fold #1: Score = 13.40450 [0.06 secs]\n",
            "Fold #2: Score = 13.68409 [0.06 secs]\n",
            "Fold #3: Score = 13.71699 [0.06 secs]\n",
            "Fold #4: Score = 13.91436 [0.06 secs]\n",
            "\n",
            "Avg. Score = 13.63969 +/- 0.18148 [0.73 secs]\n",
            "\n"
          ]
        }
      ]
    },
    {
      "cell_type": "code",
      "source": [
        "oof['et_og'], tp_et_og = cross_validate_predict(original_features, model)"
      ],
      "metadata": {
        "colab": {
          "base_uri": "https://localhost:8080/"
        },
        "id": "OcdZAv1V86ZY",
        "outputId": "596212cf-4b83-4f81-cee1-8d339f2384da"
      },
      "execution_count": 122,
      "outputs": [
        {
          "output_type": "stream",
          "name": "stdout",
          "text": [
            "Fold #0: Score = 13.70054 [0.05 secs]\n",
            "Fold #1: Score = 13.93903 [0.05 secs]\n",
            "Fold #2: Score = 13.44561 [0.05 secs]\n",
            "Fold #3: Score = 13.63476 [0.06 secs]\n",
            "Fold #4: Score = 14.10350 [0.05 secs]\n",
            "\n",
            "Avg. Score = 13.76469 +/- 0.23152 [0.71 secs]\n",
            "\n"
          ]
        }
      ]
    },
    {
      "cell_type": "code",
      "source": [
        "oof['et_cat'], tp_et_cat = cross_validate_predict(cat_only_features, model)"
      ],
      "metadata": {
        "colab": {
          "base_uri": "https://localhost:8080/"
        },
        "id": "pqiwE1iY86ZZ",
        "outputId": "0fbb96e8-5ad0-4454-b1dd-9d63fb469e89"
      },
      "execution_count": 123,
      "outputs": [
        {
          "output_type": "stream",
          "name": "stdout",
          "text": [
            "Fold #0: Score = 13.57342 [0.04 secs]\n",
            "Fold #1: Score = 13.70447 [0.04 secs]\n",
            "Fold #2: Score = 13.82023 [0.04 secs]\n",
            "Fold #3: Score = 13.31158 [0.04 secs]\n",
            "Fold #4: Score = 13.65625 [0.04 secs]\n",
            "\n",
            "Avg. Score = 13.61319 +/- 0.17065 [0.64 secs]\n",
            "\n"
          ]
        }
      ]
    },
    {
      "cell_type": "code",
      "source": [
        "# create_submission_files(tp_et_all, 'et', 'all')\n",
        "# create_submission_files(tp_et_og, 'et', 'og')\n",
        "# create_submission_files(tp_et_cat, 'et', 'cat')"
      ],
      "metadata": {
        "id": "SdC-Z4R886ZZ"
      },
      "execution_count": 124,
      "outputs": []
    },
    {
      "cell_type": "code",
      "source": [
        "tree_mean = oof[['dt_all', 'dt_og', 'dt_cat', 'et_all', 'et_og', 'et_cat']].mean(axis=1)"
      ],
      "metadata": {
        "id": "giR6iyVu8t-B"
      },
      "execution_count": 125,
      "outputs": []
    },
    {
      "cell_type": "code",
      "source": [
        "log_loss(train[TARGET], tree_mean)"
      ],
      "metadata": {
        "colab": {
          "base_uri": "https://localhost:8080/"
        },
        "id": "rq7MGAf_pijX",
        "outputId": "e181447a-ab25-431b-9b97-7104ea29eac2"
      },
      "execution_count": 126,
      "outputs": [
        {
          "output_type": "execute_result",
          "data": {
            "text/plain": [
              "2.1939642756632245"
            ]
          },
          "metadata": {},
          "execution_count": 126
        }
      ]
    },
    {
      "cell_type": "code",
      "source": [
        "tree_mode = oof[['dt_all', 'dt_og', 'dt_cat', 'et_all', 'et_og', 'et_cat']].mode(axis=1)[0]"
      ],
      "metadata": {
        "id": "6KBQa0bjqJl9"
      },
      "execution_count": 127,
      "outputs": []
    },
    {
      "cell_type": "code",
      "source": [
        "log_loss(train[TARGET], tree_mode)"
      ],
      "metadata": {
        "colab": {
          "base_uri": "https://localhost:8080/"
        },
        "id": "ryAe9kYcqOUN",
        "outputId": "1e51f9cd-4ae8-4dd5-d32d-ca95943b2e4b"
      },
      "execution_count": 128,
      "outputs": [
        {
          "output_type": "execute_result",
          "data": {
            "text/plain": [
              "10.644572585354481"
            ]
          },
          "metadata": {},
          "execution_count": 128
        }
      ]
    },
    {
      "cell_type": "markdown",
      "source": [
        "# Naive Bayes"
      ],
      "metadata": {
        "id": "2exWew7qsVsp"
      }
    },
    {
      "cell_type": "markdown",
      "source": [
        "### GaussianNB"
      ],
      "metadata": {
        "id": "DZvkrq4vtXBI"
      }
    },
    {
      "cell_type": "code",
      "source": [
        "model = make_pipeline(\n",
        "    preprocessor,\n",
        "    GaussianNB()\n",
        ")"
      ],
      "metadata": {
        "id": "3rH1T-8ytaAD"
      },
      "execution_count": 129,
      "outputs": []
    },
    {
      "cell_type": "code",
      "source": [
        "oof['gssnb_all'], tp_gssnb_all = cross_validate_predict(features, model)"
      ],
      "metadata": {
        "colab": {
          "base_uri": "https://localhost:8080/"
        },
        "outputId": "b1728ce5-66df-4cbc-962c-30a776391c52",
        "id": "Dh_gkSqUvnX0"
      },
      "execution_count": 130,
      "outputs": [
        {
          "output_type": "stream",
          "name": "stdout",
          "text": [
            "Fold #0: Score = 0.71694 [0.04 secs]\n",
            "Fold #1: Score = 0.64457 [0.04 secs]\n",
            "Fold #2: Score = 0.67824 [0.04 secs]\n",
            "Fold #3: Score = 0.74986 [0.04 secs]\n",
            "Fold #4: Score = 0.72367 [0.05 secs]\n",
            "\n",
            "Avg. Score = 0.70266 +/- 0.03700 [0.66 secs]\n",
            "\n"
          ]
        }
      ]
    },
    {
      "cell_type": "code",
      "source": [
        "oof['gssnb_og'], tp_gssnb_og = cross_validate_predict(original_features, model)"
      ],
      "metadata": {
        "colab": {
          "base_uri": "https://localhost:8080/"
        },
        "outputId": "be457d3b-ba7f-4e09-944b-78d492ddd765",
        "id": "9epaYlUXvnX1"
      },
      "execution_count": 131,
      "outputs": [
        {
          "output_type": "stream",
          "name": "stdout",
          "text": [
            "Fold #0: Score = 0.66764 [0.04 secs]\n",
            "Fold #1: Score = 0.62500 [0.04 secs]\n",
            "Fold #2: Score = 0.62145 [0.03 secs]\n",
            "Fold #3: Score = 0.69109 [0.03 secs]\n",
            "Fold #4: Score = 0.70017 [0.03 secs]\n",
            "\n",
            "Avg. Score = 0.66107 +/- 0.03269 [0.62 secs]\n",
            "\n"
          ]
        }
      ]
    },
    {
      "cell_type": "code",
      "source": [
        "oof['gssnb_cat'], tp_gssnb_cat = cross_validate_predict(cat_only_features, model)"
      ],
      "metadata": {
        "colab": {
          "base_uri": "https://localhost:8080/"
        },
        "outputId": "1ab338b7-1fe3-4e91-d770-f77659352bb8",
        "id": "j9XcGufTvnX1"
      },
      "execution_count": 132,
      "outputs": [
        {
          "output_type": "stream",
          "name": "stdout",
          "text": [
            "Fold #0: Score = 0.62237 [0.03 secs]\n",
            "Fold #1: Score = 0.59207 [0.03 secs]\n",
            "Fold #2: Score = 0.64144 [0.03 secs]\n",
            "Fold #3: Score = 0.62181 [0.03 secs]\n",
            "Fold #4: Score = 0.60422 [0.03 secs]\n",
            "\n",
            "Avg. Score = 0.61638 +/- 0.01693 [0.56 secs]\n",
            "\n"
          ]
        }
      ]
    },
    {
      "cell_type": "code",
      "source": [
        "# create_submission_files(tp_gssnb_all, 'gssnb', 'all')\n",
        "# create_submission_files(tp_gssnb_og, 'gssnb', 'og')\n",
        "# create_submission_files(tp_gssnb_cat, 'gssnb', 'cat')"
      ],
      "metadata": {
        "id": "Zw792okPvnX2"
      },
      "execution_count": 133,
      "outputs": []
    },
    {
      "cell_type": "markdown",
      "source": [
        "### CategoricalNB"
      ],
      "metadata": {
        "id": "nqguOJ7Iw5Pr"
      }
    },
    {
      "cell_type": "code",
      "source": [
        "model = make_pipeline(\n",
        "    ColumnTransformer(\n",
        "        transformers=[\n",
        "            ('ordinal_cat', OrdinalEncoder(), make_column_selector(dtype_include='int8')),\n",
        "            ('numerical', StandardScaler(), make_column_selector(dtype_exclude='int8'))\n",
        "        ],\n",
        "        remainder='passthrough'\n",
        "    ),\n",
        "    CategoricalNB()\n",
        ")"
      ],
      "metadata": {
        "id": "Au16dwuDw8ii"
      },
      "execution_count": 134,
      "outputs": []
    },
    {
      "cell_type": "code",
      "source": [
        "oof['catnb_cat'], tp_catnb_cat = cross_validate_predict(cat_only_features, model)"
      ],
      "metadata": {
        "colab": {
          "base_uri": "https://localhost:8080/"
        },
        "outputId": "6e901d10-6bd2-4874-d67c-c5b45d880e99",
        "id": "n3GFZnb3w8il"
      },
      "execution_count": 135,
      "outputs": [
        {
          "output_type": "stream",
          "name": "stdout",
          "text": [
            "Fold #0: Score = 0.58380 [0.07 secs]\n",
            "Fold #1: Score = 0.58176 [0.06 secs]\n",
            "Fold #2: Score = 0.57980 [0.06 secs]\n",
            "Fold #3: Score = 0.58440 [0.06 secs]\n",
            "Fold #4: Score = 0.58018 [0.06 secs]\n",
            "\n",
            "Avg. Score = 0.58199 +/- 0.00186 [0.80 secs]\n",
            "\n"
          ]
        }
      ]
    },
    {
      "cell_type": "code",
      "source": [
        "# create_submission_files(tp_catnb_cat, 'catnb', 'cat')"
      ],
      "metadata": {
        "id": "bmpfV56dw8im"
      },
      "execution_count": 136,
      "outputs": []
    },
    {
      "cell_type": "markdown",
      "source": [
        "### ComplementNB"
      ],
      "metadata": {
        "id": "ISC9QQtnyq36"
      }
    },
    {
      "cell_type": "code",
      "source": [
        "model = make_pipeline(\n",
        "    ColumnTransformer(\n",
        "        transformers=[\n",
        "            ('ordinal_cat', OrdinalEncoder(), make_column_selector(dtype_include='int8')),\n",
        "            ('numerical', MinMaxScaler(), make_column_selector(dtype_exclude='int8'))\n",
        "        ],\n",
        "        remainder='passthrough'\n",
        "    ),\n",
        "    ComplementNB()\n",
        ")"
      ],
      "metadata": {
        "id": "ZL-Wk9EwyxpP"
      },
      "execution_count": 137,
      "outputs": []
    },
    {
      "cell_type": "code",
      "source": [
        "oof['cmpnb_all'], tp_cmpnb_all = cross_validate_predict(features, model)"
      ],
      "metadata": {
        "colab": {
          "base_uri": "https://localhost:8080/"
        },
        "outputId": "5c888bb0-5b16-4d4e-9e5a-3db2b2e9d0e7",
        "id": "de-BGNJcyxpQ"
      },
      "execution_count": 138,
      "outputs": [
        {
          "output_type": "stream",
          "name": "stdout",
          "text": [
            "Fold #0: Score = 0.69555 [0.08 secs]\n",
            "Fold #1: Score = 0.69083 [0.09 secs]\n",
            "Fold #2: Score = 0.69435 [0.07 secs]\n",
            "Fold #3: Score = 0.69461 [0.08 secs]\n",
            "Fold #4: Score = 0.69300 [0.07 secs]\n",
            "\n",
            "Avg. Score = 0.69367 +/- 0.00164 [1.04 secs]\n",
            "\n"
          ]
        }
      ]
    },
    {
      "cell_type": "code",
      "source": [
        "oof['cmpnb_og'], tp_cmpnb_og = cross_validate_predict(original_features, model)"
      ],
      "metadata": {
        "colab": {
          "base_uri": "https://localhost:8080/"
        },
        "outputId": "981a0e9a-aa03-45cb-f9f2-8d3037d7696b",
        "id": "ri8VwL2RyxpR"
      },
      "execution_count": 139,
      "outputs": [
        {
          "output_type": "stream",
          "name": "stdout",
          "text": [
            "Fold #0: Score = 0.69267 [0.05 secs]\n",
            "Fold #1: Score = 0.69268 [0.06 secs]\n",
            "Fold #2: Score = 0.69253 [0.06 secs]\n",
            "Fold #3: Score = 0.69306 [0.05 secs]\n",
            "Fold #4: Score = 0.69298 [0.05 secs]\n",
            "\n",
            "Avg. Score = 0.69278 +/- 0.00020 [0.86 secs]\n",
            "\n"
          ]
        }
      ]
    },
    {
      "cell_type": "code",
      "source": [
        "oof['cmpnb_cat'], tp_cmpnb_cat = cross_validate_predict(cat_only_features, model)"
      ],
      "metadata": {
        "colab": {
          "base_uri": "https://localhost:8080/"
        },
        "outputId": "a5925f41-d72e-467c-8af6-f71cf9d13de5",
        "id": "wCQAmX7PyxpR"
      },
      "execution_count": 140,
      "outputs": [
        {
          "output_type": "stream",
          "name": "stdout",
          "text": [
            "Fold #0: Score = 0.69469 [0.06 secs]\n",
            "Fold #1: Score = 0.69105 [0.06 secs]\n",
            "Fold #2: Score = 0.69419 [0.06 secs]\n",
            "Fold #3: Score = 0.69372 [0.06 secs]\n",
            "Fold #4: Score = 0.69269 [0.06 secs]\n",
            "\n",
            "Avg. Score = 0.69327 +/- 0.00129 [0.89 secs]\n",
            "\n"
          ]
        }
      ]
    },
    {
      "cell_type": "code",
      "source": [
        "# create_submission_files(tp_cmpnb_all, 'cmpnb', 'all')\n",
        "# create_submission_files(tp_cmpnb_og, 'cmpnb', 'og')\n",
        "# create_submission_files(tp_cmpnb_cat, 'cmpnb', 'cat')"
      ],
      "metadata": {
        "id": "r6yLkwZuyxpS"
      },
      "execution_count": 141,
      "outputs": []
    },
    {
      "cell_type": "markdown",
      "source": [
        "# Neural network"
      ],
      "metadata": {
        "id": "Yn5YlF0D_mtG"
      }
    },
    {
      "cell_type": "code",
      "source": [
        "model = make_pipeline(\n",
        "    ColumnTransformer(\n",
        "        transformers=[\n",
        "            ('ordinal_cat', MaxAbsScaler(), make_column_selector(dtype_include='int8')),\n",
        "            ('numerical', MaxAbsScaler(), make_column_selector(dtype_exclude='int8'))\n",
        "        ],\n",
        "        remainder='passthrough'\n",
        "    ),\n",
        "    MLPClassifier(\n",
        "        learning_rate_init=0.001,\n",
        "        early_stopping=True,\n",
        "        n_iter_no_change=25,\n",
        "        max_iter=1000\n",
        "    )\n",
        ")"
      ],
      "metadata": {
        "id": "xd--TOJ8_rvF"
      },
      "execution_count": 151,
      "outputs": []
    },
    {
      "cell_type": "code",
      "source": [
        "oof['mlp_all'], tp_mlp_all = cross_validate_predict(features, model)"
      ],
      "metadata": {
        "colab": {
          "base_uri": "https://localhost:8080/"
        },
        "outputId": "5a67f828-ebd4-4350-e23e-d0dd3d077f12",
        "id": "7v7yQVyURdPb"
      },
      "execution_count": 152,
      "outputs": [
        {
          "output_type": "stream",
          "name": "stdout",
          "text": [
            "Fold #0: Score = 0.58447 [3.53 secs]\n",
            "Fold #1: Score = 0.58215 [6.56 secs]\n",
            "Fold #2: Score = 0.58342 [3.47 secs]\n",
            "Fold #3: Score = 0.58408 [3.42 secs]\n",
            "Fold #4: Score = 0.58466 [3.49 secs]\n",
            "\n",
            "Avg. Score = 0.58376 +/- 0.00091 [21.08 secs]\n",
            "\n"
          ]
        }
      ]
    },
    {
      "cell_type": "code",
      "source": [
        "oof['mlp_og'], tp_mlp_og = cross_validate_predict(original_features, model)"
      ],
      "metadata": {
        "colab": {
          "base_uri": "https://localhost:8080/"
        },
        "outputId": "997e3293-98f3-4705-b951-a5ce406beb07",
        "id": "M5mrzdTiRdPd"
      },
      "execution_count": 153,
      "outputs": [
        {
          "output_type": "stream",
          "name": "stdout",
          "text": [
            "Fold #0: Score = 0.58314 [3.17 secs]\n",
            "Fold #1: Score = 0.58485 [3.23 secs]\n",
            "Fold #2: Score = 0.58286 [3.15 secs]\n",
            "Fold #3: Score = 0.58475 [3.12 secs]\n",
            "Fold #4: Score = 0.58729 [3.15 secs]\n",
            "\n",
            "Avg. Score = 0.58458 +/- 0.00158 [16.41 secs]\n",
            "\n"
          ]
        }
      ]
    },
    {
      "cell_type": "code",
      "source": [
        "oof['mlp_cat'], tp_mlp_cat = cross_validate_predict(cat_only_features, model)"
      ],
      "metadata": {
        "colab": {
          "base_uri": "https://localhost:8080/"
        },
        "outputId": "c3a44849-bb3b-4a44-b143-cd20f3cb5c0c",
        "id": "VICRm9MIRdPd"
      },
      "execution_count": 154,
      "outputs": [
        {
          "output_type": "stream",
          "name": "stdout",
          "text": [
            "Fold #0: Score = 0.58469 [7.88 secs]\n",
            "Fold #1: Score = 0.58315 [3.20 secs]\n",
            "Fold #2: Score = 0.57961 [3.23 secs]\n",
            "Fold #3: Score = 0.58475 [3.23 secs]\n",
            "Fold #4: Score = 0.58368 [3.34 secs]\n",
            "\n",
            "Avg. Score = 0.58318 +/- 0.00188 [21.56 secs]\n",
            "\n"
          ]
        }
      ]
    },
    {
      "cell_type": "code",
      "source": [
        "# create_submission_files(tp_mlp_all, 'mlp', 'all')\n",
        "# create_submission_files(tp_mlp_og, 'mlp', 'og')\n",
        "# create_submission_files(tp_mlp_cat, 'mlp', 'cat')"
      ],
      "metadata": {
        "id": "FypDRqUyRdPe"
      },
      "execution_count": 155,
      "outputs": []
    },
    {
      "cell_type": "markdown",
      "source": [
        "# Ensemble"
      ],
      "metadata": {
        "id": "jwD8w5SRTXPo"
      }
    },
    {
      "cell_type": "markdown",
      "source": [
        "### AdaBoost"
      ],
      "metadata": {
        "id": "gcQdFFfvTc2V"
      }
    },
    {
      "cell_type": "code",
      "source": [
        "model = ele.AdaBoostClassifier(random_state=SEED)"
      ],
      "metadata": {
        "id": "qpfKrWT5TcEv"
      },
      "execution_count": 193,
      "outputs": []
    },
    {
      "cell_type": "code",
      "source": [
        "oof['ada_all'], tp_ada_all = cross_validate_predict(features, model)"
      ],
      "metadata": {
        "colab": {
          "base_uri": "https://localhost:8080/"
        },
        "outputId": "b330c455-dbac-47ed-f431-9e58cd5c9794",
        "id": "JTkVOhaET5q5"
      },
      "execution_count": 194,
      "outputs": [
        {
          "output_type": "stream",
          "name": "stdout",
          "text": [
            "Fold #0: Score = 0.68843 [1.84 secs]\n",
            "Fold #1: Score = 0.68839 [1.00 secs]\n",
            "Fold #2: Score = 0.68836 [1.07 secs]\n",
            "Fold #3: Score = 0.68840 [1.65 secs]\n",
            "Fold #4: Score = 0.68847 [1.02 secs]\n",
            "\n",
            "Avg. Score = 0.68841 +/- 0.00004 [7.59 secs]\n",
            "\n"
          ]
        }
      ]
    },
    {
      "cell_type": "code",
      "source": [
        "oof['ada_og'], tp_ada_og = cross_validate_predict(original_features, model)"
      ],
      "metadata": {
        "colab": {
          "base_uri": "https://localhost:8080/"
        },
        "outputId": "fb6ebfee-f301-4469-f4ca-6977424d0662",
        "id": "ML1m0BddT5q6"
      },
      "execution_count": 195,
      "outputs": [
        {
          "output_type": "stream",
          "name": "stdout",
          "text": [
            "Fold #0: Score = 0.68844 [0.81 secs]\n",
            "Fold #1: Score = 0.68840 [0.82 secs]\n",
            "Fold #2: Score = 0.68835 [0.83 secs]\n",
            "Fold #3: Score = 0.68844 [0.81 secs]\n",
            "Fold #4: Score = 0.68843 [0.80 secs]\n",
            "\n",
            "Avg. Score = 0.68841 +/- 0.00004 [4.92 secs]\n",
            "\n"
          ]
        }
      ]
    },
    {
      "cell_type": "code",
      "source": [
        "oof['ada_cat'], tp_ada_cat = cross_validate_predict(cat_only_features, model)"
      ],
      "metadata": {
        "colab": {
          "base_uri": "https://localhost:8080/"
        },
        "outputId": "0af02125-a00c-4da3-9aa2-be9427004b32",
        "id": "0pWam-u3T5q7"
      },
      "execution_count": 196,
      "outputs": [
        {
          "output_type": "stream",
          "name": "stdout",
          "text": [
            "Fold #0: Score = 0.68847 [0.61 secs]\n",
            "Fold #1: Score = 0.68843 [0.63 secs]\n",
            "Fold #2: Score = 0.68839 [0.64 secs]\n",
            "Fold #3: Score = 0.68847 [0.62 secs]\n",
            "Fold #4: Score = 0.68842 [0.65 secs]\n",
            "\n",
            "Avg. Score = 0.68844 +/- 0.00003 [3.99 secs]\n",
            "\n"
          ]
        }
      ]
    },
    {
      "cell_type": "code",
      "source": [
        "# create_submission_files(tp_ada_all, 'ada', 'all')\n",
        "# create_submission_files(tp_ada_og, 'ada', 'og')\n",
        "# create_submission_files(tp_ada_cat, 'ada', 'cat')"
      ],
      "metadata": {
        "id": "SF_A_yjFT5q7"
      },
      "execution_count": 197,
      "outputs": []
    },
    {
      "cell_type": "markdown",
      "source": [
        "### Bagging"
      ],
      "metadata": {
        "id": "PKaJf5B4VW65"
      }
    },
    {
      "cell_type": "code",
      "source": [
        "model = ele.BaggingClassifier(\n",
        "    n_estimators=150,\n",
        "    max_samples=0.5,\n",
        "    max_features=0.5,\n",
        "    n_jobs=-1, \n",
        "    random_state=SEED\n",
        ")"
      ],
      "metadata": {
        "id": "zxIcWTIyVcFF"
      },
      "execution_count": 210,
      "outputs": []
    },
    {
      "cell_type": "code",
      "source": [
        "oof['bag_all'], tp_bag_all = cross_validate_predict(features, model)"
      ],
      "metadata": {
        "colab": {
          "base_uri": "https://localhost:8080/"
        },
        "outputId": "94f62231-6f03-47bd-ad1f-93874a2fc0a2",
        "id": "BcVlfNzPVcFG"
      },
      "execution_count": 211,
      "outputs": [
        {
          "output_type": "stream",
          "name": "stdout",
          "text": [
            "Fold #0: Score = 0.58804 [5.94 secs]\n",
            "Fold #1: Score = 0.58971 [5.48 secs]\n",
            "Fold #2: Score = 0.58997 [5.56 secs]\n",
            "Fold #3: Score = 0.58799 [5.36 secs]\n",
            "Fold #4: Score = 0.59124 [5.57 secs]\n",
            "\n",
            "Avg. Score = 0.58939 +/- 0.00124 [32.36 secs]\n",
            "\n"
          ]
        }
      ]
    },
    {
      "cell_type": "code",
      "source": [
        "oof['bag_og'], tp_bag_og = cross_validate_predict(original_features, model)"
      ],
      "metadata": {
        "colab": {
          "base_uri": "https://localhost:8080/"
        },
        "outputId": "cf4eba78-115d-4aa7-d8d4-c0cc4689b88f",
        "id": "bMIV5qpaVcFH"
      },
      "execution_count": 212,
      "outputs": [
        {
          "output_type": "stream",
          "name": "stdout",
          "text": [
            "Fold #0: Score = 0.58534 [4.87 secs]\n",
            "Fold #1: Score = 0.58888 [6.19 secs]\n",
            "Fold #2: Score = 0.58947 [4.77 secs]\n",
            "Fold #3: Score = 0.58938 [6.39 secs]\n",
            "Fold #4: Score = 0.59042 [5.27 secs]\n",
            "\n",
            "Avg. Score = 0.58870 +/- 0.00175 [32.29 secs]\n",
            "\n"
          ]
        }
      ]
    },
    {
      "cell_type": "code",
      "source": [
        "oof['bag_cat'], tp_bag_cat = cross_validate_predict(cat_only_features, model)"
      ],
      "metadata": {
        "colab": {
          "base_uri": "https://localhost:8080/"
        },
        "outputId": "054cacbd-4191-4849-b099-26a874d00161",
        "id": "i3lruqoQVcFH"
      },
      "execution_count": 213,
      "outputs": [
        {
          "output_type": "stream",
          "name": "stdout",
          "text": [
            "Fold #0: Score = 0.58285 [2.74 secs]\n",
            "Fold #1: Score = 0.58545 [3.74 secs]\n",
            "Fold #2: Score = 0.58276 [4.15 secs]\n",
            "Fold #3: Score = 0.58609 [3.58 secs]\n",
            "Fold #4: Score = 0.58483 [2.30 secs]\n",
            "\n",
            "Avg. Score = 0.58440 +/- 0.00136 [20.59 secs]\n",
            "\n"
          ]
        }
      ]
    },
    {
      "cell_type": "code",
      "source": [
        "# create_submission_files(tp_bag_all, 'bag', 'all')\n",
        "# create_submission_files(tp_bag_og, 'bag', 'og')\n",
        "# create_submission_files(tp_bag_cat, 'bag', 'cat')"
      ],
      "metadata": {
        "id": "n3gan0bfVcFI"
      },
      "execution_count": 214,
      "outputs": []
    },
    {
      "cell_type": "markdown",
      "source": [
        "### ExtraTrees"
      ],
      "metadata": {
        "id": "QpTdTYw-WtTj"
      }
    },
    {
      "cell_type": "code",
      "source": [
        "model = ele.ExtraTreesClassifier(\n",
        "    n_estimators=200,\n",
        "    max_depth=7,\n",
        "    n_jobs=-1,\n",
        "    random_state=SEED\n",
        ")"
      ],
      "metadata": {
        "id": "ibkVMyyJWwlL"
      },
      "execution_count": 233,
      "outputs": []
    },
    {
      "cell_type": "code",
      "source": [
        "oof['ets_all'], tp_ets_all = cross_validate_predict(features, model)"
      ],
      "metadata": {
        "colab": {
          "base_uri": "https://localhost:8080/"
        },
        "outputId": "2df4892f-3ef2-4070-bdd5-601cd32424c6",
        "id": "8lmlC1uqYhnK"
      },
      "execution_count": 234,
      "outputs": [
        {
          "output_type": "stream",
          "name": "stdout",
          "text": [
            "Fold #0: Score = 0.58067 [1.60 secs]\n",
            "Fold #1: Score = 0.58058 [1.59 secs]\n",
            "Fold #2: Score = 0.57910 [1.60 secs]\n",
            "Fold #3: Score = 0.58095 [1.60 secs]\n",
            "Fold #4: Score = 0.58105 [1.59 secs]\n",
            "\n",
            "Avg. Score = 0.58047 +/- 0.00071 [9.54 secs]\n",
            "\n"
          ]
        }
      ]
    },
    {
      "cell_type": "code",
      "source": [
        "oof['ets_og'], tp_ets_og = cross_validate_predict(original_features, model)"
      ],
      "metadata": {
        "colab": {
          "base_uri": "https://localhost:8080/"
        },
        "outputId": "e353c3d8-d5f1-4df3-c7a9-adf8d45db05f",
        "id": "Eus5RRxkYhnK"
      },
      "execution_count": 235,
      "outputs": [
        {
          "output_type": "stream",
          "name": "stdout",
          "text": [
            "Fold #0: Score = 0.58159 [1.40 secs]\n",
            "Fold #1: Score = 0.58110 [1.38 secs]\n",
            "Fold #2: Score = 0.58060 [1.40 secs]\n",
            "Fold #3: Score = 0.58170 [1.39 secs]\n",
            "Fold #4: Score = 0.58217 [1.40 secs]\n",
            "\n",
            "Avg. Score = 0.58143 +/- 0.00054 [8.43 secs]\n",
            "\n"
          ]
        }
      ]
    },
    {
      "cell_type": "code",
      "source": [
        "oof['ets_cat'], tp_ets_cat = cross_validate_predict(cat_only_features, model)"
      ],
      "metadata": {
        "colab": {
          "base_uri": "https://localhost:8080/"
        },
        "outputId": "dcdc0d6d-6841-4b00-c156-02902bf78bf6",
        "id": "_WJO6mioYhnL"
      },
      "execution_count": 236,
      "outputs": [
        {
          "output_type": "stream",
          "name": "stdout",
          "text": [
            "Fold #0: Score = 0.58082 [1.49 secs]\n",
            "Fold #1: Score = 0.58112 [1.50 secs]\n",
            "Fold #2: Score = 0.57925 [1.49 secs]\n",
            "Fold #3: Score = 0.58128 [1.49 secs]\n",
            "Fold #4: Score = 0.58160 [1.49 secs]\n",
            "\n",
            "Avg. Score = 0.58081 +/- 0.00082 [8.89 secs]\n",
            "\n"
          ]
        }
      ]
    },
    {
      "cell_type": "code",
      "source": [
        "# create_submission_files(tp_ets_all, 'ets', 'all')\n",
        "# create_submission_files(tp_ets_og, 'ets', 'og')\n",
        "# create_submission_files(tp_ets_cat, 'ets', 'cat')"
      ],
      "metadata": {
        "id": "58CNod9pYhnL"
      },
      "execution_count": 237,
      "outputs": []
    },
    {
      "cell_type": "markdown",
      "source": [
        "### GradientBoosting"
      ],
      "metadata": {
        "id": "qa44ytHdZ6GT"
      }
    },
    {
      "cell_type": "code",
      "source": [
        "model = ele.GradientBoostingClassifier(\n",
        "    max_depth=2,\n",
        "    n_iter_no_change=25,\n",
        "    random_state=SEED\n",
        ")"
      ],
      "metadata": {
        "id": "xLiJUeSJYcd1"
      },
      "execution_count": 252,
      "outputs": []
    },
    {
      "cell_type": "code",
      "source": [
        "oof['gb_all'], tp_gb_all = cross_validate_predict(features, model)"
      ],
      "metadata": {
        "colab": {
          "base_uri": "https://localhost:8080/"
        },
        "outputId": "b322307a-e77c-4de9-b50f-a3d0c9a2eb28",
        "id": "55tMfIxhblQL"
      },
      "execution_count": 253,
      "outputs": [
        {
          "output_type": "stream",
          "name": "stdout",
          "text": [
            "Fold #0: Score = 0.58044 [2.29 secs]\n",
            "Fold #1: Score = 0.58024 [0.88 secs]\n",
            "Fold #2: Score = 0.57997 [1.51 secs]\n",
            "Fold #3: Score = 0.58216 [1.18 secs]\n",
            "Fold #4: Score = 0.58033 [0.78 secs]\n",
            "\n",
            "Avg. Score = 0.58063 +/- 0.00078 [7.13 secs]\n",
            "\n"
          ]
        }
      ]
    },
    {
      "cell_type": "code",
      "source": [
        "oof['gb_og'], tp_gb_og = cross_validate_predict(original_features, model)"
      ],
      "metadata": {
        "colab": {
          "base_uri": "https://localhost:8080/"
        },
        "outputId": "1778bfd7-817e-4f62-b98b-35da0b57f2d4",
        "id": "LuVPHAGAblQM"
      },
      "execution_count": 254,
      "outputs": [
        {
          "output_type": "stream",
          "name": "stdout",
          "text": [
            "Fold #0: Score = 0.58113 [1.37 secs]\n",
            "Fold #1: Score = 0.58080 [0.67 secs]\n",
            "Fold #2: Score = 0.58003 [0.87 secs]\n",
            "Fold #3: Score = 0.58234 [0.96 secs]\n",
            "Fold #4: Score = 0.58035 [0.54 secs]\n",
            "\n",
            "Avg. Score = 0.58093 +/- 0.00080 [4.89 secs]\n",
            "\n"
          ]
        }
      ]
    },
    {
      "cell_type": "code",
      "source": [
        "oof['gb_cat'], tp_gb_cat = cross_validate_predict(cat_only_features, model)"
      ],
      "metadata": {
        "colab": {
          "base_uri": "https://localhost:8080/"
        },
        "outputId": "f253b737-31c0-45f0-a79f-2db914a1fba3",
        "id": "ixev5jPcblQN"
      },
      "execution_count": 255,
      "outputs": [
        {
          "output_type": "stream",
          "name": "stdout",
          "text": [
            "Fold #0: Score = 0.58114 [1.14 secs]\n",
            "Fold #1: Score = 0.58042 [1.03 secs]\n",
            "Fold #2: Score = 0.57895 [0.52 secs]\n",
            "Fold #3: Score = 0.58276 [1.09 secs]\n",
            "Fold #4: Score = 0.58091 [0.33 secs]\n",
            "\n",
            "Avg. Score = 0.58083 +/- 0.00123 [4.59 secs]\n",
            "\n"
          ]
        }
      ]
    },
    {
      "cell_type": "code",
      "source": [
        "# create_submission_files(tp_gb_all, 'gb', 'all')\n",
        "# create_submission_files(tp_gb_og, 'gb', 'og')\n",
        "# create_submission_files(tp_gb_cat, 'gb', 'cat')"
      ],
      "metadata": {
        "id": "nkJ03yTlblQN"
      },
      "execution_count": 256,
      "outputs": []
    }
  ]
}