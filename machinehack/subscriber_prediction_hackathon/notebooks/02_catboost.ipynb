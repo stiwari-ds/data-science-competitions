{
  "nbformat": 4,
  "nbformat_minor": 0,
  "metadata": {
    "colab": {
      "provenance": [],
      "authorship_tag": "ABX9TyO3CcGNqW0uQhBiqCXiRIl3",
      "include_colab_link": true
    },
    "kernelspec": {
      "name": "python3",
      "display_name": "Python 3"
    },
    "language_info": {
      "name": "python"
    },
    "gpuClass": "standard"
  },
  "cells": [
    {
      "cell_type": "markdown",
      "metadata": {
        "id": "view-in-github",
        "colab_type": "text"
      },
      "source": [
        "<a href=\"https://colab.research.google.com/github/stiwari-ds/data-science-competitions/blob/main/machinehack/subscriber_prediction_hackathon/notebooks/02_catboost.ipynb\" target=\"_parent\"><img src=\"https://colab.research.google.com/assets/colab-badge.svg\" alt=\"Open In Colab\"/></a>"
      ]
    },
    {
      "cell_type": "markdown",
      "source": [
        "# Setup"
      ],
      "metadata": {
        "id": "HO96_P_uh3mj"
      }
    },
    {
      "cell_type": "code",
      "execution_count": 1,
      "metadata": {
        "id": "oJGZ2XRPhK5A"
      },
      "outputs": [],
      "source": [
        "%%capture\n",
        "!pip install --upgrade optuna\n",
        "!pip install --upgrade catboost"
      ]
    },
    {
      "cell_type": "code",
      "source": [
        "import os\n",
        "import gc\n",
        "import time\n",
        "import warnings\n",
        "\n",
        "gc.enable()\n",
        "warnings.filterwarnings('ignore')\n",
        "\n",
        "import pandas as pd\n",
        "import numpy as np\n",
        "pd.set_option('display.max_columns', None)\n",
        "pd.set_option('display.precision', 4)\n",
        "np.set_printoptions(precision=4)\n",
        "\n",
        "import optuna\n",
        "from optuna.samplers import TPESampler\n",
        "from optuna.pruners import HyperbandPruner\n",
        "\n",
        "import catboost\n",
        "from catboost import CatBoostClassifier\n",
        "\n",
        "from sklearn.model_selection import StratifiedKFold\n",
        "from sklearn.metrics import log_loss"
      ],
      "metadata": {
        "id": "_t390KWjhZ-D"
      },
      "execution_count": 2,
      "outputs": []
    },
    {
      "cell_type": "code",
      "source": [
        "optuna.__version__, catboost.__version__"
      ],
      "metadata": {
        "id": "NybqUn3whlFZ",
        "colab": {
          "base_uri": "https://localhost:8080/"
        },
        "outputId": "f29ac777-040f-4d10-9db9-c32e3e891497"
      },
      "execution_count": 3,
      "outputs": [
        {
          "output_type": "execute_result",
          "data": {
            "text/plain": [
              "('3.0.3', '1.1.1')"
            ]
          },
          "metadata": {},
          "execution_count": 3
        }
      ]
    },
    {
      "cell_type": "code",
      "source": [
        "SEED = 2311\n",
        "os.environ['PYTHONHASHSEED'] = str(SEED)\n",
        "np.random.seed(SEED)"
      ],
      "metadata": {
        "id": "QZFT1zVDj31u"
      },
      "execution_count": 4,
      "outputs": []
    },
    {
      "cell_type": "code",
      "source": [
        "DATA_URL = 'https://raw.githubusercontent.com/stiwari-ds/data-science-competitions/main/machinehack/subscriber_prediction_hackathon/data'\n",
        "\n",
        "train = pd.read_csv(f'{DATA_URL}/processed/train.csv') #processed dataset from notebook 00\n",
        "test = pd.read_csv(f'{DATA_URL}/processed/test.csv')\n",
        "sample_sub = pd.read_csv(f'{DATA_URL}/raw/submission.csv')"
      ],
      "metadata": {
        "id": "xMxyqERMbsuj"
      },
      "execution_count": 5,
      "outputs": []
    },
    {
      "cell_type": "code",
      "source": [
        "TARGET = 'y_bool'"
      ],
      "metadata": {
        "id": "JkdaIBhfbsul"
      },
      "execution_count": 6,
      "outputs": []
    },
    {
      "cell_type": "code",
      "source": [
        "features = list(test.columns)\n",
        "num_features = ['age', 'balance', 'day', 'duration', 'campaign', 'pdays', 'previous']\n",
        "cat_features = [f for f in features if f not in num_features]"
      ],
      "metadata": {
        "id": "FbfO1lIMbsun"
      },
      "execution_count": 7,
      "outputs": []
    },
    {
      "cell_type": "code",
      "source": [
        "original_features = ['age', 'job', 'marital', 'education', 'default', 'balance',\n",
        "                     'housing', 'loan', 'contact', 'day', 'month', 'duration', \n",
        "                     'campaign', 'pdays', 'previous', 'poutcome']\n",
        "\n",
        "cat_only_features = ['age_bins', 'job_groups', 'marital', 'education', 'default',\n",
        "                     'balance_bins', 'housing', 'loan', 'contact', 'day_bins', \n",
        "                     'month_bins', 'duration_bins', 'campaign_bins', 'pdays_bins',\n",
        "                     'pdays_bool', 'previous_bins', 'previous_bool', 'poutcome']"
      ],
      "metadata": {
        "id": "-12ZFzcHHLbV"
      },
      "execution_count": 8,
      "outputs": []
    },
    {
      "cell_type": "code",
      "source": [
        "train[cat_features] = train[cat_features].astype('category')\n",
        "test[cat_features] = test[cat_features].astype('category')"
      ],
      "metadata": {
        "id": "h8hY9cGh2W2b"
      },
      "execution_count": 9,
      "outputs": []
    },
    {
      "cell_type": "markdown",
      "source": [
        "# Baseline"
      ],
      "metadata": {
        "id": "uur7dQEjf6CY"
      }
    },
    {
      "cell_type": "code",
      "source": [
        "%%time\n",
        "scores = []\n",
        "cv = StratifiedKFold(n_splits=5, shuffle=True, random_state=SEED)\n",
        "X, y = train[features], train[TARGET]\n",
        "cat_features = list(X.select_dtypes(include='category').columns)\n",
        "for fold, (train_idx, val_idx) in enumerate(cv.split(X, y)):\n",
        "    X_train, y_train = X.loc[train_idx], y.iloc[train_idx]\n",
        "    X_val, y_val = X.loc[val_idx], y.iloc[val_idx]\n",
        "\n",
        "    model = CatBoostClassifier(\n",
        "        loss_function='Logloss',\n",
        "        eval_metric='Logloss',\n",
        "        use_best_model=True,\n",
        "        verbose=False,\n",
        "        random_state=SEED\n",
        "    )\n",
        "    model.fit(\n",
        "        X_train, y_train,\n",
        "        eval_set=[(X_val, y_val)],\n",
        "        cat_features=cat_features,\n",
        "        early_stopping_rounds=100,\n",
        "        verbose=False\n",
        "    )\n",
        "    val_preds = model.predict_proba(X_val)[:, 1]\n",
        "    score = log_loss(y_val, val_preds)\n",
        "    scores.append(score)\n",
        "    print(f'Fold #{fold}: ({model.best_iteration_} rounds) Logloss = {score:.5f}')\n",
        "    _ = gc.collect()\n",
        "\n",
        "print(f'\\nAvg Logloss = {np.mean(scores):.5f} +/- {np.std(scores):.5f}\\n')"
      ],
      "metadata": {
        "colab": {
          "base_uri": "https://localhost:8080/"
        },
        "id": "OkFlWjOhf5Au",
        "outputId": "d3f3e645-14e0-4e96-d5d5-368fec3da0f0"
      },
      "execution_count": 10,
      "outputs": [
        {
          "output_type": "stream",
          "name": "stdout",
          "text": [
            "Fold #0: (84 rounds) Logloss = 0.58051\n",
            "Fold #1: (113 rounds) Logloss = 0.57998\n",
            "Fold #2: (200 rounds) Logloss = 0.57857\n",
            "Fold #3: (64 rounds) Logloss = 0.58136\n",
            "Fold #4: (86 rounds) Logloss = 0.58065\n",
            "\n",
            "Avg Logloss = 0.58021 +/- 0.00093\n",
            "\n",
            "CPU times: user 1min 15s, sys: 1.73 s, total: 1min 17s\n",
            "Wall time: 51.5 s\n"
          ]
        }
      ]
    },
    {
      "cell_type": "markdown",
      "metadata": {
        "id": "oVZEqwhQ2oi2"
      },
      "source": [
        "# Hyperparameter tuning"
      ]
    },
    {
      "cell_type": "code",
      "execution_count": 11,
      "metadata": {
        "id": "i3VeEFRe2oBe"
      },
      "outputs": [],
      "source": [
        "def objective(trial, data, base_params):\n",
        "\n",
        "    scores = []\n",
        "    X, y = data\n",
        "    cat_features = list(X.select_dtypes(include='category').columns)\n",
        "    \n",
        "    param_grid = {\n",
        "        'learning_rate': trial.suggest_float('learning_rate', 0.1, 0.5, step=0.05),\n",
        "        'l2_leaf_reg': trial.suggest_float('l2_leaf_reg', 2, 15, step=0.1),\n",
        "        'depth': trial.suggest_int('depth', 3, 13),\n",
        "        'rsm': trial.suggest_float('rsm', 0.5, 1.0, step=0.05), #colsample_bylevel\n",
        "        'random_strength': trial.suggest_float('random_strength', 0.5, 2, step=0.05),\n",
        "        'scale_pos_weight': trial.suggest_float('scale_pos_weight', 1, 5, step=0.05),\n",
        "        'one_hot_max_size': trial.suggest_categorical('one_hot_max_size', [2, 5, 12]),\n",
        "        'bootstrap_type': trial.suggest_categorical(\n",
        "            'bootstrap_type', ['Bayesian', 'Bernoulli', 'MVS'])\n",
        "    }\n",
        "    #conditional hyperparameters\n",
        "    if param_grid['bootstrap_type'] == 'Bayesian':\n",
        "        param_grid['bagging_temperature'] = trial.suggest_int('bagging_temperature', 0, 10)\n",
        "    else:\n",
        "        param_grid['subsample'] = trial.suggest_float('subsample', 0.25, 1.0, step=0.05)\n",
        "\n",
        "    cv = StratifiedKFold(n_splits=5, shuffle=True, random_state=SEED)\n",
        "    for fold, (train_idx, val_idx) in enumerate(cv.split(X, y)):\n",
        "        X_train, y_train = X.loc[train_idx], y.iloc[train_idx]\n",
        "        X_val, y_val = X.loc[val_idx], y.iloc[val_idx]\n",
        "        \n",
        "        model = CatBoostClassifier(**base_params, **param_grid)\n",
        "        model.fit(\n",
        "            X_train, y_train,\n",
        "            eval_set=[(X_val, y_val)],\n",
        "            cat_features=cat_features,\n",
        "            early_stopping_rounds=100,\n",
        "            verbose=False\n",
        "        )\n",
        "\n",
        "        val_preds = model.predict_proba(X_val)[:, 1]\n",
        "        scores.append(log_loss(y_val, val_preds))\n",
        "        \n",
        "    return np.mean(scores)"
      ]
    },
    {
      "cell_type": "code",
      "execution_count": 12,
      "metadata": {
        "id": "7JCjxMSuT3Ep"
      },
      "outputs": [],
      "source": [
        "def tune_params(data, base_params, n_trials, direction):\n",
        "    study = optuna.create_study(\n",
        "        sampler=TPESampler(seed=SEED),\n",
        "        pruner=HyperbandPruner(),\n",
        "        direction=direction\n",
        "    )\n",
        "    study.optimize(\n",
        "        func=lambda trial: objective(trial, data, base_params),\n",
        "        n_trials=n_trials,\n",
        "        gc_after_trial=True\n",
        "    )\n",
        "    return study"
      ]
    },
    {
      "cell_type": "markdown",
      "source": [
        "# Cross-validation"
      ],
      "metadata": {
        "id": "_IdnAvEkjxqS"
      }
    },
    {
      "cell_type": "code",
      "source": [
        "def cross_validate_predict(data, model_params, n_splits=5):\n",
        "    oof_preds = {}  #out-of-fold predictions on train set\n",
        "    test_preds = {} #predictions on test set for each fold\n",
        "    scores = [] #scores on validation set\n",
        "\n",
        "    X, y, X_test = data\n",
        "    cat_features = list(X.select_dtypes(include='category').columns)\n",
        "       \n",
        "    cv = StratifiedKFold(n_splits=n_splits, shuffle=True, random_state=SEED)\n",
        "    for fold, (train_idx, val_idx) in enumerate(cv.split(X, y)):\n",
        "        X_train, y_train = X.loc[train_idx], y.iloc[train_idx]\n",
        "        X_val, y_val = X.loc[val_idx], y.iloc[val_idx]\n",
        "        \n",
        "        model = CatBoostClassifier(**model_params)\n",
        "        model.fit(\n",
        "            X_train, y_train,\n",
        "            eval_set=[(X_val, y_val)],\n",
        "            cat_features=cat_features,\n",
        "            early_stopping_rounds=100,\n",
        "            verbose=False\n",
        "        )\n",
        "\n",
        "        val_preds = model.predict_proba(X_val)[:, 1]\n",
        "        test_preds[f'fold{fold}']  = model.predict_proba(X_test)[:, 1]\n",
        "        oof_preds.update(dict(zip(val_idx, val_preds)))\n",
        "\n",
        "        score = log_loss(y_val, val_preds)\n",
        "        scores.append(score)\n",
        "        print(f'Fold #{fold}: Logloss = {score:.5f}')\n",
        "        _ = gc.collect()\n",
        "    print(f'Avg. Logloss = {np.mean(scores):.5f} +/- {np.std(scores):.5f}')\n",
        "    \n",
        "    oof_preds = pd.Series(oof_preds).sort_index()\n",
        "    test_preds = pd.DataFrame.from_dict(test_preds)\n",
        "    test_preds['mean'] = test_preds.mean(axis=1)\n",
        "\n",
        "    return oof_preds, test_preds"
      ],
      "metadata": {
        "id": "0UBSsqwvj0I2"
      },
      "execution_count": 13,
      "outputs": []
    },
    {
      "cell_type": "code",
      "source": [
        "def run_experiment(data, n_trials=10):\n",
        "    \n",
        "    X, y, X_test = data\n",
        "\n",
        "    base_params = {\n",
        "        'n_estimators': 10000,\n",
        "        'loss_function': 'Logloss',\n",
        "        'eval_metric': 'Logloss',\n",
        "        'langevin': True,\n",
        "        'use_best_model': True,\n",
        "        'verbose': False,\n",
        "        'random_seed': SEED\n",
        "    }\n",
        "        \n",
        "    print(f'----------Hyperparameter tuning----------')\n",
        "    start = time.time()\n",
        "    study = tune_params(\n",
        "        data=(X, y),\n",
        "        base_params=base_params,\n",
        "        n_trials=n_trials, \n",
        "        direction='minimize' #metric: logloss -> lower is better\n",
        "    )\n",
        "    end = time.time()\n",
        "    print(f'Best trial: {study.best_trial.number} -> Best value: {study.best_value:.5f}')\n",
        "    print(f'Best hyperparameters:')\n",
        "    for k, v in study.best_params.items():\n",
        "        print(f'{k:15} - {v}')\n",
        "    print(f'[Time taken: {end - start:.2f}s]\\n')\n",
        "    \n",
        "    print(f'-----Cross-validation and prediction-----')\n",
        "    start = time.time()\n",
        "    model_params = {**base_params, **study.best_params}\n",
        "    oof_preds, test_preds = cross_validate_predict(data, model_params)\n",
        "    end = time.time()\n",
        "    print(f'[Time taken: {end - start:.2f}s]\\n')\n",
        "\n",
        "    return oof_preds, test_preds"
      ],
      "metadata": {
        "id": "KkMeqc7EkKx-"
      },
      "execution_count": 14,
      "outputs": []
    },
    {
      "cell_type": "markdown",
      "source": [
        "**Trial runs**"
      ],
      "metadata": {
        "id": "Ri22_Ef0kzB0"
      }
    },
    {
      "cell_type": "code",
      "source": [
        "optuna.logging.set_verbosity(optuna.logging.INFO)"
      ],
      "metadata": {
        "id": "1lWtr5SYk0yu"
      },
      "execution_count": 15,
      "outputs": []
    },
    {
      "cell_type": "code",
      "source": [
        "%%time\n",
        "op, tp = run_experiment(\n",
        "    data=(train[features], train[TARGET], test[features]),\n",
        "    n_trials=3\n",
        ")"
      ],
      "metadata": {
        "colab": {
          "base_uri": "https://localhost:8080/"
        },
        "id": "QAPuSH6Jk4o8",
        "outputId": "6df81992-d49e-4944-c7c1-d7fcba2eb98c"
      },
      "execution_count": 17,
      "outputs": [
        {
          "output_type": "stream",
          "name": "stderr",
          "text": [
            "\u001b[32m[I 2022-11-16 03:22:39,330]\u001b[0m A new study created in memory with name: no-name-8a5844a2-f922-459d-82b6-34c6a58346a8\u001b[0m\n"
          ]
        },
        {
          "output_type": "stream",
          "name": "stdout",
          "text": [
            "----------Hyperparameter tuning----------\n"
          ]
        },
        {
          "output_type": "stream",
          "name": "stderr",
          "text": [
            "\u001b[32m[I 2022-11-16 03:22:42,147]\u001b[0m Trial 0 finished with value: 0.7763927602072619 and parameters: {'learning_rate': 0.2, 'l2_leaf_reg': 13.0, 'depth': 5, 'rsm': 0.55, 'random_strength': 0.55, 'scale_pos_weight': 3.85, 'one_hot_max_size': 12, 'bootstrap_type': 'Bayesian', 'bagging_temperature': 1}. Best is trial 0 with value: 0.7763927602072619.\u001b[0m\n",
            "\u001b[32m[I 2022-11-16 03:22:48,681]\u001b[0m Trial 1 finished with value: 0.6794008203043577 and parameters: {'learning_rate': 0.45000000000000007, 'l2_leaf_reg': 14.9, 'depth': 9, 'rsm': 0.55, 'random_strength': 1.5, 'scale_pos_weight': 2.4000000000000004, 'one_hot_max_size': 12, 'bootstrap_type': 'Bayesian', 'bagging_temperature': 8}. Best is trial 1 with value: 0.6794008203043577.\u001b[0m\n",
            "\u001b[32m[I 2022-11-16 03:22:56,904]\u001b[0m Trial 2 finished with value: 0.8352546890797858 and parameters: {'learning_rate': 0.15000000000000002, 'l2_leaf_reg': 7.6000000000000005, 'depth': 9, 'rsm': 0.65, 'random_strength': 1.55, 'scale_pos_weight': 4.7, 'one_hot_max_size': 12, 'bootstrap_type': 'Bernoulli', 'subsample': 0.6000000000000001}. Best is trial 1 with value: 0.6794008203043577.\u001b[0m\n"
          ]
        },
        {
          "output_type": "stream",
          "name": "stdout",
          "text": [
            "Best trial: 1 -> Best value: 0.67940\n",
            "Best hyperparameters:\n",
            "learning_rate   - 0.45000000000000007\n",
            "l2_leaf_reg     - 14.9\n",
            "depth           - 9\n",
            "rsm             - 0.55\n",
            "random_strength - 1.5\n",
            "scale_pos_weight - 2.4000000000000004\n",
            "one_hot_max_size - 12\n",
            "bootstrap_type  - Bayesian\n",
            "bagging_temperature - 8\n",
            "[Time taken: 17.64s]\n",
            "\n",
            "-----Cross-validation and prediction-----\n",
            "Fold #0: Logloss = 0.68079\n",
            "Fold #1: Logloss = 0.68067\n",
            "Fold #2: Logloss = 0.67373\n",
            "Fold #3: Logloss = 0.68083\n",
            "Fold #4: Logloss = 0.68098\n",
            "Avg. Logloss = 0.67940 +/- 0.00284\n",
            "[Time taken: 7.99s]\n",
            "\n",
            "CPU times: user 36.8 s, sys: 4.25 s, total: 41 s\n",
            "Wall time: 25.6 s\n"
          ]
        }
      ]
    },
    {
      "cell_type": "code",
      "source": [
        "optuna.logging.set_verbosity(optuna.logging.ERROR)"
      ],
      "metadata": {
        "id": "NVVgqIHzdawv"
      },
      "execution_count": 18,
      "outputs": []
    },
    {
      "cell_type": "markdown",
      "source": [
        "# Exp 1"
      ],
      "metadata": {
        "id": "XEosvKAmzvvr"
      }
    },
    {
      "cell_type": "code",
      "source": [
        "%%time\n",
        "op1, tp1 = run_experiment(\n",
        "    data=(train[features], train[TARGET], test[features]),\n",
        "    n_trials=200\n",
        ")"
      ],
      "metadata": {
        "colab": {
          "base_uri": "https://localhost:8080/"
        },
        "id": "HSTivemPzzNo",
        "outputId": "57c30a30-7743-48ce-dc11-e4a3750f8177"
      },
      "execution_count": 19,
      "outputs": [
        {
          "output_type": "stream",
          "name": "stdout",
          "text": [
            "----------Hyperparameter tuning----------\n",
            "Best trial: 181 -> Best value: 0.58007\n",
            "Best hyperparameters:\n",
            "learning_rate   - 0.45000000000000007\n",
            "l2_leaf_reg     - 13.700000000000001\n",
            "depth           - 3\n",
            "rsm             - 0.7\n",
            "random_strength - 1.9500000000000002\n",
            "scale_pos_weight - 1.0\n",
            "one_hot_max_size - 12\n",
            "bootstrap_type  - MVS\n",
            "subsample       - 0.9\n",
            "[Time taken: 2822.87s]\n",
            "\n",
            "-----Cross-validation and prediction-----\n",
            "Fold #0: Logloss = 0.58065\n",
            "Fold #1: Logloss = 0.57944\n",
            "Fold #2: Logloss = 0.57805\n",
            "Fold #3: Logloss = 0.58170\n",
            "Fold #4: Logloss = 0.58051\n",
            "Avg. Logloss = 0.58007 +/- 0.00124\n",
            "[Time taken: 2.93s]\n",
            "\n",
            "CPU times: user 1h 22min 59s, sys: 2min 20s, total: 1h 25min 20s\n",
            "Wall time: 47min 5s\n"
          ]
        }
      ]
    },
    {
      "cell_type": "markdown",
      "source": [
        "# Exp 2"
      ],
      "metadata": {
        "id": "A3PbmLOsz5eN"
      }
    },
    {
      "cell_type": "code",
      "source": [
        "%%time\n",
        "op2, tp2 = run_experiment(\n",
        "    data=(train[original_features], train[TARGET], test[original_features]),\n",
        "    n_trials=200\n",
        ")"
      ],
      "metadata": {
        "id": "ZkMLAYWpz9i6",
        "colab": {
          "base_uri": "https://localhost:8080/"
        },
        "outputId": "788ec7ae-05f7-4e77-c944-0581a383e92b"
      },
      "execution_count": 20,
      "outputs": [
        {
          "output_type": "stream",
          "name": "stdout",
          "text": [
            "----------Hyperparameter tuning----------\n",
            "Best trial: 168 -> Best value: 0.58022\n",
            "Best hyperparameters:\n",
            "learning_rate   - 0.1\n",
            "l2_leaf_reg     - 8.5\n",
            "depth           - 4\n",
            "rsm             - 0.8\n",
            "random_strength - 0.65\n",
            "scale_pos_weight - 1.0\n",
            "one_hot_max_size - 5\n",
            "bootstrap_type  - Bayesian\n",
            "bagging_temperature - 0\n",
            "[Time taken: 1832.90s]\n",
            "\n",
            "-----Cross-validation and prediction-----\n",
            "Fold #0: Logloss = 0.58001\n",
            "Fold #1: Logloss = 0.58048\n",
            "Fold #2: Logloss = 0.57825\n",
            "Fold #3: Logloss = 0.58153\n",
            "Fold #4: Logloss = 0.58085\n",
            "Avg. Logloss = 0.58022 +/- 0.00110\n",
            "[Time taken: 8.01s]\n",
            "\n",
            "CPU times: user 52min 50s, sys: 1min 27s, total: 54min 18s\n",
            "Wall time: 30min 40s\n"
          ]
        }
      ]
    },
    {
      "cell_type": "markdown",
      "source": [
        "# Exp 3"
      ],
      "metadata": {
        "id": "gRM7h23vaukK"
      }
    },
    {
      "cell_type": "code",
      "source": [
        "%%time\n",
        "op3, tp3 = run_experiment(\n",
        "    data=(train[cat_only_features], train[TARGET], test[cat_only_features]),\n",
        "    n_trials=200\n",
        ")"
      ],
      "metadata": {
        "id": "8xp6FNh1aukk",
        "colab": {
          "base_uri": "https://localhost:8080/"
        },
        "outputId": "f9397796-de58-4ce8-e636-59f9334b47c4"
      },
      "execution_count": 21,
      "outputs": [
        {
          "output_type": "stream",
          "name": "stdout",
          "text": [
            "----------Hyperparameter tuning----------\n",
            "Best trial: 123 -> Best value: 0.58052\n",
            "Best hyperparameters:\n",
            "learning_rate   - 0.30000000000000004\n",
            "l2_leaf_reg     - 6.6000000000000005\n",
            "depth           - 3\n",
            "rsm             - 0.65\n",
            "random_strength - 1.2000000000000002\n",
            "scale_pos_weight - 1.0\n",
            "one_hot_max_size - 2\n",
            "bootstrap_type  - MVS\n",
            "subsample       - 0.9500000000000001\n",
            "[Time taken: 2481.45s]\n",
            "\n",
            "-----Cross-validation and prediction-----\n",
            "Fold #0: Logloss = 0.58095\n",
            "Fold #1: Logloss = 0.58038\n",
            "Fold #2: Logloss = 0.57825\n",
            "Fold #3: Logloss = 0.58188\n",
            "Fold #4: Logloss = 0.58116\n",
            "Avg. Logloss = 0.58052 +/- 0.00123\n",
            "[Time taken: 12.32s]\n",
            "\n",
            "CPU times: user 1h 13min 10s, sys: 1min 42s, total: 1h 14min 53s\n",
            "Wall time: 41min 33s\n"
          ]
        }
      ]
    },
    {
      "cell_type": "markdown",
      "source": [
        "# Submission files"
      ],
      "metadata": {
        "id": "EahA1dJ47Z1P"
      }
    },
    {
      "cell_type": "code",
      "source": [
        "from google.colab import drive\n",
        "drive.mount('/content/drive')"
      ],
      "metadata": {
        "colab": {
          "base_uri": "https://localhost:8080/"
        },
        "id": "7npzUESt7bGc",
        "outputId": "81493d91-31e5-44d3-ed4d-a89f46014e20"
      },
      "execution_count": 22,
      "outputs": [
        {
          "output_type": "stream",
          "name": "stdout",
          "text": [
            "Mounted at /content/drive\n"
          ]
        }
      ]
    },
    {
      "cell_type": "code",
      "source": [
        "NOTEBOOK = '02'\n",
        "SUBMISSION_PATH = f'/content/drive/MyDrive/data_science_competitions/machinehack/subscriber_prediction_hackathon/submissions/nb_{NOTEBOOK}'\n",
        "if not os.path.isdir(SUBMISSION_PATH):\n",
        "    os.makedirs(SUBMISSION_PATH)"
      ],
      "metadata": {
        "id": "Z39yNfKD7b95"
      },
      "execution_count": 23,
      "outputs": []
    },
    {
      "cell_type": "code",
      "source": [
        "def create_submission_files(test_preds: pd.DataFrame, expt_num: int):\n",
        "    for col in (test_preds.columns):\n",
        "        sub = sample_sub.copy()\n",
        "        sub[TARGET] = test_preds[col]\n",
        "        sub.to_csv(f'{SUBMISSION_PATH}/{expt_num}_{col}.csv', index=False)"
      ],
      "metadata": {
        "id": "5y6XhjNx8OJT"
      },
      "execution_count": 24,
      "outputs": []
    },
    {
      "cell_type": "code",
      "source": [
        "create_submission_files(tp1, '01')\n",
        "create_submission_files(tp2, '02')\n",
        "create_submission_files(tp3, '03')"
      ],
      "metadata": {
        "id": "Ii5dHRpk8Rve"
      },
      "execution_count": 25,
      "outputs": []
    }
  ]
}