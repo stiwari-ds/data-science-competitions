{
  "nbformat": 4,
  "nbformat_minor": 0,
  "metadata": {
    "colab": {
      "provenance": [],
      "collapsed_sections": [
        "fMe_ffy2a_ac"
      ],
      "authorship_tag": "ABX9TyMVOwGpVqNsRpM754yaWOy8",
      "include_colab_link": true
    },
    "kernelspec": {
      "name": "python3",
      "display_name": "Python 3"
    },
    "language_info": {
      "name": "python"
    },
    "gpuClass": "standard"
  },
  "cells": [
    {
      "cell_type": "markdown",
      "metadata": {
        "id": "view-in-github",
        "colab_type": "text"
      },
      "source": [
        "<a href=\"https://colab.research.google.com/github/stiwari-ds/data-science-competitions/blob/main/machinehack/subscriber_prediction_hackathon/notebooks/07_extratrees.ipynb\" target=\"_parent\"><img src=\"https://colab.research.google.com/assets/colab-badge.svg\" alt=\"Open In Colab\"/></a>"
      ]
    },
    {
      "cell_type": "markdown",
      "source": [
        "# Setup"
      ],
      "metadata": {
        "id": "fMe_ffy2a_ac"
      }
    },
    {
      "cell_type": "code",
      "source": [
        "%%capture\n",
        "!pip install --upgrade optuna"
      ],
      "metadata": {
        "id": "D7-r0T17L7yc"
      },
      "execution_count": 2,
      "outputs": []
    },
    {
      "cell_type": "code",
      "source": [
        "import os\n",
        "import gc\n",
        "import time\n",
        "import warnings\n",
        "\n",
        "gc.enable()\n",
        "warnings.filterwarnings('ignore')"
      ],
      "metadata": {
        "id": "rDe5mRXFPo2O"
      },
      "execution_count": 3,
      "outputs": []
    },
    {
      "cell_type": "code",
      "source": [
        "import pandas as pd\n",
        "import numpy as np\n",
        "pd.set_option('display.max_columns', None)\n",
        "pd.set_option('display.precision', 4)"
      ],
      "metadata": {
        "id": "eKfBaXpBbBUQ"
      },
      "execution_count": 4,
      "outputs": []
    },
    {
      "cell_type": "code",
      "source": [
        "from sklearn.model_selection import StratifiedKFold\n",
        "from sklearn.ensemble import ExtraTreesClassifier\n",
        "from sklearn.metrics import log_loss\n",
        "\n",
        "import optuna\n",
        "from optuna.samplers import TPESampler\n",
        "from optuna.pruners import HyperbandPruner"
      ],
      "metadata": {
        "id": "DZO_NkoBPuZw"
      },
      "execution_count": 5,
      "outputs": []
    },
    {
      "cell_type": "code",
      "source": [
        "#remove cell to run future versions\n",
        "assert optuna.__version__ == '3.0.4', f'Change in Optuna version. Original notebook version: 3.0.4'"
      ],
      "metadata": {
        "id": "jOxlQB0dMNp2"
      },
      "execution_count": 6,
      "outputs": []
    },
    {
      "cell_type": "code",
      "source": [
        "SEED = 2311\n",
        "os.environ['PYTHONHASHSEED'] = str(SEED)\n",
        "np.random.seed(SEED)"
      ],
      "metadata": {
        "id": "ahAN3IXePw9C"
      },
      "execution_count": 7,
      "outputs": []
    },
    {
      "cell_type": "code",
      "source": [
        "DATA_URL = 'https://raw.githubusercontent.com/stiwari-ds/data-science-competitions/main/machinehack/subscriber_prediction_hackathon/data'\n",
        "\n",
        "train = pd.read_csv(f'{DATA_URL}/raw/train.csv')\n",
        "test = pd.read_csv(f'{DATA_URL}/raw/test.csv')\n",
        "sample_sub = pd.read_csv(f'{DATA_URL}/raw/submission.csv')"
      ],
      "metadata": {
        "id": "LOHMVhw1ZZS6"
      },
      "execution_count": 8,
      "outputs": []
    },
    {
      "cell_type": "code",
      "source": [
        "TARGET = 'y_bool'"
      ],
      "metadata": {
        "id": "KEJQopfVZppB"
      },
      "execution_count": 9,
      "outputs": []
    },
    {
      "cell_type": "code",
      "source": [
        "train = pd.get_dummies(train)\n",
        "test = pd.get_dummies(test)"
      ],
      "metadata": {
        "id": "_SV8t0hiMTOb"
      },
      "execution_count": 10,
      "outputs": []
    },
    {
      "cell_type": "code",
      "source": [
        "features = list(test.columns)"
      ],
      "metadata": {
        "id": "GTXv-kI2gVhI"
      },
      "execution_count": 11,
      "outputs": []
    },
    {
      "cell_type": "markdown",
      "metadata": {
        "id": "oVZEqwhQ2oi2"
      },
      "source": [
        "# Hyperparameter tuning"
      ]
    },
    {
      "cell_type": "code",
      "execution_count": 12,
      "metadata": {
        "id": "i3VeEFRe2oBe"
      },
      "outputs": [],
      "source": [
        "def objective(trial, data, base_params, n_splits):\n",
        "    scores = []\n",
        "    X, y = data\n",
        "    param_grid = {\n",
        "        'n_estimators': trial.suggest_int('n_estimators', 100, 1000, step=25),\n",
        "        'criterion': trial.suggest_categorical('criterion', ['gini', 'entropy']),\n",
        "        'max_depth': trial.suggest_int('max_depth', 3, 12),\n",
        "        'max_features': trial.suggest_float('max_features', 0.55, 0.95, step=0.05),\n",
        "        'max_samples': trial.suggest_float('max_samples', 0.55, 0.95, step=0.05),\n",
        "        'class_weight': trial.suggest_categorical(\n",
        "            'class_weight', ['balanced', 'balanced_subsample', None]\n",
        "        )\n",
        "    }\n",
        "    cv = StratifiedKFold(n_splits=n_splits, shuffle=True, random_state=SEED)\n",
        "    for fold, (train_idx, val_idx) in enumerate(cv.split(X, y)):\n",
        "        X_train, y_train = X.loc[train_idx], y.iloc[train_idx]\n",
        "        X_val, y_val = X.loc[val_idx], y.iloc[val_idx]\n",
        "        model = ExtraTreesClassifier(**base_params, **param_grid)\n",
        "        model.fit(X_train, y_train)\n",
        "        val_preds = model.predict_proba(X_val)[:, 1]\n",
        "        scores.append(log_loss(y_val, val_preds))\n",
        "    return np.mean(scores)"
      ]
    },
    {
      "cell_type": "code",
      "execution_count": 13,
      "metadata": {
        "id": "7JCjxMSuT3Ep"
      },
      "outputs": [],
      "source": [
        "def tune_params(data, base_params, n_splits, n_trials, direction):\n",
        "    study = optuna.create_study(\n",
        "        sampler=TPESampler(\n",
        "            consider_endpoints=True,\n",
        "            multivariate=True,\n",
        "            group=True,\n",
        "            seed=SEED),\n",
        "        pruner=HyperbandPruner(),\n",
        "        direction=direction\n",
        "    )\n",
        "    study.optimize(\n",
        "        func=lambda trial: objective(trial, data, base_params, n_splits),\n",
        "        n_trials=n_trials,\n",
        "        gc_after_trial=True\n",
        "    )\n",
        "    return study"
      ]
    },
    {
      "cell_type": "markdown",
      "source": [
        "# Cross-validation"
      ],
      "metadata": {
        "id": "_IdnAvEkjxqS"
      }
    },
    {
      "cell_type": "code",
      "source": [
        "def cross_validate_predict(data, model_params, n_splits):\n",
        "    oof_preds = {}  #out-of-fold predictions on train set\n",
        "    test_preds = {} #predictions on test set for each fold\n",
        "    scores = [] #scores on validation set\n",
        "\n",
        "    X, y, X_test = data\n",
        "       \n",
        "    cv = StratifiedKFold(n_splits=n_splits, shuffle=True, random_state=SEED)\n",
        "    for fold, (train_idx, val_idx) in enumerate(cv.split(X, y)):\n",
        "        X_train, y_train = X.loc[train_idx], y.iloc[train_idx]\n",
        "        X_val, y_val = X.loc[val_idx], y.iloc[val_idx]\n",
        "\n",
        "        model = ExtraTreesClassifier(**model_params)\n",
        "        model.fit(X_train, y_train)\n",
        "        val_preds = model.predict_proba(X_val)[:, 1]\n",
        "        test_preds[f'fold{fold}'] = model.predict_proba(X_test)[:, 1]\n",
        "        oof_preds.update(dict(zip(val_idx, val_preds)))\n",
        "\n",
        "        score = log_loss(y_val, val_preds)\n",
        "        scores.append(score)\n",
        "        print(f'Fold #{fold}: Logloss = {score:.5f}')\n",
        "        _ = gc.collect()\n",
        "    print(f'Avg. Logloss = {np.mean(scores):.5f} +/- {np.std(scores):.5f}')\n",
        "    oof_preds = pd.Series(oof_preds).sort_index()\n",
        "    test_preds = pd.DataFrame.from_dict(test_preds)\n",
        "    test_preds['mean'] = test_preds.mean(axis=1)\n",
        "    return oof_preds, test_preds"
      ],
      "metadata": {
        "id": "0UBSsqwvj0I2"
      },
      "execution_count": 14,
      "outputs": []
    },
    {
      "cell_type": "code",
      "source": [
        "def run_experiment(data, n_splits=5, n_trials=10):\n",
        "    \n",
        "    X, y, X_test = data\n",
        "\n",
        "    base_params = {\n",
        "        'bootstrap': True,\n",
        "        'random_state': SEED,\n",
        "        'n_jobs': -1\n",
        "    }\n",
        "    \n",
        "    print(f'----------Hyperparameter tuning----------')\n",
        "    start = time.time()\n",
        "    study = tune_params(\n",
        "        data=(X, y), \n",
        "        base_params=base_params, \n",
        "        n_splits=n_splits, \n",
        "        n_trials=n_trials, \n",
        "        direction='minimize' #logloss -> lower is better\n",
        "    )\n",
        "    end = time.time()\n",
        "    print(f'Best trial: {study.best_trial.number} -> Best value: {study.best_value:.5f}')\n",
        "    print(f'Best hyperparameters:')\n",
        "    for k, v in study.best_params.items():\n",
        "        print(f'{k:15} - {v}')\n",
        "    print(f'[Time taken: {end - start:.2f}s]\\n')\n",
        "    _ = gc.collect()\n",
        "    print(f'-----Cross-validation and prediction-----')\n",
        "    start = time.time()\n",
        "    model_params = {**base_params, **study.best_params}\n",
        "    oof_preds, test_preds = cross_validate_predict(data, model_params, n_splits)\n",
        "    end = time.time()\n",
        "    print(f'[Time taken: {end - start:.2f}s]\\n')\n",
        "\n",
        "    return oof_preds, test_preds"
      ],
      "metadata": {
        "id": "KkMeqc7EkKx-"
      },
      "execution_count": 15,
      "outputs": []
    },
    {
      "cell_type": "markdown",
      "source": [
        "**Trial run**"
      ],
      "metadata": {
        "id": "Ri22_Ef0kzB0"
      }
    },
    {
      "cell_type": "code",
      "source": [
        "optuna.logging.set_verbosity(optuna.logging.INFO)"
      ],
      "metadata": {
        "id": "1lWtr5SYk0yu"
      },
      "execution_count": 16,
      "outputs": []
    },
    {
      "cell_type": "code",
      "source": [
        "%%time\n",
        "op, tp = run_experiment(\n",
        "    data=(train[features], train[TARGET], test[features]),\n",
        "    n_splits=5,\n",
        "    n_trials=3\n",
        ")"
      ],
      "metadata": {
        "id": "QAPuSH6Jk4o8",
        "colab": {
          "base_uri": "https://localhost:8080/"
        },
        "outputId": "82ff9290-b1be-417f-94f4-1ef967459864"
      },
      "execution_count": 17,
      "outputs": [
        {
          "output_type": "stream",
          "name": "stderr",
          "text": [
            "\u001b[32m[I 2022-12-13 04:54:35,824]\u001b[0m A new study created in memory with name: no-name-ed24bc74-d6ad-45ef-b6a5-4fbe04c6961d\u001b[0m\n"
          ]
        },
        {
          "output_type": "stream",
          "name": "stdout",
          "text": [
            "----------Hyperparameter tuning----------\n"
          ]
        },
        {
          "output_type": "stream",
          "name": "stderr",
          "text": [
            "\u001b[32m[I 2022-12-13 04:54:48,018]\u001b[0m Trial 0 finished with value: 0.5812081797953861 and parameters: {'n_estimators': 375, 'criterion': 'gini', 'max_depth': 4, 'max_features': 0.55, 'max_samples': 0.8500000000000001, 'class_weight': None}. Best is trial 0 with value: 0.5812081797953861.\u001b[0m\n",
            "\u001b[32m[I 2022-12-13 04:55:21,406]\u001b[0m Trial 1 finished with value: 0.5809474306961713 and parameters: {'n_estimators': 600, 'criterion': 'entropy', 'max_depth': 4, 'max_features': 0.9000000000000001, 'max_samples': 0.95, 'class_weight': None}. Best is trial 1 with value: 0.5809474306961713.\u001b[0m\n",
            "\u001b[32m[I 2022-12-13 04:55:52,476]\u001b[0m Trial 2 finished with value: 0.6693682631532756 and parameters: {'n_estimators': 425, 'criterion': 'gini', 'max_depth': 10, 'max_features': 0.75, 'max_samples': 0.65, 'class_weight': 'balanced_subsample'}. Best is trial 1 with value: 0.5809474306961713.\u001b[0m\n"
          ]
        },
        {
          "output_type": "stream",
          "name": "stdout",
          "text": [
            "Best trial: 1 -> Best value: 0.58095\n",
            "Best hyperparameters:\n",
            "n_estimators    - 600\n",
            "criterion       - entropy\n",
            "max_depth       - 4\n",
            "max_features    - 0.9000000000000001\n",
            "max_samples     - 0.95\n",
            "class_weight    - None\n",
            "[Time taken: 76.74s]\n",
            "\n",
            "-----Cross-validation and prediction-----\n",
            "Fold #0: Logloss = 0.58119\n",
            "Fold #1: Logloss = 0.58088\n",
            "Fold #2: Logloss = 0.58007\n",
            "Fold #3: Logloss = 0.58117\n",
            "Fold #4: Logloss = 0.58143\n",
            "Avg. Logloss = 0.58095 +/- 0.00047\n",
            "[Time taken: 29.09s]\n",
            "\n",
            "CPU times: user 3min, sys: 2.89 s, total: 3min 3s\n",
            "Wall time: 1min 45s\n"
          ]
        }
      ]
    },
    {
      "cell_type": "code",
      "source": [
        "optuna.logging.set_verbosity(optuna.logging.ERROR)"
      ],
      "metadata": {
        "id": "4yA6UlWQ1FUE"
      },
      "execution_count": 18,
      "outputs": []
    },
    {
      "cell_type": "markdown",
      "source": [
        "# 3-fold"
      ],
      "metadata": {
        "id": "dTK_W9SpeSGO"
      }
    },
    {
      "cell_type": "code",
      "source": [
        "%%time\n",
        "op_3, tp_3 = run_experiment(\n",
        "    data=(train[features], train[TARGET], test[features]),\n",
        "    n_splits=3,\n",
        "    n_trials=50\n",
        ")"
      ],
      "metadata": {
        "id": "Ng0VgWZBeTq4",
        "colab": {
          "base_uri": "https://localhost:8080/"
        },
        "outputId": "2a47c065-8393-453f-d3b6-eae42ff1b4fd"
      },
      "execution_count": 19,
      "outputs": [
        {
          "output_type": "stream",
          "name": "stdout",
          "text": [
            "----------Hyperparameter tuning----------\n",
            "Best trial: 38 -> Best value: 0.58107\n",
            "Best hyperparameters:\n",
            "n_estimators    - 525\n",
            "criterion       - gini\n",
            "max_depth       - 6\n",
            "max_features    - 0.95\n",
            "max_samples     - 0.75\n",
            "class_weight    - None\n",
            "[Time taken: 825.30s]\n",
            "\n",
            "-----Cross-validation and prediction-----\n",
            "Fold #0: Logloss = 0.58151\n",
            "Fold #1: Logloss = 0.58069\n",
            "Fold #2: Logloss = 0.58100\n",
            "Avg. Logloss = 0.58107 +/- 0.00033\n",
            "[Time taken: 16.36s]\n",
            "\n",
            "CPU times: user 25min 3s, sys: 25.7 s, total: 25min 28s\n",
            "Wall time: 14min 1s\n"
          ]
        }
      ]
    },
    {
      "cell_type": "markdown",
      "source": [
        "# 5-fold"
      ],
      "metadata": {
        "id": "_NZkQc-deCr1"
      }
    },
    {
      "cell_type": "code",
      "source": [
        "%%time\n",
        "op_5, tp_5 = run_experiment(\n",
        "    data=(train[features], train[TARGET], test[features]),\n",
        "    n_splits=5,\n",
        "    n_trials=50\n",
        ")"
      ],
      "metadata": {
        "id": "PbOi8dIWeIHJ",
        "colab": {
          "base_uri": "https://localhost:8080/"
        },
        "outputId": "499b157c-e63c-4bca-b61d-0d3b81a6bccd"
      },
      "execution_count": 20,
      "outputs": [
        {
          "output_type": "stream",
          "name": "stdout",
          "text": [
            "----------Hyperparameter tuning----------\n",
            "Best trial: 23 -> Best value: 0.58077\n",
            "Best hyperparameters:\n",
            "n_estimators    - 250\n",
            "criterion       - entropy\n",
            "max_depth       - 5\n",
            "max_features    - 0.95\n",
            "max_samples     - 0.95\n",
            "class_weight    - None\n",
            "[Time taken: 2135.44s]\n",
            "\n",
            "-----Cross-validation and prediction-----\n",
            "Fold #0: Logloss = 0.58113\n",
            "Fold #1: Logloss = 0.58060\n",
            "Fold #2: Logloss = 0.57967\n",
            "Fold #3: Logloss = 0.58117\n",
            "Fold #4: Logloss = 0.58126\n",
            "Avg. Logloss = 0.58077 +/- 0.00059\n",
            "[Time taken: 15.55s]\n",
            "\n",
            "CPU times: user 1h 5min 44s, sys: 53 s, total: 1h 6min 37s\n",
            "Wall time: 35min 51s\n"
          ]
        }
      ]
    },
    {
      "cell_type": "markdown",
      "source": [
        "# 7-fold"
      ],
      "metadata": {
        "id": "P_4CQ990gujS"
      }
    },
    {
      "cell_type": "code",
      "source": [
        "%%time\n",
        "op_7, tp_7 = run_experiment(\n",
        "    data=(train[features], train[TARGET], test[features]),\n",
        "    n_splits=7,\n",
        "    n_trials=50\n",
        ")"
      ],
      "metadata": {
        "id": "-HsFt76SgqaM",
        "colab": {
          "base_uri": "https://localhost:8080/"
        },
        "outputId": "f60ecd8c-f339-4357-d425-7220d560bba8"
      },
      "execution_count": 21,
      "outputs": [
        {
          "output_type": "stream",
          "name": "stdout",
          "text": [
            "----------Hyperparameter tuning----------\n",
            "Best trial: 44 -> Best value: 0.58075\n",
            "Best hyperparameters:\n",
            "n_estimators    - 725\n",
            "criterion       - gini\n",
            "max_depth       - 6\n",
            "max_features    - 0.95\n",
            "max_samples     - 0.8500000000000001\n",
            "class_weight    - None\n",
            "[Time taken: 2390.39s]\n",
            "\n",
            "-----Cross-validation and prediction-----\n",
            "Fold #0: Logloss = 0.58176\n",
            "Fold #1: Logloss = 0.58080\n",
            "Fold #2: Logloss = 0.58095\n",
            "Fold #3: Logloss = 0.57834\n",
            "Fold #4: Logloss = 0.58130\n",
            "Fold #5: Logloss = 0.58123\n",
            "Fold #6: Logloss = 0.58087\n",
            "Avg. Logloss = 0.58075 +/- 0.00103\n",
            "[Time taken: 68.29s]\n",
            "\n",
            "CPU times: user 1h 15min 38s, sys: 55 s, total: 1h 16min 32s\n",
            "Wall time: 40min 58s\n"
          ]
        }
      ]
    },
    {
      "cell_type": "markdown",
      "source": [
        "# 10-fold"
      ],
      "metadata": {
        "id": "3HGXkFEXeNRh"
      }
    },
    {
      "cell_type": "code",
      "source": [
        "%%time\n",
        "op_10, tp_10 = run_experiment(\n",
        "    data=(train[features], train[TARGET], test[features]),\n",
        "    n_splits=10,\n",
        "    n_trials=50\n",
        ")"
      ],
      "metadata": {
        "id": "RCl8Ls1vePS4",
        "colab": {
          "base_uri": "https://localhost:8080/"
        },
        "outputId": "a1e72322-aac9-4dee-8cd9-f5ff16352214"
      },
      "execution_count": 22,
      "outputs": [
        {
          "output_type": "stream",
          "name": "stdout",
          "text": [
            "----------Hyperparameter tuning----------\n",
            "Best trial: 43 -> Best value: 0.58062\n",
            "Best hyperparameters:\n",
            "n_estimators    - 575\n",
            "criterion       - entropy\n",
            "max_depth       - 6\n",
            "max_features    - 0.8500000000000001\n",
            "max_samples     - 0.8\n",
            "class_weight    - None\n",
            "[Time taken: 2833.11s]\n",
            "\n",
            "-----Cross-validation and prediction-----\n",
            "Fold #0: Logloss = 0.58271\n",
            "Fold #1: Logloss = 0.57976\n",
            "Fold #2: Logloss = 0.58140\n",
            "Fold #3: Logloss = 0.58039\n",
            "Fold #4: Logloss = 0.57908\n",
            "Fold #5: Logloss = 0.58007\n",
            "Fold #6: Logloss = 0.58163\n",
            "Fold #7: Logloss = 0.57985\n",
            "Fold #8: Logloss = 0.58054\n",
            "Fold #9: Logloss = 0.58078\n",
            "Avg. Logloss = 0.58062 +/- 0.00100\n",
            "[Time taken: 74.06s]\n",
            "\n",
            "CPU times: user 1h 30min, sys: 1min, total: 1h 31min 1s\n",
            "Wall time: 48min 27s\n"
          ]
        }
      ]
    },
    {
      "cell_type": "markdown",
      "source": [
        "# Submission files"
      ],
      "metadata": {
        "id": "EahA1dJ47Z1P"
      }
    },
    {
      "cell_type": "code",
      "source": [
        "from google.colab import drive\n",
        "drive.mount('/content/drive')"
      ],
      "metadata": {
        "id": "7npzUESt7bGc",
        "colab": {
          "base_uri": "https://localhost:8080/"
        },
        "outputId": "45593e76-23e6-4db8-eb02-3ade257acf79"
      },
      "execution_count": 1,
      "outputs": [
        {
          "output_type": "stream",
          "name": "stdout",
          "text": [
            "Mounted at /content/drive\n"
          ]
        }
      ]
    },
    {
      "cell_type": "code",
      "source": [
        "NOTEBOOK = '07'\n",
        "SUBMISSION_PATH = f'/content/drive/MyDrive/data_science_competitions/machinehack/subscriber_prediction_hackathon/submissions/nb_{NOTEBOOK}'\n",
        "if not os.path.isdir(SUBMISSION_PATH):\n",
        "    os.makedirs(SUBMISSION_PATH)"
      ],
      "metadata": {
        "id": "Z39yNfKD7b95"
      },
      "execution_count": null,
      "outputs": []
    },
    {
      "cell_type": "code",
      "source": [
        "def create_submission_files(test_preds, model_config, path=SUBMISSION_PATH):\n",
        "    for col in (test_preds.columns):\n",
        "        sub = sample_sub.copy()\n",
        "        sub[TARGET] = test_preds[col]\n",
        "        sub.to_csv(f'{path}/{model_config}_{col}.csv', index=False)"
      ],
      "metadata": {
        "id": "5y6XhjNx8OJT"
      },
      "execution_count": 24,
      "outputs": []
    },
    {
      "cell_type": "code",
      "source": [
        "create_submission_files(tp_3, 'et3')\n",
        "create_submission_files(tp_5, 'et5')\n",
        "create_submission_files(tp_7, 'et7')\n",
        "create_submission_files(tp_10, 'et10')"
      ],
      "metadata": {
        "id": "Ii5dHRpk8Rve"
      },
      "execution_count": 25,
      "outputs": []
    }
  ]
}