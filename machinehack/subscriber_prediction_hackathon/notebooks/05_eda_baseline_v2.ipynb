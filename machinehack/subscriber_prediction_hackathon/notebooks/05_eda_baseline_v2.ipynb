{
  "nbformat": 4,
  "nbformat_minor": 0,
  "metadata": {
    "colab": {
      "provenance": [],
      "authorship_tag": "ABX9TyPolsTa/pidpYKv7oXaD+xC",
      "include_colab_link": true
    },
    "kernelspec": {
      "name": "python3",
      "display_name": "Python 3"
    },
    "language_info": {
      "name": "python"
    }
  },
  "cells": [
    {
      "cell_type": "markdown",
      "metadata": {
        "id": "view-in-github",
        "colab_type": "text"
      },
      "source": [
        "<a href=\"https://colab.research.google.com/github/stiwari-ds/data-science-competitions/blob/main/machinehack/subscriber_prediction_hackathon/notebooks/05_eda_baseline_v2.ipynb\" target=\"_parent\"><img src=\"https://colab.research.google.com/assets/colab-badge.svg\" alt=\"Open In Colab\"/></a>"
      ]
    },
    {
      "cell_type": "markdown",
      "source": [
        "# Setup"
      ],
      "metadata": {
        "id": "UQ6REdWjolJu"
      }
    },
    {
      "cell_type": "code",
      "execution_count": 1,
      "metadata": {
        "id": "wglzy4-DoVj0"
      },
      "outputs": [],
      "source": [
        "import gc\n",
        "import os\n",
        "import time\n",
        "import warnings\n",
        "gc.enable()\n",
        "warnings.filterwarnings(action='ignore')\n",
        "\n",
        "import numpy as np\n",
        "import pandas as pd\n",
        "pd.set_option('display.max_columns', None)\n",
        "pd.set_option('display.precision', 4)\n",
        "\n",
        "from sklearn.model_selection import StratifiedKFold\n",
        "from sklearn.ensemble import ExtraTreesClassifier\n",
        "from sklearn.metrics import log_loss, roc_auc_score\n",
        "\n",
        "SEED = 2311\n",
        "os.environ['PYTHONHASHSEED'] = str(SEED)\n",
        "np.random.seed(SEED)"
      ]
    },
    {
      "cell_type": "code",
      "source": [
        "DATA_URL = 'https://raw.githubusercontent.com/stiwari-ds/data-science-competitions/main/machinehack/subscriber_prediction_hackathon/data'\n",
        "\n",
        "train = pd.read_csv(f'{DATA_URL}/raw/train.csv')\n",
        "test = pd.read_csv(f'{DATA_URL}/raw/test.csv')\n",
        "sample_sub = pd.read_csv(f'{DATA_URL}/raw/submission.csv')"
      ],
      "metadata": {
        "id": "cm91lj6nouNl"
      },
      "execution_count": 2,
      "outputs": []
    },
    {
      "cell_type": "markdown",
      "source": [
        "# Preprocessing"
      ],
      "metadata": {
        "id": "GJ6LAz0io25J"
      }
    },
    {
      "cell_type": "code",
      "source": [
        "train.info()"
      ],
      "metadata": {
        "colab": {
          "base_uri": "https://localhost:8080/"
        },
        "id": "3P3u3r4spGti",
        "outputId": "aad30957-f90e-41a2-a60a-7ef51ca3d777"
      },
      "execution_count": 9,
      "outputs": [
        {
          "output_type": "stream",
          "name": "stdout",
          "text": [
            "<class 'pandas.core.frame.DataFrame'>\n",
            "RangeIndex: 21000 entries, 0 to 20999\n",
            "Data columns (total 17 columns):\n",
            " #   Column     Non-Null Count  Dtype \n",
            "---  ------     --------------  ----- \n",
            " 0   age        21000 non-null  int64 \n",
            " 1   job        21000 non-null  object\n",
            " 2   marital    21000 non-null  object\n",
            " 3   education  21000 non-null  object\n",
            " 4   default    21000 non-null  object\n",
            " 5   balance    21000 non-null  int64 \n",
            " 6   housing    21000 non-null  object\n",
            " 7   loan       21000 non-null  object\n",
            " 8   contact    21000 non-null  object\n",
            " 9   day        21000 non-null  int64 \n",
            " 10  month      21000 non-null  object\n",
            " 11  duration   21000 non-null  int64 \n",
            " 12  campaign   21000 non-null  int64 \n",
            " 13  pdays      21000 non-null  int64 \n",
            " 14  previous   21000 non-null  int64 \n",
            " 15  poutcome   21000 non-null  object\n",
            " 16  y_bool     21000 non-null  int64 \n",
            "dtypes: int64(8), object(9)\n",
            "memory usage: 2.7+ MB\n"
          ]
        }
      ]
    },
    {
      "cell_type": "code",
      "source": [
        "TARGET = 'y_bool'"
      ],
      "metadata": {
        "id": "O5S-2N2YrOV7"
      },
      "execution_count": 14,
      "outputs": []
    },
    {
      "cell_type": "code",
      "source": [
        "train = pd.get_dummies(train)\n",
        "test = pd.get_dummies(test)"
      ],
      "metadata": {
        "id": "060xSrEdqi1M"
      },
      "execution_count": 13,
      "outputs": []
    },
    {
      "cell_type": "code",
      "source": [
        "features = list(test.columns)\n",
        "num_features = ['age', 'balance', 'day', 'duration', 'campaign', 'pdays', 'previous']"
      ],
      "metadata": {
        "id": "aA1k5D3ArrjV"
      },
      "execution_count": 18,
      "outputs": []
    },
    {
      "cell_type": "markdown",
      "source": [
        "# Adversarial validation"
      ],
      "metadata": {
        "id": "Ps_IkrpPqp_m"
      }
    },
    {
      "cell_type": "code",
      "source": [
        "train['set'] = 0\n",
        "test['set'] = 1\n",
        "composite = pd.concat([train, test], axis=0, ignore_index=True)"
      ],
      "metadata": {
        "id": "bevCP9Frqpha"
      },
      "execution_count": 15,
      "outputs": []
    },
    {
      "cell_type": "code",
      "source": [
        "composite = composite.drop(TARGET, axis=1)\n",
        "train = train.drop('set', axis=1)\n",
        "test = test.drop('set', axis=1)"
      ],
      "metadata": {
        "id": "uRZHUzxqrSvC"
      },
      "execution_count": 16,
      "outputs": []
    },
    {
      "cell_type": "code",
      "source": [
        "%%time\n",
        "X, y = composite[features], composite['set']\n",
        "scores = []\n",
        "\n",
        "cv = StratifiedKFold(n_splits=5, shuffle=True, random_state=SEED)\n",
        "for fold, (train_idx, val_idx) in enumerate(cv.split(X, y)):\n",
        "    X_train, y_train = X.loc[train_idx], y.iloc[train_idx]\n",
        "    X_val, y_val = X.loc[val_idx], y.iloc[val_idx]\n",
        "\n",
        "    model = ExtraTreesClassifier(\n",
        "        n_estimators=150,  \n",
        "        max_depth=7,\n",
        "        n_jobs=-1, \n",
        "        random_state=SEED\n",
        "    )\n",
        "\n",
        "    model.fit(X_train, y_train)\n",
        "    val_probs = model.predict_proba(X_val)[:, 1]\n",
        "\n",
        "    score = roc_auc_score(y_val, val_probs)\n",
        "    scores.append(score)\n",
        "    print(f'Fold #{fold}: {score:.5f}')\n",
        "    _ = gc.collect()\n",
        "\n",
        "print(f'Avg AUC = {np.mean(scores):.5f} +/- {np.std(scores):.5f}\\n')"
      ],
      "metadata": {
        "colab": {
          "base_uri": "https://localhost:8080/"
        },
        "id": "eaoLDEvorb-N",
        "outputId": "23aff9ac-fb01-441a-8f70-38469071d0e7"
      },
      "execution_count": 20,
      "outputs": [
        {
          "output_type": "stream",
          "name": "stdout",
          "text": [
            "Fold #0: 0.50383\n",
            "Fold #1: 0.49668\n",
            "Fold #2: 0.49250\n",
            "Fold #3: 0.50228\n",
            "Fold #4: 0.49848\n",
            "Avg AUC = 0.49875 +/- 0.00404\n",
            "\n",
            "CPU times: user 14.5 s, sys: 247 ms, total: 14.8 s\n",
            "Wall time: 8.51 s\n"
          ]
        }
      ]
    },
    {
      "cell_type": "markdown",
      "source": [
        "Train and test sets cannot be differentiated based on features.  \n",
        "Thus, we can trust CV score for performance on test set."
      ],
      "metadata": {
        "id": "QJ1WsTdssJLs"
      }
    },
    {
      "cell_type": "markdown",
      "source": [
        "# Baseline #2"
      ],
      "metadata": {
        "id": "cyBa-1-JsOSr"
      }
    },
    {
      "cell_type": "code",
      "source": [
        "%%time\n",
        "X, y = train[features], train[TARGET]\n",
        "X_test = test[features]\n",
        "scores = []\n",
        "test_preds = {}\n",
        "\n",
        "cv = StratifiedKFold(n_splits=5, shuffle=True, random_state=SEED)\n",
        "for fold, (train_idx, val_idx) in enumerate(cv.split(X, y)):\n",
        "    X_train, y_train = X.loc[train_idx], y.iloc[train_idx]\n",
        "    X_val, y_val = X.loc[val_idx], y.iloc[val_idx]\n",
        "\n",
        "    model = ExtraTreesClassifier(\n",
        "        n_estimators=250, \n",
        "        max_depth=6,\n",
        "        n_jobs=-1, \n",
        "        random_state=SEED\n",
        "    )\n",
        "\n",
        "    model.fit(X_train, y_train)\n",
        "    val_probs = model.predict_proba(X_val)[:, 1]\n",
        "    test_preds[f'fold{fold}'] = model.predict_proba(X_test)[:, 1]\n",
        "\n",
        "    score = log_loss(y_val, val_probs)\n",
        "    scores.append(score)\n",
        "    print(f'Fold #{fold}: Logloss = {score:.5f}')\n",
        "    _ = gc.collect()\n",
        "\n",
        "print(f'\\nAvg Logloss = {np.mean(scores):.5f} +/- {np.std(scores):.5f}\\n')\n",
        "\n",
        "test_preds = pd.DataFrame.from_dict(test_preds)\n",
        "test_preds['mean'] = test_preds.mean(axis=1)"
      ],
      "metadata": {
        "colab": {
          "base_uri": "https://localhost:8080/"
        },
        "id": "vxSvoSLurjyY",
        "outputId": "b9e3b941-4079-4b01-8109-6eec02c70fff"
      },
      "execution_count": 25,
      "outputs": [
        {
          "output_type": "stream",
          "name": "stdout",
          "text": [
            "Fold #0: Logloss = 0.58184\n",
            "Fold #1: Logloss = 0.58170\n",
            "Fold #2: Logloss = 0.58100\n",
            "Fold #3: Logloss = 0.58208\n",
            "Fold #4: Logloss = 0.58188\n",
            "\n",
            "Avg Logloss = 0.58170 +/- 0.00037\n",
            "\n",
            "CPU times: user 17.5 s, sys: 471 ms, total: 18 s\n",
            "Wall time: 10.8 s\n"
          ]
        }
      ]
    },
    {
      "cell_type": "markdown",
      "source": [
        "# Submission files"
      ],
      "metadata": {
        "id": "vYTHZUQeztzz"
      }
    },
    {
      "cell_type": "code",
      "source": [
        "from google.colab import drive\n",
        "drive.mount('/content/drive', force_remount=True)"
      ],
      "metadata": {
        "colab": {
          "base_uri": "https://localhost:8080/"
        },
        "id": "wS6PiSND5ujx",
        "outputId": "cc83904b-da39-4c58-c94c-cc28465059ec"
      },
      "execution_count": 26,
      "outputs": [
        {
          "output_type": "stream",
          "name": "stdout",
          "text": [
            "Mounted at /content/drive\n"
          ]
        }
      ]
    },
    {
      "cell_type": "code",
      "source": [
        "NOTEBOOK = '05'\n",
        "SUBMISSION_PATH = f'/content/drive/MyDrive/data_science_competitions/machinehack/subscriber_prediction_hackathon/submissions/nb_{NOTEBOOK}'\n",
        "if not os.path.isdir(SUBMISSION_PATH):\n",
        "    os.makedirs(SUBMISSION_PATH)"
      ],
      "metadata": {
        "id": "---AQuIY02_v"
      },
      "execution_count": 27,
      "outputs": []
    },
    {
      "cell_type": "code",
      "source": [
        "def create_submission_files(test_preds, feature_set):\n",
        "    for col in test_preds.columns:\n",
        "        sub = sample_sub.copy()\n",
        "        sub[TARGET] = test_preds[col]\n",
        "        sub.to_csv(f'{SUBMISSION_PATH}/{feature_set}_{col}.csv', index=False)"
      ],
      "metadata": {
        "id": "Bmp7KqErzs-G"
      },
      "execution_count": 28,
      "outputs": []
    },
    {
      "cell_type": "code",
      "source": [
        "create_submission_files(test_preds, 'dummies')"
      ],
      "metadata": {
        "id": "P20XXLh_1klj"
      },
      "execution_count": 29,
      "outputs": []
    }
  ]
}