{
  "nbformat": 4,
  "nbformat_minor": 0,
  "metadata": {
    "colab": {
      "provenance": [],
      "authorship_tag": "ABX9TyPFXXNodKAyHdtpwhQXwpQM",
      "include_colab_link": true
    },
    "kernelspec": {
      "name": "python3",
      "display_name": "Python 3"
    },
    "language_info": {
      "name": "python"
    }
  },
  "cells": [
    {
      "cell_type": "markdown",
      "metadata": {
        "id": "view-in-github",
        "colab_type": "text"
      },
      "source": [
        "<a href=\"https://colab.research.google.com/github/stiwari-ds/data-science-competitions/blob/main/machinehack/infocepts_data_engg_hackathon/notebooks/03_tasks_v2.ipynb\" target=\"_parent\"><img src=\"https://colab.research.google.com/assets/colab-badge.svg\" alt=\"Open In Colab\"/></a>"
      ]
    },
    {
      "cell_type": "markdown",
      "source": [
        "# [Version 1](https://github.com/stiwari-ds/data-science-competitions/blob/main/machinehack/infocepts_data_engg_hackathon/notebooks/02_tasks_v1.ipynb)"
      ],
      "metadata": {
        "id": "xYQwlDcup6XE"
      }
    },
    {
      "cell_type": "markdown",
      "source": [
        "# Setup"
      ],
      "metadata": {
        "id": "S7ZrcdFKrZIX"
      }
    },
    {
      "cell_type": "code",
      "source": [
        "import re\n",
        "import numpy as np\n",
        "import pandas as pd\n",
        "\n",
        "pd.set_option('display.max_columns', None)\n",
        "pd.set_option('display.precision', 10)"
      ],
      "metadata": {
        "id": "f6Yf-F4fk2wD"
      },
      "execution_count": 1,
      "outputs": []
    },
    {
      "cell_type": "code",
      "source": [
        "data_path = 'https://raw.githubusercontent.com/stiwari-ds/data-science-competitions/main/machinehack/infocepts_data_engg_hackathon/data'"
      ],
      "metadata": {
        "id": "dMxGC-FakqZx"
      },
      "execution_count": 2,
      "outputs": []
    },
    {
      "cell_type": "code",
      "source": [
        "df = pd.read_csv(f'{data_path}/processed/data.csv')"
      ],
      "metadata": {
        "id": "hq9Er4DPIj4M"
      },
      "execution_count": 3,
      "outputs": []
    },
    {
      "cell_type": "code",
      "source": [
        "df.head()"
      ],
      "metadata": {
        "colab": {
          "base_uri": "https://localhost:8080/",
          "height": 337
        },
        "id": "f2LPvRwuNF9r",
        "outputId": "7c23d1e9-1605-45c5-9f27-15055cfcae6c"
      },
      "execution_count": 4,
      "outputs": [
        {
          "output_type": "execute_result",
          "data": {
            "text/plain": [
              "                          start_time_ts  total_duration  total_clicks  \\\n",
              "0     October 07, 2019 Monday, 00:08:28  166.7111748417             7   \n",
              "1    October 01, 2019 Tuesday, 15:08:40    0.4341847739             7   \n",
              "2     October 14, 2019 Monday, 21:17:24    0.9353204474             2   \n",
              "3   October 05, 2019 Saturday, 21:54:13    0.4170550607             2   \n",
              "4  October 09, 2019 Wednesday, 13:33:22    2.4857195833             5   \n",
              "\n",
              "   total_items  total_cats  day_of_week  is_special_day  prod_views_freqs  \\\n",
              "0            2           1            1               0      0.0009451492   \n",
              "1            2           1            0               0      0.0009458164   \n",
              "2           22           1            4               0      0.0009453911   \n",
              "3            2           1            0               0      0.0009449910   \n",
              "4            1           1            5               0      0.0009450520   \n",
              "\n",
              "   prod_buys_freqs  \n",
              "0     0.0006900279  \n",
              "1     0.0006896519  \n",
              "2     0.0006900878  \n",
              "3     0.0007388218  \n",
              "4     0.0006895188  "
            ],
            "text/html": [
              "\n",
              "  <div id=\"df-f411a55b-8b8f-4b33-994c-3a66fed5ce79\">\n",
              "    <div class=\"colab-df-container\">\n",
              "      <div>\n",
              "<style scoped>\n",
              "    .dataframe tbody tr th:only-of-type {\n",
              "        vertical-align: middle;\n",
              "    }\n",
              "\n",
              "    .dataframe tbody tr th {\n",
              "        vertical-align: top;\n",
              "    }\n",
              "\n",
              "    .dataframe thead th {\n",
              "        text-align: right;\n",
              "    }\n",
              "</style>\n",
              "<table border=\"1\" class=\"dataframe\">\n",
              "  <thead>\n",
              "    <tr style=\"text-align: right;\">\n",
              "      <th></th>\n",
              "      <th>start_time_ts</th>\n",
              "      <th>total_duration</th>\n",
              "      <th>total_clicks</th>\n",
              "      <th>total_items</th>\n",
              "      <th>total_cats</th>\n",
              "      <th>day_of_week</th>\n",
              "      <th>is_special_day</th>\n",
              "      <th>prod_views_freqs</th>\n",
              "      <th>prod_buys_freqs</th>\n",
              "    </tr>\n",
              "  </thead>\n",
              "  <tbody>\n",
              "    <tr>\n",
              "      <th>0</th>\n",
              "      <td>October 07, 2019 Monday, 00:08:28</td>\n",
              "      <td>166.7111748417</td>\n",
              "      <td>7</td>\n",
              "      <td>2</td>\n",
              "      <td>1</td>\n",
              "      <td>1</td>\n",
              "      <td>0</td>\n",
              "      <td>0.0009451492</td>\n",
              "      <td>0.0006900279</td>\n",
              "    </tr>\n",
              "    <tr>\n",
              "      <th>1</th>\n",
              "      <td>October 01, 2019 Tuesday, 15:08:40</td>\n",
              "      <td>0.4341847739</td>\n",
              "      <td>7</td>\n",
              "      <td>2</td>\n",
              "      <td>1</td>\n",
              "      <td>0</td>\n",
              "      <td>0</td>\n",
              "      <td>0.0009458164</td>\n",
              "      <td>0.0006896519</td>\n",
              "    </tr>\n",
              "    <tr>\n",
              "      <th>2</th>\n",
              "      <td>October 14, 2019 Monday, 21:17:24</td>\n",
              "      <td>0.9353204474</td>\n",
              "      <td>2</td>\n",
              "      <td>22</td>\n",
              "      <td>1</td>\n",
              "      <td>4</td>\n",
              "      <td>0</td>\n",
              "      <td>0.0009453911</td>\n",
              "      <td>0.0006900878</td>\n",
              "    </tr>\n",
              "    <tr>\n",
              "      <th>3</th>\n",
              "      <td>October 05, 2019 Saturday, 21:54:13</td>\n",
              "      <td>0.4170550607</td>\n",
              "      <td>2</td>\n",
              "      <td>2</td>\n",
              "      <td>1</td>\n",
              "      <td>0</td>\n",
              "      <td>0</td>\n",
              "      <td>0.0009449910</td>\n",
              "      <td>0.0007388218</td>\n",
              "    </tr>\n",
              "    <tr>\n",
              "      <th>4</th>\n",
              "      <td>October 09, 2019 Wednesday, 13:33:22</td>\n",
              "      <td>2.4857195833</td>\n",
              "      <td>5</td>\n",
              "      <td>1</td>\n",
              "      <td>1</td>\n",
              "      <td>5</td>\n",
              "      <td>0</td>\n",
              "      <td>0.0009450520</td>\n",
              "      <td>0.0006895188</td>\n",
              "    </tr>\n",
              "  </tbody>\n",
              "</table>\n",
              "</div>\n",
              "      <button class=\"colab-df-convert\" onclick=\"convertToInteractive('df-f411a55b-8b8f-4b33-994c-3a66fed5ce79')\"\n",
              "              title=\"Convert this dataframe to an interactive table.\"\n",
              "              style=\"display:none;\">\n",
              "        \n",
              "  <svg xmlns=\"http://www.w3.org/2000/svg\" height=\"24px\"viewBox=\"0 0 24 24\"\n",
              "       width=\"24px\">\n",
              "    <path d=\"M0 0h24v24H0V0z\" fill=\"none\"/>\n",
              "    <path d=\"M18.56 5.44l.94 2.06.94-2.06 2.06-.94-2.06-.94-.94-2.06-.94 2.06-2.06.94zm-11 1L8.5 8.5l.94-2.06 2.06-.94-2.06-.94L8.5 2.5l-.94 2.06-2.06.94zm10 10l.94 2.06.94-2.06 2.06-.94-2.06-.94-.94-2.06-.94 2.06-2.06.94z\"/><path d=\"M17.41 7.96l-1.37-1.37c-.4-.4-.92-.59-1.43-.59-.52 0-1.04.2-1.43.59L10.3 9.45l-7.72 7.72c-.78.78-.78 2.05 0 2.83L4 21.41c.39.39.9.59 1.41.59.51 0 1.02-.2 1.41-.59l7.78-7.78 2.81-2.81c.8-.78.8-2.07 0-2.86zM5.41 20L4 18.59l7.72-7.72 1.47 1.35L5.41 20z\"/>\n",
              "  </svg>\n",
              "      </button>\n",
              "      \n",
              "  <style>\n",
              "    .colab-df-container {\n",
              "      display:flex;\n",
              "      flex-wrap:wrap;\n",
              "      gap: 12px;\n",
              "    }\n",
              "\n",
              "    .colab-df-convert {\n",
              "      background-color: #E8F0FE;\n",
              "      border: none;\n",
              "      border-radius: 50%;\n",
              "      cursor: pointer;\n",
              "      display: none;\n",
              "      fill: #1967D2;\n",
              "      height: 32px;\n",
              "      padding: 0 0 0 0;\n",
              "      width: 32px;\n",
              "    }\n",
              "\n",
              "    .colab-df-convert:hover {\n",
              "      background-color: #E2EBFA;\n",
              "      box-shadow: 0px 1px 2px rgba(60, 64, 67, 0.3), 0px 1px 3px 1px rgba(60, 64, 67, 0.15);\n",
              "      fill: #174EA6;\n",
              "    }\n",
              "\n",
              "    [theme=dark] .colab-df-convert {\n",
              "      background-color: #3B4455;\n",
              "      fill: #D2E3FC;\n",
              "    }\n",
              "\n",
              "    [theme=dark] .colab-df-convert:hover {\n",
              "      background-color: #434B5C;\n",
              "      box-shadow: 0px 1px 3px 1px rgba(0, 0, 0, 0.15);\n",
              "      filter: drop-shadow(0px 1px 2px rgba(0, 0, 0, 0.3));\n",
              "      fill: #FFFFFF;\n",
              "    }\n",
              "  </style>\n",
              "\n",
              "      <script>\n",
              "        const buttonEl =\n",
              "          document.querySelector('#df-f411a55b-8b8f-4b33-994c-3a66fed5ce79 button.colab-df-convert');\n",
              "        buttonEl.style.display =\n",
              "          google.colab.kernel.accessAllowed ? 'block' : 'none';\n",
              "\n",
              "        async function convertToInteractive(key) {\n",
              "          const element = document.querySelector('#df-f411a55b-8b8f-4b33-994c-3a66fed5ce79');\n",
              "          const dataTable =\n",
              "            await google.colab.kernel.invokeFunction('convertToInteractive',\n",
              "                                                     [key], {});\n",
              "          if (!dataTable) return;\n",
              "\n",
              "          const docLinkHtml = 'Like what you see? Visit the ' +\n",
              "            '<a target=\"_blank\" href=https://colab.research.google.com/notebooks/data_table.ipynb>data table notebook</a>'\n",
              "            + ' to learn more about interactive tables.';\n",
              "          element.innerHTML = '';\n",
              "          dataTable['output_type'] = 'display_data';\n",
              "          await google.colab.output.renderOutput(dataTable, element);\n",
              "          const docLink = document.createElement('div');\n",
              "          docLink.innerHTML = docLinkHtml;\n",
              "          element.appendChild(docLink);\n",
              "        }\n",
              "      </script>\n",
              "    </div>\n",
              "  </div>\n",
              "  "
            ]
          },
          "metadata": {},
          "execution_count": 4
        }
      ]
    },
    {
      "cell_type": "markdown",
      "source": [
        "# Task 1\n",
        "**Same as version 1**"
      ],
      "metadata": {
        "id": "Whjy9mj3t06g"
      }
    },
    {
      "cell_type": "code",
      "source": [
        "re.split(r'[ ,:]', df.start_time_ts[0])"
      ],
      "metadata": {
        "colab": {
          "base_uri": "https://localhost:8080/"
        },
        "id": "-UnUFYB0t4Xt",
        "outputId": "2d56bf76-2a55-4bb5-ba36-c43882da3e3b"
      },
      "execution_count": 5,
      "outputs": [
        {
          "output_type": "execute_result",
          "data": {
            "text/plain": [
              "['October', '07', '', '2019', 'Monday', '', '00', '08', '28']"
            ]
          },
          "metadata": {},
          "execution_count": 5
        }
      ]
    },
    {
      "cell_type": "code",
      "source": [
        "def allot_points(record):\n",
        "    \"\"\"Extracts hour of day from date string\n",
        "    and allot time_spec_points based on:\n",
        "    1. points = hour of day, if before 4 pm\n",
        "    2. points = hour of day + 5, if after 4 pm\n",
        "    \"\"\"\n",
        "    elements = re.split(r'[ ,:]', record)\n",
        "    hour = int(elements[6])\n",
        "    \n",
        "    if hour < 16: #4 pm -> 16:00 hours\n",
        "        points = hour\n",
        "    else:\n",
        "        points = hour + 5\n",
        "\n",
        "    return points"
      ],
      "metadata": {
        "id": "GQs19iegza1v"
      },
      "execution_count": 6,
      "outputs": []
    },
    {
      "cell_type": "code",
      "source": [
        "df['time_spec_points'] = df['start_time_ts'].apply(allot_points)"
      ],
      "metadata": {
        "id": "Lu2Kn5339g_Q"
      },
      "execution_count": 7,
      "outputs": []
    },
    {
      "cell_type": "markdown",
      "source": [
        "# Task 2\n",
        "**Same as version 1**"
      ],
      "metadata": {
        "id": "XVYv1WnjM7Gu"
      }
    },
    {
      "cell_type": "code",
      "source": [
        "df['total_duration'] = np.round(df['total_duration'], 2)"
      ],
      "metadata": {
        "id": "oUHBR19LM83V"
      },
      "execution_count": 8,
      "outputs": []
    },
    {
      "cell_type": "markdown",
      "source": [
        "# Task 3\n",
        "**Same as version 1**"
      ],
      "metadata": {
        "id": "wgJZmSIINpHh"
      }
    },
    {
      "cell_type": "code",
      "source": [
        "df['total_inventory'] = df['total_clicks'] + df['total_items'] + df['total_cats']"
      ],
      "metadata": {
        "id": "tawOlfpVNqPW"
      },
      "execution_count": 9,
      "outputs": []
    },
    {
      "cell_type": "markdown",
      "source": [
        "If value > 10, increase by 100% i.e., double the value."
      ],
      "metadata": {
        "id": "LSXDGDGLOZDM"
      }
    },
    {
      "cell_type": "code",
      "source": [
        "df['total_inventory'] = df['total_inventory'].apply(lambda x: x * 2 if x > 10 else x)"
      ],
      "metadata": {
        "id": "Xy5d8Fs3OXI-"
      },
      "execution_count": 10,
      "outputs": []
    },
    {
      "cell_type": "markdown",
      "source": [
        "# Task 4\n",
        "**Same as version 1**"
      ],
      "metadata": {
        "id": "ezZGeZvcPIyw"
      }
    },
    {
      "cell_type": "code",
      "source": [
        "df['give_big_discount'] = ((df['is_special_day'] == 1) & (df['day_of_week'] == 0)).astype('int')"
      ],
      "metadata": {
        "id": "0e8vv02jPJ3v"
      },
      "execution_count": 11,
      "outputs": []
    },
    {
      "cell_type": "markdown",
      "source": [
        "# Task 5\n",
        "**Same as version 1**"
      ],
      "metadata": {
        "id": "GpdI4CxyQQAx"
      }
    },
    {
      "cell_type": "code",
      "source": [
        "df['prod_views_buys_ratio'] = df['prod_views_freqs'] / df['prod_buys_freqs']"
      ],
      "metadata": {
        "id": "pQQROg56QRZf"
      },
      "execution_count": 12,
      "outputs": []
    },
    {
      "cell_type": "markdown",
      "source": [
        "# Task 6\n",
        "**Alternate approach compared to version 1**"
      ],
      "metadata": {
        "id": "MZX3UQhUSW_R"
      }
    },
    {
      "cell_type": "markdown",
      "source": [
        "Loyalty points are based on whether user is browsing on a Sunday. Two interpretations for day of the week:\n",
        "* column 'day_of_week' from which 0 can be mapped to Sunday\n",
        "* extracting day from 'start_time_ts' string and using it  \n",
        "\n",
        "These two methods give different values.  \n",
        "In version 1 of the notebook we tried the second approach. **So here we will go with the first approach.**"
      ],
      "metadata": {
        "id": "CIKxvwBJUdN3"
      }
    },
    {
      "cell_type": "code",
      "source": [
        "df['loyalty_points'] = (df['day_of_week'] == 0) * (df['total_duration'])"
      ],
      "metadata": {
        "id": "S_Z2eH-qWtAd"
      },
      "execution_count": 13,
      "outputs": []
    },
    {
      "cell_type": "code",
      "source": [
        "df['loyalty_points'] = df['loyalty_points'].apply(lambda x: (x-3) * 10 if x > 3 else 0)"
      ],
      "metadata": {
        "id": "4nPJD8V_YN5Z"
      },
      "execution_count": 14,
      "outputs": []
    },
    {
      "cell_type": "code",
      "source": [
        "df.loc[df.day_of_week == 0][['total_duration', 'loyalty_points']].sample(5, random_state=2)"
      ],
      "metadata": {
        "colab": {
          "base_uri": "https://localhost:8080/",
          "height": 206
        },
        "id": "A1_Oth8VYzUo",
        "outputId": "9692bd1a-51a9-46a4-fade-eb8e98c31c2d"
      },
      "execution_count": 21,
      "outputs": [
        {
          "output_type": "execute_result",
          "data": {
            "text/plain": [
              "        total_duration  loyalty_points\n",
              "295782           10.80            78.0\n",
              "272017            0.37             0.0\n",
              "319606            8.14            51.4\n",
              "484697            2.48             0.0\n",
              "181623            0.53             0.0"
            ],
            "text/html": [
              "\n",
              "  <div id=\"df-781470a5-9646-4359-907e-abd25e25c51a\">\n",
              "    <div class=\"colab-df-container\">\n",
              "      <div>\n",
              "<style scoped>\n",
              "    .dataframe tbody tr th:only-of-type {\n",
              "        vertical-align: middle;\n",
              "    }\n",
              "\n",
              "    .dataframe tbody tr th {\n",
              "        vertical-align: top;\n",
              "    }\n",
              "\n",
              "    .dataframe thead th {\n",
              "        text-align: right;\n",
              "    }\n",
              "</style>\n",
              "<table border=\"1\" class=\"dataframe\">\n",
              "  <thead>\n",
              "    <tr style=\"text-align: right;\">\n",
              "      <th></th>\n",
              "      <th>total_duration</th>\n",
              "      <th>loyalty_points</th>\n",
              "    </tr>\n",
              "  </thead>\n",
              "  <tbody>\n",
              "    <tr>\n",
              "      <th>295782</th>\n",
              "      <td>10.80</td>\n",
              "      <td>78.0</td>\n",
              "    </tr>\n",
              "    <tr>\n",
              "      <th>272017</th>\n",
              "      <td>0.37</td>\n",
              "      <td>0.0</td>\n",
              "    </tr>\n",
              "    <tr>\n",
              "      <th>319606</th>\n",
              "      <td>8.14</td>\n",
              "      <td>51.4</td>\n",
              "    </tr>\n",
              "    <tr>\n",
              "      <th>484697</th>\n",
              "      <td>2.48</td>\n",
              "      <td>0.0</td>\n",
              "    </tr>\n",
              "    <tr>\n",
              "      <th>181623</th>\n",
              "      <td>0.53</td>\n",
              "      <td>0.0</td>\n",
              "    </tr>\n",
              "  </tbody>\n",
              "</table>\n",
              "</div>\n",
              "      <button class=\"colab-df-convert\" onclick=\"convertToInteractive('df-781470a5-9646-4359-907e-abd25e25c51a')\"\n",
              "              title=\"Convert this dataframe to an interactive table.\"\n",
              "              style=\"display:none;\">\n",
              "        \n",
              "  <svg xmlns=\"http://www.w3.org/2000/svg\" height=\"24px\"viewBox=\"0 0 24 24\"\n",
              "       width=\"24px\">\n",
              "    <path d=\"M0 0h24v24H0V0z\" fill=\"none\"/>\n",
              "    <path d=\"M18.56 5.44l.94 2.06.94-2.06 2.06-.94-2.06-.94-.94-2.06-.94 2.06-2.06.94zm-11 1L8.5 8.5l.94-2.06 2.06-.94-2.06-.94L8.5 2.5l-.94 2.06-2.06.94zm10 10l.94 2.06.94-2.06 2.06-.94-2.06-.94-.94-2.06-.94 2.06-2.06.94z\"/><path d=\"M17.41 7.96l-1.37-1.37c-.4-.4-.92-.59-1.43-.59-.52 0-1.04.2-1.43.59L10.3 9.45l-7.72 7.72c-.78.78-.78 2.05 0 2.83L4 21.41c.39.39.9.59 1.41.59.51 0 1.02-.2 1.41-.59l7.78-7.78 2.81-2.81c.8-.78.8-2.07 0-2.86zM5.41 20L4 18.59l7.72-7.72 1.47 1.35L5.41 20z\"/>\n",
              "  </svg>\n",
              "      </button>\n",
              "      \n",
              "  <style>\n",
              "    .colab-df-container {\n",
              "      display:flex;\n",
              "      flex-wrap:wrap;\n",
              "      gap: 12px;\n",
              "    }\n",
              "\n",
              "    .colab-df-convert {\n",
              "      background-color: #E8F0FE;\n",
              "      border: none;\n",
              "      border-radius: 50%;\n",
              "      cursor: pointer;\n",
              "      display: none;\n",
              "      fill: #1967D2;\n",
              "      height: 32px;\n",
              "      padding: 0 0 0 0;\n",
              "      width: 32px;\n",
              "    }\n",
              "\n",
              "    .colab-df-convert:hover {\n",
              "      background-color: #E2EBFA;\n",
              "      box-shadow: 0px 1px 2px rgba(60, 64, 67, 0.3), 0px 1px 3px 1px rgba(60, 64, 67, 0.15);\n",
              "      fill: #174EA6;\n",
              "    }\n",
              "\n",
              "    [theme=dark] .colab-df-convert {\n",
              "      background-color: #3B4455;\n",
              "      fill: #D2E3FC;\n",
              "    }\n",
              "\n",
              "    [theme=dark] .colab-df-convert:hover {\n",
              "      background-color: #434B5C;\n",
              "      box-shadow: 0px 1px 3px 1px rgba(0, 0, 0, 0.15);\n",
              "      filter: drop-shadow(0px 1px 2px rgba(0, 0, 0, 0.3));\n",
              "      fill: #FFFFFF;\n",
              "    }\n",
              "  </style>\n",
              "\n",
              "      <script>\n",
              "        const buttonEl =\n",
              "          document.querySelector('#df-781470a5-9646-4359-907e-abd25e25c51a button.colab-df-convert');\n",
              "        buttonEl.style.display =\n",
              "          google.colab.kernel.accessAllowed ? 'block' : 'none';\n",
              "\n",
              "        async function convertToInteractive(key) {\n",
              "          const element = document.querySelector('#df-781470a5-9646-4359-907e-abd25e25c51a');\n",
              "          const dataTable =\n",
              "            await google.colab.kernel.invokeFunction('convertToInteractive',\n",
              "                                                     [key], {});\n",
              "          if (!dataTable) return;\n",
              "\n",
              "          const docLinkHtml = 'Like what you see? Visit the ' +\n",
              "            '<a target=\"_blank\" href=https://colab.research.google.com/notebooks/data_table.ipynb>data table notebook</a>'\n",
              "            + ' to learn more about interactive tables.';\n",
              "          element.innerHTML = '';\n",
              "          dataTable['output_type'] = 'display_data';\n",
              "          await google.colab.output.renderOutput(dataTable, element);\n",
              "          const docLink = document.createElement('div');\n",
              "          docLink.innerHTML = docLinkHtml;\n",
              "          element.appendChild(docLink);\n",
              "        }\n",
              "      </script>\n",
              "    </div>\n",
              "  </div>\n",
              "  "
            ]
          },
          "metadata": {},
          "execution_count": 21
        }
      ]
    },
    {
      "cell_type": "code",
      "source": [
        "df.loc[df.day_of_week != 0][['total_duration', 'loyalty_points']].sample(5, random_state=1)"
      ],
      "metadata": {
        "id": "GbParmN7f-cl",
        "outputId": "4fc66c91-c91f-4671-e088-17068f2563bc",
        "colab": {
          "base_uri": "https://localhost:8080/",
          "height": 206
        }
      },
      "execution_count": 24,
      "outputs": [
        {
          "output_type": "execute_result",
          "data": {
            "text/plain": [
              "        total_duration  loyalty_points\n",
              "386692            0.74             0.0\n",
              "141661            7.45             0.0\n",
              "10807            15.73             0.0\n",
              "496631            0.04             0.0\n",
              "288428            0.06             0.0"
            ],
            "text/html": [
              "\n",
              "  <div id=\"df-8d5ef23c-e92d-4a86-8ff0-ddfa1778138a\">\n",
              "    <div class=\"colab-df-container\">\n",
              "      <div>\n",
              "<style scoped>\n",
              "    .dataframe tbody tr th:only-of-type {\n",
              "        vertical-align: middle;\n",
              "    }\n",
              "\n",
              "    .dataframe tbody tr th {\n",
              "        vertical-align: top;\n",
              "    }\n",
              "\n",
              "    .dataframe thead th {\n",
              "        text-align: right;\n",
              "    }\n",
              "</style>\n",
              "<table border=\"1\" class=\"dataframe\">\n",
              "  <thead>\n",
              "    <tr style=\"text-align: right;\">\n",
              "      <th></th>\n",
              "      <th>total_duration</th>\n",
              "      <th>loyalty_points</th>\n",
              "    </tr>\n",
              "  </thead>\n",
              "  <tbody>\n",
              "    <tr>\n",
              "      <th>386692</th>\n",
              "      <td>0.74</td>\n",
              "      <td>0.0</td>\n",
              "    </tr>\n",
              "    <tr>\n",
              "      <th>141661</th>\n",
              "      <td>7.45</td>\n",
              "      <td>0.0</td>\n",
              "    </tr>\n",
              "    <tr>\n",
              "      <th>10807</th>\n",
              "      <td>15.73</td>\n",
              "      <td>0.0</td>\n",
              "    </tr>\n",
              "    <tr>\n",
              "      <th>496631</th>\n",
              "      <td>0.04</td>\n",
              "      <td>0.0</td>\n",
              "    </tr>\n",
              "    <tr>\n",
              "      <th>288428</th>\n",
              "      <td>0.06</td>\n",
              "      <td>0.0</td>\n",
              "    </tr>\n",
              "  </tbody>\n",
              "</table>\n",
              "</div>\n",
              "      <button class=\"colab-df-convert\" onclick=\"convertToInteractive('df-8d5ef23c-e92d-4a86-8ff0-ddfa1778138a')\"\n",
              "              title=\"Convert this dataframe to an interactive table.\"\n",
              "              style=\"display:none;\">\n",
              "        \n",
              "  <svg xmlns=\"http://www.w3.org/2000/svg\" height=\"24px\"viewBox=\"0 0 24 24\"\n",
              "       width=\"24px\">\n",
              "    <path d=\"M0 0h24v24H0V0z\" fill=\"none\"/>\n",
              "    <path d=\"M18.56 5.44l.94 2.06.94-2.06 2.06-.94-2.06-.94-.94-2.06-.94 2.06-2.06.94zm-11 1L8.5 8.5l.94-2.06 2.06-.94-2.06-.94L8.5 2.5l-.94 2.06-2.06.94zm10 10l.94 2.06.94-2.06 2.06-.94-2.06-.94-.94-2.06-.94 2.06-2.06.94z\"/><path d=\"M17.41 7.96l-1.37-1.37c-.4-.4-.92-.59-1.43-.59-.52 0-1.04.2-1.43.59L10.3 9.45l-7.72 7.72c-.78.78-.78 2.05 0 2.83L4 21.41c.39.39.9.59 1.41.59.51 0 1.02-.2 1.41-.59l7.78-7.78 2.81-2.81c.8-.78.8-2.07 0-2.86zM5.41 20L4 18.59l7.72-7.72 1.47 1.35L5.41 20z\"/>\n",
              "  </svg>\n",
              "      </button>\n",
              "      \n",
              "  <style>\n",
              "    .colab-df-container {\n",
              "      display:flex;\n",
              "      flex-wrap:wrap;\n",
              "      gap: 12px;\n",
              "    }\n",
              "\n",
              "    .colab-df-convert {\n",
              "      background-color: #E8F0FE;\n",
              "      border: none;\n",
              "      border-radius: 50%;\n",
              "      cursor: pointer;\n",
              "      display: none;\n",
              "      fill: #1967D2;\n",
              "      height: 32px;\n",
              "      padding: 0 0 0 0;\n",
              "      width: 32px;\n",
              "    }\n",
              "\n",
              "    .colab-df-convert:hover {\n",
              "      background-color: #E2EBFA;\n",
              "      box-shadow: 0px 1px 2px rgba(60, 64, 67, 0.3), 0px 1px 3px 1px rgba(60, 64, 67, 0.15);\n",
              "      fill: #174EA6;\n",
              "    }\n",
              "\n",
              "    [theme=dark] .colab-df-convert {\n",
              "      background-color: #3B4455;\n",
              "      fill: #D2E3FC;\n",
              "    }\n",
              "\n",
              "    [theme=dark] .colab-df-convert:hover {\n",
              "      background-color: #434B5C;\n",
              "      box-shadow: 0px 1px 3px 1px rgba(0, 0, 0, 0.15);\n",
              "      filter: drop-shadow(0px 1px 2px rgba(0, 0, 0, 0.3));\n",
              "      fill: #FFFFFF;\n",
              "    }\n",
              "  </style>\n",
              "\n",
              "      <script>\n",
              "        const buttonEl =\n",
              "          document.querySelector('#df-8d5ef23c-e92d-4a86-8ff0-ddfa1778138a button.colab-df-convert');\n",
              "        buttonEl.style.display =\n",
              "          google.colab.kernel.accessAllowed ? 'block' : 'none';\n",
              "\n",
              "        async function convertToInteractive(key) {\n",
              "          const element = document.querySelector('#df-8d5ef23c-e92d-4a86-8ff0-ddfa1778138a');\n",
              "          const dataTable =\n",
              "            await google.colab.kernel.invokeFunction('convertToInteractive',\n",
              "                                                     [key], {});\n",
              "          if (!dataTable) return;\n",
              "\n",
              "          const docLinkHtml = 'Like what you see? Visit the ' +\n",
              "            '<a target=\"_blank\" href=https://colab.research.google.com/notebooks/data_table.ipynb>data table notebook</a>'\n",
              "            + ' to learn more about interactive tables.';\n",
              "          element.innerHTML = '';\n",
              "          dataTable['output_type'] = 'display_data';\n",
              "          await google.colab.output.renderOutput(dataTable, element);\n",
              "          const docLink = document.createElement('div');\n",
              "          docLink.innerHTML = docLinkHtml;\n",
              "          element.appendChild(docLink);\n",
              "        }\n",
              "      </script>\n",
              "    </div>\n",
              "  </div>\n",
              "  "
            ]
          },
          "metadata": {},
          "execution_count": 24
        }
      ]
    },
    {
      "cell_type": "markdown",
      "source": [
        "# Submission file"
      ],
      "metadata": {
        "id": "bieSf4nNkNUa"
      }
    },
    {
      "cell_type": "code",
      "source": [
        "sub_columns = [\n",
        "               'total_duration', \n",
        "               'is_special_day', \n",
        "               'prod_views_freqs', \n",
        "               'prod_buys_freqs', \n",
        "               'give_big_discount', \n",
        "               'prod_views_buys_ratio', \n",
        "               'loyalty_points', \n",
        "               'total_inventory', \n",
        "               'time_spec_points'\n",
        "              ]\n",
        "\n",
        "sub_df = df[sub_columns]"
      ],
      "metadata": {
        "id": "z4RJuF0ZkQka"
      },
      "execution_count": 25,
      "outputs": []
    },
    {
      "cell_type": "code",
      "source": [
        "sub_df.head()"
      ],
      "metadata": {
        "colab": {
          "base_uri": "https://localhost:8080/",
          "height": 270
        },
        "id": "4nScCitjlUc9",
        "outputId": "8c26a259-3ade-40f6-aee5-45694fc597aa"
      },
      "execution_count": 26,
      "outputs": [
        {
          "output_type": "execute_result",
          "data": {
            "text/plain": [
              "   total_duration  is_special_day  prod_views_freqs  prod_buys_freqs  \\\n",
              "0          166.71               0      0.0009451492     0.0006900279   \n",
              "1            0.43               0      0.0009458164     0.0006896519   \n",
              "2            0.94               0      0.0009453911     0.0006900878   \n",
              "3            0.42               0      0.0009449910     0.0007388218   \n",
              "4            2.49               0      0.0009450520     0.0006895188   \n",
              "\n",
              "   give_big_discount  prod_views_buys_ratio  loyalty_points  total_inventory  \\\n",
              "0                  0           1.3697259554             0.0               10   \n",
              "1                  0           1.3714402807             0.0               10   \n",
              "2                  0           1.3699576946             0.0               50   \n",
              "3                  0           1.2790512833             0.0                5   \n",
              "4                  0           1.3705964181             0.0                7   \n",
              "\n",
              "   time_spec_points  \n",
              "0                 0  \n",
              "1                15  \n",
              "2                26  \n",
              "3                26  \n",
              "4                13  "
            ],
            "text/html": [
              "\n",
              "  <div id=\"df-16159829-4910-4d2a-9db3-d7e66220fc21\">\n",
              "    <div class=\"colab-df-container\">\n",
              "      <div>\n",
              "<style scoped>\n",
              "    .dataframe tbody tr th:only-of-type {\n",
              "        vertical-align: middle;\n",
              "    }\n",
              "\n",
              "    .dataframe tbody tr th {\n",
              "        vertical-align: top;\n",
              "    }\n",
              "\n",
              "    .dataframe thead th {\n",
              "        text-align: right;\n",
              "    }\n",
              "</style>\n",
              "<table border=\"1\" class=\"dataframe\">\n",
              "  <thead>\n",
              "    <tr style=\"text-align: right;\">\n",
              "      <th></th>\n",
              "      <th>total_duration</th>\n",
              "      <th>is_special_day</th>\n",
              "      <th>prod_views_freqs</th>\n",
              "      <th>prod_buys_freqs</th>\n",
              "      <th>give_big_discount</th>\n",
              "      <th>prod_views_buys_ratio</th>\n",
              "      <th>loyalty_points</th>\n",
              "      <th>total_inventory</th>\n",
              "      <th>time_spec_points</th>\n",
              "    </tr>\n",
              "  </thead>\n",
              "  <tbody>\n",
              "    <tr>\n",
              "      <th>0</th>\n",
              "      <td>166.71</td>\n",
              "      <td>0</td>\n",
              "      <td>0.0009451492</td>\n",
              "      <td>0.0006900279</td>\n",
              "      <td>0</td>\n",
              "      <td>1.3697259554</td>\n",
              "      <td>0.0</td>\n",
              "      <td>10</td>\n",
              "      <td>0</td>\n",
              "    </tr>\n",
              "    <tr>\n",
              "      <th>1</th>\n",
              "      <td>0.43</td>\n",
              "      <td>0</td>\n",
              "      <td>0.0009458164</td>\n",
              "      <td>0.0006896519</td>\n",
              "      <td>0</td>\n",
              "      <td>1.3714402807</td>\n",
              "      <td>0.0</td>\n",
              "      <td>10</td>\n",
              "      <td>15</td>\n",
              "    </tr>\n",
              "    <tr>\n",
              "      <th>2</th>\n",
              "      <td>0.94</td>\n",
              "      <td>0</td>\n",
              "      <td>0.0009453911</td>\n",
              "      <td>0.0006900878</td>\n",
              "      <td>0</td>\n",
              "      <td>1.3699576946</td>\n",
              "      <td>0.0</td>\n",
              "      <td>50</td>\n",
              "      <td>26</td>\n",
              "    </tr>\n",
              "    <tr>\n",
              "      <th>3</th>\n",
              "      <td>0.42</td>\n",
              "      <td>0</td>\n",
              "      <td>0.0009449910</td>\n",
              "      <td>0.0007388218</td>\n",
              "      <td>0</td>\n",
              "      <td>1.2790512833</td>\n",
              "      <td>0.0</td>\n",
              "      <td>5</td>\n",
              "      <td>26</td>\n",
              "    </tr>\n",
              "    <tr>\n",
              "      <th>4</th>\n",
              "      <td>2.49</td>\n",
              "      <td>0</td>\n",
              "      <td>0.0009450520</td>\n",
              "      <td>0.0006895188</td>\n",
              "      <td>0</td>\n",
              "      <td>1.3705964181</td>\n",
              "      <td>0.0</td>\n",
              "      <td>7</td>\n",
              "      <td>13</td>\n",
              "    </tr>\n",
              "  </tbody>\n",
              "</table>\n",
              "</div>\n",
              "      <button class=\"colab-df-convert\" onclick=\"convertToInteractive('df-16159829-4910-4d2a-9db3-d7e66220fc21')\"\n",
              "              title=\"Convert this dataframe to an interactive table.\"\n",
              "              style=\"display:none;\">\n",
              "        \n",
              "  <svg xmlns=\"http://www.w3.org/2000/svg\" height=\"24px\"viewBox=\"0 0 24 24\"\n",
              "       width=\"24px\">\n",
              "    <path d=\"M0 0h24v24H0V0z\" fill=\"none\"/>\n",
              "    <path d=\"M18.56 5.44l.94 2.06.94-2.06 2.06-.94-2.06-.94-.94-2.06-.94 2.06-2.06.94zm-11 1L8.5 8.5l.94-2.06 2.06-.94-2.06-.94L8.5 2.5l-.94 2.06-2.06.94zm10 10l.94 2.06.94-2.06 2.06-.94-2.06-.94-.94-2.06-.94 2.06-2.06.94z\"/><path d=\"M17.41 7.96l-1.37-1.37c-.4-.4-.92-.59-1.43-.59-.52 0-1.04.2-1.43.59L10.3 9.45l-7.72 7.72c-.78.78-.78 2.05 0 2.83L4 21.41c.39.39.9.59 1.41.59.51 0 1.02-.2 1.41-.59l7.78-7.78 2.81-2.81c.8-.78.8-2.07 0-2.86zM5.41 20L4 18.59l7.72-7.72 1.47 1.35L5.41 20z\"/>\n",
              "  </svg>\n",
              "      </button>\n",
              "      \n",
              "  <style>\n",
              "    .colab-df-container {\n",
              "      display:flex;\n",
              "      flex-wrap:wrap;\n",
              "      gap: 12px;\n",
              "    }\n",
              "\n",
              "    .colab-df-convert {\n",
              "      background-color: #E8F0FE;\n",
              "      border: none;\n",
              "      border-radius: 50%;\n",
              "      cursor: pointer;\n",
              "      display: none;\n",
              "      fill: #1967D2;\n",
              "      height: 32px;\n",
              "      padding: 0 0 0 0;\n",
              "      width: 32px;\n",
              "    }\n",
              "\n",
              "    .colab-df-convert:hover {\n",
              "      background-color: #E2EBFA;\n",
              "      box-shadow: 0px 1px 2px rgba(60, 64, 67, 0.3), 0px 1px 3px 1px rgba(60, 64, 67, 0.15);\n",
              "      fill: #174EA6;\n",
              "    }\n",
              "\n",
              "    [theme=dark] .colab-df-convert {\n",
              "      background-color: #3B4455;\n",
              "      fill: #D2E3FC;\n",
              "    }\n",
              "\n",
              "    [theme=dark] .colab-df-convert:hover {\n",
              "      background-color: #434B5C;\n",
              "      box-shadow: 0px 1px 3px 1px rgba(0, 0, 0, 0.15);\n",
              "      filter: drop-shadow(0px 1px 2px rgba(0, 0, 0, 0.3));\n",
              "      fill: #FFFFFF;\n",
              "    }\n",
              "  </style>\n",
              "\n",
              "      <script>\n",
              "        const buttonEl =\n",
              "          document.querySelector('#df-16159829-4910-4d2a-9db3-d7e66220fc21 button.colab-df-convert');\n",
              "        buttonEl.style.display =\n",
              "          google.colab.kernel.accessAllowed ? 'block' : 'none';\n",
              "\n",
              "        async function convertToInteractive(key) {\n",
              "          const element = document.querySelector('#df-16159829-4910-4d2a-9db3-d7e66220fc21');\n",
              "          const dataTable =\n",
              "            await google.colab.kernel.invokeFunction('convertToInteractive',\n",
              "                                                     [key], {});\n",
              "          if (!dataTable) return;\n",
              "\n",
              "          const docLinkHtml = 'Like what you see? Visit the ' +\n",
              "            '<a target=\"_blank\" href=https://colab.research.google.com/notebooks/data_table.ipynb>data table notebook</a>'\n",
              "            + ' to learn more about interactive tables.';\n",
              "          element.innerHTML = '';\n",
              "          dataTable['output_type'] = 'display_data';\n",
              "          await google.colab.output.renderOutput(dataTable, element);\n",
              "          const docLink = document.createElement('div');\n",
              "          docLink.innerHTML = docLinkHtml;\n",
              "          element.appendChild(docLink);\n",
              "        }\n",
              "      </script>\n",
              "    </div>\n",
              "  </div>\n",
              "  "
            ]
          },
          "metadata": {},
          "execution_count": 26
        }
      ]
    },
    {
      "cell_type": "code",
      "source": [
        "sub_df.to_csv('03_sub.csv', index=False)"
      ],
      "metadata": {
        "id": "wq4ovbbelcgg"
      },
      "execution_count": 27,
      "outputs": []
    },
    {
      "cell_type": "code",
      "source": [
        "!head 03_sub.csv"
      ],
      "metadata": {
        "colab": {
          "base_uri": "https://localhost:8080/"
        },
        "id": "yuqsCdUAlzFS",
        "outputId": "bcb6f781-7d5f-44a7-9410-50007412786e"
      },
      "execution_count": 28,
      "outputs": [
        {
          "output_type": "stream",
          "name": "stdout",
          "text": [
            "total_duration,is_special_day,prod_views_freqs,prod_buys_freqs,give_big_discount,prod_views_buys_ratio,loyalty_points,total_inventory,time_spec_points\n",
            "166.71,0,0.0009451491729694,0.0006900279353354,0,1.3697259553846814,0.0,10,0\n",
            "0.43,0,0.0009458164456021,0.0006896519366427,0,1.3714402807399286,0.0,10,15\n",
            "0.94,0,0.0009453910736723,0.0006900877869533,0,1.3699576945799172,0.0,50,26\n",
            "0.42,0,0.0009449909696147,0.0007388217985755,0,1.2790512833225935,0.0,5,26\n",
            "2.49,0,0.0009450520425059,0.0006895188328313,0,1.3705964181215042,0.0,7,13\n",
            "0.44,0,0.0009453624766345,0.000689549194347,0,1.3709862681077514,0.0,7,13\n",
            "0.61,0,0.0009611731128219,0.0006900535468109,0,1.3928964168997986,0.0,10,27\n",
            "0.02,0,0.0009453409681643,0.0006894011723935,0,1.3712494350455111,0.0,32,7\n",
            "2.62,0,0.0009455220279722,0.0007366282136403,0,1.2835810663558214,0.0,7,9\n"
          ]
        }
      ]
    }
  ]
}