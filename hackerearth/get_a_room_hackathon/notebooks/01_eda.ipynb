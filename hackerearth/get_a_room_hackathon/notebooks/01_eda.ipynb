{
  "nbformat": 4,
  "nbformat_minor": 0,
  "metadata": {
    "colab": {
      "name": "01-eda",
      "provenance": [],
      "authorship_tag": "ABX9TyP7axdOMBsdGYV1BIgeRywc",
      "include_colab_link": true
    },
    "kernelspec": {
      "name": "python3",
      "display_name": "Python 3"
    },
    "language_info": {
      "name": "python"
    }
  },
  "cells": [
    {
      "cell_type": "markdown",
      "metadata": {
        "id": "view-in-github",
        "colab_type": "text"
      },
      "source": [
        "<a href=\"https://colab.research.google.com/github/stiwari-ds/data-science-competitions/blob/main/hackerearth/get_a_room_hackathon/notebooks/01_eda.ipynb\" target=\"_parent\"><img src=\"https://colab.research.google.com/assets/colab-badge.svg\" alt=\"Open In Colab\"/></a>"
      ]
    },
    {
      "cell_type": "markdown",
      "source": [
        "# Setup"
      ],
      "metadata": {
        "id": "sSY52_8sJmQ-"
      }
    },
    {
      "cell_type": "code",
      "source": [
        "import os\n",
        "import warnings\n",
        "warnings.filterwarnings(action='ignore')\n",
        "\n",
        "import pandas as pd\n",
        "import numpy as np\n",
        "\n",
        "import matplotlib.pyplot as plt\n",
        "%matplotlib inline\n",
        "import seaborn as sns\n",
        "\n",
        "from sklearn.experimental import enable_iterative_imputer\n",
        "from sklearn.impute import IterativeImputer\n",
        "from sklearn.feature_selection import f_classif, mutual_info_regression\n",
        "\n",
        "SEED = 23\n",
        "os.environ['PYTHONHASHSEED'] = str(SEED)\n",
        "np.random.seed(SEED)"
      ],
      "metadata": {
        "id": "8krqUXtaq1P8"
      },
      "execution_count": 1,
      "outputs": []
    },
    {
      "cell_type": "code",
      "execution_count": 2,
      "metadata": {
        "id": "4gdSmH0jqkxM"
      },
      "outputs": [],
      "source": [
        "data_url = 'https://raw.githubusercontent.com/stiwari-ds/data-science-competitions/main/hackerearth/get_a_room_hackathon/data/'\n",
        "\n",
        "train = pd.read_csv(data_url + 'raw/train.csv')\n",
        "test = pd.read_csv(data_url + 'raw/test.csv')"
      ]
    },
    {
      "cell_type": "code",
      "source": [
        "train.head()"
      ],
      "metadata": {
        "colab": {
          "base_uri": "https://localhost:8080/",
          "height": 392
        },
        "id": "b00JSekeq42_",
        "outputId": "d73d5704-3624-4e79-f5d8-7239ca722b4e"
      },
      "execution_count": 3,
      "outputs": [
        {
          "output_type": "execute_result",
          "data": {
            "text/plain": [
              "  Property_ID Property_Type  Property_Area  Number_of_Windows  \\\n",
              "0      0x21e3     Apartment            106                NaN   \n",
              "1      0x68d4     Apartment            733                2.0   \n",
              "2      0x7d81     Apartment            737                4.0   \n",
              "3      0x7a57     Apartment            900                3.0   \n",
              "4      0x9409      Bungalow           2238               14.0   \n",
              "\n",
              "   Number_of_Doors       Furnishing  Frequency_of_Powercuts Power_Backup  \\\n",
              "0                1   Semi_Furnished                     0.0           No   \n",
              "1                2      Unfurnished                     1.0           No   \n",
              "2                2  Fully Furnished                     0.0           No   \n",
              "3                2      Unfurnished                     2.0          Yes   \n",
              "4                6  Fully Furnished                     0.0           No   \n",
              "\n",
              "              Water_Supply  Traffic_Density_Score              Crime_Rate  \\\n",
              "0  Once in a day - Morning                   5.89  Slightly below average   \n",
              "1  Once in a day - Evening                   4.37      Well below average   \n",
              "2  Once in a day - Morning                   7.45  Slightly below average   \n",
              "3  Once in a day - Morning                   6.16      Well above average   \n",
              "4                 All time                   5.46      Well below average   \n",
              "\n",
              "  Dust_and_Noise  Air_Quality_Index  Neighborhood_Review  Habitability_score  \n",
              "0         Medium               90.0                 3.86               71.98  \n",
              "1         Medium               96.0                 3.55               71.20  \n",
              "2         Medium              121.0                 3.81               71.39  \n",
              "3         Medium              100.0                 1.34               31.46  \n",
              "4         Medium              116.0                 4.77               93.70  "
            ],
            "text/html": [
              "\n",
              "  <div id=\"df-a6aa67a2-fbf9-4461-a1ac-9c0b0e0f6ecd\">\n",
              "    <div class=\"colab-df-container\">\n",
              "      <div>\n",
              "<style scoped>\n",
              "    .dataframe tbody tr th:only-of-type {\n",
              "        vertical-align: middle;\n",
              "    }\n",
              "\n",
              "    .dataframe tbody tr th {\n",
              "        vertical-align: top;\n",
              "    }\n",
              "\n",
              "    .dataframe thead th {\n",
              "        text-align: right;\n",
              "    }\n",
              "</style>\n",
              "<table border=\"1\" class=\"dataframe\">\n",
              "  <thead>\n",
              "    <tr style=\"text-align: right;\">\n",
              "      <th></th>\n",
              "      <th>Property_ID</th>\n",
              "      <th>Property_Type</th>\n",
              "      <th>Property_Area</th>\n",
              "      <th>Number_of_Windows</th>\n",
              "      <th>Number_of_Doors</th>\n",
              "      <th>Furnishing</th>\n",
              "      <th>Frequency_of_Powercuts</th>\n",
              "      <th>Power_Backup</th>\n",
              "      <th>Water_Supply</th>\n",
              "      <th>Traffic_Density_Score</th>\n",
              "      <th>Crime_Rate</th>\n",
              "      <th>Dust_and_Noise</th>\n",
              "      <th>Air_Quality_Index</th>\n",
              "      <th>Neighborhood_Review</th>\n",
              "      <th>Habitability_score</th>\n",
              "    </tr>\n",
              "  </thead>\n",
              "  <tbody>\n",
              "    <tr>\n",
              "      <th>0</th>\n",
              "      <td>0x21e3</td>\n",
              "      <td>Apartment</td>\n",
              "      <td>106</td>\n",
              "      <td>NaN</td>\n",
              "      <td>1</td>\n",
              "      <td>Semi_Furnished</td>\n",
              "      <td>0.0</td>\n",
              "      <td>No</td>\n",
              "      <td>Once in a day - Morning</td>\n",
              "      <td>5.89</td>\n",
              "      <td>Slightly below average</td>\n",
              "      <td>Medium</td>\n",
              "      <td>90.0</td>\n",
              "      <td>3.86</td>\n",
              "      <td>71.98</td>\n",
              "    </tr>\n",
              "    <tr>\n",
              "      <th>1</th>\n",
              "      <td>0x68d4</td>\n",
              "      <td>Apartment</td>\n",
              "      <td>733</td>\n",
              "      <td>2.0</td>\n",
              "      <td>2</td>\n",
              "      <td>Unfurnished</td>\n",
              "      <td>1.0</td>\n",
              "      <td>No</td>\n",
              "      <td>Once in a day - Evening</td>\n",
              "      <td>4.37</td>\n",
              "      <td>Well below average</td>\n",
              "      <td>Medium</td>\n",
              "      <td>96.0</td>\n",
              "      <td>3.55</td>\n",
              "      <td>71.20</td>\n",
              "    </tr>\n",
              "    <tr>\n",
              "      <th>2</th>\n",
              "      <td>0x7d81</td>\n",
              "      <td>Apartment</td>\n",
              "      <td>737</td>\n",
              "      <td>4.0</td>\n",
              "      <td>2</td>\n",
              "      <td>Fully Furnished</td>\n",
              "      <td>0.0</td>\n",
              "      <td>No</td>\n",
              "      <td>Once in a day - Morning</td>\n",
              "      <td>7.45</td>\n",
              "      <td>Slightly below average</td>\n",
              "      <td>Medium</td>\n",
              "      <td>121.0</td>\n",
              "      <td>3.81</td>\n",
              "      <td>71.39</td>\n",
              "    </tr>\n",
              "    <tr>\n",
              "      <th>3</th>\n",
              "      <td>0x7a57</td>\n",
              "      <td>Apartment</td>\n",
              "      <td>900</td>\n",
              "      <td>3.0</td>\n",
              "      <td>2</td>\n",
              "      <td>Unfurnished</td>\n",
              "      <td>2.0</td>\n",
              "      <td>Yes</td>\n",
              "      <td>Once in a day - Morning</td>\n",
              "      <td>6.16</td>\n",
              "      <td>Well above average</td>\n",
              "      <td>Medium</td>\n",
              "      <td>100.0</td>\n",
              "      <td>1.34</td>\n",
              "      <td>31.46</td>\n",
              "    </tr>\n",
              "    <tr>\n",
              "      <th>4</th>\n",
              "      <td>0x9409</td>\n",
              "      <td>Bungalow</td>\n",
              "      <td>2238</td>\n",
              "      <td>14.0</td>\n",
              "      <td>6</td>\n",
              "      <td>Fully Furnished</td>\n",
              "      <td>0.0</td>\n",
              "      <td>No</td>\n",
              "      <td>All time</td>\n",
              "      <td>5.46</td>\n",
              "      <td>Well below average</td>\n",
              "      <td>Medium</td>\n",
              "      <td>116.0</td>\n",
              "      <td>4.77</td>\n",
              "      <td>93.70</td>\n",
              "    </tr>\n",
              "  </tbody>\n",
              "</table>\n",
              "</div>\n",
              "      <button class=\"colab-df-convert\" onclick=\"convertToInteractive('df-a6aa67a2-fbf9-4461-a1ac-9c0b0e0f6ecd')\"\n",
              "              title=\"Convert this dataframe to an interactive table.\"\n",
              "              style=\"display:none;\">\n",
              "        \n",
              "  <svg xmlns=\"http://www.w3.org/2000/svg\" height=\"24px\"viewBox=\"0 0 24 24\"\n",
              "       width=\"24px\">\n",
              "    <path d=\"M0 0h24v24H0V0z\" fill=\"none\"/>\n",
              "    <path d=\"M18.56 5.44l.94 2.06.94-2.06 2.06-.94-2.06-.94-.94-2.06-.94 2.06-2.06.94zm-11 1L8.5 8.5l.94-2.06 2.06-.94-2.06-.94L8.5 2.5l-.94 2.06-2.06.94zm10 10l.94 2.06.94-2.06 2.06-.94-2.06-.94-.94-2.06-.94 2.06-2.06.94z\"/><path d=\"M17.41 7.96l-1.37-1.37c-.4-.4-.92-.59-1.43-.59-.52 0-1.04.2-1.43.59L10.3 9.45l-7.72 7.72c-.78.78-.78 2.05 0 2.83L4 21.41c.39.39.9.59 1.41.59.51 0 1.02-.2 1.41-.59l7.78-7.78 2.81-2.81c.8-.78.8-2.07 0-2.86zM5.41 20L4 18.59l7.72-7.72 1.47 1.35L5.41 20z\"/>\n",
              "  </svg>\n",
              "      </button>\n",
              "      \n",
              "  <style>\n",
              "    .colab-df-container {\n",
              "      display:flex;\n",
              "      flex-wrap:wrap;\n",
              "      gap: 12px;\n",
              "    }\n",
              "\n",
              "    .colab-df-convert {\n",
              "      background-color: #E8F0FE;\n",
              "      border: none;\n",
              "      border-radius: 50%;\n",
              "      cursor: pointer;\n",
              "      display: none;\n",
              "      fill: #1967D2;\n",
              "      height: 32px;\n",
              "      padding: 0 0 0 0;\n",
              "      width: 32px;\n",
              "    }\n",
              "\n",
              "    .colab-df-convert:hover {\n",
              "      background-color: #E2EBFA;\n",
              "      box-shadow: 0px 1px 2px rgba(60, 64, 67, 0.3), 0px 1px 3px 1px rgba(60, 64, 67, 0.15);\n",
              "      fill: #174EA6;\n",
              "    }\n",
              "\n",
              "    [theme=dark] .colab-df-convert {\n",
              "      background-color: #3B4455;\n",
              "      fill: #D2E3FC;\n",
              "    }\n",
              "\n",
              "    [theme=dark] .colab-df-convert:hover {\n",
              "      background-color: #434B5C;\n",
              "      box-shadow: 0px 1px 3px 1px rgba(0, 0, 0, 0.15);\n",
              "      filter: drop-shadow(0px 1px 2px rgba(0, 0, 0, 0.3));\n",
              "      fill: #FFFFFF;\n",
              "    }\n",
              "  </style>\n",
              "\n",
              "      <script>\n",
              "        const buttonEl =\n",
              "          document.querySelector('#df-a6aa67a2-fbf9-4461-a1ac-9c0b0e0f6ecd button.colab-df-convert');\n",
              "        buttonEl.style.display =\n",
              "          google.colab.kernel.accessAllowed ? 'block' : 'none';\n",
              "\n",
              "        async function convertToInteractive(key) {\n",
              "          const element = document.querySelector('#df-a6aa67a2-fbf9-4461-a1ac-9c0b0e0f6ecd');\n",
              "          const dataTable =\n",
              "            await google.colab.kernel.invokeFunction('convertToInteractive',\n",
              "                                                     [key], {});\n",
              "          if (!dataTable) return;\n",
              "\n",
              "          const docLinkHtml = 'Like what you see? Visit the ' +\n",
              "            '<a target=\"_blank\" href=https://colab.research.google.com/notebooks/data_table.ipynb>data table notebook</a>'\n",
              "            + ' to learn more about interactive tables.';\n",
              "          element.innerHTML = '';\n",
              "          dataTable['output_type'] = 'display_data';\n",
              "          await google.colab.output.renderOutput(dataTable, element);\n",
              "          const docLink = document.createElement('div');\n",
              "          docLink.innerHTML = docLinkHtml;\n",
              "          element.appendChild(docLink);\n",
              "        }\n",
              "      </script>\n",
              "    </div>\n",
              "  </div>\n",
              "  "
            ]
          },
          "metadata": {},
          "execution_count": 3
        }
      ]
    },
    {
      "cell_type": "code",
      "source": [
        "train.info()"
      ],
      "metadata": {
        "colab": {
          "base_uri": "https://localhost:8080/"
        },
        "id": "LZcJ45Pcq6Ay",
        "outputId": "f9f4c168-7e32-4463-96f5-e7764ad148b6"
      },
      "execution_count": 4,
      "outputs": [
        {
          "output_type": "stream",
          "name": "stdout",
          "text": [
            "<class 'pandas.core.frame.DataFrame'>\n",
            "RangeIndex: 39499 entries, 0 to 39498\n",
            "Data columns (total 15 columns):\n",
            " #   Column                  Non-Null Count  Dtype  \n",
            "---  ------                  --------------  -----  \n",
            " 0   Property_ID             39499 non-null  object \n",
            " 1   Property_Type           39499 non-null  object \n",
            " 2   Property_Area           39499 non-null  int64  \n",
            " 3   Number_of_Windows       37845 non-null  float64\n",
            " 4   Number_of_Doors         39499 non-null  int64  \n",
            " 5   Furnishing              38457 non-null  object \n",
            " 6   Frequency_of_Powercuts  38116 non-null  float64\n",
            " 7   Power_Backup            39499 non-null  object \n",
            " 8   Water_Supply            39499 non-null  object \n",
            " 9   Traffic_Density_Score   39499 non-null  float64\n",
            " 10  Crime_Rate              38712 non-null  object \n",
            " 11  Dust_and_Noise          38280 non-null  object \n",
            " 12  Air_Quality_Index       39499 non-null  float64\n",
            " 13  Neighborhood_Review     39499 non-null  float64\n",
            " 14  Habitability_score      39499 non-null  float64\n",
            "dtypes: float64(6), int64(2), object(7)\n",
            "memory usage: 4.5+ MB\n"
          ]
        }
      ]
    },
    {
      "cell_type": "markdown",
      "source": [
        "# Target column: Habitability_score"
      ],
      "metadata": {
        "id": "vjKzh1S1JtBg"
      }
    },
    {
      "cell_type": "code",
      "source": [
        "TARGET = 'Habitability_score'"
      ],
      "metadata": {
        "id": "vt1X4rqc69U8"
      },
      "execution_count": 5,
      "outputs": []
    },
    {
      "cell_type": "code",
      "source": [
        "train[TARGET].min(), train[TARGET].max()"
      ],
      "metadata": {
        "colab": {
          "base_uri": "https://localhost:8080/"
        },
        "id": "HLTfP20kJyHw",
        "outputId": "4e9cc0eb-c4a2-4ccc-c61f-2cb2aa33d730"
      },
      "execution_count": 6,
      "outputs": [
        {
          "output_type": "execute_result",
          "data": {
            "text/plain": [
              "(7.28, 100.0)"
            ]
          },
          "metadata": {},
          "execution_count": 6
        }
      ]
    },
    {
      "cell_type": "code",
      "source": [
        "plt.figure(figsize=(20, 5))\n",
        "sns.distplot(a=train[TARGET])\n",
        "plt.show()"
      ],
      "metadata": {
        "colab": {
          "base_uri": "https://localhost:8080/",
          "height": 0
        },
        "id": "JxvxeV4yJ5ha",
        "outputId": "07441a69-1de8-4a7a-bf4f-7a575e7f4ab6"
      },
      "execution_count": 7,
      "outputs": [
        {
          "output_type": "display_data",
          "data": {
            "text/plain": [
              "<Figure size 1440x360 with 1 Axes>"
            ],
            "image/png": "[encoded data removed]"
          },
          "metadata": {
            "needs_background": "light"
          }
        }
      ]
    },
    {
      "cell_type": "markdown",
      "source": [
        "# Features"
      ],
      "metadata": {
        "id": "uHj3vO-k4fWH"
      }
    },
    {
      "cell_type": "markdown",
      "source": [
        "### Property_ID - unique identifier"
      ],
      "metadata": {
        "id": "QbIYJgPqtyE6"
      }
    },
    {
      "cell_type": "code",
      "source": [
        "train.Property_ID.nunique(), test.Property_ID.nunique()"
      ],
      "metadata": {
        "colab": {
          "base_uri": "https://localhost:8080/"
        },
        "id": "NXmTtw7_tOUD",
        "outputId": "e1d1588b-830f-4ad4-ff84-51d08c01d9f2"
      },
      "execution_count": 8,
      "outputs": [
        {
          "output_type": "execute_result",
          "data": {
            "text/plain": [
              "(39499, 10500)"
            ]
          },
          "metadata": {},
          "execution_count": 8
        }
      ]
    },
    {
      "cell_type": "code",
      "source": [
        "set(train.Property_ID.unique()).intersection(set(test.Property_ID.unique()))"
      ],
      "metadata": {
        "colab": {
          "base_uri": "https://localhost:8080/"
        },
        "id": "uufzXRZFtVoa",
        "outputId": "057b674b-8b6c-43df-cc48-254449e714dd"
      },
      "execution_count": 9,
      "outputs": [
        {
          "output_type": "execute_result",
          "data": {
            "text/plain": [
              "set()"
            ]
          },
          "metadata": {},
          "execution_count": 9
        }
      ]
    },
    {
      "cell_type": "markdown",
      "source": [
        "### Property_Type"
      ],
      "metadata": {
        "id": "28R6BN6_t4wM"
      }
    },
    {
      "cell_type": "code",
      "source": [
        "train.Property_Type.nunique(), test.Property_Type.nunique()"
      ],
      "metadata": {
        "colab": {
          "base_uri": "https://localhost:8080/"
        },
        "id": "XqH20vqntdrV",
        "outputId": "3b570337-1bed-4444-97fb-1f2a2b8e659b"
      },
      "execution_count": 10,
      "outputs": [
        {
          "output_type": "execute_result",
          "data": {
            "text/plain": [
              "(6, 6)"
            ]
          },
          "metadata": {},
          "execution_count": 10
        }
      ]
    },
    {
      "cell_type": "code",
      "source": [
        "train.Property_Type.value_counts()"
      ],
      "metadata": {
        "colab": {
          "base_uri": "https://localhost:8080/"
        },
        "id": "Ygxx9UvquGNk",
        "outputId": "55553ea4-cfe8-4426-abd3-e8cb4ad37a64"
      },
      "execution_count": 11,
      "outputs": [
        {
          "output_type": "execute_result",
          "data": {
            "text/plain": [
              "Apartment             14596\n",
              "Single-family home    11477\n",
              "Duplex                 5806\n",
              "Bungalow               4238\n",
              "Container Home         2872\n",
              "#R%$G&867               510\n",
              "Name: Property_Type, dtype: int64"
            ]
          },
          "metadata": {},
          "execution_count": 11
        }
      ]
    },
    {
      "cell_type": "code",
      "source": [
        "test.Property_Type.value_counts()"
      ],
      "metadata": {
        "colab": {
          "base_uri": "https://localhost:8080/"
        },
        "id": "QZH3QxZ3uN4J",
        "outputId": "2b243bb9-ada8-4e14-bf80-991582466288"
      },
      "execution_count": 12,
      "outputs": [
        {
          "output_type": "execute_result",
          "data": {
            "text/plain": [
              "Apartment             3853\n",
              "Single-family home    3102\n",
              "Duplex                1520\n",
              "Bungalow              1105\n",
              "Container Home         781\n",
              "#R%$G&867              139\n",
              "Name: Property_Type, dtype: int64"
            ]
          },
          "metadata": {},
          "execution_count": 12
        }
      ]
    },
    {
      "cell_type": "code",
      "source": [
        "type_mapping = {\n",
        "    'Apartment': 0,\n",
        "    'Single-family home': 1,\n",
        "    'Duplex': 2,\n",
        "    'Bungalow': 3,\n",
        "    'Container Home': 4,\n",
        "    '#R%$G&867': 5\n",
        "}\n",
        "\n",
        "train.Property_Type.replace(type_mapping, inplace=True)\n",
        "test.Property_Type.replace(type_mapping, inplace=True)"
      ],
      "metadata": {
        "id": "oWgbsFP-uQ69"
      },
      "execution_count": 13,
      "outputs": []
    },
    {
      "cell_type": "markdown",
      "source": [
        "### Property_Area"
      ],
      "metadata": {
        "id": "UZA8QyNov8EC"
      }
    },
    {
      "cell_type": "code",
      "source": [
        "train.Property_Area.min(), train.Property_Area.max()"
      ],
      "metadata": {
        "colab": {
          "base_uri": "https://localhost:8080/"
        },
        "id": "K_EJB8tIwECH",
        "outputId": "46265c39-c9cd-4eba-93bc-0a5f86ab7d3a"
      },
      "execution_count": 14,
      "outputs": [
        {
          "output_type": "execute_result",
          "data": {
            "text/plain": [
              "(100, 28064)"
            ]
          },
          "metadata": {},
          "execution_count": 14
        }
      ]
    },
    {
      "cell_type": "code",
      "source": [
        "test.Property_Area.min(), test.Property_Area.max()"
      ],
      "metadata": {
        "colab": {
          "base_uri": "https://localhost:8080/"
        },
        "id": "VxWADCjowK00",
        "outputId": "33ea6cfa-a92a-4145-8eb2-bafb46722b88"
      },
      "execution_count": 15,
      "outputs": [
        {
          "output_type": "execute_result",
          "data": {
            "text/plain": [
              "(100, 27477)"
            ]
          },
          "metadata": {},
          "execution_count": 15
        }
      ]
    },
    {
      "cell_type": "code",
      "source": [
        "plt.figure(figsize=(20, 5))\n",
        "sns.distplot(a=train.Property_Area)\n",
        "plt.show()"
      ],
      "metadata": {
        "colab": {
          "base_uri": "https://localhost:8080/",
          "height": 0
        },
        "id": "SQeUM1icwO17",
        "outputId": "ee83c3a4-de1e-4d3a-e814-e3cedef5a4fb"
      },
      "execution_count": 16,
      "outputs": [
        {
          "output_type": "display_data",
          "data": {
            "text/plain": [
              "<Figure size 1440x360 with 1 Axes>"
            ],
            "image/png": "[encoded data removed]"
          },
          "metadata": {
            "needs_background": "light"
          }
        }
      ]
    },
    {
      "cell_type": "code",
      "source": [
        "train.loc[train.Property_Area > 5000]['Property_Area'].agg(['count', 'median', 'mean'])"
      ],
      "metadata": {
        "colab": {
          "base_uri": "https://localhost:8080/"
        },
        "id": "r15_3jTNxtW4",
        "outputId": "ad4d84d8-6f8b-4af8-a599-ee378132b8dd"
      },
      "execution_count": 17,
      "outputs": [
        {
          "output_type": "execute_result",
          "data": {
            "text/plain": [
              "count       616.000000\n",
              "median    13397.000000\n",
              "mean      13971.146104\n",
              "Name: Property_Area, dtype: float64"
            ]
          },
          "metadata": {},
          "execution_count": 17
        }
      ]
    },
    {
      "cell_type": "code",
      "source": [
        "plt.figure(figsize=(20, 5))\n",
        "sns.distplot(a=test.Property_Area)\n",
        "plt.show()"
      ],
      "metadata": {
        "colab": {
          "base_uri": "https://localhost:8080/",
          "height": 0
        },
        "id": "R9HRYqxoygRM",
        "outputId": "dff1d88f-9219-4a50-c108-fa021c4a668d"
      },
      "execution_count": 18,
      "outputs": [
        {
          "output_type": "display_data",
          "data": {
            "text/plain": [
              "<Figure size 1440x360 with 1 Axes>"
            ],
            "image/png": "[encoded data removed]"
          },
          "metadata": {
            "needs_background": "light"
          }
        }
      ]
    },
    {
      "cell_type": "code",
      "source": [
        "test.loc[test.Property_Area > 5000]['Property_Area'].agg(['count', 'median', 'mean'])"
      ],
      "metadata": {
        "colab": {
          "base_uri": "https://localhost:8080/"
        },
        "id": "17MCY2FFykjS",
        "outputId": "1809f640-a915-4e43-fd9c-3d00786cf843"
      },
      "execution_count": 19,
      "outputs": [
        {
          "output_type": "execute_result",
          "data": {
            "text/plain": [
              "count       149.000000\n",
              "median    12127.000000\n",
              "mean      13352.241611\n",
              "Name: Property_Area, dtype: float64"
            ]
          },
          "metadata": {},
          "execution_count": 19
        }
      ]
    },
    {
      "cell_type": "markdown",
      "source": [
        "### Number_of_Windows"
      ],
      "metadata": {
        "id": "gB-2ww4b4mg2"
      }
    },
    {
      "cell_type": "code",
      "source": [
        "train.Number_of_Windows.min(), test.Number_of_Windows.min()"
      ],
      "metadata": {
        "colab": {
          "base_uri": "https://localhost:8080/"
        },
        "id": "TJlqYVl14xCI",
        "outputId": "6b99f104-946f-40e3-9860-9ad2df55ac06"
      },
      "execution_count": 20,
      "outputs": [
        {
          "output_type": "execute_result",
          "data": {
            "text/plain": [
              "(0.0, 0.0)"
            ]
          },
          "metadata": {},
          "execution_count": 20
        }
      ]
    },
    {
      "cell_type": "code",
      "source": [
        "train.Number_of_Windows.max(), test.Number_of_Windows.max()"
      ],
      "metadata": {
        "colab": {
          "base_uri": "https://localhost:8080/"
        },
        "id": "Vot0qfyJ435K",
        "outputId": "cdd089f9-8cda-4f65-c150-16760caf10c7"
      },
      "execution_count": 21,
      "outputs": [
        {
          "output_type": "execute_result",
          "data": {
            "text/plain": [
              "(15.0, 15.0)"
            ]
          },
          "metadata": {},
          "execution_count": 21
        }
      ]
    },
    {
      "cell_type": "code",
      "source": [
        "plt.figure(figsize=(20, 5))\n",
        "sns.countplot(x='Number_of_Windows', data=train)\n",
        "plt.show()"
      ],
      "metadata": {
        "colab": {
          "base_uri": "https://localhost:8080/",
          "height": 0
        },
        "id": "cyQkSXgW478R",
        "outputId": "b1415882-78da-4969-a60e-d51924278899"
      },
      "execution_count": 22,
      "outputs": [
        {
          "output_type": "display_data",
          "data": {
            "text/plain": [
              "<Figure size 1440x360 with 1 Axes>"
            ],
            "image/png": "[encoded data removed]"
          },
          "metadata": {
            "needs_background": "light"
          }
        }
      ]
    },
    {
      "cell_type": "code",
      "source": [
        "plt.figure(figsize=(20, 5))\n",
        "sns.countplot(x='Number_of_Windows', data=test)\n",
        "plt.show()"
      ],
      "metadata": {
        "colab": {
          "base_uri": "https://localhost:8080/",
          "height": 0
        },
        "id": "OR99Z_1u5Vlj",
        "outputId": "19c7ea0b-cb60-476d-f1e4-4e514184a8cd"
      },
      "execution_count": 23,
      "outputs": [
        {
          "output_type": "display_data",
          "data": {
            "text/plain": [
              "<Figure size 1440x360 with 1 Axes>"
            ],
            "image/png": "[encoded data removed]"
          },
          "metadata": {
            "needs_background": "light"
          }
        }
      ]
    },
    {
      "cell_type": "markdown",
      "source": [
        "### Number_of_Doors"
      ],
      "metadata": {
        "id": "2tp9hHXr554Q"
      }
    },
    {
      "cell_type": "code",
      "source": [
        "train.Number_of_Doors.min(), test.Number_of_Doors.min()"
      ],
      "metadata": {
        "colab": {
          "base_uri": "https://localhost:8080/"
        },
        "id": "cGctLAoY5oO_",
        "outputId": "4e7696ee-b112-4553-cb0b-f7c4edd82ce9"
      },
      "execution_count": 24,
      "outputs": [
        {
          "output_type": "execute_result",
          "data": {
            "text/plain": [
              "(1, 1)"
            ]
          },
          "metadata": {},
          "execution_count": 24
        }
      ]
    },
    {
      "cell_type": "code",
      "source": [
        "train.Number_of_Doors.max(), test.Number_of_Doors.max()"
      ],
      "metadata": {
        "colab": {
          "base_uri": "https://localhost:8080/"
        },
        "id": "ZLy1_zPV6AZO",
        "outputId": "40f891a1-a532-424b-927f-ad6306ebfdf3"
      },
      "execution_count": 25,
      "outputs": [
        {
          "output_type": "execute_result",
          "data": {
            "text/plain": [
              "(6, 6)"
            ]
          },
          "metadata": {},
          "execution_count": 25
        }
      ]
    },
    {
      "cell_type": "code",
      "source": [
        "train.Number_of_Doors.value_counts(normalize=True)"
      ],
      "metadata": {
        "colab": {
          "base_uri": "https://localhost:8080/"
        },
        "id": "DT2tXtFt6q00",
        "outputId": "6046ebc5-02f4-4d2b-9d47-964be67c70a0"
      },
      "execution_count": 26,
      "outputs": [
        {
          "output_type": "execute_result",
          "data": {
            "text/plain": [
              "2    0.302742\n",
              "1    0.287020\n",
              "3    0.269551\n",
              "4    0.095926\n",
              "6    0.022709\n",
              "5    0.022051\n",
              "Name: Number_of_Doors, dtype: float64"
            ]
          },
          "metadata": {},
          "execution_count": 26
        }
      ]
    },
    {
      "cell_type": "code",
      "source": [
        "test.Number_of_Doors.value_counts(normalize=True)"
      ],
      "metadata": {
        "colab": {
          "base_uri": "https://localhost:8080/"
        },
        "id": "wuNH62vn6uvm",
        "outputId": "eff4f8bb-0bf1-4b1e-9c85-1724a5b52bd1"
      },
      "execution_count": 27,
      "outputs": [
        {
          "output_type": "execute_result",
          "data": {
            "text/plain": [
              "2    0.306857\n",
              "1    0.286381\n",
              "3    0.266190\n",
              "4    0.097429\n",
              "6    0.022476\n",
              "5    0.020667\n",
              "Name: Number_of_Doors, dtype: float64"
            ]
          },
          "metadata": {},
          "execution_count": 27
        }
      ]
    },
    {
      "cell_type": "markdown",
      "source": [
        "### Furnishing"
      ],
      "metadata": {
        "id": "lqq0uRes7DXN"
      }
    },
    {
      "cell_type": "code",
      "source": [
        "train.Furnishing.value_counts(normalize=True, dropna=False)"
      ],
      "metadata": {
        "colab": {
          "base_uri": "https://localhost:8080/"
        },
        "id": "IaskZaHv7Gvw",
        "outputId": "4498e237-beb4-4306-b4e4-177b70be3f37"
      },
      "execution_count": 28,
      "outputs": [
        {
          "output_type": "execute_result",
          "data": {
            "text/plain": [
              "Semi_Furnished     0.515380\n",
              "Unfurnished        0.261880\n",
              "Fully Furnished    0.196359\n",
              "NaN                0.026380\n",
              "Name: Furnishing, dtype: float64"
            ]
          },
          "metadata": {},
          "execution_count": 28
        }
      ]
    },
    {
      "cell_type": "code",
      "source": [
        "test.Furnishing.value_counts(normalize=True, dropna=False)"
      ],
      "metadata": {
        "colab": {
          "base_uri": "https://localhost:8080/"
        },
        "id": "2LDduRs87cg7",
        "outputId": "08d961ae-32b2-4834-e462-a87e14717235"
      },
      "execution_count": 29,
      "outputs": [
        {
          "output_type": "execute_result",
          "data": {
            "text/plain": [
              "Semi_Furnished     0.516000\n",
              "Unfurnished        0.253238\n",
              "Fully Furnished    0.206286\n",
              "NaN                0.024476\n",
              "Name: Furnishing, dtype: float64"
            ]
          },
          "metadata": {},
          "execution_count": 29
        }
      ]
    },
    {
      "cell_type": "code",
      "source": [
        "train.groupby('Property_Type')['Furnishing'].value_counts(normalize=True, dropna=False)"
      ],
      "metadata": {
        "colab": {
          "base_uri": "https://localhost:8080/"
        },
        "id": "9thX7DvT_klb",
        "outputId": "881b33c2-3e44-41e2-f713-95034c3bb3d6"
      },
      "execution_count": 30,
      "outputs": [
        {
          "output_type": "execute_result",
          "data": {
            "text/plain": [
              "Property_Type  Furnishing     \n",
              "0              Semi_Furnished     0.515552\n",
              "               Unfurnished        0.264799\n",
              "               Fully Furnished    0.194231\n",
              "               NaN                0.025418\n",
              "1              Semi_Furnished     0.517470\n",
              "               Unfurnished        0.258866\n",
              "               Fully Furnished    0.197003\n",
              "               NaN                0.026662\n",
              "2              Semi_Furnished     0.524457\n",
              "               Unfurnished        0.252325\n",
              "               Fully Furnished    0.194282\n",
              "               NaN                0.028936\n",
              "3              Semi_Furnished     0.497404\n",
              "               Unfurnished        0.276546\n",
              "               Fully Furnished    0.197971\n",
              "               NaN                0.028079\n",
              "4              Semi_Furnished     0.518106\n",
              "               Unfurnished        0.258357\n",
              "               Fully Furnished    0.201950\n",
              "               NaN                0.021588\n",
              "5              Semi_Furnished     0.494118\n",
              "               Unfurnished        0.252941\n",
              "               Fully Furnished    0.221569\n",
              "               NaN                0.031373\n",
              "Name: Furnishing, dtype: float64"
            ]
          },
          "metadata": {},
          "execution_count": 30
        }
      ]
    },
    {
      "cell_type": "code",
      "source": [
        "furnish_mapping = {\n",
        "    'Unfurnished': 0,\n",
        "    'Semi_Furnished': 1,\n",
        "    'Fully Furnished': 2\n",
        "}\n",
        "\n",
        "train.Furnishing.replace(furnish_mapping, inplace=True)\n",
        "test.Furnishing.replace(furnish_mapping, inplace=True)"
      ],
      "metadata": {
        "id": "x_lTbvaz7nZ7"
      },
      "execution_count": 31,
      "outputs": []
    },
    {
      "cell_type": "markdown",
      "source": [
        "### Frequency_of_Powercuts"
      ],
      "metadata": {
        "id": "YJB5JIxb8d1S"
      }
    },
    {
      "cell_type": "code",
      "source": [
        "train.Frequency_of_Powercuts.min(), test.Frequency_of_Powercuts.min()"
      ],
      "metadata": {
        "colab": {
          "base_uri": "https://localhost:8080/"
        },
        "id": "rZhpNkJ48p0B",
        "outputId": "3ef6e2a3-ce59-4cf0-a760-144566f2ba5a"
      },
      "execution_count": 32,
      "outputs": [
        {
          "output_type": "execute_result",
          "data": {
            "text/plain": [
              "(0.0, 0.0)"
            ]
          },
          "metadata": {},
          "execution_count": 32
        }
      ]
    },
    {
      "cell_type": "code",
      "source": [
        "train.Frequency_of_Powercuts.max(), test.Frequency_of_Powercuts.max()"
      ],
      "metadata": {
        "colab": {
          "base_uri": "https://localhost:8080/"
        },
        "id": "56rvxmnK8u89",
        "outputId": "026326b2-1794-4219-d639-5ba2937d1454"
      },
      "execution_count": 33,
      "outputs": [
        {
          "output_type": "execute_result",
          "data": {
            "text/plain": [
              "(3.0, 3.0)"
            ]
          },
          "metadata": {},
          "execution_count": 33
        }
      ]
    },
    {
      "cell_type": "code",
      "source": [
        "train.Frequency_of_Powercuts.value_counts(normalize=True, dropna=False)"
      ],
      "metadata": {
        "colab": {
          "base_uri": "https://localhost:8080/"
        },
        "id": "BY7ethVr8z27",
        "outputId": "2f9a282a-b23b-4a46-b85c-61c9191b12e1"
      },
      "execution_count": 34,
      "outputs": [
        {
          "output_type": "execute_result",
          "data": {
            "text/plain": [
              "0.0    0.619535\n",
              "1.0    0.253424\n",
              "2.0    0.061799\n",
              "NaN    0.035014\n",
              "3.0    0.030229\n",
              "Name: Frequency_of_Powercuts, dtype: float64"
            ]
          },
          "metadata": {},
          "execution_count": 34
        }
      ]
    },
    {
      "cell_type": "code",
      "source": [
        "test.Frequency_of_Powercuts.value_counts(normalize=True, dropna=False)"
      ],
      "metadata": {
        "colab": {
          "base_uri": "https://localhost:8080/"
        },
        "id": "-ctUoCZ1824j",
        "outputId": "aff5886b-a760-4e49-a1fa-ad5f4ab0cdef"
      },
      "execution_count": 35,
      "outputs": [
        {
          "output_type": "execute_result",
          "data": {
            "text/plain": [
              "0.0    0.618571\n",
              "1.0    0.255333\n",
              "2.0    0.061524\n",
              "NaN    0.034857\n",
              "3.0    0.029714\n",
              "Name: Frequency_of_Powercuts, dtype: float64"
            ]
          },
          "metadata": {},
          "execution_count": 35
        }
      ]
    },
    {
      "cell_type": "markdown",
      "source": [
        "### Power_Backup"
      ],
      "metadata": {
        "id": "nKTBwJ2WJIkJ"
      }
    },
    {
      "cell_type": "code",
      "source": [
        "train.Power_Backup.value_counts(normalize=True, dropna=False)"
      ],
      "metadata": {
        "colab": {
          "base_uri": "https://localhost:8080/"
        },
        "id": "TbV5v8eCJIQG",
        "outputId": "4a758462-959f-42f7-f752-8eae36160fd5"
      },
      "execution_count": 36,
      "outputs": [
        {
          "output_type": "execute_result",
          "data": {
            "text/plain": [
              "No               0.752272\n",
              "Yes              0.226765\n",
              "NOT MENTIONED    0.020963\n",
              "Name: Power_Backup, dtype: float64"
            ]
          },
          "metadata": {},
          "execution_count": 36
        }
      ]
    },
    {
      "cell_type": "code",
      "source": [
        "test.Power_Backup.value_counts(normalize=True, dropna=False)"
      ],
      "metadata": {
        "colab": {
          "base_uri": "https://localhost:8080/"
        },
        "id": "puV0-dckJZUF",
        "outputId": "f3c7232e-3405-41fc-b3d0-be1e0875089d"
      },
      "execution_count": 37,
      "outputs": [
        {
          "output_type": "execute_result",
          "data": {
            "text/plain": [
              "No               0.759429\n",
              "Yes              0.219524\n",
              "NOT MENTIONED    0.021048\n",
              "Name: Power_Backup, dtype: float64"
            ]
          },
          "metadata": {},
          "execution_count": 37
        }
      ]
    },
    {
      "cell_type": "code",
      "source": [
        "backup_mapping = {\n",
        "    'No': 0,\n",
        "    'Yes': 1,\n",
        "    'NOT MENTIONED': 2\n",
        "}\n",
        "\n",
        "train.Power_Backup.replace(backup_mapping, inplace=True)\n",
        "test.Power_Backup.replace(backup_mapping, inplace=True)"
      ],
      "metadata": {
        "id": "44QOwBMVLBWg"
      },
      "execution_count": 38,
      "outputs": []
    },
    {
      "cell_type": "markdown",
      "source": [
        "### Water_Supply"
      ],
      "metadata": {
        "id": "4TFkOUWaLWGQ"
      }
    },
    {
      "cell_type": "code",
      "source": [
        "train.Water_Supply.value_counts(normalize=True, dropna=False)"
      ],
      "metadata": {
        "colab": {
          "base_uri": "https://localhost:8080/"
        },
        "id": "C2XPD8L7LZjH",
        "outputId": "d7c0be4f-64ef-4674-955a-65bb46a637e7"
      },
      "execution_count": 39,
      "outputs": [
        {
          "output_type": "execute_result",
          "data": {
            "text/plain": [
              "All time                   0.493962\n",
              "Once in a day - Morning    0.250563\n",
              "Once in a day - Evening    0.197853\n",
              "Once in two days           0.048887\n",
              "NOT MENTIONED              0.008734\n",
              "Name: Water_Supply, dtype: float64"
            ]
          },
          "metadata": {},
          "execution_count": 39
        }
      ]
    },
    {
      "cell_type": "code",
      "source": [
        "test.Water_Supply.value_counts(normalize=True, dropna=False)"
      ],
      "metadata": {
        "colab": {
          "base_uri": "https://localhost:8080/"
        },
        "id": "4pkWr8DFLlow",
        "outputId": "85220c1a-bbb2-4a1e-f404-cb6fa7cac329"
      },
      "execution_count": 40,
      "outputs": [
        {
          "output_type": "execute_result",
          "data": {
            "text/plain": [
              "All time                   0.494000\n",
              "Once in a day - Morning    0.247333\n",
              "Once in a day - Evening    0.201714\n",
              "Once in two days           0.047048\n",
              "NOT MENTIONED              0.009905\n",
              "Name: Water_Supply, dtype: float64"
            ]
          },
          "metadata": {},
          "execution_count": 40
        }
      ]
    },
    {
      "cell_type": "code",
      "source": [
        "water_mapping = {\n",
        "    'All time': 0,\n",
        "    'Once in a day - Morning': 1,\n",
        "    'Once in a day - Evening': 2,\n",
        "    'Once in two days': 3,\n",
        "    'NOT MENTIONED': 4\n",
        "}\n",
        "\n",
        "train.Water_Supply.replace(water_mapping, inplace=True)\n",
        "test.Water_Supply.replace(water_mapping, inplace=True)"
      ],
      "metadata": {
        "id": "Ml3hEQD6MA_f"
      },
      "execution_count": 41,
      "outputs": []
    },
    {
      "cell_type": "markdown",
      "source": [
        "### Traffic_Density_Score"
      ],
      "metadata": {
        "id": "e85FcuPXMiqR"
      }
    },
    {
      "cell_type": "code",
      "source": [
        "train.Traffic_Density_Score.min(), test.Traffic_Density_Score.min()"
      ],
      "metadata": {
        "colab": {
          "base_uri": "https://localhost:8080/"
        },
        "id": "qLbMFWraMmsl",
        "outputId": "9f6443c0-cec3-468c-a372-0ae55af63b91"
      },
      "execution_count": 42,
      "outputs": [
        {
          "output_type": "execute_result",
          "data": {
            "text/plain": [
              "(0.0, 0.02)"
            ]
          },
          "metadata": {},
          "execution_count": 42
        }
      ]
    },
    {
      "cell_type": "markdown",
      "source": [
        "on a scale of 0 to 10 (not 1 to 10, as stated in the problem description)"
      ],
      "metadata": {
        "id": "evpWlztfNrRi"
      }
    },
    {
      "cell_type": "code",
      "source": [
        "train.Traffic_Density_Score.max(), test.Traffic_Density_Score.max()"
      ],
      "metadata": {
        "colab": {
          "base_uri": "https://localhost:8080/"
        },
        "id": "gVCEjDDINfug",
        "outputId": "cc88256b-cec6-4289-d150-bf91a3a98739"
      },
      "execution_count": 43,
      "outputs": [
        {
          "output_type": "execute_result",
          "data": {
            "text/plain": [
              "(9.91, 9.43)"
            ]
          },
          "metadata": {},
          "execution_count": 43
        }
      ]
    },
    {
      "cell_type": "code",
      "source": [
        "plt.figure(figsize=(20, 5))\n",
        "sns.distplot(a=train.Traffic_Density_Score)\n",
        "plt.show()"
      ],
      "metadata": {
        "colab": {
          "base_uri": "https://localhost:8080/",
          "height": 0
        },
        "id": "gfJ8g30CN7OK",
        "outputId": "e0aed361-e575-4871-bba3-03682bf827d7"
      },
      "execution_count": 44,
      "outputs": [
        {
          "output_type": "display_data",
          "data": {
            "text/plain": [
              "<Figure size 1440x360 with 1 Axes>"
            ],
            "image/png": "[encoded data removed]"
          },
          "metadata": {
            "needs_background": "light"
          }
        }
      ]
    },
    {
      "cell_type": "code",
      "source": [
        "plt.figure(figsize=(20, 5))\n",
        "sns.distplot(a=test.Traffic_Density_Score)\n",
        "plt.show()"
      ],
      "metadata": {
        "colab": {
          "base_uri": "https://localhost:8080/",
          "height": 0
        },
        "id": "AnIAL8xsOEVy",
        "outputId": "a689a528-7696-4494-b3a8-5b81f9154336"
      },
      "execution_count": 45,
      "outputs": [
        {
          "output_type": "display_data",
          "data": {
            "text/plain": [
              "<Figure size 1440x360 with 1 Axes>"
            ],
            "image/png": "[encoded data removed]"
          },
          "metadata": {
            "needs_background": "light"
          }
        }
      ]
    },
    {
      "cell_type": "markdown",
      "source": [
        "### Crime_Rate"
      ],
      "metadata": {
        "id": "MbQqrfLXORc4"
      }
    },
    {
      "cell_type": "code",
      "source": [
        "train.Crime_Rate.value_counts(normalize=True, dropna=False)"
      ],
      "metadata": {
        "colab": {
          "base_uri": "https://localhost:8080/"
        },
        "id": "O6lAjqGfOT_S",
        "outputId": "334f129c-8353-451f-c6d3-04b3c2bae0fb"
      },
      "execution_count": 46,
      "outputs": [
        {
          "output_type": "execute_result",
          "data": {
            "text/plain": [
              "Well below average        0.492975\n",
              "Slightly below average    0.293172\n",
              "Slightly above average    0.134257\n",
              "Well above average        0.059672\n",
              "NaN                       0.019925\n",
              "Name: Crime_Rate, dtype: float64"
            ]
          },
          "metadata": {},
          "execution_count": 46
        }
      ]
    },
    {
      "cell_type": "code",
      "source": [
        "test.Crime_Rate.value_counts(normalize=True, dropna=False)"
      ],
      "metadata": {
        "colab": {
          "base_uri": "https://localhost:8080/"
        },
        "id": "3qRJ10JzOy7s",
        "outputId": "3b0cd1a1-9781-4d56-a680-5f45069fc4a3"
      },
      "execution_count": 47,
      "outputs": [
        {
          "output_type": "execute_result",
          "data": {
            "text/plain": [
              "Well below average        0.494190\n",
              "Slightly below average    0.288762\n",
              "Slightly above average    0.135333\n",
              "Well above average        0.061524\n",
              "NaN                       0.020190\n",
              "Name: Crime_Rate, dtype: float64"
            ]
          },
          "metadata": {},
          "execution_count": 47
        }
      ]
    },
    {
      "cell_type": "code",
      "source": [
        "crime_mapping = {\n",
        "    'Well below average': 0,\n",
        "    'Slightly below average': 1,\n",
        "    'Slightly above average': 2,\n",
        "    'Well above average': 3\n",
        "}\n",
        "\n",
        "train.Crime_Rate.replace(crime_mapping, inplace=True)\n",
        "test.Crime_Rate.replace(crime_mapping, inplace=True)"
      ],
      "metadata": {
        "id": "OLBBa64yPHTP"
      },
      "execution_count": 48,
      "outputs": []
    },
    {
      "cell_type": "markdown",
      "source": [
        "### Dust_and_Noise"
      ],
      "metadata": {
        "id": "RE05K-fMO4fI"
      }
    },
    {
      "cell_type": "code",
      "source": [
        "train.Dust_and_Noise.value_counts(normalize=True, dropna=False)"
      ],
      "metadata": {
        "colab": {
          "base_uri": "https://localhost:8080/"
        },
        "id": "vo_vLgLVPqur",
        "outputId": "7bafa5e8-9779-4a85-b82e-01f5504d6f06"
      },
      "execution_count": 49,
      "outputs": [
        {
          "output_type": "execute_result",
          "data": {
            "text/plain": [
              "Medium    0.835363\n",
              "High      0.081319\n",
              "Low       0.052457\n",
              "NaN       0.030862\n",
              "Name: Dust_and_Noise, dtype: float64"
            ]
          },
          "metadata": {},
          "execution_count": 49
        }
      ]
    },
    {
      "cell_type": "code",
      "source": [
        "test.Dust_and_Noise.value_counts(normalize=True, dropna=False)"
      ],
      "metadata": {
        "colab": {
          "base_uri": "https://localhost:8080/"
        },
        "id": "UR-u3FueP3ks",
        "outputId": "791f6dda-84c7-4817-d1a5-9c39ae60e321"
      },
      "execution_count": 50,
      "outputs": [
        {
          "output_type": "execute_result",
          "data": {
            "text/plain": [
              "Medium    0.840571\n",
              "High      0.076381\n",
              "Low       0.051619\n",
              "NaN       0.031429\n",
              "Name: Dust_and_Noise, dtype: float64"
            ]
          },
          "metadata": {},
          "execution_count": 50
        }
      ]
    },
    {
      "cell_type": "code",
      "source": [
        "dust_mapping = {\n",
        "    'Low': 0,\n",
        "    'Medium': 1,\n",
        "    'High': 2\n",
        "}\n",
        "\n",
        "train.Dust_and_Noise.replace(dust_mapping, inplace=True)\n",
        "test.Dust_and_Noise.replace(dust_mapping, inplace=True)"
      ],
      "metadata": {
        "id": "h5dUoa0qP7tQ"
      },
      "execution_count": 51,
      "outputs": []
    },
    {
      "cell_type": "markdown",
      "source": [
        "### Air_Quality_Index"
      ],
      "metadata": {
        "id": "pcx5gUsVQUYs"
      }
    },
    {
      "cell_type": "code",
      "source": [
        "train.Air_Quality_Index.min(), test.Air_Quality_Index.min()"
      ],
      "metadata": {
        "colab": {
          "base_uri": "https://localhost:8080/"
        },
        "id": "q9gvM_AQQYwR",
        "outputId": "a880d5c7-a6a8-4e81-d55d-1bdb6983cc0c"
      },
      "execution_count": 52,
      "outputs": [
        {
          "output_type": "execute_result",
          "data": {
            "text/plain": [
              "(0.0, 0.0)"
            ]
          },
          "metadata": {},
          "execution_count": 52
        }
      ]
    },
    {
      "cell_type": "code",
      "source": [
        "train.Air_Quality_Index.max(), test.Air_Quality_Index.max()"
      ],
      "metadata": {
        "colab": {
          "base_uri": "https://localhost:8080/"
        },
        "id": "z-FU5p9am3_F",
        "outputId": "1f86de2b-5d12-478b-f999-052eaa97152e"
      },
      "execution_count": 53,
      "outputs": [
        {
          "output_type": "execute_result",
          "data": {
            "text/plain": [
              "(1044.0, 1031.0)"
            ]
          },
          "metadata": {},
          "execution_count": 53
        }
      ]
    },
    {
      "cell_type": "code",
      "source": [
        "plt.figure(figsize=(20, 5))\n",
        "sns.distplot(a=train.Air_Quality_Index)\n",
        "plt.show()"
      ],
      "metadata": {
        "colab": {
          "base_uri": "https://localhost:8080/",
          "height": 0
        },
        "id": "jq7lkjk-m7_y",
        "outputId": "27ccc73b-f671-4361-e287-bb9d96a30e83"
      },
      "execution_count": 54,
      "outputs": [
        {
          "output_type": "display_data",
          "data": {
            "text/plain": [
              "<Figure size 1440x360 with 1 Axes>"
            ],
            "image/png": "[encoded data removed]"
          },
          "metadata": {
            "needs_background": "light"
          }
        }
      ]
    },
    {
      "cell_type": "code",
      "source": [
        "plt.figure(figsize=(20, 5))\n",
        "sns.distplot(a=test.Air_Quality_Index)\n",
        "plt.show()"
      ],
      "metadata": {
        "colab": {
          "base_uri": "https://localhost:8080/",
          "height": 0
        },
        "id": "3JH2VSCWnDsK",
        "outputId": "d9c29b15-cc4a-485a-e4dc-6cd491d0aec0"
      },
      "execution_count": 55,
      "outputs": [
        {
          "output_type": "display_data",
          "data": {
            "text/plain": [
              "<Figure size 1440x360 with 1 Axes>"
            ],
            "image/png": "[encoded data removed]"
          },
          "metadata": {
            "needs_background": "light"
          }
        }
      ]
    },
    {
      "cell_type": "markdown",
      "source": [
        "Creating bins based on ranges in AQI guidelines: 0-50, 51-100, 101-150, 151-200, 201-200, 301+"
      ],
      "metadata": {
        "id": "VYUXqFYJpUoo"
      }
    },
    {
      "cell_type": "code",
      "source": [
        "aqi_bins = [0, 50, 100, 150, 200, 300, 1050]\n",
        "\n",
        "train['aqi_range'] = pd.cut(x=train.Air_Quality_Index, \n",
        "                            bins=aqi_bins, \n",
        "                            include_lowest=True,\n",
        "                            labels=False, \n",
        "                            ordered=True)\n",
        "\n",
        "test['aqi_range'] = pd.cut(x=test.Air_Quality_Index, \n",
        "                            bins=aqi_bins, \n",
        "                            include_lowest=True,\n",
        "                            labels=False, \n",
        "                            ordered=True)"
      ],
      "metadata": {
        "id": "mG5igMuVppsd"
      },
      "execution_count": 56,
      "outputs": []
    },
    {
      "cell_type": "markdown",
      "source": [
        "### Neighborhood_Review"
      ],
      "metadata": {
        "id": "hSdsJFofroTm"
      }
    },
    {
      "cell_type": "code",
      "source": [
        "train.Neighborhood_Review.min(), test.Neighborhood_Review.min()"
      ],
      "metadata": {
        "colab": {
          "base_uri": "https://localhost:8080/"
        },
        "id": "G1MDSPj3rntT",
        "outputId": "cc34ecac-a462-44cd-a644-bb12f82e6a01"
      },
      "execution_count": 57,
      "outputs": [
        {
          "output_type": "execute_result",
          "data": {
            "text/plain": [
              "(0.0, 0.02)"
            ]
          },
          "metadata": {},
          "execution_count": 57
        }
      ]
    },
    {
      "cell_type": "code",
      "source": [
        "train.Neighborhood_Review.max(), test.Neighborhood_Review.max()"
      ],
      "metadata": {
        "colab": {
          "base_uri": "https://localhost:8080/"
        },
        "id": "iIPfj4B-rw38",
        "outputId": "bdb7cc52-e1f3-4198-8e0e-5d963005b91d"
      },
      "execution_count": 58,
      "outputs": [
        {
          "output_type": "execute_result",
          "data": {
            "text/plain": [
              "(5.0, 5.0)"
            ]
          },
          "metadata": {},
          "execution_count": 58
        }
      ]
    },
    {
      "cell_type": "code",
      "source": [
        "plt.figure(figsize=(20, 5))\n",
        "sns.distplot(a=train.Neighborhood_Review)\n",
        "plt.show()"
      ],
      "metadata": {
        "colab": {
          "base_uri": "https://localhost:8080/",
          "height": 0
        },
        "id": "iaKl6VUIr0o9",
        "outputId": "b314add7-72c5-4613-d2e4-6f9e57520824"
      },
      "execution_count": 59,
      "outputs": [
        {
          "output_type": "display_data",
          "data": {
            "text/plain": [
              "<Figure size 1440x360 with 1 Axes>"
            ],
            "image/png": "[encoded data removed]"
          },
          "metadata": {
            "needs_background": "light"
          }
        }
      ]
    },
    {
      "cell_type": "code",
      "source": [
        "plt.figure(figsize=(20, 5))\n",
        "sns.distplot(a=test.Neighborhood_Review)\n",
        "plt.show()"
      ],
      "metadata": {
        "colab": {
          "base_uri": "https://localhost:8080/",
          "height": 0
        },
        "id": "x7nMTVxcr1W-",
        "outputId": "ba49013e-f2ae-4b76-db70-cc3df5a43d88"
      },
      "execution_count": 60,
      "outputs": [
        {
          "output_type": "display_data",
          "data": {
            "text/plain": [
              "<Figure size 1440x360 with 1 Axes>"
            ],
            "image/png": "[encoded data removed]"
          },
          "metadata": {
            "needs_background": "light"
          }
        }
      ]
    },
    {
      "cell_type": "markdown",
      "source": [
        "# Missing values"
      ],
      "metadata": {
        "id": "ggn5tQzr_MYq"
      }
    },
    {
      "cell_type": "code",
      "source": [
        "train.isna().sum()"
      ],
      "metadata": {
        "colab": {
          "base_uri": "https://localhost:8080/"
        },
        "id": "Lz8fI1ji_ttM",
        "outputId": "3be12466-851f-40b6-c000-515ddf87c8ab"
      },
      "execution_count": 61,
      "outputs": [
        {
          "output_type": "execute_result",
          "data": {
            "text/plain": [
              "Property_ID                  0\n",
              "Property_Type                0\n",
              "Property_Area                0\n",
              "Number_of_Windows         1654\n",
              "Number_of_Doors              0\n",
              "Furnishing                1042\n",
              "Frequency_of_Powercuts    1383\n",
              "Power_Backup                 0\n",
              "Water_Supply                 0\n",
              "Traffic_Density_Score        0\n",
              "Crime_Rate                 787\n",
              "Dust_and_Noise            1219\n",
              "Air_Quality_Index            0\n",
              "Neighborhood_Review          0\n",
              "Habitability_score           0\n",
              "aqi_range                    0\n",
              "dtype: int64"
            ]
          },
          "metadata": {},
          "execution_count": 61
        }
      ]
    },
    {
      "cell_type": "code",
      "source": [
        "test.isna().sum()"
      ],
      "metadata": {
        "colab": {
          "base_uri": "https://localhost:8080/"
        },
        "id": "jBBVUMis_wa4",
        "outputId": "0753db1b-067c-4e33-e207-02313dc6456d"
      },
      "execution_count": 62,
      "outputs": [
        {
          "output_type": "execute_result",
          "data": {
            "text/plain": [
              "Property_ID                 0\n",
              "Property_Type               0\n",
              "Property_Area               0\n",
              "Number_of_Windows         445\n",
              "Number_of_Doors             0\n",
              "Furnishing                257\n",
              "Frequency_of_Powercuts    366\n",
              "Power_Backup                0\n",
              "Water_Supply                0\n",
              "Traffic_Density_Score       0\n",
              "Crime_Rate                212\n",
              "Dust_and_Noise            330\n",
              "Air_Quality_Index           0\n",
              "Neighborhood_Review         0\n",
              "aqi_range                   0\n",
              "dtype: int64"
            ]
          },
          "metadata": {},
          "execution_count": 62
        }
      ]
    },
    {
      "cell_type": "code",
      "source": [
        "features = list(test.columns)\n",
        "features.remove('Property_ID')"
      ],
      "metadata": {
        "id": "5p_x3ZbgAiwr"
      },
      "execution_count": 63,
      "outputs": []
    },
    {
      "cell_type": "markdown",
      "source": [
        "### Number_of_Windows"
      ],
      "metadata": {
        "id": "xdPgMuO64lWJ"
      }
    },
    {
      "cell_type": "code",
      "source": [
        "train.groupby('Property_Type')['Number_of_Windows'].agg(['count', 'min', 'max', 'mean', 'median'])"
      ],
      "metadata": {
        "colab": {
          "base_uri": "https://localhost:8080/",
          "height": 0
        },
        "id": "UtbvraXq4qgv",
        "outputId": "43900365-2a3c-4bb9-a6be-a68152bdd1c7"
      },
      "execution_count": 64,
      "outputs": [
        {
          "output_type": "execute_result",
          "data": {
            "text/plain": [
              "               count  min   max      mean  median\n",
              "Property_Type                                    \n",
              "0              13965  1.0   4.0  2.503473     3.0\n",
              "1              11017  2.0   5.0  3.522284     4.0\n",
              "2               5551  4.0   7.0  5.497928     5.0\n",
              "3               4079  4.0  15.0  9.368718     9.0\n",
              "4               2743  0.0   3.0  1.518410     2.0\n",
              "5                490  0.0  15.0  3.734694     3.0"
            ],
            "text/html": [
              "\n",
              "  <div id=\"df-bbc90f62-63ca-4757-a816-746e55223dde\">\n",
              "    <div class=\"colab-df-container\">\n",
              "      <div>\n",
              "<style scoped>\n",
              "    .dataframe tbody tr th:only-of-type {\n",
              "        vertical-align: middle;\n",
              "    }\n",
              "\n",
              "    .dataframe tbody tr th {\n",
              "        vertical-align: top;\n",
              "    }\n",
              "\n",
              "    .dataframe thead th {\n",
              "        text-align: right;\n",
              "    }\n",
              "</style>\n",
              "<table border=\"1\" class=\"dataframe\">\n",
              "  <thead>\n",
              "    <tr style=\"text-align: right;\">\n",
              "      <th></th>\n",
              "      <th>count</th>\n",
              "      <th>min</th>\n",
              "      <th>max</th>\n",
              "      <th>mean</th>\n",
              "      <th>median</th>\n",
              "    </tr>\n",
              "    <tr>\n",
              "      <th>Property_Type</th>\n",
              "      <th></th>\n",
              "      <th></th>\n",
              "      <th></th>\n",
              "      <th></th>\n",
              "      <th></th>\n",
              "    </tr>\n",
              "  </thead>\n",
              "  <tbody>\n",
              "    <tr>\n",
              "      <th>0</th>\n",
              "      <td>13965</td>\n",
              "      <td>1.0</td>\n",
              "      <td>4.0</td>\n",
              "      <td>2.503473</td>\n",
              "      <td>3.0</td>\n",
              "    </tr>\n",
              "    <tr>\n",
              "      <th>1</th>\n",
              "      <td>11017</td>\n",
              "      <td>2.0</td>\n",
              "      <td>5.0</td>\n",
              "      <td>3.522284</td>\n",
              "      <td>4.0</td>\n",
              "    </tr>\n",
              "    <tr>\n",
              "      <th>2</th>\n",
              "      <td>5551</td>\n",
              "      <td>4.0</td>\n",
              "      <td>7.0</td>\n",
              "      <td>5.497928</td>\n",
              "      <td>5.0</td>\n",
              "    </tr>\n",
              "    <tr>\n",
              "      <th>3</th>\n",
              "      <td>4079</td>\n",
              "      <td>4.0</td>\n",
              "      <td>15.0</td>\n",
              "      <td>9.368718</td>\n",
              "      <td>9.0</td>\n",
              "    </tr>\n",
              "    <tr>\n",
              "      <th>4</th>\n",
              "      <td>2743</td>\n",
              "      <td>0.0</td>\n",
              "      <td>3.0</td>\n",
              "      <td>1.518410</td>\n",
              "      <td>2.0</td>\n",
              "    </tr>\n",
              "    <tr>\n",
              "      <th>5</th>\n",
              "      <td>490</td>\n",
              "      <td>0.0</td>\n",
              "      <td>15.0</td>\n",
              "      <td>3.734694</td>\n",
              "      <td>3.0</td>\n",
              "    </tr>\n",
              "  </tbody>\n",
              "</table>\n",
              "</div>\n",
              "      <button class=\"colab-df-convert\" onclick=\"convertToInteractive('df-bbc90f62-63ca-4757-a816-746e55223dde')\"\n",
              "              title=\"Convert this dataframe to an interactive table.\"\n",
              "              style=\"display:none;\">\n",
              "        \n",
              "  <svg xmlns=\"http://www.w3.org/2000/svg\" height=\"24px\"viewBox=\"0 0 24 24\"\n",
              "       width=\"24px\">\n",
              "    <path d=\"M0 0h24v24H0V0z\" fill=\"none\"/>\n",
              "    <path d=\"M18.56 5.44l.94 2.06.94-2.06 2.06-.94-2.06-.94-.94-2.06-.94 2.06-2.06.94zm-11 1L8.5 8.5l.94-2.06 2.06-.94-2.06-.94L8.5 2.5l-.94 2.06-2.06.94zm10 10l.94 2.06.94-2.06 2.06-.94-2.06-.94-.94-2.06-.94 2.06-2.06.94z\"/><path d=\"M17.41 7.96l-1.37-1.37c-.4-.4-.92-.59-1.43-.59-.52 0-1.04.2-1.43.59L10.3 9.45l-7.72 7.72c-.78.78-.78 2.05 0 2.83L4 21.41c.39.39.9.59 1.41.59.51 0 1.02-.2 1.41-.59l7.78-7.78 2.81-2.81c.8-.78.8-2.07 0-2.86zM5.41 20L4 18.59l7.72-7.72 1.47 1.35L5.41 20z\"/>\n",
              "  </svg>\n",
              "      </button>\n",
              "      \n",
              "  <style>\n",
              "    .colab-df-container {\n",
              "      display:flex;\n",
              "      flex-wrap:wrap;\n",
              "      gap: 12px;\n",
              "    }\n",
              "\n",
              "    .colab-df-convert {\n",
              "      background-color: #E8F0FE;\n",
              "      border: none;\n",
              "      border-radius: 50%;\n",
              "      cursor: pointer;\n",
              "      display: none;\n",
              "      fill: #1967D2;\n",
              "      height: 32px;\n",
              "      padding: 0 0 0 0;\n",
              "      width: 32px;\n",
              "    }\n",
              "\n",
              "    .colab-df-convert:hover {\n",
              "      background-color: #E2EBFA;\n",
              "      box-shadow: 0px 1px 2px rgba(60, 64, 67, 0.3), 0px 1px 3px 1px rgba(60, 64, 67, 0.15);\n",
              "      fill: #174EA6;\n",
              "    }\n",
              "\n",
              "    [theme=dark] .colab-df-convert {\n",
              "      background-color: #3B4455;\n",
              "      fill: #D2E3FC;\n",
              "    }\n",
              "\n",
              "    [theme=dark] .colab-df-convert:hover {\n",
              "      background-color: #434B5C;\n",
              "      box-shadow: 0px 1px 3px 1px rgba(0, 0, 0, 0.15);\n",
              "      filter: drop-shadow(0px 1px 2px rgba(0, 0, 0, 0.3));\n",
              "      fill: #FFFFFF;\n",
              "    }\n",
              "  </style>\n",
              "\n",
              "      <script>\n",
              "        const buttonEl =\n",
              "          document.querySelector('#df-bbc90f62-63ca-4757-a816-746e55223dde button.colab-df-convert');\n",
              "        buttonEl.style.display =\n",
              "          google.colab.kernel.accessAllowed ? 'block' : 'none';\n",
              "\n",
              "        async function convertToInteractive(key) {\n",
              "          const element = document.querySelector('#df-bbc90f62-63ca-4757-a816-746e55223dde');\n",
              "          const dataTable =\n",
              "            await google.colab.kernel.invokeFunction('convertToInteractive',\n",
              "                                                     [key], {});\n",
              "          if (!dataTable) return;\n",
              "\n",
              "          const docLinkHtml = 'Like what you see? Visit the ' +\n",
              "            '<a target=\"_blank\" href=https://colab.research.google.com/notebooks/data_table.ipynb>data table notebook</a>'\n",
              "            + ' to learn more about interactive tables.';\n",
              "          element.innerHTML = '';\n",
              "          dataTable['output_type'] = 'display_data';\n",
              "          await google.colab.output.renderOutput(dataTable, element);\n",
              "          const docLink = document.createElement('div');\n",
              "          docLink.innerHTML = docLinkHtml;\n",
              "          element.appendChild(docLink);\n",
              "        }\n",
              "      </script>\n",
              "    </div>\n",
              "  </div>\n",
              "  "
            ]
          },
          "metadata": {},
          "execution_count": 64
        }
      ]
    },
    {
      "cell_type": "code",
      "source": [
        "train.groupby('Property_Type')['Number_of_Windows'].transform('median')"
      ],
      "metadata": {
        "colab": {
          "base_uri": "https://localhost:8080/"
        },
        "id": "cBIEpzp2CLf3",
        "outputId": "678d9c2e-fc71-42d8-ca08-c901bad0f238"
      },
      "execution_count": 65,
      "outputs": [
        {
          "output_type": "execute_result",
          "data": {
            "text/plain": [
              "0        3.0\n",
              "1        3.0\n",
              "2        3.0\n",
              "3        3.0\n",
              "4        9.0\n",
              "        ... \n",
              "39494    4.0\n",
              "39495    3.0\n",
              "39496    9.0\n",
              "39497    4.0\n",
              "39498    4.0\n",
              "Name: Number_of_Windows, Length: 39499, dtype: float64"
            ]
          },
          "metadata": {},
          "execution_count": 65
        }
      ]
    },
    {
      "cell_type": "code",
      "source": [
        "train['Number_of_Windows'] = train['Number_of_Windows'].fillna(\n",
        "    train.groupby('Property_Type')['Number_of_Windows'].transform('median')).astype('int')\n",
        "\n",
        "test['Number_of_Windows'] = test['Number_of_Windows'].fillna(\n",
        "    test.groupby('Property_Type')['Number_of_Windows'].transform('median')).astype('int')"
      ],
      "metadata": {
        "id": "-6VTPJF09yfY"
      },
      "execution_count": 66,
      "outputs": []
    },
    {
      "cell_type": "markdown",
      "source": [
        "### Furnishing"
      ],
      "metadata": {
        "id": "BEHW34PjIPgA"
      }
    },
    {
      "cell_type": "code",
      "source": [
        "train.groupby('Property_Type')['Furnishing'].value_counts(normalize=True, dropna=False)"
      ],
      "metadata": {
        "colab": {
          "base_uri": "https://localhost:8080/"
        },
        "id": "DyNa7HYcIcPA",
        "outputId": "c563f5d9-6446-41bb-8cfe-5907c7ebd310"
      },
      "execution_count": 67,
      "outputs": [
        {
          "output_type": "execute_result",
          "data": {
            "text/plain": [
              "Property_Type  Furnishing\n",
              "0              1.0           0.515552\n",
              "               0.0           0.264799\n",
              "               2.0           0.194231\n",
              "               NaN           0.025418\n",
              "1              1.0           0.517470\n",
              "               0.0           0.258866\n",
              "               2.0           0.197003\n",
              "               NaN           0.026662\n",
              "2              1.0           0.524457\n",
              "               0.0           0.252325\n",
              "               2.0           0.194282\n",
              "               NaN           0.028936\n",
              "3              1.0           0.497404\n",
              "               0.0           0.276546\n",
              "               2.0           0.197971\n",
              "               NaN           0.028079\n",
              "4              1.0           0.518106\n",
              "               0.0           0.258357\n",
              "               2.0           0.201950\n",
              "               NaN           0.021588\n",
              "5              1.0           0.494118\n",
              "               0.0           0.252941\n",
              "               2.0           0.221569\n",
              "               NaN           0.031373\n",
              "Name: Furnishing, dtype: float64"
            ]
          },
          "metadata": {},
          "execution_count": 67
        }
      ]
    },
    {
      "cell_type": "code",
      "source": [
        "train['Furnishing'] = train['Furnishing'].fillna(1).astype('int')\n",
        "test['Furnishing'] = test['Furnishing'].fillna(1).astype('int')"
      ],
      "metadata": {
        "id": "JmdSPn43JEWH"
      },
      "execution_count": 68,
      "outputs": []
    },
    {
      "cell_type": "markdown",
      "source": [
        "### Frequency_of_Powercuts"
      ],
      "metadata": {
        "id": "zh4ywX2YY66F"
      }
    },
    {
      "cell_type": "code",
      "source": [
        "train.Frequency_of_Powercuts.value_counts(dropna=False)"
      ],
      "metadata": {
        "colab": {
          "base_uri": "https://localhost:8080/"
        },
        "id": "YUNiNsXSZB2Q",
        "outputId": "7a9cb093-028b-4693-e5ba-f8b3c601f477"
      },
      "execution_count": 69,
      "outputs": [
        {
          "output_type": "execute_result",
          "data": {
            "text/plain": [
              "0.0    24471\n",
              "1.0    10010\n",
              "2.0     2441\n",
              "NaN     1383\n",
              "3.0     1194\n",
              "Name: Frequency_of_Powercuts, dtype: int64"
            ]
          },
          "metadata": {},
          "execution_count": 69
        }
      ]
    },
    {
      "cell_type": "code",
      "source": [
        "train['Frequency_of_Powercuts'] = train['Frequency_of_Powercuts'].fillna(0).astype('int')\n",
        "test['Frequency_of_Powercuts'] = test['Frequency_of_Powercuts'].fillna(0).astype('int')"
      ],
      "metadata": {
        "id": "QAoI5c7kZR95"
      },
      "execution_count": 70,
      "outputs": []
    },
    {
      "cell_type": "markdown",
      "source": [
        "### Crime_Rate"
      ],
      "metadata": {
        "id": "s4BPu6DwZdQj"
      }
    },
    {
      "cell_type": "code",
      "source": [
        "train.Crime_Rate.value_counts(normalize=True, dropna=False)"
      ],
      "metadata": {
        "colab": {
          "base_uri": "https://localhost:8080/"
        },
        "id": "QgI_H0vlZirU",
        "outputId": "b0403f9c-9e25-4012-b7bd-accbc39f5e57"
      },
      "execution_count": 71,
      "outputs": [
        {
          "output_type": "execute_result",
          "data": {
            "text/plain": [
              "0.0    0.492975\n",
              "1.0    0.293172\n",
              "2.0    0.134257\n",
              "3.0    0.059672\n",
              "NaN    0.019925\n",
              "Name: Crime_Rate, dtype: float64"
            ]
          },
          "metadata": {},
          "execution_count": 71
        }
      ]
    },
    {
      "cell_type": "code",
      "source": [
        "train['Crime_Rate'] = train['Crime_Rate'].fillna(0).astype('int')\n",
        "test['Crime_Rate'] = test['Crime_Rate'].fillna(0).astype('int')"
      ],
      "metadata": {
        "id": "4o_5nqaAZxvT"
      },
      "execution_count": 72,
      "outputs": []
    },
    {
      "cell_type": "markdown",
      "source": [
        "### Dust_and_Noise"
      ],
      "metadata": {
        "id": "_13iX6P8aGu0"
      }
    },
    {
      "cell_type": "code",
      "source": [
        "train.Dust_and_Noise.value_counts(normalize=True, dropna=False)"
      ],
      "metadata": {
        "colab": {
          "base_uri": "https://localhost:8080/"
        },
        "id": "JPt7YgjgaQTm",
        "outputId": "cb54e954-df61-4bef-c87e-c81941f28440"
      },
      "execution_count": 73,
      "outputs": [
        {
          "output_type": "execute_result",
          "data": {
            "text/plain": [
              "1.0    0.835363\n",
              "2.0    0.081319\n",
              "0.0    0.052457\n",
              "NaN    0.030862\n",
              "Name: Dust_and_Noise, dtype: float64"
            ]
          },
          "metadata": {},
          "execution_count": 73
        }
      ]
    },
    {
      "cell_type": "code",
      "source": [
        "train.groupby('Dust_and_Noise')['aqi_range'].value_counts(normalize=True, sort=False)"
      ],
      "metadata": {
        "colab": {
          "base_uri": "https://localhost:8080/"
        },
        "id": "P7KTwbvraZbq",
        "outputId": "655571bd-317d-42da-d52b-098cbe2bfc60"
      },
      "execution_count": 74,
      "outputs": [
        {
          "output_type": "execute_result",
          "data": {
            "text/plain": [
              "Dust_and_Noise  aqi_range\n",
              "0.0             0            0.360521\n",
              "                1            0.431467\n",
              "                2            0.156371\n",
              "                3            0.043436\n",
              "                4            0.000965\n",
              "                5            0.007239\n",
              "1.0             0            0.000667\n",
              "                1            0.325403\n",
              "                2            0.526276\n",
              "                3            0.138744\n",
              "                4            0.000788\n",
              "                5            0.008122\n",
              "2.0             0            0.005915\n",
              "                1            0.054172\n",
              "                2            0.401619\n",
              "                3            0.529265\n",
              "                4            0.000623\n",
              "                5            0.008406\n",
              "Name: aqi_range, dtype: float64"
            ]
          },
          "metadata": {},
          "execution_count": 74
        }
      ]
    },
    {
      "cell_type": "code",
      "source": [
        "missing_mask = train['Dust_and_Noise'].isna()\n",
        "fill_mapping = {0: 0, 1: 0, 2: 1, 3: 2, 4: 2, 5: 2} #aqi_range: Dust_and_Noise\n",
        "train.loc[missing_mask, 'Dust_and_Noise'] = train.loc[missing_mask, 'aqi_range'].map(fill_mapping)"
      ],
      "metadata": {
        "id": "SCxveLZRa43b"
      },
      "execution_count": 75,
      "outputs": []
    },
    {
      "cell_type": "code",
      "source": [
        "missing_mask = test['Dust_and_Noise'].isna()\n",
        "test.loc[missing_mask, 'Dust_and_Noise'] = test.loc[missing_mask, 'aqi_range'].map(fill_mapping)"
      ],
      "metadata": {
        "id": "suFvQATRtaX1"
      },
      "execution_count": 76,
      "outputs": []
    },
    {
      "cell_type": "code",
      "source": [
        "train['Dust_and_Noise'] = train['Dust_and_Noise'].astype('int')\n",
        "test['Dust_and_Noise'] = test['Dust_and_Noise'].astype('int')"
      ],
      "metadata": {
        "id": "BoZ806AIG40f"
      },
      "execution_count": 77,
      "outputs": []
    },
    {
      "cell_type": "markdown",
      "source": [
        "# Feature Selection"
      ],
      "metadata": {
        "id": "te1Zmm5bs8_x"
      }
    },
    {
      "cell_type": "code",
      "source": [
        "num_features = ['Property_Area', 'Number_of_Windows', \n",
        "                'Number_of_Doors', 'Traffic_Density_Score', \n",
        "                'Air_Quality_Index', 'Neighborhood_Review']\n",
        "\n",
        "cat_features = [f for f in features if f not in num_features]"
      ],
      "metadata": {
        "id": "bTO9wnT05vVF"
      },
      "execution_count": 78,
      "outputs": []
    },
    {
      "cell_type": "markdown",
      "source": [
        "### Pearson correlation (numerical-numerical)"
      ],
      "metadata": {
        "id": "aGv5jH3h9h_r"
      }
    },
    {
      "cell_type": "code",
      "source": [
        "pearson_df = train[num_features + [TARGET]].corr()"
      ],
      "metadata": {
        "id": "BoAih4Zg5oH0"
      },
      "execution_count": 79,
      "outputs": []
    },
    {
      "cell_type": "code",
      "source": [
        "plt.figure(figsize=(7, 7))\n",
        "sns.heatmap(pearson_df, vmin=-1, vmax=1, center=0, annot=True, linewidths=0.1)\n",
        "plt.show()"
      ],
      "metadata": {
        "colab": {
          "base_uri": "https://localhost:8080/",
          "height": 0
        },
        "id": "q3Tanagp7WKw",
        "outputId": "05dcd9b3-88fa-4bff-8d21-c5c56392e7a2"
      },
      "execution_count": 80,
      "outputs": [
        {
          "output_type": "display_data",
          "data": {
            "text/plain": [
              "<Figure size 504x504 with 2 Axes>"
            ],
            "image/png": "[encoded data removed]"
          },
          "metadata": {
            "needs_background": "light"
          }
        }
      ]
    },
    {
      "cell_type": "markdown",
      "source": [
        "### Kendall-tau correlation (categorical-numerical)"
      ],
      "metadata": {
        "id": "zpMomK2z_4Yb"
      }
    },
    {
      "cell_type": "code",
      "source": [
        "kendall_df = train[cat_features + [TARGET]].corr(method='kendall')"
      ],
      "metadata": {
        "id": "lIisO9q-8Imb"
      },
      "execution_count": 81,
      "outputs": []
    },
    {
      "cell_type": "code",
      "source": [
        "plt.figure(figsize=(9, 9))\n",
        "sns.heatmap(kendall_df, vmin=-1, vmax=1, center=0, annot=True, linewidths=0.1)\n",
        "plt.show()"
      ],
      "metadata": {
        "colab": {
          "base_uri": "https://localhost:8080/",
          "height": 0
        },
        "id": "QlHrOt8TGnyv",
        "outputId": "02de2cfd-17d8-47bf-bb98-f67137882537"
      },
      "execution_count": 82,
      "outputs": [
        {
          "output_type": "display_data",
          "data": {
            "text/plain": [
              "<Figure size 648x648 with 2 Axes>"
            ],
            "image/png": "[encoded data removed]"
          },
          "metadata": {
            "needs_background": "light"
          }
        }
      ]
    },
    {
      "cell_type": "markdown",
      "source": [
        "### ANOVA"
      ],
      "metadata": {
        "id": "xz7XoDRvHGHe"
      }
    },
    {
      "cell_type": "code",
      "source": [
        "anova_test = f_classif(train[cat_features], train[TARGET])\n",
        "\n",
        "pd.DataFrame(\n",
        "    data={\n",
        "        'f-statistic': anova_test[0], \n",
        "        'p-value': anova_test[1],\n",
        "        'accepted?': anova_test[1] < 0.05\n",
        "    },\n",
        "    index=cat_features\n",
        ")"
      ],
      "metadata": {
        "colab": {
          "base_uri": "https://localhost:8080/",
          "height": 0
        },
        "id": "tiD_nNZYGq1C",
        "outputId": "f1e195e5-414e-4f2f-a29b-c8e7a6aab6cc"
      },
      "execution_count": 83,
      "outputs": [
        {
          "output_type": "execute_result",
          "data": {
            "text/plain": [
              "                        f-statistic        p-value  accepted?\n",
              "Property_Type              1.039516   2.374192e-02       True\n",
              "Furnishing                 2.320077   0.000000e+00       True\n",
              "Frequency_of_Powercuts     1.717685  1.034568e-187       True\n",
              "Power_Backup               1.207958   5.052446e-23       True\n",
              "Water_Supply               1.344788   6.081974e-55       True\n",
              "Crime_Rate                 2.756362   0.000000e+00       True\n",
              "Dust_and_Noise             1.315662   3.376292e-47       True\n",
              "aqi_range                  1.053773   3.668493e-03       True"
            ],
            "text/html": [
              "\n",
              "  <div id=\"df-5ab9e639-4cf7-46af-8187-e8efd5bcf397\">\n",
              "    <div class=\"colab-df-container\">\n",
              "      <div>\n",
              "<style scoped>\n",
              "    .dataframe tbody tr th:only-of-type {\n",
              "        vertical-align: middle;\n",
              "    }\n",
              "\n",
              "    .dataframe tbody tr th {\n",
              "        vertical-align: top;\n",
              "    }\n",
              "\n",
              "    .dataframe thead th {\n",
              "        text-align: right;\n",
              "    }\n",
              "</style>\n",
              "<table border=\"1\" class=\"dataframe\">\n",
              "  <thead>\n",
              "    <tr style=\"text-align: right;\">\n",
              "      <th></th>\n",
              "      <th>f-statistic</th>\n",
              "      <th>p-value</th>\n",
              "      <th>accepted?</th>\n",
              "    </tr>\n",
              "  </thead>\n",
              "  <tbody>\n",
              "    <tr>\n",
              "      <th>Property_Type</th>\n",
              "      <td>1.039516</td>\n",
              "      <td>2.374192e-02</td>\n",
              "      <td>True</td>\n",
              "    </tr>\n",
              "    <tr>\n",
              "      <th>Furnishing</th>\n",
              "      <td>2.320077</td>\n",
              "      <td>0.000000e+00</td>\n",
              "      <td>True</td>\n",
              "    </tr>\n",
              "    <tr>\n",
              "      <th>Frequency_of_Powercuts</th>\n",
              "      <td>1.717685</td>\n",
              "      <td>1.034568e-187</td>\n",
              "      <td>True</td>\n",
              "    </tr>\n",
              "    <tr>\n",
              "      <th>Power_Backup</th>\n",
              "      <td>1.207958</td>\n",
              "      <td>5.052446e-23</td>\n",
              "      <td>True</td>\n",
              "    </tr>\n",
              "    <tr>\n",
              "      <th>Water_Supply</th>\n",
              "      <td>1.344788</td>\n",
              "      <td>6.081974e-55</td>\n",
              "      <td>True</td>\n",
              "    </tr>\n",
              "    <tr>\n",
              "      <th>Crime_Rate</th>\n",
              "      <td>2.756362</td>\n",
              "      <td>0.000000e+00</td>\n",
              "      <td>True</td>\n",
              "    </tr>\n",
              "    <tr>\n",
              "      <th>Dust_and_Noise</th>\n",
              "      <td>1.315662</td>\n",
              "      <td>3.376292e-47</td>\n",
              "      <td>True</td>\n",
              "    </tr>\n",
              "    <tr>\n",
              "      <th>aqi_range</th>\n",
              "      <td>1.053773</td>\n",
              "      <td>3.668493e-03</td>\n",
              "      <td>True</td>\n",
              "    </tr>\n",
              "  </tbody>\n",
              "</table>\n",
              "</div>\n",
              "      <button class=\"colab-df-convert\" onclick=\"convertToInteractive('df-5ab9e639-4cf7-46af-8187-e8efd5bcf397')\"\n",
              "              title=\"Convert this dataframe to an interactive table.\"\n",
              "              style=\"display:none;\">\n",
              "        \n",
              "  <svg xmlns=\"http://www.w3.org/2000/svg\" height=\"24px\"viewBox=\"0 0 24 24\"\n",
              "       width=\"24px\">\n",
              "    <path d=\"M0 0h24v24H0V0z\" fill=\"none\"/>\n",
              "    <path d=\"M18.56 5.44l.94 2.06.94-2.06 2.06-.94-2.06-.94-.94-2.06-.94 2.06-2.06.94zm-11 1L8.5 8.5l.94-2.06 2.06-.94-2.06-.94L8.5 2.5l-.94 2.06-2.06.94zm10 10l.94 2.06.94-2.06 2.06-.94-2.06-.94-.94-2.06-.94 2.06-2.06.94z\"/><path d=\"M17.41 7.96l-1.37-1.37c-.4-.4-.92-.59-1.43-.59-.52 0-1.04.2-1.43.59L10.3 9.45l-7.72 7.72c-.78.78-.78 2.05 0 2.83L4 21.41c.39.39.9.59 1.41.59.51 0 1.02-.2 1.41-.59l7.78-7.78 2.81-2.81c.8-.78.8-2.07 0-2.86zM5.41 20L4 18.59l7.72-7.72 1.47 1.35L5.41 20z\"/>\n",
              "  </svg>\n",
              "      </button>\n",
              "      \n",
              "  <style>\n",
              "    .colab-df-container {\n",
              "      display:flex;\n",
              "      flex-wrap:wrap;\n",
              "      gap: 12px;\n",
              "    }\n",
              "\n",
              "    .colab-df-convert {\n",
              "      background-color: #E8F0FE;\n",
              "      border: none;\n",
              "      border-radius: 50%;\n",
              "      cursor: pointer;\n",
              "      display: none;\n",
              "      fill: #1967D2;\n",
              "      height: 32px;\n",
              "      padding: 0 0 0 0;\n",
              "      width: 32px;\n",
              "    }\n",
              "\n",
              "    .colab-df-convert:hover {\n",
              "      background-color: #E2EBFA;\n",
              "      box-shadow: 0px 1px 2px rgba(60, 64, 67, 0.3), 0px 1px 3px 1px rgba(60, 64, 67, 0.15);\n",
              "      fill: #174EA6;\n",
              "    }\n",
              "\n",
              "    [theme=dark] .colab-df-convert {\n",
              "      background-color: #3B4455;\n",
              "      fill: #D2E3FC;\n",
              "    }\n",
              "\n",
              "    [theme=dark] .colab-df-convert:hover {\n",
              "      background-color: #434B5C;\n",
              "      box-shadow: 0px 1px 3px 1px rgba(0, 0, 0, 0.15);\n",
              "      filter: drop-shadow(0px 1px 2px rgba(0, 0, 0, 0.3));\n",
              "      fill: #FFFFFF;\n",
              "    }\n",
              "  </style>\n",
              "\n",
              "      <script>\n",
              "        const buttonEl =\n",
              "          document.querySelector('#df-5ab9e639-4cf7-46af-8187-e8efd5bcf397 button.colab-df-convert');\n",
              "        buttonEl.style.display =\n",
              "          google.colab.kernel.accessAllowed ? 'block' : 'none';\n",
              "\n",
              "        async function convertToInteractive(key) {\n",
              "          const element = document.querySelector('#df-5ab9e639-4cf7-46af-8187-e8efd5bcf397');\n",
              "          const dataTable =\n",
              "            await google.colab.kernel.invokeFunction('convertToInteractive',\n",
              "                                                     [key], {});\n",
              "          if (!dataTable) return;\n",
              "\n",
              "          const docLinkHtml = 'Like what you see? Visit the ' +\n",
              "            '<a target=\"_blank\" href=https://colab.research.google.com/notebooks/data_table.ipynb>data table notebook</a>'\n",
              "            + ' to learn more about interactive tables.';\n",
              "          element.innerHTML = '';\n",
              "          dataTable['output_type'] = 'display_data';\n",
              "          await google.colab.output.renderOutput(dataTable, element);\n",
              "          const docLink = document.createElement('div');\n",
              "          docLink.innerHTML = docLinkHtml;\n",
              "          element.appendChild(docLink);\n",
              "        }\n",
              "      </script>\n",
              "    </div>\n",
              "  </div>\n",
              "  "
            ]
          },
          "metadata": {},
          "execution_count": 83
        }
      ]
    },
    {
      "cell_type": "markdown",
      "source": [
        "### Mutual Information score"
      ],
      "metadata": {
        "id": "pWTev6jC_Pob"
      }
    },
    {
      "cell_type": "code",
      "source": [
        "cat_mask = [(f in cat_features) for f in features] #boolean mask for discrete features\n",
        "\n",
        "mi_scores = mutual_info_regression(train[features], train[TARGET], \n",
        "                                   discrete_features=cat_mask, \n",
        "                                   random_state=SEED)\n",
        "\n",
        "mi_score_percent = mi_scores / sum(mi_scores) * 100\n",
        "\n",
        "pd.DataFrame(\n",
        "    data={'mi_score': mi_scores,\n",
        "          'mi_score_percent': mi_score_percent}, \n",
        "    index=features\n",
        ")"
      ],
      "metadata": {
        "id": "3CxGfDBPINkb",
        "colab": {
          "base_uri": "https://localhost:8080/",
          "height": 0
        },
        "outputId": "338c8a9e-47ab-45be-c26a-00ddf0c70a58"
      },
      "execution_count": 84,
      "outputs": [
        {
          "output_type": "execute_result",
          "data": {
            "text/plain": [
              "                        mi_score  mi_score_percent\n",
              "Property_Type           0.012187          2.251851\n",
              "Property_Area           0.008170          1.509624\n",
              "Number_of_Windows       0.010641          1.966206\n",
              "Number_of_Doors         0.001156          0.213527\n",
              "Furnishing              0.110982         20.507283\n",
              "Frequency_of_Powercuts  0.020330          3.756552\n",
              "Power_Backup            0.051339          9.486368\n",
              "Water_Supply            0.019459          3.595576\n",
              "Traffic_Density_Score   0.012219          2.257853\n",
              "Crime_Rate              0.091969         16.994059\n",
              "Dust_and_Noise          0.007939          1.466947\n",
              "Air_Quality_Index       0.009879          1.825458\n",
              "Neighborhood_Review     0.183504         33.907827\n",
              "aqi_range               0.001412          0.260870"
            ],
            "text/html": [
              "\n",
              "  <div id=\"df-21d9ebf2-715a-4c2f-971b-63fb5718aaac\">\n",
              "    <div class=\"colab-df-container\">\n",
              "      <div>\n",
              "<style scoped>\n",
              "    .dataframe tbody tr th:only-of-type {\n",
              "        vertical-align: middle;\n",
              "    }\n",
              "\n",
              "    .dataframe tbody tr th {\n",
              "        vertical-align: top;\n",
              "    }\n",
              "\n",
              "    .dataframe thead th {\n",
              "        text-align: right;\n",
              "    }\n",
              "</style>\n",
              "<table border=\"1\" class=\"dataframe\">\n",
              "  <thead>\n",
              "    <tr style=\"text-align: right;\">\n",
              "      <th></th>\n",
              "      <th>mi_score</th>\n",
              "      <th>mi_score_percent</th>\n",
              "    </tr>\n",
              "  </thead>\n",
              "  <tbody>\n",
              "    <tr>\n",
              "      <th>Property_Type</th>\n",
              "      <td>0.012187</td>\n",
              "      <td>2.251851</td>\n",
              "    </tr>\n",
              "    <tr>\n",
              "      <th>Property_Area</th>\n",
              "      <td>0.008170</td>\n",
              "      <td>1.509624</td>\n",
              "    </tr>\n",
              "    <tr>\n",
              "      <th>Number_of_Windows</th>\n",
              "      <td>0.010641</td>\n",
              "      <td>1.966206</td>\n",
              "    </tr>\n",
              "    <tr>\n",
              "      <th>Number_of_Doors</th>\n",
              "      <td>0.001156</td>\n",
              "      <td>0.213527</td>\n",
              "    </tr>\n",
              "    <tr>\n",
              "      <th>Furnishing</th>\n",
              "      <td>0.110982</td>\n",
              "      <td>20.507283</td>\n",
              "    </tr>\n",
              "    <tr>\n",
              "      <th>Frequency_of_Powercuts</th>\n",
              "      <td>0.020330</td>\n",
              "      <td>3.756552</td>\n",
              "    </tr>\n",
              "    <tr>\n",
              "      <th>Power_Backup</th>\n",
              "      <td>0.051339</td>\n",
              "      <td>9.486368</td>\n",
              "    </tr>\n",
              "    <tr>\n",
              "      <th>Water_Supply</th>\n",
              "      <td>0.019459</td>\n",
              "      <td>3.595576</td>\n",
              "    </tr>\n",
              "    <tr>\n",
              "      <th>Traffic_Density_Score</th>\n",
              "      <td>0.012219</td>\n",
              "      <td>2.257853</td>\n",
              "    </tr>\n",
              "    <tr>\n",
              "      <th>Crime_Rate</th>\n",
              "      <td>0.091969</td>\n",
              "      <td>16.994059</td>\n",
              "    </tr>\n",
              "    <tr>\n",
              "      <th>Dust_and_Noise</th>\n",
              "      <td>0.007939</td>\n",
              "      <td>1.466947</td>\n",
              "    </tr>\n",
              "    <tr>\n",
              "      <th>Air_Quality_Index</th>\n",
              "      <td>0.009879</td>\n",
              "      <td>1.825458</td>\n",
              "    </tr>\n",
              "    <tr>\n",
              "      <th>Neighborhood_Review</th>\n",
              "      <td>0.183504</td>\n",
              "      <td>33.907827</td>\n",
              "    </tr>\n",
              "    <tr>\n",
              "      <th>aqi_range</th>\n",
              "      <td>0.001412</td>\n",
              "      <td>0.260870</td>\n",
              "    </tr>\n",
              "  </tbody>\n",
              "</table>\n",
              "</div>\n",
              "      <button class=\"colab-df-convert\" onclick=\"convertToInteractive('df-21d9ebf2-715a-4c2f-971b-63fb5718aaac')\"\n",
              "              title=\"Convert this dataframe to an interactive table.\"\n",
              "              style=\"display:none;\">\n",
              "        \n",
              "  <svg xmlns=\"http://www.w3.org/2000/svg\" height=\"24px\"viewBox=\"0 0 24 24\"\n",
              "       width=\"24px\">\n",
              "    <path d=\"M0 0h24v24H0V0z\" fill=\"none\"/>\n",
              "    <path d=\"M18.56 5.44l.94 2.06.94-2.06 2.06-.94-2.06-.94-.94-2.06-.94 2.06-2.06.94zm-11 1L8.5 8.5l.94-2.06 2.06-.94-2.06-.94L8.5 2.5l-.94 2.06-2.06.94zm10 10l.94 2.06.94-2.06 2.06-.94-2.06-.94-.94-2.06-.94 2.06-2.06.94z\"/><path d=\"M17.41 7.96l-1.37-1.37c-.4-.4-.92-.59-1.43-.59-.52 0-1.04.2-1.43.59L10.3 9.45l-7.72 7.72c-.78.78-.78 2.05 0 2.83L4 21.41c.39.39.9.59 1.41.59.51 0 1.02-.2 1.41-.59l7.78-7.78 2.81-2.81c.8-.78.8-2.07 0-2.86zM5.41 20L4 18.59l7.72-7.72 1.47 1.35L5.41 20z\"/>\n",
              "  </svg>\n",
              "      </button>\n",
              "      \n",
              "  <style>\n",
              "    .colab-df-container {\n",
              "      display:flex;\n",
              "      flex-wrap:wrap;\n",
              "      gap: 12px;\n",
              "    }\n",
              "\n",
              "    .colab-df-convert {\n",
              "      background-color: #E8F0FE;\n",
              "      border: none;\n",
              "      border-radius: 50%;\n",
              "      cursor: pointer;\n",
              "      display: none;\n",
              "      fill: #1967D2;\n",
              "      height: 32px;\n",
              "      padding: 0 0 0 0;\n",
              "      width: 32px;\n",
              "    }\n",
              "\n",
              "    .colab-df-convert:hover {\n",
              "      background-color: #E2EBFA;\n",
              "      box-shadow: 0px 1px 2px rgba(60, 64, 67, 0.3), 0px 1px 3px 1px rgba(60, 64, 67, 0.15);\n",
              "      fill: #174EA6;\n",
              "    }\n",
              "\n",
              "    [theme=dark] .colab-df-convert {\n",
              "      background-color: #3B4455;\n",
              "      fill: #D2E3FC;\n",
              "    }\n",
              "\n",
              "    [theme=dark] .colab-df-convert:hover {\n",
              "      background-color: #434B5C;\n",
              "      box-shadow: 0px 1px 3px 1px rgba(0, 0, 0, 0.15);\n",
              "      filter: drop-shadow(0px 1px 2px rgba(0, 0, 0, 0.3));\n",
              "      fill: #FFFFFF;\n",
              "    }\n",
              "  </style>\n",
              "\n",
              "      <script>\n",
              "        const buttonEl =\n",
              "          document.querySelector('#df-21d9ebf2-715a-4c2f-971b-63fb5718aaac button.colab-df-convert');\n",
              "        buttonEl.style.display =\n",
              "          google.colab.kernel.accessAllowed ? 'block' : 'none';\n",
              "\n",
              "        async function convertToInteractive(key) {\n",
              "          const element = document.querySelector('#df-21d9ebf2-715a-4c2f-971b-63fb5718aaac');\n",
              "          const dataTable =\n",
              "            await google.colab.kernel.invokeFunction('convertToInteractive',\n",
              "                                                     [key], {});\n",
              "          if (!dataTable) return;\n",
              "\n",
              "          const docLinkHtml = 'Like what you see? Visit the ' +\n",
              "            '<a target=\"_blank\" href=https://colab.research.google.com/notebooks/data_table.ipynb>data table notebook</a>'\n",
              "            + ' to learn more about interactive tables.';\n",
              "          element.innerHTML = '';\n",
              "          dataTable['output_type'] = 'display_data';\n",
              "          await google.colab.output.renderOutput(dataTable, element);\n",
              "          const docLink = document.createElement('div');\n",
              "          docLink.innerHTML = docLinkHtml;\n",
              "          element.appendChild(docLink);\n",
              "        }\n",
              "      </script>\n",
              "    </div>\n",
              "  </div>\n",
              "  "
            ]
          },
          "metadata": {},
          "execution_count": 84
        }
      ]
    },
    {
      "cell_type": "markdown",
      "source": [
        "### Variance Inflation Factor"
      ],
      "metadata": {
        "id": "jEZgHdJs3wqJ"
      }
    },
    {
      "cell_type": "code",
      "source": [
        "%%capture\n",
        "!pip install --upgrade statsmodels==0.13.2\n",
        "from statsmodels.stats.outliers_influence import variance_inflation_factor"
      ],
      "metadata": {
        "id": "avE_AXt18KcR"
      },
      "execution_count": 85,
      "outputs": []
    },
    {
      "cell_type": "code",
      "source": [
        "def remove_vif_features(X: pd.DataFrame, threshold: float = 5.0) -> list:\n",
        "    \"\"\"Remove feature with highest Variance Inflation Factor\n",
        "    at every iteration until all remaining features are below\n",
        "    a certain threshold.\n",
        "    \"\"\"\n",
        "    i = 0\n",
        "    while True:\n",
        "        vif = [variance_inflation_factor(X, i) for i in range(X.shape[1])]\n",
        "        max_vif = np.max(vif)\n",
        "\n",
        "        if max_vif <= threshold:\n",
        "            break\n",
        "\n",
        "        i += 1\n",
        "        col_to_remove = X.columns[np.argmax(vif)]\n",
        "        print(f\"Iteration {i}: {col_to_remove:20} ({max_vif:.4f})\")\n",
        "        X.drop(col_to_remove, axis=1, inplace=True)\n",
        "\n",
        "    if i == 0:\n",
        "        print(f\"No columns removed\")\n",
        "    else:\n",
        "        print(pd.DataFrame({\"Feature\": X.columns, \"VIF\": vif}))\n",
        "\n",
        "    return list(X.columns)"
      ],
      "metadata": {
        "id": "liWIoP7u0osx"
      },
      "execution_count": 86,
      "outputs": []
    },
    {
      "cell_type": "markdown",
      "source": [
        "**checking redundant features at different thresholds** (most redundant feature removed at each iteration)"
      ],
      "metadata": {
        "id": "5Uitsgn9_p0X"
      }
    },
    {
      "cell_type": "code",
      "source": [
        "_ = remove_vif_features(train[num_features].copy(), 10) #lenient threshold"
      ],
      "metadata": {
        "colab": {
          "base_uri": "https://localhost:8080/"
        },
        "id": "sEF-RiCX39iE",
        "outputId": "0df27d91-7b07-4147-82c3-0390a1c9f1ef"
      },
      "execution_count": 87,
      "outputs": [
        {
          "output_type": "stream",
          "name": "stdout",
          "text": [
            "Iteration 1: Traffic_Density_Score (17.5697)\n",
            "               Feature       VIF\n",
            "0        Property_Area  1.655423\n",
            "1    Number_of_Windows  3.883442\n",
            "2      Number_of_Doors  5.479926\n",
            "3    Air_Quality_Index  4.158413\n",
            "4  Neighborhood_Review  6.722730\n"
          ]
        }
      ]
    },
    {
      "cell_type": "code",
      "source": [
        "_ = remove_vif_features(train[num_features].copy(), 5) #rule-of-thumb threshold"
      ],
      "metadata": {
        "colab": {
          "base_uri": "https://localhost:8080/"
        },
        "id": "S7wvCjEe4AjN",
        "outputId": "bc9cbbdb-04cc-4f91-a19e-00349c5610aa"
      },
      "execution_count": 88,
      "outputs": [
        {
          "output_type": "stream",
          "name": "stdout",
          "text": [
            "Iteration 1: Traffic_Density_Score (17.5697)\n",
            "Iteration 2: Neighborhood_Review  (6.7227)\n",
            "             Feature       VIF\n",
            "0      Property_Area  1.652476\n",
            "1  Number_of_Windows  3.729167\n",
            "2    Number_of_Doors  4.504543\n",
            "3  Air_Quality_Index  2.839701\n"
          ]
        }
      ]
    },
    {
      "cell_type": "code",
      "source": [
        "_ = remove_vif_features(train[num_features].copy(), 2.5) #strictest threshold"
      ],
      "metadata": {
        "colab": {
          "base_uri": "https://localhost:8080/"
        },
        "id": "LwuRd8UI4C9Q",
        "outputId": "6be06639-9866-4f4a-ee1a-fa1a1ff7f254"
      },
      "execution_count": 89,
      "outputs": [
        {
          "output_type": "stream",
          "name": "stdout",
          "text": [
            "Iteration 1: Traffic_Density_Score (17.5697)\n",
            "Iteration 2: Neighborhood_Review  (6.7227)\n",
            "Iteration 3: Number_of_Doors      (4.5045)\n",
            "Iteration 4: Number_of_Windows    (2.5750)\n",
            "             Feature       VIF\n",
            "0      Property_Area  1.365658\n",
            "1  Air_Quality_Index  1.365658\n"
          ]
        }
      ]
    },
    {
      "cell_type": "markdown",
      "source": [
        "### Selected features"
      ],
      "metadata": {
        "id": "SsDwifFxB55b"
      }
    },
    {
      "cell_type": "code",
      "source": [
        "top_features = ['Neighborhood_Review', 'Furnishing', 'Crime_Rate', 'Power_Backup']"
      ],
      "metadata": {
        "id": "m88viax4CWaf"
      },
      "execution_count": 90,
      "outputs": []
    },
    {
      "cell_type": "code",
      "source": [
        "rejected_features = ['Number_of_Doors', 'Traffic_Density_Score', 'aqi_range']\n",
        "\n",
        "reduced_features = [f for f in features if f not in rejected_features]"
      ],
      "metadata": {
        "id": "MhdW3UmICuvt"
      },
      "execution_count": 91,
      "outputs": []
    },
    {
      "cell_type": "markdown",
      "source": [
        "# Processed dataset"
      ],
      "metadata": {
        "id": "h1YlYpVrFbRF"
      }
    },
    {
      "cell_type": "code",
      "source": [
        "train[features].head()"
      ],
      "metadata": {
        "colab": {
          "base_uri": "https://localhost:8080/",
          "height": 270
        },
        "id": "4wNKVGHCFeob",
        "outputId": "d7fe67a5-e216-4379-cb7e-84dcd3e057c9"
      },
      "execution_count": 92,
      "outputs": [
        {
          "output_type": "execute_result",
          "data": {
            "text/plain": [
              "   Property_Type  Property_Area  Number_of_Windows  Number_of_Doors  \\\n",
              "0              0            106                  3                1   \n",
              "1              0            733                  2                2   \n",
              "2              0            737                  4                2   \n",
              "3              0            900                  3                2   \n",
              "4              3           2238                 14                6   \n",
              "\n",
              "   Furnishing  Frequency_of_Powercuts  Power_Backup  Water_Supply  \\\n",
              "0           1                       0             0             1   \n",
              "1           0                       1             0             2   \n",
              "2           2                       0             0             1   \n",
              "3           0                       2             1             1   \n",
              "4           2                       0             0             0   \n",
              "\n",
              "   Traffic_Density_Score  Crime_Rate  Dust_and_Noise  Air_Quality_Index  \\\n",
              "0                   5.89           1               1               90.0   \n",
              "1                   4.37           0               1               96.0   \n",
              "2                   7.45           1               1              121.0   \n",
              "3                   6.16           3               1              100.0   \n",
              "4                   5.46           0               1              116.0   \n",
              "\n",
              "   Neighborhood_Review  aqi_range  \n",
              "0                 3.86          1  \n",
              "1                 3.55          1  \n",
              "2                 3.81          2  \n",
              "3                 1.34          1  \n",
              "4                 4.77          2  "
            ],
            "text/html": [
              "\n",
              "  <div id=\"df-e61d05e9-a02c-4839-ba42-4279551222a0\">\n",
              "    <div class=\"colab-df-container\">\n",
              "      <div>\n",
              "<style scoped>\n",
              "    .dataframe tbody tr th:only-of-type {\n",
              "        vertical-align: middle;\n",
              "    }\n",
              "\n",
              "    .dataframe tbody tr th {\n",
              "        vertical-align: top;\n",
              "    }\n",
              "\n",
              "    .dataframe thead th {\n",
              "        text-align: right;\n",
              "    }\n",
              "</style>\n",
              "<table border=\"1\" class=\"dataframe\">\n",
              "  <thead>\n",
              "    <tr style=\"text-align: right;\">\n",
              "      <th></th>\n",
              "      <th>Property_Type</th>\n",
              "      <th>Property_Area</th>\n",
              "      <th>Number_of_Windows</th>\n",
              "      <th>Number_of_Doors</th>\n",
              "      <th>Furnishing</th>\n",
              "      <th>Frequency_of_Powercuts</th>\n",
              "      <th>Power_Backup</th>\n",
              "      <th>Water_Supply</th>\n",
              "      <th>Traffic_Density_Score</th>\n",
              "      <th>Crime_Rate</th>\n",
              "      <th>Dust_and_Noise</th>\n",
              "      <th>Air_Quality_Index</th>\n",
              "      <th>Neighborhood_Review</th>\n",
              "      <th>aqi_range</th>\n",
              "    </tr>\n",
              "  </thead>\n",
              "  <tbody>\n",
              "    <tr>\n",
              "      <th>0</th>\n",
              "      <td>0</td>\n",
              "      <td>106</td>\n",
              "      <td>3</td>\n",
              "      <td>1</td>\n",
              "      <td>1</td>\n",
              "      <td>0</td>\n",
              "      <td>0</td>\n",
              "      <td>1</td>\n",
              "      <td>5.89</td>\n",
              "      <td>1</td>\n",
              "      <td>1</td>\n",
              "      <td>90.0</td>\n",
              "      <td>3.86</td>\n",
              "      <td>1</td>\n",
              "    </tr>\n",
              "    <tr>\n",
              "      <th>1</th>\n",
              "      <td>0</td>\n",
              "      <td>733</td>\n",
              "      <td>2</td>\n",
              "      <td>2</td>\n",
              "      <td>0</td>\n",
              "      <td>1</td>\n",
              "      <td>0</td>\n",
              "      <td>2</td>\n",
              "      <td>4.37</td>\n",
              "      <td>0</td>\n",
              "      <td>1</td>\n",
              "      <td>96.0</td>\n",
              "      <td>3.55</td>\n",
              "      <td>1</td>\n",
              "    </tr>\n",
              "    <tr>\n",
              "      <th>2</th>\n",
              "      <td>0</td>\n",
              "      <td>737</td>\n",
              "      <td>4</td>\n",
              "      <td>2</td>\n",
              "      <td>2</td>\n",
              "      <td>0</td>\n",
              "      <td>0</td>\n",
              "      <td>1</td>\n",
              "      <td>7.45</td>\n",
              "      <td>1</td>\n",
              "      <td>1</td>\n",
              "      <td>121.0</td>\n",
              "      <td>3.81</td>\n",
              "      <td>2</td>\n",
              "    </tr>\n",
              "    <tr>\n",
              "      <th>3</th>\n",
              "      <td>0</td>\n",
              "      <td>900</td>\n",
              "      <td>3</td>\n",
              "      <td>2</td>\n",
              "      <td>0</td>\n",
              "      <td>2</td>\n",
              "      <td>1</td>\n",
              "      <td>1</td>\n",
              "      <td>6.16</td>\n",
              "      <td>3</td>\n",
              "      <td>1</td>\n",
              "      <td>100.0</td>\n",
              "      <td>1.34</td>\n",
              "      <td>1</td>\n",
              "    </tr>\n",
              "    <tr>\n",
              "      <th>4</th>\n",
              "      <td>3</td>\n",
              "      <td>2238</td>\n",
              "      <td>14</td>\n",
              "      <td>6</td>\n",
              "      <td>2</td>\n",
              "      <td>0</td>\n",
              "      <td>0</td>\n",
              "      <td>0</td>\n",
              "      <td>5.46</td>\n",
              "      <td>0</td>\n",
              "      <td>1</td>\n",
              "      <td>116.0</td>\n",
              "      <td>4.77</td>\n",
              "      <td>2</td>\n",
              "    </tr>\n",
              "  </tbody>\n",
              "</table>\n",
              "</div>\n",
              "      <button class=\"colab-df-convert\" onclick=\"convertToInteractive('df-e61d05e9-a02c-4839-ba42-4279551222a0')\"\n",
              "              title=\"Convert this dataframe to an interactive table.\"\n",
              "              style=\"display:none;\">\n",
              "        \n",
              "  <svg xmlns=\"http://www.w3.org/2000/svg\" height=\"24px\"viewBox=\"0 0 24 24\"\n",
              "       width=\"24px\">\n",
              "    <path d=\"M0 0h24v24H0V0z\" fill=\"none\"/>\n",
              "    <path d=\"M18.56 5.44l.94 2.06.94-2.06 2.06-.94-2.06-.94-.94-2.06-.94 2.06-2.06.94zm-11 1L8.5 8.5l.94-2.06 2.06-.94-2.06-.94L8.5 2.5l-.94 2.06-2.06.94zm10 10l.94 2.06.94-2.06 2.06-.94-2.06-.94-.94-2.06-.94 2.06-2.06.94z\"/><path d=\"M17.41 7.96l-1.37-1.37c-.4-.4-.92-.59-1.43-.59-.52 0-1.04.2-1.43.59L10.3 9.45l-7.72 7.72c-.78.78-.78 2.05 0 2.83L4 21.41c.39.39.9.59 1.41.59.51 0 1.02-.2 1.41-.59l7.78-7.78 2.81-2.81c.8-.78.8-2.07 0-2.86zM5.41 20L4 18.59l7.72-7.72 1.47 1.35L5.41 20z\"/>\n",
              "  </svg>\n",
              "      </button>\n",
              "      \n",
              "  <style>\n",
              "    .colab-df-container {\n",
              "      display:flex;\n",
              "      flex-wrap:wrap;\n",
              "      gap: 12px;\n",
              "    }\n",
              "\n",
              "    .colab-df-convert {\n",
              "      background-color: #E8F0FE;\n",
              "      border: none;\n",
              "      border-radius: 50%;\n",
              "      cursor: pointer;\n",
              "      display: none;\n",
              "      fill: #1967D2;\n",
              "      height: 32px;\n",
              "      padding: 0 0 0 0;\n",
              "      width: 32px;\n",
              "    }\n",
              "\n",
              "    .colab-df-convert:hover {\n",
              "      background-color: #E2EBFA;\n",
              "      box-shadow: 0px 1px 2px rgba(60, 64, 67, 0.3), 0px 1px 3px 1px rgba(60, 64, 67, 0.15);\n",
              "      fill: #174EA6;\n",
              "    }\n",
              "\n",
              "    [theme=dark] .colab-df-convert {\n",
              "      background-color: #3B4455;\n",
              "      fill: #D2E3FC;\n",
              "    }\n",
              "\n",
              "    [theme=dark] .colab-df-convert:hover {\n",
              "      background-color: #434B5C;\n",
              "      box-shadow: 0px 1px 3px 1px rgba(0, 0, 0, 0.15);\n",
              "      filter: drop-shadow(0px 1px 2px rgba(0, 0, 0, 0.3));\n",
              "      fill: #FFFFFF;\n",
              "    }\n",
              "  </style>\n",
              "\n",
              "      <script>\n",
              "        const buttonEl =\n",
              "          document.querySelector('#df-e61d05e9-a02c-4839-ba42-4279551222a0 button.colab-df-convert');\n",
              "        buttonEl.style.display =\n",
              "          google.colab.kernel.accessAllowed ? 'block' : 'none';\n",
              "\n",
              "        async function convertToInteractive(key) {\n",
              "          const element = document.querySelector('#df-e61d05e9-a02c-4839-ba42-4279551222a0');\n",
              "          const dataTable =\n",
              "            await google.colab.kernel.invokeFunction('convertToInteractive',\n",
              "                                                     [key], {});\n",
              "          if (!dataTable) return;\n",
              "\n",
              "          const docLinkHtml = 'Like what you see? Visit the ' +\n",
              "            '<a target=\"_blank\" href=https://colab.research.google.com/notebooks/data_table.ipynb>data table notebook</a>'\n",
              "            + ' to learn more about interactive tables.';\n",
              "          element.innerHTML = '';\n",
              "          dataTable['output_type'] = 'display_data';\n",
              "          await google.colab.output.renderOutput(dataTable, element);\n",
              "          const docLink = document.createElement('div');\n",
              "          docLink.innerHTML = docLinkHtml;\n",
              "          element.appendChild(docLink);\n",
              "        }\n",
              "      </script>\n",
              "    </div>\n",
              "  </div>\n",
              "  "
            ]
          },
          "metadata": {},
          "execution_count": 92
        }
      ]
    },
    {
      "cell_type": "code",
      "source": [
        "train['Air_Quality_Index'] = train['Air_Quality_Index'].astype('int')\n",
        "test['Air_Quality_Index'] = test['Air_Quality_Index'].astype('int')"
      ],
      "metadata": {
        "id": "WrgvhWHGGIk0"
      },
      "execution_count": 93,
      "outputs": []
    },
    {
      "cell_type": "code",
      "source": [
        "test.head()"
      ],
      "metadata": {
        "colab": {
          "base_uri": "https://localhost:8080/",
          "height": 270
        },
        "id": "WqxT-gkJID6O",
        "outputId": "bb34c379-bdb1-462d-9d10-398475a9674e"
      },
      "execution_count": 98,
      "outputs": [
        {
          "output_type": "execute_result",
          "data": {
            "text/plain": [
              "  Property_ID  Property_Type  Property_Area  Number_of_Windows  \\\n",
              "0      0x6e93              0            293                  3   \n",
              "1      0x8787              0            586                  4   \n",
              "2      0x6c17              4            305                  1   \n",
              "3      0x9dbd              0            258                  2   \n",
              "4      0xbfde              3           3031                 12   \n",
              "\n",
              "   Number_of_Doors  Furnishing  Frequency_of_Powercuts  Power_Backup  \\\n",
              "0                1           0                       0             0   \n",
              "1                1           1                       0             0   \n",
              "2                2           1                       1             0   \n",
              "3                1           1                       1             0   \n",
              "4                4           2                       0             0   \n",
              "\n",
              "   Water_Supply  Traffic_Density_Score  Crime_Rate  Dust_and_Noise  \\\n",
              "0             1                   7.28           3               1   \n",
              "1             2                   7.63           0               1   \n",
              "2             0                   5.39           2               1   \n",
              "3             0                   7.53           1               1   \n",
              "4             0                   8.79           3               2   \n",
              "\n",
              "   Air_Quality_Index  Neighborhood_Review  aqi_range  \n",
              "0                152                 2.52          3  \n",
              "1                 92                 4.16          1  \n",
              "2                 90                 2.92          1  \n",
              "3                158                 3.45          3  \n",
              "4                186                 2.72          3  "
            ],
            "text/html": [
              "\n",
              "  <div id=\"df-288f16b7-4ded-4e6e-9c0e-1aa94bb9f3ac\">\n",
              "    <div class=\"colab-df-container\">\n",
              "      <div>\n",
              "<style scoped>\n",
              "    .dataframe tbody tr th:only-of-type {\n",
              "        vertical-align: middle;\n",
              "    }\n",
              "\n",
              "    .dataframe tbody tr th {\n",
              "        vertical-align: top;\n",
              "    }\n",
              "\n",
              "    .dataframe thead th {\n",
              "        text-align: right;\n",
              "    }\n",
              "</style>\n",
              "<table border=\"1\" class=\"dataframe\">\n",
              "  <thead>\n",
              "    <tr style=\"text-align: right;\">\n",
              "      <th></th>\n",
              "      <th>Property_ID</th>\n",
              "      <th>Property_Type</th>\n",
              "      <th>Property_Area</th>\n",
              "      <th>Number_of_Windows</th>\n",
              "      <th>Number_of_Doors</th>\n",
              "      <th>Furnishing</th>\n",
              "      <th>Frequency_of_Powercuts</th>\n",
              "      <th>Power_Backup</th>\n",
              "      <th>Water_Supply</th>\n",
              "      <th>Traffic_Density_Score</th>\n",
              "      <th>Crime_Rate</th>\n",
              "      <th>Dust_and_Noise</th>\n",
              "      <th>Air_Quality_Index</th>\n",
              "      <th>Neighborhood_Review</th>\n",
              "      <th>aqi_range</th>\n",
              "    </tr>\n",
              "  </thead>\n",
              "  <tbody>\n",
              "    <tr>\n",
              "      <th>0</th>\n",
              "      <td>0x6e93</td>\n",
              "      <td>0</td>\n",
              "      <td>293</td>\n",
              "      <td>3</td>\n",
              "      <td>1</td>\n",
              "      <td>0</td>\n",
              "      <td>0</td>\n",
              "      <td>0</td>\n",
              "      <td>1</td>\n",
              "      <td>7.28</td>\n",
              "      <td>3</td>\n",
              "      <td>1</td>\n",
              "      <td>152</td>\n",
              "      <td>2.52</td>\n",
              "      <td>3</td>\n",
              "    </tr>\n",
              "    <tr>\n",
              "      <th>1</th>\n",
              "      <td>0x8787</td>\n",
              "      <td>0</td>\n",
              "      <td>586</td>\n",
              "      <td>4</td>\n",
              "      <td>1</td>\n",
              "      <td>1</td>\n",
              "      <td>0</td>\n",
              "      <td>0</td>\n",
              "      <td>2</td>\n",
              "      <td>7.63</td>\n",
              "      <td>0</td>\n",
              "      <td>1</td>\n",
              "      <td>92</td>\n",
              "      <td>4.16</td>\n",
              "      <td>1</td>\n",
              "    </tr>\n",
              "    <tr>\n",
              "      <th>2</th>\n",
              "      <td>0x6c17</td>\n",
              "      <td>4</td>\n",
              "      <td>305</td>\n",
              "      <td>1</td>\n",
              "      <td>2</td>\n",
              "      <td>1</td>\n",
              "      <td>1</td>\n",
              "      <td>0</td>\n",
              "      <td>0</td>\n",
              "      <td>5.39</td>\n",
              "      <td>2</td>\n",
              "      <td>1</td>\n",
              "      <td>90</td>\n",
              "      <td>2.92</td>\n",
              "      <td>1</td>\n",
              "    </tr>\n",
              "    <tr>\n",
              "      <th>3</th>\n",
              "      <td>0x9dbd</td>\n",
              "      <td>0</td>\n",
              "      <td>258</td>\n",
              "      <td>2</td>\n",
              "      <td>1</td>\n",
              "      <td>1</td>\n",
              "      <td>1</td>\n",
              "      <td>0</td>\n",
              "      <td>0</td>\n",
              "      <td>7.53</td>\n",
              "      <td>1</td>\n",
              "      <td>1</td>\n",
              "      <td>158</td>\n",
              "      <td>3.45</td>\n",
              "      <td>3</td>\n",
              "    </tr>\n",
              "    <tr>\n",
              "      <th>4</th>\n",
              "      <td>0xbfde</td>\n",
              "      <td>3</td>\n",
              "      <td>3031</td>\n",
              "      <td>12</td>\n",
              "      <td>4</td>\n",
              "      <td>2</td>\n",
              "      <td>0</td>\n",
              "      <td>0</td>\n",
              "      <td>0</td>\n",
              "      <td>8.79</td>\n",
              "      <td>3</td>\n",
              "      <td>2</td>\n",
              "      <td>186</td>\n",
              "      <td>2.72</td>\n",
              "      <td>3</td>\n",
              "    </tr>\n",
              "  </tbody>\n",
              "</table>\n",
              "</div>\n",
              "      <button class=\"colab-df-convert\" onclick=\"convertToInteractive('df-288f16b7-4ded-4e6e-9c0e-1aa94bb9f3ac')\"\n",
              "              title=\"Convert this dataframe to an interactive table.\"\n",
              "              style=\"display:none;\">\n",
              "        \n",
              "  <svg xmlns=\"http://www.w3.org/2000/svg\" height=\"24px\"viewBox=\"0 0 24 24\"\n",
              "       width=\"24px\">\n",
              "    <path d=\"M0 0h24v24H0V0z\" fill=\"none\"/>\n",
              "    <path d=\"M18.56 5.44l.94 2.06.94-2.06 2.06-.94-2.06-.94-.94-2.06-.94 2.06-2.06.94zm-11 1L8.5 8.5l.94-2.06 2.06-.94-2.06-.94L8.5 2.5l-.94 2.06-2.06.94zm10 10l.94 2.06.94-2.06 2.06-.94-2.06-.94-.94-2.06-.94 2.06-2.06.94z\"/><path d=\"M17.41 7.96l-1.37-1.37c-.4-.4-.92-.59-1.43-.59-.52 0-1.04.2-1.43.59L10.3 9.45l-7.72 7.72c-.78.78-.78 2.05 0 2.83L4 21.41c.39.39.9.59 1.41.59.51 0 1.02-.2 1.41-.59l7.78-7.78 2.81-2.81c.8-.78.8-2.07 0-2.86zM5.41 20L4 18.59l7.72-7.72 1.47 1.35L5.41 20z\"/>\n",
              "  </svg>\n",
              "      </button>\n",
              "      \n",
              "  <style>\n",
              "    .colab-df-container {\n",
              "      display:flex;\n",
              "      flex-wrap:wrap;\n",
              "      gap: 12px;\n",
              "    }\n",
              "\n",
              "    .colab-df-convert {\n",
              "      background-color: #E8F0FE;\n",
              "      border: none;\n",
              "      border-radius: 50%;\n",
              "      cursor: pointer;\n",
              "      display: none;\n",
              "      fill: #1967D2;\n",
              "      height: 32px;\n",
              "      padding: 0 0 0 0;\n",
              "      width: 32px;\n",
              "    }\n",
              "\n",
              "    .colab-df-convert:hover {\n",
              "      background-color: #E2EBFA;\n",
              "      box-shadow: 0px 1px 2px rgba(60, 64, 67, 0.3), 0px 1px 3px 1px rgba(60, 64, 67, 0.15);\n",
              "      fill: #174EA6;\n",
              "    }\n",
              "\n",
              "    [theme=dark] .colab-df-convert {\n",
              "      background-color: #3B4455;\n",
              "      fill: #D2E3FC;\n",
              "    }\n",
              "\n",
              "    [theme=dark] .colab-df-convert:hover {\n",
              "      background-color: #434B5C;\n",
              "      box-shadow: 0px 1px 3px 1px rgba(0, 0, 0, 0.15);\n",
              "      filter: drop-shadow(0px 1px 2px rgba(0, 0, 0, 0.3));\n",
              "      fill: #FFFFFF;\n",
              "    }\n",
              "  </style>\n",
              "\n",
              "      <script>\n",
              "        const buttonEl =\n",
              "          document.querySelector('#df-288f16b7-4ded-4e6e-9c0e-1aa94bb9f3ac button.colab-df-convert');\n",
              "        buttonEl.style.display =\n",
              "          google.colab.kernel.accessAllowed ? 'block' : 'none';\n",
              "\n",
              "        async function convertToInteractive(key) {\n",
              "          const element = document.querySelector('#df-288f16b7-4ded-4e6e-9c0e-1aa94bb9f3ac');\n",
              "          const dataTable =\n",
              "            await google.colab.kernel.invokeFunction('convertToInteractive',\n",
              "                                                     [key], {});\n",
              "          if (!dataTable) return;\n",
              "\n",
              "          const docLinkHtml = 'Like what you see? Visit the ' +\n",
              "            '<a target=\"_blank\" href=https://colab.research.google.com/notebooks/data_table.ipynb>data table notebook</a>'\n",
              "            + ' to learn more about interactive tables.';\n",
              "          element.innerHTML = '';\n",
              "          dataTable['output_type'] = 'display_data';\n",
              "          await google.colab.output.renderOutput(dataTable, element);\n",
              "          const docLink = document.createElement('div');\n",
              "          docLink.innerHTML = docLinkHtml;\n",
              "          element.appendChild(docLink);\n",
              "        }\n",
              "      </script>\n",
              "    </div>\n",
              "  </div>\n",
              "  "
            ]
          },
          "metadata": {},
          "execution_count": 98
        }
      ]
    },
    {
      "cell_type": "code",
      "source": [
        "train[features].to_csv('train.csv', index=False)\n",
        "test.to_csv('test.csv', index=False) #need to retain Property_ID for submission file"
      ],
      "metadata": {
        "id": "tvOfS160Gg78"
      },
      "execution_count": 99,
      "outputs": []
    },
    {
      "cell_type": "code",
      "source": [
        "# from google.colab import files\n",
        "# files.download('train.csv')\n",
        "# files.download('test.csv')"
      ],
      "metadata": {
        "colab": {
          "base_uri": "https://localhost:8080/",
          "height": 17
        },
        "id": "JEPntClrHxkZ",
        "outputId": "d0a64d2c-60e2-490e-e528-59d7127b5bbb"
      },
      "execution_count": 100,
      "outputs": [
        {
          "output_type": "display_data",
          "data": {
            "text/plain": [
              "<IPython.core.display.Javascript object>"
            ],
            "application/javascript": [
              "\n",
              "    async function download(id, filename, size) {\n",
              "      if (!google.colab.kernel.accessAllowed) {\n",
              "        return;\n",
              "      }\n",
              "      const div = document.createElement('div');\n",
              "      const label = document.createElement('label');\n",
              "      label.textContent = `Downloading \"${filename}\": `;\n",
              "      div.appendChild(label);\n",
              "      const progress = document.createElement('progress');\n",
              "      progress.max = size;\n",
              "      div.appendChild(progress);\n",
              "      document.body.appendChild(div);\n",
              "\n",
              "      const buffers = [];\n",
              "      let downloaded = 0;\n",
              "\n",
              "      const channel = await google.colab.kernel.comms.open(id);\n",
              "      // Send a message to notify the kernel that we're ready.\n",
              "      channel.send({})\n",
              "\n",
              "      for await (const message of channel.messages) {\n",
              "        // Send a message to notify the kernel that we're ready.\n",
              "        channel.send({})\n",
              "        if (message.buffers) {\n",
              "          for (const buffer of message.buffers) {\n",
              "            buffers.push(buffer);\n",
              "            downloaded += buffer.byteLength;\n",
              "            progress.value = downloaded;\n",
              "          }\n",
              "        }\n",
              "      }\n",
              "      const blob = new Blob(buffers, {type: 'application/binary'});\n",
              "      const a = document.createElement('a');\n",
              "      a.href = window.URL.createObjectURL(blob);\n",
              "      a.download = filename;\n",
              "      div.appendChild(a);\n",
              "      a.click();\n",
              "      div.remove();\n",
              "    }\n",
              "  "
            ]
          },
          "metadata": {}
        },
        {
          "output_type": "display_data",
          "data": {
            "text/plain": [
              "<IPython.core.display.Javascript object>"
            ],
            "application/javascript": [
              "download(\"download_d6305b97-4cde-44fa-8521-bbbce0707c47\", \"train.csv\", 1501500)"
            ]
          },
          "metadata": {}
        },
        {
          "output_type": "display_data",
          "data": {
            "text/plain": [
              "<IPython.core.display.Javascript object>"
            ],
            "application/javascript": [
              "\n",
              "    async function download(id, filename, size) {\n",
              "      if (!google.colab.kernel.accessAllowed) {\n",
              "        return;\n",
              "      }\n",
              "      const div = document.createElement('div');\n",
              "      const label = document.createElement('label');\n",
              "      label.textContent = `Downloading \"${filename}\": `;\n",
              "      div.appendChild(label);\n",
              "      const progress = document.createElement('progress');\n",
              "      progress.max = size;\n",
              "      div.appendChild(progress);\n",
              "      document.body.appendChild(div);\n",
              "\n",
              "      const buffers = [];\n",
              "      let downloaded = 0;\n",
              "\n",
              "      const channel = await google.colab.kernel.comms.open(id);\n",
              "      // Send a message to notify the kernel that we're ready.\n",
              "      channel.send({})\n",
              "\n",
              "      for await (const message of channel.messages) {\n",
              "        // Send a message to notify the kernel that we're ready.\n",
              "        channel.send({})\n",
              "        if (message.buffers) {\n",
              "          for (const buffer of message.buffers) {\n",
              "            buffers.push(buffer);\n",
              "            downloaded += buffer.byteLength;\n",
              "            progress.value = downloaded;\n",
              "          }\n",
              "        }\n",
              "      }\n",
              "      const blob = new Blob(buffers, {type: 'application/binary'});\n",
              "      const a = document.createElement('a');\n",
              "      a.href = window.URL.createObjectURL(blob);\n",
              "      a.download = filename;\n",
              "      div.appendChild(a);\n",
              "      a.click();\n",
              "      div.remove();\n",
              "    }\n",
              "  "
            ]
          },
          "metadata": {}
        },
        {
          "output_type": "display_data",
          "data": {
            "text/plain": [
              "<IPython.core.display.Javascript object>"
            ],
            "application/javascript": [
              "download(\"download_9ae1b120-3f91-4b22-aa61-212dafa04d8d\", \"test.csv\", 472329)"
            ]
          },
          "metadata": {}
        }
      ]
    }
  ]
}