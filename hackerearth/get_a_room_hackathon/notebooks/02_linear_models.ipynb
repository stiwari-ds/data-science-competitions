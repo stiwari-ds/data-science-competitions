{
  "nbformat": 4,
  "nbformat_minor": 0,
  "metadata": {
    "colab": {
      "name": "02-linear-models",
      "provenance": [],
      "collapsed_sections": [],
      "authorship_tag": "ABX9TyOu6PwuvL0dbt9vxvUuyuZ7",
      "include_colab_link": true
    },
    "kernelspec": {
      "name": "python3",
      "display_name": "Python 3"
    },
    "language_info": {
      "name": "python"
    }
  },
  "cells": [
    {
      "cell_type": "markdown",
      "metadata": {
        "id": "view-in-github",
        "colab_type": "text"
      },
      "source": [
        "<a href=\"https://colab.research.google.com/github/stiwari-ds/data-science-competitions/blob/main/hackerearth/get_a_room_hackathon/notebooks/02_linear_models.ipynb\" target=\"_parent\"><img src=\"https://colab.research.google.com/assets/colab-badge.svg\" alt=\"Open In Colab\"/></a>"
      ]
    },
    {
      "cell_type": "markdown",
      "source": [
        "# Setup"
      ],
      "metadata": {
        "id": "0nZFDaORlaON"
      }
    },
    {
      "cell_type": "code",
      "execution_count": 1,
      "metadata": {
        "id": "FRIY_lKBlONb"
      },
      "outputs": [],
      "source": [
        "import gc\n",
        "import os\n",
        "import warnings\n",
        "warnings.filterwarnings(action='ignore')\n",
        "\n",
        "import pandas as pd\n",
        "import numpy as np\n",
        "\n",
        "from sklearn.model_selection import train_test_split, KFold\n",
        "from sklearn.preprocessing import StandardScaler, RobustScaler, MinMaxScaler\n",
        "from sklearn.preprocessing import OneHotEncoder, KBinsDiscretizer\n",
        "from sklearn.preprocessing import PowerTransformer, QuantileTransformer\n",
        "from sklearn.compose import make_column_selector, ColumnTransformer\n",
        "from sklearn.compose import TransformedTargetRegressor\n",
        "from sklearn.pipeline import Pipeline\n",
        "from sklearn import linear_model as lm\n",
        "from sklearn.metrics import mean_squared_error, r2_score\n",
        "\n",
        "SEED = 23\n",
        "os.environ['PYTHONHASHSEED'] = str(SEED)\n",
        "np.random.seed(SEED)"
      ]
    },
    {
      "cell_type": "markdown",
      "source": [
        "### Data "
      ],
      "metadata": {
        "id": "wXtrGSmnTLOG"
      }
    },
    {
      "cell_type": "code",
      "source": [
        "data_url = 'https://raw.githubusercontent.com/stiwari-ds/data-science-competitions/main/hackerearth/get_a_room_hackathon/data/'\n",
        "\n",
        "train = pd.read_csv(data_url + 'processed/train.csv')\n",
        "test = pd.read_csv(data_url + 'processed/test.csv')\n",
        "\n",
        "target = pd.read_csv(data_url + 'raw/train.csv', usecols=['Habitability_score'])"
      ],
      "metadata": {
        "id": "dCJZUrFHvOrc"
      },
      "execution_count": 2,
      "outputs": []
    },
    {
      "cell_type": "code",
      "source": [
        "train.head()"
      ],
      "metadata": {
        "colab": {
          "base_uri": "https://localhost:8080/",
          "height": 270
        },
        "id": "RrT7ef3fEMUR",
        "outputId": "7b75eecc-ae94-483f-adf8-570fe038d245"
      },
      "execution_count": 3,
      "outputs": [
        {
          "output_type": "execute_result",
          "data": {
            "text/plain": [
              "   Property_Type  Property_Area  Number_of_Windows  Number_of_Doors  \\\n",
              "0              0            106                  3                1   \n",
              "1              0            733                  2                2   \n",
              "2              0            737                  4                2   \n",
              "3              0            900                  3                2   \n",
              "4              3           2238                 14                6   \n",
              "\n",
              "   Furnishing  Frequency_of_Powercuts  Power_Backup  Water_Supply  \\\n",
              "0           1                       0             0             2   \n",
              "1           0                       1             0             1   \n",
              "2           2                       0             0             2   \n",
              "3           0                       2             1             2   \n",
              "4           2                       0             0             3   \n",
              "\n",
              "   Traffic_Density_Score  Crime_Rate  Dust_and_Noise  Air_Quality_Index  \\\n",
              "0                   5.89           1               1                 90   \n",
              "1                   4.37           0               1                 96   \n",
              "2                   7.45           1               1                121   \n",
              "3                   6.16           3               1                100   \n",
              "4                   5.46           0               1                116   \n",
              "\n",
              "   Neighborhood_Review  aqi_range  \n",
              "0                 3.86          1  \n",
              "1                 3.55          1  \n",
              "2                 3.81          2  \n",
              "3                 1.34          1  \n",
              "4                 4.77          2  "
            ],
            "text/html": [
              "\n",
              "  <div id=\"df-f0a21cee-f47e-4fad-9805-7eb9a9a43b14\">\n",
              "    <div class=\"colab-df-container\">\n",
              "      <div>\n",
              "<style scoped>\n",
              "    .dataframe tbody tr th:only-of-type {\n",
              "        vertical-align: middle;\n",
              "    }\n",
              "\n",
              "    .dataframe tbody tr th {\n",
              "        vertical-align: top;\n",
              "    }\n",
              "\n",
              "    .dataframe thead th {\n",
              "        text-align: right;\n",
              "    }\n",
              "</style>\n",
              "<table border=\"1\" class=\"dataframe\">\n",
              "  <thead>\n",
              "    <tr style=\"text-align: right;\">\n",
              "      <th></th>\n",
              "      <th>Property_Type</th>\n",
              "      <th>Property_Area</th>\n",
              "      <th>Number_of_Windows</th>\n",
              "      <th>Number_of_Doors</th>\n",
              "      <th>Furnishing</th>\n",
              "      <th>Frequency_of_Powercuts</th>\n",
              "      <th>Power_Backup</th>\n",
              "      <th>Water_Supply</th>\n",
              "      <th>Traffic_Density_Score</th>\n",
              "      <th>Crime_Rate</th>\n",
              "      <th>Dust_and_Noise</th>\n",
              "      <th>Air_Quality_Index</th>\n",
              "      <th>Neighborhood_Review</th>\n",
              "      <th>aqi_range</th>\n",
              "    </tr>\n",
              "  </thead>\n",
              "  <tbody>\n",
              "    <tr>\n",
              "      <th>0</th>\n",
              "      <td>0</td>\n",
              "      <td>106</td>\n",
              "      <td>3</td>\n",
              "      <td>1</td>\n",
              "      <td>1</td>\n",
              "      <td>0</td>\n",
              "      <td>0</td>\n",
              "      <td>2</td>\n",
              "      <td>5.89</td>\n",
              "      <td>1</td>\n",
              "      <td>1</td>\n",
              "      <td>90</td>\n",
              "      <td>3.86</td>\n",
              "      <td>1</td>\n",
              "    </tr>\n",
              "    <tr>\n",
              "      <th>1</th>\n",
              "      <td>0</td>\n",
              "      <td>733</td>\n",
              "      <td>2</td>\n",
              "      <td>2</td>\n",
              "      <td>0</td>\n",
              "      <td>1</td>\n",
              "      <td>0</td>\n",
              "      <td>1</td>\n",
              "      <td>4.37</td>\n",
              "      <td>0</td>\n",
              "      <td>1</td>\n",
              "      <td>96</td>\n",
              "      <td>3.55</td>\n",
              "      <td>1</td>\n",
              "    </tr>\n",
              "    <tr>\n",
              "      <th>2</th>\n",
              "      <td>0</td>\n",
              "      <td>737</td>\n",
              "      <td>4</td>\n",
              "      <td>2</td>\n",
              "      <td>2</td>\n",
              "      <td>0</td>\n",
              "      <td>0</td>\n",
              "      <td>2</td>\n",
              "      <td>7.45</td>\n",
              "      <td>1</td>\n",
              "      <td>1</td>\n",
              "      <td>121</td>\n",
              "      <td>3.81</td>\n",
              "      <td>2</td>\n",
              "    </tr>\n",
              "    <tr>\n",
              "      <th>3</th>\n",
              "      <td>0</td>\n",
              "      <td>900</td>\n",
              "      <td>3</td>\n",
              "      <td>2</td>\n",
              "      <td>0</td>\n",
              "      <td>2</td>\n",
              "      <td>1</td>\n",
              "      <td>2</td>\n",
              "      <td>6.16</td>\n",
              "      <td>3</td>\n",
              "      <td>1</td>\n",
              "      <td>100</td>\n",
              "      <td>1.34</td>\n",
              "      <td>1</td>\n",
              "    </tr>\n",
              "    <tr>\n",
              "      <th>4</th>\n",
              "      <td>3</td>\n",
              "      <td>2238</td>\n",
              "      <td>14</td>\n",
              "      <td>6</td>\n",
              "      <td>2</td>\n",
              "      <td>0</td>\n",
              "      <td>0</td>\n",
              "      <td>3</td>\n",
              "      <td>5.46</td>\n",
              "      <td>0</td>\n",
              "      <td>1</td>\n",
              "      <td>116</td>\n",
              "      <td>4.77</td>\n",
              "      <td>2</td>\n",
              "    </tr>\n",
              "  </tbody>\n",
              "</table>\n",
              "</div>\n",
              "      <button class=\"colab-df-convert\" onclick=\"convertToInteractive('df-f0a21cee-f47e-4fad-9805-7eb9a9a43b14')\"\n",
              "              title=\"Convert this dataframe to an interactive table.\"\n",
              "              style=\"display:none;\">\n",
              "        \n",
              "  <svg xmlns=\"http://www.w3.org/2000/svg\" height=\"24px\"viewBox=\"0 0 24 24\"\n",
              "       width=\"24px\">\n",
              "    <path d=\"M0 0h24v24H0V0z\" fill=\"none\"/>\n",
              "    <path d=\"M18.56 5.44l.94 2.06.94-2.06 2.06-.94-2.06-.94-.94-2.06-.94 2.06-2.06.94zm-11 1L8.5 8.5l.94-2.06 2.06-.94-2.06-.94L8.5 2.5l-.94 2.06-2.06.94zm10 10l.94 2.06.94-2.06 2.06-.94-2.06-.94-.94-2.06-.94 2.06-2.06.94z\"/><path d=\"M17.41 7.96l-1.37-1.37c-.4-.4-.92-.59-1.43-.59-.52 0-1.04.2-1.43.59L10.3 9.45l-7.72 7.72c-.78.78-.78 2.05 0 2.83L4 21.41c.39.39.9.59 1.41.59.51 0 1.02-.2 1.41-.59l7.78-7.78 2.81-2.81c.8-.78.8-2.07 0-2.86zM5.41 20L4 18.59l7.72-7.72 1.47 1.35L5.41 20z\"/>\n",
              "  </svg>\n",
              "      </button>\n",
              "      \n",
              "  <style>\n",
              "    .colab-df-container {\n",
              "      display:flex;\n",
              "      flex-wrap:wrap;\n",
              "      gap: 12px;\n",
              "    }\n",
              "\n",
              "    .colab-df-convert {\n",
              "      background-color: #E8F0FE;\n",
              "      border: none;\n",
              "      border-radius: 50%;\n",
              "      cursor: pointer;\n",
              "      display: none;\n",
              "      fill: #1967D2;\n",
              "      height: 32px;\n",
              "      padding: 0 0 0 0;\n",
              "      width: 32px;\n",
              "    }\n",
              "\n",
              "    .colab-df-convert:hover {\n",
              "      background-color: #E2EBFA;\n",
              "      box-shadow: 0px 1px 2px rgba(60, 64, 67, 0.3), 0px 1px 3px 1px rgba(60, 64, 67, 0.15);\n",
              "      fill: #174EA6;\n",
              "    }\n",
              "\n",
              "    [theme=dark] .colab-df-convert {\n",
              "      background-color: #3B4455;\n",
              "      fill: #D2E3FC;\n",
              "    }\n",
              "\n",
              "    [theme=dark] .colab-df-convert:hover {\n",
              "      background-color: #434B5C;\n",
              "      box-shadow: 0px 1px 3px 1px rgba(0, 0, 0, 0.15);\n",
              "      filter: drop-shadow(0px 1px 2px rgba(0, 0, 0, 0.3));\n",
              "      fill: #FFFFFF;\n",
              "    }\n",
              "  </style>\n",
              "\n",
              "      <script>\n",
              "        const buttonEl =\n",
              "          document.querySelector('#df-f0a21cee-f47e-4fad-9805-7eb9a9a43b14 button.colab-df-convert');\n",
              "        buttonEl.style.display =\n",
              "          google.colab.kernel.accessAllowed ? 'block' : 'none';\n",
              "\n",
              "        async function convertToInteractive(key) {\n",
              "          const element = document.querySelector('#df-f0a21cee-f47e-4fad-9805-7eb9a9a43b14');\n",
              "          const dataTable =\n",
              "            await google.colab.kernel.invokeFunction('convertToInteractive',\n",
              "                                                     [key], {});\n",
              "          if (!dataTable) return;\n",
              "\n",
              "          const docLinkHtml = 'Like what you see? Visit the ' +\n",
              "            '<a target=\"_blank\" href=https://colab.research.google.com/notebooks/data_table.ipynb>data table notebook</a>'\n",
              "            + ' to learn more about interactive tables.';\n",
              "          element.innerHTML = '';\n",
              "          dataTable['output_type'] = 'display_data';\n",
              "          await google.colab.output.renderOutput(dataTable, element);\n",
              "          const docLink = document.createElement('div');\n",
              "          docLink.innerHTML = docLinkHtml;\n",
              "          element.appendChild(docLink);\n",
              "        }\n",
              "      </script>\n",
              "    </div>\n",
              "  </div>\n",
              "  "
            ]
          },
          "metadata": {},
          "execution_count": 3
        }
      ]
    },
    {
      "cell_type": "code",
      "source": [
        "test.head()"
      ],
      "metadata": {
        "colab": {
          "base_uri": "https://localhost:8080/",
          "height": 270
        },
        "id": "64A7sL7_ENy_",
        "outputId": "4c93fe00-01f8-4902-d5f6-f127f84a95a4"
      },
      "execution_count": 4,
      "outputs": [
        {
          "output_type": "execute_result",
          "data": {
            "text/plain": [
              "  Property_ID  Property_Type  Property_Area  Number_of_Windows  \\\n",
              "0      0x6e93              0            293                  3   \n",
              "1      0x8787              0            586                  4   \n",
              "2      0x6c17              4            305                  1   \n",
              "3      0x9dbd              0            258                  2   \n",
              "4      0xbfde              3           3031                 12   \n",
              "\n",
              "   Number_of_Doors  Furnishing  Frequency_of_Powercuts  Power_Backup  \\\n",
              "0                1           0                       0             0   \n",
              "1                1           1                       0             0   \n",
              "2                2           1                       1             0   \n",
              "3                1           1                       1             0   \n",
              "4                4           2                       0             0   \n",
              "\n",
              "   Water_Supply  Traffic_Density_Score  Crime_Rate  Dust_and_Noise  \\\n",
              "0             2                   7.28           3               1   \n",
              "1             1                   7.63           0               1   \n",
              "2             3                   5.39           2               1   \n",
              "3             3                   7.53           1               1   \n",
              "4             3                   8.79           3               2   \n",
              "\n",
              "   Air_Quality_Index  Neighborhood_Review  aqi_range  \n",
              "0                152                 2.52          3  \n",
              "1                 92                 4.16          1  \n",
              "2                 90                 2.92          1  \n",
              "3                158                 3.45          3  \n",
              "4                186                 2.72          3  "
            ],
            "text/html": [
              "\n",
              "  <div id=\"df-915a6715-5245-4153-8d92-ad37ee34add1\">\n",
              "    <div class=\"colab-df-container\">\n",
              "      <div>\n",
              "<style scoped>\n",
              "    .dataframe tbody tr th:only-of-type {\n",
              "        vertical-align: middle;\n",
              "    }\n",
              "\n",
              "    .dataframe tbody tr th {\n",
              "        vertical-align: top;\n",
              "    }\n",
              "\n",
              "    .dataframe thead th {\n",
              "        text-align: right;\n",
              "    }\n",
              "</style>\n",
              "<table border=\"1\" class=\"dataframe\">\n",
              "  <thead>\n",
              "    <tr style=\"text-align: right;\">\n",
              "      <th></th>\n",
              "      <th>Property_ID</th>\n",
              "      <th>Property_Type</th>\n",
              "      <th>Property_Area</th>\n",
              "      <th>Number_of_Windows</th>\n",
              "      <th>Number_of_Doors</th>\n",
              "      <th>Furnishing</th>\n",
              "      <th>Frequency_of_Powercuts</th>\n",
              "      <th>Power_Backup</th>\n",
              "      <th>Water_Supply</th>\n",
              "      <th>Traffic_Density_Score</th>\n",
              "      <th>Crime_Rate</th>\n",
              "      <th>Dust_and_Noise</th>\n",
              "      <th>Air_Quality_Index</th>\n",
              "      <th>Neighborhood_Review</th>\n",
              "      <th>aqi_range</th>\n",
              "    </tr>\n",
              "  </thead>\n",
              "  <tbody>\n",
              "    <tr>\n",
              "      <th>0</th>\n",
              "      <td>0x6e93</td>\n",
              "      <td>0</td>\n",
              "      <td>293</td>\n",
              "      <td>3</td>\n",
              "      <td>1</td>\n",
              "      <td>0</td>\n",
              "      <td>0</td>\n",
              "      <td>0</td>\n",
              "      <td>2</td>\n",
              "      <td>7.28</td>\n",
              "      <td>3</td>\n",
              "      <td>1</td>\n",
              "      <td>152</td>\n",
              "      <td>2.52</td>\n",
              "      <td>3</td>\n",
              "    </tr>\n",
              "    <tr>\n",
              "      <th>1</th>\n",
              "      <td>0x8787</td>\n",
              "      <td>0</td>\n",
              "      <td>586</td>\n",
              "      <td>4</td>\n",
              "      <td>1</td>\n",
              "      <td>1</td>\n",
              "      <td>0</td>\n",
              "      <td>0</td>\n",
              "      <td>1</td>\n",
              "      <td>7.63</td>\n",
              "      <td>0</td>\n",
              "      <td>1</td>\n",
              "      <td>92</td>\n",
              "      <td>4.16</td>\n",
              "      <td>1</td>\n",
              "    </tr>\n",
              "    <tr>\n",
              "      <th>2</th>\n",
              "      <td>0x6c17</td>\n",
              "      <td>4</td>\n",
              "      <td>305</td>\n",
              "      <td>1</td>\n",
              "      <td>2</td>\n",
              "      <td>1</td>\n",
              "      <td>1</td>\n",
              "      <td>0</td>\n",
              "      <td>3</td>\n",
              "      <td>5.39</td>\n",
              "      <td>2</td>\n",
              "      <td>1</td>\n",
              "      <td>90</td>\n",
              "      <td>2.92</td>\n",
              "      <td>1</td>\n",
              "    </tr>\n",
              "    <tr>\n",
              "      <th>3</th>\n",
              "      <td>0x9dbd</td>\n",
              "      <td>0</td>\n",
              "      <td>258</td>\n",
              "      <td>2</td>\n",
              "      <td>1</td>\n",
              "      <td>1</td>\n",
              "      <td>1</td>\n",
              "      <td>0</td>\n",
              "      <td>3</td>\n",
              "      <td>7.53</td>\n",
              "      <td>1</td>\n",
              "      <td>1</td>\n",
              "      <td>158</td>\n",
              "      <td>3.45</td>\n",
              "      <td>3</td>\n",
              "    </tr>\n",
              "    <tr>\n",
              "      <th>4</th>\n",
              "      <td>0xbfde</td>\n",
              "      <td>3</td>\n",
              "      <td>3031</td>\n",
              "      <td>12</td>\n",
              "      <td>4</td>\n",
              "      <td>2</td>\n",
              "      <td>0</td>\n",
              "      <td>0</td>\n",
              "      <td>3</td>\n",
              "      <td>8.79</td>\n",
              "      <td>3</td>\n",
              "      <td>2</td>\n",
              "      <td>186</td>\n",
              "      <td>2.72</td>\n",
              "      <td>3</td>\n",
              "    </tr>\n",
              "  </tbody>\n",
              "</table>\n",
              "</div>\n",
              "      <button class=\"colab-df-convert\" onclick=\"convertToInteractive('df-915a6715-5245-4153-8d92-ad37ee34add1')\"\n",
              "              title=\"Convert this dataframe to an interactive table.\"\n",
              "              style=\"display:none;\">\n",
              "        \n",
              "  <svg xmlns=\"http://www.w3.org/2000/svg\" height=\"24px\"viewBox=\"0 0 24 24\"\n",
              "       width=\"24px\">\n",
              "    <path d=\"M0 0h24v24H0V0z\" fill=\"none\"/>\n",
              "    <path d=\"M18.56 5.44l.94 2.06.94-2.06 2.06-.94-2.06-.94-.94-2.06-.94 2.06-2.06.94zm-11 1L8.5 8.5l.94-2.06 2.06-.94-2.06-.94L8.5 2.5l-.94 2.06-2.06.94zm10 10l.94 2.06.94-2.06 2.06-.94-2.06-.94-.94-2.06-.94 2.06-2.06.94z\"/><path d=\"M17.41 7.96l-1.37-1.37c-.4-.4-.92-.59-1.43-.59-.52 0-1.04.2-1.43.59L10.3 9.45l-7.72 7.72c-.78.78-.78 2.05 0 2.83L4 21.41c.39.39.9.59 1.41.59.51 0 1.02-.2 1.41-.59l7.78-7.78 2.81-2.81c.8-.78.8-2.07 0-2.86zM5.41 20L4 18.59l7.72-7.72 1.47 1.35L5.41 20z\"/>\n",
              "  </svg>\n",
              "      </button>\n",
              "      \n",
              "  <style>\n",
              "    .colab-df-container {\n",
              "      display:flex;\n",
              "      flex-wrap:wrap;\n",
              "      gap: 12px;\n",
              "    }\n",
              "\n",
              "    .colab-df-convert {\n",
              "      background-color: #E8F0FE;\n",
              "      border: none;\n",
              "      border-radius: 50%;\n",
              "      cursor: pointer;\n",
              "      display: none;\n",
              "      fill: #1967D2;\n",
              "      height: 32px;\n",
              "      padding: 0 0 0 0;\n",
              "      width: 32px;\n",
              "    }\n",
              "\n",
              "    .colab-df-convert:hover {\n",
              "      background-color: #E2EBFA;\n",
              "      box-shadow: 0px 1px 2px rgba(60, 64, 67, 0.3), 0px 1px 3px 1px rgba(60, 64, 67, 0.15);\n",
              "      fill: #174EA6;\n",
              "    }\n",
              "\n",
              "    [theme=dark] .colab-df-convert {\n",
              "      background-color: #3B4455;\n",
              "      fill: #D2E3FC;\n",
              "    }\n",
              "\n",
              "    [theme=dark] .colab-df-convert:hover {\n",
              "      background-color: #434B5C;\n",
              "      box-shadow: 0px 1px 3px 1px rgba(0, 0, 0, 0.15);\n",
              "      filter: drop-shadow(0px 1px 2px rgba(0, 0, 0, 0.3));\n",
              "      fill: #FFFFFF;\n",
              "    }\n",
              "  </style>\n",
              "\n",
              "      <script>\n",
              "        const buttonEl =\n",
              "          document.querySelector('#df-915a6715-5245-4153-8d92-ad37ee34add1 button.colab-df-convert');\n",
              "        buttonEl.style.display =\n",
              "          google.colab.kernel.accessAllowed ? 'block' : 'none';\n",
              "\n",
              "        async function convertToInteractive(key) {\n",
              "          const element = document.querySelector('#df-915a6715-5245-4153-8d92-ad37ee34add1');\n",
              "          const dataTable =\n",
              "            await google.colab.kernel.invokeFunction('convertToInteractive',\n",
              "                                                     [key], {});\n",
              "          if (!dataTable) return;\n",
              "\n",
              "          const docLinkHtml = 'Like what you see? Visit the ' +\n",
              "            '<a target=\"_blank\" href=https://colab.research.google.com/notebooks/data_table.ipynb>data table notebook</a>'\n",
              "            + ' to learn more about interactive tables.';\n",
              "          element.innerHTML = '';\n",
              "          dataTable['output_type'] = 'display_data';\n",
              "          await google.colab.output.renderOutput(dataTable, element);\n",
              "          const docLink = document.createElement('div');\n",
              "          docLink.innerHTML = docLinkHtml;\n",
              "          element.appendChild(docLink);\n",
              "        }\n",
              "      </script>\n",
              "    </div>\n",
              "  </div>\n",
              "  "
            ]
          },
          "metadata": {},
          "execution_count": 4
        }
      ]
    },
    {
      "cell_type": "code",
      "source": [
        "target.head()"
      ],
      "metadata": {
        "colab": {
          "base_uri": "https://localhost:8080/",
          "height": 206
        },
        "id": "RVA3gPUHEPKe",
        "outputId": "c87010d1-f536-4764-91d9-29603cca8442"
      },
      "execution_count": 5,
      "outputs": [
        {
          "output_type": "execute_result",
          "data": {
            "text/plain": [
              "   Habitability_score\n",
              "0               71.98\n",
              "1               71.20\n",
              "2               71.39\n",
              "3               31.46\n",
              "4               93.70"
            ],
            "text/html": [
              "\n",
              "  <div id=\"df-86f54350-484c-40a7-a2e2-de3cd84f7077\">\n",
              "    <div class=\"colab-df-container\">\n",
              "      <div>\n",
              "<style scoped>\n",
              "    .dataframe tbody tr th:only-of-type {\n",
              "        vertical-align: middle;\n",
              "    }\n",
              "\n",
              "    .dataframe tbody tr th {\n",
              "        vertical-align: top;\n",
              "    }\n",
              "\n",
              "    .dataframe thead th {\n",
              "        text-align: right;\n",
              "    }\n",
              "</style>\n",
              "<table border=\"1\" class=\"dataframe\">\n",
              "  <thead>\n",
              "    <tr style=\"text-align: right;\">\n",
              "      <th></th>\n",
              "      <th>Habitability_score</th>\n",
              "    </tr>\n",
              "  </thead>\n",
              "  <tbody>\n",
              "    <tr>\n",
              "      <th>0</th>\n",
              "      <td>71.98</td>\n",
              "    </tr>\n",
              "    <tr>\n",
              "      <th>1</th>\n",
              "      <td>71.20</td>\n",
              "    </tr>\n",
              "    <tr>\n",
              "      <th>2</th>\n",
              "      <td>71.39</td>\n",
              "    </tr>\n",
              "    <tr>\n",
              "      <th>3</th>\n",
              "      <td>31.46</td>\n",
              "    </tr>\n",
              "    <tr>\n",
              "      <th>4</th>\n",
              "      <td>93.70</td>\n",
              "    </tr>\n",
              "  </tbody>\n",
              "</table>\n",
              "</div>\n",
              "      <button class=\"colab-df-convert\" onclick=\"convertToInteractive('df-86f54350-484c-40a7-a2e2-de3cd84f7077')\"\n",
              "              title=\"Convert this dataframe to an interactive table.\"\n",
              "              style=\"display:none;\">\n",
              "        \n",
              "  <svg xmlns=\"http://www.w3.org/2000/svg\" height=\"24px\"viewBox=\"0 0 24 24\"\n",
              "       width=\"24px\">\n",
              "    <path d=\"M0 0h24v24H0V0z\" fill=\"none\"/>\n",
              "    <path d=\"M18.56 5.44l.94 2.06.94-2.06 2.06-.94-2.06-.94-.94-2.06-.94 2.06-2.06.94zm-11 1L8.5 8.5l.94-2.06 2.06-.94-2.06-.94L8.5 2.5l-.94 2.06-2.06.94zm10 10l.94 2.06.94-2.06 2.06-.94-2.06-.94-.94-2.06-.94 2.06-2.06.94z\"/><path d=\"M17.41 7.96l-1.37-1.37c-.4-.4-.92-.59-1.43-.59-.52 0-1.04.2-1.43.59L10.3 9.45l-7.72 7.72c-.78.78-.78 2.05 0 2.83L4 21.41c.39.39.9.59 1.41.59.51 0 1.02-.2 1.41-.59l7.78-7.78 2.81-2.81c.8-.78.8-2.07 0-2.86zM5.41 20L4 18.59l7.72-7.72 1.47 1.35L5.41 20z\"/>\n",
              "  </svg>\n",
              "      </button>\n",
              "      \n",
              "  <style>\n",
              "    .colab-df-container {\n",
              "      display:flex;\n",
              "      flex-wrap:wrap;\n",
              "      gap: 12px;\n",
              "    }\n",
              "\n",
              "    .colab-df-convert {\n",
              "      background-color: #E8F0FE;\n",
              "      border: none;\n",
              "      border-radius: 50%;\n",
              "      cursor: pointer;\n",
              "      display: none;\n",
              "      fill: #1967D2;\n",
              "      height: 32px;\n",
              "      padding: 0 0 0 0;\n",
              "      width: 32px;\n",
              "    }\n",
              "\n",
              "    .colab-df-convert:hover {\n",
              "      background-color: #E2EBFA;\n",
              "      box-shadow: 0px 1px 2px rgba(60, 64, 67, 0.3), 0px 1px 3px 1px rgba(60, 64, 67, 0.15);\n",
              "      fill: #174EA6;\n",
              "    }\n",
              "\n",
              "    [theme=dark] .colab-df-convert {\n",
              "      background-color: #3B4455;\n",
              "      fill: #D2E3FC;\n",
              "    }\n",
              "\n",
              "    [theme=dark] .colab-df-convert:hover {\n",
              "      background-color: #434B5C;\n",
              "      box-shadow: 0px 1px 3px 1px rgba(0, 0, 0, 0.15);\n",
              "      filter: drop-shadow(0px 1px 2px rgba(0, 0, 0, 0.3));\n",
              "      fill: #FFFFFF;\n",
              "    }\n",
              "  </style>\n",
              "\n",
              "      <script>\n",
              "        const buttonEl =\n",
              "          document.querySelector('#df-86f54350-484c-40a7-a2e2-de3cd84f7077 button.colab-df-convert');\n",
              "        buttonEl.style.display =\n",
              "          google.colab.kernel.accessAllowed ? 'block' : 'none';\n",
              "\n",
              "        async function convertToInteractive(key) {\n",
              "          const element = document.querySelector('#df-86f54350-484c-40a7-a2e2-de3cd84f7077');\n",
              "          const dataTable =\n",
              "            await google.colab.kernel.invokeFunction('convertToInteractive',\n",
              "                                                     [key], {});\n",
              "          if (!dataTable) return;\n",
              "\n",
              "          const docLinkHtml = 'Like what you see? Visit the ' +\n",
              "            '<a target=\"_blank\" href=https://colab.research.google.com/notebooks/data_table.ipynb>data table notebook</a>'\n",
              "            + ' to learn more about interactive tables.';\n",
              "          element.innerHTML = '';\n",
              "          dataTable['output_type'] = 'display_data';\n",
              "          await google.colab.output.renderOutput(dataTable, element);\n",
              "          const docLink = document.createElement('div');\n",
              "          docLink.innerHTML = docLinkHtml;\n",
              "          element.appendChild(docLink);\n",
              "        }\n",
              "      </script>\n",
              "    </div>\n",
              "  </div>\n",
              "  "
            ]
          },
          "metadata": {},
          "execution_count": 5
        }
      ]
    },
    {
      "cell_type": "markdown",
      "source": [
        "### Feature sets"
      ],
      "metadata": {
        "id": "Ch_g3qEYTF0V"
      }
    },
    {
      "cell_type": "code",
      "source": [
        "features = list(train.columns)\n",
        "\n",
        "num_features = ['Property_Area', 'Number_of_Windows', \n",
        "                'Number_of_Doors', 'Traffic_Density_Score', \n",
        "                'Air_Quality_Index', 'Neighborhood_Review']\n",
        "\n",
        "cat_features = [f for f in features if f not in num_features]\n",
        "\n",
        "onehot_cat_features = ['Property_Type']\n",
        "ordinal_cat_features = [f for f in cat_features if f not in onehot_cat_features]"
      ],
      "metadata": {
        "id": "HDdd6JDyTFbT"
      },
      "execution_count": 6,
      "outputs": []
    },
    {
      "cell_type": "code",
      "source": [
        "train[ordinal_cat_features] = train[ordinal_cat_features].astype('int8')\n",
        "train[onehot_cat_features] = train[onehot_cat_features].astype('category')\n",
        "\n",
        "test[ordinal_cat_features] = test[ordinal_cat_features].astype('int8')\n",
        "test[onehot_cat_features] = test[onehot_cat_features].astype('category')"
      ],
      "metadata": {
        "id": "_x9gLC8nNsI_"
      },
      "execution_count": 7,
      "outputs": []
    },
    {
      "cell_type": "code",
      "source": [
        "train.info()"
      ],
      "metadata": {
        "colab": {
          "base_uri": "https://localhost:8080/"
        },
        "id": "QAvBTBsqnaKe",
        "outputId": "0831f088-bec2-423b-8e8e-e50e2aab4a8b"
      },
      "execution_count": 8,
      "outputs": [
        {
          "output_type": "stream",
          "name": "stdout",
          "text": [
            "<class 'pandas.core.frame.DataFrame'>\n",
            "RangeIndex: 39499 entries, 0 to 39498\n",
            "Data columns (total 14 columns):\n",
            " #   Column                  Non-Null Count  Dtype   \n",
            "---  ------                  --------------  -----   \n",
            " 0   Property_Type           39499 non-null  category\n",
            " 1   Property_Area           39499 non-null  int64   \n",
            " 2   Number_of_Windows       39499 non-null  int64   \n",
            " 3   Number_of_Doors         39499 non-null  int64   \n",
            " 4   Furnishing              39499 non-null  int8    \n",
            " 5   Frequency_of_Powercuts  39499 non-null  int8    \n",
            " 6   Power_Backup            39499 non-null  int8    \n",
            " 7   Water_Supply            39499 non-null  int8    \n",
            " 8   Traffic_Density_Score   39499 non-null  float64 \n",
            " 9   Crime_Rate              39499 non-null  int8    \n",
            " 10  Dust_and_Noise          39499 non-null  int8    \n",
            " 11  Air_Quality_Index       39499 non-null  int64   \n",
            " 12  Neighborhood_Review     39499 non-null  float64 \n",
            " 13  aqi_range               39499 non-null  int8    \n",
            "dtypes: category(1), float64(2), int64(4), int8(7)\n",
            "memory usage: 2.1 MB\n"
          ]
        }
      ]
    },
    {
      "cell_type": "markdown",
      "source": [
        "[EDA notebook](https://github.com/stiwari-ds/data-science-competitions/blob/main/hackerearth/get_a_room_hackathon/notebooks/01_eda.ipynb)"
      ],
      "metadata": {
        "id": "YmY3oavDTkIo"
      }
    },
    {
      "cell_type": "code",
      "source": [
        "top_features = ['Neighborhood_Review', 'Furnishing', 'Crime_Rate', 'Power_Backup']\n",
        "\n",
        "rejected_features = ['Number_of_Doors', 'Traffic_Density_Score', 'aqi_range']\n",
        "reduced_features = [f for f in features if f not in rejected_features]"
      ],
      "metadata": {
        "id": "zk-1S1dpTi-V"
      },
      "execution_count": 9,
      "outputs": []
    },
    {
      "cell_type": "markdown",
      "source": [
        "# Modeling pipelines"
      ],
      "metadata": {
        "id": "kt7L-jQCWMDL"
      }
    },
    {
      "cell_type": "markdown",
      "source": [
        "**Preprocessing**"
      ],
      "metadata": {
        "id": "A3nac6O9SEFd"
      }
    },
    {
      "cell_type": "code",
      "source": [
        "onehot_encoder = Pipeline([\n",
        "    ('onehot', OneHotEncoder(drop=None, handle_unknown='ignore'))\n",
        "])\n",
        "\n",
        "numerical_pipelines = {\n",
        "    1: Pipeline([('standard_scaler', StandardScaler())]),\n",
        "\n",
        "    2: Pipeline([('robust_scaler', RobustScaler())]),\n",
        "\n",
        "    3: Pipeline([\n",
        "        ('standard_scaler', StandardScaler()),\n",
        "        ('minmax_scaler', MinMaxScaler())\n",
        "    ]),\n",
        "\n",
        "    4:Pipeline([\n",
        "        ('robust_scaler', RobustScaler()),\n",
        "        ('minmax_scaler', MinMaxScaler())\n",
        "    ]),\n",
        "\n",
        "    5: Pipeline([\n",
        "        ('quantile_uniform', QuantileTransformer(output_distribution='uniform',\n",
        "                                                 random_state=SEED))\n",
        "    ]),\n",
        "\n",
        "    6: Pipeline([\n",
        "        ('quantile_normal', QuantileTransformer(output_distribution='normal', \n",
        "                                                random_state=SEED))\n",
        "    ]),\n",
        "\n",
        "    7: Pipeline([('power_transform', PowerTransformer())]),\n",
        "\n",
        "    8: Pipeline([\n",
        "        ('kbins', KBinsDiscretizer(encode='ordinal', strategy='quantile'))\n",
        "    ])\n",
        "}"
      ],
      "metadata": {
        "id": "EsQjkRlqvMhX"
      },
      "execution_count": 10,
      "outputs": []
    },
    {
      "cell_type": "code",
      "source": [
        "i = 1\n",
        "preprocessors_dict = {}\n",
        "for num_pipe in numerical_pipelines.values():\n",
        "    preprocessors_dict[i] = ColumnTransformer(\n",
        "        transformers=[\n",
        "            #one-hot encode only 'Property_Type', remaining categorical features are ordinal\n",
        "            ('cat', onehot_encoder, make_column_selector(dtype_include=['category'])),\n",
        "            ('num', num_pipe, make_column_selector(dtype_include=['int64', 'float64']))\n",
        "        ],\n",
        "        remainder='passthrough'\n",
        "    )\n",
        "    i += 1\n",
        "    preprocessors_dict[i] = ColumnTransformer(\n",
        "        transformers=[\n",
        "            #one-hot encode all the categorical features\n",
        "            ('cat', onehot_encoder, make_column_selector(dtype_include=['category', 'int8'])),\n",
        "            ('num', num_pipe, make_column_selector(dtype_include=['int64', 'float64']))\n",
        "        ],\n",
        "        remainder='passthrough'\n",
        "    )\n",
        "    i += 1\n",
        "\n",
        "del i"
      ],
      "metadata": {
        "id": "uZHEN-6ZniMh"
      },
      "execution_count": 11,
      "outputs": []
    },
    {
      "cell_type": "code",
      "source": [
        "preprocessors_dict[16]"
      ],
      "metadata": {
        "id": "L6jrEcdfQtnn",
        "colab": {
          "base_uri": "https://localhost:8080/"
        },
        "outputId": "ffa94d6c-8966-42b2-ead1-1c6ec3c80d15"
      },
      "execution_count": 12,
      "outputs": [
        {
          "output_type": "execute_result",
          "data": {
            "text/plain": [
              "ColumnTransformer(remainder='passthrough',\n",
              "                  transformers=[('cat',\n",
              "                                 Pipeline(steps=[('onehot',\n",
              "                                                  OneHotEncoder(handle_unknown='ignore'))]),\n",
              "                                 <sklearn.compose._column_transformer.make_column_selector object at 0x7f6fdfc86050>),\n",
              "                                ('num',\n",
              "                                 Pipeline(steps=[('kbins',\n",
              "                                                  KBinsDiscretizer(encode='ordinal'))]),\n",
              "                                 <sklearn.compose._column_transformer.make_column_selector object at 0x7f6fdfc86090>)])"
            ]
          },
          "metadata": {},
          "execution_count": 12
        }
      ]
    },
    {
      "cell_type": "markdown",
      "source": [
        "**Regressors**"
      ],
      "metadata": {
        "id": "1gXvxu3jsrsh"
      }
    },
    {
      "cell_type": "code",
      "source": [
        "regressors_dict = {\n",
        "    1: lm.LinearRegression(),\n",
        "\n",
        "    2: lm.Ridge(random_state=SEED),\n",
        "\n",
        "    3: lm.ElasticNet(random_state=SEED),\n",
        "\n",
        "    4: lm.Lars(normalize=False, random_state=SEED),\n",
        "\n",
        "    5: lm.Lasso(random_state=SEED),\n",
        "\n",
        "    6: lm.LassoLars(random_state=SEED),\n",
        "\n",
        "    7: lm.LassoLarsIC(criterion='aic', normalize=False), #AkaikeIC\n",
        "\n",
        "    8: lm.LassoLarsIC(criterion='bic', normalize=False), #BayesIC\n",
        "\n",
        "    9: lm.OrthogonalMatchingPursuit(normalize=False),\n",
        "\n",
        "    10: lm.ARDRegression(),\n",
        "\n",
        "    11: lm.BayesianRidge(),\n",
        "\n",
        "    12: lm.HuberRegressor(),\n",
        "\n",
        "    13: lm.RANSACRegressor(random_state=SEED),\n",
        "\n",
        "    14: lm.TheilSenRegressor(random_state=SEED),\n",
        "\n",
        "    15: lm.PassiveAggressiveRegressor(early_stopping=True, random_state=SEED)\n",
        "}"
      ],
      "metadata": {
        "id": "HC4Y95F2gUJH"
      },
      "execution_count": 13,
      "outputs": []
    },
    {
      "cell_type": "markdown",
      "source": [
        "**Model pipeline = Preprocessor + Regressor**"
      ],
      "metadata": {
        "id": "gNmSuzAVk1mj"
      }
    },
    {
      "cell_type": "code",
      "source": [
        "models_dict = {}\n",
        "\n",
        "for i, preprocessor in preprocessors_dict.items():\n",
        "    for j, regressor in regressors_dict.items():\n",
        "        model_name = f'{i}_{j}'\n",
        "        models_dict[model_name] = Pipeline([\n",
        "            ('preprocessor', preprocessor),\n",
        "            ('regressor', regressor)\n",
        "        ])"
      ],
      "metadata": {
        "id": "2AVs70dnk9iV"
      },
      "execution_count": 14,
      "outputs": []
    },
    {
      "cell_type": "code",
      "source": [
        "models_dict['1_13']"
      ],
      "metadata": {
        "colab": {
          "base_uri": "https://localhost:8080/"
        },
        "id": "1g4tZ-S5mAjD",
        "outputId": "6f351960-3a1c-43ea-ad1d-3c2841b374df"
      },
      "execution_count": 15,
      "outputs": [
        {
          "output_type": "execute_result",
          "data": {
            "text/plain": [
              "Pipeline(steps=[('preprocessor',\n",
              "                 ColumnTransformer(remainder='passthrough',\n",
              "                                   transformers=[('cat',\n",
              "                                                  Pipeline(steps=[('onehot',\n",
              "                                                                   OneHotEncoder(handle_unknown='ignore'))]),\n",
              "                                                  <sklearn.compose._column_transformer.make_column_selector object at 0x7f6fdfc913d0>),\n",
              "                                                 ('num',\n",
              "                                                  Pipeline(steps=[('standard_scaler',\n",
              "                                                                   StandardScaler())]),\n",
              "                                                  <sklearn.compose._column_transformer.make_column_selector object at 0x7f6fdfc91510>)])),\n",
              "                ('regressor', RANSACRegressor(random_state=23))])"
            ]
          },
          "metadata": {},
          "execution_count": 15
        }
      ]
    },
    {
      "cell_type": "markdown",
      "source": [
        "**Model evaluation**"
      ],
      "metadata": {
        "id": "upJo7eJ_LqV7"
      }
    },
    {
      "cell_type": "code",
      "source": [
        "def evaluate_model(model, features, verbose=False):\n",
        "    preds_test = []\n",
        "    scores_r2 = [] #validation set R2 scores\n",
        "    scores_rmse = [] #validation set RMSE\n",
        "    \n",
        "    X, X_test, y = train[features], test[features], target\n",
        "    \n",
        "    cv = KFold(n_splits=5, shuffle=True, random_state=SEED)\n",
        "    for fold, (train_idx, val_idx) in enumerate(cv.split(X, y)):\n",
        "        X_train, y_train = X.loc[train_idx], y.iloc[train_idx]\n",
        "        X_val, y_val = X.loc[val_idx], y.iloc[val_idx]\n",
        "        \n",
        "        model.fit(X_train, y_train)\n",
        "        preds_val = model.predict(X_val)\n",
        "        preds_test.append(model.predict(X_test))\n",
        "        \n",
        "        scores_rmse.append(mean_squared_error(y_val, preds_val, squared=False))\n",
        "        scores_r2.append(r2_score(y_val, preds_val))\n",
        "    \n",
        "    if verbose:\n",
        "        scores_df = pd.DataFrame.from_dict({\n",
        "            'RMSE': scores_rmse,\n",
        "            'R2-score': scores_r2\n",
        "        })\n",
        "        scores_df.index.name = 'Fold'\n",
        "        display(scores_df)\n",
        "    \n",
        "    print(f'Avg. RMSE = {np.mean(scores_rmse):.4f}, ' \\\n",
        "          f'Avg. R2-score = {max(0, np.mean(scores_r2)):.4f}')\n",
        "    \n",
        "    preds_test = np.mean(np.column_stack(preds_test), axis=1)\n",
        "    return preds_test, max(0, np.mean(scores_r2))"
      ],
      "metadata": {
        "id": "SOL55HYqLqBF"
      },
      "execution_count": 21,
      "outputs": []
    },
    {
      "cell_type": "code",
      "source": [
        "predictions_dict = {}\n",
        "scores_dict = {}"
      ],
      "metadata": {
        "id": "kEbXxQ0Amff7"
      },
      "execution_count": 22,
      "outputs": []
    },
    {
      "cell_type": "markdown",
      "source": [
        "### Configuration 1: Target column not transformed"
      ],
      "metadata": {
        "id": "Y0Dh4rzIF5Fy"
      }
    },
    {
      "cell_type": "markdown",
      "source": [
        "**Naming convention for predictions:  (model_num)-(feature_set)-(target_configuration)**"
      ],
      "metadata": {
        "id": "Vx_u5B5JPZIx"
      }
    },
    {
      "cell_type": "code",
      "source": [
        "for model_num, model in models_dict.items():\n",
        "    print(f'\\n--- Model number: {model_num} ---')\n",
        "    \n",
        "    print(f'Feature set - TOP:')\n",
        "    #top - 0, reduced - 1, all - 2\n",
        "    predictions_dict[f'{model_num}-0-1'], scores_dict[f'{model_num}-0-1'] = evaluate_model(model, top_features)\n",
        "\n",
        "    print(f'Feature set - REDUCED')\n",
        "    predictions_dict[f'{model_num}-1-1'], scores_dict[f'{model_num}-1-1'] = evaluate_model(model, reduced_features)\n",
        "\n",
        "    print(f'Feature set - ALL')\n",
        "    predictions_dict[f'{model_num}-2-1'], scores_dict[f'{model_num}-2-1'] = evaluate_model(model, features)\n",
        "\n",
        "    _ = gc.collect()"
      ],
      "metadata": {
        "id": "KLyyvGRkGGMB"
      },
      "execution_count": null,
      "outputs": []
    },
    {
      "cell_type": "markdown",
      "source": [
        "### Configuration 2: Manually transformed target"
      ],
      "metadata": {
        "id": "l3hI3aNBYuEI"
      }
    },
    {
      "cell_type": "code",
      "source": [
        "for model_num, model in models_dict.items():\n",
        "    transformed_model = TransformedTargetRegressor(\n",
        "        regressor=model,\n",
        "        func=lambda x: x / 20,\n",
        "        inverse_func=lambda x: x * 20,\n",
        "        check_inverse=True\n",
        "    )\n",
        "    print(f'\\n--- Model number: {model_num} ---')\n",
        "    \n",
        "    print(f'Feature set - TOP')\n",
        "    #top - 0, reduced - 1, all - 2\n",
        "    predictions_dict[f'{model_num}-0-2'], scores_dict[f'{model_num}-0-2'] = evaluate_model(transformed_model, top_features)\n",
        "\n",
        "    print(f'Feature set - REDUCED')\n",
        "    predictions_dict[f'{model_num}-1-2'], scores_dict[f'{model_num}-1-2'] = evaluate_model(transformed_model, reduced_features)\n",
        "\n",
        "    print(f'Feature set - ALL')\n",
        "    predictions_dict[f'{model_num}-2-2'], scores_dict[f'{model_num}-2-2'] = evaluate_model(transformed_model, features)\n",
        "\n",
        "    _ = gc.collect()"
      ],
      "metadata": {
        "id": "E3nRHes5Qmv7"
      },
      "execution_count": null,
      "outputs": []
    },
    {
      "cell_type": "markdown",
      "source": [
        "### Configuration 3: Quantile-transformed target"
      ],
      "metadata": {
        "id": "mwr-4t86Yyzb"
      }
    },
    {
      "cell_type": "code",
      "source": [
        "for model_num, model in models_dict.items():\n",
        "    transformed_model = TransformedTargetRegressor(\n",
        "        regressor=model,\n",
        "        transformer=QuantileTransformer(output_distribution='normal', random_state=SEED)\n",
        "    )\n",
        "    print(f'\\n--- Model number: {model_num} ---')\n",
        "    \n",
        "    print(f'Feature set - TOP')\n",
        "    #top - 0, reduced - 1, all - 2\n",
        "    predictions_dict[f'{model_num}-0-3'], scores_dict[f'{model_num}-0-3'] = evaluate_model(transformed_model, top_features)\n",
        "\n",
        "    print(f'Feature set - REDUCED')\n",
        "    predictions_dict[f'{model_num}-1-3'], scores_dict[f'{model_num}-1-3'] = evaluate_model(transformed_model, reduced_features)\n",
        "\n",
        "    print(f'Feature set - ALL')\n",
        "    predictions_dict[f'{model_num}-2-3'], scores_dict[f'{model_num}-2-3'] = evaluate_model(transformed_model, features)\n",
        "\n",
        "    _ = gc.collect()"
      ],
      "metadata": {
        "id": "v4WD95V1Y6AY"
      },
      "execution_count": null,
      "outputs": []
    },
    {
      "cell_type": "code",
      "source": [
        "max(scores_dict, key=scores_dict.get)"
      ],
      "metadata": {
        "colab": {
          "base_uri": "https://localhost:8080/",
          "height": 35
        },
        "id": "CVobw2VxBqi0",
        "outputId": "493e17d0-06ab-402a-dcac-6c9e0d6cea55"
      },
      "execution_count": 27,
      "outputs": [
        {
          "output_type": "execute_result",
          "data": {
            "text/plain": [
              "'6_12-2-3'"
            ],
            "application/vnd.google.colaboratory.intrinsic+json": {
              "type": "string"
            }
          },
          "metadata": {},
          "execution_count": 27
        }
      ]
    },
    {
      "cell_type": "code",
      "source": [
        "scores_dict['6_12-2-3']"
      ],
      "metadata": {
        "colab": {
          "base_uri": "https://localhost:8080/"
        },
        "id": "BaNy16ldB38Z",
        "outputId": "6f583a15-6311-493a-deb7-769d0d380ad2"
      },
      "execution_count": 28,
      "outputs": [
        {
          "output_type": "execute_result",
          "data": {
            "text/plain": [
              "0.6956465499807586"
            ]
          },
          "metadata": {},
          "execution_count": 28
        }
      ]
    },
    {
      "cell_type": "code",
      "source": [
        "predictions_dict['6_12-2-3'][:10]"
      ],
      "metadata": {
        "colab": {
          "base_uri": "https://localhost:8080/"
        },
        "id": "Jfu-QC85CaYj",
        "outputId": "5bf1b0aa-ee0a-40c2-b2a7-1b95539de01c"
      },
      "execution_count": 32,
      "outputs": [
        {
          "output_type": "execute_result",
          "data": {
            "text/plain": [
              "array([32.02256803, 75.02372683, 67.77698567, 72.72623188, 72.23317077,\n",
              "       68.23009626, 80.50028303, 71.75880382, 79.74746496, 78.68462865])"
            ]
          },
          "metadata": {},
          "execution_count": 32
        }
      ]
    },
    {
      "cell_type": "markdown",
      "source": [
        "# Generating submission file"
      ],
      "metadata": {
        "id": "hNWZDp-6DG18"
      }
    },
    {
      "cell_type": "code",
      "source": [
        "sub_16_12 = pd.DataFrame({\n",
        "    'Property_ID': test.Property_ID,\n",
        "    'Habitability_score': predictions_dict['16_12-2-3']\n",
        "})\n",
        "sub_16_12.to_csv('02-sub-16_12-2-3.csv', index=False)"
      ],
      "metadata": {
        "id": "NeG0fNKvChrc"
      },
      "execution_count": 36,
      "outputs": []
    },
    {
      "cell_type": "code",
      "source": [
        "sub_6_12 = pd.DataFrame({\n",
        "    'Property_ID': test.Property_ID,\n",
        "    'Habitability_score': predictions_dict['6_12-2-3']\n",
        "})\n",
        "sub_6_12.to_csv('02-sub-6_12-2-3.csv', index=False)"
      ],
      "metadata": {
        "id": "jr4EGZ3AJtMs"
      },
      "execution_count": 37,
      "outputs": []
    },
    {
      "cell_type": "code",
      "source": [
        "!head 02-sub-6_12-2-3.csv"
      ],
      "metadata": {
        "colab": {
          "base_uri": "https://localhost:8080/"
        },
        "id": "2P7RQQcAJykE",
        "outputId": "b1a23e40-c650-4df7-f403-32c7872f5679"
      },
      "execution_count": 38,
      "outputs": [
        {
          "output_type": "stream",
          "name": "stdout",
          "text": [
            "Property_ID,Habitability_score\n",
            "0x6e93,32.02256802546572\n",
            "0x8787,75.02372683131316\n",
            "0x6c17,67.77698567251244\n",
            "0x9dbd,72.72623187636742\n",
            "0xbfde,72.23317076824536\n",
            "0x6a39,68.230096260093\n",
            "0x47a6,80.50028302569049\n",
            "0x7687,71.75880381779663\n",
            "0x963a,79.74746495790177\n"
          ]
        }
      ]
    }
  ]
}