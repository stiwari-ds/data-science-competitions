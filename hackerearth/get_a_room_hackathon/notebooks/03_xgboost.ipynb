{
  "nbformat": 4,
  "nbformat_minor": 0,
  "metadata": {
    "colab": {
      "name": "03-xgboost",
      "provenance": [],
      "authorship_tag": "ABX9TyOFDUJSuy+Eb8we8nYExfCA",
      "include_colab_link": true
    },
    "kernelspec": {
      "name": "python3",
      "display_name": "Python 3"
    },
    "language_info": {
      "name": "python"
    },
    "accelerator": "GPU",
    "gpuClass": "standard"
  },
  "cells": [
    {
      "cell_type": "markdown",
      "metadata": {
        "id": "view-in-github",
        "colab_type": "text"
      },
      "source": [
        "<a href=\"https://colab.research.google.com/github/stiwari-ds/data-science-competitions/blob/main/hackerearth/get_a_room_hackathon/notebooks/03_xgboost.ipynb\" target=\"_parent\"><img src=\"https://colab.research.google.com/assets/colab-badge.svg\" alt=\"Open In Colab\"/></a>"
      ]
    },
    {
      "cell_type": "markdown",
      "source": [
        "# Setup"
      ],
      "metadata": {
        "id": "iNBBHKV4PPuL"
      }
    },
    {
      "cell_type": "code",
      "source": [
        "%%capture\n",
        "!pip install --upgrade xgboost\n",
        "!pip install --upgrade optuna"
      ],
      "metadata": {
        "id": "mSFEu5pbOG8H"
      },
      "execution_count": null,
      "outputs": []
    },
    {
      "cell_type": "code",
      "source": [
        "import os\n",
        "import gc\n",
        "import warnings\n",
        "import subprocess\n",
        "\n",
        "gc.enable()\n",
        "warnings.filterwarnings('ignore')\n",
        "\n",
        "import numpy as np\n",
        "import pandas as pd\n",
        "pd.set_option('display.max_columns', None)\n",
        "pd.set_option('display.precision', 4)\n",
        "\n",
        "import xgboost\n",
        "import optuna\n",
        "optuna.logging.set_verbosity(optuna.logging.ERROR)\n",
        "\n",
        "from optuna.samplers import TPESampler\n",
        "from optuna.pruners import HyperbandPruner\n",
        "from optuna.integration import XGBoostPruningCallback\n",
        "from xgboost import XGBRegressor\n",
        "\n",
        "from sklearn.model_selection import KFold, train_test_split\n",
        "from sklearn.metrics import r2_score, mean_squared_error"
      ],
      "metadata": {
        "id": "ED0nrDojUJwv"
      },
      "execution_count": null,
      "outputs": []
    },
    {
      "cell_type": "code",
      "source": [
        "#remove cell to run future versions\n",
        "assert optuna.__version__ == '2.10.1', f'Change in Optuna version. Original notebook version: 2.10.1'\n",
        "assert xgboost.__version__ == '1.6.1', f'Change in XGBoost version. Original notebook version: 1.6.1'"
      ],
      "metadata": {
        "id": "DqK-iTY57-Dd"
      },
      "execution_count": null,
      "outputs": []
    },
    {
      "cell_type": "code",
      "source": [
        "SEED = 23\n",
        "os.environ['PYTHONHASHSEED'] = str(SEED)\n",
        "np.random.seed(SEED)"
      ],
      "metadata": {
        "id": "svKMbiWOmyLo"
      },
      "execution_count": null,
      "outputs": []
    },
    {
      "cell_type": "code",
      "source": [
        "#Check GPU availability\n",
        "try:\n",
        "    subprocess.check_output('nvidia-smi')\n",
        "    GPU = True\n",
        "except Exception:\n",
        "    GPU = False\n",
        "\n",
        "print(f'GPU available: {GPU}')"
      ],
      "metadata": {
        "id": "Zx-xMI1_gxJP",
        "colab": {
          "base_uri": "https://localhost:8080/"
        },
        "outputId": "a1747705-e541-4e6a-d029-4ad11ea05f7e"
      },
      "execution_count": null,
      "outputs": [
        {
          "output_type": "stream",
          "name": "stdout",
          "text": [
            "GPU available: True\n"
          ]
        }
      ]
    },
    {
      "cell_type": "markdown",
      "source": [
        "**Data**"
      ],
      "metadata": {
        "id": "1J4pyhWsPqyd"
      }
    },
    {
      "cell_type": "code",
      "source": [
        "data_url = 'https://raw.githubusercontent.com/stiwari-ds/data-science-competitions/main/hackerearth/get_a_room_hackathon/data/'\n",
        "\n",
        "train = pd.read_csv(data_url + 'processed/train.csv')\n",
        "test = pd.read_csv(data_url + 'processed/test.csv')\n",
        "test_index = test.pop('Property_ID')\n",
        "\n",
        "target_url = data_url + 'raw/train.csv'\n",
        "target = pd.read_csv(target_url, usecols=['Habitability_score']).iloc[:, 0]"
      ],
      "metadata": {
        "id": "PVa8_7qvPs3u"
      },
      "execution_count": null,
      "outputs": []
    },
    {
      "cell_type": "code",
      "source": [
        "features = list(train.columns)\n",
        "\n",
        "num_features = ['Property_Area', 'Number_of_Windows', \n",
        "                'Number_of_Doors', 'Traffic_Density_Score', \n",
        "                'Air_Quality_Index', 'Neighborhood_Review']\n",
        "\n",
        "cat_features = [f for f in features if f not in num_features]"
      ],
      "metadata": {
        "id": "aBkNTYqxQD6L"
      },
      "execution_count": null,
      "outputs": []
    },
    {
      "cell_type": "code",
      "source": [
        "train[cat_features] = train[cat_features].astype('category')\n",
        "test[cat_features] = test[cat_features].astype('category')"
      ],
      "metadata": {
        "id": "TgHmi80JSBjL"
      },
      "execution_count": null,
      "outputs": []
    },
    {
      "cell_type": "markdown",
      "source": [
        "[From EDA notebook](https://github.com/stiwari-ds/data-science-competitions/blob/main/analytics_vidhya/jobathon_aug22/notebooks/01_eda.ipynb)"
      ],
      "metadata": {
        "id": "X62ol05eUoqI"
      }
    },
    {
      "cell_type": "code",
      "source": [
        "top_features = ['Neighborhood_Review', 'Furnishing', 'Crime_Rate', 'Power_Backup']\n",
        "\n",
        "rejected_features = ['Number_of_Doors', 'Traffic_Density_Score', 'aqi_range']\n",
        "reduced_features = [f for f in features if f not in rejected_features]"
      ],
      "metadata": {
        "id": "7v4ydEsnUlJu"
      },
      "execution_count": null,
      "outputs": []
    },
    {
      "cell_type": "markdown",
      "source": [
        "# Hyperparameter tuning"
      ],
      "metadata": {
        "id": "oVZEqwhQ2oi2"
      }
    },
    {
      "cell_type": "code",
      "source": [
        "def objective(trial, data, base_params):\n",
        "\n",
        "    scores = []\n",
        "    X, y = data\n",
        "    cat_features = list(X.select_dtypes(include='category').columns)\n",
        "\n",
        "    param_grid = {\n",
        "        'learning_rate': trial.suggest_float(\n",
        "            'learning_rate', 0.05, 0.4, step=0.025),\n",
        "        'max_depth': trial.suggest_int('max_depth', 2, 15),\n",
        "        'subsample': trial.suggest_float('subsample', 0.5, 1.0, step=0.05),\n",
        "        'colsample_bytree': trial.suggest_float(\n",
        "            'colsample_bytree', 0.5, 1.0, step=0.05),\n",
        "        'colsample_bylevel': trial.suggest_float(\n",
        "            'colsample_bylevel', 0.5, 1.0, step=0.05),\n",
        "        'colsample_bynode': trial.suggest_float(\n",
        "            'colsample_bynode', 0.5, 1.0, step=0.05),\n",
        "        'min_child_weight': trial.suggest_int('min_child_weight', 2, 10),\n",
        "        'gamma': trial.suggest_float('gamma', 0, 20),\n",
        "        'alpha': trial.suggest_float('alpha', 1e-5, 1e2, log=True),\n",
        "        'lambda': trial.suggest_float('lambda', 1e-5, 1e2, log=True)\n",
        "    }\n",
        "\n",
        "    cv = KFold(n_splits=5, shuffle=True, random_state=SEED)\n",
        "    for fold, (train_idx, val_idx) in enumerate(cv.split(X, y)):\n",
        "        X_train, y_train = X.loc[train_idx], y.iloc[train_idx]\n",
        "        X_val, y_val = X.loc[val_idx], y.iloc[val_idx]\n",
        "        model = XGBRegressor(\n",
        "            **base_params, \n",
        "            **param_grid,\n",
        "            callbacks=[XGBoostPruningCallback(\n",
        "                trial=trial, \n",
        "                observation_key='validation_0-rmse')]\n",
        "        )\n",
        "        model.fit(\n",
        "            X_train, y_train,\n",
        "            eval_set=[(X_val, y_val)],\n",
        "            verbose=0\n",
        "        )\n",
        "        preds = model.predict(X_val)\n",
        "        scores.append(mean_squared_error(y_val, preds, squared=False))\n",
        "    \n",
        "    return np.mean(scores)"
      ],
      "metadata": {
        "id": "i3VeEFRe2oBe"
      },
      "execution_count": null,
      "outputs": []
    },
    {
      "cell_type": "code",
      "source": [
        "def tune_params(data, base_params, n_trials=10, direction='maximize'):\n",
        "    study = optuna.create_study(\n",
        "        sampler=TPESampler(seed=SEED),\n",
        "        pruner=HyperbandPruner(),\n",
        "        direction=direction)\n",
        "    \n",
        "    study.optimize(\n",
        "        func=lambda trial: objective(trial, data, base_params),\n",
        "        n_trials=n_trials,\n",
        "        gc_after_trial=True)\n",
        "    \n",
        "    return study"
      ],
      "metadata": {
        "id": "7JCjxMSuT3Ep"
      },
      "execution_count": null,
      "outputs": []
    },
    {
      "cell_type": "markdown",
      "source": [
        "# Cross-validation"
      ],
      "metadata": {
        "id": "0-89LWIEHeTr"
      }
    },
    {
      "cell_type": "code",
      "source": [
        "def evaluate_model(data, model_params, verbose=True):\n",
        "    \n",
        "    preds_test = []\n",
        "    scores_r2 = [] #validation set r2-scores\n",
        "    scores_rmse = [] #validation set RMSE loss\n",
        "    \n",
        "    X, X_test, y = data\n",
        "    cat_features = list(X.select_dtypes(include='category').columns)\n",
        "    \n",
        "    cv = KFold(n_splits=5, shuffle=True, random_state=SEED)\n",
        "    for fold, (train_idx, val_idx) in enumerate(cv.split(X, y)):\n",
        "        X_train, y_train = X.loc[train_idx], y.iloc[train_idx]\n",
        "        X_val, y_val = X.loc[val_idx], y.iloc[val_idx]\n",
        "        \n",
        "        model = XGBRegressor(**model_params)\n",
        "        model.fit(\n",
        "            X_train, y_train,\n",
        "            eval_set=[(X_val, y_val)],\n",
        "            verbose=0)\n",
        "        \n",
        "        preds_val = model.predict(X_val)\n",
        "        preds_test.append(model.predict(X_test))\n",
        "        \n",
        "        scores_rmse.append(mean_squared_error(y_val, preds_val, squared=False))\n",
        "        scores_r2.append(r2_score(y_val, preds_val))\n",
        "    \n",
        "    if verbose:\n",
        "        scores_df = pd.DataFrame.from_dict({\n",
        "            'RMSE': scores_rmse,\n",
        "            'R2': scores_r2\n",
        "        })\n",
        "        scores_df.index.name = 'Fold'\n",
        "        display(scores_df)\n",
        "    \n",
        "    print(f'Average RMSE = {np.mean(scores_rmse):.4f} (with std = {np.std(scores_rmse):.4f})')\n",
        "    print(f'Average R2-score = {np.mean(scores_r2):.4f} (with std = {np.std(scores_r2):.4f})\\n')\n",
        "    \n",
        "    preds_test = np.mean(np.column_stack(preds_test), axis=1)\n",
        "    return preds_test"
      ],
      "metadata": {
        "id": "OsTtaJBBYryk"
      },
      "execution_count": null,
      "outputs": []
    },
    {
      "cell_type": "code",
      "source": [
        "def run_experiment(data, n_trials=5):\n",
        "        \n",
        "    X, X_test, y = data\n",
        "    \n",
        "    base_params = {\n",
        "        'objective': 'reg:squarederror',\n",
        "        'n_estimators': 10000,\n",
        "        'booster': 'gbtree',\n",
        "        'eval_metric': 'rmse',\n",
        "        'early_stopping_rounds': 50,\n",
        "        'tree_method': 'gpu_hist' if GPU else 'hist', \n",
        "        'enable_categorical': GPU,\n",
        "        'max_cat_to_onehot': 6, #internal one-hot encoding\n",
        "        'verbosity': 1,\n",
        "        'seed': SEED\n",
        "    }\n",
        "    \n",
        "    print(f'---------------Hyperparameter tuning---------------')\n",
        "    study = tune_params(\n",
        "        data=(X, y), \n",
        "        base_params=base_params,\n",
        "        n_trials=n_trials,\n",
        "        direction='minimize')\n",
        "    print(f'Best trial: {study.best_trial.number} -> Best value (RMSE): {study.best_value:.5f}')\n",
        "    print(f'Best hyperparameters:')\n",
        "    for k, v in study.best_params.items():\n",
        "        print(f'{k:20} - {v}')\n",
        "    \n",
        "    model_params = {**base_params, **study.best_params}\n",
        "    print(f'-----------------Cross-validation------------------')\n",
        "    preds_test = evaluate_model(\n",
        "        data=(X, X_test, y), \n",
        "        model_params=model_params)\n",
        "    \n",
        "    return preds_test"
      ],
      "metadata": {
        "id": "I0TOKMzxhRt-"
      },
      "execution_count": null,
      "outputs": []
    },
    {
      "cell_type": "code",
      "source": [
        "%%time\n",
        "preds_all = run_experiment(\n",
        "    (train[features], test[features], target), 500)"
      ],
      "metadata": {
        "colab": {
          "base_uri": "https://localhost:8080/",
          "height": 567
        },
        "id": "cRdlDF4lLcn4",
        "outputId": "6d9e89f2-649e-4ae9-b19d-f96e8504e15d"
      },
      "execution_count": null,
      "outputs": [
        {
          "output_type": "stream",
          "name": "stdout",
          "text": [
            "---------------Hyperparameter tuning---------------\n",
            "Best trial: 405 -> Best value (RMSE): 5.93284\n",
            "Best hyperparameters:\n",
            "learning_rate        - 0.05\n",
            "max_depth            - 12\n",
            "subsample            - 0.75\n",
            "colsample_bytree     - 0.9\n",
            "colsample_bylevel    - 0.9\n",
            "colsample_bynode     - 0.7\n",
            "min_child_weight     - 5\n",
            "gamma                - 15.16067712325734\n",
            "alpha                - 0.2866930272108723\n",
            "lambda               - 0.014793815846558643\n",
            "-----------------Cross-validation------------------\n"
          ]
        },
        {
          "output_type": "display_data",
          "data": {
            "text/plain": [
              "        RMSE      R2\n",
              "Fold                \n",
              "0     5.9183  0.8226\n",
              "1     6.0023  0.8222\n",
              "2     5.9535  0.8220\n",
              "3     6.0182  0.8192\n",
              "4     5.7718  0.8309"
            ],
            "text/html": [
              "\n",
              "  <div id=\"df-c1565bc3-b89e-4bb9-ab2f-81e47a09fa82\">\n",
              "    <div class=\"colab-df-container\">\n",
              "      <div>\n",
              "<style scoped>\n",
              "    .dataframe tbody tr th:only-of-type {\n",
              "        vertical-align: middle;\n",
              "    }\n",
              "\n",
              "    .dataframe tbody tr th {\n",
              "        vertical-align: top;\n",
              "    }\n",
              "\n",
              "    .dataframe thead th {\n",
              "        text-align: right;\n",
              "    }\n",
              "</style>\n",
              "<table border=\"1\" class=\"dataframe\">\n",
              "  <thead>\n",
              "    <tr style=\"text-align: right;\">\n",
              "      <th></th>\n",
              "      <th>RMSE</th>\n",
              "      <th>R2</th>\n",
              "    </tr>\n",
              "    <tr>\n",
              "      <th>Fold</th>\n",
              "      <th></th>\n",
              "      <th></th>\n",
              "    </tr>\n",
              "  </thead>\n",
              "  <tbody>\n",
              "    <tr>\n",
              "      <th>0</th>\n",
              "      <td>5.9183</td>\n",
              "      <td>0.8226</td>\n",
              "    </tr>\n",
              "    <tr>\n",
              "      <th>1</th>\n",
              "      <td>6.0023</td>\n",
              "      <td>0.8222</td>\n",
              "    </tr>\n",
              "    <tr>\n",
              "      <th>2</th>\n",
              "      <td>5.9535</td>\n",
              "      <td>0.8220</td>\n",
              "    </tr>\n",
              "    <tr>\n",
              "      <th>3</th>\n",
              "      <td>6.0182</td>\n",
              "      <td>0.8192</td>\n",
              "    </tr>\n",
              "    <tr>\n",
              "      <th>4</th>\n",
              "      <td>5.7718</td>\n",
              "      <td>0.8309</td>\n",
              "    </tr>\n",
              "  </tbody>\n",
              "</table>\n",
              "</div>\n",
              "      <button class=\"colab-df-convert\" onclick=\"convertToInteractive('df-c1565bc3-b89e-4bb9-ab2f-81e47a09fa82')\"\n",
              "              title=\"Convert this dataframe to an interactive table.\"\n",
              "              style=\"display:none;\">\n",
              "        \n",
              "  <svg xmlns=\"http://www.w3.org/2000/svg\" height=\"24px\"viewBox=\"0 0 24 24\"\n",
              "       width=\"24px\">\n",
              "    <path d=\"M0 0h24v24H0V0z\" fill=\"none\"/>\n",
              "    <path d=\"M18.56 5.44l.94 2.06.94-2.06 2.06-.94-2.06-.94-.94-2.06-.94 2.06-2.06.94zm-11 1L8.5 8.5l.94-2.06 2.06-.94-2.06-.94L8.5 2.5l-.94 2.06-2.06.94zm10 10l.94 2.06.94-2.06 2.06-.94-2.06-.94-.94-2.06-.94 2.06-2.06.94z\"/><path d=\"M17.41 7.96l-1.37-1.37c-.4-.4-.92-.59-1.43-.59-.52 0-1.04.2-1.43.59L10.3 9.45l-7.72 7.72c-.78.78-.78 2.05 0 2.83L4 21.41c.39.39.9.59 1.41.59.51 0 1.02-.2 1.41-.59l7.78-7.78 2.81-2.81c.8-.78.8-2.07 0-2.86zM5.41 20L4 18.59l7.72-7.72 1.47 1.35L5.41 20z\"/>\n",
              "  </svg>\n",
              "      </button>\n",
              "      \n",
              "  <style>\n",
              "    .colab-df-container {\n",
              "      display:flex;\n",
              "      flex-wrap:wrap;\n",
              "      gap: 12px;\n",
              "    }\n",
              "\n",
              "    .colab-df-convert {\n",
              "      background-color: #E8F0FE;\n",
              "      border: none;\n",
              "      border-radius: 50%;\n",
              "      cursor: pointer;\n",
              "      display: none;\n",
              "      fill: #1967D2;\n",
              "      height: 32px;\n",
              "      padding: 0 0 0 0;\n",
              "      width: 32px;\n",
              "    }\n",
              "\n",
              "    .colab-df-convert:hover {\n",
              "      background-color: #E2EBFA;\n",
              "      box-shadow: 0px 1px 2px rgba(60, 64, 67, 0.3), 0px 1px 3px 1px rgba(60, 64, 67, 0.15);\n",
              "      fill: #174EA6;\n",
              "    }\n",
              "\n",
              "    [theme=dark] .colab-df-convert {\n",
              "      background-color: #3B4455;\n",
              "      fill: #D2E3FC;\n",
              "    }\n",
              "\n",
              "    [theme=dark] .colab-df-convert:hover {\n",
              "      background-color: #434B5C;\n",
              "      box-shadow: 0px 1px 3px 1px rgba(0, 0, 0, 0.15);\n",
              "      filter: drop-shadow(0px 1px 2px rgba(0, 0, 0, 0.3));\n",
              "      fill: #FFFFFF;\n",
              "    }\n",
              "  </style>\n",
              "\n",
              "      <script>\n",
              "        const buttonEl =\n",
              "          document.querySelector('#df-c1565bc3-b89e-4bb9-ab2f-81e47a09fa82 button.colab-df-convert');\n",
              "        buttonEl.style.display =\n",
              "          google.colab.kernel.accessAllowed ? 'block' : 'none';\n",
              "\n",
              "        async function convertToInteractive(key) {\n",
              "          const element = document.querySelector('#df-c1565bc3-b89e-4bb9-ab2f-81e47a09fa82');\n",
              "          const dataTable =\n",
              "            await google.colab.kernel.invokeFunction('convertToInteractive',\n",
              "                                                     [key], {});\n",
              "          if (!dataTable) return;\n",
              "\n",
              "          const docLinkHtml = 'Like what you see? Visit the ' +\n",
              "            '<a target=\"_blank\" href=https://colab.research.google.com/notebooks/data_table.ipynb>data table notebook</a>'\n",
              "            + ' to learn more about interactive tables.';\n",
              "          element.innerHTML = '';\n",
              "          dataTable['output_type'] = 'display_data';\n",
              "          await google.colab.output.renderOutput(dataTable, element);\n",
              "          const docLink = document.createElement('div');\n",
              "          docLink.innerHTML = docLinkHtml;\n",
              "          element.appendChild(docLink);\n",
              "        }\n",
              "      </script>\n",
              "    </div>\n",
              "  </div>\n",
              "  "
            ]
          },
          "metadata": {}
        },
        {
          "output_type": "stream",
          "name": "stdout",
          "text": [
            "Average RMSE = 5.9328 (with std = 0.0880)\n",
            "Average R2-score = 0.8234 (with std = 0.0039)\n",
            "\n",
            "CPU times: user 47min 43s, sys: 13.3 s, total: 47min 56s\n",
            "Wall time: 46min 32s\n"
          ]
        }
      ]
    },
    {
      "cell_type": "markdown",
      "source": [
        "# Generating submissions"
      ],
      "metadata": {
        "id": "RPzMgFLRfRDZ"
      }
    },
    {
      "cell_type": "code",
      "source": [
        "preds_all[:5]"
      ],
      "metadata": {
        "colab": {
          "base_uri": "https://localhost:8080/"
        },
        "id": "-PTiqDaGRDud",
        "outputId": "f530c777-a131-4b98-87aa-a940743ef137"
      },
      "execution_count": null,
      "outputs": [
        {
          "output_type": "execute_result",
          "data": {
            "text/plain": [
              "array([30.367  , 80.28141, 66.61123, 71.2711 , 74.77852], dtype=float32)"
            ]
          },
          "metadata": {},
          "execution_count": 17
        }
      ]
    },
    {
      "cell_type": "code",
      "source": [
        "sub_all = pd.DataFrame({\n",
        "    'Property_ID': test_index,\n",
        "    'Habitability_score': preds_all\n",
        "})\n",
        "sub_all.to_csv('03_sub_all.csv', index=False)"
      ],
      "metadata": {
        "id": "7oQ92kfEfV5W"
      },
      "execution_count": null,
      "outputs": []
    },
    {
      "cell_type": "code",
      "source": [
        "!head 03_sub_all.csv"
      ],
      "metadata": {
        "id": "thYYFP8ZNEBY",
        "outputId": "b84ecc12-5cd3-41c8-d346-cf09d88e92d4",
        "colab": {
          "base_uri": "https://localhost:8080/"
        }
      },
      "execution_count": null,
      "outputs": [
        {
          "output_type": "stream",
          "name": "stdout",
          "text": [
            "Property_ID,Habitability_score\n",
            "0x6e93,30.367\n",
            "0x8787,80.28141\n",
            "0x6c17,66.61123\n",
            "0x9dbd,71.2711\n",
            "0xbfde,74.77852\n",
            "0x6a39,70.15763\n",
            "0x47a6,74.32289\n",
            "0x7687,71.8647\n",
            "0x963a,74.88786\n"
          ]
        }
      ]
    }
  ]
}