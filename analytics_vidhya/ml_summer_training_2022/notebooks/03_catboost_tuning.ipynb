{
  "nbformat": 4,
  "nbformat_minor": 0,
  "metadata": {
    "colab": {
      "name": "03-catboost-tuning",
      "provenance": [],
      "collapsed_sections": [],
      "authorship_tag": "ABX9TyOM7YnFnJ57zINwy9eTALTy",
      "include_colab_link": true
    },
    "kernelspec": {
      "name": "python3",
      "display_name": "Python 3"
    },
    "language_info": {
      "name": "python"
    },
    "accelerator": "GPU",
    "gpuClass": "standard"
  },
  "cells": [
    {
      "cell_type": "markdown",
      "metadata": {
        "id": "view-in-github",
        "colab_type": "text"
      },
      "source": [
        "<a href=\"https://colab.research.google.com/github/stiwari-ds/data-science-competitions/blob/main/analytics_vidhya/ml_summer_training_2022/notebooks/03_catboost_tuning.ipynb\" target=\"_parent\"><img src=\"https://colab.research.google.com/assets/colab-badge.svg\" alt=\"Open In Colab\"/></a>"
      ]
    },
    {
      "cell_type": "markdown",
      "source": [
        "# Setup"
      ],
      "metadata": {
        "id": "FBb9nq971Rqt"
      }
    },
    {
      "cell_type": "code",
      "source": [
        "%%capture\n",
        "!pip install --upgrade catboost\n",
        "!pip install --upgrade optuna"
      ],
      "metadata": {
        "id": "GS0g__Ik17FE"
      },
      "execution_count": 1,
      "outputs": []
    },
    {
      "cell_type": "code",
      "execution_count": 2,
      "metadata": {
        "id": "FQqsFgvz1JCt"
      },
      "outputs": [],
      "source": [
        "import os\n",
        "import gc\n",
        "import warnings\n",
        "import subprocess\n",
        "\n",
        "gc.enable()\n",
        "warnings.filterwarnings('ignore')\n",
        "\n",
        "import scipy.stats as st\n",
        "import numpy as np\n",
        "import pandas as pd\n",
        "pd.set_option('display.max_columns', None)\n",
        "pd.set_option('display.precision', 4)\n",
        "\n",
        "import catboost\n",
        "import optuna\n",
        "optuna.logging.set_verbosity(optuna.logging.ERROR)\n",
        "\n",
        "from optuna.samplers import TPESampler\n",
        "from optuna.pruners import HyperbandPruner\n",
        "from catboost import CatBoostClassifier\n",
        "\n",
        "from sklearn.model_selection import StratifiedKFold, train_test_split\n",
        "from sklearn.metrics import classification_report, f1_score, accuracy_score"
      ]
    },
    {
      "cell_type": "code",
      "source": [
        "#remove cell to run future versions\n",
        "assert optuna.__version__ == '2.10.1', f'Change in Optuna version. Original notebook version: 2.10.1'\n",
        "assert catboost.__version__ == '1.0.6', f'Change in CatBoost version. Original notebook version: 1.0.6'"
      ],
      "metadata": {
        "id": "klISZHr41xfs"
      },
      "execution_count": 3,
      "outputs": []
    },
    {
      "cell_type": "code",
      "source": [
        "SEED = 23\n",
        "os.environ['PYTHONHASHSEED'] = str(SEED)\n",
        "np.random.seed(SEED)"
      ],
      "metadata": {
        "id": "iHGrCBrP1_tu"
      },
      "execution_count": 4,
      "outputs": []
    },
    {
      "cell_type": "code",
      "source": [
        "#Check GPU availability\n",
        "try:\n",
        "    subprocess.check_output('nvidia-smi')\n",
        "    GPU = True\n",
        "except Exception:\n",
        "    GPU = False\n",
        "\n",
        "print(f'GPU available: {GPU}')"
      ],
      "metadata": {
        "colab": {
          "base_uri": "https://localhost:8080/"
        },
        "id": "T73eUFT52KlF",
        "outputId": "9f147fda-930d-4d1c-cd97-76487f1924f6"
      },
      "execution_count": 5,
      "outputs": [
        {
          "output_type": "stream",
          "name": "stdout",
          "text": [
            "GPU available: False\n"
          ]
        }
      ]
    },
    {
      "cell_type": "markdown",
      "source": [
        "**Data setup**"
      ],
      "metadata": {
        "id": "8rQ7GtGJ2UXy"
      }
    },
    {
      "cell_type": "code",
      "source": [
        "data_url = 'https://raw.githubusercontent.com/stiwari-ds/data-science-competitions/main/analytics_vidhya/ml_summer_training_2022/data/'\n",
        "\n",
        "train_all_url = data_url + 'processed/all_features/train.csv'\n",
        "test_all_url = data_url + 'processed/all_features/test.csv'\n",
        "train_all = pd.read_csv(train_all_url)\n",
        "test_all = pd.read_csv(test_all_url)\n",
        "\n",
        "train_original_url = data_url + 'processed/original_filled/train.csv'\n",
        "test_original_url = data_url + 'processed/original_filled/test.csv'\n",
        "train_original = pd.read_csv(train_original_url)\n",
        "test_original = pd.read_csv(test_original_url)\n",
        "\n",
        "train_selected_url = data_url + 'processed/selected_features/train.csv'\n",
        "test_selected_url = data_url + 'processed/selected_features/test.csv'\n",
        "train_selected = pd.read_csv(train_selected_url)\n",
        "test_selected = pd.read_csv(test_selected_url)"
      ],
      "metadata": {
        "id": "Aa70cyil2YqV"
      },
      "execution_count": 6,
      "outputs": []
    },
    {
      "cell_type": "code",
      "source": [
        "target_url = data_url + 'raw/train.csv'\n",
        "target = pd.read_csv(target_url, usecols=['loan_default']).iloc[:, 0] #converted to series\n",
        "\n",
        "test_index_url = data_url + 'raw/test.csv'\n",
        "test_index = pd.read_csv(test_index_url, usecols=['loan_id']).iloc[:, 0]"
      ],
      "metadata": {
        "id": "AQEV6vnU4Qsj"
      },
      "execution_count": 7,
      "outputs": []
    },
    {
      "cell_type": "markdown",
      "source": [
        "**Categorical data conversion**"
      ],
      "metadata": {
        "id": "mlhAuJNz5bgL"
      }
    },
    {
      "cell_type": "code",
      "source": [
        "categorical_features = ['proof_submitted', 'last_delinq_none', \n",
        "                        'education_fill_1', 'education_fill_2', \n",
        "                        'age_range', 'loan_amount_range', \n",
        "                        'asset_cost_range', 'no_of_loans_range', \n",
        "                        'no_of_curr_loans_range', 'proof_is_aadhar']\n",
        "\n",
        "train_all[categorical_features] = train_all[categorical_features].astype('category')\n",
        "test_all[categorical_features] = test_all[categorical_features].astype('category')"
      ],
      "metadata": {
        "id": "-xS5008a5els"
      },
      "execution_count": 8,
      "outputs": []
    },
    {
      "cell_type": "code",
      "source": [
        "cat_cols = [f for f in train_original.columns if f in categorical_features]\n",
        "train_original[cat_cols] = train_original[cat_cols].astype('category')\n",
        "test_original[cat_cols] = test_original[cat_cols].astype('category')"
      ],
      "metadata": {
        "id": "e_OlFunJ5l7g"
      },
      "execution_count": 9,
      "outputs": []
    },
    {
      "cell_type": "code",
      "source": [
        "cat_cols = [f for f in train_selected.columns if f in categorical_features]\n",
        "train_selected[cat_cols] = train_selected[cat_cols].astype('category')\n",
        "test_selected[cat_cols] = test_selected[cat_cols].astype('category')"
      ],
      "metadata": {
        "id": "y50MamqM5oYc"
      },
      "execution_count": 10,
      "outputs": []
    },
    {
      "cell_type": "markdown",
      "source": [
        "# Baselines"
      ],
      "metadata": {
        "id": "t3RhfB4e4Lp5"
      }
    },
    {
      "cell_type": "code",
      "source": [
        "def fit_baseline(X, y):\n",
        "    X_train, X_val, y_train, y_val = train_test_split(\n",
        "        X, y, test_size=0.2, shuffle=True, stratify=target, random_state=SEED)\n",
        "    \n",
        "    cat_features = list(X.select_dtypes(include='category').columns)\n",
        "    baseline = CatBoostClassifier()\n",
        "    baseline.fit(\n",
        "        X_train, y_train, \n",
        "        eval_set=[(X_val, y_val)],\n",
        "        cat_features=cat_features,\n",
        "        verbose=False)\n",
        "    \n",
        "    preds = baseline.predict(X_val)\n",
        "    print(classification_report(y_val, preds))"
      ],
      "metadata": {
        "id": "3nZABCUB5vRr"
      },
      "execution_count": 11,
      "outputs": []
    },
    {
      "cell_type": "markdown",
      "source": [
        "**All features**"
      ],
      "metadata": {
        "id": "MTLUeKQD6AJS"
      }
    },
    {
      "cell_type": "code",
      "source": [
        "fit_baseline(train_all, target)"
      ],
      "metadata": {
        "colab": {
          "base_uri": "https://localhost:8080/"
        },
        "id": "TPTdqOMM5_b2",
        "outputId": "2ab6c6cd-e0a3-48d9-f449-6b3a014c5833"
      },
      "execution_count": 12,
      "outputs": [
        {
          "output_type": "stream",
          "name": "stdout",
          "text": [
            "              precision    recall  f1-score   support\n",
            "\n",
            "           0       0.61      0.88      0.72       840\n",
            "           1       0.45      0.14      0.22       560\n",
            "\n",
            "    accuracy                           0.59      1400\n",
            "   macro avg       0.53      0.51      0.47      1400\n",
            "weighted avg       0.54      0.59      0.52      1400\n",
            "\n"
          ]
        }
      ]
    },
    {
      "cell_type": "markdown",
      "source": [
        "**Original features**"
      ],
      "metadata": {
        "id": "zCLNgiVQ6C4Z"
      }
    },
    {
      "cell_type": "code",
      "source": [
        "fit_baseline(train_original, target)"
      ],
      "metadata": {
        "colab": {
          "base_uri": "https://localhost:8080/"
        },
        "id": "5oalxgum6FLg",
        "outputId": "f47a9f08-7d3b-4012-9e68-60e0f5697db4"
      },
      "execution_count": 13,
      "outputs": [
        {
          "output_type": "stream",
          "name": "stdout",
          "text": [
            "              precision    recall  f1-score   support\n",
            "\n",
            "           0       0.60      0.95      0.74       840\n",
            "           1       0.44      0.06      0.11       560\n",
            "\n",
            "    accuracy                           0.59      1400\n",
            "   macro avg       0.52      0.51      0.42      1400\n",
            "weighted avg       0.54      0.59      0.49      1400\n",
            "\n"
          ]
        }
      ]
    },
    {
      "cell_type": "markdown",
      "source": [
        "**Selected features**"
      ],
      "metadata": {
        "id": "cnogfN5u6ImK"
      }
    },
    {
      "cell_type": "code",
      "source": [
        "fit_baseline(train_selected, target)"
      ],
      "metadata": {
        "colab": {
          "base_uri": "https://localhost:8080/"
        },
        "id": "xYX_6qL96LXo",
        "outputId": "9d57be6c-0cae-474d-85d2-d5b574692508"
      },
      "execution_count": 14,
      "outputs": [
        {
          "output_type": "stream",
          "name": "stdout",
          "text": [
            "              precision    recall  f1-score   support\n",
            "\n",
            "           0       0.60      0.92      0.73       840\n",
            "           1       0.44      0.09      0.16       560\n",
            "\n",
            "    accuracy                           0.59      1400\n",
            "   macro avg       0.52      0.51      0.44      1400\n",
            "weighted avg       0.54      0.59      0.50      1400\n",
            "\n"
          ]
        }
      ]
    },
    {
      "cell_type": "markdown",
      "source": [
        "# Hyperparameter tuning"
      ],
      "metadata": {
        "id": "oVZEqwhQ2oi2"
      }
    },
    {
      "cell_type": "code",
      "source": [
        "def objective(trial, data, base_params):\n",
        "    \n",
        "    scores = []\n",
        "    X, y = data\n",
        "    cat_features = list(X.select_dtypes(include='category').columns)\n",
        "    \n",
        "    #Defining hyperparameter search space\n",
        "    param_grid = {\n",
        "        'learning_rate': trial.suggest_float('learning_rate', 0.05, 0.3, step=0.05),\n",
        "        'l2_leaf_reg': trial.suggest_float('l2_leaf_reg', 2, 10, step=0.1),\n",
        "        'depth': trial.suggest_int('depth', 3, 16),\n",
        "        'rsm': trial.suggest_float('rsm', 0.5, 1.0, step=0.05), #colsample_bylevel\n",
        "        'max_ctr_complexity': trial.suggest_int('max_ctr_complexity', 4, 10),\n",
        "        'random_strength': trial.suggest_float('random_strength', 0.2, 5),\n",
        "        'bootstrap_type': trial.suggest_categorical(\n",
        "            'bootstrap_type', ['Bayesian', 'Bernoulli', 'MVS']),\n",
        "        'scale_pos_weight': trial.suggest_float(\n",
        "            'scale_pos_weight', 1, 1.5, step=0.025)\n",
        "    }\n",
        "    #conditional hyperparameters\n",
        "    if param_grid['bootstrap_type'] == 'Bayesian':\n",
        "        param_grid['bagging_temperature'] = trial.suggest_int('bagging_temperature', 0, 10)\n",
        "    else:\n",
        "        param_grid['subsample'] = trial.suggest_float('subsample', 0.5, 1.0)\n",
        "    \n",
        "    #cross-validating for each trial\n",
        "    cv = StratifiedKFold(n_splits=5, shuffle=True, random_state=SEED)\n",
        "    for fold, (train_idx, val_idx) in enumerate(cv.split(X, y)):\n",
        "        X_train, y_train = X.loc[train_idx], y.iloc[train_idx]\n",
        "        X_val, y_val = X.loc[val_idx], y.iloc[val_idx]\n",
        "        \n",
        "        model = CatBoostClassifier(**base_params, **param_grid)\n",
        "        model.fit(\n",
        "            X_train, y_train,\n",
        "            eval_set=[(X_val, y_val)],\n",
        "            cat_features=cat_features,\n",
        "            early_stopping_rounds=50,\n",
        "            verbose=False)\n",
        "        preds = model.predict(X_val)\n",
        "        scores.append(f1_score(y_val, preds, average='macro'))\n",
        "    \n",
        "    return np.mean(scores)"
      ],
      "metadata": {
        "id": "i3VeEFRe2oBe"
      },
      "execution_count": 15,
      "outputs": []
    },
    {
      "cell_type": "code",
      "source": [
        "def tune_params(data, base_params, n_trials=10, direction='maximize'):\n",
        "    study = optuna.create_study(\n",
        "        sampler=TPESampler(seed=SEED),\n",
        "        pruner=HyperbandPruner(),\n",
        "        direction=direction)\n",
        "    \n",
        "    study.optimize(\n",
        "        func=lambda trial: objective(trial, data, base_params),\n",
        "        n_trials=n_trials,\n",
        "        gc_after_trial=True)\n",
        "    \n",
        "    return study"
      ],
      "metadata": {
        "id": "7JCjxMSuT3Ep"
      },
      "execution_count": 16,
      "outputs": []
    },
    {
      "cell_type": "markdown",
      "source": [
        "# Cross-validation"
      ],
      "metadata": {
        "id": "B92SMfjPT-3v"
      }
    },
    {
      "cell_type": "code",
      "source": [
        "def evaluate_model(data, model_params, verbose=True):\n",
        "    \n",
        "    preds_test = []\n",
        "    scores_f1 = [] #validation set weighted-f1 scores\n",
        "    scores_acc = [] #validation set accuracy\n",
        "    \n",
        "    X, X_test, y = data\n",
        "    cat_features = list(X.select_dtypes(include='category').columns)\n",
        "    \n",
        "    cv = StratifiedKFold(n_splits=5, shuffle=True, random_state=SEED)\n",
        "    for fold, (train_idx, val_idx) in enumerate(cv.split(X, y)):\n",
        "        X_train, y_train = X.loc[train_idx], y.iloc[train_idx]\n",
        "        X_val, y_val = X.loc[val_idx], y.iloc[val_idx]\n",
        "        \n",
        "        model = CatBoostClassifier(**model_params)\n",
        "        model.fit(\n",
        "            X_train, y_train,\n",
        "            eval_set=[(X_val, y_val)],\n",
        "            cat_features=cat_features,\n",
        "            early_stopping_rounds=50,\n",
        "            verbose=False)\n",
        "        \n",
        "        preds_val = model.predict(X_val)\n",
        "        preds_test.append(model.predict(X_test))\n",
        "        \n",
        "        scores_acc.append(accuracy_score(y_val, preds_val))\n",
        "        scores_f1.append(f1_score(y_val, preds_val, average='macro'))\n",
        "    \n",
        "    if verbose:\n",
        "        scores_df = pd.DataFrame.from_dict({\n",
        "            'Accuracy': scores_acc,\n",
        "            'Macro-f1': scores_f1\n",
        "        })\n",
        "        scores_df.index.name = 'Fold'\n",
        "        display(scores_df)\n",
        "    \n",
        "    print(f'Average Accuracy = {np.mean(scores_acc):.4f} (with std = {np.std(scores_acc):.4f})')\n",
        "    print(f'Average Macro-f1 = {np.mean(scores_f1):.4f} (with std = {np.std(scores_f1):.4f})\\n')\n",
        "    \n",
        "    preds_test = st.mode(np.column_stack(preds_test), axis=1).mode\n",
        "    return preds_test.ravel()"
      ],
      "metadata": {
        "id": "6rbMOTzZUA_q"
      },
      "execution_count": 17,
      "outputs": []
    },
    {
      "cell_type": "code",
      "source": [
        "def run_experiment(data, n_trials=5):\n",
        "        \n",
        "    X, X_test, y = data\n",
        "    \n",
        "    base_params = {\n",
        "        'n_estimators': 2000,\n",
        "        # 'boosting_type': 'Ordered',\n",
        "        'loss_function': 'Logloss',\n",
        "        'eval_metric': 'F1',\n",
        "        'early_stopping_rounds': 50,\n",
        "        # 'task_type': 'GPU',\n",
        "        'use_best_model': True,\n",
        "        'one_hot_max_size': 5,\n",
        "        'verbose': False,\n",
        "        'random_seed': SEED\n",
        "    }\n",
        "    \n",
        "    print(f'---------------Hyperparameter tuning---------------')\n",
        "    study = tune_params(\n",
        "        data=(X, y), \n",
        "        base_params=base_params,\n",
        "        n_trials=n_trials,\n",
        "        direction='maximize')\n",
        "    print(f'Best trial: {study.best_trial.number} -> Best value (f1-macro): {study.best_value:.5f}')\n",
        "    print(f'Best hyperparameters:')\n",
        "    for k, v in study.best_params.items():\n",
        "        print(f'{k:20} - {v}')\n",
        "    \n",
        "    model_params = {**base_params, **study.best_params}\n",
        "    print(f'-----------------Cross-validation------------------')\n",
        "    preds_test = evaluate_model(\n",
        "        data=(X, X_test, y), \n",
        "        model_params=model_params)\n",
        "    \n",
        "    return preds_test"
      ],
      "metadata": {
        "id": "-OkEAhhzUm9v"
      },
      "execution_count": 18,
      "outputs": []
    },
    {
      "cell_type": "code",
      "source": [
        "%%time\n",
        "preds_all = run_experiment((train_all, test_all, target), 100)"
      ],
      "metadata": {
        "colab": {
          "base_uri": "https://localhost:8080/",
          "height": 550
        },
        "id": "cuaBC3oza7W1",
        "outputId": "8be9ad36-421b-4cc1-9bce-a518908a6982"
      },
      "execution_count": 19,
      "outputs": [
        {
          "output_type": "stream",
          "name": "stdout",
          "text": [
            "---------------Hyperparameter tuning---------------\n",
            "Best trial: 79 -> Best value (f1-macro): 0.57523\n",
            "Best hyperparameters:\n",
            "learning_rate        - 0.3\n",
            "l2_leaf_reg          - 2.2\n",
            "depth                - 6\n",
            "rsm                  - 0.9\n",
            "max_ctr_complexity   - 10\n",
            "random_strength      - 4.765553629866167\n",
            "bootstrap_type       - MVS\n",
            "scale_pos_weight     - 1.375\n",
            "subsample            - 0.7605240779415192\n",
            "-----------------Cross-validation------------------\n"
          ]
        },
        {
          "output_type": "display_data",
          "data": {
            "text/plain": [
              "      Accuracy  Macro-f1\n",
              "Fold                    \n",
              "0       0.5721    0.5652\n",
              "1       0.5857    0.5746\n",
              "2       0.5800    0.5664\n",
              "3       0.6014    0.5917\n",
              "4       0.5864    0.5782"
            ],
            "text/html": [
              "\n",
              "  <div id=\"df-099bbb81-6ab9-4f5e-b3c2-bcf53d8e5c51\">\n",
              "    <div class=\"colab-df-container\">\n",
              "      <div>\n",
              "<style scoped>\n",
              "    .dataframe tbody tr th:only-of-type {\n",
              "        vertical-align: middle;\n",
              "    }\n",
              "\n",
              "    .dataframe tbody tr th {\n",
              "        vertical-align: top;\n",
              "    }\n",
              "\n",
              "    .dataframe thead th {\n",
              "        text-align: right;\n",
              "    }\n",
              "</style>\n",
              "<table border=\"1\" class=\"dataframe\">\n",
              "  <thead>\n",
              "    <tr style=\"text-align: right;\">\n",
              "      <th></th>\n",
              "      <th>Accuracy</th>\n",
              "      <th>Macro-f1</th>\n",
              "    </tr>\n",
              "    <tr>\n",
              "      <th>Fold</th>\n",
              "      <th></th>\n",
              "      <th></th>\n",
              "    </tr>\n",
              "  </thead>\n",
              "  <tbody>\n",
              "    <tr>\n",
              "      <th>0</th>\n",
              "      <td>0.5721</td>\n",
              "      <td>0.5652</td>\n",
              "    </tr>\n",
              "    <tr>\n",
              "      <th>1</th>\n",
              "      <td>0.5857</td>\n",
              "      <td>0.5746</td>\n",
              "    </tr>\n",
              "    <tr>\n",
              "      <th>2</th>\n",
              "      <td>0.5800</td>\n",
              "      <td>0.5664</td>\n",
              "    </tr>\n",
              "    <tr>\n",
              "      <th>3</th>\n",
              "      <td>0.6014</td>\n",
              "      <td>0.5917</td>\n",
              "    </tr>\n",
              "    <tr>\n",
              "      <th>4</th>\n",
              "      <td>0.5864</td>\n",
              "      <td>0.5782</td>\n",
              "    </tr>\n",
              "  </tbody>\n",
              "</table>\n",
              "</div>\n",
              "      <button class=\"colab-df-convert\" onclick=\"convertToInteractive('df-099bbb81-6ab9-4f5e-b3c2-bcf53d8e5c51')\"\n",
              "              title=\"Convert this dataframe to an interactive table.\"\n",
              "              style=\"display:none;\">\n",
              "        \n",
              "  <svg xmlns=\"http://www.w3.org/2000/svg\" height=\"24px\"viewBox=\"0 0 24 24\"\n",
              "       width=\"24px\">\n",
              "    <path d=\"M0 0h24v24H0V0z\" fill=\"none\"/>\n",
              "    <path d=\"M18.56 5.44l.94 2.06.94-2.06 2.06-.94-2.06-.94-.94-2.06-.94 2.06-2.06.94zm-11 1L8.5 8.5l.94-2.06 2.06-.94-2.06-.94L8.5 2.5l-.94 2.06-2.06.94zm10 10l.94 2.06.94-2.06 2.06-.94-2.06-.94-.94-2.06-.94 2.06-2.06.94z\"/><path d=\"M17.41 7.96l-1.37-1.37c-.4-.4-.92-.59-1.43-.59-.52 0-1.04.2-1.43.59L10.3 9.45l-7.72 7.72c-.78.78-.78 2.05 0 2.83L4 21.41c.39.39.9.59 1.41.59.51 0 1.02-.2 1.41-.59l7.78-7.78 2.81-2.81c.8-.78.8-2.07 0-2.86zM5.41 20L4 18.59l7.72-7.72 1.47 1.35L5.41 20z\"/>\n",
              "  </svg>\n",
              "      </button>\n",
              "      \n",
              "  <style>\n",
              "    .colab-df-container {\n",
              "      display:flex;\n",
              "      flex-wrap:wrap;\n",
              "      gap: 12px;\n",
              "    }\n",
              "\n",
              "    .colab-df-convert {\n",
              "      background-color: #E8F0FE;\n",
              "      border: none;\n",
              "      border-radius: 50%;\n",
              "      cursor: pointer;\n",
              "      display: none;\n",
              "      fill: #1967D2;\n",
              "      height: 32px;\n",
              "      padding: 0 0 0 0;\n",
              "      width: 32px;\n",
              "    }\n",
              "\n",
              "    .colab-df-convert:hover {\n",
              "      background-color: #E2EBFA;\n",
              "      box-shadow: 0px 1px 2px rgba(60, 64, 67, 0.3), 0px 1px 3px 1px rgba(60, 64, 67, 0.15);\n",
              "      fill: #174EA6;\n",
              "    }\n",
              "\n",
              "    [theme=dark] .colab-df-convert {\n",
              "      background-color: #3B4455;\n",
              "      fill: #D2E3FC;\n",
              "    }\n",
              "\n",
              "    [theme=dark] .colab-df-convert:hover {\n",
              "      background-color: #434B5C;\n",
              "      box-shadow: 0px 1px 3px 1px rgba(0, 0, 0, 0.15);\n",
              "      filter: drop-shadow(0px 1px 2px rgba(0, 0, 0, 0.3));\n",
              "      fill: #FFFFFF;\n",
              "    }\n",
              "  </style>\n",
              "\n",
              "      <script>\n",
              "        const buttonEl =\n",
              "          document.querySelector('#df-099bbb81-6ab9-4f5e-b3c2-bcf53d8e5c51 button.colab-df-convert');\n",
              "        buttonEl.style.display =\n",
              "          google.colab.kernel.accessAllowed ? 'block' : 'none';\n",
              "\n",
              "        async function convertToInteractive(key) {\n",
              "          const element = document.querySelector('#df-099bbb81-6ab9-4f5e-b3c2-bcf53d8e5c51');\n",
              "          const dataTable =\n",
              "            await google.colab.kernel.invokeFunction('convertToInteractive',\n",
              "                                                     [key], {});\n",
              "          if (!dataTable) return;\n",
              "\n",
              "          const docLinkHtml = 'Like what you see? Visit the ' +\n",
              "            '<a target=\"_blank\" href=https://colab.research.google.com/notebooks/data_table.ipynb>data table notebook</a>'\n",
              "            + ' to learn more about interactive tables.';\n",
              "          element.innerHTML = '';\n",
              "          dataTable['output_type'] = 'display_data';\n",
              "          await google.colab.output.renderOutput(dataTable, element);\n",
              "          const docLink = document.createElement('div');\n",
              "          docLink.innerHTML = docLinkHtml;\n",
              "          element.appendChild(docLink);\n",
              "        }\n",
              "      </script>\n",
              "    </div>\n",
              "  </div>\n",
              "  "
            ]
          },
          "metadata": {}
        },
        {
          "output_type": "stream",
          "name": "stdout",
          "text": [
            "Average Accuracy = 0.5851 (with std = 0.0096)\n",
            "Average Macro-f1 = 0.5752 (with std = 0.0096)\n",
            "\n",
            "CPU times: user 11min 43s, sys: 3min 25s, total: 15min 9s\n",
            "Wall time: 9min 21s\n"
          ]
        }
      ]
    },
    {
      "cell_type": "code",
      "source": [
        "%%time\n",
        "preds_original = run_experiment((train_original, test_original, target), 100)"
      ],
      "metadata": {
        "colab": {
          "base_uri": "https://localhost:8080/",
          "height": 550
        },
        "id": "KkljMNC6bAnx",
        "outputId": "c56084a4-9838-4c35-e050-dc930e743387"
      },
      "execution_count": 20,
      "outputs": [
        {
          "output_type": "stream",
          "name": "stdout",
          "text": [
            "---------------Hyperparameter tuning---------------\n",
            "Best trial: 56 -> Best value (f1-macro): 0.58022\n",
            "Best hyperparameters:\n",
            "learning_rate        - 0.2\n",
            "l2_leaf_reg          - 10.0\n",
            "depth                - 3\n",
            "rsm                  - 0.55\n",
            "max_ctr_complexity   - 9\n",
            "random_strength      - 3.7758301899738256\n",
            "bootstrap_type       - Bayesian\n",
            "scale_pos_weight     - 1.35\n",
            "bagging_temperature  - 6\n",
            "-----------------Cross-validation------------------\n"
          ]
        },
        {
          "output_type": "display_data",
          "data": {
            "text/plain": [
              "      Accuracy  Macro-f1\n",
              "Fold                    \n",
              "0       0.6050    0.5921\n",
              "1       0.5793    0.5675\n",
              "2       0.5950    0.5806\n",
              "3       0.5886    0.5770\n",
              "4       0.5957    0.5839"
            ],
            "text/html": [
              "\n",
              "  <div id=\"df-b521dc49-8372-4345-a11e-0f2b2d996bdd\">\n",
              "    <div class=\"colab-df-container\">\n",
              "      <div>\n",
              "<style scoped>\n",
              "    .dataframe tbody tr th:only-of-type {\n",
              "        vertical-align: middle;\n",
              "    }\n",
              "\n",
              "    .dataframe tbody tr th {\n",
              "        vertical-align: top;\n",
              "    }\n",
              "\n",
              "    .dataframe thead th {\n",
              "        text-align: right;\n",
              "    }\n",
              "</style>\n",
              "<table border=\"1\" class=\"dataframe\">\n",
              "  <thead>\n",
              "    <tr style=\"text-align: right;\">\n",
              "      <th></th>\n",
              "      <th>Accuracy</th>\n",
              "      <th>Macro-f1</th>\n",
              "    </tr>\n",
              "    <tr>\n",
              "      <th>Fold</th>\n",
              "      <th></th>\n",
              "      <th></th>\n",
              "    </tr>\n",
              "  </thead>\n",
              "  <tbody>\n",
              "    <tr>\n",
              "      <th>0</th>\n",
              "      <td>0.6050</td>\n",
              "      <td>0.5921</td>\n",
              "    </tr>\n",
              "    <tr>\n",
              "      <th>1</th>\n",
              "      <td>0.5793</td>\n",
              "      <td>0.5675</td>\n",
              "    </tr>\n",
              "    <tr>\n",
              "      <th>2</th>\n",
              "      <td>0.5950</td>\n",
              "      <td>0.5806</td>\n",
              "    </tr>\n",
              "    <tr>\n",
              "      <th>3</th>\n",
              "      <td>0.5886</td>\n",
              "      <td>0.5770</td>\n",
              "    </tr>\n",
              "    <tr>\n",
              "      <th>4</th>\n",
              "      <td>0.5957</td>\n",
              "      <td>0.5839</td>\n",
              "    </tr>\n",
              "  </tbody>\n",
              "</table>\n",
              "</div>\n",
              "      <button class=\"colab-df-convert\" onclick=\"convertToInteractive('df-b521dc49-8372-4345-a11e-0f2b2d996bdd')\"\n",
              "              title=\"Convert this dataframe to an interactive table.\"\n",
              "              style=\"display:none;\">\n",
              "        \n",
              "  <svg xmlns=\"http://www.w3.org/2000/svg\" height=\"24px\"viewBox=\"0 0 24 24\"\n",
              "       width=\"24px\">\n",
              "    <path d=\"M0 0h24v24H0V0z\" fill=\"none\"/>\n",
              "    <path d=\"M18.56 5.44l.94 2.06.94-2.06 2.06-.94-2.06-.94-.94-2.06-.94 2.06-2.06.94zm-11 1L8.5 8.5l.94-2.06 2.06-.94-2.06-.94L8.5 2.5l-.94 2.06-2.06.94zm10 10l.94 2.06.94-2.06 2.06-.94-2.06-.94-.94-2.06-.94 2.06-2.06.94z\"/><path d=\"M17.41 7.96l-1.37-1.37c-.4-.4-.92-.59-1.43-.59-.52 0-1.04.2-1.43.59L10.3 9.45l-7.72 7.72c-.78.78-.78 2.05 0 2.83L4 21.41c.39.39.9.59 1.41.59.51 0 1.02-.2 1.41-.59l7.78-7.78 2.81-2.81c.8-.78.8-2.07 0-2.86zM5.41 20L4 18.59l7.72-7.72 1.47 1.35L5.41 20z\"/>\n",
              "  </svg>\n",
              "      </button>\n",
              "      \n",
              "  <style>\n",
              "    .colab-df-container {\n",
              "      display:flex;\n",
              "      flex-wrap:wrap;\n",
              "      gap: 12px;\n",
              "    }\n",
              "\n",
              "    .colab-df-convert {\n",
              "      background-color: #E8F0FE;\n",
              "      border: none;\n",
              "      border-radius: 50%;\n",
              "      cursor: pointer;\n",
              "      display: none;\n",
              "      fill: #1967D2;\n",
              "      height: 32px;\n",
              "      padding: 0 0 0 0;\n",
              "      width: 32px;\n",
              "    }\n",
              "\n",
              "    .colab-df-convert:hover {\n",
              "      background-color: #E2EBFA;\n",
              "      box-shadow: 0px 1px 2px rgba(60, 64, 67, 0.3), 0px 1px 3px 1px rgba(60, 64, 67, 0.15);\n",
              "      fill: #174EA6;\n",
              "    }\n",
              "\n",
              "    [theme=dark] .colab-df-convert {\n",
              "      background-color: #3B4455;\n",
              "      fill: #D2E3FC;\n",
              "    }\n",
              "\n",
              "    [theme=dark] .colab-df-convert:hover {\n",
              "      background-color: #434B5C;\n",
              "      box-shadow: 0px 1px 3px 1px rgba(0, 0, 0, 0.15);\n",
              "      filter: drop-shadow(0px 1px 2px rgba(0, 0, 0, 0.3));\n",
              "      fill: #FFFFFF;\n",
              "    }\n",
              "  </style>\n",
              "\n",
              "      <script>\n",
              "        const buttonEl =\n",
              "          document.querySelector('#df-b521dc49-8372-4345-a11e-0f2b2d996bdd button.colab-df-convert');\n",
              "        buttonEl.style.display =\n",
              "          google.colab.kernel.accessAllowed ? 'block' : 'none';\n",
              "\n",
              "        async function convertToInteractive(key) {\n",
              "          const element = document.querySelector('#df-b521dc49-8372-4345-a11e-0f2b2d996bdd');\n",
              "          const dataTable =\n",
              "            await google.colab.kernel.invokeFunction('convertToInteractive',\n",
              "                                                     [key], {});\n",
              "          if (!dataTable) return;\n",
              "\n",
              "          const docLinkHtml = 'Like what you see? Visit the ' +\n",
              "            '<a target=\"_blank\" href=https://colab.research.google.com/notebooks/data_table.ipynb>data table notebook</a>'\n",
              "            + ' to learn more about interactive tables.';\n",
              "          element.innerHTML = '';\n",
              "          dataTable['output_type'] = 'display_data';\n",
              "          await google.colab.output.renderOutput(dataTable, element);\n",
              "          const docLink = document.createElement('div');\n",
              "          docLink.innerHTML = docLinkHtml;\n",
              "          element.appendChild(docLink);\n",
              "        }\n",
              "      </script>\n",
              "    </div>\n",
              "  </div>\n",
              "  "
            ]
          },
          "metadata": {}
        },
        {
          "output_type": "stream",
          "name": "stdout",
          "text": [
            "Average Accuracy = 0.5927 (with std = 0.0085)\n",
            "Average Macro-f1 = 0.5802 (with std = 0.0081)\n",
            "\n",
            "CPU times: user 12min 38s, sys: 4min 59s, total: 17min 38s\n",
            "Wall time: 10min 32s\n"
          ]
        }
      ]
    },
    {
      "cell_type": "code",
      "source": [
        "%%time\n",
        "preds_selected = run_experiment((train_selected, test_selected, target), 100)"
      ],
      "metadata": {
        "colab": {
          "base_uri": "https://localhost:8080/",
          "height": 550
        },
        "id": "EGRVy6S-bCpG",
        "outputId": "271e6504-2619-493b-ee7c-57b287640e53"
      },
      "execution_count": 21,
      "outputs": [
        {
          "output_type": "stream",
          "name": "stdout",
          "text": [
            "---------------Hyperparameter tuning---------------\n",
            "Best trial: 92 -> Best value (f1-macro): 0.57814\n",
            "Best hyperparameters:\n",
            "learning_rate        - 0.2\n",
            "l2_leaf_reg          - 4.300000000000001\n",
            "depth                - 4\n",
            "rsm                  - 0.8\n",
            "max_ctr_complexity   - 5\n",
            "random_strength      - 1.944248201153776\n",
            "bootstrap_type       - Bernoulli\n",
            "scale_pos_weight     - 1.35\n",
            "subsample            - 0.8071180728396585\n",
            "-----------------Cross-validation------------------\n"
          ]
        },
        {
          "output_type": "display_data",
          "data": {
            "text/plain": [
              "      Accuracy  Macro-f1\n",
              "Fold                    \n",
              "0       0.6036    0.5923\n",
              "1       0.5757    0.5671\n",
              "2       0.5964    0.5785\n",
              "3       0.5936    0.5820\n",
              "4       0.5800    0.5709"
            ],
            "text/html": [
              "\n",
              "  <div id=\"df-44c0c7e2-40ce-4aee-90f1-0b426b7facfd\">\n",
              "    <div class=\"colab-df-container\">\n",
              "      <div>\n",
              "<style scoped>\n",
              "    .dataframe tbody tr th:only-of-type {\n",
              "        vertical-align: middle;\n",
              "    }\n",
              "\n",
              "    .dataframe tbody tr th {\n",
              "        vertical-align: top;\n",
              "    }\n",
              "\n",
              "    .dataframe thead th {\n",
              "        text-align: right;\n",
              "    }\n",
              "</style>\n",
              "<table border=\"1\" class=\"dataframe\">\n",
              "  <thead>\n",
              "    <tr style=\"text-align: right;\">\n",
              "      <th></th>\n",
              "      <th>Accuracy</th>\n",
              "      <th>Macro-f1</th>\n",
              "    </tr>\n",
              "    <tr>\n",
              "      <th>Fold</th>\n",
              "      <th></th>\n",
              "      <th></th>\n",
              "    </tr>\n",
              "  </thead>\n",
              "  <tbody>\n",
              "    <tr>\n",
              "      <th>0</th>\n",
              "      <td>0.6036</td>\n",
              "      <td>0.5923</td>\n",
              "    </tr>\n",
              "    <tr>\n",
              "      <th>1</th>\n",
              "      <td>0.5757</td>\n",
              "      <td>0.5671</td>\n",
              "    </tr>\n",
              "    <tr>\n",
              "      <th>2</th>\n",
              "      <td>0.5964</td>\n",
              "      <td>0.5785</td>\n",
              "    </tr>\n",
              "    <tr>\n",
              "      <th>3</th>\n",
              "      <td>0.5936</td>\n",
              "      <td>0.5820</td>\n",
              "    </tr>\n",
              "    <tr>\n",
              "      <th>4</th>\n",
              "      <td>0.5800</td>\n",
              "      <td>0.5709</td>\n",
              "    </tr>\n",
              "  </tbody>\n",
              "</table>\n",
              "</div>\n",
              "      <button class=\"colab-df-convert\" onclick=\"convertToInteractive('df-44c0c7e2-40ce-4aee-90f1-0b426b7facfd')\"\n",
              "              title=\"Convert this dataframe to an interactive table.\"\n",
              "              style=\"display:none;\">\n",
              "        \n",
              "  <svg xmlns=\"http://www.w3.org/2000/svg\" height=\"24px\"viewBox=\"0 0 24 24\"\n",
              "       width=\"24px\">\n",
              "    <path d=\"M0 0h24v24H0V0z\" fill=\"none\"/>\n",
              "    <path d=\"M18.56 5.44l.94 2.06.94-2.06 2.06-.94-2.06-.94-.94-2.06-.94 2.06-2.06.94zm-11 1L8.5 8.5l.94-2.06 2.06-.94-2.06-.94L8.5 2.5l-.94 2.06-2.06.94zm10 10l.94 2.06.94-2.06 2.06-.94-2.06-.94-.94-2.06-.94 2.06-2.06.94z\"/><path d=\"M17.41 7.96l-1.37-1.37c-.4-.4-.92-.59-1.43-.59-.52 0-1.04.2-1.43.59L10.3 9.45l-7.72 7.72c-.78.78-.78 2.05 0 2.83L4 21.41c.39.39.9.59 1.41.59.51 0 1.02-.2 1.41-.59l7.78-7.78 2.81-2.81c.8-.78.8-2.07 0-2.86zM5.41 20L4 18.59l7.72-7.72 1.47 1.35L5.41 20z\"/>\n",
              "  </svg>\n",
              "      </button>\n",
              "      \n",
              "  <style>\n",
              "    .colab-df-container {\n",
              "      display:flex;\n",
              "      flex-wrap:wrap;\n",
              "      gap: 12px;\n",
              "    }\n",
              "\n",
              "    .colab-df-convert {\n",
              "      background-color: #E8F0FE;\n",
              "      border: none;\n",
              "      border-radius: 50%;\n",
              "      cursor: pointer;\n",
              "      display: none;\n",
              "      fill: #1967D2;\n",
              "      height: 32px;\n",
              "      padding: 0 0 0 0;\n",
              "      width: 32px;\n",
              "    }\n",
              "\n",
              "    .colab-df-convert:hover {\n",
              "      background-color: #E2EBFA;\n",
              "      box-shadow: 0px 1px 2px rgba(60, 64, 67, 0.3), 0px 1px 3px 1px rgba(60, 64, 67, 0.15);\n",
              "      fill: #174EA6;\n",
              "    }\n",
              "\n",
              "    [theme=dark] .colab-df-convert {\n",
              "      background-color: #3B4455;\n",
              "      fill: #D2E3FC;\n",
              "    }\n",
              "\n",
              "    [theme=dark] .colab-df-convert:hover {\n",
              "      background-color: #434B5C;\n",
              "      box-shadow: 0px 1px 3px 1px rgba(0, 0, 0, 0.15);\n",
              "      filter: drop-shadow(0px 1px 2px rgba(0, 0, 0, 0.3));\n",
              "      fill: #FFFFFF;\n",
              "    }\n",
              "  </style>\n",
              "\n",
              "      <script>\n",
              "        const buttonEl =\n",
              "          document.querySelector('#df-44c0c7e2-40ce-4aee-90f1-0b426b7facfd button.colab-df-convert');\n",
              "        buttonEl.style.display =\n",
              "          google.colab.kernel.accessAllowed ? 'block' : 'none';\n",
              "\n",
              "        async function convertToInteractive(key) {\n",
              "          const element = document.querySelector('#df-44c0c7e2-40ce-4aee-90f1-0b426b7facfd');\n",
              "          const dataTable =\n",
              "            await google.colab.kernel.invokeFunction('convertToInteractive',\n",
              "                                                     [key], {});\n",
              "          if (!dataTable) return;\n",
              "\n",
              "          const docLinkHtml = 'Like what you see? Visit the ' +\n",
              "            '<a target=\"_blank\" href=https://colab.research.google.com/notebooks/data_table.ipynb>data table notebook</a>'\n",
              "            + ' to learn more about interactive tables.';\n",
              "          element.innerHTML = '';\n",
              "          dataTable['output_type'] = 'display_data';\n",
              "          await google.colab.output.renderOutput(dataTable, element);\n",
              "          const docLink = document.createElement('div');\n",
              "          docLink.innerHTML = docLinkHtml;\n",
              "          element.appendChild(docLink);\n",
              "        }\n",
              "      </script>\n",
              "    </div>\n",
              "  </div>\n",
              "  "
            ]
          },
          "metadata": {}
        },
        {
          "output_type": "stream",
          "name": "stdout",
          "text": [
            "Average Accuracy = 0.5899 (with std = 0.0104)\n",
            "Average Macro-f1 = 0.5781 (with std = 0.0088)\n",
            "\n",
            "CPU times: user 11min 28s, sys: 3min 31s, total: 15min\n",
            "Wall time: 9min 19s\n"
          ]
        }
      ]
    },
    {
      "cell_type": "markdown",
      "source": [
        "# Generating submission files"
      ],
      "metadata": {
        "id": "PIJHZB-S_jC7"
      }
    },
    {
      "cell_type": "code",
      "source": [
        "sub_all = pd.DataFrame({\n",
        "    'loan_id': test_index,\n",
        "    'loan_default': preds_all\n",
        "})\n",
        "sub_all.to_csv('03_sub_all.csv', index=False)"
      ],
      "metadata": {
        "id": "jPIBtDMr_iX9"
      },
      "execution_count": 22,
      "outputs": []
    },
    {
      "cell_type": "code",
      "source": [
        "sub_original = pd.DataFrame({\n",
        "    'loan_id': test_index,\n",
        "    'loan_default': preds_original\n",
        "})\n",
        "sub_original.to_csv('03_sub_original.csv', index=False)"
      ],
      "metadata": {
        "id": "jeuU6EUq_sgA"
      },
      "execution_count": 23,
      "outputs": []
    },
    {
      "cell_type": "code",
      "source": [
        "sub_selected = pd.DataFrame({\n",
        "    'loan_id': test_index,\n",
        "    'loan_default': preds_selected\n",
        "})\n",
        "sub_selected.to_csv('03_sub_selected.csv', index=False)"
      ],
      "metadata": {
        "id": "ZoVCrTxUAIdz"
      },
      "execution_count": 24,
      "outputs": []
    }
  ]
}