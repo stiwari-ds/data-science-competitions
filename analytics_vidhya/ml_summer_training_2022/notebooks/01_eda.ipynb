{
  "nbformat": 4,
  "nbformat_minor": 0,
  "metadata": {
    "colab": {
      "name": "01-eda",
      "provenance": [],
      "authorship_tag": "ABX9TyOO0G5CthOnEq1eaTNx2mli",
      "include_colab_link": true
    },
    "kernelspec": {
      "name": "python3",
      "display_name": "Python 3"
    },
    "language_info": {
      "name": "python"
    }
  },
  "cells": [
    {
      "cell_type": "markdown",
      "metadata": {
        "id": "view-in-github",
        "colab_type": "text"
      },
      "source": [
        "<a href=\"https://colab.research.google.com/github/stiwari-ds/data-science-competitions/blob/main/analytics_vidhya/ml_summer_training_2022/notebooks/01_eda.ipynb\" target=\"_parent\"><img src=\"https://colab.research.google.com/assets/colab-badge.svg\" alt=\"Open In Colab\"/></a>"
      ]
    },
    {
      "cell_type": "markdown",
      "source": [
        "# Setup"
      ],
      "metadata": {
        "id": "nKYSdHkYqf5o"
      }
    },
    {
      "cell_type": "code",
      "source": [
        "import os\n",
        "import numpy as np\n",
        "import pandas as pd\n",
        "pd.set_option('display.max_columns', None)\n",
        "pd.set_option('display.precision', 4)\n",
        "\n",
        "import matplotlib.pyplot as plt\n",
        "import seaborn as sns\n",
        "%matplotlib inline\n",
        "\n",
        "from sklearn.feature_selection import chi2, f_classif, mutual_info_classif\n",
        "\n",
        "SEED = 23\n",
        "os.environ['PYTHONHASHSEED'] = str(SEED)\n",
        "np.random.seed(SEED)"
      ],
      "metadata": {
        "id": "gT8GCPKhVHGA"
      },
      "execution_count": 1,
      "outputs": []
    },
    {
      "cell_type": "code",
      "execution_count": 2,
      "metadata": {
        "id": "xqfyYSpISugi"
      },
      "outputs": [],
      "source": [
        "train_url = 'https://raw.githubusercontent.com/stiwari-ds/data-science-competitions/main/analytics_vidhya/ml_summer_training_2022/data/raw/train.csv'\n",
        "test_url = 'https://raw.githubusercontent.com/stiwari-ds/data-science-competitions/main/analytics_vidhya/ml_summer_training_2022/data/raw/test.csv'"
      ]
    },
    {
      "cell_type": "code",
      "source": [
        "train = pd.read_csv(train_url)\n",
        "test = pd.read_csv(test_url)"
      ],
      "metadata": {
        "id": "tyzbzpqbTHd9"
      },
      "execution_count": 3,
      "outputs": []
    },
    {
      "cell_type": "markdown",
      "source": [
        "# Data overview"
      ],
      "metadata": {
        "id": "uMmJR2qeqj1_"
      }
    },
    {
      "cell_type": "code",
      "source": [
        "train.head()"
      ],
      "metadata": {
        "colab": {
          "base_uri": "https://localhost:8080/",
          "height": 206
        },
        "id": "2elEzxbNVFkI",
        "outputId": "df88ad29-009b-4831-b16d-94306fc6f617"
      },
      "execution_count": 4,
      "outputs": [
        {
          "output_type": "execute_result",
          "data": {
            "text/plain": [
              "   loan_id  age  education proof_submitted  loan_amount  asset_cost  \\\n",
              "0        1   27        1.0          Aadhar       504264      820920   \n",
              "1        2   48        1.0          Aadhar       728556      831444   \n",
              "2        3   30        2.0         VoterID       642936      826092   \n",
              "3        4   28        1.0          Aadhar       746556      930924   \n",
              "4        5   29        1.0          Aadhar      1139880     1902000   \n",
              "\n",
              "   no_of_loans  no_of_curr_loans  last_delinq_none  loan_default  \n",
              "0            2                 2                 0             0  \n",
              "1            6                 2                 0             0  \n",
              "2            0                 0                 0             1  \n",
              "3            0                 0                 0             0  \n",
              "4            0                 0                 0             0  "
            ],
            "text/html": [
              "\n",
              "  <div id=\"df-7287a212-9cb1-4b5f-945f-f6ccdc25daa0\">\n",
              "    <div class=\"colab-df-container\">\n",
              "      <div>\n",
              "<style scoped>\n",
              "    .dataframe tbody tr th:only-of-type {\n",
              "        vertical-align: middle;\n",
              "    }\n",
              "\n",
              "    .dataframe tbody tr th {\n",
              "        vertical-align: top;\n",
              "    }\n",
              "\n",
              "    .dataframe thead th {\n",
              "        text-align: right;\n",
              "    }\n",
              "</style>\n",
              "<table border=\"1\" class=\"dataframe\">\n",
              "  <thead>\n",
              "    <tr style=\"text-align: right;\">\n",
              "      <th></th>\n",
              "      <th>loan_id</th>\n",
              "      <th>age</th>\n",
              "      <th>education</th>\n",
              "      <th>proof_submitted</th>\n",
              "      <th>loan_amount</th>\n",
              "      <th>asset_cost</th>\n",
              "      <th>no_of_loans</th>\n",
              "      <th>no_of_curr_loans</th>\n",
              "      <th>last_delinq_none</th>\n",
              "      <th>loan_default</th>\n",
              "    </tr>\n",
              "  </thead>\n",
              "  <tbody>\n",
              "    <tr>\n",
              "      <th>0</th>\n",
              "      <td>1</td>\n",
              "      <td>27</td>\n",
              "      <td>1.0</td>\n",
              "      <td>Aadhar</td>\n",
              "      <td>504264</td>\n",
              "      <td>820920</td>\n",
              "      <td>2</td>\n",
              "      <td>2</td>\n",
              "      <td>0</td>\n",
              "      <td>0</td>\n",
              "    </tr>\n",
              "    <tr>\n",
              "      <th>1</th>\n",
              "      <td>2</td>\n",
              "      <td>48</td>\n",
              "      <td>1.0</td>\n",
              "      <td>Aadhar</td>\n",
              "      <td>728556</td>\n",
              "      <td>831444</td>\n",
              "      <td>6</td>\n",
              "      <td>2</td>\n",
              "      <td>0</td>\n",
              "      <td>0</td>\n",
              "    </tr>\n",
              "    <tr>\n",
              "      <th>2</th>\n",
              "      <td>3</td>\n",
              "      <td>30</td>\n",
              "      <td>2.0</td>\n",
              "      <td>VoterID</td>\n",
              "      <td>642936</td>\n",
              "      <td>826092</td>\n",
              "      <td>0</td>\n",
              "      <td>0</td>\n",
              "      <td>0</td>\n",
              "      <td>1</td>\n",
              "    </tr>\n",
              "    <tr>\n",
              "      <th>3</th>\n",
              "      <td>4</td>\n",
              "      <td>28</td>\n",
              "      <td>1.0</td>\n",
              "      <td>Aadhar</td>\n",
              "      <td>746556</td>\n",
              "      <td>930924</td>\n",
              "      <td>0</td>\n",
              "      <td>0</td>\n",
              "      <td>0</td>\n",
              "      <td>0</td>\n",
              "    </tr>\n",
              "    <tr>\n",
              "      <th>4</th>\n",
              "      <td>5</td>\n",
              "      <td>29</td>\n",
              "      <td>1.0</td>\n",
              "      <td>Aadhar</td>\n",
              "      <td>1139880</td>\n",
              "      <td>1902000</td>\n",
              "      <td>0</td>\n",
              "      <td>0</td>\n",
              "      <td>0</td>\n",
              "      <td>0</td>\n",
              "    </tr>\n",
              "  </tbody>\n",
              "</table>\n",
              "</div>\n",
              "      <button class=\"colab-df-convert\" onclick=\"convertToInteractive('df-7287a212-9cb1-4b5f-945f-f6ccdc25daa0')\"\n",
              "              title=\"Convert this dataframe to an interactive table.\"\n",
              "              style=\"display:none;\">\n",
              "        \n",
              "  <svg xmlns=\"http://www.w3.org/2000/svg\" height=\"24px\"viewBox=\"0 0 24 24\"\n",
              "       width=\"24px\">\n",
              "    <path d=\"M0 0h24v24H0V0z\" fill=\"none\"/>\n",
              "    <path d=\"M18.56 5.44l.94 2.06.94-2.06 2.06-.94-2.06-.94-.94-2.06-.94 2.06-2.06.94zm-11 1L8.5 8.5l.94-2.06 2.06-.94-2.06-.94L8.5 2.5l-.94 2.06-2.06.94zm10 10l.94 2.06.94-2.06 2.06-.94-2.06-.94-.94-2.06-.94 2.06-2.06.94z\"/><path d=\"M17.41 7.96l-1.37-1.37c-.4-.4-.92-.59-1.43-.59-.52 0-1.04.2-1.43.59L10.3 9.45l-7.72 7.72c-.78.78-.78 2.05 0 2.83L4 21.41c.39.39.9.59 1.41.59.51 0 1.02-.2 1.41-.59l7.78-7.78 2.81-2.81c.8-.78.8-2.07 0-2.86zM5.41 20L4 18.59l7.72-7.72 1.47 1.35L5.41 20z\"/>\n",
              "  </svg>\n",
              "      </button>\n",
              "      \n",
              "  <style>\n",
              "    .colab-df-container {\n",
              "      display:flex;\n",
              "      flex-wrap:wrap;\n",
              "      gap: 12px;\n",
              "    }\n",
              "\n",
              "    .colab-df-convert {\n",
              "      background-color: #E8F0FE;\n",
              "      border: none;\n",
              "      border-radius: 50%;\n",
              "      cursor: pointer;\n",
              "      display: none;\n",
              "      fill: #1967D2;\n",
              "      height: 32px;\n",
              "      padding: 0 0 0 0;\n",
              "      width: 32px;\n",
              "    }\n",
              "\n",
              "    .colab-df-convert:hover {\n",
              "      background-color: #E2EBFA;\n",
              "      box-shadow: 0px 1px 2px rgba(60, 64, 67, 0.3), 0px 1px 3px 1px rgba(60, 64, 67, 0.15);\n",
              "      fill: #174EA6;\n",
              "    }\n",
              "\n",
              "    [theme=dark] .colab-df-convert {\n",
              "      background-color: #3B4455;\n",
              "      fill: #D2E3FC;\n",
              "    }\n",
              "\n",
              "    [theme=dark] .colab-df-convert:hover {\n",
              "      background-color: #434B5C;\n",
              "      box-shadow: 0px 1px 3px 1px rgba(0, 0, 0, 0.15);\n",
              "      filter: drop-shadow(0px 1px 2px rgba(0, 0, 0, 0.3));\n",
              "      fill: #FFFFFF;\n",
              "    }\n",
              "  </style>\n",
              "\n",
              "      <script>\n",
              "        const buttonEl =\n",
              "          document.querySelector('#df-7287a212-9cb1-4b5f-945f-f6ccdc25daa0 button.colab-df-convert');\n",
              "        buttonEl.style.display =\n",
              "          google.colab.kernel.accessAllowed ? 'block' : 'none';\n",
              "\n",
              "        async function convertToInteractive(key) {\n",
              "          const element = document.querySelector('#df-7287a212-9cb1-4b5f-945f-f6ccdc25daa0');\n",
              "          const dataTable =\n",
              "            await google.colab.kernel.invokeFunction('convertToInteractive',\n",
              "                                                     [key], {});\n",
              "          if (!dataTable) return;\n",
              "\n",
              "          const docLinkHtml = 'Like what you see? Visit the ' +\n",
              "            '<a target=\"_blank\" href=https://colab.research.google.com/notebooks/data_table.ipynb>data table notebook</a>'\n",
              "            + ' to learn more about interactive tables.';\n",
              "          element.innerHTML = '';\n",
              "          dataTable['output_type'] = 'display_data';\n",
              "          await google.colab.output.renderOutput(dataTable, element);\n",
              "          const docLink = document.createElement('div');\n",
              "          docLink.innerHTML = docLinkHtml;\n",
              "          element.appendChild(docLink);\n",
              "        }\n",
              "      </script>\n",
              "    </div>\n",
              "  </div>\n",
              "  "
            ]
          },
          "metadata": {},
          "execution_count": 4
        }
      ]
    },
    {
      "cell_type": "code",
      "source": [
        "train.info()"
      ],
      "metadata": {
        "colab": {
          "base_uri": "https://localhost:8080/"
        },
        "id": "pgXxgb0RVfKG",
        "outputId": "9078c251-baaf-41f9-d54a-1c942364bb59"
      },
      "execution_count": 5,
      "outputs": [
        {
          "output_type": "stream",
          "name": "stdout",
          "text": [
            "<class 'pandas.core.frame.DataFrame'>\n",
            "RangeIndex: 7000 entries, 0 to 6999\n",
            "Data columns (total 10 columns):\n",
            " #   Column            Non-Null Count  Dtype  \n",
            "---  ------            --------------  -----  \n",
            " 0   loan_id           7000 non-null   int64  \n",
            " 1   age               7000 non-null   int64  \n",
            " 2   education         6755 non-null   float64\n",
            " 3   proof_submitted   7000 non-null   object \n",
            " 4   loan_amount       7000 non-null   int64  \n",
            " 5   asset_cost        7000 non-null   int64  \n",
            " 6   no_of_loans       7000 non-null   int64  \n",
            " 7   no_of_curr_loans  7000 non-null   int64  \n",
            " 8   last_delinq_none  7000 non-null   int64  \n",
            " 9   loan_default      7000 non-null   int64  \n",
            "dtypes: float64(1), int64(8), object(1)\n",
            "memory usage: 547.0+ KB\n"
          ]
        }
      ]
    },
    {
      "cell_type": "code",
      "source": [
        "test.info()"
      ],
      "metadata": {
        "colab": {
          "base_uri": "https://localhost:8080/"
        },
        "id": "eBW7xATFZ3tQ",
        "outputId": "04d9d24f-1169-4768-e981-3212529295e5"
      },
      "execution_count": 6,
      "outputs": [
        {
          "output_type": "stream",
          "name": "stdout",
          "text": [
            "<class 'pandas.core.frame.DataFrame'>\n",
            "RangeIndex: 3000 entries, 0 to 2999\n",
            "Data columns (total 9 columns):\n",
            " #   Column            Non-Null Count  Dtype  \n",
            "---  ------            --------------  -----  \n",
            " 0   loan_id           3000 non-null   int64  \n",
            " 1   age               3000 non-null   int64  \n",
            " 2   education         2908 non-null   float64\n",
            " 3   proof_submitted   3000 non-null   object \n",
            " 4   loan_amount       3000 non-null   int64  \n",
            " 5   asset_cost        3000 non-null   int64  \n",
            " 6   no_of_loans       3000 non-null   int64  \n",
            " 7   no_of_curr_loans  3000 non-null   int64  \n",
            " 8   last_delinq_none  3000 non-null   int64  \n",
            "dtypes: float64(1), int64(7), object(1)\n",
            "memory usage: 211.1+ KB\n"
          ]
        }
      ]
    },
    {
      "cell_type": "markdown",
      "source": [
        "# TARGET: loan_default"
      ],
      "metadata": {
        "id": "VW2QPj4BqRLx"
      }
    },
    {
      "cell_type": "code",
      "source": [
        "TARGET = 'loan_default'"
      ],
      "metadata": {
        "id": "N4t_dX04ZyVl"
      },
      "execution_count": 7,
      "outputs": []
    },
    {
      "cell_type": "code",
      "source": [
        "train[TARGET].value_counts()"
      ],
      "metadata": {
        "colab": {
          "base_uri": "https://localhost:8080/"
        },
        "id": "YKZ-q5gOaugu",
        "outputId": "e1e2390d-5ea2-4c4b-f540-dc0b5451be53"
      },
      "execution_count": 8,
      "outputs": [
        {
          "output_type": "execute_result",
          "data": {
            "text/plain": [
              "0    4200\n",
              "1    2800\n",
              "Name: loan_default, dtype: int64"
            ]
          },
          "metadata": {},
          "execution_count": 8
        }
      ]
    },
    {
      "cell_type": "code",
      "source": [
        "train[TARGET].value_counts(normalize=True)"
      ],
      "metadata": {
        "colab": {
          "base_uri": "https://localhost:8080/"
        },
        "id": "b7ib7laCay5Y",
        "outputId": "16ca9834-0c23-4c7c-c536-bcb4971fb4bf"
      },
      "execution_count": 9,
      "outputs": [
        {
          "output_type": "execute_result",
          "data": {
            "text/plain": [
              "0    0.6\n",
              "1    0.4\n",
              "Name: loan_default, dtype: float64"
            ]
          },
          "metadata": {},
          "execution_count": 9
        }
      ]
    },
    {
      "cell_type": "markdown",
      "source": [
        "# Feature distributions"
      ],
      "metadata": {
        "id": "lrsgMgHBqrJK"
      }
    },
    {
      "cell_type": "markdown",
      "source": [
        "### loan_id"
      ],
      "metadata": {
        "id": "R9czVLn2qWUH"
      }
    },
    {
      "cell_type": "code",
      "source": [
        "train.loan_id.nunique(), test.loan_id.nunique()"
      ],
      "metadata": {
        "colab": {
          "base_uri": "https://localhost:8080/"
        },
        "id": "9gNwLYwcbLSs",
        "outputId": "57b38132-1825-4849-ec8c-2f73ddaa1f30"
      },
      "execution_count": 10,
      "outputs": [
        {
          "output_type": "execute_result",
          "data": {
            "text/plain": [
              "(7000, 3000)"
            ]
          },
          "metadata": {},
          "execution_count": 10
        }
      ]
    },
    {
      "cell_type": "code",
      "source": [
        "set(train.loan_id.unique()).intersection(set(test.loan_id.unique()))"
      ],
      "metadata": {
        "colab": {
          "base_uri": "https://localhost:8080/"
        },
        "id": "Q43winNSbUp7",
        "outputId": "42fd0a13-67fa-41cf-d52b-1b1fcda77829"
      },
      "execution_count": 11,
      "outputs": [
        {
          "output_type": "execute_result",
          "data": {
            "text/plain": [
              "set()"
            ]
          },
          "metadata": {},
          "execution_count": 11
        }
      ]
    },
    {
      "cell_type": "markdown",
      "source": [
        "Confirmed as a unique identifier. We can drop it as a feature."
      ],
      "metadata": {
        "id": "5hQaj_ONrC5W"
      }
    },
    {
      "cell_type": "markdown",
      "source": [
        "### age"
      ],
      "metadata": {
        "id": "vBVXLzq5qZCy"
      }
    },
    {
      "cell_type": "code",
      "source": [
        "def plot_num(feature):\n",
        "    fig, ax = plt.subplots(1, 2, figsize=(20, 4))\n",
        "    plt.suptitle(f'Feature: {feature}', fontweight='bold', fontsize=12)\n",
        "    sns.kdeplot(x=feature, data=train, ax=ax[0])\n",
        "    ax[0].set_title(f'Density distribution in train dataset')\n",
        "    sns.kdeplot(x=feature, data=train, hue=TARGET, ax=ax[1])\n",
        "    ax[1].set_title(f'Split distribution based on target class')\n",
        "    fig.tight_layout()\n",
        "    plt.show()"
      ],
      "metadata": {
        "id": "ZRRjKlt4-8pu"
      },
      "execution_count": 12,
      "outputs": []
    },
    {
      "cell_type": "code",
      "source": [
        "plot_num('age')"
      ],
      "metadata": {
        "colab": {
          "base_uri": "https://localhost:8080/",
          "height": 0
        },
        "id": "0pVShqnMbb6T",
        "outputId": "5bed6caf-051f-4766-d333-7c276b397ab5"
      },
      "execution_count": 13,
      "outputs": [
        {
          "output_type": "display_data",
          "data": {
            "text/plain": [
              "<Figure size 1440x288 with 2 Axes>"
            ],
            "image/png": "[encoded data removed]"
          },
          "metadata": {
            "needs_background": "light"
          }
        }
      ]
    },
    {
      "cell_type": "markdown",
      "source": [
        "Visually similar distributions for both target classes. The only difference is a slight dip in positive class for age range around 37 to 45."
      ],
      "metadata": {
        "id": "bBtLf8fThVSB"
      }
    },
    {
      "cell_type": "markdown",
      "source": [
        "### education"
      ],
      "metadata": {
        "id": "fyZ0n0V0qb_F"
      }
    },
    {
      "cell_type": "code",
      "source": [
        "train.education.value_counts(dropna=False)"
      ],
      "metadata": {
        "colab": {
          "base_uri": "https://localhost:8080/"
        },
        "id": "55IpQvQtinGc",
        "outputId": "9be5406a-3a4d-44b5-fcde-ba4d7b8491d6"
      },
      "execution_count": 14,
      "outputs": [
        {
          "output_type": "execute_result",
          "data": {
            "text/plain": [
              "2.0    3796\n",
              "1.0    2959\n",
              "NaN     245\n",
              "Name: education, dtype: int64"
            ]
          },
          "metadata": {},
          "execution_count": 14
        }
      ]
    },
    {
      "cell_type": "code",
      "source": [
        "def plot_cat(feature):\n",
        "    fig, ax = plt.subplots(1, 2, figsize=(20, 4))\n",
        "    plt.suptitle(f'Feature: {feature}', fontweight='bold', fontsize=12)\n",
        "    sns.countplot(x=feature, data=train, ax=ax[0])\n",
        "    ax[0].set_title('Count distribution in train dataset')\n",
        "    sns.countplot(x=feature, data=train, hue=TARGET, ax=ax[1])\n",
        "    ax[1].set_title('Split distribution based on target class')\n",
        "    fig.tight_layout()\n",
        "    plt.show()"
      ],
      "metadata": {
        "id": "FbBQjanrERP0"
      },
      "execution_count": 15,
      "outputs": []
    },
    {
      "cell_type": "code",
      "source": [
        "plot_cat('education')"
      ],
      "metadata": {
        "colab": {
          "base_uri": "https://localhost:8080/",
          "height": 0
        },
        "id": "-xUKc69clFWx",
        "outputId": "5c910e07-a9ad-4022-8548-2c003ce34b74"
      },
      "execution_count": 16,
      "outputs": [
        {
          "output_type": "display_data",
          "data": {
            "text/plain": [
              "<Figure size 1440x288 with 2 Axes>"
            ],
            "image/png": "[encoded data removed]"
          },
          "metadata": {
            "needs_background": "light"
          }
        }
      ]
    },
    {
      "cell_type": "code",
      "source": [
        "train.groupby('education')[TARGET].value_counts(normalize=True)"
      ],
      "metadata": {
        "colab": {
          "base_uri": "https://localhost:8080/"
        },
        "id": "tsxrCyFKswQ_",
        "outputId": "3fac4bcb-3061-4bfa-e92c-da071e04db10"
      },
      "execution_count": 17,
      "outputs": [
        {
          "output_type": "execute_result",
          "data": {
            "text/plain": [
              "education  loan_default\n",
              "1.0        0               0.6228\n",
              "           1               0.3772\n",
              "2.0        0               0.5817\n",
              "           1               0.4183\n",
              "Name: loan_default, dtype: float64"
            ]
          },
          "metadata": {},
          "execution_count": 17
        }
      ]
    },
    {
      "cell_type": "markdown",
      "source": [
        "Approximately the same split distribution, so we cannot expect a lot of information from this feature. We can fill in the missing values in any way and it may not impact the information much."
      ],
      "metadata": {
        "id": "PTbgyjFIt5W2"
      }
    },
    {
      "cell_type": "code",
      "source": [
        "train.loc[train.education.isna()][TARGET].value_counts(normalize=True)"
      ],
      "metadata": {
        "colab": {
          "base_uri": "https://localhost:8080/"
        },
        "id": "fkNRuOx8u9IS",
        "outputId": "c7b1cd92-d4ad-455f-a8e6-344e49d51496"
      },
      "execution_count": 18,
      "outputs": [
        {
          "output_type": "execute_result",
          "data": {
            "text/plain": [
              "0    0.6082\n",
              "1    0.3918\n",
              "Name: loan_default, dtype: float64"
            ]
          },
          "metadata": {},
          "execution_count": 18
        }
      ]
    },
    {
      "cell_type": "markdown",
      "source": [
        "Split distribution for missing values is also bisecting that for the two categories. "
      ],
      "metadata": {
        "id": "piJBRx1TvIGe"
      }
    },
    {
      "cell_type": "markdown",
      "source": [
        "### proof_submitted"
      ],
      "metadata": {
        "id": "ziSvPhiarSRM"
      }
    },
    {
      "cell_type": "code",
      "source": [
        "train['proof_submitted'].unique(), test['proof_submitted'].unique()"
      ],
      "metadata": {
        "colab": {
          "base_uri": "https://localhost:8080/"
        },
        "id": "Xg4NVuFLxdZ3",
        "outputId": "6bb5a04d-067f-42c6-8d68-9caf726180e5"
      },
      "execution_count": 19,
      "outputs": [
        {
          "output_type": "execute_result",
          "data": {
            "text/plain": [
              "(array(['Aadhar', 'VoterID', 'Driving', 'PAN', 'Passport'], dtype=object),\n",
              " array(['Aadhar', 'VoterID', 'Driving', 'PAN', 'Passport'], dtype=object))"
            ]
          },
          "metadata": {},
          "execution_count": 19
        }
      ]
    },
    {
      "cell_type": "code",
      "source": [
        "plot_cat('proof_submitted')"
      ],
      "metadata": {
        "colab": {
          "base_uri": "https://localhost:8080/",
          "height": 0
        },
        "id": "KxBV93yRxqAd",
        "outputId": "159d4d60-b826-472b-f121-489f888090d0"
      },
      "execution_count": 20,
      "outputs": [
        {
          "output_type": "display_data",
          "data": {
            "text/plain": [
              "<Figure size 1440x288 with 2 Axes>"
            ],
            "image/png": "[encoded data removed]"
          },
          "metadata": {
            "needs_background": "light"
          }
        }
      ]
    },
    {
      "cell_type": "code",
      "source": [
        "train.proof_submitted.value_counts()"
      ],
      "metadata": {
        "colab": {
          "base_uri": "https://localhost:8080/"
        },
        "id": "NXczWT7ux3Lv",
        "outputId": "e223ada1-9d2c-4f3e-d323-221ee7bec609"
      },
      "execution_count": 21,
      "outputs": [
        {
          "output_type": "execute_result",
          "data": {
            "text/plain": [
              "Aadhar      5931\n",
              "VoterID      707\n",
              "PAN          235\n",
              "Driving      114\n",
              "Passport      13\n",
              "Name: proof_submitted, dtype: int64"
            ]
          },
          "metadata": {},
          "execution_count": 21
        }
      ]
    },
    {
      "cell_type": "markdown",
      "source": [
        "Heavily imbalanced feature. Again, difficult to gain information about the target variable."
      ],
      "metadata": {
        "id": "_f6CMhDG4ybv"
      }
    },
    {
      "cell_type": "code",
      "source": [
        "train.groupby('proof_submitted')[TARGET].value_counts(normalize=True)"
      ],
      "metadata": {
        "colab": {
          "base_uri": "https://localhost:8080/"
        },
        "id": "3ZuFU_gz47Sm",
        "outputId": "280c6168-2049-49b6-b13a-0365300c7cfb"
      },
      "execution_count": 22,
      "outputs": [
        {
          "output_type": "execute_result",
          "data": {
            "text/plain": [
              "proof_submitted  loan_default\n",
              "Aadhar           0               0.6109\n",
              "                 1               0.3891\n",
              "Driving          0               0.5351\n",
              "                 1               0.4649\n",
              "PAN              0               0.5872\n",
              "                 1               0.4128\n",
              "Passport         0               0.7692\n",
              "                 1               0.2308\n",
              "VoterID          0               0.5205\n",
              "                 1               0.4795\n",
              "Name: loan_default, dtype: float64"
            ]
          },
          "metadata": {},
          "execution_count": 22
        }
      ]
    },
    {
      "cell_type": "code",
      "source": [
        "train.loc[train.proof_submitted != 'Aadhar'][TARGET].value_counts(normalize=True)"
      ],
      "metadata": {
        "colab": {
          "base_uri": "https://localhost:8080/"
        },
        "id": "bLC-yTKS6R4N",
        "outputId": "14b8b7ca-7f30-4971-c964-2acb8bb25d0a"
      },
      "execution_count": 23,
      "outputs": [
        {
          "output_type": "execute_result",
          "data": {
            "text/plain": [
              "0    0.5398\n",
              "1    0.4602\n",
              "Name: loan_default, dtype: float64"
            ]
          },
          "metadata": {},
          "execution_count": 23
        }
      ]
    },
    {
      "cell_type": "markdown",
      "source": [
        "We can create a boolean feature based on whether proof submitted was 'Aadhar' or not, to reduce imbalance while having some difference in the split distribution."
      ],
      "metadata": {
        "id": "tZ4Q8yPt73-l"
      }
    },
    {
      "cell_type": "markdown",
      "source": [
        "### loan_amount"
      ],
      "metadata": {
        "id": "z5Ta03Ds-ypG"
      }
    },
    {
      "cell_type": "code",
      "source": [
        "plot_num('loan_amount')"
      ],
      "metadata": {
        "colab": {
          "base_uri": "https://localhost:8080/",
          "height": 0
        },
        "id": "kNSCi1xg-1ZS",
        "outputId": "36cd70aa-dac4-4952-94d3-a7141ea84390"
      },
      "execution_count": 24,
      "outputs": [
        {
          "output_type": "display_data",
          "data": {
            "text/plain": [
              "<Figure size 1440x288 with 2 Axes>"
            ],
            "image/png": "[encoded data removed]"
          },
          "metadata": {
            "needs_background": "light"
          }
        }
      ]
    },
    {
      "cell_type": "markdown",
      "source": [
        "Expected a separation in peaks with higher loan amounts having higher proportion of defaults, but the splits have a very slight shift."
      ],
      "metadata": {
        "id": "kgkPNmPDkw0r"
      }
    },
    {
      "cell_type": "markdown",
      "source": [
        "### asset_cost"
      ],
      "metadata": {
        "id": "lldJxAFxmDq5"
      }
    },
    {
      "cell_type": "code",
      "source": [
        "plot_num('asset_cost')"
      ],
      "metadata": {
        "colab": {
          "base_uri": "https://localhost:8080/",
          "height": 0
        },
        "id": "V06rMilfksTj",
        "outputId": "90560b88-a892-423d-97e7-3973c2e087b2"
      },
      "execution_count": 25,
      "outputs": [
        {
          "output_type": "display_data",
          "data": {
            "text/plain": [
              "<Figure size 1440x288 with 2 Axes>"
            ],
            "image/png": "[encoded data removed]"
          },
          "metadata": {
            "needs_background": "light"
          }
        }
      ]
    },
    {
      "cell_type": "markdown",
      "source": [
        "Again, a similar density distribution for both classes. "
      ],
      "metadata": {
        "id": "XZEyz1dymMbC"
      }
    },
    {
      "cell_type": "markdown",
      "source": [
        "### no_of_loans"
      ],
      "metadata": {
        "id": "F0scPjjzmno6"
      }
    },
    {
      "cell_type": "code",
      "source": [
        "plot_num('no_of_loans')"
      ],
      "metadata": {
        "colab": {
          "base_uri": "https://localhost:8080/",
          "height": 0
        },
        "id": "mJTxyKw1m_NV",
        "outputId": "5285c6f4-3a20-42bb-cc2e-5024bc11d3db"
      },
      "execution_count": 26,
      "outputs": [
        {
          "output_type": "display_data",
          "data": {
            "text/plain": [
              "<Figure size 1440x288 with 2 Axes>"
            ],
            "image/png": "[encoded data removed]"
          },
          "metadata": {
            "needs_background": "light"
          }
        }
      ]
    },
    {
      "cell_type": "code",
      "source": [
        "plot_cat('no_of_loans')"
      ],
      "metadata": {
        "colab": {
          "base_uri": "https://localhost:8080/",
          "height": 0
        },
        "id": "7iDQ693qLJpm",
        "outputId": "e5e72fd7-41ab-486c-9b7a-3851a3b2587b"
      },
      "execution_count": 27,
      "outputs": [
        {
          "output_type": "display_data",
          "data": {
            "text/plain": [
              "<Figure size 1440x288 with 2 Axes>"
            ],
            "image/png": "[encoded data removed]"
          },
          "metadata": {
            "needs_background": "light"
          }
        }
      ]
    },
    {
      "cell_type": "code",
      "source": [
        "len(train.loc[train.no_of_loans > 10])"
      ],
      "metadata": {
        "colab": {
          "base_uri": "https://localhost:8080/"
        },
        "id": "8YY1GWFInGDX",
        "outputId": "71191792-c9da-437d-f872-47c9fd7fedad"
      },
      "execution_count": 28,
      "outputs": [
        {
          "output_type": "execute_result",
          "data": {
            "text/plain": [
              "445"
            ]
          },
          "metadata": {},
          "execution_count": 28
        }
      ]
    },
    {
      "cell_type": "code",
      "source": [
        "train.loc[train.no_of_loans > 10][TARGET].value_counts()"
      ],
      "metadata": {
        "colab": {
          "base_uri": "https://localhost:8080/"
        },
        "id": "yjDUY3y1o2w7",
        "outputId": "46acc4f5-082b-41b2-f433-f417e2be668c"
      },
      "execution_count": 29,
      "outputs": [
        {
          "output_type": "execute_result",
          "data": {
            "text/plain": [
              "0    295\n",
              "1    150\n",
              "Name: loan_default, dtype: int64"
            ]
          },
          "metadata": {},
          "execution_count": 29
        }
      ]
    },
    {
      "cell_type": "code",
      "source": [
        "train.loc[train.no_of_loans > 25][TARGET].value_counts()"
      ],
      "metadata": {
        "colab": {
          "base_uri": "https://localhost:8080/"
        },
        "id": "7UsGLer-nZie",
        "outputId": "a68f3a5a-ef48-455d-eff0-9c39298736a6"
      },
      "execution_count": 30,
      "outputs": [
        {
          "output_type": "execute_result",
          "data": {
            "text/plain": [
              "0    36\n",
              "1    21\n",
              "Name: loan_default, dtype: int64"
            ]
          },
          "metadata": {},
          "execution_count": 30
        }
      ]
    },
    {
      "cell_type": "code",
      "source": [
        "train.loc[train.no_of_loans > 50][TARGET].value_counts()"
      ],
      "metadata": {
        "colab": {
          "base_uri": "https://localhost:8080/"
        },
        "id": "beFE74Z1ox_O",
        "outputId": "2d41acdf-828a-4417-aabb-1c2791032682"
      },
      "execution_count": 31,
      "outputs": [
        {
          "output_type": "execute_result",
          "data": {
            "text/plain": [
              "0    6\n",
              "1    5\n",
              "Name: loan_default, dtype: int64"
            ]
          },
          "metadata": {},
          "execution_count": 31
        }
      ]
    },
    {
      "cell_type": "markdown",
      "source": [
        "A surprisingly normal proportion of defaulters for such a high number of loans.  \n",
        "But these include past loans which may have been repaid. A person who regularly repays loans would be more reliable for future loans too."
      ],
      "metadata": {
        "id": "WqA9NWYOoWi6"
      }
    },
    {
      "cell_type": "markdown",
      "source": [
        "We also have to consider that such high number of loans in the dataset can be incorrect entries which makes them outliers to be removed."
      ],
      "metadata": {
        "id": "uxO0Ed67pVCX"
      }
    },
    {
      "cell_type": "markdown",
      "source": [
        "### no_of_curr_loans"
      ],
      "metadata": {
        "id": "x63ijz9aovue"
      }
    },
    {
      "cell_type": "code",
      "source": [
        "plot_num('no_of_curr_loans')"
      ],
      "metadata": {
        "colab": {
          "base_uri": "https://localhost:8080/",
          "height": 0
        },
        "id": "8DQoVAwdpLzy",
        "outputId": "1d18498d-3f9d-4522-fbad-f6289f2aa063"
      },
      "execution_count": 32,
      "outputs": [
        {
          "output_type": "display_data",
          "data": {
            "text/plain": [
              "<Figure size 1440x288 with 2 Axes>"
            ],
            "image/png": "[encoded data removed]"
          },
          "metadata": {
            "needs_background": "light"
          }
        }
      ]
    },
    {
      "cell_type": "code",
      "source": [
        "plot_cat('no_of_curr_loans')"
      ],
      "metadata": {
        "colab": {
          "base_uri": "https://localhost:8080/",
          "height": 0
        },
        "id": "YXWYbkLhtaRM",
        "outputId": "9ca8b254-7325-419a-bb77-76eb745d8cbf"
      },
      "execution_count": 33,
      "outputs": [
        {
          "output_type": "display_data",
          "data": {
            "text/plain": [
              "<Figure size 1440x288 with 2 Axes>"
            ],
            "image/png": "[encoded data removed]"
          },
          "metadata": {
            "needs_background": "light"
          }
        }
      ]
    },
    {
      "cell_type": "code",
      "source": [
        "train.loc[train.no_of_curr_loans < 6][TARGET].value_counts(normalize=True)"
      ],
      "metadata": {
        "colab": {
          "base_uri": "https://localhost:8080/"
        },
        "id": "rpKPcrr9t7FQ",
        "outputId": "52beb948-eaf3-4102-91ee-21736f8edab8"
      },
      "execution_count": 34,
      "outputs": [
        {
          "output_type": "execute_result",
          "data": {
            "text/plain": [
              "0    0.5955\n",
              "1    0.4045\n",
              "Name: loan_default, dtype: float64"
            ]
          },
          "metadata": {},
          "execution_count": 34
        }
      ]
    },
    {
      "cell_type": "code",
      "source": [
        "train.loc[train.no_of_curr_loans > 8][TARGET].value_counts(normalize=True)"
      ],
      "metadata": {
        "colab": {
          "base_uri": "https://localhost:8080/"
        },
        "id": "X9liI-HOtk4W",
        "outputId": "e8061fef-e8a5-445b-ab17-a48a91052cdb"
      },
      "execution_count": 35,
      "outputs": [
        {
          "output_type": "execute_result",
          "data": {
            "text/plain": [
              "0    0.6989\n",
              "1    0.3011\n",
              "Name: loan_default, dtype: float64"
            ]
          },
          "metadata": {},
          "execution_count": 35
        }
      ]
    },
    {
      "cell_type": "markdown",
      "source": [
        "Finally we see a strong indicator that matches our common sense. People holding higher number of active loans are more likely to default. "
      ],
      "metadata": {
        "id": "tJqV0BnVuJCT"
      }
    },
    {
      "cell_type": "markdown",
      "source": [
        "### last_delinq_none"
      ],
      "metadata": {
        "id": "dJytL6Qauctz"
      }
    },
    {
      "cell_type": "code",
      "source": [
        "train.last_delinq_none.value_counts(normalize=True)"
      ],
      "metadata": {
        "colab": {
          "base_uri": "https://localhost:8080/"
        },
        "id": "LEQmJ5W-ub9c",
        "outputId": "5bc08ddd-299d-4550-c22d-c15ccd2b1877"
      },
      "execution_count": 36,
      "outputs": [
        {
          "output_type": "execute_result",
          "data": {
            "text/plain": [
              "0    0.9867\n",
              "1    0.0133\n",
              "Name: last_delinq_none, dtype: float64"
            ]
          },
          "metadata": {},
          "execution_count": 36
        }
      ]
    },
    {
      "cell_type": "markdown",
      "source": [
        "Extremely imbalanced."
      ],
      "metadata": {
        "id": "exWmqxmE3zum"
      }
    },
    {
      "cell_type": "code",
      "source": [
        "train.groupby('last_delinq_none')[TARGET].value_counts(normalize=True)"
      ],
      "metadata": {
        "colab": {
          "base_uri": "https://localhost:8080/"
        },
        "id": "E13kKDO731sg",
        "outputId": "f7ec873f-5b6c-408d-cb8d-371704e9d34a"
      },
      "execution_count": 37,
      "outputs": [
        {
          "output_type": "execute_result",
          "data": {
            "text/plain": [
              "last_delinq_none  loan_default\n",
              "0                 0               0.6008\n",
              "                  1               0.3992\n",
              "1                 0               0.5376\n",
              "                  1               0.4624\n",
              "Name: loan_default, dtype: float64"
            ]
          },
          "metadata": {},
          "execution_count": 37
        }
      ]
    },
    {
      "cell_type": "markdown",
      "source": [
        "We see a difference in proportion of defaulters which is informative but the extreme imbalance in this feature can reduce the effect on target variable."
      ],
      "metadata": {
        "id": "DwQfPvtKrwGB"
      }
    },
    {
      "cell_type": "markdown",
      "source": [
        "# Handling missing values"
      ],
      "metadata": {
        "id": "MpalwCm3smWI"
      }
    },
    {
      "cell_type": "code",
      "source": [
        "train.isna().sum()"
      ],
      "metadata": {
        "colab": {
          "base_uri": "https://localhost:8080/"
        },
        "id": "ssIaKdVesp1i",
        "outputId": "d1036dd7-a3bb-4b6a-f392-8609985b4693"
      },
      "execution_count": 38,
      "outputs": [
        {
          "output_type": "execute_result",
          "data": {
            "text/plain": [
              "loan_id               0\n",
              "age                   0\n",
              "education           245\n",
              "proof_submitted       0\n",
              "loan_amount           0\n",
              "asset_cost            0\n",
              "no_of_loans           0\n",
              "no_of_curr_loans      0\n",
              "last_delinq_none      0\n",
              "loan_default          0\n",
              "dtype: int64"
            ]
          },
          "metadata": {},
          "execution_count": 38
        }
      ]
    },
    {
      "cell_type": "code",
      "source": [
        "test.isna().sum()"
      ],
      "metadata": {
        "colab": {
          "base_uri": "https://localhost:8080/"
        },
        "id": "pRxeXBuF4gQ6",
        "outputId": "ae1aa210-dafc-4ec2-b0d4-c44eba15df04"
      },
      "execution_count": 39,
      "outputs": [
        {
          "output_type": "execute_result",
          "data": {
            "text/plain": [
              "loan_id              0\n",
              "age                  0\n",
              "education           92\n",
              "proof_submitted      0\n",
              "loan_amount          0\n",
              "asset_cost           0\n",
              "no_of_loans          0\n",
              "no_of_curr_loans     0\n",
              "last_delinq_none     0\n",
              "dtype: int64"
            ]
          },
          "metadata": {},
          "execution_count": 39
        }
      ]
    },
    {
      "cell_type": "markdown",
      "source": [
        "After exploring the 'education' column we saw that filling in either value will not change the distribution much. So, we can try different strategies and create a column for each of them, later picking only one of them based on feature selection insights."
      ],
      "metadata": {
        "id": "bMOxflfuvS4-"
      }
    },
    {
      "cell_type": "code",
      "source": [
        "train.education.unique()"
      ],
      "metadata": {
        "colab": {
          "base_uri": "https://localhost:8080/"
        },
        "id": "LB9UP3uRy3dm",
        "outputId": "9ab40f4f-e0fb-4613-ed7c-4961ef30a349"
      },
      "execution_count": 40,
      "outputs": [
        {
          "output_type": "execute_result",
          "data": {
            "text/plain": [
              "array([ 1.,  2., nan])"
            ]
          },
          "metadata": {},
          "execution_count": 40
        }
      ]
    },
    {
      "cell_type": "code",
      "source": [
        "train['education_fill_1'] = train['education'].fillna(1).astype('int')\n",
        "test['education_fill_1'] = test['education'].fillna(1).astype('int')\n",
        "\n",
        "train['education_fill_2'] = train['education'].fillna(2).astype('int')\n",
        "test['education_fill_2'] = test['education'].fillna(2).astype('int')"
      ],
      "metadata": {
        "id": "wtJAdbsAt0Py"
      },
      "execution_count": 41,
      "outputs": []
    },
    {
      "cell_type": "markdown",
      "source": [
        "# Feature engineering"
      ],
      "metadata": {
        "id": "5M6AjRl1sdtS"
      }
    },
    {
      "cell_type": "markdown",
      "source": [
        "### Binning continuous features \n",
        "(tree-based models can find the splits but we can also manually create them if we want to use linear models or neural networks)  \n",
        "* age -> age_range\n",
        "* loan_amount -> loan_amount_range\n",
        "* asset_cost -> asset_cost_range\n",
        "* no_of_loans -> no_of_loans_range\n",
        "* no_of_curr_loans -> no_of_curr_loans_range"
      ],
      "metadata": {
        "id": "G8Rfo7sW1jTS"
      }
    },
    {
      "cell_type": "markdown",
      "source": [
        "**age**"
      ],
      "metadata": {
        "id": "4txZmc42Kn28"
      }
    },
    {
      "cell_type": "code",
      "source": [
        "train.age.min(), train.age.max(), test.age.min(), test.age.max()"
      ],
      "metadata": {
        "colab": {
          "base_uri": "https://localhost:8080/"
        },
        "id": "wqr4EfJ5JTww",
        "outputId": "5c97f8da-9e75-4c40-bfe5-d9ac8e6684c4"
      },
      "execution_count": 42,
      "outputs": [
        {
          "output_type": "execute_result",
          "data": {
            "text/plain": [
              "(21, 50, 21, 50)"
            ]
          },
          "metadata": {},
          "execution_count": 42
        }
      ]
    },
    {
      "cell_type": "code",
      "source": [
        "age_bins = [20, 27, 35, 44, 50]\n",
        "train['age_range'] = pd.cut(x=train.age, bins=age_bins, labels=False, ordered=True)\n",
        "test['age_range'] = pd.cut(x=test.age, bins=age_bins, labels=False, ordered=True)"
      ],
      "metadata": {
        "id": "zsllPFS0mBlz"
      },
      "execution_count": 43,
      "outputs": []
    },
    {
      "cell_type": "markdown",
      "source": [
        "**loan_amount**"
      ],
      "metadata": {
        "id": "JGIH1ayIKp_k"
      }
    },
    {
      "cell_type": "code",
      "source": [
        "train.loan_amount.min(), train.loan_amount.max(), test.loan_amount.min(), test.loan_amount.max()"
      ],
      "metadata": {
        "colab": {
          "base_uri": "https://localhost:8080/"
        },
        "id": "JSZdrAg5IPTu",
        "outputId": "8a9e0028-d6ef-4efb-9704-2706e7506e55"
      },
      "execution_count": 44,
      "outputs": [
        {
          "output_type": "execute_result",
          "data": {
            "text/plain": [
              "(167880, 1781376, 169680, 1576920)"
            ]
          },
          "metadata": {},
          "execution_count": 44
        }
      ]
    },
    {
      "cell_type": "code",
      "source": [
        "loan_bins = [0, 0.5e6, 0.8e6, 2e6]\n",
        "train['loan_amount_range'] = pd.cut(x=train.loan_amount, bins=loan_bins, labels=False, ordered=True)\n",
        "test['loan_amount_range'] = pd.cut(x=test.loan_amount, bins=loan_bins, labels=False, ordered=True)"
      ],
      "metadata": {
        "id": "g4pXFYTpF1sH"
      },
      "execution_count": 45,
      "outputs": []
    },
    {
      "cell_type": "markdown",
      "source": [
        "**asset_cost**"
      ],
      "metadata": {
        "id": "YV6N8JlcKtSt"
      }
    },
    {
      "cell_type": "code",
      "source": [
        "train.asset_cost.min(), train.asset_cost.max(), test.asset_cost.min(), test.asset_cost.max()"
      ],
      "metadata": {
        "colab": {
          "base_uri": "https://localhost:8080/"
        },
        "id": "gP1Ob_30Jnum",
        "outputId": "d05b6db6-33ae-447b-abef-b31ec99012a9"
      },
      "execution_count": 46,
      "outputs": [
        {
          "output_type": "execute_result",
          "data": {
            "text/plain": [
              "(473352, 2419200, 470604, 2358180)"
            ]
          },
          "metadata": {},
          "execution_count": 46
        }
      ]
    },
    {
      "cell_type": "code",
      "source": [
        "asset_bins = [0, 0.75e6, 1e6, 1.25e6, 2.5e6]\n",
        "train['asset_cost_range'] = pd.cut(x=train.asset_cost, bins=asset_bins, labels=False, ordered=True)\n",
        "test['asset_cost_range'] = pd.cut(x=test.asset_cost, bins=asset_bins, labels=False, ordered=True)"
      ],
      "metadata": {
        "id": "r6zHy5i4J3co"
      },
      "execution_count": 47,
      "outputs": []
    },
    {
      "cell_type": "markdown",
      "source": [
        "**no_of_loans**"
      ],
      "metadata": {
        "id": "WWejYwm_KwEf"
      }
    },
    {
      "cell_type": "code",
      "source": [
        "train.no_of_loans.min(), train.no_of_loans.max(), test.no_of_loans.min(), test.no_of_loans.max()"
      ],
      "metadata": {
        "colab": {
          "base_uri": "https://localhost:8080/"
        },
        "id": "Deuyj8bGKd9O",
        "outputId": "84f249c4-1cbf-4a75-a15e-08611dd7dd28"
      },
      "execution_count": 48,
      "outputs": [
        {
          "output_type": "execute_result",
          "data": {
            "text/plain": [
              "(0, 109, 0, 92)"
            ]
          },
          "metadata": {},
          "execution_count": 48
        }
      ]
    },
    {
      "cell_type": "code",
      "source": [
        "num_loans_bins = [-1, 1, 2, 10, 20, 110] #starting with -1 to include 0 in 1st bin\n",
        "train['no_of_loans_range'] = pd.cut(x=train.no_of_loans, bins=num_loans_bins, labels=False, ordered=True)\n",
        "test['no_of_loans_range'] = pd.cut(x=test.no_of_loans, bins=num_loans_bins, labels=False, ordered=True)"
      ],
      "metadata": {
        "id": "JQ_7XjYsK9nN"
      },
      "execution_count": 49,
      "outputs": []
    },
    {
      "cell_type": "markdown",
      "source": [
        "**no_of_curr_loans**"
      ],
      "metadata": {
        "id": "eHByUoYFLxf8"
      }
    },
    {
      "cell_type": "code",
      "source": [
        "train.no_of_curr_loans.min(), train.no_of_curr_loans.max(), test.no_of_curr_loans.min(), test.no_of_curr_loans.max()"
      ],
      "metadata": {
        "colab": {
          "base_uri": "https://localhost:8080/"
        },
        "id": "rJ6ENtkCLwo3",
        "outputId": "e6e0f1b9-7207-44db-9697-0aa5f55abef9"
      },
      "execution_count": 50,
      "outputs": [
        {
          "output_type": "execute_result",
          "data": {
            "text/plain": [
              "(0, 33, 0, 32)"
            ]
          },
          "metadata": {},
          "execution_count": 50
        }
      ]
    },
    {
      "cell_type": "code",
      "source": [
        "num_curr_loans_bins = [-1, 1, 2, 6, 10, 35] #starting with -1 to include 0 in 1st bin\n",
        "train['no_of_curr_loans_range'] = pd.cut(x=train.no_of_curr_loans, bins=num_curr_loans_bins, labels=False, ordered=True)\n",
        "test['no_of_curr_loans_range'] = pd.cut(x=test.no_of_curr_loans, bins=num_curr_loans_bins, labels=False, ordered=True)"
      ],
      "metadata": {
        "id": "hc40aKPZMKM1"
      },
      "execution_count": 51,
      "outputs": []
    },
    {
      "cell_type": "markdown",
      "source": [
        "### Reclassifying categorical columns\n",
        "converting 'proof_submitted' column from multi-class to binary (Aadhar vs Non-Aadhar)"
      ],
      "metadata": {
        "id": "pIdJrqD8ehpx"
      }
    },
    {
      "cell_type": "code",
      "source": [
        "train['proof_is_aadhar'] = (train['proof_submitted'] == 'Aadhar').astype('int')\n",
        "test['proof_is_aadhar'] = (test['proof_submitted'] == 'Aadhar').astype('int')"
      ],
      "metadata": {
        "id": "8T6kfcSsOryk"
      },
      "execution_count": 52,
      "outputs": []
    },
    {
      "cell_type": "markdown",
      "source": [
        "**Encoding the original 'proof_submitted' column**"
      ],
      "metadata": {
        "id": "iko1x21ukeCg"
      }
    },
    {
      "cell_type": "code",
      "source": [
        "proof_mapping = dict(zip(train.proof_submitted.unique(), range(5)))\n",
        "\n",
        "train['proof_submitted'].replace(to_replace=proof_mapping, inplace=True)\n",
        "test['proof_submitted'].replace(to_replace=proof_mapping, inplace=True)"
      ],
      "metadata": {
        "id": "s3xC9z2hklyi"
      },
      "execution_count": 53,
      "outputs": []
    },
    {
      "cell_type": "markdown",
      "source": [
        "# Feature selection"
      ],
      "metadata": {
        "id": "oG9eAplJkIrL"
      }
    },
    {
      "cell_type": "code",
      "source": [
        "features = [f for f in test.columns if f not in ('loan_id', 'education')]\n",
        "\n",
        "num_features = ['age', 'loan_amount', 'asset_cost', 'no_of_loans', 'no_of_curr_loans']\n",
        "cat_features = [f for f in features if f not in num_features]"
      ],
      "metadata": {
        "id": "Xgj2knsShTTI"
      },
      "execution_count": 54,
      "outputs": []
    },
    {
      "cell_type": "markdown",
      "source": [
        "### Feature correlation"
      ],
      "metadata": {
        "id": "7N0VnryFv5Gh"
      }
    },
    {
      "cell_type": "code",
      "source": [
        "corr_df = train[features].corr()"
      ],
      "metadata": {
        "id": "I3iuTN1joM3z"
      },
      "execution_count": 55,
      "outputs": []
    },
    {
      "cell_type": "code",
      "source": [
        "plt.figure(figsize=(12, 12))\n",
        "sns.heatmap(corr_df, vmin=-1, vmax=1, center=0, annot=True, linewidths=0.1)\n",
        "plt.show()"
      ],
      "metadata": {
        "colab": {
          "base_uri": "https://localhost:8080/",
          "height": 0
        },
        "id": "bzSRtK_gpgk4",
        "outputId": "8e57ace9-7e15-44d6-e58d-25ffa1fccdbb"
      },
      "execution_count": 56,
      "outputs": [
        {
          "output_type": "display_data",
          "data": {
            "text/plain": [
              "<Figure size 864x864 with 2 Axes>"
            ],
            "image/png": "[encoded data removed]"
          },
          "metadata": {
            "needs_background": "light"
          }
        }
      ]
    },
    {
      "cell_type": "markdown",
      "source": [
        "Except the high correlation within derived features, there is:\n",
        "* moderately-high correlation between loan_amount and asset_cost (probably because a loan is given after assessing the assets)  \n",
        "* moderately-high correlation between no_of_loans and no_of_current_loans  \n",
        "\n",
        "Apart from the derived features, there are no features with high enough correlation to consider their removal."
      ],
      "metadata": {
        "id": "vztWy3aTumZk"
      }
    },
    {
      "cell_type": "markdown",
      "source": [
        "### Correlation with target"
      ],
      "metadata": {
        "id": "zZ7XeXBEv_Qk"
      }
    },
    {
      "cell_type": "code",
      "source": [
        "train[features + [TARGET]].corr()[TARGET]"
      ],
      "metadata": {
        "colab": {
          "base_uri": "https://localhost:8080/"
        },
        "id": "aq7x7P0pqtFW",
        "outputId": "68daade2-e781-4eca-d716-12ac24a1c47f"
      },
      "execution_count": 57,
      "outputs": [
        {
          "output_type": "execute_result",
          "data": {
            "text/plain": [
              "age                      -0.0296\n",
              "proof_submitted           0.0313\n",
              "loan_amount               0.1157\n",
              "asset_cost                0.0480\n",
              "no_of_loans              -0.0457\n",
              "no_of_curr_loans         -0.0573\n",
              "last_delinq_none          0.0148\n",
              "education_fill_1          0.0407\n",
              "education_fill_2          0.0399\n",
              "age_range                -0.0313\n",
              "loan_amount_range         0.1091\n",
              "asset_cost_range          0.0447\n",
              "no_of_loans_range        -0.0628\n",
              "no_of_curr_loans_range   -0.0574\n",
              "proof_is_aadhar          -0.0522\n",
              "loan_default              1.0000\n",
              "Name: loan_default, dtype: float64"
            ]
          },
          "metadata": {},
          "execution_count": 57
        }
      ]
    },
    {
      "cell_type": "markdown",
      "source": [
        "Very low correlation between features and target.  \n",
        "However, the target is categorical so we need to perform other statistical tests to understand which features are useful."
      ],
      "metadata": {
        "id": "o4q3O8bgwepI"
      }
    },
    {
      "cell_type": "markdown",
      "source": [
        "### Chi-square test of independence (categorical feature - categorical target)"
      ],
      "metadata": {
        "id": "jDxC93tow0vm"
      }
    },
    {
      "cell_type": "code",
      "source": [
        "chi2_test = chi2(train[cat_features], train[TARGET])\n",
        "\n",
        "pd.DataFrame(\n",
        "    data={\n",
        "        'chi2-statistic': chi2_test[0], \n",
        "        'p-value': chi2_test[1],\n",
        "        'accepted?': chi2_test[1] < 0.05\n",
        "    },\n",
        "    index=cat_features\n",
        ")"
      ],
      "metadata": {
        "colab": {
          "base_uri": "https://localhost:8080/",
          "height": 363
        },
        "id": "TqvBSzdqwSx-",
        "outputId": "9f887370-cf88-4c82-a21f-9380c4b81c0d"
      },
      "execution_count": 58,
      "outputs": [
        {
          "output_type": "execute_result",
          "data": {
            "text/plain": [
              "                        chi2-statistic     p-value  accepted?\n",
              "proof_submitted                12.4838  4.1049e-04       True\n",
              "last_delinq_none                1.5072  2.1957e-01      False\n",
              "education_fill_1                1.8696  1.7152e-01      False\n",
              "education_fill_2                1.7245  1.8911e-01      False\n",
              "age_range                       4.2392  3.9501e-02       True\n",
              "loan_amount_range              20.6240  5.5891e-06       True\n",
              "asset_cost_range                6.1672  1.3014e-02       True\n",
              "no_of_loans_range              34.1342  5.1439e-09       True\n",
              "no_of_curr_loans_range         29.2699  6.2966e-08       True\n",
              "proof_is_aadhar                 2.9136  8.7835e-02      False"
            ],
            "text/html": [
              "\n",
              "  <div id=\"df-1d06f925-6530-4236-b97f-b443001ff5b9\">\n",
              "    <div class=\"colab-df-container\">\n",
              "      <div>\n",
              "<style scoped>\n",
              "    .dataframe tbody tr th:only-of-type {\n",
              "        vertical-align: middle;\n",
              "    }\n",
              "\n",
              "    .dataframe tbody tr th {\n",
              "        vertical-align: top;\n",
              "    }\n",
              "\n",
              "    .dataframe thead th {\n",
              "        text-align: right;\n",
              "    }\n",
              "</style>\n",
              "<table border=\"1\" class=\"dataframe\">\n",
              "  <thead>\n",
              "    <tr style=\"text-align: right;\">\n",
              "      <th></th>\n",
              "      <th>chi2-statistic</th>\n",
              "      <th>p-value</th>\n",
              "      <th>accepted?</th>\n",
              "    </tr>\n",
              "  </thead>\n",
              "  <tbody>\n",
              "    <tr>\n",
              "      <th>proof_submitted</th>\n",
              "      <td>12.4838</td>\n",
              "      <td>4.1049e-04</td>\n",
              "      <td>True</td>\n",
              "    </tr>\n",
              "    <tr>\n",
              "      <th>last_delinq_none</th>\n",
              "      <td>1.5072</td>\n",
              "      <td>2.1957e-01</td>\n",
              "      <td>False</td>\n",
              "    </tr>\n",
              "    <tr>\n",
              "      <th>education_fill_1</th>\n",
              "      <td>1.8696</td>\n",
              "      <td>1.7152e-01</td>\n",
              "      <td>False</td>\n",
              "    </tr>\n",
              "    <tr>\n",
              "      <th>education_fill_2</th>\n",
              "      <td>1.7245</td>\n",
              "      <td>1.8911e-01</td>\n",
              "      <td>False</td>\n",
              "    </tr>\n",
              "    <tr>\n",
              "      <th>age_range</th>\n",
              "      <td>4.2392</td>\n",
              "      <td>3.9501e-02</td>\n",
              "      <td>True</td>\n",
              "    </tr>\n",
              "    <tr>\n",
              "      <th>loan_amount_range</th>\n",
              "      <td>20.6240</td>\n",
              "      <td>5.5891e-06</td>\n",
              "      <td>True</td>\n",
              "    </tr>\n",
              "    <tr>\n",
              "      <th>asset_cost_range</th>\n",
              "      <td>6.1672</td>\n",
              "      <td>1.3014e-02</td>\n",
              "      <td>True</td>\n",
              "    </tr>\n",
              "    <tr>\n",
              "      <th>no_of_loans_range</th>\n",
              "      <td>34.1342</td>\n",
              "      <td>5.1439e-09</td>\n",
              "      <td>True</td>\n",
              "    </tr>\n",
              "    <tr>\n",
              "      <th>no_of_curr_loans_range</th>\n",
              "      <td>29.2699</td>\n",
              "      <td>6.2966e-08</td>\n",
              "      <td>True</td>\n",
              "    </tr>\n",
              "    <tr>\n",
              "      <th>proof_is_aadhar</th>\n",
              "      <td>2.9136</td>\n",
              "      <td>8.7835e-02</td>\n",
              "      <td>False</td>\n",
              "    </tr>\n",
              "  </tbody>\n",
              "</table>\n",
              "</div>\n",
              "      <button class=\"colab-df-convert\" onclick=\"convertToInteractive('df-1d06f925-6530-4236-b97f-b443001ff5b9')\"\n",
              "              title=\"Convert this dataframe to an interactive table.\"\n",
              "              style=\"display:none;\">\n",
              "        \n",
              "  <svg xmlns=\"http://www.w3.org/2000/svg\" height=\"24px\"viewBox=\"0 0 24 24\"\n",
              "       width=\"24px\">\n",
              "    <path d=\"M0 0h24v24H0V0z\" fill=\"none\"/>\n",
              "    <path d=\"M18.56 5.44l.94 2.06.94-2.06 2.06-.94-2.06-.94-.94-2.06-.94 2.06-2.06.94zm-11 1L8.5 8.5l.94-2.06 2.06-.94-2.06-.94L8.5 2.5l-.94 2.06-2.06.94zm10 10l.94 2.06.94-2.06 2.06-.94-2.06-.94-.94-2.06-.94 2.06-2.06.94z\"/><path d=\"M17.41 7.96l-1.37-1.37c-.4-.4-.92-.59-1.43-.59-.52 0-1.04.2-1.43.59L10.3 9.45l-7.72 7.72c-.78.78-.78 2.05 0 2.83L4 21.41c.39.39.9.59 1.41.59.51 0 1.02-.2 1.41-.59l7.78-7.78 2.81-2.81c.8-.78.8-2.07 0-2.86zM5.41 20L4 18.59l7.72-7.72 1.47 1.35L5.41 20z\"/>\n",
              "  </svg>\n",
              "      </button>\n",
              "      \n",
              "  <style>\n",
              "    .colab-df-container {\n",
              "      display:flex;\n",
              "      flex-wrap:wrap;\n",
              "      gap: 12px;\n",
              "    }\n",
              "\n",
              "    .colab-df-convert {\n",
              "      background-color: #E8F0FE;\n",
              "      border: none;\n",
              "      border-radius: 50%;\n",
              "      cursor: pointer;\n",
              "      display: none;\n",
              "      fill: #1967D2;\n",
              "      height: 32px;\n",
              "      padding: 0 0 0 0;\n",
              "      width: 32px;\n",
              "    }\n",
              "\n",
              "    .colab-df-convert:hover {\n",
              "      background-color: #E2EBFA;\n",
              "      box-shadow: 0px 1px 2px rgba(60, 64, 67, 0.3), 0px 1px 3px 1px rgba(60, 64, 67, 0.15);\n",
              "      fill: #174EA6;\n",
              "    }\n",
              "\n",
              "    [theme=dark] .colab-df-convert {\n",
              "      background-color: #3B4455;\n",
              "      fill: #D2E3FC;\n",
              "    }\n",
              "\n",
              "    [theme=dark] .colab-df-convert:hover {\n",
              "      background-color: #434B5C;\n",
              "      box-shadow: 0px 1px 3px 1px rgba(0, 0, 0, 0.15);\n",
              "      filter: drop-shadow(0px 1px 2px rgba(0, 0, 0, 0.3));\n",
              "      fill: #FFFFFF;\n",
              "    }\n",
              "  </style>\n",
              "\n",
              "      <script>\n",
              "        const buttonEl =\n",
              "          document.querySelector('#df-1d06f925-6530-4236-b97f-b443001ff5b9 button.colab-df-convert');\n",
              "        buttonEl.style.display =\n",
              "          google.colab.kernel.accessAllowed ? 'block' : 'none';\n",
              "\n",
              "        async function convertToInteractive(key) {\n",
              "          const element = document.querySelector('#df-1d06f925-6530-4236-b97f-b443001ff5b9');\n",
              "          const dataTable =\n",
              "            await google.colab.kernel.invokeFunction('convertToInteractive',\n",
              "                                                     [key], {});\n",
              "          if (!dataTable) return;\n",
              "\n",
              "          const docLinkHtml = 'Like what you see? Visit the ' +\n",
              "            '<a target=\"_blank\" href=https://colab.research.google.com/notebooks/data_table.ipynb>data table notebook</a>'\n",
              "            + ' to learn more about interactive tables.';\n",
              "          element.innerHTML = '';\n",
              "          dataTable['output_type'] = 'display_data';\n",
              "          await google.colab.output.renderOutput(dataTable, element);\n",
              "          const docLink = document.createElement('div');\n",
              "          docLink.innerHTML = docLinkHtml;\n",
              "          element.appendChild(docLink);\n",
              "        }\n",
              "      </script>\n",
              "    </div>\n",
              "  </div>\n",
              "  "
            ]
          },
          "metadata": {},
          "execution_count": 58
        }
      ]
    },
    {
      "cell_type": "markdown",
      "source": [
        "### ANOVA F-test (continuous feature - categorical target)"
      ],
      "metadata": {
        "id": "lDj5JRqeycJj"
      }
    },
    {
      "cell_type": "code",
      "source": [
        "anova_test = f_classif(train[num_features], train[TARGET])\n",
        "\n",
        "pd.DataFrame(\n",
        "    data={\n",
        "        'f-statistic': anova_test[0], \n",
        "        'p-value': anova_test[1],\n",
        "        'accepted?': anova_test[1] < 0.05\n",
        "    },\n",
        "    index=num_features\n",
        ")"
      ],
      "metadata": {
        "colab": {
          "base_uri": "https://localhost:8080/",
          "height": 206
        },
        "id": "k1IOVZr5yCl0",
        "outputId": "755ccc9e-2560-4aa0-d019-a475b5dd6994"
      },
      "execution_count": 59,
      "outputs": [
        {
          "output_type": "execute_result",
          "data": {
            "text/plain": [
              "                  f-statistic     p-value  accepted?\n",
              "age                    6.1248  1.3353e-02       True\n",
              "loan_amount           95.0098  2.6253e-22       True\n",
              "asset_cost            16.1739  5.8392e-05       True\n",
              "no_of_loans           14.6701  1.2918e-04       True\n",
              "no_of_curr_loans      23.0567  1.6057e-06       True"
            ],
            "text/html": [
              "\n",
              "  <div id=\"df-1815c72d-b1a7-403d-adde-12f4c3c5d25e\">\n",
              "    <div class=\"colab-df-container\">\n",
              "      <div>\n",
              "<style scoped>\n",
              "    .dataframe tbody tr th:only-of-type {\n",
              "        vertical-align: middle;\n",
              "    }\n",
              "\n",
              "    .dataframe tbody tr th {\n",
              "        vertical-align: top;\n",
              "    }\n",
              "\n",
              "    .dataframe thead th {\n",
              "        text-align: right;\n",
              "    }\n",
              "</style>\n",
              "<table border=\"1\" class=\"dataframe\">\n",
              "  <thead>\n",
              "    <tr style=\"text-align: right;\">\n",
              "      <th></th>\n",
              "      <th>f-statistic</th>\n",
              "      <th>p-value</th>\n",
              "      <th>accepted?</th>\n",
              "    </tr>\n",
              "  </thead>\n",
              "  <tbody>\n",
              "    <tr>\n",
              "      <th>age</th>\n",
              "      <td>6.1248</td>\n",
              "      <td>1.3353e-02</td>\n",
              "      <td>True</td>\n",
              "    </tr>\n",
              "    <tr>\n",
              "      <th>loan_amount</th>\n",
              "      <td>95.0098</td>\n",
              "      <td>2.6253e-22</td>\n",
              "      <td>True</td>\n",
              "    </tr>\n",
              "    <tr>\n",
              "      <th>asset_cost</th>\n",
              "      <td>16.1739</td>\n",
              "      <td>5.8392e-05</td>\n",
              "      <td>True</td>\n",
              "    </tr>\n",
              "    <tr>\n",
              "      <th>no_of_loans</th>\n",
              "      <td>14.6701</td>\n",
              "      <td>1.2918e-04</td>\n",
              "      <td>True</td>\n",
              "    </tr>\n",
              "    <tr>\n",
              "      <th>no_of_curr_loans</th>\n",
              "      <td>23.0567</td>\n",
              "      <td>1.6057e-06</td>\n",
              "      <td>True</td>\n",
              "    </tr>\n",
              "  </tbody>\n",
              "</table>\n",
              "</div>\n",
              "      <button class=\"colab-df-convert\" onclick=\"convertToInteractive('df-1815c72d-b1a7-403d-adde-12f4c3c5d25e')\"\n",
              "              title=\"Convert this dataframe to an interactive table.\"\n",
              "              style=\"display:none;\">\n",
              "        \n",
              "  <svg xmlns=\"http://www.w3.org/2000/svg\" height=\"24px\"viewBox=\"0 0 24 24\"\n",
              "       width=\"24px\">\n",
              "    <path d=\"M0 0h24v24H0V0z\" fill=\"none\"/>\n",
              "    <path d=\"M18.56 5.44l.94 2.06.94-2.06 2.06-.94-2.06-.94-.94-2.06-.94 2.06-2.06.94zm-11 1L8.5 8.5l.94-2.06 2.06-.94-2.06-.94L8.5 2.5l-.94 2.06-2.06.94zm10 10l.94 2.06.94-2.06 2.06-.94-2.06-.94-.94-2.06-.94 2.06-2.06.94z\"/><path d=\"M17.41 7.96l-1.37-1.37c-.4-.4-.92-.59-1.43-.59-.52 0-1.04.2-1.43.59L10.3 9.45l-7.72 7.72c-.78.78-.78 2.05 0 2.83L4 21.41c.39.39.9.59 1.41.59.51 0 1.02-.2 1.41-.59l7.78-7.78 2.81-2.81c.8-.78.8-2.07 0-2.86zM5.41 20L4 18.59l7.72-7.72 1.47 1.35L5.41 20z\"/>\n",
              "  </svg>\n",
              "      </button>\n",
              "      \n",
              "  <style>\n",
              "    .colab-df-container {\n",
              "      display:flex;\n",
              "      flex-wrap:wrap;\n",
              "      gap: 12px;\n",
              "    }\n",
              "\n",
              "    .colab-df-convert {\n",
              "      background-color: #E8F0FE;\n",
              "      border: none;\n",
              "      border-radius: 50%;\n",
              "      cursor: pointer;\n",
              "      display: none;\n",
              "      fill: #1967D2;\n",
              "      height: 32px;\n",
              "      padding: 0 0 0 0;\n",
              "      width: 32px;\n",
              "    }\n",
              "\n",
              "    .colab-df-convert:hover {\n",
              "      background-color: #E2EBFA;\n",
              "      box-shadow: 0px 1px 2px rgba(60, 64, 67, 0.3), 0px 1px 3px 1px rgba(60, 64, 67, 0.15);\n",
              "      fill: #174EA6;\n",
              "    }\n",
              "\n",
              "    [theme=dark] .colab-df-convert {\n",
              "      background-color: #3B4455;\n",
              "      fill: #D2E3FC;\n",
              "    }\n",
              "\n",
              "    [theme=dark] .colab-df-convert:hover {\n",
              "      background-color: #434B5C;\n",
              "      box-shadow: 0px 1px 3px 1px rgba(0, 0, 0, 0.15);\n",
              "      filter: drop-shadow(0px 1px 2px rgba(0, 0, 0, 0.3));\n",
              "      fill: #FFFFFF;\n",
              "    }\n",
              "  </style>\n",
              "\n",
              "      <script>\n",
              "        const buttonEl =\n",
              "          document.querySelector('#df-1815c72d-b1a7-403d-adde-12f4c3c5d25e button.colab-df-convert');\n",
              "        buttonEl.style.display =\n",
              "          google.colab.kernel.accessAllowed ? 'block' : 'none';\n",
              "\n",
              "        async function convertToInteractive(key) {\n",
              "          const element = document.querySelector('#df-1815c72d-b1a7-403d-adde-12f4c3c5d25e');\n",
              "          const dataTable =\n",
              "            await google.colab.kernel.invokeFunction('convertToInteractive',\n",
              "                                                     [key], {});\n",
              "          if (!dataTable) return;\n",
              "\n",
              "          const docLinkHtml = 'Like what you see? Visit the ' +\n",
              "            '<a target=\"_blank\" href=https://colab.research.google.com/notebooks/data_table.ipynb>data table notebook</a>'\n",
              "            + ' to learn more about interactive tables.';\n",
              "          element.innerHTML = '';\n",
              "          dataTable['output_type'] = 'display_data';\n",
              "          await google.colab.output.renderOutput(dataTable, element);\n",
              "          const docLink = document.createElement('div');\n",
              "          docLink.innerHTML = docLinkHtml;\n",
              "          element.appendChild(docLink);\n",
              "        }\n",
              "      </script>\n",
              "    </div>\n",
              "  </div>\n",
              "  "
            ]
          },
          "metadata": {},
          "execution_count": 59
        }
      ]
    },
    {
      "cell_type": "markdown",
      "source": [
        "### Mutual Information score"
      ],
      "metadata": {
        "id": "QSMf-6boy4B4"
      }
    },
    {
      "cell_type": "code",
      "source": [
        "cat_mask = [(f in cat_features) for f in features] #boolean mask for discrete features\n",
        "\n",
        "mi_scores = mutual_info_classif(train[features], train[TARGET], \n",
        "                                discrete_features=cat_mask, \n",
        "                                random_state=SEED)\n",
        "\n",
        "mi_score_percent = mi_scores / sum(mi_scores) * 100\n",
        "\n",
        "pd.DataFrame(\n",
        "    data={'mi_score': mi_scores,\n",
        "          'mi_score_percent': mi_score_percent}, \n",
        "    index=features\n",
        ")"
      ],
      "metadata": {
        "colab": {
          "base_uri": "https://localhost:8080/",
          "height": 520
        },
        "id": "TYuFj52Cy8UC",
        "outputId": "dc5eae1c-3b09-47f2-feb1-64c6217f8621"
      },
      "execution_count": 60,
      "outputs": [
        {
          "output_type": "execute_result",
          "data": {
            "text/plain": [
              "                        mi_score  mi_score_percent\n",
              "age                       0.0128           23.0452\n",
              "proof_submitted           0.0018            3.2292\n",
              "loan_amount               0.0131           23.6948\n",
              "asset_cost                0.0075           13.5115\n",
              "no_of_loans               0.0034            6.1236\n",
              "no_of_curr_loans          0.0021            3.7804\n",
              "last_delinq_none          0.0001            0.1944\n",
              "education_fill_1          0.0008            1.5015\n",
              "education_fill_2          0.0008            1.4419\n",
              "age_range                 0.0007            1.2084\n",
              "loan_amount_range         0.0061           11.1143\n",
              "asset_cost_range          0.0011            1.9859\n",
              "no_of_loans_range         0.0020            3.6068\n",
              "no_of_curr_loans_range    0.0017            3.1272\n",
              "proof_is_aadhar           0.0013            2.4350"
            ],
            "text/html": [
              "\n",
              "  <div id=\"df-96d9eb72-acd1-4a0b-ac94-78d3c99f04e1\">\n",
              "    <div class=\"colab-df-container\">\n",
              "      <div>\n",
              "<style scoped>\n",
              "    .dataframe tbody tr th:only-of-type {\n",
              "        vertical-align: middle;\n",
              "    }\n",
              "\n",
              "    .dataframe tbody tr th {\n",
              "        vertical-align: top;\n",
              "    }\n",
              "\n",
              "    .dataframe thead th {\n",
              "        text-align: right;\n",
              "    }\n",
              "</style>\n",
              "<table border=\"1\" class=\"dataframe\">\n",
              "  <thead>\n",
              "    <tr style=\"text-align: right;\">\n",
              "      <th></th>\n",
              "      <th>mi_score</th>\n",
              "      <th>mi_score_percent</th>\n",
              "    </tr>\n",
              "  </thead>\n",
              "  <tbody>\n",
              "    <tr>\n",
              "      <th>age</th>\n",
              "      <td>0.0128</td>\n",
              "      <td>23.0452</td>\n",
              "    </tr>\n",
              "    <tr>\n",
              "      <th>proof_submitted</th>\n",
              "      <td>0.0018</td>\n",
              "      <td>3.2292</td>\n",
              "    </tr>\n",
              "    <tr>\n",
              "      <th>loan_amount</th>\n",
              "      <td>0.0131</td>\n",
              "      <td>23.6948</td>\n",
              "    </tr>\n",
              "    <tr>\n",
              "      <th>asset_cost</th>\n",
              "      <td>0.0075</td>\n",
              "      <td>13.5115</td>\n",
              "    </tr>\n",
              "    <tr>\n",
              "      <th>no_of_loans</th>\n",
              "      <td>0.0034</td>\n",
              "      <td>6.1236</td>\n",
              "    </tr>\n",
              "    <tr>\n",
              "      <th>no_of_curr_loans</th>\n",
              "      <td>0.0021</td>\n",
              "      <td>3.7804</td>\n",
              "    </tr>\n",
              "    <tr>\n",
              "      <th>last_delinq_none</th>\n",
              "      <td>0.0001</td>\n",
              "      <td>0.1944</td>\n",
              "    </tr>\n",
              "    <tr>\n",
              "      <th>education_fill_1</th>\n",
              "      <td>0.0008</td>\n",
              "      <td>1.5015</td>\n",
              "    </tr>\n",
              "    <tr>\n",
              "      <th>education_fill_2</th>\n",
              "      <td>0.0008</td>\n",
              "      <td>1.4419</td>\n",
              "    </tr>\n",
              "    <tr>\n",
              "      <th>age_range</th>\n",
              "      <td>0.0007</td>\n",
              "      <td>1.2084</td>\n",
              "    </tr>\n",
              "    <tr>\n",
              "      <th>loan_amount_range</th>\n",
              "      <td>0.0061</td>\n",
              "      <td>11.1143</td>\n",
              "    </tr>\n",
              "    <tr>\n",
              "      <th>asset_cost_range</th>\n",
              "      <td>0.0011</td>\n",
              "      <td>1.9859</td>\n",
              "    </tr>\n",
              "    <tr>\n",
              "      <th>no_of_loans_range</th>\n",
              "      <td>0.0020</td>\n",
              "      <td>3.6068</td>\n",
              "    </tr>\n",
              "    <tr>\n",
              "      <th>no_of_curr_loans_range</th>\n",
              "      <td>0.0017</td>\n",
              "      <td>3.1272</td>\n",
              "    </tr>\n",
              "    <tr>\n",
              "      <th>proof_is_aadhar</th>\n",
              "      <td>0.0013</td>\n",
              "      <td>2.4350</td>\n",
              "    </tr>\n",
              "  </tbody>\n",
              "</table>\n",
              "</div>\n",
              "      <button class=\"colab-df-convert\" onclick=\"convertToInteractive('df-96d9eb72-acd1-4a0b-ac94-78d3c99f04e1')\"\n",
              "              title=\"Convert this dataframe to an interactive table.\"\n",
              "              style=\"display:none;\">\n",
              "        \n",
              "  <svg xmlns=\"http://www.w3.org/2000/svg\" height=\"24px\"viewBox=\"0 0 24 24\"\n",
              "       width=\"24px\">\n",
              "    <path d=\"M0 0h24v24H0V0z\" fill=\"none\"/>\n",
              "    <path d=\"M18.56 5.44l.94 2.06.94-2.06 2.06-.94-2.06-.94-.94-2.06-.94 2.06-2.06.94zm-11 1L8.5 8.5l.94-2.06 2.06-.94-2.06-.94L8.5 2.5l-.94 2.06-2.06.94zm10 10l.94 2.06.94-2.06 2.06-.94-2.06-.94-.94-2.06-.94 2.06-2.06.94z\"/><path d=\"M17.41 7.96l-1.37-1.37c-.4-.4-.92-.59-1.43-.59-.52 0-1.04.2-1.43.59L10.3 9.45l-7.72 7.72c-.78.78-.78 2.05 0 2.83L4 21.41c.39.39.9.59 1.41.59.51 0 1.02-.2 1.41-.59l7.78-7.78 2.81-2.81c.8-.78.8-2.07 0-2.86zM5.41 20L4 18.59l7.72-7.72 1.47 1.35L5.41 20z\"/>\n",
              "  </svg>\n",
              "      </button>\n",
              "      \n",
              "  <style>\n",
              "    .colab-df-container {\n",
              "      display:flex;\n",
              "      flex-wrap:wrap;\n",
              "      gap: 12px;\n",
              "    }\n",
              "\n",
              "    .colab-df-convert {\n",
              "      background-color: #E8F0FE;\n",
              "      border: none;\n",
              "      border-radius: 50%;\n",
              "      cursor: pointer;\n",
              "      display: none;\n",
              "      fill: #1967D2;\n",
              "      height: 32px;\n",
              "      padding: 0 0 0 0;\n",
              "      width: 32px;\n",
              "    }\n",
              "\n",
              "    .colab-df-convert:hover {\n",
              "      background-color: #E2EBFA;\n",
              "      box-shadow: 0px 1px 2px rgba(60, 64, 67, 0.3), 0px 1px 3px 1px rgba(60, 64, 67, 0.15);\n",
              "      fill: #174EA6;\n",
              "    }\n",
              "\n",
              "    [theme=dark] .colab-df-convert {\n",
              "      background-color: #3B4455;\n",
              "      fill: #D2E3FC;\n",
              "    }\n",
              "\n",
              "    [theme=dark] .colab-df-convert:hover {\n",
              "      background-color: #434B5C;\n",
              "      box-shadow: 0px 1px 3px 1px rgba(0, 0, 0, 0.15);\n",
              "      filter: drop-shadow(0px 1px 2px rgba(0, 0, 0, 0.3));\n",
              "      fill: #FFFFFF;\n",
              "    }\n",
              "  </style>\n",
              "\n",
              "      <script>\n",
              "        const buttonEl =\n",
              "          document.querySelector('#df-96d9eb72-acd1-4a0b-ac94-78d3c99f04e1 button.colab-df-convert');\n",
              "        buttonEl.style.display =\n",
              "          google.colab.kernel.accessAllowed ? 'block' : 'none';\n",
              "\n",
              "        async function convertToInteractive(key) {\n",
              "          const element = document.querySelector('#df-96d9eb72-acd1-4a0b-ac94-78d3c99f04e1');\n",
              "          const dataTable =\n",
              "            await google.colab.kernel.invokeFunction('convertToInteractive',\n",
              "                                                     [key], {});\n",
              "          if (!dataTable) return;\n",
              "\n",
              "          const docLinkHtml = 'Like what you see? Visit the ' +\n",
              "            '<a target=\"_blank\" href=https://colab.research.google.com/notebooks/data_table.ipynb>data table notebook</a>'\n",
              "            + ' to learn more about interactive tables.';\n",
              "          element.innerHTML = '';\n",
              "          dataTable['output_type'] = 'display_data';\n",
              "          await google.colab.output.renderOutput(dataTable, element);\n",
              "          const docLink = document.createElement('div');\n",
              "          docLink.innerHTML = docLinkHtml;\n",
              "          element.appendChild(docLink);\n",
              "        }\n",
              "      </script>\n",
              "    </div>\n",
              "  </div>\n",
              "  "
            ]
          },
          "metadata": {},
          "execution_count": 60
        }
      ]
    },
    {
      "cell_type": "markdown",
      "source": [
        "### Variance Inflation Factor (to detect redundant continuous features)"
      ],
      "metadata": {
        "id": "Nmez0vD60hRu"
      }
    },
    {
      "cell_type": "code",
      "source": [
        "%%capture\n",
        "!pip install --upgrade statsmodels==0.13.2\n",
        "from statsmodels.stats.outliers_influence import variance_inflation_factor"
      ],
      "metadata": {
        "id": "avE_AXt18KcR"
      },
      "execution_count": 61,
      "outputs": []
    },
    {
      "cell_type": "code",
      "source": [
        "def remove_vif_features(X: pd.DataFrame, threshold: float = 5.0) -> list:\n",
        "    \"\"\"Remove feature with highest Variance Inflation Factor\n",
        "    at every iteration until all remaining features are below\n",
        "    a certain threshold.\n",
        "    \"\"\"\n",
        "    i = 0\n",
        "    while True:\n",
        "        vif = [variance_inflation_factor(X, i) for i in range(X.shape[1])]\n",
        "        max_vif = np.max(vif)\n",
        "\n",
        "        if max_vif <= threshold:\n",
        "            break\n",
        "\n",
        "        i += 1\n",
        "        col_to_remove = X.columns[np.argmax(vif)]\n",
        "        print(f\"Iteration {i}: {col_to_remove:20} ({max_vif:.4f})\")\n",
        "        X.drop(col_to_remove, axis=1, inplace=True)\n",
        "\n",
        "    if i == 0:\n",
        "        print(f\"No columns removed\")\n",
        "    else:\n",
        "        print(pd.DataFrame({\"Feature\": X.columns, \"VIF\": vif}))\n",
        "\n",
        "    return list(X.columns)"
      ],
      "metadata": {
        "id": "liWIoP7u0osx"
      },
      "execution_count": 66,
      "outputs": []
    },
    {
      "cell_type": "markdown",
      "source": [
        "**checking redundant features at different thresholds** (most redundant feature removed at each iteration)  \n",
        "* rule-of-thumb threshold = 5"
      ],
      "metadata": {
        "id": "5Uitsgn9_p0X"
      }
    },
    {
      "cell_type": "code",
      "source": [
        "_ = remove_vif_features(train[num_features].copy(), 10) #lenient threshold"
      ],
      "metadata": {
        "colab": {
          "base_uri": "https://localhost:8080/"
        },
        "id": "qaAQs25Q5Hae",
        "outputId": "d3b4c955-5028-4144-b14c-ae3ca59af051"
      },
      "execution_count": 67,
      "outputs": [
        {
          "output_type": "stream",
          "name": "stdout",
          "text": [
            "Iteration 1: loan_amount          (42.7282)\n",
            "Iteration 2: age                  (10.4717)\n",
            "            Feature     VIF\n",
            "0        asset_cost  1.3473\n",
            "1       no_of_loans  3.1794\n",
            "2  no_of_curr_loans  3.4497\n"
          ]
        }
      ]
    },
    {
      "cell_type": "code",
      "source": [
        "_ = remove_vif_features(train[num_features].copy(), 5)"
      ],
      "metadata": {
        "colab": {
          "base_uri": "https://localhost:8080/"
        },
        "id": "qGXAz44u5tH9",
        "outputId": "e5a4e9ec-5ea6-44fe-8e94-7215ff969a90"
      },
      "execution_count": 68,
      "outputs": [
        {
          "output_type": "stream",
          "name": "stdout",
          "text": [
            "Iteration 1: loan_amount          (42.7282)\n",
            "Iteration 2: age                  (10.4717)\n",
            "            Feature     VIF\n",
            "0        asset_cost  1.3473\n",
            "1       no_of_loans  3.1794\n",
            "2  no_of_curr_loans  3.4497\n"
          ]
        }
      ]
    },
    {
      "cell_type": "code",
      "source": [
        "_ = remove_vif_features(train[num_features].copy(), 2.5) #strictest threshold"
      ],
      "metadata": {
        "colab": {
          "base_uri": "https://localhost:8080/"
        },
        "id": "ifh7Ra_l_2Zb",
        "outputId": "2d6dc16c-d758-454e-8867-1b231adaae3f"
      },
      "execution_count": 69,
      "outputs": [
        {
          "output_type": "stream",
          "name": "stdout",
          "text": [
            "Iteration 1: loan_amount          (42.7282)\n",
            "Iteration 2: age                  (10.4717)\n",
            "Iteration 3: no_of_curr_loans     (3.4497)\n",
            "       Feature     VIF\n",
            "0   asset_cost  1.2395\n",
            "1  no_of_loans  1.2395\n"
          ]
        }
      ]
    },
    {
      "cell_type": "markdown",
      "source": [
        "# Final feature sets and processed datasets"
      ],
      "metadata": {
        "id": "FYhkjRLbCxHR"
      }
    },
    {
      "cell_type": "code",
      "source": [
        "train.head()"
      ],
      "metadata": {
        "colab": {
          "base_uri": "https://localhost:8080/",
          "height": 270
        },
        "id": "v5c5s2RODJCu",
        "outputId": "efcc4dbe-6566-4e2e-991c-7b36df885bde"
      },
      "execution_count": 72,
      "outputs": [
        {
          "output_type": "execute_result",
          "data": {
            "text/plain": [
              "   loan_id  age  education  proof_submitted  loan_amount  asset_cost  \\\n",
              "0        1   27        1.0                0       504264      820920   \n",
              "1        2   48        1.0                0       728556      831444   \n",
              "2        3   30        2.0                1       642936      826092   \n",
              "3        4   28        1.0                0       746556      930924   \n",
              "4        5   29        1.0                0      1139880     1902000   \n",
              "\n",
              "   no_of_loans  no_of_curr_loans  last_delinq_none  loan_default  \\\n",
              "0            2                 2                 0             0   \n",
              "1            6                 2                 0             0   \n",
              "2            0                 0                 0             1   \n",
              "3            0                 0                 0             0   \n",
              "4            0                 0                 0             0   \n",
              "\n",
              "   education_fill_1  education_fill_2  age_range  loan_amount_range  \\\n",
              "0                 1                 1          0                  1   \n",
              "1                 1                 1          3                  1   \n",
              "2                 2                 2          1                  1   \n",
              "3                 1                 1          1                  1   \n",
              "4                 1                 1          1                  2   \n",
              "\n",
              "   asset_cost_range  no_of_loans_range  no_of_curr_loans_range  \\\n",
              "0                 1                  1                       1   \n",
              "1                 1                  2                       1   \n",
              "2                 1                  0                       0   \n",
              "3                 1                  0                       0   \n",
              "4                 3                  0                       0   \n",
              "\n",
              "   proof_is_aadhar  \n",
              "0                1  \n",
              "1                1  \n",
              "2                0  \n",
              "3                1  \n",
              "4                1  "
            ],
            "text/html": [
              "\n",
              "  <div id=\"df-8b6e6f3e-a87c-4b57-b4f8-4e25f348c4ab\">\n",
              "    <div class=\"colab-df-container\">\n",
              "      <div>\n",
              "<style scoped>\n",
              "    .dataframe tbody tr th:only-of-type {\n",
              "        vertical-align: middle;\n",
              "    }\n",
              "\n",
              "    .dataframe tbody tr th {\n",
              "        vertical-align: top;\n",
              "    }\n",
              "\n",
              "    .dataframe thead th {\n",
              "        text-align: right;\n",
              "    }\n",
              "</style>\n",
              "<table border=\"1\" class=\"dataframe\">\n",
              "  <thead>\n",
              "    <tr style=\"text-align: right;\">\n",
              "      <th></th>\n",
              "      <th>loan_id</th>\n",
              "      <th>age</th>\n",
              "      <th>education</th>\n",
              "      <th>proof_submitted</th>\n",
              "      <th>loan_amount</th>\n",
              "      <th>asset_cost</th>\n",
              "      <th>no_of_loans</th>\n",
              "      <th>no_of_curr_loans</th>\n",
              "      <th>last_delinq_none</th>\n",
              "      <th>loan_default</th>\n",
              "      <th>education_fill_1</th>\n",
              "      <th>education_fill_2</th>\n",
              "      <th>age_range</th>\n",
              "      <th>loan_amount_range</th>\n",
              "      <th>asset_cost_range</th>\n",
              "      <th>no_of_loans_range</th>\n",
              "      <th>no_of_curr_loans_range</th>\n",
              "      <th>proof_is_aadhar</th>\n",
              "    </tr>\n",
              "  </thead>\n",
              "  <tbody>\n",
              "    <tr>\n",
              "      <th>0</th>\n",
              "      <td>1</td>\n",
              "      <td>27</td>\n",
              "      <td>1.0</td>\n",
              "      <td>0</td>\n",
              "      <td>504264</td>\n",
              "      <td>820920</td>\n",
              "      <td>2</td>\n",
              "      <td>2</td>\n",
              "      <td>0</td>\n",
              "      <td>0</td>\n",
              "      <td>1</td>\n",
              "      <td>1</td>\n",
              "      <td>0</td>\n",
              "      <td>1</td>\n",
              "      <td>1</td>\n",
              "      <td>1</td>\n",
              "      <td>1</td>\n",
              "      <td>1</td>\n",
              "    </tr>\n",
              "    <tr>\n",
              "      <th>1</th>\n",
              "      <td>2</td>\n",
              "      <td>48</td>\n",
              "      <td>1.0</td>\n",
              "      <td>0</td>\n",
              "      <td>728556</td>\n",
              "      <td>831444</td>\n",
              "      <td>6</td>\n",
              "      <td>2</td>\n",
              "      <td>0</td>\n",
              "      <td>0</td>\n",
              "      <td>1</td>\n",
              "      <td>1</td>\n",
              "      <td>3</td>\n",
              "      <td>1</td>\n",
              "      <td>1</td>\n",
              "      <td>2</td>\n",
              "      <td>1</td>\n",
              "      <td>1</td>\n",
              "    </tr>\n",
              "    <tr>\n",
              "      <th>2</th>\n",
              "      <td>3</td>\n",
              "      <td>30</td>\n",
              "      <td>2.0</td>\n",
              "      <td>1</td>\n",
              "      <td>642936</td>\n",
              "      <td>826092</td>\n",
              "      <td>0</td>\n",
              "      <td>0</td>\n",
              "      <td>0</td>\n",
              "      <td>1</td>\n",
              "      <td>2</td>\n",
              "      <td>2</td>\n",
              "      <td>1</td>\n",
              "      <td>1</td>\n",
              "      <td>1</td>\n",
              "      <td>0</td>\n",
              "      <td>0</td>\n",
              "      <td>0</td>\n",
              "    </tr>\n",
              "    <tr>\n",
              "      <th>3</th>\n",
              "      <td>4</td>\n",
              "      <td>28</td>\n",
              "      <td>1.0</td>\n",
              "      <td>0</td>\n",
              "      <td>746556</td>\n",
              "      <td>930924</td>\n",
              "      <td>0</td>\n",
              "      <td>0</td>\n",
              "      <td>0</td>\n",
              "      <td>0</td>\n",
              "      <td>1</td>\n",
              "      <td>1</td>\n",
              "      <td>1</td>\n",
              "      <td>1</td>\n",
              "      <td>1</td>\n",
              "      <td>0</td>\n",
              "      <td>0</td>\n",
              "      <td>1</td>\n",
              "    </tr>\n",
              "    <tr>\n",
              "      <th>4</th>\n",
              "      <td>5</td>\n",
              "      <td>29</td>\n",
              "      <td>1.0</td>\n",
              "      <td>0</td>\n",
              "      <td>1139880</td>\n",
              "      <td>1902000</td>\n",
              "      <td>0</td>\n",
              "      <td>0</td>\n",
              "      <td>0</td>\n",
              "      <td>0</td>\n",
              "      <td>1</td>\n",
              "      <td>1</td>\n",
              "      <td>1</td>\n",
              "      <td>2</td>\n",
              "      <td>3</td>\n",
              "      <td>0</td>\n",
              "      <td>0</td>\n",
              "      <td>1</td>\n",
              "    </tr>\n",
              "  </tbody>\n",
              "</table>\n",
              "</div>\n",
              "      <button class=\"colab-df-convert\" onclick=\"convertToInteractive('df-8b6e6f3e-a87c-4b57-b4f8-4e25f348c4ab')\"\n",
              "              title=\"Convert this dataframe to an interactive table.\"\n",
              "              style=\"display:none;\">\n",
              "        \n",
              "  <svg xmlns=\"http://www.w3.org/2000/svg\" height=\"24px\"viewBox=\"0 0 24 24\"\n",
              "       width=\"24px\">\n",
              "    <path d=\"M0 0h24v24H0V0z\" fill=\"none\"/>\n",
              "    <path d=\"M18.56 5.44l.94 2.06.94-2.06 2.06-.94-2.06-.94-.94-2.06-.94 2.06-2.06.94zm-11 1L8.5 8.5l.94-2.06 2.06-.94-2.06-.94L8.5 2.5l-.94 2.06-2.06.94zm10 10l.94 2.06.94-2.06 2.06-.94-2.06-.94-.94-2.06-.94 2.06-2.06.94z\"/><path d=\"M17.41 7.96l-1.37-1.37c-.4-.4-.92-.59-1.43-.59-.52 0-1.04.2-1.43.59L10.3 9.45l-7.72 7.72c-.78.78-.78 2.05 0 2.83L4 21.41c.39.39.9.59 1.41.59.51 0 1.02-.2 1.41-.59l7.78-7.78 2.81-2.81c.8-.78.8-2.07 0-2.86zM5.41 20L4 18.59l7.72-7.72 1.47 1.35L5.41 20z\"/>\n",
              "  </svg>\n",
              "      </button>\n",
              "      \n",
              "  <style>\n",
              "    .colab-df-container {\n",
              "      display:flex;\n",
              "      flex-wrap:wrap;\n",
              "      gap: 12px;\n",
              "    }\n",
              "\n",
              "    .colab-df-convert {\n",
              "      background-color: #E8F0FE;\n",
              "      border: none;\n",
              "      border-radius: 50%;\n",
              "      cursor: pointer;\n",
              "      display: none;\n",
              "      fill: #1967D2;\n",
              "      height: 32px;\n",
              "      padding: 0 0 0 0;\n",
              "      width: 32px;\n",
              "    }\n",
              "\n",
              "    .colab-df-convert:hover {\n",
              "      background-color: #E2EBFA;\n",
              "      box-shadow: 0px 1px 2px rgba(60, 64, 67, 0.3), 0px 1px 3px 1px rgba(60, 64, 67, 0.15);\n",
              "      fill: #174EA6;\n",
              "    }\n",
              "\n",
              "    [theme=dark] .colab-df-convert {\n",
              "      background-color: #3B4455;\n",
              "      fill: #D2E3FC;\n",
              "    }\n",
              "\n",
              "    [theme=dark] .colab-df-convert:hover {\n",
              "      background-color: #434B5C;\n",
              "      box-shadow: 0px 1px 3px 1px rgba(0, 0, 0, 0.15);\n",
              "      filter: drop-shadow(0px 1px 2px rgba(0, 0, 0, 0.3));\n",
              "      fill: #FFFFFF;\n",
              "    }\n",
              "  </style>\n",
              "\n",
              "      <script>\n",
              "        const buttonEl =\n",
              "          document.querySelector('#df-8b6e6f3e-a87c-4b57-b4f8-4e25f348c4ab button.colab-df-convert');\n",
              "        buttonEl.style.display =\n",
              "          google.colab.kernel.accessAllowed ? 'block' : 'none';\n",
              "\n",
              "        async function convertToInteractive(key) {\n",
              "          const element = document.querySelector('#df-8b6e6f3e-a87c-4b57-b4f8-4e25f348c4ab');\n",
              "          const dataTable =\n",
              "            await google.colab.kernel.invokeFunction('convertToInteractive',\n",
              "                                                     [key], {});\n",
              "          if (!dataTable) return;\n",
              "\n",
              "          const docLinkHtml = 'Like what you see? Visit the ' +\n",
              "            '<a target=\"_blank\" href=https://colab.research.google.com/notebooks/data_table.ipynb>data table notebook</a>'\n",
              "            + ' to learn more about interactive tables.';\n",
              "          element.innerHTML = '';\n",
              "          dataTable['output_type'] = 'display_data';\n",
              "          await google.colab.output.renderOutput(dataTable, element);\n",
              "          const docLink = document.createElement('div');\n",
              "          docLink.innerHTML = docLinkHtml;\n",
              "          element.appendChild(docLink);\n",
              "        }\n",
              "      </script>\n",
              "    </div>\n",
              "  </div>\n",
              "  "
            ]
          },
          "metadata": {},
          "execution_count": 72
        }
      ]
    },
    {
      "cell_type": "code",
      "source": [
        "features"
      ],
      "metadata": {
        "colab": {
          "base_uri": "https://localhost:8080/"
        },
        "id": "5AZB9ZYnC4Wl",
        "outputId": "c38e8b81-0111-46c1-d1bf-a4584daf0a12"
      },
      "execution_count": 71,
      "outputs": [
        {
          "output_type": "execute_result",
          "data": {
            "text/plain": [
              "['age', 'proof_submitted', 'loan_amount', 'asset_cost', 'no_of_loans', 'no_of_curr_loans', 'last_delinq_none', 'education_fill_1', 'education_fill_2', 'age_range', 'loan_amount_range', 'asset_cost_range', 'no_of_loans_range', 'no_of_curr_loans_range', 'proof_is_aadhar']"
            ]
          },
          "metadata": {},
          "execution_count": 71
        }
      ]
    },
    {
      "cell_type": "code",
      "source": [
        "original_features = ['age', 'education_fill_1', 'proof_submitted', \n",
        "                     'loan_amount', 'asset_cost', 'no_of_loans', \n",
        "                     'no_of_curr_loans', 'last_delinq_none']\n",
        "\n",
        "selected_features = ['age', 'proof_submitted', 'loan_amount', \n",
        "                     'asset_cost', 'no_of_loans', 'no_of_curr_loans']"
      ],
      "metadata": {
        "id": "EUDlthX8C-KM"
      },
      "execution_count": 80,
      "outputs": []
    },
    {
      "cell_type": "code",
      "source": [
        "train[cat_features] = train[cat_features].astype('category')\n",
        "test[cat_features] = test[cat_features].astype('category')"
      ],
      "metadata": {
        "id": "yQTo8DDqLO9Q"
      },
      "execution_count": 74,
      "outputs": []
    },
    {
      "cell_type": "code",
      "source": [
        "train[features].to_csv('train_all_features.csv', index=False)\n",
        "test[features].to_csv('test_all_features.csv', index=False)"
      ],
      "metadata": {
        "id": "KtF9LbtrLZYy"
      },
      "execution_count": 78,
      "outputs": []
    },
    {
      "cell_type": "code",
      "source": [
        "train[original_features].to_csv('train_original_filled.csv', index=False)\n",
        "test[original_features].to_csv('test_original_filled.csv', index=False)"
      ],
      "metadata": {
        "id": "LdBABJF7MJfg"
      },
      "execution_count": 81,
      "outputs": []
    },
    {
      "cell_type": "code",
      "source": [
        "train[selected_features].to_csv('train_selected_features.csv', index=False)\n",
        "test[selected_features].to_csv('test_selected_features.csv', index=False)"
      ],
      "metadata": {
        "id": "PVijeC8_MSqv"
      },
      "execution_count": 82,
      "outputs": []
    }
  ]
}