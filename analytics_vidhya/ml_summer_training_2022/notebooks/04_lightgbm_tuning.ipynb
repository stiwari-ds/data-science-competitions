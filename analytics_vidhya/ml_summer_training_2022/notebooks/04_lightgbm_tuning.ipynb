{
  "nbformat": 4,
  "nbformat_minor": 0,
  "metadata": {
    "colab": {
      "name": "04-lightgbm-tuning",
      "provenance": [],
      "collapsed_sections": [],
      "authorship_tag": "ABX9TyNCEffmf6TVYrP7EmoUOyvq",
      "include_colab_link": true
    },
    "kernelspec": {
      "name": "python3",
      "display_name": "Python 3"
    },
    "language_info": {
      "name": "python"
    },
    "gpuClass": "standard"
  },
  "cells": [
    {
      "cell_type": "markdown",
      "metadata": {
        "id": "view-in-github",
        "colab_type": "text"
      },
      "source": [
        "<a href=\"https://colab.research.google.com/github/stiwari-ds/data-science-competitions/blob/main/analytics_vidhya/ml_summer_training_2022/notebooks/04_lightgbm_tuning.ipynb\" target=\"_parent\"><img src=\"https://colab.research.google.com/assets/colab-badge.svg\" alt=\"Open In Colab\"/></a>"
      ]
    },
    {
      "cell_type": "markdown",
      "source": [
        "# Setup"
      ],
      "metadata": {
        "id": "_zkFTczAijtg"
      }
    },
    {
      "cell_type": "code",
      "execution_count": 1,
      "metadata": {
        "id": "R55Ndy--DFKc"
      },
      "outputs": [],
      "source": [
        "%%capture\n",
        "!pip install --upgrade lightgbm\n",
        "!pip install --upgrade optuna"
      ]
    },
    {
      "cell_type": "code",
      "source": [
        "import os\n",
        "import gc\n",
        "import warnings\n",
        "import subprocess\n",
        "\n",
        "gc.enable()\n",
        "warnings.filterwarnings('ignore')\n",
        "\n",
        "import scipy.stats as st\n",
        "import numpy as np\n",
        "import pandas as pd\n",
        "pd.set_option('display.max_columns', None)\n",
        "pd.set_option('display.precision', 4)\n",
        "\n",
        "import lightgbm\n",
        "import optuna\n",
        "optuna.logging.set_verbosity(optuna.logging.ERROR)\n",
        "\n",
        "from optuna.samplers import TPESampler\n",
        "from optuna.pruners import HyperbandPruner\n",
        "from lightgbm import LGBMClassifier\n",
        "\n",
        "from sklearn.model_selection import StratifiedKFold, train_test_split\n",
        "from sklearn.metrics import classification_report, f1_score, accuracy_score"
      ],
      "metadata": {
        "id": "H2xU3-r8ijHA"
      },
      "execution_count": 42,
      "outputs": []
    },
    {
      "cell_type": "code",
      "source": [
        "#remove cell to run future versions\n",
        "assert optuna.__version__ == '2.10.1', f'Change in Optuna version. Original notebook version: 2.10.1'\n",
        "assert lightgbm.__version__ == '3.3.2', f'Change in CatBoost version. Original notebook version: 3.3.2'"
      ],
      "metadata": {
        "id": "CYGt6c0li01Z"
      },
      "execution_count": 43,
      "outputs": []
    },
    {
      "cell_type": "code",
      "source": [
        "SEED = 23\n",
        "os.environ['PYTHONHASHSEED'] = str(SEED)\n",
        "np.random.seed(SEED)"
      ],
      "metadata": {
        "id": "sPR0tH9jjKmh"
      },
      "execution_count": 44,
      "outputs": []
    },
    {
      "cell_type": "code",
      "source": [
        "#Check GPU availability\n",
        "try:\n",
        "    subprocess.check_output('nvidia-smi')\n",
        "    GPU = True\n",
        "except Exception:\n",
        "    GPU = False\n",
        "\n",
        "print(f'GPU available: {GPU}')"
      ],
      "metadata": {
        "colab": {
          "base_uri": "https://localhost:8080/"
        },
        "id": "hLeGizQrjPDt",
        "outputId": "c4c4a20e-d01f-4e90-f97f-db98963dd926"
      },
      "execution_count": 45,
      "outputs": [
        {
          "output_type": "stream",
          "name": "stdout",
          "text": [
            "GPU available: False\n"
          ]
        }
      ]
    },
    {
      "cell_type": "markdown",
      "source": [
        "**Data setup**"
      ],
      "metadata": {
        "id": "VXXDG5XIjP1M"
      }
    },
    {
      "cell_type": "code",
      "source": [
        "data_url = 'https://raw.githubusercontent.com/stiwari-ds/data-science-competitions/main/analytics_vidhya/ml_summer_training_2022/data/'\n",
        "\n",
        "train_all = pd.read_csv(data_url + 'processed/all_features/train.csv')\n",
        "test_all = pd.read_csv(data_url + 'processed/all_features/test.csv')\n",
        "\n",
        "train_original = pd.read_csv(data_url + 'processed/original_filled/train.csv')\n",
        "test_original = pd.read_csv(data_url + 'processed/original_filled/test.csv')\n",
        "\n",
        "train_selected = pd.read_csv(data_url + 'processed/selected_features/train.csv')\n",
        "test_selected = pd.read_csv(data_url + 'processed/selected_features/test.csv')"
      ],
      "metadata": {
        "id": "iYXv2tTtjWjV"
      },
      "execution_count": 46,
      "outputs": []
    },
    {
      "cell_type": "code",
      "source": [
        "target = pd.read_csv(data_url + 'raw/train.csv', \n",
        "                     usecols=['loan_default']).iloc[:, 0] #converted to series\n",
        "\n",
        "test_index = pd.read_csv(data_url + 'raw/test.csv', \n",
        "                         usecols=['loan_id']).iloc[:, 0]"
      ],
      "metadata": {
        "id": "JTpsoXIWjm2K"
      },
      "execution_count": 47,
      "outputs": []
    },
    {
      "cell_type": "markdown",
      "source": [
        "**Categorical data conversion**"
      ],
      "metadata": {
        "id": "mlhAuJNz5bgL"
      }
    },
    {
      "cell_type": "code",
      "source": [
        "categorical_features = ['proof_submitted', 'last_delinq_none', \n",
        "                        'education_fill_1', 'education_fill_2', \n",
        "                        'age_range', 'loan_amount_range', \n",
        "                        'asset_cost_range', 'no_of_loans_range', \n",
        "                        'no_of_curr_loans_range', 'proof_is_aadhar']\n",
        "\n",
        "train_all[categorical_features] = train_all[categorical_features].astype('category')\n",
        "test_all[categorical_features] = test_all[categorical_features].astype('category')"
      ],
      "metadata": {
        "id": "-xS5008a5els"
      },
      "execution_count": 48,
      "outputs": []
    },
    {
      "cell_type": "code",
      "source": [
        "cat_cols = [f for f in train_original.columns if f in categorical_features]\n",
        "train_original[cat_cols] = train_original[cat_cols].astype('category')\n",
        "test_original[cat_cols] = test_original[cat_cols].astype('category')"
      ],
      "metadata": {
        "id": "e_OlFunJ5l7g"
      },
      "execution_count": 49,
      "outputs": []
    },
    {
      "cell_type": "code",
      "source": [
        "cat_cols = [f for f in train_selected.columns if f in categorical_features]\n",
        "train_selected[cat_cols] = train_selected[cat_cols].astype('category')\n",
        "test_selected[cat_cols] = test_selected[cat_cols].astype('category')"
      ],
      "metadata": {
        "id": "y50MamqM5oYc"
      },
      "execution_count": 50,
      "outputs": []
    },
    {
      "cell_type": "markdown",
      "source": [
        "# Baselines"
      ],
      "metadata": {
        "id": "t3RhfB4e4Lp5"
      }
    },
    {
      "cell_type": "code",
      "source": [
        "def fit_baseline(X, y):\n",
        "    X_train, X_val, y_train, y_val = train_test_split(\n",
        "        X, y, test_size=0.2, shuffle=True, stratify=target, random_state=SEED)\n",
        "    \n",
        "    features = list(X.columns)\n",
        "    cat_features = list(X.select_dtypes(include='category').columns)\n",
        "    baseline = LGBMClassifier()\n",
        "    baseline.fit(\n",
        "        X_train, y_train, \n",
        "        eval_set=[(X_val, y_val)],\n",
        "        feature_name=features,\n",
        "        categorical_feature=cat_features,\n",
        "        verbose=False)\n",
        "    \n",
        "    preds = baseline.predict(X_val)\n",
        "    print(classification_report(y_val, preds))"
      ],
      "metadata": {
        "id": "3nZABCUB5vRr"
      },
      "execution_count": 51,
      "outputs": []
    },
    {
      "cell_type": "markdown",
      "source": [
        "**All features**"
      ],
      "metadata": {
        "id": "MTLUeKQD6AJS"
      }
    },
    {
      "cell_type": "code",
      "source": [
        "fit_baseline(train_all, target)"
      ],
      "metadata": {
        "colab": {
          "base_uri": "https://localhost:8080/"
        },
        "id": "TPTdqOMM5_b2",
        "outputId": "3a1d38f3-cb9f-46b9-c575-64a1a671a77d"
      },
      "execution_count": 52,
      "outputs": [
        {
          "output_type": "stream",
          "name": "stdout",
          "text": [
            "              precision    recall  f1-score   support\n",
            "\n",
            "           0       0.61      0.78      0.69       840\n",
            "           1       0.45      0.27      0.33       560\n",
            "\n",
            "    accuracy                           0.57      1400\n",
            "   macro avg       0.53      0.52      0.51      1400\n",
            "weighted avg       0.55      0.57      0.55      1400\n",
            "\n"
          ]
        }
      ]
    },
    {
      "cell_type": "markdown",
      "source": [
        "**Original features**"
      ],
      "metadata": {
        "id": "zCLNgiVQ6C4Z"
      }
    },
    {
      "cell_type": "code",
      "source": [
        "fit_baseline(train_original, target)"
      ],
      "metadata": {
        "colab": {
          "base_uri": "https://localhost:8080/"
        },
        "id": "5oalxgum6FLg",
        "outputId": "87d4f5f1-7c65-40c9-e042-9013af360414"
      },
      "execution_count": 53,
      "outputs": [
        {
          "output_type": "stream",
          "name": "stdout",
          "text": [
            "              precision    recall  f1-score   support\n",
            "\n",
            "           0       0.62      0.80      0.70       840\n",
            "           1       0.47      0.27      0.35       560\n",
            "\n",
            "    accuracy                           0.59      1400\n",
            "   macro avg       0.55      0.53      0.52      1400\n",
            "weighted avg       0.56      0.59      0.56      1400\n",
            "\n"
          ]
        }
      ]
    },
    {
      "cell_type": "markdown",
      "source": [
        "**Selected features**"
      ],
      "metadata": {
        "id": "cnogfN5u6ImK"
      }
    },
    {
      "cell_type": "code",
      "source": [
        "fit_baseline(train_selected, target)"
      ],
      "metadata": {
        "colab": {
          "base_uri": "https://localhost:8080/"
        },
        "id": "xYX_6qL96LXo",
        "outputId": "a560bf84-5b6d-4723-8b37-ee5a548c4c99"
      },
      "execution_count": 54,
      "outputs": [
        {
          "output_type": "stream",
          "name": "stdout",
          "text": [
            "              precision    recall  f1-score   support\n",
            "\n",
            "           0       0.62      0.81      0.70       840\n",
            "           1       0.47      0.25      0.33       560\n",
            "\n",
            "    accuracy                           0.59      1400\n",
            "   macro avg       0.54      0.53      0.51      1400\n",
            "weighted avg       0.56      0.59      0.55      1400\n",
            "\n"
          ]
        }
      ]
    },
    {
      "cell_type": "markdown",
      "source": [
        "# Hyperparameter tuning"
      ],
      "metadata": {
        "id": "oVZEqwhQ2oi2"
      }
    },
    {
      "cell_type": "code",
      "source": [
        "def eval_f1_macro(y_true, y_pred):\n",
        "    return ('eval_f1_macro', \n",
        "            f1_score(y_true, np.round(y_pred), average='macro'), \n",
        "            True)"
      ],
      "metadata": {
        "id": "42N1GL7d3QMV"
      },
      "execution_count": 55,
      "outputs": []
    },
    {
      "cell_type": "code",
      "source": [
        "def objective(trial, data, base_params):\n",
        "    \n",
        "    scores = []\n",
        "    X, y = data\n",
        "    features = list(X.columns)\n",
        "    cat_features = list(X.select_dtypes(include='category').columns)\n",
        "    \n",
        "    #Defining hyperparameter search space\n",
        "    param_grid = {\n",
        "        'learning_rate': trial.suggest_float('learning_rate', 0.01, 0.4, step=0.01),\n",
        "        # 'boosting_type': trial.suggest_categorical('boosting_type', ['gbdt', 'goss', 'dart']),\n",
        "        'boosting_type': trial.suggest_categorical('boosting_type', ['gbdt']),\n",
        "        'reg_alpha': trial.suggest_float('reg_alpha', 0, 200, step=0.01),\n",
        "        'reg_lambda': trial.suggest_float('reg_lambda', 0, 200, step=0.01),\n",
        "        'num_leaves': trial.suggest_int('num_leaves', 2, 2000),\n",
        "        'max_depth': trial.suggest_int('max_depth', 3, 15),\n",
        "        'min_child_samples': trial.suggest_int(\n",
        "            'min_child_samples', 0, 1000, step=5),\n",
        "        # 'max_bin': trial.suggest_int('max_bin', 200, 300),\n",
        "        'min_split_gain': trial.suggest_float('min_split_gain', 0, 15, step=0.01),\n",
        "        'colsample_bytree': trial.suggest_float(\n",
        "            'colsample_bytree', 0.5, 0.99, step=0.01),\n",
        "        'scale_pos_weight': trial.suggest_float(\n",
        "            'scale_pos_weight', 1, 1.5, step=0.01)\n",
        "    }\n",
        "    # if param_grid['boosting_type'] != 'goss':\n",
        "    param_grid['subsample'] = trial.suggest_float(\n",
        "        'subsample', 0.5, 0.99, step=0.01),\n",
        "    param_grid['subsample_freq'] = trial.suggest_int(\n",
        "        'subsample_freq', 1, 50)\n",
        "    # else:\n",
        "    #     param_grid['top_rate'] = trial.suggest_float(\n",
        "    #         'drop_rate', 0.01, 0.5, step=0.01)\n",
        "    #     param_grid['other_rate'] = trial.suggest_float(\n",
        "    #         'other_rate', 0.01, 0.49, step=0.01)\n",
        "        \n",
        "    # if param_grid['boosting_type'] == 'dart':\n",
        "    #     param_grid['drop_rate'] = trial.suggest_float(\n",
        "    #         'drop_rate', 0.0, 1.0, step=0.01),\n",
        "    #     param_grid['skip_drop'] = trial.suggest_float(\n",
        "    #         'skip_drop', 0.0, 1.0, step=0.01)\n",
        "    \n",
        "    #cross-validating for each trial\n",
        "    cv = StratifiedKFold(n_splits=5, shuffle=True, random_state=SEED)\n",
        "    for fold, (train_idx, val_idx) in enumerate(cv.split(X, y)):\n",
        "        X_train, y_train = X.loc[train_idx], y.iloc[train_idx]\n",
        "        X_val, y_val = X.loc[val_idx], y.iloc[val_idx]\n",
        "        \n",
        "        model = LGBMClassifier(**base_params, **param_grid)\n",
        "        model.fit(\n",
        "            X_train, y_train,\n",
        "            eval_set=[(X_val, y_val)],\n",
        "            eval_metric='average_precision',\n",
        "            early_stopping_rounds=50,\n",
        "            feature_name=features,\n",
        "            categorical_feature=cat_features,\n",
        "            verbose=False)\n",
        "        preds = model.predict(X_val)\n",
        "        scores.append(f1_score(y_val, preds, average='macro'))\n",
        "    \n",
        "    return np.mean(scores)"
      ],
      "metadata": {
        "id": "i3VeEFRe2oBe"
      },
      "execution_count": 74,
      "outputs": []
    },
    {
      "cell_type": "code",
      "source": [
        "def tune_params(data, base_params, n_trials=10, direction='maximize'):\n",
        "    study = optuna.create_study(\n",
        "        sampler=TPESampler(seed=SEED),\n",
        "        pruner=HyperbandPruner(),\n",
        "        direction=direction)\n",
        "    \n",
        "    study.optimize(\n",
        "        func=lambda trial: objective(trial, data, base_params),\n",
        "        n_trials=n_trials,\n",
        "        gc_after_trial=True)\n",
        "    \n",
        "    return study"
      ],
      "metadata": {
        "id": "7JCjxMSuT3Ep"
      },
      "execution_count": 75,
      "outputs": []
    },
    {
      "cell_type": "markdown",
      "source": [
        "# Cross-validation"
      ],
      "metadata": {
        "id": "8ma9Q7IV_KNP"
      }
    },
    {
      "cell_type": "code",
      "source": [
        "def evaluate_model(data, model_params, verbose=True):\n",
        "    \n",
        "    preds_test = []\n",
        "    scores_f1 = [] #validation set weighted-f1 scores\n",
        "    scores_acc = [] #validation set accuracy\n",
        "    \n",
        "    X, X_test, y = data\n",
        "    features = list(X.columns)\n",
        "    cat_features = list(X.select_dtypes(include='category').columns)\n",
        "    \n",
        "    cv = StratifiedKFold(n_splits=5, shuffle=True, random_state=SEED)\n",
        "    for fold, (train_idx, val_idx) in enumerate(cv.split(X, y)):\n",
        "        X_train, y_train = X.loc[train_idx], y.iloc[train_idx]\n",
        "        X_val, y_val = X.loc[val_idx], y.iloc[val_idx]\n",
        "        \n",
        "        model = LGBMClassifier(**model_params)\n",
        "        model.fit(\n",
        "            X_train, y_train,\n",
        "            eval_set=[(X_val, y_val)],\n",
        "            eval_metric='average_precision',\n",
        "            early_stopping_rounds=50,\n",
        "            feature_name=features,\n",
        "            categorical_feature=cat_features,\n",
        "            verbose=False)\n",
        "        \n",
        "        preds_val = model.predict(X_val)\n",
        "        preds_test.append(model.predict(X_test))\n",
        "        \n",
        "        scores_acc.append(accuracy_score(y_val, preds_val))\n",
        "        scores_f1.append(f1_score(y_val, preds_val, average='macro'))\n",
        "    \n",
        "    if verbose:\n",
        "        scores_df = pd.DataFrame.from_dict({\n",
        "            'Accuracy': scores_acc,\n",
        "            'Macro-f1': scores_f1\n",
        "        })\n",
        "        scores_df.index.name = 'Fold'\n",
        "        display(scores_df)\n",
        "    \n",
        "    print(f'Average Accuracy = {np.mean(scores_acc):.4f} (with std = {np.std(scores_acc):.4f})')\n",
        "    print(f'Average Macro-f1 = {np.mean(scores_f1):.4f} (with std = {np.std(scores_f1):.4f})\\n')\n",
        "    \n",
        "    preds_test = st.mode(np.column_stack(preds_test), axis=1).mode\n",
        "    return preds_test.ravel()"
      ],
      "metadata": {
        "id": "lMqIUCrG_MpL"
      },
      "execution_count": 76,
      "outputs": []
    },
    {
      "cell_type": "code",
      "source": [
        "def run_experiment(data, n_trials=5):\n",
        "        \n",
        "    X, X_test, y = data\n",
        "    \n",
        "    base_params = {\n",
        "        'objective': 'binary',\n",
        "        'n_estimators': 2000,\n",
        "        'early_stopping_round': 50,\n",
        "        'extra_trees': True,\n",
        "        'max_cat_to_onehot': 5,\n",
        "        'device_type': 'gpu' if GPU else 'cpu',\n",
        "        'random_state': SEED\n",
        "    }\n",
        "    \n",
        "    print(f'---------------Hyperparameter tuning---------------')\n",
        "    study = tune_params(\n",
        "        data=(X, y), \n",
        "        base_params=base_params,\n",
        "        n_trials=n_trials,\n",
        "        direction='maximize')\n",
        "    print(f'Best trial: {study.best_trial.number} -> Best value (f1-macro): {study.best_value:.5f}')\n",
        "    print(f'Best hyperparameters:')\n",
        "    for k, v in study.best_params.items():\n",
        "        print(f'{k:20} - {v}')\n",
        "    \n",
        "    model_params = {**base_params, **study.best_params}\n",
        "    print(f'-----------------Cross-validation------------------')\n",
        "    preds_test = evaluate_model(\n",
        "        data=(X, X_test, y), \n",
        "        model_params=model_params)\n",
        "    \n",
        "    return preds_test"
      ],
      "metadata": {
        "id": "MrsZNJGhCWF7"
      },
      "execution_count": 77,
      "outputs": []
    },
    {
      "cell_type": "code",
      "source": [
        "%%time\n",
        "preds_all = run_experiment((train_all, test_all, target), 500)"
      ],
      "metadata": {
        "colab": {
          "base_uri": "https://localhost:8080/",
          "height": 602
        },
        "id": "W58je_OvC1et",
        "outputId": "4e424614-82f2-4e0b-a9b4-182c801d551d"
      },
      "execution_count": 78,
      "outputs": [
        {
          "output_type": "stream",
          "name": "stdout",
          "text": [
            "---------------Hyperparameter tuning---------------\n",
            "Best trial: 449 -> Best value (f1-macro): 0.56630\n",
            "Best hyperparameters:\n",
            "learning_rate        - 0.17\n",
            "boosting_type        - gbdt\n",
            "reg_alpha            - 134.88\n",
            "reg_lambda           - 17.03\n",
            "num_leaves           - 1136\n",
            "max_depth            - 8\n",
            "min_child_samples    - 400\n",
            "min_split_gain       - 2.06\n",
            "colsample_bytree     - 0.87\n",
            "scale_pos_weight     - 1.02\n",
            "subsample            - 0.98\n",
            "subsample_freq       - 14\n",
            "-----------------Cross-validation------------------\n"
          ]
        },
        {
          "output_type": "display_data",
          "data": {
            "text/plain": [
              "      Accuracy  Macro-f1\n",
              "Fold                    \n",
              "0       0.5929    0.5801\n",
              "1       0.5600    0.5579\n",
              "2       0.5779    0.5705\n",
              "3       0.5679    0.5603\n",
              "4       0.5764    0.5626"
            ],
            "text/html": [
              "\n",
              "  <div id=\"df-f0b4044d-17e8-4de4-bdf3-ad9fd31ad5fc\">\n",
              "    <div class=\"colab-df-container\">\n",
              "      <div>\n",
              "<style scoped>\n",
              "    .dataframe tbody tr th:only-of-type {\n",
              "        vertical-align: middle;\n",
              "    }\n",
              "\n",
              "    .dataframe tbody tr th {\n",
              "        vertical-align: top;\n",
              "    }\n",
              "\n",
              "    .dataframe thead th {\n",
              "        text-align: right;\n",
              "    }\n",
              "</style>\n",
              "<table border=\"1\" class=\"dataframe\">\n",
              "  <thead>\n",
              "    <tr style=\"text-align: right;\">\n",
              "      <th></th>\n",
              "      <th>Accuracy</th>\n",
              "      <th>Macro-f1</th>\n",
              "    </tr>\n",
              "    <tr>\n",
              "      <th>Fold</th>\n",
              "      <th></th>\n",
              "      <th></th>\n",
              "    </tr>\n",
              "  </thead>\n",
              "  <tbody>\n",
              "    <tr>\n",
              "      <th>0</th>\n",
              "      <td>0.5929</td>\n",
              "      <td>0.5801</td>\n",
              "    </tr>\n",
              "    <tr>\n",
              "      <th>1</th>\n",
              "      <td>0.5600</td>\n",
              "      <td>0.5579</td>\n",
              "    </tr>\n",
              "    <tr>\n",
              "      <th>2</th>\n",
              "      <td>0.5779</td>\n",
              "      <td>0.5705</td>\n",
              "    </tr>\n",
              "    <tr>\n",
              "      <th>3</th>\n",
              "      <td>0.5679</td>\n",
              "      <td>0.5603</td>\n",
              "    </tr>\n",
              "    <tr>\n",
              "      <th>4</th>\n",
              "      <td>0.5764</td>\n",
              "      <td>0.5626</td>\n",
              "    </tr>\n",
              "  </tbody>\n",
              "</table>\n",
              "</div>\n",
              "      <button class=\"colab-df-convert\" onclick=\"convertToInteractive('df-f0b4044d-17e8-4de4-bdf3-ad9fd31ad5fc')\"\n",
              "              title=\"Convert this dataframe to an interactive table.\"\n",
              "              style=\"display:none;\">\n",
              "        \n",
              "  <svg xmlns=\"http://www.w3.org/2000/svg\" height=\"24px\"viewBox=\"0 0 24 24\"\n",
              "       width=\"24px\">\n",
              "    <path d=\"M0 0h24v24H0V0z\" fill=\"none\"/>\n",
              "    <path d=\"M18.56 5.44l.94 2.06.94-2.06 2.06-.94-2.06-.94-.94-2.06-.94 2.06-2.06.94zm-11 1L8.5 8.5l.94-2.06 2.06-.94-2.06-.94L8.5 2.5l-.94 2.06-2.06.94zm10 10l.94 2.06.94-2.06 2.06-.94-2.06-.94-.94-2.06-.94 2.06-2.06.94z\"/><path d=\"M17.41 7.96l-1.37-1.37c-.4-.4-.92-.59-1.43-.59-.52 0-1.04.2-1.43.59L10.3 9.45l-7.72 7.72c-.78.78-.78 2.05 0 2.83L4 21.41c.39.39.9.59 1.41.59.51 0 1.02-.2 1.41-.59l7.78-7.78 2.81-2.81c.8-.78.8-2.07 0-2.86zM5.41 20L4 18.59l7.72-7.72 1.47 1.35L5.41 20z\"/>\n",
              "  </svg>\n",
              "      </button>\n",
              "      \n",
              "  <style>\n",
              "    .colab-df-container {\n",
              "      display:flex;\n",
              "      flex-wrap:wrap;\n",
              "      gap: 12px;\n",
              "    }\n",
              "\n",
              "    .colab-df-convert {\n",
              "      background-color: #E8F0FE;\n",
              "      border: none;\n",
              "      border-radius: 50%;\n",
              "      cursor: pointer;\n",
              "      display: none;\n",
              "      fill: #1967D2;\n",
              "      height: 32px;\n",
              "      padding: 0 0 0 0;\n",
              "      width: 32px;\n",
              "    }\n",
              "\n",
              "    .colab-df-convert:hover {\n",
              "      background-color: #E2EBFA;\n",
              "      box-shadow: 0px 1px 2px rgba(60, 64, 67, 0.3), 0px 1px 3px 1px rgba(60, 64, 67, 0.15);\n",
              "      fill: #174EA6;\n",
              "    }\n",
              "\n",
              "    [theme=dark] .colab-df-convert {\n",
              "      background-color: #3B4455;\n",
              "      fill: #D2E3FC;\n",
              "    }\n",
              "\n",
              "    [theme=dark] .colab-df-convert:hover {\n",
              "      background-color: #434B5C;\n",
              "      box-shadow: 0px 1px 3px 1px rgba(0, 0, 0, 0.15);\n",
              "      filter: drop-shadow(0px 1px 2px rgba(0, 0, 0, 0.3));\n",
              "      fill: #FFFFFF;\n",
              "    }\n",
              "  </style>\n",
              "\n",
              "      <script>\n",
              "        const buttonEl =\n",
              "          document.querySelector('#df-f0b4044d-17e8-4de4-bdf3-ad9fd31ad5fc button.colab-df-convert');\n",
              "        buttonEl.style.display =\n",
              "          google.colab.kernel.accessAllowed ? 'block' : 'none';\n",
              "\n",
              "        async function convertToInteractive(key) {\n",
              "          const element = document.querySelector('#df-f0b4044d-17e8-4de4-bdf3-ad9fd31ad5fc');\n",
              "          const dataTable =\n",
              "            await google.colab.kernel.invokeFunction('convertToInteractive',\n",
              "                                                     [key], {});\n",
              "          if (!dataTable) return;\n",
              "\n",
              "          const docLinkHtml = 'Like what you see? Visit the ' +\n",
              "            '<a target=\"_blank\" href=https://colab.research.google.com/notebooks/data_table.ipynb>data table notebook</a>'\n",
              "            + ' to learn more about interactive tables.';\n",
              "          element.innerHTML = '';\n",
              "          dataTable['output_type'] = 'display_data';\n",
              "          await google.colab.output.renderOutput(dataTable, element);\n",
              "          const docLink = document.createElement('div');\n",
              "          docLink.innerHTML = docLinkHtml;\n",
              "          element.appendChild(docLink);\n",
              "        }\n",
              "      </script>\n",
              "    </div>\n",
              "  </div>\n",
              "  "
            ]
          },
          "metadata": {}
        },
        {
          "output_type": "stream",
          "name": "stdout",
          "text": [
            "Average Accuracy = 0.5750 (with std = 0.0110)\n",
            "Average Macro-f1 = 0.5663 (with std = 0.0081)\n",
            "\n",
            "CPU times: user 9min 46s, sys: 5.96 s, total: 9min 52s\n",
            "Wall time: 5min 47s\n"
          ]
        }
      ]
    },
    {
      "cell_type": "code",
      "source": [
        "%%time\n",
        "preds_original = run_experiment((train_original, test_original, target), 500)"
      ],
      "metadata": {
        "colab": {
          "base_uri": "https://localhost:8080/",
          "height": 602
        },
        "id": "_Mi8QCXkC6iv",
        "outputId": "0b0ba10f-552e-4fd2-850e-a77e6ef910f4"
      },
      "execution_count": 79,
      "outputs": [
        {
          "output_type": "stream",
          "name": "stdout",
          "text": [
            "---------------Hyperparameter tuning---------------\n",
            "Best trial: 406 -> Best value (f1-macro): 0.56650\n",
            "Best hyperparameters:\n",
            "learning_rate        - 0.16\n",
            "boosting_type        - gbdt\n",
            "reg_alpha            - 152.66\n",
            "reg_lambda           - 66.36\n",
            "num_leaves           - 1181\n",
            "max_depth            - 12\n",
            "min_child_samples    - 675\n",
            "min_split_gain       - 0.48\n",
            "colsample_bytree     - 0.59\n",
            "scale_pos_weight     - 1.01\n",
            "subsample            - 0.91\n",
            "subsample_freq       - 11\n",
            "-----------------Cross-validation------------------\n"
          ]
        },
        {
          "output_type": "display_data",
          "data": {
            "text/plain": [
              "      Accuracy  Macro-f1\n",
              "Fold                    \n",
              "0       0.5850    0.5725\n",
              "1       0.5757    0.5642\n",
              "2       0.5879    0.5684\n",
              "3       0.5836    0.5642\n",
              "4       0.5843    0.5631"
            ],
            "text/html": [
              "\n",
              "  <div id=\"df-0d1c5851-7f07-4fc7-bb9b-609bd2ac324a\">\n",
              "    <div class=\"colab-df-container\">\n",
              "      <div>\n",
              "<style scoped>\n",
              "    .dataframe tbody tr th:only-of-type {\n",
              "        vertical-align: middle;\n",
              "    }\n",
              "\n",
              "    .dataframe tbody tr th {\n",
              "        vertical-align: top;\n",
              "    }\n",
              "\n",
              "    .dataframe thead th {\n",
              "        text-align: right;\n",
              "    }\n",
              "</style>\n",
              "<table border=\"1\" class=\"dataframe\">\n",
              "  <thead>\n",
              "    <tr style=\"text-align: right;\">\n",
              "      <th></th>\n",
              "      <th>Accuracy</th>\n",
              "      <th>Macro-f1</th>\n",
              "    </tr>\n",
              "    <tr>\n",
              "      <th>Fold</th>\n",
              "      <th></th>\n",
              "      <th></th>\n",
              "    </tr>\n",
              "  </thead>\n",
              "  <tbody>\n",
              "    <tr>\n",
              "      <th>0</th>\n",
              "      <td>0.5850</td>\n",
              "      <td>0.5725</td>\n",
              "    </tr>\n",
              "    <tr>\n",
              "      <th>1</th>\n",
              "      <td>0.5757</td>\n",
              "      <td>0.5642</td>\n",
              "    </tr>\n",
              "    <tr>\n",
              "      <th>2</th>\n",
              "      <td>0.5879</td>\n",
              "      <td>0.5684</td>\n",
              "    </tr>\n",
              "    <tr>\n",
              "      <th>3</th>\n",
              "      <td>0.5836</td>\n",
              "      <td>0.5642</td>\n",
              "    </tr>\n",
              "    <tr>\n",
              "      <th>4</th>\n",
              "      <td>0.5843</td>\n",
              "      <td>0.5631</td>\n",
              "    </tr>\n",
              "  </tbody>\n",
              "</table>\n",
              "</div>\n",
              "      <button class=\"colab-df-convert\" onclick=\"convertToInteractive('df-0d1c5851-7f07-4fc7-bb9b-609bd2ac324a')\"\n",
              "              title=\"Convert this dataframe to an interactive table.\"\n",
              "              style=\"display:none;\">\n",
              "        \n",
              "  <svg xmlns=\"http://www.w3.org/2000/svg\" height=\"24px\"viewBox=\"0 0 24 24\"\n",
              "       width=\"24px\">\n",
              "    <path d=\"M0 0h24v24H0V0z\" fill=\"none\"/>\n",
              "    <path d=\"M18.56 5.44l.94 2.06.94-2.06 2.06-.94-2.06-.94-.94-2.06-.94 2.06-2.06.94zm-11 1L8.5 8.5l.94-2.06 2.06-.94-2.06-.94L8.5 2.5l-.94 2.06-2.06.94zm10 10l.94 2.06.94-2.06 2.06-.94-2.06-.94-.94-2.06-.94 2.06-2.06.94z\"/><path d=\"M17.41 7.96l-1.37-1.37c-.4-.4-.92-.59-1.43-.59-.52 0-1.04.2-1.43.59L10.3 9.45l-7.72 7.72c-.78.78-.78 2.05 0 2.83L4 21.41c.39.39.9.59 1.41.59.51 0 1.02-.2 1.41-.59l7.78-7.78 2.81-2.81c.8-.78.8-2.07 0-2.86zM5.41 20L4 18.59l7.72-7.72 1.47 1.35L5.41 20z\"/>\n",
              "  </svg>\n",
              "      </button>\n",
              "      \n",
              "  <style>\n",
              "    .colab-df-container {\n",
              "      display:flex;\n",
              "      flex-wrap:wrap;\n",
              "      gap: 12px;\n",
              "    }\n",
              "\n",
              "    .colab-df-convert {\n",
              "      background-color: #E8F0FE;\n",
              "      border: none;\n",
              "      border-radius: 50%;\n",
              "      cursor: pointer;\n",
              "      display: none;\n",
              "      fill: #1967D2;\n",
              "      height: 32px;\n",
              "      padding: 0 0 0 0;\n",
              "      width: 32px;\n",
              "    }\n",
              "\n",
              "    .colab-df-convert:hover {\n",
              "      background-color: #E2EBFA;\n",
              "      box-shadow: 0px 1px 2px rgba(60, 64, 67, 0.3), 0px 1px 3px 1px rgba(60, 64, 67, 0.15);\n",
              "      fill: #174EA6;\n",
              "    }\n",
              "\n",
              "    [theme=dark] .colab-df-convert {\n",
              "      background-color: #3B4455;\n",
              "      fill: #D2E3FC;\n",
              "    }\n",
              "\n",
              "    [theme=dark] .colab-df-convert:hover {\n",
              "      background-color: #434B5C;\n",
              "      box-shadow: 0px 1px 3px 1px rgba(0, 0, 0, 0.15);\n",
              "      filter: drop-shadow(0px 1px 2px rgba(0, 0, 0, 0.3));\n",
              "      fill: #FFFFFF;\n",
              "    }\n",
              "  </style>\n",
              "\n",
              "      <script>\n",
              "        const buttonEl =\n",
              "          document.querySelector('#df-0d1c5851-7f07-4fc7-bb9b-609bd2ac324a button.colab-df-convert');\n",
              "        buttonEl.style.display =\n",
              "          google.colab.kernel.accessAllowed ? 'block' : 'none';\n",
              "\n",
              "        async function convertToInteractive(key) {\n",
              "          const element = document.querySelector('#df-0d1c5851-7f07-4fc7-bb9b-609bd2ac324a');\n",
              "          const dataTable =\n",
              "            await google.colab.kernel.invokeFunction('convertToInteractive',\n",
              "                                                     [key], {});\n",
              "          if (!dataTable) return;\n",
              "\n",
              "          const docLinkHtml = 'Like what you see? Visit the ' +\n",
              "            '<a target=\"_blank\" href=https://colab.research.google.com/notebooks/data_table.ipynb>data table notebook</a>'\n",
              "            + ' to learn more about interactive tables.';\n",
              "          element.innerHTML = '';\n",
              "          dataTable['output_type'] = 'display_data';\n",
              "          await google.colab.output.renderOutput(dataTable, element);\n",
              "          const docLink = document.createElement('div');\n",
              "          docLink.innerHTML = docLinkHtml;\n",
              "          element.appendChild(docLink);\n",
              "        }\n",
              "      </script>\n",
              "    </div>\n",
              "  </div>\n",
              "  "
            ]
          },
          "metadata": {}
        },
        {
          "output_type": "stream",
          "name": "stdout",
          "text": [
            "Average Accuracy = 0.5833 (with std = 0.0041)\n",
            "Average Macro-f1 = 0.5665 (with std = 0.0035)\n",
            "\n",
            "CPU times: user 9min 59s, sys: 7.66 s, total: 10min 7s\n",
            "Wall time: 5min 52s\n"
          ]
        }
      ]
    },
    {
      "cell_type": "code",
      "source": [
        "%%time\n",
        "preds_selected = run_experiment((train_selected, test_selected, target), 500)"
      ],
      "metadata": {
        "colab": {
          "base_uri": "https://localhost:8080/",
          "height": 602
        },
        "id": "1Uf_ZHf4C9BD",
        "outputId": "b4697a9f-0437-44bb-a54b-eadf87e959d6"
      },
      "execution_count": 80,
      "outputs": [
        {
          "output_type": "stream",
          "name": "stdout",
          "text": [
            "---------------Hyperparameter tuning---------------\n",
            "Best trial: 480 -> Best value (f1-macro): 0.56454\n",
            "Best hyperparameters:\n",
            "learning_rate        - 0.11\n",
            "boosting_type        - gbdt\n",
            "reg_alpha            - 122.88\n",
            "reg_lambda           - 40.94\n",
            "num_leaves           - 1406\n",
            "max_depth            - 11\n",
            "min_child_samples    - 575\n",
            "min_split_gain       - 1.74\n",
            "colsample_bytree     - 0.56\n",
            "scale_pos_weight     - 1.06\n",
            "subsample            - 0.86\n",
            "subsample_freq       - 31\n",
            "-----------------Cross-validation------------------\n"
          ]
        },
        {
          "output_type": "display_data",
          "data": {
            "text/plain": [
              "      Accuracy  Macro-f1\n",
              "Fold                    \n",
              "0       0.5771    0.5726\n",
              "1       0.5621    0.5582\n",
              "2       0.5743    0.5693\n",
              "3       0.5779    0.5638\n",
              "4       0.5679    0.5588"
            ],
            "text/html": [
              "\n",
              "  <div id=\"df-2cec3be8-90d9-4f26-98cf-f57276108c11\">\n",
              "    <div class=\"colab-df-container\">\n",
              "      <div>\n",
              "<style scoped>\n",
              "    .dataframe tbody tr th:only-of-type {\n",
              "        vertical-align: middle;\n",
              "    }\n",
              "\n",
              "    .dataframe tbody tr th {\n",
              "        vertical-align: top;\n",
              "    }\n",
              "\n",
              "    .dataframe thead th {\n",
              "        text-align: right;\n",
              "    }\n",
              "</style>\n",
              "<table border=\"1\" class=\"dataframe\">\n",
              "  <thead>\n",
              "    <tr style=\"text-align: right;\">\n",
              "      <th></th>\n",
              "      <th>Accuracy</th>\n",
              "      <th>Macro-f1</th>\n",
              "    </tr>\n",
              "    <tr>\n",
              "      <th>Fold</th>\n",
              "      <th></th>\n",
              "      <th></th>\n",
              "    </tr>\n",
              "  </thead>\n",
              "  <tbody>\n",
              "    <tr>\n",
              "      <th>0</th>\n",
              "      <td>0.5771</td>\n",
              "      <td>0.5726</td>\n",
              "    </tr>\n",
              "    <tr>\n",
              "      <th>1</th>\n",
              "      <td>0.5621</td>\n",
              "      <td>0.5582</td>\n",
              "    </tr>\n",
              "    <tr>\n",
              "      <th>2</th>\n",
              "      <td>0.5743</td>\n",
              "      <td>0.5693</td>\n",
              "    </tr>\n",
              "    <tr>\n",
              "      <th>3</th>\n",
              "      <td>0.5779</td>\n",
              "      <td>0.5638</td>\n",
              "    </tr>\n",
              "    <tr>\n",
              "      <th>4</th>\n",
              "      <td>0.5679</td>\n",
              "      <td>0.5588</td>\n",
              "    </tr>\n",
              "  </tbody>\n",
              "</table>\n",
              "</div>\n",
              "      <button class=\"colab-df-convert\" onclick=\"convertToInteractive('df-2cec3be8-90d9-4f26-98cf-f57276108c11')\"\n",
              "              title=\"Convert this dataframe to an interactive table.\"\n",
              "              style=\"display:none;\">\n",
              "        \n",
              "  <svg xmlns=\"http://www.w3.org/2000/svg\" height=\"24px\"viewBox=\"0 0 24 24\"\n",
              "       width=\"24px\">\n",
              "    <path d=\"M0 0h24v24H0V0z\" fill=\"none\"/>\n",
              "    <path d=\"M18.56 5.44l.94 2.06.94-2.06 2.06-.94-2.06-.94-.94-2.06-.94 2.06-2.06.94zm-11 1L8.5 8.5l.94-2.06 2.06-.94-2.06-.94L8.5 2.5l-.94 2.06-2.06.94zm10 10l.94 2.06.94-2.06 2.06-.94-2.06-.94-.94-2.06-.94 2.06-2.06.94z\"/><path d=\"M17.41 7.96l-1.37-1.37c-.4-.4-.92-.59-1.43-.59-.52 0-1.04.2-1.43.59L10.3 9.45l-7.72 7.72c-.78.78-.78 2.05 0 2.83L4 21.41c.39.39.9.59 1.41.59.51 0 1.02-.2 1.41-.59l7.78-7.78 2.81-2.81c.8-.78.8-2.07 0-2.86zM5.41 20L4 18.59l7.72-7.72 1.47 1.35L5.41 20z\"/>\n",
              "  </svg>\n",
              "      </button>\n",
              "      \n",
              "  <style>\n",
              "    .colab-df-container {\n",
              "      display:flex;\n",
              "      flex-wrap:wrap;\n",
              "      gap: 12px;\n",
              "    }\n",
              "\n",
              "    .colab-df-convert {\n",
              "      background-color: #E8F0FE;\n",
              "      border: none;\n",
              "      border-radius: 50%;\n",
              "      cursor: pointer;\n",
              "      display: none;\n",
              "      fill: #1967D2;\n",
              "      height: 32px;\n",
              "      padding: 0 0 0 0;\n",
              "      width: 32px;\n",
              "    }\n",
              "\n",
              "    .colab-df-convert:hover {\n",
              "      background-color: #E2EBFA;\n",
              "      box-shadow: 0px 1px 2px rgba(60, 64, 67, 0.3), 0px 1px 3px 1px rgba(60, 64, 67, 0.15);\n",
              "      fill: #174EA6;\n",
              "    }\n",
              "\n",
              "    [theme=dark] .colab-df-convert {\n",
              "      background-color: #3B4455;\n",
              "      fill: #D2E3FC;\n",
              "    }\n",
              "\n",
              "    [theme=dark] .colab-df-convert:hover {\n",
              "      background-color: #434B5C;\n",
              "      box-shadow: 0px 1px 3px 1px rgba(0, 0, 0, 0.15);\n",
              "      filter: drop-shadow(0px 1px 2px rgba(0, 0, 0, 0.3));\n",
              "      fill: #FFFFFF;\n",
              "    }\n",
              "  </style>\n",
              "\n",
              "      <script>\n",
              "        const buttonEl =\n",
              "          document.querySelector('#df-2cec3be8-90d9-4f26-98cf-f57276108c11 button.colab-df-convert');\n",
              "        buttonEl.style.display =\n",
              "          google.colab.kernel.accessAllowed ? 'block' : 'none';\n",
              "\n",
              "        async function convertToInteractive(key) {\n",
              "          const element = document.querySelector('#df-2cec3be8-90d9-4f26-98cf-f57276108c11');\n",
              "          const dataTable =\n",
              "            await google.colab.kernel.invokeFunction('convertToInteractive',\n",
              "                                                     [key], {});\n",
              "          if (!dataTable) return;\n",
              "\n",
              "          const docLinkHtml = 'Like what you see? Visit the ' +\n",
              "            '<a target=\"_blank\" href=https://colab.research.google.com/notebooks/data_table.ipynb>data table notebook</a>'\n",
              "            + ' to learn more about interactive tables.';\n",
              "          element.innerHTML = '';\n",
              "          dataTable['output_type'] = 'display_data';\n",
              "          await google.colab.output.renderOutput(dataTable, element);\n",
              "          const docLink = document.createElement('div');\n",
              "          docLink.innerHTML = docLinkHtml;\n",
              "          element.appendChild(docLink);\n",
              "        }\n",
              "      </script>\n",
              "    </div>\n",
              "  </div>\n",
              "  "
            ]
          },
          "metadata": {}
        },
        {
          "output_type": "stream",
          "name": "stdout",
          "text": [
            "Average Accuracy = 0.5719 (with std = 0.0060)\n",
            "Average Macro-f1 = 0.5645 (with std = 0.0057)\n",
            "\n",
            "CPU times: user 7min 36s, sys: 5.74 s, total: 7min 42s\n",
            "Wall time: 4min 34s\n"
          ]
        }
      ]
    },
    {
      "cell_type": "markdown",
      "source": [
        "# Generating submission files"
      ],
      "metadata": {
        "id": "PIJHZB-S_jC7"
      }
    },
    {
      "cell_type": "code",
      "source": [
        "sub_all = pd.DataFrame({\n",
        "    'loan_id': test_index,\n",
        "    'loan_default': preds_all\n",
        "})\n",
        "sub_all.to_csv('04_sub_all.csv', index=False)"
      ],
      "metadata": {
        "id": "jPIBtDMr_iX9"
      },
      "execution_count": 81,
      "outputs": []
    },
    {
      "cell_type": "code",
      "source": [
        "sub_original = pd.DataFrame({\n",
        "    'loan_id': test_index,\n",
        "    'loan_default': preds_original\n",
        "})\n",
        "sub_original.to_csv('04_sub_original.csv', index=False)"
      ],
      "metadata": {
        "id": "jeuU6EUq_sgA"
      },
      "execution_count": 82,
      "outputs": []
    },
    {
      "cell_type": "code",
      "source": [
        "sub_selected = pd.DataFrame({\n",
        "    'loan_id': test_index,\n",
        "    'loan_default': preds_selected\n",
        "})\n",
        "sub_selected.to_csv('04_sub_selected.csv', index=False)"
      ],
      "metadata": {
        "id": "ZoVCrTxUAIdz"
      },
      "execution_count": 83,
      "outputs": []
    }
  ]
}