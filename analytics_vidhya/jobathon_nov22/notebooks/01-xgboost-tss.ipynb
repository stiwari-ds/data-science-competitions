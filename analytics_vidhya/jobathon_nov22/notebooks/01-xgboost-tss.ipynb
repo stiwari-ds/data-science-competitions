{
 "cells": [
  {
   "cell_type": "markdown",
   "id": "2ff87c5c",
   "metadata": {
    "id": "fMe_ffy2a_ac",
    "papermill": {
     "duration": 0.01019,
     "end_time": "2022-11-19T05:17:17.448747",
     "exception": false,
     "start_time": "2022-11-19T05:17:17.438557",
     "status": "completed"
    },
    "tags": []
   },
   "source": [
    "# Setup"
   ]
  },
  {
   "cell_type": "code",
   "execution_count": 1,
   "id": "1e703268",
   "metadata": {
    "execution": {
     "iopub.execute_input": "2022-11-19T05:17:17.470498Z",
     "iopub.status.busy": "2022-11-19T05:17:17.469779Z",
     "iopub.status.idle": "2022-11-19T05:17:37.611706Z",
     "shell.execute_reply": "2022-11-19T05:17:37.610418Z"
    },
    "id": "wyde65PCala3",
    "papermill": {
     "duration": 20.156554,
     "end_time": "2022-11-19T05:17:37.614617",
     "exception": false,
     "start_time": "2022-11-19T05:17:17.458063",
     "status": "completed"
    },
    "tags": []
   },
   "outputs": [],
   "source": [
    "%%capture\n",
    "!pip install --upgrade xgboost\n",
    "!pip install --upgrade optuna"
   ]
  },
  {
   "cell_type": "code",
   "execution_count": 2,
   "id": "5805d627",
   "metadata": {
    "execution": {
     "iopub.execute_input": "2022-11-19T05:17:37.634611Z",
     "iopub.status.busy": "2022-11-19T05:17:37.634305Z",
     "iopub.status.idle": "2022-11-19T05:17:38.961216Z",
     "shell.execute_reply": "2022-11-19T05:17:38.959841Z"
    },
    "id": "eKfBaXpBbBUQ",
    "papermill": {
     "duration": 1.34034,
     "end_time": "2022-11-19T05:17:38.964430",
     "exception": false,
     "start_time": "2022-11-19T05:17:37.624090",
     "status": "completed"
    },
    "tags": []
   },
   "outputs": [],
   "source": [
    "import os\n",
    "import gc\n",
    "import time\n",
    "import warnings\n",
    "import subprocess\n",
    "\n",
    "gc.enable()\n",
    "warnings.filterwarnings('ignore')\n",
    "\n",
    "import pandas as pd\n",
    "import numpy as np\n",
    "pd.set_option('display.max_columns', None)\n",
    "pd.set_option('display.precision', 4)\n",
    "np.set_printoptions(precision=4)\n",
    "\n",
    "import optuna\n",
    "from optuna.samplers import TPESampler\n",
    "from optuna.pruners import HyperbandPruner\n",
    "\n",
    "import xgboost\n",
    "from xgboost import XGBRegressor\n",
    "\n",
    "from sklearn.model_selection import TimeSeriesSplit\n",
    "from sklearn.metrics import mean_squared_error\n",
    "\n",
    "SEED = 2311\n",
    "os.environ['PYTHONHASHSEED'] = str(SEED)\n",
    "np.random.seed(SEED)"
   ]
  },
  {
   "cell_type": "code",
   "execution_count": 3,
   "id": "7ed34aea",
   "metadata": {
    "execution": {
     "iopub.execute_input": "2022-11-19T05:17:38.997873Z",
     "iopub.status.busy": "2022-11-19T05:17:38.997253Z",
     "iopub.status.idle": "2022-11-19T05:17:39.003207Z",
     "shell.execute_reply": "2022-11-19T05:17:39.002052Z"
    },
    "id": "QU6c1orQbm3A",
    "papermill": {
     "duration": 0.02522,
     "end_time": "2022-11-19T05:17:39.006729",
     "exception": false,
     "start_time": "2022-11-19T05:17:38.981509",
     "status": "completed"
    },
    "tags": []
   },
   "outputs": [],
   "source": [
    "#remove cell to run future versions\n",
    "assert optuna.__version__ == '3.0.3', f'Change in Optuna version. Original notebook version: 3.0.3'\n",
    "assert xgboost.__version__ == '1.6.2', f'Change in XGBoost version. Original notebook version: 1.6.2'"
   ]
  },
  {
   "cell_type": "code",
   "execution_count": 4,
   "id": "af3ae52e",
   "metadata": {
    "execution": {
     "iopub.execute_input": "2022-11-19T05:17:39.036325Z",
     "iopub.status.busy": "2022-11-19T05:17:39.035915Z",
     "iopub.status.idle": "2022-11-19T05:17:39.117728Z",
     "shell.execute_reply": "2022-11-19T05:17:39.116779Z"
    },
    "id": "NBzLRr5pbr7Z",
    "outputId": "ed296196-6415-4aea-d4d9-51b119ac933f",
    "papermill": {
     "duration": 0.10468,
     "end_time": "2022-11-19T05:17:39.127284",
     "exception": false,
     "start_time": "2022-11-19T05:17:39.022604",
     "status": "completed"
    },
    "tags": []
   },
   "outputs": [
    {
     "name": "stdout",
     "output_type": "stream",
     "text": [
      "GPU available: True\n"
     ]
    }
   ],
   "source": [
    "#Check GPU availability\n",
    "try:\n",
    "    subprocess.check_output('nvidia-smi')\n",
    "    HAVE_GPU = True\n",
    "except Exception:\n",
    "    HAVE_GPU = False\n",
    "\n",
    "print(f'GPU available: {HAVE_GPU}')"
   ]
  },
  {
   "cell_type": "code",
   "execution_count": 5,
   "id": "8db2b47b",
   "metadata": {
    "execution": {
     "iopub.execute_input": "2022-11-19T05:17:39.157734Z",
     "iopub.status.busy": "2022-11-19T05:17:39.157353Z",
     "iopub.status.idle": "2022-11-19T05:17:45.406275Z",
     "shell.execute_reply": "2022-11-19T05:17:45.405139Z"
    },
    "id": "LOHMVhw1ZZS6",
    "papermill": {
     "duration": 6.265966,
     "end_time": "2022-11-19T05:17:45.408707",
     "exception": false,
     "start_time": "2022-11-19T05:17:39.142741",
     "status": "completed"
    },
    "tags": []
   },
   "outputs": [],
   "source": [
    "DATA_URL = 'https://raw.githubusercontent.com/stiwari-ds/data-science-competitions/main/analytics_vidhya/jobathon_nov22/data'\n",
    "\n",
    "train = pd.read_csv(f'{DATA_URL}/processed/train.csv') #processed datasets from notebook 00\n",
    "train_drop = pd.read_csv(f'{DATA_URL}/processed/train_drop.csv')\n",
    "train_ffill = pd.read_csv(f'{DATA_URL}/processed/train_ffill.csv')\n",
    "train_bfill = pd.read_csv(f'{DATA_URL}/processed/train_bfill.csv')\n",
    "train_linear = pd.read_csv(f'{DATA_URL}/processed/train_linear.csv')\n",
    "train_poly3 = pd.read_csv(f'{DATA_URL}/processed/train_poly3.csv')\n",
    "train_poly5 = pd.read_csv(f'{DATA_URL}/processed/train_poly5.csv')\n",
    "train_iterimp = pd.read_csv(f'{DATA_URL}/processed/train_iterimp.csv')\n",
    "\n",
    "test = pd.read_csv(f'{DATA_URL}/processed/test.csv')\n",
    "sample_sub = pd.read_csv(f'{DATA_URL}/raw/sample_submission.csv')"
   ]
  },
  {
   "cell_type": "code",
   "execution_count": 6,
   "id": "a5f6d983",
   "metadata": {
    "execution": {
     "iopub.execute_input": "2022-11-19T05:17:45.429332Z",
     "iopub.status.busy": "2022-11-19T05:17:45.428425Z",
     "iopub.status.idle": "2022-11-19T05:17:45.433187Z",
     "shell.execute_reply": "2022-11-19T05:17:45.432330Z"
    },
    "id": "KEJQopfVZppB",
    "papermill": {
     "duration": 0.016896,
     "end_time": "2022-11-19T05:17:45.435129",
     "exception": false,
     "start_time": "2022-11-19T05:17:45.418233",
     "status": "completed"
    },
    "tags": []
   },
   "outputs": [],
   "source": [
    "TARGET = 'energy'"
   ]
  },
  {
   "cell_type": "code",
   "execution_count": 7,
   "id": "1613816f",
   "metadata": {
    "execution": {
     "iopub.execute_input": "2022-11-19T05:17:45.454864Z",
     "iopub.status.busy": "2022-11-19T05:17:45.454119Z",
     "iopub.status.idle": "2022-11-19T05:17:45.459559Z",
     "shell.execute_reply": "2022-11-19T05:17:45.458715Z"
    },
    "id": "3zTnF1bvZx-o",
    "papermill": {
     "duration": 0.01744,
     "end_time": "2022-11-19T05:17:45.461544",
     "exception": false,
     "start_time": "2022-11-19T05:17:45.444104",
     "status": "completed"
    },
    "tags": []
   },
   "outputs": [],
   "source": [
    "features = list(test.columns)\n",
    "\n",
    "cat_features_1 = ['quarter', 'dayofweek']\n",
    "cat_features_2 = ['quarter', 'dayofweek', 'month', 'hour']\n",
    "cat_features_3 = ['quarter', 'dayofweek', 'month', 'hour', 'dayofmonth', 'weekofyear']"
   ]
  },
  {
   "cell_type": "markdown",
   "id": "5eaf2919",
   "metadata": {
    "id": "uur7dQEjf6CY",
    "papermill": {
     "duration": 0.009092,
     "end_time": "2022-11-19T05:17:45.479781",
     "exception": false,
     "start_time": "2022-11-19T05:17:45.470689",
     "status": "completed"
    },
    "tags": []
   },
   "source": [
    "# Baseline"
   ]
  },
  {
   "cell_type": "code",
   "execution_count": 8,
   "id": "36e3c143",
   "metadata": {
    "execution": {
     "iopub.execute_input": "2022-11-19T05:17:45.499283Z",
     "iopub.status.busy": "2022-11-19T05:17:45.498533Z",
     "iopub.status.idle": "2022-11-19T05:17:58.396191Z",
     "shell.execute_reply": "2022-11-19T05:17:58.393708Z"
    },
    "id": "XptzMIzqY3QE",
    "outputId": "6d0b4b04-f122-4cde-e98b-a3c03cbf4c2b",
    "papermill": {
     "duration": 12.910634,
     "end_time": "2022-11-19T05:17:58.399414",
     "exception": false,
     "start_time": "2022-11-19T05:17:45.488780",
     "status": "completed"
    },
    "tags": []
   },
   "outputs": [
    {
     "name": "stdout",
     "output_type": "stream",
     "text": [
      "Fold #0: (Data size: train =  8472, test = 8462) RMSE = 162.71702 (19 rounds)\n",
      "Fold #1: (Data size: train = 16934, test = 8462) RMSE = 149.14382 (10 rounds)\n",
      "Fold #2: (Data size: train = 25396, test = 8462) RMSE = 165.26525 (17 rounds)\n",
      "Fold #3: (Data size: train = 33858, test = 8462) RMSE = 176.48886 (27 rounds)\n",
      "Fold #4: (Data size: train = 42320, test = 8462) RMSE = 168.28283 (16 rounds)\n",
      "Fold #5: (Data size: train = 50782, test = 8462) RMSE = 332.18391 (35 rounds)\n",
      "Fold #6: (Data size: train = 59244, test = 8462) RMSE = 227.13640 (14 rounds)\n",
      "Fold #7: (Data size: train = 67706, test = 8462) RMSE = 185.63637 (16 rounds)\n",
      "Fold #8: (Data size: train = 76168, test = 8462) RMSE = 202.32710 (30 rounds)\n",
      "Fold #9: (Data size: train = 84630, test = 8462) RMSE = 203.59508 (23 rounds)\n",
      "Avg. RMSE = 197.27766 +/- 50.10104\n",
      "CPU times: user 11.4 s, sys: 486 ms, total: 11.9 s\n",
      "Wall time: 12.9 s\n"
     ]
    }
   ],
   "source": [
    "%%time\n",
    "scores = []\n",
    "cv = TimeSeriesSplit(n_splits=10)\n",
    "X, y = train_drop[features], train_drop[TARGET]\n",
    "X[cat_features_1] = X[cat_features_1].astype('category')\n",
    "for fold, (train_idx, val_idx) in enumerate(cv.split(X, y)):\n",
    "    X_train, y_train = X.loc[train_idx], y.iloc[train_idx]\n",
    "    X_val, y_val = X.loc[val_idx], y.iloc[val_idx]\n",
    "\n",
    "    model = XGBRegressor(\n",
    "        objective='reg:squarederror',\n",
    "        tree_method='gpu_hist' if HAVE_GPU else 'hist',\n",
    "        enable_categorical=HAVE_GPU,\n",
    "        eval_metric='rmse',\n",
    "        early_stopping_rounds=100, \n",
    "        seed=SEED\n",
    "    ) \n",
    "    model.fit(\n",
    "        X_train, y_train,\n",
    "        eval_set=[(X_val, y_val)],\n",
    "        verbose=0\n",
    "    )\n",
    "    val_preds = model.predict(X_val)\n",
    "    score = mean_squared_error(y_val, val_preds, squared=False)\n",
    "    scores.append(score)\n",
    "    print(f'Fold #{fold}: ' \\\n",
    "          f'(Data size: train = {X_train.shape[0]:>5}, test = {X_val.shape[0]:4})' \\\n",
    "          f' RMSE = {score:.5f} ({model.best_iteration} rounds)')\n",
    "    _ = gc.collect()\n",
    "\n",
    "print(f'Avg. RMSE = {np.mean(scores):.5f} +/- {np.std(scores):.5f}')"
   ]
  },
  {
   "cell_type": "markdown",
   "id": "3a93c4da",
   "metadata": {
    "id": "oVZEqwhQ2oi2",
    "papermill": {
     "duration": 0.009661,
     "end_time": "2022-11-19T05:17:58.420044",
     "exception": false,
     "start_time": "2022-11-19T05:17:58.410383",
     "status": "completed"
    },
    "tags": []
   },
   "source": [
    "# Hyperparameter tuning"
   ]
  },
  {
   "cell_type": "code",
   "execution_count": 9,
   "id": "b4e1ae3c",
   "metadata": {
    "execution": {
     "iopub.execute_input": "2022-11-19T05:17:58.441327Z",
     "iopub.status.busy": "2022-11-19T05:17:58.441035Z",
     "iopub.status.idle": "2022-11-19T05:17:58.451730Z",
     "shell.execute_reply": "2022-11-19T05:17:58.450869Z"
    },
    "id": "i3VeEFRe2oBe",
    "papermill": {
     "duration": 0.023947,
     "end_time": "2022-11-19T05:17:58.454046",
     "exception": false,
     "start_time": "2022-11-19T05:17:58.430099",
     "status": "completed"
    },
    "tags": []
   },
   "outputs": [],
   "source": [
    "def objective(trial, data, cat_features, base_params):\n",
    "\n",
    "    scores = []\n",
    "    X, y = data\n",
    "    X[cat_features] = X[cat_features].astype('category')\n",
    "\n",
    "    param_grid = {\n",
    "        'learning_rate': trial.suggest_float('learning_rate', 0.1, 0.5, step=0.05),\n",
    "        'max_depth': trial.suggest_int('max_depth', 3, 12),\n",
    "        'min_child_weight': trial.suggest_int('min_child_weight', 2, 256),\n",
    "        'gamma': trial.suggest_float('gamma', 0, 20, step=0.1), #complexity-control\n",
    "        'alpha': trial.suggest_float('alpha', 0, 5, step=0.05), #L1-reg\n",
    "        'lambda': trial.suggest_float('lambda', 1e-2, 1e4, log=True), #L2-reg\n",
    "        'subsample': trial.suggest_float('subsample', 0.75, 1.0, step=0.05),\n",
    "        'colsample_bytree': trial.suggest_float('colsample_bytree', 0.75, 1.0, step=0.05),\n",
    "        'colsample_bylevel': trial.suggest_float('colsample_bylevel', 0.75, 1.0, step=0.05),\n",
    "        'colsample_bynode': trial.suggest_float('colsample_bynode', 0.75, 1.0, step=0.05),\n",
    "        'max_cat_to_onehot': trial.suggest_categorical('max_cat_to_onehot', [4, 7, 12]) \n",
    "    }\n",
    "\n",
    "    cv = TimeSeriesSplit(n_splits=10)\n",
    "    for fold, (train_idx, val_idx) in enumerate(cv.split(X, y)):\n",
    "        X_train, y_train = X.loc[train_idx], y.iloc[train_idx]\n",
    "        X_val, y_val = X.loc[val_idx], y.iloc[val_idx]\n",
    "        \n",
    "        model = XGBRegressor(**base_params, **param_grid)\n",
    "        model.fit(\n",
    "            X_train, y_train,\n",
    "            eval_set=[(X_val, y_val)],\n",
    "            verbose=0\n",
    "        )\n",
    "        val_preds = model.predict(X_val)\n",
    "        scores.append(mean_squared_error(y_val, val_preds, squared=False))\n",
    "    return np.mean(scores)"
   ]
  },
  {
   "cell_type": "code",
   "execution_count": 10,
   "id": "30f46ccf",
   "metadata": {
    "execution": {
     "iopub.execute_input": "2022-11-19T05:17:58.474664Z",
     "iopub.status.busy": "2022-11-19T05:17:58.474409Z",
     "iopub.status.idle": "2022-11-19T05:17:58.480631Z",
     "shell.execute_reply": "2022-11-19T05:17:58.479789Z"
    },
    "id": "7JCjxMSuT3Ep",
    "papermill": {
     "duration": 0.018737,
     "end_time": "2022-11-19T05:17:58.482689",
     "exception": false,
     "start_time": "2022-11-19T05:17:58.463952",
     "status": "completed"
    },
    "tags": []
   },
   "outputs": [],
   "source": [
    "def tune_params(data, cat_features, base_params, n_trials, direction):\n",
    "    study = optuna.create_study(\n",
    "        sampler=TPESampler(seed=SEED),\n",
    "        pruner=HyperbandPruner(),\n",
    "        direction=direction\n",
    "    )\n",
    "    study.optimize(\n",
    "        func=lambda trial: objective(trial, data, cat_features, base_params),\n",
    "        n_trials=n_trials,\n",
    "        gc_after_trial=True\n",
    "    )\n",
    "    return study"
   ]
  },
  {
   "cell_type": "markdown",
   "id": "56aac0f2",
   "metadata": {
    "id": "_IdnAvEkjxqS",
    "papermill": {
     "duration": 0.010003,
     "end_time": "2022-11-19T05:17:58.502241",
     "exception": false,
     "start_time": "2022-11-19T05:17:58.492238",
     "status": "completed"
    },
    "tags": []
   },
   "source": [
    "# Cross-validation"
   ]
  },
  {
   "cell_type": "code",
   "execution_count": 11,
   "id": "793397b0",
   "metadata": {
    "execution": {
     "iopub.execute_input": "2022-11-19T05:17:58.524539Z",
     "iopub.status.busy": "2022-11-19T05:17:58.524270Z",
     "iopub.status.idle": "2022-11-19T05:17:58.533777Z",
     "shell.execute_reply": "2022-11-19T05:17:58.532850Z"
    },
    "id": "0UBSsqwvj0I2",
    "papermill": {
     "duration": 0.022918,
     "end_time": "2022-11-19T05:17:58.535998",
     "exception": false,
     "start_time": "2022-11-19T05:17:58.513080",
     "status": "completed"
    },
    "tags": []
   },
   "outputs": [],
   "source": [
    "def cross_validate_predict(data, cat_features, model_params):\n",
    "    test_preds = {} #predictions on test set for each fold\n",
    "    scores = [] #scores on validation set\n",
    "\n",
    "    X, y, X_test = data\n",
    "    X[cat_features] = X[cat_features].astype('category')\n",
    "    X_test[cat_features] = X_test[cat_features].astype('category')\n",
    "       \n",
    "    cv = TimeSeriesSplit(n_splits=10)\n",
    "    for fold, (train_idx, val_idx) in enumerate(cv.split(X, y)):\n",
    "        X_train, y_train = X.loc[train_idx], y.iloc[train_idx]\n",
    "        X_val, y_val = X.loc[val_idx], y.iloc[val_idx]\n",
    "        \n",
    "        model = XGBRegressor(**model_params)\n",
    "        model.fit(\n",
    "            X_train, y_train,\n",
    "            eval_set=[(X_val, y_val)],\n",
    "            verbose=0\n",
    "        )\n",
    "\n",
    "        val_preds = model.predict(X_val)\n",
    "        test_preds[f'fold{fold}'] = model.predict(X_test)\n",
    "\n",
    "        score = mean_squared_error(y_val, val_preds, squared=False)\n",
    "        scores.append(score)\n",
    "        print(f'Fold #{fold}: ' \\\n",
    "              f'(Data size: train = {X_train.shape[0]:>5}, test = {X_val.shape[0]:4})' \\\n",
    "              f' RMSE = {score:.5f} ({model.best_iteration} rounds)')\n",
    "        _ = gc.collect()\n",
    "    \n",
    "    print(f'Avg. RMSE = {np.mean(scores):.5f} +/- {np.std(scores):.5f}')\n",
    "    \n",
    "    test_preds = pd.DataFrame.from_dict(test_preds)\n",
    "    test_preds['mean'] = test_preds.mean(axis=1)\n",
    "\n",
    "    return test_preds"
   ]
  },
  {
   "cell_type": "code",
   "execution_count": 12,
   "id": "ddd81adf",
   "metadata": {
    "execution": {
     "iopub.execute_input": "2022-11-19T05:17:58.556684Z",
     "iopub.status.busy": "2022-11-19T05:17:58.556387Z",
     "iopub.status.idle": "2022-11-19T05:17:58.564354Z",
     "shell.execute_reply": "2022-11-19T05:17:58.563420Z"
    },
    "id": "KkMeqc7EkKx-",
    "papermill": {
     "duration": 0.020666,
     "end_time": "2022-11-19T05:17:58.566364",
     "exception": false,
     "start_time": "2022-11-19T05:17:58.545698",
     "status": "completed"
    },
    "tags": []
   },
   "outputs": [],
   "source": [
    "def run_experiment(data, cat_features, n_trials=5):\n",
    "    \n",
    "    X, y, X_test = data\n",
    "\n",
    "    base_params = {\n",
    "        'objective': 'reg:squarederror',\n",
    "        'n_estimators': 20000,\n",
    "        'booster': 'gbtree',\n",
    "        'eval_metric': 'rmse',\n",
    "        'early_stopping_rounds': 100,\n",
    "        'tree_method': 'gpu_hist' if HAVE_GPU else 'hist',\n",
    "        'predictor': 'gpu_predictor' if HAVE_GPU else 'cpu_predictor',\n",
    "        'enable_categorical': HAVE_GPU,\n",
    "        'verbosity': 1,\n",
    "        'seed': SEED\n",
    "    }\n",
    "    \n",
    "    model = XGBRegressor(**base_params)\n",
    "    \n",
    "    print(f'----------Hyperparameter tuning----------')\n",
    "    start = time.time()\n",
    "    study = tune_params(\n",
    "        data=(X, y),\n",
    "        cat_features=cat_features,\n",
    "        base_params=base_params,\n",
    "        n_trials=n_trials, \n",
    "        direction='minimize' #metric: RMSE -> lower is better\n",
    "    )\n",
    "    end = time.time()\n",
    "    print(f'Best trial: {study.best_trial.number} -> Best value: {study.best_value:.5f}')\n",
    "    print(f'Best hyperparameters:')\n",
    "    for k, v in study.best_params.items():\n",
    "        print(f'{k:15} - {v}')\n",
    "    print(f'[Time taken: {end - start:.2f}s]\\n')\n",
    "    \n",
    "    print(f'-----Cross-validation and prediction-----')\n",
    "    start = time.time()\n",
    "    model_params = {**base_params, **study.best_params}\n",
    "    test_preds = cross_validate_predict(data, cat_features, model_params)\n",
    "    end = time.time()\n",
    "    print(f'[Time taken: {end - start:.2f}s]\\n')\n",
    "\n",
    "    return test_preds"
   ]
  },
  {
   "cell_type": "markdown",
   "id": "69d10741",
   "metadata": {
    "papermill": {
     "duration": 0.009681,
     "end_time": "2022-11-19T05:17:58.585431",
     "exception": false,
     "start_time": "2022-11-19T05:17:58.575750",
     "status": "completed"
    },
    "tags": []
   },
   "source": [
    "**Submission files**"
   ]
  },
  {
   "cell_type": "code",
   "execution_count": 13,
   "id": "1a139f26",
   "metadata": {
    "execution": {
     "iopub.execute_input": "2022-11-19T05:17:58.606879Z",
     "iopub.status.busy": "2022-11-19T05:17:58.605423Z",
     "iopub.status.idle": "2022-11-19T05:17:58.611571Z",
     "shell.execute_reply": "2022-11-19T05:17:58.610724Z"
    },
    "id": "5y6XhjNx8OJT",
    "papermill": {
     "duration": 0.018276,
     "end_time": "2022-11-19T05:17:58.613351",
     "exception": false,
     "start_time": "2022-11-19T05:17:58.595075",
     "status": "completed"
    },
    "tags": []
   },
   "outputs": [],
   "source": [
    "def create_submission_files(test_preds: pd.DataFrame, config: str):\n",
    "    for col in (test_preds.columns):\n",
    "        sub = sample_sub.copy()\n",
    "        sub[TARGET] = test_preds[col]\n",
    "        sub.to_csv(f'{config}_{col}.csv', index=False)"
   ]
  },
  {
   "cell_type": "markdown",
   "id": "50cce869",
   "metadata": {
    "id": "Ri22_Ef0kzB0",
    "papermill": {
     "duration": 0.010125,
     "end_time": "2022-11-19T05:17:58.633698",
     "exception": false,
     "start_time": "2022-11-19T05:17:58.623573",
     "status": "completed"
    },
    "tags": []
   },
   "source": [
    "**Trial runs**"
   ]
  },
  {
   "cell_type": "code",
   "execution_count": 14,
   "id": "e78824b6",
   "metadata": {
    "execution": {
     "iopub.execute_input": "2022-11-19T05:17:58.655274Z",
     "iopub.status.busy": "2022-11-19T05:17:58.654533Z",
     "iopub.status.idle": "2022-11-19T05:17:58.659145Z",
     "shell.execute_reply": "2022-11-19T05:17:58.658264Z"
    },
    "id": "1lWtr5SYk0yu",
    "papermill": {
     "duration": 0.017301,
     "end_time": "2022-11-19T05:17:58.661227",
     "exception": false,
     "start_time": "2022-11-19T05:17:58.643926",
     "status": "completed"
    },
    "tags": []
   },
   "outputs": [],
   "source": [
    "optuna.logging.set_verbosity(optuna.logging.INFO)"
   ]
  },
  {
   "cell_type": "code",
   "execution_count": 15,
   "id": "965e37a5",
   "metadata": {
    "execution": {
     "iopub.execute_input": "2022-11-19T05:17:58.681254Z",
     "iopub.status.busy": "2022-11-19T05:17:58.681002Z",
     "iopub.status.idle": "2022-11-19T05:19:17.824763Z",
     "shell.execute_reply": "2022-11-19T05:19:17.822608Z"
    },
    "id": "QAPuSH6Jk4o8",
    "outputId": "67faae42-c00a-4099-b47c-0b85deb79795",
    "papermill": {
     "duration": 79.156909,
     "end_time": "2022-11-19T05:19:17.827647",
     "exception": false,
     "start_time": "2022-11-19T05:17:58.670738",
     "status": "completed"
    },
    "tags": []
   },
   "outputs": [
    {
     "name": "stderr",
     "output_type": "stream",
     "text": [
      "\u001b[32m[I 2022-11-19 05:17:58,687]\u001b[0m A new study created in memory with name: no-name-2d3512d9-34a2-4653-bb64-629661c6e669\u001b[0m\n"
     ]
    },
    {
     "name": "stdout",
     "output_type": "stream",
     "text": [
      "----------Hyperparameter tuning----------\n"
     ]
    },
    {
     "name": "stderr",
     "output_type": "stream",
     "text": [
      "\u001b[32m[I 2022-11-19 05:18:17,802]\u001b[0m Trial 0 finished with value: 195.78783017865436 and parameters: {'learning_rate': 0.2, 'max_depth': 11, 'min_child_weight': 57, 'gamma': 3.0, 'alpha': 0.25, 'lambda': 177.1345546784436, 'subsample': 0.75, 'colsample_bytree': 0.75, 'colsample_bylevel': 0.95, 'colsample_bynode': 0.9, 'max_cat_to_onehot': 12}. Best is trial 0 with value: 195.78783017865436.\u001b[0m\n",
      "\u001b[32m[I 2022-11-19 05:18:31,112]\u001b[0m Trial 1 finished with value: 200.60882550235922 and parameters: {'learning_rate': 0.45000000000000007, 'max_depth': 12, 'min_child_weight': 148, 'gamma': 2.3000000000000003, 'alpha': 3.35, 'lambda': 1.3459766417243109, 'subsample': 0.9, 'colsample_bytree': 0.9, 'colsample_bylevel': 0.95, 'colsample_bynode': 0.85, 'max_cat_to_onehot': 12}. Best is trial 0 with value: 195.78783017865436.\u001b[0m\n",
      "\u001b[32m[I 2022-11-19 05:18:53,769]\u001b[0m Trial 2 finished with value: 191.05386319982154 and parameters: {'learning_rate': 0.15000000000000002, 'max_depth': 7, 'min_child_weight': 157, 'gamma': 6.0, 'alpha': 3.5500000000000003, 'lambda': 3131.3882809486845, 'subsample': 0.85, 'colsample_bytree': 0.85, 'colsample_bylevel': 1.0, 'colsample_bynode': 0.95, 'max_cat_to_onehot': 4}. Best is trial 2 with value: 191.05386319982154.\u001b[0m\n"
     ]
    },
    {
     "name": "stdout",
     "output_type": "stream",
     "text": [
      "Best trial: 2 -> Best value: 191.05386\n",
      "Best hyperparameters:\n",
      "learning_rate   - 0.15000000000000002\n",
      "max_depth       - 7\n",
      "min_child_weight - 157\n",
      "gamma           - 6.0\n",
      "alpha           - 3.5500000000000003\n",
      "lambda          - 3131.3882809486845\n",
      "subsample       - 0.85\n",
      "colsample_bytree - 0.85\n",
      "colsample_bylevel - 1.0\n",
      "colsample_bynode - 0.95\n",
      "max_cat_to_onehot - 4\n",
      "[Time taken: 55.20s]\n",
      "\n",
      "-----Cross-validation and prediction-----\n",
      "Fold #0: (Data size: train =  8472, test = 8462) RMSE = 155.16923 (348 rounds)\n",
      "Fold #1: (Data size: train = 16934, test = 8462) RMSE = 147.59368 (246 rounds)\n",
      "Fold #2: (Data size: train = 25396, test = 8462) RMSE = 158.18230 (85 rounds)\n",
      "Fold #3: (Data size: train = 33858, test = 8462) RMSE = 179.35086 (250 rounds)\n",
      "Fold #4: (Data size: train = 42320, test = 8462) RMSE = 157.20717 (253 rounds)\n",
      "Fold #5: (Data size: train = 50782, test = 8462) RMSE = 309.73006 (391 rounds)\n",
      "Fold #6: (Data size: train = 59244, test = 8462) RMSE = 218.70306 (98 rounds)\n",
      "Fold #7: (Data size: train = 67706, test = 8462) RMSE = 184.17637 (89 rounds)\n",
      "Fold #8: (Data size: train = 76168, test = 8462) RMSE = 201.54348 (240 rounds)\n",
      "Fold #9: (Data size: train = 84630, test = 8462) RMSE = 198.88242 (161 rounds)\n",
      "Avg. RMSE = 191.05386 +/- 45.39463\n",
      "[Time taken: 23.93s]\n",
      "\n",
      "CPU times: user 1min 21s, sys: 396 ms, total: 1min 21s\n",
      "Wall time: 1min 19s\n"
     ]
    }
   ],
   "source": [
    "%%time\n",
    "tp = run_experiment(\n",
    "    data=(train_drop[features], train_drop[TARGET], test[features]),\n",
    "    cat_features=cat_features_1,\n",
    "    n_trials=3\n",
    ")"
   ]
  },
  {
   "cell_type": "code",
   "execution_count": 16,
   "id": "6c69e069",
   "metadata": {
    "execution": {
     "iopub.execute_input": "2022-11-19T05:19:17.851169Z",
     "iopub.status.busy": "2022-11-19T05:19:17.850875Z",
     "iopub.status.idle": "2022-11-19T05:19:17.855608Z",
     "shell.execute_reply": "2022-11-19T05:19:17.854556Z"
    },
    "id": "j6CPkw2AwBfu",
    "papermill": {
     "duration": 0.018287,
     "end_time": "2022-11-19T05:19:17.857759",
     "exception": false,
     "start_time": "2022-11-19T05:19:17.839472",
     "status": "completed"
    },
    "tags": []
   },
   "outputs": [],
   "source": [
    "optuna.logging.set_verbosity(optuna.logging.ERROR)"
   ]
  },
  {
   "cell_type": "markdown",
   "id": "3e613788",
   "metadata": {
    "id": "d1b8UEwV2mlw",
    "papermill": {
     "duration": 0.010334,
     "end_time": "2022-11-19T05:19:17.878471",
     "exception": false,
     "start_time": "2022-11-19T05:19:17.868137",
     "status": "completed"
    },
    "tags": []
   },
   "source": [
    "### Dataset 1: train_drop"
   ]
  },
  {
   "cell_type": "code",
   "execution_count": 17,
   "id": "4d3b9ce7",
   "metadata": {
    "execution": {
     "iopub.execute_input": "2022-11-19T05:19:17.900455Z",
     "iopub.status.busy": "2022-11-19T05:19:17.900190Z",
     "iopub.status.idle": "2022-11-19T05:34:12.877492Z",
     "shell.execute_reply": "2022-11-19T05:34:12.876456Z"
    },
    "id": "O72SFORuwyH-",
    "outputId": "088884c7-60d6-4471-b7af-33f7f9cf318b",
    "papermill": {
     "duration": 894.992026,
     "end_time": "2022-11-19T05:34:12.880831",
     "exception": false,
     "start_time": "2022-11-19T05:19:17.888805",
     "status": "completed"
    },
    "tags": []
   },
   "outputs": [
    {
     "name": "stdout",
     "output_type": "stream",
     "text": [
      "----------Hyperparameter tuning----------\n",
      "Best trial: 41 -> Best value: 180.82483\n",
      "Best hyperparameters:\n",
      "learning_rate   - 0.2\n",
      "max_depth       - 3\n",
      "min_child_weight - 236\n",
      "gamma           - 4.4\n",
      "alpha           - 3.4000000000000004\n",
      "lambda          - 0.010038563400505355\n",
      "subsample       - 0.95\n",
      "colsample_bytree - 0.85\n",
      "colsample_bylevel - 0.8\n",
      "colsample_bynode - 0.95\n",
      "max_cat_to_onehot - 4\n",
      "[Time taken: 888.27s]\n",
      "\n",
      "-----Cross-validation and prediction-----\n",
      "Fold #0: (Data size: train =  8472, test = 8462) RMSE = 145.37247 (50 rounds)\n",
      "Fold #1: (Data size: train = 16934, test = 8462) RMSE = 151.36063 (16 rounds)\n",
      "Fold #2: (Data size: train = 25396, test = 8462) RMSE = 152.96819 (30 rounds)\n",
      "Fold #3: (Data size: train = 33858, test = 8462) RMSE = 164.82529 (313 rounds)\n",
      "Fold #4: (Data size: train = 42320, test = 8462) RMSE = 151.70146 (79 rounds)\n",
      "Fold #5: (Data size: train = 50782, test = 8462) RMSE = 276.26640 (159 rounds)\n",
      "Fold #6: (Data size: train = 59244, test = 8462) RMSE = 184.61034 (31 rounds)\n",
      "Fold #7: (Data size: train = 67706, test = 8462) RMSE = 178.43726 (55 rounds)\n",
      "Fold #8: (Data size: train = 76168, test = 8462) RMSE = 199.72949 (322 rounds)\n",
      "Fold #9: (Data size: train = 84630, test = 8462) RMSE = 202.97681 (248 rounds)\n",
      "Avg. RMSE = 180.82483 +/- 37.39302\n",
      "[Time taken: 6.70s]\n",
      "\n",
      "CPU times: user 15min 47s, sys: 8.18 s, total: 15min 55s\n",
      "Wall time: 14min 54s\n"
     ]
    }
   ],
   "source": [
    "%%time\n",
    "tp_1_1 = run_experiment(\n",
    "    data=(train_drop[features], train_drop[TARGET], test[features]),\n",
    "    cat_features=cat_features_1,\n",
    "    n_trials=100\n",
    ")"
   ]
  },
  {
   "cell_type": "code",
   "execution_count": 18,
   "id": "0ce4ca9f",
   "metadata": {
    "execution": {
     "iopub.execute_input": "2022-11-19T05:34:12.916343Z",
     "iopub.status.busy": "2022-11-19T05:34:12.916056Z",
     "iopub.status.idle": "2022-11-19T05:51:55.753522Z",
     "shell.execute_reply": "2022-11-19T05:51:55.751312Z"
    },
    "id": "d1lsU-MM3Bfq",
    "outputId": "874b723f-b718-4594-9277-330235afb94a",
    "papermill": {
     "duration": 1062.853494,
     "end_time": "2022-11-19T05:51:55.755783",
     "exception": false,
     "start_time": "2022-11-19T05:34:12.902289",
     "status": "completed"
    },
    "tags": []
   },
   "outputs": [
    {
     "name": "stdout",
     "output_type": "stream",
     "text": [
      "----------Hyperparameter tuning----------\n",
      "Best trial: 88 -> Best value: 181.48380\n",
      "Best hyperparameters:\n",
      "learning_rate   - 0.2\n",
      "max_depth       - 3\n",
      "min_child_weight - 256\n",
      "gamma           - 2.0\n",
      "alpha           - 2.6\n",
      "lambda          - 0.052211555913631455\n",
      "subsample       - 0.8\n",
      "colsample_bytree - 0.95\n",
      "colsample_bylevel - 0.9\n",
      "colsample_bynode - 0.9\n",
      "max_cat_to_onehot - 4\n",
      "[Time taken: 1056.86s]\n",
      "\n",
      "-----Cross-validation and prediction-----\n",
      "Fold #0: (Data size: train =  8472, test = 8462) RMSE = 147.03869 (54 rounds)\n",
      "Fold #1: (Data size: train = 16934, test = 8462) RMSE = 155.57162 (16 rounds)\n",
      "Fold #2: (Data size: train = 25396, test = 8462) RMSE = 149.71451 (41 rounds)\n",
      "Fold #3: (Data size: train = 33858, test = 8462) RMSE = 162.72819 (158 rounds)\n",
      "Fold #4: (Data size: train = 42320, test = 8462) RMSE = 146.75381 (90 rounds)\n",
      "Fold #5: (Data size: train = 50782, test = 8462) RMSE = 263.00072 (235 rounds)\n",
      "Fold #6: (Data size: train = 59244, test = 8462) RMSE = 206.48062 (24 rounds)\n",
      "Fold #7: (Data size: train = 67706, test = 8462) RMSE = 181.87189 (40 rounds)\n",
      "Fold #8: (Data size: train = 76168, test = 8462) RMSE = 201.12295 (177 rounds)\n",
      "Fold #9: (Data size: train = 84630, test = 8462) RMSE = 200.55504 (101 rounds)\n",
      "Avg. RMSE = 181.48380 +/- 35.27683\n",
      "[Time taken: 5.97s]\n",
      "\n",
      "CPU times: user 18min 36s, sys: 8.02 s, total: 18min 44s\n",
      "Wall time: 17min 42s\n"
     ]
    }
   ],
   "source": [
    "%%time\n",
    "tp_1_2 = run_experiment(\n",
    "    data=(train_drop[features], train_drop[TARGET], test[features]),\n",
    "    cat_features=cat_features_2,\n",
    "    n_trials=100\n",
    ")"
   ]
  },
  {
   "cell_type": "code",
   "execution_count": 19,
   "id": "8b493d29",
   "metadata": {
    "execution": {
     "iopub.execute_input": "2022-11-19T05:51:55.781526Z",
     "iopub.status.busy": "2022-11-19T05:51:55.780973Z",
     "iopub.status.idle": "2022-11-19T06:13:25.432292Z",
     "shell.execute_reply": "2022-11-19T06:13:25.430095Z"
    },
    "id": "jvNifG793CXO",
    "outputId": "305c6577-58dc-4028-b3ae-3a2bb9d73ac3",
    "papermill": {
     "duration": 1289.667044,
     "end_time": "2022-11-19T06:13:25.435177",
     "exception": false,
     "start_time": "2022-11-19T05:51:55.768133",
     "status": "completed"
    },
    "tags": []
   },
   "outputs": [
    {
     "name": "stdout",
     "output_type": "stream",
     "text": [
      "----------Hyperparameter tuning----------\n",
      "Best trial: 83 -> Best value: 183.14384\n",
      "Best hyperparameters:\n",
      "learning_rate   - 0.2\n",
      "max_depth       - 3\n",
      "min_child_weight - 255\n",
      "gamma           - 19.700000000000003\n",
      "alpha           - 1.9500000000000002\n",
      "lambda          - 0.18167571986081854\n",
      "subsample       - 0.75\n",
      "colsample_bytree - 0.85\n",
      "colsample_bylevel - 0.85\n",
      "colsample_bynode - 0.85\n",
      "max_cat_to_onehot - 7\n",
      "[Time taken: 1283.12s]\n",
      "\n",
      "-----Cross-validation and prediction-----\n",
      "Fold #0: (Data size: train =  8472, test = 8462) RMSE = 136.53887 (50 rounds)\n",
      "Fold #1: (Data size: train = 16934, test = 8462) RMSE = 149.35229 (25 rounds)\n",
      "Fold #2: (Data size: train = 25396, test = 8462) RMSE = 150.10780 (34 rounds)\n",
      "Fold #3: (Data size: train = 33858, test = 8462) RMSE = 171.56640 (119 rounds)\n",
      "Fold #4: (Data size: train = 42320, test = 8462) RMSE = 151.15926 (97 rounds)\n",
      "Fold #5: (Data size: train = 50782, test = 8462) RMSE = 279.97502 (335 rounds)\n",
      "Fold #6: (Data size: train = 59244, test = 8462) RMSE = 199.00130 (27 rounds)\n",
      "Fold #7: (Data size: train = 67706, test = 8462) RMSE = 180.28260 (41 rounds)\n",
      "Fold #8: (Data size: train = 76168, test = 8462) RMSE = 208.83498 (121 rounds)\n",
      "Fold #9: (Data size: train = 84630, test = 8462) RMSE = 204.61983 (107 rounds)\n",
      "Avg. RMSE = 183.14384 +/- 40.39740\n",
      "[Time taken: 6.52s]\n",
      "\n",
      "CPU times: user 22min 24s, sys: 7.95 s, total: 22min 32s\n",
      "Wall time: 21min 29s\n"
     ]
    }
   ],
   "source": [
    "%%time\n",
    "tp_1_3 = run_experiment(\n",
    "    data=(train_drop[features], train_drop[TARGET], test[features]),\n",
    "    cat_features=cat_features_3,\n",
    "    n_trials=100\n",
    ")"
   ]
  },
  {
   "cell_type": "code",
   "execution_count": 20,
   "id": "e3849861",
   "metadata": {
    "execution": {
     "iopub.execute_input": "2022-11-19T06:13:25.462194Z",
     "iopub.status.busy": "2022-11-19T06:13:25.461432Z",
     "iopub.status.idle": "2022-11-19T06:13:26.951382Z",
     "shell.execute_reply": "2022-11-19T06:13:26.950365Z"
    },
    "id": "Ii5dHRpk8Rve",
    "papermill": {
     "duration": 1.505727,
     "end_time": "2022-11-19T06:13:26.953942",
     "exception": false,
     "start_time": "2022-11-19T06:13:25.448215",
     "status": "completed"
    },
    "tags": []
   },
   "outputs": [],
   "source": [
    "create_submission_files(tp_1_1, '1_1')\n",
    "create_submission_files(tp_1_2, '1_2')\n",
    "create_submission_files(tp_1_3, '1_3')"
   ]
  },
  {
   "cell_type": "markdown",
   "id": "ecb675cd",
   "metadata": {
    "id": "S1Q2z48k3LRa",
    "papermill": {
     "duration": 0.012192,
     "end_time": "2022-11-19T06:13:26.979154",
     "exception": false,
     "start_time": "2022-11-19T06:13:26.966962",
     "status": "completed"
    },
    "tags": []
   },
   "source": [
    "### Dataset 2: train_ffill"
   ]
  },
  {
   "cell_type": "code",
   "execution_count": 21,
   "id": "997cc35a",
   "metadata": {
    "execution": {
     "iopub.execute_input": "2022-11-19T06:13:27.004280Z",
     "iopub.status.busy": "2022-11-19T06:13:27.003975Z",
     "iopub.status.idle": "2022-11-19T06:27:24.206761Z",
     "shell.execute_reply": "2022-11-19T06:27:24.204976Z"
    },
    "id": "_rOhcASV3LRb",
    "outputId": "0cd01c77-c9c1-4b37-807c-70632f5b8754",
    "papermill": {
     "duration": 837.217884,
     "end_time": "2022-11-19T06:27:24.208956",
     "exception": false,
     "start_time": "2022-11-19T06:13:26.991072",
     "status": "completed"
    },
    "tags": []
   },
   "outputs": [
    {
     "name": "stdout",
     "output_type": "stream",
     "text": [
      "----------Hyperparameter tuning----------\n",
      "Best trial: 99 -> Best value: 182.84446\n",
      "Best hyperparameters:\n",
      "learning_rate   - 0.2\n",
      "max_depth       - 3\n",
      "min_child_weight - 209\n",
      "gamma           - 5.2\n",
      "alpha           - 3.0\n",
      "lambda          - 0.04587935317552276\n",
      "subsample       - 0.95\n",
      "colsample_bytree - 0.9\n",
      "colsample_bylevel - 1.0\n",
      "colsample_bynode - 0.9\n",
      "max_cat_to_onehot - 4\n",
      "[Time taken: 831.00s]\n",
      "\n",
      "-----Cross-validation and prediction-----\n",
      "Fold #0: (Data size: train =  8642, test = 8635) RMSE = 149.49857 (44 rounds)\n",
      "Fold #1: (Data size: train = 17277, test = 8635) RMSE = 153.73984 (21 rounds)\n",
      "Fold #2: (Data size: train = 25912, test = 8635) RMSE = 153.81181 (35 rounds)\n",
      "Fold #3: (Data size: train = 34547, test = 8635) RMSE = 157.98132 (255 rounds)\n",
      "Fold #4: (Data size: train = 43182, test = 8635) RMSE = 152.67486 (60 rounds)\n",
      "Fold #5: (Data size: train = 51817, test = 8635) RMSE = 280.94161 (164 rounds)\n",
      "Fold #6: (Data size: train = 60452, test = 8635) RMSE = 181.91048 (30 rounds)\n",
      "Fold #7: (Data size: train = 69087, test = 8635) RMSE = 180.72091 (59 rounds)\n",
      "Fold #8: (Data size: train = 77722, test = 8635) RMSE = 212.95411 (200 rounds)\n",
      "Fold #9: (Data size: train = 86357, test = 8635) RMSE = 204.21109 (148 rounds)\n",
      "Avg. RMSE = 182.84446 +/- 39.14315\n",
      "[Time taken: 6.20s]\n",
      "\n",
      "CPU times: user 14min 50s, sys: 7.6 s, total: 14min 57s\n",
      "Wall time: 13min 57s\n"
     ]
    }
   ],
   "source": [
    "%%time\n",
    "tp_2_1 = run_experiment(\n",
    "    data=(train_ffill[features], train_ffill[TARGET], test[features]),\n",
    "    cat_features=cat_features_1,\n",
    "    n_trials=100\n",
    ")"
   ]
  },
  {
   "cell_type": "code",
   "execution_count": 22,
   "id": "9bfbee15",
   "metadata": {
    "execution": {
     "iopub.execute_input": "2022-11-19T06:27:24.237285Z",
     "iopub.status.busy": "2022-11-19T06:27:24.236258Z",
     "iopub.status.idle": "2022-11-19T06:45:47.066264Z",
     "shell.execute_reply": "2022-11-19T06:45:47.065245Z"
    },
    "id": "htDBpKGi3LRb",
    "outputId": "a37f86a1-28a3-4ffc-862a-bc32cbfa4256",
    "papermill": {
     "duration": 1102.846916,
     "end_time": "2022-11-19T06:45:47.068878",
     "exception": false,
     "start_time": "2022-11-19T06:27:24.221962",
     "status": "completed"
    },
    "tags": []
   },
   "outputs": [
    {
     "name": "stdout",
     "output_type": "stream",
     "text": [
      "----------Hyperparameter tuning----------\n",
      "Best trial: 91 -> Best value: 181.37630\n",
      "Best hyperparameters:\n",
      "learning_rate   - 0.15000000000000002\n",
      "max_depth       - 3\n",
      "min_child_weight - 241\n",
      "gamma           - 17.8\n",
      "alpha           - 4.45\n",
      "lambda          - 0.06395872229902426\n",
      "subsample       - 0.9\n",
      "colsample_bytree - 0.9\n",
      "colsample_bylevel - 0.85\n",
      "colsample_bynode - 0.8\n",
      "max_cat_to_onehot - 4\n",
      "[Time taken: 1095.59s]\n",
      "\n",
      "-----Cross-validation and prediction-----\n",
      "Fold #0: (Data size: train =  8642, test = 8635) RMSE = 151.37181 (48 rounds)\n",
      "Fold #1: (Data size: train = 17277, test = 8635) RMSE = 156.20781 (25 rounds)\n",
      "Fold #2: (Data size: train = 25912, test = 8635) RMSE = 148.28728 (45 rounds)\n",
      "Fold #3: (Data size: train = 34547, test = 8635) RMSE = 159.05417 (284 rounds)\n",
      "Fold #4: (Data size: train = 43182, test = 8635) RMSE = 147.95721 (115 rounds)\n",
      "Fold #5: (Data size: train = 51817, test = 8635) RMSE = 276.91299 (239 rounds)\n",
      "Fold #6: (Data size: train = 60452, test = 8635) RMSE = 191.74464 (29 rounds)\n",
      "Fold #7: (Data size: train = 69087, test = 8635) RMSE = 182.73065 (57 rounds)\n",
      "Fold #8: (Data size: train = 77722, test = 8635) RMSE = 200.70727 (378 rounds)\n",
      "Fold #9: (Data size: train = 86357, test = 8635) RMSE = 198.78922 (251 rounds)\n",
      "Avg. RMSE = 181.37630 +/- 37.62607\n",
      "[Time taken: 7.23s]\n",
      "\n",
      "CPU times: user 19min 16s, sys: 8.04 s, total: 19min 24s\n",
      "Wall time: 18min 22s\n"
     ]
    }
   ],
   "source": [
    "%%time\n",
    "tp_2_2 = run_experiment(\n",
    "    data=(train_ffill[features], train_ffill[TARGET], test[features]),\n",
    "    cat_features=cat_features_2,\n",
    "    n_trials=100\n",
    ")"
   ]
  },
  {
   "cell_type": "code",
   "execution_count": 23,
   "id": "fb11a360",
   "metadata": {
    "execution": {
     "iopub.execute_input": "2022-11-19T06:45:47.098584Z",
     "iopub.status.busy": "2022-11-19T06:45:47.097889Z",
     "iopub.status.idle": "2022-11-19T07:07:10.600669Z",
     "shell.execute_reply": "2022-11-19T07:07:10.599409Z"
    },
    "id": "EsSTJa0D3LRc",
    "outputId": "d5561408-37c7-4901-b2b8-f75cb8ec5c67",
    "papermill": {
     "duration": 1283.520667,
     "end_time": "2022-11-19T07:07:10.603556",
     "exception": false,
     "start_time": "2022-11-19T06:45:47.082889",
     "status": "completed"
    },
    "tags": []
   },
   "outputs": [
    {
     "name": "stdout",
     "output_type": "stream",
     "text": [
      "----------Hyperparameter tuning----------\n",
      "Best trial: 87 -> Best value: 183.07864\n",
      "Best hyperparameters:\n",
      "learning_rate   - 0.2\n",
      "max_depth       - 3\n",
      "min_child_weight - 239\n",
      "gamma           - 9.0\n",
      "alpha           - 5.0\n",
      "lambda          - 0.9345649158392516\n",
      "subsample       - 0.75\n",
      "colsample_bytree - 0.85\n",
      "colsample_bylevel - 0.75\n",
      "colsample_bynode - 1.0\n",
      "max_cat_to_onehot - 7\n",
      "[Time taken: 1277.01s]\n",
      "\n",
      "-----Cross-validation and prediction-----\n",
      "Fold #0: (Data size: train =  8642, test = 8635) RMSE = 135.06189 (41 rounds)\n",
      "Fold #1: (Data size: train = 17277, test = 8635) RMSE = 154.61332 (17 rounds)\n",
      "Fold #2: (Data size: train = 25912, test = 8635) RMSE = 153.58767 (26 rounds)\n",
      "Fold #3: (Data size: train = 34547, test = 8635) RMSE = 175.99744 (193 rounds)\n",
      "Fold #4: (Data size: train = 43182, test = 8635) RMSE = 155.66210 (76 rounds)\n",
      "Fold #5: (Data size: train = 51817, test = 8635) RMSE = 278.22915 (365 rounds)\n",
      "Fold #6: (Data size: train = 60452, test = 8635) RMSE = 186.54346 (25 rounds)\n",
      "Fold #7: (Data size: train = 69087, test = 8635) RMSE = 179.41475 (50 rounds)\n",
      "Fold #8: (Data size: train = 77722, test = 8635) RMSE = 209.44148 (244 rounds)\n",
      "Fold #9: (Data size: train = 86357, test = 8635) RMSE = 202.23514 (77 rounds)\n",
      "Avg. RMSE = 183.07864 +/- 38.63733\n",
      "[Time taken: 6.49s]\n",
      "\n",
      "CPU times: user 22min 17s, sys: 7.89 s, total: 22min 25s\n",
      "Wall time: 21min 23s\n"
     ]
    }
   ],
   "source": [
    "%%time\n",
    "tp_2_3 = run_experiment(\n",
    "    data=(train_ffill[features], train_ffill[TARGET], test[features]),\n",
    "    cat_features=cat_features_3,\n",
    "    n_trials=100\n",
    ")"
   ]
  },
  {
   "cell_type": "code",
   "execution_count": 24,
   "id": "051d6f9d",
   "metadata": {
    "execution": {
     "iopub.execute_input": "2022-11-19T07:07:10.634178Z",
     "iopub.status.busy": "2022-11-19T07:07:10.633878Z",
     "iopub.status.idle": "2022-11-19T07:07:11.851283Z",
     "shell.execute_reply": "2022-11-19T07:07:11.850324Z"
    },
    "id": "2x7orA-c46q_",
    "papermill": {
     "duration": 1.234812,
     "end_time": "2022-11-19T07:07:11.853584",
     "exception": false,
     "start_time": "2022-11-19T07:07:10.618772",
     "status": "completed"
    },
    "tags": []
   },
   "outputs": [],
   "source": [
    "create_submission_files(tp_2_1, '2_1')\n",
    "create_submission_files(tp_2_2, '2_2')\n",
    "create_submission_files(tp_2_3, '2_3')"
   ]
  },
  {
   "cell_type": "markdown",
   "id": "dc2faaa6",
   "metadata": {
    "id": "5TDaZNBr3ing",
    "papermill": {
     "duration": 0.014145,
     "end_time": "2022-11-19T07:07:11.882265",
     "exception": false,
     "start_time": "2022-11-19T07:07:11.868120",
     "status": "completed"
    },
    "tags": []
   },
   "source": [
    "### Dataset 3: train_bfill"
   ]
  },
  {
   "cell_type": "code",
   "execution_count": 25,
   "id": "139cc15c",
   "metadata": {
    "execution": {
     "iopub.execute_input": "2022-11-19T07:07:11.911574Z",
     "iopub.status.busy": "2022-11-19T07:07:11.911280Z",
     "iopub.status.idle": "2022-11-19T07:23:39.729908Z",
     "shell.execute_reply": "2022-11-19T07:23:39.728962Z"
    },
    "id": "tmeHJnmt3inh",
    "outputId": "987f5cc6-6140-47e4-b2b1-06b4937b6729",
    "papermill": {
     "duration": 987.835945,
     "end_time": "2022-11-19T07:23:39.732440",
     "exception": false,
     "start_time": "2022-11-19T07:07:11.896495",
     "status": "completed"
    },
    "tags": []
   },
   "outputs": [
    {
     "name": "stdout",
     "output_type": "stream",
     "text": [
      "----------Hyperparameter tuning----------\n",
      "Best trial: 94 -> Best value: 182.79927\n",
      "Best hyperparameters:\n",
      "learning_rate   - 0.2\n",
      "max_depth       - 3\n",
      "min_child_weight - 15\n",
      "gamma           - 1.3\n",
      "alpha           - 4.8500000000000005\n",
      "lambda          - 2.2381124974760804\n",
      "subsample       - 0.85\n",
      "colsample_bytree - 0.95\n",
      "colsample_bylevel - 0.85\n",
      "colsample_bynode - 1.0\n",
      "max_cat_to_onehot - 4\n",
      "[Time taken: 981.85s]\n",
      "\n",
      "-----Cross-validation and prediction-----\n",
      "Fold #0: (Data size: train =  8642, test = 8635) RMSE = 156.50045 (39 rounds)\n",
      "Fold #1: (Data size: train = 17277, test = 8635) RMSE = 155.68745 (22 rounds)\n",
      "Fold #2: (Data size: train = 25912, test = 8635) RMSE = 157.18357 (40 rounds)\n",
      "Fold #3: (Data size: train = 34547, test = 8635) RMSE = 165.42386 (175 rounds)\n",
      "Fold #4: (Data size: train = 43182, test = 8635) RMSE = 154.86009 (97 rounds)\n",
      "Fold #5: (Data size: train = 51817, test = 8635) RMSE = 277.20765 (144 rounds)\n",
      "Fold #6: (Data size: train = 60452, test = 8635) RMSE = 179.35359 (26 rounds)\n",
      "Fold #7: (Data size: train = 69087, test = 8635) RMSE = 180.96979 (62 rounds)\n",
      "Fold #8: (Data size: train = 77722, test = 8635) RMSE = 194.50935 (270 rounds)\n",
      "Fold #9: (Data size: train = 86357, test = 8635) RMSE = 206.29691 (157 rounds)\n",
      "Avg. RMSE = 182.79927 +/- 35.75300\n",
      "[Time taken: 5.96s]\n",
      "\n",
      "CPU times: user 17min 20s, sys: 7.61 s, total: 17min 28s\n",
      "Wall time: 16min 27s\n"
     ]
    }
   ],
   "source": [
    "%%time\n",
    "tp_3_1 = run_experiment(\n",
    "    data=(train_bfill[features], train_bfill[TARGET], test[features]),\n",
    "    cat_features=cat_features_1,\n",
    "    n_trials=100\n",
    ")"
   ]
  },
  {
   "cell_type": "code",
   "execution_count": 26,
   "id": "27e51d61",
   "metadata": {
    "execution": {
     "iopub.execute_input": "2022-11-19T07:23:39.778227Z",
     "iopub.status.busy": "2022-11-19T07:23:39.777773Z",
     "iopub.status.idle": "2022-11-19T07:42:51.021080Z",
     "shell.execute_reply": "2022-11-19T07:42:51.019866Z"
    },
    "id": "9YIW3YzS3inh",
    "outputId": "9b944842-6dd1-43ae-eea0-f84796349f29",
    "papermill": {
     "duration": 1151.26881,
     "end_time": "2022-11-19T07:42:51.023980",
     "exception": false,
     "start_time": "2022-11-19T07:23:39.755170",
     "status": "completed"
    },
    "tags": []
   },
   "outputs": [
    {
     "name": "stdout",
     "output_type": "stream",
     "text": [
      "----------Hyperparameter tuning----------\n",
      "Best trial: 80 -> Best value: 182.66172\n",
      "Best hyperparameters:\n",
      "learning_rate   - 0.15000000000000002\n",
      "max_depth       - 4\n",
      "min_child_weight - 214\n",
      "gamma           - 19.0\n",
      "alpha           - 3.85\n",
      "lambda          - 0.1048582995497879\n",
      "subsample       - 0.8\n",
      "colsample_bytree - 0.8\n",
      "colsample_bylevel - 0.75\n",
      "colsample_bynode - 0.75\n",
      "max_cat_to_onehot - 4\n",
      "[Time taken: 1143.02s]\n",
      "\n",
      "-----Cross-validation and prediction-----\n",
      "Fold #0: (Data size: train =  8642, test = 8635) RMSE = 149.97273 (49 rounds)\n",
      "Fold #1: (Data size: train = 17277, test = 8635) RMSE = 155.75569 (20 rounds)\n",
      "Fold #2: (Data size: train = 25912, test = 8635) RMSE = 147.60262 (38 rounds)\n",
      "Fold #3: (Data size: train = 34547, test = 8635) RMSE = 162.59706 (225 rounds)\n",
      "Fold #4: (Data size: train = 43182, test = 8635) RMSE = 148.77962 (93 rounds)\n",
      "Fold #5: (Data size: train = 51817, test = 8635) RMSE = 291.77645 (215 rounds)\n",
      "Fold #6: (Data size: train = 60452, test = 8635) RMSE = 188.00260 (28 rounds)\n",
      "Fold #7: (Data size: train = 69087, test = 8635) RMSE = 177.55744 (67 rounds)\n",
      "Fold #8: (Data size: train = 77722, test = 8635) RMSE = 202.58711 (163 rounds)\n",
      "Fold #9: (Data size: train = 86357, test = 8635) RMSE = 201.98591 (85 rounds)\n",
      "Avg. RMSE = 182.66172 +/- 41.59721\n",
      "[Time taken: 8.21s]\n",
      "\n",
      "CPU times: user 20min 4s, sys: 7.61 s, total: 20min 11s\n",
      "Wall time: 19min 11s\n"
     ]
    }
   ],
   "source": [
    "%%time\n",
    "tp_3_2 = run_experiment(\n",
    "    data=(train_bfill[features], train_bfill[TARGET], test[features]),\n",
    "    cat_features=cat_features_2,\n",
    "    n_trials=100\n",
    ")"
   ]
  },
  {
   "cell_type": "code",
   "execution_count": 27,
   "id": "b8be122c",
   "metadata": {
    "execution": {
     "iopub.execute_input": "2022-11-19T07:42:51.056929Z",
     "iopub.status.busy": "2022-11-19T07:42:51.056623Z",
     "iopub.status.idle": "2022-11-19T08:02:47.513320Z",
     "shell.execute_reply": "2022-11-19T08:02:47.512323Z"
    },
    "id": "UqQlyyfZ3ini",
    "papermill": {
     "duration": 1196.475768,
     "end_time": "2022-11-19T08:02:47.516110",
     "exception": false,
     "start_time": "2022-11-19T07:42:51.040342",
     "status": "completed"
    },
    "tags": []
   },
   "outputs": [
    {
     "name": "stdout",
     "output_type": "stream",
     "text": [
      "----------Hyperparameter tuning----------\n",
      "Best trial: 97 -> Best value: 183.56230\n",
      "Best hyperparameters:\n",
      "learning_rate   - 0.1\n",
      "max_depth       - 3\n",
      "min_child_weight - 205\n",
      "gamma           - 9.200000000000001\n",
      "alpha           - 1.55\n",
      "lambda          - 0.20452161396044213\n",
      "subsample       - 0.9\n",
      "colsample_bytree - 0.85\n",
      "colsample_bylevel - 0.85\n",
      "colsample_bynode - 0.9\n",
      "max_cat_to_onehot - 4\n",
      "[Time taken: 1188.98s]\n",
      "\n",
      "-----Cross-validation and prediction-----\n",
      "Fold #0: (Data size: train =  8642, test = 8635) RMSE = 136.78337 (70 rounds)\n",
      "Fold #1: (Data size: train = 17277, test = 8635) RMSE = 151.31620 (38 rounds)\n",
      "Fold #2: (Data size: train = 25912, test = 8635) RMSE = 150.66626 (51 rounds)\n",
      "Fold #3: (Data size: train = 34547, test = 8635) RMSE = 174.06109 (261 rounds)\n",
      "Fold #4: (Data size: train = 43182, test = 8635) RMSE = 148.59353 (143 rounds)\n",
      "Fold #5: (Data size: train = 51817, test = 8635) RMSE = 289.22180 (561 rounds)\n",
      "Fold #6: (Data size: train = 60452, test = 8635) RMSE = 193.57316 (46 rounds)\n",
      "Fold #7: (Data size: train = 69087, test = 8635) RMSE = 178.85044 (99 rounds)\n",
      "Fold #8: (Data size: train = 77722, test = 8635) RMSE = 211.24612 (133 rounds)\n",
      "Fold #9: (Data size: train = 86357, test = 8635) RMSE = 201.31097 (137 rounds)\n",
      "Avg. RMSE = 183.56230 +/- 42.41589\n",
      "[Time taken: 7.46s]\n",
      "\n",
      "CPU times: user 20min 51s, sys: 7.43 s, total: 20min 59s\n",
      "Wall time: 19min 56s\n"
     ]
    }
   ],
   "source": [
    "%%time\n",
    "tp_3_3 = run_experiment(\n",
    "    data=(train_bfill[features], train_bfill[TARGET], test[features]),\n",
    "    cat_features=cat_features_3,\n",
    "    n_trials=100\n",
    ")"
   ]
  },
  {
   "cell_type": "code",
   "execution_count": 28,
   "id": "73dfcd4f",
   "metadata": {
    "execution": {
     "iopub.execute_input": "2022-11-19T08:02:47.551808Z",
     "iopub.status.busy": "2022-11-19T08:02:47.550148Z",
     "iopub.status.idle": "2022-11-19T08:02:48.868256Z",
     "shell.execute_reply": "2022-11-19T08:02:48.867271Z"
    },
    "id": "qYDZjVeX47iJ",
    "papermill": {
     "duration": 1.337617,
     "end_time": "2022-11-19T08:02:48.870592",
     "exception": false,
     "start_time": "2022-11-19T08:02:47.532975",
     "status": "completed"
    },
    "tags": []
   },
   "outputs": [],
   "source": [
    "create_submission_files(tp_3_1, '3_1')\n",
    "create_submission_files(tp_3_2, '3_2')\n",
    "create_submission_files(tp_3_3, '3_3')"
   ]
  },
  {
   "cell_type": "markdown",
   "id": "bd57555d",
   "metadata": {
    "id": "W18uPeG13inj",
    "papermill": {
     "duration": 0.015754,
     "end_time": "2022-11-19T08:02:48.903189",
     "exception": false,
     "start_time": "2022-11-19T08:02:48.887435",
     "status": "completed"
    },
    "tags": []
   },
   "source": [
    "### Dataset 4: train_linear"
   ]
  },
  {
   "cell_type": "code",
   "execution_count": 29,
   "id": "d66da317",
   "metadata": {
    "execution": {
     "iopub.execute_input": "2022-11-19T08:02:48.936940Z",
     "iopub.status.busy": "2022-11-19T08:02:48.936079Z",
     "iopub.status.idle": "2022-11-19T08:19:44.111244Z",
     "shell.execute_reply": "2022-11-19T08:19:44.109611Z"
    },
    "id": "aEtFs-j83inj",
    "outputId": "b1079329-e9ef-4904-a418-bbf6a4adc132",
    "papermill": {
     "duration": 1015.194134,
     "end_time": "2022-11-19T08:19:44.113354",
     "exception": false,
     "start_time": "2022-11-19T08:02:48.919220",
     "status": "completed"
    },
    "tags": []
   },
   "outputs": [
    {
     "name": "stdout",
     "output_type": "stream",
     "text": [
      "----------Hyperparameter tuning----------\n",
      "Best trial: 96 -> Best value: 183.28997\n",
      "Best hyperparameters:\n",
      "learning_rate   - 0.1\n",
      "max_depth       - 3\n",
      "min_child_weight - 12\n",
      "gamma           - 18.7\n",
      "alpha           - 2.85\n",
      "lambda          - 0.7041541403292714\n",
      "subsample       - 0.75\n",
      "colsample_bytree - 0.8\n",
      "colsample_bylevel - 0.8\n",
      "colsample_bynode - 0.9\n",
      "max_cat_to_onehot - 4\n",
      "[Time taken: 1005.88s]\n",
      "\n",
      "-----Cross-validation and prediction-----\n",
      "Fold #0: (Data size: train =  8642, test = 8635) RMSE = 145.10162 (84 rounds)\n",
      "Fold #1: (Data size: train = 17277, test = 8635) RMSE = 152.57850 (39 rounds)\n",
      "Fold #2: (Data size: train = 25912, test = 8635) RMSE = 150.13628 (101 rounds)\n",
      "Fold #3: (Data size: train = 34547, test = 8635) RMSE = 164.75381 (402 rounds)\n",
      "Fold #4: (Data size: train = 43182, test = 8635) RMSE = 152.15575 (213 rounds)\n",
      "Fold #5: (Data size: train = 51817, test = 8635) RMSE = 298.74851 (428 rounds)\n",
      "Fold #6: (Data size: train = 60452, test = 8635) RMSE = 198.00055 (54 rounds)\n",
      "Fold #7: (Data size: train = 69087, test = 8635) RMSE = 178.17131 (129 rounds)\n",
      "Fold #8: (Data size: train = 77722, test = 8635) RMSE = 192.78433 (799 rounds)\n",
      "Fold #9: (Data size: train = 86357, test = 8635) RMSE = 200.46908 (300 rounds)\n",
      "Avg. RMSE = 183.28997 +/- 43.32688\n",
      "[Time taken: 9.29s]\n",
      "\n",
      "CPU times: user 17min 48s, sys: 7.3 s, total: 17min 55s\n",
      "Wall time: 16min 55s\n"
     ]
    }
   ],
   "source": [
    "%%time\n",
    "tp_4_1 = run_experiment(\n",
    "    data=(train_linear[features], train_linear[TARGET], test[features]),\n",
    "    cat_features=cat_features_1,\n",
    "    n_trials=100\n",
    ")"
   ]
  },
  {
   "cell_type": "code",
   "execution_count": 30,
   "id": "9f85475d",
   "metadata": {
    "execution": {
     "iopub.execute_input": "2022-11-19T08:19:44.148284Z",
     "iopub.status.busy": "2022-11-19T08:19:44.148007Z",
     "iopub.status.idle": "2022-11-19T08:37:47.323272Z",
     "shell.execute_reply": "2022-11-19T08:37:47.321839Z"
    },
    "id": "oD4VBOXk3inj",
    "papermill": {
     "duration": 1083.195805,
     "end_time": "2022-11-19T08:37:47.326212",
     "exception": false,
     "start_time": "2022-11-19T08:19:44.130407",
     "status": "completed"
    },
    "tags": []
   },
   "outputs": [
    {
     "name": "stdout",
     "output_type": "stream",
     "text": [
      "----------Hyperparameter tuning----------\n",
      "Best trial: 36 -> Best value: 180.47819\n",
      "Best hyperparameters:\n",
      "learning_rate   - 0.15000000000000002\n",
      "max_depth       - 3\n",
      "min_child_weight - 239\n",
      "gamma           - 14.4\n",
      "alpha           - 3.5500000000000003\n",
      "lambda          - 0.011325915331149764\n",
      "subsample       - 0.9\n",
      "colsample_bytree - 0.85\n",
      "colsample_bylevel - 0.9\n",
      "colsample_bynode - 0.95\n",
      "max_cat_to_onehot - 4\n",
      "[Time taken: 1075.87s]\n",
      "\n",
      "-----Cross-validation and prediction-----\n",
      "Fold #0: (Data size: train =  8642, test = 8635) RMSE = 146.17872 (47 rounds)\n",
      "Fold #1: (Data size: train = 17277, test = 8635) RMSE = 154.37345 (22 rounds)\n",
      "Fold #2: (Data size: train = 25912, test = 8635) RMSE = 150.69021 (45 rounds)\n",
      "Fold #3: (Data size: train = 34547, test = 8635) RMSE = 158.10051 (371 rounds)\n",
      "Fold #4: (Data size: train = 43182, test = 8635) RMSE = 150.99174 (102 rounds)\n",
      "Fold #5: (Data size: train = 51817, test = 8635) RMSE = 278.30587 (257 rounds)\n",
      "Fold #6: (Data size: train = 60452, test = 8635) RMSE = 185.75418 (27 rounds)\n",
      "Fold #7: (Data size: train = 69087, test = 8635) RMSE = 180.53697 (52 rounds)\n",
      "Fold #8: (Data size: train = 77722, test = 8635) RMSE = 201.14142 (274 rounds)\n",
      "Fold #9: (Data size: train = 86357, test = 8635) RMSE = 198.70887 (156 rounds)\n",
      "Avg. RMSE = 180.47819 +/- 38.04322\n",
      "[Time taken: 7.29s]\n",
      "\n",
      "CPU times: user 18min 56s, sys: 7.35 s, total: 19min 4s\n",
      "Wall time: 18min 3s\n"
     ]
    }
   ],
   "source": [
    "%%time\n",
    "tp_4_2 = run_experiment(\n",
    "    data=(train_linear[features], train_linear[TARGET], test[features]),\n",
    "    cat_features=cat_features_2,\n",
    "    n_trials=100\n",
    ")"
   ]
  },
  {
   "cell_type": "code",
   "execution_count": 31,
   "id": "7d3a7327",
   "metadata": {
    "execution": {
     "iopub.execute_input": "2022-11-19T08:37:47.363681Z",
     "iopub.status.busy": "2022-11-19T08:37:47.363400Z",
     "iopub.status.idle": "2022-11-19T08:58:30.364184Z",
     "shell.execute_reply": "2022-11-19T08:58:30.362487Z"
    },
    "id": "zCTF25rk3ink",
    "papermill": {
     "duration": 1243.021469,
     "end_time": "2022-11-19T08:58:30.366483",
     "exception": false,
     "start_time": "2022-11-19T08:37:47.345014",
     "status": "completed"
    },
    "tags": []
   },
   "outputs": [
    {
     "name": "stdout",
     "output_type": "stream",
     "text": [
      "----------Hyperparameter tuning----------\n",
      "Best trial: 86 -> Best value: 183.92572\n",
      "Best hyperparameters:\n",
      "learning_rate   - 0.2\n",
      "max_depth       - 3\n",
      "min_child_weight - 237\n",
      "gamma           - 9.3\n",
      "alpha           - 4.15\n",
      "lambda          - 0.49621855924589847\n",
      "subsample       - 1.0\n",
      "colsample_bytree - 0.85\n",
      "colsample_bylevel - 0.85\n",
      "colsample_bynode - 0.85\n",
      "max_cat_to_onehot - 12\n",
      "[Time taken: 1237.30s]\n",
      "\n",
      "-----Cross-validation and prediction-----\n",
      "Fold #0: (Data size: train =  8642, test = 8635) RMSE = 139.45133 (35 rounds)\n",
      "Fold #1: (Data size: train = 17277, test = 8635) RMSE = 157.23101 (17 rounds)\n",
      "Fold #2: (Data size: train = 25912, test = 8635) RMSE = 152.54543 (28 rounds)\n",
      "Fold #3: (Data size: train = 34547, test = 8635) RMSE = 172.88700 (196 rounds)\n",
      "Fold #4: (Data size: train = 43182, test = 8635) RMSE = 152.95206 (64 rounds)\n",
      "Fold #5: (Data size: train = 51817, test = 8635) RMSE = 275.48049 (182 rounds)\n",
      "Fold #6: (Data size: train = 60452, test = 8635) RMSE = 187.34701 (27 rounds)\n",
      "Fold #7: (Data size: train = 69087, test = 8635) RMSE = 184.39684 (44 rounds)\n",
      "Fold #8: (Data size: train = 77722, test = 8635) RMSE = 208.51464 (118 rounds)\n",
      "Fold #9: (Data size: train = 86357, test = 8635) RMSE = 208.45142 (53 rounds)\n",
      "Avg. RMSE = 183.92572 +/- 37.89043\n",
      "[Time taken: 5.69s]\n",
      "\n",
      "CPU times: user 21min 38s, sys: 7.34 s, total: 21min 46s\n",
      "Wall time: 20min 42s\n"
     ]
    }
   ],
   "source": [
    "%%time\n",
    "tp_4_3 = run_experiment(\n",
    "    data=(train_linear[features], train_linear[TARGET], test[features]),\n",
    "    cat_features=cat_features_3,\n",
    "    n_trials=100\n",
    ")"
   ]
  },
  {
   "cell_type": "code",
   "execution_count": 32,
   "id": "e4662146",
   "metadata": {
    "execution": {
     "iopub.execute_input": "2022-11-19T08:58:30.403781Z",
     "iopub.status.busy": "2022-11-19T08:58:30.403499Z",
     "iopub.status.idle": "2022-11-19T08:58:31.562407Z",
     "shell.execute_reply": "2022-11-19T08:58:31.561478Z"
    },
    "id": "NnbmJQVf48OL",
    "papermill": {
     "duration": 1.180155,
     "end_time": "2022-11-19T08:58:31.564745",
     "exception": false,
     "start_time": "2022-11-19T08:58:30.384590",
     "status": "completed"
    },
    "tags": []
   },
   "outputs": [],
   "source": [
    "create_submission_files(tp_4_1, '4_1')\n",
    "create_submission_files(tp_4_2, '4_2')\n",
    "create_submission_files(tp_4_3, '4_3')"
   ]
  },
  {
   "cell_type": "markdown",
   "id": "e9cdf595",
   "metadata": {
    "id": "wQVLB-ql36jh",
    "papermill": {
     "duration": 0.017498,
     "end_time": "2022-11-19T08:58:31.600473",
     "exception": false,
     "start_time": "2022-11-19T08:58:31.582975",
     "status": "completed"
    },
    "tags": []
   },
   "source": [
    "### Dataset 5: train_poly3"
   ]
  },
  {
   "cell_type": "code",
   "execution_count": 33,
   "id": "f120e174",
   "metadata": {
    "execution": {
     "iopub.execute_input": "2022-11-19T08:58:31.637298Z",
     "iopub.status.busy": "2022-11-19T08:58:31.637002Z",
     "iopub.status.idle": "2022-11-19T09:13:38.662633Z",
     "shell.execute_reply": "2022-11-19T09:13:38.660841Z"
    },
    "id": "hry4Xefw36jh",
    "outputId": "6c8f3f2d-a988-49de-ed21-9518bc6977c9",
    "papermill": {
     "duration": 907.046798,
     "end_time": "2022-11-19T09:13:38.664973",
     "exception": false,
     "start_time": "2022-11-19T08:58:31.618175",
     "status": "completed"
    },
    "tags": []
   },
   "outputs": [
    {
     "name": "stdout",
     "output_type": "stream",
     "text": [
      "----------Hyperparameter tuning----------\n",
      "Best trial: 47 -> Best value: 183.58647\n",
      "Best hyperparameters:\n",
      "learning_rate   - 0.15000000000000002\n",
      "max_depth       - 3\n",
      "min_child_weight - 229\n",
      "gamma           - 11.0\n",
      "alpha           - 4.9\n",
      "lambda          - 21.164423819825146\n",
      "subsample       - 0.9\n",
      "colsample_bytree - 0.95\n",
      "colsample_bylevel - 0.75\n",
      "colsample_bynode - 1.0\n",
      "max_cat_to_onehot - 4\n",
      "[Time taken: 898.92s]\n",
      "\n",
      "-----Cross-validation and prediction-----\n",
      "Fold #0: (Data size: train =  8642, test = 8635) RMSE = 153.31141 (260 rounds)\n",
      "Fold #1: (Data size: train = 17277, test = 8635) RMSE = 153.47656 (36 rounds)\n",
      "Fold #2: (Data size: train = 25912, test = 8635) RMSE = 157.98843 (59 rounds)\n",
      "Fold #3: (Data size: train = 34547, test = 8635) RMSE = 160.31351 (349 rounds)\n",
      "Fold #4: (Data size: train = 43182, test = 8635) RMSE = 151.73767 (110 rounds)\n",
      "Fold #5: (Data size: train = 51817, test = 8635) RMSE = 283.76824 (283 rounds)\n",
      "Fold #6: (Data size: train = 60452, test = 8635) RMSE = 188.84530 (32 rounds)\n",
      "Fold #7: (Data size: train = 69087, test = 8635) RMSE = 177.99335 (72 rounds)\n",
      "Fold #8: (Data size: train = 77722, test = 8635) RMSE = 204.44559 (607 rounds)\n",
      "Fold #9: (Data size: train = 86357, test = 8635) RMSE = 203.98462 (271 rounds)\n",
      "Avg. RMSE = 183.58647 +/- 38.70521\n",
      "[Time taken: 8.09s]\n",
      "\n",
      "CPU times: user 16min, sys: 7.32 s, total: 16min 7s\n",
      "Wall time: 15min 7s\n"
     ]
    }
   ],
   "source": [
    "%%time\n",
    "tp_5_1 = run_experiment(\n",
    "    data=(train_poly3[features], train_poly3[TARGET], test[features]),\n",
    "    cat_features=cat_features_1,\n",
    "    n_trials=100\n",
    ")"
   ]
  },
  {
   "cell_type": "code",
   "execution_count": 34,
   "id": "59d070af",
   "metadata": {
    "execution": {
     "iopub.execute_input": "2022-11-19T09:13:38.705033Z",
     "iopub.status.busy": "2022-11-19T09:13:38.704116Z",
     "iopub.status.idle": "2022-11-19T09:31:08.811909Z",
     "shell.execute_reply": "2022-11-19T09:31:08.810893Z"
    },
    "id": "CnG9vt0A36ji",
    "papermill": {
     "duration": 1050.130678,
     "end_time": "2022-11-19T09:31:08.814676",
     "exception": false,
     "start_time": "2022-11-19T09:13:38.683998",
     "status": "completed"
    },
    "tags": []
   },
   "outputs": [
    {
     "name": "stdout",
     "output_type": "stream",
     "text": [
      "----------Hyperparameter tuning----------\n",
      "Best trial: 81 -> Best value: 181.14221\n",
      "Best hyperparameters:\n",
      "learning_rate   - 0.25\n",
      "max_depth       - 3\n",
      "min_child_weight - 247\n",
      "gamma           - 13.3\n",
      "alpha           - 4.1000000000000005\n",
      "lambda          - 1.6441607746861542\n",
      "subsample       - 0.9\n",
      "colsample_bytree - 0.75\n",
      "colsample_bylevel - 0.9\n",
      "colsample_bynode - 0.85\n",
      "max_cat_to_onehot - 7\n",
      "[Time taken: 1043.50s]\n",
      "\n",
      "-----Cross-validation and prediction-----\n",
      "Fold #0: (Data size: train =  8642, test = 8635) RMSE = 146.28250 (37 rounds)\n",
      "Fold #1: (Data size: train = 17277, test = 8635) RMSE = 153.55646 (13 rounds)\n",
      "Fold #2: (Data size: train = 25912, test = 8635) RMSE = 145.53395 (34 rounds)\n",
      "Fold #3: (Data size: train = 34547, test = 8635) RMSE = 163.85966 (164 rounds)\n",
      "Fold #4: (Data size: train = 43182, test = 8635) RMSE = 153.57197 (108 rounds)\n",
      "Fold #5: (Data size: train = 51817, test = 8635) RMSE = 284.14752 (149 rounds)\n",
      "Fold #6: (Data size: train = 60452, test = 8635) RMSE = 183.40755 (28 rounds)\n",
      "Fold #7: (Data size: train = 69087, test = 8635) RMSE = 179.32037 (40 rounds)\n",
      "Fold #8: (Data size: train = 77722, test = 8635) RMSE = 199.35461 (411 rounds)\n",
      "Fold #9: (Data size: train = 86357, test = 8635) RMSE = 202.38749 (220 rounds)\n",
      "Avg. RMSE = 181.14221 +/- 39.62894\n",
      "[Time taken: 6.60s]\n",
      "\n",
      "CPU times: user 18min 23s, sys: 7.06 s, total: 18min 30s\n",
      "Wall time: 17min 30s\n"
     ]
    }
   ],
   "source": [
    "%%time\n",
    "tp_5_2 = run_experiment(\n",
    "    data=(train_poly3[features], train_poly3[TARGET], test[features]),\n",
    "    cat_features=cat_features_2,\n",
    "    n_trials=100\n",
    ")"
   ]
  },
  {
   "cell_type": "code",
   "execution_count": 35,
   "id": "6291c3a1",
   "metadata": {
    "execution": {
     "iopub.execute_input": "2022-11-19T09:31:08.855837Z",
     "iopub.status.busy": "2022-11-19T09:31:08.855537Z",
     "iopub.status.idle": "2022-11-19T09:51:22.488051Z",
     "shell.execute_reply": "2022-11-19T09:51:22.486483Z"
    },
    "id": "0lNIO0yB36ji",
    "papermill": {
     "duration": 1213.655282,
     "end_time": "2022-11-19T09:51:22.490810",
     "exception": false,
     "start_time": "2022-11-19T09:31:08.835528",
     "status": "completed"
    },
    "tags": []
   },
   "outputs": [
    {
     "name": "stdout",
     "output_type": "stream",
     "text": [
      "----------Hyperparameter tuning----------\n",
      "Best trial: 55 -> Best value: 184.58300\n",
      "Best hyperparameters:\n",
      "learning_rate   - 0.30000000000000004\n",
      "max_depth       - 3\n",
      "min_child_weight - 216\n",
      "gamma           - 11.5\n",
      "alpha           - 1.35\n",
      "lambda          - 0.5971331530602634\n",
      "subsample       - 0.95\n",
      "colsample_bytree - 0.85\n",
      "colsample_bylevel - 0.95\n",
      "colsample_bynode - 0.85\n",
      "max_cat_to_onehot - 7\n",
      "[Time taken: 1208.48s]\n",
      "\n",
      "-----Cross-validation and prediction-----\n",
      "Fold #0: (Data size: train =  8642, test = 8635) RMSE = 140.44804 (28 rounds)\n",
      "Fold #1: (Data size: train = 17277, test = 8635) RMSE = 156.54361 (11 rounds)\n",
      "Fold #2: (Data size: train = 25912, test = 8635) RMSE = 153.88581 (20 rounds)\n",
      "Fold #3: (Data size: train = 34547, test = 8635) RMSE = 168.19640 (78 rounds)\n",
      "Fold #4: (Data size: train = 43182, test = 8635) RMSE = 154.45726 (63 rounds)\n",
      "Fold #5: (Data size: train = 51817, test = 8635) RMSE = 279.73373 (132 rounds)\n",
      "Fold #6: (Data size: train = 60452, test = 8635) RMSE = 196.91836 (22 rounds)\n",
      "Fold #7: (Data size: train = 69087, test = 8635) RMSE = 178.48529 (40 rounds)\n",
      "Fold #8: (Data size: train = 77722, test = 8635) RMSE = 207.97103 (43 rounds)\n",
      "Fold #9: (Data size: train = 86357, test = 8635) RMSE = 209.19050 (45 rounds)\n",
      "Avg. RMSE = 184.58300 +/- 39.04873\n",
      "[Time taken: 5.14s]\n",
      "\n",
      "CPU times: user 21min 8s, sys: 6.67 s, total: 21min 15s\n",
      "Wall time: 20min 13s\n"
     ]
    }
   ],
   "source": [
    "%%time\n",
    "tp_5_3 = run_experiment(\n",
    "    data=(train_poly3[features], train_poly3[TARGET], test[features]),\n",
    "    cat_features=cat_features_3,\n",
    "    n_trials=100\n",
    ")"
   ]
  },
  {
   "cell_type": "code",
   "execution_count": 36,
   "id": "55206d6b",
   "metadata": {
    "execution": {
     "iopub.execute_input": "2022-11-19T09:51:22.533074Z",
     "iopub.status.busy": "2022-11-19T09:51:22.532732Z",
     "iopub.status.idle": "2022-11-19T09:51:23.948724Z",
     "shell.execute_reply": "2022-11-19T09:51:23.947770Z"
    },
    "id": "IBuUyJ5o5Dxy",
    "papermill": {
     "duration": 1.439312,
     "end_time": "2022-11-19T09:51:23.951118",
     "exception": false,
     "start_time": "2022-11-19T09:51:22.511806",
     "status": "completed"
    },
    "tags": []
   },
   "outputs": [],
   "source": [
    "create_submission_files(tp_5_1, '5_1')\n",
    "create_submission_files(tp_5_2, '5_2')\n",
    "create_submission_files(tp_5_3, '5_3')"
   ]
  },
  {
   "cell_type": "markdown",
   "id": "941d3261",
   "metadata": {
    "id": "L0RbOvsl36ji",
    "papermill": {
     "duration": 0.01973,
     "end_time": "2022-11-19T09:51:24.001946",
     "exception": false,
     "start_time": "2022-11-19T09:51:23.982216",
     "status": "completed"
    },
    "tags": []
   },
   "source": [
    "### Dataset 6: train_poly5"
   ]
  },
  {
   "cell_type": "code",
   "execution_count": 37,
   "id": "433e884f",
   "metadata": {
    "execution": {
     "iopub.execute_input": "2022-11-19T09:51:24.042920Z",
     "iopub.status.busy": "2022-11-19T09:51:24.042589Z",
     "iopub.status.idle": "2022-11-19T10:03:27.756199Z",
     "shell.execute_reply": "2022-11-19T10:03:27.755171Z"
    },
    "id": "FcJVqll036jj",
    "outputId": "fdade9fd-d158-4d1b-c9c3-f87c8bb3e325",
    "papermill": {
     "duration": 723.736866,
     "end_time": "2022-11-19T10:03:27.758775",
     "exception": false,
     "start_time": "2022-11-19T09:51:24.021909",
     "status": "completed"
    },
    "tags": []
   },
   "outputs": [
    {
     "name": "stdout",
     "output_type": "stream",
     "text": [
      "----------Hyperparameter tuning----------\n",
      "Best trial: 76 -> Best value: 181.55543\n",
      "Best hyperparameters:\n",
      "learning_rate   - 0.25\n",
      "max_depth       - 4\n",
      "min_child_weight - 15\n",
      "gamma           - 0.6000000000000001\n",
      "alpha           - 3.75\n",
      "lambda          - 0.14967373371356124\n",
      "subsample       - 1.0\n",
      "colsample_bytree - 0.9\n",
      "colsample_bylevel - 0.8\n",
      "colsample_bynode - 0.85\n",
      "max_cat_to_onehot - 12\n",
      "[Time taken: 718.58s]\n",
      "\n",
      "-----Cross-validation and prediction-----\n",
      "Fold #0: (Data size: train =  8642, test = 8635) RMSE = 152.94669 (36 rounds)\n",
      "Fold #1: (Data size: train = 17277, test = 8635) RMSE = 147.01375 (13 rounds)\n",
      "Fold #2: (Data size: train = 25912, test = 8635) RMSE = 153.98375 (26 rounds)\n",
      "Fold #3: (Data size: train = 34547, test = 8635) RMSE = 166.96919 (91 rounds)\n",
      "Fold #4: (Data size: train = 43182, test = 8635) RMSE = 158.71125 (58 rounds)\n",
      "Fold #5: (Data size: train = 51817, test = 8635) RMSE = 265.07341 (205 rounds)\n",
      "Fold #6: (Data size: train = 60452, test = 8635) RMSE = 177.50076 (16 rounds)\n",
      "Fold #7: (Data size: train = 69087, test = 8635) RMSE = 186.56071 (26 rounds)\n",
      "Fold #8: (Data size: train = 77722, test = 8635) RMSE = 201.04946 (218 rounds)\n",
      "Fold #9: (Data size: train = 86357, test = 8635) RMSE = 205.74529 (64 rounds)\n",
      "Avg. RMSE = 181.55543 +/- 33.89441\n",
      "[Time taken: 5.12s]\n",
      "\n",
      "CPU times: user 12min 56s, sys: 6.56 s, total: 13min 3s\n",
      "Wall time: 12min 3s\n"
     ]
    }
   ],
   "source": [
    "%%time\n",
    "tp_6_1 = run_experiment(\n",
    "    data=(train_poly5[features], train_poly5[TARGET], test[features]),\n",
    "    cat_features=cat_features_1,\n",
    "    n_trials=100\n",
    ")"
   ]
  },
  {
   "cell_type": "code",
   "execution_count": 38,
   "id": "87c2ad71",
   "metadata": {
    "execution": {
     "iopub.execute_input": "2022-11-19T10:03:27.803160Z",
     "iopub.status.busy": "2022-11-19T10:03:27.802244Z",
     "iopub.status.idle": "2022-11-19T10:22:49.293603Z",
     "shell.execute_reply": "2022-11-19T10:22:49.292045Z"
    },
    "id": "pruQzsIy36jj",
    "papermill": {
     "duration": 1161.516522,
     "end_time": "2022-11-19T10:22:49.296582",
     "exception": false,
     "start_time": "2022-11-19T10:03:27.780060",
     "status": "completed"
    },
    "tags": []
   },
   "outputs": [
    {
     "name": "stdout",
     "output_type": "stream",
     "text": [
      "----------Hyperparameter tuning----------\n",
      "Best trial: 44 -> Best value: 180.38660\n",
      "Best hyperparameters:\n",
      "learning_rate   - 0.15000000000000002\n",
      "max_depth       - 3\n",
      "min_child_weight - 201\n",
      "gamma           - 4.1000000000000005\n",
      "alpha           - 3.75\n",
      "lambda          - 0.07004965373110639\n",
      "subsample       - 0.8\n",
      "colsample_bytree - 0.8\n",
      "colsample_bylevel - 0.85\n",
      "colsample_bynode - 0.85\n",
      "max_cat_to_onehot - 4\n",
      "[Time taken: 1153.87s]\n",
      "\n",
      "-----Cross-validation and prediction-----\n",
      "Fold #0: (Data size: train =  8642, test = 8635) RMSE = 150.43260 (48 rounds)\n",
      "Fold #1: (Data size: train = 17277, test = 8635) RMSE = 152.92657 (26 rounds)\n",
      "Fold #2: (Data size: train = 25912, test = 8635) RMSE = 145.28758 (47 rounds)\n",
      "Fold #3: (Data size: train = 34547, test = 8635) RMSE = 156.25517 (186 rounds)\n",
      "Fold #4: (Data size: train = 43182, test = 8635) RMSE = 147.79236 (104 rounds)\n",
      "Fold #5: (Data size: train = 51817, test = 8635) RMSE = 279.19718 (250 rounds)\n",
      "Fold #6: (Data size: train = 60452, test = 8635) RMSE = 183.99374 (28 rounds)\n",
      "Fold #7: (Data size: train = 69087, test = 8635) RMSE = 178.72696 (75 rounds)\n",
      "Fold #8: (Data size: train = 77722, test = 8635) RMSE = 207.42126 (394 rounds)\n",
      "Fold #9: (Data size: train = 86357, test = 8635) RMSE = 201.83260 (277 rounds)\n",
      "Avg. RMSE = 180.38660 +/- 39.36756\n",
      "[Time taken: 7.61s]\n",
      "\n",
      "CPU times: user 20min 14s, sys: 7.35 s, total: 20min 21s\n",
      "Wall time: 19min 21s\n"
     ]
    }
   ],
   "source": [
    "%%time\n",
    "tp_6_2 = run_experiment(\n",
    "    data=(train_poly5[features], train_poly5[TARGET], test[features]),\n",
    "    cat_features=cat_features_2,\n",
    "    n_trials=100\n",
    ")"
   ]
  },
  {
   "cell_type": "code",
   "execution_count": 39,
   "id": "ded12de8",
   "metadata": {
    "execution": {
     "iopub.execute_input": "2022-11-19T10:22:49.341447Z",
     "iopub.status.busy": "2022-11-19T10:22:49.341128Z",
     "iopub.status.idle": "2022-11-19T10:40:58.509369Z",
     "shell.execute_reply": "2022-11-19T10:40:58.507762Z"
    },
    "id": "jt-vg4Bg36jj",
    "papermill": {
     "duration": 1089.193456,
     "end_time": "2022-11-19T10:40:58.512256",
     "exception": false,
     "start_time": "2022-11-19T10:22:49.318800",
     "status": "completed"
    },
    "tags": []
   },
   "outputs": [
    {
     "name": "stdout",
     "output_type": "stream",
     "text": [
      "----------Hyperparameter tuning----------\n",
      "Best trial: 98 -> Best value: 184.96687\n",
      "Best hyperparameters:\n",
      "learning_rate   - 0.30000000000000004\n",
      "max_depth       - 3\n",
      "min_child_weight - 191\n",
      "gamma           - 13.600000000000001\n",
      "alpha           - 0.05\n",
      "lambda          - 0.23987203403604967\n",
      "subsample       - 0.75\n",
      "colsample_bytree - 0.95\n",
      "colsample_bylevel - 0.85\n",
      "colsample_bynode - 0.8\n",
      "max_cat_to_onehot - 4\n",
      "[Time taken: 1082.96s]\n",
      "\n",
      "-----Cross-validation and prediction-----\n",
      "Fold #0: (Data size: train =  8642, test = 8635) RMSE = 136.93183 (45 rounds)\n",
      "Fold #1: (Data size: train = 17277, test = 8635) RMSE = 153.52412 (12 rounds)\n",
      "Fold #2: (Data size: train = 25912, test = 8635) RMSE = 153.72447 (17 rounds)\n",
      "Fold #3: (Data size: train = 34547, test = 8635) RMSE = 173.66120 (107 rounds)\n",
      "Fold #4: (Data size: train = 43182, test = 8635) RMSE = 152.31134 (30 rounds)\n",
      "Fold #5: (Data size: train = 51817, test = 8635) RMSE = 277.03333 (270 rounds)\n",
      "Fold #6: (Data size: train = 60452, test = 8635) RMSE = 207.63429 (64 rounds)\n",
      "Fold #7: (Data size: train = 69087, test = 8635) RMSE = 178.48732 (38 rounds)\n",
      "Fold #8: (Data size: train = 77722, test = 8635) RMSE = 212.53887 (315 rounds)\n",
      "Fold #9: (Data size: train = 86357, test = 8635) RMSE = 203.82190 (36 rounds)\n",
      "Avg. RMSE = 184.96687 +/- 39.51463\n",
      "[Time taken: 6.19s]\n",
      "\n",
      "CPU times: user 19min 4s, sys: 6.54 s, total: 19min 10s\n",
      "Wall time: 18min 9s\n"
     ]
    }
   ],
   "source": [
    "%%time\n",
    "tp_6_3 = run_experiment(\n",
    "    data=(train_poly5[features], train_poly5[TARGET], test[features]),\n",
    "    cat_features=cat_features_3,\n",
    "    n_trials=100\n",
    ")"
   ]
  },
  {
   "cell_type": "code",
   "execution_count": 40,
   "id": "adb31c7c",
   "metadata": {
    "execution": {
     "iopub.execute_input": "2022-11-19T10:40:58.558557Z",
     "iopub.status.busy": "2022-11-19T10:40:58.558264Z",
     "iopub.status.idle": "2022-11-19T10:40:59.809951Z",
     "shell.execute_reply": "2022-11-19T10:40:59.808991Z"
    },
    "id": "2phhvLg85Er0",
    "papermill": {
     "duration": 1.277114,
     "end_time": "2022-11-19T10:40:59.812371",
     "exception": false,
     "start_time": "2022-11-19T10:40:58.535257",
     "status": "completed"
    },
    "tags": []
   },
   "outputs": [],
   "source": [
    "create_submission_files(tp_6_1, '6_1')\n",
    "create_submission_files(tp_6_2, '6_2')\n",
    "create_submission_files(tp_6_3, '6_3')"
   ]
  },
  {
   "cell_type": "markdown",
   "id": "44217d62",
   "metadata": {
    "id": "EXml8Ycy36jj",
    "papermill": {
     "duration": 0.021483,
     "end_time": "2022-11-19T10:40:59.856449",
     "exception": false,
     "start_time": "2022-11-19T10:40:59.834966",
     "status": "completed"
    },
    "tags": []
   },
   "source": [
    "### Dataset 7: train_iterimp"
   ]
  },
  {
   "cell_type": "code",
   "execution_count": 41,
   "id": "af7c8a2b",
   "metadata": {
    "execution": {
     "iopub.execute_input": "2022-11-19T10:40:59.901354Z",
     "iopub.status.busy": "2022-11-19T10:40:59.901050Z",
     "iopub.status.idle": "2022-11-19T10:53:30.973987Z",
     "shell.execute_reply": "2022-11-19T10:53:30.972862Z"
    },
    "id": "RynoFeri36jk",
    "papermill": {
     "duration": 751.098094,
     "end_time": "2022-11-19T10:53:30.976217",
     "exception": false,
     "start_time": "2022-11-19T10:40:59.878123",
     "status": "completed"
    },
    "tags": []
   },
   "outputs": [
    {
     "name": "stdout",
     "output_type": "stream",
     "text": [
      "----------Hyperparameter tuning----------\n",
      "Best trial: 30 -> Best value: 196.82030\n",
      "Best hyperparameters:\n",
      "learning_rate   - 0.25\n",
      "max_depth       - 3\n",
      "min_child_weight - 22\n",
      "gamma           - 3.6\n",
      "alpha           - 0.0\n",
      "lambda          - 0.12232938405694538\n",
      "subsample       - 0.85\n",
      "colsample_bytree - 0.95\n",
      "colsample_bylevel - 0.85\n",
      "colsample_bynode - 1.0\n",
      "max_cat_to_onehot - 12\n",
      "[Time taken: 746.47s]\n",
      "\n",
      "-----Cross-validation and prediction-----\n",
      "Fold #0: (Data size: train =  8642, test = 8635) RMSE = 169.54536 (30 rounds)\n",
      "Fold #1: (Data size: train = 17277, test = 8635) RMSE = 172.36554 (14 rounds)\n",
      "Fold #2: (Data size: train = 25912, test = 8635) RMSE = 172.06723 (30 rounds)\n",
      "Fold #3: (Data size: train = 34547, test = 8635) RMSE = 176.17466 (170 rounds)\n",
      "Fold #4: (Data size: train = 43182, test = 8635) RMSE = 173.03082 (62 rounds)\n",
      "Fold #5: (Data size: train = 51817, test = 8635) RMSE = 293.82073 (122 rounds)\n",
      "Fold #6: (Data size: train = 60452, test = 8635) RMSE = 183.86992 (20 rounds)\n",
      "Fold #7: (Data size: train = 69087, test = 8635) RMSE = 195.03287 (48 rounds)\n",
      "Fold #8: (Data size: train = 77722, test = 8635) RMSE = 213.84517 (220 rounds)\n",
      "Fold #9: (Data size: train = 86357, test = 8635) RMSE = 218.45068 (141 rounds)\n",
      "Avg. RMSE = 196.82030 +/- 36.44800\n",
      "[Time taken: 4.60s]\n",
      "\n",
      "CPU times: user 13min 23s, sys: 6.82 s, total: 13min 30s\n",
      "Wall time: 12min 31s\n"
     ]
    }
   ],
   "source": [
    "%%time\n",
    "tp_7_1 = run_experiment(\n",
    "    data=(train_iterimp[features], train_iterimp[TARGET], test[features]),\n",
    "    cat_features=cat_features_1,\n",
    "    n_trials=100\n",
    ")"
   ]
  },
  {
   "cell_type": "code",
   "execution_count": 42,
   "id": "26c1ea33",
   "metadata": {
    "execution": {
     "iopub.execute_input": "2022-11-19T10:53:31.023074Z",
     "iopub.status.busy": "2022-11-19T10:53:31.022765Z",
     "iopub.status.idle": "2022-11-19T11:12:54.141451Z",
     "shell.execute_reply": "2022-11-19T11:12:54.138057Z"
    },
    "id": "eLYz61G536jk",
    "papermill": {
     "duration": 1163.148223,
     "end_time": "2022-11-19T11:12:54.147860",
     "exception": false,
     "start_time": "2022-11-19T10:53:30.999637",
     "status": "completed"
    },
    "tags": []
   },
   "outputs": [
    {
     "name": "stdout",
     "output_type": "stream",
     "text": [
      "----------Hyperparameter tuning----------\n",
      "Best trial: 74 -> Best value: 195.25769\n",
      "Best hyperparameters:\n",
      "learning_rate   - 0.2\n",
      "max_depth       - 3\n",
      "min_child_weight - 249\n",
      "gamma           - 16.400000000000002\n",
      "alpha           - 3.2\n",
      "lambda          - 0.010468224998474059\n",
      "subsample       - 0.75\n",
      "colsample_bytree - 0.8\n",
      "colsample_bylevel - 0.85\n",
      "colsample_bynode - 0.9\n",
      "max_cat_to_onehot - 12\n",
      "[Time taken: 1155.95s]\n",
      "\n",
      "-----Cross-validation and prediction-----\n",
      "Fold #0: (Data size: train =  8642, test = 8635) RMSE = 166.89780 (130 rounds)\n",
      "Fold #1: (Data size: train = 17277, test = 8635) RMSE = 177.31381 (19 rounds)\n",
      "Fold #2: (Data size: train = 25912, test = 8635) RMSE = 161.29499 (48 rounds)\n",
      "Fold #3: (Data size: train = 34547, test = 8635) RMSE = 172.27974 (337 rounds)\n",
      "Fold #4: (Data size: train = 43182, test = 8635) RMSE = 169.35589 (97 rounds)\n",
      "Fold #5: (Data size: train = 51817, test = 8635) RMSE = 274.88423 (257 rounds)\n",
      "Fold #6: (Data size: train = 60452, test = 8635) RMSE = 200.81619 (27 rounds)\n",
      "Fold #7: (Data size: train = 69087, test = 8635) RMSE = 196.97621 (60 rounds)\n",
      "Fold #8: (Data size: train = 77722, test = 8635) RMSE = 218.87562 (344 rounds)\n",
      "Fold #9: (Data size: train = 86357, test = 8635) RMSE = 213.88244 (128 rounds)\n",
      "Avg. RMSE = 195.25769 +/- 32.79869\n",
      "[Time taken: 7.16s]\n",
      "\n",
      "CPU times: user 20min 16s, sys: 7.49 s, total: 20min 24s\n",
      "Wall time: 19min 23s\n"
     ]
    }
   ],
   "source": [
    "%%time\n",
    "tp_7_2 = run_experiment(\n",
    "    data=(train_iterimp[features], train_iterimp[TARGET], test[features]),\n",
    "    cat_features=cat_features_2,\n",
    "    n_trials=100\n",
    ")"
   ]
  },
  {
   "cell_type": "code",
   "execution_count": 43,
   "id": "b35f0257",
   "metadata": {
    "execution": {
     "iopub.execute_input": "2022-11-19T11:12:54.200255Z",
     "iopub.status.busy": "2022-11-19T11:12:54.199900Z",
     "iopub.status.idle": "2022-11-19T11:33:20.926983Z",
     "shell.execute_reply": "2022-11-19T11:33:20.925238Z"
    },
    "id": "2UGL0LYl36jk",
    "papermill": {
     "duration": 1226.755086,
     "end_time": "2022-11-19T11:33:20.929824",
     "exception": false,
     "start_time": "2022-11-19T11:12:54.174738",
     "status": "completed"
    },
    "tags": []
   },
   "outputs": [
    {
     "name": "stdout",
     "output_type": "stream",
     "text": [
      "----------Hyperparameter tuning----------\n",
      "Best trial: 91 -> Best value: 198.93763\n",
      "Best hyperparameters:\n",
      "learning_rate   - 0.15000000000000002\n",
      "max_depth       - 3\n",
      "min_child_weight - 249\n",
      "gamma           - 17.0\n",
      "alpha           - 1.05\n",
      "lambda          - 1.1007237447909146\n",
      "subsample       - 0.8\n",
      "colsample_bytree - 0.85\n",
      "colsample_bylevel - 0.85\n",
      "colsample_bynode - 1.0\n",
      "max_cat_to_onehot - 12\n",
      "[Time taken: 1219.87s]\n",
      "\n",
      "-----Cross-validation and prediction-----\n",
      "Fold #0: (Data size: train =  8642, test = 8635) RMSE = 150.96151 (69 rounds)\n",
      "Fold #1: (Data size: train = 17277, test = 8635) RMSE = 175.66440 (25 rounds)\n",
      "Fold #2: (Data size: train = 25912, test = 8635) RMSE = 168.49465 (40 rounds)\n",
      "Fold #3: (Data size: train = 34547, test = 8635) RMSE = 187.11395 (133 rounds)\n",
      "Fold #4: (Data size: train = 43182, test = 8635) RMSE = 174.31470 (92 rounds)\n",
      "Fold #5: (Data size: train = 51817, test = 8635) RMSE = 292.27393 (354 rounds)\n",
      "Fold #6: (Data size: train = 60452, test = 8635) RMSE = 204.84516 (30 rounds)\n",
      "Fold #7: (Data size: train = 69087, test = 8635) RMSE = 198.23157 (90 rounds)\n",
      "Fold #8: (Data size: train = 77722, test = 8635) RMSE = 224.66983 (285 rounds)\n",
      "Fold #9: (Data size: train = 86357, test = 8635) RMSE = 212.80660 (150 rounds)\n",
      "Avg. RMSE = 198.93763 +/- 37.57362\n",
      "[Time taken: 6.85s]\n",
      "\n",
      "CPU times: user 21min 22s, sys: 7.56 s, total: 21min 30s\n",
      "Wall time: 20min 26s\n"
     ]
    }
   ],
   "source": [
    "%%time\n",
    "tp_7_3 = run_experiment(\n",
    "    data=(train_iterimp[features], train_iterimp[TARGET], test[features]),\n",
    "    cat_features=cat_features_3,\n",
    "    n_trials=100\n",
    ")"
   ]
  },
  {
   "cell_type": "code",
   "execution_count": 44,
   "id": "7636e411",
   "metadata": {
    "execution": {
     "iopub.execute_input": "2022-11-19T11:33:20.979570Z",
     "iopub.status.busy": "2022-11-19T11:33:20.979277Z",
     "iopub.status.idle": "2022-11-19T11:33:22.144981Z",
     "shell.execute_reply": "2022-11-19T11:33:22.143974Z"
    },
    "id": "Sx_8zECt5FYP",
    "papermill": {
     "duration": 1.193008,
     "end_time": "2022-11-19T11:33:22.147402",
     "exception": false,
     "start_time": "2022-11-19T11:33:20.954394",
     "status": "completed"
    },
    "tags": []
   },
   "outputs": [],
   "source": [
    "create_submission_files(tp_7_1, '7_1')\n",
    "create_submission_files(tp_7_2, '7_2')\n",
    "create_submission_files(tp_7_3, '7_3')"
   ]
  }
 ],
 "metadata": {
  "kernelspec": {
   "display_name": "Python 3",
   "language": "python",
   "name": "python3"
  },
  "language_info": {
   "codemirror_mode": {
    "name": "ipython",
    "version": 3
   },
   "file_extension": ".py",
   "mimetype": "text/x-python",
   "name": "python",
   "nbconvert_exporter": "python",
   "pygments_lexer": "ipython3",
   "version": "3.7.12"
  },
  "papermill": {
   "default_parameters": {},
   "duration": 22573.493296,
   "end_time": "2022-11-19T11:33:23.391928",
   "environment_variables": {},
   "exception": null,
   "input_path": "__notebook__.ipynb",
   "output_path": "__notebook__.ipynb",
   "parameters": {},
   "start_time": "2022-11-19T05:17:09.898632",
   "version": "2.3.4"
  }
 },
 "nbformat": 4,
 "nbformat_minor": 5
}
