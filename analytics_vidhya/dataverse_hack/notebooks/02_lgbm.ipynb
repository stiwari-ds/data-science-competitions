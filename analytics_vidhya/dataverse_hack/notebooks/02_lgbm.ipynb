{
  "nbformat": 4,
  "nbformat_minor": 0,
  "metadata": {
    "colab": {
      "provenance": []
    },
    "kernelspec": {
      "name": "python3",
      "display_name": "Python 3"
    },
    "language_info": {
      "name": "python"
    }
  },
  "cells": [
    {
      "cell_type": "markdown",
      "source": [
        "# Setup"
      ],
      "metadata": {
        "id": "HO96_P_uh3mj"
      }
    },
    {
      "cell_type": "code",
      "execution_count": 1,
      "metadata": {
        "id": "oJGZ2XRPhK5A"
      },
      "outputs": [],
      "source": [
        "%%capture\n",
        "!pip install --upgrade optuna\n",
        "!pip install --upgrade lightgbm"
      ]
    },
    {
      "cell_type": "code",
      "source": [
        "import os\n",
        "import gc\n",
        "import time\n",
        "import warnings\n",
        "\n",
        "gc.enable()\n",
        "warnings.filterwarnings('ignore')\n",
        "\n",
        "import pandas as pd\n",
        "import numpy as np\n",
        "pd.set_option('display.max_columns', None)\n",
        "pd.set_option('display.precision', 4)\n",
        "np.set_printoptions(precision=4)\n",
        "\n",
        "import optuna\n",
        "from optuna.samplers import TPESampler\n",
        "from optuna.pruners import HyperbandPruner\n",
        "\n",
        "import lightgbm as lgb\n",
        "from lightgbm import LGBMClassifier\n",
        "\n",
        "from sklearn.model_selection import StratifiedKFold\n",
        "from sklearn.metrics import f1_score, average_precision_score"
      ],
      "metadata": {
        "id": "_t390KWjhZ-D"
      },
      "execution_count": 2,
      "outputs": []
    },
    {
      "cell_type": "code",
      "source": [
        "#remove cell to run future versions\n",
        "assert optuna.__version__ == '3.0.3', f'Change in Optuna version. Original notebook version: 3.0.2'\n",
        "assert lgb.__version__ == '3.3.3', f'Change in LightGBM version. Original notebook version: 3.3.3'"
      ],
      "metadata": {
        "id": "NybqUn3whlFZ"
      },
      "execution_count": 3,
      "outputs": []
    },
    {
      "cell_type": "code",
      "source": [
        "SEED = 2311\n",
        "os.environ['PYTHONHASHSEED'] = str(SEED)\n",
        "np.random.seed(SEED)"
      ],
      "metadata": {
        "id": "QZFT1zVDj31u"
      },
      "execution_count": 4,
      "outputs": []
    },
    {
      "cell_type": "code",
      "source": [
        "DATA_URL = 'https://raw.githubusercontent.com/stiwari-ds/data-science-competitions/main/analytics_vidhya/dataverse_hack/data'\n",
        "\n",
        "train = pd.read_csv(f'{DATA_URL}/processed/train.csv') #processed dataset from notebook 00\n",
        "test = pd.read_csv(f'{DATA_URL}/processed/test.csv')\n",
        "sample_sub = pd.read_csv(f'{DATA_URL}/raw/sample_submission.csv')"
      ],
      "metadata": {
        "id": "LOHMVhw1ZZS6"
      },
      "execution_count": 5,
      "outputs": []
    },
    {
      "cell_type": "code",
      "source": [
        "TARGET = 'is_claim'"
      ],
      "metadata": {
        "id": "KEJQopfVZppB"
      },
      "execution_count": 6,
      "outputs": []
    },
    {
      "cell_type": "code",
      "source": [
        "features = list(test.columns)\n",
        "\n",
        "num_features = ['policy_tenure', 'age_of_car', 'age_of_policyholder', \n",
        "                'population_density', 'airbags', 'displacement', 'turning_radius',\n",
        "                'length', 'width','height', 'gross_weight', 'ncap_rating']\n",
        "\n",
        "cat_features = [f for f in features if f not in num_features]"
      ],
      "metadata": {
        "id": "3zTnF1bvZx-o"
      },
      "execution_count": 7,
      "outputs": []
    },
    {
      "cell_type": "markdown",
      "source": [
        "# Baseline"
      ],
      "metadata": {
        "id": "5ujG5XlvHCCB"
      }
    },
    {
      "cell_type": "code",
      "source": [
        "def get_best_threshold(y_true, pred_probs):\n",
        "    candidate_thresholds = np.arange(0, 1, 0.01)\n",
        "    candidate_scores = [f1_score(y_true, (pred_probs >= t).astype('int')) \n",
        "                        for t in candidate_thresholds]\n",
        "    best_threshold = candidate_thresholds[np.argmax(candidate_scores)]\n",
        "    return best_threshold"
      ],
      "metadata": {
        "id": "JeqGfqXi8ypM"
      },
      "execution_count": 8,
      "outputs": []
    },
    {
      "cell_type": "code",
      "source": [
        "%%time\n",
        "scores_f1 = []\n",
        "cv = StratifiedKFold(n_splits=5, shuffle=True, random_state=SEED)\n",
        "X, y = train[features], train[TARGET]\n",
        "feature_name = list(X.columns)\n",
        "categorical_feature = [f for f in feature_name if f in cat_features]\n",
        "for fold, (train_idx, val_idx) in enumerate(cv.split(X, y)):\n",
        "    X_train, y_train = X.loc[train_idx], y.iloc[train_idx]\n",
        "    X_val, y_val = X.loc[val_idx], y.iloc[val_idx]\n",
        "\n",
        "    model = LGBMClassifier(\n",
        "        objective='binary',\n",
        "        boosting_type='goss',\n",
        "        device_type='cpu',\n",
        "        random_state=SEED\n",
        "    ) \n",
        "    model.fit(\n",
        "        X_train, y_train,\n",
        "        eval_set=[(X_val, y_val)],\n",
        "        early_stopping_rounds=100,\n",
        "        eval_metric='average_precision',\n",
        "        feature_name=feature_name,\n",
        "        categorical_feature=categorical_feature,\n",
        "        verbose=0\n",
        "    )\n",
        "    val_probs = model.predict_proba(X_val)[:, 1]\n",
        "    best_threshold = get_best_threshold(y_val, val_probs)\n",
        "    val_preds = (val_probs >= best_threshold).astype('int')\n",
        "\n",
        "    score = f1_score(y_val, val_preds)\n",
        "    scores_f1.append(score)\n",
        "    print(f'Fold #{fold}: ({model.best_iteration_} rounds) F1-score = {score:.5f}')\n",
        "    _ = gc.collect()\n",
        "\n",
        "print(f'\\nAvg F1-score = {np.mean(scores_f1):.5f} +/- {np.std(scores_f1):.5f}\\n')"
      ],
      "metadata": {
        "colab": {
          "base_uri": "https://localhost:8080/"
        },
        "id": "ccFthHeorwUe",
        "outputId": "b25f4ca2-37bd-4f6b-86f8-88c3f3c69524"
      },
      "execution_count": 11,
      "outputs": [
        {
          "output_type": "stream",
          "name": "stdout",
          "text": [
            "Fold #0: (6 rounds) F1-score = 0.17071\n",
            "Fold #1: (8 rounds) F1-score = 0.17465\n",
            "Fold #2: (19 rounds) F1-score = 0.17150\n",
            "Fold #3: (7 rounds) F1-score = 0.17308\n",
            "Fold #4: (11 rounds) F1-score = 0.16835\n",
            "\n",
            "Avg F1-score = 0.17166 +/- 0.00214\n",
            "\n",
            "CPU times: user 15.4 s, sys: 137 ms, total: 15.5 s\n",
            "Wall time: 10.1 s\n"
          ]
        }
      ]
    },
    {
      "cell_type": "markdown",
      "metadata": {
        "id": "oVZEqwhQ2oi2"
      },
      "source": [
        "# Hyperparameter tuning"
      ]
    },
    {
      "cell_type": "code",
      "execution_count": 23,
      "metadata": {
        "id": "i3VeEFRe2oBe"
      },
      "outputs": [],
      "source": [
        "def objective(trial, data, model, proba):\n",
        "\n",
        "    scores = []\n",
        "    X, y = data\n",
        "    feature_name = list(X.columns)\n",
        "    categorical_feature = [f for f in feature_name if f in cat_features]\n",
        "\n",
        "    param_grid = {\n",
        "        'learning_rate': trial.suggest_float('learning_rate', 0.025, 0.3, step=0.025),\n",
        "        'reg_alpha': trial.suggest_float('reg_alpha', 0, 200, step=0.1),\n",
        "        'reg_lambda': trial.suggest_float('reg_lambda', 0, 200, step=0.1),\n",
        "        'num_leaves': trial.suggest_int('num_leaves', 20, 2000, step=5),\n",
        "        'max_depth': trial.suggest_int('max_depth', 3, 15),\n",
        "        'min_child_samples': trial.suggest_int('min_child_samples', 0, 1000, step=2),\n",
        "        'min_split_gain': trial.suggest_float('min_split_gain', 0, 10, step=0.01),\n",
        "        'colsample_bytree': trial.suggest_float('colsample_bytree', 0.5, 0.95, step=0.05),\n",
        "        'top_rate': trial.suggest_float('top_rate', 0.1, 0.5, step=0.05),\n",
        "        'other_rate': trial.suggest_float('other_rate', 0.05, 0.5, step=0.05),\n",
        "        'scale_pos_weight': trial.suggest_float('scale_pos_weight', 1, 15, step=0.05),\n",
        "        'max_cat_to_onehot': trial.suggest_categorical('max_cat_to_onehot', [3, 6, 11, 22])\n",
        "    }\n",
        "\n",
        "    cv = StratifiedKFold(n_splits=5, shuffle=True, random_state=SEED)\n",
        "    for fold, (train_idx, val_idx) in enumerate(cv.split(X, y)):\n",
        "        X_train, y_train = X.loc[train_idx], y.iloc[train_idx]\n",
        "        X_val, y_val = X.loc[val_idx], y.iloc[val_idx]\n",
        "        \n",
        "        model.set_params(**param_grid)\n",
        "        model.fit(\n",
        "            X_train, y_train,\n",
        "            eval_set=[(X_val, y_val)],\n",
        "            eval_metric='average_precision',\n",
        "            early_stopping_rounds=100,\n",
        "            feature_name=feature_name,\n",
        "            categorical_feature=categorical_feature,\n",
        "            verbose=False\n",
        "        )\n",
        "        if proba:\n",
        "            val_preds = model.predict_proba(X_val)[:, 1]\n",
        "            scores.append(average_precision_score(y_val, val_preds))\n",
        "        else:\n",
        "            val_preds = model.predict(X_val)\n",
        "            scores.append(f1_score(y_val, val_preds))\n",
        "\n",
        "    return np.mean(scores)"
      ]
    },
    {
      "cell_type": "code",
      "execution_count": 24,
      "metadata": {
        "id": "7JCjxMSuT3Ep"
      },
      "outputs": [],
      "source": [
        "def tune_params(data, model, proba, n_trials=10, direction='maximize'):\n",
        "    study = optuna.create_study(\n",
        "        sampler=TPESampler(seed=SEED),\n",
        "        pruner=HyperbandPruner(),\n",
        "        direction=direction\n",
        "    )\n",
        "    study.optimize(\n",
        "        func=lambda trial: objective(trial, data, model, proba),\n",
        "        n_trials=n_trials,\n",
        "        gc_after_trial=True\n",
        "    )\n",
        "    return study"
      ]
    },
    {
      "cell_type": "markdown",
      "source": [
        "# Cross-validation"
      ],
      "metadata": {
        "id": "_IdnAvEkjxqS"
      }
    },
    {
      "cell_type": "code",
      "source": [
        "def cross_validate_predict(data, model, proba, n_splits=5):\n",
        "    oof_preds = {}  #out-of-fold predictions on train set\n",
        "    test_preds = {} #predictions on test set for each fold\n",
        "    scores = [] #scores on validation set\n",
        "\n",
        "    X, y, X_test = data\n",
        "    feature_name = list(X.columns)\n",
        "    categorical_feature = [f for f in feature_name if f in cat_features]\n",
        "       \n",
        "    cv = StratifiedKFold(n_splits=n_splits, shuffle=True, random_state=SEED)\n",
        "    for fold, (train_idx, val_idx) in enumerate(cv.split(X, y)):\n",
        "        X_train, y_train = X.loc[train_idx], y.iloc[train_idx]\n",
        "        X_val, y_val = X.loc[val_idx], y.iloc[val_idx]\n",
        "        \n",
        "        model.fit(\n",
        "            X_train, y_train,\n",
        "            eval_set=[(X_val, y_val)],\n",
        "            eval_metric='average_precision',\n",
        "            early_stopping_rounds=100,\n",
        "            feature_name=feature_name,\n",
        "            categorical_feature=categorical_feature,\n",
        "            verbose=False\n",
        "        )\n",
        "\n",
        "        if proba:\n",
        "            val_probs = model.predict_proba(X_val)[:, 1]\n",
        "            test_probs = model.predict_proba(X_test)[:, 1]\n",
        "            best_threshold = get_best_threshold(y_val, val_probs)\n",
        "            val_preds = (val_probs >= best_threshold).astype('int')\n",
        "            test_preds_fold = (test_probs >= best_threshold).astype('int')\n",
        "        else:\n",
        "            val_preds = model.predict(X_val)\n",
        "            test_preds_fold = model.predict(X_test)\n",
        "        \n",
        "        oof_preds.update(dict(zip(val_idx, val_preds)))\n",
        "        test_preds[f'fold{fold}'] = test_preds_fold\n",
        "\n",
        "        score = f1_score(y_val, val_preds)\n",
        "        scores.append(score)\n",
        "        print(f'Fold #{fold}: F1 = {score:.5f}')\n",
        "        _ = gc.collect()\n",
        "    print(f'Avg. F1 = {np.mean(scores):.5f} +/- {np.std(scores):.5f}')\n",
        "    \n",
        "    oof_preds = pd.Series(oof_preds).sort_index()\n",
        "    test_preds = pd.DataFrame.from_dict(test_preds)\n",
        "    test_preds['mode'] = test_preds.mode(axis=1)[0].astype('int')\n",
        "\n",
        "    return oof_preds, test_preds"
      ],
      "metadata": {
        "id": "0UBSsqwvj0I2"
      },
      "execution_count": 25,
      "outputs": []
    },
    {
      "cell_type": "code",
      "source": [
        "def run_experiment(data, proba, n_trials=10):\n",
        "    \n",
        "    X, y, X_test = data\n",
        "\n",
        "    base_params = {\n",
        "        'objective': 'binary',\n",
        "        'n_estimators': 10000,\n",
        "        'boosting_type': 'goss',\n",
        "        'extra_trees': True,\n",
        "        'verbosity': -1,\n",
        "        'device_type': 'cpu',\n",
        "        'random_state': SEED\n",
        "    }\n",
        "    \n",
        "    model = LGBMClassifier(**base_params)\n",
        "    \n",
        "    print(f'----------Hyperparameter tuning----------')\n",
        "    start = time.time()\n",
        "    study = tune_params(\n",
        "        data=(X, y),\n",
        "        model=model,\n",
        "        proba=proba,\n",
        "        n_trials=n_trials, \n",
        "        direction='maximize' #metric: f1-score/avg_precision -> higher is better\n",
        "    )\n",
        "    end = time.time()\n",
        "    print(f'Best trial: {study.best_trial.number} -> Best value: {study.best_value:.5f}')\n",
        "    print(f'Best hyperparameters:')\n",
        "    for k, v in study.best_params.items():\n",
        "        print(f'{k:15} - {v}')\n",
        "    print(f'[Time taken: {end - start:.2f}s]\\n')\n",
        "    \n",
        "    print(f'-----Cross-validation and prediction-----')\n",
        "    start = time.time()\n",
        "    model.set_params(**study.best_params)\n",
        "    oof_preds, test_preds = cross_validate_predict(data, model, proba)\n",
        "    end = time.time()\n",
        "    print(f'[Time taken: {end - start:.2f}s]\\n')\n",
        "\n",
        "    return oof_preds, test_preds"
      ],
      "metadata": {
        "id": "KkMeqc7EkKx-"
      },
      "execution_count": 26,
      "outputs": []
    },
    {
      "cell_type": "markdown",
      "source": [
        "**Trial runs**"
      ],
      "metadata": {
        "id": "Ri22_Ef0kzB0"
      }
    },
    {
      "cell_type": "code",
      "source": [
        "optuna.logging.set_verbosity(optuna.logging.INFO)"
      ],
      "metadata": {
        "id": "1lWtr5SYk0yu"
      },
      "execution_count": 27,
      "outputs": []
    },
    {
      "cell_type": "code",
      "source": [
        "%%time\n",
        "op, tp = run_experiment(\n",
        "    data=(train[features], train[TARGET], test[features]),\n",
        "    proba=False,\n",
        "    n_trials=3\n",
        ")"
      ],
      "metadata": {
        "colab": {
          "base_uri": "https://localhost:8080/"
        },
        "id": "QAPuSH6Jk4o8",
        "outputId": "b284a4e4-22c1-4021-831c-cecf8ab72d4e"
      },
      "execution_count": 28,
      "outputs": [
        {
          "output_type": "stream",
          "name": "stderr",
          "text": [
            "\u001b[32m[I 2022-11-13 14:12:05,682]\u001b[0m A new study created in memory with name: no-name-cbd0a840-fad6-4a34-9008-977a4c50356c\u001b[0m\n"
          ]
        },
        {
          "output_type": "stream",
          "name": "stdout",
          "text": [
            "----------Hyperparameter tuning----------\n"
          ]
        },
        {
          "output_type": "stream",
          "name": "stderr",
          "text": [
            "\u001b[32m[I 2022-11-13 14:12:09,905]\u001b[0m Trial 0 finished with value: 0.0 and parameters: {'learning_rate': 0.1, 'reg_alpha': 169.20000000000002, 'reg_lambda': 43.7, 'num_leaves': 315, 'max_depth': 3, 'min_child_samples': 708, 'min_split_gain': 0.14, 'colsample_bytree': 0.55, 'top_rate': 0.4, 'other_rate': 0.3, 'scale_pos_weight': 1.75, 'max_cat_to_onehot': 22}. Best is trial 0 with value: 0.0.\u001b[0m\n",
            "\u001b[32m[I 2022-11-13 14:12:13,373]\u001b[0m Trial 1 finished with value: 0.0 and parameters: {'learning_rate': 0.17500000000000002, 'reg_alpha': 23.700000000000003, 'reg_lambda': 133.9, 'num_leaves': 720, 'max_depth': 11, 'min_child_samples': 548, 'min_split_gain': 7.69, 'colsample_bytree': 0.7, 'top_rate': 0.2, 'other_rate': 0.05, 'scale_pos_weight': 11.600000000000001, 'max_cat_to_onehot': 11}. Best is trial 0 with value: 0.0.\u001b[0m\n",
            "\u001b[32m[I 2022-11-13 14:12:16,803]\u001b[0m Trial 2 finished with value: 0.0 and parameters: {'learning_rate': 0.225, 'reg_alpha': 183.20000000000002, 'reg_lambda': 73.2, 'num_leaves': 860, 'max_depth': 15, 'min_child_samples': 728, 'min_split_gain': 10.0, 'colsample_bytree': 0.9, 'top_rate': 0.30000000000000004, 'other_rate': 0.45, 'scale_pos_weight': 14.8, 'max_cat_to_onehot': 11}. Best is trial 0 with value: 0.0.\u001b[0m\n"
          ]
        },
        {
          "output_type": "stream",
          "name": "stdout",
          "text": [
            "Best trial: 0 -> Best value: 0.00000\n",
            "Best hyperparameters:\n",
            "learning_rate   - 0.1\n",
            "reg_alpha       - 169.20000000000002\n",
            "reg_lambda      - 43.7\n",
            "num_leaves      - 315\n",
            "max_depth       - 3\n",
            "min_child_samples - 708\n",
            "min_split_gain  - 0.14\n",
            "colsample_bytree - 0.55\n",
            "top_rate        - 0.4\n",
            "other_rate      - 0.3\n",
            "scale_pos_weight - 1.75\n",
            "max_cat_to_onehot - 22\n",
            "[Time taken: 11.25s]\n",
            "\n",
            "-----Cross-validation and prediction-----\n",
            "Fold #0: F1 = 0.00000\n",
            "Fold #1: F1 = 0.00000\n",
            "Fold #2: F1 = 0.00000\n",
            "Fold #3: F1 = 0.00000\n",
            "Fold #4: F1 = 0.00000\n",
            "Avg. F1 = 0.00000 +/- 0.00000\n",
            "[Time taken: 16.37s]\n",
            "\n",
            "CPU times: user 40.5 s, sys: 583 ms, total: 41.1 s\n",
            "Wall time: 27.6 s\n"
          ]
        }
      ]
    },
    {
      "cell_type": "code",
      "source": [
        "%%time\n",
        "op, tp = run_experiment(\n",
        "    data=(train[features], train[TARGET], test[features]),\n",
        "    proba=True,\n",
        "    n_trials=3\n",
        ")"
      ],
      "metadata": {
        "colab": {
          "base_uri": "https://localhost:8080/"
        },
        "id": "XNbZETHzv5yd",
        "outputId": "de74b18b-13d4-410c-cf6e-f64e65ec6b86"
      },
      "execution_count": 29,
      "outputs": [
        {
          "output_type": "stream",
          "name": "stderr",
          "text": [
            "\u001b[32m[I 2022-11-13 14:12:33,341]\u001b[0m A new study created in memory with name: no-name-21e381ed-6be0-4a99-b90d-39e2aa0e2b25\u001b[0m\n"
          ]
        },
        {
          "output_type": "stream",
          "name": "stdout",
          "text": [
            "----------Hyperparameter tuning----------\n"
          ]
        },
        {
          "output_type": "stream",
          "name": "stderr",
          "text": [
            "\u001b[32m[I 2022-11-13 14:12:37,433]\u001b[0m Trial 0 finished with value: 0.06396777611760725 and parameters: {'learning_rate': 0.1, 'reg_alpha': 169.20000000000002, 'reg_lambda': 43.7, 'num_leaves': 315, 'max_depth': 3, 'min_child_samples': 708, 'min_split_gain': 0.14, 'colsample_bytree': 0.55, 'top_rate': 0.4, 'other_rate': 0.3, 'scale_pos_weight': 1.75, 'max_cat_to_onehot': 22}. Best is trial 0 with value: 0.06396777611760725.\u001b[0m\n",
            "\u001b[32m[I 2022-11-13 14:12:40,903]\u001b[0m Trial 1 finished with value: 0.06396777611760725 and parameters: {'learning_rate': 0.17500000000000002, 'reg_alpha': 23.700000000000003, 'reg_lambda': 133.9, 'num_leaves': 720, 'max_depth': 11, 'min_child_samples': 548, 'min_split_gain': 7.69, 'colsample_bytree': 0.7, 'top_rate': 0.2, 'other_rate': 0.05, 'scale_pos_weight': 11.600000000000001, 'max_cat_to_onehot': 11}. Best is trial 0 with value: 0.06396777611760725.\u001b[0m\n",
            "\u001b[32m[I 2022-11-13 14:12:44,365]\u001b[0m Trial 2 finished with value: 0.06396777611760725 and parameters: {'learning_rate': 0.225, 'reg_alpha': 183.20000000000002, 'reg_lambda': 73.2, 'num_leaves': 860, 'max_depth': 15, 'min_child_samples': 728, 'min_split_gain': 10.0, 'colsample_bytree': 0.9, 'top_rate': 0.30000000000000004, 'other_rate': 0.45, 'scale_pos_weight': 14.8, 'max_cat_to_onehot': 11}. Best is trial 0 with value: 0.06396777611760725.\u001b[0m\n"
          ]
        },
        {
          "output_type": "stream",
          "name": "stdout",
          "text": [
            "Best trial: 0 -> Best value: 0.06397\n",
            "Best hyperparameters:\n",
            "learning_rate   - 0.1\n",
            "reg_alpha       - 169.20000000000002\n",
            "reg_lambda      - 43.7\n",
            "num_leaves      - 315\n",
            "max_depth       - 3\n",
            "min_child_samples - 708\n",
            "min_split_gain  - 0.14\n",
            "colsample_bytree - 0.55\n",
            "top_rate        - 0.4\n",
            "other_rate      - 0.3\n",
            "scale_pos_weight - 1.75\n",
            "max_cat_to_onehot - 22\n",
            "[Time taken: 11.13s]\n",
            "\n",
            "-----Cross-validation and prediction-----\n",
            "Fold #0: F1 = 0.12030\n",
            "Fold #1: F1 = 0.12030\n",
            "Fold #2: F1 = 0.12016\n",
            "Fold #3: F1 = 0.12016\n",
            "Fold #4: F1 = 0.12031\n",
            "Avg. F1 = 0.12024 +/- 0.00007\n",
            "[Time taken: 17.17s]\n",
            "\n",
            "CPU times: user 41.3 s, sys: 610 ms, total: 41.9 s\n",
            "Wall time: 28.3 s\n"
          ]
        }
      ]
    },
    {
      "cell_type": "code",
      "source": [
        "optuna.logging.set_verbosity(optuna.logging.ERROR)"
      ],
      "metadata": {
        "id": "j6CPkw2AwBfu"
      },
      "execution_count": 30,
      "outputs": []
    },
    {
      "cell_type": "markdown",
      "source": [
        "# Exp 1"
      ],
      "metadata": {
        "id": "XEosvKAmzvvr"
      }
    },
    {
      "cell_type": "code",
      "source": [
        "%%time\n",
        "op1, tp1 = run_experiment(\n",
        "    data=(train[features], train[TARGET], test[features]),\n",
        "    proba=False,\n",
        "    n_trials=200\n",
        ")"
      ],
      "metadata": {
        "colab": {
          "base_uri": "https://localhost:8080/"
        },
        "id": "HSTivemPzzNo",
        "outputId": "0391872e-06d8-4c13-c110-528c95287e69"
      },
      "execution_count": 31,
      "outputs": [
        {
          "output_type": "stream",
          "name": "stdout",
          "text": [
            "----------Hyperparameter tuning----------\n",
            "Best trial: 138 -> Best value: 0.14467\n",
            "Best hyperparameters:\n",
            "learning_rate   - 0.025\n",
            "reg_alpha       - 168.3\n",
            "reg_lambda      - 8.9\n",
            "num_leaves      - 130\n",
            "max_depth       - 6\n",
            "min_child_samples - 306\n",
            "min_split_gain  - 6.29\n",
            "colsample_bytree - 0.5\n",
            "top_rate        - 0.15000000000000002\n",
            "other_rate      - 0.35000000000000003\n",
            "scale_pos_weight - 11.950000000000001\n",
            "max_cat_to_onehot - 3\n",
            "[Time taken: 1107.12s]\n",
            "\n",
            "-----Cross-validation and prediction-----\n",
            "Fold #0: F1 = 0.13963\n",
            "Fold #1: F1 = 0.13876\n",
            "Fold #2: F1 = 0.14898\n",
            "Fold #3: F1 = 0.14815\n",
            "Fold #4: F1 = 0.14783\n",
            "Avg. F1 = 0.14467 +/- 0.00450\n",
            "[Time taken: 15.54s]\n",
            "\n",
            "CPU times: user 34min 11s, sys: 10.6 s, total: 34min 21s\n",
            "Wall time: 18min 42s\n"
          ]
        }
      ]
    },
    {
      "cell_type": "markdown",
      "source": [
        "# Exp 2"
      ],
      "metadata": {
        "id": "A3PbmLOsz5eN"
      }
    },
    {
      "cell_type": "code",
      "source": [
        "%%time\n",
        "op2, tp2 = run_experiment(\n",
        "    data=(train[features], train[TARGET], test[features]),\n",
        "    proba=True,\n",
        "    n_trials=200\n",
        ")"
      ],
      "metadata": {
        "colab": {
          "base_uri": "https://localhost:8080/"
        },
        "id": "ZkMLAYWpz9i6",
        "outputId": "fe28f7ac-a477-4d23-bab6-fd326dded590"
      },
      "execution_count": 32,
      "outputs": [
        {
          "output_type": "stream",
          "name": "stdout",
          "text": [
            "----------Hyperparameter tuning----------\n",
            "Best trial: 162 -> Best value: 0.10325\n",
            "Best hyperparameters:\n",
            "learning_rate   - 0.17500000000000002\n",
            "reg_alpha       - 4.3\n",
            "reg_lambda      - 50.400000000000006\n",
            "num_leaves      - 1190\n",
            "max_depth       - 13\n",
            "min_child_samples - 56\n",
            "min_split_gain  - 0.02\n",
            "colsample_bytree - 0.75\n",
            "top_rate        - 0.2\n",
            "other_rate      - 0.5\n",
            "scale_pos_weight - 1.3\n",
            "max_cat_to_onehot - 11\n",
            "[Time taken: 1631.64s]\n",
            "\n",
            "-----Cross-validation and prediction-----\n",
            "Fold #0: F1 = 0.17407\n",
            "Fold #1: F1 = 0.17335\n",
            "Fold #2: F1 = 0.16927\n",
            "Fold #3: F1 = 0.17376\n",
            "Fold #4: F1 = 0.16729\n",
            "Avg. F1 = 0.17155 +/- 0.00275\n",
            "[Time taken: 34.61s]\n",
            "\n",
            "CPU times: user 51min 37s, sys: 17.2 s, total: 51min 54s\n",
            "Wall time: 27min 46s\n"
          ]
        }
      ]
    },
    {
      "cell_type": "markdown",
      "source": [
        "# Submission files"
      ],
      "metadata": {
        "id": "EahA1dJ47Z1P"
      }
    },
    {
      "cell_type": "code",
      "source": [
        "from google.colab import drive\n",
        "drive.mount('/content/drive')"
      ],
      "metadata": {
        "colab": {
          "base_uri": "https://localhost:8080/"
        },
        "id": "7npzUESt7bGc",
        "outputId": "1b162bd9-7fef-4c65-b371-dd0a1385303a"
      },
      "execution_count": 33,
      "outputs": [
        {
          "output_type": "stream",
          "name": "stdout",
          "text": [
            "Mounted at /content/drive\n"
          ]
        }
      ]
    },
    {
      "cell_type": "code",
      "source": [
        "NOTEBOOK = '02'\n",
        "SUBMISSION_PATH = f'/content/drive/MyDrive/data_science_competitions/analytics_vidhya/dataverse_hack/submissions/nb_{NOTEBOOK}'\n",
        "if not os.path.isdir(SUBMISSION_PATH):\n",
        "    os.makedirs(SUBMISSION_PATH)"
      ],
      "metadata": {
        "id": "Z39yNfKD7b95"
      },
      "execution_count": 34,
      "outputs": []
    },
    {
      "cell_type": "code",
      "source": [
        "def create_submission_files(test_preds: pd.DataFrame, expt_num: int):\n",
        "    for col in (test_preds.columns):\n",
        "        sub = sample_sub.copy()\n",
        "        sub[TARGET] = test_preds[col]\n",
        "        sub.to_csv(f'{SUBMISSION_PATH}/{expt_num}_{col}.csv', index=False)"
      ],
      "metadata": {
        "id": "5y6XhjNx8OJT"
      },
      "execution_count": 35,
      "outputs": []
    },
    {
      "cell_type": "code",
      "source": [
        "create_submission_files(tp1, '01')\n",
        "create_submission_files(tp2, '02')"
      ],
      "metadata": {
        "id": "Ii5dHRpk8Rve"
      },
      "execution_count": 36,
      "outputs": []
    }
  ]
}