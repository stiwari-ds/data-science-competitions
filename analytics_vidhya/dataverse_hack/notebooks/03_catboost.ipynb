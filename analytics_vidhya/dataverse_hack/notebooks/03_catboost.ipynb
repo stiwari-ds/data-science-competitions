{
  "nbformat": 4,
  "nbformat_minor": 0,
  "metadata": {
    "colab": {
      "provenance": []
    },
    "kernelspec": {
      "name": "python3",
      "display_name": "Python 3"
    },
    "language_info": {
      "name": "python"
    }
  },
  "cells": [
    {
      "cell_type": "markdown",
      "source": [
        "# Setup"
      ],
      "metadata": {
        "id": "HO96_P_uh3mj"
      }
    },
    {
      "cell_type": "code",
      "execution_count": 1,
      "metadata": {
        "id": "oJGZ2XRPhK5A"
      },
      "outputs": [],
      "source": [
        "%%capture\n",
        "!pip install --upgrade optuna\n",
        "!pip install --upgrade catboost"
      ]
    },
    {
      "cell_type": "code",
      "source": [
        "import os\n",
        "import gc\n",
        "import time\n",
        "import warnings\n",
        "\n",
        "gc.enable()\n",
        "warnings.filterwarnings('ignore')\n",
        "\n",
        "import pandas as pd\n",
        "import numpy as np\n",
        "pd.set_option('display.max_columns', None)\n",
        "pd.set_option('display.precision', 4)\n",
        "np.set_printoptions(precision=4)\n",
        "\n",
        "import optuna\n",
        "from optuna.samplers import TPESampler\n",
        "from optuna.pruners import HyperbandPruner\n",
        "\n",
        "import catboost\n",
        "from catboost import CatBoostClassifier\n",
        "\n",
        "from sklearn.model_selection import StratifiedKFold\n",
        "from sklearn.metrics import f1_score, average_precision_score"
      ],
      "metadata": {
        "id": "_t390KWjhZ-D"
      },
      "execution_count": 2,
      "outputs": []
    },
    {
      "cell_type": "code",
      "source": [
        "optuna.__version__, catboost.__version__"
      ],
      "metadata": {
        "id": "NybqUn3whlFZ",
        "colab": {
          "base_uri": "https://localhost:8080/"
        },
        "outputId": "58f208ad-823b-41ca-f7cf-64ff264918b7"
      },
      "execution_count": 3,
      "outputs": [
        {
          "output_type": "execute_result",
          "data": {
            "text/plain": [
              "('3.0.3', '1.1.1')"
            ]
          },
          "metadata": {},
          "execution_count": 3
        }
      ]
    },
    {
      "cell_type": "code",
      "source": [
        "SEED = 2311\n",
        "os.environ['PYTHONHASHSEED'] = str(SEED)\n",
        "np.random.seed(SEED)"
      ],
      "metadata": {
        "id": "QZFT1zVDj31u"
      },
      "execution_count": 4,
      "outputs": []
    },
    {
      "cell_type": "code",
      "source": [
        "DATA_URL = 'https://raw.githubusercontent.com/stiwari-ds/data-science-competitions/main/analytics_vidhya/dataverse_hack/data'\n",
        "\n",
        "train = pd.read_csv(f'{DATA_URL}/processed/train.csv') #processed dataset from notebook 00\n",
        "test = pd.read_csv(f'{DATA_URL}/processed/test.csv')\n",
        "sample_sub = pd.read_csv(f'{DATA_URL}/raw/sample_submission.csv')"
      ],
      "metadata": {
        "id": "LOHMVhw1ZZS6"
      },
      "execution_count": 5,
      "outputs": []
    },
    {
      "cell_type": "code",
      "source": [
        "TARGET = 'is_claim'"
      ],
      "metadata": {
        "id": "KEJQopfVZppB"
      },
      "execution_count": 6,
      "outputs": []
    },
    {
      "cell_type": "code",
      "source": [
        "features = list(test.columns)\n",
        "\n",
        "num_features = ['policy_tenure', 'age_of_car', 'age_of_policyholder', \n",
        "                'population_density', 'airbags', 'displacement', 'turning_radius',\n",
        "                'length', 'width','height', 'gross_weight', 'ncap_rating']\n",
        "\n",
        "cat_features = [f for f in features if f not in num_features]"
      ],
      "metadata": {
        "id": "3zTnF1bvZx-o"
      },
      "execution_count": 7,
      "outputs": []
    },
    {
      "cell_type": "code",
      "source": [
        "train[cat_features] = train[cat_features].astype('category')\n",
        "test[cat_features] = test[cat_features].astype('category')"
      ],
      "metadata": {
        "id": "XfL4105vM-3q"
      },
      "execution_count": 8,
      "outputs": []
    },
    {
      "cell_type": "markdown",
      "source": [
        "# Baseline"
      ],
      "metadata": {
        "id": "5ujG5XlvHCCB"
      }
    },
    {
      "cell_type": "code",
      "source": [
        "def get_best_threshold(y_true, pred_probs):\n",
        "    candidate_thresholds = np.arange(0, 1, 0.01)\n",
        "    candidate_scores = [f1_score(y_true, (pred_probs >= t).astype('int')) \n",
        "                        for t in candidate_thresholds]\n",
        "    best_threshold = candidate_thresholds[np.argmax(candidate_scores)]\n",
        "    return best_threshold"
      ],
      "metadata": {
        "id": "JeqGfqXi8ypM"
      },
      "execution_count": 9,
      "outputs": []
    },
    {
      "cell_type": "code",
      "source": [
        "%%time\n",
        "scores_f1 = []\n",
        "cv = StratifiedKFold(n_splits=5, shuffle=True, random_state=SEED)\n",
        "X, y = train[features], train[TARGET]\n",
        "cat_features = list(X.select_dtypes(include='category').columns)\n",
        "for fold, (train_idx, val_idx) in enumerate(cv.split(X, y)):\n",
        "    X_train, y_train = X.loc[train_idx], y.iloc[train_idx]\n",
        "    X_val, y_val = X.loc[val_idx], y.iloc[val_idx]\n",
        "\n",
        "    model = CatBoostClassifier(\n",
        "        loss_function='Logloss',\n",
        "        eval_metric='F1',\n",
        "        langevin=True,\n",
        "        use_best_model=True,\n",
        "        verbose=False,\n",
        "        random_state=SEED\n",
        "    ) \n",
        "    model.fit(\n",
        "        X_train, y_train,\n",
        "        eval_set=[(X_val, y_val)],\n",
        "        cat_features=cat_features,\n",
        "        early_stopping_rounds=100,\n",
        "        verbose=False\n",
        "    )\n",
        "    val_probs = model.predict_proba(X_val)[:, 1]\n",
        "    best_threshold = get_best_threshold(y_val, val_probs)\n",
        "    val_preds = (val_probs >= best_threshold).astype('int')\n",
        "\n",
        "    score = f1_score(y_val, val_preds)\n",
        "    scores_f1.append(score)\n",
        "    print(f'Fold #{fold}: ({model.best_iteration_} rounds) F1-score = {score:.5f}')\n",
        "    _ = gc.collect()\n",
        "\n",
        "print(f'\\nAvg F1-score = {np.mean(scores_f1):.5f} +/- {np.std(scores_f1):.5f}\\n')"
      ],
      "metadata": {
        "colab": {
          "base_uri": "https://localhost:8080/"
        },
        "id": "ccFthHeorwUe",
        "outputId": "c160bffd-d08c-4007-9b1c-0dd1130e33df"
      },
      "execution_count": 13,
      "outputs": [
        {
          "output_type": "stream",
          "name": "stdout",
          "text": [
            "Fold #0: (0 rounds) F1-score = 0.14746\n",
            "Fold #1: (0 rounds) F1-score = 0.14957\n",
            "Fold #2: (0 rounds) F1-score = 0.12016\n",
            "Fold #3: (0 rounds) F1-score = 0.12016\n",
            "Fold #4: (0 rounds) F1-score = 0.12031\n",
            "\n",
            "Avg F1-score = 0.13153 +/- 0.01388\n",
            "\n",
            "CPU times: user 1min 5s, sys: 1.38 s, total: 1min 7s\n",
            "Wall time: 38.2 s\n"
          ]
        }
      ]
    },
    {
      "cell_type": "markdown",
      "metadata": {
        "id": "oVZEqwhQ2oi2"
      },
      "source": [
        "# Hyperparameter tuning"
      ]
    },
    {
      "cell_type": "code",
      "execution_count": 22,
      "metadata": {
        "id": "i3VeEFRe2oBe"
      },
      "outputs": [],
      "source": [
        "def objective(trial, data, base_params, proba):\n",
        "\n",
        "    scores = []\n",
        "    X, y = data\n",
        "    cat_features = list(X.select_dtypes(include='category').columns)\n",
        "    \n",
        "    param_grid = {\n",
        "        'learning_rate': trial.suggest_float('learning_rate', 0.1, 0.5, step=0.05),\n",
        "        'l2_leaf_reg': trial.suggest_float('l2_leaf_reg', 2, 15, step=0.1),\n",
        "        'depth': trial.suggest_int('depth', 3, 12),\n",
        "        'rsm': trial.suggest_float('rsm', 0.5, 1.0, step=0.05), #colsample_bylevel\n",
        "        'random_strength': trial.suggest_float('random_strength', 0.5, 2, step=0.05),\n",
        "        'scale_pos_weight': trial.suggest_float('scale_pos_weight', 1, 15, step=0.05),\n",
        "        'one_hot_max_size': trial.suggest_categorical('one_hot_max_size', [3, 6, 11, 22]),\n",
        "        'bootstrap_type': trial.suggest_categorical(\n",
        "            'bootstrap_type', ['Bayesian', 'Bernoulli', 'MVS'])\n",
        "    }\n",
        "    #conditional hyperparameters\n",
        "    if param_grid['bootstrap_type'] == 'Bayesian':\n",
        "        param_grid['bagging_temperature'] = trial.suggest_int('bagging_temperature', 0, 10)\n",
        "    else:\n",
        "        param_grid['subsample'] = trial.suggest_float('subsample', 0.25, 1.0, step=0.05)\n",
        "\n",
        "    cv = StratifiedKFold(n_splits=5, shuffle=True, random_state=SEED)\n",
        "    for fold, (train_idx, val_idx) in enumerate(cv.split(X, y)):\n",
        "        X_train, y_train = X.loc[train_idx], y.iloc[train_idx]\n",
        "        X_val, y_val = X.loc[val_idx], y.iloc[val_idx]\n",
        "        \n",
        "        model = CatBoostClassifier(**base_params, **param_grid)\n",
        "        model.fit(\n",
        "            X_train, y_train,\n",
        "            eval_set=[(X_val, y_val)],\n",
        "            cat_features=cat_features,\n",
        "            early_stopping_rounds=100,\n",
        "            verbose=False\n",
        "        )\n",
        "\n",
        "        if proba:\n",
        "            val_preds = model.predict_proba(X_val)[:, 1]\n",
        "            scores.append(average_precision_score(y_val, val_preds))\n",
        "        else:\n",
        "            val_preds = model.predict(X_val)\n",
        "            scores.append(f1_score(y_val, val_preds))\n",
        "\n",
        "    return np.mean(scores)"
      ]
    },
    {
      "cell_type": "code",
      "execution_count": 23,
      "metadata": {
        "id": "7JCjxMSuT3Ep"
      },
      "outputs": [],
      "source": [
        "def tune_params(data, base_params, proba, n_trials=10, direction='maximize'):\n",
        "    study = optuna.create_study(\n",
        "        sampler=TPESampler(seed=SEED),\n",
        "        pruner=HyperbandPruner(),\n",
        "        direction=direction\n",
        "    )\n",
        "    study.optimize(\n",
        "        func=lambda trial: objective(trial, data, base_params, proba),\n",
        "        n_trials=n_trials,\n",
        "        gc_after_trial=True\n",
        "    )\n",
        "    return study"
      ]
    },
    {
      "cell_type": "markdown",
      "source": [
        "# Cross-validation"
      ],
      "metadata": {
        "id": "_IdnAvEkjxqS"
      }
    },
    {
      "cell_type": "code",
      "source": [
        "def cross_validate_predict(data, model_params, proba, n_splits=5):\n",
        "    oof_preds = {}  #out-of-fold predictions on train set\n",
        "    test_preds = {} #predictions on test set for each fold\n",
        "    scores = [] #scores on validation set\n",
        "\n",
        "    X, y, X_test = data\n",
        "    cat_features = list(X.select_dtypes(include='category').columns)\n",
        "       \n",
        "    cv = StratifiedKFold(n_splits=n_splits, shuffle=True, random_state=SEED)\n",
        "    for fold, (train_idx, val_idx) in enumerate(cv.split(X, y)):\n",
        "        X_train, y_train = X.loc[train_idx], y.iloc[train_idx]\n",
        "        X_val, y_val = X.loc[val_idx], y.iloc[val_idx]\n",
        "        \n",
        "        model = CatBoostClassifier(**model_params)\n",
        "        model.fit(\n",
        "            X_train, y_train,\n",
        "            eval_set=[(X_val, y_val)],\n",
        "            cat_features=cat_features,\n",
        "            early_stopping_rounds=100,\n",
        "            verbose=False\n",
        "        )\n",
        "\n",
        "        if proba:\n",
        "            val_probs = model.predict_proba(X_val)[:, 1]\n",
        "            test_probs = model.predict_proba(X_test)[:, 1]\n",
        "            best_threshold = get_best_threshold(y_val, val_probs)\n",
        "            val_preds = (val_probs >= best_threshold).astype('int')\n",
        "            test_preds_fold = (test_probs >= best_threshold).astype('int')\n",
        "        else:\n",
        "            val_preds = model.predict(X_val)\n",
        "            test_preds_fold = model.predict(X_test)\n",
        "        \n",
        "        oof_preds.update(dict(zip(val_idx, val_preds)))\n",
        "        test_preds[f'fold{fold}'] = test_preds_fold\n",
        "\n",
        "        score = f1_score(y_val, val_preds)\n",
        "        scores.append(score)\n",
        "        print(f'Fold #{fold}: F1 = {score:.5f}')\n",
        "        _ = gc.collect()\n",
        "    print(f'Avg. F1 = {np.mean(scores):.5f} +/- {np.std(scores):.5f}')\n",
        "    \n",
        "    oof_preds = pd.Series(oof_preds).sort_index()\n",
        "    test_preds = pd.DataFrame.from_dict(test_preds)\n",
        "    test_preds['mode'] = test_preds.mode(axis=1)[0].astype('int')\n",
        "\n",
        "    return oof_preds, test_preds"
      ],
      "metadata": {
        "id": "0UBSsqwvj0I2"
      },
      "execution_count": 24,
      "outputs": []
    },
    {
      "cell_type": "code",
      "source": [
        "def run_experiment(data, proba, n_trials=10):\n",
        "    \n",
        "    X, y, X_test = data\n",
        "\n",
        "    base_params = {\n",
        "        'n_estimators': 10000,\n",
        "        'loss_function': 'Logloss',\n",
        "        'eval_metric': 'F1',\n",
        "        'langevin': True,\n",
        "        'use_best_model': True,\n",
        "        'verbose': False,\n",
        "        'random_seed': SEED\n",
        "    }\n",
        "        \n",
        "    print(f'----------Hyperparameter tuning----------')\n",
        "    start = time.time()\n",
        "    study = tune_params(\n",
        "        data=(X, y),\n",
        "        base_params=base_params,\n",
        "        proba=proba,\n",
        "        n_trials=n_trials, \n",
        "        direction='maximize' #metric: f1-score/avg_precision -> higher is better\n",
        "    )\n",
        "    end = time.time()\n",
        "    print(f'Best trial: {study.best_trial.number} -> Best value: {study.best_value:.5f}')\n",
        "    print(f'Best hyperparameters:')\n",
        "    for k, v in study.best_params.items():\n",
        "        print(f'{k:15} - {v}')\n",
        "    print(f'[Time taken: {end - start:.2f}s]\\n')\n",
        "    \n",
        "    print(f'-----Cross-validation and prediction-----')\n",
        "    start = time.time()\n",
        "    model_params = {**base_params, **study.best_params}\n",
        "    oof_preds, test_preds = cross_validate_predict(data, model_params, proba)\n",
        "    end = time.time()\n",
        "    print(f'[Time taken: {end - start:.2f}s]\\n')\n",
        "\n",
        "    return oof_preds, test_preds"
      ],
      "metadata": {
        "id": "KkMeqc7EkKx-"
      },
      "execution_count": 25,
      "outputs": []
    },
    {
      "cell_type": "markdown",
      "source": [
        "**Trial runs**"
      ],
      "metadata": {
        "id": "Ri22_Ef0kzB0"
      }
    },
    {
      "cell_type": "code",
      "source": [
        "optuna.logging.set_verbosity(optuna.logging.INFO)"
      ],
      "metadata": {
        "id": "1lWtr5SYk0yu"
      },
      "execution_count": 26,
      "outputs": []
    },
    {
      "cell_type": "code",
      "source": [
        "%%time\n",
        "op, tp = run_experiment(\n",
        "    data=(train[features], train[TARGET], test[features]),\n",
        "    proba=False,\n",
        "    n_trials=3\n",
        ")"
      ],
      "metadata": {
        "colab": {
          "base_uri": "https://localhost:8080/"
        },
        "id": "QAPuSH6Jk4o8",
        "outputId": "510d65d7-c7cd-433a-f6cb-aba15dcf83df"
      },
      "execution_count": 27,
      "outputs": [
        {
          "output_type": "stream",
          "name": "stderr",
          "text": [
            "\u001b[32m[I 2022-11-13 14:24:42,519]\u001b[0m A new study created in memory with name: no-name-380320bd-70f9-4dac-ae97-5886dbb17bb9\u001b[0m\n"
          ]
        },
        {
          "output_type": "stream",
          "name": "stdout",
          "text": [
            "----------Hyperparameter tuning----------\n"
          ]
        },
        {
          "output_type": "stream",
          "name": "stderr",
          "text": [
            "\u001b[32m[I 2022-11-13 14:25:04,805]\u001b[0m Trial 0 finished with value: 0.16830967061267366 and parameters: {'learning_rate': 0.2, 'l2_leaf_reg': 13.0, 'depth': 5, 'rsm': 0.55, 'random_strength': 0.55, 'scale_pos_weight': 10.9, 'one_hot_max_size': 11, 'bootstrap_type': 'MVS', 'subsample': 0.9}. Best is trial 0 with value: 0.16830967061267366.\u001b[0m\n",
            "\u001b[32m[I 2022-11-13 14:25:29,730]\u001b[0m Trial 1 finished with value: 0.17538463603935872 and parameters: {'learning_rate': 0.5, 'l2_leaf_reg': 9.5, 'depth': 4, 'rsm': 0.8500000000000001, 'random_strength': 1.05, 'scale_pos_weight': 9.8, 'one_hot_max_size': 6, 'bootstrap_type': 'Bernoulli', 'subsample': 0.55}. Best is trial 1 with value: 0.17538463603935872.\u001b[0m\n",
            "\u001b[32m[I 2022-11-13 14:27:22,377]\u001b[0m Trial 2 finished with value: 0.14057423651445017 and parameters: {'learning_rate': 0.35, 'l2_leaf_reg': 5.9, 'depth': 10, 'rsm': 1.0, 'random_strength': 1.05, 'scale_pos_weight': 6.95, 'one_hot_max_size': 3, 'bootstrap_type': 'MVS', 'subsample': 0.9500000000000001}. Best is trial 1 with value: 0.17538463603935872.\u001b[0m\n"
          ]
        },
        {
          "output_type": "stream",
          "name": "stdout",
          "text": [
            "Best trial: 1 -> Best value: 0.17538\n",
            "Best hyperparameters:\n",
            "learning_rate   - 0.5\n",
            "l2_leaf_reg     - 9.5\n",
            "depth           - 4\n",
            "rsm             - 0.8500000000000001\n",
            "random_strength - 1.05\n",
            "scale_pos_weight - 9.8\n",
            "one_hot_max_size - 6\n",
            "bootstrap_type  - Bernoulli\n",
            "subsample       - 0.55\n",
            "[Time taken: 160.00s]\n",
            "\n",
            "-----Cross-validation and prediction-----\n",
            "Fold #0: F1 = 0.17692\n",
            "Fold #1: F1 = 0.17835\n",
            "Fold #2: F1 = 0.17354\n",
            "Fold #3: F1 = 0.17355\n",
            "Fold #4: F1 = 0.17456\n",
            "Avg. F1 = 0.17538 +/- 0.00193\n",
            "[Time taken: 34.32s]\n",
            "\n",
            "CPU times: user 5min 27s, sys: 8.16 s, total: 5min 35s\n",
            "Wall time: 3min 14s\n"
          ]
        }
      ]
    },
    {
      "cell_type": "code",
      "source": [
        "%%time\n",
        "op, tp = run_experiment(\n",
        "    data=(train[features], train[TARGET], test[features]),\n",
        "    proba=True,\n",
        "    n_trials=3\n",
        ")"
      ],
      "metadata": {
        "colab": {
          "base_uri": "https://localhost:8080/"
        },
        "id": "XNbZETHzv5yd",
        "outputId": "b464f6a6-5f56-4600-d26f-6402a250fcbf"
      },
      "execution_count": 28,
      "outputs": [
        {
          "output_type": "stream",
          "name": "stderr",
          "text": [
            "\u001b[32m[I 2022-11-13 14:27:56,882]\u001b[0m A new study created in memory with name: no-name-565ef050-dec6-4033-8572-31c00e7c6a4d\u001b[0m\n"
          ]
        },
        {
          "output_type": "stream",
          "name": "stdout",
          "text": [
            "----------Hyperparameter tuning----------\n"
          ]
        },
        {
          "output_type": "stream",
          "name": "stderr",
          "text": [
            "\u001b[32m[I 2022-11-13 14:28:22,633]\u001b[0m Trial 0 finished with value: 0.10117079573162806 and parameters: {'learning_rate': 0.2, 'l2_leaf_reg': 13.0, 'depth': 5, 'rsm': 0.55, 'random_strength': 0.55, 'scale_pos_weight': 10.9, 'one_hot_max_size': 11, 'bootstrap_type': 'MVS', 'subsample': 0.9}. Best is trial 0 with value: 0.10117079573162806.\u001b[0m\n",
            "\u001b[32m[I 2022-11-13 14:28:46,745]\u001b[0m Trial 1 finished with value: 0.107003485574326 and parameters: {'learning_rate': 0.5, 'l2_leaf_reg': 9.5, 'depth': 4, 'rsm': 0.8500000000000001, 'random_strength': 1.05, 'scale_pos_weight': 9.8, 'one_hot_max_size': 6, 'bootstrap_type': 'Bernoulli', 'subsample': 0.55}. Best is trial 1 with value: 0.107003485574326.\u001b[0m\n",
            "\u001b[32m[I 2022-11-13 14:30:32,819]\u001b[0m Trial 2 finished with value: 0.09535158352950965 and parameters: {'learning_rate': 0.35, 'l2_leaf_reg': 5.9, 'depth': 10, 'rsm': 1.0, 'random_strength': 1.05, 'scale_pos_weight': 6.95, 'one_hot_max_size': 3, 'bootstrap_type': 'MVS', 'subsample': 0.9500000000000001}. Best is trial 1 with value: 0.107003485574326.\u001b[0m\n"
          ]
        },
        {
          "output_type": "stream",
          "name": "stdout",
          "text": [
            "Best trial: 1 -> Best value: 0.10700\n",
            "Best hyperparameters:\n",
            "learning_rate   - 0.5\n",
            "l2_leaf_reg     - 9.5\n",
            "depth           - 4\n",
            "rsm             - 0.8500000000000001\n",
            "random_strength - 1.05\n",
            "scale_pos_weight - 9.8\n",
            "one_hot_max_size - 6\n",
            "bootstrap_type  - Bernoulli\n",
            "subsample       - 0.55\n",
            "[Time taken: 156.05s]\n",
            "\n",
            "-----Cross-validation and prediction-----\n",
            "Fold #0: F1 = 0.17960\n",
            "Fold #1: F1 = 0.18009\n",
            "Fold #2: F1 = 0.17354\n",
            "Fold #3: F1 = 0.17355\n",
            "Fold #4: F1 = 0.17456\n",
            "Avg. F1 = 0.17627 +/- 0.00295\n",
            "[Time taken: 35.96s]\n",
            "\n",
            "CPU times: user 5min 28s, sys: 8.08 s, total: 5min 36s\n",
            "Wall time: 3min 12s\n"
          ]
        }
      ]
    },
    {
      "cell_type": "code",
      "source": [
        "optuna.logging.set_verbosity(optuna.logging.ERROR)"
      ],
      "metadata": {
        "id": "j6CPkw2AwBfu"
      },
      "execution_count": 29,
      "outputs": []
    },
    {
      "cell_type": "markdown",
      "source": [
        "# Exp 1"
      ],
      "metadata": {
        "id": "XEosvKAmzvvr"
      }
    },
    {
      "cell_type": "code",
      "source": [
        "%%time\n",
        "op1, tp1 = run_experiment(\n",
        "    data=(train[features], train[TARGET], test[features]),\n",
        "    proba=False,\n",
        "    n_trials=100\n",
        ")"
      ],
      "metadata": {
        "colab": {
          "base_uri": "https://localhost:8080/"
        },
        "id": "HSTivemPzzNo",
        "outputId": "73314eb5-3d2f-4399-8127-02c2f55d51ef"
      },
      "execution_count": 30,
      "outputs": [
        {
          "output_type": "stream",
          "name": "stdout",
          "text": [
            "----------Hyperparameter tuning----------\n",
            "Best trial: 52 -> Best value: 0.17748\n",
            "Best hyperparameters:\n",
            "learning_rate   - 0.5\n",
            "l2_leaf_reg     - 13.600000000000001\n",
            "depth           - 8\n",
            "rsm             - 1.0\n",
            "random_strength - 1.9000000000000001\n",
            "scale_pos_weight - 10.15\n",
            "one_hot_max_size - 6\n",
            "bootstrap_type  - MVS\n",
            "subsample       - 0.8\n",
            "[Time taken: 4201.04s]\n",
            "\n",
            "-----Cross-validation and prediction-----\n",
            "Fold #0: F1 = 0.18511\n",
            "Fold #1: F1 = 0.17574\n",
            "Fold #2: F1 = 0.18077\n",
            "Fold #3: F1 = 0.17831\n",
            "Fold #4: F1 = 0.16748\n",
            "Avg. F1 = 0.17748 +/- 0.00588\n",
            "[Time taken: 48.17s]\n",
            "\n",
            "CPU times: user 2h 6min 39s, sys: 3min 24s, total: 2h 10min 4s\n",
            "Wall time: 1h 10min 49s\n"
          ]
        }
      ]
    },
    {
      "cell_type": "markdown",
      "source": [
        "# Exp 2"
      ],
      "metadata": {
        "id": "A3PbmLOsz5eN"
      }
    },
    {
      "cell_type": "code",
      "source": [
        "%%time\n",
        "op2, tp2 = run_experiment(\n",
        "    data=(train[features], train[TARGET], test[features]),\n",
        "    proba=True,\n",
        "    n_trials=100\n",
        ")"
      ],
      "metadata": {
        "colab": {
          "base_uri": "https://localhost:8080/"
        },
        "id": "ZkMLAYWpz9i6",
        "outputId": "ee981d40-b8f4-4194-cf03-b6b48c1fcac7"
      },
      "execution_count": 31,
      "outputs": [
        {
          "output_type": "stream",
          "name": "stdout",
          "text": [
            "----------Hyperparameter tuning----------\n",
            "Best trial: 41 -> Best value: 0.10814\n",
            "Best hyperparameters:\n",
            "learning_rate   - 0.15000000000000002\n",
            "l2_leaf_reg     - 9.3\n",
            "depth           - 4\n",
            "rsm             - 0.95\n",
            "random_strength - 0.9\n",
            "scale_pos_weight - 8.25\n",
            "one_hot_max_size - 11\n",
            "bootstrap_type  - Bernoulli\n",
            "subsample       - 0.6000000000000001\n",
            "[Time taken: 3990.32s]\n",
            "\n",
            "-----Cross-validation and prediction-----\n",
            "Fold #0: F1 = 0.17694\n",
            "Fold #1: F1 = 0.18441\n",
            "Fold #2: F1 = 0.17417\n",
            "Fold #3: F1 = 0.17249\n",
            "Fold #4: F1 = 0.16734\n",
            "Avg. F1 = 0.17507 +/- 0.00562\n",
            "[Time taken: 62.28s]\n",
            "\n",
            "CPU times: user 1h 59min 24s, sys: 3min 27s, total: 2h 2min 52s\n",
            "Wall time: 1h 7min 32s\n"
          ]
        }
      ]
    },
    {
      "cell_type": "markdown",
      "source": [
        "# Submission files"
      ],
      "metadata": {
        "id": "EahA1dJ47Z1P"
      }
    },
    {
      "cell_type": "code",
      "source": [
        "from google.colab import drive\n",
        "drive.mount('/content/drive')"
      ],
      "metadata": {
        "id": "7npzUESt7bGc",
        "colab": {
          "base_uri": "https://localhost:8080/"
        },
        "outputId": "e8b8fbac-c972-4f20-d9ff-84bb7c9370ab"
      },
      "execution_count": 32,
      "outputs": [
        {
          "output_type": "stream",
          "name": "stdout",
          "text": [
            "Mounted at /content/drive\n"
          ]
        }
      ]
    },
    {
      "cell_type": "code",
      "source": [
        "NOTEBOOK = '03'\n",
        "SUBMISSION_PATH = f'/content/drive/MyDrive/data_science_competitions/analytics_vidhya/dataverse_hack/submissions/nb_{NOTEBOOK}'\n",
        "if not os.path.isdir(SUBMISSION_PATH):\n",
        "    os.makedirs(SUBMISSION_PATH)"
      ],
      "metadata": {
        "id": "Z39yNfKD7b95"
      },
      "execution_count": 33,
      "outputs": []
    },
    {
      "cell_type": "code",
      "source": [
        "def create_submission_files(test_preds: pd.DataFrame, expt_num: int):\n",
        "    for col in (test_preds.columns):\n",
        "        sub = sample_sub.copy()\n",
        "        sub[TARGET] = test_preds[col]\n",
        "        sub.to_csv(f'{SUBMISSION_PATH}/{expt_num}_{col}.csv', index=False)"
      ],
      "metadata": {
        "id": "5y6XhjNx8OJT"
      },
      "execution_count": 34,
      "outputs": []
    },
    {
      "cell_type": "code",
      "source": [
        "create_submission_files(tp1, '01')\n",
        "create_submission_files(tp2, '02')"
      ],
      "metadata": {
        "id": "Ii5dHRpk8Rve"
      },
      "execution_count": 35,
      "outputs": []
    }
  ]
}