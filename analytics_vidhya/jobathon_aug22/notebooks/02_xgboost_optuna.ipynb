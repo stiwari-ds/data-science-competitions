{
  "nbformat": 4,
  "nbformat_minor": 0,
  "metadata": {
    "colab": {
      "name": "02-xgboost-optuna",
      "provenance": [],
      "collapsed_sections": [],
      "authorship_tag": "ABX9TyNH3Gqe/ISIBraK7p94912+",
      "include_colab_link": true
    },
    "kernelspec": {
      "name": "python3",
      "display_name": "Python 3"
    },
    "language_info": {
      "name": "python"
    },
    "gpuClass": "standard",
    "accelerator": "GPU"
  },
  "cells": [
    {
      "cell_type": "markdown",
      "metadata": {
        "id": "view-in-github",
        "colab_type": "text"
      },
      "source": [
        "<a href=\"https://colab.research.google.com/github/stiwari-ds/data-science-competitions/blob/main/analytics_vidhya/jobathon_aug22/notebooks/02_xgboost_optuna.ipynb\" target=\"_parent\"><img src=\"https://colab.research.google.com/assets/colab-badge.svg\" alt=\"Open In Colab\"/></a>"
      ]
    },
    {
      "cell_type": "markdown",
      "source": [
        "# Setup"
      ],
      "metadata": {
        "id": "iNBBHKV4PPuL"
      }
    },
    {
      "cell_type": "code",
      "source": [
        "%%capture\n",
        "!pip install --upgrade xgboost\n",
        "!pip install --upgrade optuna"
      ],
      "metadata": {
        "id": "mSFEu5pbOG8H"
      },
      "execution_count": 27,
      "outputs": []
    },
    {
      "cell_type": "code",
      "source": [
        "import os\n",
        "import gc\n",
        "import warnings\n",
        "import subprocess\n",
        "\n",
        "gc.enable()\n",
        "warnings.filterwarnings('ignore')\n",
        "\n",
        "import numpy as np\n",
        "import pandas as pd\n",
        "pd.set_option('display.max_columns', None)\n",
        "pd.set_option('display.precision', 4)\n",
        "\n",
        "import xgboost\n",
        "import optuna\n",
        "optuna.logging.set_verbosity(optuna.logging.ERROR)\n",
        "\n",
        "from optuna.samplers import TPESampler\n",
        "from optuna.pruners import HyperbandPruner\n",
        "from optuna.integration import XGBoostPruningCallback\n",
        "from xgboost import XGBRegressor\n",
        "\n",
        "from sklearn.model_selection import KFold, train_test_split\n",
        "from sklearn.metrics import r2_score, mean_squared_error"
      ],
      "metadata": {
        "id": "ED0nrDojUJwv"
      },
      "execution_count": 28,
      "outputs": []
    },
    {
      "cell_type": "code",
      "source": [
        "#remove cell to run future versions\n",
        "assert optuna.__version__ == '2.10.1', f'Change in Optuna version. Original notebook version: 2.10.1'\n",
        "assert xgboost.__version__ == '1.6.1', f'Change in XGBoost version. Original notebook version: 1.6.1'"
      ],
      "metadata": {
        "id": "DqK-iTY57-Dd"
      },
      "execution_count": 29,
      "outputs": []
    },
    {
      "cell_type": "code",
      "source": [
        "SEED = 23\n",
        "os.environ['PYTHONHASHSEED'] = str(SEED)\n",
        "np.random.seed(SEED)"
      ],
      "metadata": {
        "id": "svKMbiWOmyLo"
      },
      "execution_count": 30,
      "outputs": []
    },
    {
      "cell_type": "code",
      "source": [
        "#Check GPU availability\n",
        "try:\n",
        "    subprocess.check_output('nvidia-smi')\n",
        "    GPU = True\n",
        "except Exception:\n",
        "    GPU = False\n",
        "\n",
        "print(f'GPU available: {GPU}')"
      ],
      "metadata": {
        "id": "Zx-xMI1_gxJP",
        "colab": {
          "base_uri": "https://localhost:8080/"
        },
        "outputId": "ff215e9e-4d9f-4546-9231-ad109215bdf6"
      },
      "execution_count": 31,
      "outputs": [
        {
          "output_type": "stream",
          "name": "stdout",
          "text": [
            "GPU available: True\n"
          ]
        }
      ]
    },
    {
      "cell_type": "markdown",
      "source": [
        "**Data**"
      ],
      "metadata": {
        "id": "1J4pyhWsPqyd"
      }
    },
    {
      "cell_type": "code",
      "source": [
        "data_url = 'https://raw.githubusercontent.com/stiwari-ds/data-science-competitions/main/analytics_vidhya/jobathon_aug22/data/'\n",
        "\n",
        "train = pd.read_csv(data_url + 'processed/train_proc.csv')\n",
        "test = pd.read_csv(data_url + 'processed/test_proc.csv')\n",
        "\n",
        "test_index_url = data_url + 'raw/test.csv'\n",
        "test_index = pd.read_csv(test_index_url, usecols=['campaign_id']).iloc[:, 0]\n",
        "\n",
        "target_url = data_url + 'raw/train.csv'\n",
        "target = pd.read_csv(target_url, usecols=['click_rate']).iloc[:, 0]"
      ],
      "metadata": {
        "id": "PVa8_7qvPs3u"
      },
      "execution_count": 32,
      "outputs": []
    },
    {
      "cell_type": "code",
      "source": [
        "features = list(test.columns)\n",
        "\n",
        "num_features = ['subject_len', 'body_len', 'mean_paragraph_len',\n",
        "                'no_of_CTA', 'mean_CTA_len', 'is_image', 'is_quote', \n",
        "                'is_emoticons']\n",
        "\n",
        "cat_features = [f for f in features if f not in num_features]"
      ],
      "metadata": {
        "id": "aBkNTYqxQD6L"
      },
      "execution_count": 33,
      "outputs": []
    },
    {
      "cell_type": "code",
      "source": [
        "train[cat_features] = train[cat_features].astype('category')\n",
        "test[cat_features] = test[cat_features].astype('category')"
      ],
      "metadata": {
        "id": "TgHmi80JSBjL"
      },
      "execution_count": 34,
      "outputs": []
    },
    {
      "cell_type": "markdown",
      "source": [
        "[From EDA notebook](https://github.com/stiwari-ds/data-science-competitions/blob/main/analytics_vidhya/jobathon_aug22/notebooks/01_eda.ipynb)"
      ],
      "metadata": {
        "id": "X62ol05eUoqI"
      }
    },
    {
      "cell_type": "code",
      "source": [
        "features.remove('re_category')\n",
        "\n",
        "reduced_features = ['sender', 'subject_len', 'body_len', \n",
        "                    'is_weekend', 'times_of_day', 're_category',\n",
        "                    'product', 'no_of_CTA', 'is_personalised',\n",
        "                    'is_urgency', 'target_audience']"
      ],
      "metadata": {
        "id": "7v4ydEsnUlJu"
      },
      "execution_count": 35,
      "outputs": []
    },
    {
      "cell_type": "markdown",
      "source": [
        "# Hyperparameter tuning"
      ],
      "metadata": {
        "id": "oVZEqwhQ2oi2"
      }
    },
    {
      "cell_type": "code",
      "source": [
        "def objective(trial, data, base_params):\n",
        "\n",
        "    scores = []\n",
        "    X, y = data\n",
        "    cat_features = list(X.select_dtypes(include='category').columns)\n",
        "\n",
        "    param_grid = {\n",
        "        'objective': trial.suggest_categorical(\n",
        "            'objective', ['reg:squarederror', 'reg:squaredlogerror']),\n",
        "        'learning_rate': trial.suggest_float(\n",
        "            'learning_rate', 0.01, 0.4, step=0.01),\n",
        "        'max_depth': trial.suggest_int('max_depth', 2, 15),\n",
        "        'subsample': trial.suggest_float('subsample', 0.5, 1.0, step=0.05),\n",
        "        'colsample_bytree': trial.suggest_float(\n",
        "            'colsample_bytree', 0.5, 1.0, step=0.05),\n",
        "        'colsample_bylevel': trial.suggest_float(\n",
        "            'colsample_bylevel', 0.5, 1.0, step=0.05),\n",
        "        'colsample_bynode': trial.suggest_float(\n",
        "            'colsample_bynode', 0.5, 1.0, step=0.05),\n",
        "        'min_child_weight': trial.suggest_int('min_child_weight', 2, 10),\n",
        "        'gamma': trial.suggest_float('gamma', 0, 20),\n",
        "        'alpha': trial.suggest_float('alpha', 1e-5, 1e2, log=True),\n",
        "        'lambda': trial.suggest_float('lambda', 1e-5, 1e2, log=True)\n",
        "    }\n",
        "\n",
        "    cv = KFold(n_splits=5, shuffle=True, random_state=SEED)\n",
        "    for fold, (train_idx, val_idx) in enumerate(cv.split(X, y)):\n",
        "        X_train, y_train = X.loc[train_idx], y.iloc[train_idx]\n",
        "        X_val, y_val = X.loc[val_idx], y.iloc[val_idx]\n",
        "        model = XGBRegressor(\n",
        "            **base_params, \n",
        "            **param_grid,\n",
        "            callbacks=[XGBoostPruningCallback(\n",
        "                trial=trial, \n",
        "                observation_key='validation_0-rmse')]\n",
        "        )\n",
        "        model.fit(\n",
        "            X_train, y_train,\n",
        "            eval_set=[(X_val, y_val)],\n",
        "            verbose=0\n",
        "        )\n",
        "        preds = model.predict(X_val)\n",
        "        scores.append(mean_squared_error(y_val, preds, squared=False))\n",
        "    \n",
        "    return np.mean(scores)"
      ],
      "metadata": {
        "id": "i3VeEFRe2oBe"
      },
      "execution_count": 36,
      "outputs": []
    },
    {
      "cell_type": "code",
      "source": [
        "def tune_params(data, base_params, n_trials=10, direction='maximize'):\n",
        "    study = optuna.create_study(\n",
        "        sampler=TPESampler(seed=SEED),\n",
        "        pruner=HyperbandPruner(),\n",
        "        direction=direction)\n",
        "    \n",
        "    study.optimize(\n",
        "        func=lambda trial: objective(trial, data, base_params),\n",
        "        n_trials=n_trials,\n",
        "        gc_after_trial=True)\n",
        "    \n",
        "    return study"
      ],
      "metadata": {
        "id": "7JCjxMSuT3Ep"
      },
      "execution_count": 37,
      "outputs": []
    },
    {
      "cell_type": "markdown",
      "source": [
        "# Cross-validation"
      ],
      "metadata": {
        "id": "0-89LWIEHeTr"
      }
    },
    {
      "cell_type": "code",
      "source": [
        "def evaluate_model(data, model_params, verbose=True):\n",
        "    \n",
        "    preds_test = []\n",
        "    scores_r2 = [] #validation set r2-scores\n",
        "    scores_rmse = [] #validation set RMSE loss\n",
        "    \n",
        "    X, X_test, y = data\n",
        "    cat_features = list(X.select_dtypes(include='category').columns)\n",
        "    \n",
        "    cv = KFold(n_splits=5, shuffle=True, random_state=SEED)\n",
        "    for fold, (train_idx, val_idx) in enumerate(cv.split(X, y)):\n",
        "        X_train, y_train = X.loc[train_idx], y.iloc[train_idx]\n",
        "        X_val, y_val = X.loc[val_idx], y.iloc[val_idx]\n",
        "        \n",
        "        model = XGBRegressor(**model_params)\n",
        "        model.fit(\n",
        "            X_train, y_train,\n",
        "            eval_set=[(X_val, y_val)],\n",
        "            verbose=0\n",
        "        )\n",
        "        \n",
        "        preds_val = model.predict(X_val)\n",
        "        preds_test.append(model.predict(X_test))\n",
        "        \n",
        "        scores_rmse.append(mean_squared_error(y_val, preds_val, squared=False))\n",
        "        scores_r2.append(r2_score(y_val, preds_val))\n",
        "    \n",
        "    if verbose:\n",
        "        scores_df = pd.DataFrame.from_dict({\n",
        "            'RMSE': scores_rmse,\n",
        "            'R2': scores_r2\n",
        "        })\n",
        "        scores_df.index.name = 'Fold'\n",
        "        display(scores_df)\n",
        "    \n",
        "    print(f'Average RMSE = {np.mean(scores_rmse):.4f} (with std = {np.std(scores_rmse):.4f})')\n",
        "    print(f'Average R2-score = {np.mean(scores_r2):.4f} (with std = {np.std(scores_r2):.4f})\\n')\n",
        "    \n",
        "    preds_test = np.mean(np.column_stack(preds_test), axis=1)\n",
        "    return preds_test"
      ],
      "metadata": {
        "id": "OsTtaJBBYryk"
      },
      "execution_count": 38,
      "outputs": []
    },
    {
      "cell_type": "code",
      "source": [
        "def run_experiment(data, n_trials=5):\n",
        "        \n",
        "    X, X_test, y = data\n",
        "    \n",
        "    base_params = {\n",
        "        'n_estimators': 2000,\n",
        "        'eval_metric': 'rmse',\n",
        "        'early_stopping_rounds': 25,\n",
        "        'tree_method': 'gpu_hist' if GPU else 'hist', \n",
        "        'enable_categorical': GPU,\n",
        "        'max_cat_to_onehot': 7, #internal one-hot encoding\n",
        "        'verbosity': 1,\n",
        "        'seed': SEED\n",
        "    }\n",
        "    \n",
        "    print(f'---------------Hyperparameter tuning---------------')\n",
        "    study = tune_params(\n",
        "        data=(X, y), \n",
        "        base_params=base_params,\n",
        "        n_trials=n_trials,\n",
        "        direction='minimize')\n",
        "    print(f'Best trial: {study.best_trial.number} -> Best value (RMSE): {study.best_value:.5f}')\n",
        "    print(f'Best hyperparameters:')\n",
        "    for k, v in study.best_params.items():\n",
        "        print(f'{k:20} - {v}')\n",
        "    \n",
        "    model_params = {**base_params, **study.best_params}\n",
        "    print(f'-----------------Cross-validation------------------')\n",
        "    preds_test = evaluate_model(\n",
        "        data=(X, X_test, y), \n",
        "        model_params=model_params)\n",
        "    \n",
        "    return preds_test"
      ],
      "metadata": {
        "id": "I0TOKMzxhRt-"
      },
      "execution_count": 39,
      "outputs": []
    },
    {
      "cell_type": "code",
      "source": [
        "%%time\n",
        "preds_all = run_experiment(\n",
        "    (train[features], test[features], target), 500)"
      ],
      "metadata": {
        "colab": {
          "base_uri": "https://localhost:8080/",
          "height": 585
        },
        "id": "cRdlDF4lLcn4",
        "outputId": "407b7b2f-900b-456a-9b2f-0596da7db05e"
      },
      "execution_count": 40,
      "outputs": [
        {
          "output_type": "stream",
          "name": "stdout",
          "text": [
            "---------------Hyperparameter tuning---------------\n",
            "Best trial: 492 -> Best value (RMSE): 0.06835\n",
            "Best hyperparameters:\n",
            "objective            - reg:squaredlogerror\n",
            "learning_rate        - 0.37\n",
            "max_depth            - 3\n",
            "subsample            - 1.0\n",
            "colsample_bytree     - 0.95\n",
            "colsample_bylevel    - 0.8\n",
            "colsample_bynode     - 0.75\n",
            "min_child_weight     - 7\n",
            "gamma                - 0.005884733628856997\n",
            "alpha                - 2.30120450386214e-05\n",
            "lambda               - 93.7169659586593\n",
            "-----------------Cross-validation------------------\n"
          ]
        },
        {
          "output_type": "display_data",
          "data": {
            "text/plain": [
              "        RMSE      R2\n",
              "Fold                \n",
              "0     0.0680  0.4305\n",
              "1     0.0689  0.1695\n",
              "2     0.0715  0.3458\n",
              "3     0.0683  0.3992\n",
              "4     0.0651  0.2938"
            ],
            "text/html": [
              "\n",
              "  <div id=\"df-235f7347-5455-4940-bb47-f38002036857\">\n",
              "    <div class=\"colab-df-container\">\n",
              "      <div>\n",
              "<style scoped>\n",
              "    .dataframe tbody tr th:only-of-type {\n",
              "        vertical-align: middle;\n",
              "    }\n",
              "\n",
              "    .dataframe tbody tr th {\n",
              "        vertical-align: top;\n",
              "    }\n",
              "\n",
              "    .dataframe thead th {\n",
              "        text-align: right;\n",
              "    }\n",
              "</style>\n",
              "<table border=\"1\" class=\"dataframe\">\n",
              "  <thead>\n",
              "    <tr style=\"text-align: right;\">\n",
              "      <th></th>\n",
              "      <th>RMSE</th>\n",
              "      <th>R2</th>\n",
              "    </tr>\n",
              "    <tr>\n",
              "      <th>Fold</th>\n",
              "      <th></th>\n",
              "      <th></th>\n",
              "    </tr>\n",
              "  </thead>\n",
              "  <tbody>\n",
              "    <tr>\n",
              "      <th>0</th>\n",
              "      <td>0.0680</td>\n",
              "      <td>0.4305</td>\n",
              "    </tr>\n",
              "    <tr>\n",
              "      <th>1</th>\n",
              "      <td>0.0689</td>\n",
              "      <td>0.1695</td>\n",
              "    </tr>\n",
              "    <tr>\n",
              "      <th>2</th>\n",
              "      <td>0.0715</td>\n",
              "      <td>0.3458</td>\n",
              "    </tr>\n",
              "    <tr>\n",
              "      <th>3</th>\n",
              "      <td>0.0683</td>\n",
              "      <td>0.3992</td>\n",
              "    </tr>\n",
              "    <tr>\n",
              "      <th>4</th>\n",
              "      <td>0.0651</td>\n",
              "      <td>0.2938</td>\n",
              "    </tr>\n",
              "  </tbody>\n",
              "</table>\n",
              "</div>\n",
              "      <button class=\"colab-df-convert\" onclick=\"convertToInteractive('df-235f7347-5455-4940-bb47-f38002036857')\"\n",
              "              title=\"Convert this dataframe to an interactive table.\"\n",
              "              style=\"display:none;\">\n",
              "        \n",
              "  <svg xmlns=\"http://www.w3.org/2000/svg\" height=\"24px\"viewBox=\"0 0 24 24\"\n",
              "       width=\"24px\">\n",
              "    <path d=\"M0 0h24v24H0V0z\" fill=\"none\"/>\n",
              "    <path d=\"M18.56 5.44l.94 2.06.94-2.06 2.06-.94-2.06-.94-.94-2.06-.94 2.06-2.06.94zm-11 1L8.5 8.5l.94-2.06 2.06-.94-2.06-.94L8.5 2.5l-.94 2.06-2.06.94zm10 10l.94 2.06.94-2.06 2.06-.94-2.06-.94-.94-2.06-.94 2.06-2.06.94z\"/><path d=\"M17.41 7.96l-1.37-1.37c-.4-.4-.92-.59-1.43-.59-.52 0-1.04.2-1.43.59L10.3 9.45l-7.72 7.72c-.78.78-.78 2.05 0 2.83L4 21.41c.39.39.9.59 1.41.59.51 0 1.02-.2 1.41-.59l7.78-7.78 2.81-2.81c.8-.78.8-2.07 0-2.86zM5.41 20L4 18.59l7.72-7.72 1.47 1.35L5.41 20z\"/>\n",
              "  </svg>\n",
              "      </button>\n",
              "      \n",
              "  <style>\n",
              "    .colab-df-container {\n",
              "      display:flex;\n",
              "      flex-wrap:wrap;\n",
              "      gap: 12px;\n",
              "    }\n",
              "\n",
              "    .colab-df-convert {\n",
              "      background-color: #E8F0FE;\n",
              "      border: none;\n",
              "      border-radius: 50%;\n",
              "      cursor: pointer;\n",
              "      display: none;\n",
              "      fill: #1967D2;\n",
              "      height: 32px;\n",
              "      padding: 0 0 0 0;\n",
              "      width: 32px;\n",
              "    }\n",
              "\n",
              "    .colab-df-convert:hover {\n",
              "      background-color: #E2EBFA;\n",
              "      box-shadow: 0px 1px 2px rgba(60, 64, 67, 0.3), 0px 1px 3px 1px rgba(60, 64, 67, 0.15);\n",
              "      fill: #174EA6;\n",
              "    }\n",
              "\n",
              "    [theme=dark] .colab-df-convert {\n",
              "      background-color: #3B4455;\n",
              "      fill: #D2E3FC;\n",
              "    }\n",
              "\n",
              "    [theme=dark] .colab-df-convert:hover {\n",
              "      background-color: #434B5C;\n",
              "      box-shadow: 0px 1px 3px 1px rgba(0, 0, 0, 0.15);\n",
              "      filter: drop-shadow(0px 1px 2px rgba(0, 0, 0, 0.3));\n",
              "      fill: #FFFFFF;\n",
              "    }\n",
              "  </style>\n",
              "\n",
              "      <script>\n",
              "        const buttonEl =\n",
              "          document.querySelector('#df-235f7347-5455-4940-bb47-f38002036857 button.colab-df-convert');\n",
              "        buttonEl.style.display =\n",
              "          google.colab.kernel.accessAllowed ? 'block' : 'none';\n",
              "\n",
              "        async function convertToInteractive(key) {\n",
              "          const element = document.querySelector('#df-235f7347-5455-4940-bb47-f38002036857');\n",
              "          const dataTable =\n",
              "            await google.colab.kernel.invokeFunction('convertToInteractive',\n",
              "                                                     [key], {});\n",
              "          if (!dataTable) return;\n",
              "\n",
              "          const docLinkHtml = 'Like what you see? Visit the ' +\n",
              "            '<a target=\"_blank\" href=https://colab.research.google.com/notebooks/data_table.ipynb>data table notebook</a>'\n",
              "            + ' to learn more about interactive tables.';\n",
              "          element.innerHTML = '';\n",
              "          dataTable['output_type'] = 'display_data';\n",
              "          await google.colab.output.renderOutput(dataTable, element);\n",
              "          const docLink = document.createElement('div');\n",
              "          docLink.innerHTML = docLinkHtml;\n",
              "          element.appendChild(docLink);\n",
              "        }\n",
              "      </script>\n",
              "    </div>\n",
              "  </div>\n",
              "  "
            ]
          },
          "metadata": {}
        },
        {
          "output_type": "stream",
          "name": "stdout",
          "text": [
            "Average RMSE = 0.0683 (with std = 0.0021)\n",
            "Average R2-score = 0.3278 (with std = 0.0919)\n",
            "\n",
            "CPU times: user 3min 1s, sys: 6 s, total: 3min 7s\n",
            "Wall time: 2min 39s\n"
          ]
        }
      ]
    },
    {
      "cell_type": "code",
      "source": [
        "%%time\n",
        "preds_reduced = run_experiment(\n",
        "    (train[reduced_features], test[reduced_features], target), 500)"
      ],
      "metadata": {
        "colab": {
          "base_uri": "https://localhost:8080/",
          "height": 585
        },
        "id": "_mkKBAhaLrq-",
        "outputId": "444d269c-0a7f-47fe-9859-d7306bd5baba"
      },
      "execution_count": 41,
      "outputs": [
        {
          "output_type": "stream",
          "name": "stdout",
          "text": [
            "---------------Hyperparameter tuning---------------\n",
            "Best trial: 391 -> Best value (RMSE): 0.06330\n",
            "Best hyperparameters:\n",
            "objective            - reg:squaredlogerror\n",
            "learning_rate        - 0.37\n",
            "max_depth            - 3\n",
            "subsample            - 0.95\n",
            "colsample_bytree     - 0.95\n",
            "colsample_bylevel    - 0.8\n",
            "colsample_bynode     - 0.7\n",
            "min_child_weight     - 9\n",
            "gamma                - 0.00042491885046523625\n",
            "alpha                - 0.001455464664953621\n",
            "lambda               - 36.54225877593997\n",
            "-----------------Cross-validation------------------\n"
          ]
        },
        {
          "output_type": "display_data",
          "data": {
            "text/plain": [
              "        RMSE      R2\n",
              "Fold                \n",
              "0     0.0631  0.5092\n",
              "1     0.0639  0.2868\n",
              "2     0.0688  0.3935\n",
              "3     0.0638  0.4759\n",
              "4     0.0569  0.4596"
            ],
            "text/html": [
              "\n",
              "  <div id=\"df-90c69f9b-9c5f-459b-a55d-e4ef0d3a5412\">\n",
              "    <div class=\"colab-df-container\">\n",
              "      <div>\n",
              "<style scoped>\n",
              "    .dataframe tbody tr th:only-of-type {\n",
              "        vertical-align: middle;\n",
              "    }\n",
              "\n",
              "    .dataframe tbody tr th {\n",
              "        vertical-align: top;\n",
              "    }\n",
              "\n",
              "    .dataframe thead th {\n",
              "        text-align: right;\n",
              "    }\n",
              "</style>\n",
              "<table border=\"1\" class=\"dataframe\">\n",
              "  <thead>\n",
              "    <tr style=\"text-align: right;\">\n",
              "      <th></th>\n",
              "      <th>RMSE</th>\n",
              "      <th>R2</th>\n",
              "    </tr>\n",
              "    <tr>\n",
              "      <th>Fold</th>\n",
              "      <th></th>\n",
              "      <th></th>\n",
              "    </tr>\n",
              "  </thead>\n",
              "  <tbody>\n",
              "    <tr>\n",
              "      <th>0</th>\n",
              "      <td>0.0631</td>\n",
              "      <td>0.5092</td>\n",
              "    </tr>\n",
              "    <tr>\n",
              "      <th>1</th>\n",
              "      <td>0.0639</td>\n",
              "      <td>0.2868</td>\n",
              "    </tr>\n",
              "    <tr>\n",
              "      <th>2</th>\n",
              "      <td>0.0688</td>\n",
              "      <td>0.3935</td>\n",
              "    </tr>\n",
              "    <tr>\n",
              "      <th>3</th>\n",
              "      <td>0.0638</td>\n",
              "      <td>0.4759</td>\n",
              "    </tr>\n",
              "    <tr>\n",
              "      <th>4</th>\n",
              "      <td>0.0569</td>\n",
              "      <td>0.4596</td>\n",
              "    </tr>\n",
              "  </tbody>\n",
              "</table>\n",
              "</div>\n",
              "      <button class=\"colab-df-convert\" onclick=\"convertToInteractive('df-90c69f9b-9c5f-459b-a55d-e4ef0d3a5412')\"\n",
              "              title=\"Convert this dataframe to an interactive table.\"\n",
              "              style=\"display:none;\">\n",
              "        \n",
              "  <svg xmlns=\"http://www.w3.org/2000/svg\" height=\"24px\"viewBox=\"0 0 24 24\"\n",
              "       width=\"24px\">\n",
              "    <path d=\"M0 0h24v24H0V0z\" fill=\"none\"/>\n",
              "    <path d=\"M18.56 5.44l.94 2.06.94-2.06 2.06-.94-2.06-.94-.94-2.06-.94 2.06-2.06.94zm-11 1L8.5 8.5l.94-2.06 2.06-.94-2.06-.94L8.5 2.5l-.94 2.06-2.06.94zm10 10l.94 2.06.94-2.06 2.06-.94-2.06-.94-.94-2.06-.94 2.06-2.06.94z\"/><path d=\"M17.41 7.96l-1.37-1.37c-.4-.4-.92-.59-1.43-.59-.52 0-1.04.2-1.43.59L10.3 9.45l-7.72 7.72c-.78.78-.78 2.05 0 2.83L4 21.41c.39.39.9.59 1.41.59.51 0 1.02-.2 1.41-.59l7.78-7.78 2.81-2.81c.8-.78.8-2.07 0-2.86zM5.41 20L4 18.59l7.72-7.72 1.47 1.35L5.41 20z\"/>\n",
              "  </svg>\n",
              "      </button>\n",
              "      \n",
              "  <style>\n",
              "    .colab-df-container {\n",
              "      display:flex;\n",
              "      flex-wrap:wrap;\n",
              "      gap: 12px;\n",
              "    }\n",
              "\n",
              "    .colab-df-convert {\n",
              "      background-color: #E8F0FE;\n",
              "      border: none;\n",
              "      border-radius: 50%;\n",
              "      cursor: pointer;\n",
              "      display: none;\n",
              "      fill: #1967D2;\n",
              "      height: 32px;\n",
              "      padding: 0 0 0 0;\n",
              "      width: 32px;\n",
              "    }\n",
              "\n",
              "    .colab-df-convert:hover {\n",
              "      background-color: #E2EBFA;\n",
              "      box-shadow: 0px 1px 2px rgba(60, 64, 67, 0.3), 0px 1px 3px 1px rgba(60, 64, 67, 0.15);\n",
              "      fill: #174EA6;\n",
              "    }\n",
              "\n",
              "    [theme=dark] .colab-df-convert {\n",
              "      background-color: #3B4455;\n",
              "      fill: #D2E3FC;\n",
              "    }\n",
              "\n",
              "    [theme=dark] .colab-df-convert:hover {\n",
              "      background-color: #434B5C;\n",
              "      box-shadow: 0px 1px 3px 1px rgba(0, 0, 0, 0.15);\n",
              "      filter: drop-shadow(0px 1px 2px rgba(0, 0, 0, 0.3));\n",
              "      fill: #FFFFFF;\n",
              "    }\n",
              "  </style>\n",
              "\n",
              "      <script>\n",
              "        const buttonEl =\n",
              "          document.querySelector('#df-90c69f9b-9c5f-459b-a55d-e4ef0d3a5412 button.colab-df-convert');\n",
              "        buttonEl.style.display =\n",
              "          google.colab.kernel.accessAllowed ? 'block' : 'none';\n",
              "\n",
              "        async function convertToInteractive(key) {\n",
              "          const element = document.querySelector('#df-90c69f9b-9c5f-459b-a55d-e4ef0d3a5412');\n",
              "          const dataTable =\n",
              "            await google.colab.kernel.invokeFunction('convertToInteractive',\n",
              "                                                     [key], {});\n",
              "          if (!dataTable) return;\n",
              "\n",
              "          const docLinkHtml = 'Like what you see? Visit the ' +\n",
              "            '<a target=\"_blank\" href=https://colab.research.google.com/notebooks/data_table.ipynb>data table notebook</a>'\n",
              "            + ' to learn more about interactive tables.';\n",
              "          element.innerHTML = '';\n",
              "          dataTable['output_type'] = 'display_data';\n",
              "          await google.colab.output.renderOutput(dataTable, element);\n",
              "          const docLink = document.createElement('div');\n",
              "          docLink.innerHTML = docLinkHtml;\n",
              "          element.appendChild(docLink);\n",
              "        }\n",
              "      </script>\n",
              "    </div>\n",
              "  </div>\n",
              "  "
            ]
          },
          "metadata": {}
        },
        {
          "output_type": "stream",
          "name": "stdout",
          "text": [
            "Average RMSE = 0.0633 (with std = 0.0038)\n",
            "Average R2-score = 0.4250 (with std = 0.0787)\n",
            "\n",
            "CPU times: user 2min 59s, sys: 5.32 s, total: 3min 4s\n",
            "Wall time: 2min 39s\n"
          ]
        }
      ]
    },
    {
      "cell_type": "markdown",
      "source": [
        "# Generating submissions"
      ],
      "metadata": {
        "id": "RPzMgFLRfRDZ"
      }
    },
    {
      "cell_type": "code",
      "source": [
        "preds_all[:5]"
      ],
      "metadata": {
        "colab": {
          "base_uri": "https://localhost:8080/"
        },
        "id": "-PTiqDaGRDud",
        "outputId": "0a1c9ed4-ef0a-47d1-a032-ed44361403e4"
      },
      "execution_count": 42,
      "outputs": [
        {
          "output_type": "execute_result",
          "data": {
            "text/plain": [
              "array([0.06885812, 0.25991064, 0.19867499, 0.19697079, 0.08483034],\n",
              "      dtype=float32)"
            ]
          },
          "metadata": {},
          "execution_count": 42
        }
      ]
    },
    {
      "cell_type": "code",
      "source": [
        "sub_all = pd.DataFrame({\n",
        "    'campaign_id': test_index,\n",
        "    'click_rate': preds_all\n",
        "})\n",
        "sub_all.to_csv('02_sub_all.csv', index=False)"
      ],
      "metadata": {
        "id": "7oQ92kfEfV5W"
      },
      "execution_count": 43,
      "outputs": []
    },
    {
      "cell_type": "code",
      "source": [
        "sub_reduced = pd.DataFrame({\n",
        "    'campaign_id': test_index,\n",
        "    'click_rate': preds_reduced\n",
        "})\n",
        "sub_reduced.to_csv('02_sub_reduced.csv', index=False)"
      ],
      "metadata": {
        "id": "aVjaNL-8ggPD"
      },
      "execution_count": 44,
      "outputs": []
    }
  ]
}