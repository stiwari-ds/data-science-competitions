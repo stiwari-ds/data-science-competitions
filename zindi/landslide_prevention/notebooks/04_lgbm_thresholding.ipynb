{
  "nbformat": 4,
  "nbformat_minor": 0,
  "metadata": {
    "colab": {
      "provenance": [],
      "collapsed_sections": [
        "77yayiraLXYy",
        "yC7npR_n949b"
      ],
      "authorship_tag": "ABX9TyMDnzUFt95gWjfcCL7JBHpZ",
      "include_colab_link": true
    },
    "kernelspec": {
      "name": "python3",
      "display_name": "Python 3"
    },
    "language_info": {
      "name": "python"
    }
  },
  "cells": [
    {
      "cell_type": "markdown",
      "metadata": {
        "id": "view-in-github",
        "colab_type": "text"
      },
      "source": [
        "<a href=\"https://colab.research.google.com/github/stiwari-ds/data-science-competitions/blob/main/zindi/landslide_prevention/notebooks/04_lgbm_thresholding.ipynb\" target=\"_parent\"><img src=\"https://colab.research.google.com/assets/colab-badge.svg\" alt=\"Open In Colab\"/></a>"
      ]
    },
    {
      "cell_type": "markdown",
      "source": [
        "# Setup"
      ],
      "metadata": {
        "id": "HO96_P_uh3mj"
      }
    },
    {
      "cell_type": "code",
      "execution_count": 1,
      "metadata": {
        "id": "oJGZ2XRPhK5A"
      },
      "outputs": [],
      "source": [
        "%%capture\n",
        "!pip install --upgrade optuna\n",
        "!pip install --upgrade lightgbm"
      ]
    },
    {
      "cell_type": "code",
      "source": [
        "import os\n",
        "import gc\n",
        "import time\n",
        "import warnings\n",
        "import subprocess\n",
        "\n",
        "gc.enable()\n",
        "warnings.filterwarnings('ignore')\n",
        "\n",
        "import pandas as pd\n",
        "import numpy as np\n",
        "pd.set_option('display.max_columns', None)\n",
        "pd.set_option('display.precision', 4)\n",
        "np.set_printoptions(precision=4)\n",
        "\n",
        "import optuna\n",
        "from optuna.samplers import TPESampler\n",
        "from optuna.pruners import HyperbandPruner\n",
        "\n",
        "optuna.logging.set_verbosity(optuna.logging.INFO)\n",
        "\n",
        "import lightgbm as lgb\n",
        "from lightgbm import LGBMClassifier\n",
        "\n",
        "from sklearn.model_selection import StratifiedKFold\n",
        "from sklearn.metrics import f1_score"
      ],
      "metadata": {
        "id": "_t390KWjhZ-D"
      },
      "execution_count": 2,
      "outputs": []
    },
    {
      "cell_type": "code",
      "source": [
        "#remove cell to run future versions\n",
        "assert optuna.__version__ == '3.0.2', f'Change in Optuna version. Original notebook version: 3.0.2'\n",
        "assert lgb.__version__ == '3.3.2', f'Change in LightGBM version. Original notebook version: 3.3.2'"
      ],
      "metadata": {
        "id": "NybqUn3whlFZ"
      },
      "execution_count": 3,
      "outputs": []
    },
    {
      "cell_type": "code",
      "source": [
        "#Check GPU availability\n",
        "try:\n",
        "    subprocess.check_output('nvidia-smi')\n",
        "    HAVE_GPU = True\n",
        "except Exception:\n",
        "    HAVE_GPU = False\n",
        "\n",
        "print(f'GPU available: {HAVE_GPU}')"
      ],
      "metadata": {
        "colab": {
          "base_uri": "https://localhost:8080/"
        },
        "id": "nUNg_6eUhluU",
        "outputId": "cab29022-0d7c-4963-ad59-ee652fc803fa"
      },
      "execution_count": 4,
      "outputs": [
        {
          "output_type": "stream",
          "name": "stdout",
          "text": [
            "GPU available: False\n"
          ]
        }
      ]
    },
    {
      "cell_type": "code",
      "source": [
        "SEED = 23\n",
        "os.environ['PYTHONHASHSEED'] = str(SEED)\n",
        "np.random.seed(SEED)"
      ],
      "metadata": {
        "id": "QZFT1zVDj31u"
      },
      "execution_count": 5,
      "outputs": []
    },
    {
      "cell_type": "code",
      "source": [
        "from google.colab import drive\n",
        "drive.mount('/content/drive', force_remount=True)"
      ],
      "metadata": {
        "colab": {
          "base_uri": "https://localhost:8080/"
        },
        "id": "Y_o0kubsb5bP",
        "outputId": "938b63a4-0e2d-4df7-caa8-4555d8b6e8d8"
      },
      "execution_count": 6,
      "outputs": [
        {
          "output_type": "stream",
          "name": "stdout",
          "text": [
            "Mounted at /content/drive\n"
          ]
        }
      ]
    },
    {
      "cell_type": "markdown",
      "source": [
        "# Data Preparation"
      ],
      "metadata": {
        "id": "3rK34PzocQb4"
      }
    },
    {
      "cell_type": "code",
      "source": [
        "DATA_PATH = '/content/drive/MyDrive/data_science_competitions/zindi/landslide_prevention/data'\n",
        "\n",
        "train = pd.read_csv(f'{DATA_PATH}/raw/train.csv')\n",
        "test = pd.read_csv(f'{DATA_PATH}/raw/test.csv')\n",
        "sample_sub = pd.read_csv(f'{DATA_PATH}/raw/sample_sub.csv')\n",
        "\n",
        "train_agg = pd.read_csv(f'{DATA_PATH}/processed/train_agg.csv')\n",
        "test_agg = pd.read_csv(f'{DATA_PATH}/processed/test_agg.csv')"
      ],
      "metadata": {
        "id": "NIx1p0eWSx2Q"
      },
      "execution_count": 7,
      "outputs": []
    },
    {
      "cell_type": "code",
      "source": [
        "TARGET = train['Label']"
      ],
      "metadata": {
        "id": "qShBGGFfTMOU"
      },
      "execution_count": 8,
      "outputs": []
    },
    {
      "cell_type": "code",
      "source": [
        "cat_features = [f for f in test.columns if f.endswith('geology')]\n",
        "cat_features.extend(['agg_geology_mode', 'agg_geology_nunique'])"
      ],
      "metadata": {
        "id": "M1RrGiUIUtdE"
      },
      "execution_count": 9,
      "outputs": []
    },
    {
      "cell_type": "code",
      "source": [
        "def preprocess(df: pd.DataFrame, is_train: bool = False) -> pd.DataFrame:\n",
        "    \n",
        "    df = df.drop('Sample_ID', axis=1)\n",
        "    if is_train:\n",
        "        df = df.drop('Label', axis=1)\n",
        "    \n",
        "    #reduce memory usage\n",
        "    def reduce_mem(df: pd.DataFrame) -> pd.DataFrame:\n",
        "        for col in df.columns:\n",
        "            col_type = df[col].dtypes\n",
        "            if col_type in ['int16', 'int32', 'int64', 'float32', 'float64']:\n",
        "                c_min = df[col].min()\n",
        "                c_max = df[col].max()\n",
        "                if str(col_type).startswith('int'):\n",
        "                    if c_min > np.iinfo(np.int8).min and c_max < np.iinfo(np.int8).max:\n",
        "                        df[col] = df[col].astype(np.int8)\n",
        "                    elif c_min > np.iinfo(np.int16).min and c_max < np.iinfo(np.int16).max:\n",
        "                        df[col] = df[col].astype(np.int16)\n",
        "                    elif c_min > np.iinfo(np.int32).min and c_max < np.iinfo(np.int32).max:\n",
        "                        df[col] = df[col].astype(np.int32)\n",
        "                    elif c_min > np.iinfo(np.int64).min and c_max < np.iinfo(np.int64).max:\n",
        "                        df[col] = df[col].astype(np.int64)\n",
        "                else:\n",
        "                    if c_min > np.finfo(np.float16).min and c_max < np.finfo(np.float16).max:\n",
        "                        df[col] = df[col].astype(np.float16)\n",
        "                    elif c_min > np.finfo(np.float32).min and c_max < np.finfo(np.float32).max:\n",
        "                        df[col] = df[col].astype(np.float32)\n",
        "                    else:\n",
        "                        df[col] = df[col].astype(np.float64)\n",
        "        return df\n",
        "\n",
        "    df = reduce_mem(df)\n",
        "\n",
        "    return df"
      ],
      "metadata": {
        "id": "eQg2ew0zTBA6"
      },
      "execution_count": 10,
      "outputs": []
    },
    {
      "cell_type": "code",
      "source": [
        "train = preprocess(train, is_train=True)\n",
        "test = preprocess(test)"
      ],
      "metadata": {
        "id": "pf6gCPe_WW3d"
      },
      "execution_count": 11,
      "outputs": []
    },
    {
      "cell_type": "code",
      "source": [
        "train_agg = preprocess(train_agg, is_train=True)\n",
        "test_agg = preprocess(test_agg)"
      ],
      "metadata": {
        "id": "p38C7Oh9WbZZ"
      },
      "execution_count": 12,
      "outputs": []
    },
    {
      "cell_type": "code",
      "source": [
        "gc.collect()"
      ],
      "metadata": {
        "colab": {
          "base_uri": "https://localhost:8080/"
        },
        "id": "gokKkhoxWi2v",
        "outputId": "205dc5ca-92fb-4408-f1ce-aa7a6fa5982b"
      },
      "execution_count": 13,
      "outputs": [
        {
          "output_type": "execute_result",
          "data": {
            "text/plain": [
              "22"
            ]
          },
          "metadata": {},
          "execution_count": 13
        }
      ]
    },
    {
      "cell_type": "markdown",
      "source": [
        "# Baseline"
      ],
      "metadata": {
        "id": "l-ZLgtRMrJDG"
      }
    },
    {
      "cell_type": "code",
      "source": [
        "def get_best_threshold(y_true, pred_probs):\n",
        "    candidate_thresholds = np.arange(0, 1, 0.005)\n",
        "    candidate_scores = [f1_score(y_true, (pred_probs >= t).astype('int')) \n",
        "                        for t in candidate_thresholds]\n",
        "    best_threshold = candidate_thresholds[np.argmax(candidate_scores)]\n",
        "    return best_threshold"
      ],
      "metadata": {
        "id": "JeqGfqXi8ypM"
      },
      "execution_count": 14,
      "outputs": []
    },
    {
      "cell_type": "code",
      "source": [
        "%%time\n",
        "scores_f1 = []\n",
        "cv = StratifiedKFold(n_splits=5, shuffle=True, random_state=SEED)\n",
        "X, y = train, TARGET\n",
        "feature_name = list(X.columns)\n",
        "categorical_feature = [f for f in feature_name if f in cat_features]\n",
        "for fold, (train_idx, val_idx) in enumerate(cv.split(X, y)):\n",
        "    X_train, y_train = X.loc[train_idx], y.iloc[train_idx]\n",
        "    X_val, y_val = X.loc[val_idx], y.iloc[val_idx]\n",
        "\n",
        "    model = LGBMClassifier(\n",
        "        objective='binary',\n",
        "        boosting_type='goss',\n",
        "        device_type='cpu',\n",
        "        random_state=SEED\n",
        "    ) \n",
        "    model.fit(\n",
        "        X_train, y_train,\n",
        "        eval_set=[(X_val, y_val)],\n",
        "        early_stopping_rounds=100,\n",
        "        eval_metric='binary_logloss',\n",
        "        feature_name=feature_name,\n",
        "        categorical_feature=categorical_feature,\n",
        "        verbose=0\n",
        "    )\n",
        "    val_probs = model.predict_proba(X_val)[:, 1]\n",
        "    best_threshold = get_best_threshold(y_val, val_probs)\n",
        "    val_preds = (val_probs >= best_threshold).astype('int')\n",
        "\n",
        "    score = f1_score(y_val, val_preds)\n",
        "    scores_f1.append(score)\n",
        "    print(f'Fold #{fold}: ({model.best_iteration_} rounds) F1-score = {score:.5f}')\n",
        "    _ = gc.collect()\n",
        "\n",
        "print(f'\\nAvg F1-score = {np.mean(scores_f1):.5f} +/- {np.std(scores_f1):.5f}\\n')"
      ],
      "metadata": {
        "colab": {
          "base_uri": "https://localhost:8080/"
        },
        "id": "ccFthHeorwUe",
        "outputId": "ad7d0001-ac34-4854-c061-85e5e733fd48"
      },
      "execution_count": 15,
      "outputs": [
        {
          "output_type": "stream",
          "name": "stdout",
          "text": [
            "Fold #0: (91 rounds) F1-score = 0.68200\n",
            "Fold #1: (98 rounds) F1-score = 0.71553\n",
            "Fold #2: (98 rounds) F1-score = 0.70345\n",
            "Fold #3: (79 rounds) F1-score = 0.69725\n",
            "Fold #4: (64 rounds) F1-score = 0.71372\n",
            "\n",
            "Avg F1-score = 0.70239 +/- 0.01220\n",
            "\n",
            "CPU times: user 25.7 s, sys: 120 ms, total: 25.8 s\n",
            "Wall time: 20 s\n"
          ]
        }
      ]
    },
    {
      "cell_type": "markdown",
      "metadata": {
        "id": "oVZEqwhQ2oi2"
      },
      "source": [
        "# Hyperparameter tuning"
      ]
    },
    {
      "cell_type": "code",
      "execution_count": 16,
      "metadata": {
        "id": "i3VeEFRe2oBe"
      },
      "outputs": [],
      "source": [
        "def objective(trial, data, base_params):\n",
        "\n",
        "    scores = []\n",
        "    X, y = data\n",
        "    feature_name = list(X.columns)\n",
        "    categorical_feature = [f for f in feature_name if f in cat_features]\n",
        "\n",
        "    param_grid = {\n",
        "        'learning_rate': trial.suggest_float('learning_rate', 0.01, 0.3, step=0.01),\n",
        "        'reg_alpha': trial.suggest_float('reg_alpha', 0, 200, step=0.1),\n",
        "        'reg_lambda': trial.suggest_float('reg_lambda', 0, 200, step=0.1),\n",
        "        'num_leaves': trial.suggest_int('num_leaves', 20, 1000, step=5),\n",
        "        # 'max_depth': trial.suggest_int('max_depth', 3, 12),\n",
        "        'min_child_samples': trial.suggest_int('min_child_samples', 0, 500, step=2),\n",
        "        'min_split_gain': trial.suggest_float('min_split_gain', 0, 15, step=0.01),\n",
        "        'colsample_bytree': trial.suggest_float('colsample_bytree', 0.5, 0.95, step=0.05),\n",
        "        'top_rate': trial.suggest_float('top_rate', 0.1, 0.5, step=0.05),\n",
        "        'other_rate': trial.suggest_float('other_rate', 0.05, 0.5, step=0.05),\n",
        "        'scale_pos_weight': trial.suggest_float('scale_pos_weight', 1, 5, step=0.05)\n",
        "    }\n",
        "\n",
        "    cv = StratifiedKFold(n_splits=5, shuffle=True, random_state=SEED)\n",
        "    for fold, (train_idx, val_idx) in enumerate(cv.split(X, y)):\n",
        "        X_train, y_train = X.loc[train_idx], y.iloc[train_idx]\n",
        "        X_val, y_val = X.loc[val_idx], y.iloc[val_idx]\n",
        "        \n",
        "        model = LGBMClassifier(**base_params, **param_grid)\n",
        "        model.fit(\n",
        "            X_train, y_train,\n",
        "            eval_set=[(X_val, y_val)],\n",
        "            eval_metric='binary_logloss',\n",
        "            early_stopping_rounds=100,\n",
        "            feature_name=feature_name,\n",
        "            categorical_feature=categorical_feature,\n",
        "            verbose=False\n",
        "        )\n",
        "        val_probs = model.predict_proba(X_val)[:, 1]\n",
        "        best_threshold = get_best_threshold(y_val, val_probs)\n",
        "        val_preds = (val_probs >= best_threshold).astype('int')\n",
        "        scores.append(f1_score(y_val, val_preds))\n",
        "    \n",
        "    return np.mean(scores)"
      ]
    },
    {
      "cell_type": "code",
      "execution_count": 17,
      "metadata": {
        "id": "7JCjxMSuT3Ep"
      },
      "outputs": [],
      "source": [
        "def tune_params(data, base_params, n_trials=10, direction='maximize'):\n",
        "    study = optuna.create_study(\n",
        "        sampler=TPESampler(seed=SEED),\n",
        "        pruner=HyperbandPruner(),\n",
        "        direction=direction\n",
        "    )\n",
        "    \n",
        "    study.optimize(\n",
        "        func=lambda trial: objective(trial, data, base_params),\n",
        "        n_trials=n_trials,\n",
        "        gc_after_trial=True\n",
        "    )\n",
        "    \n",
        "    return study"
      ]
    },
    {
      "cell_type": "markdown",
      "metadata": {
        "id": "0-89LWIEHeTr"
      },
      "source": [
        "# Cross-validation"
      ]
    },
    {
      "cell_type": "code",
      "execution_count": 18,
      "metadata": {
        "id": "OsTtaJBBYryk"
      },
      "outputs": [],
      "source": [
        "def evaluate_model(data, model_params, verbose=True):\n",
        "    oof_probs = {}  #out-of-fold predicted probabilities on train set\n",
        "    test_preds = {} #predictions on test set for each fold\n",
        "    scores_f1 = [] #F1 scores on validation set\n",
        "\n",
        "    X, X_test, y = data\n",
        "    feature_name = list(X.columns)\n",
        "    categorical_feature = [f for f in feature_name if f in cat_features]\n",
        "\n",
        "    cv = StratifiedKFold(n_splits=5, shuffle=True, random_state=SEED)\n",
        "    for fold, (train_idx, val_idx) in enumerate(cv.split(X, y)):\n",
        "        X_train, y_train = X.loc[train_idx], y.iloc[train_idx]\n",
        "        X_val, y_val = X.loc[val_idx], y.iloc[val_idx]\n",
        "        \n",
        "        model = LGBMClassifier(**model_params)\n",
        "        model.fit(\n",
        "            X_train, y_train,\n",
        "            eval_set=[(X_val, y_val)],\n",
        "            eval_metric='binary_logloss',\n",
        "            early_stopping_rounds=100,\n",
        "            feature_name=feature_name,\n",
        "            categorical_feature=categorical_feature,\n",
        "            verbose=False\n",
        "        )\n",
        "        val_probs = model.predict_proba(X_val)[:, 1]\n",
        "        best_threshold = get_best_threshold(y_val, val_probs)\n",
        "        val_preds = (val_probs >= best_threshold).astype('int')\n",
        "        oof_probs.update(dict(zip(val_idx, val_preds)))\n",
        "        \n",
        "        test_probs = model.predict_proba(X_test)[:, 1]\n",
        "        test_preds[f'fold{fold}'] = (test_probs >= best_threshold).astype('int')\n",
        "\n",
        "        f1 = f1_score(y_val, val_preds)\n",
        "        scores_f1.append(f1)\n",
        "        if verbose:\n",
        "            print(f'Fold #{fold}: ({model.best_iteration_} rounds) F1 = {f1:.5f}')\n",
        "        \n",
        "        _ = gc.collect()\n",
        "\n",
        "    print(f'\\nAvg F1 = {np.mean(scores_f1):.5f} +/- {np.std(scores_f1):.5f}')\n",
        "    \n",
        "    oof_probs = pd.Series(oof_probs).sort_index()\n",
        "    test_preds = pd.DataFrame.from_dict(test_preds)\n",
        "    test_preds['mode'] = test_preds.mode(axis=1)[0]\n",
        "\n",
        "    return oof_probs, test_preds"
      ]
    },
    {
      "cell_type": "code",
      "source": [
        "def run_experiment(data, n_trials=5):\n",
        "        \n",
        "    X, X_test, y = data\n",
        "    \n",
        "    base_params = {\n",
        "        'objective': 'binary',\n",
        "        'n_estimators': 10000,\n",
        "        'boosting_type': 'goss',\n",
        "        'extra_trees': True,\n",
        "        'verbosity': -1,\n",
        "        'device_type': 'cpu',\n",
        "        'random_state': SEED\n",
        "    }\n",
        "    \n",
        "    print(f'---------------Hyperparameter tuning---------------')\n",
        "    study = tune_params(\n",
        "        data=(X, y), \n",
        "        base_params=base_params,\n",
        "        n_trials=n_trials,\n",
        "        direction='maximize'\n",
        "    )\n",
        "    print(f'Best trial: {study.best_trial.number} -> Best value(F1): {study.best_value:.5f}')\n",
        "    print(f'Best hyperparameters:')\n",
        "    for k, v in study.best_params.items():\n",
        "        print(f'{k:20} - {v}')\n",
        "    \n",
        "    model_params = {**base_params, **study.best_params}\n",
        "    print(f'-----------------Cross-validation------------------')\n",
        "    oof_probs, test_preds = evaluate_model(\n",
        "        data=(X, X_test, y), \n",
        "        model_params=model_params\n",
        "    )\n",
        "    return oof_probs, test_preds"
      ],
      "metadata": {
        "id": "uXqbo1dgkHoM"
      },
      "execution_count": 19,
      "outputs": []
    },
    {
      "cell_type": "code",
      "source": [
        "oof_probs = pd.DataFrame()"
      ],
      "metadata": {
        "id": "L7FLEvMrsj9T"
      },
      "execution_count": 20,
      "outputs": []
    },
    {
      "cell_type": "markdown",
      "source": [
        "### Generating submission files"
      ],
      "metadata": {
        "id": "77yayiraLXYy"
      }
    },
    {
      "cell_type": "code",
      "source": [
        "NOTEBOOK = '04'\n",
        "SUBMISSION_PATH = f'/content/drive/MyDrive/data_science_competitions/zindi/landslide_prevention/submissions/nb_{NOTEBOOK}'\n",
        "if not os.path.isdir(SUBMISSION_PATH):\n",
        "    os.makedirs(SUBMISSION_PATH)"
      ],
      "metadata": {
        "id": "NO44h9WwLaf4"
      },
      "execution_count": 21,
      "outputs": []
    },
    {
      "cell_type": "code",
      "source": [
        "def create_submission_files(test_preds: pd.DataFrame, expt_num: int):\n",
        "    for col in (test_preds.columns):\n",
        "        sub = sample_sub.copy()\n",
        "        sub['Label'] = test_preds[col]\n",
        "        sub.to_csv(f'{SUBMISSION_PATH}/{expt_num}_{col}.csv', index=False)"
      ],
      "metadata": {
        "id": "SjlGeP1bLuw5"
      },
      "execution_count": 22,
      "outputs": []
    },
    {
      "cell_type": "markdown",
      "source": [
        "### Test experiment"
      ],
      "metadata": {
        "id": "yC7npR_n949b"
      }
    },
    {
      "cell_type": "code",
      "source": [
        "%%time\n",
        "o, t = run_experiment(\n",
        "    data=(train, test, TARGET),\n",
        "    n_trials=5\n",
        ")"
      ],
      "metadata": {
        "colab": {
          "base_uri": "https://localhost:8080/"
        },
        "id": "JMeoZe-499ls",
        "outputId": "60c4d793-3837-4eb1-82fa-576c4082e3a5"
      },
      "execution_count": 23,
      "outputs": [
        {
          "output_type": "stream",
          "name": "stderr",
          "text": [
            "\u001b[32m[I 2022-09-30 22:49:15,235]\u001b[0m A new study created in memory with name: no-name-e3e60ca7-3256-4177-b43e-22f7a0039db1\u001b[0m\n"
          ]
        },
        {
          "output_type": "stream",
          "name": "stdout",
          "text": [
            "---------------Hyperparameter tuning---------------\n"
          ]
        },
        {
          "output_type": "stream",
          "name": "stderr",
          "text": [
            "\u001b[32m[I 2022-09-30 22:49:20,229]\u001b[0m Trial 0 finished with value: 0.623006934531691 and parameters: {'learning_rate': 0.16, 'reg_alpha': 189.4, 'reg_lambda': 153.1, 'num_leaves': 295, 'min_child_samples': 110, 'min_split_gain': 10.3, 'colsample_bytree': 0.55, 'top_rate': 0.25, 'other_rate': 0.35000000000000003, 'scale_pos_weight': 2.6500000000000004}. Best is trial 0 with value: 0.623006934531691.\u001b[0m\n",
            "\u001b[32m[I 2022-09-30 22:49:43,807]\u001b[0m Trial 1 finished with value: 0.6245623629584189 and parameters: {'learning_rate': 0.01, 'reg_alpha': 176.8, 'reg_lambda': 177.0, 'num_leaves': 315, 'min_child_samples': 294, 'min_split_gain': 14.68, 'colsample_bytree': 0.9, 'top_rate': 0.1, 'other_rate': 0.15000000000000002, 'scale_pos_weight': 2.1500000000000004}. Best is trial 1 with value: 0.6245623629584189.\u001b[0m\n",
            "\u001b[32m[I 2022-09-30 22:49:58,221]\u001b[0m Trial 2 finished with value: 0.6392284571919771 and parameters: {'learning_rate': 0.25, 'reg_alpha': 125.2, 'reg_lambda': 22.1, 'num_leaves': 20, 'min_child_samples': 472, 'min_split_gain': 2.12, 'colsample_bytree': 0.7, 'top_rate': 0.25, 'other_rate': 0.45, 'scale_pos_weight': 2.7}. Best is trial 2 with value: 0.6392284571919771.\u001b[0m\n",
            "\u001b[32m[I 2022-09-30 22:50:06,008]\u001b[0m Trial 3 finished with value: 0.6601143195342722 and parameters: {'learning_rate': 0.25, 'reg_alpha': 143.6, 'reg_lambda': 23.8, 'num_leaves': 605, 'min_child_samples': 64, 'min_split_gain': 1.16, 'colsample_bytree': 0.9, 'top_rate': 0.30000000000000004, 'other_rate': 0.1, 'scale_pos_weight': 3.2}. Best is trial 3 with value: 0.6601143195342722.\u001b[0m\n",
            "\u001b[32m[I 2022-09-30 22:50:09,868]\u001b[0m Trial 4 finished with value: 0.5938465409696082 and parameters: {'learning_rate': 0.18000000000000002, 'reg_alpha': 154.70000000000002, 'reg_lambda': 131.20000000000002, 'num_leaves': 565, 'min_child_samples': 88, 'min_split_gain': 3.61, 'colsample_bytree': 0.75, 'top_rate': 0.25, 'other_rate': 0.25, 'scale_pos_weight': 4.85}. Best is trial 3 with value: 0.6601143195342722.\u001b[0m\n"
          ]
        },
        {
          "output_type": "stream",
          "name": "stdout",
          "text": [
            "Best trial: 3 -> Best value(F1): 0.66011\n",
            "Best hyperparameters:\n",
            "learning_rate        - 0.25\n",
            "reg_alpha            - 143.6\n",
            "reg_lambda           - 23.8\n",
            "num_leaves           - 605\n",
            "min_child_samples    - 64\n",
            "min_split_gain       - 1.16\n",
            "colsample_bytree     - 0.9\n",
            "top_rate             - 0.30000000000000004\n",
            "other_rate           - 0.1\n",
            "scale_pos_weight     - 3.2\n",
            "-----------------Cross-validation------------------\n",
            "Fold #0: (338 rounds) F1 = 0.64972\n",
            "Fold #1: (629 rounds) F1 = 0.65943\n",
            "Fold #2: (444 rounds) F1 = 0.65869\n",
            "Fold #3: (265 rounds) F1 = 0.65071\n",
            "Fold #4: (365 rounds) F1 = 0.68202\n",
            "\n",
            "Avg F1 = 0.66011 +/- 0.01165\n",
            "CPU times: user 1min 40s, sys: 1.48 s, total: 1min 41s\n",
            "Wall time: 1min 3s\n"
          ]
        }
      ]
    },
    {
      "cell_type": "markdown",
      "source": [
        "### Experiment 1: Original features"
      ],
      "metadata": {
        "id": "bzHQSwz3BUkY"
      }
    },
    {
      "cell_type": "code",
      "source": [
        "%%time\n",
        "oof_probs['4_1'], test_preds_1 = run_experiment(\n",
        "    data=(train, test, TARGET),\n",
        "    n_trials=250\n",
        ")"
      ],
      "metadata": {
        "colab": {
          "base_uri": "https://localhost:8080/"
        },
        "id": "i60M-qrfJkbr",
        "outputId": "013a370f-52dd-4ff5-cd42-4fc5410fc70d"
      },
      "execution_count": 34,
      "outputs": [
        {
          "metadata": {
            "tags": null
          },
          "name": "stderr",
          "output_type": "stream",
          "text": [
            "\u001b[32m[I 2022-09-30 15:23:50,839]\u001b[0m A new study created in memory with name: no-name-01cdf0d6-bc0c-469d-8969-38e86757feb2\u001b[0m\n"
          ]
        },
        {
          "metadata": {
            "tags": null
          },
          "name": "stdout",
          "output_type": "stream",
          "text": [
            "---------------Hyperparameter tuning---------------\n"
          ]
        },
        {
          "output_type": "stream",
          "name": "stderr",
          "text": [
            "\u001b[32m[I 2022-09-30 15:23:56,677]\u001b[0m Trial 0 finished with value: 0.623006934531691 and parameters: {'learning_rate': 0.16, 'reg_alpha': 189.4, 'reg_lambda': 153.1, 'num_leaves': 295, 'min_child_samples': 110, 'min_split_gain': 10.3, 'colsample_bytree': 0.55, 'top_rate': 0.25, 'other_rate': 0.35000000000000003, 'scale_pos_weight': 2.6500000000000004}. Best is trial 0 with value: 0.623006934531691.\u001b[0m\n",
            "\u001b[32m[I 2022-09-30 15:24:18,340]\u001b[0m Trial 1 finished with value: 0.6245623629584189 and parameters: {'learning_rate': 0.01, 'reg_alpha': 176.8, 'reg_lambda': 177.0, 'num_leaves': 315, 'min_child_samples': 294, 'min_split_gain': 14.68, 'colsample_bytree': 0.9, 'top_rate': 0.1, 'other_rate': 0.15000000000000002, 'scale_pos_weight': 2.1500000000000004}. Best is trial 1 with value: 0.6245623629584189.\u001b[0m\n",
            "\u001b[32m[I 2022-09-30 15:24:25,552]\u001b[0m Trial 2 finished with value: 0.6392284571919771 and parameters: {'learning_rate': 0.25, 'reg_alpha': 125.2, 'reg_lambda': 22.1, 'num_leaves': 20, 'min_child_samples': 472, 'min_split_gain': 2.12, 'colsample_bytree': 0.7, 'top_rate': 0.25, 'other_rate': 0.45, 'scale_pos_weight': 2.7}. Best is trial 2 with value: 0.6392284571919771.\u001b[0m\n",
            "\u001b[32m[I 2022-09-30 15:24:34,835]\u001b[0m Trial 3 finished with value: 0.6601143195342722 and parameters: {'learning_rate': 0.25, 'reg_alpha': 143.6, 'reg_lambda': 23.8, 'num_leaves': 605, 'min_child_samples': 64, 'min_split_gain': 1.16, 'colsample_bytree': 0.9, 'top_rate': 0.30000000000000004, 'other_rate': 0.1, 'scale_pos_weight': 3.2}. Best is trial 3 with value: 0.6601143195342722.\u001b[0m\n",
            "\u001b[32m[I 2022-09-30 15:24:39,363]\u001b[0m Trial 4 finished with value: 0.5938465409696082 and parameters: {'learning_rate': 0.18000000000000002, 'reg_alpha': 154.70000000000002, 'reg_lambda': 131.20000000000002, 'num_leaves': 565, 'min_child_samples': 88, 'min_split_gain': 3.61, 'colsample_bytree': 0.75, 'top_rate': 0.25, 'other_rate': 0.25, 'scale_pos_weight': 4.85}. Best is trial 3 with value: 0.6601143195342722.\u001b[0m\n",
            "\u001b[32m[I 2022-09-30 15:24:48,002]\u001b[0m Trial 5 finished with value: 0.6467500186163931 and parameters: {'learning_rate': 0.28, 'reg_alpha': 101.2, 'reg_lambda': 164.20000000000002, 'num_leaves': 835, 'min_child_samples': 116, 'min_split_gain': 1.18, 'colsample_bytree': 0.7, 'top_rate': 0.45000000000000007, 'other_rate': 0.1, 'scale_pos_weight': 1.9}. Best is trial 3 with value: 0.6601143195342722.\u001b[0m\n",
            "\u001b[32m[I 2022-09-30 15:24:54,642]\u001b[0m Trial 6 finished with value: 0.6504563902834214 and parameters: {'learning_rate': 0.28, 'reg_alpha': 25.8, 'reg_lambda': 183.3, 'num_leaves': 250, 'min_child_samples': 308, 'min_split_gain': 14.280000000000001, 'colsample_bytree': 0.6, 'top_rate': 0.30000000000000004, 'other_rate': 0.5, 'scale_pos_weight': 1.9500000000000002}. Best is trial 3 with value: 0.6601143195342722.\u001b[0m\n",
            "\u001b[32m[I 2022-09-30 15:24:58,741]\u001b[0m Trial 7 finished with value: 0.6039825991159852 and parameters: {'learning_rate': 0.060000000000000005, 'reg_alpha': 137.6, 'reg_lambda': 169.0, 'num_leaves': 465, 'min_child_samples': 50, 'min_split_gain': 9.34, 'colsample_bytree': 0.5, 'top_rate': 0.1, 'other_rate': 0.2, 'scale_pos_weight': 4.65}. Best is trial 3 with value: 0.6601143195342722.\u001b[0m\n",
            "\u001b[32m[I 2022-09-30 15:25:05,315]\u001b[0m Trial 8 finished with value: 0.6557050525376807 and parameters: {'learning_rate': 0.24000000000000002, 'reg_alpha': 76.80000000000001, 'reg_lambda': 18.5, 'num_leaves': 140, 'min_child_samples': 268, 'min_split_gain': 7.61, 'colsample_bytree': 0.75, 'top_rate': 0.15000000000000002, 'other_rate': 0.4, 'scale_pos_weight': 3.4000000000000004}. Best is trial 3 with value: 0.6601143195342722.\u001b[0m\n",
            "\u001b[32m[I 2022-09-30 15:25:14,018]\u001b[0m Trial 9 finished with value: 0.6622349754273564 and parameters: {'learning_rate': 0.23, 'reg_alpha': 91.9, 'reg_lambda': 14.8, 'num_leaves': 610, 'min_child_samples': 218, 'min_split_gain': 0.09, 'colsample_bytree': 0.5, 'top_rate': 0.25, 'other_rate': 0.45, 'scale_pos_weight': 2.75}. Best is trial 9 with value: 0.6622349754273564.\u001b[0m\n",
            "\u001b[32m[I 2022-09-30 15:25:26,950]\u001b[0m Trial 10 finished with value: 0.6696542096997251 and parameters: {'learning_rate': 0.11, 'reg_alpha': 34.2, 'reg_lambda': 77.80000000000001, 'num_leaves': 965, 'min_child_samples': 406, 'min_split_gain': 4.53, 'colsample_bytree': 0.6, 'top_rate': 0.5, 'other_rate': 0.35000000000000003, 'scale_pos_weight': 3.95}. Best is trial 10 with value: 0.6696542096997251.\u001b[0m\n",
            "\u001b[32m[I 2022-09-30 15:25:41,551]\u001b[0m Trial 11 finished with value: 0.6716507792041614 and parameters: {'learning_rate': 0.09999999999999999, 'reg_alpha': 2.9000000000000004, 'reg_lambda': 70.3, 'num_leaves': 975, 'min_child_samples': 432, 'min_split_gain': 5.08, 'colsample_bytree': 0.6, 'top_rate': 0.5, 'other_rate': 0.35000000000000003, 'scale_pos_weight': 1.0}. Best is trial 11 with value: 0.6716507792041614.\u001b[0m\n",
            "\u001b[32m[I 2022-09-30 15:25:55,447]\u001b[0m Trial 12 finished with value: 0.6770408951237396 and parameters: {'learning_rate': 0.09999999999999999, 'reg_alpha': 0.1, 'reg_lambda': 77.60000000000001, 'num_leaves': 990, 'min_child_samples': 462, 'min_split_gain': 5.08, 'colsample_bytree': 0.6, 'top_rate': 0.5, 'other_rate': 0.3, 'scale_pos_weight': 1.2}. Best is trial 12 with value: 0.6770408951237396.\u001b[0m\n",
            "\u001b[32m[I 2022-09-30 15:26:08,184]\u001b[0m Trial 13 finished with value: 0.6697505094189634 and parameters: {'learning_rate': 0.09999999999999999, 'reg_alpha': 4.5, 'reg_lambda': 73.5, 'num_leaves': 990, 'min_child_samples': 490, 'min_split_gain': 5.51, 'colsample_bytree': 0.65, 'top_rate': 0.4, 'other_rate': 0.3, 'scale_pos_weight': 1.0}. Best is trial 12 with value: 0.6770408951237396.\u001b[0m\n",
            "\u001b[32m[I 2022-09-30 15:26:23,678]\u001b[0m Trial 14 finished with value: 0.6404690246843708 and parameters: {'learning_rate': 0.09, 'reg_alpha': 51.800000000000004, 'reg_lambda': 59.5, 'num_leaves': 790, 'min_child_samples': 394, 'min_split_gain': 6.51, 'colsample_bytree': 0.8, 'top_rate': 0.4, 'other_rate': 0.25, 'scale_pos_weight': 1.05}. Best is trial 12 with value: 0.6770408951237396.\u001b[0m\n",
            "\u001b[32m[I 2022-09-30 15:26:49,851]\u001b[0m Trial 15 finished with value: 0.6724504424611377 and parameters: {'learning_rate': 0.03, 'reg_alpha': 0.8, 'reg_lambda': 107.60000000000001, 'num_leaves': 790, 'min_child_samples': 398, 'min_split_gain': 7.8, 'colsample_bytree': 0.6, 'top_rate': 0.5, 'other_rate': 0.3, 'scale_pos_weight': 1.55}. Best is trial 12 with value: 0.6770408951237396.\u001b[0m\n",
            "\u001b[32m[I 2022-09-30 15:27:34,458]\u001b[0m Trial 16 finished with value: 0.637344498903945 and parameters: {'learning_rate': 0.01, 'reg_alpha': 59.7, 'reg_lambda': 114.30000000000001, 'num_leaves': 780, 'min_child_samples': 344, 'min_split_gain': 9.18, 'colsample_bytree': 0.65, 'top_rate': 0.4, 'other_rate': 0.2, 'scale_pos_weight': 1.5}. Best is trial 12 with value: 0.6770408951237396.\u001b[0m\n",
            "\u001b[32m[I 2022-09-30 15:27:48,274]\u001b[0m Trial 17 finished with value: 0.6534065168439318 and parameters: {'learning_rate': 0.05, 'reg_alpha': 26.8, 'reg_lambda': 99.80000000000001, 'num_leaves': 710, 'min_child_samples': 200, 'min_split_gain': 12.42, 'colsample_bytree': 0.55, 'top_rate': 0.45000000000000007, 'other_rate': 0.3, 'scale_pos_weight': 1.55}. Best is trial 12 with value: 0.6770408951237396.\u001b[0m\n",
            "\u001b[32m[I 2022-09-30 15:27:59,707]\u001b[0m Trial 18 finished with value: 0.6544588741236596 and parameters: {'learning_rate': 0.14, 'reg_alpha': 46.300000000000004, 'reg_lambda': 98.5, 'num_leaves': 880, 'min_child_samples': 356, 'min_split_gain': 7.57, 'colsample_bytree': 0.8, 'top_rate': 0.5, 'other_rate': 0.05, 'scale_pos_weight': 1.55}. Best is trial 12 with value: 0.6770408951237396.\u001b[0m\n",
            "\u001b[32m[I 2022-09-30 15:28:19,087]\u001b[0m Trial 19 finished with value: 0.6813857525627578 and parameters: {'learning_rate': 0.05, 'reg_alpha': 0.6000000000000001, 'reg_lambda': 46.800000000000004, 'num_leaves': 455, 'min_child_samples': 450, 'min_split_gain': 3.24, 'colsample_bytree': 0.65, 'top_rate': 0.35, 'other_rate': 0.2, 'scale_pos_weight': 2.25}. Best is trial 19 with value: 0.6813857525627578.\u001b[0m\n",
            "\u001b[32m[I 2022-09-30 15:28:34,088]\u001b[0m Trial 20 finished with value: 0.6584242077830039 and parameters: {'learning_rate': 0.060000000000000005, 'reg_alpha': 75.0, 'reg_lambda': 53.5, 'num_leaves': 450, 'min_child_samples': 452, 'min_split_gain': 2.8000000000000003, 'colsample_bytree': 0.95, 'top_rate': 0.35, 'other_rate': 0.2, 'scale_pos_weight': 2.35}. Best is trial 19 with value: 0.6813857525627578.\u001b[0m\n",
            "\u001b[32m[I 2022-09-30 15:28:55,757]\u001b[0m Trial 21 finished with value: 0.6740038588404726 and parameters: {'learning_rate': 0.04, 'reg_alpha': 12.100000000000001, 'reg_lambda': 39.1, 'num_leaves': 700, 'min_child_samples': 382, 'min_split_gain': 6.58, 'colsample_bytree': 0.65, 'top_rate': 0.45000000000000007, 'other_rate': 0.25, 'scale_pos_weight': 1.5}. Best is trial 19 with value: 0.6813857525627578.\u001b[0m\n",
            "\u001b[32m[I 2022-09-30 15:29:09,454]\u001b[0m Trial 22 finished with value: 0.6651889012596347 and parameters: {'learning_rate': 0.06999999999999999, 'reg_alpha': 18.5, 'reg_lambda': 44.5, 'num_leaves': 680, 'min_child_samples': 500, 'min_split_gain': 5.97, 'colsample_bytree': 0.65, 'top_rate': 0.45000000000000007, 'other_rate': 0.15000000000000002, 'scale_pos_weight': 1.9}. Best is trial 19 with value: 0.6813857525627578.\u001b[0m\n",
            "\u001b[32m[I 2022-09-30 15:29:27,938]\u001b[0m Trial 23 finished with value: 0.6801772536423909 and parameters: {'learning_rate': 0.04, 'reg_alpha': 16.8, 'reg_lambda': 39.900000000000006, 'num_leaves': 390, 'min_child_samples': 358, 'min_split_gain': 3.18, 'colsample_bytree': 0.7, 'top_rate': 0.35, 'other_rate': 0.25, 'scale_pos_weight': 2.35}. Best is trial 19 with value: 0.6813857525627578.\u001b[0m\n",
            "\u001b[32m[I 2022-09-30 15:29:38,545]\u001b[0m Trial 24 finished with value: 0.6680099658999068 and parameters: {'learning_rate': 0.13, 'reg_alpha': 39.300000000000004, 'reg_lambda': 35.7, 'num_leaves': 390, 'min_child_samples': 426, 'min_split_gain': 3.93, 'colsample_bytree': 0.7, 'top_rate': 0.35, 'other_rate': 0.15000000000000002, 'scale_pos_weight': 2.35}. Best is trial 19 with value: 0.6813857525627578.\u001b[0m\n",
            "\u001b[32m[I 2022-09-30 15:29:55,189]\u001b[0m Trial 25 finished with value: 0.6818549079515197 and parameters: {'learning_rate': 0.08, 'reg_alpha': 18.8, 'reg_lambda': 2.7, 'num_leaves': 380, 'min_child_samples': 346, 'min_split_gain': 2.82, 'colsample_bytree': 0.8, 'top_rate': 0.35, 'other_rate': 0.2, 'scale_pos_weight': 3.5500000000000003}. Best is trial 25 with value: 0.6818549079515197.\u001b[0m\n",
            "\u001b[32m[I 2022-09-30 15:30:07,629]\u001b[0m Trial 26 finished with value: 0.6699667947680903 and parameters: {'learning_rate': 0.08, 'reg_alpha': 64.10000000000001, 'reg_lambda': 1.0, 'num_leaves': 375, 'min_child_samples': 334, 'min_split_gain': 2.18, 'colsample_bytree': 0.8, 'top_rate': 0.35, 'other_rate': 0.2, 'scale_pos_weight': 3.6500000000000004}. Best is trial 25 with value: 0.6818549079515197.\u001b[0m\n",
            "\u001b[32m[I 2022-09-30 15:30:12,210]\u001b[0m Trial 27 finished with value: 0.6288252634498976 and parameters: {'learning_rate': 0.03, 'reg_alpha': 18.8, 'reg_lambda': 9.8, 'num_leaves': 210, 'min_child_samples': 258, 'min_split_gain': 2.67, 'colsample_bytree': 0.75, 'top_rate': 0.2, 'other_rate': 0.1, 'scale_pos_weight': 4.25}. Best is trial 25 with value: 0.6818549079515197.\u001b[0m\n",
            "\u001b[32m[I 2022-09-30 15:30:25,010]\u001b[0m Trial 28 finished with value: 0.6815278280907847 and parameters: {'learning_rate': 0.18000000000000002, 'reg_alpha': 36.5, 'reg_lambda': 2.2, 'num_leaves': 510, 'min_child_samples': 174, 'min_split_gain': 0.36, 'colsample_bytree': 0.8, 'top_rate': 0.35, 'other_rate': 0.25, 'scale_pos_weight': 3.0500000000000003}. Best is trial 25 with value: 0.6818549079515197.\u001b[0m\n",
            "\u001b[32m[I 2022-09-30 15:30:38,177]\u001b[0m Trial 29 finished with value: 0.6857048176067742 and parameters: {'learning_rate': 0.18000000000000002, 'reg_alpha': 33.5, 'reg_lambda': 2.8000000000000003, 'num_leaves': 535, 'min_child_samples': 172, 'min_split_gain': 1.55, 'colsample_bytree': 0.8500000000000001, 'top_rate': 0.30000000000000004, 'other_rate': 0.15000000000000002, 'scale_pos_weight': 3.0500000000000003}. Best is trial 29 with value: 0.6857048176067742.\u001b[0m\n",
            "\u001b[32m[I 2022-09-30 15:30:47,260]\u001b[0m Trial 30 finished with value: 0.6689963911105847 and parameters: {'learning_rate': 0.19, 'reg_alpha': 102.0, 'reg_lambda': 5.7, 'num_leaves': 505, 'min_child_samples': 160, 'min_split_gain': 1.04, 'colsample_bytree': 0.8500000000000001, 'top_rate': 0.30000000000000004, 'other_rate': 0.05, 'scale_pos_weight': 2.95}. Best is trial 29 with value: 0.6857048176067742.\u001b[0m\n",
            "\u001b[32m[I 2022-09-30 15:31:03,230]\u001b[0m Trial 31 finished with value: 0.6983754876145583 and parameters: {'learning_rate': 0.17, 'reg_alpha': 40.7, 'reg_lambda': 0.0, 'num_leaves': 550, 'min_child_samples': 8, 'min_split_gain': 0.25, 'colsample_bytree': 0.8500000000000001, 'top_rate': 0.30000000000000004, 'other_rate': 0.15000000000000002, 'scale_pos_weight': 3.6}. Best is trial 31 with value: 0.6983754876145583.\u001b[0m\n",
            "\u001b[32m[I 2022-09-30 15:31:17,662]\u001b[0m Trial 32 finished with value: 0.6861934458912142 and parameters: {'learning_rate': 0.18000000000000002, 'reg_alpha': 47.1, 'reg_lambda': 0.5, 'num_leaves': 570, 'min_child_samples': 12, 'min_split_gain': 0.68, 'colsample_bytree': 0.8500000000000001, 'top_rate': 0.30000000000000004, 'other_rate': 0.15000000000000002, 'scale_pos_weight': 3.5500000000000003}. Best is trial 31 with value: 0.6983754876145583.\u001b[0m\n",
            "\u001b[32m[I 2022-09-30 15:31:27,533]\u001b[0m Trial 33 finished with value: 0.6790328982806455 and parameters: {'learning_rate': 0.21000000000000002, 'reg_alpha': 54.900000000000006, 'reg_lambda': 198.0, 'num_leaves': 560, 'min_child_samples': 0, 'min_split_gain': 1.71, 'colsample_bytree': 0.8500000000000001, 'top_rate': 0.30000000000000004, 'other_rate': 0.15000000000000002, 'scale_pos_weight': 3.6}. Best is trial 31 with value: 0.6983754876145583.\u001b[0m\n",
            "\u001b[32m[I 2022-09-30 15:31:33,249]\u001b[0m Trial 34 finished with value: 0.629619478801357 and parameters: {'learning_rate': 0.16, 'reg_alpha': 191.60000000000002, 'reg_lambda': 26.900000000000002, 'num_leaves': 610, 'min_child_samples': 22, 'min_split_gain': 1.05, 'colsample_bytree': 0.9, 'top_rate': 0.2, 'other_rate': 0.1, 'scale_pos_weight': 3.95}. Best is trial 31 with value: 0.6983754876145583.\u001b[0m\n",
            "\u001b[32m[I 2022-09-30 15:31:43,167]\u001b[0m Trial 35 finished with value: 0.6703886069264213 and parameters: {'learning_rate': 0.21000000000000002, 'reg_alpha': 69.4, 'reg_lambda': 28.0, 'num_leaves': 335, 'min_child_samples': 114, 'min_split_gain': 1.98, 'colsample_bytree': 0.8500000000000001, 'top_rate': 0.30000000000000004, 'other_rate': 0.15000000000000002, 'scale_pos_weight': 3.35}. Best is trial 31 with value: 0.6983754876145583.\u001b[0m\n",
            "\u001b[32m[I 2022-09-30 15:31:58,297]\u001b[0m Trial 36 finished with value: 0.6869097137284298 and parameters: {'learning_rate': 0.14, 'reg_alpha': 86.5, 'reg_lambda': 17.7, 'num_leaves': 560, 'min_child_samples': 74, 'min_split_gain': 0.01, 'colsample_bytree': 0.9, 'top_rate': 0.25, 'other_rate': 0.1, 'scale_pos_weight': 4.0}. Best is trial 31 with value: 0.6983754876145583.\u001b[0m\n",
            "\u001b[32m[I 2022-09-30 15:32:08,143]\u001b[0m Trial 37 finished with value: 0.681653418973788 and parameters: {'learning_rate': 0.14, 'reg_alpha': 88.30000000000001, 'reg_lambda': 14.3, 'num_leaves': 665, 'min_child_samples': 76, 'min_split_gain': 0.34, 'colsample_bytree': 0.95, 'top_rate': 0.2, 'other_rate': 0.05, 'scale_pos_weight': 4.300000000000001}. Best is trial 31 with value: 0.6983754876145583.\u001b[0m\n",
            "\u001b[32m[I 2022-09-30 15:32:17,275]\u001b[0m Trial 38 finished with value: 0.6754781621056777 and parameters: {'learning_rate': 0.17, 'reg_alpha': 109.5, 'reg_lambda': 136.1, 'num_leaves': 555, 'min_child_samples': 34, 'min_split_gain': 0.11, 'colsample_bytree': 0.9, 'top_rate': 0.25, 'other_rate': 0.1, 'scale_pos_weight': 3.9000000000000004}. Best is trial 31 with value: 0.6983754876145583.\u001b[0m\n",
            "\u001b[32m[I 2022-09-30 15:32:21,553]\u001b[0m Trial 39 finished with value: 0.5841346767178495 and parameters: {'learning_rate': 0.2, 'reg_alpha': 165.4, 'reg_lambda': 27.5, 'num_leaves': 640, 'min_child_samples': 148, 'min_split_gain': 1.59, 'colsample_bytree': 0.8500000000000001, 'top_rate': 0.25, 'other_rate': 0.1, 'scale_pos_weight': 4.300000000000001}. Best is trial 31 with value: 0.6983754876145583.\u001b[0m\n",
            "\u001b[32m[I 2022-09-30 15:32:31,947]\u001b[0m Trial 40 finished with value: 0.6612472539352385 and parameters: {'learning_rate': 0.15000000000000002, 'reg_alpha': 116.2, 'reg_lambda': 18.900000000000002, 'num_leaves': 555, 'min_child_samples': 88, 'min_split_gain': 0.97, 'colsample_bytree': 0.95, 'top_rate': 0.30000000000000004, 'other_rate': 0.15000000000000002, 'scale_pos_weight': 3.15}. Best is trial 31 with value: 0.6983754876145583.\u001b[0m\n",
            "\u001b[32m[I 2022-09-30 15:32:43,134]\u001b[0m Trial 41 finished with value: 0.6827536708821597 and parameters: {'learning_rate': 0.12, 'reg_alpha': 44.5, 'reg_lambda': 1.9000000000000001, 'num_leaves': 430, 'min_child_samples': 0, 'min_split_gain': 2.33, 'colsample_bytree': 0.8500000000000001, 'top_rate': 0.30000000000000004, 'other_rate': 0.15000000000000002, 'scale_pos_weight': 3.6}. Best is trial 31 with value: 0.6983754876145583.\u001b[0m\n",
            "\u001b[32m[I 2022-09-30 15:32:53,534]\u001b[0m Trial 42 finished with value: 0.6843307291694424 and parameters: {'learning_rate': 0.12, 'reg_alpha': 44.7, 'reg_lambda': 14.4, 'num_leaves': 495, 'min_child_samples': 6, 'min_split_gain': 4.03, 'colsample_bytree': 0.9, 'top_rate': 0.25, 'other_rate': 0.15000000000000002, 'scale_pos_weight': 3.8000000000000003}. Best is trial 31 with value: 0.6983754876145583.\u001b[0m\n",
            "\u001b[32m[I 2022-09-30 15:33:02,343]\u001b[0m Trial 43 finished with value: 0.6705272110233415 and parameters: {'learning_rate': 0.16, 'reg_alpha': 80.10000000000001, 'reg_lambda': 14.200000000000001, 'num_leaves': 510, 'min_child_samples': 56, 'min_split_gain': 3.93, 'colsample_bytree': 0.9, 'top_rate': 0.25, 'other_rate': 0.1, 'scale_pos_weight': 2.85}. Best is trial 31 with value: 0.6983754876145583.\u001b[0m\n",
            "\u001b[32m[I 2022-09-30 15:33:17,505]\u001b[0m Trial 44 finished with value: 0.6974688511906091 and parameters: {'learning_rate': 0.17, 'reg_alpha': 31.8, 'reg_lambda': 29.8, 'num_leaves': 590, 'min_child_samples': 34, 'min_split_gain': 0.8, 'colsample_bytree': 0.9, 'top_rate': 0.25, 'other_rate': 0.05, 'scale_pos_weight': 4.550000000000001}. Best is trial 31 with value: 0.6983754876145583.\u001b[0m\n",
            "\u001b[32m[I 2022-09-30 15:33:25,563]\u001b[0m Trial 45 finished with value: 0.6744845602390339 and parameters: {'learning_rate': 0.23, 'reg_alpha': 31.400000000000002, 'reg_lambda': 33.0, 'num_leaves': 590, 'min_child_samples': 40, 'min_split_gain': 0.68, 'colsample_bytree': 0.9, 'top_rate': 0.2, 'other_rate': 0.05, 'scale_pos_weight': 4.85}. Best is trial 31 with value: 0.6983754876145583.\u001b[0m\n",
            "\u001b[32m[I 2022-09-30 15:33:32,095]\u001b[0m Trial 46 finished with value: 0.6535882001683953 and parameters: {'learning_rate': 0.18000000000000002, 'reg_alpha': 135.5, 'reg_lambda': 21.1, 'num_leaves': 720, 'min_child_samples': 136, 'min_split_gain': 1.58, 'colsample_bytree': 0.95, 'top_rate': 0.15000000000000002, 'other_rate': 0.05, 'scale_pos_weight': 4.6}. Best is trial 31 with value: 0.6983754876145583.\u001b[0m\n",
            "\u001b[32m[I 2022-09-30 15:33:49,582]\u001b[0m Trial 47 finished with value: 0.6942783546362139 and parameters: {'learning_rate': 0.2, 'reg_alpha': 53.0, 'reg_lambda': 58.7, 'num_leaves': 640, 'min_child_samples': 98, 'min_split_gain': 0.12, 'colsample_bytree': 0.8500000000000001, 'top_rate': 0.25, 'other_rate': 0.1, 'scale_pos_weight': 4.15}. Best is trial 31 with value: 0.6983754876145583.\u001b[0m\n",
            "\u001b[32m[I 2022-09-30 15:34:01,092]\u001b[0m Trial 48 finished with value: 0.6920184372348253 and parameters: {'learning_rate': 0.22, 'reg_alpha': 62.400000000000006, 'reg_lambda': 63.400000000000006, 'num_leaves': 620, 'min_child_samples': 72, 'min_split_gain': 0.19, 'colsample_bytree': 0.9, 'top_rate': 0.15000000000000002, 'other_rate': 0.1, 'scale_pos_weight': 4.5}. Best is trial 31 with value: 0.6983754876145583.\u001b[0m\n",
            "\u001b[32m[I 2022-09-30 15:34:09,199]\u001b[0m Trial 49 finished with value: 0.664136641379535 and parameters: {'learning_rate': 0.26, 'reg_alpha': 86.60000000000001, 'reg_lambda': 54.5, 'num_leaves': 750, 'min_child_samples': 94, 'min_split_gain': 0.08, 'colsample_bytree': 0.9, 'top_rate': 0.15000000000000002, 'other_rate': 0.05, 'scale_pos_weight': 5.0}. Best is trial 31 with value: 0.6983754876145583.\u001b[0m\n",
            "\u001b[32m[I 2022-09-30 15:34:15,014]\u001b[0m Trial 50 finished with value: 0.6530581885055107 and parameters: {'learning_rate': 0.22, 'reg_alpha': 64.4, 'reg_lambda': 63.400000000000006, 'num_leaves': 655, 'min_child_samples': 64, 'min_split_gain': 11.33, 'colsample_bytree': 0.95, 'top_rate': 0.1, 'other_rate': 0.1, 'scale_pos_weight': 4.550000000000001}. Best is trial 31 with value: 0.6983754876145583.\u001b[0m\n",
            "\u001b[32m[I 2022-09-30 15:34:31,594]\u001b[0m Trial 51 finished with value: 0.6955742967617505 and parameters: {'learning_rate': 0.2, 'reg_alpha': 53.7, 'reg_lambda': 47.0, 'num_leaves': 625, 'min_child_samples': 26, 'min_split_gain': 0.74, 'colsample_bytree': 0.9, 'top_rate': 0.25, 'other_rate': 0.1, 'scale_pos_weight': 4.45}. Best is trial 31 with value: 0.6983754876145583.\u001b[0m\n",
            "\u001b[32m[I 2022-09-30 15:34:44,182]\u001b[0m Trial 52 finished with value: 0.687059477499362 and parameters: {'learning_rate': 0.26, 'reg_alpha': 56.400000000000006, 'reg_lambda': 63.800000000000004, 'num_leaves': 630, 'min_child_samples': 28, 'min_split_gain': 1.06, 'colsample_bytree': 0.9, 'top_rate': 0.25, 'other_rate': 0.1, 'scale_pos_weight': 4.15}. Best is trial 31 with value: 0.6983754876145583.\u001b[0m\n",
            "\u001b[32m[I 2022-09-30 15:34:53,234]\u001b[0m Trial 53 finished with value: 0.6826181000631222 and parameters: {'learning_rate': 0.3, 'reg_alpha': 54.800000000000004, 'reg_lambda': 88.5, 'num_leaves': 630, 'min_child_samples': 30, 'min_split_gain': 1.23, 'colsample_bytree': 0.95, 'top_rate': 0.2, 'other_rate': 0.05, 'scale_pos_weight': 4.15}. Best is trial 31 with value: 0.6983754876145583.\u001b[0m\n",
            "\u001b[32m[I 2022-09-30 15:35:00,932]\u001b[0m Trial 54 finished with value: 0.6679479780418456 and parameters: {'learning_rate': 0.26, 'reg_alpha': 71.2, 'reg_lambda': 86.0, 'num_leaves': 840, 'min_child_samples': 48, 'min_split_gain': 2.25, 'colsample_bytree': 0.9, 'top_rate': 0.2, 'other_rate': 0.1, 'scale_pos_weight': 4.45}. Best is trial 31 with value: 0.6983754876145583.\u001b[0m\n",
            "\u001b[32m[I 2022-09-30 15:35:11,477]\u001b[0m Trial 55 finished with value: 0.6880173748972765 and parameters: {'learning_rate': 0.24000000000000002, 'reg_alpha': 57.800000000000004, 'reg_lambda': 65.3, 'num_leaves': 620, 'min_child_samples': 102, 'min_split_gain': 0.71, 'colsample_bytree': 0.8500000000000001, 'top_rate': 0.25, 'other_rate': 0.05, 'scale_pos_weight': 4.75}. Best is trial 31 with value: 0.6983754876145583.\u001b[0m\n",
            "\u001b[32m[I 2022-09-30 15:35:19,440]\u001b[0m Trial 56 finished with value: 0.6727701598807541 and parameters: {'learning_rate': 0.2, 'reg_alpha': 27.400000000000002, 'reg_lambda': 69.8, 'num_leaves': 55, 'min_child_samples': 130, 'min_split_gain': 0.74, 'colsample_bytree': 0.75, 'top_rate': 0.15000000000000002, 'other_rate': 0.05, 'scale_pos_weight': 4.75}. Best is trial 31 with value: 0.6983754876145583.\u001b[0m\n",
            "\u001b[32m[I 2022-09-30 15:35:23,548]\u001b[0m Trial 57 finished with value: 0.5750523778478194 and parameters: {'learning_rate': 0.24000000000000002, 'reg_alpha': 62.6, 'reg_lambda': 48.300000000000004, 'num_leaves': 740, 'min_child_samples': 98, 'min_split_gain': 13.620000000000001, 'colsample_bytree': 0.8500000000000001, 'top_rate': 0.2, 'other_rate': 0.05, 'scale_pos_weight': 5.0}. Best is trial 31 with value: 0.6983754876145583.\u001b[0m\n",
            "\u001b[32m[I 2022-09-30 15:35:40,113]\u001b[0m Trial 58 finished with value: 0.6890123913002121 and parameters: {'learning_rate': 0.22, 'reg_alpha': 39.0, 'reg_lambda': 86.5, 'num_leaves': 695, 'min_child_samples': 108, 'min_split_gain': 0.5700000000000001, 'colsample_bytree': 0.8, 'top_rate': 0.1, 'other_rate': 0.5, 'scale_pos_weight': 4.45}. Best is trial 31 with value: 0.6983754876145583.\u001b[0m\n",
            "\u001b[32m[I 2022-09-30 15:35:48,197]\u001b[0m Trial 59 finished with value: 0.6788771342246551 and parameters: {'learning_rate': 0.22, 'reg_alpha': 40.6, 'reg_lambda': 80.0, 'num_leaves': 690, 'min_child_samples': 238, 'min_split_gain': 3.39, 'colsample_bytree': 0.8, 'top_rate': 0.1, 'other_rate': 0.45, 'scale_pos_weight': 4.4}. Best is trial 31 with value: 0.6983754876145583.\u001b[0m\n",
            "\u001b[32m[I 2022-09-30 15:36:04,233]\u001b[0m Trial 60 finished with value: 0.701337136416131 and parameters: {'learning_rate': 0.2, 'reg_alpha': 9.1, 'reg_lambda': 57.5, 'num_leaves': 835, 'min_child_samples': 70, 'min_split_gain': 1.51, 'colsample_bytree': 0.8, 'top_rate': 0.15000000000000002, 'other_rate': 0.5, 'scale_pos_weight': 4.5}. Best is trial 60 with value: 0.701337136416131.\u001b[0m\n",
            "\u001b[32m[I 2022-09-30 15:36:24,253]\u001b[0m Trial 61 finished with value: 0.7002147686500305 and parameters: {'learning_rate': 0.19, 'reg_alpha': 10.9, 'reg_lambda': 49.900000000000006, 'num_leaves': 930, 'min_child_samples': 68, 'min_split_gain': 1.4000000000000001, 'colsample_bytree': 0.8, 'top_rate': 0.15000000000000002, 'other_rate': 0.5, 'scale_pos_weight': 4.5}. Best is trial 60 with value: 0.701337136416131.\u001b[0m\n",
            "\u001b[32m[I 2022-09-30 15:36:43,021]\u001b[0m Trial 62 finished with value: 0.6981192817518782 and parameters: {'learning_rate': 0.2, 'reg_alpha': 11.3, 'reg_lambda': 52.400000000000006, 'num_leaves': 885, 'min_child_samples': 72, 'min_split_gain': 1.43, 'colsample_bytree': 0.75, 'top_rate': 0.15000000000000002, 'other_rate': 0.45, 'scale_pos_weight': 4.65}. Best is trial 60 with value: 0.701337136416131.\u001b[0m\n",
            "\u001b[32m[I 2022-09-30 15:36:59,959]\u001b[0m Trial 63 finished with value: 0.693067865573414 and parameters: {'learning_rate': 0.2, 'reg_alpha': 10.9, 'reg_lambda': 56.800000000000004, 'num_leaves': 950, 'min_child_samples': 52, 'min_split_gain': 2.61, 'colsample_bytree': 0.75, 'top_rate': 0.15000000000000002, 'other_rate': 0.5, 'scale_pos_weight': 4.7}. Best is trial 60 with value: 0.701337136416131.\u001b[0m\n",
            "\u001b[32m[I 2022-09-30 15:37:17,787]\u001b[0m Trial 64 finished with value: 0.7005523806162703 and parameters: {'learning_rate': 0.17, 'reg_alpha': 10.700000000000001, 'reg_lambda': 49.6, 'num_leaves': 920, 'min_child_samples': 18, 'min_split_gain': 1.78, 'colsample_bytree': 0.75, 'top_rate': 0.15000000000000002, 'other_rate': 0.45, 'scale_pos_weight': 4.1}. Best is trial 60 with value: 0.701337136416131.\u001b[0m\n",
            "\u001b[32m[I 2022-09-30 15:37:26,259]\u001b[0m Trial 65 finished with value: 0.6845481796529767 and parameters: {'learning_rate': 0.19, 'reg_alpha': 10.700000000000001, 'reg_lambda': 42.300000000000004, 'num_leaves': 930, 'min_child_samples': 18, 'min_split_gain': 8.75, 'colsample_bytree': 0.75, 'top_rate': 0.15000000000000002, 'other_rate': 0.45, 'scale_pos_weight': 3.8000000000000003}. Best is trial 60 with value: 0.701337136416131.\u001b[0m\n",
            "\u001b[32m[I 2022-09-30 15:37:39,513]\u001b[0m Trial 66 finished with value: 0.6812638568930593 and parameters: {'learning_rate': 0.17, 'reg_alpha': 7.2, 'reg_lambda': 50.0, 'num_leaves': 890, 'min_child_samples': 48, 'min_split_gain': 4.5200000000000005, 'colsample_bytree': 0.75, 'top_rate': 0.15000000000000002, 'other_rate': 0.4, 'scale_pos_weight': 4.9}. Best is trial 60 with value: 0.701337136416131.\u001b[0m\n",
            "\u001b[32m[I 2022-09-30 15:37:56,071]\u001b[0m Trial 67 finished with value: 0.6922883371138358 and parameters: {'learning_rate': 0.17, 'reg_alpha': 23.900000000000002, 'reg_lambda': 34.0, 'num_leaves': 910, 'min_child_samples': 80, 'min_split_gain': 2.0, 'colsample_bytree': 0.8, 'top_rate': 0.1, 'other_rate': 0.4, 'scale_pos_weight': 4.6}. Best is trial 60 with value: 0.701337136416131.\u001b[0m\n",
            "\u001b[32m[I 2022-09-30 15:38:10,292]\u001b[0m Trial 68 finished with value: 0.6926223007378334 and parameters: {'learning_rate': 0.19, 'reg_alpha': 22.900000000000002, 'reg_lambda': 38.5, 'num_leaves': 870, 'min_child_samples': 16, 'min_split_gain': 1.3800000000000001, 'colsample_bytree': 0.7, 'top_rate': 0.2, 'other_rate': 0.5, 'scale_pos_weight': 4.35}. Best is trial 60 with value: 0.701337136416131.\u001b[0m\n",
            "\u001b[32m[I 2022-09-30 15:38:29,409]\u001b[0m Trial 69 finished with value: 0.7007387471042026 and parameters: {'learning_rate': 0.15000000000000002, 'reg_alpha': 6.800000000000001, 'reg_lambda': 49.7, 'num_leaves': 830, 'min_child_samples': 40, 'min_split_gain': 2.95, 'colsample_bytree': 0.8, 'top_rate': 0.1, 'other_rate': 0.45, 'scale_pos_weight': 4.2}. Best is trial 60 with value: 0.701337136416131.\u001b[0m\n",
            "\u001b[32m[I 2022-09-30 15:38:44,227]\u001b[0m Trial 70 finished with value: 0.6869962825005234 and parameters: {'learning_rate': 0.17, 'reg_alpha': 8.0, 'reg_lambda': 32.9, 'num_leaves': 835, 'min_child_samples': 300, 'min_split_gain': 2.84, 'colsample_bytree': 0.7, 'top_rate': 0.1, 'other_rate': 0.45, 'scale_pos_weight': 4.1}. Best is trial 60 with value: 0.701337136416131.\u001b[0m\n",
            "\u001b[32m[I 2022-09-30 15:39:02,540]\u001b[0m Trial 71 finished with value: 0.6941292929000512 and parameters: {'learning_rate': 0.15000000000000002, 'reg_alpha': 14.200000000000001, 'reg_lambda': 50.400000000000006, 'num_leaves': 1000, 'min_child_samples': 38, 'min_split_gain': 1.97, 'colsample_bytree': 0.8, 'top_rate': 0.15000000000000002, 'other_rate': 0.5, 'scale_pos_weight': 4.7}. Best is trial 60 with value: 0.701337136416131.\u001b[0m\n",
            "\u001b[32m[I 2022-09-30 15:39:24,048]\u001b[0m Trial 72 finished with value: 0.7056380263356441 and parameters: {'learning_rate': 0.15000000000000002, 'reg_alpha': 0.6000000000000001, 'reg_lambda': 42.0, 'num_leaves': 795, 'min_child_samples': 62, 'min_split_gain': 1.48, 'colsample_bytree': 0.75, 'top_rate': 0.1, 'other_rate': 0.4, 'scale_pos_weight': 4.050000000000001}. Best is trial 72 with value: 0.7056380263356441.\u001b[0m\n",
            "\u001b[32m[I 2022-09-30 15:39:42,327]\u001b[0m Trial 73 finished with value: 0.7019220211811538 and parameters: {'learning_rate': 0.15000000000000002, 'reg_alpha': 0.30000000000000004, 'reg_lambda': 71.5, 'num_leaves': 795, 'min_child_samples': 62, 'min_split_gain': 3.02, 'colsample_bytree': 0.75, 'top_rate': 0.1, 'other_rate': 0.4, 'scale_pos_weight': 3.8000000000000003}. Best is trial 72 with value: 0.7056380263356441.\u001b[0m\n",
            "\u001b[32m[I 2022-09-30 15:40:01,677]\u001b[0m Trial 74 finished with value: 0.7013073444884849 and parameters: {'learning_rate': 0.13, 'reg_alpha': 0.2, 'reg_lambda': 76.60000000000001, 'num_leaves': 805, 'min_child_samples': 64, 'min_split_gain': 3.38, 'colsample_bytree': 0.75, 'top_rate': 0.1, 'other_rate': 0.35000000000000003, 'scale_pos_weight': 3.4000000000000004}. Best is trial 72 with value: 0.7056380263356441.\u001b[0m\n",
            "\u001b[32m[I 2022-09-30 15:40:20,042]\u001b[0m Trial 75 finished with value: 0.7001710204640278 and parameters: {'learning_rate': 0.12, 'reg_alpha': 0.1, 'reg_lambda': 72.7, 'num_leaves': 815, 'min_child_samples': 62, 'min_split_gain': 3.1, 'colsample_bytree': 0.75, 'top_rate': 0.1, 'other_rate': 0.35000000000000003, 'scale_pos_weight': 3.4000000000000004}. Best is trial 72 with value: 0.7056380263356441.\u001b[0m\n",
            "\u001b[32m[I 2022-09-30 15:40:35,725]\u001b[0m Trial 76 finished with value: 0.6905283786563376 and parameters: {'learning_rate': 0.14, 'reg_alpha': 4.2, 'reg_lambda': 73.2, 'num_leaves': 820, 'min_child_samples': 122, 'min_split_gain': 4.53, 'colsample_bytree': 0.75, 'top_rate': 0.1, 'other_rate': 0.35000000000000003, 'scale_pos_weight': 3.4000000000000004}. Best is trial 72 with value: 0.7056380263356441.\u001b[0m\n",
            "\u001b[32m[I 2022-09-30 15:40:52,851]\u001b[0m Trial 77 finished with value: 0.7040518650008996 and parameters: {'learning_rate': 0.12, 'reg_alpha': 0.9, 'reg_lambda': 80.2, 'num_leaves': 785, 'min_child_samples': 62, 'min_split_gain': 3.21, 'colsample_bytree': 0.7, 'top_rate': 0.1, 'other_rate': 0.35000000000000003, 'scale_pos_weight': 3.75}. Best is trial 72 with value: 0.7056380263356441.\u001b[0m\n",
            "\u001b[32m[I 2022-09-30 15:41:05,322]\u001b[0m Trial 78 finished with value: 0.6850269511046488 and parameters: {'learning_rate': 0.11, 'reg_alpha': 19.0, 'reg_lambda': 82.4, 'num_leaves': 770, 'min_child_samples': 84, 'min_split_gain': 5.2700000000000005, 'colsample_bytree': 0.7, 'top_rate': 0.1, 'other_rate': 0.4, 'scale_pos_weight': 3.8000000000000003}. Best is trial 72 with value: 0.7056380263356441.\u001b[0m\n",
            "\u001b[32m[I 2022-09-30 15:41:21,240]\u001b[0m Trial 79 finished with value: 0.6951520157567426 and parameters: {'learning_rate': 0.13, 'reg_alpha': 5.2, 'reg_lambda': 67.7, 'num_leaves': 800, 'min_child_samples': 60, 'min_split_gain': 3.75, 'colsample_bytree': 0.7, 'top_rate': 0.1, 'other_rate': 0.45, 'scale_pos_weight': 3.25}. Best is trial 72 with value: 0.7056380263356441.\u001b[0m\n",
            "\u001b[32m[I 2022-09-30 15:41:33,375]\u001b[0m Trial 80 finished with value: 0.687781363259836 and parameters: {'learning_rate': 0.15000000000000002, 'reg_alpha': 15.3, 'reg_lambda': 90.9, 'num_leaves': 955, 'min_child_samples': 192, 'min_split_gain': 4.44, 'colsample_bytree': 0.8, 'top_rate': 0.1, 'other_rate': 0.4, 'scale_pos_weight': 4.0}. Best is trial 72 with value: 0.7056380263356441.\u001b[0m\n",
            "\u001b[32m[I 2022-09-30 15:41:53,233]\u001b[0m Trial 81 finished with value: 0.6975780080787044 and parameters: {'learning_rate': 0.13, 'reg_alpha': 1.7000000000000002, 'reg_lambda': 94.30000000000001, 'num_leaves': 850, 'min_child_samples': 68, 'min_split_gain': 2.99, 'colsample_bytree': 0.75, 'top_rate': 0.1, 'other_rate': 0.35000000000000003, 'scale_pos_weight': 3.7}. Best is trial 72 with value: 0.7056380263356441.\u001b[0m\n",
            "\u001b[32m[I 2022-09-30 15:42:10,941]\u001b[0m Trial 82 finished with value: 0.7022128153118227 and parameters: {'learning_rate': 0.11, 'reg_alpha': 0.6000000000000001, 'reg_lambda': 110.0, 'num_leaves': 800, 'min_child_samples': 50, 'min_split_gain': 3.42, 'colsample_bytree': 0.75, 'top_rate': 0.1, 'other_rate': 0.35000000000000003, 'scale_pos_weight': 3.4000000000000004}. Best is trial 72 with value: 0.7056380263356441.\u001b[0m\n",
            "\u001b[32m[I 2022-09-30 15:42:28,060]\u001b[0m Trial 83 finished with value: 0.6976331491551772 and parameters: {'learning_rate': 0.09999999999999999, 'reg_alpha': 6.0, 'reg_lambda': 109.0, 'num_leaves': 765, 'min_child_samples': 48, 'min_split_gain': 3.5300000000000002, 'colsample_bytree': 0.7, 'top_rate': 0.1, 'other_rate': 0.4, 'scale_pos_weight': 3.85}. Best is trial 72 with value: 0.7056380263356441.\u001b[0m\n",
            "\u001b[32m[I 2022-09-30 15:42:43,468]\u001b[0m Trial 84 finished with value: 0.6919886529478312 and parameters: {'learning_rate': 0.11, 'reg_alpha': 22.5, 'reg_lambda': 118.9, 'num_leaves': 910, 'min_child_samples': 86, 'min_split_gain': 2.48, 'colsample_bytree': 0.75, 'top_rate': 0.1, 'other_rate': 0.3, 'scale_pos_weight': 4.050000000000001}. Best is trial 72 with value: 0.7056380263356441.\u001b[0m\n",
            "\u001b[32m[I 2022-09-30 15:42:54,899]\u001b[0m Trial 85 finished with value: 0.6850594935723113 and parameters: {'learning_rate': 0.16, 'reg_alpha': 0.1, 'reg_lambda': 128.9, 'num_leaves': 865, 'min_child_samples': 118, 'min_split_gain': 6.95, 'colsample_bytree': 0.8, 'top_rate': 0.15000000000000002, 'other_rate': 0.35000000000000003, 'scale_pos_weight': 4.25}. Best is trial 72 with value: 0.7056380263356441.\u001b[0m\n",
            "\u001b[32m[I 2022-09-30 15:43:07,830]\u001b[0m Trial 86 finished with value: 0.6837954137771896 and parameters: {'learning_rate': 0.09, 'reg_alpha': 17.6, 'reg_lambda': 103.9, 'num_leaves': 800, 'min_child_samples': 46, 'min_split_gain': 5.66, 'colsample_bytree': 0.75, 'top_rate': 0.1, 'other_rate': 0.45, 'scale_pos_weight': 3.5}. Best is trial 72 with value: 0.7056380263356441.\u001b[0m\n",
            "\u001b[32m[I 2022-09-30 15:43:12,043]\u001b[0m Trial 87 finished with value: 0.6070889765737386 and parameters: {'learning_rate': 0.13, 'reg_alpha': 198.9, 'reg_lambda': 76.5, 'num_leaves': 725, 'min_child_samples': 16, 'min_split_gain': 4.18, 'colsample_bytree': 0.65, 'top_rate': 0.15000000000000002, 'other_rate': 0.4, 'scale_pos_weight': 3.75}. Best is trial 72 with value: 0.7056380263356441.\u001b[0m\n",
            "\u001b[32m[I 2022-09-30 15:43:25,087]\u001b[0m Trial 88 finished with value: 0.6844639814196005 and parameters: {'learning_rate': 0.15000000000000002, 'reg_alpha': 9.5, 'reg_lambda': 60.2, 'num_leaves': 920, 'min_child_samples': 276, 'min_split_gain': 3.39, 'colsample_bytree': 0.8, 'top_rate': 0.1, 'other_rate': 0.5, 'scale_pos_weight': 2.6500000000000004}. Best is trial 72 with value: 0.7056380263356441.\u001b[0m\n",
            "\u001b[32m[I 2022-09-30 15:43:41,970]\u001b[0m Trial 89 finished with value: 0.6923025631273625 and parameters: {'learning_rate': 0.14, 'reg_alpha': 29.400000000000002, 'reg_lambda': 40.300000000000004, 'num_leaves': 780, 'min_child_samples': 58, 'min_split_gain': 1.82, 'colsample_bytree': 0.7, 'top_rate': 0.15000000000000002, 'other_rate': 0.3, 'scale_pos_weight': 3.2}. Best is trial 72 with value: 0.7056380263356441.\u001b[0m\n",
            "\u001b[32m[I 2022-09-30 15:43:55,518]\u001b[0m Trial 90 finished with value: 0.6887037943469827 and parameters: {'learning_rate': 0.16, 'reg_alpha': 14.600000000000001, 'reg_lambda': 156.3, 'num_leaves': 850, 'min_child_samples': 82, 'min_split_gain': 2.41, 'colsample_bytree': 0.8, 'top_rate': 0.1, 'other_rate': 0.45, 'scale_pos_weight': 3.9000000000000004}. Best is trial 72 with value: 0.7056380263356441.\u001b[0m\n",
            "\u001b[32m[I 2022-09-30 15:44:13,656]\u001b[0m Trial 91 finished with value: 0.6999884264875008 and parameters: {'learning_rate': 0.12, 'reg_alpha': 0.1, 'reg_lambda': 73.4, 'num_leaves': 820, 'min_child_samples': 62, 'min_split_gain': 3.0100000000000002, 'colsample_bytree': 0.75, 'top_rate': 0.1, 'other_rate': 0.35000000000000003, 'scale_pos_weight': 3.45}. Best is trial 72 with value: 0.7056380263356441.\u001b[0m\n",
            "\u001b[32m[I 2022-09-30 15:44:29,803]\u001b[0m Trial 92 finished with value: 0.6972518947531281 and parameters: {'learning_rate': 0.12, 'reg_alpha': 5.0, 'reg_lambda': 82.30000000000001, 'num_leaves': 810, 'min_child_samples': 34, 'min_split_gain': 3.17, 'colsample_bytree': 0.75, 'top_rate': 0.1, 'other_rate': 0.35000000000000003, 'scale_pos_weight': 3.35}. Best is trial 72 with value: 0.7056380263356441.\u001b[0m\n",
            "\u001b[32m[I 2022-09-30 15:44:46,193]\u001b[0m Trial 93 finished with value: 0.6866090242136682 and parameters: {'learning_rate': 0.11, 'reg_alpha': 20.1, 'reg_lambda': 55.300000000000004, 'num_leaves': 970, 'min_child_samples': 42, 'min_split_gain': 4.75, 'colsample_bytree': 0.75, 'top_rate': 0.1, 'other_rate': 0.4, 'scale_pos_weight': 4.2}. Best is trial 72 with value: 0.7056380263356441.\u001b[0m\n",
            "\u001b[32m[I 2022-09-30 15:45:01,932]\u001b[0m Trial 94 finished with value: 0.693553984046279 and parameters: {'learning_rate': 0.09, 'reg_alpha': 12.8, 'reg_lambda': 70.3, 'num_leaves': 755, 'min_child_samples': 66, 'min_split_gain': 2.7, 'colsample_bytree': 0.7, 'top_rate': 0.15000000000000002, 'other_rate': 0.35000000000000003, 'scale_pos_weight': 3.6500000000000004}. Best is trial 72 with value: 0.7056380263356441.\u001b[0m\n",
            "\u001b[32m[I 2022-09-30 15:45:18,832]\u001b[0m Trial 95 finished with value: 0.6949953882441294 and parameters: {'learning_rate': 0.13, 'reg_alpha': 7.2, 'reg_lambda': 98.30000000000001, 'num_leaves': 895, 'min_child_samples': 106, 'min_split_gain': 3.68, 'colsample_bytree': 0.75, 'top_rate': 0.1, 'other_rate': 0.3, 'scale_pos_weight': 3.3000000000000003}. Best is trial 72 with value: 0.7056380263356441.\u001b[0m\n",
            "\u001b[32m[I 2022-09-30 15:45:38,371]\u001b[0m Trial 96 finished with value: 0.6994430843809968 and parameters: {'learning_rate': 0.09999999999999999, 'reg_alpha': 3.4000000000000004, 'reg_lambda': 59.6, 'num_leaves': 860, 'min_child_samples': 92, 'min_split_gain': 2.27, 'colsample_bytree': 0.8, 'top_rate': 0.1, 'other_rate': 0.5, 'scale_pos_weight': 3.95}. Best is trial 72 with value: 0.7056380263356441.\u001b[0m\n",
            "\u001b[32m[I 2022-09-30 15:45:59,246]\u001b[0m Trial 97 finished with value: 0.7047156321217682 and parameters: {'learning_rate': 0.14, 'reg_alpha': 0.4, 'reg_lambda': 76.2, 'num_leaves': 820, 'min_child_samples': 24, 'min_split_gain': 1.68, 'colsample_bytree': 0.8, 'top_rate': 0.15000000000000002, 'other_rate': 0.4, 'scale_pos_weight': 3.15}. Best is trial 72 with value: 0.7056380263356441.\u001b[0m\n",
            "\u001b[32m[I 2022-09-30 15:46:15,947]\u001b[0m Trial 98 finished with value: 0.693275776596153 and parameters: {'learning_rate': 0.14, 'reg_alpha': 14.700000000000001, 'reg_lambda': 122.10000000000001, 'num_leaves': 940, 'min_child_samples': 18, 'min_split_gain': 1.74, 'colsample_bytree': 0.8, 'top_rate': 0.15000000000000002, 'other_rate': 0.4, 'scale_pos_weight': 3.1}. Best is trial 72 with value: 0.7056380263356441.\u001b[0m\n",
            "\u001b[32m[I 2022-09-30 15:46:28,811]\u001b[0m Trial 99 finished with value: 0.6893989194235434 and parameters: {'learning_rate': 0.16, 'reg_alpha': 26.8, 'reg_lambda': 94.10000000000001, 'num_leaves': 730, 'min_child_samples': 4, 'min_split_gain': 1.27, 'colsample_bytree': 0.8, 'top_rate': 0.15000000000000002, 'other_rate': 0.4, 'scale_pos_weight': 2.9000000000000004}. Best is trial 72 with value: 0.7056380263356441.\u001b[0m\n",
            "\u001b[32m[I 2022-09-30 15:46:42,897]\u001b[0m Trial 100 finished with value: 0.6961938177045812 and parameters: {'learning_rate': 0.19, 'reg_alpha': 9.1, 'reg_lambda': 45.0, 'num_leaves': 835, 'min_child_samples': 24, 'min_split_gain': 2.19, 'colsample_bytree': 0.8, 'top_rate': 0.15000000000000002, 'other_rate': 0.5, 'scale_pos_weight': 4.35}. Best is trial 72 with value: 0.7056380263356441.\u001b[0m\n",
            "\u001b[32m[I 2022-09-30 15:47:02,893]\u001b[0m Trial 101 finished with value: 0.7032535624705861 and parameters: {'learning_rate': 0.12, 'reg_alpha': 0.1, 'reg_lambda': 78.60000000000001, 'num_leaves': 795, 'min_child_samples': 54, 'min_split_gain': 3.3200000000000003, 'colsample_bytree': 0.75, 'top_rate': 0.1, 'other_rate': 0.35000000000000003, 'scale_pos_weight': 3.45}. Best is trial 72 with value: 0.7056380263356441.\u001b[0m\n",
            "\u001b[32m[I 2022-09-30 15:47:18,477]\u001b[0m Trial 102 finished with value: 0.7056227585742716 and parameters: {'learning_rate': 0.15000000000000002, 'reg_alpha': 4.0, 'reg_lambda': 77.9, 'num_leaves': 795, 'min_child_samples': 40, 'min_split_gain': 2.69, 'colsample_bytree': 0.7, 'top_rate': 0.15000000000000002, 'other_rate': 0.4, 'scale_pos_weight': 3.7}. Best is trial 72 with value: 0.7056380263356441.\u001b[0m\n",
            "\u001b[32m[I 2022-09-30 15:47:37,979]\u001b[0m Trial 103 finished with value: 0.697945965281815 and parameters: {'learning_rate': 0.14, 'reg_alpha': 4.2, 'reg_lambda': 78.0, 'num_leaves': 785, 'min_child_samples': 32, 'min_split_gain': 2.7, 'colsample_bytree': 0.7, 'top_rate': 0.1, 'other_rate': 0.4, 'scale_pos_weight': 3.5500000000000003}. Best is trial 72 with value: 0.7056380263356441.\u001b[0m\n",
            "\u001b[32m[I 2022-09-30 15:47:53,917]\u001b[0m Trial 104 finished with value: 0.6947299980189829 and parameters: {'learning_rate': 0.13, 'reg_alpha': 7.5, 'reg_lambda': 66.60000000000001, 'num_leaves': 745, 'min_child_samples': 44, 'min_split_gain': 4.15, 'colsample_bytree': 0.65, 'top_rate': 0.1, 'other_rate': 0.35000000000000003, 'scale_pos_weight': 3.75}. Best is trial 72 with value: 0.7056380263356441.\u001b[0m\n",
            "\u001b[32m[I 2022-09-30 15:48:06,419]\u001b[0m Trial 105 finished with value: 0.6869138632601858 and parameters: {'learning_rate': 0.15000000000000002, 'reg_alpha': 20.3, 'reg_lambda': 104.0, 'num_leaves': 775, 'min_child_samples': 54, 'min_split_gain': 3.63, 'colsample_bytree': 0.7, 'top_rate': 0.1, 'other_rate': 0.45, 'scale_pos_weight': 3.5}. Best is trial 72 with value: 0.7056380263356441.\u001b[0m\n",
            "\u001b[32m[I 2022-09-30 15:48:20,310]\u001b[0m Trial 106 finished with value: 0.6979111450803686 and parameters: {'learning_rate': 0.14, 'reg_alpha': 2.8000000000000003, 'reg_lambda': 85.7, 'num_leaves': 830, 'min_child_samples': 6, 'min_split_gain': 3.25, 'colsample_bytree': 0.75, 'top_rate': 0.15000000000000002, 'other_rate': 0.4, 'scale_pos_weight': 4.050000000000001}. Best is trial 72 with value: 0.7056380263356441.\u001b[0m\n",
            "\u001b[32m[I 2022-09-30 15:48:33,881]\u001b[0m Trial 107 finished with value: 0.6939343784125176 and parameters: {'learning_rate': 0.15000000000000002, 'reg_alpha': 15.200000000000001, 'reg_lambda': 80.2, 'num_leaves': 795, 'min_child_samples': 78, 'min_split_gain': 1.86, 'colsample_bytree': 0.7, 'top_rate': 0.1, 'other_rate': 0.35000000000000003, 'scale_pos_weight': 2.75}. Best is trial 72 with value: 0.7056380263356441.\u001b[0m\n",
            "\u001b[32m[I 2022-09-30 15:48:52,988]\u001b[0m Trial 108 finished with value: 0.7030544665841996 and parameters: {'learning_rate': 0.12, 'reg_alpha': 0.1, 'reg_lambda': 92.80000000000001, 'num_leaves': 715, 'min_child_samples': 24, 'min_split_gain': 2.48, 'colsample_bytree': 0.75, 'top_rate': 0.15000000000000002, 'other_rate': 0.45, 'scale_pos_weight': 3.0}. Best is trial 72 with value: 0.7056380263356441.\u001b[0m\n",
            "\u001b[32m[I 2022-09-30 15:49:05,480]\u001b[0m Trial 109 finished with value: 0.692146377958258 and parameters: {'learning_rate': 0.12, 'reg_alpha': 3.9000000000000004, 'reg_lambda': 91.9, 'num_leaves': 760, 'min_child_samples': 28, 'min_split_gain': 3.9, 'colsample_bytree': 0.75, 'top_rate': 0.2, 'other_rate': 0.4, 'scale_pos_weight': 3.0500000000000003}. Best is trial 72 with value: 0.7056380263356441.\u001b[0m\n",
            "\u001b[32m[I 2022-09-30 15:49:19,382]\u001b[0m Trial 110 finished with value: 0.6966314066013588 and parameters: {'learning_rate': 0.11, 'reg_alpha': 0.1, 'reg_lambda': 112.7, 'num_leaves': 710, 'min_child_samples': 36, 'min_split_gain': 4.96, 'colsample_bytree': 0.65, 'top_rate': 0.1, 'other_rate': 0.45, 'scale_pos_weight': 3.2}. Best is trial 72 with value: 0.7056380263356441.\u001b[0m\n",
            "\u001b[32m[I 2022-09-30 15:49:36,564]\u001b[0m Trial 111 finished with value: 0.6962181634008264 and parameters: {'learning_rate': 0.12, 'reg_alpha': 10.100000000000001, 'reg_lambda': 76.0, 'num_leaves': 805, 'min_child_samples': 12, 'min_split_gain': 2.1, 'colsample_bytree': 0.75, 'top_rate': 0.15000000000000002, 'other_rate': 0.45, 'scale_pos_weight': 3.6500000000000004}. Best is trial 72 with value: 0.7056380263356441.\u001b[0m\n",
            "\u001b[32m[I 2022-09-30 15:49:41,083]\u001b[0m Trial 112 finished with value: 0.6023454744369909 and parameters: {'learning_rate': 0.13, 'reg_alpha': 153.3, 'reg_lambda': 83.9, 'num_leaves': 865, 'min_child_samples': 54, 'min_split_gain': 2.61, 'colsample_bytree': 0.75, 'top_rate': 0.15000000000000002, 'other_rate': 0.4, 'scale_pos_weight': 3.9000000000000004}. Best is trial 72 with value: 0.7056380263356441.\u001b[0m\n",
            "\u001b[32m[I 2022-09-30 15:49:56,676]\u001b[0m Trial 113 finished with value: 0.6949037527037473 and parameters: {'learning_rate': 0.09999999999999999, 'reg_alpha': 6.6000000000000005, 'reg_lambda': 63.2, 'num_leaves': 680, 'min_child_samples': 0, 'min_split_gain': 2.85, 'colsample_bytree': 0.7, 'top_rate': 0.15000000000000002, 'other_rate': 0.45, 'scale_pos_weight': 3.3000000000000003}. Best is trial 72 with value: 0.7056380263356441.\u001b[0m\n",
            "\u001b[32m[I 2022-09-30 15:50:13,279]\u001b[0m Trial 114 finished with value: 0.6949954908833423 and parameters: {'learning_rate': 0.16, 'reg_alpha': 12.100000000000001, 'reg_lambda': 97.2, 'num_leaves': 845, 'min_child_samples': 24, 'min_split_gain': 2.52, 'colsample_bytree': 0.75, 'top_rate': 0.15000000000000002, 'other_rate': 0.35000000000000003, 'scale_pos_weight': 3.7}. Best is trial 72 with value: 0.7056380263356441.\u001b[0m\n",
            "\u001b[32m[I 2022-09-30 15:50:24,930]\u001b[0m Trial 115 finished with value: 0.676045542922686 and parameters: {'learning_rate': 0.08, 'reg_alpha': 17.5, 'reg_lambda': 88.5, 'num_leaves': 885, 'min_child_samples': 40, 'min_split_gain': 10.11, 'colsample_bytree': 0.55, 'top_rate': 0.1, 'other_rate': 0.4, 'scale_pos_weight': 2.95}. Best is trial 72 with value: 0.7056380263356441.\u001b[0m\n",
            "\u001b[32m[I 2022-09-30 15:50:40,018]\u001b[0m Trial 116 finished with value: 0.6927775425707632 and parameters: {'learning_rate': 0.18000000000000002, 'reg_alpha': 8.1, 'reg_lambda': 69.9, 'num_leaves': 790, 'min_child_samples': 78, 'min_split_gain': 3.43, 'colsample_bytree': 0.75, 'top_rate': 0.2, 'other_rate': 0.3, 'scale_pos_weight': 3.45}. Best is trial 72 with value: 0.7056380263356441.\u001b[0m\n",
            "\u001b[32m[I 2022-09-30 15:50:55,503]\u001b[0m Trial 117 finished with value: 0.6908721880895767 and parameters: {'learning_rate': 0.11, 'reg_alpha': 24.0, 'reg_lambda': 77.7, 'num_leaves': 740, 'min_child_samples': 54, 'min_split_gain': 1.46, 'colsample_bytree': 0.7, 'top_rate': 0.1, 'other_rate': 0.4, 'scale_pos_weight': 4.050000000000001}. Best is trial 72 with value: 0.7056380263356441.\u001b[0m\n",
            "\u001b[32m[I 2022-09-30 15:51:15,350]\u001b[0m Trial 118 finished with value: 0.7072522551689309 and parameters: {'learning_rate': 0.15000000000000002, 'reg_alpha': 0.2, 'reg_lambda': 56.1, 'num_leaves': 820, 'min_child_samples': 92, 'min_split_gain': 1.02, 'colsample_bytree': 0.75, 'top_rate': 0.1, 'other_rate': 0.45, 'scale_pos_weight': 2.8}. Best is trial 118 with value: 0.7072522551689309.\u001b[0m\n",
            "\u001b[32m[I 2022-09-30 15:51:32,923]\u001b[0m Trial 119 finished with value: 0.7030396582628379 and parameters: {'learning_rate': 0.14, 'reg_alpha': 4.1000000000000005, 'reg_lambda': 62.2, 'num_leaves': 820, 'min_child_samples': 94, 'min_split_gain': 1.1500000000000001, 'colsample_bytree': 0.8, 'top_rate': 0.1, 'other_rate': 0.35000000000000003, 'scale_pos_weight': 2.85}. Best is trial 118 with value: 0.7072522551689309.\u001b[0m\n",
            "\u001b[32m[I 2022-09-30 15:51:52,857]\u001b[0m Trial 120 finished with value: 0.704531339901127 and parameters: {'learning_rate': 0.13, 'reg_alpha': 0.8, 'reg_lambda': 102.4, 'num_leaves': 770, 'min_child_samples': 146, 'min_split_gain': 1.02, 'colsample_bytree': 0.7, 'top_rate': 0.1, 'other_rate': 0.35000000000000003, 'scale_pos_weight': 2.8}. Best is trial 118 with value: 0.7072522551689309.\u001b[0m\n",
            "\u001b[32m[I 2022-09-30 15:52:12,345]\u001b[0m Trial 121 finished with value: 0.7064739888904519 and parameters: {'learning_rate': 0.13, 'reg_alpha': 0.2, 'reg_lambda': 105.9, 'num_leaves': 765, 'min_child_samples': 136, 'min_split_gain': 1.18, 'colsample_bytree': 0.7, 'top_rate': 0.1, 'other_rate': 0.35000000000000003, 'scale_pos_weight': 2.5}. Best is trial 118 with value: 0.7072522551689309.\u001b[0m\n",
            "\u001b[32m[I 2022-09-30 15:52:30,119]\u001b[0m Trial 122 finished with value: 0.7004633961062356 and parameters: {'learning_rate': 0.14, 'reg_alpha': 3.4000000000000004, 'reg_lambda': 102.2, 'num_leaves': 770, 'min_child_samples': 130, 'min_split_gain': 0.99, 'colsample_bytree': 0.65, 'top_rate': 0.1, 'other_rate': 0.35000000000000003, 'scale_pos_weight': 2.45}. Best is trial 118 with value: 0.7072522551689309.\u001b[0m\n",
            "\u001b[32m[I 2022-09-30 15:52:53,857]\u001b[0m Trial 123 finished with value: 0.7046000401252467 and parameters: {'learning_rate': 0.13, 'reg_alpha': 0.30000000000000004, 'reg_lambda': 109.7, 'num_leaves': 725, 'min_child_samples': 146, 'min_split_gain': 0.49, 'colsample_bytree': 0.7, 'top_rate': 0.1, 'other_rate': 0.35000000000000003, 'scale_pos_weight': 2.8}. Best is trial 118 with value: 0.7072522551689309.\u001b[0m\n",
            "\u001b[32m[I 2022-09-30 15:53:15,436]\u001b[0m Trial 124 finished with value: 0.7044325508765861 and parameters: {'learning_rate': 0.13, 'reg_alpha': 0.1, 'reg_lambda': 110.9, 'num_leaves': 745, 'min_child_samples': 154, 'min_split_gain': 0.35000000000000003, 'colsample_bytree': 0.7, 'top_rate': 0.1, 'other_rate': 0.35000000000000003, 'scale_pos_weight': 2.55}. Best is trial 118 with value: 0.7072522551689309.\u001b[0m\n",
            "\u001b[32m[I 2022-09-30 15:53:35,304]\u001b[0m Trial 125 finished with value: 0.6994020670546476 and parameters: {'learning_rate': 0.13, 'reg_alpha': 5.0, 'reg_lambda': 111.80000000000001, 'num_leaves': 705, 'min_child_samples': 158, 'min_split_gain': 0.48, 'colsample_bytree': 0.7, 'top_rate': 0.1, 'other_rate': 0.3, 'scale_pos_weight': 2.75}. Best is trial 118 with value: 0.7072522551689309.\u001b[0m\n",
            "\u001b[32m[I 2022-09-30 15:53:54,291]\u001b[0m Trial 126 finished with value: 0.6988207152152166 and parameters: {'learning_rate': 0.12, 'reg_alpha': 13.3, 'reg_lambda': 120.5, 'num_leaves': 725, 'min_child_samples': 142, 'min_split_gain': 1.06, 'colsample_bytree': 0.7, 'top_rate': 0.1, 'other_rate': 0.35000000000000003, 'scale_pos_weight': 2.55}. Best is trial 118 with value: 0.7072522551689309.\u001b[0m\n",
            "\u001b[32m[I 2022-09-30 15:54:18,038]\u001b[0m Trial 127 finished with value: 0.703876455280543 and parameters: {'learning_rate': 0.11, 'reg_alpha': 0.2, 'reg_lambda': 109.10000000000001, 'num_leaves': 755, 'min_child_samples': 180, 'min_split_gain': 0.43, 'colsample_bytree': 0.65, 'top_rate': 0.1, 'other_rate': 0.35000000000000003, 'scale_pos_weight': 2.6500000000000004}. Best is trial 118 with value: 0.7072522551689309.\u001b[0m\n",
            "\u001b[32m[I 2022-09-30 15:54:34,608]\u001b[0m Trial 128 finished with value: 0.7029224962668925 and parameters: {'learning_rate': 0.14, 'reg_alpha': 8.3, 'reg_lambda': 115.30000000000001, 'num_leaves': 680, 'min_child_samples': 180, 'min_split_gain': 0.41000000000000003, 'colsample_bytree': 0.65, 'top_rate': 0.1, 'other_rate': 0.3, 'scale_pos_weight': 2.6}. Best is trial 118 with value: 0.7072522551689309.\u001b[0m\n",
            "\u001b[32m[I 2022-09-30 15:54:50,097]\u001b[0m Trial 129 finished with value: 0.7021984828821404 and parameters: {'learning_rate': 0.12, 'reg_alpha': 4.0, 'reg_lambda': 106.0, 'num_leaves': 660, 'min_child_samples': 156, 'min_split_gain': 0.85, 'colsample_bytree': 0.6, 'top_rate': 0.1, 'other_rate': 0.35000000000000003, 'scale_pos_weight': 2.1500000000000004}. Best is trial 118 with value: 0.7072522551689309.\u001b[0m\n",
            "\u001b[32m[I 2022-09-30 15:55:10,169]\u001b[0m Trial 130 finished with value: 0.6984095099611785 and parameters: {'learning_rate': 0.13, 'reg_alpha': 17.3, 'reg_lambda': 100.10000000000001, 'num_leaves': 715, 'min_child_samples': 142, 'min_split_gain': 0.6, 'colsample_bytree': 0.65, 'top_rate': 0.1, 'other_rate': 0.35000000000000003, 'scale_pos_weight': 2.5}. Best is trial 118 with value: 0.7072522551689309.\u001b[0m\n",
            "\u001b[32m[I 2022-09-30 15:55:33,920]\u001b[0m Trial 131 finished with value: 0.7017358361382373 and parameters: {'learning_rate': 0.14, 'reg_alpha': 8.5, 'reg_lambda': 118.4, 'num_leaves': 750, 'min_child_samples': 176, 'min_split_gain': 0.04, 'colsample_bytree': 0.6, 'top_rate': 0.1, 'other_rate': 0.3, 'scale_pos_weight': 2.6500000000000004}. Best is trial 118 with value: 0.7072522551689309.\u001b[0m\n",
            "\u001b[32m[I 2022-09-30 15:55:52,291]\u001b[0m Trial 132 finished with value: 0.7050189196331791 and parameters: {'learning_rate': 0.14, 'reg_alpha': 0.30000000000000004, 'reg_lambda': 124.0, 'num_leaves': 680, 'min_child_samples': 218, 'min_split_gain': 0.41000000000000003, 'colsample_bytree': 0.65, 'top_rate': 0.1, 'other_rate': 0.3, 'scale_pos_weight': 2.25}. Best is trial 118 with value: 0.7072522551689309.\u001b[0m\n",
            "\u001b[32m[I 2022-09-30 15:56:02,808]\u001b[0m Trial 133 finished with value: 0.6475359936640033 and parameters: {'learning_rate': 0.15000000000000002, 'reg_alpha': 173.4, 'reg_lambda': 130.6, 'num_leaves': 760, 'min_child_samples': 168, 'min_split_gain': 0.39, 'colsample_bytree': 0.65, 'top_rate': 0.1, 'other_rate': 0.25, 'scale_pos_weight': 2.8}. Best is trial 118 with value: 0.7072522551689309.\u001b[0m\n",
            "\u001b[32m[I 2022-09-30 15:56:24,976]\u001b[0m Trial 134 finished with value: 0.701389011420936 and parameters: {'learning_rate': 0.13, 'reg_alpha': 3.7, 'reg_lambda': 138.1, 'num_leaves': 735, 'min_child_samples': 186, 'min_split_gain': 1.04, 'colsample_bytree': 0.7, 'top_rate': 0.1, 'other_rate': 0.35000000000000003, 'scale_pos_weight': 2.2}. Best is trial 118 with value: 0.7072522551689309.\u001b[0m\n",
            "\u001b[32m[I 2022-09-30 15:56:45,845]\u001b[0m Trial 135 finished with value: 0.6931886794091456 and parameters: {'learning_rate': 0.12, 'reg_alpha': 12.4, 'reg_lambda': 108.5, 'num_leaves': 700, 'min_child_samples': 198, 'min_split_gain': 1.24, 'colsample_bytree': 0.7, 'top_rate': 0.1, 'other_rate': 0.35000000000000003, 'scale_pos_weight': 2.4000000000000004}. Best is trial 118 with value: 0.7072522551689309.\u001b[0m\n",
            "\u001b[32m[I 2022-09-30 15:57:12,325]\u001b[0m Trial 136 finished with value: 0.7046453879804011 and parameters: {'learning_rate': 0.14, 'reg_alpha': 1.3, 'reg_lambda': 126.4, 'num_leaves': 785, 'min_child_samples': 210, 'min_split_gain': 0.31, 'colsample_bytree': 0.65, 'top_rate': 0.1, 'other_rate': 0.35000000000000003, 'scale_pos_weight': 2.85}. Best is trial 118 with value: 0.7072522551689309.\u001b[0m\n",
            "\u001b[32m[I 2022-09-30 15:57:29,651]\u001b[0m Trial 137 finished with value: 0.7003486050085317 and parameters: {'learning_rate': 0.11, 'reg_alpha': 0.5, 'reg_lambda': 124.5, 'num_leaves': 770, 'min_child_samples': 218, 'min_split_gain': 0.33, 'colsample_bytree': 0.65, 'top_rate': 0.1, 'other_rate': 0.3, 'scale_pos_weight': 2.05}. Best is trial 118 with value: 0.7072522551689309.\u001b[0m\n",
            "\u001b[32m[I 2022-09-30 15:57:47,668]\u001b[0m Trial 138 finished with value: 0.6940629386003971 and parameters: {'learning_rate': 0.09999999999999999, 'reg_alpha': 12.600000000000001, 'reg_lambda': 135.6, 'num_leaves': 740, 'min_child_samples': 218, 'min_split_gain': 0.72, 'colsample_bytree': 0.6, 'top_rate': 0.1, 'other_rate': 0.35000000000000003, 'scale_pos_weight': 2.95}. Best is trial 118 with value: 0.7072522551689309.\u001b[0m\n",
            "\u001b[32m[I 2022-09-30 15:58:19,928]\u001b[0m Trial 139 finished with value: 0.7067448107963018 and parameters: {'learning_rate': 0.14, 'reg_alpha': 6.5, 'reg_lambda': 125.4, 'num_leaves': 785, 'min_child_samples': 236, 'min_split_gain': 0.04, 'colsample_bytree': 0.65, 'top_rate': 0.4, 'other_rate': 0.35000000000000003, 'scale_pos_weight': 2.7}. Best is trial 118 with value: 0.7072522551689309.\u001b[0m\n",
            "\u001b[32m[I 2022-09-30 15:58:44,469]\u001b[0m Trial 140 finished with value: 0.6996639993425589 and parameters: {'learning_rate': 0.15000000000000002, 'reg_alpha': 6.800000000000001, 'reg_lambda': 147.70000000000002, 'num_leaves': 780, 'min_child_samples': 238, 'min_split_gain': 0.19, 'colsample_bytree': 0.65, 'top_rate': 0.4, 'other_rate': 0.35000000000000003, 'scale_pos_weight': 2.3}. Best is trial 118 with value: 0.7072522551689309.\u001b[0m\n",
            "\u001b[32m[I 2022-09-30 15:59:07,923]\u001b[0m Trial 141 finished with value: 0.7000134394859534 and parameters: {'learning_rate': 0.13, 'reg_alpha': 1.4000000000000001, 'reg_lambda': 115.5, 'num_leaves': 755, 'min_child_samples': 220, 'min_split_gain': 0.54, 'colsample_bytree': 0.65, 'top_rate': 0.4, 'other_rate': 0.35000000000000003, 'scale_pos_weight': 2.7}. Best is trial 118 with value: 0.7072522551689309.\u001b[0m\n",
            "\u001b[32m[I 2022-09-30 15:59:18,737]\u001b[0m Trial 142 finished with value: 0.6391483178947396 and parameters: {'learning_rate': 0.14, 'reg_alpha': 125.60000000000001, 'reg_lambda': 127.2, 'num_leaves': 785, 'min_child_samples': 202, 'min_split_gain': 1.58, 'colsample_bytree': 0.7, 'top_rate': 0.5, 'other_rate': 0.35000000000000003, 'scale_pos_weight': 2.6}. Best is trial 118 with value: 0.7072522551689309.\u001b[0m\n",
            "\u001b[32m[I 2022-09-30 15:59:39,691]\u001b[0m Trial 143 finished with value: 0.6993778002978563 and parameters: {'learning_rate': 0.12, 'reg_alpha': 6.2, 'reg_lambda': 141.0, 'num_leaves': 725, 'min_child_samples': 260, 'min_split_gain': 0.02, 'colsample_bytree': 0.65, 'top_rate': 0.1, 'other_rate': 0.3, 'scale_pos_weight': 2.85}. Best is trial 118 with value: 0.7072522551689309.\u001b[0m\n",
            "\u001b[32m[I 2022-09-30 15:59:57,372]\u001b[0m Trial 144 finished with value: 0.7008483006648791 and parameters: {'learning_rate': 0.16, 'reg_alpha': 0.1, 'reg_lambda': 126.2, 'num_leaves': 815, 'min_child_samples': 230, 'min_split_gain': 0.87, 'colsample_bytree': 0.7, 'top_rate': 0.1, 'other_rate': 0.35000000000000003, 'scale_pos_weight': 2.5}. Best is trial 118 with value: 0.7072522551689309.\u001b[0m\n",
            "\u001b[32m[I 2022-09-30 16:00:18,888]\u001b[0m Trial 145 finished with value: 0.7031493970060088 and parameters: {'learning_rate': 0.13, 'reg_alpha': 0.0, 'reg_lambda': 95.9, 'num_leaves': 230, 'min_child_samples': 166, 'min_split_gain': 0.56, 'colsample_bytree': 0.65, 'top_rate': 0.1, 'other_rate': 0.4, 'scale_pos_weight': 3.0}. Best is trial 118 with value: 0.7072522551689309.\u001b[0m\n",
            "\u001b[32m[I 2022-09-30 16:00:41,370]\u001b[0m Trial 146 finished with value: 0.7022687925556806 and parameters: {'learning_rate': 0.14, 'reg_alpha': 10.4, 'reg_lambda': 105.4, 'num_leaves': 185, 'min_child_samples': 166, 'min_split_gain': 0.55, 'colsample_bytree': 0.65, 'top_rate': 0.1, 'other_rate': 0.4, 'scale_pos_weight': 2.8}. Best is trial 118 with value: 0.7072522551689309.\u001b[0m\n",
            "\u001b[32m[I 2022-09-30 16:00:59,473]\u001b[0m Trial 147 finished with value: 0.6993803484789629 and parameters: {'learning_rate': 0.13, 'reg_alpha': 5.2, 'reg_lambda': 113.5, 'num_leaves': 775, 'min_child_samples': 148, 'min_split_gain': 0.85, 'colsample_bytree': 0.65, 'top_rate': 0.1, 'other_rate': 0.35000000000000003, 'scale_pos_weight': 2.7}. Best is trial 118 with value: 0.7072522551689309.\u001b[0m\n",
            "\u001b[32m[I 2022-09-30 16:01:19,759]\u001b[0m Trial 148 finished with value: 0.694778335372789 and parameters: {'learning_rate': 0.15000000000000002, 'reg_alpha': 16.400000000000002, 'reg_lambda': 117.30000000000001, 'num_leaves': 275, 'min_child_samples': 210, 'min_split_gain': 0.33, 'colsample_bytree': 0.6, 'top_rate': 0.45000000000000007, 'other_rate': 0.4, 'scale_pos_weight': 3.1}. Best is trial 118 with value: 0.7072522551689309.\u001b[0m\n",
            "\u001b[32m[I 2022-09-30 16:01:35,237]\u001b[0m Trial 149 finished with value: 0.695372345693056 and parameters: {'learning_rate': 0.16, 'reg_alpha': 10.5, 'reg_lambda': 123.0, 'num_leaves': 100, 'min_child_samples': 246, 'min_split_gain': 1.35, 'colsample_bytree': 0.7, 'top_rate': 0.1, 'other_rate': 0.4, 'scale_pos_weight': 2.35}. Best is trial 118 with value: 0.7072522551689309.\u001b[0m\n",
            "\u001b[32m[I 2022-09-30 16:01:56,088]\u001b[0m Trial 150 finished with value: 0.700812211023298 and parameters: {'learning_rate': 0.11, 'reg_alpha': 4.7, 'reg_lambda': 134.1, 'num_leaves': 20, 'min_child_samples': 190, 'min_split_gain': 0.6900000000000001, 'colsample_bytree': 0.65, 'top_rate': 0.1, 'other_rate': 0.35000000000000003, 'scale_pos_weight': 2.9000000000000004}. Best is trial 118 with value: 0.7072522551689309.\u001b[0m\n",
            "\u001b[32m[I 2022-09-30 16:02:12,877]\u001b[0m Trial 151 finished with value: 0.7008784340660278 and parameters: {'learning_rate': 0.13, 'reg_alpha': 1.0, 'reg_lambda': 93.80000000000001, 'num_leaves': 415, 'min_child_samples': 130, 'min_split_gain': 1.59, 'colsample_bytree': 0.7, 'top_rate': 0.1, 'other_rate': 0.35000000000000003, 'scale_pos_weight': 1.8}. Best is trial 118 with value: 0.7072522551689309.\u001b[0m\n",
            "\u001b[32m[I 2022-09-30 16:02:38,207]\u001b[0m Trial 152 finished with value: 0.7038063818053387 and parameters: {'learning_rate': 0.12, 'reg_alpha': 0.1, 'reg_lambda': 100.0, 'num_leaves': 690, 'min_child_samples': 148, 'min_split_gain': 1.21, 'colsample_bytree': 0.65, 'top_rate': 0.1, 'other_rate': 0.4, 'scale_pos_weight': 3.0}. Best is trial 118 with value: 0.7072522551689309.\u001b[0m\n",
            "\u001b[32m[I 2022-09-30 16:02:59,756]\u001b[0m Trial 153 finished with value: 0.6979572969088077 and parameters: {'learning_rate': 0.14, 'reg_alpha': 0.0, 'reg_lambda': 97.60000000000001, 'num_leaves': 680, 'min_child_samples': 152, 'min_split_gain': 1.17, 'colsample_bytree': 0.65, 'top_rate': 0.1, 'other_rate': 0.4, 'scale_pos_weight': 2.6}. Best is trial 118 with value: 0.7072522551689309.\u001b[0m\n",
            "\u001b[32m[I 2022-09-30 16:03:36,310]\u001b[0m Trial 154 finished with value: 0.7080733084763893 and parameters: {'learning_rate': 0.13, 'reg_alpha': 7.2, 'reg_lambda': 109.0, 'num_leaves': 750, 'min_child_samples': 120, 'min_split_gain': 0.0, 'colsample_bytree': 0.65, 'top_rate': 0.1, 'other_rate': 0.4, 'scale_pos_weight': 3.0}. Best is trial 154 with value: 0.7080733084763893.\u001b[0m\n",
            "\u001b[32m[I 2022-09-30 16:04:03,915]\u001b[0m Trial 155 finished with value: 0.7042020396407467 and parameters: {'learning_rate': 0.15000000000000002, 'reg_alpha': 9.5, 'reg_lambda': 108.9, 'num_leaves': 750, 'min_child_samples': 136, 'min_split_gain': 0.06, 'colsample_bytree': 0.65, 'top_rate': 0.1, 'other_rate': 0.4, 'scale_pos_weight': 2.75}. Best is trial 154 with value: 0.7080733084763893.\u001b[0m\n",
            "\u001b[32m[I 2022-09-30 16:04:29,395]\u001b[0m Trial 156 finished with value: 0.7078677350283216 and parameters: {'learning_rate': 0.15000000000000002, 'reg_alpha': 8.3, 'reg_lambda': 107.10000000000001, 'num_leaves': 750, 'min_child_samples': 114, 'min_split_gain': 0.04, 'colsample_bytree': 0.6, 'top_rate': 0.1, 'other_rate': 0.4, 'scale_pos_weight': 2.75}. Best is trial 154 with value: 0.7080733084763893.\u001b[0m\n",
            "\u001b[32m[I 2022-09-30 16:04:53,655]\u001b[0m Trial 157 finished with value: 0.7049618852183116 and parameters: {'learning_rate': 0.15000000000000002, 'reg_alpha': 15.100000000000001, 'reg_lambda': 111.0, 'num_leaves': 755, 'min_child_samples': 114, 'min_split_gain': 0.02, 'colsample_bytree': 0.6, 'top_rate': 0.1, 'other_rate': 0.4, 'scale_pos_weight': 2.75}. Best is trial 154 with value: 0.7080733084763893.\u001b[0m\n",
            "\u001b[32m[I 2022-09-30 16:05:12,516]\u001b[0m Trial 158 finished with value: 0.699785040922 and parameters: {'learning_rate': 0.15000000000000002, 'reg_alpha': 21.3, 'reg_lambda': 103.10000000000001, 'num_leaves': 740, 'min_child_samples': 124, 'min_split_gain': 0.23, 'colsample_bytree': 0.6, 'top_rate': 0.1, 'other_rate': 0.4, 'scale_pos_weight': 2.75}. Best is trial 154 with value: 0.7080733084763893.\u001b[0m\n",
            "\u001b[32m[I 2022-09-30 16:05:36,243]\u001b[0m Trial 159 finished with value: 0.7062652320352193 and parameters: {'learning_rate': 0.16, 'reg_alpha': 16.2, 'reg_lambda': 111.7, 'num_leaves': 775, 'min_child_samples': 104, 'min_split_gain': 0.0, 'colsample_bytree': 0.6, 'top_rate': 0.1, 'other_rate': 0.4, 'scale_pos_weight': 2.5}. Best is trial 154 with value: 0.7080733084763893.\u001b[0m\n",
            "\u001b[32m[I 2022-09-30 16:06:02,136]\u001b[0m Trial 160 finished with value: 0.7077737021709192 and parameters: {'learning_rate': 0.16, 'reg_alpha': 15.9, 'reg_lambda': 112.60000000000001, 'num_leaves': 820, 'min_child_samples': 120, 'min_split_gain': 0.0, 'colsample_bytree': 0.55, 'top_rate': 0.35, 'other_rate': 0.4, 'scale_pos_weight': 2.5}. Best is trial 154 with value: 0.7080733084763893.\u001b[0m\n",
            "\u001b[32m[I 2022-09-30 16:06:17,023]\u001b[0m Trial 161 finished with value: 0.6955578510447816 and parameters: {'learning_rate': 0.16, 'reg_alpha': 17.5, 'reg_lambda': 113.7, 'num_leaves': 810, 'min_child_samples': 110, 'min_split_gain': 0.15, 'colsample_bytree': 0.5, 'top_rate': 0.35, 'other_rate': 0.4, 'scale_pos_weight': 2.45}. Best is trial 154 with value: 0.7080733084763893.\u001b[0m\n",
            "\u001b[32m[I 2022-09-30 16:06:35,857]\u001b[0m Trial 162 finished with value: 0.7011171133528002 and parameters: {'learning_rate': 0.17, 'reg_alpha': 14.9, 'reg_lambda': 107.5, 'num_leaves': 765, 'min_child_samples': 122, 'min_split_gain': 0.06, 'colsample_bytree': 0.55, 'top_rate': 0.35, 'other_rate': 0.4, 'scale_pos_weight': 2.55}. Best is trial 154 with value: 0.7080733084763893.\u001b[0m\n",
            "\u001b[32m[I 2022-09-30 16:06:56,862]\u001b[0m Trial 163 finished with value: 0.6997629443847627 and parameters: {'learning_rate': 0.15000000000000002, 'reg_alpha': 9.5, 'reg_lambda': 120.10000000000001, 'num_leaves': 830, 'min_child_samples': 114, 'min_split_gain': 0.33, 'colsample_bytree': 0.55, 'top_rate': 0.45000000000000007, 'other_rate': 0.4, 'scale_pos_weight': 2.8}. Best is trial 154 with value: 0.7080733084763893.\u001b[0m\n",
            "\u001b[32m[I 2022-09-30 16:07:21,430]\u001b[0m Trial 164 finished with value: 0.7025144974450419 and parameters: {'learning_rate': 0.16, 'reg_alpha': 13.700000000000001, 'reg_lambda': 110.4, 'num_leaves': 850, 'min_child_samples': 138, 'min_split_gain': 0.03, 'colsample_bytree': 0.6, 'top_rate': 0.4, 'other_rate': 0.4, 'scale_pos_weight': 2.9000000000000004}. Best is trial 154 with value: 0.7080733084763893.\u001b[0m\n",
            "\u001b[32m[I 2022-09-30 16:07:47,411]\u001b[0m Trial 165 finished with value: 0.6989170022303617 and parameters: {'learning_rate': 0.15000000000000002, 'reg_alpha': 21.900000000000002, 'reg_lambda': 117.5, 'num_leaves': 795, 'min_child_samples': 104, 'min_split_gain': 0.0, 'colsample_bytree': 0.6, 'top_rate': 0.35, 'other_rate': 0.4, 'scale_pos_weight': 2.7}. Best is trial 154 with value: 0.7080733084763893.\u001b[0m\n",
            "\u001b[32m[I 2022-09-30 16:08:04,028]\u001b[0m Trial 166 finished with value: 0.6956767641937456 and parameters: {'learning_rate': 0.17, 'reg_alpha': 8.200000000000001, 'reg_lambda': 105.7, 'num_leaves': 750, 'min_child_samples': 130, 'min_split_gain': 0.84, 'colsample_bytree': 0.6, 'top_rate': 0.1, 'other_rate': 0.4, 'scale_pos_weight': 2.3}. Best is trial 154 with value: 0.7080733084763893.\u001b[0m\n",
            "\u001b[32m[I 2022-09-30 16:08:18,301]\u001b[0m Trial 167 finished with value: 0.695538769259637 and parameters: {'learning_rate': 0.16, 'reg_alpha': 12.100000000000001, 'reg_lambda': 122.0, 'num_leaves': 775, 'min_child_samples': 112, 'min_split_gain': 0.6, 'colsample_bytree': 0.5, 'top_rate': 0.4, 'other_rate': 0.4, 'scale_pos_weight': 2.5}. Best is trial 154 with value: 0.7080733084763893.\u001b[0m\n",
            "\u001b[32m[I 2022-09-30 16:08:34,971]\u001b[0m Trial 168 finished with value: 0.6875992568674526 and parameters: {'learning_rate': 0.14, 'reg_alpha': 27.5, 'reg_lambda': 111.5, 'num_leaves': 730, 'min_child_samples': 98, 'min_split_gain': 0.88, 'colsample_bytree': 0.55, 'top_rate': 0.1, 'other_rate': 0.4, 'scale_pos_weight': 2.4000000000000004}. Best is trial 154 with value: 0.7080733084763893.\u001b[0m\n",
            "\u001b[32m[I 2022-09-30 16:08:48,277]\u001b[0m Trial 169 finished with value: 0.6676945616179547 and parameters: {'learning_rate': 0.15000000000000002, 'reg_alpha': 96.4, 'reg_lambda': 101.30000000000001, 'num_leaves': 810, 'min_child_samples': 140, 'min_split_gain': 0.33, 'colsample_bytree': 0.6, 'top_rate': 0.1, 'other_rate': 0.4, 'scale_pos_weight': 2.8}. Best is trial 154 with value: 0.7080733084763893.\u001b[0m\n",
            "\u001b[32m[I 2022-09-30 16:09:13,755]\u001b[0m Trial 170 finished with value: 0.7117277332037905 and parameters: {'learning_rate': 0.14, 'reg_alpha': 6.0, 'reg_lambda': 115.10000000000001, 'num_leaves': 715, 'min_child_samples': 118, 'min_split_gain': 0.45, 'colsample_bytree': 0.6, 'top_rate': 0.1, 'other_rate': 0.4, 'scale_pos_weight': 2.6500000000000004}. Best is trial 170 with value: 0.7117277332037905.\u001b[0m\n",
            "\u001b[32m[I 2022-09-30 16:09:39,347]\u001b[0m Trial 171 finished with value: 0.7062412010220652 and parameters: {'learning_rate': 0.14, 'reg_alpha': 7.800000000000001, 'reg_lambda': 115.30000000000001, 'num_leaves': 710, 'min_child_samples': 118, 'min_split_gain': 0.0, 'colsample_bytree': 0.6, 'top_rate': 0.1, 'other_rate': 0.4, 'scale_pos_weight': 2.6}. Best is trial 170 with value: 0.7117277332037905.\u001b[0m\n",
            "\u001b[32m[I 2022-09-30 16:09:58,623]\u001b[0m Trial 172 finished with value: 0.706234933307242 and parameters: {'learning_rate': 0.14, 'reg_alpha': 5.6000000000000005, 'reg_lambda': 114.30000000000001, 'num_leaves': 715, 'min_child_samples': 118, 'min_split_gain': 0.46, 'colsample_bytree': 0.6, 'top_rate': 0.1, 'other_rate': 0.4, 'scale_pos_weight': 2.6}. Best is trial 170 with value: 0.7117277332037905.\u001b[0m\n",
            "\u001b[32m[I 2022-09-30 16:10:19,784]\u001b[0m Trial 173 finished with value: 0.6990431612551464 and parameters: {'learning_rate': 0.14, 'reg_alpha': 6.300000000000001, 'reg_lambda': 129.4, 'num_leaves': 650, 'min_child_samples': 120, 'min_split_gain': 0.68, 'colsample_bytree': 0.6, 'top_rate': 0.1, 'other_rate': 0.4, 'scale_pos_weight': 2.6500000000000004}. Best is trial 170 with value: 0.7117277332037905.\u001b[0m\n",
            "\u001b[32m[I 2022-09-30 16:10:35,602]\u001b[0m Trial 174 finished with value: 0.7008760591671319 and parameters: {'learning_rate': 0.14, 'reg_alpha': 6.1000000000000005, 'reg_lambda': 115.7, 'num_leaves': 705, 'min_child_samples': 100, 'min_split_gain': 1.0, 'colsample_bytree': 0.6, 'top_rate': 0.1, 'other_rate': 0.4, 'scale_pos_weight': 2.6}. Best is trial 170 with value: 0.7117277332037905.\u001b[0m\n",
            "\u001b[32m[I 2022-09-30 16:10:58,305]\u001b[0m Trial 175 finished with value: 0.7062457872999384 and parameters: {'learning_rate': 0.14, 'reg_alpha': 16.5, 'reg_lambda': 125.2, 'num_leaves': 665, 'min_child_samples': 108, 'min_split_gain': 0.0, 'colsample_bytree': 0.55, 'top_rate': 0.1, 'other_rate': 0.4, 'scale_pos_weight': 2.85}. Best is trial 170 with value: 0.7117277332037905.\u001b[0m\n",
            "\u001b[32m[I 2022-09-30 16:11:17,966]\u001b[0m Trial 176 finished with value: 0.7066878626782828 and parameters: {'learning_rate': 0.16, 'reg_alpha': 18.2, 'reg_lambda': 125.10000000000001, 'num_leaves': 670, 'min_child_samples': 88, 'min_split_gain': 0.02, 'colsample_bytree': 0.55, 'top_rate': 0.1, 'other_rate': 0.45, 'scale_pos_weight': 2.45}. Best is trial 170 with value: 0.7117277332037905.\u001b[0m\n",
            "\u001b[32m[I 2022-09-30 16:11:34,790]\u001b[0m Trial 177 finished with value: 0.6976346954462513 and parameters: {'learning_rate': 0.16, 'reg_alpha': 20.200000000000003, 'reg_lambda': 125.2, 'num_leaves': 665, 'min_child_samples': 278, 'min_split_gain': 0.03, 'colsample_bytree': 0.55, 'top_rate': 0.1, 'other_rate': 0.45, 'scale_pos_weight': 2.2}. Best is trial 170 with value: 0.7117277332037905.\u001b[0m\n",
            "\u001b[32m[I 2022-09-30 16:11:53,091]\u001b[0m Trial 178 finished with value: 0.6909570278829731 and parameters: {'learning_rate': 0.15000000000000002, 'reg_alpha': 16.5, 'reg_lambda': 120.60000000000001, 'num_leaves': 695, 'min_child_samples': 86, 'min_split_gain': 0.33, 'colsample_bytree': 0.55, 'top_rate': 0.30000000000000004, 'other_rate': 0.45, 'scale_pos_weight': 2.45}. Best is trial 170 with value: 0.7117277332037905.\u001b[0m\n",
            "\u001b[32m[I 2022-09-30 16:12:04,405]\u001b[0m Trial 179 finished with value: 0.6857184955196478 and parameters: {'learning_rate': 0.18000000000000002, 'reg_alpha': 34.300000000000004, 'reg_lambda': 133.4, 'num_leaves': 600, 'min_child_samples': 108, 'min_split_gain': 0.64, 'colsample_bytree': 0.55, 'top_rate': 0.1, 'other_rate': 0.45, 'scale_pos_weight': 2.55}. Best is trial 170 with value: 0.7117277332037905.\u001b[0m\n",
            "\u001b[32m[I 2022-09-30 16:12:22,593]\u001b[0m Trial 180 finished with value: 0.7001032776093932 and parameters: {'learning_rate': 0.17, 'reg_alpha': 16.3, 'reg_lambda': 124.0, 'num_leaves': 675, 'min_child_samples': 94, 'min_split_gain': 0.36, 'colsample_bytree': 0.55, 'top_rate': 0.1, 'other_rate': 0.4, 'scale_pos_weight': 2.4000000000000004}. Best is trial 170 with value: 0.7117277332037905.\u001b[0m\n",
            "\u001b[32m[I 2022-09-30 16:12:43,626]\u001b[0m Trial 181 finished with value: 0.6986499663700558 and parameters: {'learning_rate': 0.14, 'reg_alpha': 12.700000000000001, 'reg_lambda': 115.60000000000001, 'num_leaves': 640, 'min_child_samples': 116, 'min_split_gain': 0.62, 'colsample_bytree': 0.6, 'top_rate': 0.1, 'other_rate': 0.4, 'scale_pos_weight': 2.9000000000000004}. Best is trial 170 with value: 0.7117277332037905.\u001b[0m\n",
            "\u001b[32m[I 2022-09-30 16:13:09,581]\u001b[0m Trial 182 finished with value: 0.7080890393030086 and parameters: {'learning_rate': 0.15000000000000002, 'reg_alpha': 7.6000000000000005, 'reg_lambda': 128.70000000000002, 'num_leaves': 715, 'min_child_samples': 128, 'min_split_gain': 0.05, 'colsample_bytree': 0.6, 'top_rate': 0.1, 'other_rate': 0.4, 'scale_pos_weight': 2.7}. Best is trial 170 with value: 0.7117277332037905.\u001b[0m\n",
            "\u001b[32m[I 2022-09-30 16:13:18,498]\u001b[0m Trial 183 finished with value: 0.671669962030158 and parameters: {'learning_rate': 0.16, 'reg_alpha': 24.200000000000003, 'reg_lambda': 131.1, 'num_leaves': 715, 'min_child_samples': 126, 'min_split_gain': 7.94, 'colsample_bytree': 0.6, 'top_rate': 0.1, 'other_rate': 0.4, 'scale_pos_weight': 2.7}. Best is trial 170 with value: 0.7117277332037905.\u001b[0m\n",
            "\u001b[32m[I 2022-09-30 16:13:36,879]\u001b[0m Trial 184 finished with value: 0.700653108534542 and parameters: {'learning_rate': 0.15000000000000002, 'reg_alpha': 9.5, 'reg_lambda': 125.60000000000001, 'num_leaves': 480, 'min_child_samples': 104, 'min_split_gain': 0.24, 'colsample_bytree': 0.6, 'top_rate': 0.1, 'other_rate': 0.45, 'scale_pos_weight': 2.6500000000000004}. Best is trial 170 with value: 0.7117277332037905.\u001b[0m\n",
            "\u001b[32m[I 2022-09-30 16:13:57,236]\u001b[0m Trial 185 finished with value: 0.7066443124813344 and parameters: {'learning_rate': 0.16, 'reg_alpha': 13.3, 'reg_lambda': 121.9, 'num_leaves': 700, 'min_child_samples': 116, 'min_split_gain': 0.04, 'colsample_bytree': 0.55, 'top_rate': 0.1, 'other_rate': 0.4, 'scale_pos_weight': 2.3}. Best is trial 170 with value: 0.7117277332037905.\u001b[0m\n",
            "\u001b[32m[I 2022-09-30 16:14:18,606]\u001b[0m Trial 186 finished with value: 0.6996719772134272 and parameters: {'learning_rate': 0.16, 'reg_alpha': 19.3, 'reg_lambda': 139.70000000000002, 'num_leaves': 665, 'min_child_samples': 116, 'min_split_gain': 0.03, 'colsample_bytree': 0.55, 'top_rate': 0.1, 'other_rate': 0.4, 'scale_pos_weight': 2.25}. Best is trial 170 with value: 0.7117277332037905.\u001b[0m\n",
            "\u001b[32m[I 2022-09-30 16:14:34,091]\u001b[0m Trial 187 finished with value: 0.6972033841220464 and parameters: {'learning_rate': 0.15000000000000002, 'reg_alpha': 13.3, 'reg_lambda': 118.2, 'num_leaves': 705, 'min_child_samples': 94, 'min_split_gain': 0.78, 'colsample_bytree': 0.55, 'top_rate': 0.1, 'other_rate': 0.4, 'scale_pos_weight': 2.3}. Best is trial 170 with value: 0.7117277332037905.\u001b[0m\n",
            "\u001b[32m[I 2022-09-30 16:14:47,856]\u001b[0m Trial 188 finished with value: 0.7060206729561638 and parameters: {'learning_rate': 0.18000000000000002, 'reg_alpha': 6.1000000000000005, 'reg_lambda': 122.0, 'num_leaves': 680, 'min_child_samples': 110, 'min_split_gain': 0.48, 'colsample_bytree': 0.6, 'top_rate': 0.1, 'other_rate': 0.45, 'scale_pos_weight': 2.1}. Best is trial 170 with value: 0.7117277332037905.\u001b[0m\n",
            "\u001b[32m[I 2022-09-30 16:15:05,161]\u001b[0m Trial 189 finished with value: 0.7016412835782893 and parameters: {'learning_rate': 0.17, 'reg_alpha': 24.200000000000003, 'reg_lambda': 121.5, 'num_leaves': 695, 'min_child_samples': 106, 'min_split_gain': 0.02, 'colsample_bytree': 0.6, 'top_rate': 0.1, 'other_rate': 0.45, 'scale_pos_weight': 2.05}. Best is trial 170 with value: 0.7117277332037905.\u001b[0m\n",
            "\u001b[32m[I 2022-09-30 16:15:16,781]\u001b[0m Trial 190 finished with value: 0.6938240166611351 and parameters: {'learning_rate': 0.18000000000000002, 'reg_alpha': 13.8, 'reg_lambda': 131.1, 'num_leaves': 655, 'min_child_samples': 126, 'min_split_gain': 0.47000000000000003, 'colsample_bytree': 0.6, 'top_rate': 0.1, 'other_rate': 0.45, 'scale_pos_weight': 1.85}. Best is trial 170 with value: 0.7117277332037905.\u001b[0m\n",
            "\u001b[32m[I 2022-09-30 16:15:34,201]\u001b[0m Trial 191 finished with value: 0.7018439736914018 and parameters: {'learning_rate': 0.16, 'reg_alpha': 7.2, 'reg_lambda': 112.4, 'num_leaves': 680, 'min_child_samples': 86, 'min_split_gain': 0.36, 'colsample_bytree': 0.6, 'top_rate': 0.1, 'other_rate': 0.4, 'scale_pos_weight': 2.0}. Best is trial 170 with value: 0.7117277332037905.\u001b[0m\n",
            "\u001b[32m[I 2022-09-30 16:15:54,240]\u001b[0m Trial 192 finished with value: 0.7055061354103762 and parameters: {'learning_rate': 0.15000000000000002, 'reg_alpha': 5.9, 'reg_lambda': 118.4, 'num_leaves': 730, 'min_child_samples': 114, 'min_split_gain': 0.81, 'colsample_bytree': 0.55, 'top_rate': 0.1, 'other_rate': 0.4, 'scale_pos_weight': 2.5}. Best is trial 170 with value: 0.7117277332037905.\u001b[0m\n",
            "\u001b[32m[I 2022-09-30 16:16:16,780]\u001b[0m Trial 193 finished with value: 0.7073468467924334 and parameters: {'learning_rate': 0.15000000000000002, 'reg_alpha': 10.5, 'reg_lambda': 118.0, 'num_leaves': 710, 'min_child_samples': 112, 'min_split_gain': 0.0, 'colsample_bytree': 0.55, 'top_rate': 0.1, 'other_rate': 0.4, 'scale_pos_weight': 2.1}. Best is trial 170 with value: 0.7117277332037905.\u001b[0m\n",
            "\u001b[32m[I 2022-09-30 16:16:29,456]\u001b[0m Trial 194 finished with value: 0.6941051714241164 and parameters: {'learning_rate': 0.16, 'reg_alpha': 6.4, 'reg_lambda': 118.7, 'num_leaves': 720, 'min_child_samples': 330, 'min_split_gain': 0.8200000000000001, 'colsample_bytree': 0.5, 'top_rate': 0.1, 'other_rate': 0.45, 'scale_pos_weight': 2.1}. Best is trial 170 with value: 0.7117277332037905.\u001b[0m\n",
            "\u001b[32m[I 2022-09-30 16:16:49,683]\u001b[0m Trial 195 finished with value: 0.703572745003622 and parameters: {'learning_rate': 0.15000000000000002, 'reg_alpha': 10.3, 'reg_lambda': 128.70000000000002, 'num_leaves': 695, 'min_child_samples': 134, 'min_split_gain': 0.64, 'colsample_bytree': 0.55, 'top_rate': 0.1, 'other_rate': 0.4, 'scale_pos_weight': 2.35}. Best is trial 170 with value: 0.7117277332037905.\u001b[0m\n",
            "\u001b[32m[I 2022-09-30 16:17:13,611]\u001b[0m Trial 196 finished with value: 0.7087123062213887 and parameters: {'learning_rate': 0.17, 'reg_alpha': 10.5, 'reg_lambda': 114.80000000000001, 'num_leaves': 720, 'min_child_samples': 102, 'min_split_gain': 0.0, 'colsample_bytree': 0.55, 'top_rate': 0.4, 'other_rate': 0.4, 'scale_pos_weight': 2.5}. Best is trial 170 with value: 0.7117277332037905.\u001b[0m\n",
            "\u001b[32m[I 2022-09-30 16:17:21,786]\u001b[0m Trial 197 finished with value: 0.6637124913067742 and parameters: {'learning_rate': 0.17, 'reg_alpha': 19.8, 'reg_lambda': 115.7, 'num_leaves': 730, 'min_child_samples': 120, 'min_split_gain': 12.02, 'colsample_bytree': 0.55, 'top_rate': 0.4, 'other_rate': 0.4, 'scale_pos_weight': 2.45}. Best is trial 170 with value: 0.7117277332037905.\u001b[0m\n",
            "\u001b[32m[I 2022-09-30 16:17:45,262]\u001b[0m Trial 198 finished with value: 0.7084935561372983 and parameters: {'learning_rate': 0.18000000000000002, 'reg_alpha': 10.3, 'reg_lambda': 119.80000000000001, 'num_leaves': 710, 'min_child_samples': 100, 'min_split_gain': 0.0, 'colsample_bytree': 0.55, 'top_rate': 0.4, 'other_rate': 0.4, 'scale_pos_weight': 2.5}. Best is trial 170 with value: 0.7117277332037905.\u001b[0m\n",
            "\u001b[32m[I 2022-09-30 16:18:10,951]\u001b[0m Trial 199 finished with value: 0.7064347062903795 and parameters: {'learning_rate': 0.18000000000000002, 'reg_alpha': 12.4, 'reg_lambda': 120.80000000000001, 'num_leaves': 715, 'min_child_samples': 98, 'min_split_gain': 0.01, 'colsample_bytree': 0.55, 'top_rate': 0.4, 'other_rate': 0.45, 'scale_pos_weight': 2.55}. Best is trial 170 with value: 0.7117277332037905.\u001b[0m\n",
            "\u001b[32m[I 2022-09-30 16:18:29,665]\u001b[0m Trial 200 finished with value: 0.6916816067184194 and parameters: {'learning_rate': 0.18000000000000002, 'reg_alpha': 18.1, 'reg_lambda': 120.4, 'num_leaves': 710, 'min_child_samples': 98, 'min_split_gain': 0.32, 'colsample_bytree': 0.55, 'top_rate': 0.4, 'other_rate': 0.45, 'scale_pos_weight': 2.55}. Best is trial 170 with value: 0.7117277332037905.\u001b[0m\n",
            "\u001b[32m[I 2022-09-30 16:18:53,768]\u001b[0m Trial 201 finished with value: 0.7079749012253271 and parameters: {'learning_rate': 0.19, 'reg_alpha': 10.9, 'reg_lambda': 114.5, 'num_leaves': 710, 'min_child_samples': 104, 'min_split_gain': 0.0, 'colsample_bytree': 0.55, 'top_rate': 0.4, 'other_rate': 0.45, 'scale_pos_weight': 2.4000000000000004}. Best is trial 170 with value: 0.7117277332037905.\u001b[0m\n",
            "\u001b[32m[I 2022-09-30 16:19:13,044]\u001b[0m Trial 202 finished with value: 0.7009643876792407 and parameters: {'learning_rate': 0.19, 'reg_alpha': 11.3, 'reg_lambda': 114.2, 'num_leaves': 700, 'min_child_samples': 90, 'min_split_gain': 0.21, 'colsample_bytree': 0.55, 'top_rate': 0.4, 'other_rate': 0.45, 'scale_pos_weight': 2.4000000000000004}. Best is trial 170 with value: 0.7117277332037905.\u001b[0m\n",
            "\u001b[32m[I 2022-09-30 16:19:38,510]\u001b[0m Trial 203 finished with value: 0.703204053429385 and parameters: {'learning_rate': 0.17, 'reg_alpha': 14.8, 'reg_lambda': 122.7, 'num_leaves': 670, 'min_child_samples': 104, 'min_split_gain': 0.0, 'colsample_bytree': 0.55, 'top_rate': 0.4, 'other_rate': 0.45, 'scale_pos_weight': 1.9500000000000002}. Best is trial 170 with value: 0.7117277332037905.\u001b[0m\n",
            "\u001b[32m[I 2022-09-30 16:20:03,873]\u001b[0m Trial 204 finished with value: 0.7071035408289926 and parameters: {'learning_rate': 0.18000000000000002, 'reg_alpha': 10.5, 'reg_lambda': 107.0, 'num_leaves': 715, 'min_child_samples': 78, 'min_split_gain': 0.02, 'colsample_bytree': 0.55, 'top_rate': 0.4, 'other_rate': 0.45, 'scale_pos_weight': 2.6}. Best is trial 170 with value: 0.7117277332037905.\u001b[0m\n",
            "\u001b[32m[I 2022-09-30 16:20:30,808]\u001b[0m Trial 205 finished with value: 0.7079393975083534 and parameters: {'learning_rate': 0.18000000000000002, 'reg_alpha': 10.4, 'reg_lambda': 177.9, 'num_leaves': 715, 'min_child_samples': 86, 'min_split_gain': 0.0, 'colsample_bytree': 0.55, 'top_rate': 0.4, 'other_rate': 0.45, 'scale_pos_weight': 2.6}. Best is trial 170 with value: 0.7117277332037905.\u001b[0m\n",
            "\u001b[32m[I 2022-09-30 16:20:50,190]\u001b[0m Trial 206 finished with value: 0.6971065225996049 and parameters: {'learning_rate': 0.19, 'reg_alpha': 19.5, 'reg_lambda': 184.0, 'num_leaves': 725, 'min_child_samples': 80, 'min_split_gain': 0.04, 'colsample_bytree': 0.55, 'top_rate': 0.4, 'other_rate': 0.45, 'scale_pos_weight': 2.6}. Best is trial 170 with value: 0.7117277332037905.\u001b[0m\n",
            "\u001b[32m[I 2022-09-30 16:21:13,689]\u001b[0m Trial 207 finished with value: 0.7053670038087293 and parameters: {'learning_rate': 0.19, 'reg_alpha': 10.200000000000001, 'reg_lambda': 106.5, 'num_leaves': 710, 'min_child_samples': 92, 'min_split_gain': 0.01, 'colsample_bytree': 0.5, 'top_rate': 0.4, 'other_rate': 0.45, 'scale_pos_weight': 2.5}. Best is trial 170 with value: 0.7117277332037905.\u001b[0m\n",
            "\u001b[32m[I 2022-09-30 16:21:33,709]\u001b[0m Trial 208 finished with value: 0.6895866161290348 and parameters: {'learning_rate': 0.18000000000000002, 'reg_alpha': 15.4, 'reg_lambda': 195.4, 'num_leaves': 740, 'min_child_samples': 82, 'min_split_gain': 0.3, 'colsample_bytree': 0.55, 'top_rate': 0.4, 'other_rate': 0.45, 'scale_pos_weight': 2.6500000000000004}. Best is trial 170 with value: 0.7117277332037905.\u001b[0m\n",
            "\u001b[32m[I 2022-09-30 16:21:42,004]\u001b[0m Trial 209 finished with value: 0.6597498806865295 and parameters: {'learning_rate': 0.17, 'reg_alpha': 25.700000000000003, 'reg_lambda': 164.70000000000002, 'num_leaves': 645, 'min_child_samples': 100, 'min_split_gain': 14.11, 'colsample_bytree': 0.55, 'top_rate': 0.4, 'other_rate': 0.45, 'scale_pos_weight': 2.55}. Best is trial 170 with value: 0.7117277332037905.\u001b[0m\n",
            "\u001b[32m[I 2022-09-30 16:22:06,333]\u001b[0m Trial 210 finished with value: 0.7019380127423229 and parameters: {'learning_rate': 0.17, 'reg_alpha': 11.700000000000001, 'reg_lambda': 114.9, 'num_leaves': 700, 'min_child_samples': 72, 'min_split_gain': 0.02, 'colsample_bytree': 0.55, 'top_rate': 0.4, 'other_rate': 0.45, 'scale_pos_weight': 2.45}. Best is trial 170 with value: 0.7117277332037905.\u001b[0m\n",
            "\u001b[32m[I 2022-09-30 16:22:23,168]\u001b[0m Trial 211 finished with value: 0.6954356464971592 and parameters: {'learning_rate': 0.19, 'reg_alpha': 9.1, 'reg_lambda': 108.2, 'num_leaves': 685, 'min_child_samples': 110, 'min_split_gain': 0.43, 'colsample_bytree': 0.55, 'top_rate': 0.45000000000000007, 'other_rate': 0.45, 'scale_pos_weight': 2.6}. Best is trial 170 with value: 0.7117277332037905.\u001b[0m\n",
            "\u001b[32m[I 2022-09-30 16:22:40,772]\u001b[0m Trial 212 finished with value: 0.6930431656728617 and parameters: {'learning_rate': 0.17, 'reg_alpha': 13.0, 'reg_lambda': 113.10000000000001, 'num_leaves': 720, 'min_child_samples': 120, 'min_split_gain': 0.53, 'colsample_bytree': 0.55, 'top_rate': 0.4, 'other_rate': 0.45, 'scale_pos_weight': 2.35}. Best is trial 170 with value: 0.7117277332037905.\u001b[0m\n",
            "\u001b[32m[I 2022-09-30 16:23:02,786]\u001b[0m Trial 213 finished with value: 0.7020214709097502 and parameters: {'learning_rate': 0.18000000000000002, 'reg_alpha': 7.6000000000000005, 'reg_lambda': 144.3, 'num_leaves': 665, 'min_child_samples': 104, 'min_split_gain': 0.31, 'colsample_bytree': 0.55, 'top_rate': 0.4, 'other_rate': 0.45, 'scale_pos_weight': 2.7}. Best is trial 170 with value: 0.7117277332037905.\u001b[0m\n",
            "\u001b[32m[I 2022-09-30 16:23:18,061]\u001b[0m Trial 214 finished with value: 0.6894699934425278 and parameters: {'learning_rate': 0.18000000000000002, 'reg_alpha': 17.0, 'reg_lambda': 157.0, 'num_leaves': 685, 'min_child_samples': 128, 'min_split_gain': 0.5, 'colsample_bytree': 0.55, 'top_rate': 0.4, 'other_rate': 0.45, 'scale_pos_weight': 2.2}. Best is trial 170 with value: 0.7117277332037905.\u001b[0m\n",
            "\u001b[32m[I 2022-09-30 16:23:36,598]\u001b[0m Trial 215 finished with value: 0.7051931051911582 and parameters: {'learning_rate': 0.18000000000000002, 'reg_alpha': 5.4, 'reg_lambda': 118.10000000000001, 'num_leaves': 715, 'min_child_samples': 96, 'min_split_gain': 0.26, 'colsample_bytree': 0.5, 'top_rate': 0.4, 'other_rate': 0.4, 'scale_pos_weight': 2.5}. Best is trial 170 with value: 0.7117277332037905.\u001b[0m\n",
            "\u001b[32m[I 2022-09-30 16:23:57,190]\u001b[0m Trial 216 finished with value: 0.7040646173802841 and parameters: {'learning_rate': 0.2, 'reg_alpha': 10.700000000000001, 'reg_lambda': 125.7, 'num_leaves': 740, 'min_child_samples': 112, 'min_split_gain': 0.03, 'colsample_bytree': 0.55, 'top_rate': 0.35, 'other_rate': 0.4, 'scale_pos_weight': 2.6500000000000004}. Best is trial 170 with value: 0.7117277332037905.\u001b[0m\n",
            "\u001b[32m[I 2022-09-30 16:24:09,358]\u001b[0m Trial 217 finished with value: 0.6841114418354342 and parameters: {'learning_rate': 0.19, 'reg_alpha': 22.200000000000003, 'reg_lambda': 105.2, 'num_leaves': 630, 'min_child_samples': 86, 'min_split_gain': 0.62, 'colsample_bytree': 0.55, 'top_rate': 0.4, 'other_rate': 0.45, 'scale_pos_weight': 2.4000000000000004}. Best is trial 170 with value: 0.7117277332037905.\u001b[0m\n",
            "\u001b[32m[I 2022-09-30 16:24:34,832]\u001b[0m Trial 218 finished with value: 0.7073299208705319 and parameters: {'learning_rate': 0.18000000000000002, 'reg_alpha': 14.5, 'reg_lambda': 121.0, 'num_leaves': 695, 'min_child_samples': 122, 'min_split_gain': 0.0, 'colsample_bytree': 0.6, 'top_rate': 0.4, 'other_rate': 0.4, 'scale_pos_weight': 2.6}. Best is trial 170 with value: 0.7117277332037905.\u001b[0m\n",
            "\u001b[32m[I 2022-09-30 16:24:57,399]\u001b[0m Trial 219 finished with value: 0.7010438373657178 and parameters: {'learning_rate': 0.17, 'reg_alpha': 17.5, 'reg_lambda': 111.80000000000001, 'num_leaves': 530, 'min_child_samples': 130, 'min_split_gain': 0.01, 'colsample_bytree': 0.6, 'top_rate': 0.4, 'other_rate': 0.4, 'scale_pos_weight': 2.6}. Best is trial 170 with value: 0.7117277332037905.\u001b[0m\n",
            "\u001b[32m[I 2022-09-30 16:25:16,981]\u001b[0m Trial 220 finished with value: 0.6952956609073033 and parameters: {'learning_rate': 0.16, 'reg_alpha': 14.0, 'reg_lambda': 117.30000000000001, 'num_leaves': 750, 'min_child_samples': 122, 'min_split_gain': 0.3, 'colsample_bytree': 0.55, 'top_rate': 0.4, 'other_rate': 0.4, 'scale_pos_weight': 2.5}. Best is trial 170 with value: 0.7117277332037905.\u001b[0m\n",
            "\u001b[32m[I 2022-09-30 16:25:43,429]\u001b[0m Trial 221 finished with value: 0.7081749644741968 and parameters: {'learning_rate': 0.18000000000000002, 'reg_alpha': 8.5, 'reg_lambda': 121.30000000000001, 'num_leaves': 695, 'min_child_samples': 108, 'min_split_gain': 0.0, 'colsample_bytree': 0.6, 'top_rate': 0.4, 'other_rate': 0.4, 'scale_pos_weight': 2.7}. Best is trial 170 with value: 0.7117277332037905.\u001b[0m\n",
            "\u001b[32m[I 2022-09-30 16:26:02,780]\u001b[0m Trial 222 finished with value: 0.6964516693057574 and parameters: {'learning_rate': 0.18000000000000002, 'reg_alpha': 10.3, 'reg_lambda': 128.5, 'num_leaves': 700, 'min_child_samples': 100, 'min_split_gain': 0.28, 'colsample_bytree': 0.6, 'top_rate': 0.4, 'other_rate': 0.4, 'scale_pos_weight': 2.7}. Best is trial 170 with value: 0.7117277332037905.\u001b[0m\n",
            "\u001b[32m[I 2022-09-30 16:26:21,894]\u001b[0m Trial 223 finished with value: 0.6967671408444481 and parameters: {'learning_rate': 0.19, 'reg_alpha': 13.8, 'reg_lambda': 121.7, 'num_leaves': 730, 'min_child_samples': 90, 'min_split_gain': 0.29, 'colsample_bytree': 0.6, 'top_rate': 0.4, 'other_rate': 0.4, 'scale_pos_weight': 2.55}. Best is trial 170 with value: 0.7117277332037905.\u001b[0m\n",
            "\u001b[32m[I 2022-09-30 16:26:52,979]\u001b[0m Trial 224 finished with value: 0.7073042751097532 and parameters: {'learning_rate': 0.17, 'reg_alpha': 8.8, 'reg_lambda': 114.30000000000001, 'num_leaves': 710, 'min_child_samples': 118, 'min_split_gain': 0.03, 'colsample_bytree': 0.6, 'top_rate': 0.4, 'other_rate': 0.4, 'scale_pos_weight': 2.7}. Best is trial 170 with value: 0.7117277332037905.\u001b[0m\n",
            "\u001b[32m[I 2022-09-30 16:27:19,768]\u001b[0m Trial 225 finished with value: 0.7013399575217691 and parameters: {'learning_rate': 0.17, 'reg_alpha': 20.3, 'reg_lambda': 110.10000000000001, 'num_leaves': 760, 'min_child_samples': 106, 'min_split_gain': 0.0, 'colsample_bytree': 0.55, 'top_rate': 0.35, 'other_rate': 0.4, 'scale_pos_weight': 2.8}. Best is trial 170 with value: 0.7117277332037905.\u001b[0m\n",
            "\u001b[32m[I 2022-09-30 16:29:49,321]\u001b[0m Trial 226 finished with value: 0.7083125242704631 and parameters: {'learning_rate': 0.01, 'reg_alpha': 9.5, 'reg_lambda': 178.20000000000002, 'num_leaves': 695, 'min_child_samples': 76, 'min_split_gain': 0.03, 'colsample_bytree': 0.55, 'top_rate': 0.4, 'other_rate': 0.4, 'scale_pos_weight': 2.75}. Best is trial 170 with value: 0.7117277332037905.\u001b[0m\n",
            "\u001b[32m[I 2022-09-30 16:30:08,662]\u001b[0m Trial 227 finished with value: 0.6867692400039801 and parameters: {'learning_rate': 0.060000000000000005, 'reg_alpha': 16.6, 'reg_lambda': 172.20000000000002, 'num_leaves': 655, 'min_child_samples': 78, 'min_split_gain': 0.74, 'colsample_bytree': 0.55, 'top_rate': 0.4, 'other_rate': 0.4, 'scale_pos_weight': 2.7}. Best is trial 170 with value: 0.7117277332037905.\u001b[0m\n",
            "\u001b[32m[I 2022-09-30 16:30:24,463]\u001b[0m Trial 228 finished with value: 0.6898379616277246 and parameters: {'learning_rate': 0.18000000000000002, 'reg_alpha': 29.3, 'reg_lambda': 181.60000000000002, 'num_leaves': 690, 'min_child_samples': 74, 'min_split_gain': 0.01, 'colsample_bytree': 0.55, 'top_rate': 0.4, 'other_rate': 0.4, 'scale_pos_weight': 2.85}. Best is trial 170 with value: 0.7117277332037905.\u001b[0m\n",
            "\u001b[32m[I 2022-09-30 16:30:40,358]\u001b[0m Trial 229 finished with value: 0.6949298923324081 and parameters: {'learning_rate': 0.3, 'reg_alpha': 11.5, 'reg_lambda': 181.5, 'num_leaves': 735, 'min_child_samples': 96, 'min_split_gain': 0.31, 'colsample_bytree': 0.55, 'top_rate': 0.4, 'other_rate': 0.4, 'scale_pos_weight': 2.75}. Best is trial 170 with value: 0.7117277332037905.\u001b[0m\n",
            "\u001b[32m[I 2022-09-30 16:30:58,005]\u001b[0m Trial 230 finished with value: 0.6918588848031363 and parameters: {'learning_rate': 0.18000000000000002, 'reg_alpha': 8.9, 'reg_lambda': 177.10000000000002, 'num_leaves': 670, 'min_child_samples': 88, 'min_split_gain': 0.67, 'colsample_bytree': 0.55, 'top_rate': 0.45000000000000007, 'other_rate': 0.4, 'scale_pos_weight': 2.45}. Best is trial 170 with value: 0.7117277332037905.\u001b[0m\n",
            "\u001b[32m[I 2022-09-30 16:32:30,743]\u001b[0m Trial 231 finished with value: 0.7082949101843269 and parameters: {'learning_rate': 0.02, 'reg_alpha': 9.1, 'reg_lambda': 118.60000000000001, 'num_leaves': 700, 'min_child_samples': 122, 'min_split_gain': 0.02, 'colsample_bytree': 0.6, 'top_rate': 0.4, 'other_rate': 0.4, 'scale_pos_weight': 2.6500000000000004}. Best is trial 170 with value: 0.7117277332037905.\u001b[0m\n",
            "\u001b[32m[I 2022-09-30 16:33:00,694]\u001b[0m Trial 232 finished with value: 0.7057066047815136 and parameters: {'learning_rate': 0.17, 'reg_alpha': 14.3, 'reg_lambda': 119.30000000000001, 'num_leaves': 690, 'min_child_samples': 108, 'min_split_gain': 0.0, 'colsample_bytree': 0.6, 'top_rate': 0.4, 'other_rate': 0.4, 'scale_pos_weight': 2.7}. Best is trial 170 with value: 0.7117277332037905.\u001b[0m\n",
            "\u001b[32m[I 2022-09-30 16:34:21,347]\u001b[0m Trial 233 finished with value: 0.7038820100566128 and parameters: {'learning_rate': 0.02, 'reg_alpha': 4.7, 'reg_lambda': 125.10000000000001, 'num_leaves': 715, 'min_child_samples': 134, 'min_split_gain': 0.35000000000000003, 'colsample_bytree': 0.6, 'top_rate': 0.4, 'other_rate': 0.4, 'scale_pos_weight': 2.55}. Best is trial 170 with value: 0.7117277332037905.\u001b[0m\n",
            "\u001b[32m[I 2022-09-30 16:36:50,487]\u001b[0m Trial 234 finished with value: 0.708717694156898 and parameters: {'learning_rate': 0.01, 'reg_alpha': 9.600000000000001, 'reg_lambda': 108.5, 'num_leaves': 695, 'min_child_samples': 124, 'min_split_gain': 0.01, 'colsample_bytree': 0.55, 'top_rate': 0.4, 'other_rate': 0.4, 'scale_pos_weight': 2.6500000000000004}. Best is trial 170 with value: 0.7117277332037905.\u001b[0m\n",
            "\u001b[32m[I 2022-09-30 16:38:13,728]\u001b[0m Trial 235 finished with value: 0.6999837323175834 and parameters: {'learning_rate': 0.01, 'reg_alpha': 9.1, 'reg_lambda': 188.4, 'num_leaves': 730, 'min_child_samples': 126, 'min_split_gain': 0.3, 'colsample_bytree': 0.55, 'top_rate': 0.4, 'other_rate': 0.4, 'scale_pos_weight': 2.6500000000000004}. Best is trial 170 with value: 0.7117277332037905.\u001b[0m\n",
            "\u001b[32m[I 2022-09-30 16:39:59,087]\u001b[0m Trial 236 finished with value: 0.7024986795115279 and parameters: {'learning_rate': 0.01, 'reg_alpha': 4.7, 'reg_lambda': 103.30000000000001, 'num_leaves': 705, 'min_child_samples': 120, 'min_split_gain': 0.5700000000000001, 'colsample_bytree': 0.6, 'top_rate': 0.4, 'other_rate': 0.4, 'scale_pos_weight': 2.35}. Best is trial 170 with value: 0.7117277332037905.\u001b[0m\n",
            "\u001b[32m[I 2022-09-30 16:40:47,001]\u001b[0m Trial 237 finished with value: 0.6921079373967751 and parameters: {'learning_rate': 0.02, 'reg_alpha': 10.700000000000001, 'reg_lambda': 107.30000000000001, 'num_leaves': 760, 'min_child_samples': 140, 'min_split_gain': 0.93, 'colsample_bytree': 0.55, 'top_rate': 0.4, 'other_rate': 0.4, 'scale_pos_weight': 2.45}. Best is trial 170 with value: 0.7117277332037905.\u001b[0m\n",
            "\u001b[32m[I 2022-09-30 16:41:45,541]\u001b[0m Trial 238 finished with value: 0.7030486357329837 and parameters: {'learning_rate': 0.02, 'reg_alpha': 7.9, 'reg_lambda': 111.30000000000001, 'num_leaves': 695, 'min_child_samples': 132, 'min_split_gain': 0.3, 'colsample_bytree': 0.5, 'top_rate': 0.4, 'other_rate': 0.4, 'scale_pos_weight': 2.6500000000000004}. Best is trial 170 with value: 0.7117277332037905.\u001b[0m\n",
            "\u001b[32m[I 2022-09-30 16:43:00,062]\u001b[0m Trial 239 finished with value: 0.6948574011151906 and parameters: {'learning_rate': 0.01, 'reg_alpha': 12.600000000000001, 'reg_lambda': 115.80000000000001, 'num_leaves': 740, 'min_child_samples': 100, 'min_split_gain': 0.56, 'colsample_bytree': 0.55, 'top_rate': 0.4, 'other_rate': 0.45, 'scale_pos_weight': 2.55}. Best is trial 170 with value: 0.7117277332037905.\u001b[0m\n",
            "\u001b[32m[I 2022-09-30 16:44:08,335]\u001b[0m Trial 240 finished with value: 0.7031905023655318 and parameters: {'learning_rate': 0.02, 'reg_alpha': 6.1000000000000005, 'reg_lambda': 175.60000000000002, 'num_leaves': 720, 'min_child_samples': 114, 'min_split_gain': 0.25, 'colsample_bytree': 0.6, 'top_rate': 0.4, 'other_rate': 0.4, 'scale_pos_weight': 2.75}. Best is trial 170 with value: 0.7117277332037905.\u001b[0m\n",
            "\u001b[32m[I 2022-09-30 16:45:46,371]\u001b[0m Trial 241 finished with value: 0.7002527653083261 and parameters: {'learning_rate': 0.01, 'reg_alpha': 17.2, 'reg_lambda': 121.60000000000001, 'num_leaves': 680, 'min_child_samples': 108, 'min_split_gain': 0.06, 'colsample_bytree': 0.55, 'top_rate': 0.45000000000000007, 'other_rate': 0.4, 'scale_pos_weight': 2.9000000000000004}. Best is trial 170 with value: 0.7117277332037905.\u001b[0m\n",
            "\u001b[32m[I 2022-09-30 16:46:14,201]\u001b[0m Trial 242 finished with value: 0.7072156158289735 and parameters: {'learning_rate': 0.16, 'reg_alpha': 15.4, 'reg_lambda': 127.9, 'num_leaves': 700, 'min_child_samples': 90, 'min_split_gain': 0.0, 'colsample_bytree': 0.55, 'top_rate': 0.4, 'other_rate': 0.4, 'scale_pos_weight': 2.8}. Best is trial 170 with value: 0.7117277332037905.\u001b[0m\n",
            "\u001b[32m[I 2022-09-30 16:47:13,270]\u001b[0m Trial 243 finished with value: 0.6997488389496253 and parameters: {'learning_rate': 0.03, 'reg_alpha': 12.3, 'reg_lambda': 108.30000000000001, 'num_leaves': 705, 'min_child_samples': 380, 'min_split_gain': 0.02, 'colsample_bytree': 0.55, 'top_rate': 0.4, 'other_rate': 0.4, 'scale_pos_weight': 2.7}. Best is trial 170 with value: 0.7117277332037905.\u001b[0m\n",
            "\u001b[32m[I 2022-09-30 16:47:55,074]\u001b[0m Trial 244 finished with value: 0.6996204456340316 and parameters: {'learning_rate': 0.04, 'reg_alpha': 4.9, 'reg_lambda': 117.0, 'num_leaves': 720, 'min_child_samples': 78, 'min_split_gain': 0.31, 'colsample_bytree': 0.55, 'top_rate': 0.4, 'other_rate': 0.4, 'scale_pos_weight': 1.15}. Best is trial 170 with value: 0.7117277332037905.\u001b[0m\n",
            "\u001b[32m[I 2022-09-30 16:48:13,479]\u001b[0m Trial 245 finished with value: 0.6954867156659201 and parameters: {'learning_rate': 0.16, 'reg_alpha': 9.600000000000001, 'reg_lambda': 132.4, 'num_leaves': 695, 'min_child_samples': 90, 'min_split_gain': 0.61, 'colsample_bytree': 0.55, 'top_rate': 0.4, 'other_rate': 0.4, 'scale_pos_weight': 2.6}. Best is trial 170 with value: 0.7117277332037905.\u001b[0m\n",
            "\u001b[32m[I 2022-09-30 16:48:28,462]\u001b[0m Trial 246 finished with value: 0.6905678106429626 and parameters: {'learning_rate': 0.16, 'reg_alpha': 21.3, 'reg_lambda': 112.4, 'num_leaves': 740, 'min_child_samples': 124, 'min_split_gain': 0.29, 'colsample_bytree': 0.6, 'top_rate': 0.4, 'other_rate': 0.4, 'scale_pos_weight': 2.75}. Best is trial 170 with value: 0.7117277332037905.\u001b[0m\n",
            "\u001b[32m[I 2022-09-30 16:48:46,992]\u001b[0m Trial 247 finished with value: 0.6944995955418788 and parameters: {'learning_rate': 0.18000000000000002, 'reg_alpha': 13.9, 'reg_lambda': 127.7, 'num_leaves': 765, 'min_child_samples': 98, 'min_split_gain': 0.26, 'colsample_bytree': 0.55, 'top_rate': 0.4, 'other_rate': 0.45, 'scale_pos_weight': 2.5}. Best is trial 170 with value: 0.7117277332037905.\u001b[0m\n",
            "\u001b[32m[I 2022-09-30 16:49:05,542]\u001b[0m Trial 248 finished with value: 0.6973859212341054 and parameters: {'learning_rate': 0.17, 'reg_alpha': 8.700000000000001, 'reg_lambda': 104.60000000000001, 'num_leaves': 680, 'min_child_samples': 88, 'min_split_gain': 0.53, 'colsample_bytree': 0.55, 'top_rate': 0.4, 'other_rate': 0.5, 'scale_pos_weight': 2.6500000000000004}. Best is trial 170 with value: 0.7117277332037905.\u001b[0m\n",
            "\u001b[32m[I 2022-09-30 16:49:30,880]\u001b[0m Trial 249 finished with value: 0.7096912687254556 and parameters: {'learning_rate': 0.19, 'reg_alpha': 4.6000000000000005, 'reg_lambda': 119.0, 'num_leaves': 720, 'min_child_samples': 74, 'min_split_gain': 0.02, 'colsample_bytree': 0.6, 'top_rate': 0.35, 'other_rate': 0.4, 'scale_pos_weight': 2.4000000000000004}. Best is trial 170 with value: 0.7117277332037905.\u001b[0m\n"
          ]
        },
        {
          "output_type": "stream",
          "name": "stdout",
          "text": [
            "Best trial: 170 -> Best value(F1): 0.71173\n",
            "Best hyperparameters:\n",
            "learning_rate        - 0.14\n",
            "reg_alpha            - 6.0\n",
            "reg_lambda           - 115.10000000000001\n",
            "num_leaves           - 715\n",
            "min_child_samples    - 118\n",
            "min_split_gain       - 0.45\n",
            "colsample_bytree     - 0.6\n",
            "top_rate             - 0.1\n",
            "other_rate           - 0.4\n",
            "scale_pos_weight     - 2.6500000000000004\n",
            "-----------------Cross-validation------------------\n",
            "Fold #0: (1349 rounds) F1 = 0.68634\n",
            "Fold #1: (1181 rounds) F1 = 0.71875\n",
            "Fold #2: (1637 rounds) F1 = 0.70690\n",
            "Fold #3: (1368 rounds) F1 = 0.71240\n",
            "Fold #4: (1399 rounds) F1 = 0.73426\n",
            "\n",
            "Avg F1 = 0.71173 +/- 0.01566\n",
            "CPU times: user 2h 41min 39s, sys: 1min 47s, total: 2h 43min 27s\n",
            "Wall time: 1h 26min 8s\n"
          ]
        }
      ]
    },
    {
      "cell_type": "code",
      "source": [
        "create_submission_files(test_preds_1, 1)"
      ],
      "metadata": {
        "id": "xIG_z2nlzZot"
      },
      "execution_count": 35,
      "outputs": []
    },
    {
      "cell_type": "markdown",
      "source": [
        "### Experiment 2: Created features"
      ],
      "metadata": {
        "id": "kBKD2aPUKoj9"
      }
    },
    {
      "cell_type": "code",
      "source": [
        "created_features = [f for f in test_agg.columns \n",
        "                    if f.startswith('agg_') or f.startswith('grad_')]"
      ],
      "metadata": {
        "id": "oW4HCPmrKnmC"
      },
      "execution_count": 24,
      "outputs": []
    },
    {
      "cell_type": "code",
      "source": [
        "%%time\n",
        "oof_probs['4_2'], test_preds_2 = run_experiment(\n",
        "    data=(train_agg[created_features], test_agg[created_features], TARGET),\n",
        "    n_trials=100\n",
        ")"
      ],
      "metadata": {
        "id": "e6tacNK7K-IA",
        "colab": {
          "base_uri": "https://localhost:8080/"
        },
        "outputId": "98cf59e9-c00d-4dbe-a65c-e58f97cb2af5"
      },
      "execution_count": 25,
      "outputs": [
        {
          "output_type": "stream",
          "name": "stderr",
          "text": [
            "\u001b[32m[I 2022-09-30 22:50:32,087]\u001b[0m A new study created in memory with name: no-name-8446eca5-34a8-48fd-b2e5-893fef8d1323\u001b[0m\n"
          ]
        },
        {
          "output_type": "stream",
          "name": "stdout",
          "text": [
            "---------------Hyperparameter tuning---------------\n"
          ]
        },
        {
          "output_type": "stream",
          "name": "stderr",
          "text": [
            "\u001b[32m[I 2022-09-30 22:50:41,243]\u001b[0m Trial 0 finished with value: 0.6370458471543539 and parameters: {'learning_rate': 0.16, 'reg_alpha': 189.4, 'reg_lambda': 153.1, 'num_leaves': 295, 'min_child_samples': 110, 'min_split_gain': 10.3, 'colsample_bytree': 0.55, 'top_rate': 0.25, 'other_rate': 0.35000000000000003, 'scale_pos_weight': 2.6500000000000004}. Best is trial 0 with value: 0.6370458471543539.\u001b[0m\n",
            "\u001b[32m[I 2022-09-30 22:51:21,325]\u001b[0m Trial 1 finished with value: 0.6488787819005271 and parameters: {'learning_rate': 0.01, 'reg_alpha': 176.8, 'reg_lambda': 177.0, 'num_leaves': 315, 'min_child_samples': 294, 'min_split_gain': 14.68, 'colsample_bytree': 0.9, 'top_rate': 0.1, 'other_rate': 0.15000000000000002, 'scale_pos_weight': 2.1500000000000004}. Best is trial 1 with value: 0.6488787819005271.\u001b[0m\n",
            "\u001b[32m[I 2022-09-30 22:51:31,535]\u001b[0m Trial 2 finished with value: 0.6615567841134624 and parameters: {'learning_rate': 0.25, 'reg_alpha': 125.2, 'reg_lambda': 22.1, 'num_leaves': 20, 'min_child_samples': 472, 'min_split_gain': 2.12, 'colsample_bytree': 0.7, 'top_rate': 0.25, 'other_rate': 0.45, 'scale_pos_weight': 2.7}. Best is trial 2 with value: 0.6615567841134624.\u001b[0m\n",
            "\u001b[32m[I 2022-09-30 22:51:43,043]\u001b[0m Trial 3 finished with value: 0.6759321004643439 and parameters: {'learning_rate': 0.25, 'reg_alpha': 143.6, 'reg_lambda': 23.8, 'num_leaves': 605, 'min_child_samples': 64, 'min_split_gain': 1.16, 'colsample_bytree': 0.9, 'top_rate': 0.30000000000000004, 'other_rate': 0.1, 'scale_pos_weight': 3.2}. Best is trial 3 with value: 0.6759321004643439.\u001b[0m\n",
            "\u001b[32m[I 2022-09-30 22:51:51,124]\u001b[0m Trial 4 finished with value: 0.5924792345361867 and parameters: {'learning_rate': 0.18000000000000002, 'reg_alpha': 154.70000000000002, 'reg_lambda': 131.20000000000002, 'num_leaves': 565, 'min_child_samples': 88, 'min_split_gain': 3.61, 'colsample_bytree': 0.75, 'top_rate': 0.25, 'other_rate': 0.25, 'scale_pos_weight': 4.85}. Best is trial 3 with value: 0.6759321004643439.\u001b[0m\n",
            "\u001b[32m[I 2022-09-30 22:52:04,708]\u001b[0m Trial 5 finished with value: 0.6677854691115118 and parameters: {'learning_rate': 0.28, 'reg_alpha': 101.2, 'reg_lambda': 164.20000000000002, 'num_leaves': 835, 'min_child_samples': 116, 'min_split_gain': 1.18, 'colsample_bytree': 0.7, 'top_rate': 0.45000000000000007, 'other_rate': 0.1, 'scale_pos_weight': 1.9}. Best is trial 3 with value: 0.6759321004643439.\u001b[0m\n",
            "\u001b[32m[I 2022-09-30 22:52:13,979]\u001b[0m Trial 6 finished with value: 0.6748619027963141 and parameters: {'learning_rate': 0.28, 'reg_alpha': 25.8, 'reg_lambda': 183.3, 'num_leaves': 250, 'min_child_samples': 308, 'min_split_gain': 14.280000000000001, 'colsample_bytree': 0.6, 'top_rate': 0.30000000000000004, 'other_rate': 0.5, 'scale_pos_weight': 1.9500000000000002}. Best is trial 3 with value: 0.6759321004643439.\u001b[0m\n",
            "\u001b[32m[I 2022-09-30 22:52:19,650]\u001b[0m Trial 7 finished with value: 0.5815730287749931 and parameters: {'learning_rate': 0.060000000000000005, 'reg_alpha': 137.6, 'reg_lambda': 169.0, 'num_leaves': 465, 'min_child_samples': 50, 'min_split_gain': 9.34, 'colsample_bytree': 0.5, 'top_rate': 0.1, 'other_rate': 0.2, 'scale_pos_weight': 4.65}. Best is trial 3 with value: 0.6759321004643439.\u001b[0m\n",
            "\u001b[32m[I 2022-09-30 22:52:28,676]\u001b[0m Trial 8 finished with value: 0.6791111378393966 and parameters: {'learning_rate': 0.24000000000000002, 'reg_alpha': 76.80000000000001, 'reg_lambda': 18.5, 'num_leaves': 140, 'min_child_samples': 268, 'min_split_gain': 7.61, 'colsample_bytree': 0.75, 'top_rate': 0.15000000000000002, 'other_rate': 0.4, 'scale_pos_weight': 3.4000000000000004}. Best is trial 8 with value: 0.6791111378393966.\u001b[0m\n",
            "\u001b[32m[I 2022-09-30 22:52:40,139]\u001b[0m Trial 9 finished with value: 0.6846346866621114 and parameters: {'learning_rate': 0.23, 'reg_alpha': 91.9, 'reg_lambda': 14.8, 'num_leaves': 610, 'min_child_samples': 218, 'min_split_gain': 0.09, 'colsample_bytree': 0.5, 'top_rate': 0.25, 'other_rate': 0.45, 'scale_pos_weight': 2.75}. Best is trial 9 with value: 0.6846346866621114.\u001b[0m\n",
            "\u001b[32m[I 2022-09-30 22:53:04,706]\u001b[0m Trial 10 finished with value: 0.6953081275851927 and parameters: {'learning_rate': 0.11, 'reg_alpha': 34.2, 'reg_lambda': 77.80000000000001, 'num_leaves': 965, 'min_child_samples': 406, 'min_split_gain': 4.53, 'colsample_bytree': 0.6, 'top_rate': 0.5, 'other_rate': 0.35000000000000003, 'scale_pos_weight': 3.95}. Best is trial 10 with value: 0.6953081275851927.\u001b[0m\n",
            "\u001b[32m[I 2022-09-30 22:53:25,870]\u001b[0m Trial 11 finished with value: 0.6961140244899247 and parameters: {'learning_rate': 0.09999999999999999, 'reg_alpha': 2.9000000000000004, 'reg_lambda': 70.3, 'num_leaves': 975, 'min_child_samples': 432, 'min_split_gain': 5.08, 'colsample_bytree': 0.6, 'top_rate': 0.5, 'other_rate': 0.35000000000000003, 'scale_pos_weight': 1.0}. Best is trial 11 with value: 0.6961140244899247.\u001b[0m\n",
            "\u001b[32m[I 2022-09-30 22:53:46,447]\u001b[0m Trial 12 finished with value: 0.7009565820574849 and parameters: {'learning_rate': 0.09999999999999999, 'reg_alpha': 0.1, 'reg_lambda': 77.60000000000001, 'num_leaves': 990, 'min_child_samples': 462, 'min_split_gain': 5.08, 'colsample_bytree': 0.6, 'top_rate': 0.5, 'other_rate': 0.3, 'scale_pos_weight': 1.2}. Best is trial 12 with value: 0.7009565820574849.\u001b[0m\n",
            "\u001b[32m[I 2022-09-30 22:54:06,931]\u001b[0m Trial 13 finished with value: 0.6972782711541594 and parameters: {'learning_rate': 0.09999999999999999, 'reg_alpha': 4.5, 'reg_lambda': 73.5, 'num_leaves': 990, 'min_child_samples': 490, 'min_split_gain': 5.51, 'colsample_bytree': 0.65, 'top_rate': 0.4, 'other_rate': 0.3, 'scale_pos_weight': 1.0}. Best is trial 12 with value: 0.7009565820574849.\u001b[0m\n",
            "\u001b[32m[I 2022-09-30 22:54:22,611]\u001b[0m Trial 14 finished with value: 0.6667858218790281 and parameters: {'learning_rate': 0.09, 'reg_alpha': 56.7, 'reg_lambda': 102.5, 'num_leaves': 785, 'min_child_samples': 496, 'min_split_gain': 6.66, 'colsample_bytree': 0.65, 'top_rate': 0.4, 'other_rate': 0.25, 'scale_pos_weight': 1.15}. Best is trial 12 with value: 0.7009565820574849.\u001b[0m\n",
            "\u001b[32m[I 2022-09-30 22:55:08,865]\u001b[0m Trial 15 finished with value: 0.7005461892743357 and parameters: {'learning_rate': 0.03, 'reg_alpha': 1.5, 'reg_lambda': 57.1, 'num_leaves': 790, 'min_child_samples': 372, 'min_split_gain': 6.17, 'colsample_bytree': 0.8, 'top_rate': 0.4, 'other_rate': 0.3, 'scale_pos_weight': 1.45}. Best is trial 12 with value: 0.7009565820574849.\u001b[0m\n",
            "\u001b[32m[I 2022-09-30 22:56:19,425]\u001b[0m Trial 16 finished with value: 0.6784446249857907 and parameters: {'learning_rate': 0.01, 'reg_alpha': 42.400000000000006, 'reg_lambda': 58.300000000000004, 'num_leaves': 780, 'min_child_samples': 368, 'min_split_gain': 9.18, 'colsample_bytree': 0.8, 'top_rate': 0.4, 'other_rate': 0.2, 'scale_pos_weight': 1.5}. Best is trial 12 with value: 0.7009565820574849.\u001b[0m\n",
            "\u001b[32m[I 2022-09-30 22:56:46,127]\u001b[0m Trial 17 finished with value: 0.6862811198883058 and parameters: {'learning_rate': 0.05, 'reg_alpha': 16.7, 'reg_lambda': 46.0, 'num_leaves': 865, 'min_child_samples': 360, 'min_split_gain': 11.88, 'colsample_bytree': 0.8500000000000001, 'top_rate': 0.45000000000000007, 'other_rate': 0.3, 'scale_pos_weight': 1.55}. Best is trial 12 with value: 0.7009565820574849.\u001b[0m\n",
            "\u001b[32m[I 2022-09-30 22:57:02,442]\u001b[0m Trial 18 finished with value: 0.6850688893891669 and parameters: {'learning_rate': 0.14, 'reg_alpha': 59.1, 'reg_lambda': 104.4, 'num_leaves': 700, 'min_child_samples': 224, 'min_split_gain': 7.05, 'colsample_bytree': 0.95, 'top_rate': 0.35, 'other_rate': 0.05, 'scale_pos_weight': 1.55}. Best is trial 12 with value: 0.7009565820574849.\u001b[0m\n",
            "\u001b[32m[I 2022-09-30 22:57:30,787]\u001b[0m Trial 19 finished with value: 0.6900110721261935 and parameters: {'learning_rate': 0.05, 'reg_alpha': 50.300000000000004, 'reg_lambda': 121.30000000000001, 'num_leaves': 455, 'min_child_samples': 342, 'min_split_gain': 3.23, 'colsample_bytree': 0.8, 'top_rate': 0.45000000000000007, 'other_rate': 0.2, 'scale_pos_weight': 2.25}. Best is trial 12 with value: 0.7009565820574849.\u001b[0m\n",
            "\u001b[32m[I 2022-09-30 22:57:41,754]\u001b[0m Trial 20 finished with value: 0.6718199183065581 and parameters: {'learning_rate': 0.19, 'reg_alpha': 75.0, 'reg_lambda': 43.7, 'num_leaves': 720, 'min_child_samples': 440, 'min_split_gain': 7.98, 'colsample_bytree': 0.65, 'top_rate': 0.5, 'other_rate': 0.3, 'scale_pos_weight': 3.5500000000000003}. Best is trial 12 with value: 0.7009565820574849.\u001b[0m\n",
            "\u001b[32m[I 2022-09-30 22:58:04,451]\u001b[0m Trial 21 finished with value: 0.6983653101924053 and parameters: {'learning_rate': 0.08, 'reg_alpha': 5.7, 'reg_lambda': 80.30000000000001, 'num_leaves': 905, 'min_child_samples': 412, 'min_split_gain': 5.51, 'colsample_bytree': 0.65, 'top_rate': 0.4, 'other_rate': 0.3, 'scale_pos_weight': 1.25}. Best is trial 12 with value: 0.7009565820574849.\u001b[0m\n",
            "\u001b[32m[I 2022-09-30 22:58:31,161]\u001b[0m Trial 22 finished with value: 0.6927396835017857 and parameters: {'learning_rate': 0.06999999999999999, 'reg_alpha': 18.0, 'reg_lambda': 87.9, 'num_leaves': 865, 'min_child_samples': 402, 'min_split_gain': 5.97, 'colsample_bytree': 0.55, 'top_rate': 0.35, 'other_rate': 0.4, 'scale_pos_weight': 1.4}. Best is trial 12 with value: 0.7009565820574849.\u001b[0m\n",
            "\u001b[32m[I 2022-09-30 22:58:46,563]\u001b[0m Trial 23 finished with value: 0.7049258159783521 and parameters: {'learning_rate': 0.13, 'reg_alpha': 0.30000000000000004, 'reg_lambda': 47.300000000000004, 'num_leaves': 915, 'min_child_samples': 426, 'min_split_gain': 3.18, 'colsample_bytree': 0.8, 'top_rate': 0.35, 'other_rate': 0.25, 'scale_pos_weight': 1.8}. Best is trial 23 with value: 0.7049258159783521.\u001b[0m\n",
            "\u001b[32m[I 2022-09-30 22:59:03,936]\u001b[0m Trial 24 finished with value: 0.6944500512347461 and parameters: {'learning_rate': 0.13, 'reg_alpha': 27.6, 'reg_lambda': 41.5, 'num_leaves': 930, 'min_child_samples': 448, 'min_split_gain': 3.5500000000000003, 'colsample_bytree': 0.8, 'top_rate': 0.35, 'other_rate': 0.25, 'scale_pos_weight': 1.85}. Best is trial 23 with value: 0.7049258159783521.\u001b[0m\n",
            "\u001b[32m[I 2022-09-30 22:59:53,486]\u001b[0m Trial 25 finished with value: 0.7077691576989016 and parameters: {'learning_rate': 0.03, 'reg_alpha': 2.6, 'reg_lambda': 3.4000000000000004, 'num_leaves': 725, 'min_child_samples': 380, 'min_split_gain': 2.82, 'colsample_bytree': 0.8500000000000001, 'top_rate': 0.45000000000000007, 'other_rate': 0.15000000000000002, 'scale_pos_weight': 2.35}. Best is trial 25 with value: 0.7077691576989016.\u001b[0m\n",
            "\u001b[32m[I 2022-09-30 23:00:13,694]\u001b[0m Trial 26 finished with value: 0.7028054165276768 and parameters: {'learning_rate': 0.12, 'reg_alpha': 36.7, 'reg_lambda': 1.5, 'num_leaves': 685, 'min_child_samples': 160, 'min_split_gain': 2.18, 'colsample_bytree': 0.8500000000000001, 'top_rate': 0.45000000000000007, 'other_rate': 0.15000000000000002, 'scale_pos_weight': 2.35}. Best is trial 25 with value: 0.7077691576989016.\u001b[0m\n",
            "\u001b[32m[I 2022-09-30 23:00:29,929]\u001b[0m Trial 27 finished with value: 0.6937246920878634 and parameters: {'learning_rate': 0.2, 'reg_alpha': 42.1, 'reg_lambda': 7.0, 'num_leaves': 675, 'min_child_samples': 178, 'min_split_gain': 2.32, 'colsample_bytree': 0.9, 'top_rate': 0.45000000000000007, 'other_rate': 0.15000000000000002, 'scale_pos_weight': 2.35}. Best is trial 25 with value: 0.7077691576989016.\u001b[0m\n",
            "\u001b[32m[I 2022-09-30 23:00:53,737]\u001b[0m Trial 28 finished with value: 0.7068441107769069 and parameters: {'learning_rate': 0.13, 'reg_alpha': 17.8, 'reg_lambda': 2.1, 'num_leaves': 660, 'min_child_samples': 160, 'min_split_gain': 0.31, 'colsample_bytree': 0.8500000000000001, 'top_rate': 0.35, 'other_rate': 0.15000000000000002, 'scale_pos_weight': 2.45}. Best is trial 25 with value: 0.7077691576989016.\u001b[0m\n",
            "\u001b[32m[I 2022-09-30 23:01:03,952]\u001b[0m Trial 29 finished with value: 0.6911948566505977 and parameters: {'learning_rate': 0.16, 'reg_alpha': 17.900000000000002, 'reg_lambda': 32.2, 'num_leaves': 510, 'min_child_samples': 160, 'min_split_gain': 1.53, 'colsample_bytree': 0.8500000000000001, 'top_rate': 0.2, 'other_rate': 0.05, 'scale_pos_weight': 2.95}. Best is trial 25 with value: 0.7077691576989016.\u001b[0m\n",
            "\u001b[32m[I 2022-09-30 23:01:17,217]\u001b[0m Trial 30 finished with value: 0.6840715145547946 and parameters: {'learning_rate': 0.21000000000000002, 'reg_alpha': 68.8, 'reg_lambda': 5.7, 'num_leaves': 385, 'min_child_samples': 330, 'min_split_gain': 4.21, 'colsample_bytree': 0.95, 'top_rate': 0.35, 'other_rate': 0.1, 'scale_pos_weight': 2.55}. Best is trial 25 with value: 0.7077691576989016.\u001b[0m\n",
            "\u001b[32m[I 2022-09-30 23:01:38,532]\u001b[0m Trial 31 finished with value: 0.7106833573373275 and parameters: {'learning_rate': 0.14, 'reg_alpha': 32.7, 'reg_lambda': 0.0, 'num_leaves': 650, 'min_child_samples': 8, 'min_split_gain': 0.25, 'colsample_bytree': 0.8500000000000001, 'top_rate': 0.30000000000000004, 'other_rate': 0.15000000000000002, 'scale_pos_weight': 2.6}. Best is trial 31 with value: 0.7106833573373275.\u001b[0m\n",
            "\u001b[32m[I 2022-09-30 23:01:58,309]\u001b[0m Trial 32 finished with value: 0.7069294251653132 and parameters: {'learning_rate': 0.15000000000000002, 'reg_alpha': 20.1, 'reg_lambda': 32.4, 'num_leaves': 615, 'min_child_samples': 12, 'min_split_gain': 0.45, 'colsample_bytree': 0.8500000000000001, 'top_rate': 0.30000000000000004, 'other_rate': 0.15000000000000002, 'scale_pos_weight': 2.95}. Best is trial 31 with value: 0.7106833573373275.\u001b[0m\n",
            "\u001b[32m[I 2022-09-30 23:02:15,779]\u001b[0m Trial 33 finished with value: 0.7074418581003428 and parameters: {'learning_rate': 0.17, 'reg_alpha': 20.0, 'reg_lambda': 30.400000000000002, 'num_leaves': 590, 'min_child_samples': 0, 'min_split_gain': 1.05, 'colsample_bytree': 0.8500000000000001, 'top_rate': 0.30000000000000004, 'other_rate': 0.15000000000000002, 'scale_pos_weight': 2.9000000000000004}. Best is trial 31 with value: 0.7106833573373275.\u001b[0m\n",
            "\u001b[32m[I 2022-09-30 23:02:29,626]\u001b[0m Trial 34 finished with value: 0.667165372559806 and parameters: {'learning_rate': 0.17, 'reg_alpha': 191.60000000000002, 'reg_lambda': 28.8, 'num_leaves': 550, 'min_child_samples': 20, 'min_split_gain': 1.05, 'colsample_bytree': 0.9, 'top_rate': 0.30000000000000004, 'other_rate': 0.1, 'scale_pos_weight': 2.95}. Best is trial 31 with value: 0.7106833573373275.\u001b[0m\n",
            "\u001b[32m[I 2022-09-30 23:02:46,084]\u001b[0m Trial 35 finished with value: 0.6946432609278723 and parameters: {'learning_rate': 0.15000000000000002, 'reg_alpha': 106.4, 'reg_lambda': 32.7, 'num_leaves': 615, 'min_child_samples': 8, 'min_split_gain': 0.63, 'colsample_bytree': 0.9, 'top_rate': 0.30000000000000004, 'other_rate': 0.15000000000000002, 'scale_pos_weight': 3.8000000000000003}. Best is trial 31 with value: 0.7106833573373275.\u001b[0m\n",
            "\u001b[32m[I 2022-09-30 23:02:56,861]\u001b[0m Trial 36 finished with value: 0.6676874779423659 and parameters: {'learning_rate': 0.21000000000000002, 'reg_alpha': 169.5, 'reg_lambda': 14.3, 'num_leaves': 390, 'min_child_samples': 44, 'min_split_gain': 2.41, 'colsample_bytree': 0.75, 'top_rate': 0.2, 'other_rate': 0.2, 'scale_pos_weight': 3.2}. Best is trial 31 with value: 0.7106833573373275.\u001b[0m\n",
            "\u001b[32m[I 2022-09-30 23:03:09,709]\u001b[0m Trial 37 finished with value: 0.6942789182901985 and parameters: {'learning_rate': 0.17, 'reg_alpha': 28.700000000000003, 'reg_lambda': 23.400000000000002, 'num_leaves': 735, 'min_child_samples': 92, 'min_split_gain': 1.61, 'colsample_bytree': 0.95, 'top_rate': 0.25, 'other_rate': 0.05, 'scale_pos_weight': 2.75}. Best is trial 31 with value: 0.7106833573373275.\u001b[0m\n",
            "\u001b[32m[I 2022-09-30 23:03:23,552]\u001b[0m Trial 38 finished with value: 0.6967408997593229 and parameters: {'learning_rate': 0.3, 'reg_alpha': 45.6, 'reg_lambda': 13.9, 'num_leaves': 525, 'min_child_samples': 34, 'min_split_gain': 0.11, 'colsample_bytree': 0.8500000000000001, 'top_rate': 0.30000000000000004, 'other_rate': 0.1, 'scale_pos_weight': 2.1500000000000004}. Best is trial 31 with value: 0.7106833573373275.\u001b[0m\n",
            "\u001b[32m[I 2022-09-30 23:03:38,158]\u001b[0m Trial 39 finished with value: 0.7059814930162935 and parameters: {'learning_rate': 0.15000000000000002, 'reg_alpha': 14.0, 'reg_lambda': 146.0, 'num_leaves': 625, 'min_child_samples': 2, 'min_split_gain': 2.7600000000000002, 'colsample_bytree': 0.75, 'top_rate': 0.2, 'other_rate': 0.15000000000000002, 'scale_pos_weight': 3.2}. Best is trial 31 with value: 0.7106833573373275.\u001b[0m\n",
            "\u001b[32m[I 2022-09-30 23:03:56,748]\u001b[0m Trial 40 finished with value: 0.69778725074498 and parameters: {'learning_rate': 0.18000000000000002, 'reg_alpha': 58.800000000000004, 'reg_lambda': 198.9, 'num_leaves': 580, 'min_child_samples': 74, 'min_split_gain': 1.6300000000000001, 'colsample_bytree': 0.9, 'top_rate': 0.25, 'other_rate': 0.1, 'scale_pos_weight': 4.25}. Best is trial 31 with value: 0.7106833573373275.\u001b[0m\n",
            "\u001b[32m[I 2022-09-30 23:04:18,966]\u001b[0m Trial 41 finished with value: 0.7095109509242274 and parameters: {'learning_rate': 0.14, 'reg_alpha': 23.1, 'reg_lambda': 1.9000000000000001, 'num_leaves': 665, 'min_child_samples': 56, 'min_split_gain': 0.58, 'colsample_bytree': 0.8500000000000001, 'top_rate': 0.30000000000000004, 'other_rate': 0.2, 'scale_pos_weight': 2.55}. Best is trial 31 with value: 0.7106833573373275.\u001b[0m\n",
            "\u001b[32m[I 2022-09-30 23:04:37,118]\u001b[0m Trial 42 finished with value: 0.7047002052114658 and parameters: {'learning_rate': 0.16, 'reg_alpha': 26.5, 'reg_lambda': 22.3, 'num_leaves': 745, 'min_child_samples': 118, 'min_split_gain': 0.87, 'colsample_bytree': 0.8500000000000001, 'top_rate': 0.30000000000000004, 'other_rate': 0.2, 'scale_pos_weight': 2.7}. Best is trial 31 with value: 0.7106833573373275.\u001b[0m\n",
            "\u001b[32m[I 2022-09-30 23:04:54,382]\u001b[0m Trial 43 finished with value: 0.7075323248741787 and parameters: {'learning_rate': 0.18000000000000002, 'reg_alpha': 11.700000000000001, 'reg_lambda': 0.4, 'num_leaves': 635, 'min_child_samples': 56, 'min_split_gain': 0.04, 'colsample_bytree': 0.9, 'top_rate': 0.30000000000000004, 'other_rate': 0.15000000000000002, 'scale_pos_weight': 2.1}. Best is trial 31 with value: 0.7106833573373275.\u001b[0m\n",
            "\u001b[32m[I 2022-09-30 23:05:16,078]\u001b[0m Trial 44 finished with value: 0.7032297353566899 and parameters: {'learning_rate': 0.22, 'reg_alpha': 37.5, 'reg_lambda': 0.4, 'num_leaves': 470, 'min_child_samples': 60, 'min_split_gain': 0.02, 'colsample_bytree': 0.9, 'top_rate': 0.25, 'other_rate': 0.2, 'scale_pos_weight': 2.05}. Best is trial 31 with value: 0.7106833573373275.\u001b[0m\n",
            "\u001b[32m[I 2022-09-30 23:05:28,613]\u001b[0m Trial 45 finished with value: 0.6855587963272167 and parameters: {'learning_rate': 0.26, 'reg_alpha': 119.5, 'reg_lambda': 13.600000000000001, 'num_leaves': 665, 'min_child_samples': 132, 'min_split_gain': 1.55, 'colsample_bytree': 0.95, 'top_rate': 0.25, 'other_rate': 0.1, 'scale_pos_weight': 2.6500000000000004}. Best is trial 31 with value: 0.7106833573373275.\u001b[0m\n",
            "\u001b[32m[I 2022-09-30 23:05:45,587]\u001b[0m Trial 46 finished with value: 0.6993494951272179 and parameters: {'learning_rate': 0.19, 'reg_alpha': 9.200000000000001, 'reg_lambda': 9.0, 'num_leaves': 555, 'min_child_samples': 96, 'min_split_gain': 4.23, 'colsample_bytree': 0.8, 'top_rate': 0.30000000000000004, 'other_rate': 0.15000000000000002, 'scale_pos_weight': 2.5}. Best is trial 31 with value: 0.7106833573373275.\u001b[0m\n",
            "\u001b[32m[I 2022-09-30 23:06:04,520]\u001b[0m Trial 47 finished with value: 0.6818479543330768 and parameters: {'learning_rate': 0.18000000000000002, 'reg_alpha': 87.4, 'reg_lambda': 19.6, 'num_leaves': 820, 'min_child_samples': 268, 'min_split_gain': 0.97, 'colsample_bytree': 0.9, 'top_rate': 0.2, 'other_rate': 0.25, 'scale_pos_weight': 1.75}. Best is trial 31 with value: 0.7106833573373275.\u001b[0m\n",
            "\u001b[32m[I 2022-09-30 23:06:19,972]\u001b[0m Trial 48 finished with value: 0.6868250436295288 and parameters: {'learning_rate': 0.11, 'reg_alpha': 29.900000000000002, 'reg_lambda': 56.400000000000006, 'num_leaves': 750, 'min_child_samples': 32, 'min_split_gain': 12.040000000000001, 'colsample_bytree': 0.7, 'top_rate': 0.25, 'other_rate': 0.2, 'scale_pos_weight': 2.1}. Best is trial 31 with value: 0.7106833573373275.\u001b[0m\n",
            "\u001b[32m[I 2022-09-30 23:06:49,962]\u001b[0m Trial 49 finished with value: 0.7124308229843976 and parameters: {'learning_rate': 0.03, 'reg_alpha': 11.200000000000001, 'reg_lambda': 37.9, 'num_leaves': 265, 'min_child_samples': 76, 'min_split_gain': 2.71, 'colsample_bytree': 0.8500000000000001, 'top_rate': 0.15000000000000002, 'other_rate': 0.15000000000000002, 'scale_pos_weight': 2.8}. Best is trial 49 with value: 0.7124308229843976.\u001b[0m\n",
            "\u001b[32m[I 2022-09-30 23:07:38,662]\u001b[0m Trial 50 finished with value: 0.7119344088284152 and parameters: {'learning_rate': 0.02, 'reg_alpha': 9.8, 'reg_lambda': 38.7, 'num_leaves': 155, 'min_child_samples': 72, 'min_split_gain': 1.96, 'colsample_bytree': 0.95, 'top_rate': 0.1, 'other_rate': 0.2, 'scale_pos_weight': 3.15}. Best is trial 49 with value: 0.7124308229843976.\u001b[0m\n",
            "\u001b[32m[I 2022-09-30 23:08:22,662]\u001b[0m Trial 51 finished with value: 0.7164384719315076 and parameters: {'learning_rate': 0.02, 'reg_alpha': 11.8, 'reg_lambda': 0.0, 'num_leaves': 135, 'min_child_samples': 68, 'min_split_gain': 2.87, 'colsample_bytree': 0.95, 'top_rate': 0.1, 'other_rate': 0.2, 'scale_pos_weight': 3.2}. Best is trial 51 with value: 0.7164384719315076.\u001b[0m\n",
            "\u001b[32m[I 2022-09-30 23:09:54,116]\u001b[0m Trial 52 finished with value: 0.7125693933280639 and parameters: {'learning_rate': 0.01, 'reg_alpha': 9.3, 'reg_lambda': 38.400000000000006, 'num_leaves': 115, 'min_child_samples': 74, 'min_split_gain': 2.85, 'colsample_bytree': 0.95, 'top_rate': 0.1, 'other_rate': 0.25, 'scale_pos_weight': 3.6}. Best is trial 51 with value: 0.7164384719315076.\u001b[0m\n",
            "\u001b[32m[I 2022-09-30 23:10:48,652]\u001b[0m Trial 53 finished with value: 0.7111186418535499 and parameters: {'learning_rate': 0.02, 'reg_alpha': 10.0, 'reg_lambda': 63.0, 'num_leaves': 95, 'min_child_samples': 74, 'min_split_gain': 1.84, 'colsample_bytree': 0.95, 'top_rate': 0.1, 'other_rate': 0.2, 'scale_pos_weight': 3.5}. Best is trial 51 with value: 0.7164384719315076.\u001b[0m\n",
            "\u001b[32m[I 2022-09-30 23:11:55,162]\u001b[0m Trial 54 finished with value: 0.7109619207633784 and parameters: {'learning_rate': 0.01, 'reg_alpha': 10.9, 'reg_lambda': 63.6, 'num_leaves': 90, 'min_child_samples': 76, 'min_split_gain': 3.83, 'colsample_bytree': 0.95, 'top_rate': 0.1, 'other_rate': 0.25, 'scale_pos_weight': 3.6500000000000004}. Best is trial 51 with value: 0.7164384719315076.\u001b[0m\n",
            "\u001b[32m[I 2022-09-30 23:12:38,769]\u001b[0m Trial 55 finished with value: 0.7076360545573435 and parameters: {'learning_rate': 0.02, 'reg_alpha': 10.4, 'reg_lambda': 69.7, 'num_leaves': 75, 'min_child_samples': 80, 'min_split_gain': 3.95, 'colsample_bytree': 0.95, 'top_rate': 0.1, 'other_rate': 0.25, 'scale_pos_weight': 3.5500000000000003}. Best is trial 51 with value: 0.7164384719315076.\u001b[0m\n",
            "\u001b[32m[I 2022-09-30 23:12:49,368]\u001b[0m Trial 56 finished with value: 0.6364960350501858 and parameters: {'learning_rate': 0.01, 'reg_alpha': 8.5, 'reg_lambda': 63.2, 'num_leaves': 180, 'min_child_samples': 136, 'min_split_gain': 4.87, 'colsample_bytree': 0.95, 'top_rate': 0.1, 'other_rate': 0.25, 'scale_pos_weight': 3.95}. Best is trial 51 with value: 0.7164384719315076.\u001b[0m\n",
            "\u001b[32m[I 2022-09-30 23:13:12,745]\u001b[0m Trial 57 finished with value: 0.7014880841975959 and parameters: {'learning_rate': 0.04, 'reg_alpha': 47.7, 'reg_lambda': 53.7, 'num_leaves': 20, 'min_child_samples': 106, 'min_split_gain': 3.59, 'colsample_bytree': 0.95, 'top_rate': 0.15000000000000002, 'other_rate': 0.25, 'scale_pos_weight': 3.35}. Best is trial 51 with value: 0.7164384719315076.\u001b[0m\n",
            "\u001b[32m[I 2022-09-30 23:13:56,377]\u001b[0m Trial 58 finished with value: 0.7093811379186356 and parameters: {'learning_rate': 0.02, 'reg_alpha': 11.5, 'reg_lambda': 92.0, 'num_leaves': 220, 'min_child_samples': 76, 'min_split_gain': 3.0500000000000003, 'colsample_bytree': 0.95, 'top_rate': 0.15000000000000002, 'other_rate': 0.2, 'scale_pos_weight': 3.7}. Best is trial 51 with value: 0.7164384719315076.\u001b[0m\n",
            "\u001b[32m[I 2022-09-30 23:14:02,315]\u001b[0m Trial 59 finished with value: 0.5905697803399133 and parameters: {'learning_rate': 0.05, 'reg_alpha': 138.3, 'reg_lambda': 65.3, 'num_leaves': 120, 'min_child_samples': 124, 'min_split_gain': 1.94, 'colsample_bytree': 0.95, 'top_rate': 0.1, 'other_rate': 0.35000000000000003, 'scale_pos_weight': 4.4}. Best is trial 51 with value: 0.7164384719315076.\u001b[0m\n",
            "\u001b[32m[I 2022-09-30 23:14:32,166]\u001b[0m Trial 60 finished with value: 0.7028208704187673 and parameters: {'learning_rate': 0.03, 'reg_alpha': 37.7, 'reg_lambda': 39.1, 'num_leaves': 270, 'min_child_samples': 184, 'min_split_gain': 2.09, 'colsample_bytree': 0.9, 'top_rate': 0.1, 'other_rate': 0.25, 'scale_pos_weight': 3.15}. Best is trial 51 with value: 0.7164384719315076.\u001b[0m\n",
            "\u001b[32m[I 2022-09-30 23:15:35,237]\u001b[0m Trial 61 finished with value: 0.7075850441301478 and parameters: {'learning_rate': 0.01, 'reg_alpha': 31.8, 'reg_lambda': 50.400000000000006, 'num_leaves': 120, 'min_child_samples': 32, 'min_split_gain': 2.49, 'colsample_bytree': 0.95, 'top_rate': 0.15000000000000002, 'other_rate': 0.2, 'scale_pos_weight': 3.4000000000000004}. Best is trial 51 with value: 0.7164384719315076.\u001b[0m\n",
            "\u001b[32m[I 2022-09-30 23:15:59,473]\u001b[0m Trial 62 finished with value: 0.7068337318858846 and parameters: {'learning_rate': 0.06999999999999999, 'reg_alpha': 0.4, 'reg_lambda': 110.80000000000001, 'num_leaves': 75, 'min_child_samples': 106, 'min_split_gain': 3.4, 'colsample_bytree': 0.95, 'top_rate': 0.1, 'other_rate': 0.2, 'scale_pos_weight': 3.5500000000000003}. Best is trial 51 with value: 0.7164384719315076.\u001b[0m\n",
            "\u001b[32m[I 2022-09-30 23:16:34,852]\u001b[0m Trial 63 finished with value: 0.7018692616142688 and parameters: {'learning_rate': 0.04, 'reg_alpha': 24.3, 'reg_lambda': 84.0, 'num_leaves': 195, 'min_child_samples': 70, 'min_split_gain': 4.64, 'colsample_bytree': 0.95, 'top_rate': 0.15000000000000002, 'other_rate': 0.3, 'scale_pos_weight': 3.1}. Best is trial 51 with value: 0.7164384719315076.\u001b[0m\n",
            "\u001b[32m[I 2022-09-30 23:17:13,280]\u001b[0m Trial 64 finished with value: 0.7102086318284337 and parameters: {'learning_rate': 0.02, 'reg_alpha': 14.3, 'reg_lambda': 37.6, 'num_leaves': 60, 'min_child_samples': 46, 'min_split_gain': 3.89, 'colsample_bytree': 0.9, 'top_rate': 0.1, 'other_rate': 0.25, 'scale_pos_weight': 3.35}. Best is trial 51 with value: 0.7164384719315076.\u001b[0m\n",
            "\u001b[32m[I 2022-09-30 23:18:01,484]\u001b[0m Trial 65 finished with value: 0.7104929615633289 and parameters: {'learning_rate': 0.04, 'reg_alpha': 7.1000000000000005, 'reg_lambda': 61.800000000000004, 'num_leaves': 150, 'min_child_samples': 90, 'min_split_gain': 2.7600000000000002, 'colsample_bytree': 0.9, 'top_rate': 0.15000000000000002, 'other_rate': 0.5, 'scale_pos_weight': 3.95}. Best is trial 51 with value: 0.7164384719315076.\u001b[0m\n",
            "\u001b[32m[I 2022-09-30 23:18:20,529]\u001b[0m Trial 66 finished with value: 0.7022794373659269 and parameters: {'learning_rate': 0.060000000000000005, 'reg_alpha': 52.2, 'reg_lambda': 94.7, 'num_leaves': 170, 'min_child_samples': 142, 'min_split_gain': 1.99, 'colsample_bytree': 0.95, 'top_rate': 0.1, 'other_rate': 0.2, 'scale_pos_weight': 3.75}. Best is trial 51 with value: 0.7164384719315076.\u001b[0m\n",
            "\u001b[32m[I 2022-09-30 23:19:24,459]\u001b[0m Trial 67 finished with value: 0.7060795318932003 and parameters: {'learning_rate': 0.01, 'reg_alpha': 23.0, 'reg_lambda': 46.5, 'num_leaves': 310, 'min_child_samples': 36, 'min_split_gain': 5.5600000000000005, 'colsample_bytree': 0.7, 'top_rate': 0.15000000000000002, 'other_rate': 0.3, 'scale_pos_weight': 3.6}. Best is trial 51 with value: 0.7164384719315076.\u001b[0m\n",
            "\u001b[32m[I 2022-09-30 23:20:02,049]\u001b[0m Trial 68 finished with value: 0.7068450977565577 and parameters: {'learning_rate': 0.03, 'reg_alpha': 32.6, 'reg_lambda': 72.3, 'num_leaves': 245, 'min_child_samples': 20, 'min_split_gain': 1.61, 'colsample_bytree': 0.95, 'top_rate': 0.1, 'other_rate': 0.2, 'scale_pos_weight': 2.85}. Best is trial 51 with value: 0.7164384719315076.\u001b[0m\n",
            "\u001b[32m[I 2022-09-30 23:20:26,580]\u001b[0m Trial 69 finished with value: 0.7139716676434608 and parameters: {'learning_rate': 0.060000000000000005, 'reg_alpha': 4.7, 'reg_lambda': 25.3, 'num_leaves': 110, 'min_child_samples': 62, 'min_split_gain': 3.0100000000000002, 'colsample_bytree': 0.9, 'top_rate': 0.1, 'other_rate': 0.25, 'scale_pos_weight': 3.4000000000000004}. Best is trial 51 with value: 0.7164384719315076.\u001b[0m\n",
            "\u001b[32m[I 2022-09-30 23:20:50,999]\u001b[0m Trial 70 finished with value: 0.7074339781445614 and parameters: {'learning_rate': 0.060000000000000005, 'reg_alpha': 3.3000000000000003, 'reg_lambda': 37.7, 'num_leaves': 110, 'min_child_samples': 106, 'min_split_gain': 8.52, 'colsample_bytree': 0.9, 'top_rate': 0.1, 'other_rate': 0.25, 'scale_pos_weight': 4.15}. Best is trial 51 with value: 0.7164384719315076.\u001b[0m\n",
            "\u001b[32m[I 2022-09-30 23:21:35,616]\u001b[0m Trial 71 finished with value: 0.7102114930993612 and parameters: {'learning_rate': 0.02, 'reg_alpha': 15.9, 'reg_lambda': 22.5, 'num_leaves': 35, 'min_child_samples': 68, 'min_split_gain': 3.1, 'colsample_bytree': 0.95, 'top_rate': 0.15000000000000002, 'other_rate': 0.25, 'scale_pos_weight': 3.0500000000000003}. Best is trial 51 with value: 0.7164384719315076.\u001b[0m\n",
            "\u001b[32m[I 2022-09-30 23:22:07,469]\u001b[0m Trial 72 finished with value: 0.7102126497397567 and parameters: {'learning_rate': 0.04, 'reg_alpha': 6.7, 'reg_lambda': 26.700000000000003, 'num_leaves': 95, 'min_child_samples': 52, 'min_split_gain': 2.65, 'colsample_bytree': 0.9, 'top_rate': 0.1, 'other_rate': 0.2, 'scale_pos_weight': 3.3000000000000003}. Best is trial 51 with value: 0.7164384719315076.\u001b[0m\n",
            "\u001b[32m[I 2022-09-30 23:22:33,969]\u001b[0m Trial 73 finished with value: 0.7113263891066615 and parameters: {'learning_rate': 0.03, 'reg_alpha': 20.400000000000002, 'reg_lambda': 12.700000000000001, 'num_leaves': 145, 'min_child_samples': 88, 'min_split_gain': 3.88, 'colsample_bytree': 0.9, 'top_rate': 0.1, 'other_rate': 0.15000000000000002, 'scale_pos_weight': 3.45}. Best is trial 51 with value: 0.7164384719315076.\u001b[0m\n",
            "\u001b[32m[I 2022-09-30 23:23:20,513]\u001b[0m Trial 74 finished with value: 0.7178038346401995 and parameters: {'learning_rate': 0.03, 'reg_alpha': 0.2, 'reg_lambda': 12.200000000000001, 'num_leaves': 150, 'min_child_samples': 86, 'min_split_gain': 4.26, 'colsample_bytree': 0.9, 'top_rate': 0.1, 'other_rate': 0.3, 'scale_pos_weight': 3.85}. Best is trial 74 with value: 0.7178038346401995.\u001b[0m\n",
            "\u001b[32m[I 2022-09-30 23:23:59,785]\u001b[0m Trial 75 finished with value: 0.7185956183011696 and parameters: {'learning_rate': 0.05, 'reg_alpha': 0.1, 'reg_lambda': 10.600000000000001, 'num_leaves': 140, 'min_child_samples': 86, 'min_split_gain': 4.25, 'colsample_bytree': 0.9, 'top_rate': 0.15000000000000002, 'other_rate': 0.3, 'scale_pos_weight': 3.85}. Best is trial 75 with value: 0.7185956183011696.\u001b[0m\n",
            "\u001b[32m[I 2022-09-30 23:24:35,733]\u001b[0m Trial 76 finished with value: 0.7091658382895152 and parameters: {'learning_rate': 0.05, 'reg_alpha': 4.2, 'reg_lambda': 10.200000000000001, 'num_leaves': 150, 'min_child_samples': 150, 'min_split_gain': 6.47, 'colsample_bytree': 0.9, 'top_rate': 0.15000000000000002, 'other_rate': 0.35000000000000003, 'scale_pos_weight': 3.85}. Best is trial 75 with value: 0.7185956183011696.\u001b[0m\n",
            "\u001b[32m[I 2022-09-30 23:24:51,447]\u001b[0m Trial 77 finished with value: 0.6575554888120756 and parameters: {'learning_rate': 0.08, 'reg_alpha': 155.10000000000002, 'reg_lambda': 17.400000000000002, 'num_leaves': 200, 'min_child_samples': 94, 'min_split_gain': 4.45, 'colsample_bytree': 0.9, 'top_rate': 0.15000000000000002, 'other_rate': 0.3, 'scale_pos_weight': 4.15}. Best is trial 75 with value: 0.7185956183011696.\u001b[0m\n",
            "\u001b[32m[I 2022-09-30 23:25:30,595]\u001b[0m Trial 78 finished with value: 0.708276038825077 and parameters: {'learning_rate': 0.03, 'reg_alpha': 0.30000000000000004, 'reg_lambda': 9.3, 'num_leaves': 365, 'min_child_samples': 192, 'min_split_gain': 5.2700000000000005, 'colsample_bytree': 0.9, 'top_rate': 0.1, 'other_rate': 0.3, 'scale_pos_weight': 3.45}. Best is trial 75 with value: 0.7185956183011696.\u001b[0m\n",
            "\u001b[32m[I 2022-09-30 23:25:59,536]\u001b[0m Trial 79 finished with value: 0.7052226848161346 and parameters: {'learning_rate': 0.06999999999999999, 'reg_alpha': 20.6, 'reg_lambda': 18.3, 'num_leaves': 225, 'min_child_samples': 120, 'min_split_gain': 3.31, 'colsample_bytree': 0.9, 'top_rate': 0.15000000000000002, 'other_rate': 0.4, 'scale_pos_weight': 4.75}. Best is trial 75 with value: 0.7185956183011696.\u001b[0m\n",
            "\u001b[32m[I 2022-09-30 23:26:24,580]\u001b[0m Trial 80 finished with value: 0.7085339221425688 and parameters: {'learning_rate': 0.05, 'reg_alpha': 16.3, 'reg_lambda': 27.400000000000002, 'num_leaves': 140, 'min_child_samples': 96, 'min_split_gain': 4.19, 'colsample_bytree': 0.8500000000000001, 'top_rate': 0.2, 'other_rate': 0.35000000000000003, 'scale_pos_weight': 3.9000000000000004}. Best is trial 75 with value: 0.7185956183011696.\u001b[0m\n",
            "\u001b[32m[I 2022-09-30 23:27:12,283]\u001b[0m Trial 81 finished with value: 0.714602729462517 and parameters: {'learning_rate': 0.02, 'reg_alpha': 9.700000000000001, 'reg_lambda': 34.300000000000004, 'num_leaves': 50, 'min_child_samples': 64, 'min_split_gain': 2.36, 'colsample_bytree': 0.95, 'top_rate': 0.1, 'other_rate': 0.3, 'scale_pos_weight': 3.25}. Best is trial 75 with value: 0.7185956183011696.\u001b[0m\n",
            "\u001b[32m[I 2022-09-30 23:27:59,725]\u001b[0m Trial 82 finished with value: 0.7121577220525371 and parameters: {'learning_rate': 0.03, 'reg_alpha': 6.4, 'reg_lambda': 34.300000000000004, 'num_leaves': 50, 'min_child_samples': 86, 'min_split_gain': 2.36, 'colsample_bytree': 0.9, 'top_rate': 0.1, 'other_rate': 0.3, 'scale_pos_weight': 3.25}. Best is trial 75 with value: 0.7185956183011696.\u001b[0m\n",
            "\u001b[32m[I 2022-09-30 23:28:47,482]\u001b[0m Trial 83 finished with value: 0.7184430538581418 and parameters: {'learning_rate': 0.04, 'reg_alpha': 3.7, 'reg_lambda': 34.0, 'num_leaves': 55, 'min_child_samples': 24, 'min_split_gain': 2.39, 'colsample_bytree': 0.95, 'top_rate': 0.1, 'other_rate': 0.35000000000000003, 'scale_pos_weight': 3.25}. Best is trial 75 with value: 0.7185956183011696.\u001b[0m\n",
            "\u001b[32m[I 2022-09-30 23:29:22,860]\u001b[0m Trial 84 finished with value: 0.7128143697795172 and parameters: {'learning_rate': 0.04, 'reg_alpha': 6.7, 'reg_lambda': 33.800000000000004, 'num_leaves': 45, 'min_child_samples': 22, 'min_split_gain': 2.36, 'colsample_bytree': 0.9, 'top_rate': 0.1, 'other_rate': 0.35000000000000003, 'scale_pos_weight': 3.25}. Best is trial 75 with value: 0.7185956183011696.\u001b[0m\n",
            "\u001b[32m[I 2022-09-30 23:29:52,883]\u001b[0m Trial 85 finished with value: 0.7181220971885721 and parameters: {'learning_rate': 0.060000000000000005, 'reg_alpha': 0.1, 'reg_lambda': 27.0, 'num_leaves': 60, 'min_child_samples': 16, 'min_split_gain': 1.36, 'colsample_bytree': 0.55, 'top_rate': 0.15000000000000002, 'other_rate': 0.35000000000000003, 'scale_pos_weight': 2.8}. Best is trial 75 with value: 0.7185956183011696.\u001b[0m\n",
            "\u001b[32m[I 2022-09-30 23:30:23,602]\u001b[0m Trial 86 finished with value: 0.7142258674500985 and parameters: {'learning_rate': 0.08, 'reg_alpha': 0.30000000000000004, 'reg_lambda': 25.8, 'num_leaves': 45, 'min_child_samples': 18, 'min_split_gain': 1.22, 'colsample_bytree': 0.55, 'top_rate': 0.1, 'other_rate': 0.35000000000000003, 'scale_pos_weight': 4.1}. Best is trial 75 with value: 0.7185956183011696.\u001b[0m\n",
            "\u001b[32m[I 2022-09-30 23:30:29,208]\u001b[0m Trial 87 finished with value: 0.5863358491469005 and parameters: {'learning_rate': 0.09, 'reg_alpha': 198.9, 'reg_lambda': 25.8, 'num_leaves': 40, 'min_child_samples': 18, 'min_split_gain': 1.31, 'colsample_bytree': 0.55, 'top_rate': 0.15000000000000002, 'other_rate': 0.35000000000000003, 'scale_pos_weight': 4.4}. Best is trial 75 with value: 0.7185956183011696.\u001b[0m\n",
            "\u001b[32m[I 2022-09-30 23:31:02,366]\u001b[0m Trial 88 finished with value: 0.7192733671359889 and parameters: {'learning_rate': 0.060000000000000005, 'reg_alpha': 0.2, 'reg_lambda': 5.5, 'num_leaves': 75, 'min_child_samples': 24, 'min_split_gain': 1.32, 'colsample_bytree': 0.55, 'top_rate': 0.1, 'other_rate': 0.4, 'scale_pos_weight': 4.1}. Best is trial 88 with value: 0.7192733671359889.\u001b[0m\n",
            "\u001b[32m[I 2022-09-30 23:31:49,883]\u001b[0m Trial 89 finished with value: 0.7167521013248036 and parameters: {'learning_rate': 0.060000000000000005, 'reg_alpha': 4.800000000000001, 'reg_lambda': 6.2, 'num_leaves': 70, 'min_child_samples': 42, 'min_split_gain': 0.63, 'colsample_bytree': 0.5, 'top_rate': 0.1, 'other_rate': 0.4, 'scale_pos_weight': 4.1}. Best is trial 88 with value: 0.7192733671359889.\u001b[0m\n",
            "\u001b[32m[I 2022-09-30 23:32:12,409]\u001b[0m Trial 90 finished with value: 0.7185729745526583 and parameters: {'learning_rate': 0.08, 'reg_alpha': 0.0, 'reg_lambda': 6.9, 'num_leaves': 20, 'min_child_samples': 42, 'min_split_gain': 1.23, 'colsample_bytree': 0.5, 'top_rate': 0.15000000000000002, 'other_rate': 0.45, 'scale_pos_weight': 4.5}. Best is trial 88 with value: 0.7192733671359889.\u001b[0m\n",
            "\u001b[32m[I 2022-09-30 23:32:38,949]\u001b[0m Trial 91 finished with value: 0.7123559420867599 and parameters: {'learning_rate': 0.09, 'reg_alpha': 0.1, 'reg_lambda': 5.9, 'num_leaves': 75, 'min_child_samples': 40, 'min_split_gain': 1.21, 'colsample_bytree': 0.5, 'top_rate': 0.2, 'other_rate': 0.45, 'scale_pos_weight': 5.0}. Best is trial 88 with value: 0.7192733671359889.\u001b[0m\n",
            "\u001b[32m[I 2022-09-30 23:33:13,229]\u001b[0m Trial 92 finished with value: 0.7131519665889244 and parameters: {'learning_rate': 0.08, 'reg_alpha': 15.100000000000001, 'reg_lambda': 17.400000000000002, 'num_leaves': 55, 'min_child_samples': 26, 'min_split_gain': 0.71, 'colsample_bytree': 0.55, 'top_rate': 0.1, 'other_rate': 0.4, 'scale_pos_weight': 4.5}. Best is trial 88 with value: 0.7192733671359889.\u001b[0m\n",
            "\u001b[32m[I 2022-09-30 23:33:46,113]\u001b[0m Trial 93 finished with value: 0.7175086451763756 and parameters: {'learning_rate': 0.060000000000000005, 'reg_alpha': 0.8, 'reg_lambda': 8.1, 'num_leaves': 30, 'min_child_samples': 48, 'min_split_gain': 1.28, 'colsample_bytree': 0.5, 'top_rate': 0.15000000000000002, 'other_rate': 0.4, 'scale_pos_weight': 4.050000000000001}. Best is trial 88 with value: 0.7192733671359889.\u001b[0m\n",
            "\u001b[32m[I 2022-09-30 23:34:19,987]\u001b[0m Trial 94 finished with value: 0.719665851554437 and parameters: {'learning_rate': 0.060000000000000005, 'reg_alpha': 4.6000000000000005, 'reg_lambda': 5.6000000000000005, 'num_leaves': 25, 'min_child_samples': 48, 'min_split_gain': 0.55, 'colsample_bytree': 0.5, 'top_rate': 0.15000000000000002, 'other_rate': 0.45, 'scale_pos_weight': 4.300000000000001}. Best is trial 94 with value: 0.719665851554437.\u001b[0m\n",
            "\u001b[32m[I 2022-09-30 23:34:53,688]\u001b[0m Trial 95 finished with value: 0.7168066361196509 and parameters: {'learning_rate': 0.06999999999999999, 'reg_alpha': 4.0, 'reg_lambda': 5.800000000000001, 'num_leaves': 30, 'min_child_samples': 50, 'min_split_gain': 0.63, 'colsample_bytree': 0.5, 'top_rate': 0.15000000000000002, 'other_rate': 0.45, 'scale_pos_weight': 4.050000000000001}. Best is trial 94 with value: 0.719665851554437.\u001b[0m\n",
            "\u001b[32m[I 2022-09-30 23:35:32,236]\u001b[0m Trial 96 finished with value: 0.7164846417147075 and parameters: {'learning_rate': 0.060000000000000005, 'reg_alpha': 4.0, 'reg_lambda': 6.2, 'num_leaves': 20, 'min_child_samples': 46, 'min_split_gain': 0.38, 'colsample_bytree': 0.5, 'top_rate': 0.2, 'other_rate': 0.45, 'scale_pos_weight': 4.050000000000001}. Best is trial 94 with value: 0.719665851554437.\u001b[0m\n",
            "\u001b[32m[I 2022-09-30 23:35:56,259]\u001b[0m Trial 97 finished with value: 0.7085445704321702 and parameters: {'learning_rate': 0.06999999999999999, 'reg_alpha': 25.0, 'reg_lambda': 12.100000000000001, 'num_leaves': 20, 'min_child_samples': 0, 'min_split_gain': 0.75, 'colsample_bytree': 0.5, 'top_rate': 0.15000000000000002, 'other_rate': 0.4, 'scale_pos_weight': 4.300000000000001}. Best is trial 94 with value: 0.719665851554437.\u001b[0m\n",
            "\u001b[32m[I 2022-09-30 23:36:23,853]\u001b[0m Trial 98 finished with value: 0.7109215310931581 and parameters: {'learning_rate': 0.09999999999999999, 'reg_alpha': 15.100000000000001, 'reg_lambda': 5.9, 'num_leaves': 80, 'min_child_samples': 48, 'min_split_gain': 0.5, 'colsample_bytree': 0.5, 'top_rate': 0.15000000000000002, 'other_rate': 0.5, 'scale_pos_weight': 4.5}. Best is trial 94 with value: 0.719665851554437.\u001b[0m\n",
            "\u001b[32m[I 2022-09-30 23:36:54,622]\u001b[0m Trial 99 finished with value: 0.7159429948721012 and parameters: {'learning_rate': 0.06999999999999999, 'reg_alpha': 4.1000000000000005, 'reg_lambda': 19.0, 'num_leaves': 95, 'min_child_samples': 12, 'min_split_gain': 1.34, 'colsample_bytree': 0.5, 'top_rate': 0.2, 'other_rate': 0.45, 'scale_pos_weight': 4.25}. Best is trial 94 with value: 0.719665851554437.\u001b[0m\n"
          ]
        },
        {
          "output_type": "stream",
          "name": "stdout",
          "text": [
            "Best trial: 94 -> Best value(F1): 0.71967\n",
            "Best hyperparameters:\n",
            "learning_rate        - 0.060000000000000005\n",
            "reg_alpha            - 4.6000000000000005\n",
            "reg_lambda           - 5.6000000000000005\n",
            "num_leaves           - 25\n",
            "min_child_samples    - 48\n",
            "min_split_gain       - 0.55\n",
            "colsample_bytree     - 0.5\n",
            "top_rate             - 0.15000000000000002\n",
            "other_rate           - 0.45\n",
            "scale_pos_weight     - 4.300000000000001\n",
            "-----------------Cross-validation------------------\n",
            "Fold #0: (1896 rounds) F1 = 0.69111\n",
            "Fold #1: (1885 rounds) F1 = 0.72297\n",
            "Fold #2: (1769 rounds) F1 = 0.70467\n",
            "Fold #3: (2128 rounds) F1 = 0.74410\n",
            "Fold #4: (2421 rounds) F1 = 0.73547\n",
            "\n",
            "Avg F1 = 0.71967 +/- 0.01948\n",
            "CPU times: user 1h 27min 29s, sys: 55.4 s, total: 1h 28min 25s\n",
            "Wall time: 47min\n"
          ]
        }
      ]
    },
    {
      "cell_type": "code",
      "source": [
        "create_submission_files(test_preds_2, 2)"
      ],
      "metadata": {
        "id": "uwOrqq9Pzeq3"
      },
      "execution_count": 26,
      "outputs": []
    },
    {
      "cell_type": "markdown",
      "source": [
        "### Experiment 3: All features"
      ],
      "metadata": {
        "id": "uONb5uPwLLDK"
      }
    },
    {
      "cell_type": "code",
      "source": [
        "%%time\n",
        "oof_probs['4_3'], test_preds_3 = run_experiment(\n",
        "    data=(train_agg, test_agg, TARGET),\n",
        "    n_trials=100\n",
        ")"
      ],
      "metadata": {
        "id": "TFtYVWrNLKRP",
        "colab": {
          "base_uri": "https://localhost:8080/"
        },
        "outputId": "1309cc6f-25e6-4454-bac3-48984979d99c"
      },
      "execution_count": 34,
      "outputs": [
        {
          "output_type": "stream",
          "name": "stderr",
          "text": [
            "\u001b[32m[I 2022-09-30 23:59:49,454]\u001b[0m A new study created in memory with name: no-name-06e5f67d-7c3e-4135-af3f-eb600c4d699c\u001b[0m\n"
          ]
        },
        {
          "output_type": "stream",
          "name": "stdout",
          "text": [
            "---------------Hyperparameter tuning---------------\n"
          ]
        },
        {
          "output_type": "stream",
          "name": "stderr",
          "text": [
            "\u001b[32m[I 2022-10-01 00:00:02,212]\u001b[0m Trial 0 finished with value: 0.6348873850997755 and parameters: {'learning_rate': 0.16, 'reg_alpha': 189.4, 'reg_lambda': 153.1, 'num_leaves': 295, 'min_child_samples': 110, 'min_split_gain': 10.3, 'colsample_bytree': 0.55, 'top_rate': 0.25, 'other_rate': 0.35000000000000003, 'scale_pos_weight': 2.6500000000000004}. Best is trial 0 with value: 0.6348873850997755.\u001b[0m\n",
            "\u001b[32m[I 2022-10-01 00:00:58,297]\u001b[0m Trial 1 finished with value: 0.6437631944129582 and parameters: {'learning_rate': 0.01, 'reg_alpha': 176.8, 'reg_lambda': 177.0, 'num_leaves': 315, 'min_child_samples': 294, 'min_split_gain': 14.68, 'colsample_bytree': 0.9, 'top_rate': 0.1, 'other_rate': 0.15000000000000002, 'scale_pos_weight': 2.1500000000000004}. Best is trial 1 with value: 0.6437631944129582.\u001b[0m\n",
            "\u001b[32m[I 2022-10-01 00:01:13,095]\u001b[0m Trial 2 finished with value: 0.6617946013981475 and parameters: {'learning_rate': 0.25, 'reg_alpha': 125.2, 'reg_lambda': 22.1, 'num_leaves': 20, 'min_child_samples': 472, 'min_split_gain': 2.12, 'colsample_bytree': 0.7, 'top_rate': 0.25, 'other_rate': 0.45, 'scale_pos_weight': 2.7}. Best is trial 2 with value: 0.6617946013981475.\u001b[0m\n",
            "\u001b[32m[I 2022-10-01 00:01:31,780]\u001b[0m Trial 3 finished with value: 0.6796420221218769 and parameters: {'learning_rate': 0.25, 'reg_alpha': 143.6, 'reg_lambda': 23.8, 'num_leaves': 605, 'min_child_samples': 64, 'min_split_gain': 1.16, 'colsample_bytree': 0.9, 'top_rate': 0.30000000000000004, 'other_rate': 0.1, 'scale_pos_weight': 3.2}. Best is trial 3 with value: 0.6796420221218769.\u001b[0m\n",
            "\u001b[32m[I 2022-10-01 00:01:43,625]\u001b[0m Trial 4 finished with value: 0.5925560850143267 and parameters: {'learning_rate': 0.18000000000000002, 'reg_alpha': 154.70000000000002, 'reg_lambda': 131.20000000000002, 'num_leaves': 565, 'min_child_samples': 88, 'min_split_gain': 3.61, 'colsample_bytree': 0.75, 'top_rate': 0.25, 'other_rate': 0.25, 'scale_pos_weight': 4.85}. Best is trial 3 with value: 0.6796420221218769.\u001b[0m\n",
            "\u001b[32m[I 2022-10-01 00:02:02,050]\u001b[0m Trial 5 finished with value: 0.6675012967175423 and parameters: {'learning_rate': 0.28, 'reg_alpha': 101.2, 'reg_lambda': 164.20000000000002, 'num_leaves': 835, 'min_child_samples': 116, 'min_split_gain': 1.18, 'colsample_bytree': 0.7, 'top_rate': 0.45000000000000007, 'other_rate': 0.1, 'scale_pos_weight': 1.9}. Best is trial 3 with value: 0.6796420221218769.\u001b[0m\n",
            "\u001b[32m[I 2022-10-01 00:02:14,933]\u001b[0m Trial 6 finished with value: 0.6728695392008801 and parameters: {'learning_rate': 0.28, 'reg_alpha': 25.8, 'reg_lambda': 183.3, 'num_leaves': 250, 'min_child_samples': 308, 'min_split_gain': 14.280000000000001, 'colsample_bytree': 0.6, 'top_rate': 0.30000000000000004, 'other_rate': 0.5, 'scale_pos_weight': 1.9500000000000002}. Best is trial 3 with value: 0.6796420221218769.\u001b[0m\n",
            "\u001b[32m[I 2022-10-01 00:02:23,123]\u001b[0m Trial 7 finished with value: 0.6110641680512187 and parameters: {'learning_rate': 0.060000000000000005, 'reg_alpha': 137.6, 'reg_lambda': 169.0, 'num_leaves': 465, 'min_child_samples': 50, 'min_split_gain': 9.34, 'colsample_bytree': 0.5, 'top_rate': 0.1, 'other_rate': 0.2, 'scale_pos_weight': 4.65}. Best is trial 3 with value: 0.6796420221218769.\u001b[0m\n",
            "\u001b[32m[I 2022-10-01 00:02:37,409]\u001b[0m Trial 8 finished with value: 0.6794942305215489 and parameters: {'learning_rate': 0.24000000000000002, 'reg_alpha': 76.80000000000001, 'reg_lambda': 18.5, 'num_leaves': 140, 'min_child_samples': 268, 'min_split_gain': 7.61, 'colsample_bytree': 0.75, 'top_rate': 0.15000000000000002, 'other_rate': 0.4, 'scale_pos_weight': 3.4000000000000004}. Best is trial 3 with value: 0.6796420221218769.\u001b[0m\n",
            "\u001b[32m[I 2022-10-01 00:02:55,251]\u001b[0m Trial 9 finished with value: 0.682145172009703 and parameters: {'learning_rate': 0.23, 'reg_alpha': 91.9, 'reg_lambda': 14.8, 'num_leaves': 610, 'min_child_samples': 218, 'min_split_gain': 0.09, 'colsample_bytree': 0.5, 'top_rate': 0.25, 'other_rate': 0.45, 'scale_pos_weight': 2.75}. Best is trial 9 with value: 0.682145172009703.\u001b[0m\n",
            "\u001b[32m[I 2022-10-01 00:03:30,126]\u001b[0m Trial 10 finished with value: 0.7020207243126756 and parameters: {'learning_rate': 0.11, 'reg_alpha': 34.2, 'reg_lambda': 77.80000000000001, 'num_leaves': 965, 'min_child_samples': 406, 'min_split_gain': 4.53, 'colsample_bytree': 0.6, 'top_rate': 0.5, 'other_rate': 0.35000000000000003, 'scale_pos_weight': 3.95}. Best is trial 10 with value: 0.7020207243126756.\u001b[0m\n",
            "\u001b[32m[I 2022-10-01 00:03:59,293]\u001b[0m Trial 11 finished with value: 0.7015875500206926 and parameters: {'learning_rate': 0.09999999999999999, 'reg_alpha': 2.9000000000000004, 'reg_lambda': 70.3, 'num_leaves': 975, 'min_child_samples': 432, 'min_split_gain': 5.08, 'colsample_bytree': 0.6, 'top_rate': 0.5, 'other_rate': 0.35000000000000003, 'scale_pos_weight': 1.0}. Best is trial 10 with value: 0.7020207243126756.\u001b[0m\n",
            "\u001b[32m[I 2022-10-01 00:04:27,820]\u001b[0m Trial 12 finished with value: 0.705034527549505 and parameters: {'learning_rate': 0.09999999999999999, 'reg_alpha': 0.1, 'reg_lambda': 77.60000000000001, 'num_leaves': 990, 'min_child_samples': 462, 'min_split_gain': 5.08, 'colsample_bytree': 0.6, 'top_rate': 0.5, 'other_rate': 0.3, 'scale_pos_weight': 1.2}. Best is trial 12 with value: 0.705034527549505.\u001b[0m\n",
            "\u001b[32m[I 2022-10-01 00:04:51,663]\u001b[0m Trial 13 finished with value: 0.6939301692977821 and parameters: {'learning_rate': 0.11, 'reg_alpha': 45.900000000000006, 'reg_lambda': 81.60000000000001, 'num_leaves': 990, 'min_child_samples': 400, 'min_split_gain': 5.51, 'colsample_bytree': 0.65, 'top_rate': 0.4, 'other_rate': 0.3, 'scale_pos_weight': 4.0}. Best is trial 12 with value: 0.705034527549505.\u001b[0m\n",
            "\u001b[32m[I 2022-10-01 00:05:22,501]\u001b[0m Trial 14 finished with value: 0.6945203943074786 and parameters: {'learning_rate': 0.12, 'reg_alpha': 47.6, 'reg_lambda': 109.30000000000001, 'num_leaves': 790, 'min_child_samples': 354, 'min_split_gain': 6.22, 'colsample_bytree': 0.8, 'top_rate': 0.4, 'other_rate': 0.25, 'scale_pos_weight': 4.0}. Best is trial 12 with value: 0.705034527549505.\u001b[0m\n",
            "\u001b[32m[I 2022-10-01 00:06:03,004]\u001b[0m Trial 15 finished with value: 0.7037546127309016 and parameters: {'learning_rate': 0.060000000000000005, 'reg_alpha': 0.8, 'reg_lambda': 60.2, 'num_leaves': 815, 'min_child_samples': 498, 'min_split_gain': 3.84, 'colsample_bytree': 0.6, 'top_rate': 0.5, 'other_rate': 0.3, 'scale_pos_weight': 1.0}. Best is trial 12 with value: 0.705034527549505.\u001b[0m\n",
            "\u001b[32m[I 2022-10-01 00:06:39,241]\u001b[0m Trial 16 finished with value: 0.7010724592791125 and parameters: {'learning_rate': 0.04, 'reg_alpha': 0.2, 'reg_lambda': 60.5, 'num_leaves': 785, 'min_child_samples': 494, 'min_split_gain': 7.7, 'colsample_bytree': 0.65, 'top_rate': 0.4, 'other_rate': 0.2, 'scale_pos_weight': 1.0}. Best is trial 12 with value: 0.705034527549505.\u001b[0m\n",
            "\u001b[32m[I 2022-10-01 00:07:13,097]\u001b[0m Trial 17 finished with value: 0.6680902301987242 and parameters: {'learning_rate': 0.06999999999999999, 'reg_alpha': 74.5, 'reg_lambda': 46.0, 'num_leaves': 710, 'min_child_samples': 190, 'min_split_gain': 3.29, 'colsample_bytree': 0.55, 'top_rate': 0.45000000000000007, 'other_rate': 0.3, 'scale_pos_weight': 1.5}. Best is trial 12 with value: 0.705034527549505.\u001b[0m\n",
            "\u001b[32m[I 2022-10-01 00:09:21,154]\u001b[0m Trial 18 finished with value: 0.6892116879966975 and parameters: {'learning_rate': 0.01, 'reg_alpha': 19.1, 'reg_lambda': 104.4, 'num_leaves': 880, 'min_child_samples': 356, 'min_split_gain': 11.13, 'colsample_bytree': 0.8, 'top_rate': 0.5, 'other_rate': 0.05, 'scale_pos_weight': 1.5}. Best is trial 12 with value: 0.705034527549505.\u001b[0m\n",
            "\u001b[32m[I 2022-10-01 00:09:40,121]\u001b[0m Trial 19 finished with value: 0.6792878169399407 and parameters: {'learning_rate': 0.19, 'reg_alpha': 58.0, 'reg_lambda': 46.800000000000004, 'num_leaves': 455, 'min_child_samples': 456, 'min_split_gain': 3.23, 'colsample_bytree': 0.65, 'top_rate': 0.35, 'other_rate': 0.2, 'scale_pos_weight': 1.4}. Best is trial 12 with value: 0.705034527549505.\u001b[0m\n",
            "\u001b[32m[I 2022-10-01 00:09:58,863]\u001b[0m Trial 20 finished with value: 0.693358648641916 and parameters: {'learning_rate': 0.14, 'reg_alpha': 12.0, 'reg_lambda': 135.8, 'num_leaves': 720, 'min_child_samples': 498, 'min_split_gain': 6.37, 'colsample_bytree': 0.55, 'top_rate': 0.45000000000000007, 'other_rate': 0.3, 'scale_pos_weight': 2.25}. Best is trial 12 with value: 0.705034527549505.\u001b[0m\n",
            "\u001b[32m[I 2022-10-01 00:10:32,606]\u001b[0m Trial 21 finished with value: 0.6989012723319569 and parameters: {'learning_rate': 0.08, 'reg_alpha': 33.800000000000004, 'reg_lambda': 86.4, 'num_leaves': 905, 'min_child_samples': 400, 'min_split_gain': 4.34, 'colsample_bytree': 0.6, 'top_rate': 0.5, 'other_rate': 0.35000000000000003, 'scale_pos_weight': 3.7}. Best is trial 12 with value: 0.705034527549505.\u001b[0m\n",
            "\u001b[32m[I 2022-10-01 00:11:18,504]\u001b[0m Trial 22 finished with value: 0.6933423250748947 and parameters: {'learning_rate': 0.04, 'reg_alpha': 23.1, 'reg_lambda': 49.5, 'num_leaves': 995, 'min_child_samples': 428, 'min_split_gain': 4.42, 'colsample_bytree': 0.6, 'top_rate': 0.5, 'other_rate': 0.35000000000000003, 'scale_pos_weight': 1.25}. Best is trial 12 with value: 0.705034527549505.\u001b[0m\n",
            "\u001b[32m[I 2022-10-01 00:11:42,939]\u001b[0m Trial 23 finished with value: 0.6930872867995561 and parameters: {'learning_rate': 0.09, 'reg_alpha': 38.6, 'reg_lambda': 89.5, 'num_leaves': 910, 'min_child_samples': 352, 'min_split_gain': 8.620000000000001, 'colsample_bytree': 0.5, 'top_rate': 0.45000000000000007, 'other_rate': 0.4, 'scale_pos_weight': 4.35}. Best is trial 12 with value: 0.705034527549505.\u001b[0m\n",
            "\u001b[32m[I 2022-10-01 00:12:11,430]\u001b[0m Trial 24 finished with value: 0.7040964150350338 and parameters: {'learning_rate': 0.13, 'reg_alpha': 1.9000000000000001, 'reg_lambda': 112.9, 'num_leaves': 690, 'min_child_samples': 390, 'min_split_gain': 2.5, 'colsample_bytree': 0.65, 'top_rate': 0.5, 'other_rate': 0.25, 'scale_pos_weight': 1.85}. Best is trial 12 with value: 0.705034527549505.\u001b[0m\n",
            "\u001b[32m[I 2022-10-01 00:12:33,918]\u001b[0m Trial 25 finished with value: 0.7076817025972987 and parameters: {'learning_rate': 0.14, 'reg_alpha': 2.6, 'reg_lambda': 123.7, 'num_leaves': 695, 'min_child_samples': 454, 'min_split_gain': 2.15, 'colsample_bytree': 0.65, 'top_rate': 0.35, 'other_rate': 0.25, 'scale_pos_weight': 1.75}. Best is trial 25 with value: 0.7076817025972987.\u001b[0m\n",
            "\u001b[32m[I 2022-10-01 00:12:57,172]\u001b[0m Trial 26 finished with value: 0.6845641588632898 and parameters: {'learning_rate': 0.14, 'reg_alpha': 60.2, 'reg_lambda': 124.4, 'num_leaves': 705, 'min_child_samples': 374, 'min_split_gain': 1.94, 'colsample_bytree': 0.7, 'top_rate': 0.35, 'other_rate': 0.25, 'scale_pos_weight': 1.7000000000000002}. Best is trial 25 with value: 0.7076817025972987.\u001b[0m\n",
            "\u001b[32m[I 2022-10-01 00:13:21,823]\u001b[0m Trial 27 finished with value: 0.6978918236908712 and parameters: {'learning_rate': 0.18000000000000002, 'reg_alpha': 14.600000000000001, 'reg_lambda': 115.30000000000001, 'num_leaves': 390, 'min_child_samples': 450, 'min_split_gain': 2.44, 'colsample_bytree': 0.65, 'top_rate': 0.35, 'other_rate': 0.15000000000000002, 'scale_pos_weight': 2.35}. Best is trial 25 with value: 0.7076817025972987.\u001b[0m\n",
            "\u001b[32m[I 2022-10-01 00:13:47,966]\u001b[0m Trial 28 finished with value: 0.7069058055344761 and parameters: {'learning_rate': 0.21000000000000002, 'reg_alpha': 16.5, 'reg_lambda': 147.5, 'num_leaves': 640, 'min_child_samples': 310, 'min_split_gain': 0.28, 'colsample_bytree': 0.8, 'top_rate': 0.2, 'other_rate': 0.2, 'scale_pos_weight': 1.8}. Best is trial 25 with value: 0.7076817025972987.\u001b[0m\n",
            "\u001b[32m[I 2022-10-01 00:14:08,906]\u001b[0m Trial 29 finished with value: 0.698502234876902 and parameters: {'learning_rate': 0.21000000000000002, 'reg_alpha': 59.2, 'reg_lambda': 143.20000000000002, 'num_leaves': 535, 'min_child_samples': 322, 'min_split_gain': 1.52, 'colsample_bytree': 0.8500000000000001, 'top_rate': 0.2, 'other_rate': 0.15000000000000002, 'scale_pos_weight': 2.55}. Best is trial 25 with value: 0.7076817025972987.\u001b[0m\n",
            "\u001b[32m[I 2022-10-01 00:14:29,154]\u001b[0m Trial 30 finished with value: 0.6905652900234249 and parameters: {'learning_rate': 0.16, 'reg_alpha': 17.1, 'reg_lambda': 145.1, 'num_leaves': 665, 'min_child_samples': 170, 'min_split_gain': 11.93, 'colsample_bytree': 0.8, 'top_rate': 0.2, 'other_rate': 0.2, 'scale_pos_weight': 1.65}. Best is trial 25 with value: 0.7076817025972987.\u001b[0m\n",
            "\u001b[32m[I 2022-10-01 00:15:06,357]\u001b[0m Trial 31 finished with value: 0.718409956825391 and parameters: {'learning_rate': 0.14, 'reg_alpha': 9.600000000000001, 'reg_lambda': 156.5, 'num_leaves': 650, 'min_child_samples': 8, 'min_split_gain': 0.25, 'colsample_bytree': 0.95, 'top_rate': 0.2, 'other_rate': 0.25, 'scale_pos_weight': 1.9}. Best is trial 31 with value: 0.718409956825391.\u001b[0m\n",
            "\u001b[32m[I 2022-10-01 00:15:37,489]\u001b[0m Trial 32 finished with value: 0.7072351061086136 and parameters: {'learning_rate': 0.16, 'reg_alpha': 32.300000000000004, 'reg_lambda': 158.60000000000002, 'num_leaves': 480, 'min_child_samples': 18, 'min_split_gain': 0.45, 'colsample_bytree': 0.95, 'top_rate': 0.2, 'other_rate': 0.25, 'scale_pos_weight': 1.25}. Best is trial 31 with value: 0.718409956825391.\u001b[0m\n",
            "\u001b[32m[I 2022-10-01 00:16:05,838]\u001b[0m Trial 33 finished with value: 0.7120186948728295 and parameters: {'learning_rate': 0.2, 'reg_alpha': 28.1, 'reg_lambda': 199.4, 'num_leaves': 480, 'min_child_samples': 0, 'min_split_gain': 1.0, 'colsample_bytree': 0.95, 'top_rate': 0.2, 'other_rate': 0.2, 'scale_pos_weight': 2.1}. Best is trial 31 with value: 0.718409956825391.\u001b[0m\n",
            "\u001b[32m[I 2022-10-01 00:16:25,165]\u001b[0m Trial 34 finished with value: 0.6635955189577976 and parameters: {'learning_rate': 0.17, 'reg_alpha': 191.60000000000002, 'reg_lambda': 198.9, 'num_leaves': 340, 'min_child_samples': 20, 'min_split_gain': 1.0, 'colsample_bytree': 0.95, 'top_rate': 0.15000000000000002, 'other_rate': 0.15000000000000002, 'scale_pos_weight': 2.2}. Best is trial 31 with value: 0.718409956825391.\u001b[0m\n",
            "\u001b[32m[I 2022-10-01 00:17:02,786]\u001b[0m Trial 35 finished with value: 0.7113074956497187 and parameters: {'learning_rate': 0.15000000000000002, 'reg_alpha': 28.1, 'reg_lambda': 196.60000000000002, 'num_leaves': 480, 'min_child_samples': 8, 'min_split_gain': 0.59, 'colsample_bytree': 0.95, 'top_rate': 0.15000000000000002, 'other_rate': 0.25, 'scale_pos_weight': 3.0500000000000003}. Best is trial 31 with value: 0.718409956825391.\u001b[0m\n",
            "\u001b[32m[I 2022-10-01 00:17:20,760]\u001b[0m Trial 36 finished with value: 0.6680284090276378 and parameters: {'learning_rate': 0.21000000000000002, 'reg_alpha': 169.5, 'reg_lambda': 186.5, 'num_leaves': 555, 'min_child_samples': 126, 'min_split_gain': 2.5300000000000002, 'colsample_bytree': 0.9, 'top_rate': 0.15000000000000002, 'other_rate': 0.25, 'scale_pos_weight': 3.25}. Best is trial 31 with value: 0.718409956825391.\u001b[0m\n",
            "\u001b[32m[I 2022-10-01 00:17:42,095]\u001b[0m Trial 37 finished with value: 0.7013078130988818 and parameters: {'learning_rate': 0.14, 'reg_alpha': 44.2, 'reg_lambda': 174.8, 'num_leaves': 370, 'min_child_samples': 50, 'min_split_gain': 1.24, 'colsample_bytree': 0.95, 'top_rate': 0.1, 'other_rate': 0.1, 'scale_pos_weight': 2.8}. Best is trial 31 with value: 0.718409956825391.\u001b[0m\n",
            "\u001b[32m[I 2022-10-01 00:18:10,349]\u001b[0m Trial 38 finished with value: 0.697151591232948 and parameters: {'learning_rate': 0.19, 'reg_alpha': 107.7, 'reg_lambda': 199.3, 'num_leaves': 285, 'min_child_samples': 78, 'min_split_gain': 0.13, 'colsample_bytree': 0.9, 'top_rate': 0.25, 'other_rate': 0.2, 'scale_pos_weight': 2.9000000000000004}. Best is trial 31 with value: 0.718409956825391.\u001b[0m\n",
            "\u001b[32m[I 2022-10-01 00:18:37,015]\u001b[0m Trial 39 finished with value: 0.7008603996427875 and parameters: {'learning_rate': 0.15000000000000002, 'reg_alpha': 70.4, 'reg_lambda': 185.3, 'num_leaves': 595, 'min_child_samples': 2, 'min_split_gain': 0.85, 'colsample_bytree': 0.9, 'top_rate': 0.30000000000000004, 'other_rate': 0.1, 'scale_pos_weight': 2.55}. Best is trial 31 with value: 0.718409956825391.\u001b[0m\n",
            "\u001b[32m[I 2022-10-01 00:18:58,051]\u001b[0m Trial 40 finished with value: 0.6946742283561311 and parameters: {'learning_rate': 0.26, 'reg_alpha': 88.10000000000001, 'reg_lambda': 166.3, 'num_leaves': 420, 'min_child_samples': 132, 'min_split_gain': 1.57, 'colsample_bytree': 0.8500000000000001, 'top_rate': 0.15000000000000002, 'other_rate': 0.15000000000000002, 'scale_pos_weight': 2.05}. Best is trial 31 with value: 0.718409956825391.\u001b[0m\n",
            "\u001b[32m[I 2022-10-01 00:19:31,187]\u001b[0m Trial 41 finished with value: 0.706493764550977 and parameters: {'learning_rate': 0.16, 'reg_alpha': 28.700000000000003, 'reg_lambda': 158.70000000000002, 'num_leaves': 500, 'min_child_samples': 26, 'min_split_gain': 0.5700000000000001, 'colsample_bytree': 0.95, 'top_rate': 0.2, 'other_rate': 0.25, 'scale_pos_weight': 3.0500000000000003}. Best is trial 31 with value: 0.718409956825391.\u001b[0m\n",
            "\u001b[32m[I 2022-10-01 00:19:54,333]\u001b[0m Trial 42 finished with value: 0.7076779900354395 and parameters: {'learning_rate': 0.18000000000000002, 'reg_alpha': 26.5, 'reg_lambda': 155.0, 'num_leaves': 480, 'min_child_samples': 2, 'min_split_gain': 2.09, 'colsample_bytree': 0.95, 'top_rate': 0.30000000000000004, 'other_rate': 0.25, 'scale_pos_weight': 2.45}. Best is trial 31 with value: 0.718409956825391.\u001b[0m\n",
            "\u001b[32m[I 2022-10-01 00:20:17,358]\u001b[0m Trial 43 finished with value: 0.7127602160174273 and parameters: {'learning_rate': 0.19, 'reg_alpha': 8.8, 'reg_lambda': 177.10000000000002, 'num_leaves': 210, 'min_child_samples': 98, 'min_split_gain': 3.0300000000000002, 'colsample_bytree': 0.8500000000000001, 'top_rate': 0.30000000000000004, 'other_rate': 0.25, 'scale_pos_weight': 2.5}. Best is trial 31 with value: 0.718409956825391.\u001b[0m\n",
            "\u001b[32m[I 2022-10-01 00:20:39,580]\u001b[0m Trial 44 finished with value: 0.7053535691559203 and parameters: {'learning_rate': 0.19, 'reg_alpha': 9.700000000000001, 'reg_lambda': 192.0, 'num_leaves': 145, 'min_child_samples': 48, 'min_split_gain': 3.04, 'colsample_bytree': 0.8500000000000001, 'top_rate': 0.25, 'other_rate': 0.2, 'scale_pos_weight': 2.1}. Best is trial 31 with value: 0.718409956825391.\u001b[0m\n",
            "\u001b[32m[I 2022-10-01 00:20:55,214]\u001b[0m Trial 45 finished with value: 0.7010586346530663 and parameters: {'learning_rate': 0.3, 'reg_alpha': 11.200000000000001, 'reg_lambda': 176.9, 'num_leaves': 215, 'min_child_samples': 86, 'min_split_gain': 1.8, 'colsample_bytree': 0.9, 'top_rate': 0.1, 'other_rate': 0.3, 'scale_pos_weight': 2.0}. Best is trial 31 with value: 0.718409956825391.\u001b[0m\n",
            "\u001b[32m[I 2022-10-01 00:21:13,868]\u001b[0m Trial 46 finished with value: 0.6804071693578815 and parameters: {'learning_rate': 0.23, 'reg_alpha': 121.80000000000001, 'reg_lambda': 172.3, 'num_leaves': 50, 'min_child_samples': 240, 'min_split_gain': 2.7800000000000002, 'colsample_bytree': 0.8500000000000001, 'top_rate': 0.15000000000000002, 'other_rate': 0.2, 'scale_pos_weight': 3.0500000000000003}. Best is trial 31 with value: 0.718409956825391.\u001b[0m\n",
            "\u001b[32m[I 2022-10-01 00:21:45,989]\u001b[0m Trial 47 finished with value: 0.7009684918569035 and parameters: {'learning_rate': 0.13, 'reg_alpha': 50.2, 'reg_lambda': 188.5, 'num_leaves': 755, 'min_child_samples': 152, 'min_split_gain': 0.97, 'colsample_bytree': 0.9, 'top_rate': 0.30000000000000004, 'other_rate': 0.3, 'scale_pos_weight': 3.5500000000000003}. Best is trial 31 with value: 0.718409956825391.\u001b[0m\n",
            "\u001b[32m[I 2022-10-01 00:22:06,125]\u001b[0m Trial 48 finished with value: 0.6801108728166786 and parameters: {'learning_rate': 0.2, 'reg_alpha': 41.2, 'reg_lambda': 180.9, 'num_leaves': 615, 'min_child_samples': 68, 'min_split_gain': 13.49, 'colsample_bytree': 0.75, 'top_rate': 0.25, 'other_rate': 0.4, 'scale_pos_weight': 2.6500000000000004}. Best is trial 31 with value: 0.718409956825391.\u001b[0m\n",
            "\u001b[32m[I 2022-10-01 00:22:23,743]\u001b[0m Trial 49 finished with value: 0.7010567265193288 and parameters: {'learning_rate': 0.23, 'reg_alpha': 23.3, 'reg_lambda': 0.5, 'num_leaves': 215, 'min_child_samples': 108, 'min_split_gain': 3.7600000000000002, 'colsample_bytree': 0.95, 'top_rate': 0.35, 'other_rate': 0.25, 'scale_pos_weight': 2.3}. Best is trial 31 with value: 0.718409956825391.\u001b[0m\n",
            "\u001b[32m[I 2022-10-01 00:22:57,600]\u001b[0m Trial 50 finished with value: 0.7068753888712324 and parameters: {'learning_rate': 0.17, 'reg_alpha': 53.5, 'reg_lambda': 165.20000000000002, 'num_leaves': 585, 'min_child_samples': 36, 'min_split_gain': 0.0, 'colsample_bytree': 0.9, 'top_rate': 0.25, 'other_rate': 0.15000000000000002, 'scale_pos_weight': 1.65}. Best is trial 31 with value: 0.718409956825391.\u001b[0m\n",
            "\u001b[32m[I 2022-10-01 00:23:22,518]\u001b[0m Trial 51 finished with value: 0.7044442522194373 and parameters: {'learning_rate': 0.18000000000000002, 'reg_alpha': 26.200000000000003, 'reg_lambda': 152.70000000000002, 'num_leaves': 425, 'min_child_samples': 6, 'min_split_gain': 2.05, 'colsample_bytree': 0.95, 'top_rate': 0.30000000000000004, 'other_rate': 0.25, 'scale_pos_weight': 2.4000000000000004}. Best is trial 31 with value: 0.718409956825391.\u001b[0m\n",
            "\u001b[32m[I 2022-10-01 00:24:00,861]\u001b[0m Trial 52 finished with value: 0.7111620858479684 and parameters: {'learning_rate': 0.12, 'reg_alpha': 8.1, 'reg_lambda': 130.9, 'num_leaves': 525, 'min_child_samples': 60, 'min_split_gain': 1.42, 'colsample_bytree': 0.95, 'top_rate': 0.30000000000000004, 'other_rate': 0.25, 'scale_pos_weight': 2.5}. Best is trial 31 with value: 0.718409956825391.\u001b[0m\n",
            "\u001b[32m[I 2022-10-01 00:24:50,210]\u001b[0m Trial 53 finished with value: 0.7142654681277695 and parameters: {'learning_rate': 0.12, 'reg_alpha': 6.5, 'reg_lambda': 127.30000000000001, 'num_leaves': 530, 'min_child_samples': 106, 'min_split_gain': 1.29, 'colsample_bytree': 0.95, 'top_rate': 0.35, 'other_rate': 0.3, 'scale_pos_weight': 2.85}. Best is trial 31 with value: 0.718409956825391.\u001b[0m\n",
            "\u001b[32m[I 2022-10-01 00:25:46,294]\u001b[0m Trial 54 finished with value: 0.7108420919680296 and parameters: {'learning_rate': 0.11, 'reg_alpha': 10.5, 'reg_lambda': 193.10000000000002, 'num_leaves': 520, 'min_child_samples': 58, 'min_split_gain': 1.35, 'colsample_bytree': 0.95, 'top_rate': 0.4, 'other_rate': 0.3, 'scale_pos_weight': 3.3000000000000003}. Best is trial 31 with value: 0.718409956825391.\u001b[0m\n",
            "\u001b[32m[I 2022-10-01 00:26:33,085]\u001b[0m Trial 55 finished with value: 0.7209637943934017 and parameters: {'learning_rate': 0.12, 'reg_alpha': 7.800000000000001, 'reg_lambda': 134.3, 'num_leaves': 555, 'min_child_samples': 100, 'min_split_gain': 0.73, 'colsample_bytree': 0.95, 'top_rate': 0.15000000000000002, 'other_rate': 0.3, 'scale_pos_weight': 2.9000000000000004}. Best is trial 55 with value: 0.7209637943934017.\u001b[0m\n",
            "\u001b[32m[I 2022-10-01 00:27:13,604]\u001b[0m Trial 56 finished with value: 0.7076815900381035 and parameters: {'learning_rate': 0.09999999999999999, 'reg_alpha': 37.0, 'reg_lambda': 137.4, 'num_leaves': 565, 'min_child_samples': 94, 'min_split_gain': 0.51, 'colsample_bytree': 0.9, 'top_rate': 0.15000000000000002, 'other_rate': 0.35000000000000003, 'scale_pos_weight': 2.9000000000000004}. Best is trial 55 with value: 0.7209637943934017.\u001b[0m\n",
            "\u001b[32m[I 2022-10-01 00:27:46,899]\u001b[0m Trial 57 finished with value: 0.7161064040309264 and parameters: {'learning_rate': 0.12, 'reg_alpha': 22.200000000000003, 'reg_lambda': 177.4, 'num_leaves': 435, 'min_child_samples': 108, 'min_split_gain': 0.67, 'colsample_bytree': 0.8500000000000001, 'top_rate': 0.1, 'other_rate': 0.35000000000000003, 'scale_pos_weight': 2.7}. Best is trial 55 with value: 0.7209637943934017.\u001b[0m\n",
            "\u001b[32m[I 2022-10-01 00:28:30,618]\u001b[0m Trial 58 finished with value: 0.7124391741569152 and parameters: {'learning_rate': 0.12, 'reg_alpha': 5.300000000000001, 'reg_lambda': 180.3, 'num_leaves': 310, 'min_child_samples': 200, 'min_split_gain': 0.99, 'colsample_bytree': 0.8500000000000001, 'top_rate': 0.1, 'other_rate': 0.4, 'scale_pos_weight': 2.7}. Best is trial 55 with value: 0.7209637943934017.\u001b[0m\n",
            "\u001b[32m[I 2022-10-01 00:28:57,785]\u001b[0m Trial 59 finished with value: 0.7054746737099262 and parameters: {'learning_rate': 0.12, 'reg_alpha': 19.8, 'reg_lambda': 168.8, 'num_leaves': 325, 'min_child_samples': 208, 'min_split_gain': 3.34, 'colsample_bytree': 0.8500000000000001, 'top_rate': 0.1, 'other_rate': 0.4, 'scale_pos_weight': 2.7}. Best is trial 55 with value: 0.7209637943934017.\u001b[0m\n",
            "\u001b[32m[I 2022-10-01 00:30:24,637]\u001b[0m Trial 60 finished with value: 0.7224703565882361 and parameters: {'learning_rate': 0.08, 'reg_alpha': 8.9, 'reg_lambda': 150.0, 'num_leaves': 160, 'min_child_samples': 148, 'min_split_gain': 0.0, 'colsample_bytree': 0.8, 'top_rate': 0.1, 'other_rate': 0.45, 'scale_pos_weight': 3.45}. Best is trial 60 with value: 0.7224703565882361.\u001b[0m\n",
            "\u001b[32m[I 2022-10-01 00:31:43,427]\u001b[0m Trial 61 finished with value: 0.7187639552113076 and parameters: {'learning_rate': 0.08, 'reg_alpha': 6.800000000000001, 'reg_lambda': 138.8, 'num_leaves': 185, 'min_child_samples': 156, 'min_split_gain': 0.04, 'colsample_bytree': 0.8, 'top_rate': 0.1, 'other_rate': 0.5, 'scale_pos_weight': 3.45}. Best is trial 60 with value: 0.7224703565882361.\u001b[0m\n",
            "\u001b[32m[I 2022-10-01 00:32:54,621]\u001b[0m Trial 62 finished with value: 0.7178087072457779 and parameters: {'learning_rate': 0.08, 'reg_alpha': 18.7, 'reg_lambda': 122.60000000000001, 'num_leaves': 130, 'min_child_samples': 148, 'min_split_gain': 0.0, 'colsample_bytree': 0.75, 'top_rate': 0.1, 'other_rate': 0.5, 'scale_pos_weight': 3.35}. Best is trial 60 with value: 0.7224703565882361.\u001b[0m\n",
            "\u001b[32m[I 2022-10-01 00:33:54,016]\u001b[0m Trial 63 finished with value: 0.7123427990761757 and parameters: {'learning_rate': 0.08, 'reg_alpha': 18.400000000000002, 'reg_lambda': 121.2, 'num_leaves': 90, 'min_child_samples': 178, 'min_split_gain': 0.08, 'colsample_bytree': 0.75, 'top_rate': 0.1, 'other_rate': 0.5, 'scale_pos_weight': 3.5}. Best is trial 60 with value: 0.7224703565882361.\u001b[0m\n",
            "\u001b[32m[I 2022-10-01 00:35:47,165]\u001b[0m Trial 64 finished with value: 0.7261340662231207 and parameters: {'learning_rate': 0.05, 'reg_alpha': 14.0, 'reg_lambda': 95.4, 'num_leaves': 120, 'min_child_samples': 150, 'min_split_gain': 0.05, 'colsample_bytree': 0.75, 'top_rate': 0.1, 'other_rate': 0.5, 'scale_pos_weight': 4.15}. Best is trial 64 with value: 0.7261340662231207.\u001b[0m\n",
            "\u001b[32m[I 2022-10-01 00:37:33,298]\u001b[0m Trial 65 finished with value: 0.7212946602227233 and parameters: {'learning_rate': 0.04, 'reg_alpha': 16.3, 'reg_lambda': 106.30000000000001, 'num_leaves': 140, 'min_child_samples': 144, 'min_split_gain': 0.06, 'colsample_bytree': 0.75, 'top_rate': 0.1, 'other_rate': 0.5, 'scale_pos_weight': 3.8000000000000003}. Best is trial 64 with value: 0.7261340662231207.\u001b[0m\n",
            "\u001b[32m[I 2022-10-01 00:39:42,611]\u001b[0m Trial 66 finished with value: 0.7252841045798524 and parameters: {'learning_rate': 0.04, 'reg_alpha': 0.2, 'reg_lambda': 106.2, 'num_leaves': 155, 'min_child_samples': 146, 'min_split_gain': 0.01, 'colsample_bytree': 0.75, 'top_rate': 0.1, 'other_rate': 0.45, 'scale_pos_weight': 4.2}. Best is trial 64 with value: 0.7261340662231207.\u001b[0m\n",
            "\u001b[32m[I 2022-10-01 00:41:24,179]\u001b[0m Trial 67 finished with value: 0.7206617248179243 and parameters: {'learning_rate': 0.04, 'reg_alpha': 1.3, 'reg_lambda': 102.60000000000001, 'num_leaves': 160, 'min_child_samples': 236, 'min_split_gain': 0.54, 'colsample_bytree': 0.7, 'top_rate': 0.1, 'other_rate': 0.45, 'scale_pos_weight': 4.300000000000001}. Best is trial 64 with value: 0.7261340662231207.\u001b[0m\n",
            "\u001b[32m[I 2022-10-01 00:41:59,940]\u001b[0m Trial 68 finished with value: 0.6904215941768086 and parameters: {'learning_rate': 0.04, 'reg_alpha': 3.0, 'reg_lambda': 99.4, 'num_leaves': 160, 'min_child_samples': 230, 'min_split_gain': 9.47, 'colsample_bytree': 0.7, 'top_rate': 0.1, 'other_rate': 0.45, 'scale_pos_weight': 4.25}. Best is trial 64 with value: 0.7261340662231207.\u001b[0m\n",
            "\u001b[32m[I 2022-10-01 00:42:09,449]\u001b[0m Trial 69 finished with value: 0.6163056670048827 and parameters: {'learning_rate': 0.02, 'reg_alpha': 140.6, 'reg_lambda': 92.80000000000001, 'num_leaves': 45, 'min_child_samples': 152, 'min_split_gain': 1.77, 'colsample_bytree': 0.7, 'top_rate': 0.1, 'other_rate': 0.45, 'scale_pos_weight': 3.85}. Best is trial 64 with value: 0.7261340662231207.\u001b[0m\n",
            "\u001b[32m[I 2022-10-01 00:42:39,067]\u001b[0m Trial 70 finished with value: 0.6855363602684201 and parameters: {'learning_rate': 0.05, 'reg_alpha': 0.5, 'reg_lambda': 97.0, 'num_leaves': 170, 'min_child_samples': 174, 'min_split_gain': 6.84, 'colsample_bytree': 0.8, 'top_rate': 0.15000000000000002, 'other_rate': 0.45, 'scale_pos_weight': 4.7}. Best is trial 64 with value: 0.7261340662231207.\u001b[0m\n",
            "\u001b[32m[I 2022-10-01 00:42:48,739]\u001b[0m Trial 71 finished with value: 0.6245945255916924 and parameters: {'learning_rate': 0.02, 'reg_alpha': 13.200000000000001, 'reg_lambda': 107.80000000000001, 'num_leaves': 105, 'min_child_samples': 266, 'min_split_gain': 0.5, 'colsample_bytree': 0.7, 'top_rate': 0.1, 'other_rate': 0.5, 'scale_pos_weight': 4.25}. Best is trial 64 with value: 0.7261340662231207.\u001b[0m\n",
            "\u001b[32m[I 2022-10-01 00:43:55,674]\u001b[0m Trial 72 finished with value: 0.7201128769091448 and parameters: {'learning_rate': 0.060000000000000005, 'reg_alpha': 14.700000000000001, 'reg_lambda': 116.60000000000001, 'num_leaves': 260, 'min_child_samples': 136, 'min_split_gain': 0.48, 'colsample_bytree': 0.75, 'top_rate': 0.15000000000000002, 'other_rate': 0.5, 'scale_pos_weight': 3.8000000000000003}. Best is trial 64 with value: 0.7261340662231207.\u001b[0m\n",
            "\u001b[32m[I 2022-10-01 00:44:51,691]\u001b[0m Trial 73 finished with value: 0.7154881046385062 and parameters: {'learning_rate': 0.060000000000000005, 'reg_alpha': 13.3, 'reg_lambda': 116.9, 'num_leaves': 245, 'min_child_samples': 134, 'min_split_gain': 0.78, 'colsample_bytree': 0.75, 'top_rate': 0.15000000000000002, 'other_rate': 0.5, 'scale_pos_weight': 3.7}. Best is trial 64 with value: 0.7261340662231207.\u001b[0m\n",
            "\u001b[32m[I 2022-10-01 00:45:29,984]\u001b[0m Trial 74 finished with value: 0.6562750213233385 and parameters: {'learning_rate': 0.03, 'reg_alpha': 0.6000000000000001, 'reg_lambda': 104.2, 'num_leaves': 185, 'min_child_samples': 158, 'min_split_gain': 0.45, 'colsample_bytree': 0.75, 'top_rate': 0.1, 'other_rate': 0.5, 'scale_pos_weight': 4.45}. Best is trial 64 with value: 0.7261340662231207.\u001b[0m\n",
            "\u001b[32m[I 2022-10-01 00:47:02,571]\u001b[0m Trial 75 finished with value: 0.7142880100275761 and parameters: {'learning_rate': 0.060000000000000005, 'reg_alpha': 31.1, 'reg_lambda': 83.2, 'num_leaves': 270, 'min_child_samples': 190, 'min_split_gain': 0.0, 'colsample_bytree': 0.8, 'top_rate': 0.15000000000000002, 'other_rate': 0.45, 'scale_pos_weight': 4.1}. Best is trial 64 with value: 0.7261340662231207.\u001b[0m\n",
            "\u001b[32m[I 2022-10-01 00:48:00,132]\u001b[0m Trial 76 finished with value: 0.7140079155841266 and parameters: {'learning_rate': 0.05, 'reg_alpha': 16.0, 'reg_lambda': 68.5, 'num_leaves': 90, 'min_child_samples': 128, 'min_split_gain': 1.53, 'colsample_bytree': 0.8, 'top_rate': 0.1, 'other_rate': 0.5, 'scale_pos_weight': 3.85}. Best is trial 64 with value: 0.7261340662231207.\u001b[0m\n",
            "\u001b[32m[I 2022-10-01 00:48:41,473]\u001b[0m Trial 77 finished with value: 0.7083661801971118 and parameters: {'learning_rate': 0.06999999999999999, 'reg_alpha': 36.7, 'reg_lambda': 139.8, 'num_leaves': 120, 'min_child_samples': 140, 'min_split_gain': 1.11, 'colsample_bytree': 0.7, 'top_rate': 0.15000000000000002, 'other_rate': 0.45, 'scale_pos_weight': 4.1}. Best is trial 64 with value: 0.7261340662231207.\u001b[0m\n",
            "\u001b[32m[I 2022-10-01 00:48:51,253]\u001b[0m Trial 78 finished with value: 0.6297912030694041 and parameters: {'learning_rate': 0.03, 'reg_alpha': 6.1000000000000005, 'reg_lambda': 111.7, 'num_leaves': 240, 'min_child_samples': 164, 'min_split_gain': 0.79, 'colsample_bytree': 0.75, 'top_rate': 0.1, 'other_rate': 0.45, 'scale_pos_weight': 4.550000000000001}. Best is trial 64 with value: 0.7261340662231207.\u001b[0m\n",
            "\u001b[32m[I 2022-10-01 00:48:59,582]\u001b[0m Trial 79 finished with value: 0.6017697488284004 and parameters: {'learning_rate': 0.06999999999999999, 'reg_alpha': 161.20000000000002, 'reg_lambda': 133.0, 'num_leaves': 20, 'min_child_samples': 120, 'min_split_gain': 2.2800000000000002, 'colsample_bytree': 0.75, 'top_rate': 0.1, 'other_rate': 0.5, 'scale_pos_weight': 4.95}. Best is trial 64 with value: 0.7261340662231207.\u001b[0m\n",
            "\u001b[32m[I 2022-10-01 00:50:02,914]\u001b[0m Trial 80 finished with value: 0.7132507972033745 and parameters: {'learning_rate': 0.05, 'reg_alpha': 21.700000000000003, 'reg_lambda': 91.9, 'num_leaves': 65, 'min_child_samples': 218, 'min_split_gain': 0.38, 'colsample_bytree': 0.7, 'top_rate': 0.15000000000000002, 'other_rate': 0.5, 'scale_pos_weight': 3.6500000000000004}. Best is trial 64 with value: 0.7261340662231207.\u001b[0m\n",
            "\u001b[32m[I 2022-10-01 00:50:56,136]\u001b[0m Trial 81 finished with value: 0.6594429705004494 and parameters: {'learning_rate': 0.01, 'reg_alpha': 13.700000000000001, 'reg_lambda': 104.10000000000001, 'num_leaves': 190, 'min_child_samples': 184, 'min_split_gain': 0.56, 'colsample_bytree': 0.8, 'top_rate': 0.1, 'other_rate': 0.45, 'scale_pos_weight': 3.85}. Best is trial 64 with value: 0.7261340662231207.\u001b[0m\n",
            "\u001b[32m[I 2022-10-01 00:51:44,156]\u001b[0m Trial 82 finished with value: 0.7131238082999634 and parameters: {'learning_rate': 0.09, 'reg_alpha': 7.4, 'reg_lambda': 149.4, 'num_leaves': 145, 'min_child_samples': 140, 'min_split_gain': 1.73, 'colsample_bytree': 0.75, 'top_rate': 0.15000000000000002, 'other_rate': 0.45, 'scale_pos_weight': 4.1}. Best is trial 64 with value: 0.7261340662231207.\u001b[0m\n",
            "\u001b[32m[I 2022-10-01 00:53:26,404]\u001b[0m Trial 83 finished with value: 0.7201894200021632 and parameters: {'learning_rate': 0.04, 'reg_alpha': 5.7, 'reg_lambda': 115.60000000000001, 'num_leaves': 195, 'min_child_samples': 284, 'min_split_gain': 0.33, 'colsample_bytree': 0.75, 'top_rate': 0.1, 'other_rate': 0.5, 'scale_pos_weight': 3.5}. Best is trial 64 with value: 0.7261340662231207.\u001b[0m\n",
            "\u001b[32m[I 2022-10-01 00:54:23,655]\u001b[0m Trial 84 finished with value: 0.7135030617652468 and parameters: {'learning_rate': 0.04, 'reg_alpha': 15.5, 'reg_lambda': 97.10000000000001, 'num_leaves': 195, 'min_child_samples': 278, 'min_split_gain': 1.09, 'colsample_bytree': 0.8, 'top_rate': 0.1, 'other_rate': 0.5, 'scale_pos_weight': 3.5500000000000003}. Best is trial 64 with value: 0.7261340662231207.\u001b[0m\n",
            "\u001b[32m[I 2022-10-01 00:56:35,991]\u001b[0m Trial 85 finished with value: 0.7194620054610867 and parameters: {'learning_rate': 0.03, 'reg_alpha': 0.1, 'reg_lambda': 114.5, 'num_leaves': 165, 'min_child_samples': 332, 'min_split_gain': 0.33, 'colsample_bytree': 0.75, 'top_rate': 0.1, 'other_rate': 0.5, 'scale_pos_weight': 3.15}. Best is trial 64 with value: 0.7261340662231207.\u001b[0m\n",
            "\u001b[32m[I 2022-10-01 00:58:16,283]\u001b[0m Trial 86 finished with value: 0.7186595172893376 and parameters: {'learning_rate': 0.03, 'reg_alpha': 0.30000000000000004, 'reg_lambda': 116.60000000000001, 'num_leaves': 100, 'min_child_samples': 340, 'min_split_gain': 0.86, 'colsample_bytree': 0.7, 'top_rate': 0.1, 'other_rate': 0.5, 'scale_pos_weight': 3.7}. Best is trial 64 with value: 0.7261340662231207.\u001b[0m\n",
            "\u001b[32m[I 2022-10-01 00:58:25,726]\u001b[0m Trial 87 finished with value: 0.6045179559748279 and parameters: {'learning_rate': 0.02, 'reg_alpha': 198.9, 'reg_lambda': 106.9, 'num_leaves': 260, 'min_child_samples': 284, 'min_split_gain': 0.33, 'colsample_bytree': 0.75, 'top_rate': 0.15000000000000002, 'other_rate': 0.4, 'scale_pos_weight': 3.95}. Best is trial 64 with value: 0.7261340662231207.\u001b[0m\n",
            "\u001b[32m[I 2022-10-01 00:59:10,045]\u001b[0m Trial 88 finished with value: 0.7080277047542834 and parameters: {'learning_rate': 0.05, 'reg_alpha': 24.0, 'reg_lambda': 126.80000000000001, 'num_leaves': 75, 'min_child_samples': 310, 'min_split_gain': 1.3, 'colsample_bytree': 0.75, 'top_rate': 0.1, 'other_rate': 0.45, 'scale_pos_weight': 3.15}. Best is trial 64 with value: 0.7261340662231207.\u001b[0m\n",
            "\u001b[32m[I 2022-10-01 00:59:55,798]\u001b[0m Trial 89 finished with value: 0.7041582008152508 and parameters: {'learning_rate': 0.04, 'reg_alpha': 32.5, 'reg_lambda': 77.4, 'num_leaves': 160, 'min_child_samples': 254, 'min_split_gain': 5.5600000000000005, 'colsample_bytree': 0.7, 'top_rate': 0.15000000000000002, 'other_rate': 0.5, 'scale_pos_weight': 3.6}. Best is trial 64 with value: 0.7261340662231207.\u001b[0m\n",
            "\u001b[32m[I 2022-10-01 01:00:29,300]\u001b[0m Trial 90 finished with value: 0.7135611027531835 and parameters: {'learning_rate': 0.06999999999999999, 'reg_alpha': 4.5, 'reg_lambda': 111.9, 'num_leaves': 115, 'min_child_samples': 334, 'min_split_gain': 1.87, 'colsample_bytree': 0.65, 'top_rate': 0.1, 'other_rate': 0.45, 'scale_pos_weight': 3.2}. Best is trial 64 with value: 0.7261340662231207.\u001b[0m\n",
            "\u001b[32m[I 2022-10-01 01:01:42,995]\u001b[0m Trial 91 finished with value: 0.7149020182889336 and parameters: {'learning_rate': 0.060000000000000005, 'reg_alpha': 10.600000000000001, 'reg_lambda': 119.9, 'num_leaves': 225, 'min_child_samples': 368, 'min_split_gain': 0.27, 'colsample_bytree': 0.8, 'top_rate': 0.1, 'other_rate': 0.5, 'scale_pos_weight': 3.45}. Best is trial 64 with value: 0.7261340662231207.\u001b[0m\n",
            "\u001b[32m[I 2022-10-01 01:02:40,522]\u001b[0m Trial 92 finished with value: 0.7149121073348335 and parameters: {'learning_rate': 0.09, 'reg_alpha': 5.0, 'reg_lambda': 131.3, 'num_leaves': 175, 'min_child_samples': 302, 'min_split_gain': 0.72, 'colsample_bytree': 0.75, 'top_rate': 0.1, 'other_rate': 0.5, 'scale_pos_weight': 3.4000000000000004}. Best is trial 64 with value: 0.7261340662231207.\u001b[0m\n",
            "\u001b[32m[I 2022-10-01 01:03:23,429]\u001b[0m Trial 93 finished with value: 0.6525669790629391 and parameters: {'learning_rate': 0.03, 'reg_alpha': 17.8, 'reg_lambda': 116.60000000000001, 'num_leaves': 135, 'min_child_samples': 118, 'min_split_gain': 0.0, 'colsample_bytree': 0.75, 'top_rate': 0.1, 'other_rate': 0.5, 'scale_pos_weight': 4.4}. Best is trial 64 with value: 0.7261340662231207.\u001b[0m\n",
            "\u001b[32m[I 2022-10-01 01:04:46,835]\u001b[0m Trial 94 finished with value: 0.7188611400773939 and parameters: {'learning_rate': 0.05, 'reg_alpha': 11.5, 'reg_lambda': 88.10000000000001, 'num_leaves': 205, 'min_child_samples': 80, 'min_split_gain': 0.39, 'colsample_bytree': 0.8, 'top_rate': 0.15000000000000002, 'other_rate': 0.5, 'scale_pos_weight': 3.8000000000000003}. Best is trial 64 with value: 0.7261340662231207.\u001b[0m\n",
            "\u001b[32m[I 2022-10-01 01:05:21,335]\u001b[0m Trial 95 finished with value: 0.6803255537341169 and parameters: {'learning_rate': 0.05, 'reg_alpha': 131.9, 'reg_lambda': 87.30000000000001, 'num_leaves': 285, 'min_child_samples': 94, 'min_split_gain': 1.22, 'colsample_bytree': 0.75, 'top_rate': 0.15000000000000002, 'other_rate': 0.45, 'scale_pos_weight': 3.8000000000000003}. Best is trial 64 with value: 0.7261340662231207.\u001b[0m\n",
            "\u001b[32m[I 2022-10-01 01:05:33,367]\u001b[0m Trial 96 finished with value: 0.6348606173705321 and parameters: {'learning_rate': 0.01, 'reg_alpha': 11.9, 'reg_lambda': 101.5, 'num_leaves': 230, 'min_child_samples': 76, 'min_split_gain': 2.71, 'colsample_bytree': 0.7, 'top_rate': 0.2, 'other_rate': 0.5, 'scale_pos_weight': 4.300000000000001}. Best is trial 64 with value: 0.7261340662231207.\u001b[0m\n",
            "\u001b[32m[I 2022-10-01 01:06:19,839]\u001b[0m Trial 97 finished with value: 0.7104516036296706 and parameters: {'learning_rate': 0.04, 'reg_alpha': 25.0, 'reg_lambda': 93.10000000000001, 'num_leaves': 150, 'min_child_samples': 168, 'min_split_gain': 1.55, 'colsample_bytree': 0.75, 'top_rate': 0.15000000000000002, 'other_rate': 0.4, 'scale_pos_weight': 4.0}. Best is trial 64 with value: 0.7261340662231207.\u001b[0m\n",
            "\u001b[32m[I 2022-10-01 01:06:29,218]\u001b[0m Trial 98 finished with value: 0.6063422799678484 and parameters: {'learning_rate': 0.02, 'reg_alpha': 19.3, 'reg_lambda': 110.10000000000001, 'num_leaves': 205, 'min_child_samples': 320, 'min_split_gain': 0.78, 'colsample_bytree': 0.7, 'top_rate': 0.15000000000000002, 'other_rate': 0.45, 'scale_pos_weight': 4.7}. Best is trial 64 with value: 0.7261340662231207.\u001b[0m\n",
            "\u001b[32m[I 2022-10-01 01:07:22,435]\u001b[0m Trial 99 finished with value: 0.7076779898686649 and parameters: {'learning_rate': 0.060000000000000005, 'reg_alpha': 41.7, 'reg_lambda': 76.60000000000001, 'num_leaves': 65, 'min_child_samples': 106, 'min_split_gain': 0.33, 'colsample_bytree': 0.8, 'top_rate': 0.2, 'other_rate': 0.5, 'scale_pos_weight': 4.2}. Best is trial 64 with value: 0.7261340662231207.\u001b[0m\n"
          ]
        },
        {
          "output_type": "stream",
          "name": "stdout",
          "text": [
            "Best trial: 64 -> Best value(F1): 0.72613\n",
            "Best hyperparameters:\n",
            "learning_rate        - 0.05\n",
            "reg_alpha            - 14.0\n",
            "reg_lambda           - 95.4\n",
            "num_leaves           - 120\n",
            "min_child_samples    - 150\n",
            "min_split_gain       - 0.05\n",
            "colsample_bytree     - 0.75\n",
            "top_rate             - 0.1\n",
            "other_rate           - 0.5\n",
            "scale_pos_weight     - 4.15\n",
            "-----------------Cross-validation------------------\n",
            "Fold #0: (3919 rounds) F1 = 0.70072\n",
            "Fold #1: (2988 rounds) F1 = 0.73140\n",
            "Fold #2: (2743 rounds) F1 = 0.70352\n",
            "Fold #3: (4532 rounds) F1 = 0.75342\n",
            "Fold #4: (3910 rounds) F1 = 0.74161\n",
            "\n",
            "Avg F1 = 0.72613 +/- 0.02083\n",
            "CPU times: user 2h 10min 40s, sys: 52.6 s, total: 2h 11min 33s\n",
            "Wall time: 1h 9min 31s\n"
          ]
        }
      ]
    },
    {
      "cell_type": "code",
      "source": [
        "create_submission_files(test_preds_3, 3)"
      ],
      "metadata": {
        "id": "KPiAjPHnM17m"
      },
      "execution_count": 35,
      "outputs": []
    },
    {
      "cell_type": "markdown",
      "source": [
        "### Storing OOF predictions"
      ],
      "metadata": {
        "id": "BqteS8azzVD2"
      }
    },
    {
      "cell_type": "code",
      "source": [
        "oof_probs.to_csv(f'{SUBMISSION_PATH}/oof_probs.csv', index=False)"
      ],
      "metadata": {
        "id": "E2SCLtizmHix"
      },
      "execution_count": 36,
      "outputs": []
    }
  ]
}