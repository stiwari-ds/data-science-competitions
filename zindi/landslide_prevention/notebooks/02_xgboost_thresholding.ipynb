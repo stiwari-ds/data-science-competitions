{
  "nbformat": 4,
  "nbformat_minor": 0,
  "metadata": {
    "colab": {
      "provenance": [],
      "authorship_tag": "ABX9TyNV8cWEBKTOm+lNG4yIi8Xu",
      "include_colab_link": true
    },
    "kernelspec": {
      "name": "python3",
      "display_name": "Python 3"
    },
    "language_info": {
      "name": "python"
    },
    "accelerator": "GPU"
  },
  "cells": [
    {
      "cell_type": "markdown",
      "metadata": {
        "id": "view-in-github",
        "colab_type": "text"
      },
      "source": [
        "<a href=\"https://colab.research.google.com/github/stiwari-ds/data-science-competitions/blob/main/zindi/landslide_prevention/notebooks/02_xgboost_thresholding.ipynb\" target=\"_parent\"><img src=\"https://colab.research.google.com/assets/colab-badge.svg\" alt=\"Open In Colab\"/></a>"
      ]
    },
    {
      "cell_type": "markdown",
      "source": [
        "# Setup"
      ],
      "metadata": {
        "id": "fMe_ffy2a_ac"
      }
    },
    {
      "cell_type": "code",
      "execution_count": null,
      "metadata": {
        "id": "wyde65PCala3"
      },
      "outputs": [],
      "source": [
        "%%capture\n",
        "!pip install --upgrade xgboost\n",
        "!pip install --upgrade optuna"
      ]
    },
    {
      "cell_type": "code",
      "source": [
        "import os\n",
        "import gc\n",
        "import time\n",
        "import warnings\n",
        "import subprocess\n",
        "\n",
        "gc.enable()\n",
        "warnings.filterwarnings('ignore')\n",
        "\n",
        "import pandas as pd\n",
        "import numpy as np\n",
        "pd.set_option('display.max_columns', None)\n",
        "pd.set_option('display.precision', 4)\n",
        "np.set_printoptions(precision=4)\n",
        "\n",
        "import xgboost\n",
        "import optuna\n",
        "optuna.logging.set_verbosity(optuna.logging.INFO)\n",
        "\n",
        "from optuna.samplers import TPESampler\n",
        "from optuna.pruners import HyperbandPruner\n",
        "from xgboost import XGBClassifier\n",
        "\n",
        "from sklearn.model_selection import StratifiedKFold\n",
        "from sklearn.metrics import roc_auc_score, f1_score"
      ],
      "metadata": {
        "id": "eKfBaXpBbBUQ"
      },
      "execution_count": null,
      "outputs": []
    },
    {
      "cell_type": "code",
      "source": [
        "SEED = 23\n",
        "os.environ['PYTHONHASHSEED'] = str(SEED)\n",
        "np.random.seed(SEED)"
      ],
      "metadata": {
        "id": "_E0PAHYvnuJ0"
      },
      "execution_count": null,
      "outputs": []
    },
    {
      "cell_type": "code",
      "source": [
        "#remove cell to run future versions\n",
        "assert optuna.__version__ == '3.0.2', f'Change in Optuna version. Original notebook version: 3.0.2'\n",
        "assert xgboost.__version__ == '1.6.2', f'Change in XGBoost version. Original notebook version: 1.6.2'"
      ],
      "metadata": {
        "id": "QU6c1orQbm3A"
      },
      "execution_count": null,
      "outputs": []
    },
    {
      "cell_type": "code",
      "source": [
        "#Check GPU availability\n",
        "try:\n",
        "    subprocess.check_output('nvidia-smi')\n",
        "    HAVE_GPU = True\n",
        "except Exception:\n",
        "    HAVE_GPU = False\n",
        "\n",
        "print(f'GPU available: {HAVE_GPU}')"
      ],
      "metadata": {
        "colab": {
          "base_uri": "https://localhost:8080/"
        },
        "id": "NBzLRr5pbr7Z",
        "outputId": "fcb78a6e-4ff2-4cce-e7ac-3f979dc5e56c"
      },
      "execution_count": null,
      "outputs": [
        {
          "output_type": "stream",
          "name": "stdout",
          "text": [
            "GPU available: True\n"
          ]
        }
      ]
    },
    {
      "cell_type": "code",
      "source": [
        "from google.colab import drive\n",
        "drive.mount('/content/drive')"
      ],
      "metadata": {
        "colab": {
          "base_uri": "https://localhost:8080/"
        },
        "id": "Y_o0kubsb5bP",
        "outputId": "4211250c-2ab9-4016-e7ca-c66afc739789"
      },
      "execution_count": null,
      "outputs": [
        {
          "output_type": "stream",
          "name": "stdout",
          "text": [
            "Mounted at /content/drive\n"
          ]
        }
      ]
    },
    {
      "cell_type": "markdown",
      "source": [
        "# Data preparation"
      ],
      "metadata": {
        "id": "ZR_l09PCSu-J"
      }
    },
    {
      "cell_type": "code",
      "source": [
        "DATA_PATH = '/content/drive/MyDrive/data_science_competitions/zindi/landslide_prevention/data'\n",
        "\n",
        "train = pd.read_csv(f'{DATA_PATH}/raw/train.csv')\n",
        "test = pd.read_csv(f'{DATA_PATH}/raw/test.csv')\n",
        "sample_sub = pd.read_csv(f'{DATA_PATH}/raw/sample_sub.csv')\n",
        "\n",
        "train_agg = pd.read_csv(f'{DATA_PATH}/processed/train_agg.csv')\n",
        "test_agg = pd.read_csv(f'{DATA_PATH}/processed/test_agg.csv')"
      ],
      "metadata": {
        "id": "NIx1p0eWSx2Q"
      },
      "execution_count": null,
      "outputs": []
    },
    {
      "cell_type": "code",
      "source": [
        "TARGET = train['Label']"
      ],
      "metadata": {
        "id": "qShBGGFfTMOU"
      },
      "execution_count": null,
      "outputs": []
    },
    {
      "cell_type": "code",
      "source": [
        "cat_features = [f for f in test.columns if f.endswith('geology')]\n",
        "cat_features.extend(['agg_geology_mode', 'agg_geology_nunique'])"
      ],
      "metadata": {
        "id": "M1RrGiUIUtdE"
      },
      "execution_count": null,
      "outputs": []
    },
    {
      "cell_type": "code",
      "source": [
        "def preprocess(df: pd.DataFrame, is_train: bool = False) -> pd.DataFrame:\n",
        "    \n",
        "    df = df.drop('Sample_ID', axis=1)\n",
        "    if is_train:\n",
        "        df = df.drop('Label', axis=1)\n",
        "    \n",
        "    #reduce memory usage\n",
        "    def reduce_mem(df: pd.DataFrame) -> pd.DataFrame:\n",
        "        for col in df.columns:\n",
        "            col_type = df[col].dtypes\n",
        "            if col_type in ['int16', 'int32', 'int64', 'float32', 'float64']:\n",
        "                c_min = df[col].min()\n",
        "                c_max = df[col].max()\n",
        "                if str(col_type).startswith('int'):\n",
        "                    if c_min > np.iinfo(np.int8).min and c_max < np.iinfo(np.int8).max:\n",
        "                        df[col] = df[col].astype(np.int8)\n",
        "                    elif c_min > np.iinfo(np.int16).min and c_max < np.iinfo(np.int16).max:\n",
        "                        df[col] = df[col].astype(np.int16)\n",
        "                    elif c_min > np.iinfo(np.int32).min and c_max < np.iinfo(np.int32).max:\n",
        "                        df[col] = df[col].astype(np.int32)\n",
        "                    elif c_min > np.iinfo(np.int64).min and c_max < np.iinfo(np.int64).max:\n",
        "                        df[col] = df[col].astype(np.int64)\n",
        "                else:\n",
        "                    if c_min > np.finfo(np.float16).min and c_max < np.finfo(np.float16).max:\n",
        "                        df[col] = df[col].astype(np.float16)\n",
        "                    elif c_min > np.finfo(np.float32).min and c_max < np.finfo(np.float32).max:\n",
        "                        df[col] = df[col].astype(np.float32)\n",
        "                    else:\n",
        "                        df[col] = df[col].astype(np.float64)\n",
        "        return df\n",
        "\n",
        "    df = reduce_mem(df)\n",
        "\n",
        "    for col in df.columns:\n",
        "        if col in cat_features:\n",
        "            df[col] = df[col].astype('category')\n",
        "\n",
        "    return df"
      ],
      "metadata": {
        "id": "eQg2ew0zTBA6"
      },
      "execution_count": null,
      "outputs": []
    },
    {
      "cell_type": "code",
      "source": [
        "train = preprocess(train, is_train=True)\n",
        "test = preprocess(test)"
      ],
      "metadata": {
        "id": "pf6gCPe_WW3d"
      },
      "execution_count": null,
      "outputs": []
    },
    {
      "cell_type": "code",
      "source": [
        "train_agg = preprocess(train_agg, is_train=True)\n",
        "test_agg = preprocess(test_agg)"
      ],
      "metadata": {
        "id": "p38C7Oh9WbZZ"
      },
      "execution_count": null,
      "outputs": []
    },
    {
      "cell_type": "code",
      "source": [
        "gc.collect()"
      ],
      "metadata": {
        "colab": {
          "base_uri": "https://localhost:8080/"
        },
        "id": "gokKkhoxWi2v",
        "outputId": "0dbbcbd9-5903-4a47-e225-9c0939b7258b"
      },
      "execution_count": null,
      "outputs": [
        {
          "output_type": "execute_result",
          "data": {
            "text/plain": [
              "22"
            ]
          },
          "metadata": {},
          "execution_count": 13
        }
      ]
    },
    {
      "cell_type": "markdown",
      "source": [
        "# Baseline"
      ],
      "metadata": {
        "id": "l-ZLgtRMrJDG"
      }
    },
    {
      "cell_type": "code",
      "source": [
        "def get_best_threshold(y_true, pred_probs):\n",
        "    candidate_thresholds = np.arange(0, 1, 0.005)\n",
        "    candidate_scores = [f1_score(y_true, (pred_probs >= t).astype('int')) \n",
        "                        for t in candidate_thresholds]\n",
        "    best_threshold = candidate_thresholds[np.argmax(candidate_scores)]\n",
        "    return best_threshold"
      ],
      "metadata": {
        "id": "WX8AmF_BY1tl"
      },
      "execution_count": null,
      "outputs": []
    },
    {
      "cell_type": "code",
      "source": [
        "%%time\n",
        "scores_f1 = []\n",
        "cv = StratifiedKFold(n_splits=5, shuffle=True, random_state=SEED)\n",
        "X, y = train, TARGET\n",
        "for fold, (train_idx, val_idx) in enumerate(cv.split(X, y)):\n",
        "    X_train, y_train = X.loc[train_idx], y.iloc[train_idx]\n",
        "    X_val, y_val = X.loc[val_idx], y.iloc[val_idx]\n",
        "\n",
        "    model = XGBClassifier(\n",
        "        objective='binary:logistic',\n",
        "        tree_method='gpu_hist' if HAVE_GPU else 'hist',\n",
        "        enable_categorical=HAVE_GPU,\n",
        "        eval_metric='aucpr',\n",
        "        early_stopping_rounds=100, \n",
        "        seed=SEED\n",
        "    ) \n",
        "    model.fit(\n",
        "        X_train, y_train,\n",
        "        eval_set=[(X_val, y_val)],\n",
        "        verbose=0\n",
        "    )\n",
        "    val_probs = model.predict_proba(X_val)[:, 1]\n",
        "    best_threshold = get_best_threshold(y_val, val_probs)\n",
        "    val_preds = (val_probs >= best_threshold).astype('int')\n",
        "    score = f1_score(y_val, val_preds)\n",
        "    scores_f1.append(score)\n",
        "    print(f'Fold #{fold}: ({model.best_iteration} rounds) F1-score = {score:.5f}')\n",
        "    _ = gc.collect()\n",
        "\n",
        "print(f'\\nAvg F1-score = {np.mean(scores_f1):.5f} +/- {np.std(scores_f1):.5f}\\n')"
      ],
      "metadata": {
        "colab": {
          "base_uri": "https://localhost:8080/"
        },
        "id": "ccFthHeorwUe",
        "outputId": "a26f33c7-81c5-4c0e-91fa-1fd37b1df5e2"
      },
      "execution_count": null,
      "outputs": [
        {
          "output_type": "stream",
          "name": "stdout",
          "text": [
            "Fold #0: (97 rounds) F1-score = 0.68277\n",
            "Fold #1: (96 rounds) F1-score = 0.69898\n",
            "Fold #2: (95 rounds) F1-score = 0.69250\n",
            "Fold #3: (87 rounds) F1-score = 0.70275\n",
            "Fold #4: (79 rounds) F1-score = 0.71790\n",
            "\n",
            "Avg F1-score = 0.69898 +/- 0.01164\n",
            "\n",
            "CPU times: user 29.7 s, sys: 362 ms, total: 30 s\n",
            "Wall time: 32 s\n"
          ]
        }
      ]
    },
    {
      "cell_type": "markdown",
      "metadata": {
        "id": "oVZEqwhQ2oi2"
      },
      "source": [
        "# Hyperparameter tuning"
      ]
    },
    {
      "cell_type": "code",
      "execution_count": null,
      "metadata": {
        "id": "i3VeEFRe2oBe"
      },
      "outputs": [],
      "source": [
        "def objective(trial, data, base_params):\n",
        "\n",
        "    scores = []\n",
        "    X, y = data\n",
        "\n",
        "    param_grid = {\n",
        "        'learning_rate': trial.suggest_float('learning_rate', 0.01, 0.3, step=0.01),\n",
        "        'max_depth': trial.suggest_int('max_depth', 3, 12),\n",
        "        'min_child_weight': trial.suggest_int('min_child_weight', 2, 20),\n",
        "        'gamma': trial.suggest_float('gamma', 0, 20, step=0.1), #complexity-control\n",
        "        'alpha': trial.suggest_float('alpha', 0, 5, step=0.05), #L1-reg\n",
        "        'lambda': trial.suggest_float('lambda', 1e-3, 1e5, log=True), #L2-reg\n",
        "        'subsample': trial.suggest_float('subsample', 0.5, 1.0, step=0.05),\n",
        "        'colsample_bytree': trial.suggest_float('colsample_bytree', 0.5, 1.0, step=0.05),\n",
        "        'colsample_bylevel': trial.suggest_float('colsample_bylevel', 0.5, 1.0, step=0.05),\n",
        "        'colsample_bynode': trial.suggest_float('colsample_bynode', 0.5, 1.0, step=0.05),\n",
        "        'scale_pos_weight': trial.suggest_float('scale_pos_weight', 1, 5, step=0.05)\n",
        "    }\n",
        "\n",
        "    cv = StratifiedKFold(n_splits=5, shuffle=True, random_state=SEED)\n",
        "    for fold, (train_idx, val_idx) in enumerate(cv.split(X, y)):\n",
        "        X_train, y_train = X.loc[train_idx], y.iloc[train_idx]\n",
        "        X_val, y_val = X.loc[val_idx], y.iloc[val_idx]\n",
        "        \n",
        "        model = XGBClassifier(**base_params, **param_grid)\n",
        "        model.fit(\n",
        "            X_train, y_train,\n",
        "            eval_set=[(X_val, y_val)],\n",
        "            verbose=0\n",
        "        )\n",
        "        val_probs = model.predict_proba(X_val)[:, 1]\n",
        "        best_threshold = get_best_threshold(y_val, val_probs)\n",
        "        val_preds = (val_probs >= best_threshold).astype('int')\n",
        "        scores.append(f1_score(y_val, val_preds))\n",
        "\n",
        "    return np.mean(scores)"
      ]
    },
    {
      "cell_type": "code",
      "execution_count": null,
      "metadata": {
        "id": "7JCjxMSuT3Ep"
      },
      "outputs": [],
      "source": [
        "def tune_params(data, base_params, n_trials=10, direction='maximize'):\n",
        "    study = optuna.create_study(\n",
        "        sampler=TPESampler(seed=SEED),\n",
        "        pruner=HyperbandPruner(),\n",
        "        direction=direction\n",
        "    )\n",
        "    \n",
        "    study.optimize(\n",
        "        func=lambda trial: objective(trial, data, base_params),\n",
        "        n_trials=n_trials,\n",
        "        gc_after_trial=True\n",
        "    )\n",
        "    \n",
        "    return study"
      ]
    },
    {
      "cell_type": "markdown",
      "metadata": {
        "id": "0-89LWIEHeTr"
      },
      "source": [
        "# Cross-validation and experiment setup"
      ]
    },
    {
      "cell_type": "code",
      "execution_count": null,
      "metadata": {
        "id": "OsTtaJBBYryk"
      },
      "outputs": [],
      "source": [
        "def evaluate_model(data, model_params, verbose=True):\n",
        "    oof_probs = {}  #out-of-fold predicted probabilities on train set\n",
        "    test_preds = {} #predictions on test set for each fold after threshold-tuning\n",
        "    scores_f1 = [] #F1 scores on validation set\n",
        "\n",
        "    X, X_test, y = data\n",
        "\n",
        "    cv = StratifiedKFold(n_splits=5, shuffle=True, random_state=SEED)\n",
        "    for fold, (train_idx, val_idx) in enumerate(cv.split(X, y)):\n",
        "        X_train, y_train = X.loc[train_idx], y.iloc[train_idx]\n",
        "        X_val, y_val = X.loc[val_idx], y.iloc[val_idx]\n",
        "        \n",
        "        model = XGBClassifier(**model_params)\n",
        "        model.fit(\n",
        "            X_train, y_train,\n",
        "            eval_set=[(X_val, y_val)],\n",
        "            verbose=0\n",
        "        )\n",
        "        val_probs = model.predict_proba(X_val)[:, 1]\n",
        "        oof_probs.update(dict(zip(val_idx, val_probs)))\n",
        "\n",
        "        best_threshold = get_best_threshold(y_val, val_probs)\n",
        "        val_preds = (val_probs >= best_threshold).astype('int')\n",
        "        f1 = f1_score(y_val, val_preds)\n",
        "        scores_f1.append(f1)\n",
        "        if verbose:\n",
        "            print(f'Fold #{fold}: ({model.best_iteration} rounds) F1 = {f1:.5f}')\n",
        "        \n",
        "        test_probs = model.predict_proba(X_test)[:, 1]\n",
        "        test_preds[f'fold{fold}'] = (test_probs >= best_threshold).astype('int')\n",
        "        \n",
        "        _ = gc.collect()\n",
        "\n",
        "    print(f'\\nAvg F1 = {np.mean(scores_f1):.5f} +/- {np.std(scores_f1):.5f}')\n",
        "    \n",
        "    oof_probs = pd.Series(oof_probs).sort_index()\n",
        "    test_preds = pd.DataFrame.from_dict(test_preds)\n",
        "    test_preds['mode'] = test_preds.mode(axis=1)[0]\n",
        "\n",
        "    return oof_probs, test_preds"
      ]
    },
    {
      "cell_type": "code",
      "execution_count": null,
      "metadata": {
        "id": "I0TOKMzxhRt-"
      },
      "outputs": [],
      "source": [
        "def run_experiment(data, n_trials=5):\n",
        "        \n",
        "    X, X_test, y = data\n",
        "    \n",
        "    base_params = {\n",
        "        'objective': 'binary:logistic',\n",
        "        'n_estimators': 10000,\n",
        "        'booster': 'gbtree',\n",
        "        'eval_metric': 'aucpr',\n",
        "        'early_stopping_rounds': 100,\n",
        "        'tree_method': 'gpu_hist' if HAVE_GPU else 'hist',\n",
        "        'predictor': 'gpu_predictor' if HAVE_GPU else 'cpu_predictor',\n",
        "        'enable_categorical': HAVE_GPU,\n",
        "        'verbosity': 1,\n",
        "        'seed': SEED\n",
        "    }\n",
        "    \n",
        "    print(f'---------------Hyperparameter tuning---------------')\n",
        "    study = tune_params(\n",
        "        data=(X, y), \n",
        "        base_params=base_params,\n",
        "        n_trials=n_trials,\n",
        "        direction='maximize'\n",
        "    )\n",
        "    print(f'Best trial: {study.best_trial.number} -> Best value(F1): {study.best_value:.5f}')\n",
        "    print(f'Best hyperparameters:')\n",
        "    for k, v in study.best_params.items():\n",
        "        print(f'{k:20} - {v}')\n",
        "    \n",
        "    model_params = {**base_params, **study.best_params}\n",
        "    print(f'-----------------Cross-validation------------------')\n",
        "    oof_probs, test_preds = evaluate_model(\n",
        "        data=(X, X_test, y), \n",
        "        model_params=model_params\n",
        "    )\n",
        "    return oof_probs, test_preds"
      ]
    },
    {
      "cell_type": "code",
      "source": [
        "oof_probs = pd.DataFrame()"
      ],
      "metadata": {
        "id": "Tp-vpGxPJoqr"
      },
      "execution_count": null,
      "outputs": []
    },
    {
      "cell_type": "markdown",
      "source": [
        "### Generating submission files"
      ],
      "metadata": {
        "id": "77yayiraLXYy"
      }
    },
    {
      "cell_type": "code",
      "source": [
        "NOTEBOOK = '02'\n",
        "SUBMISSION_PATH = f'/content/drive/MyDrive/data_science_competitions/zindi/landslide_prevention/submissions/nb_{NOTEBOOK}'\n",
        "if not os.path.isdir(SUBMISSION_PATH):\n",
        "    os.makedirs(SUBMISSION_PATH)"
      ],
      "metadata": {
        "id": "NO44h9WwLaf4"
      },
      "execution_count": null,
      "outputs": []
    },
    {
      "cell_type": "code",
      "source": [
        "def create_submission_files(test_preds: pd.DataFrame, expt_num: int):\n",
        "    for col in (test_preds.columns):\n",
        "        sub = sample_sub.copy()\n",
        "        sub['Label'] = test_preds[col]\n",
        "        sub.to_csv(f'{SUBMISSION_PATH}/{expt_num}_{col}.csv', index=False)"
      ],
      "metadata": {
        "id": "SjlGeP1bLuw5"
      },
      "execution_count": null,
      "outputs": []
    },
    {
      "cell_type": "markdown",
      "source": [
        "### Test experiment"
      ],
      "metadata": {
        "id": "yC7npR_n949b"
      }
    },
    {
      "cell_type": "code",
      "source": [
        "%%time\n",
        "o, t = run_experiment(\n",
        "    data=(train, test, TARGET),\n",
        "    n_trials=5\n",
        ")"
      ],
      "metadata": {
        "colab": {
          "base_uri": "https://localhost:8080/"
        },
        "id": "JMeoZe-499ls",
        "outputId": "0a4f72a2-2a69-4b6b-c426-8f81974f9918"
      },
      "execution_count": null,
      "outputs": [
        {
          "output_type": "stream",
          "name": "stderr",
          "text": [
            "\u001b[32m[I 2022-09-30 14:43:08,795]\u001b[0m A new study created in memory with name: no-name-65ee3dab-26ac-4b54-acd9-7a4311ce5ee3\u001b[0m\n"
          ]
        },
        {
          "output_type": "stream",
          "name": "stdout",
          "text": [
            "---------------Hyperparameter tuning---------------\n"
          ]
        },
        {
          "output_type": "stream",
          "name": "stderr",
          "text": [
            "\u001b[32m[I 2022-09-30 14:43:26,139]\u001b[0m Trial 0 finished with value: 0.6691674999207106 and parameters: {'learning_rate': 0.16, 'max_depth': 12, 'min_child_weight': 16, 'gamma': 5.6000000000000005, 'alpha': 1.1, 'lambda': 308.87067834937415, 'subsample': 0.55, 'colsample_bytree': 0.7, 'colsample_bylevel': 0.8, 'colsample_bynode': 0.7, 'scale_pos_weight': 1.0}. Best is trial 0 with value: 0.6691674999207106.\u001b[0m\n",
            "\u001b[32m[I 2022-09-30 14:43:34,152]\u001b[0m Trial 1 finished with value: 0.6102823903305248 and parameters: {'learning_rate': 0.27, 'max_depth': 11, 'min_child_weight': 7, 'gamma': 11.8, 'alpha': 4.9, 'lambda': 5764.3531133041315, 'subsample': 0.5, 'colsample_bytree': 0.65, 'colsample_bylevel': 0.65, 'colsample_bynode': 0.95, 'scale_pos_weight': 3.5}. Best is trial 0 with value: 0.6691674999207106.\u001b[0m\n",
            "\u001b[32m[I 2022-09-30 14:44:09,898]\u001b[0m Trial 2 finished with value: 0.702952279400187 and parameters: {'learning_rate': 0.04, 'max_depth': 3, 'min_child_weight': 19, 'gamma': 2.8000000000000003, 'alpha': 2.1, 'lambda': 0.5914465750030369, 'subsample': 0.95, 'colsample_bytree': 0.7, 'colsample_bylevel': 0.95, 'colsample_bynode': 0.8500000000000001, 'scale_pos_weight': 1.45}. Best is trial 2 with value: 0.702952279400187.\u001b[0m\n",
            "\u001b[32m[I 2022-09-30 14:44:20,184]\u001b[0m Trial 3 finished with value: 0.6935699578018839 and parameters: {'learning_rate': 0.18000000000000002, 'max_depth': 4, 'min_child_weight': 3, 'gamma': 16.7, 'alpha': 2.3000000000000003, 'lambda': 0.01977424141771114, 'subsample': 0.8, 'colsample_bytree': 0.8, 'colsample_bylevel': 0.9, 'colsample_bynode': 0.8500000000000001, 'scale_pos_weight': 3.25}. Best is trial 2 with value: 0.702952279400187.\u001b[0m\n",
            "\u001b[32m[I 2022-09-30 14:44:34,979]\u001b[0m Trial 4 finished with value: 0.5800476975172929 and parameters: {'learning_rate': 0.060000000000000005, 'max_depth': 5, 'min_child_weight': 11, 'gamma': 7.9, 'alpha': 2.4000000000000004, 'lambda': 44250.555674768046, 'subsample': 0.95, 'colsample_bytree': 0.75, 'colsample_bylevel': 0.95, 'colsample_bynode': 0.95, 'scale_pos_weight': 1.9}. Best is trial 2 with value: 0.702952279400187.\u001b[0m\n"
          ]
        },
        {
          "output_type": "stream",
          "name": "stdout",
          "text": [
            "Best trial: 2 -> Best value(F1): 0.70295\n",
            "Best hyperparameters:\n",
            "learning_rate        - 0.04\n",
            "max_depth            - 3\n",
            "min_child_weight     - 19\n",
            "gamma                - 2.8000000000000003\n",
            "alpha                - 2.1\n",
            "lambda               - 0.5914465750030369\n",
            "subsample            - 0.95\n",
            "colsample_bytree     - 0.7\n",
            "colsample_bylevel    - 0.95\n",
            "colsample_bynode     - 0.8500000000000001\n",
            "scale_pos_weight     - 1.45\n",
            "-----------------Cross-validation------------------\n",
            "Fold #0: (667 rounds) F1 = 0.68332\n",
            "Fold #1: (800 rounds) F1 = 0.70545\n",
            "Fold #2: (746 rounds) F1 = 0.70037\n",
            "Fold #3: (1144 rounds) F1 = 0.70427\n",
            "Fold #4: (579 rounds) F1 = 0.72134\n",
            "\n",
            "Avg F1 = 0.70295 +/- 0.01215\n",
            "CPU times: user 2min 7s, sys: 709 ms, total: 2min 8s\n",
            "Wall time: 2min 3s\n"
          ]
        }
      ]
    },
    {
      "cell_type": "markdown",
      "source": [
        "### Experiment 1: Original features"
      ],
      "metadata": {
        "id": "bzHQSwz3BUkY"
      }
    },
    {
      "cell_type": "code",
      "source": [
        "%%time\n",
        "oof_probs['2_1'], test_preds_1 = run_experiment(\n",
        "    data=(train, test, TARGET),\n",
        "    n_trials=100\n",
        ")"
      ],
      "metadata": {
        "colab": {
          "base_uri": "https://localhost:8080/"
        },
        "id": "i60M-qrfJkbr",
        "outputId": "7eb2d538-62e9-4bf9-9715-b08d21277cd7"
      },
      "execution_count": null,
      "outputs": [
        {
          "metadata": {
            "tags": null
          },
          "name": "stderr",
          "output_type": "stream",
          "text": [
            "\u001b[32m[I 2022-09-30 14:45:12,725]\u001b[0m A new study created in memory with name: no-name-5b59fb3f-cffb-48f4-a617-968f9dc9535a\u001b[0m\n"
          ]
        },
        {
          "metadata": {
            "tags": null
          },
          "name": "stdout",
          "output_type": "stream",
          "text": [
            "---------------Hyperparameter tuning---------------\n"
          ]
        },
        {
          "output_type": "stream",
          "name": "stderr",
          "text": [
            "\u001b[32m[I 2022-09-30 14:45:29,907]\u001b[0m Trial 0 finished with value: 0.6691674999207106 and parameters: {'learning_rate': 0.16, 'max_depth': 12, 'min_child_weight': 16, 'gamma': 5.6000000000000005, 'alpha': 1.1, 'lambda': 308.87067834937415, 'subsample': 0.55, 'colsample_bytree': 0.7, 'colsample_bylevel': 0.8, 'colsample_bynode': 0.7, 'scale_pos_weight': 1.0}. Best is trial 0 with value: 0.6691674999207106.\u001b[0m\n",
            "\u001b[32m[I 2022-09-30 14:45:37,804]\u001b[0m Trial 1 finished with value: 0.6102823903305248 and parameters: {'learning_rate': 0.27, 'max_depth': 11, 'min_child_weight': 7, 'gamma': 11.8, 'alpha': 4.9, 'lambda': 5764.3531133041315, 'subsample': 0.5, 'colsample_bytree': 0.65, 'colsample_bylevel': 0.65, 'colsample_bynode': 0.95, 'scale_pos_weight': 3.5}. Best is trial 0 with value: 0.6691674999207106.\u001b[0m\n",
            "\u001b[32m[I 2022-09-30 14:46:13,495]\u001b[0m Trial 2 finished with value: 0.702952279400187 and parameters: {'learning_rate': 0.04, 'max_depth': 3, 'min_child_weight': 19, 'gamma': 2.8000000000000003, 'alpha': 2.1, 'lambda': 0.5914465750030369, 'subsample': 0.95, 'colsample_bytree': 0.7, 'colsample_bylevel': 0.95, 'colsample_bynode': 0.8500000000000001, 'scale_pos_weight': 1.45}. Best is trial 2 with value: 0.702952279400187.\u001b[0m\n",
            "\u001b[32m[I 2022-09-30 14:46:23,870]\u001b[0m Trial 3 finished with value: 0.6935699578018839 and parameters: {'learning_rate': 0.18000000000000002, 'max_depth': 4, 'min_child_weight': 3, 'gamma': 16.7, 'alpha': 2.3000000000000003, 'lambda': 0.01977424141771114, 'subsample': 0.8, 'colsample_bytree': 0.8, 'colsample_bylevel': 0.9, 'colsample_bynode': 0.8500000000000001, 'scale_pos_weight': 3.25}. Best is trial 2 with value: 0.702952279400187.\u001b[0m\n",
            "\u001b[32m[I 2022-09-30 14:46:38,722]\u001b[0m Trial 4 finished with value: 0.5800476975172929 and parameters: {'learning_rate': 0.060000000000000005, 'max_depth': 5, 'min_child_weight': 11, 'gamma': 7.9, 'alpha': 2.4000000000000004, 'lambda': 44250.555674768046, 'subsample': 0.95, 'colsample_bytree': 0.75, 'colsample_bylevel': 0.95, 'colsample_bynode': 0.95, 'scale_pos_weight': 1.9}. Best is trial 2 with value: 0.702952279400187.\u001b[0m\n",
            "\u001b[32m[I 2022-09-30 14:47:08,157]\u001b[0m Trial 5 finished with value: 0.610448041771998 and parameters: {'learning_rate': 0.03, 'max_depth': 7, 'min_child_weight': 18, 'gamma': 2.9000000000000004, 'alpha': 1.1500000000000001, 'lambda': 22058.01590986745, 'subsample': 0.55, 'colsample_bytree': 1.0, 'colsample_bylevel': 0.6, 'colsample_bynode': 0.8, 'scale_pos_weight': 4.85}. Best is trial 2 with value: 0.702952279400187.\u001b[0m\n",
            "\u001b[32m[I 2022-09-30 14:47:31,919]\u001b[0m Trial 6 finished with value: 0.6825048827570143 and parameters: {'learning_rate': 0.08, 'max_depth': 7, 'min_child_weight': 20, 'gamma': 4.800000000000001, 'alpha': 1.0, 'lambda': 318.83868946798094, 'subsample': 0.95, 'colsample_bytree': 0.7, 'colsample_bylevel': 0.55, 'colsample_bynode': 0.8, 'scale_pos_weight': 1.3}. Best is trial 2 with value: 0.702952279400187.\u001b[0m\n",
            "\u001b[32m[I 2022-09-30 14:48:05,208]\u001b[0m Trial 7 finished with value: 0.6816450102877332 and parameters: {'learning_rate': 0.02, 'max_depth': 6, 'min_child_weight': 19, 'gamma': 16.0, 'alpha': 1.9000000000000001, 'lambda': 0.005518334672133242, 'subsample': 0.55, 'colsample_bytree': 0.75, 'colsample_bylevel': 0.75, 'colsample_bynode': 0.75, 'scale_pos_weight': 1.5}. Best is trial 2 with value: 0.702952279400187.\u001b[0m\n",
            "\u001b[32m[I 2022-09-30 14:48:21,438]\u001b[0m Trial 8 finished with value: 0.699367521340088 and parameters: {'learning_rate': 0.24000000000000002, 'max_depth': 8, 'min_child_weight': 16, 'gamma': 9.200000000000001, 'alpha': 0.35000000000000003, 'lambda': 66.05455144158799, 'subsample': 0.7, 'colsample_bytree': 0.5, 'colsample_bylevel': 0.5, 'colsample_bynode': 0.7, 'scale_pos_weight': 4.550000000000001}. Best is trial 2 with value: 0.702952279400187.\u001b[0m\n",
            "\u001b[32m[I 2022-09-30 14:48:58,929]\u001b[0m Trial 9 finished with value: 0.7105598118422758 and parameters: {'learning_rate': 0.13, 'max_depth': 9, 'min_child_weight': 12, 'gamma': 4.800000000000001, 'alpha': 1.4500000000000002, 'lambda': 0.0010969817180127082, 'subsample': 0.55, 'colsample_bytree': 0.75, 'colsample_bylevel': 0.8500000000000001, 'colsample_bynode': 0.55, 'scale_pos_weight': 3.8000000000000003}. Best is trial 9 with value: 0.7105598118422758.\u001b[0m\n",
            "\u001b[32m[I 2022-09-30 14:50:45,266]\u001b[0m Trial 10 finished with value: 0.7143040734691292 and parameters: {'learning_rate': 0.11, 'max_depth': 10, 'min_child_weight': 11, 'gamma': 0.4, 'alpha': 3.6500000000000004, 'lambda': 0.6235621750306393, 'subsample': 0.7, 'colsample_bytree': 0.9, 'colsample_bylevel': 0.8, 'colsample_bynode': 0.5, 'scale_pos_weight': 3.95}. Best is trial 10 with value: 0.7143040734691292.\u001b[0m\n",
            "\u001b[32m[I 2022-09-30 14:52:23,612]\u001b[0m Trial 11 finished with value: 0.7108345954929598 and parameters: {'learning_rate': 0.11, 'max_depth': 10, 'min_child_weight': 11, 'gamma': 0.4, 'alpha': 3.85, 'lambda': 0.676571974493674, 'subsample': 0.7, 'colsample_bytree': 0.9, 'colsample_bylevel': 0.8, 'colsample_bynode': 0.5, 'scale_pos_weight': 3.95}. Best is trial 10 with value: 0.7143040734691292.\u001b[0m\n",
            "\u001b[32m[I 2022-09-30 14:54:26,777]\u001b[0m Trial 12 finished with value: 0.7138185500295713 and parameters: {'learning_rate': 0.12, 'max_depth': 10, 'min_child_weight': 11, 'gamma': 0.2, 'alpha': 3.8000000000000003, 'lambda': 1.153279557158239, 'subsample': 0.7, 'colsample_bytree': 0.95, 'colsample_bylevel': 0.7, 'colsample_bynode': 0.5, 'scale_pos_weight': 4.1}. Best is trial 10 with value: 0.7143040734691292.\u001b[0m\n",
            "\u001b[32m[I 2022-09-30 14:55:47,953]\u001b[0m Trial 13 finished with value: 0.7080527770197269 and parameters: {'learning_rate': 0.2, 'max_depth': 10, 'min_child_weight': 8, 'gamma': 0.1, 'alpha': 3.7, 'lambda': 0.824474571092666, 'subsample': 0.8, 'colsample_bytree': 1.0, 'colsample_bylevel': 0.7, 'colsample_bynode': 0.6, 'scale_pos_weight': 2.5}. Best is trial 10 with value: 0.7143040734691292.\u001b[0m\n",
            "\u001b[32m[I 2022-09-30 14:56:09,526]\u001b[0m Trial 14 finished with value: 0.7028358418052247 and parameters: {'learning_rate': 0.11, 'max_depth': 12, 'min_child_weight': 8, 'gamma': 12.5, 'alpha': 3.35, 'lambda': 5.3224947024328975, 'subsample': 0.65, 'colsample_bytree': 0.9, 'colsample_bylevel': 0.7, 'colsample_bynode': 0.6, 'scale_pos_weight': 4.4}. Best is trial 10 with value: 0.7143040734691292.\u001b[0m\n",
            "\u001b[32m[I 2022-09-30 14:56:28,594]\u001b[0m Trial 15 finished with value: 0.690288694247165 and parameters: {'learning_rate': 0.09, 'max_depth': 9, 'min_child_weight': 13, 'gamma': 19.900000000000002, 'alpha': 4.55, 'lambda': 0.06918603388528, 'subsample': 0.8500000000000001, 'colsample_bytree': 0.9, 'colsample_bylevel': 0.75, 'colsample_bynode': 0.5, 'scale_pos_weight': 4.300000000000001}. Best is trial 10 with value: 0.7143040734691292.\u001b[0m\n",
            "\u001b[32m[I 2022-09-30 14:57:12,299]\u001b[0m Trial 16 finished with value: 0.7086997337674641 and parameters: {'learning_rate': 0.22, 'max_depth': 10, 'min_child_weight': 5, 'gamma': 2.0, 'alpha': 2.9000000000000004, 'lambda': 12.559947167575956, 'subsample': 0.65, 'colsample_bytree': 0.8500000000000001, 'colsample_bylevel': 0.65, 'colsample_bynode': 0.6, 'scale_pos_weight': 2.7}. Best is trial 10 with value: 0.7143040734691292.\u001b[0m\n",
            "\u001b[32m[I 2022-09-30 14:57:38,033]\u001b[0m Trial 17 finished with value: 0.7045031331746452 and parameters: {'learning_rate': 0.14, 'max_depth': 8, 'min_child_weight': 14, 'gamma': 6.800000000000001, 'alpha': 4.2, 'lambda': 0.08259655505537836, 'subsample': 0.75, 'colsample_bytree': 0.95, 'colsample_bylevel': 0.8500000000000001, 'colsample_bynode': 0.65, 'scale_pos_weight': 3.95}. Best is trial 10 with value: 0.7143040734691292.\u001b[0m\n",
            "\u001b[32m[I 2022-09-30 14:59:31,677]\u001b[0m Trial 18 finished with value: 0.7030006741762481 and parameters: {'learning_rate': 0.3, 'max_depth': 11, 'min_child_weight': 9, 'gamma': 0.0, 'alpha': 3.0, 'lambda': 6.820962236530198, 'subsample': 0.65, 'colsample_bytree': 0.8500000000000001, 'colsample_bylevel': 1.0, 'colsample_bynode': 0.5, 'scale_pos_weight': 4.9}. Best is trial 10 with value: 0.7143040734691292.\u001b[0m\n",
            "\u001b[32m[I 2022-09-30 14:59:59,707]\u001b[0m Trial 19 finished with value: 0.7081313834013749 and parameters: {'learning_rate': 0.17, 'max_depth': 9, 'min_child_weight': 15, 'gamma': 3.3000000000000003, 'alpha': 4.1000000000000005, 'lambda': 0.12028360381129229, 'subsample': 0.8500000000000001, 'colsample_bytree': 0.95, 'colsample_bylevel': 0.75, 'colsample_bynode': 0.55, 'scale_pos_weight': 2.95}. Best is trial 10 with value: 0.7143040734691292.\u001b[0m\n",
            "\u001b[32m[I 2022-09-30 15:00:29,704]\u001b[0m Trial 20 finished with value: 0.7044917185434874 and parameters: {'learning_rate': 0.06999999999999999, 'max_depth': 11, 'min_child_weight': 10, 'gamma': 10.8, 'alpha': 3.35, 'lambda': 3.215594060803856, 'subsample': 0.75, 'colsample_bytree': 0.55, 'colsample_bylevel': 0.65, 'colsample_bynode': 0.55, 'scale_pos_weight': 3.6}. Best is trial 10 with value: 0.7143040734691292.\u001b[0m\n",
            "\u001b[32m[I 2022-09-30 15:01:56,196]\u001b[0m Trial 21 finished with value: 0.7145697091203596 and parameters: {'learning_rate': 0.09999999999999999, 'max_depth': 10, 'min_child_weight': 11, 'gamma': 1.2000000000000002, 'alpha': 4.0, 'lambda': 0.5723912861107948, 'subsample': 0.7, 'colsample_bytree': 0.9, 'colsample_bylevel': 0.8, 'colsample_bynode': 0.5, 'scale_pos_weight': 4.0}. Best is trial 21 with value: 0.7145697091203596.\u001b[0m\n",
            "\u001b[32m[I 2022-09-30 15:03:29,742]\u001b[0m Trial 22 finished with value: 0.716419391150389 and parameters: {'learning_rate': 0.11, 'max_depth': 10, 'min_child_weight': 6, 'gamma': 1.7000000000000002, 'alpha': 4.55, 'lambda': 39.99442849063798, 'subsample': 0.7, 'colsample_bytree': 0.95, 'colsample_bylevel': 0.8, 'colsample_bynode': 0.5, 'scale_pos_weight': 4.25}. Best is trial 22 with value: 0.716419391150389.\u001b[0m\n",
            "\u001b[32m[I 2022-09-30 15:05:23,108]\u001b[0m Trial 23 finished with value: 0.7139944467434508 and parameters: {'learning_rate': 0.09, 'max_depth': 9, 'min_child_weight': 2, 'gamma': 1.7000000000000002, 'alpha': 5.0, 'lambda': 73.33505340771124, 'subsample': 0.6, 'colsample_bytree': 0.8500000000000001, 'colsample_bylevel': 0.8500000000000001, 'colsample_bynode': 0.65, 'scale_pos_weight': 3.35}. Best is trial 22 with value: 0.716419391150389.\u001b[0m\n",
            "\u001b[32m[I 2022-09-30 15:06:11,688]\u001b[0m Trial 24 finished with value: 0.7118901891024183 and parameters: {'learning_rate': 0.14, 'max_depth': 12, 'min_child_weight': 6, 'gamma': 3.7, 'alpha': 4.5, 'lambda': 32.689706968412146, 'subsample': 0.8, 'colsample_bytree': 1.0, 'colsample_bylevel': 0.8, 'colsample_bynode': 0.55, 'scale_pos_weight': 4.4}. Best is trial 22 with value: 0.716419391150389.\u001b[0m\n",
            "\u001b[32m[I 2022-09-30 15:07:10,796]\u001b[0m Trial 25 finished with value: 0.6996790447635243 and parameters: {'learning_rate': 0.05, 'max_depth': 11, 'min_child_weight': 5, 'gamma': 6.7, 'alpha': 4.45, 'lambda': 349.3770699078032, 'subsample': 0.7, 'colsample_bytree': 0.8, 'colsample_bylevel': 0.9, 'colsample_bynode': 0.65, 'scale_pos_weight': 4.800000000000001}. Best is trial 22 with value: 0.716419391150389.\u001b[0m\n",
            "\u001b[32m[I 2022-09-30 15:08:31,920]\u001b[0m Trial 26 finished with value: 0.7079917046811712 and parameters: {'learning_rate': 0.09999999999999999, 'max_depth': 8, 'min_child_weight': 4, 'gamma': 1.3, 'alpha': 2.95, 'lambda': 0.19398847239719372, 'subsample': 0.6, 'colsample_bytree': 0.95, 'colsample_bylevel': 0.8, 'colsample_bynode': 1.0, 'scale_pos_weight': 3.75}. Best is trial 22 with value: 0.716419391150389.\u001b[0m\n",
            "\u001b[32m[I 2022-09-30 15:08:56,702]\u001b[0m Trial 27 finished with value: 0.6829486343986086 and parameters: {'learning_rate': 0.15000000000000002, 'max_depth': 10, 'min_child_weight': 9, 'gamma': 4.2, 'alpha': 3.4000000000000004, 'lambda': 1721.1678417560345, 'subsample': 0.8500000000000001, 'colsample_bytree': 0.9, 'colsample_bylevel': 0.9, 'colsample_bynode': 0.5, 'scale_pos_weight': 3.0500000000000003}. Best is trial 22 with value: 0.716419391150389.\u001b[0m\n",
            "\u001b[32m[I 2022-09-30 15:14:50,125]\u001b[0m Trial 28 finished with value: 0.7147977406759592 and parameters: {'learning_rate': 0.01, 'max_depth': 6, 'min_child_weight': 13, 'gamma': 1.8, 'alpha': 4.2, 'lambda': 2.256210952589817, 'subsample': 0.75, 'colsample_bytree': 0.8, 'colsample_bylevel': 0.75, 'colsample_bynode': 0.6, 'scale_pos_weight': 4.15}. Best is trial 22 with value: 0.716419391150389.\u001b[0m\n",
            "\u001b[32m[I 2022-09-30 15:17:52,311]\u001b[0m Trial 29 finished with value: 0.7085949024114051 and parameters: {'learning_rate': 0.01, 'max_depth': 5, 'min_child_weight': 13, 'gamma': 6.4, 'alpha': 4.65, 'lambda': 21.568791051124894, 'subsample': 0.75, 'colsample_bytree': 0.8, 'colsample_bylevel': 0.75, 'colsample_bynode': 0.6, 'scale_pos_weight': 4.65}. Best is trial 22 with value: 0.716419391150389.\u001b[0m\n",
            "\u001b[32m[I 2022-09-30 15:18:05,653]\u001b[0m Trial 30 finished with value: 0.6682544003793811 and parameters: {'learning_rate': 0.19, 'max_depth': 6, 'min_child_weight': 17, 'gamma': 7.9, 'alpha': 4.15, 'lambda': 1030.6994942639901, 'subsample': 0.9, 'colsample_bytree': 0.6, 'colsample_bylevel': 0.8500000000000001, 'colsample_bynode': 0.7, 'scale_pos_weight': 2.3}. Best is trial 22 with value: 0.716419391150389.\u001b[0m\n",
            "\u001b[32m[I 2022-09-30 15:19:10,500]\u001b[0m Trial 31 finished with value: 0.7133700354146123 and parameters: {'learning_rate': 0.06999999999999999, 'max_depth': 6, 'min_child_weight': 13, 'gamma': 1.9000000000000001, 'alpha': 3.6, 'lambda': 2.109476577608706, 'subsample': 0.75, 'colsample_bytree': 0.8500000000000001, 'colsample_bylevel': 0.8, 'colsample_bynode': 0.55, 'scale_pos_weight': 4.2}. Best is trial 22 with value: 0.716419391150389.\u001b[0m\n",
            "\u001b[32m[I 2022-09-30 15:20:28,247]\u001b[0m Trial 32 finished with value: 0.7099508272059091 and parameters: {'learning_rate': 0.05, 'max_depth': 12, 'min_child_weight': 7, 'gamma': 5.300000000000001, 'alpha': 4.800000000000001, 'lambda': 0.2391260716707446, 'subsample': 0.65, 'colsample_bytree': 0.9, 'colsample_bylevel': 0.75, 'colsample_bynode': 0.5, 'scale_pos_weight': 3.5500000000000003}. Best is trial 22 with value: 0.716419391150389.\u001b[0m\n",
            "\u001b[32m[I 2022-09-30 15:21:08,983]\u001b[0m Trial 33 finished with value: 0.7056691918542646 and parameters: {'learning_rate': 0.16, 'max_depth': 7, 'min_child_weight': 15, 'gamma': 1.5, 'alpha': 4.2, 'lambda': 0.025169127139645902, 'subsample': 0.6, 'colsample_bytree': 0.95, 'colsample_bylevel': 0.7, 'colsample_bynode': 0.55, 'scale_pos_weight': 3.9000000000000004}. Best is trial 22 with value: 0.716419391150389.\u001b[0m\n",
            "\u001b[32m[I 2022-09-30 15:22:06,035]\u001b[0m Trial 34 finished with value: 0.7125409665434707 and parameters: {'learning_rate': 0.12, 'max_depth': 11, 'min_child_weight': 10, 'gamma': 3.1, 'alpha': 3.95, 'lambda': 3.0575060760771673, 'subsample': 0.7, 'colsample_bytree': 0.8, 'colsample_bylevel': 0.8, 'colsample_bynode': 0.6, 'scale_pos_weight': 4.15}. Best is trial 22 with value: 0.716419391150389.\u001b[0m\n",
            "\u001b[32m[I 2022-09-30 15:22:55,984]\u001b[0m Trial 35 finished with value: 0.7098337711269689 and parameters: {'learning_rate': 0.04, 'max_depth': 3, 'min_child_weight': 12, 'gamma': 2.2, 'alpha': 4.4, 'lambda': 0.38827291913498285, 'subsample': 0.8, 'colsample_bytree': 0.8500000000000001, 'colsample_bylevel': 0.8500000000000001, 'colsample_bynode': 0.5, 'scale_pos_weight': 3.3000000000000003}. Best is trial 22 with value: 0.716419391150389.\u001b[0m\n",
            "\u001b[32m[I 2022-09-30 15:24:01,599]\u001b[0m Trial 36 finished with value: 0.7075315282043062 and parameters: {'learning_rate': 0.09, 'max_depth': 5, 'min_child_weight': 14, 'gamma': 1.1, 'alpha': 2.7, 'lambda': 69.7059679571898, 'subsample': 0.5, 'colsample_bytree': 0.65, 'colsample_bylevel': 0.95, 'colsample_bynode': 0.55, 'scale_pos_weight': 4.550000000000001}. Best is trial 22 with value: 0.716419391150389.\u001b[0m\n",
            "\u001b[32m[I 2022-09-30 15:26:07,105]\u001b[0m Trial 37 finished with value: 0.6960442370281685 and parameters: {'learning_rate': 0.01, 'max_depth': 9, 'min_child_weight': 10, 'gamma': 13.200000000000001, 'alpha': 4.95, 'lambda': 0.03553672067388865, 'subsample': 0.8, 'colsample_bytree': 1.0, 'colsample_bylevel': 0.65, 'colsample_bynode': 0.5, 'scale_pos_weight': 3.6}. Best is trial 22 with value: 0.716419391150389.\u001b[0m\n",
            "\u001b[32m[I 2022-09-30 15:26:47,014]\u001b[0m Trial 38 finished with value: 0.7096170727395684 and parameters: {'learning_rate': 0.06999999999999999, 'max_depth': 4, 'min_child_weight': 7, 'gamma': 2.9000000000000004, 'alpha': 3.5500000000000003, 'lambda': 0.009404633431235522, 'subsample': 0.75, 'colsample_bytree': 0.75, 'colsample_bylevel': 0.8, 'colsample_bynode': 0.7, 'scale_pos_weight': 4.1}. Best is trial 22 with value: 0.716419391150389.\u001b[0m\n",
            "\u001b[32m[I 2022-09-30 15:28:52,269]\u001b[0m Trial 39 finished with value: 0.7146847181340713 and parameters: {'learning_rate': 0.03, 'max_depth': 7, 'min_child_weight': 12, 'gamma': 4.4, 'alpha': 3.1, 'lambda': 9.02557458435232, 'subsample': 0.65, 'colsample_bytree': 0.8, 'colsample_bylevel': 0.6, 'colsample_bynode': 0.8500000000000001, 'scale_pos_weight': 4.7}. Best is trial 22 with value: 0.716419391150389.\u001b[0m\n",
            "\u001b[32m[I 2022-09-30 15:30:22,949]\u001b[0m Trial 40 finished with value: 0.703059364867787 and parameters: {'learning_rate': 0.03, 'max_depth': 7, 'min_child_weight': 17, 'gamma': 4.3, 'alpha': 3.1500000000000004, 'lambda': 126.58210861862507, 'subsample': 1.0, 'colsample_bytree': 0.7, 'colsample_bylevel': 0.55, 'colsample_bynode': 0.9, 'scale_pos_weight': 4.7}. Best is trial 22 with value: 0.716419391150389.\u001b[0m\n",
            "\u001b[32m[I 2022-09-30 15:32:56,468]\u001b[0m Trial 41 finished with value: 0.7120522698643956 and parameters: {'learning_rate': 0.03, 'max_depth': 6, 'min_child_weight': 12, 'gamma': 2.5, 'alpha': 2.45, 'lambda': 15.079409031631258, 'subsample': 0.65, 'colsample_bytree': 0.8, 'colsample_bylevel': 0.9, 'colsample_bynode': 0.8, 'scale_pos_weight': 4.45}. Best is trial 22 with value: 0.716419391150389.\u001b[0m\n",
            "\u001b[32m[I 2022-09-30 15:34:55,204]\u001b[0m Trial 42 finished with value: 0.7107917760018483 and parameters: {'learning_rate': 0.060000000000000005, 'max_depth': 8, 'min_child_weight': 14, 'gamma': 1.0, 'alpha': 2.0500000000000003, 'lambda': 1.1670917950568251, 'subsample': 0.7, 'colsample_bytree': 0.75, 'colsample_bylevel': 0.6, 'colsample_bynode': 0.8500000000000001, 'scale_pos_weight': 4.9}. Best is trial 22 with value: 0.716419391150389.\u001b[0m\n",
            "\u001b[32m[I 2022-09-30 15:37:08,992]\u001b[0m Trial 43 finished with value: 0.7109690412531673 and parameters: {'learning_rate': 0.02, 'max_depth': 7, 'min_child_weight': 9, 'gamma': 5.7, 'alpha': 3.9000000000000004, 'lambda': 6.958205804729983, 'subsample': 0.6, 'colsample_bytree': 0.7, 'colsample_bylevel': 0.5, 'colsample_bynode': 0.9, 'scale_pos_weight': 3.75}. Best is trial 22 with value: 0.716419391150389.\u001b[0m\n",
            "\u001b[32m[I 2022-09-30 15:37:53,389]\u001b[0m Trial 44 finished with value: 0.7082020983792241 and parameters: {'learning_rate': 0.11, 'max_depth': 5, 'min_child_weight': 12, 'gamma': 0.9, 'alpha': 2.7, 'lambda': 1.5499773783421291, 'subsample': 0.7, 'colsample_bytree': 0.9, 'colsample_bylevel': 0.55, 'colsample_bynode': 0.75, 'scale_pos_weight': 5.0}. Best is trial 22 with value: 0.716419391150389.\u001b[0m\n",
            "\u001b[32m[I 2022-09-30 15:39:28,373]\u001b[0m Trial 45 finished with value: 0.7161558869241909 and parameters: {'learning_rate': 0.05, 'max_depth': 8, 'min_child_weight': 11, 'gamma': 3.5, 'alpha': 0.15000000000000002, 'lambda': 0.3622784736227805, 'subsample': 0.65, 'colsample_bytree': 0.8500000000000001, 'colsample_bylevel': 0.6, 'colsample_bynode': 0.8500000000000001, 'scale_pos_weight': 4.25}. Best is trial 22 with value: 0.716419391150389.\u001b[0m\n",
            "\u001b[32m[I 2022-09-30 15:40:28,696]\u001b[0m Trial 46 finished with value: 0.7121037375126402 and parameters: {'learning_rate': 0.04, 'max_depth': 4, 'min_child_weight': 15, 'gamma': 4.3, 'alpha': 0.15000000000000002, 'lambda': 0.37858974291801517, 'subsample': 0.65, 'colsample_bytree': 0.8, 'colsample_bylevel': 0.6, 'colsample_bynode': 0.8500000000000001, 'scale_pos_weight': 4.25}. Best is trial 22 with value: 0.716419391150389.\u001b[0m\n",
            "\u001b[32m[I 2022-09-30 15:41:19,237]\u001b[0m Trial 47 finished with value: 0.7061798313109373 and parameters: {'learning_rate': 0.05, 'max_depth': 8, 'min_child_weight': 10, 'gamma': 9.3, 'alpha': 1.7000000000000002, 'lambda': 30.996171494789234, 'subsample': 0.6, 'colsample_bytree': 0.8500000000000001, 'colsample_bylevel': 0.6, 'colsample_bynode': 0.9, 'scale_pos_weight': 4.7}. Best is trial 22 with value: 0.716419391150389.\u001b[0m\n",
            "\u001b[32m[I 2022-09-30 15:43:30,441]\u001b[0m Trial 48 finished with value: 0.7157472410048898 and parameters: {'learning_rate': 0.02, 'max_depth': 6, 'min_child_weight': 8, 'gamma': 5.7, 'alpha': 0.7000000000000001, 'lambda': 3.4801351356980823, 'subsample': 0.55, 'colsample_bytree': 0.75, 'colsample_bylevel': 0.55, 'colsample_bynode': 0.8, 'scale_pos_weight': 4.550000000000001}. Best is trial 22 with value: 0.716419391150389.\u001b[0m\n",
            "\u001b[32m[I 2022-09-30 15:45:15,842]\u001b[0m Trial 49 finished with value: 0.69900097743049 and parameters: {'learning_rate': 0.02, 'max_depth': 6, 'min_child_weight': 8, 'gamma': 8.0, 'alpha': 0.6000000000000001, 'lambda': 150.97984928244233, 'subsample': 0.55, 'colsample_bytree': 0.65, 'colsample_bylevel': 0.55, 'colsample_bynode': 0.8500000000000001, 'scale_pos_weight': 4.550000000000001}. Best is trial 22 with value: 0.716419391150389.\u001b[0m\n",
            "\u001b[32m[I 2022-09-30 15:45:26,087]\u001b[0m Trial 50 finished with value: 0.5750151408178665 and parameters: {'learning_rate': 0.03, 'max_depth': 7, 'min_child_weight': 5, 'gamma': 5.800000000000001, 'alpha': 0.75, 'lambda': 61224.779218750984, 'subsample': 0.5, 'colsample_bytree': 0.75, 'colsample_bylevel': 0.5, 'colsample_bynode': 0.8, 'scale_pos_weight': 4.35}. Best is trial 22 with value: 0.716419391150389.\u001b[0m\n",
            "\u001b[32m[I 2022-09-30 15:46:29,069]\u001b[0m Trial 51 finished with value: 0.7122365162822331 and parameters: {'learning_rate': 0.060000000000000005, 'max_depth': 6, 'min_child_weight': 6, 'gamma': 3.7, 'alpha': 0.0, 'lambda': 2.6490158183336057, 'subsample': 0.75, 'colsample_bytree': 0.75, 'colsample_bylevel': 0.6, 'colsample_bynode': 0.75, 'scale_pos_weight': 4.050000000000001}. Best is trial 22 with value: 0.716419391150389.\u001b[0m\n",
            "\u001b[32m[I 2022-09-30 15:53:41,239]\u001b[0m Trial 52 finished with value: 0.7160409612197867 and parameters: {'learning_rate': 0.01, 'max_depth': 7, 'min_child_weight': 11, 'gamma': 2.8000000000000003, 'alpha': 1.05, 'lambda': 9.29904324029406, 'subsample': 0.65, 'colsample_bytree': 0.8, 'colsample_bylevel': 0.55, 'colsample_bynode': 0.95, 'scale_pos_weight': 4.550000000000001}. Best is trial 22 with value: 0.716419391150389.\u001b[0m\n",
            "\u001b[32m[I 2022-09-30 15:58:40,611]\u001b[0m Trial 53 finished with value: 0.7115706116144398 and parameters: {'learning_rate': 0.01, 'max_depth': 7, 'min_child_weight': 13, 'gamma': 5.2, 'alpha': 1.05, 'lambda': 9.651862851654036, 'subsample': 0.65, 'colsample_bytree': 0.8, 'colsample_bylevel': 0.5, 'colsample_bynode': 0.95, 'scale_pos_weight': 4.5}. Best is trial 22 with value: 0.716419391150389.\u001b[0m\n",
            "\u001b[32m[I 2022-09-30 16:04:56,819]\u001b[0m Trial 54 finished with value: 0.7127247318618691 and parameters: {'learning_rate': 0.01, 'max_depth': 6, 'min_child_weight': 8, 'gamma': 2.5, 'alpha': 0.35000000000000003, 'lambda': 39.408862491920225, 'subsample': 0.55, 'colsample_bytree': 0.7, 'colsample_bylevel': 0.55, 'colsample_bynode': 1.0, 'scale_pos_weight': 4.75}. Best is trial 22 with value: 0.716419391150389.\u001b[0m\n",
            "\u001b[32m[I 2022-09-30 16:05:53,568]\u001b[0m Trial 55 finished with value: 0.7087685409945648 and parameters: {'learning_rate': 0.04, 'max_depth': 5, 'min_child_weight': 12, 'gamma': 3.6, 'alpha': 1.5, 'lambda': 14.432467213911247, 'subsample': 0.6, 'colsample_bytree': 0.8, 'colsample_bylevel': 0.65, 'colsample_bynode': 0.8, 'scale_pos_weight': 1.05}. Best is trial 22 with value: 0.716419391150389.\u001b[0m\n",
            "\u001b[32m[I 2022-09-30 16:09:08,916]\u001b[0m Trial 56 finished with value: 0.7118808219525888 and parameters: {'learning_rate': 0.02, 'max_depth': 8, 'min_child_weight': 6, 'gamma': 4.7, 'alpha': 1.3, 'lambda': 4.120223949379038, 'subsample': 0.5, 'colsample_bytree': 0.75, 'colsample_bylevel': 0.6, 'colsample_bynode': 0.95, 'scale_pos_weight': 5.0}. Best is trial 22 with value: 0.716419391150389.\u001b[0m\n",
            "\u001b[32m[I 2022-09-30 16:09:50,492]\u001b[0m Trial 57 finished with value: 0.70133304550303 and parameters: {'learning_rate': 0.04, 'max_depth': 7, 'min_child_weight': 11, 'gamma': 14.5, 'alpha': 0.8, 'lambda': 7.406672293918022, 'subsample': 0.65, 'colsample_bytree': 0.8500000000000001, 'colsample_bylevel': 0.55, 'colsample_bynode': 0.9, 'scale_pos_weight': 4.300000000000001}. Best is trial 22 with value: 0.716419391150389.\u001b[0m\n",
            "\u001b[32m[I 2022-09-30 16:11:10,049]\u001b[0m Trial 58 finished with value: 0.6941347597758528 and parameters: {'learning_rate': 0.03, 'max_depth': 7, 'min_child_weight': 9, 'gamma': 6.1000000000000005, 'alpha': 0.5, 'lambda': 460.40803620549354, 'subsample': 0.55, 'colsample_bytree': 0.8, 'colsample_bylevel': 0.65, 'colsample_bynode': 0.8500000000000001, 'scale_pos_weight': 4.6}. Best is trial 22 with value: 0.716419391150389.\u001b[0m\n",
            "\u001b[32m[I 2022-09-30 16:11:36,964]\u001b[0m Trial 59 finished with value: 0.7038093532250025 and parameters: {'learning_rate': 0.08, 'max_depth': 6, 'min_child_weight': 11, 'gamma': 7.300000000000001, 'alpha': 0.8500000000000001, 'lambda': 1.113122734042291, 'subsample': 0.7, 'colsample_bytree': 0.75, 'colsample_bylevel': 0.7, 'colsample_bynode': 0.75, 'scale_pos_weight': 1.7000000000000002}. Best is trial 22 with value: 0.716419391150389.\u001b[0m\n",
            "\u001b[32m[I 2022-09-30 16:13:03,365]\u001b[0m Trial 60 finished with value: 0.7157815233151407 and parameters: {'learning_rate': 0.060000000000000005, 'max_depth': 8, 'min_child_weight': 3, 'gamma': 2.9000000000000004, 'alpha': 1.2000000000000002, 'lambda': 0.0010862349553445471, 'subsample': 0.6, 'colsample_bytree': 0.8500000000000001, 'colsample_bylevel': 0.5, 'colsample_bynode': 0.8, 'scale_pos_weight': 3.8000000000000003}. Best is trial 22 with value: 0.716419391150389.\u001b[0m\n",
            "\u001b[32m[I 2022-09-30 16:14:29,372]\u001b[0m Trial 61 finished with value: 0.7158606313220031 and parameters: {'learning_rate': 0.060000000000000005, 'max_depth': 8, 'min_child_weight': 2, 'gamma': 2.8000000000000003, 'alpha': 1.1500000000000001, 'lambda': 0.0010079279707769116, 'subsample': 0.6, 'colsample_bytree': 0.8500000000000001, 'colsample_bylevel': 0.5, 'colsample_bynode': 0.8, 'scale_pos_weight': 3.85}. Best is trial 22 with value: 0.716419391150389.\u001b[0m\n",
            "\u001b[32m[I 2022-09-30 16:15:39,424]\u001b[0m Trial 62 finished with value: 0.7143728984175661 and parameters: {'learning_rate': 0.08, 'max_depth': 8, 'min_child_weight': 2, 'gamma': 2.9000000000000004, 'alpha': 1.25, 'lambda': 0.0012198844012069404, 'subsample': 0.6, 'colsample_bytree': 0.8500000000000001, 'colsample_bylevel': 0.5, 'colsample_bynode': 0.8, 'scale_pos_weight': 3.8000000000000003}. Best is trial 22 with value: 0.716419391150389.\u001b[0m\n",
            "\u001b[32m[I 2022-09-30 16:17:23,262]\u001b[0m Trial 63 finished with value: 0.70873791684509 and parameters: {'learning_rate': 0.060000000000000005, 'max_depth': 9, 'min_child_weight': 3, 'gamma': 2.3000000000000003, 'alpha': 0.9500000000000001, 'lambda': 0.0022468045178094293, 'subsample': 0.55, 'colsample_bytree': 0.8500000000000001, 'colsample_bylevel': 0.5, 'colsample_bynode': 0.75, 'scale_pos_weight': 3.4000000000000004}. Best is trial 22 with value: 0.716419391150389.\u001b[0m\n",
            "\u001b[32m[I 2022-09-30 16:20:48,545]\u001b[0m Trial 64 finished with value: 0.7157107749705289 and parameters: {'learning_rate': 0.05, 'max_depth': 8, 'min_child_weight': 3, 'gamma': 0.4, 'alpha': 1.6, 'lambda': 0.006303930588120036, 'subsample': 0.6, 'colsample_bytree': 0.9, 'colsample_bylevel': 0.55, 'colsample_bynode': 0.8, 'scale_pos_weight': 3.15}. Best is trial 22 with value: 0.716419391150389.\u001b[0m\n",
            "\u001b[32m[I 2022-09-30 16:24:16,691]\u001b[0m Trial 65 finished with value: 0.712861595456328 and parameters: {'learning_rate': 0.05, 'max_depth': 9, 'min_child_weight': 3, 'gamma': 0.6000000000000001, 'alpha': 1.75, 'lambda': 0.005140211725655562, 'subsample': 0.6, 'colsample_bytree': 0.9, 'colsample_bylevel': 0.55, 'colsample_bynode': 0.8, 'scale_pos_weight': 3.0500000000000003}. Best is trial 22 with value: 0.716419391150389.\u001b[0m\n",
            "\u001b[32m[I 2022-09-30 16:25:15,519]\u001b[0m Trial 66 finished with value: 0.7099778741104749 and parameters: {'learning_rate': 0.08, 'max_depth': 8, 'min_child_weight': 4, 'gamma': 3.5, 'alpha': 1.4500000000000002, 'lambda': 0.0028451698405197894, 'subsample': 0.6, 'colsample_bytree': 0.9, 'colsample_bylevel': 0.5, 'colsample_bynode': 0.8, 'scale_pos_weight': 2.85}. Best is trial 22 with value: 0.716419391150389.\u001b[0m\n",
            "\u001b[32m[I 2022-09-30 16:25:29,857]\u001b[0m Trial 67 finished with value: 0.6865806389079314 and parameters: {'learning_rate': 0.06999999999999999, 'max_depth': 9, 'min_child_weight': 3, 'gamma': 19.8, 'alpha': 1.1500000000000001, 'lambda': 0.007651063404495255, 'subsample': 0.55, 'colsample_bytree': 0.95, 'colsample_bylevel': 0.55, 'colsample_bynode': 0.75, 'scale_pos_weight': 2.3}. Best is trial 22 with value: 0.716419391150389.\u001b[0m\n",
            "\u001b[32m[I 2022-09-30 16:29:10,897]\u001b[0m Trial 68 finished with value: 0.7113283656100929 and parameters: {'learning_rate': 0.05, 'max_depth': 8, 'min_child_weight': 4, 'gamma': 0.0, 'alpha': 2.25, 'lambda': 0.014257644987287835, 'subsample': 0.55, 'colsample_bytree': 0.95, 'colsample_bylevel': 0.5, 'colsample_bynode': 0.8500000000000001, 'scale_pos_weight': 3.2}. Best is trial 22 with value: 0.716419391150389.\u001b[0m\n",
            "\u001b[32m[I 2022-09-30 16:29:47,197]\u001b[0m Trial 69 finished with value: 0.6969224275135939 and parameters: {'learning_rate': 0.27, 'max_depth': 8, 'min_child_weight': 2, 'gamma': 1.8, 'alpha': 0.6000000000000001, 'lambda': 0.0011514835180701894, 'subsample': 0.65, 'colsample_bytree': 0.9, 'colsample_bylevel': 0.55, 'colsample_bynode': 0.95, 'scale_pos_weight': 3.85}. Best is trial 22 with value: 0.716419391150389.\u001b[0m\n",
            "\u001b[32m[I 2022-09-30 16:30:37,388]\u001b[0m Trial 70 finished with value: 0.7083683016185344 and parameters: {'learning_rate': 0.09999999999999999, 'max_depth': 8, 'min_child_weight': 4, 'gamma': 3.8000000000000003, 'alpha': 0.4, 'lambda': 0.004061544762509804, 'subsample': 0.6, 'colsample_bytree': 0.8500000000000001, 'colsample_bylevel': 0.5, 'colsample_bynode': 0.7, 'scale_pos_weight': 3.7}. Best is trial 22 with value: 0.716419391150389.\u001b[0m\n",
            "\u001b[32m[I 2022-09-30 16:35:00,485]\u001b[0m Trial 71 finished with value: 0.7157551953378339 and parameters: {'learning_rate': 0.02, 'max_depth': 7, 'min_child_weight': 2, 'gamma': 1.6, 'alpha': 1.4000000000000001, 'lambda': 0.002129828105723919, 'subsample': 0.65, 'colsample_bytree': 0.8500000000000001, 'colsample_bylevel': 0.55, 'colsample_bynode': 0.8, 'scale_pos_weight': 4.0}. Best is trial 22 with value: 0.716419391150389.\u001b[0m\n",
            "\u001b[32m[I 2022-09-30 16:38:20,187]\u001b[0m Trial 72 finished with value: 0.7164250739205967 and parameters: {'learning_rate': 0.02, 'max_depth': 7, 'min_child_weight': 2, 'gamma': 3.0, 'alpha': 1.5, 'lambda': 0.0025073474357762094, 'subsample': 0.65, 'colsample_bytree': 0.8500000000000001, 'colsample_bylevel': 0.55, 'colsample_bynode': 0.8, 'scale_pos_weight': 4.050000000000001}. Best is trial 72 with value: 0.7164250739205967.\u001b[0m\n",
            "\u001b[32m[I 2022-09-30 16:41:44,964]\u001b[0m Trial 73 finished with value: 0.7155166758124493 and parameters: {'learning_rate': 0.02, 'max_depth': 7, 'min_child_weight': 2, 'gamma': 2.8000000000000003, 'alpha': 1.9000000000000001, 'lambda': 0.002723929380529224, 'subsample': 0.65, 'colsample_bytree': 0.8500000000000001, 'colsample_bylevel': 0.55, 'colsample_bynode': 0.8, 'scale_pos_weight': 4.050000000000001}. Best is trial 72 with value: 0.7164250739205967.\u001b[0m\n",
            "\u001b[32m[I 2022-09-30 16:44:09,346]\u001b[0m Trial 74 finished with value: 0.712066035903363 and parameters: {'learning_rate': 0.02, 'max_depth': 7, 'min_child_weight': 2, 'gamma': 5.1000000000000005, 'alpha': 0.2, 'lambda': 0.0017188453383701772, 'subsample': 0.65, 'colsample_bytree': 0.8500000000000001, 'colsample_bylevel': 0.5, 'colsample_bynode': 0.75, 'scale_pos_weight': 3.95}. Best is trial 72 with value: 0.7164250739205967.\u001b[0m\n",
            "\u001b[32m[I 2022-09-30 16:46:26,650]\u001b[0m Trial 75 finished with value: 0.7187431804820565 and parameters: {'learning_rate': 0.04, 'max_depth': 7, 'min_child_weight': 5, 'gamma': 1.5, 'alpha': 1.3, 'lambda': 0.043682146017432415, 'subsample': 0.7, 'colsample_bytree': 0.8, 'colsample_bylevel': 0.6, 'colsample_bynode': 0.75, 'scale_pos_weight': 3.45}. Best is trial 75 with value: 0.7187431804820565.\u001b[0m\n",
            "\u001b[32m[I 2022-09-30 16:48:45,104]\u001b[0m Trial 76 finished with value: 0.7142553217642026 and parameters: {'learning_rate': 0.04, 'max_depth': 7, 'min_child_weight': 5, 'gamma': 1.5, 'alpha': 1.35, 'lambda': 0.05065839609453921, 'subsample': 0.7, 'colsample_bytree': 0.8, 'colsample_bylevel': 0.6, 'colsample_bynode': 1.0, 'scale_pos_weight': 3.6500000000000004}. Best is trial 75 with value: 0.7187431804820565.\u001b[0m\n",
            "\u001b[32m[I 2022-09-30 16:50:17,515]\u001b[0m Trial 77 finished with value: 0.7132780983254443 and parameters: {'learning_rate': 0.06999999999999999, 'max_depth': 9, 'min_child_weight': 4, 'gamma': 2.1, 'alpha': 1.05, 'lambda': 0.011191472844707688, 'subsample': 0.7, 'colsample_bytree': 0.8500000000000001, 'colsample_bylevel': 0.6, 'colsample_bynode': 0.8500000000000001, 'scale_pos_weight': 3.45}. Best is trial 75 with value: 0.7187431804820565.\u001b[0m\n",
            "\u001b[32m[I 2022-09-30 16:51:26,566]\u001b[0m Trial 78 finished with value: 0.7123753296799833 and parameters: {'learning_rate': 0.060000000000000005, 'max_depth': 7, 'min_child_weight': 3, 'gamma': 3.3000000000000003, 'alpha': 1.85, 'lambda': 0.022330826650742937, 'subsample': 0.65, 'colsample_bytree': 0.8500000000000001, 'colsample_bylevel': 0.5, 'colsample_bynode': 0.7, 'scale_pos_weight': 4.2}. Best is trial 75 with value: 0.7187431804820565.\u001b[0m\n",
            "\u001b[32m[I 2022-09-30 16:52:27,575]\u001b[0m Trial 79 finished with value: 0.7105030764902031 and parameters: {'learning_rate': 0.13, 'max_depth': 10, 'min_child_weight': 2, 'gamma': 2.6, 'alpha': 2.0500000000000003, 'lambda': 0.09280012595121465, 'subsample': 0.65, 'colsample_bytree': 0.8, 'colsample_bylevel': 0.55, 'colsample_bynode': 0.9, 'scale_pos_weight': 3.5500000000000003}. Best is trial 75 with value: 0.7187431804820565.\u001b[0m\n",
            "\u001b[32m[I 2022-09-30 16:56:44,957]\u001b[0m Trial 80 finished with value: 0.7190299168740992 and parameters: {'learning_rate': 0.03, 'max_depth': 8, 'min_child_weight': 3, 'gamma': 0.9, 'alpha': 0.9, 'lambda': 0.0040838299357884205, 'subsample': 0.7, 'colsample_bytree': 0.9, 'colsample_bylevel': 0.5, 'colsample_bynode': 0.8, 'scale_pos_weight': 3.9000000000000004}. Best is trial 80 with value: 0.7190299168740992.\u001b[0m\n"
          ]
        }
      ]
    },
    {
      "cell_type": "code",
      "source": [
        "create_submission_files(test_preds_1, 1)"
      ],
      "metadata": {
        "id": "QRmKMeB7ye68"
      },
      "execution_count": null,
      "outputs": []
    },
    {
      "cell_type": "markdown",
      "source": [
        "### Experiment 2: Created features"
      ],
      "metadata": {
        "id": "kBKD2aPUKoj9"
      }
    },
    {
      "cell_type": "code",
      "source": [
        "created_features = [f for f in test_agg.columns \n",
        "                    if f.startswith('agg_') or f.startswith('grad_')]"
      ],
      "metadata": {
        "id": "oW4HCPmrKnmC"
      },
      "execution_count": null,
      "outputs": []
    },
    {
      "cell_type": "code",
      "source": [
        "%%time\n",
        "oof_probs['2_2'], test_preds_2 = run_experiment(\n",
        "    data=(train_agg[created_features], test_agg[created_features], TARGET),\n",
        "    n_trials=100\n",
        ")"
      ],
      "metadata": {
        "id": "e6tacNK7K-IA"
      },
      "execution_count": null,
      "outputs": []
    },
    {
      "cell_type": "code",
      "source": [
        "create_submission_files(test_preds_2, 2)"
      ],
      "metadata": {
        "id": "G8DyjEcqyhZY"
      },
      "execution_count": null,
      "outputs": []
    },
    {
      "cell_type": "markdown",
      "source": [
        "### Experiment 3: All features"
      ],
      "metadata": {
        "id": "uONb5uPwLLDK"
      }
    },
    {
      "cell_type": "code",
      "source": [
        "%%time\n",
        "oof_probs['2_3'], test_preds_3 = run_experiment(\n",
        "    data=(train_agg, test_agg, TARGET),\n",
        "    n_trials=100\n",
        ")"
      ],
      "metadata": {
        "id": "TFtYVWrNLKRP"
      },
      "execution_count": null,
      "outputs": []
    },
    {
      "cell_type": "code",
      "source": [
        "create_submission_files(test_preds_3, 3)"
      ],
      "metadata": {
        "id": "KPiAjPHnM17m"
      },
      "execution_count": null,
      "outputs": []
    },
    {
      "cell_type": "markdown",
      "source": [
        "### Storing OOF predictions"
      ],
      "metadata": {
        "id": "jRbWtNEcwp5-"
      }
    },
    {
      "cell_type": "code",
      "source": [
        "oof_probs.to_csv(f'{SUBMISSION_PATH}/oof_probs.csv', index=False)"
      ],
      "metadata": {
        "id": "E2SCLtizmHix"
      },
      "execution_count": null,
      "outputs": []
    }
  ]
}