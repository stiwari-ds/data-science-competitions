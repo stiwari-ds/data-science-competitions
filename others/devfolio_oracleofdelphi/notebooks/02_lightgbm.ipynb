{
  "nbformat": 4,
  "nbformat_minor": 0,
  "metadata": {
    "colab": {
      "provenance": [],
      "authorship_tag": "ABX9TyMZtxJGOyzWRfqPnfOJuXPU",
      "include_colab_link": true
    },
    "kernelspec": {
      "name": "python3",
      "display_name": "Python 3"
    },
    "language_info": {
      "name": "python"
    }
  },
  "cells": [
    {
      "cell_type": "markdown",
      "metadata": {
        "id": "view-in-github",
        "colab_type": "text"
      },
      "source": [
        "<a href=\"https://colab.research.google.com/github/stiwari-ds/data-science-competitions/blob/main/others/devfolio_oracleofdelphi/notebooks/02_lightgbm.ipynb\" target=\"_parent\"><img src=\"https://colab.research.google.com/assets/colab-badge.svg\" alt=\"Open In Colab\"/></a>"
      ]
    },
    {
      "cell_type": "markdown",
      "source": [
        "# Setup"
      ],
      "metadata": {
        "id": "fMe_ffy2a_ac"
      }
    },
    {
      "cell_type": "code",
      "execution_count": 1,
      "metadata": {
        "id": "wyde65PCala3"
      },
      "outputs": [],
      "source": [
        "%%capture\n",
        "!pip install --upgrade optuna\n",
        "!pip install --upgrade lightgbm"
      ]
    },
    {
      "cell_type": "code",
      "source": [
        "import os\n",
        "import gc\n",
        "import time\n",
        "import warnings\n",
        "\n",
        "gc.enable()\n",
        "warnings.filterwarnings('ignore')\n",
        "\n",
        "import pandas as pd\n",
        "import numpy as np\n",
        "pd.set_option('display.max_columns', None)\n",
        "pd.set_option('display.precision', 4)\n",
        "np.set_printoptions(precision=4)\n",
        "\n",
        "import optuna\n",
        "from optuna.samplers import TPESampler\n",
        "from optuna.pruners import HyperbandPruner\n",
        "\n",
        "import lightgbm as lgb\n",
        "from lightgbm import LGBMClassifier\n",
        "\n",
        "from sklearn.model_selection import StratifiedKFold\n",
        "from sklearn.metrics import f1_score\n",
        "\n",
        "SEED = 23\n",
        "os.environ['PYTHONHASHSEED'] = str(SEED)\n",
        "np.random.seed(SEED)"
      ],
      "metadata": {
        "id": "eKfBaXpBbBUQ"
      },
      "execution_count": 2,
      "outputs": []
    },
    {
      "cell_type": "code",
      "source": [
        "#remove cell to run future versions\n",
        "assert optuna.__version__ == '3.0.4', f'Change in Optuna version. Original notebook version: 3.0.4'\n",
        "assert lgb.__version__ == '3.3.3', f'Change in LightGBM version. Original notebook version: 3.3.3'"
      ],
      "metadata": {
        "id": "QU6c1orQbm3A"
      },
      "execution_count": 3,
      "outputs": []
    },
    {
      "cell_type": "markdown",
      "source": [
        "# Data preparation"
      ],
      "metadata": {
        "id": "bANcxi3__4Tx"
      }
    },
    {
      "cell_type": "code",
      "source": [
        "#Data\n",
        "DATA_URL = 'https://raw.githubusercontent.com/stiwari-ds/data-science-competitions/main/others/devfolio_oracleofdelphi/data'\n",
        "train = pd.read_csv(f'{DATA_URL}/train.csv')\n",
        "test = pd.read_csv(f'{DATA_URL}/test.csv')"
      ],
      "metadata": {
        "id": "LOHMVhw1ZZS6"
      },
      "execution_count": 4,
      "outputs": []
    },
    {
      "cell_type": "code",
      "source": [
        "train = train.drop(['Unnamed: 0', 'Unnamed: 0.1'], axis=1)\n",
        "test = test.drop(['Unnamed: 0', 'Unnamed: 0.1'], axis=1)"
      ],
      "metadata": {
        "id": "9xpy8uQBjOKx"
      },
      "execution_count": 5,
      "outputs": []
    },
    {
      "cell_type": "code",
      "source": [
        "TARGET = 'Credit Score'\n",
        "label_mapping = {'Standard': 0, 'Good': 1, 'Best': 2}\n",
        "train[TARGET] = train[TARGET].replace(label_mapping)"
      ],
      "metadata": {
        "id": "KEJQopfVZppB"
      },
      "execution_count": 6,
      "outputs": []
    },
    {
      "cell_type": "markdown",
      "source": [
        "**Feature sets from EDA notebook.**"
      ],
      "metadata": {
        "id": "FsrqGiVijn2a"
      }
    },
    {
      "cell_type": "code",
      "source": [
        "all_features = list(test.columns)\n",
        "\n",
        "top_features = ['Utlization Ratio', 'Credit Inquiries']\n",
        "\n",
        "mi_features = top_features + ['Monthly_Inhand_Salary ', 'Interest Rate', \n",
        "              'Changed_Credit_Limit', 'Outstanding_Debt', 'Total_EMI_per_month']\n",
        "\n",
        "anova_features = top_features + ['Accounts of user', 'Credit cards user have', \n",
        "                 'Interest Rate', 'Num_of_Loan', 'Delay_from_due_date', \n",
        "                 'Num_of_Delayed_Payment', 'Outstanding_Debt']"
      ],
      "metadata": {
        "id": "3zTnF1bvZx-o"
      },
      "execution_count": 7,
      "outputs": []
    },
    {
      "cell_type": "markdown",
      "source": [
        "**Outlier removal**"
      ],
      "metadata": {
        "id": "6RQbiqBbjsNy"
      }
    },
    {
      "cell_type": "code",
      "source": [
        "train = train[train['Accounts of user'] <= 10]\n",
        "train = train[train['Credit cards user have'] <= 10]\n",
        "train = train[train['Interest Rate'] <= 35]\n",
        "train = train[(train['Num_of_Loan'] < 10) & (train['Num_of_Loan'] >= 0)]\n",
        "train = train[(train['Num_of_Delayed_Payment'] < 30) & (train['Num_of_Delayed_Payment'] >= 0)]\n",
        "train = train[train['Changed_Credit_Limit'] >= 0]\n",
        "train = train[train['Total_EMI_per_month'] < 1000]\n",
        "\n",
        "train = train.reset_index(drop=True)"
      ],
      "metadata": {
        "id": "BeVpddOTkC69"
      },
      "execution_count": 8,
      "outputs": []
    },
    {
      "cell_type": "markdown",
      "source": [
        "**Original train set for comparison during modeling**"
      ],
      "metadata": {
        "id": "qypZ1z6Hk5c2"
      }
    },
    {
      "cell_type": "code",
      "source": [
        "train_og = pd.read_csv(f'{DATA_URL}/train.csv')\n",
        "\n",
        "train_og = train_og.drop(['Unnamed: 0', 'Unnamed: 0.1'], axis=1)\n",
        "train_og[TARGET] = train_og[TARGET].replace(label_mapping)"
      ],
      "metadata": {
        "id": "WKHyaYCDkwPT"
      },
      "execution_count": 9,
      "outputs": []
    },
    {
      "cell_type": "markdown",
      "source": [
        "# Baseline"
      ],
      "metadata": {
        "id": "uur7dQEjf6CY"
      }
    },
    {
      "cell_type": "code",
      "source": [
        "%%time\n",
        "scores = []\n",
        "cv = StratifiedKFold(n_splits=5, shuffle=True, random_state=SEED)\n",
        "X, y = train[all_features], train[TARGET]\n",
        "feature_name = list(X.columns)\n",
        "for fold, (train_idx, val_idx) in enumerate(cv.split(X, y)):\n",
        "    X_train, y_train = X.loc[train_idx], y.iloc[train_idx]\n",
        "    X_val, y_val = X.loc[val_idx], y.iloc[val_idx]\n",
        "\n",
        "    model = LGBMClassifier(\n",
        "        objective='multiclass',\n",
        "        num_class=3,\n",
        "        boosting_type='goss',\n",
        "        device_type='cpu',\n",
        "        random_state=SEED\n",
        "    ) \n",
        "    model.fit(\n",
        "        X_train, y_train,\n",
        "        eval_set=[(X_val, y_val)],\n",
        "        early_stopping_rounds=100,\n",
        "        eval_metric='multi_error',\n",
        "        feature_name=feature_name,\n",
        "        verbose=0\n",
        "    )\n",
        "    val_preds = model.predict(X_val)\n",
        "    score = f1_score(y_val, val_preds, average='macro')\n",
        "    scores.append(score)\n",
        "    print(f'Fold #{fold}: ({model.best_iteration_} rounds) F1-macro = {score:.5f}')\n",
        "    _ = gc.collect()\n",
        "\n",
        "print(f'\\nAvg F1-macro = {np.mean(scores):.5f} +/- {np.std(scores):.5f}\\n')"
      ],
      "metadata": {
        "colab": {
          "base_uri": "https://localhost:8080/"
        },
        "id": "OkFlWjOhf5Au",
        "outputId": "d1276464-67e8-4d1b-c48c-25fa80b8eb80"
      },
      "execution_count": 10,
      "outputs": [
        {
          "output_type": "stream",
          "name": "stdout",
          "text": [
            "Fold #0: (41 rounds) F1-macro = 0.88647\n",
            "Fold #1: (75 rounds) F1-macro = 0.88924\n",
            "Fold #2: (50 rounds) F1-macro = 0.90198\n",
            "Fold #3: (26 rounds) F1-macro = 0.89050\n",
            "Fold #4: (15 rounds) F1-macro = 0.87343\n",
            "\n",
            "Avg F1-macro = 0.88832 +/- 0.00913\n",
            "\n",
            "CPU times: user 6.11 s, sys: 164 ms, total: 6.27 s\n",
            "Wall time: 3.82 s\n"
          ]
        }
      ]
    },
    {
      "cell_type": "markdown",
      "metadata": {
        "id": "oVZEqwhQ2oi2"
      },
      "source": [
        "# Hyperparameter tuning"
      ]
    },
    {
      "cell_type": "code",
      "execution_count": 11,
      "metadata": {
        "id": "i3VeEFRe2oBe"
      },
      "outputs": [],
      "source": [
        "def objective(trial, data, model):\n",
        "\n",
        "    scores = []\n",
        "    X, y = data\n",
        "    feature_name = list(X.columns)\n",
        "\n",
        "    param_grid = {\n",
        "        'learning_rate': trial.suggest_float('learning_rate', 0.025, 0.3, step=0.025),\n",
        "        'reg_alpha': trial.suggest_float('reg_alpha', 0, 200, step=0.1),\n",
        "        'reg_lambda': trial.suggest_float('reg_lambda', 0, 200, step=0.1),\n",
        "        'num_leaves': trial.suggest_int('num_leaves', 20, 2000, step=5),\n",
        "        'max_depth': trial.suggest_int('max_depth', 3, 13),\n",
        "        'min_child_samples': trial.suggest_int('min_child_samples', 0, 1000, step=2),\n",
        "        'min_split_gain': trial.suggest_float('min_split_gain', 0, 10, step=0.01),\n",
        "        'colsample_bytree': trial.suggest_float('colsample_bytree', 0.5, 0.95, step=0.05),\n",
        "        'top_rate': trial.suggest_float('top_rate', 0.1, 0.5, step=0.05),\n",
        "        'other_rate': trial.suggest_float('other_rate', 0.05, 0.5, step=0.05)        \n",
        "    }\n",
        "\n",
        "    cv = StratifiedKFold(n_splits=5, shuffle=True, random_state=SEED)\n",
        "    for fold, (train_idx, val_idx) in enumerate(cv.split(X, y)):\n",
        "        X_train, y_train = X.loc[train_idx], y.iloc[train_idx]\n",
        "        X_val, y_val = X.loc[val_idx], y.iloc[val_idx]\n",
        "        \n",
        "        model.set_params(**param_grid)\n",
        "        model.fit(\n",
        "            X_train, y_train,\n",
        "            eval_set=[(X_val, y_val)],\n",
        "            eval_metric='multi_error',\n",
        "            early_stopping_rounds=100,\n",
        "            feature_name=feature_name,\n",
        "            verbose=False\n",
        "        )\n",
        "        val_preds = model.predict(X_val)\n",
        "        scores.append(f1_score(y_val, val_preds, average='macro'))\n",
        "\n",
        "    return np.mean(scores)"
      ]
    },
    {
      "cell_type": "code",
      "execution_count": 12,
      "metadata": {
        "id": "7JCjxMSuT3Ep"
      },
      "outputs": [],
      "source": [
        "def tune_params(data, model, n_trials, direction):\n",
        "    study = optuna.create_study(\n",
        "        sampler=TPESampler(\n",
        "            consider_endpoints=True,\n",
        "            multivariate=True,\n",
        "            group=True,\n",
        "            seed=SEED),\n",
        "        pruner=HyperbandPruner(),\n",
        "        direction=direction\n",
        "    )\n",
        "    study.optimize(\n",
        "        func=lambda trial: objective(trial, data, model),\n",
        "        n_trials=n_trials,\n",
        "        gc_after_trial=True\n",
        "    )\n",
        "    return study"
      ]
    },
    {
      "cell_type": "markdown",
      "source": [
        "# Cross-validation"
      ],
      "metadata": {
        "id": "_IdnAvEkjxqS"
      }
    },
    {
      "cell_type": "code",
      "source": [
        "def cross_val_predict(data, model, n_splits=5):\n",
        "    scores = {\n",
        "        'Fold': [str(i) for i in range(n_splits)],\n",
        "        'F1-micro': [],\n",
        "        'F1-macro': [],\n",
        "        'F1-weighted': []\n",
        "    }\n",
        "    test_preds = {}\n",
        "    \n",
        "    X, y, X_test = data\n",
        "    feature_name = list(X.columns)\n",
        "\n",
        "    cv = StratifiedKFold(n_splits=n_splits, shuffle=True, random_state=SEED)\n",
        "    for fold, (train_idx, val_idx) in enumerate(cv.split(X, y)):\n",
        "        X_train, y_train = X.loc[train_idx], y.iloc[train_idx]\n",
        "        X_val, y_val = X.loc[val_idx], y.iloc[val_idx]\n",
        "\n",
        "        model.fit(\n",
        "            X_train, y_train,\n",
        "            eval_set=[(X_val, y_val)],\n",
        "            eval_metric='multi_error',\n",
        "            early_stopping_rounds=100,\n",
        "            feature_name=feature_name,\n",
        "            verbose=False\n",
        "        )\n",
        "        val_preds = model.predict(X_val)\n",
        "        test_preds[f'fold{fold}'] = model.predict(X_test)\n",
        "\n",
        "        f1micro = f1_score(y_val, val_preds, average='micro')\n",
        "        scores['F1-micro'].append(f1micro)\n",
        "        f1macro = f1_score(y_val, val_preds, average='macro')\n",
        "        scores['F1-macro'].append(f1macro)\n",
        "        f1weight = f1_score(y_val, val_preds, average='weighted')\n",
        "        scores['F1-weighted'].append(f1weight)\n",
        "        _ = gc.collect()\n",
        "\n",
        "    scores['Fold'].append('Avg.')\n",
        "    for metric in ['F1-micro', 'F1-macro', 'F1-weighted']:\n",
        "        mean_score = np.mean(scores[metric])\n",
        "        scores[metric].append(mean_score)\n",
        "    score_df = pd.DataFrame.from_dict(scores).set_index('Fold')\n",
        "    display(score_df)\n",
        "\n",
        "    test_preds = pd.DataFrame.from_dict(test_preds)\n",
        "    test_preds['mode'] = test_preds.mode(axis=1)[0].astype('int')\n",
        "    return test_preds"
      ],
      "metadata": {
        "id": "0UBSsqwvj0I2"
      },
      "execution_count": 13,
      "outputs": []
    },
    {
      "cell_type": "code",
      "source": [
        "def run_experiment(data, n_trials=10):\n",
        "    \n",
        "    X, y, X_test = data\n",
        "\n",
        "    base_params = {\n",
        "        'objective': 'multiclass',\n",
        "        'n_estimators': 10000,\n",
        "        'boosting_type': 'goss',\n",
        "        'extra_trees': True,\n",
        "        'verbosity': -1,\n",
        "        'device_type': 'cpu',\n",
        "        'random_state': SEED\n",
        "    }\n",
        "    \n",
        "    model = LGBMClassifier(**base_params)\n",
        "    \n",
        "    print(f'----------Hyperparameter tuning----------')\n",
        "    start = time.time()\n",
        "    study = tune_params(\n",
        "        data=(X, y),\n",
        "        model=model,\n",
        "        n_trials=n_trials, \n",
        "        direction='maximize' #metric: f1-score -> higher is better\n",
        "    )\n",
        "    end = time.time()\n",
        "    print(f'Best trial: {study.best_trial.number} -> Best value: {study.best_value:.5f}')\n",
        "    print(f'Best hyperparameters:')\n",
        "    for k, v in study.best_params.items():\n",
        "        print(f'{k:15} - {v}')\n",
        "    print(f'[Time taken: {end - start:.2f}s]\\n')\n",
        "    \n",
        "    print(f'-----Cross-validation and prediction-----')\n",
        "    start = time.time()\n",
        "    model.set_params(**study.best_params)\n",
        "    test_preds = cross_val_predict(data, model)\n",
        "    end = time.time()\n",
        "    print(f'[Time taken: {end - start:.2f}s]\\n')\n",
        "\n",
        "    return test_preds"
      ],
      "metadata": {
        "id": "KkMeqc7EkKx-"
      },
      "execution_count": 14,
      "outputs": []
    },
    {
      "cell_type": "markdown",
      "source": [
        "**Trial run**"
      ],
      "metadata": {
        "id": "Ri22_Ef0kzB0"
      }
    },
    {
      "cell_type": "code",
      "source": [
        "optuna.logging.set_verbosity(optuna.logging.INFO)"
      ],
      "metadata": {
        "id": "1lWtr5SYk0yu"
      },
      "execution_count": 15,
      "outputs": []
    },
    {
      "cell_type": "code",
      "source": [
        "%%time\n",
        "tp_trial1 = run_experiment(\n",
        "    data=(train[all_features], train[TARGET], test[all_features]),\n",
        "    n_trials=3\n",
        ")"
      ],
      "metadata": {
        "id": "QAPuSH6Jk4o8",
        "colab": {
          "base_uri": "https://localhost:8080/",
          "height": 706
        },
        "outputId": "98683c74-63c5-4fd8-e3d7-d5bdd278ccf6"
      },
      "execution_count": 16,
      "outputs": [
        {
          "output_type": "stream",
          "name": "stderr",
          "text": [
            "\u001b[32m[I 2022-12-11 07:33:22,384]\u001b[0m A new study created in memory with name: no-name-90babd33-c2bc-4745-bc11-3edbf0c3325c\u001b[0m\n"
          ]
        },
        {
          "output_type": "stream",
          "name": "stdout",
          "text": [
            "----------Hyperparameter tuning----------\n"
          ]
        },
        {
          "output_type": "stream",
          "name": "stderr",
          "text": [
            "\u001b[32m[I 2022-12-11 07:33:24,475]\u001b[0m Trial 0 finished with value: 0.5976734935481789 and parameters: {'learning_rate': 0.17500000000000002, 'reg_alpha': 189.4, 'reg_lambda': 153.1, 'num_leaves': 580, 'max_depth': 5, 'min_child_samples': 686, 'min_split_gain': 1.67, 'colsample_bytree': 0.65, 'top_rate': 0.35, 'other_rate': 0.25}. Best is trial 0 with value: 0.5976734935481789.\u001b[0m\n",
            "\u001b[32m[I 2022-12-11 07:33:26,754]\u001b[0m Trial 1 finished with value: 0.2635404263130791 and parameters: {'learning_rate': 0.025, 'reg_alpha': 176.8, 'reg_lambda': 177.0, 'num_leaves': 615, 'max_depth': 9, 'min_child_samples': 980, 'min_split_gain': 8.45, 'colsample_bytree': 0.5, 'top_rate': 0.2, 'other_rate': 0.15000000000000002}. Best is trial 0 with value: 0.5976734935481789.\u001b[0m\n",
            "\u001b[32m[I 2022-12-11 07:33:38,327]\u001b[0m Trial 2 finished with value: 0.8421550038920064 and parameters: {'learning_rate': 0.25, 'reg_alpha': 125.2, 'reg_lambda': 22.1, 'num_leaves': 20, 'max_depth': 13, 'min_child_samples': 140, 'min_split_gain': 4.22, 'colsample_bytree': 0.65, 'top_rate': 0.45000000000000007, 'other_rate': 0.25}. Best is trial 2 with value: 0.8421550038920064.\u001b[0m\n"
          ]
        },
        {
          "output_type": "stream",
          "name": "stdout",
          "text": [
            "Best trial: 2 -> Best value: 0.84216\n",
            "Best hyperparameters:\n",
            "learning_rate   - 0.25\n",
            "reg_alpha       - 125.2\n",
            "reg_lambda      - 22.1\n",
            "num_leaves      - 20\n",
            "max_depth       - 13\n",
            "min_child_samples - 140\n",
            "min_split_gain  - 4.22\n",
            "colsample_bytree - 0.65\n",
            "top_rate        - 0.45000000000000007\n",
            "other_rate      - 0.25\n",
            "[Time taken: 16.16s]\n",
            "\n",
            "-----Cross-validation and prediction-----\n"
          ]
        },
        {
          "output_type": "display_data",
          "data": {
            "text/plain": [
              "      F1-micro  F1-macro  F1-weighted\n",
              "Fold                                 \n",
              "0       0.8924    0.8372       0.8883\n",
              "1       0.8789    0.8350       0.8748\n",
              "2       0.8944    0.8596       0.8909\n",
              "3       0.8855    0.8496       0.8820\n",
              "4       0.8788    0.8294       0.8728\n",
              "Avg.    0.8860    0.8422       0.8818"
            ],
            "text/html": [
              "\n",
              "  <div id=\"df-2fd81beb-4c1f-449e-9632-5acf7bc43f72\">\n",
              "    <div class=\"colab-df-container\">\n",
              "      <div>\n",
              "<style scoped>\n",
              "    .dataframe tbody tr th:only-of-type {\n",
              "        vertical-align: middle;\n",
              "    }\n",
              "\n",
              "    .dataframe tbody tr th {\n",
              "        vertical-align: top;\n",
              "    }\n",
              "\n",
              "    .dataframe thead th {\n",
              "        text-align: right;\n",
              "    }\n",
              "</style>\n",
              "<table border=\"1\" class=\"dataframe\">\n",
              "  <thead>\n",
              "    <tr style=\"text-align: right;\">\n",
              "      <th></th>\n",
              "      <th>F1-micro</th>\n",
              "      <th>F1-macro</th>\n",
              "      <th>F1-weighted</th>\n",
              "    </tr>\n",
              "    <tr>\n",
              "      <th>Fold</th>\n",
              "      <th></th>\n",
              "      <th></th>\n",
              "      <th></th>\n",
              "    </tr>\n",
              "  </thead>\n",
              "  <tbody>\n",
              "    <tr>\n",
              "      <th>0</th>\n",
              "      <td>0.8924</td>\n",
              "      <td>0.8372</td>\n",
              "      <td>0.8883</td>\n",
              "    </tr>\n",
              "    <tr>\n",
              "      <th>1</th>\n",
              "      <td>0.8789</td>\n",
              "      <td>0.8350</td>\n",
              "      <td>0.8748</td>\n",
              "    </tr>\n",
              "    <tr>\n",
              "      <th>2</th>\n",
              "      <td>0.8944</td>\n",
              "      <td>0.8596</td>\n",
              "      <td>0.8909</td>\n",
              "    </tr>\n",
              "    <tr>\n",
              "      <th>3</th>\n",
              "      <td>0.8855</td>\n",
              "      <td>0.8496</td>\n",
              "      <td>0.8820</td>\n",
              "    </tr>\n",
              "    <tr>\n",
              "      <th>4</th>\n",
              "      <td>0.8788</td>\n",
              "      <td>0.8294</td>\n",
              "      <td>0.8728</td>\n",
              "    </tr>\n",
              "    <tr>\n",
              "      <th>Avg.</th>\n",
              "      <td>0.8860</td>\n",
              "      <td>0.8422</td>\n",
              "      <td>0.8818</td>\n",
              "    </tr>\n",
              "  </tbody>\n",
              "</table>\n",
              "</div>\n",
              "      <button class=\"colab-df-convert\" onclick=\"convertToInteractive('df-2fd81beb-4c1f-449e-9632-5acf7bc43f72')\"\n",
              "              title=\"Convert this dataframe to an interactive table.\"\n",
              "              style=\"display:none;\">\n",
              "        \n",
              "  <svg xmlns=\"http://www.w3.org/2000/svg\" height=\"24px\"viewBox=\"0 0 24 24\"\n",
              "       width=\"24px\">\n",
              "    <path d=\"M0 0h24v24H0V0z\" fill=\"none\"/>\n",
              "    <path d=\"M18.56 5.44l.94 2.06.94-2.06 2.06-.94-2.06-.94-.94-2.06-.94 2.06-2.06.94zm-11 1L8.5 8.5l.94-2.06 2.06-.94-2.06-.94L8.5 2.5l-.94 2.06-2.06.94zm10 10l.94 2.06.94-2.06 2.06-.94-2.06-.94-.94-2.06-.94 2.06-2.06.94z\"/><path d=\"M17.41 7.96l-1.37-1.37c-.4-.4-.92-.59-1.43-.59-.52 0-1.04.2-1.43.59L10.3 9.45l-7.72 7.72c-.78.78-.78 2.05 0 2.83L4 21.41c.39.39.9.59 1.41.59.51 0 1.02-.2 1.41-.59l7.78-7.78 2.81-2.81c.8-.78.8-2.07 0-2.86zM5.41 20L4 18.59l7.72-7.72 1.47 1.35L5.41 20z\"/>\n",
              "  </svg>\n",
              "      </button>\n",
              "      \n",
              "  <style>\n",
              "    .colab-df-container {\n",
              "      display:flex;\n",
              "      flex-wrap:wrap;\n",
              "      gap: 12px;\n",
              "    }\n",
              "\n",
              "    .colab-df-convert {\n",
              "      background-color: #E8F0FE;\n",
              "      border: none;\n",
              "      border-radius: 50%;\n",
              "      cursor: pointer;\n",
              "      display: none;\n",
              "      fill: #1967D2;\n",
              "      height: 32px;\n",
              "      padding: 0 0 0 0;\n",
              "      width: 32px;\n",
              "    }\n",
              "\n",
              "    .colab-df-convert:hover {\n",
              "      background-color: #E2EBFA;\n",
              "      box-shadow: 0px 1px 2px rgba(60, 64, 67, 0.3), 0px 1px 3px 1px rgba(60, 64, 67, 0.15);\n",
              "      fill: #174EA6;\n",
              "    }\n",
              "\n",
              "    [theme=dark] .colab-df-convert {\n",
              "      background-color: #3B4455;\n",
              "      fill: #D2E3FC;\n",
              "    }\n",
              "\n",
              "    [theme=dark] .colab-df-convert:hover {\n",
              "      background-color: #434B5C;\n",
              "      box-shadow: 0px 1px 3px 1px rgba(0, 0, 0, 0.15);\n",
              "      filter: drop-shadow(0px 1px 2px rgba(0, 0, 0, 0.3));\n",
              "      fill: #FFFFFF;\n",
              "    }\n",
              "  </style>\n",
              "\n",
              "      <script>\n",
              "        const buttonEl =\n",
              "          document.querySelector('#df-2fd81beb-4c1f-449e-9632-5acf7bc43f72 button.colab-df-convert');\n",
              "        buttonEl.style.display =\n",
              "          google.colab.kernel.accessAllowed ? 'block' : 'none';\n",
              "\n",
              "        async function convertToInteractive(key) {\n",
              "          const element = document.querySelector('#df-2fd81beb-4c1f-449e-9632-5acf7bc43f72');\n",
              "          const dataTable =\n",
              "            await google.colab.kernel.invokeFunction('convertToInteractive',\n",
              "                                                     [key], {});\n",
              "          if (!dataTable) return;\n",
              "\n",
              "          const docLinkHtml = 'Like what you see? Visit the ' +\n",
              "            '<a target=\"_blank\" href=https://colab.research.google.com/notebooks/data_table.ipynb>data table notebook</a>'\n",
              "            + ' to learn more about interactive tables.';\n",
              "          element.innerHTML = '';\n",
              "          dataTable['output_type'] = 'display_data';\n",
              "          await google.colab.output.renderOutput(dataTable, element);\n",
              "          const docLink = document.createElement('div');\n",
              "          docLink.innerHTML = docLinkHtml;\n",
              "          element.appendChild(docLink);\n",
              "        }\n",
              "      </script>\n",
              "    </div>\n",
              "  </div>\n",
              "  "
            ]
          },
          "metadata": {}
        },
        {
          "output_type": "stream",
          "name": "stdout",
          "text": [
            "[Time taken: 5.55s]\n",
            "\n",
            "CPU times: user 24.7 s, sys: 217 ms, total: 24.9 s\n",
            "Wall time: 21.7 s\n"
          ]
        }
      ]
    },
    {
      "cell_type": "code",
      "source": [
        "%%time\n",
        "tp_trial2 = run_experiment(\n",
        "    data=(train_og[all_features], train_og[TARGET], test[all_features]),\n",
        "    n_trials=3\n",
        ")"
      ],
      "metadata": {
        "id": "jnfQh0qCnmds",
        "colab": {
          "base_uri": "https://localhost:8080/",
          "height": 706
        },
        "outputId": "07328f31-9e0a-4257-bbb1-0119f2cdaaf3"
      },
      "execution_count": 17,
      "outputs": [
        {
          "output_type": "stream",
          "name": "stderr",
          "text": [
            "\u001b[32m[I 2022-12-11 07:33:44,129]\u001b[0m A new study created in memory with name: no-name-7702e115-1659-428b-8cdb-47a0d173f565\u001b[0m\n"
          ]
        },
        {
          "output_type": "stream",
          "name": "stdout",
          "text": [
            "----------Hyperparameter tuning----------\n"
          ]
        },
        {
          "output_type": "stream",
          "name": "stderr",
          "text": [
            "\u001b[32m[I 2022-12-11 07:33:46,592]\u001b[0m Trial 0 finished with value: 0.7495582751596368 and parameters: {'learning_rate': 0.17500000000000002, 'reg_alpha': 189.4, 'reg_lambda': 153.1, 'num_leaves': 580, 'max_depth': 5, 'min_child_samples': 686, 'min_split_gain': 1.67, 'colsample_bytree': 0.65, 'top_rate': 0.35, 'other_rate': 0.25}. Best is trial 0 with value: 0.7495582751596368.\u001b[0m\n",
            "\u001b[32m[I 2022-12-11 07:33:47,458]\u001b[0m Trial 1 finished with value: 0.26350433227207104 and parameters: {'learning_rate': 0.025, 'reg_alpha': 176.8, 'reg_lambda': 177.0, 'num_leaves': 615, 'max_depth': 9, 'min_child_samples': 980, 'min_split_gain': 8.45, 'colsample_bytree': 0.5, 'top_rate': 0.2, 'other_rate': 0.15000000000000002}. Best is trial 0 with value: 0.7495582751596368.\u001b[0m\n",
            "\u001b[32m[I 2022-12-11 07:33:49,505]\u001b[0m Trial 2 finished with value: 0.8399562433480939 and parameters: {'learning_rate': 0.25, 'reg_alpha': 125.2, 'reg_lambda': 22.1, 'num_leaves': 20, 'max_depth': 13, 'min_child_samples': 140, 'min_split_gain': 4.22, 'colsample_bytree': 0.65, 'top_rate': 0.45000000000000007, 'other_rate': 0.25}. Best is trial 2 with value: 0.8399562433480939.\u001b[0m\n"
          ]
        },
        {
          "output_type": "stream",
          "name": "stdout",
          "text": [
            "Best trial: 2 -> Best value: 0.83996\n",
            "Best hyperparameters:\n",
            "learning_rate   - 0.25\n",
            "reg_alpha       - 125.2\n",
            "reg_lambda      - 22.1\n",
            "num_leaves      - 20\n",
            "max_depth       - 13\n",
            "min_child_samples - 140\n",
            "min_split_gain  - 4.22\n",
            "colsample_bytree - 0.65\n",
            "top_rate        - 0.45000000000000007\n",
            "other_rate      - 0.25\n",
            "[Time taken: 5.52s]\n",
            "\n",
            "-----Cross-validation and prediction-----\n"
          ]
        },
        {
          "output_type": "display_data",
          "data": {
            "text/plain": [
              "      F1-micro  F1-macro  F1-weighted\n",
              "Fold                                 \n",
              "0       0.8860    0.8417       0.8821\n",
              "1       0.8802    0.8279       0.8757\n",
              "2       0.8893    0.8436       0.8856\n",
              "3       0.8761    0.8278       0.8710\n",
              "4       0.8966    0.8588       0.8932\n",
              "Avg.    0.8856    0.8400       0.8815"
            ],
            "text/html": [
              "\n",
              "  <div id=\"df-e0c9302f-6285-418a-9ee6-9e57ea2c25b1\">\n",
              "    <div class=\"colab-df-container\">\n",
              "      <div>\n",
              "<style scoped>\n",
              "    .dataframe tbody tr th:only-of-type {\n",
              "        vertical-align: middle;\n",
              "    }\n",
              "\n",
              "    .dataframe tbody tr th {\n",
              "        vertical-align: top;\n",
              "    }\n",
              "\n",
              "    .dataframe thead th {\n",
              "        text-align: right;\n",
              "    }\n",
              "</style>\n",
              "<table border=\"1\" class=\"dataframe\">\n",
              "  <thead>\n",
              "    <tr style=\"text-align: right;\">\n",
              "      <th></th>\n",
              "      <th>F1-micro</th>\n",
              "      <th>F1-macro</th>\n",
              "      <th>F1-weighted</th>\n",
              "    </tr>\n",
              "    <tr>\n",
              "      <th>Fold</th>\n",
              "      <th></th>\n",
              "      <th></th>\n",
              "      <th></th>\n",
              "    </tr>\n",
              "  </thead>\n",
              "  <tbody>\n",
              "    <tr>\n",
              "      <th>0</th>\n",
              "      <td>0.8860</td>\n",
              "      <td>0.8417</td>\n",
              "      <td>0.8821</td>\n",
              "    </tr>\n",
              "    <tr>\n",
              "      <th>1</th>\n",
              "      <td>0.8802</td>\n",
              "      <td>0.8279</td>\n",
              "      <td>0.8757</td>\n",
              "    </tr>\n",
              "    <tr>\n",
              "      <th>2</th>\n",
              "      <td>0.8893</td>\n",
              "      <td>0.8436</td>\n",
              "      <td>0.8856</td>\n",
              "    </tr>\n",
              "    <tr>\n",
              "      <th>3</th>\n",
              "      <td>0.8761</td>\n",
              "      <td>0.8278</td>\n",
              "      <td>0.8710</td>\n",
              "    </tr>\n",
              "    <tr>\n",
              "      <th>4</th>\n",
              "      <td>0.8966</td>\n",
              "      <td>0.8588</td>\n",
              "      <td>0.8932</td>\n",
              "    </tr>\n",
              "    <tr>\n",
              "      <th>Avg.</th>\n",
              "      <td>0.8856</td>\n",
              "      <td>0.8400</td>\n",
              "      <td>0.8815</td>\n",
              "    </tr>\n",
              "  </tbody>\n",
              "</table>\n",
              "</div>\n",
              "      <button class=\"colab-df-convert\" onclick=\"convertToInteractive('df-e0c9302f-6285-418a-9ee6-9e57ea2c25b1')\"\n",
              "              title=\"Convert this dataframe to an interactive table.\"\n",
              "              style=\"display:none;\">\n",
              "        \n",
              "  <svg xmlns=\"http://www.w3.org/2000/svg\" height=\"24px\"viewBox=\"0 0 24 24\"\n",
              "       width=\"24px\">\n",
              "    <path d=\"M0 0h24v24H0V0z\" fill=\"none\"/>\n",
              "    <path d=\"M18.56 5.44l.94 2.06.94-2.06 2.06-.94-2.06-.94-.94-2.06-.94 2.06-2.06.94zm-11 1L8.5 8.5l.94-2.06 2.06-.94-2.06-.94L8.5 2.5l-.94 2.06-2.06.94zm10 10l.94 2.06.94-2.06 2.06-.94-2.06-.94-.94-2.06-.94 2.06-2.06.94z\"/><path d=\"M17.41 7.96l-1.37-1.37c-.4-.4-.92-.59-1.43-.59-.52 0-1.04.2-1.43.59L10.3 9.45l-7.72 7.72c-.78.78-.78 2.05 0 2.83L4 21.41c.39.39.9.59 1.41.59.51 0 1.02-.2 1.41-.59l7.78-7.78 2.81-2.81c.8-.78.8-2.07 0-2.86zM5.41 20L4 18.59l7.72-7.72 1.47 1.35L5.41 20z\"/>\n",
              "  </svg>\n",
              "      </button>\n",
              "      \n",
              "  <style>\n",
              "    .colab-df-container {\n",
              "      display:flex;\n",
              "      flex-wrap:wrap;\n",
              "      gap: 12px;\n",
              "    }\n",
              "\n",
              "    .colab-df-convert {\n",
              "      background-color: #E8F0FE;\n",
              "      border: none;\n",
              "      border-radius: 50%;\n",
              "      cursor: pointer;\n",
              "      display: none;\n",
              "      fill: #1967D2;\n",
              "      height: 32px;\n",
              "      padding: 0 0 0 0;\n",
              "      width: 32px;\n",
              "    }\n",
              "\n",
              "    .colab-df-convert:hover {\n",
              "      background-color: #E2EBFA;\n",
              "      box-shadow: 0px 1px 2px rgba(60, 64, 67, 0.3), 0px 1px 3px 1px rgba(60, 64, 67, 0.15);\n",
              "      fill: #174EA6;\n",
              "    }\n",
              "\n",
              "    [theme=dark] .colab-df-convert {\n",
              "      background-color: #3B4455;\n",
              "      fill: #D2E3FC;\n",
              "    }\n",
              "\n",
              "    [theme=dark] .colab-df-convert:hover {\n",
              "      background-color: #434B5C;\n",
              "      box-shadow: 0px 1px 3px 1px rgba(0, 0, 0, 0.15);\n",
              "      filter: drop-shadow(0px 1px 2px rgba(0, 0, 0, 0.3));\n",
              "      fill: #FFFFFF;\n",
              "    }\n",
              "  </style>\n",
              "\n",
              "      <script>\n",
              "        const buttonEl =\n",
              "          document.querySelector('#df-e0c9302f-6285-418a-9ee6-9e57ea2c25b1 button.colab-df-convert');\n",
              "        buttonEl.style.display =\n",
              "          google.colab.kernel.accessAllowed ? 'block' : 'none';\n",
              "\n",
              "        async function convertToInteractive(key) {\n",
              "          const element = document.querySelector('#df-e0c9302f-6285-418a-9ee6-9e57ea2c25b1');\n",
              "          const dataTable =\n",
              "            await google.colab.kernel.invokeFunction('convertToInteractive',\n",
              "                                                     [key], {});\n",
              "          if (!dataTable) return;\n",
              "\n",
              "          const docLinkHtml = 'Like what you see? Visit the ' +\n",
              "            '<a target=\"_blank\" href=https://colab.research.google.com/notebooks/data_table.ipynb>data table notebook</a>'\n",
              "            + ' to learn more about interactive tables.';\n",
              "          element.innerHTML = '';\n",
              "          dataTable['output_type'] = 'display_data';\n",
              "          await google.colab.output.renderOutput(dataTable, element);\n",
              "          const docLink = document.createElement('div');\n",
              "          docLink.innerHTML = docLinkHtml;\n",
              "          element.appendChild(docLink);\n",
              "        }\n",
              "      </script>\n",
              "    </div>\n",
              "  </div>\n",
              "  "
            ]
          },
          "metadata": {}
        },
        {
          "output_type": "stream",
          "name": "stdout",
          "text": [
            "[Time taken: 2.90s]\n",
            "\n",
            "CPU times: user 14.9 s, sys: 160 ms, total: 15 s\n",
            "Wall time: 8.43 s\n"
          ]
        }
      ]
    },
    {
      "cell_type": "code",
      "source": [
        "optuna.logging.set_verbosity(optuna.logging.ERROR)"
      ],
      "metadata": {
        "id": "j6CPkw2AwBfu"
      },
      "execution_count": 18,
      "outputs": []
    },
    {
      "cell_type": "markdown",
      "source": [
        "# Exp 1 - clipped data + all features"
      ],
      "metadata": {
        "id": "XEosvKAmzvvr"
      }
    },
    {
      "cell_type": "code",
      "source": [
        "%%time\n",
        "tp_clip_all = run_experiment(\n",
        "    data=(train[all_features], train[TARGET], test[all_features]),\n",
        "    n_trials=100\n",
        ")"
      ],
      "metadata": {
        "id": "HSTivemPzzNo",
        "colab": {
          "base_uri": "https://localhost:8080/",
          "height": 616
        },
        "outputId": "f2864a2d-de2b-435a-dd3a-64e3c1b6bfcd"
      },
      "execution_count": 19,
      "outputs": [
        {
          "output_type": "stream",
          "name": "stdout",
          "text": [
            "----------Hyperparameter tuning----------\n",
            "Best trial: 14 -> Best value: 0.88297\n",
            "Best hyperparameters:\n",
            "learning_rate   - 0.125\n",
            "reg_alpha       - 0.8\n",
            "reg_lambda      - 20.5\n",
            "num_leaves      - 995\n",
            "max_depth       - 12\n",
            "min_child_samples - 204\n",
            "min_split_gain  - 1.25\n",
            "colsample_bytree - 0.9\n",
            "top_rate        - 0.4\n",
            "other_rate      - 0.2\n",
            "[Time taken: 220.25s]\n",
            "\n",
            "-----Cross-validation and prediction-----\n"
          ]
        },
        {
          "output_type": "display_data",
          "data": {
            "text/plain": [
              "      F1-micro  F1-macro  F1-weighted\n",
              "Fold                                 \n",
              "0       0.9215    0.8876       0.9206\n",
              "1       0.9089    0.8787       0.9077\n",
              "2       0.9176    0.8974       0.9166\n",
              "3       0.9049    0.8776       0.9044\n",
              "4       0.9069    0.8736       0.9057\n",
              "Avg.    0.9120    0.8830       0.9110"
            ],
            "text/html": [
              "\n",
              "  <div id=\"df-3428cac5-184b-4394-baa8-2ae40ab848ef\">\n",
              "    <div class=\"colab-df-container\">\n",
              "      <div>\n",
              "<style scoped>\n",
              "    .dataframe tbody tr th:only-of-type {\n",
              "        vertical-align: middle;\n",
              "    }\n",
              "\n",
              "    .dataframe tbody tr th {\n",
              "        vertical-align: top;\n",
              "    }\n",
              "\n",
              "    .dataframe thead th {\n",
              "        text-align: right;\n",
              "    }\n",
              "</style>\n",
              "<table border=\"1\" class=\"dataframe\">\n",
              "  <thead>\n",
              "    <tr style=\"text-align: right;\">\n",
              "      <th></th>\n",
              "      <th>F1-micro</th>\n",
              "      <th>F1-macro</th>\n",
              "      <th>F1-weighted</th>\n",
              "    </tr>\n",
              "    <tr>\n",
              "      <th>Fold</th>\n",
              "      <th></th>\n",
              "      <th></th>\n",
              "      <th></th>\n",
              "    </tr>\n",
              "  </thead>\n",
              "  <tbody>\n",
              "    <tr>\n",
              "      <th>0</th>\n",
              "      <td>0.9215</td>\n",
              "      <td>0.8876</td>\n",
              "      <td>0.9206</td>\n",
              "    </tr>\n",
              "    <tr>\n",
              "      <th>1</th>\n",
              "      <td>0.9089</td>\n",
              "      <td>0.8787</td>\n",
              "      <td>0.9077</td>\n",
              "    </tr>\n",
              "    <tr>\n",
              "      <th>2</th>\n",
              "      <td>0.9176</td>\n",
              "      <td>0.8974</td>\n",
              "      <td>0.9166</td>\n",
              "    </tr>\n",
              "    <tr>\n",
              "      <th>3</th>\n",
              "      <td>0.9049</td>\n",
              "      <td>0.8776</td>\n",
              "      <td>0.9044</td>\n",
              "    </tr>\n",
              "    <tr>\n",
              "      <th>4</th>\n",
              "      <td>0.9069</td>\n",
              "      <td>0.8736</td>\n",
              "      <td>0.9057</td>\n",
              "    </tr>\n",
              "    <tr>\n",
              "      <th>Avg.</th>\n",
              "      <td>0.9120</td>\n",
              "      <td>0.8830</td>\n",
              "      <td>0.9110</td>\n",
              "    </tr>\n",
              "  </tbody>\n",
              "</table>\n",
              "</div>\n",
              "      <button class=\"colab-df-convert\" onclick=\"convertToInteractive('df-3428cac5-184b-4394-baa8-2ae40ab848ef')\"\n",
              "              title=\"Convert this dataframe to an interactive table.\"\n",
              "              style=\"display:none;\">\n",
              "        \n",
              "  <svg xmlns=\"http://www.w3.org/2000/svg\" height=\"24px\"viewBox=\"0 0 24 24\"\n",
              "       width=\"24px\">\n",
              "    <path d=\"M0 0h24v24H0V0z\" fill=\"none\"/>\n",
              "    <path d=\"M18.56 5.44l.94 2.06.94-2.06 2.06-.94-2.06-.94-.94-2.06-.94 2.06-2.06.94zm-11 1L8.5 8.5l.94-2.06 2.06-.94-2.06-.94L8.5 2.5l-.94 2.06-2.06.94zm10 10l.94 2.06.94-2.06 2.06-.94-2.06-.94-.94-2.06-.94 2.06-2.06.94z\"/><path d=\"M17.41 7.96l-1.37-1.37c-.4-.4-.92-.59-1.43-.59-.52 0-1.04.2-1.43.59L10.3 9.45l-7.72 7.72c-.78.78-.78 2.05 0 2.83L4 21.41c.39.39.9.59 1.41.59.51 0 1.02-.2 1.41-.59l7.78-7.78 2.81-2.81c.8-.78.8-2.07 0-2.86zM5.41 20L4 18.59l7.72-7.72 1.47 1.35L5.41 20z\"/>\n",
              "  </svg>\n",
              "      </button>\n",
              "      \n",
              "  <style>\n",
              "    .colab-df-container {\n",
              "      display:flex;\n",
              "      flex-wrap:wrap;\n",
              "      gap: 12px;\n",
              "    }\n",
              "\n",
              "    .colab-df-convert {\n",
              "      background-color: #E8F0FE;\n",
              "      border: none;\n",
              "      border-radius: 50%;\n",
              "      cursor: pointer;\n",
              "      display: none;\n",
              "      fill: #1967D2;\n",
              "      height: 32px;\n",
              "      padding: 0 0 0 0;\n",
              "      width: 32px;\n",
              "    }\n",
              "\n",
              "    .colab-df-convert:hover {\n",
              "      background-color: #E2EBFA;\n",
              "      box-shadow: 0px 1px 2px rgba(60, 64, 67, 0.3), 0px 1px 3px 1px rgba(60, 64, 67, 0.15);\n",
              "      fill: #174EA6;\n",
              "    }\n",
              "\n",
              "    [theme=dark] .colab-df-convert {\n",
              "      background-color: #3B4455;\n",
              "      fill: #D2E3FC;\n",
              "    }\n",
              "\n",
              "    [theme=dark] .colab-df-convert:hover {\n",
              "      background-color: #434B5C;\n",
              "      box-shadow: 0px 1px 3px 1px rgba(0, 0, 0, 0.15);\n",
              "      filter: drop-shadow(0px 1px 2px rgba(0, 0, 0, 0.3));\n",
              "      fill: #FFFFFF;\n",
              "    }\n",
              "  </style>\n",
              "\n",
              "      <script>\n",
              "        const buttonEl =\n",
              "          document.querySelector('#df-3428cac5-184b-4394-baa8-2ae40ab848ef button.colab-df-convert');\n",
              "        buttonEl.style.display =\n",
              "          google.colab.kernel.accessAllowed ? 'block' : 'none';\n",
              "\n",
              "        async function convertToInteractive(key) {\n",
              "          const element = document.querySelector('#df-3428cac5-184b-4394-baa8-2ae40ab848ef');\n",
              "          const dataTable =\n",
              "            await google.colab.kernel.invokeFunction('convertToInteractive',\n",
              "                                                     [key], {});\n",
              "          if (!dataTable) return;\n",
              "\n",
              "          const docLinkHtml = 'Like what you see? Visit the ' +\n",
              "            '<a target=\"_blank\" href=https://colab.research.google.com/notebooks/data_table.ipynb>data table notebook</a>'\n",
              "            + ' to learn more about interactive tables.';\n",
              "          element.innerHTML = '';\n",
              "          dataTable['output_type'] = 'display_data';\n",
              "          await google.colab.output.renderOutput(dataTable, element);\n",
              "          const docLink = document.createElement('div');\n",
              "          docLink.innerHTML = docLinkHtml;\n",
              "          element.appendChild(docLink);\n",
              "        }\n",
              "      </script>\n",
              "    </div>\n",
              "  </div>\n",
              "  "
            ]
          },
          "metadata": {}
        },
        {
          "output_type": "stream",
          "name": "stdout",
          "text": [
            "[Time taken: 3.25s]\n",
            "\n",
            "CPU times: user 6min 44s, sys: 8.54 s, total: 6min 53s\n",
            "Wall time: 3min 43s\n"
          ]
        }
      ]
    },
    {
      "cell_type": "markdown",
      "source": [
        "# Exp 2 - original data + all features"
      ],
      "metadata": {
        "id": "A3PbmLOsz5eN"
      }
    },
    {
      "cell_type": "code",
      "source": [
        "%%time\n",
        "tp_og_all = run_experiment(\n",
        "    data=(train_og[all_features], train_og[TARGET], test[all_features]),\n",
        "    n_trials=100\n",
        ")"
      ],
      "metadata": {
        "id": "ZkMLAYWpz9i6",
        "colab": {
          "base_uri": "https://localhost:8080/",
          "height": 616
        },
        "outputId": "e14abdac-538e-49bb-cfcd-2490f29cd22d"
      },
      "execution_count": 20,
      "outputs": [
        {
          "output_type": "stream",
          "name": "stdout",
          "text": [
            "----------Hyperparameter tuning----------\n",
            "Best trial: 72 -> Best value: 0.88437\n",
            "Best hyperparameters:\n",
            "learning_rate   - 0.3\n",
            "reg_alpha       - 1.9000000000000001\n",
            "reg_lambda      - 38.300000000000004\n",
            "num_leaves      - 890\n",
            "max_depth       - 9\n",
            "min_child_samples - 452\n",
            "min_split_gain  - 0.01\n",
            "colsample_bytree - 0.8500000000000001\n",
            "top_rate        - 0.5\n",
            "other_rate      - 0.35000000000000003\n",
            "[Time taken: 232.98s]\n",
            "\n",
            "-----Cross-validation and prediction-----\n"
          ]
        },
        {
          "output_type": "display_data",
          "data": {
            "text/plain": [
              "      F1-micro  F1-macro  F1-weighted\n",
              "Fold                                 \n",
              "0       0.9106    0.8824       0.9101\n",
              "1       0.9130    0.8825       0.9121\n",
              "2       0.9139    0.8857       0.9133\n",
              "3       0.9040    0.8721       0.9024\n",
              "4       0.9220    0.8991       0.9219\n",
              "Avg.    0.9127    0.8844       0.9120"
            ],
            "text/html": [
              "\n",
              "  <div id=\"df-87938eb5-931d-4b59-b3fe-b3dc20ccb5f9\">\n",
              "    <div class=\"colab-df-container\">\n",
              "      <div>\n",
              "<style scoped>\n",
              "    .dataframe tbody tr th:only-of-type {\n",
              "        vertical-align: middle;\n",
              "    }\n",
              "\n",
              "    .dataframe tbody tr th {\n",
              "        vertical-align: top;\n",
              "    }\n",
              "\n",
              "    .dataframe thead th {\n",
              "        text-align: right;\n",
              "    }\n",
              "</style>\n",
              "<table border=\"1\" class=\"dataframe\">\n",
              "  <thead>\n",
              "    <tr style=\"text-align: right;\">\n",
              "      <th></th>\n",
              "      <th>F1-micro</th>\n",
              "      <th>F1-macro</th>\n",
              "      <th>F1-weighted</th>\n",
              "    </tr>\n",
              "    <tr>\n",
              "      <th>Fold</th>\n",
              "      <th></th>\n",
              "      <th></th>\n",
              "      <th></th>\n",
              "    </tr>\n",
              "  </thead>\n",
              "  <tbody>\n",
              "    <tr>\n",
              "      <th>0</th>\n",
              "      <td>0.9106</td>\n",
              "      <td>0.8824</td>\n",
              "      <td>0.9101</td>\n",
              "    </tr>\n",
              "    <tr>\n",
              "      <th>1</th>\n",
              "      <td>0.9130</td>\n",
              "      <td>0.8825</td>\n",
              "      <td>0.9121</td>\n",
              "    </tr>\n",
              "    <tr>\n",
              "      <th>2</th>\n",
              "      <td>0.9139</td>\n",
              "      <td>0.8857</td>\n",
              "      <td>0.9133</td>\n",
              "    </tr>\n",
              "    <tr>\n",
              "      <th>3</th>\n",
              "      <td>0.9040</td>\n",
              "      <td>0.8721</td>\n",
              "      <td>0.9024</td>\n",
              "    </tr>\n",
              "    <tr>\n",
              "      <th>4</th>\n",
              "      <td>0.9220</td>\n",
              "      <td>0.8991</td>\n",
              "      <td>0.9219</td>\n",
              "    </tr>\n",
              "    <tr>\n",
              "      <th>Avg.</th>\n",
              "      <td>0.9127</td>\n",
              "      <td>0.8844</td>\n",
              "      <td>0.9120</td>\n",
              "    </tr>\n",
              "  </tbody>\n",
              "</table>\n",
              "</div>\n",
              "      <button class=\"colab-df-convert\" onclick=\"convertToInteractive('df-87938eb5-931d-4b59-b3fe-b3dc20ccb5f9')\"\n",
              "              title=\"Convert this dataframe to an interactive table.\"\n",
              "              style=\"display:none;\">\n",
              "        \n",
              "  <svg xmlns=\"http://www.w3.org/2000/svg\" height=\"24px\"viewBox=\"0 0 24 24\"\n",
              "       width=\"24px\">\n",
              "    <path d=\"M0 0h24v24H0V0z\" fill=\"none\"/>\n",
              "    <path d=\"M18.56 5.44l.94 2.06.94-2.06 2.06-.94-2.06-.94-.94-2.06-.94 2.06-2.06.94zm-11 1L8.5 8.5l.94-2.06 2.06-.94-2.06-.94L8.5 2.5l-.94 2.06-2.06.94zm10 10l.94 2.06.94-2.06 2.06-.94-2.06-.94-.94-2.06-.94 2.06-2.06.94z\"/><path d=\"M17.41 7.96l-1.37-1.37c-.4-.4-.92-.59-1.43-.59-.52 0-1.04.2-1.43.59L10.3 9.45l-7.72 7.72c-.78.78-.78 2.05 0 2.83L4 21.41c.39.39.9.59 1.41.59.51 0 1.02-.2 1.41-.59l7.78-7.78 2.81-2.81c.8-.78.8-2.07 0-2.86zM5.41 20L4 18.59l7.72-7.72 1.47 1.35L5.41 20z\"/>\n",
              "  </svg>\n",
              "      </button>\n",
              "      \n",
              "  <style>\n",
              "    .colab-df-container {\n",
              "      display:flex;\n",
              "      flex-wrap:wrap;\n",
              "      gap: 12px;\n",
              "    }\n",
              "\n",
              "    .colab-df-convert {\n",
              "      background-color: #E8F0FE;\n",
              "      border: none;\n",
              "      border-radius: 50%;\n",
              "      cursor: pointer;\n",
              "      display: none;\n",
              "      fill: #1967D2;\n",
              "      height: 32px;\n",
              "      padding: 0 0 0 0;\n",
              "      width: 32px;\n",
              "    }\n",
              "\n",
              "    .colab-df-convert:hover {\n",
              "      background-color: #E2EBFA;\n",
              "      box-shadow: 0px 1px 2px rgba(60, 64, 67, 0.3), 0px 1px 3px 1px rgba(60, 64, 67, 0.15);\n",
              "      fill: #174EA6;\n",
              "    }\n",
              "\n",
              "    [theme=dark] .colab-df-convert {\n",
              "      background-color: #3B4455;\n",
              "      fill: #D2E3FC;\n",
              "    }\n",
              "\n",
              "    [theme=dark] .colab-df-convert:hover {\n",
              "      background-color: #434B5C;\n",
              "      box-shadow: 0px 1px 3px 1px rgba(0, 0, 0, 0.15);\n",
              "      filter: drop-shadow(0px 1px 2px rgba(0, 0, 0, 0.3));\n",
              "      fill: #FFFFFF;\n",
              "    }\n",
              "  </style>\n",
              "\n",
              "      <script>\n",
              "        const buttonEl =\n",
              "          document.querySelector('#df-87938eb5-931d-4b59-b3fe-b3dc20ccb5f9 button.colab-df-convert');\n",
              "        buttonEl.style.display =\n",
              "          google.colab.kernel.accessAllowed ? 'block' : 'none';\n",
              "\n",
              "        async function convertToInteractive(key) {\n",
              "          const element = document.querySelector('#df-87938eb5-931d-4b59-b3fe-b3dc20ccb5f9');\n",
              "          const dataTable =\n",
              "            await google.colab.kernel.invokeFunction('convertToInteractive',\n",
              "                                                     [key], {});\n",
              "          if (!dataTable) return;\n",
              "\n",
              "          const docLinkHtml = 'Like what you see? Visit the ' +\n",
              "            '<a target=\"_blank\" href=https://colab.research.google.com/notebooks/data_table.ipynb>data table notebook</a>'\n",
              "            + ' to learn more about interactive tables.';\n",
              "          element.innerHTML = '';\n",
              "          dataTable['output_type'] = 'display_data';\n",
              "          await google.colab.output.renderOutput(dataTable, element);\n",
              "          const docLink = document.createElement('div');\n",
              "          docLink.innerHTML = docLinkHtml;\n",
              "          element.appendChild(docLink);\n",
              "        }\n",
              "      </script>\n",
              "    </div>\n",
              "  </div>\n",
              "  "
            ]
          },
          "metadata": {}
        },
        {
          "output_type": "stream",
          "name": "stdout",
          "text": [
            "[Time taken: 3.16s]\n",
            "\n",
            "CPU times: user 7min 16s, sys: 7.21 s, total: 7min 23s\n",
            "Wall time: 3min 56s\n"
          ]
        }
      ]
    },
    {
      "cell_type": "markdown",
      "source": [
        "# Exp 3 - clipped data + MI features"
      ],
      "metadata": {
        "id": "gRM7h23vaukK"
      }
    },
    {
      "cell_type": "code",
      "source": [
        "%%time\n",
        "tp_clip_mi = run_experiment(\n",
        "    data=(train[mi_features], train[TARGET], test[mi_features]),\n",
        "    n_trials=100\n",
        ")"
      ],
      "metadata": {
        "id": "8xp6FNh1aukk",
        "colab": {
          "base_uri": "https://localhost:8080/",
          "height": 616
        },
        "outputId": "9e015297-1d12-4ecb-8ffe-fa2a91cf7809"
      },
      "execution_count": 21,
      "outputs": [
        {
          "output_type": "stream",
          "name": "stdout",
          "text": [
            "----------Hyperparameter tuning----------\n",
            "Best trial: 72 -> Best value: 0.87491\n",
            "Best hyperparameters:\n",
            "learning_rate   - 0.275\n",
            "reg_alpha       - 1.9000000000000001\n",
            "reg_lambda      - 56.0\n",
            "num_leaves      - 810\n",
            "max_depth       - 12\n",
            "min_child_samples - 112\n",
            "min_split_gain  - 0.12\n",
            "colsample_bytree - 0.8\n",
            "top_rate        - 0.5\n",
            "other_rate      - 0.35000000000000003\n",
            "[Time taken: 164.99s]\n",
            "\n",
            "-----Cross-validation and prediction-----\n"
          ]
        },
        {
          "output_type": "display_data",
          "data": {
            "text/plain": [
              "      F1-micro  F1-macro  F1-weighted\n",
              "Fold                                 \n",
              "0       0.9215    0.8865       0.9207\n",
              "1       0.9099    0.8784       0.9088\n",
              "2       0.9118    0.8856       0.9109\n",
              "3       0.8904    0.8537       0.8897\n",
              "4       0.9040    0.8703       0.9033\n",
              "Avg.    0.9075    0.8749       0.9067"
            ],
            "text/html": [
              "\n",
              "  <div id=\"df-b4625c36-44d9-466e-ad95-242c97a1c69d\">\n",
              "    <div class=\"colab-df-container\">\n",
              "      <div>\n",
              "<style scoped>\n",
              "    .dataframe tbody tr th:only-of-type {\n",
              "        vertical-align: middle;\n",
              "    }\n",
              "\n",
              "    .dataframe tbody tr th {\n",
              "        vertical-align: top;\n",
              "    }\n",
              "\n",
              "    .dataframe thead th {\n",
              "        text-align: right;\n",
              "    }\n",
              "</style>\n",
              "<table border=\"1\" class=\"dataframe\">\n",
              "  <thead>\n",
              "    <tr style=\"text-align: right;\">\n",
              "      <th></th>\n",
              "      <th>F1-micro</th>\n",
              "      <th>F1-macro</th>\n",
              "      <th>F1-weighted</th>\n",
              "    </tr>\n",
              "    <tr>\n",
              "      <th>Fold</th>\n",
              "      <th></th>\n",
              "      <th></th>\n",
              "      <th></th>\n",
              "    </tr>\n",
              "  </thead>\n",
              "  <tbody>\n",
              "    <tr>\n",
              "      <th>0</th>\n",
              "      <td>0.9215</td>\n",
              "      <td>0.8865</td>\n",
              "      <td>0.9207</td>\n",
              "    </tr>\n",
              "    <tr>\n",
              "      <th>1</th>\n",
              "      <td>0.9099</td>\n",
              "      <td>0.8784</td>\n",
              "      <td>0.9088</td>\n",
              "    </tr>\n",
              "    <tr>\n",
              "      <th>2</th>\n",
              "      <td>0.9118</td>\n",
              "      <td>0.8856</td>\n",
              "      <td>0.9109</td>\n",
              "    </tr>\n",
              "    <tr>\n",
              "      <th>3</th>\n",
              "      <td>0.8904</td>\n",
              "      <td>0.8537</td>\n",
              "      <td>0.8897</td>\n",
              "    </tr>\n",
              "    <tr>\n",
              "      <th>4</th>\n",
              "      <td>0.9040</td>\n",
              "      <td>0.8703</td>\n",
              "      <td>0.9033</td>\n",
              "    </tr>\n",
              "    <tr>\n",
              "      <th>Avg.</th>\n",
              "      <td>0.9075</td>\n",
              "      <td>0.8749</td>\n",
              "      <td>0.9067</td>\n",
              "    </tr>\n",
              "  </tbody>\n",
              "</table>\n",
              "</div>\n",
              "      <button class=\"colab-df-convert\" onclick=\"convertToInteractive('df-b4625c36-44d9-466e-ad95-242c97a1c69d')\"\n",
              "              title=\"Convert this dataframe to an interactive table.\"\n",
              "              style=\"display:none;\">\n",
              "        \n",
              "  <svg xmlns=\"http://www.w3.org/2000/svg\" height=\"24px\"viewBox=\"0 0 24 24\"\n",
              "       width=\"24px\">\n",
              "    <path d=\"M0 0h24v24H0V0z\" fill=\"none\"/>\n",
              "    <path d=\"M18.56 5.44l.94 2.06.94-2.06 2.06-.94-2.06-.94-.94-2.06-.94 2.06-2.06.94zm-11 1L8.5 8.5l.94-2.06 2.06-.94-2.06-.94L8.5 2.5l-.94 2.06-2.06.94zm10 10l.94 2.06.94-2.06 2.06-.94-2.06-.94-.94-2.06-.94 2.06-2.06.94z\"/><path d=\"M17.41 7.96l-1.37-1.37c-.4-.4-.92-.59-1.43-.59-.52 0-1.04.2-1.43.59L10.3 9.45l-7.72 7.72c-.78.78-.78 2.05 0 2.83L4 21.41c.39.39.9.59 1.41.59.51 0 1.02-.2 1.41-.59l7.78-7.78 2.81-2.81c.8-.78.8-2.07 0-2.86zM5.41 20L4 18.59l7.72-7.72 1.47 1.35L5.41 20z\"/>\n",
              "  </svg>\n",
              "      </button>\n",
              "      \n",
              "  <style>\n",
              "    .colab-df-container {\n",
              "      display:flex;\n",
              "      flex-wrap:wrap;\n",
              "      gap: 12px;\n",
              "    }\n",
              "\n",
              "    .colab-df-convert {\n",
              "      background-color: #E8F0FE;\n",
              "      border: none;\n",
              "      border-radius: 50%;\n",
              "      cursor: pointer;\n",
              "      display: none;\n",
              "      fill: #1967D2;\n",
              "      height: 32px;\n",
              "      padding: 0 0 0 0;\n",
              "      width: 32px;\n",
              "    }\n",
              "\n",
              "    .colab-df-convert:hover {\n",
              "      background-color: #E2EBFA;\n",
              "      box-shadow: 0px 1px 2px rgba(60, 64, 67, 0.3), 0px 1px 3px 1px rgba(60, 64, 67, 0.15);\n",
              "      fill: #174EA6;\n",
              "    }\n",
              "\n",
              "    [theme=dark] .colab-df-convert {\n",
              "      background-color: #3B4455;\n",
              "      fill: #D2E3FC;\n",
              "    }\n",
              "\n",
              "    [theme=dark] .colab-df-convert:hover {\n",
              "      background-color: #434B5C;\n",
              "      box-shadow: 0px 1px 3px 1px rgba(0, 0, 0, 0.15);\n",
              "      filter: drop-shadow(0px 1px 2px rgba(0, 0, 0, 0.3));\n",
              "      fill: #FFFFFF;\n",
              "    }\n",
              "  </style>\n",
              "\n",
              "      <script>\n",
              "        const buttonEl =\n",
              "          document.querySelector('#df-b4625c36-44d9-466e-ad95-242c97a1c69d button.colab-df-convert');\n",
              "        buttonEl.style.display =\n",
              "          google.colab.kernel.accessAllowed ? 'block' : 'none';\n",
              "\n",
              "        async function convertToInteractive(key) {\n",
              "          const element = document.querySelector('#df-b4625c36-44d9-466e-ad95-242c97a1c69d');\n",
              "          const dataTable =\n",
              "            await google.colab.kernel.invokeFunction('convertToInteractive',\n",
              "                                                     [key], {});\n",
              "          if (!dataTable) return;\n",
              "\n",
              "          const docLinkHtml = 'Like what you see? Visit the ' +\n",
              "            '<a target=\"_blank\" href=https://colab.research.google.com/notebooks/data_table.ipynb>data table notebook</a>'\n",
              "            + ' to learn more about interactive tables.';\n",
              "          element.innerHTML = '';\n",
              "          dataTable['output_type'] = 'display_data';\n",
              "          await google.colab.output.renderOutput(dataTable, element);\n",
              "          const docLink = document.createElement('div');\n",
              "          docLink.innerHTML = docLinkHtml;\n",
              "          element.appendChild(docLink);\n",
              "        }\n",
              "      </script>\n",
              "    </div>\n",
              "  </div>\n",
              "  "
            ]
          },
          "metadata": {}
        },
        {
          "output_type": "stream",
          "name": "stdout",
          "text": [
            "[Time taken: 3.24s]\n",
            "\n",
            "CPU times: user 5min 2s, sys: 7.15 s, total: 5min 9s\n",
            "Wall time: 2min 48s\n"
          ]
        }
      ]
    },
    {
      "cell_type": "markdown",
      "source": [
        "# Exp 4 - clipped data + ANOVA features"
      ],
      "metadata": {
        "id": "I1513AJJowUw"
      }
    },
    {
      "cell_type": "code",
      "source": [
        "%%time\n",
        "tp_clip_anova = run_experiment(\n",
        "    data=(train[anova_features], train[TARGET], test[anova_features]),\n",
        "    n_trials=100\n",
        ")"
      ],
      "metadata": {
        "id": "Pw_mPM_xoxxO",
        "colab": {
          "base_uri": "https://localhost:8080/",
          "height": 616
        },
        "outputId": "6a904f6b-3f80-4ca6-a295-50c441e23111"
      },
      "execution_count": 22,
      "outputs": [
        {
          "output_type": "stream",
          "name": "stdout",
          "text": [
            "----------Hyperparameter tuning----------\n",
            "Best trial: 72 -> Best value: 0.88301\n",
            "Best hyperparameters:\n",
            "learning_rate   - 0.275\n",
            "reg_alpha       - 1.9000000000000001\n",
            "reg_lambda      - 46.0\n",
            "num_leaves      - 1625\n",
            "max_depth       - 11\n",
            "min_child_samples - 308\n",
            "min_split_gain  - 0.0\n",
            "colsample_bytree - 0.95\n",
            "top_rate        - 0.4\n",
            "other_rate      - 0.35000000000000003\n",
            "[Time taken: 180.04s]\n",
            "\n",
            "-----Cross-validation and prediction-----\n"
          ]
        },
        {
          "output_type": "display_data",
          "data": {
            "text/plain": [
              "      F1-micro  F1-macro  F1-weighted\n",
              "Fold                                 \n",
              "0       0.9225    0.8906       0.9218\n",
              "1       0.9109    0.8862       0.9101\n",
              "2       0.9157    0.8944       0.9153\n",
              "3       0.9020    0.8773       0.9018\n",
              "4       0.9020    0.8666       0.9012\n",
              "Avg.    0.9106    0.8830       0.9100"
            ],
            "text/html": [
              "\n",
              "  <div id=\"df-06180121-cf7d-43a6-ae04-23333669605a\">\n",
              "    <div class=\"colab-df-container\">\n",
              "      <div>\n",
              "<style scoped>\n",
              "    .dataframe tbody tr th:only-of-type {\n",
              "        vertical-align: middle;\n",
              "    }\n",
              "\n",
              "    .dataframe tbody tr th {\n",
              "        vertical-align: top;\n",
              "    }\n",
              "\n",
              "    .dataframe thead th {\n",
              "        text-align: right;\n",
              "    }\n",
              "</style>\n",
              "<table border=\"1\" class=\"dataframe\">\n",
              "  <thead>\n",
              "    <tr style=\"text-align: right;\">\n",
              "      <th></th>\n",
              "      <th>F1-micro</th>\n",
              "      <th>F1-macro</th>\n",
              "      <th>F1-weighted</th>\n",
              "    </tr>\n",
              "    <tr>\n",
              "      <th>Fold</th>\n",
              "      <th></th>\n",
              "      <th></th>\n",
              "      <th></th>\n",
              "    </tr>\n",
              "  </thead>\n",
              "  <tbody>\n",
              "    <tr>\n",
              "      <th>0</th>\n",
              "      <td>0.9225</td>\n",
              "      <td>0.8906</td>\n",
              "      <td>0.9218</td>\n",
              "    </tr>\n",
              "    <tr>\n",
              "      <th>1</th>\n",
              "      <td>0.9109</td>\n",
              "      <td>0.8862</td>\n",
              "      <td>0.9101</td>\n",
              "    </tr>\n",
              "    <tr>\n",
              "      <th>2</th>\n",
              "      <td>0.9157</td>\n",
              "      <td>0.8944</td>\n",
              "      <td>0.9153</td>\n",
              "    </tr>\n",
              "    <tr>\n",
              "      <th>3</th>\n",
              "      <td>0.9020</td>\n",
              "      <td>0.8773</td>\n",
              "      <td>0.9018</td>\n",
              "    </tr>\n",
              "    <tr>\n",
              "      <th>4</th>\n",
              "      <td>0.9020</td>\n",
              "      <td>0.8666</td>\n",
              "      <td>0.9012</td>\n",
              "    </tr>\n",
              "    <tr>\n",
              "      <th>Avg.</th>\n",
              "      <td>0.9106</td>\n",
              "      <td>0.8830</td>\n",
              "      <td>0.9100</td>\n",
              "    </tr>\n",
              "  </tbody>\n",
              "</table>\n",
              "</div>\n",
              "      <button class=\"colab-df-convert\" onclick=\"convertToInteractive('df-06180121-cf7d-43a6-ae04-23333669605a')\"\n",
              "              title=\"Convert this dataframe to an interactive table.\"\n",
              "              style=\"display:none;\">\n",
              "        \n",
              "  <svg xmlns=\"http://www.w3.org/2000/svg\" height=\"24px\"viewBox=\"0 0 24 24\"\n",
              "       width=\"24px\">\n",
              "    <path d=\"M0 0h24v24H0V0z\" fill=\"none\"/>\n",
              "    <path d=\"M18.56 5.44l.94 2.06.94-2.06 2.06-.94-2.06-.94-.94-2.06-.94 2.06-2.06.94zm-11 1L8.5 8.5l.94-2.06 2.06-.94-2.06-.94L8.5 2.5l-.94 2.06-2.06.94zm10 10l.94 2.06.94-2.06 2.06-.94-2.06-.94-.94-2.06-.94 2.06-2.06.94z\"/><path d=\"M17.41 7.96l-1.37-1.37c-.4-.4-.92-.59-1.43-.59-.52 0-1.04.2-1.43.59L10.3 9.45l-7.72 7.72c-.78.78-.78 2.05 0 2.83L4 21.41c.39.39.9.59 1.41.59.51 0 1.02-.2 1.41-.59l7.78-7.78 2.81-2.81c.8-.78.8-2.07 0-2.86zM5.41 20L4 18.59l7.72-7.72 1.47 1.35L5.41 20z\"/>\n",
              "  </svg>\n",
              "      </button>\n",
              "      \n",
              "  <style>\n",
              "    .colab-df-container {\n",
              "      display:flex;\n",
              "      flex-wrap:wrap;\n",
              "      gap: 12px;\n",
              "    }\n",
              "\n",
              "    .colab-df-convert {\n",
              "      background-color: #E8F0FE;\n",
              "      border: none;\n",
              "      border-radius: 50%;\n",
              "      cursor: pointer;\n",
              "      display: none;\n",
              "      fill: #1967D2;\n",
              "      height: 32px;\n",
              "      padding: 0 0 0 0;\n",
              "      width: 32px;\n",
              "    }\n",
              "\n",
              "    .colab-df-convert:hover {\n",
              "      background-color: #E2EBFA;\n",
              "      box-shadow: 0px 1px 2px rgba(60, 64, 67, 0.3), 0px 1px 3px 1px rgba(60, 64, 67, 0.15);\n",
              "      fill: #174EA6;\n",
              "    }\n",
              "\n",
              "    [theme=dark] .colab-df-convert {\n",
              "      background-color: #3B4455;\n",
              "      fill: #D2E3FC;\n",
              "    }\n",
              "\n",
              "    [theme=dark] .colab-df-convert:hover {\n",
              "      background-color: #434B5C;\n",
              "      box-shadow: 0px 1px 3px 1px rgba(0, 0, 0, 0.15);\n",
              "      filter: drop-shadow(0px 1px 2px rgba(0, 0, 0, 0.3));\n",
              "      fill: #FFFFFF;\n",
              "    }\n",
              "  </style>\n",
              "\n",
              "      <script>\n",
              "        const buttonEl =\n",
              "          document.querySelector('#df-06180121-cf7d-43a6-ae04-23333669605a button.colab-df-convert');\n",
              "        buttonEl.style.display =\n",
              "          google.colab.kernel.accessAllowed ? 'block' : 'none';\n",
              "\n",
              "        async function convertToInteractive(key) {\n",
              "          const element = document.querySelector('#df-06180121-cf7d-43a6-ae04-23333669605a');\n",
              "          const dataTable =\n",
              "            await google.colab.kernel.invokeFunction('convertToInteractive',\n",
              "                                                     [key], {});\n",
              "          if (!dataTable) return;\n",
              "\n",
              "          const docLinkHtml = 'Like what you see? Visit the ' +\n",
              "            '<a target=\"_blank\" href=https://colab.research.google.com/notebooks/data_table.ipynb>data table notebook</a>'\n",
              "            + ' to learn more about interactive tables.';\n",
              "          element.innerHTML = '';\n",
              "          dataTable['output_type'] = 'display_data';\n",
              "          await google.colab.output.renderOutput(dataTable, element);\n",
              "          const docLink = document.createElement('div');\n",
              "          docLink.innerHTML = docLinkHtml;\n",
              "          element.appendChild(docLink);\n",
              "        }\n",
              "      </script>\n",
              "    </div>\n",
              "  </div>\n",
              "  "
            ]
          },
          "metadata": {}
        },
        {
          "output_type": "stream",
          "name": "stdout",
          "text": [
            "[Time taken: 4.32s]\n",
            "\n",
            "CPU times: user 5min 35s, sys: 6.51 s, total: 5min 41s\n",
            "Wall time: 3min 4s\n"
          ]
        }
      ]
    },
    {
      "cell_type": "markdown",
      "source": [
        "# Exp 5 - clipped data + top features"
      ],
      "metadata": {
        "id": "8MTTYwuOo18-"
      }
    },
    {
      "cell_type": "code",
      "source": [
        "%%time\n",
        "tp_clip_top = run_experiment(\n",
        "    data=(train[top_features], train[TARGET], test[top_features]),\n",
        "    n_trials=100\n",
        ")"
      ],
      "metadata": {
        "id": "8LVtTrwjo3PE",
        "colab": {
          "base_uri": "https://localhost:8080/",
          "height": 616
        },
        "outputId": "0ef9652a-73ac-4659-992c-942d9c96fa6f"
      },
      "execution_count": 23,
      "outputs": [
        {
          "output_type": "stream",
          "name": "stdout",
          "text": [
            "----------Hyperparameter tuning----------\n",
            "Best trial: 61 -> Best value: 0.83936\n",
            "Best hyperparameters:\n",
            "learning_rate   - 0.2\n",
            "reg_alpha       - 12.200000000000001\n",
            "reg_lambda      - 45.7\n",
            "num_leaves      - 1275\n",
            "max_depth       - 11\n",
            "min_child_samples - 576\n",
            "min_split_gain  - 8.43\n",
            "colsample_bytree - 0.8500000000000001\n",
            "top_rate        - 0.45000000000000007\n",
            "other_rate      - 0.15000000000000002\n",
            "[Time taken: 145.97s]\n",
            "\n",
            "-----Cross-validation and prediction-----\n"
          ]
        },
        {
          "output_type": "display_data",
          "data": {
            "text/plain": [
              "      F1-micro  F1-macro  F1-weighted\n",
              "Fold                                 \n",
              "0       0.8953    0.8394       0.8920\n",
              "1       0.8866    0.8340       0.8825\n",
              "2       0.8915    0.8553       0.8879\n",
              "3       0.8788    0.8334       0.8765\n",
              "4       0.8855    0.8347       0.8803\n",
              "Avg.    0.8876    0.8394       0.8839"
            ],
            "text/html": [
              "\n",
              "  <div id=\"df-b6e89777-b7c5-4681-807b-3548115d5f21\">\n",
              "    <div class=\"colab-df-container\">\n",
              "      <div>\n",
              "<style scoped>\n",
              "    .dataframe tbody tr th:only-of-type {\n",
              "        vertical-align: middle;\n",
              "    }\n",
              "\n",
              "    .dataframe tbody tr th {\n",
              "        vertical-align: top;\n",
              "    }\n",
              "\n",
              "    .dataframe thead th {\n",
              "        text-align: right;\n",
              "    }\n",
              "</style>\n",
              "<table border=\"1\" class=\"dataframe\">\n",
              "  <thead>\n",
              "    <tr style=\"text-align: right;\">\n",
              "      <th></th>\n",
              "      <th>F1-micro</th>\n",
              "      <th>F1-macro</th>\n",
              "      <th>F1-weighted</th>\n",
              "    </tr>\n",
              "    <tr>\n",
              "      <th>Fold</th>\n",
              "      <th></th>\n",
              "      <th></th>\n",
              "      <th></th>\n",
              "    </tr>\n",
              "  </thead>\n",
              "  <tbody>\n",
              "    <tr>\n",
              "      <th>0</th>\n",
              "      <td>0.8953</td>\n",
              "      <td>0.8394</td>\n",
              "      <td>0.8920</td>\n",
              "    </tr>\n",
              "    <tr>\n",
              "      <th>1</th>\n",
              "      <td>0.8866</td>\n",
              "      <td>0.8340</td>\n",
              "      <td>0.8825</td>\n",
              "    </tr>\n",
              "    <tr>\n",
              "      <th>2</th>\n",
              "      <td>0.8915</td>\n",
              "      <td>0.8553</td>\n",
              "      <td>0.8879</td>\n",
              "    </tr>\n",
              "    <tr>\n",
              "      <th>3</th>\n",
              "      <td>0.8788</td>\n",
              "      <td>0.8334</td>\n",
              "      <td>0.8765</td>\n",
              "    </tr>\n",
              "    <tr>\n",
              "      <th>4</th>\n",
              "      <td>0.8855</td>\n",
              "      <td>0.8347</td>\n",
              "      <td>0.8803</td>\n",
              "    </tr>\n",
              "    <tr>\n",
              "      <th>Avg.</th>\n",
              "      <td>0.8876</td>\n",
              "      <td>0.8394</td>\n",
              "      <td>0.8839</td>\n",
              "    </tr>\n",
              "  </tbody>\n",
              "</table>\n",
              "</div>\n",
              "      <button class=\"colab-df-convert\" onclick=\"convertToInteractive('df-b6e89777-b7c5-4681-807b-3548115d5f21')\"\n",
              "              title=\"Convert this dataframe to an interactive table.\"\n",
              "              style=\"display:none;\">\n",
              "        \n",
              "  <svg xmlns=\"http://www.w3.org/2000/svg\" height=\"24px\"viewBox=\"0 0 24 24\"\n",
              "       width=\"24px\">\n",
              "    <path d=\"M0 0h24v24H0V0z\" fill=\"none\"/>\n",
              "    <path d=\"M18.56 5.44l.94 2.06.94-2.06 2.06-.94-2.06-.94-.94-2.06-.94 2.06-2.06.94zm-11 1L8.5 8.5l.94-2.06 2.06-.94-2.06-.94L8.5 2.5l-.94 2.06-2.06.94zm10 10l.94 2.06.94-2.06 2.06-.94-2.06-.94-.94-2.06-.94 2.06-2.06.94z\"/><path d=\"M17.41 7.96l-1.37-1.37c-.4-.4-.92-.59-1.43-.59-.52 0-1.04.2-1.43.59L10.3 9.45l-7.72 7.72c-.78.78-.78 2.05 0 2.83L4 21.41c.39.39.9.59 1.41.59.51 0 1.02-.2 1.41-.59l7.78-7.78 2.81-2.81c.8-.78.8-2.07 0-2.86zM5.41 20L4 18.59l7.72-7.72 1.47 1.35L5.41 20z\"/>\n",
              "  </svg>\n",
              "      </button>\n",
              "      \n",
              "  <style>\n",
              "    .colab-df-container {\n",
              "      display:flex;\n",
              "      flex-wrap:wrap;\n",
              "      gap: 12px;\n",
              "    }\n",
              "\n",
              "    .colab-df-convert {\n",
              "      background-color: #E8F0FE;\n",
              "      border: none;\n",
              "      border-radius: 50%;\n",
              "      cursor: pointer;\n",
              "      display: none;\n",
              "      fill: #1967D2;\n",
              "      height: 32px;\n",
              "      padding: 0 0 0 0;\n",
              "      width: 32px;\n",
              "    }\n",
              "\n",
              "    .colab-df-convert:hover {\n",
              "      background-color: #E2EBFA;\n",
              "      box-shadow: 0px 1px 2px rgba(60, 64, 67, 0.3), 0px 1px 3px 1px rgba(60, 64, 67, 0.15);\n",
              "      fill: #174EA6;\n",
              "    }\n",
              "\n",
              "    [theme=dark] .colab-df-convert {\n",
              "      background-color: #3B4455;\n",
              "      fill: #D2E3FC;\n",
              "    }\n",
              "\n",
              "    [theme=dark] .colab-df-convert:hover {\n",
              "      background-color: #434B5C;\n",
              "      box-shadow: 0px 1px 3px 1px rgba(0, 0, 0, 0.15);\n",
              "      filter: drop-shadow(0px 1px 2px rgba(0, 0, 0, 0.3));\n",
              "      fill: #FFFFFF;\n",
              "    }\n",
              "  </style>\n",
              "\n",
              "      <script>\n",
              "        const buttonEl =\n",
              "          document.querySelector('#df-b6e89777-b7c5-4681-807b-3548115d5f21 button.colab-df-convert');\n",
              "        buttonEl.style.display =\n",
              "          google.colab.kernel.accessAllowed ? 'block' : 'none';\n",
              "\n",
              "        async function convertToInteractive(key) {\n",
              "          const element = document.querySelector('#df-b6e89777-b7c5-4681-807b-3548115d5f21');\n",
              "          const dataTable =\n",
              "            await google.colab.kernel.invokeFunction('convertToInteractive',\n",
              "                                                     [key], {});\n",
              "          if (!dataTable) return;\n",
              "\n",
              "          const docLinkHtml = 'Like what you see? Visit the ' +\n",
              "            '<a target=\"_blank\" href=https://colab.research.google.com/notebooks/data_table.ipynb>data table notebook</a>'\n",
              "            + ' to learn more about interactive tables.';\n",
              "          element.innerHTML = '';\n",
              "          dataTable['output_type'] = 'display_data';\n",
              "          await google.colab.output.renderOutput(dataTable, element);\n",
              "          const docLink = document.createElement('div');\n",
              "          docLink.innerHTML = docLinkHtml;\n",
              "          element.appendChild(docLink);\n",
              "        }\n",
              "      </script>\n",
              "    </div>\n",
              "  </div>\n",
              "  "
            ]
          },
          "metadata": {}
        },
        {
          "output_type": "stream",
          "name": "stdout",
          "text": [
            "[Time taken: 2.06s]\n",
            "\n",
            "CPU times: user 4min 26s, sys: 4.35 s, total: 4min 31s\n",
            "Wall time: 2min 28s\n"
          ]
        }
      ]
    },
    {
      "cell_type": "markdown",
      "source": [
        "# Submission files"
      ],
      "metadata": {
        "id": "EahA1dJ47Z1P"
      }
    },
    {
      "cell_type": "code",
      "source": [
        "from google.colab import drive\n",
        "drive.mount('/content/drive')"
      ],
      "metadata": {
        "id": "7npzUESt7bGc",
        "colab": {
          "base_uri": "https://localhost:8080/"
        },
        "outputId": "86fdf2cf-d209-4b1a-9f07-8ca47f7a514d"
      },
      "execution_count": 24,
      "outputs": [
        {
          "output_type": "stream",
          "name": "stdout",
          "text": [
            "Mounted at /content/drive\n"
          ]
        }
      ]
    },
    {
      "cell_type": "code",
      "source": [
        "NOTEBOOK = '02'\n",
        "SUBMISSION_PATH = f'/content/drive/MyDrive/data_science_competitions/others/devfolio_oracleofdelphi/submissions/nb_{NOTEBOOK}'\n",
        "if not os.path.isdir(SUBMISSION_PATH):\n",
        "    os.makedirs(SUBMISSION_PATH)"
      ],
      "metadata": {
        "id": "Z39yNfKD7b95"
      },
      "execution_count": 29,
      "outputs": []
    },
    {
      "cell_type": "code",
      "source": [
        "def create_submission_files(test_preds, dataset, feature_set, path=SUBMISSION_PATH):\n",
        "    for col in test_preds.columns:\n",
        "        sub = pd.DataFrame()\n",
        "        sub[TARGET] = test_preds[col].replace({0: 'Standard', 1: 'Good', 2: 'Best'})\n",
        "        sub.to_csv(f'{path}/{dataset}_{feature_set}_{col}.csv', index=False)"
      ],
      "metadata": {
        "id": "5y6XhjNx8OJT"
      },
      "execution_count": 30,
      "outputs": []
    },
    {
      "cell_type": "code",
      "source": [
        "create_submission_files(tp_clip_all, 'clip', 'all')\n",
        "create_submission_files(tp_clip_mi, 'clip', 'mi')\n",
        "create_submission_files(tp_clip_anova, 'clip', 'anova')\n",
        "create_submission_files(tp_clip_top, 'clip', 'top')"
      ],
      "metadata": {
        "id": "02PBC-fOp5V7"
      },
      "execution_count": 31,
      "outputs": []
    },
    {
      "cell_type": "code",
      "source": [
        "create_submission_files(tp_og_all, 'og', 'all')"
      ],
      "metadata": {
        "id": "upy56Eg0qFds"
      },
      "execution_count": 32,
      "outputs": []
    }
  ]
}