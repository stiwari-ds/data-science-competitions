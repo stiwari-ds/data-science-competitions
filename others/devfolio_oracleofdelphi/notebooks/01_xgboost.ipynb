{
  "nbformat": 4,
  "nbformat_minor": 0,
  "metadata": {
    "colab": {
      "provenance": [],
      "toc_visible": true,
      "authorship_tag": "ABX9TyOjo0Q8e//1n3ZgfKFxRlf+",
      "include_colab_link": true
    },
    "kernelspec": {
      "name": "python3",
      "display_name": "Python 3"
    },
    "language_info": {
      "name": "python"
    },
    "accelerator": "GPU",
    "gpuClass": "standard"
  },
  "cells": [
    {
      "cell_type": "markdown",
      "metadata": {
        "id": "view-in-github",
        "colab_type": "text"
      },
      "source": [
        "<a href=\"https://colab.research.google.com/github/stiwari-ds/data-science-competitions/blob/main/others/devfolio_oracleofdelphi/notebooks/01_xgboost.ipynb\" target=\"_parent\"><img src=\"https://colab.research.google.com/assets/colab-badge.svg\" alt=\"Open In Colab\"/></a>"
      ]
    },
    {
      "cell_type": "markdown",
      "source": [
        "# Setup"
      ],
      "metadata": {
        "id": "fMe_ffy2a_ac"
      }
    },
    {
      "cell_type": "code",
      "execution_count": 1,
      "metadata": {
        "id": "wyde65PCala3"
      },
      "outputs": [],
      "source": [
        "%%capture\n",
        "!pip install --upgrade xgboost\n",
        "!pip install --upgrade optuna"
      ]
    },
    {
      "cell_type": "code",
      "source": [
        "import os\n",
        "import gc\n",
        "import time\n",
        "import warnings\n",
        "import subprocess\n",
        "\n",
        "gc.enable()\n",
        "warnings.filterwarnings('ignore')\n",
        "\n",
        "import pandas as pd\n",
        "import numpy as np\n",
        "pd.set_option('display.max_columns', None)\n",
        "pd.set_option('display.precision', 4)\n",
        "np.set_printoptions(precision=4)\n",
        "\n",
        "import optuna\n",
        "from optuna.samplers import TPESampler\n",
        "from optuna.pruners import HyperbandPruner\n",
        "\n",
        "import xgboost\n",
        "from xgboost import XGBClassifier\n",
        "\n",
        "from sklearn.model_selection import StratifiedKFold\n",
        "from sklearn.metrics import f1_score\n",
        "\n",
        "SEED = 23\n",
        "os.environ['PYTHONHASHSEED'] = str(SEED)\n",
        "np.random.seed(SEED)"
      ],
      "metadata": {
        "id": "eKfBaXpBbBUQ"
      },
      "execution_count": 2,
      "outputs": []
    },
    {
      "cell_type": "code",
      "source": [
        "#remove cell to run future versions\n",
        "assert optuna.__version__ == '3.0.4', f'Change in Optuna version. Original notebook version: 3.0.4'\n",
        "assert xgboost.__version__ == '1.7.2', f'Change in XGBoost version. Original notebook version: 1.7.2'"
      ],
      "metadata": {
        "id": "QU6c1orQbm3A"
      },
      "execution_count": 3,
      "outputs": []
    },
    {
      "cell_type": "code",
      "source": [
        "#Check GPU availability\n",
        "try:\n",
        "    subprocess.check_output('nvidia-smi')\n",
        "    HAVE_GPU = True\n",
        "except Exception:\n",
        "    HAVE_GPU = False\n",
        "\n",
        "print(f'GPU available: {HAVE_GPU}')"
      ],
      "metadata": {
        "id": "NBzLRr5pbr7Z",
        "colab": {
          "base_uri": "https://localhost:8080/"
        },
        "outputId": "933eb5b8-41c0-42ee-c1ec-b99e646963a9"
      },
      "execution_count": 4,
      "outputs": [
        {
          "output_type": "stream",
          "name": "stdout",
          "text": [
            "GPU available: True\n"
          ]
        }
      ]
    },
    {
      "cell_type": "markdown",
      "source": [
        "# Data Preparation"
      ],
      "metadata": {
        "id": "0301sTdkjO8p"
      }
    },
    {
      "cell_type": "code",
      "source": [
        "#Data\n",
        "DATA_URL = 'https://raw.githubusercontent.com/stiwari-ds/data-science-competitions/main/others/devfolio_oracleofdelphi/data'\n",
        "train = pd.read_csv(f'{DATA_URL}/train.csv')\n",
        "test = pd.read_csv(f'{DATA_URL}/test.csv')"
      ],
      "metadata": {
        "id": "LOHMVhw1ZZS6"
      },
      "execution_count": 5,
      "outputs": []
    },
    {
      "cell_type": "code",
      "source": [
        "train = train.drop(['Unnamed: 0', 'Unnamed: 0.1'], axis=1)\n",
        "test = test.drop(['Unnamed: 0', 'Unnamed: 0.1'], axis=1)"
      ],
      "metadata": {
        "id": "9xpy8uQBjOKx"
      },
      "execution_count": 6,
      "outputs": []
    },
    {
      "cell_type": "code",
      "source": [
        "TARGET = 'Credit Score'\n",
        "label_mapping = {'Standard': 0, 'Good': 1, 'Best': 2}\n",
        "train[TARGET] = train[TARGET].replace(label_mapping)"
      ],
      "metadata": {
        "id": "KEJQopfVZppB"
      },
      "execution_count": 7,
      "outputs": []
    },
    {
      "cell_type": "markdown",
      "source": [
        "**Feature sets from EDA notebook.**"
      ],
      "metadata": {
        "id": "FsrqGiVijn2a"
      }
    },
    {
      "cell_type": "code",
      "source": [
        "all_features = list(test.columns)\n",
        "\n",
        "top_features = ['Utlization Ratio', 'Credit Inquiries']\n",
        "\n",
        "mi_features = top_features + ['Monthly_Inhand_Salary ', 'Interest Rate', \n",
        "              'Changed_Credit_Limit', 'Outstanding_Debt', 'Total_EMI_per_month']\n",
        "\n",
        "anova_features = top_features + ['Accounts of user', 'Credit cards user have', \n",
        "                 'Interest Rate', 'Num_of_Loan', 'Delay_from_due_date', \n",
        "                 'Num_of_Delayed_Payment', 'Outstanding_Debt']"
      ],
      "metadata": {
        "id": "3zTnF1bvZx-o"
      },
      "execution_count": 8,
      "outputs": []
    },
    {
      "cell_type": "markdown",
      "source": [
        "**Outlier removal**"
      ],
      "metadata": {
        "id": "6RQbiqBbjsNy"
      }
    },
    {
      "cell_type": "code",
      "source": [
        "train = train[train['Accounts of user'] <= 10]\n",
        "train = train[train['Credit cards user have'] <= 10]\n",
        "train = train[train['Interest Rate'] <= 35]\n",
        "train = train[(train['Num_of_Loan'] < 10) & (train['Num_of_Loan'] >= 0)]\n",
        "train = train[(train['Num_of_Delayed_Payment'] < 30) & (train['Num_of_Delayed_Payment'] >= 0)]\n",
        "train = train[train['Changed_Credit_Limit'] >= 0]\n",
        "train = train[train['Total_EMI_per_month'] < 1000]\n",
        "\n",
        "train = train.reset_index(drop=True)"
      ],
      "metadata": {
        "id": "BeVpddOTkC69"
      },
      "execution_count": 9,
      "outputs": []
    },
    {
      "cell_type": "markdown",
      "source": [
        "**Original train set for comparison during modeling**"
      ],
      "metadata": {
        "id": "qypZ1z6Hk5c2"
      }
    },
    {
      "cell_type": "code",
      "source": [
        "train_og = pd.read_csv(f'{DATA_URL}/train.csv')\n",
        "\n",
        "train_og = train_og.drop(['Unnamed: 0', 'Unnamed: 0.1'], axis=1)\n",
        "train_og[TARGET] = train_og[TARGET].replace(label_mapping)"
      ],
      "metadata": {
        "id": "WKHyaYCDkwPT"
      },
      "execution_count": 10,
      "outputs": []
    },
    {
      "cell_type": "markdown",
      "source": [
        "# Baseline"
      ],
      "metadata": {
        "id": "uur7dQEjf6CY"
      }
    },
    {
      "cell_type": "code",
      "source": [
        "def custom_f1(ytrue, ypred):\n",
        "    return -f1_score(ytrue, ypred, average='macro') #'-' to convert f1 to loss"
      ],
      "metadata": {
        "id": "fO6hCyI5lVTc"
      },
      "execution_count": 11,
      "outputs": []
    },
    {
      "cell_type": "code",
      "source": [
        "%%time\n",
        "scores = []\n",
        "cv = StratifiedKFold(n_splits=5, shuffle=True, random_state=SEED)\n",
        "X, y = train[all_features], train[TARGET]\n",
        "for fold, (train_idx, val_idx) in enumerate(cv.split(X, y)):\n",
        "    X_train, y_train = X.loc[train_idx], y.iloc[train_idx]\n",
        "    X_val, y_val = X.loc[val_idx], y.iloc[val_idx]\n",
        "\n",
        "    model = XGBClassifier(\n",
        "        objective='multi:softmax',\n",
        "        num_class=3,\n",
        "        tree_method='gpu_hist' if HAVE_GPU else 'hist',\n",
        "        enable_categorical=HAVE_GPU,\n",
        "        eval_metric=custom_f1,\n",
        "        early_stopping_rounds=100, \n",
        "        seed=SEED\n",
        "    ) \n",
        "    model.fit(\n",
        "        X_train, y_train,\n",
        "        eval_set=[(X_val, y_val)],\n",
        "        verbose=0\n",
        "    )\n",
        "    val_preds = model.predict(X_val)\n",
        "    score = f1_score(y_val, val_preds, average='macro')\n",
        "    scores.append(score)\n",
        "    print(f'Fold #{fold}: ({model.best_iteration} rounds) F1-macro = {score:.5f}')\n",
        "    _ = gc.collect()\n",
        "\n",
        "print(f'\\nAvg F1-macro = {np.mean(scores):.5f} +/- {np.std(scores):.5f}\\n')"
      ],
      "metadata": {
        "id": "OkFlWjOhf5Au",
        "colab": {
          "base_uri": "https://localhost:8080/"
        },
        "outputId": "5f7fd9f8-5496-467c-f895-a61f206e3371"
      },
      "execution_count": 12,
      "outputs": [
        {
          "output_type": "stream",
          "name": "stdout",
          "text": [
            "Fold #0: (38 rounds) F1-macro = 0.88808\n",
            "Fold #1: (76 rounds) F1-macro = 0.89528\n",
            "Fold #2: (55 rounds) F1-macro = 0.89224\n",
            "Fold #3: (27 rounds) F1-macro = 0.88820\n",
            "Fold #4: (19 rounds) F1-macro = 0.87709\n",
            "\n",
            "Avg F1-macro = 0.88818 +/- 0.00616\n",
            "\n",
            "CPU times: user 4.74 s, sys: 757 ms, total: 5.49 s\n",
            "Wall time: 5.33 s\n"
          ]
        }
      ]
    },
    {
      "cell_type": "markdown",
      "metadata": {
        "id": "oVZEqwhQ2oi2"
      },
      "source": [
        "# Hyperparameter tuning"
      ]
    },
    {
      "cell_type": "code",
      "execution_count": 13,
      "metadata": {
        "id": "i3VeEFRe2oBe"
      },
      "outputs": [],
      "source": [
        "def objective(trial, data, model):\n",
        "\n",
        "    scores = []\n",
        "    X, y = data\n",
        "\n",
        "    param_grid = {\n",
        "        'learning_rate': trial.suggest_float('learning_rate', 0.05, 0.2, step=0.025),\n",
        "        'max_depth': trial.suggest_int('max_depth', 3, 10),\n",
        "        'min_child_weight': trial.suggest_int('min_child_weight', 2, 15),\n",
        "        'gamma': trial.suggest_float('gamma', 0, 15, step=0.1), #complexity-control\n",
        "        'alpha': trial.suggest_float('alpha', 0, 5, step=0.05), #L1-reg\n",
        "        'lambda': trial.suggest_float('lambda', 1e-2, 1e3, log=True), #L2-reg\n",
        "        'subsample': trial.suggest_float('subsample', 0.65, 1.0, step=0.05),\n",
        "        'colsample_bytree': trial.suggest_float('colsample_bytree', 0.65, 1.0, step=0.05),\n",
        "        'colsample_bylevel': trial.suggest_float('colsample_bylevel', 0.65, 1.0, step=0.05),\n",
        "        'colsample_bynode': trial.suggest_float('colsample_bynode', 0.65, 1.0, step=0.05),\n",
        "    }\n",
        "\n",
        "    cv = StratifiedKFold(n_splits=5, shuffle=True, random_state=SEED)\n",
        "    for fold, (train_idx, val_idx) in enumerate(cv.split(X, y)):\n",
        "        X_train, y_train = X.loc[train_idx], y.iloc[train_idx]\n",
        "        X_val, y_val = X.loc[val_idx], y.iloc[val_idx]\n",
        "        \n",
        "        model.set_params(**param_grid)\n",
        "        model.fit(\n",
        "            X_train, y_train,\n",
        "            eval_set=[(X_val, y_val)],\n",
        "            verbose=0\n",
        "        )\n",
        "        val_preds = model.predict(X_val)\n",
        "        scores.append(f1_score(y_val, val_preds, average='macro'))\n",
        "\n",
        "    return np.mean(scores)"
      ]
    },
    {
      "cell_type": "code",
      "execution_count": 14,
      "metadata": {
        "id": "7JCjxMSuT3Ep"
      },
      "outputs": [],
      "source": [
        "def tune_params(data, model, n_trials, direction):\n",
        "    study = optuna.create_study(\n",
        "        sampler=TPESampler(\n",
        "            consider_endpoints=True,\n",
        "            multivariate=True,\n",
        "            group=True,\n",
        "            seed=SEED),\n",
        "        pruner=HyperbandPruner(),\n",
        "        direction=direction\n",
        "    )\n",
        "    study.optimize(\n",
        "        func=lambda trial: objective(trial, data, model),\n",
        "        n_trials=n_trials,\n",
        "        gc_after_trial=True\n",
        "    )\n",
        "    return study"
      ]
    },
    {
      "cell_type": "markdown",
      "source": [
        "# Cross-validation"
      ],
      "metadata": {
        "id": "_IdnAvEkjxqS"
      }
    },
    {
      "cell_type": "code",
      "source": [
        "def cross_val_predict(data, model, n_splits=5):\n",
        "    scores = {\n",
        "        'Fold': [str(i) for i in range(n_splits)],\n",
        "        'F1-micro': [],\n",
        "        'F1-macro': [],\n",
        "        'F1-weighted': []\n",
        "    }\n",
        "    test_preds = {}\n",
        "    \n",
        "    X, y, X_test = data\n",
        "\n",
        "    cv = StratifiedKFold(n_splits=n_splits, shuffle=True, random_state=SEED)\n",
        "    for fold, (train_idx, val_idx) in enumerate(cv.split(X, y)):\n",
        "        X_train, y_train = X.loc[train_idx], y.iloc[train_idx]\n",
        "        X_val, y_val = X.loc[val_idx], y.iloc[val_idx]\n",
        "\n",
        "        model.fit(\n",
        "            X_train, y_train,\n",
        "            eval_set=[(X_val, y_val)],\n",
        "            verbose=0\n",
        "        )\n",
        "        val_preds = model.predict(X_val)\n",
        "        test_preds[f'fold{fold}'] = model.predict(X_test)\n",
        "\n",
        "        f1micro = f1_score(y_val, val_preds, average='micro')\n",
        "        scores['F1-micro'].append(f1micro)\n",
        "        f1macro = f1_score(y_val, val_preds, average='macro')\n",
        "        scores['F1-macro'].append(f1macro)\n",
        "        f1weight = f1_score(y_val, val_preds, average='weighted')\n",
        "        scores['F1-weighted'].append(f1weight)\n",
        "        _ = gc.collect()\n",
        "\n",
        "    scores['Fold'].append('Avg.')\n",
        "    for metric in ['F1-micro', 'F1-macro', 'F1-weighted']:\n",
        "        mean_score = np.mean(scores[metric])\n",
        "        scores[metric].append(mean_score)\n",
        "    score_df = pd.DataFrame.from_dict(scores).set_index('Fold')\n",
        "    display(score_df)\n",
        "\n",
        "    test_preds = pd.DataFrame.from_dict(test_preds)\n",
        "    test_preds['mode'] = test_preds.mode(axis=1)[0].astype('int')\n",
        "    return test_preds"
      ],
      "metadata": {
        "id": "0UBSsqwvj0I2"
      },
      "execution_count": 16,
      "outputs": []
    },
    {
      "cell_type": "code",
      "source": [
        "def run_experiment(data, n_trials=10):\n",
        "    \n",
        "    X, y, X_test = data\n",
        "\n",
        "    base_params = {\n",
        "        'objective': 'multi:softmax',\n",
        "        'n_estimators': 10000,\n",
        "        'booster': 'gbtree',\n",
        "        'eval_metric': custom_f1,\n",
        "        'early_stopping_rounds': 100,\n",
        "        'tree_method': 'gpu_hist' if HAVE_GPU else 'hist',\n",
        "        'predictor': 'gpu_predictor' if HAVE_GPU else 'cpu_predictor',\n",
        "        'enable_categorical': HAVE_GPU,\n",
        "        'verbosity': 0,\n",
        "        'seed': SEED\n",
        "    }\n",
        "    \n",
        "    model = XGBClassifier(**base_params)\n",
        "    \n",
        "    print(f'----------Hyperparameter tuning----------')\n",
        "    start = time.time()\n",
        "    study = tune_params(\n",
        "        data=(X, y),\n",
        "        model=model,\n",
        "        n_trials=n_trials, \n",
        "        direction='maximize' #metric: f1_score -> higher is better\n",
        "    )\n",
        "    end = time.time()\n",
        "    print(f'Best trial: {study.best_trial.number} -> Best value: {study.best_value:.5f}')\n",
        "    print(f'Best hyperparameters:')\n",
        "    for k, v in study.best_params.items():\n",
        "        print(f'{k:15} - {v}')\n",
        "    print(f'[Time taken: {end - start:.2f}s]\\n')\n",
        "    \n",
        "    print(f'-----Cross-validation and prediction-----')\n",
        "    start = time.time()\n",
        "    model.set_params(**study.best_params)\n",
        "    test_preds = cross_val_predict(data, model)\n",
        "    end = time.time()\n",
        "    print(f'[Time taken: {end - start:.2f}s]\\n')\n",
        "\n",
        "    return test_preds"
      ],
      "metadata": {
        "id": "KkMeqc7EkKx-"
      },
      "execution_count": 17,
      "outputs": []
    },
    {
      "cell_type": "markdown",
      "source": [
        "**Trial run**"
      ],
      "metadata": {
        "id": "Ri22_Ef0kzB0"
      }
    },
    {
      "cell_type": "code",
      "source": [
        "optuna.logging.set_verbosity(optuna.logging.INFO)"
      ],
      "metadata": {
        "id": "1lWtr5SYk0yu"
      },
      "execution_count": 18,
      "outputs": []
    },
    {
      "cell_type": "code",
      "source": [
        "%%time\n",
        "tp_trial1 = run_experiment(\n",
        "    data=(train[all_features], train[TARGET], test[all_features]),\n",
        "    n_trials=3\n",
        ")"
      ],
      "metadata": {
        "id": "QAPuSH6Jk4o8",
        "colab": {
          "base_uri": "https://localhost:8080/",
          "height": 706
        },
        "outputId": "5125b6e0-baed-4974-859e-5bfee99adcce"
      },
      "execution_count": 19,
      "outputs": [
        {
          "output_type": "stream",
          "name": "stderr",
          "text": [
            "\u001b[32m[I 2022-12-11 06:38:11,138]\u001b[0m A new study created in memory with name: no-name-7827de44-2930-4c54-b3aa-8e4a8d0c1334\u001b[0m\n"
          ]
        },
        {
          "output_type": "stream",
          "name": "stdout",
          "text": [
            "----------Hyperparameter tuning----------\n"
          ]
        },
        {
          "output_type": "stream",
          "name": "stderr",
          "text": [
            "\u001b[32m[I 2022-12-11 06:38:16,659]\u001b[0m Trial 0 finished with value: 0.8884841584384198 and parameters: {'learning_rate': 0.125, 'max_depth': 10, 'min_child_weight': 12, 'gamma': 4.2, 'alpha': 1.1, 'lambda': 26.98425462244015, 'subsample': 0.7000000000000001, 'colsample_bytree': 0.8, 'colsample_bylevel': 0.8500000000000001, 'colsample_bynode': 0.8}. Best is trial 0 with value: 0.8884841584384198.\u001b[0m\n",
            "\u001b[32m[I 2022-12-11 06:38:23,074]\u001b[0m Trial 1 finished with value: 0.8862566684884934 and parameters: {'learning_rate': 0.05, 'max_depth': 10, 'min_child_weight': 14, 'gamma': 4.5, 'alpha': 2.95, 'lambda': 780.0718033403551, 'subsample': 0.9500000000000001, 'colsample_bytree': 0.65, 'colsample_bylevel': 0.75, 'colsample_bynode': 0.75}. Best is trial 0 with value: 0.8884841584384198.\u001b[0m\n",
            "\u001b[32m[I 2022-12-11 06:38:35,206]\u001b[0m Trial 2 finished with value: 0.8949940568440276 and parameters: {'learning_rate': 0.175, 'max_depth': 8, 'min_child_weight': 3, 'gamma': 0.0, 'alpha': 4.75, 'lambda': 0.050992204592857734, 'subsample': 0.8, 'colsample_bytree': 0.75, 'colsample_bylevel': 0.9500000000000001, 'colsample_bynode': 0.8}. Best is trial 2 with value: 0.8949940568440276.\u001b[0m\n"
          ]
        },
        {
          "output_type": "stream",
          "name": "stdout",
          "text": [
            "Best trial: 2 -> Best value: 0.89499\n",
            "Best hyperparameters:\n",
            "learning_rate   - 0.175\n",
            "max_depth       - 8\n",
            "min_child_weight - 3\n",
            "gamma           - 0.0\n",
            "alpha           - 4.75\n",
            "lambda          - 0.050992204592857734\n",
            "subsample       - 0.8\n",
            "colsample_bytree - 0.75\n",
            "colsample_bylevel - 0.9500000000000001\n",
            "colsample_bynode - 0.8\n",
            "[Time taken: 24.14s]\n",
            "\n",
            "-----Cross-validation and prediction-----\n"
          ]
        },
        {
          "output_type": "display_data",
          "data": {
            "text/plain": [
              "      F1-micro  F1-macro  F1-weighted\n",
              "Fold                                 \n",
              "0       0.9264    0.8985       0.9259\n",
              "1       0.9196    0.9030       0.9191\n",
              "2       0.9234    0.9030       0.9225\n",
              "3       0.9117    0.8906       0.9117\n",
              "4       0.9137    0.8836       0.9127\n",
              "Avg.    0.9190    0.8958       0.9184"
            ],
            "text/html": [
              "\n",
              "  <div id=\"df-b28efecc-340b-47c0-87c6-ac5671ca4433\">\n",
              "    <div class=\"colab-df-container\">\n",
              "      <div>\n",
              "<style scoped>\n",
              "    .dataframe tbody tr th:only-of-type {\n",
              "        vertical-align: middle;\n",
              "    }\n",
              "\n",
              "    .dataframe tbody tr th {\n",
              "        vertical-align: top;\n",
              "    }\n",
              "\n",
              "    .dataframe thead th {\n",
              "        text-align: right;\n",
              "    }\n",
              "</style>\n",
              "<table border=\"1\" class=\"dataframe\">\n",
              "  <thead>\n",
              "    <tr style=\"text-align: right;\">\n",
              "      <th></th>\n",
              "      <th>F1-micro</th>\n",
              "      <th>F1-macro</th>\n",
              "      <th>F1-weighted</th>\n",
              "    </tr>\n",
              "    <tr>\n",
              "      <th>Fold</th>\n",
              "      <th></th>\n",
              "      <th></th>\n",
              "      <th></th>\n",
              "    </tr>\n",
              "  </thead>\n",
              "  <tbody>\n",
              "    <tr>\n",
              "      <th>0</th>\n",
              "      <td>0.9264</td>\n",
              "      <td>0.8985</td>\n",
              "      <td>0.9259</td>\n",
              "    </tr>\n",
              "    <tr>\n",
              "      <th>1</th>\n",
              "      <td>0.9196</td>\n",
              "      <td>0.9030</td>\n",
              "      <td>0.9191</td>\n",
              "    </tr>\n",
              "    <tr>\n",
              "      <th>2</th>\n",
              "      <td>0.9234</td>\n",
              "      <td>0.9030</td>\n",
              "      <td>0.9225</td>\n",
              "    </tr>\n",
              "    <tr>\n",
              "      <th>3</th>\n",
              "      <td>0.9117</td>\n",
              "      <td>0.8906</td>\n",
              "      <td>0.9117</td>\n",
              "    </tr>\n",
              "    <tr>\n",
              "      <th>4</th>\n",
              "      <td>0.9137</td>\n",
              "      <td>0.8836</td>\n",
              "      <td>0.9127</td>\n",
              "    </tr>\n",
              "    <tr>\n",
              "      <th>Avg.</th>\n",
              "      <td>0.9190</td>\n",
              "      <td>0.8958</td>\n",
              "      <td>0.9184</td>\n",
              "    </tr>\n",
              "  </tbody>\n",
              "</table>\n",
              "</div>\n",
              "      <button class=\"colab-df-convert\" onclick=\"convertToInteractive('df-b28efecc-340b-47c0-87c6-ac5671ca4433')\"\n",
              "              title=\"Convert this dataframe to an interactive table.\"\n",
              "              style=\"display:none;\">\n",
              "        \n",
              "  <svg xmlns=\"http://www.w3.org/2000/svg\" height=\"24px\"viewBox=\"0 0 24 24\"\n",
              "       width=\"24px\">\n",
              "    <path d=\"M0 0h24v24H0V0z\" fill=\"none\"/>\n",
              "    <path d=\"M18.56 5.44l.94 2.06.94-2.06 2.06-.94-2.06-.94-.94-2.06-.94 2.06-2.06.94zm-11 1L8.5 8.5l.94-2.06 2.06-.94-2.06-.94L8.5 2.5l-.94 2.06-2.06.94zm10 10l.94 2.06.94-2.06 2.06-.94-2.06-.94-.94-2.06-.94 2.06-2.06.94z\"/><path d=\"M17.41 7.96l-1.37-1.37c-.4-.4-.92-.59-1.43-.59-.52 0-1.04.2-1.43.59L10.3 9.45l-7.72 7.72c-.78.78-.78 2.05 0 2.83L4 21.41c.39.39.9.59 1.41.59.51 0 1.02-.2 1.41-.59l7.78-7.78 2.81-2.81c.8-.78.8-2.07 0-2.86zM5.41 20L4 18.59l7.72-7.72 1.47 1.35L5.41 20z\"/>\n",
              "  </svg>\n",
              "      </button>\n",
              "      \n",
              "  <style>\n",
              "    .colab-df-container {\n",
              "      display:flex;\n",
              "      flex-wrap:wrap;\n",
              "      gap: 12px;\n",
              "    }\n",
              "\n",
              "    .colab-df-convert {\n",
              "      background-color: #E8F0FE;\n",
              "      border: none;\n",
              "      border-radius: 50%;\n",
              "      cursor: pointer;\n",
              "      display: none;\n",
              "      fill: #1967D2;\n",
              "      height: 32px;\n",
              "      padding: 0 0 0 0;\n",
              "      width: 32px;\n",
              "    }\n",
              "\n",
              "    .colab-df-convert:hover {\n",
              "      background-color: #E2EBFA;\n",
              "      box-shadow: 0px 1px 2px rgba(60, 64, 67, 0.3), 0px 1px 3px 1px rgba(60, 64, 67, 0.15);\n",
              "      fill: #174EA6;\n",
              "    }\n",
              "\n",
              "    [theme=dark] .colab-df-convert {\n",
              "      background-color: #3B4455;\n",
              "      fill: #D2E3FC;\n",
              "    }\n",
              "\n",
              "    [theme=dark] .colab-df-convert:hover {\n",
              "      background-color: #434B5C;\n",
              "      box-shadow: 0px 1px 3px 1px rgba(0, 0, 0, 0.15);\n",
              "      filter: drop-shadow(0px 1px 2px rgba(0, 0, 0, 0.3));\n",
              "      fill: #FFFFFF;\n",
              "    }\n",
              "  </style>\n",
              "\n",
              "      <script>\n",
              "        const buttonEl =\n",
              "          document.querySelector('#df-b28efecc-340b-47c0-87c6-ac5671ca4433 button.colab-df-convert');\n",
              "        buttonEl.style.display =\n",
              "          google.colab.kernel.accessAllowed ? 'block' : 'none';\n",
              "\n",
              "        async function convertToInteractive(key) {\n",
              "          const element = document.querySelector('#df-b28efecc-340b-47c0-87c6-ac5671ca4433');\n",
              "          const dataTable =\n",
              "            await google.colab.kernel.invokeFunction('convertToInteractive',\n",
              "                                                     [key], {});\n",
              "          if (!dataTable) return;\n",
              "\n",
              "          const docLinkHtml = 'Like what you see? Visit the ' +\n",
              "            '<a target=\"_blank\" href=https://colab.research.google.com/notebooks/data_table.ipynb>data table notebook</a>'\n",
              "            + ' to learn more about interactive tables.';\n",
              "          element.innerHTML = '';\n",
              "          dataTable['output_type'] = 'display_data';\n",
              "          await google.colab.output.renderOutput(dataTable, element);\n",
              "          const docLink = document.createElement('div');\n",
              "          docLink.innerHTML = docLinkHtml;\n",
              "          element.appendChild(docLink);\n",
              "        }\n",
              "      </script>\n",
              "    </div>\n",
              "  </div>\n",
              "  "
            ]
          },
          "metadata": {}
        },
        {
          "output_type": "stream",
          "name": "stdout",
          "text": [
            "[Time taken: 11.27s]\n",
            "\n",
            "CPU times: user 36.4 s, sys: 275 ms, total: 36.7 s\n",
            "Wall time: 35.4 s\n"
          ]
        }
      ]
    },
    {
      "cell_type": "code",
      "source": [
        "%%time\n",
        "tp_trial2 = run_experiment(\n",
        "    data=(train_og[all_features], train_og[TARGET], test[all_features]),\n",
        "    n_trials=3\n",
        ")"
      ],
      "metadata": {
        "id": "jnfQh0qCnmds",
        "colab": {
          "base_uri": "https://localhost:8080/",
          "height": 706
        },
        "outputId": "0ce4e1e2-8329-4062-dbfa-5731a00a8805"
      },
      "execution_count": 20,
      "outputs": [
        {
          "output_type": "stream",
          "name": "stderr",
          "text": [
            "\u001b[32m[I 2022-12-11 06:38:46,563]\u001b[0m A new study created in memory with name: no-name-ca792142-902e-4fb8-9611-4642dc6a5a23\u001b[0m\n"
          ]
        },
        {
          "output_type": "stream",
          "name": "stdout",
          "text": [
            "----------Hyperparameter tuning----------\n"
          ]
        },
        {
          "output_type": "stream",
          "name": "stderr",
          "text": [
            "\u001b[32m[I 2022-12-11 06:38:50,958]\u001b[0m Trial 0 finished with value: 0.886315661100889 and parameters: {'learning_rate': 0.125, 'max_depth': 10, 'min_child_weight': 12, 'gamma': 4.2, 'alpha': 1.1, 'lambda': 26.98425462244015, 'subsample': 0.7000000000000001, 'colsample_bytree': 0.8, 'colsample_bylevel': 0.8500000000000001, 'colsample_bynode': 0.8}. Best is trial 0 with value: 0.886315661100889.\u001b[0m\n",
            "\u001b[32m[I 2022-12-11 06:38:57,101]\u001b[0m Trial 1 finished with value: 0.8855733163269072 and parameters: {'learning_rate': 0.05, 'max_depth': 10, 'min_child_weight': 14, 'gamma': 4.5, 'alpha': 2.95, 'lambda': 780.0718033403551, 'subsample': 0.9500000000000001, 'colsample_bytree': 0.65, 'colsample_bylevel': 0.75, 'colsample_bynode': 0.75}. Best is trial 0 with value: 0.886315661100889.\u001b[0m\n",
            "\u001b[32m[I 2022-12-11 06:39:07,593]\u001b[0m Trial 2 finished with value: 0.8955790062117716 and parameters: {'learning_rate': 0.175, 'max_depth': 8, 'min_child_weight': 3, 'gamma': 0.0, 'alpha': 4.75, 'lambda': 0.050992204592857734, 'subsample': 0.8, 'colsample_bytree': 0.75, 'colsample_bylevel': 0.9500000000000001, 'colsample_bynode': 0.8}. Best is trial 2 with value: 0.8955790062117716.\u001b[0m\n"
          ]
        },
        {
          "output_type": "stream",
          "name": "stdout",
          "text": [
            "Best trial: 2 -> Best value: 0.89558\n",
            "Best hyperparameters:\n",
            "learning_rate   - 0.175\n",
            "max_depth       - 8\n",
            "min_child_weight - 3\n",
            "gamma           - 0.0\n",
            "alpha           - 4.75\n",
            "lambda          - 0.050992204592857734\n",
            "subsample       - 0.8\n",
            "colsample_bytree - 0.75\n",
            "colsample_bylevel - 0.9500000000000001\n",
            "colsample_bynode - 0.8\n",
            "[Time taken: 21.10s]\n",
            "\n",
            "-----Cross-validation and prediction-----\n"
          ]
        },
        {
          "output_type": "display_data",
          "data": {
            "text/plain": [
              "      F1-micro  F1-macro  F1-weighted\n",
              "Fold                                 \n",
              "0       0.9196    0.8963       0.9197\n",
              "1       0.9130    0.8883       0.9127\n",
              "2       0.9253    0.9031       0.9245\n",
              "3       0.9114    0.8822       0.9102\n",
              "4       0.9228    0.9023       0.9227\n",
              "Avg.    0.9184    0.8944       0.9180"
            ],
            "text/html": [
              "\n",
              "  <div id=\"df-8b135810-a45c-43df-a696-aeef7489c794\">\n",
              "    <div class=\"colab-df-container\">\n",
              "      <div>\n",
              "<style scoped>\n",
              "    .dataframe tbody tr th:only-of-type {\n",
              "        vertical-align: middle;\n",
              "    }\n",
              "\n",
              "    .dataframe tbody tr th {\n",
              "        vertical-align: top;\n",
              "    }\n",
              "\n",
              "    .dataframe thead th {\n",
              "        text-align: right;\n",
              "    }\n",
              "</style>\n",
              "<table border=\"1\" class=\"dataframe\">\n",
              "  <thead>\n",
              "    <tr style=\"text-align: right;\">\n",
              "      <th></th>\n",
              "      <th>F1-micro</th>\n",
              "      <th>F1-macro</th>\n",
              "      <th>F1-weighted</th>\n",
              "    </tr>\n",
              "    <tr>\n",
              "      <th>Fold</th>\n",
              "      <th></th>\n",
              "      <th></th>\n",
              "      <th></th>\n",
              "    </tr>\n",
              "  </thead>\n",
              "  <tbody>\n",
              "    <tr>\n",
              "      <th>0</th>\n",
              "      <td>0.9196</td>\n",
              "      <td>0.8963</td>\n",
              "      <td>0.9197</td>\n",
              "    </tr>\n",
              "    <tr>\n",
              "      <th>1</th>\n",
              "      <td>0.9130</td>\n",
              "      <td>0.8883</td>\n",
              "      <td>0.9127</td>\n",
              "    </tr>\n",
              "    <tr>\n",
              "      <th>2</th>\n",
              "      <td>0.9253</td>\n",
              "      <td>0.9031</td>\n",
              "      <td>0.9245</td>\n",
              "    </tr>\n",
              "    <tr>\n",
              "      <th>3</th>\n",
              "      <td>0.9114</td>\n",
              "      <td>0.8822</td>\n",
              "      <td>0.9102</td>\n",
              "    </tr>\n",
              "    <tr>\n",
              "      <th>4</th>\n",
              "      <td>0.9228</td>\n",
              "      <td>0.9023</td>\n",
              "      <td>0.9227</td>\n",
              "    </tr>\n",
              "    <tr>\n",
              "      <th>Avg.</th>\n",
              "      <td>0.9184</td>\n",
              "      <td>0.8944</td>\n",
              "      <td>0.9180</td>\n",
              "    </tr>\n",
              "  </tbody>\n",
              "</table>\n",
              "</div>\n",
              "      <button class=\"colab-df-convert\" onclick=\"convertToInteractive('df-8b135810-a45c-43df-a696-aeef7489c794')\"\n",
              "              title=\"Convert this dataframe to an interactive table.\"\n",
              "              style=\"display:none;\">\n",
              "        \n",
              "  <svg xmlns=\"http://www.w3.org/2000/svg\" height=\"24px\"viewBox=\"0 0 24 24\"\n",
              "       width=\"24px\">\n",
              "    <path d=\"M0 0h24v24H0V0z\" fill=\"none\"/>\n",
              "    <path d=\"M18.56 5.44l.94 2.06.94-2.06 2.06-.94-2.06-.94-.94-2.06-.94 2.06-2.06.94zm-11 1L8.5 8.5l.94-2.06 2.06-.94-2.06-.94L8.5 2.5l-.94 2.06-2.06.94zm10 10l.94 2.06.94-2.06 2.06-.94-2.06-.94-.94-2.06-.94 2.06-2.06.94z\"/><path d=\"M17.41 7.96l-1.37-1.37c-.4-.4-.92-.59-1.43-.59-.52 0-1.04.2-1.43.59L10.3 9.45l-7.72 7.72c-.78.78-.78 2.05 0 2.83L4 21.41c.39.39.9.59 1.41.59.51 0 1.02-.2 1.41-.59l7.78-7.78 2.81-2.81c.8-.78.8-2.07 0-2.86zM5.41 20L4 18.59l7.72-7.72 1.47 1.35L5.41 20z\"/>\n",
              "  </svg>\n",
              "      </button>\n",
              "      \n",
              "  <style>\n",
              "    .colab-df-container {\n",
              "      display:flex;\n",
              "      flex-wrap:wrap;\n",
              "      gap: 12px;\n",
              "    }\n",
              "\n",
              "    .colab-df-convert {\n",
              "      background-color: #E8F0FE;\n",
              "      border: none;\n",
              "      border-radius: 50%;\n",
              "      cursor: pointer;\n",
              "      display: none;\n",
              "      fill: #1967D2;\n",
              "      height: 32px;\n",
              "      padding: 0 0 0 0;\n",
              "      width: 32px;\n",
              "    }\n",
              "\n",
              "    .colab-df-convert:hover {\n",
              "      background-color: #E2EBFA;\n",
              "      box-shadow: 0px 1px 2px rgba(60, 64, 67, 0.3), 0px 1px 3px 1px rgba(60, 64, 67, 0.15);\n",
              "      fill: #174EA6;\n",
              "    }\n",
              "\n",
              "    [theme=dark] .colab-df-convert {\n",
              "      background-color: #3B4455;\n",
              "      fill: #D2E3FC;\n",
              "    }\n",
              "\n",
              "    [theme=dark] .colab-df-convert:hover {\n",
              "      background-color: #434B5C;\n",
              "      box-shadow: 0px 1px 3px 1px rgba(0, 0, 0, 0.15);\n",
              "      filter: drop-shadow(0px 1px 2px rgba(0, 0, 0, 0.3));\n",
              "      fill: #FFFFFF;\n",
              "    }\n",
              "  </style>\n",
              "\n",
              "      <script>\n",
              "        const buttonEl =\n",
              "          document.querySelector('#df-8b135810-a45c-43df-a696-aeef7489c794 button.colab-df-convert');\n",
              "        buttonEl.style.display =\n",
              "          google.colab.kernel.accessAllowed ? 'block' : 'none';\n",
              "\n",
              "        async function convertToInteractive(key) {\n",
              "          const element = document.querySelector('#df-8b135810-a45c-43df-a696-aeef7489c794');\n",
              "          const dataTable =\n",
              "            await google.colab.kernel.invokeFunction('convertToInteractive',\n",
              "                                                     [key], {});\n",
              "          if (!dataTable) return;\n",
              "\n",
              "          const docLinkHtml = 'Like what you see? Visit the ' +\n",
              "            '<a target=\"_blank\" href=https://colab.research.google.com/notebooks/data_table.ipynb>data table notebook</a>'\n",
              "            + ' to learn more about interactive tables.';\n",
              "          element.innerHTML = '';\n",
              "          dataTable['output_type'] = 'display_data';\n",
              "          await google.colab.output.renderOutput(dataTable, element);\n",
              "          const docLink = document.createElement('div');\n",
              "          docLink.innerHTML = docLinkHtml;\n",
              "          element.appendChild(docLink);\n",
              "        }\n",
              "      </script>\n",
              "    </div>\n",
              "  </div>\n",
              "  "
            ]
          },
          "metadata": {}
        },
        {
          "output_type": "stream",
          "name": "stdout",
          "text": [
            "[Time taken: 10.99s]\n",
            "\n",
            "CPU times: user 32.8 s, sys: 244 ms, total: 33.1 s\n",
            "Wall time: 32.1 s\n"
          ]
        }
      ]
    },
    {
      "cell_type": "code",
      "source": [
        "optuna.logging.set_verbosity(optuna.logging.ERROR)"
      ],
      "metadata": {
        "id": "j6CPkw2AwBfu"
      },
      "execution_count": 21,
      "outputs": []
    },
    {
      "cell_type": "markdown",
      "source": [
        "# Exp 1 - clipped data + all features"
      ],
      "metadata": {
        "id": "XEosvKAmzvvr"
      }
    },
    {
      "cell_type": "code",
      "source": [
        "%%time\n",
        "tp_clip_all = run_experiment(\n",
        "    data=(train[all_features], train[TARGET], test[all_features]),\n",
        "    n_trials=100\n",
        ")"
      ],
      "metadata": {
        "id": "HSTivemPzzNo",
        "colab": {
          "base_uri": "https://localhost:8080/",
          "height": 616
        },
        "outputId": "67bfd732-fc85-49b1-d605-dc6a0c10c4f0"
      },
      "execution_count": 22,
      "outputs": [
        {
          "output_type": "stream",
          "name": "stdout",
          "text": [
            "----------Hyperparameter tuning----------\n",
            "Best trial: 93 -> Best value: 0.89633\n",
            "Best hyperparameters:\n",
            "learning_rate   - 0.2\n",
            "max_depth       - 10\n",
            "min_child_weight - 4\n",
            "gamma           - 0.30000000000000004\n",
            "alpha           - 4.4\n",
            "lambda          - 3.456216164946881\n",
            "subsample       - 0.8\n",
            "colsample_bytree - 0.8\n",
            "colsample_bylevel - 0.8\n",
            "colsample_bynode - 0.65\n",
            "[Time taken: 528.17s]\n",
            "\n",
            "-----Cross-validation and prediction-----\n"
          ]
        },
        {
          "output_type": "display_data",
          "data": {
            "text/plain": [
              "      F1-micro  F1-macro  F1-weighted\n",
              "Fold                                 \n",
              "0       0.9302    0.9021       0.9297\n",
              "1       0.9186    0.8981       0.9178\n",
              "2       0.9215    0.9006       0.9207\n",
              "3       0.9108    0.8877       0.9103\n",
              "4       0.9156    0.8873       0.9149\n",
              "Avg.    0.9193    0.8952       0.9187"
            ],
            "text/html": [
              "\n",
              "  <div id=\"df-18d07374-6d39-47a5-98aa-4bc495977e81\">\n",
              "    <div class=\"colab-df-container\">\n",
              "      <div>\n",
              "<style scoped>\n",
              "    .dataframe tbody tr th:only-of-type {\n",
              "        vertical-align: middle;\n",
              "    }\n",
              "\n",
              "    .dataframe tbody tr th {\n",
              "        vertical-align: top;\n",
              "    }\n",
              "\n",
              "    .dataframe thead th {\n",
              "        text-align: right;\n",
              "    }\n",
              "</style>\n",
              "<table border=\"1\" class=\"dataframe\">\n",
              "  <thead>\n",
              "    <tr style=\"text-align: right;\">\n",
              "      <th></th>\n",
              "      <th>F1-micro</th>\n",
              "      <th>F1-macro</th>\n",
              "      <th>F1-weighted</th>\n",
              "    </tr>\n",
              "    <tr>\n",
              "      <th>Fold</th>\n",
              "      <th></th>\n",
              "      <th></th>\n",
              "      <th></th>\n",
              "    </tr>\n",
              "  </thead>\n",
              "  <tbody>\n",
              "    <tr>\n",
              "      <th>0</th>\n",
              "      <td>0.9302</td>\n",
              "      <td>0.9021</td>\n",
              "      <td>0.9297</td>\n",
              "    </tr>\n",
              "    <tr>\n",
              "      <th>1</th>\n",
              "      <td>0.9186</td>\n",
              "      <td>0.8981</td>\n",
              "      <td>0.9178</td>\n",
              "    </tr>\n",
              "    <tr>\n",
              "      <th>2</th>\n",
              "      <td>0.9215</td>\n",
              "      <td>0.9006</td>\n",
              "      <td>0.9207</td>\n",
              "    </tr>\n",
              "    <tr>\n",
              "      <th>3</th>\n",
              "      <td>0.9108</td>\n",
              "      <td>0.8877</td>\n",
              "      <td>0.9103</td>\n",
              "    </tr>\n",
              "    <tr>\n",
              "      <th>4</th>\n",
              "      <td>0.9156</td>\n",
              "      <td>0.8873</td>\n",
              "      <td>0.9149</td>\n",
              "    </tr>\n",
              "    <tr>\n",
              "      <th>Avg.</th>\n",
              "      <td>0.9193</td>\n",
              "      <td>0.8952</td>\n",
              "      <td>0.9187</td>\n",
              "    </tr>\n",
              "  </tbody>\n",
              "</table>\n",
              "</div>\n",
              "      <button class=\"colab-df-convert\" onclick=\"convertToInteractive('df-18d07374-6d39-47a5-98aa-4bc495977e81')\"\n",
              "              title=\"Convert this dataframe to an interactive table.\"\n",
              "              style=\"display:none;\">\n",
              "        \n",
              "  <svg xmlns=\"http://www.w3.org/2000/svg\" height=\"24px\"viewBox=\"0 0 24 24\"\n",
              "       width=\"24px\">\n",
              "    <path d=\"M0 0h24v24H0V0z\" fill=\"none\"/>\n",
              "    <path d=\"M18.56 5.44l.94 2.06.94-2.06 2.06-.94-2.06-.94-.94-2.06-.94 2.06-2.06.94zm-11 1L8.5 8.5l.94-2.06 2.06-.94-2.06-.94L8.5 2.5l-.94 2.06-2.06.94zm10 10l.94 2.06.94-2.06 2.06-.94-2.06-.94-.94-2.06-.94 2.06-2.06.94z\"/><path d=\"M17.41 7.96l-1.37-1.37c-.4-.4-.92-.59-1.43-.59-.52 0-1.04.2-1.43.59L10.3 9.45l-7.72 7.72c-.78.78-.78 2.05 0 2.83L4 21.41c.39.39.9.59 1.41.59.51 0 1.02-.2 1.41-.59l7.78-7.78 2.81-2.81c.8-.78.8-2.07 0-2.86zM5.41 20L4 18.59l7.72-7.72 1.47 1.35L5.41 20z\"/>\n",
              "  </svg>\n",
              "      </button>\n",
              "      \n",
              "  <style>\n",
              "    .colab-df-container {\n",
              "      display:flex;\n",
              "      flex-wrap:wrap;\n",
              "      gap: 12px;\n",
              "    }\n",
              "\n",
              "    .colab-df-convert {\n",
              "      background-color: #E8F0FE;\n",
              "      border: none;\n",
              "      border-radius: 50%;\n",
              "      cursor: pointer;\n",
              "      display: none;\n",
              "      fill: #1967D2;\n",
              "      height: 32px;\n",
              "      padding: 0 0 0 0;\n",
              "      width: 32px;\n",
              "    }\n",
              "\n",
              "    .colab-df-convert:hover {\n",
              "      background-color: #E2EBFA;\n",
              "      box-shadow: 0px 1px 2px rgba(60, 64, 67, 0.3), 0px 1px 3px 1px rgba(60, 64, 67, 0.15);\n",
              "      fill: #174EA6;\n",
              "    }\n",
              "\n",
              "    [theme=dark] .colab-df-convert {\n",
              "      background-color: #3B4455;\n",
              "      fill: #D2E3FC;\n",
              "    }\n",
              "\n",
              "    [theme=dark] .colab-df-convert:hover {\n",
              "      background-color: #434B5C;\n",
              "      box-shadow: 0px 1px 3px 1px rgba(0, 0, 0, 0.15);\n",
              "      filter: drop-shadow(0px 1px 2px rgba(0, 0, 0, 0.3));\n",
              "      fill: #FFFFFF;\n",
              "    }\n",
              "  </style>\n",
              "\n",
              "      <script>\n",
              "        const buttonEl =\n",
              "          document.querySelector('#df-18d07374-6d39-47a5-98aa-4bc495977e81 button.colab-df-convert');\n",
              "        buttonEl.style.display =\n",
              "          google.colab.kernel.accessAllowed ? 'block' : 'none';\n",
              "\n",
              "        async function convertToInteractive(key) {\n",
              "          const element = document.querySelector('#df-18d07374-6d39-47a5-98aa-4bc495977e81');\n",
              "          const dataTable =\n",
              "            await google.colab.kernel.invokeFunction('convertToInteractive',\n",
              "                                                     [key], {});\n",
              "          if (!dataTable) return;\n",
              "\n",
              "          const docLinkHtml = 'Like what you see? Visit the ' +\n",
              "            '<a target=\"_blank\" href=https://colab.research.google.com/notebooks/data_table.ipynb>data table notebook</a>'\n",
              "            + ' to learn more about interactive tables.';\n",
              "          element.innerHTML = '';\n",
              "          dataTable['output_type'] = 'display_data';\n",
              "          await google.colab.output.renderOutput(dataTable, element);\n",
              "          const docLink = document.createElement('div');\n",
              "          docLink.innerHTML = docLinkHtml;\n",
              "          element.appendChild(docLink);\n",
              "        }\n",
              "      </script>\n",
              "    </div>\n",
              "  </div>\n",
              "  "
            ]
          },
          "metadata": {}
        },
        {
          "output_type": "stream",
          "name": "stdout",
          "text": [
            "[Time taken: 6.52s]\n",
            "\n",
            "CPU times: user 9min 22s, sys: 5.31 s, total: 9min 27s\n",
            "Wall time: 8min 54s\n"
          ]
        }
      ]
    },
    {
      "cell_type": "markdown",
      "source": [
        "# Exp 2 - original data + all features"
      ],
      "metadata": {
        "id": "A3PbmLOsz5eN"
      }
    },
    {
      "cell_type": "code",
      "source": [
        "%%time\n",
        "tp_og_all = run_experiment(\n",
        "    data=(train_og[all_features], train_og[TARGET], test[all_features]),\n",
        "    n_trials=100\n",
        ")"
      ],
      "metadata": {
        "id": "ZkMLAYWpz9i6",
        "colab": {
          "base_uri": "https://localhost:8080/",
          "height": 616
        },
        "outputId": "844bc0fa-21e3-4d5a-df9b-48a5a66f1ebf"
      },
      "execution_count": 23,
      "outputs": [
        {
          "output_type": "stream",
          "name": "stdout",
          "text": [
            "----------Hyperparameter tuning----------\n",
            "Best trial: 99 -> Best value: 0.89740\n",
            "Best hyperparameters:\n",
            "learning_rate   - 0.2\n",
            "max_depth       - 5\n",
            "min_child_weight - 11\n",
            "gamma           - 0.30000000000000004\n",
            "alpha           - 3.75\n",
            "lambda          - 0.08558307549697705\n",
            "subsample       - 0.75\n",
            "colsample_bytree - 0.65\n",
            "colsample_bylevel - 0.9\n",
            "colsample_bynode - 0.65\n",
            "[Time taken: 483.65s]\n",
            "\n",
            "-----Cross-validation and prediction-----\n"
          ]
        },
        {
          "output_type": "display_data",
          "data": {
            "text/plain": [
              "      F1-micro  F1-macro  F1-weighted\n",
              "Fold                                 \n",
              "0       0.9204    0.8981       0.9207\n",
              "1       0.9155    0.8896       0.9147\n",
              "2       0.9253    0.9024       0.9247\n",
              "3       0.9163    0.8883       0.9153\n",
              "4       0.9261    0.9025       0.9256\n",
              "Avg.    0.9207    0.8962       0.9202"
            ],
            "text/html": [
              "\n",
              "  <div id=\"df-98980177-c08c-41bc-b0a6-66e3cbf64710\">\n",
              "    <div class=\"colab-df-container\">\n",
              "      <div>\n",
              "<style scoped>\n",
              "    .dataframe tbody tr th:only-of-type {\n",
              "        vertical-align: middle;\n",
              "    }\n",
              "\n",
              "    .dataframe tbody tr th {\n",
              "        vertical-align: top;\n",
              "    }\n",
              "\n",
              "    .dataframe thead th {\n",
              "        text-align: right;\n",
              "    }\n",
              "</style>\n",
              "<table border=\"1\" class=\"dataframe\">\n",
              "  <thead>\n",
              "    <tr style=\"text-align: right;\">\n",
              "      <th></th>\n",
              "      <th>F1-micro</th>\n",
              "      <th>F1-macro</th>\n",
              "      <th>F1-weighted</th>\n",
              "    </tr>\n",
              "    <tr>\n",
              "      <th>Fold</th>\n",
              "      <th></th>\n",
              "      <th></th>\n",
              "      <th></th>\n",
              "    </tr>\n",
              "  </thead>\n",
              "  <tbody>\n",
              "    <tr>\n",
              "      <th>0</th>\n",
              "      <td>0.9204</td>\n",
              "      <td>0.8981</td>\n",
              "      <td>0.9207</td>\n",
              "    </tr>\n",
              "    <tr>\n",
              "      <th>1</th>\n",
              "      <td>0.9155</td>\n",
              "      <td>0.8896</td>\n",
              "      <td>0.9147</td>\n",
              "    </tr>\n",
              "    <tr>\n",
              "      <th>2</th>\n",
              "      <td>0.9253</td>\n",
              "      <td>0.9024</td>\n",
              "      <td>0.9247</td>\n",
              "    </tr>\n",
              "    <tr>\n",
              "      <th>3</th>\n",
              "      <td>0.9163</td>\n",
              "      <td>0.8883</td>\n",
              "      <td>0.9153</td>\n",
              "    </tr>\n",
              "    <tr>\n",
              "      <th>4</th>\n",
              "      <td>0.9261</td>\n",
              "      <td>0.9025</td>\n",
              "      <td>0.9256</td>\n",
              "    </tr>\n",
              "    <tr>\n",
              "      <th>Avg.</th>\n",
              "      <td>0.9207</td>\n",
              "      <td>0.8962</td>\n",
              "      <td>0.9202</td>\n",
              "    </tr>\n",
              "  </tbody>\n",
              "</table>\n",
              "</div>\n",
              "      <button class=\"colab-df-convert\" onclick=\"convertToInteractive('df-98980177-c08c-41bc-b0a6-66e3cbf64710')\"\n",
              "              title=\"Convert this dataframe to an interactive table.\"\n",
              "              style=\"display:none;\">\n",
              "        \n",
              "  <svg xmlns=\"http://www.w3.org/2000/svg\" height=\"24px\"viewBox=\"0 0 24 24\"\n",
              "       width=\"24px\">\n",
              "    <path d=\"M0 0h24v24H0V0z\" fill=\"none\"/>\n",
              "    <path d=\"M18.56 5.44l.94 2.06.94-2.06 2.06-.94-2.06-.94-.94-2.06-.94 2.06-2.06.94zm-11 1L8.5 8.5l.94-2.06 2.06-.94-2.06-.94L8.5 2.5l-.94 2.06-2.06.94zm10 10l.94 2.06.94-2.06 2.06-.94-2.06-.94-.94-2.06-.94 2.06-2.06.94z\"/><path d=\"M17.41 7.96l-1.37-1.37c-.4-.4-.92-.59-1.43-.59-.52 0-1.04.2-1.43.59L10.3 9.45l-7.72 7.72c-.78.78-.78 2.05 0 2.83L4 21.41c.39.39.9.59 1.41.59.51 0 1.02-.2 1.41-.59l7.78-7.78 2.81-2.81c.8-.78.8-2.07 0-2.86zM5.41 20L4 18.59l7.72-7.72 1.47 1.35L5.41 20z\"/>\n",
              "  </svg>\n",
              "      </button>\n",
              "      \n",
              "  <style>\n",
              "    .colab-df-container {\n",
              "      display:flex;\n",
              "      flex-wrap:wrap;\n",
              "      gap: 12px;\n",
              "    }\n",
              "\n",
              "    .colab-df-convert {\n",
              "      background-color: #E8F0FE;\n",
              "      border: none;\n",
              "      border-radius: 50%;\n",
              "      cursor: pointer;\n",
              "      display: none;\n",
              "      fill: #1967D2;\n",
              "      height: 32px;\n",
              "      padding: 0 0 0 0;\n",
              "      width: 32px;\n",
              "    }\n",
              "\n",
              "    .colab-df-convert:hover {\n",
              "      background-color: #E2EBFA;\n",
              "      box-shadow: 0px 1px 2px rgba(60, 64, 67, 0.3), 0px 1px 3px 1px rgba(60, 64, 67, 0.15);\n",
              "      fill: #174EA6;\n",
              "    }\n",
              "\n",
              "    [theme=dark] .colab-df-convert {\n",
              "      background-color: #3B4455;\n",
              "      fill: #D2E3FC;\n",
              "    }\n",
              "\n",
              "    [theme=dark] .colab-df-convert:hover {\n",
              "      background-color: #434B5C;\n",
              "      box-shadow: 0px 1px 3px 1px rgba(0, 0, 0, 0.15);\n",
              "      filter: drop-shadow(0px 1px 2px rgba(0, 0, 0, 0.3));\n",
              "      fill: #FFFFFF;\n",
              "    }\n",
              "  </style>\n",
              "\n",
              "      <script>\n",
              "        const buttonEl =\n",
              "          document.querySelector('#df-98980177-c08c-41bc-b0a6-66e3cbf64710 button.colab-df-convert');\n",
              "        buttonEl.style.display =\n",
              "          google.colab.kernel.accessAllowed ? 'block' : 'none';\n",
              "\n",
              "        async function convertToInteractive(key) {\n",
              "          const element = document.querySelector('#df-98980177-c08c-41bc-b0a6-66e3cbf64710');\n",
              "          const dataTable =\n",
              "            await google.colab.kernel.invokeFunction('convertToInteractive',\n",
              "                                                     [key], {});\n",
              "          if (!dataTable) return;\n",
              "\n",
              "          const docLinkHtml = 'Like what you see? Visit the ' +\n",
              "            '<a target=\"_blank\" href=https://colab.research.google.com/notebooks/data_table.ipynb>data table notebook</a>'\n",
              "            + ' to learn more about interactive tables.';\n",
              "          element.innerHTML = '';\n",
              "          dataTable['output_type'] = 'display_data';\n",
              "          await google.colab.output.renderOutput(dataTable, element);\n",
              "          const docLink = document.createElement('div');\n",
              "          docLink.innerHTML = docLinkHtml;\n",
              "          element.appendChild(docLink);\n",
              "        }\n",
              "      </script>\n",
              "    </div>\n",
              "  </div>\n",
              "  "
            ]
          },
          "metadata": {}
        },
        {
          "output_type": "stream",
          "name": "stdout",
          "text": [
            "[Time taken: 7.62s]\n",
            "\n",
            "CPU times: user 8min 39s, sys: 4.94 s, total: 8min 44s\n",
            "Wall time: 8min 11s\n"
          ]
        }
      ]
    },
    {
      "cell_type": "markdown",
      "source": [
        "# Exp 3 - clipped data + MI features"
      ],
      "metadata": {
        "id": "gRM7h23vaukK"
      }
    },
    {
      "cell_type": "code",
      "source": [
        "%%time\n",
        "tp_clip_mi = run_experiment(\n",
        "    data=(train[mi_features], train[TARGET], test[mi_features]),\n",
        "    n_trials=100\n",
        ")"
      ],
      "metadata": {
        "id": "8xp6FNh1aukk",
        "colab": {
          "base_uri": "https://localhost:8080/",
          "height": 616
        },
        "outputId": "b815b4fd-c90c-4c32-9523-f903dcf5f8ff"
      },
      "execution_count": 24,
      "outputs": [
        {
          "output_type": "stream",
          "name": "stdout",
          "text": [
            "----------Hyperparameter tuning----------\n",
            "Best trial: 92 -> Best value: 0.88962\n",
            "Best hyperparameters:\n",
            "learning_rate   - 0.175\n",
            "max_depth       - 8\n",
            "min_child_weight - 7\n",
            "gamma           - 0.30000000000000004\n",
            "alpha           - 4.3\n",
            "lambda          - 0.029284880982540524\n",
            "subsample       - 0.7000000000000001\n",
            "colsample_bytree - 0.65\n",
            "colsample_bylevel - 0.9500000000000001\n",
            "colsample_bynode - 0.65\n",
            "[Time taken: 478.56s]\n",
            "\n",
            "-----Cross-validation and prediction-----\n"
          ]
        },
        {
          "output_type": "display_data",
          "data": {
            "text/plain": [
              "      F1-micro  F1-macro  F1-weighted\n",
              "Fold                                 \n",
              "0       0.9205    0.8814       0.9194\n",
              "1       0.9196    0.8956       0.9186\n",
              "2       0.9244    0.9045       0.9244\n",
              "3       0.9108    0.8848       0.9102\n",
              "4       0.9156    0.8828       0.9143\n",
              "Avg.    0.9182    0.8898       0.9174"
            ],
            "text/html": [
              "\n",
              "  <div id=\"df-5c1e150b-e544-46e3-bdf7-c4e802796881\">\n",
              "    <div class=\"colab-df-container\">\n",
              "      <div>\n",
              "<style scoped>\n",
              "    .dataframe tbody tr th:only-of-type {\n",
              "        vertical-align: middle;\n",
              "    }\n",
              "\n",
              "    .dataframe tbody tr th {\n",
              "        vertical-align: top;\n",
              "    }\n",
              "\n",
              "    .dataframe thead th {\n",
              "        text-align: right;\n",
              "    }\n",
              "</style>\n",
              "<table border=\"1\" class=\"dataframe\">\n",
              "  <thead>\n",
              "    <tr style=\"text-align: right;\">\n",
              "      <th></th>\n",
              "      <th>F1-micro</th>\n",
              "      <th>F1-macro</th>\n",
              "      <th>F1-weighted</th>\n",
              "    </tr>\n",
              "    <tr>\n",
              "      <th>Fold</th>\n",
              "      <th></th>\n",
              "      <th></th>\n",
              "      <th></th>\n",
              "    </tr>\n",
              "  </thead>\n",
              "  <tbody>\n",
              "    <tr>\n",
              "      <th>0</th>\n",
              "      <td>0.9205</td>\n",
              "      <td>0.8814</td>\n",
              "      <td>0.9194</td>\n",
              "    </tr>\n",
              "    <tr>\n",
              "      <th>1</th>\n",
              "      <td>0.9196</td>\n",
              "      <td>0.8956</td>\n",
              "      <td>0.9186</td>\n",
              "    </tr>\n",
              "    <tr>\n",
              "      <th>2</th>\n",
              "      <td>0.9244</td>\n",
              "      <td>0.9045</td>\n",
              "      <td>0.9244</td>\n",
              "    </tr>\n",
              "    <tr>\n",
              "      <th>3</th>\n",
              "      <td>0.9108</td>\n",
              "      <td>0.8848</td>\n",
              "      <td>0.9102</td>\n",
              "    </tr>\n",
              "    <tr>\n",
              "      <th>4</th>\n",
              "      <td>0.9156</td>\n",
              "      <td>0.8828</td>\n",
              "      <td>0.9143</td>\n",
              "    </tr>\n",
              "    <tr>\n",
              "      <th>Avg.</th>\n",
              "      <td>0.9182</td>\n",
              "      <td>0.8898</td>\n",
              "      <td>0.9174</td>\n",
              "    </tr>\n",
              "  </tbody>\n",
              "</table>\n",
              "</div>\n",
              "      <button class=\"colab-df-convert\" onclick=\"convertToInteractive('df-5c1e150b-e544-46e3-bdf7-c4e802796881')\"\n",
              "              title=\"Convert this dataframe to an interactive table.\"\n",
              "              style=\"display:none;\">\n",
              "        \n",
              "  <svg xmlns=\"http://www.w3.org/2000/svg\" height=\"24px\"viewBox=\"0 0 24 24\"\n",
              "       width=\"24px\">\n",
              "    <path d=\"M0 0h24v24H0V0z\" fill=\"none\"/>\n",
              "    <path d=\"M18.56 5.44l.94 2.06.94-2.06 2.06-.94-2.06-.94-.94-2.06-.94 2.06-2.06.94zm-11 1L8.5 8.5l.94-2.06 2.06-.94-2.06-.94L8.5 2.5l-.94 2.06-2.06.94zm10 10l.94 2.06.94-2.06 2.06-.94-2.06-.94-.94-2.06-.94 2.06-2.06.94z\"/><path d=\"M17.41 7.96l-1.37-1.37c-.4-.4-.92-.59-1.43-.59-.52 0-1.04.2-1.43.59L10.3 9.45l-7.72 7.72c-.78.78-.78 2.05 0 2.83L4 21.41c.39.39.9.59 1.41.59.51 0 1.02-.2 1.41-.59l7.78-7.78 2.81-2.81c.8-.78.8-2.07 0-2.86zM5.41 20L4 18.59l7.72-7.72 1.47 1.35L5.41 20z\"/>\n",
              "  </svg>\n",
              "      </button>\n",
              "      \n",
              "  <style>\n",
              "    .colab-df-container {\n",
              "      display:flex;\n",
              "      flex-wrap:wrap;\n",
              "      gap: 12px;\n",
              "    }\n",
              "\n",
              "    .colab-df-convert {\n",
              "      background-color: #E8F0FE;\n",
              "      border: none;\n",
              "      border-radius: 50%;\n",
              "      cursor: pointer;\n",
              "      display: none;\n",
              "      fill: #1967D2;\n",
              "      height: 32px;\n",
              "      padding: 0 0 0 0;\n",
              "      width: 32px;\n",
              "    }\n",
              "\n",
              "    .colab-df-convert:hover {\n",
              "      background-color: #E2EBFA;\n",
              "      box-shadow: 0px 1px 2px rgba(60, 64, 67, 0.3), 0px 1px 3px 1px rgba(60, 64, 67, 0.15);\n",
              "      fill: #174EA6;\n",
              "    }\n",
              "\n",
              "    [theme=dark] .colab-df-convert {\n",
              "      background-color: #3B4455;\n",
              "      fill: #D2E3FC;\n",
              "    }\n",
              "\n",
              "    [theme=dark] .colab-df-convert:hover {\n",
              "      background-color: #434B5C;\n",
              "      box-shadow: 0px 1px 3px 1px rgba(0, 0, 0, 0.15);\n",
              "      filter: drop-shadow(0px 1px 2px rgba(0, 0, 0, 0.3));\n",
              "      fill: #FFFFFF;\n",
              "    }\n",
              "  </style>\n",
              "\n",
              "      <script>\n",
              "        const buttonEl =\n",
              "          document.querySelector('#df-5c1e150b-e544-46e3-bdf7-c4e802796881 button.colab-df-convert');\n",
              "        buttonEl.style.display =\n",
              "          google.colab.kernel.accessAllowed ? 'block' : 'none';\n",
              "\n",
              "        async function convertToInteractive(key) {\n",
              "          const element = document.querySelector('#df-5c1e150b-e544-46e3-bdf7-c4e802796881');\n",
              "          const dataTable =\n",
              "            await google.colab.kernel.invokeFunction('convertToInteractive',\n",
              "                                                     [key], {});\n",
              "          if (!dataTable) return;\n",
              "\n",
              "          const docLinkHtml = 'Like what you see? Visit the ' +\n",
              "            '<a target=\"_blank\" href=https://colab.research.google.com/notebooks/data_table.ipynb>data table notebook</a>'\n",
              "            + ' to learn more about interactive tables.';\n",
              "          element.innerHTML = '';\n",
              "          dataTable['output_type'] = 'display_data';\n",
              "          await google.colab.output.renderOutput(dataTable, element);\n",
              "          const docLink = document.createElement('div');\n",
              "          docLink.innerHTML = docLinkHtml;\n",
              "          element.appendChild(docLink);\n",
              "        }\n",
              "      </script>\n",
              "    </div>\n",
              "  </div>\n",
              "  "
            ]
          },
          "metadata": {}
        },
        {
          "output_type": "stream",
          "name": "stdout",
          "text": [
            "[Time taken: 9.56s]\n",
            "\n",
            "CPU times: user 8min 31s, sys: 5.53 s, total: 8min 36s\n",
            "Wall time: 8min 8s\n"
          ]
        }
      ]
    },
    {
      "cell_type": "markdown",
      "source": [
        "# Exp 4 - clipped data + ANOVA features"
      ],
      "metadata": {
        "id": "I1513AJJowUw"
      }
    },
    {
      "cell_type": "code",
      "source": [
        "%%time\n",
        "tp_clip_anova = run_experiment(\n",
        "    data=(train[anova_features], train[TARGET], test[anova_features]),\n",
        "    n_trials=100\n",
        ")"
      ],
      "metadata": {
        "id": "Pw_mPM_xoxxO",
        "colab": {
          "base_uri": "https://localhost:8080/",
          "height": 616
        },
        "outputId": "96f85807-3c0a-4e24-dd85-064408b35e83"
      },
      "execution_count": 25,
      "outputs": [
        {
          "output_type": "stream",
          "name": "stdout",
          "text": [
            "----------Hyperparameter tuning----------\n",
            "Best trial: 66 -> Best value: 0.89712\n",
            "Best hyperparameters:\n",
            "learning_rate   - 0.175\n",
            "max_depth       - 10\n",
            "min_child_weight - 4\n",
            "gamma           - 0.1\n",
            "alpha           - 1.8\n",
            "lambda          - 0.06553376734028496\n",
            "subsample       - 0.9500000000000001\n",
            "colsample_bytree - 0.65\n",
            "colsample_bylevel - 0.9\n",
            "colsample_bynode - 0.8500000000000001\n",
            "[Time taken: 486.73s]\n",
            "\n",
            "-----Cross-validation and prediction-----\n"
          ]
        },
        {
          "output_type": "display_data",
          "data": {
            "text/plain": [
              "      F1-micro  F1-macro  F1-weighted\n",
              "Fold                                 \n",
              "0       0.9302    0.9044       0.9296\n",
              "1       0.9225    0.9053       0.9219\n",
              "2       0.9215    0.9009       0.9203\n",
              "3       0.9069    0.8861       0.9070\n",
              "4       0.9146    0.8877       0.9137\n",
              "Avg.    0.9192    0.8969       0.9185"
            ],
            "text/html": [
              "\n",
              "  <div id=\"df-8e2d9359-c802-4f8c-b116-04ab03824a5f\">\n",
              "    <div class=\"colab-df-container\">\n",
              "      <div>\n",
              "<style scoped>\n",
              "    .dataframe tbody tr th:only-of-type {\n",
              "        vertical-align: middle;\n",
              "    }\n",
              "\n",
              "    .dataframe tbody tr th {\n",
              "        vertical-align: top;\n",
              "    }\n",
              "\n",
              "    .dataframe thead th {\n",
              "        text-align: right;\n",
              "    }\n",
              "</style>\n",
              "<table border=\"1\" class=\"dataframe\">\n",
              "  <thead>\n",
              "    <tr style=\"text-align: right;\">\n",
              "      <th></th>\n",
              "      <th>F1-micro</th>\n",
              "      <th>F1-macro</th>\n",
              "      <th>F1-weighted</th>\n",
              "    </tr>\n",
              "    <tr>\n",
              "      <th>Fold</th>\n",
              "      <th></th>\n",
              "      <th></th>\n",
              "      <th></th>\n",
              "    </tr>\n",
              "  </thead>\n",
              "  <tbody>\n",
              "    <tr>\n",
              "      <th>0</th>\n",
              "      <td>0.9302</td>\n",
              "      <td>0.9044</td>\n",
              "      <td>0.9296</td>\n",
              "    </tr>\n",
              "    <tr>\n",
              "      <th>1</th>\n",
              "      <td>0.9225</td>\n",
              "      <td>0.9053</td>\n",
              "      <td>0.9219</td>\n",
              "    </tr>\n",
              "    <tr>\n",
              "      <th>2</th>\n",
              "      <td>0.9215</td>\n",
              "      <td>0.9009</td>\n",
              "      <td>0.9203</td>\n",
              "    </tr>\n",
              "    <tr>\n",
              "      <th>3</th>\n",
              "      <td>0.9069</td>\n",
              "      <td>0.8861</td>\n",
              "      <td>0.9070</td>\n",
              "    </tr>\n",
              "    <tr>\n",
              "      <th>4</th>\n",
              "      <td>0.9146</td>\n",
              "      <td>0.8877</td>\n",
              "      <td>0.9137</td>\n",
              "    </tr>\n",
              "    <tr>\n",
              "      <th>Avg.</th>\n",
              "      <td>0.9192</td>\n",
              "      <td>0.8969</td>\n",
              "      <td>0.9185</td>\n",
              "    </tr>\n",
              "  </tbody>\n",
              "</table>\n",
              "</div>\n",
              "      <button class=\"colab-df-convert\" onclick=\"convertToInteractive('df-8e2d9359-c802-4f8c-b116-04ab03824a5f')\"\n",
              "              title=\"Convert this dataframe to an interactive table.\"\n",
              "              style=\"display:none;\">\n",
              "        \n",
              "  <svg xmlns=\"http://www.w3.org/2000/svg\" height=\"24px\"viewBox=\"0 0 24 24\"\n",
              "       width=\"24px\">\n",
              "    <path d=\"M0 0h24v24H0V0z\" fill=\"none\"/>\n",
              "    <path d=\"M18.56 5.44l.94 2.06.94-2.06 2.06-.94-2.06-.94-.94-2.06-.94 2.06-2.06.94zm-11 1L8.5 8.5l.94-2.06 2.06-.94-2.06-.94L8.5 2.5l-.94 2.06-2.06.94zm10 10l.94 2.06.94-2.06 2.06-.94-2.06-.94-.94-2.06-.94 2.06-2.06.94z\"/><path d=\"M17.41 7.96l-1.37-1.37c-.4-.4-.92-.59-1.43-.59-.52 0-1.04.2-1.43.59L10.3 9.45l-7.72 7.72c-.78.78-.78 2.05 0 2.83L4 21.41c.39.39.9.59 1.41.59.51 0 1.02-.2 1.41-.59l7.78-7.78 2.81-2.81c.8-.78.8-2.07 0-2.86zM5.41 20L4 18.59l7.72-7.72 1.47 1.35L5.41 20z\"/>\n",
              "  </svg>\n",
              "      </button>\n",
              "      \n",
              "  <style>\n",
              "    .colab-df-container {\n",
              "      display:flex;\n",
              "      flex-wrap:wrap;\n",
              "      gap: 12px;\n",
              "    }\n",
              "\n",
              "    .colab-df-convert {\n",
              "      background-color: #E8F0FE;\n",
              "      border: none;\n",
              "      border-radius: 50%;\n",
              "      cursor: pointer;\n",
              "      display: none;\n",
              "      fill: #1967D2;\n",
              "      height: 32px;\n",
              "      padding: 0 0 0 0;\n",
              "      width: 32px;\n",
              "    }\n",
              "\n",
              "    .colab-df-convert:hover {\n",
              "      background-color: #E2EBFA;\n",
              "      box-shadow: 0px 1px 2px rgba(60, 64, 67, 0.3), 0px 1px 3px 1px rgba(60, 64, 67, 0.15);\n",
              "      fill: #174EA6;\n",
              "    }\n",
              "\n",
              "    [theme=dark] .colab-df-convert {\n",
              "      background-color: #3B4455;\n",
              "      fill: #D2E3FC;\n",
              "    }\n",
              "\n",
              "    [theme=dark] .colab-df-convert:hover {\n",
              "      background-color: #434B5C;\n",
              "      box-shadow: 0px 1px 3px 1px rgba(0, 0, 0, 0.15);\n",
              "      filter: drop-shadow(0px 1px 2px rgba(0, 0, 0, 0.3));\n",
              "      fill: #FFFFFF;\n",
              "    }\n",
              "  </style>\n",
              "\n",
              "      <script>\n",
              "        const buttonEl =\n",
              "          document.querySelector('#df-8e2d9359-c802-4f8c-b116-04ab03824a5f button.colab-df-convert');\n",
              "        buttonEl.style.display =\n",
              "          google.colab.kernel.accessAllowed ? 'block' : 'none';\n",
              "\n",
              "        async function convertToInteractive(key) {\n",
              "          const element = document.querySelector('#df-8e2d9359-c802-4f8c-b116-04ab03824a5f');\n",
              "          const dataTable =\n",
              "            await google.colab.kernel.invokeFunction('convertToInteractive',\n",
              "                                                     [key], {});\n",
              "          if (!dataTable) return;\n",
              "\n",
              "          const docLinkHtml = 'Like what you see? Visit the ' +\n",
              "            '<a target=\"_blank\" href=https://colab.research.google.com/notebooks/data_table.ipynb>data table notebook</a>'\n",
              "            + ' to learn more about interactive tables.';\n",
              "          element.innerHTML = '';\n",
              "          dataTable['output_type'] = 'display_data';\n",
              "          await google.colab.output.renderOutput(dataTable, element);\n",
              "          const docLink = document.createElement('div');\n",
              "          docLink.innerHTML = docLinkHtml;\n",
              "          element.appendChild(docLink);\n",
              "        }\n",
              "      </script>\n",
              "    </div>\n",
              "  </div>\n",
              "  "
            ]
          },
          "metadata": {}
        },
        {
          "output_type": "stream",
          "name": "stdout",
          "text": [
            "[Time taken: 8.27s]\n",
            "\n",
            "CPU times: user 8min 39s, sys: 5.39 s, total: 8min 45s\n",
            "Wall time: 8min 15s\n"
          ]
        }
      ]
    },
    {
      "cell_type": "markdown",
      "source": [
        "# Exp 5 - clipped data + top features"
      ],
      "metadata": {
        "id": "8MTTYwuOo18-"
      }
    },
    {
      "cell_type": "code",
      "source": [
        "%%time\n",
        "tp_clip_top = run_experiment(\n",
        "    data=(train[top_features], train[TARGET], test[top_features]),\n",
        "    n_trials=100\n",
        ")"
      ],
      "metadata": {
        "id": "8LVtTrwjo3PE",
        "colab": {
          "base_uri": "https://localhost:8080/",
          "height": 616
        },
        "outputId": "ec2e2986-5987-481b-8a0d-2ba0f6f302b0"
      },
      "execution_count": 26,
      "outputs": [
        {
          "output_type": "stream",
          "name": "stdout",
          "text": [
            "----------Hyperparameter tuning----------\n",
            "Best trial: 43 -> Best value: 0.85525\n",
            "Best hyperparameters:\n",
            "learning_rate   - 0.15000000000000002\n",
            "max_depth       - 10\n",
            "min_child_weight - 6\n",
            "gamma           - 0.2\n",
            "alpha           - 3.9000000000000004\n",
            "lambda          - 9.63948602888017\n",
            "subsample       - 0.8500000000000001\n",
            "colsample_bytree - 0.7000000000000001\n",
            "colsample_bylevel - 0.8500000000000001\n",
            "colsample_bynode - 0.8500000000000001\n",
            "[Time taken: 272.53s]\n",
            "\n",
            "-----Cross-validation and prediction-----\n"
          ]
        },
        {
          "output_type": "display_data",
          "data": {
            "text/plain": [
              "      F1-micro  F1-macro  F1-weighted\n",
              "Fold                                 \n",
              "0       0.9002    0.8473       0.8981\n",
              "1       0.9021    0.8653       0.8994\n",
              "2       0.8983    0.8653       0.8951\n",
              "3       0.8914    0.8526       0.8890\n",
              "4       0.8943    0.8457       0.8902\n",
              "Avg.    0.8972    0.8552       0.8944"
            ],
            "text/html": [
              "\n",
              "  <div id=\"df-9d53f2f6-c66c-44a0-aa1e-9251b149521f\">\n",
              "    <div class=\"colab-df-container\">\n",
              "      <div>\n",
              "<style scoped>\n",
              "    .dataframe tbody tr th:only-of-type {\n",
              "        vertical-align: middle;\n",
              "    }\n",
              "\n",
              "    .dataframe tbody tr th {\n",
              "        vertical-align: top;\n",
              "    }\n",
              "\n",
              "    .dataframe thead th {\n",
              "        text-align: right;\n",
              "    }\n",
              "</style>\n",
              "<table border=\"1\" class=\"dataframe\">\n",
              "  <thead>\n",
              "    <tr style=\"text-align: right;\">\n",
              "      <th></th>\n",
              "      <th>F1-micro</th>\n",
              "      <th>F1-macro</th>\n",
              "      <th>F1-weighted</th>\n",
              "    </tr>\n",
              "    <tr>\n",
              "      <th>Fold</th>\n",
              "      <th></th>\n",
              "      <th></th>\n",
              "      <th></th>\n",
              "    </tr>\n",
              "  </thead>\n",
              "  <tbody>\n",
              "    <tr>\n",
              "      <th>0</th>\n",
              "      <td>0.9002</td>\n",
              "      <td>0.8473</td>\n",
              "      <td>0.8981</td>\n",
              "    </tr>\n",
              "    <tr>\n",
              "      <th>1</th>\n",
              "      <td>0.9021</td>\n",
              "      <td>0.8653</td>\n",
              "      <td>0.8994</td>\n",
              "    </tr>\n",
              "    <tr>\n",
              "      <th>2</th>\n",
              "      <td>0.8983</td>\n",
              "      <td>0.8653</td>\n",
              "      <td>0.8951</td>\n",
              "    </tr>\n",
              "    <tr>\n",
              "      <th>3</th>\n",
              "      <td>0.8914</td>\n",
              "      <td>0.8526</td>\n",
              "      <td>0.8890</td>\n",
              "    </tr>\n",
              "    <tr>\n",
              "      <th>4</th>\n",
              "      <td>0.8943</td>\n",
              "      <td>0.8457</td>\n",
              "      <td>0.8902</td>\n",
              "    </tr>\n",
              "    <tr>\n",
              "      <th>Avg.</th>\n",
              "      <td>0.8972</td>\n",
              "      <td>0.8552</td>\n",
              "      <td>0.8944</td>\n",
              "    </tr>\n",
              "  </tbody>\n",
              "</table>\n",
              "</div>\n",
              "      <button class=\"colab-df-convert\" onclick=\"convertToInteractive('df-9d53f2f6-c66c-44a0-aa1e-9251b149521f')\"\n",
              "              title=\"Convert this dataframe to an interactive table.\"\n",
              "              style=\"display:none;\">\n",
              "        \n",
              "  <svg xmlns=\"http://www.w3.org/2000/svg\" height=\"24px\"viewBox=\"0 0 24 24\"\n",
              "       width=\"24px\">\n",
              "    <path d=\"M0 0h24v24H0V0z\" fill=\"none\"/>\n",
              "    <path d=\"M18.56 5.44l.94 2.06.94-2.06 2.06-.94-2.06-.94-.94-2.06-.94 2.06-2.06.94zm-11 1L8.5 8.5l.94-2.06 2.06-.94-2.06-.94L8.5 2.5l-.94 2.06-2.06.94zm10 10l.94 2.06.94-2.06 2.06-.94-2.06-.94-.94-2.06-.94 2.06-2.06.94z\"/><path d=\"M17.41 7.96l-1.37-1.37c-.4-.4-.92-.59-1.43-.59-.52 0-1.04.2-1.43.59L10.3 9.45l-7.72 7.72c-.78.78-.78 2.05 0 2.83L4 21.41c.39.39.9.59 1.41.59.51 0 1.02-.2 1.41-.59l7.78-7.78 2.81-2.81c.8-.78.8-2.07 0-2.86zM5.41 20L4 18.59l7.72-7.72 1.47 1.35L5.41 20z\"/>\n",
              "  </svg>\n",
              "      </button>\n",
              "      \n",
              "  <style>\n",
              "    .colab-df-container {\n",
              "      display:flex;\n",
              "      flex-wrap:wrap;\n",
              "      gap: 12px;\n",
              "    }\n",
              "\n",
              "    .colab-df-convert {\n",
              "      background-color: #E8F0FE;\n",
              "      border: none;\n",
              "      border-radius: 50%;\n",
              "      cursor: pointer;\n",
              "      display: none;\n",
              "      fill: #1967D2;\n",
              "      height: 32px;\n",
              "      padding: 0 0 0 0;\n",
              "      width: 32px;\n",
              "    }\n",
              "\n",
              "    .colab-df-convert:hover {\n",
              "      background-color: #E2EBFA;\n",
              "      box-shadow: 0px 1px 2px rgba(60, 64, 67, 0.3), 0px 1px 3px 1px rgba(60, 64, 67, 0.15);\n",
              "      fill: #174EA6;\n",
              "    }\n",
              "\n",
              "    [theme=dark] .colab-df-convert {\n",
              "      background-color: #3B4455;\n",
              "      fill: #D2E3FC;\n",
              "    }\n",
              "\n",
              "    [theme=dark] .colab-df-convert:hover {\n",
              "      background-color: #434B5C;\n",
              "      box-shadow: 0px 1px 3px 1px rgba(0, 0, 0, 0.15);\n",
              "      filter: drop-shadow(0px 1px 2px rgba(0, 0, 0, 0.3));\n",
              "      fill: #FFFFFF;\n",
              "    }\n",
              "  </style>\n",
              "\n",
              "      <script>\n",
              "        const buttonEl =\n",
              "          document.querySelector('#df-9d53f2f6-c66c-44a0-aa1e-9251b149521f button.colab-df-convert');\n",
              "        buttonEl.style.display =\n",
              "          google.colab.kernel.accessAllowed ? 'block' : 'none';\n",
              "\n",
              "        async function convertToInteractive(key) {\n",
              "          const element = document.querySelector('#df-9d53f2f6-c66c-44a0-aa1e-9251b149521f');\n",
              "          const dataTable =\n",
              "            await google.colab.kernel.invokeFunction('convertToInteractive',\n",
              "                                                     [key], {});\n",
              "          if (!dataTable) return;\n",
              "\n",
              "          const docLinkHtml = 'Like what you see? Visit the ' +\n",
              "            '<a target=\"_blank\" href=https://colab.research.google.com/notebooks/data_table.ipynb>data table notebook</a>'\n",
              "            + ' to learn more about interactive tables.';\n",
              "          element.innerHTML = '';\n",
              "          dataTable['output_type'] = 'display_data';\n",
              "          await google.colab.output.renderOutput(dataTable, element);\n",
              "          const docLink = document.createElement('div');\n",
              "          docLink.innerHTML = docLinkHtml;\n",
              "          element.appendChild(docLink);\n",
              "        }\n",
              "      </script>\n",
              "    </div>\n",
              "  </div>\n",
              "  "
            ]
          },
          "metadata": {}
        },
        {
          "output_type": "stream",
          "name": "stdout",
          "text": [
            "[Time taken: 4.47s]\n",
            "\n",
            "CPU times: user 4min 56s, sys: 4.24 s, total: 5min\n",
            "Wall time: 4min 37s\n"
          ]
        }
      ]
    },
    {
      "cell_type": "markdown",
      "source": [
        "# Submission files"
      ],
      "metadata": {
        "id": "EahA1dJ47Z1P"
      }
    },
    {
      "cell_type": "code",
      "source": [
        "from google.colab import drive\n",
        "drive.mount('/content/drive')"
      ],
      "metadata": {
        "id": "7npzUESt7bGc",
        "colab": {
          "base_uri": "https://localhost:8080/"
        },
        "outputId": "87d0b4ce-cc72-46d6-c65c-cdabb6177fb5"
      },
      "execution_count": 27,
      "outputs": [
        {
          "output_type": "stream",
          "name": "stdout",
          "text": [
            "Mounted at /content/drive\n"
          ]
        }
      ]
    },
    {
      "cell_type": "code",
      "source": [
        "NOTEBOOK = '01'\n",
        "SUBMISSION_PATH = f'/content/drive/MyDrive/data_science_competitions/others/devfolio_oracleofdelphi/submissions/nb_{NOTEBOOK}'\n",
        "if not os.path.isdir(SUBMISSION_PATH):\n",
        "    os.makedirs(SUBMISSION_PATH)"
      ],
      "metadata": {
        "id": "Z39yNfKD7b95"
      },
      "execution_count": 28,
      "outputs": []
    },
    {
      "cell_type": "code",
      "source": [
        "def create_submission_files(test_preds, dataset, feature_set, path=SUBMISSION_PATH):\n",
        "    for col in test_preds.columns:\n",
        "        sub = pd.DataFrame()\n",
        "        sub[TARGET] = test_preds[col].replace({0: 'Standard', 1: 'Good', 2: 'Best'})\n",
        "        sub.to_csv(f'{path}/{dataset}_{feature_set}_{col}.csv', index=False)"
      ],
      "metadata": {
        "id": "5y6XhjNx8OJT"
      },
      "execution_count": 29,
      "outputs": []
    },
    {
      "cell_type": "code",
      "source": [
        "create_submission_files(tp_clip_all, 'clip', 'all')\n",
        "create_submission_files(tp_clip_mi, 'clip', 'mi')\n",
        "create_submission_files(tp_clip_anova, 'clip', 'anova')\n",
        "create_submission_files(tp_clip_top, 'clip', 'top')"
      ],
      "metadata": {
        "id": "02PBC-fOp5V7"
      },
      "execution_count": 30,
      "outputs": []
    },
    {
      "cell_type": "code",
      "source": [
        "create_submission_files(tp_og_all, 'og', 'all')"
      ],
      "metadata": {
        "id": "upy56Eg0qFds"
      },
      "execution_count": 31,
      "outputs": []
    }
  ]
}