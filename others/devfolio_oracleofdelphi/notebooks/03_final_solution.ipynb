{
  "nbformat": 4,
  "nbformat_minor": 0,
  "metadata": {
    "colab": {
      "provenance": [],
      "authorship_tag": "ABX9TyMDqrMn2lIln4S8Kgd0dnxg",
      "include_colab_link": true
    },
    "kernelspec": {
      "name": "python3",
      "display_name": "Python 3"
    },
    "language_info": {
      "name": "python"
    }
  },
  "cells": [
    {
      "cell_type": "markdown",
      "metadata": {
        "id": "view-in-github",
        "colab_type": "text"
      },
      "source": [
        "<a href=\"https://colab.research.google.com/github/stiwari-ds/data-science-competitions/blob/main/others/devfolio_oracleofdelphi/notebooks/03_final_solution.ipynb\" target=\"_parent\"><img src=\"https://colab.research.google.com/assets/colab-badge.svg\" alt=\"Open In Colab\"/></a>"
      ]
    },
    {
      "cell_type": "markdown",
      "source": [
        "# Setup"
      ],
      "metadata": {
        "id": "SuUiQJQsPyG3"
      }
    },
    {
      "cell_type": "code",
      "execution_count": 1,
      "metadata": {
        "id": "4jLK2g32Meui"
      },
      "outputs": [],
      "source": [
        "%%capture\n",
        "!pip install --upgrade xgboost"
      ]
    },
    {
      "cell_type": "code",
      "source": [
        "import os\n",
        "import gc\n",
        "import time\n",
        "import warnings\n",
        "import subprocess\n",
        "gc.enable()\n",
        "warnings.filterwarnings('ignore')\n",
        "\n",
        "import pandas as pd\n",
        "import numpy as np\n",
        "\n",
        "from xgboost import XGBClassifier\n",
        "\n",
        "from sklearn.model_selection import StratifiedKFold\n",
        "from sklearn.metrics import f1_score\n",
        "\n",
        "SEED = 23\n",
        "os.environ['PYTHONHASHSEED'] = str(SEED)\n",
        "np.random.seed(SEED)"
      ],
      "metadata": {
        "id": "a4O5dP1cMq7r"
      },
      "execution_count": 2,
      "outputs": []
    },
    {
      "cell_type": "code",
      "source": [
        "#Check GPU availability\n",
        "try:\n",
        "    subprocess.check_output('nvidia-smi')\n",
        "    HAVE_GPU = True\n",
        "except Exception:\n",
        "    HAVE_GPU = False\n",
        "\n",
        "print(f'GPU available: {HAVE_GPU}')"
      ],
      "metadata": {
        "colab": {
          "base_uri": "https://localhost:8080/"
        },
        "id": "u0JLrBViM8xo",
        "outputId": "e38dfe7d-98a7-48cb-b392-6051abffcceb"
      },
      "execution_count": 4,
      "outputs": [
        {
          "output_type": "stream",
          "name": "stdout",
          "text": [
            "GPU available: False\n"
          ]
        }
      ]
    },
    {
      "cell_type": "markdown",
      "source": [
        "# Data preparation"
      ],
      "metadata": {
        "id": "CrZNESRtM_Tm"
      }
    },
    {
      "cell_type": "code",
      "source": [
        "#Data\n",
        "DATA_URL = 'https://raw.githubusercontent.com/stiwari-ds/data-science-competitions/main/others/devfolio_oracleofdelphi/data'\n",
        "train = pd.read_csv(f'{DATA_URL}/train.csv')\n",
        "test = pd.read_csv(f'{DATA_URL}/test.csv')"
      ],
      "metadata": {
        "id": "ihrTlDidNB7W"
      },
      "execution_count": 5,
      "outputs": []
    },
    {
      "cell_type": "code",
      "source": [
        "train = train.drop(['Unnamed: 0', 'Unnamed: 0.1'], axis=1)\n",
        "test = test.drop(['Unnamed: 0', 'Unnamed: 0.1'], axis=1)"
      ],
      "metadata": {
        "id": "9xpy8uQBjOKx"
      },
      "execution_count": 6,
      "outputs": []
    },
    {
      "cell_type": "code",
      "source": [
        "TARGET = 'Credit Score'\n",
        "label_mapping = {'Standard': 0, 'Good': 1, 'Best': 2}\n",
        "train[TARGET] = train[TARGET].replace(label_mapping)"
      ],
      "metadata": {
        "id": "KEJQopfVZppB"
      },
      "execution_count": 7,
      "outputs": []
    },
    {
      "cell_type": "markdown",
      "source": [
        "**Outlier removal**"
      ],
      "metadata": {
        "id": "6RQbiqBbjsNy"
      }
    },
    {
      "cell_type": "code",
      "source": [
        "train = train[train['Accounts of user'] <= 10]\n",
        "train = train[train['Credit cards user have'] <= 10]\n",
        "train = train[train['Interest Rate'] <= 35]\n",
        "train = train[(train['Num_of_Loan'] < 10) & (train['Num_of_Loan'] >= 0)]\n",
        "train = train[(train['Num_of_Delayed_Payment'] < 30) & (train['Num_of_Delayed_Payment'] >= 0)]\n",
        "train = train[train['Changed_Credit_Limit'] >= 0]\n",
        "train = train[train['Total_EMI_per_month'] < 1000]\n",
        "\n",
        "train = train.reset_index(drop=True)"
      ],
      "metadata": {
        "id": "BeVpddOTkC69"
      },
      "execution_count": 8,
      "outputs": []
    },
    {
      "cell_type": "markdown",
      "source": [
        "**Chosen feature set**"
      ],
      "metadata": {
        "id": "gEt4HkIXNbij"
      }
    },
    {
      "cell_type": "code",
      "source": [
        "anova_features = ['Utlization Ratio', 'Credit Inquiries', 'Accounts of user', \n",
        "                  'Credit cards user have', 'Interest Rate', 'Num_of_Loan', \n",
        "                  'Delay_from_due_date', 'Num_of_Delayed_Payment', 'Outstanding_Debt']"
      ],
      "metadata": {
        "id": "GVIs055bNZE7"
      },
      "execution_count": 10,
      "outputs": []
    },
    {
      "cell_type": "markdown",
      "source": [
        "# Modeling"
      ],
      "metadata": {
        "id": "8-wMxRoeNkIU"
      }
    },
    {
      "cell_type": "code",
      "source": [
        "def custom_f1(ytrue, ypred):\n",
        "    return -f1_score(ytrue, ypred, average='macro') #'-' to convert f1 to loss"
      ],
      "metadata": {
        "id": "FumtjwI7Nk_n"
      },
      "execution_count": 11,
      "outputs": []
    },
    {
      "cell_type": "code",
      "source": [
        "def cross_val_predict(data, model, n_splits=5):\n",
        "    scores = {\n",
        "        'Fold': [str(i) for i in range(n_splits)],\n",
        "        'F1-micro': [],\n",
        "        'F1-macro': [],\n",
        "        'F1-weighted': []\n",
        "    }\n",
        "    test_preds = {}\n",
        "    \n",
        "    X, y, X_test = data\n",
        "\n",
        "    cv = StratifiedKFold(n_splits=n_splits, shuffle=True, random_state=SEED)\n",
        "    for fold, (train_idx, val_idx) in enumerate(cv.split(X, y)):\n",
        "        X_train, y_train = X.loc[train_idx], y.iloc[train_idx]\n",
        "        X_val, y_val = X.loc[val_idx], y.iloc[val_idx]\n",
        "\n",
        "        model.fit(\n",
        "            X_train, y_train,\n",
        "            eval_set=[(X_val, y_val)],\n",
        "            verbose=0\n",
        "        )\n",
        "        val_preds = model.predict(X_val)\n",
        "        test_preds[f'fold{fold}'] = model.predict(X_test)\n",
        "\n",
        "        f1micro = f1_score(y_val, val_preds, average='micro')\n",
        "        scores['F1-micro'].append(f1micro)\n",
        "        f1macro = f1_score(y_val, val_preds, average='macro')\n",
        "        scores['F1-macro'].append(f1macro)\n",
        "        f1weight = f1_score(y_val, val_preds, average='weighted')\n",
        "        scores['F1-weighted'].append(f1weight)\n",
        "        _ = gc.collect()\n",
        "\n",
        "    scores['Fold'].append('Avg.')\n",
        "    for metric in ['F1-micro', 'F1-macro', 'F1-weighted']:\n",
        "        mean_score = np.mean(scores[metric])\n",
        "        scores[metric].append(mean_score)\n",
        "    score_df = pd.DataFrame.from_dict(scores).set_index('Fold')\n",
        "    display(score_df)\n",
        "\n",
        "    test_preds = pd.DataFrame.from_dict(test_preds)\n",
        "    test_preds['mode'] = test_preds.mode(axis=1)[0].astype('int')\n",
        "    return test_preds"
      ],
      "metadata": {
        "id": "L-ZF9MHgNnLV"
      },
      "execution_count": 12,
      "outputs": []
    },
    {
      "cell_type": "code",
      "source": [
        "#best params from notebook: 01-xgboost\n",
        "model_params = {\n",
        "    #base params\n",
        "    'objective': 'multi:softmax',\n",
        "    'n_estimators': 10000,\n",
        "    'booster': 'gbtree',\n",
        "    'eval_metric': custom_f1,\n",
        "    'early_stopping_rounds': 100,\n",
        "    'tree_method': 'gpu_hist' if HAVE_GPU else 'hist',\n",
        "    'predictor': 'gpu_predictor' if HAVE_GPU else 'cpu_predictor',\n",
        "    'enable_categorical': HAVE_GPU,\n",
        "    'verbosity': 0,\n",
        "    'seed': SEED,\n",
        "    #tuned params\n",
        "    'learning_rate': 0.175,\n",
        "    'max_depth': 10,\n",
        "    'min_child_weight': 4,\n",
        "    'gamma': 0.1,\n",
        "    'alpha': 1.8,\n",
        "    'lambda': 0.06553376734028496,\n",
        "    'subsample': 0.95,\n",
        "    'colsample_bytree': 0.65,\n",
        "    'colsample_bylevel': 0.9,\n",
        "    'colsample_bynode': 0.85\n",
        "}"
      ],
      "metadata": {
        "id": "ANEtYd4nNuJn"
      },
      "execution_count": 14,
      "outputs": []
    },
    {
      "cell_type": "code",
      "source": [
        "%%time\n",
        "test_preds = cross_val_predict(\n",
        "    data=(train[anova_features], train[TARGET], test[anova_features]),\n",
        "    model=XGBClassifier(**model_params)\n",
        ")"
      ],
      "metadata": {
        "colab": {
          "base_uri": "https://localhost:8080/",
          "height": 304
        },
        "id": "66ZajQ18OhjN",
        "outputId": "6c568177-b1db-4286-e4ce-be0e23b1d2c1"
      },
      "execution_count": 15,
      "outputs": [
        {
          "output_type": "display_data",
          "data": {
            "text/plain": [
              "      F1-micro  F1-macro  F1-weighted\n",
              "Fold                                 \n",
              "0     0.932171  0.904254     0.931448\n",
              "1     0.921512  0.904187     0.921065\n",
              "2     0.923450  0.906526     0.922440\n",
              "3     0.908826  0.886765     0.908633\n",
              "4     0.908826  0.880400     0.907740\n",
              "Avg.  0.918957  0.896426     0.918265"
            ],
            "text/html": [
              "\n",
              "  <div id=\"df-499314f3-2ff9-47c2-ad57-80de88357255\">\n",
              "    <div class=\"colab-df-container\">\n",
              "      <div>\n",
              "<style scoped>\n",
              "    .dataframe tbody tr th:only-of-type {\n",
              "        vertical-align: middle;\n",
              "    }\n",
              "\n",
              "    .dataframe tbody tr th {\n",
              "        vertical-align: top;\n",
              "    }\n",
              "\n",
              "    .dataframe thead th {\n",
              "        text-align: right;\n",
              "    }\n",
              "</style>\n",
              "<table border=\"1\" class=\"dataframe\">\n",
              "  <thead>\n",
              "    <tr style=\"text-align: right;\">\n",
              "      <th></th>\n",
              "      <th>F1-micro</th>\n",
              "      <th>F1-macro</th>\n",
              "      <th>F1-weighted</th>\n",
              "    </tr>\n",
              "    <tr>\n",
              "      <th>Fold</th>\n",
              "      <th></th>\n",
              "      <th></th>\n",
              "      <th></th>\n",
              "    </tr>\n",
              "  </thead>\n",
              "  <tbody>\n",
              "    <tr>\n",
              "      <th>0</th>\n",
              "      <td>0.932171</td>\n",
              "      <td>0.904254</td>\n",
              "      <td>0.931448</td>\n",
              "    </tr>\n",
              "    <tr>\n",
              "      <th>1</th>\n",
              "      <td>0.921512</td>\n",
              "      <td>0.904187</td>\n",
              "      <td>0.921065</td>\n",
              "    </tr>\n",
              "    <tr>\n",
              "      <th>2</th>\n",
              "      <td>0.923450</td>\n",
              "      <td>0.906526</td>\n",
              "      <td>0.922440</td>\n",
              "    </tr>\n",
              "    <tr>\n",
              "      <th>3</th>\n",
              "      <td>0.908826</td>\n",
              "      <td>0.886765</td>\n",
              "      <td>0.908633</td>\n",
              "    </tr>\n",
              "    <tr>\n",
              "      <th>4</th>\n",
              "      <td>0.908826</td>\n",
              "      <td>0.880400</td>\n",
              "      <td>0.907740</td>\n",
              "    </tr>\n",
              "    <tr>\n",
              "      <th>Avg.</th>\n",
              "      <td>0.918957</td>\n",
              "      <td>0.896426</td>\n",
              "      <td>0.918265</td>\n",
              "    </tr>\n",
              "  </tbody>\n",
              "</table>\n",
              "</div>\n",
              "      <button class=\"colab-df-convert\" onclick=\"convertToInteractive('df-499314f3-2ff9-47c2-ad57-80de88357255')\"\n",
              "              title=\"Convert this dataframe to an interactive table.\"\n",
              "              style=\"display:none;\">\n",
              "        \n",
              "  <svg xmlns=\"http://www.w3.org/2000/svg\" height=\"24px\"viewBox=\"0 0 24 24\"\n",
              "       width=\"24px\">\n",
              "    <path d=\"M0 0h24v24H0V0z\" fill=\"none\"/>\n",
              "    <path d=\"M18.56 5.44l.94 2.06.94-2.06 2.06-.94-2.06-.94-.94-2.06-.94 2.06-2.06.94zm-11 1L8.5 8.5l.94-2.06 2.06-.94-2.06-.94L8.5 2.5l-.94 2.06-2.06.94zm10 10l.94 2.06.94-2.06 2.06-.94-2.06-.94-.94-2.06-.94 2.06-2.06.94z\"/><path d=\"M17.41 7.96l-1.37-1.37c-.4-.4-.92-.59-1.43-.59-.52 0-1.04.2-1.43.59L10.3 9.45l-7.72 7.72c-.78.78-.78 2.05 0 2.83L4 21.41c.39.39.9.59 1.41.59.51 0 1.02-.2 1.41-.59l7.78-7.78 2.81-2.81c.8-.78.8-2.07 0-2.86zM5.41 20L4 18.59l7.72-7.72 1.47 1.35L5.41 20z\"/>\n",
              "  </svg>\n",
              "      </button>\n",
              "      \n",
              "  <style>\n",
              "    .colab-df-container {\n",
              "      display:flex;\n",
              "      flex-wrap:wrap;\n",
              "      gap: 12px;\n",
              "    }\n",
              "\n",
              "    .colab-df-convert {\n",
              "      background-color: #E8F0FE;\n",
              "      border: none;\n",
              "      border-radius: 50%;\n",
              "      cursor: pointer;\n",
              "      display: none;\n",
              "      fill: #1967D2;\n",
              "      height: 32px;\n",
              "      padding: 0 0 0 0;\n",
              "      width: 32px;\n",
              "    }\n",
              "\n",
              "    .colab-df-convert:hover {\n",
              "      background-color: #E2EBFA;\n",
              "      box-shadow: 0px 1px 2px rgba(60, 64, 67, 0.3), 0px 1px 3px 1px rgba(60, 64, 67, 0.15);\n",
              "      fill: #174EA6;\n",
              "    }\n",
              "\n",
              "    [theme=dark] .colab-df-convert {\n",
              "      background-color: #3B4455;\n",
              "      fill: #D2E3FC;\n",
              "    }\n",
              "\n",
              "    [theme=dark] .colab-df-convert:hover {\n",
              "      background-color: #434B5C;\n",
              "      box-shadow: 0px 1px 3px 1px rgba(0, 0, 0, 0.15);\n",
              "      filter: drop-shadow(0px 1px 2px rgba(0, 0, 0, 0.3));\n",
              "      fill: #FFFFFF;\n",
              "    }\n",
              "  </style>\n",
              "\n",
              "      <script>\n",
              "        const buttonEl =\n",
              "          document.querySelector('#df-499314f3-2ff9-47c2-ad57-80de88357255 button.colab-df-convert');\n",
              "        buttonEl.style.display =\n",
              "          google.colab.kernel.accessAllowed ? 'block' : 'none';\n",
              "\n",
              "        async function convertToInteractive(key) {\n",
              "          const element = document.querySelector('#df-499314f3-2ff9-47c2-ad57-80de88357255');\n",
              "          const dataTable =\n",
              "            await google.colab.kernel.invokeFunction('convertToInteractive',\n",
              "                                                     [key], {});\n",
              "          if (!dataTable) return;\n",
              "\n",
              "          const docLinkHtml = 'Like what you see? Visit the ' +\n",
              "            '<a target=\"_blank\" href=https://colab.research.google.com/notebooks/data_table.ipynb>data table notebook</a>'\n",
              "            + ' to learn more about interactive tables.';\n",
              "          element.innerHTML = '';\n",
              "          dataTable['output_type'] = 'display_data';\n",
              "          await google.colab.output.renderOutput(dataTable, element);\n",
              "          const docLink = document.createElement('div');\n",
              "          docLink.innerHTML = docLinkHtml;\n",
              "          element.appendChild(docLink);\n",
              "        }\n",
              "      </script>\n",
              "    </div>\n",
              "  </div>\n",
              "  "
            ]
          },
          "metadata": {}
        },
        {
          "output_type": "stream",
          "name": "stdout",
          "text": [
            "CPU times: user 9.74 s, sys: 154 ms, total: 9.89 s\n",
            "Wall time: 6.45 s\n"
          ]
        }
      ]
    },
    {
      "cell_type": "markdown",
      "source": [
        "# Submission file"
      ],
      "metadata": {
        "id": "x_AOzs_kOzSf"
      }
    },
    {
      "cell_type": "code",
      "source": [
        "submission = pd.DataFrame()\n",
        "submission[TARGET] = test_preds['mode'].replace({0: 'Standard', 1: 'Good', 2: 'Best'})\n",
        "submission.to_csv('submission.csv', index=False)"
      ],
      "metadata": {
        "id": "5y6XhjNx8OJT"
      },
      "execution_count": 17,
      "outputs": []
    }
  ]
}